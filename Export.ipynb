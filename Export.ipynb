{
 "cells": [
  {
   "cell_type": "markdown",
   "metadata": {},
   "source": [
    "<a id=\"top\"></a>\n",
    "# Export Notebook  \n",
    "\n",
    "<hr><hr>\n",
    "\n",
    "# Notebook Summary\n",
    "\n",
    "The code in this notebook subsets a data cube, selects a specific set of variables, generates some additional data from those and then outputs that data into a GeoTIFF file. The goal is to be able to do external analyses of this data using other data analysis tools or GIS tools. The files would be reasonable in size, since we would restrict the region and parameters in the output.\n",
    "\n",
    "<hr><hr>\n",
    "\n",
    "# Index\n",
    "\n",
    "* [Import Dependencies and Connect to the Data Cube](#import)\n",
    "* [Choose Platforms and Products](#plat_prod)\n",
    "* [Get the Extents of the Cube](#extents)\n",
    "* [Define the Extents of the Analysis](#define_extents)\n",
    "* [Load Data from the Datacube](#retrieve_data)\n",
    "* [Derive Products](#derive_products)\n",
    "* [Combine Data](#combine_data)\n",
    "* [Export Data](#export)\n",
    "    * [Export to GeoTIFF](#export_geotiff)\n",
    "    * [Export to NetCDF](#export_netcdf)\n",
    "    \n",
    "<hr><hr>"
   ]
  },
  {
   "cell_type": "markdown",
   "metadata": {},
   "source": [
    "## <span id=\"import\">Import Dependencies and Connect to the Data Cube [&#9652;](#top)</span> "
   ]
  },
  {
   "cell_type": "code",
   "execution_count": null,
   "metadata": {
    "scrolled": true
   },
   "outputs": [],
   "source": [
    "import xarray as xr  \n",
    "import numpy as np\n",
    "import datacube\n",
    "from utils.data_cube_utilities.data_access_api import DataAccessApi  "
   ]
  },
  {
   "cell_type": "code",
   "execution_count": null,
   "metadata": {},
   "outputs": [],
   "source": [
    "api = DataAccessApi(config = '/home/localuser/.datacube.conf')\n",
    "dc = api.dc"
   ]
  },
  {
   "cell_type": "markdown",
   "metadata": {},
   "source": [
    "## <span id=\"plat_prod\">Choose Platforms and Products [&#9652;](#top)</span>"
   ]
  },
  {
   "cell_type": "markdown",
   "metadata": {},
   "source": [
    "**List available products for each platform**"
   ]
  },
  {
   "cell_type": "code",
   "execution_count": null,
   "metadata": {
    "scrolled": true
   },
   "outputs": [],
   "source": [
    "list_of_products = dc.list_products()\n",
    "netCDF_products = list_of_products[list_of_products['format'] == 'NetCDF']\n",
    "netCDF_products"
   ]
  },
  {
   "cell_type": "markdown",
   "metadata": {},
   "source": [
    "**Choose product**"
   ]
  },
  {
   "cell_type": "code",
   "execution_count": null,
   "metadata": {
    "scrolled": true
   },
   "outputs": [],
   "source": [
    "# platform = \"LANDSAT_7\"\n",
    "# product = \"ls7_ledaps_vietnam\"\n",
    "\n",
    "platform = \"LANDSAT_8\"\n",
    "product = \"ls8_lasrc_vietnam\""
   ]
  },
  {
   "cell_type": "markdown",
   "metadata": {},
   "source": [
    "## <span id=\"extents\">Get the Extents of the Cube [&#9652;](#top)</span>"
   ]
  },
  {
   "cell_type": "code",
   "execution_count": null,
   "metadata": {
    "scrolled": true
   },
   "outputs": [],
   "source": [
    "# Get product extents\n",
    "prod_extents = api.get_query_metadata(platform=platform, product=product)#.get_full_dataset_extent(platform = platform, product = product)\n",
    "\n",
    "latitude_extents = prod_extents['lat_extents']\n",
    "print(\"Lat bounds:\", latitude_extents)\n",
    "longitude_extents = prod_extents['lon_extents']\n",
    "print(\"Lon bounds:\", longitude_extents)\n",
    "time_extents = list(map(lambda time: time.strftime('%Y-%m-%d'), prod_extents['time_extents']))\n",
    "print(\"Time bounds:\", time_extents)"
   ]
  },
  {
   "cell_type": "code",
   "execution_count": null,
   "metadata": {},
   "outputs": [],
   "source": [
    "## The code below renders a map that can be used to orient yourself with the region.\n",
    "from utils.data_cube_utilities.dc_display_map import display_map\n",
    "display_map(latitude = latitude_extents, longitude = longitude_extents)"
   ]
  },
  {
   "cell_type": "markdown",
   "metadata": {},
   "source": [
    "## <span id=\"define_extents\">Define the Extents of the Analysis [&#9652;](#top)</span>"
   ]
  },
  {
   "cell_type": "code",
   "execution_count": null,
   "metadata": {},
   "outputs": [],
   "source": [
    "######### Vietnam - Buan Tua Srah Lake ################## \n",
    "longitude_extents = (108.02, 108.15)\n",
    "latitude_extents  = (12.18 , 12.30)\n",
    "\n",
    "time_extents = ('2015-01-01', '2016-01-01')"
   ]
  },
  {
   "cell_type": "code",
   "execution_count": null,
   "metadata": {},
   "outputs": [],
   "source": [
    "from utils.data_cube_utilities.dc_display_map import display_map\n",
    "display_map(latitude = latitude_extents, longitude = longitude_extents)"
   ]
  },
  {
   "cell_type": "markdown",
   "metadata": {},
   "source": [
    "## <span id=\"retrieve_data\">Load Data from the Data Cube [&#9652;](#top)</span>"
   ]
  },
  {
   "cell_type": "code",
   "execution_count": null,
   "metadata": {},
   "outputs": [],
   "source": [
    "landsat_dataset = dc.load(latitude = latitude_extents,\n",
    "                          longitude = longitude_extents,\n",
    "                          platform = platform,\n",
    "                          time = time_extents,\n",
    "                          product = product,\n",
    "                          measurements = ['red', 'green', 'blue', 'nir', 'swir1', 'swir2', 'pixel_qa']) "
   ]
  },
  {
   "cell_type": "code",
   "execution_count": null,
   "metadata": {},
   "outputs": [],
   "source": [
    "landsat_dataset"
   ]
  },
  {
   "cell_type": "markdown",
   "metadata": {},
   "source": [
    "## <span id=\"derive_products\">Derive Products [&#9652;](#top)</span> "
   ]
  },
  {
   "cell_type": "markdown",
   "metadata": {},
   "source": [
    "> ### Masks"
   ]
  },
  {
   "cell_type": "code",
   "execution_count": null,
   "metadata": {},
   "outputs": [],
   "source": [
    "from utils.data_cube_utilities.clean_mask import landsat_qa_clean_mask\n",
    "\n",
    "clear_xarray = landsat_qa_clean_mask(landsat_dataset, platform, cover_types=['clear'])\n",
    "water_xarray = landsat_qa_clean_mask(landsat_dataset, platform, cover_types=['water'])\n",
    "shadow_xarray = landsat_qa_clean_mask(landsat_dataset, platform, cover_types=['shadow'])\n",
    "\n",
    "clean_xarray = xr.ufuncs.logical_or(clear_xarray , water_xarray).rename(\"clean_mask\")"
   ]
  },
  {
   "cell_type": "markdown",
   "metadata": {},
   "source": [
    "> ### Water Classification"
   ]
  },
  {
   "cell_type": "code",
   "execution_count": null,
   "metadata": {},
   "outputs": [],
   "source": [
    "from utils.data_cube_utilities.dc_water_classifier import wofs_classify\n",
    "\n",
    "water_classification = wofs_classify(landsat_dataset,\n",
    "                                     clean_mask = clean_xarray.values, \n",
    "                                     mosaic = False) "
   ]
  },
  {
   "cell_type": "code",
   "execution_count": null,
   "metadata": {},
   "outputs": [],
   "source": [
    "wofs_xarray = water_classification.wofs"
   ]
  },
  {
   "cell_type": "markdown",
   "metadata": {},
   "source": [
    "> ###  Normalized Indices  "
   ]
  },
  {
   "cell_type": "code",
   "execution_count": null,
   "metadata": {},
   "outputs": [],
   "source": [
    "def NDVI(dataset):\n",
    "    return ((dataset.nir - dataset.red)/(dataset.nir + dataset.red)).rename(\"NDVI\")"
   ]
  },
  {
   "cell_type": "code",
   "execution_count": null,
   "metadata": {},
   "outputs": [],
   "source": [
    "def NDWI(dataset):\n",
    "    return ((dataset.green - dataset.nir)/(dataset.green + dataset.nir)).rename(\"NDWI\")"
   ]
  },
  {
   "cell_type": "code",
   "execution_count": null,
   "metadata": {},
   "outputs": [],
   "source": [
    "def NDBI(dataset):\n",
    "        return ((dataset.swir2 - dataset.nir)/(dataset.swir2 + dataset.nir)).rename(\"NDBI\")"
   ]
  },
  {
   "cell_type": "code",
   "execution_count": null,
   "metadata": {},
   "outputs": [],
   "source": [
    "ndbi_xarray = NDBI(landsat_dataset)  # Urbanization - Reds\n",
    "ndvi_xarray = NDVI(landsat_dataset)  # Dense Vegetation - Greens\n",
    "ndwi_xarray = NDWI(landsat_dataset)  # High Concentrations of Water - Blues  "
   ]
  },
  {
   "cell_type": "markdown",
   "metadata": {},
   "source": [
    ">### TSM  "
   ]
  },
  {
   "cell_type": "code",
   "execution_count": null,
   "metadata": {},
   "outputs": [],
   "source": [
    "from utils.data_cube_utilities.dc_water_quality import tsm\n",
    "\n",
    "tsm_xarray = tsm(landsat_dataset, clean_mask = wofs_xarray.values.astype(bool) ).tsm"
   ]
  },
  {
   "cell_type": "markdown",
   "metadata": {},
   "source": [
    "> ### EVI  "
   ]
  },
  {
   "cell_type": "code",
   "execution_count": null,
   "metadata": {},
   "outputs": [],
   "source": [
    "def EVI(dataset, c1 = None, c2 = None, L = None):\n",
    "        return ((dataset.nir - dataset.red)/((dataset.nir  + (c1 * dataset.red) - (c2 *dataset.blue) + L))).rename(\"EVI\")"
   ]
  },
  {
   "cell_type": "code",
   "execution_count": null,
   "metadata": {},
   "outputs": [],
   "source": [
    "evi_xarray = EVI(landsat_dataset, c1 = 6, c2 = 7.5, L = 1 )"
   ]
  },
  {
   "cell_type": "markdown",
   "metadata": {},
   "source": [
    "## <span id=\"combine_data\">Combine Data [&#9652;](#top)</span>  "
   ]
  },
  {
   "cell_type": "code",
   "execution_count": null,
   "metadata": {},
   "outputs": [],
   "source": [
    "combined_dataset = xr.merge([landsat_dataset,\n",
    "          ## <span id=\"combine_data\">Combine Data [&#9652;](#top)</span>  clean_xarray,\n",
    "          clear_xarray,\n",
    "          water_xarray,\n",
    "          shadow_xarray,\n",
    "          evi_xarray,\n",
    "          ndbi_xarray,\n",
    "          ndvi_xarray,\n",
    "          ndwi_xarray,\n",
    "          wofs_xarray,\n",
    "          tsm_xarray])\n",
    "\n",
    "# Copy original crs to merged dataset \n",
    "combined_dataset = combined_dataset.assign_attrs(landsat_dataset.attrs)\n",
    "\n",
    "combined_dataset"
   ]
  },
  {
   "cell_type": "markdown",
   "metadata": {},
   "source": [
    "## <span id=\"export\">Export Data [&#9652;](#top)</span>  "
   ]
  },
  {
   "cell_type": "markdown",
   "metadata": {},
   "source": [
    "### <span id=\"export_geotiff\">Export to GeoTIFF [&#9652;](#top)</span>  "
   ]
  },
  {
   "cell_type": "markdown",
   "metadata": {},
   "source": [
    "Export each acquisition as a GeoTIFF."
   ]
  },
  {
   "cell_type": "code",
   "execution_count": null,
   "metadata": {},
   "outputs": [],
   "source": [
    "from utils.data_cube_utilities.import_export import export_xarray_to_geotiff\n",
    "\n",
    "# Ensure the output directory exists before writing to it.\n",
    "if platform == 'LANDSAT_7':\n",
    "    !mkdir -p output/geotiffs/landsat7\n",
    "else:\n",
    "    !mkdir -p output/geotiffs/landsat8\n",
    "\n",
    "output_path = \"output/geotiffs/landsat{0}/landsat{0}\".format(7 if platform=='LANDSAT_7' else 8)\n",
    "\n",
    "export_xarray_to_geotiff(combined_dataset, output_path)"
   ]
  },
  {
   "cell_type": "markdown",
   "metadata": {},
   "source": [
    "Check to see what files were exported. The size of these files is also shown."
   ]
  },
  {
   "cell_type": "code",
   "execution_count": null,
   "metadata": {},
   "outputs": [],
   "source": [
    "if platform == 'LANDSAT_7':\n",
    "    !ls -lah output/geotiffs/landsat7/*.tif\n",
    "else:\n",
    "    !ls -lah output/geotiffs/landsat8/*.tif"
   ]
  },
  {
   "cell_type": "markdown",
   "metadata": {},
   "source": [
    "Sanity check using `gdalinfo` to make sure that all of our bands exist    ."
   ]
  },
  {
   "cell_type": "code",
   "execution_count": null,
   "metadata": {
    "scrolled": false
   },
   "outputs": [],
   "source": [
    "if platform == 'LANDSAT_7':\n",
    "    !gdalinfo output/geotiffs/landsat7/landsat7_2015_01_09_03_06_13.tif\n",
    "else:\n",
    "    !gdalinfo output/geotiffs/landsat8/landsat8_2015_01_01_03_07_41.tif"
   ]
  },
  {
   "cell_type": "markdown",
   "metadata": {},
   "source": [
    "Zip all GeoTIFFs."
   ]
  },
  {
   "cell_type": "code",
   "execution_count": null,
   "metadata": {},
   "outputs": [],
   "source": [
    "if platform == 'LANDSAT_7':\n",
    "    !tar -cvzf output/geotiffs/landsat7/landsat_7.tar.gz output/geotiffs/landsat7/*.tif\n",
    "else:\n",
    "    !tar -cvzf output/geotiffs/landsat8/landsat_8.tar.gz output/geotiffs/landsat8/*.tif"
   ]
  },
  {
   "cell_type": "markdown",
   "metadata": {},
   "source": [
    "### <span id=\"export_netcdf\">Export to NetCDF [&#9652;](#top)</span>  "
   ]
  },
  {
   "cell_type": "markdown",
   "metadata": {},
   "source": [
    "Export all acquisitions together as a single NetCDF."
   ]
  },
  {
   "cell_type": "code",
   "execution_count": null,
   "metadata": {},
   "outputs": [],
   "source": [
    "from utils.data_cube_utilities.import_export import export_xarray_to_netcdf\n",
    "\n",
    "# Ensure the output directory exists before writing to it.\n",
    "if platform == 'LANDSAT_7':\n",
    "    !mkdir -p output/netcdfs/landsat7\n",
    "else:\n",
    "    !mkdir -p output/netcdfs/landsat8\n",
    "\n",
    "output_file_path = \"output/netcdfs/landsat{0}/ls{0}_netcdf_example.nc\".format(7 if platform=='LANDSAT_7' else 8)\n",
    "# Remove the file if it exists to avoid an error.\n",
    "import os\n",
    "if os.path.isfile(output_file_path):\n",
    "    os.remove(output_file_path)\n",
    "export_xarray_to_netcdf(combined_dataset, output_file_path)"
   ]
  },
  {
   "cell_type": "markdown",
   "metadata": {},
   "source": [
    "Sanity check using `gdalinfo` to make sure that all of our bands exist  .  "
   ]
  },
  {
   "cell_type": "code",
   "execution_count": null,
   "metadata": {
    "scrolled": false
   },
   "outputs": [],
   "source": [
    "if platform == 'LANDSAT_7':\n",
    "    !gdalinfo output/netcdfs/landsat7/ls7_netcdf_example.nc\n",
    "else:\n",
    "    !gdalinfo output/netcdfs/landsat8/ls8_netcdf_example.nc"
   ]
  }
 ],
 "metadata": {
  "kernelspec": {
   "display_name": "Python 3",
   "language": "python",
   "name": "python3"
  },
  "language_info": {
   "codemirror_mode": {
    "name": "ipython",
    "version": 3
   },
   "file_extension": ".py",
   "mimetype": "text/x-python",
   "name": "python",
   "nbconvert_exporter": "python",
   "pygments_lexer": "ipython3",
   "version": "3.6.6"
  }
 },
 "nbformat": 4,
 "nbformat_minor": 2
}
