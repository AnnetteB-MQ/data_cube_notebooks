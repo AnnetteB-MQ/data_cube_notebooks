{
 "cells": [
  {
   "cell_type": "markdown",
   "metadata": {},
   "source": [
    "<a id=\"top\"></a>\n",
    "# Export Notebook  \n",
    "\n",
    "<hr>\n",
    "\n",
    "# Notebook Summary\n",
    "\n",
    "The code in this notebook subsets a data cube, selects a specific set of variables, generates some additional data from those and then outputs that data into a GeoTIFF file. The goal is to be able to do external analyses of this data using other data analysis tools or GIS tools. The files would be reasonable in size, since we would restrict the region and parameters in the output.\n",
    "\n",
    "<hr>\n",
    "\n",
    "# Index\n",
    "\n",
    "* [Import Dependencies and Connect to the Data Cube](#import)\n",
    "* [Choose Platforms and Products](#plat_prod)\n",
    "* [Get the Extents of the Cube](#extents)\n",
    "* [Define the Extents of the Analysis](#define_extents)\n",
    "* [Load Data from the Datacube](#retrieve_data)\n",
    "* [Derive Products](#derive_products)\n",
    "* [Combine Data](#combine_data)\n",
    "* [Export Data](#export)\n",
    "    * [Export to GeoTIFF](#export_geotiff)\n",
    "    * [Export to NetCDF](#export_netcdf)\n",
    "    \n",
    "<hr>"
   ]
  },
  {
   "cell_type": "markdown",
   "metadata": {},
   "source": [
    "## <span id=\"import\">Import Dependencies and Connect to the Data Cube [&#9652;](#top)</span> "
   ]
  },
  {
   "cell_type": "code",
   "execution_count": 1,
   "metadata": {
    "scrolled": true
   },
   "outputs": [],
   "source": [
    "import xarray as xr  \n",
    "import numpy as np\n",
    "import datacube\n",
    "from utils.data_cube_utilities.data_access_api import DataAccessApi  "
   ]
  },
  {
   "cell_type": "code",
   "execution_count": 2,
   "metadata": {},
   "outputs": [],
   "source": [
    "api = DataAccessApi()\n",
    "dc = api.dc"
   ]
  },
  {
   "cell_type": "markdown",
   "metadata": {},
   "source": [
    "## <span id=\"plat_prod\">Choose Platforms and Products [&#9652;](#top)</span>"
   ]
  },
  {
   "cell_type": "markdown",
   "metadata": {},
   "source": [
    "**List available products for each platform**"
   ]
  },
  {
   "cell_type": "code",
   "execution_count": 3,
   "metadata": {},
   "outputs": [
    {
     "data": {
      "text/html": [
       "<div>\n",
       "<style scoped>\n",
       "    .dataframe tbody tr th:only-of-type {\n",
       "        vertical-align: middle;\n",
       "    }\n",
       "\n",
       "    .dataframe tbody tr th {\n",
       "        vertical-align: top;\n",
       "    }\n",
       "\n",
       "    .dataframe thead th {\n",
       "        text-align: right;\n",
       "    }\n",
       "</style>\n",
       "<table border=\"1\" class=\"dataframe\">\n",
       "  <thead>\n",
       "    <tr style=\"text-align: right;\">\n",
       "      <th></th>\n",
       "      <th>name</th>\n",
       "      <th>description</th>\n",
       "      <th>lon</th>\n",
       "      <th>format</th>\n",
       "      <th>instrument</th>\n",
       "      <th>creation_time</th>\n",
       "      <th>time</th>\n",
       "      <th>platform</th>\n",
       "      <th>lat</th>\n",
       "      <th>product_type</th>\n",
       "      <th>label</th>\n",
       "      <th>crs</th>\n",
       "      <th>resolution</th>\n",
       "      <th>tile_size</th>\n",
       "      <th>spatial_dimensions</th>\n",
       "    </tr>\n",
       "    <tr>\n",
       "      <th>id</th>\n",
       "      <th></th>\n",
       "      <th></th>\n",
       "      <th></th>\n",
       "      <th></th>\n",
       "      <th></th>\n",
       "      <th></th>\n",
       "      <th></th>\n",
       "      <th></th>\n",
       "      <th></th>\n",
       "      <th></th>\n",
       "      <th></th>\n",
       "      <th></th>\n",
       "      <th></th>\n",
       "      <th></th>\n",
       "      <th></th>\n",
       "    </tr>\n",
       "  </thead>\n",
       "  <tbody>\n",
       "    <tr>\n",
       "      <th>2</th>\n",
       "      <td>ls7_usgs_sr_scene</td>\n",
       "      <td>Landsat 7 USGS Collection 1 Level2 Surface Ref...</td>\n",
       "      <td>None</td>\n",
       "      <td>GeoTiff</td>\n",
       "      <td>ETM</td>\n",
       "      <td>None</td>\n",
       "      <td>None</td>\n",
       "      <td>LANDSAT_7</td>\n",
       "      <td>None</td>\n",
       "      <td>LEDAPS</td>\n",
       "      <td>None</td>\n",
       "      <td>EPSG:4326</td>\n",
       "      <td>(-0.00027777777778, 0.00027777777778)</td>\n",
       "      <td>None</td>\n",
       "      <td>(latitude, longitude)</td>\n",
       "    </tr>\n",
       "    <tr>\n",
       "      <th>1</th>\n",
       "      <td>ls8_usgs_sr_scene</td>\n",
       "      <td>Landsat 8 USGS Collection 1 Level2 Surface Ref...</td>\n",
       "      <td>None</td>\n",
       "      <td>GeoTiff</td>\n",
       "      <td>OLI_TIRS</td>\n",
       "      <td>None</td>\n",
       "      <td>None</td>\n",
       "      <td>LANDSAT_8</td>\n",
       "      <td>None</td>\n",
       "      <td>LaSRC</td>\n",
       "      <td>None</td>\n",
       "      <td>EPSG:4326</td>\n",
       "      <td>(-0.00027777777778, 0.00027777777778)</td>\n",
       "      <td>None</td>\n",
       "      <td>(latitude, longitude)</td>\n",
       "    </tr>\n",
       "  </tbody>\n",
       "</table>\n",
       "</div>"
      ],
      "text/plain": [
       "                 name                                        description  \\\n",
       "id                                                                         \n",
       "2   ls7_usgs_sr_scene  Landsat 7 USGS Collection 1 Level2 Surface Ref...   \n",
       "1   ls8_usgs_sr_scene  Landsat 8 USGS Collection 1 Level2 Surface Ref...   \n",
       "\n",
       "     lon   format instrument creation_time  time   platform   lat  \\\n",
       "id                                                                  \n",
       "2   None  GeoTiff        ETM          None  None  LANDSAT_7  None   \n",
       "1   None  GeoTiff   OLI_TIRS          None  None  LANDSAT_8  None   \n",
       "\n",
       "   product_type label        crs                             resolution  \\\n",
       "id                                                                        \n",
       "2        LEDAPS  None  EPSG:4326  (-0.00027777777778, 0.00027777777778)   \n",
       "1         LaSRC  None  EPSG:4326  (-0.00027777777778, 0.00027777777778)   \n",
       "\n",
       "   tile_size     spatial_dimensions  \n",
       "id                                   \n",
       "2       None  (latitude, longitude)  \n",
       "1       None  (latitude, longitude)  "
      ]
     },
     "execution_count": 3,
     "metadata": {},
     "output_type": "execute_result"
    }
   ],
   "source": [
    "list_of_products = dc.list_products()\n",
    "list_of_products"
   ]
  },
  {
   "cell_type": "markdown",
   "metadata": {},
   "source": [
    "**Choose product**"
   ]
  },
  {
   "cell_type": "code",
   "execution_count": 4,
   "metadata": {
    "scrolled": true
   },
   "outputs": [],
   "source": [
    "platform = \"LANDSAT_7\"\n",
    "product = \"ls7_usgs_sr_scene\"\n",
    "\n",
    "# platform = \"LANDSAT_8\"\n",
    "# product = \"ls8_usgs_sr_scene\""
   ]
  },
  {
   "cell_type": "markdown",
   "metadata": {},
   "source": [
    "## <span id=\"extents\">Get the Extents of the Cube [&#9652;](#top)</span>"
   ]
  },
  {
   "cell_type": "code",
   "execution_count": 5,
   "metadata": {},
   "outputs": [
    {
     "name": "stdout",
     "output_type": "stream",
     "text": [
      "Latitude Extents: (-12.57305555565614, 18.32305555570214)\n",
      "Longitude Extents: (-25.66583333353866, 44.05861111146359)\n",
      "Time Extents: ['1999-07-08', '2020-01-10']\n"
     ]
    }
   ],
   "source": [
    "from utils.data_cube_utilities.dc_load import get_product_extents\n",
    "from utils.data_cube_utilities.dc_time import dt_to_str\n",
    "\n",
    "full_lat, full_lon, min_max_dates = get_product_extents(api, platform, product)\n",
    "\n",
    "# Print the extents of the combined data.\n",
    "print(\"Latitude Extents:\", full_lat)\n",
    "print(\"Longitude Extents:\", full_lon)\n",
    "print(\"Time Extents:\", list(map(dt_to_str, min_max_dates)))"
   ]
  },
  {
   "cell_type": "code",
   "execution_count": 6,
   "metadata": {},
   "outputs": [
    {
     "data": {
      "text/html": [
       "<div style=\"width:100%;\"><div style=\"position:relative;width:100%;height:0;padding-bottom:60%;\"><iframe src=\"data:text/html;charset=utf-8;base64,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\" style=\"position:absolute;width:100%;height:100%;left:0;top:0;border:none !important;\" allowfullscreen webkitallowfullscreen mozallowfullscreen></iframe></div></div>"
      ],
      "text/plain": [
       "<folium.folium.Map at 0x7f0d35651eb8>"
      ]
     },
     "execution_count": 6,
     "metadata": {},
     "output_type": "execute_result"
    }
   ],
   "source": [
    "## The code below renders a map that can be used to orient yourself with the region.\n",
    "from utils.data_cube_utilities.dc_display_map import display_map\n",
    "display_map(full_lat, full_lon)"
   ]
  },
  {
   "cell_type": "markdown",
   "metadata": {},
   "source": [
    "## <span id=\"define_extents\">Define the Extents of the Analysis [&#9652;](#top)</span>"
   ]
  },
  {
   "cell_type": "code",
   "execution_count": 7,
   "metadata": {},
   "outputs": [],
   "source": [
    "######### Ghana - Pambros Salt Ponds ################## \n",
    "lon = (-0.3013, -0.2671)\n",
    "lat = (5.5155, 5.5617)\n",
    "\n",
    "time_extents = ('2015-01-01', '2015-12-31')"
   ]
  },
  {
   "cell_type": "code",
   "execution_count": 8,
   "metadata": {},
   "outputs": [
    {
     "data": {
      "text/html": [
       "<div style=\"width:100%;\"><div style=\"position:relative;width:100%;height:0;padding-bottom:60%;\"><iframe src=\"data:text/html;charset=utf-8;base64,PCFET0NUWVBFIGh0bWw+CjxoZWFkPiAgICAKICAgIDxtZXRhIGh0dHAtZXF1aXY9ImNvbnRlbnQtdHlwZSIgY29udGVudD0idGV4dC9odG1sOyBjaGFyc2V0PVVURi04IiAvPgogICAgCiAgICAgICAgPHNjcmlwdD4KICAgICAgICAgICAgTF9OT19UT1VDSCA9IGZhbHNlOwogICAgICAgICAgICBMX0RJU0FCTEVfM0QgPSBmYWxzZTsKICAgICAgICA8L3NjcmlwdD4KICAgIAogICAgPHNjcmlwdCBzcmM9Imh0dHBzOi8vY2RuLmpzZGVsaXZyLm5ldC9ucG0vbGVhZmxldEAxLjUuMS9kaXN0L2xlYWZsZXQuanMiPjwvc2NyaXB0PgogICAgPHNjcmlwdCBzcmM9Imh0dHBzOi8vY29kZS5qcXVlcnkuY29tL2pxdWVyeS0xLjEyLjQubWluLmpzIj48L3NjcmlwdD4KICAgIDxzY3JpcHQgc3JjPSJodHRwczovL21heGNkbi5ib290c3RyYXBjZG4uY29tL2Jvb3RzdHJhcC8zLjIuMC9qcy9ib290c3RyYXAubWluLmpzIj48L3NjcmlwdD4KICAgIDxzY3JpcHQgc3JjPSJodHRwczovL2NkbmpzLmNsb3VkZmxhcmUuY29tL2FqYXgvbGlicy9MZWFmbGV0LmF3ZXNvbWUtbWFya2Vycy8yLjAuMi9sZWFmbGV0LmF3ZXNvbWUtbWFya2Vycy5qcyI+PC9zY3JpcHQ+CiAgICA8bGluayByZWw9InN0eWxlc2hlZXQiIGhyZWY9Imh0dHBzOi8vY2RuLmpzZGVsaXZyLm5ldC9ucG0vbGVhZmxldEAxLjUuMS9kaXN0L2xlYWZsZXQuY3NzIi8+CiAgICA8bGluayByZWw9InN0eWxlc2hlZXQiIGhyZWY9Imh0dHBzOi8vbWF4Y2RuLmJvb3RzdHJhcGNkbi5jb20vYm9vdHN0cmFwLzMuMi4wL2Nzcy9ib290c3RyYXAubWluLmNzcyIvPgogICAgPGxpbmsgcmVsPSJzdHlsZXNoZWV0IiBocmVmPSJodHRwczovL21heGNkbi5ib290c3RyYXBjZG4uY29tL2Jvb3RzdHJhcC8zLjIuMC9jc3MvYm9vdHN0cmFwLXRoZW1lLm1pbi5jc3MiLz4KICAgIDxsaW5rIHJlbD0ic3R5bGVzaGVldCIgaHJlZj0iaHR0cHM6Ly9tYXhjZG4uYm9vdHN0cmFwY2RuLmNvbS9mb250LWF3ZXNvbWUvNC42LjMvY3NzL2ZvbnQtYXdlc29tZS5taW4uY3NzIi8+CiAgICA8bGluayByZWw9InN0eWxlc2hlZXQiIGhyZWY9Imh0dHBzOi8vY2RuanMuY2xvdWRmbGFyZS5jb20vYWpheC9saWJzL0xlYWZsZXQuYXdlc29tZS1tYXJrZXJzLzIuMC4yL2xlYWZsZXQuYXdlc29tZS1tYXJrZXJzLmNzcyIvPgogICAgPGxpbmsgcmVsPSJzdHlsZXNoZWV0IiBocmVmPSJodHRwczovL3Jhd2Nkbi5naXRoYWNrLmNvbS9weXRob24tdmlzdWFsaXphdGlvbi9mb2xpdW0vbWFzdGVyL2ZvbGl1bS90ZW1wbGF0ZXMvbGVhZmxldC5hd2Vzb21lLnJvdGF0ZS5jc3MiLz4KICAgIDxzdHlsZT5odG1sLCBib2R5IHt3aWR0aDogMTAwJTtoZWlnaHQ6IDEwMCU7bWFyZ2luOiAwO3BhZGRpbmc6IDA7fTwvc3R5bGU+CiAgICA8c3R5bGU+I21hcCB7cG9zaXRpb246YWJzb2x1dGU7dG9wOjA7Ym90dG9tOjA7cmlnaHQ6MDtsZWZ0OjA7fTwvc3R5bGU+CiAgICAKICAgICAgICAgICAgPG1ldGEgbmFtZT0idmlld3BvcnQiIGNvbnRlbnQ9IndpZHRoPWRldmljZS13aWR0aCwKICAgICAgICAgICAgICAgIGluaXRpYWwtc2NhbGU9MS4wLCBtYXhpbXVtLXNjYWxlPTEuMCwgdXNlci1zY2FsYWJsZT1ubyIgLz4KICAgICAgICAgICAgPHN0eWxlPgogICAgICAgICAgICAgICAgI21hcF8zNjgyOTRjMDM5MTM0NmFhYTkzOGNiNGVkYjRlOTY0MyB7CiAgICAgICAgICAgICAgICAgICAgcG9zaXRpb246IHJlbGF0aXZlOwogICAgICAgICAgICAgICAgICAgIHdpZHRoOiAxMDAuMCU7CiAgICAgICAgICAgICAgICAgICAgaGVpZ2h0OiAxMDAuMCU7CiAgICAgICAgICAgICAgICAgICAgbGVmdDogMC4wJTsKICAgICAgICAgICAgICAgICAgICB0b3A6IDAuMCU7CiAgICAgICAgICAgICAgICB9CiAgICAgICAgICAgIDwvc3R5bGU+CiAgICAgICAgCjwvaGVhZD4KPGJvZHk+ICAgIAogICAgCiAgICAgICAgICAgIDxkaXYgY2xhc3M9ImZvbGl1bS1tYXAiIGlkPSJtYXBfMzY4Mjk0YzAzOTEzNDZhYWE5MzhjYjRlZGI0ZTk2NDMiID48L2Rpdj4KICAgICAgICAKPC9ib2R5Pgo8c2NyaXB0PiAgICAKICAgIAogICAgICAgICAgICB2YXIgbWFwXzM2ODI5NGMwMzkxMzQ2YWFhOTM4Y2I0ZWRiNGU5NjQzID0gTC5tYXAoCiAgICAgICAgICAgICAgICAibWFwXzM2ODI5NGMwMzkxMzQ2YWFhOTM4Y2I0ZWRiNGU5NjQzIiwKICAgICAgICAgICAgICAgIHsKICAgICAgICAgICAgICAgICAgICBjZW50ZXI6IFs1LjUzODYwMDAwMDAwMDAwMSwgLTAuMjg0Ml0sCiAgICAgICAgICAgICAgICAgICAgY3JzOiBMLkNSUy5FUFNHMzg1NywKICAgICAgICAgICAgICAgICAgICB6b29tOiAxMywKICAgICAgICAgICAgICAgICAgICB6b29tQ29udHJvbDogdHJ1ZSwKICAgICAgICAgICAgICAgICAgICBwcmVmZXJDYW52YXM6IGZhbHNlLAogICAgICAgICAgICAgICAgfQogICAgICAgICAgICApOwoKICAgICAgICAgICAgCgogICAgICAgIAogICAgCiAgICAgICAgICAgIHZhciB0aWxlX2xheWVyXzE5MTAzOGJkZjhhOTRiZjRhN2FkODAyZTM2NzEwN2UxID0gTC50aWxlTGF5ZXIoCiAgICAgICAgICAgICAgICAiIGh0dHA6Ly9tdDEuZ29vZ2xlLmNvbS92dC9seXJzPXlcdTAwMjZ6PXt6fVx1MDAyNng9e3h9XHUwMDI2eT17eX0iLAogICAgICAgICAgICAgICAgeyJhdHRyaWJ1dGlvbiI6ICJHb29nbGUiLCAiZGV0ZWN0UmV0aW5hIjogZmFsc2UsICJtYXhOYXRpdmVab29tIjogMTgsICJtYXhab29tIjogMTgsICJtaW5ab29tIjogMCwgIm5vV3JhcCI6IGZhbHNlLCAib3BhY2l0eSI6IDEsICJzdWJkb21haW5zIjogImFiYyIsICJ0bXMiOiBmYWxzZX0KICAgICAgICAgICAgKS5hZGRUbyhtYXBfMzY4Mjk0YzAzOTEzNDZhYWE5MzhjYjRlZGI0ZTk2NDMpOwogICAgICAgIAogICAgCiAgICAgICAgICAgIHZhciBwb2x5X2xpbmVfNjA3ZDZhMjJhNWVlNGM1NWJhMTUyMGQ3ODVjYTlhN2YgPSBMLnBvbHlsaW5lKAogICAgICAgICAgICAgICAgW1s1LjUxNTUsIC0wLjMwMTNdLCBbNS41MTU1LCAtMC4yNjcxXSwgWzUuNTYxNywgLTAuMjY3MV0sIFs1LjU2MTcsIC0wLjMwMTNdLCBbNS41MTU1LCAtMC4zMDEzXV0sCiAgICAgICAgICAgICAgICB7ImJ1YmJsaW5nTW91c2VFdmVudHMiOiB0cnVlLCAiY29sb3IiOiAicmVkIiwgImRhc2hBcnJheSI6IG51bGwsICJkYXNoT2Zmc2V0IjogbnVsbCwgImZpbGwiOiBmYWxzZSwgImZpbGxDb2xvciI6ICJyZWQiLCAiZmlsbE9wYWNpdHkiOiAwLjIsICJmaWxsUnVsZSI6ICJldmVub2RkIiwgImxpbmVDYXAiOiAicm91bmQiLCAibGluZUpvaW4iOiAicm91bmQiLCAibm9DbGlwIjogZmFsc2UsICJvcGFjaXR5IjogMC44LCAic21vb3RoRmFjdG9yIjogMS4wLCAic3Ryb2tlIjogdHJ1ZSwgIndlaWdodCI6IDN9CiAgICAgICAgICAgICkuYWRkVG8obWFwXzM2ODI5NGMwMzkxMzQ2YWFhOTM4Y2I0ZWRiNGU5NjQzKTsKICAgICAgICAKICAgIAogICAgICAgICAgICAgICAgdmFyIGxhdF9sbmdfcG9wdXBfYTk5MDAyYTA1ZGEyNGQyY2EyYTk4MTBhMzQyZTkzNTkgPSBMLnBvcHVwKCk7CiAgICAgICAgICAgICAgICBmdW5jdGlvbiBsYXRMbmdQb3AoZSkgewogICAgICAgICAgICAgICAgICAgIGxhdF9sbmdfcG9wdXBfYTk5MDAyYTA1ZGEyNGQyY2EyYTk4MTBhMzQyZTkzNTkKICAgICAgICAgICAgICAgICAgICAgICAgLnNldExhdExuZyhlLmxhdGxuZykKICAgICAgICAgICAgICAgICAgICAgICAgLnNldENvbnRlbnQoIkxhdGl0dWRlOiAiICsgZS5sYXRsbmcubGF0LnRvRml4ZWQoNCkgKwogICAgICAgICAgICAgICAgICAgICAgICAgICAgICAgICAgICAiPGJyPkxvbmdpdHVkZTogIiArIGUubGF0bG5nLmxuZy50b0ZpeGVkKDQpKQogICAgICAgICAgICAgICAgICAgICAgICAub3Blbk9uKG1hcF8zNjgyOTRjMDM5MTM0NmFhYTkzOGNiNGVkYjRlOTY0Myk7CiAgICAgICAgICAgICAgICAgICAgfQogICAgICAgICAgICAgICAgbWFwXzM2ODI5NGMwMzkxMzQ2YWFhOTM4Y2I0ZWRiNGU5NjQzLm9uKCdjbGljaycsIGxhdExuZ1BvcCk7CiAgICAgICAgICAgIAo8L3NjcmlwdD4=\" style=\"position:absolute;width:100%;height:100%;left:0;top:0;border:none !important;\" allowfullscreen webkitallowfullscreen mozallowfullscreen></iframe></div></div>"
      ],
      "text/plain": [
       "<folium.folium.Map at 0x7f0d94079a90>"
      ]
     },
     "execution_count": 8,
     "metadata": {},
     "output_type": "execute_result"
    }
   ],
   "source": [
    "from utils.data_cube_utilities.dc_display_map import display_map\n",
    "display_map(lat, lon)"
   ]
  },
  {
   "cell_type": "markdown",
   "metadata": {},
   "source": [
    "## <span id=\"retrieve_data\">Load Data from the Data Cube [&#9652;](#top)</span>"
   ]
  },
  {
   "cell_type": "code",
   "execution_count": 9,
   "metadata": {},
   "outputs": [],
   "source": [
    "landsat_dataset = dc.load(latitude = lat,\n",
    "                          longitude = lon,\n",
    "                          platform = platform,\n",
    "                          time = time_extents,\n",
    "                          product = product,\n",
    "                          measurements = ['red', 'green', 'blue', 'nir', 'swir1', 'swir2', 'pixel_qa']) "
   ]
  },
  {
   "cell_type": "code",
   "execution_count": 10,
   "metadata": {},
   "outputs": [
    {
     "data": {
      "text/plain": [
       "<xarray.Dataset>\n",
       "Dimensions:    (latitude: 168, longitude: 124, time: 11)\n",
       "Coordinates:\n",
       "  * time       (time) datetime64[ns] 2015-01-12T10:14:16.197501 ... 2015-12-30T10:17:04.234884\n",
       "  * latitude   (latitude) float64 5.562 5.562 5.561 5.561 ... 5.516 5.516 5.515\n",
       "  * longitude  (longitude) float64 -0.3013 -0.301 -0.3007 ... -0.2674 -0.2671\n",
       "Data variables:\n",
       "    red        (time, latitude, longitude) int16 1867 1809 1838 ... 1267 1296\n",
       "    green      (time, latitude, longitude) int16 1612 1612 1612 ... 1374 1340\n",
       "    blue       (time, latitude, longitude) int16 1504 1440 1440 ... 1285 1316\n",
       "    nir        (time, latitude, longitude) int16 2672 2715 2757 ... 1198 1198\n",
       "    swir1      (time, latitude, longitude) int16 2790 2790 2866 ... 860 860 823\n",
       "    swir2      (time, latitude, longitude) int16 2236 2197 2119 ... 604 644 604\n",
       "    pixel_qa   (time, latitude, longitude) uint16 66 66 66 66 ... 224 224 224\n",
       "Attributes:\n",
       "    crs:      EPSG:4326"
      ]
     },
     "execution_count": 10,
     "metadata": {},
     "output_type": "execute_result"
    }
   ],
   "source": [
    "landsat_dataset"
   ]
  },
  {
   "cell_type": "markdown",
   "metadata": {},
   "source": [
    "## <span id=\"derive_products\">Derive Products [&#9652;](#top)</span> "
   ]
  },
  {
   "cell_type": "markdown",
   "metadata": {},
   "source": [
    "> ### Masks"
   ]
  },
  {
   "cell_type": "code",
   "execution_count": 11,
   "metadata": {},
   "outputs": [],
   "source": [
    "from utils.data_cube_utilities.clean_mask import landsat_qa_clean_mask\n",
    "\n",
    "clear_xarray = landsat_qa_clean_mask(landsat_dataset, platform, cover_types=['clear'])\n",
    "water_xarray = landsat_qa_clean_mask(landsat_dataset, platform, cover_types=['water'])\n",
    "shadow_xarray = landsat_qa_clean_mask(landsat_dataset, platform, cover_types=['shadow'])\n",
    "\n",
    "clean_xarray = xr.ufuncs.logical_or(clear_xarray , water_xarray).rename(\"clean_mask\")"
   ]
  },
  {
   "cell_type": "markdown",
   "metadata": {},
   "source": [
    "> ### Water Classification"
   ]
  },
  {
   "cell_type": "code",
   "execution_count": 12,
   "metadata": {},
   "outputs": [],
   "source": [
    "from utils.data_cube_utilities.dc_water_classifier import wofs_classify\n",
    "\n",
    "water_classification = wofs_classify(landsat_dataset,\n",
    "                                     clean_mask = clean_xarray.values, \n",
    "                                     mosaic = False) "
   ]
  },
  {
   "cell_type": "code",
   "execution_count": 13,
   "metadata": {},
   "outputs": [],
   "source": [
    "wofs_xarray = water_classification.wofs"
   ]
  },
  {
   "cell_type": "markdown",
   "metadata": {},
   "source": [
    "> ###  Normalized Indices  "
   ]
  },
  {
   "cell_type": "code",
   "execution_count": 14,
   "metadata": {},
   "outputs": [],
   "source": [
    "def NDVI(dataset):\n",
    "    return ((dataset.nir - dataset.red)/(dataset.nir + dataset.red)).rename(\"NDVI\")"
   ]
  },
  {
   "cell_type": "code",
   "execution_count": 15,
   "metadata": {},
   "outputs": [],
   "source": [
    "def NDWI(dataset):\n",
    "    return ((dataset.green - dataset.nir)/(dataset.green + dataset.nir)).rename(\"NDWI\")"
   ]
  },
  {
   "cell_type": "code",
   "execution_count": 16,
   "metadata": {},
   "outputs": [],
   "source": [
    "def NDBI(dataset):\n",
    "        return ((dataset.swir2 - dataset.nir)/(dataset.swir2 + dataset.nir)).rename(\"NDBI\")"
   ]
  },
  {
   "cell_type": "code",
   "execution_count": 17,
   "metadata": {},
   "outputs": [],
   "source": [
    "ndbi_xarray = NDBI(landsat_dataset)  # Urbanization - Reds\n",
    "ndvi_xarray = NDVI(landsat_dataset)  # Dense Vegetation - Greens\n",
    "ndwi_xarray = NDWI(landsat_dataset)  # High Concentrations of Water - Blues  "
   ]
  },
  {
   "cell_type": "markdown",
   "metadata": {},
   "source": [
    ">### TSM  "
   ]
  },
  {
   "cell_type": "code",
   "execution_count": 18,
   "metadata": {},
   "outputs": [],
   "source": [
    "from utils.data_cube_utilities.dc_water_quality import tsm\n",
    "\n",
    "tsm_xarray = tsm(landsat_dataset, clean_mask = wofs_xarray.values.astype(bool) ).tsm"
   ]
  },
  {
   "cell_type": "markdown",
   "metadata": {},
   "source": [
    "> ### EVI  "
   ]
  },
  {
   "cell_type": "code",
   "execution_count": 19,
   "metadata": {},
   "outputs": [],
   "source": [
    "def EVI(dataset, c1 = None, c2 = None, L = None):\n",
    "        return ((dataset.nir - dataset.red)/((dataset.nir  + (c1 * dataset.red) - (c2 *dataset.blue) + L))).rename(\"EVI\")"
   ]
  },
  {
   "cell_type": "code",
   "execution_count": 20,
   "metadata": {},
   "outputs": [],
   "source": [
    "evi_xarray = EVI(landsat_dataset, c1 = 6, c2 = 7.5, L = 1 )"
   ]
  },
  {
   "cell_type": "markdown",
   "metadata": {},
   "source": [
    "## <span id=\"combine_data\">Combine Data [&#9652;](#top)</span>  "
   ]
  },
  {
   "cell_type": "code",
   "execution_count": 21,
   "metadata": {},
   "outputs": [
    {
     "data": {
      "text/plain": [
       "<xarray.Dataset>\n",
       "Dimensions:      (latitude: 168, longitude: 124, time: 11)\n",
       "Coordinates:\n",
       "  * time         (time) datetime64[ns] 2015-01-12T10:14:16.197501 ... 2015-12-30T10:17:04.234884\n",
       "  * latitude     (latitude) float64 5.562 5.562 5.561 ... 5.516 5.516 5.515\n",
       "  * longitude    (longitude) float64 -0.3013 -0.301 -0.3007 ... -0.2674 -0.2671\n",
       "Data variables:\n",
       "    red          (time, latitude, longitude) int16 1867 1809 1838 ... 1267 1296\n",
       "    green        (time, latitude, longitude) int16 1612 1612 1612 ... 1374 1340\n",
       "    blue         (time, latitude, longitude) int16 1504 1440 1440 ... 1285 1316\n",
       "    nir          (time, latitude, longitude) int16 2672 2715 2757 ... 1198 1198\n",
       "    swir1        (time, latitude, longitude) int16 2790 2790 2866 ... 860 823\n",
       "    swir2        (time, latitude, longitude) int16 2236 2197 2119 ... 644 604\n",
       "    pixel_qa     (time, latitude, longitude) uint16 66 66 66 66 ... 224 224 224\n",
       "    clear_mask   (time, latitude, longitude) bool True True True ... False False\n",
       "    water_mask   (time, latitude, longitude) bool False False ... False False\n",
       "    shadow_mask  (time, latitude, longitude) bool False False ... False False\n",
       "    EVI          (time, latitude, longitude) float64 0.3102 0.3271 ... 0.1095\n",
       "    NDBI         (time, latitude, longitude) float64 -0.08883 ... -0.3296\n",
       "    NDVI         (time, latitude, longitude) float64 0.1774 0.2003 ... -0.03929\n",
       "    NDWI         (time, latitude, longitude) float64 -0.2474 -0.2549 ... 0.05595\n",
       "    wofs         (time, latitude, longitude) float64 0.0 0.0 ... -9.999e+03\n",
       "    tsm          (time, latitude, longitude) float64 0.0 0.0 0.0 ... 148.5 148.1\n",
       "Attributes:\n",
       "    crs:      EPSG:4326"
      ]
     },
     "execution_count": 21,
     "metadata": {},
     "output_type": "execute_result"
    }
   ],
   "source": [
    "combined_dataset = xr.merge([landsat_dataset,\n",
    "          ## <span id=\"combine_data\">Combine Data [&#9652;](#top)</span>  clean_xarray,\n",
    "          clear_xarray,\n",
    "          water_xarray,\n",
    "          shadow_xarray,\n",
    "          evi_xarray,\n",
    "          ndbi_xarray,\n",
    "          ndvi_xarray,\n",
    "          ndwi_xarray,\n",
    "          wofs_xarray,\n",
    "          tsm_xarray])\n",
    "\n",
    "# Copy original crs to merged dataset \n",
    "combined_dataset = combined_dataset.assign_attrs(landsat_dataset.attrs)\n",
    "\n",
    "combined_dataset"
   ]
  },
  {
   "cell_type": "markdown",
   "metadata": {},
   "source": [
    "## <span id=\"export\">Export Data [&#9652;](#top)</span>  "
   ]
  },
  {
   "cell_type": "markdown",
   "metadata": {},
   "source": [
    "### <span id=\"export_geotiff\">Export to GeoTIFF [&#9652;](#top)</span>  "
   ]
  },
  {
   "cell_type": "markdown",
   "metadata": {},
   "source": [
    "Export each acquisition as a GeoTIFF."
   ]
  },
  {
   "cell_type": "code",
   "execution_count": 22,
   "metadata": {},
   "outputs": [],
   "source": [
    "from utils.data_cube_utilities.import_export import export_xarray_to_multiple_geotiffs\n",
    "\n",
    "# Ensure the output directory exists before writing to it.\n",
    "if platform == 'LANDSAT_7':\n",
    "    !mkdir -p output/geotiffs/landsat7\n",
    "else:\n",
    "    !mkdir -p output/geotiffs/landsat8\n",
    "\n",
    "output_path = \"output/geotiffs/landsat{0}/landsat{0}\".format(7 if platform=='LANDSAT_7' else 8)\n",
    "\n",
    "export_xarray_to_multiple_geotiffs(combined_dataset, output_path)"
   ]
  },
  {
   "cell_type": "markdown",
   "metadata": {},
   "source": [
    "Check to see what files were exported. The size of these files is also shown."
   ]
  },
  {
   "cell_type": "code",
   "execution_count": 23,
   "metadata": {},
   "outputs": [
    {
     "name": "stdout",
     "output_type": "stream",
     "text": [
      "-rw-r--r-- 1 jovyan users 1.3M Apr 16 23:41 output/geotiffs/landsat7/landsat7_2015_01_12_10_14_16.tif\n",
      "-rw-r--r-- 1 jovyan users 1.3M Apr 16 23:41 output/geotiffs/landsat7/landsat7_2015_01_28_10_14_20.tif\n",
      "-rw-r--r-- 1 jovyan users 1.3M Apr 16 23:41 output/geotiffs/landsat7/landsat7_2015_03_01_10_14_33.tif\n",
      "-rw-r--r-- 1 jovyan users 1.3M Apr 16 23:41 output/geotiffs/landsat7/landsat7_2015_03_17_10_14_41.tif\n",
      "-rw-r--r-- 1 jovyan users 1.3M Apr 16 23:41 output/geotiffs/landsat7/landsat7_2015_04_18_10_14_55.tif\n",
      "-rw-r--r-- 1 jovyan users 1.3M Apr 16 23:41 output/geotiffs/landsat7/landsat7_2015_07_23_10_15_27.tif\n",
      "-rw-r--r-- 1 jovyan users 1.3M Apr 16 23:41 output/geotiffs/landsat7/landsat7_2015_09_09_10_15_35.tif\n",
      "-rw-r--r-- 1 jovyan users 1.3M Apr 16 23:41 output/geotiffs/landsat7/landsat7_2015_11_12_10_16_21.tif\n",
      "-rw-r--r-- 1 jovyan users 1.3M Apr 16 23:41 output/geotiffs/landsat7/landsat7_2015_11_28_10_16_35.tif\n",
      "-rw-r--r-- 1 jovyan users 1.3M Apr 16 23:41 output/geotiffs/landsat7/landsat7_2015_12_14_10_16_51.tif\n",
      "-rw-r--r-- 1 jovyan users 1.3M Apr 16 23:41 output/geotiffs/landsat7/landsat7_2015_12_30_10_17_04.tif\n"
     ]
    }
   ],
   "source": [
    "if platform == 'LANDSAT_7':\n",
    "    !ls -lah output/geotiffs/landsat7/*.tif\n",
    "else:\n",
    "    !ls -lah output/geotiffs/landsat8/*.tif"
   ]
  },
  {
   "cell_type": "markdown",
   "metadata": {},
   "source": [
    "Sanity check using `gdalinfo` to make sure that all of our bands exist    ."
   ]
  },
  {
   "cell_type": "code",
   "execution_count": 24,
   "metadata": {},
   "outputs": [
    {
     "name": "stdout",
     "output_type": "stream",
     "text": [
      "ERROR 4: output/geotiffs/landsat7/landsat7_2015_01_09_03_06_13.tif: No such file or directory\n",
      "gdalinfo failed - unable to open 'output/geotiffs/landsat7/landsat7_2015_01_09_03_06_13.tif'.\n"
     ]
    }
   ],
   "source": [
    "if platform == 'LANDSAT_7':\n",
    "    !gdalinfo output/geotiffs/landsat7/landsat7_2015_01_09_03_06_13.tif\n",
    "else:\n",
    "    !gdalinfo output/geotiffs/landsat8/landsat8_2015_01_01_03_07_41.tif"
   ]
  },
  {
   "cell_type": "markdown",
   "metadata": {},
   "source": [
    "Zip all GeoTIFFs."
   ]
  },
  {
   "cell_type": "code",
   "execution_count": 25,
   "metadata": {},
   "outputs": [
    {
     "name": "stdout",
     "output_type": "stream",
     "text": [
      "output/geotiffs/landsat7/landsat7_2015_01_12_10_14_16.tif\n",
      "output/geotiffs/landsat7/landsat7_2015_01_28_10_14_20.tif\n",
      "output/geotiffs/landsat7/landsat7_2015_03_01_10_14_33.tif\n",
      "output/geotiffs/landsat7/landsat7_2015_03_17_10_14_41.tif\n",
      "output/geotiffs/landsat7/landsat7_2015_04_18_10_14_55.tif\n",
      "output/geotiffs/landsat7/landsat7_2015_07_23_10_15_27.tif\n",
      "output/geotiffs/landsat7/landsat7_2015_09_09_10_15_35.tif\n",
      "output/geotiffs/landsat7/landsat7_2015_11_12_10_16_21.tif\n",
      "output/geotiffs/landsat7/landsat7_2015_11_28_10_16_35.tif\n",
      "output/geotiffs/landsat7/landsat7_2015_12_14_10_16_51.tif\n",
      "output/geotiffs/landsat7/landsat7_2015_12_30_10_17_04.tif\n"
     ]
    }
   ],
   "source": [
    "if platform == 'LANDSAT_7':\n",
    "    !tar -cvzf output/geotiffs/landsat7/landsat_7.tar.gz output/geotiffs/landsat7/*.tif\n",
    "else:\n",
    "    !tar -cvzf output/geotiffs/landsat8/landsat_8.tar.gz output/geotiffs/landsat8/*.tif"
   ]
  },
  {
   "cell_type": "markdown",
   "metadata": {},
   "source": [
    "### <span id=\"export_netcdf\">Export to NetCDF [&#9652;](#top)</span>  "
   ]
  },
  {
   "cell_type": "markdown",
   "metadata": {},
   "source": [
    "Export all acquisitions together as a single NetCDF."
   ]
  },
  {
   "cell_type": "code",
   "execution_count": 26,
   "metadata": {},
   "outputs": [
    {
     "data": {
      "text/plain": [
       "<xarray.Dataset>\n",
       "Dimensions:      (latitude: 168, longitude: 124, time: 11)\n",
       "Coordinates:\n",
       "  * time         (time) datetime64[ns] 2015-01-12T10:14:16.197501 ... 2015-12-30T10:17:04.234884\n",
       "  * latitude     (latitude) float64 5.562 5.562 5.561 ... 5.516 5.516 5.515\n",
       "  * longitude    (longitude) float64 -0.3013 -0.301 -0.3007 ... -0.2674 -0.2671\n",
       "Data variables:\n",
       "    red          (time, latitude, longitude) int16 1867 1809 1838 ... 1267 1296\n",
       "    green        (time, latitude, longitude) int16 1612 1612 1612 ... 1374 1340\n",
       "    blue         (time, latitude, longitude) int16 1504 1440 1440 ... 1285 1316\n",
       "    nir          (time, latitude, longitude) int16 2672 2715 2757 ... 1198 1198\n",
       "    swir1        (time, latitude, longitude) int16 2790 2790 2866 ... 860 823\n",
       "    swir2        (time, latitude, longitude) int16 2236 2197 2119 ... 644 604\n",
       "    pixel_qa     (time, latitude, longitude) uint16 66 66 66 66 ... 224 224 224\n",
       "    clear_mask   (time, latitude, longitude) bool True True True ... False False\n",
       "    water_mask   (time, latitude, longitude) bool False False ... False False\n",
       "    shadow_mask  (time, latitude, longitude) bool False False ... False False\n",
       "    EVI          (time, latitude, longitude) float64 0.3102 0.3271 ... 0.1095\n",
       "    NDBI         (time, latitude, longitude) float64 -0.08883 ... -0.3296\n",
       "    NDVI         (time, latitude, longitude) float64 0.1774 0.2003 ... -0.03929\n",
       "    NDWI         (time, latitude, longitude) float64 -0.2474 -0.2549 ... 0.05595\n",
       "    wofs         (time, latitude, longitude) float64 0.0 0.0 ... -9.999e+03\n",
       "    tsm          (time, latitude, longitude) float64 0.0 0.0 0.0 ... 148.5 148.1\n",
       "Attributes:\n",
       "    crs:      EPSG:4326"
      ]
     },
     "execution_count": 26,
     "metadata": {},
     "output_type": "execute_result"
    }
   ],
   "source": [
    "combined_dataset"
   ]
  },
  {
   "cell_type": "code",
   "execution_count": 27,
   "metadata": {},
   "outputs": [],
   "source": [
    "import os\n",
    "from utils.data_cube_utilities.import_export import export_xarray_to_netcdf\n",
    "\n",
    "# Ensure the output directory exists before writing to it.\n",
    "ls_num = 7 if platform=='LANDSAT_7' else 8\n",
    "output_dir = f\"output/netcdfs/landsat{ls_num}\"\n",
    "if not os.path.exists(output_dir):\n",
    "    os.mkdir(output_dir)\n",
    "\n",
    "output_file_path = output_dir + f\"/ls{ls_num}_netcdf_example.nc\"\n",
    "# Remove the file if it exists to avoid an error.\n",
    "if os.path.isfile(output_file_path):\n",
    "    os.remove(output_file_path)\n",
    "export_xarray_to_netcdf(combined_dataset.red, output_file_path)"
   ]
  },
  {
   "cell_type": "markdown",
   "metadata": {},
   "source": [
    "Sanity check using `gdalinfo` to make sure that all of our bands exist  .  "
   ]
  },
  {
   "cell_type": "code",
   "execution_count": 28,
   "metadata": {},
   "outputs": [
    {
     "name": "stdout",
     "output_type": "stream",
     "text": [
      "ERROR 4: `output/netcdfs/landsat7/ls7_netcdf_example.nc' not recognized as a supported file format.\n",
      "gdalinfo failed - unable to open 'output/netcdfs/landsat7/ls7_netcdf_example.nc'.\n"
     ]
    }
   ],
   "source": [
    "if platform == 'LANDSAT_7':\n",
    "    !gdalinfo output/netcdfs/landsat7/ls7_netcdf_example.nc\n",
    "else:\n",
    "    !gdalinfo output/netcdfs/landsat8/ls8_netcdf_example.nc"
   ]
  }
 ],
 "metadata": {
  "kernelspec": {
   "display_name": "Python 3",
   "language": "python",
   "name": "python3"
  },
  "language_info": {
   "codemirror_mode": {
    "name": "ipython",
    "version": 3
   },
   "file_extension": ".py",
   "mimetype": "text/x-python",
   "name": "python",
   "nbconvert_exporter": "python",
   "pygments_lexer": "ipython3",
   "version": "3.6.8"
  }
 },
 "nbformat": 4,
 "nbformat_minor": 4
}
