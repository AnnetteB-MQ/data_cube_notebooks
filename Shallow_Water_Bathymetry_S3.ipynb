{
 "cells": [
  {
   "cell_type": "markdown",
   "metadata": {},
   "source": [
    "# Shallow Water Bathymetry <a id=\"top\"></a>\n",
    "## Visualizing Differences in Depth With Spectral Analysis\n",
    "<hr>\n",
    "\n",
    "# Notebook Summary\n",
    "\n",
    "* Import data from LANDSAT 8 that has been S3 indexed into the Data Cube database\n",
    "* A bathymetry index is calculated\n",
    "* Contrast is adjusted to make a more interpretable visualization.\n",
    ">Citation: [Stumpf, Richard P., Kristine Holderied, and Mark Sinclair. \"Determination of water depth with high‐resolution satellite imagery over variable bottom types.\" Limnology and Oceanography 48.1part2 (2003): 547-556.](https://www.slideshare.net/fernandojeffersonprudencioparedes/stumpf-et-al-2003)\n",
    "<hr>\n",
    "\n",
    "# Algorithmic process  \n",
    "\n",
    "* [Import dependencies and connect to the data cube](#import)\n",
    "* [Choose platform and product](#plat_prod)\n",
    "* [Define spatial extents that fall within the maximum extents of the indexed S3 tile](#define_extents) (selecting too much can make the acquisition process slow)\n",
    "* [Retrieve the data](#retrieve_data)\n",
    "* [Calculate bathymetry and NDWI indices](#bathymetry)\n",
    "* [Export the unmasked dataset with NDWI and bathymetry columns to GeoTIFF](#export_unmasked)\n",
    "* [Clean mask using the quality column and NDWI](#mask)\n",
    "* [Make a visualization function to view the bathymetry index over the specified region](#vis_func)\n",
    "* [Examine the bathymetry visualization](#bath_vis)\n",
    "* [Examine the bathymetry visualization with adjusted contrast](#bath_vis_better)\n",
    "* [Export the masked dataset with NDWI and bathymetry columns to GeoTIFF](#export_masked)\n"
   ]
  },
  {
   "cell_type": "markdown",
   "metadata": {},
   "source": [
    "<hr>\n",
    "\n",
    "# How It Works\n",
    "\n",
    "Bathymetry is the measurement of depth in bodies of water(Oceans, Seas or Lakes).  This notebook illustrates a technique for deriving depth of shallow water areas using purely optical features from Landsat Collection 1 imagery and draws heavily from the publication [Determination of water depth with high-resolution satelite imagery over variable bottom types](https://www.slideshare.net/fernandojeffersonprudencioparedes/stumpf-et-al-2003).  "
   ]
  },
  {
   "cell_type": "markdown",
   "metadata": {},
   "source": [
    "<br>\n",
    "\n",
    "**Bathymetry Index**  \n",
    "  \n",
    "This bathymetry index uses optical `green` and `blue` values on a logarithmic scale with two tunable coefficients `m0` and `m1`.\n",
    "  \n",
    "\n",
    "$$ BATH =  m_0*\\frac{ln(blue)}{ln(green)} -m_1$$  \n",
    "\n",
    "Where: \n",
    "- `m0` is a tunable scaling factor to tune the ratio to depth <br>\n",
    "- `m1` is the offset for a depth of 0 meters.\n",
    "\n",
    "<br>\n",
    "<div class=\"alert-info\"><br>\n",
    "<b>Note: </b> that for our purposes, $m_0$ and $m_1$ are equal to <b>1</b> and <b>0</b> respectively, since we cannot determine the baseline nor the offset from spectral reflectance alone. This effectively simplifies the formula to: $$\\frac{ln(blue)}{ln(green)}$$\n",
    "<br>\n",
    "\n",
    "</div>\n"
   ]
  },
  {
   "cell_type": "markdown",
   "metadata": {},
   "source": [
    "#### Bathymetry Index Function"
   ]
  },
  {
   "cell_type": "code",
   "execution_count": 1,
   "metadata": {},
   "outputs": [],
   "source": [
    "import numpy as np\n",
    "import pandas as pd\n",
    "\n",
    "def bathymetry_index(df, m0 = 1, m1 = 0):\n",
    "    return m0*(np.log(df.blue)/np.log(df.green))+m1"
   ]
  },
  {
   "cell_type": "markdown",
   "metadata": {},
   "source": [
    "<hr>\n",
    "\n",
    "## <a id=\"import\">Import Dependencies and Connect to the Data Cube</a>  [&#9652;](#top)"
   ]
  },
  {
   "cell_type": "code",
   "execution_count": 2,
   "metadata": {},
   "outputs": [
    {
     "name": "stderr",
     "output_type": "stream",
     "text": [
      "/home/localuser/Datacube/datacube_env/lib/python3.5/site-packages/psycopg2-2.7.5-py3.5-linux-x86_64.egg/psycopg2/__init__.py:144: UserWarning: The psycopg2 wheel package will be renamed from release 2.8; in order to keep installing from binary please use \"pip install psycopg2-binary\" instead. For details see: <http://initd.org/psycopg/docs/install.html#binary-install-from-pypi>.\n",
      "  \"\"\")\n"
     ]
    }
   ],
   "source": [
    "% matplotlib inline\n",
    "import datacube\n",
    "dc = datacube.Datacube()"
   ]
  },
  {
   "cell_type": "markdown",
   "metadata": {},
   "source": [
    "<hr>\n",
    "\n",
    "## <a id=\"plat_prod\">Select the Product and Platform</a>  [&#9652;](#top)"
   ]
  },
  {
   "cell_type": "code",
   "execution_count": 3,
   "metadata": {},
   "outputs": [
    {
     "data": {
      "text/html": [
       "<div>\n",
       "<style scoped>\n",
       "    .dataframe tbody tr th:only-of-type {\n",
       "        vertical-align: middle;\n",
       "    }\n",
       "\n",
       "    .dataframe tbody tr th {\n",
       "        vertical-align: top;\n",
       "    }\n",
       "\n",
       "    .dataframe thead th {\n",
       "        text-align: right;\n",
       "    }\n",
       "</style>\n",
       "<table border=\"1\" class=\"dataframe\">\n",
       "  <thead>\n",
       "    <tr style=\"text-align: right;\">\n",
       "      <th></th>\n",
       "      <th>name</th>\n",
       "      <th>description</th>\n",
       "      <th>time</th>\n",
       "      <th>product_type</th>\n",
       "      <th>instrument</th>\n",
       "      <th>lon</th>\n",
       "      <th>lat</th>\n",
       "      <th>format</th>\n",
       "      <th>platform</th>\n",
       "      <th>crs</th>\n",
       "      <th>resolution</th>\n",
       "      <th>tile_size</th>\n",
       "      <th>spatial_dimensions</th>\n",
       "    </tr>\n",
       "    <tr>\n",
       "      <th>id</th>\n",
       "      <th></th>\n",
       "      <th></th>\n",
       "      <th></th>\n",
       "      <th></th>\n",
       "      <th></th>\n",
       "      <th></th>\n",
       "      <th></th>\n",
       "      <th></th>\n",
       "      <th></th>\n",
       "      <th></th>\n",
       "      <th></th>\n",
       "      <th></th>\n",
       "      <th></th>\n",
       "    </tr>\n",
       "  </thead>\n",
       "  <tbody>\n",
       "    <tr>\n",
       "      <th>0</th>\n",
       "      <td>ls7_collections_sr_scene</td>\n",
       "      <td>Landsat 7 USGS Collection 1 Higher Level SR sc...</td>\n",
       "      <td>None</td>\n",
       "      <td>LEDAPS</td>\n",
       "      <td>ETM</td>\n",
       "      <td>None</td>\n",
       "      <td>None</td>\n",
       "      <td>GeoTiff</td>\n",
       "      <td>LANDSAT_7</td>\n",
       "      <td>NaN</td>\n",
       "      <td>NaN</td>\n",
       "      <td>NaN</td>\n",
       "      <td>NaN</td>\n",
       "    </tr>\n",
       "    <tr>\n",
       "      <th>1</th>\n",
       "      <td>ls7_ledaps_vietnam</td>\n",
       "      <td>Landsat 7 USGS Collection 1 Higher Level SR sc...</td>\n",
       "      <td>None</td>\n",
       "      <td>LEDAPS</td>\n",
       "      <td>ETM</td>\n",
       "      <td>None</td>\n",
       "      <td>None</td>\n",
       "      <td>NetCDF</td>\n",
       "      <td>LANDSAT_7</td>\n",
       "      <td>EPSG:4326</td>\n",
       "      <td>[-0.000269494585236, 0.000269494585236]</td>\n",
       "      <td>[0.943231048326, 0.943231048326]</td>\n",
       "      <td>(latitude, longitude)</td>\n",
       "    </tr>\n",
       "    <tr>\n",
       "      <th>2</th>\n",
       "      <td>ls7_ledaps_vietnam_sample</td>\n",
       "      <td>Sample subset of ls7_ledaps_vietnam created fo...</td>\n",
       "      <td>None</td>\n",
       "      <td>LEDAPS</td>\n",
       "      <td>ETM</td>\n",
       "      <td>None</td>\n",
       "      <td>None</td>\n",
       "      <td>NetCDF</td>\n",
       "      <td>LANDSAT_7</td>\n",
       "      <td>EPSG:4326</td>\n",
       "      <td>[-0.000269494585236, 0.000269494585236]</td>\n",
       "      <td>[0.943231048326, 0.943231048326]</td>\n",
       "      <td>(latitude, longitude)</td>\n",
       "    </tr>\n",
       "  </tbody>\n",
       "</table>\n",
       "</div>"
      ],
      "text/plain": [
       "                         name  \\\n",
       "id                              \n",
       "0    ls7_collections_sr_scene   \n",
       "1          ls7_ledaps_vietnam   \n",
       "2   ls7_ledaps_vietnam_sample   \n",
       "\n",
       "                                          description  time product_type  \\\n",
       "id                                                                         \n",
       "0   Landsat 7 USGS Collection 1 Higher Level SR sc...  None       LEDAPS   \n",
       "1   Landsat 7 USGS Collection 1 Higher Level SR sc...  None       LEDAPS   \n",
       "2   Sample subset of ls7_ledaps_vietnam created fo...  None       LEDAPS   \n",
       "\n",
       "   instrument   lon   lat   format   platform        crs  \\\n",
       "id                                                         \n",
       "0         ETM  None  None  GeoTiff  LANDSAT_7        NaN   \n",
       "1         ETM  None  None   NetCDF  LANDSAT_7  EPSG:4326   \n",
       "2         ETM  None  None   NetCDF  LANDSAT_7  EPSG:4326   \n",
       "\n",
       "                                 resolution                         tile_size  \\\n",
       "id                                                                              \n",
       "0                                       NaN                               NaN   \n",
       "1   [-0.000269494585236, 0.000269494585236]  [0.943231048326, 0.943231048326]   \n",
       "2   [-0.000269494585236, 0.000269494585236]  [0.943231048326, 0.943231048326]   \n",
       "\n",
       "       spatial_dimensions  \n",
       "id                         \n",
       "0                     NaN  \n",
       "1   (latitude, longitude)  \n",
       "2   (latitude, longitude)  "
      ]
     },
     "execution_count": 3,
     "metadata": {},
     "output_type": "execute_result"
    }
   ],
   "source": [
    "#List the products available on this server/device\n",
    "dc.list_products()"
   ]
  },
  {
   "cell_type": "code",
   "execution_count": 4,
   "metadata": {},
   "outputs": [],
   "source": [
    "#create a list of the desired platforms\n",
    "platform = \"LANDSAT_8\"\n",
    "product = \"ls8_level1_usgs\""
   ]
  },
  {
   "cell_type": "markdown",
   "metadata": {},
   "source": [
    "<hr>\n",
    "\n",
    "## <a id=\"define_extents\">Define and Display the Region to Be Examined</a>  [&#9652;](#top)"
   ]
  },
  {
   "cell_type": "markdown",
   "metadata": {},
   "source": [
    "### Region bounds"
   ]
  },
  {
   "cell_type": "code",
   "execution_count": 5,
   "metadata": {},
   "outputs": [],
   "source": [
    "lat_subsect = (-31.7, -32.2)\n",
    "lon_subsect = (152.4, 152.9)"
   ]
  },
  {
   "cell_type": "code",
   "execution_count": 6,
   "metadata": {},
   "outputs": [
    {
     "name": "stdout",
     "output_type": "stream",
     "text": [
      "\n",
      "Latitude:\t(-31.7, -32.2)\t\tRange:\t0.5000000000000036 degrees\n",
      "Longitude:\t(152.4, 152.9)\t\tRange:\t0.5 degrees\n",
      "\n"
     ]
    }
   ],
   "source": [
    "print('''\n",
    "Latitude:\\t{0}\\t\\tRange:\\t{2} degrees\n",
    "Longitude:\\t{1}\\t\\tRange:\\t{3} degrees\n",
    "'''.format(lat_subsect,\n",
    "           lon_subsect,\n",
    "           max(lat_subsect)-min(lat_subsect),\n",
    "           max(lon_subsect)-min(lon_subsect)))"
   ]
  },
  {
   "cell_type": "markdown",
   "metadata": {},
   "source": [
    "### Display"
   ]
  },
  {
   "cell_type": "code",
   "execution_count": 7,
   "metadata": {},
   "outputs": [
    {
     "data": {
      "text/html": [
       "<div style=\"width:100%;\"><div style=\"position:relative;width:100%;height:0;padding-bottom:60%;\"><iframe src=\"data:text/html;charset=utf-8;base64,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\" style=\"position:absolute;width:100%;height:100%;left:0;top:0;border:none !important;\" allowfullscreen webkitallowfullscreen mozallowfullscreen></iframe></div></div>"
      ],
      "text/plain": [
       "<folium.folium.Map at 0x7f3d6b5b67b8>"
      ]
     },
     "execution_count": 7,
     "metadata": {},
     "output_type": "execute_result"
    }
   ],
   "source": [
    "from utils.data_cube_utilities.dc_display_map import display_map      \n",
    "display_map(latitude = lat_subsect,longitude = lon_subsect)"
   ]
  },
  {
   "cell_type": "markdown",
   "metadata": {},
   "source": [
    "<hr>\n",
    "\n",
    "## <a id=\"retrieve_data\">Retrieve the Data</a>  [&#9652;](#top)"
   ]
  },
  {
   "cell_type": "markdown",
   "metadata": {},
   "source": [
    "#### Load and integrate datasets"
   ]
  },
  {
   "cell_type": "code",
   "execution_count": 8,
   "metadata": {},
   "outputs": [
    {
     "name": "stdout",
     "output_type": "stream",
     "text": [
      "CPU times: user 20 ms, sys: 12 ms, total: 32 ms\n",
      "Wall time: 48.1 ms\n"
     ]
    }
   ],
   "source": [
    "%%time\n",
    "ds = dc.load(lat = lat_subsect,\n",
    "             lon = lon_subsect,\n",
    "             platform = platform,\n",
    "             product = product,\n",
    "             output_crs = \"EPSG:32756\",\n",
    "             measurements = [\"red\",\"blue\",\"green\",\"nir\",\"quality\"],\n",
    "             resolution = (-30,30))"
   ]
  },
  {
   "cell_type": "code",
   "execution_count": 9,
   "metadata": {},
   "outputs": [
    {
     "data": {
      "text/plain": [
       "<xarray.Dataset>\n",
       "Dimensions:  ()\n",
       "Data variables:\n",
       "    *empty*"
      ]
     },
     "execution_count": 9,
     "metadata": {},
     "output_type": "execute_result"
    }
   ],
   "source": [
    "ds"
   ]
  },
  {
   "cell_type": "markdown",
   "metadata": {},
   "source": [
    "#### Preview the Data"
   ]
  },
  {
   "cell_type": "code",
   "execution_count": 10,
   "metadata": {},
   "outputs": [],
   "source": [
    "import matplotlib.pyplot as plt\n",
    "\n",
    "def rgb(dataset, at_index = 0, bands = ['red', 'green', 'blue'],\n",
    "        max_possible = 15000):\n",
    "    \n",
    "    ### Dataset to RGB Format, needs float values between 0-1 \n",
    "    rgb = np.stack([dataset[bands[0]],\n",
    "                    dataset[bands[1]],\n",
    "                    dataset[bands[2]]], axis = -1).astype(np.int16)\n",
    "    \n",
    "    # Clamp to range 0:max_possible\n",
    "    rgb[rgb<0] = 0    \n",
    "    rgb[rgb > max_possible] = max_possible\n",
    "    \n",
    "    rgb = rgb.astype(float)\n",
    "    rgb /= np.max(rgb)\n",
    "    \n",
    "    # Plot\n",
    "    plt.figure(figsize=(15,15))   \n",
    "    plt.imshow(rgb[at_index])"
   ]
  },
  {
   "cell_type": "code",
   "execution_count": 11,
   "metadata": {},
   "outputs": [
    {
     "ename": "KeyError",
     "evalue": "'red'",
     "output_type": "error",
     "traceback": [
      "\u001b[0;31m---------------------------------------------------------------------------\u001b[0m",
      "\u001b[0;31mKeyError\u001b[0m                                  Traceback (most recent call last)",
      "\u001b[0;32m~/Datacube/datacube_env/lib/python3.5/site-packages/xarray-0.10.8-py3.5.egg/xarray/core/dataset.py\u001b[0m in \u001b[0;36m_construct_dataarray\u001b[0;34m(self, name)\u001b[0m\n\u001b[1;32m    779\u001b[0m         \u001b[0;32mtry\u001b[0m\u001b[0;34m:\u001b[0m\u001b[0;34m\u001b[0m\u001b[0m\n\u001b[0;32m--> 780\u001b[0;31m             \u001b[0mvariable\u001b[0m \u001b[0;34m=\u001b[0m \u001b[0mself\u001b[0m\u001b[0;34m.\u001b[0m\u001b[0m_variables\u001b[0m\u001b[0;34m[\u001b[0m\u001b[0mname\u001b[0m\u001b[0;34m]\u001b[0m\u001b[0;34m\u001b[0m\u001b[0m\n\u001b[0m\u001b[1;32m    781\u001b[0m         \u001b[0;32mexcept\u001b[0m \u001b[0mKeyError\u001b[0m\u001b[0;34m:\u001b[0m\u001b[0;34m\u001b[0m\u001b[0m\n",
      "\u001b[0;31mKeyError\u001b[0m: 'red'",
      "\nDuring handling of the above exception, another exception occurred:\n",
      "\u001b[0;31mKeyError\u001b[0m                                  Traceback (most recent call last)",
      "\u001b[0;32m<ipython-input-11-118c0170c43c>\u001b[0m in \u001b[0;36m<module>\u001b[0;34m()\u001b[0m\n\u001b[0;32m----> 1\u001b[0;31m \u001b[0mrgb\u001b[0m\u001b[0;34m(\u001b[0m\u001b[0mds\u001b[0m\u001b[0;34m,\u001b[0m \u001b[0mat_index\u001b[0m\u001b[0;34m=\u001b[0m\u001b[0;36m6\u001b[0m\u001b[0;34m)\u001b[0m\u001b[0;34m\u001b[0m\u001b[0m\n\u001b[0m",
      "\u001b[0;32m<ipython-input-10-93adfa676cfa>\u001b[0m in \u001b[0;36mrgb\u001b[0;34m(dataset, at_index, bands, max_possible)\u001b[0m\n\u001b[1;32m      5\u001b[0m \u001b[0;34m\u001b[0m\u001b[0m\n\u001b[1;32m      6\u001b[0m     \u001b[0;31m### Dataset to RGB Format, needs float values between 0-1\u001b[0m\u001b[0;34m\u001b[0m\u001b[0;34m\u001b[0m\u001b[0m\n\u001b[0;32m----> 7\u001b[0;31m     rgb = np.stack([dataset[bands[0]],\n\u001b[0m\u001b[1;32m      8\u001b[0m                     \u001b[0mdataset\u001b[0m\u001b[0;34m[\u001b[0m\u001b[0mbands\u001b[0m\u001b[0;34m[\u001b[0m\u001b[0;36m1\u001b[0m\u001b[0;34m]\u001b[0m\u001b[0;34m]\u001b[0m\u001b[0;34m,\u001b[0m\u001b[0;34m\u001b[0m\u001b[0m\n\u001b[1;32m      9\u001b[0m                     dataset[bands[2]]], axis = -1).astype(np.int16)\n",
      "\u001b[0;32m~/Datacube/datacube_env/lib/python3.5/site-packages/xarray-0.10.8-py3.5.egg/xarray/core/dataset.py\u001b[0m in \u001b[0;36m__getitem__\u001b[0;34m(self, key)\u001b[0m\n\u001b[1;32m    878\u001b[0m \u001b[0;34m\u001b[0m\u001b[0m\n\u001b[1;32m    879\u001b[0m         \u001b[0;32mif\u001b[0m \u001b[0mhashable\u001b[0m\u001b[0;34m(\u001b[0m\u001b[0mkey\u001b[0m\u001b[0;34m)\u001b[0m\u001b[0;34m:\u001b[0m\u001b[0;34m\u001b[0m\u001b[0m\n\u001b[0;32m--> 880\u001b[0;31m             \u001b[0;32mreturn\u001b[0m \u001b[0mself\u001b[0m\u001b[0;34m.\u001b[0m\u001b[0m_construct_dataarray\u001b[0m\u001b[0;34m(\u001b[0m\u001b[0mkey\u001b[0m\u001b[0;34m)\u001b[0m\u001b[0;34m\u001b[0m\u001b[0m\n\u001b[0m\u001b[1;32m    881\u001b[0m         \u001b[0;32melse\u001b[0m\u001b[0;34m:\u001b[0m\u001b[0;34m\u001b[0m\u001b[0m\n\u001b[1;32m    882\u001b[0m             \u001b[0;32mreturn\u001b[0m \u001b[0mself\u001b[0m\u001b[0;34m.\u001b[0m\u001b[0m_copy_listed\u001b[0m\u001b[0;34m(\u001b[0m\u001b[0mnp\u001b[0m\u001b[0;34m.\u001b[0m\u001b[0masarray\u001b[0m\u001b[0;34m(\u001b[0m\u001b[0mkey\u001b[0m\u001b[0;34m)\u001b[0m\u001b[0;34m)\u001b[0m\u001b[0;34m\u001b[0m\u001b[0m\n",
      "\u001b[0;32m~/Datacube/datacube_env/lib/python3.5/site-packages/xarray-0.10.8-py3.5.egg/xarray/core/dataset.py\u001b[0m in \u001b[0;36m_construct_dataarray\u001b[0;34m(self, name)\u001b[0m\n\u001b[1;32m    781\u001b[0m         \u001b[0;32mexcept\u001b[0m \u001b[0mKeyError\u001b[0m\u001b[0;34m:\u001b[0m\u001b[0;34m\u001b[0m\u001b[0m\n\u001b[1;32m    782\u001b[0m             _, name, variable = _get_virtual_variable(\n\u001b[0;32m--> 783\u001b[0;31m                 self._variables, name, self._level_coords, self.dims)\n\u001b[0m\u001b[1;32m    784\u001b[0m \u001b[0;34m\u001b[0m\u001b[0m\n\u001b[1;32m    785\u001b[0m         \u001b[0mcoords\u001b[0m \u001b[0;34m=\u001b[0m \u001b[0mOrderedDict\u001b[0m\u001b[0;34m(\u001b[0m\u001b[0;34m)\u001b[0m\u001b[0;34m\u001b[0m\u001b[0m\n",
      "\u001b[0;32m~/Datacube/datacube_env/lib/python3.5/site-packages/xarray-0.10.8-py3.5.egg/xarray/core/dataset.py\u001b[0m in \u001b[0;36m_get_virtual_variable\u001b[0;34m(variables, key, level_vars, dim_sizes)\u001b[0m\n\u001b[1;32m     71\u001b[0m         \u001b[0mref_var\u001b[0m \u001b[0;34m=\u001b[0m \u001b[0mdim_var\u001b[0m\u001b[0;34m.\u001b[0m\u001b[0mto_index_variable\u001b[0m\u001b[0;34m(\u001b[0m\u001b[0;34m)\u001b[0m\u001b[0;34m.\u001b[0m\u001b[0mget_level_variable\u001b[0m\u001b[0;34m(\u001b[0m\u001b[0mref_name\u001b[0m\u001b[0;34m)\u001b[0m\u001b[0;34m\u001b[0m\u001b[0m\n\u001b[1;32m     72\u001b[0m     \u001b[0;32melse\u001b[0m\u001b[0;34m:\u001b[0m\u001b[0;34m\u001b[0m\u001b[0m\n\u001b[0;32m---> 73\u001b[0;31m         \u001b[0mref_var\u001b[0m \u001b[0;34m=\u001b[0m \u001b[0mvariables\u001b[0m\u001b[0;34m[\u001b[0m\u001b[0mref_name\u001b[0m\u001b[0;34m]\u001b[0m\u001b[0;34m\u001b[0m\u001b[0m\n\u001b[0m\u001b[1;32m     74\u001b[0m \u001b[0;34m\u001b[0m\u001b[0m\n\u001b[1;32m     75\u001b[0m     \u001b[0;32mif\u001b[0m \u001b[0mvar_name\u001b[0m \u001b[0;32mis\u001b[0m \u001b[0;32mNone\u001b[0m\u001b[0;34m:\u001b[0m\u001b[0;34m\u001b[0m\u001b[0m\n",
      "\u001b[0;31mKeyError\u001b[0m: 'red'"
     ]
    }
   ],
   "source": [
    "rgb(ds, at_index=6)"
   ]
  },
  {
   "cell_type": "markdown",
   "metadata": {},
   "source": [
    "<hr>\n",
    "\n",
    "## <a id=\"bathymetry\">Calculate the Bathymetry and NDWI Indices</a>  [&#9652;](#top)\n",
    "> * Bathymetry function located at top of notebook"
   ]
  },
  {
   "cell_type": "code",
   "execution_count": null,
   "metadata": {
    "scrolled": false
   },
   "outputs": [],
   "source": [
    "# Create Bathemtry Index column\n",
    "ds[\"bathymetry\"] = bathymetry_index(ds)"
   ]
  },
  {
   "cell_type": "code",
   "execution_count": null,
   "metadata": {},
   "outputs": [],
   "source": [
    "def NDWI_index(ds):\n",
    "    return (ds.green - ds.nir)/(ds.green + ds.nir)"
   ]
  },
  {
   "cell_type": "code",
   "execution_count": null,
   "metadata": {},
   "outputs": [],
   "source": [
    "ds[\"ndwi\"] = NDWI_index(ds)"
   ]
  },
  {
   "cell_type": "markdown",
   "metadata": {},
   "source": [
    "<hr>\n",
    "\n",
    "#### Preview Combined Dataset"
   ]
  },
  {
   "cell_type": "code",
   "execution_count": null,
   "metadata": {
    "scrolled": true
   },
   "outputs": [],
   "source": [
    "ds"
   ]
  },
  {
   "cell_type": "markdown",
   "metadata": {},
   "source": [
    "<hr>\n",
    "\n",
    "## <a id=\"export_unmasked\">Export Unmasked GeoTIFF</a>  [&#9652;](#top)"
   ]
  },
  {
   "cell_type": "code",
   "execution_count": null,
   "metadata": {},
   "outputs": [],
   "source": [
    "import time\n",
    "def time_to_string(t):\n",
    "    return time.strftime(\"%Y_%m_%d_%H_%M_%S\", time.gmtime(t.astype(int)/1000000000))"
   ]
  },
  {
   "cell_type": "code",
   "execution_count": null,
   "metadata": {},
   "outputs": [],
   "source": [
    "from utils.data_cube_utilities import dc_utilities\n",
    "\n",
    "def export_slice_to_geotiff(ds, path):\n",
    "    dc_utilities.write_geotiff_from_xr(path,\n",
    "                                       ds.astype(np.float32),\n",
    "                                       list(ds.data_vars.keys()),\n",
    "                                       vertical_dim = \"y\",\n",
    "                                       horizontal_dim = \"x\",\n",
    "                                       crs=\"EPSG:32756\")"
   ]
  },
  {
   "cell_type": "code",
   "execution_count": null,
   "metadata": {},
   "outputs": [],
   "source": [
    "def export_xarray_to_geotiff(ds, path):\n",
    "    for t in ds.time:\n",
    "        time_slice_xarray = ds.sel(time = t)\n",
    "        export_slice_to_geotiff(time_slice_xarray,\n",
    "                                path + \"_\" + time_to_string(t) + \".tif\")"
   ]
  },
  {
   "cell_type": "code",
   "execution_count": null,
   "metadata": {},
   "outputs": [],
   "source": [
    "export_xarray_to_geotiff(ds, \"geotiffs/landsat8/unmasked/unmasked\")"
   ]
  },
  {
   "cell_type": "markdown",
   "metadata": {},
   "source": [
    "<hr>\n",
    "\n",
    "## <a id=\"mask\">Mask the Dataset using the Quality column and NDWI</a>  [&#9652;](#top)"
   ]
  },
  {
   "cell_type": "markdown",
   "metadata": {},
   "source": [
    ">Notice that the quality column is not the usual bitmask values we are familiar with. <br> More information on `Landsat 8 OLI/ OLI-TIRS Level-1` can be found [here](https://landsat.usgs.gov/collectionqualityband)"
   ]
  },
  {
   "cell_type": "code",
   "execution_count": null,
   "metadata": {},
   "outputs": [],
   "source": [
    "# preview values\n",
    "np.unique(ds[\"quality\"])"
   ]
  },
  {
   "cell_type": "code",
   "execution_count": null,
   "metadata": {},
   "outputs": [],
   "source": [
    "#make a new function for masking this type of data since we do not have a pixel_qa column\n",
    "# We are only checking for \"clear\" but will include the other cover_types\n",
    "# in case this function is repurposed for other cover_types\n",
    "def ls8_quality_unpack(data_array, cover_type):  \n",
    "    \n",
    "    land_cover_endcoding = dict(fill         =[1] , \n",
    "                                terrain_occ  =[2, 2722],\n",
    "                                clear        =[2720, 2724, 2728, 2732],\n",
    "                                cloud        =[2800, 2804, 2808, 2812, 6896, 6900, 6904, 6908],\n",
    "                                rad_sat_1_2  =[2724, 2756, 2804, 2980, 3012, 3748, 3780, 6820, 6852, 6900, 7076, 7108, 7844, 7876],\n",
    "                                rad_sat_3_4  =[2728, 2760, 2808, 2984, 3016, 3752, 3784, 6824, 6856, 6904, 7080, 7112, 7848, 7880],\n",
    "                                rad_sat_5_pls=[2732, 2764, 2812, 2988, 3020, 3756, 3788, 6828, 6860, 6908, 7084, 7116, 7852, 7884],\n",
    "                                low_conf_cl  =[2752, 2722, 2724, 2728, 2732, 2976, 2980, 2984, 2988, 3744, 3748, 3752, 3756, 6816, 6820, 6824, 6828, 7072, 7076, 7080, 7084, 7840, 7844, 7848, 7852],\n",
    "                                med_conf_cl  =[2752, 2756, 2760, 2764, 3008, 3012, 3016, 3020, 3776, 3780, 3784, 3788, 6848, 6852, 6856, 6860, 7104, 7108, 7112, 7116, 7872, 7876, 7880, 7884],\n",
    "                                high_conf_cl =[2800, 2804, 2808, 2812, 6896, 6900, 6904, 6908],\n",
    "                                low_conf_cir =[2720, 2722, 2724, 2728, 2732, 2752, 2756, 2760, 2764, 2800, 2804, 2808, 2812, 2976, 2980, 2984, 2988, 3008, 3012, 3016, 3020, 3744, 3748, 3752, 3756, 3780, 3784, 3788],\n",
    "                                high_conf_cir=[6816, 6820, 6824, 6828, 6848, 6852, 6856, 6860, 6896, 6900, 6904, 6908, 7072, 7076, 7080, 7084, 7104, 7108, 7112, 7116, 7840, 7844, 7848, 7852, 7872, 7876, 7880, 7884],\n",
    "                                high_snow_ice=[3744, 3748, 3752, 3756, 3776, 3780, 3784, 3788, 7840, 7844, 7848, 7852, 7872, 7876, 7880, 7884],\n",
    "                                high_cl_shdw =[2976, 2980, 2984, 2988, 3008, 3012, 3016, 3020, 7072, 7076, 7080, 7084, 7104, 7108, 7112, 7116]\n",
    "                               )\n",
    "    return np.isin(data_array.quality.values, land_cover_endcoding[cover_type])"
   ]
  },
  {
   "cell_type": "markdown",
   "metadata": {},
   "source": [
    "#### Use NDWI to Mask Out Land\n",
    "> The threshold can be tuned if need be to better fit the RGB image above. <br>\n",
    "> Unfortunately our existing WOFS algorithm is designed to work with Surface Reflectance (SR) and does not work with this data yet but with a few modifications it could be made to do so.  We will approximate the WOFs mask with `NDWI` for now."
   ]
  },
  {
   "cell_type": "code",
   "execution_count": null,
   "metadata": {},
   "outputs": [],
   "source": [
    "# Tunable threshold for masking the land out\n",
    "threshold = .05\n",
    "\n",
    "water = (ds.ndwi>threshold).values"
   ]
  },
  {
   "cell_type": "code",
   "execution_count": null,
   "metadata": {},
   "outputs": [],
   "source": [
    "#preview one time slice to determine the effectiveness of the NDWI masking\n",
    "rgb(ds.where(water), at_index=6)"
   ]
  },
  {
   "cell_type": "code",
   "execution_count": null,
   "metadata": {},
   "outputs": [],
   "source": [
    "clear_xarray  = ls8_quality_unpack(ds, \"clear\")"
   ]
  },
  {
   "cell_type": "code",
   "execution_count": null,
   "metadata": {},
   "outputs": [],
   "source": [
    "full_mask = np.logical_and(clear_xarray, water)\n",
    "\n",
    "ds = ds.where(full_mask)"
   ]
  },
  {
   "cell_type": "markdown",
   "metadata": {},
   "source": [
    "<hr>\n",
    "\n",
    "## <a id=\"vis_func\">Create a Visualization Function</a>  [&#9652;](#top)"
   ]
  },
  {
   "cell_type": "markdown",
   "metadata": {},
   "source": [
    "#### Visualize the distribution of the bathymetry index for the water pixels"
   ]
  },
  {
   "cell_type": "code",
   "execution_count": null,
   "metadata": {},
   "outputs": [],
   "source": [
    "import seaborn as sns\n",
    "import matplotlib.pyplot as plt\n",
    "\n",
    "plt.figure(figsize=[15,5])\n",
    "\n",
    "#Visualize the distribution of the remaining data\n",
    "sns.boxplot(ds['bathymetry'])"
   ]
  },
  {
   "cell_type": "markdown",
   "metadata": {},
   "source": [
    "> <b>Interpretation: </b> We can see that most of the values fall within a very short range.  We can scale our plot's cmap limits to fit the specific quantile ranges for the bathymetry index so we can achieve better contrast from our plots."
   ]
  },
  {
   "cell_type": "code",
   "execution_count": null,
   "metadata": {},
   "outputs": [],
   "source": [
    "#set the quantile range in either direction from the median value\n",
    "def get_quantile_range(col, quantile_range = .25):\n",
    "    low = ds[col].quantile(.5 - quantile_range,[\"time\",\"y\",\"x\"]).values\n",
    "    high = ds[col].quantile(.5 + quantile_range,[\"time\",\"y\",\"x\"]).values\n",
    "    return low,high"
   ]
  },
  {
   "cell_type": "code",
   "execution_count": null,
   "metadata": {},
   "outputs": [],
   "source": [
    "#Custom function for a color mapping object\n",
    "from matplotlib.colors import LinearSegmentedColormap\n",
    "\n",
    "def custom_color_mapper(name = \"custom\", val_range = (1.96,1.96), colors = \"RdGnBu\"):\n",
    "    custom_cmap = LinearSegmentedColormap.from_list(name,colors=colors)\n",
    "    \n",
    "    min, max = val_range\n",
    "    step = max/10.0\n",
    "    Z = [min,0],[0,max]\n",
    "    levels = np.arange(min,max+step,step)\n",
    "    cust_map = plt.contourf(Z, 100, cmap=custom_cmap)\n",
    "    plt.clf()\n",
    "    return cust_map.cmap"
   ]
  },
  {
   "cell_type": "code",
   "execution_count": null,
   "metadata": {},
   "outputs": [],
   "source": [
    "def mean_value_visual(ds, col, figsize = [15,15], cmap = \"GnBu\", low=None, high=None):\n",
    "    if low is None: low = np.min(ds[col]).values\n",
    "    if high is None: high = np.max(ds[col]).values\n",
    "    ds.reduce(np.nanmean,dim=[\"time\"])[col].plot.imshow(figsize = figsize, cmap=cmap,  vmin=low, vmax=high)"
   ]
  },
  {
   "cell_type": "markdown",
   "metadata": {},
   "source": [
    "<hr>\n",
    "\n",
    "## <a id=\"bath_vis\">Visualize the Bathymetry</a>  [&#9652;](#top)"
   ]
  },
  {
   "cell_type": "code",
   "execution_count": null,
   "metadata": {},
   "outputs": [],
   "source": [
    "mean_value_visual(ds, \"bathymetry\", cmap=\"GnBu\")"
   ]
  },
  {
   "cell_type": "markdown",
   "metadata": {},
   "source": [
    "<hr>\n",
    "\n",
    "## <a id=\"bath_vis_better\">Visualize the Bathymetry With Adjusted Contrast</a>  [&#9652;](#top)\n",
    "\n",
    "> If we clamp the range of the plot using different quantile ranges we can see relative differences in higher contrast."
   ]
  },
  {
   "cell_type": "code",
   "execution_count": null,
   "metadata": {},
   "outputs": [],
   "source": [
    "# create range using the 10th and 90th quantile\n",
    "low, high = get_quantile_range(\"bathymetry\", .40)\n",
    "\n",
    "\n",
    "custom = custom_color_mapper(val_range=(low,high),\n",
    "                             colors=[\"darkred\",\"red\",\"orange\",\"yellow\",\"green\",\"blue\",\"darkblue\",\"black\"])\n",
    "\n",
    "mean_value_visual(ds, \"bathymetry\", cmap=custom, low=low, high=high)"
   ]
  },
  {
   "cell_type": "code",
   "execution_count": null,
   "metadata": {},
   "outputs": [],
   "source": [
    "# create range using the 5th and 95th quantile\n",
    "low, high = get_quantile_range(\"bathymetry\", .45)\n",
    "\n",
    "\n",
    "custom = custom_color_mapper(val_range=(low,high),\n",
    "                             colors=[\"darkred\",\"red\",\"orange\",\"yellow\",\"green\",\"blue\",\"darkblue\",\"black\"])\n",
    "\n",
    "mean_value_visual(ds, \"bathymetry\", cmap = custom, low=low, high = high)"
   ]
  },
  {
   "cell_type": "code",
   "execution_count": null,
   "metadata": {},
   "outputs": [],
   "source": [
    "# create range using the 2nd and 98th quantile\n",
    "low, high = get_quantile_range(\"bathymetry\", .48)\n",
    "\n",
    "\n",
    "custom = custom_color_mapper(val_range=(low,high),\n",
    "                             colors=[\"darkred\",\"red\",\"orange\",\"yellow\",\"green\",\"blue\",\"darkblue\",\"black\"])\n",
    "\n",
    "mean_value_visual(ds, \"bathymetry\", cmap=custom, low=low, high=high)"
   ]
  },
  {
   "cell_type": "code",
   "execution_count": null,
   "metadata": {},
   "outputs": [],
   "source": [
    "# create range using the 1st and 99th quantile\n",
    "low, high = get_quantile_range(\"bathymetry\", .49)\n",
    "\n",
    "\n",
    "custom = custom_color_mapper(val_range=(low,high),\n",
    "                             colors=[\"darkred\",\"red\",\"orange\",\"yellow\",\"green\",\"blue\",\"darkblue\",\"black\"])\n",
    "\n",
    "mean_value_visual(ds, \"bathymetry\", cmap=custom, low=low, high=high)"
   ]
  },
  {
   "cell_type": "markdown",
   "metadata": {},
   "source": [
    "<hr>\n",
    "\n",
    "## <a id=\"export_masked\">Export the Masked GeoTIFF</a>  [&#9652;](#top)"
   ]
  },
  {
   "cell_type": "code",
   "execution_count": null,
   "metadata": {},
   "outputs": [],
   "source": [
    "export_xarray_to_geotiff(ds, \"geotiffs/landsat8/masked/masked\")"
   ]
  }
 ],
 "metadata": {
  "kernelspec": {
   "display_name": "Python 3",
   "language": "python",
   "name": "python3"
  },
  "language_info": {
   "codemirror_mode": {
    "name": "ipython",
    "version": 3
   },
   "file_extension": ".py",
   "mimetype": "text/x-python",
   "name": "python",
   "nbconvert_exporter": "python",
   "pygments_lexer": "ipython3",
   "version": "3.5.2"
  }
 },
 "nbformat": 4,
 "nbformat_minor": 2
}
