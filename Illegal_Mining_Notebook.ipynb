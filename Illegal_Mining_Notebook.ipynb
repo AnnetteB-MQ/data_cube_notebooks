{
 "cells": [
  {
   "cell_type": "markdown",
   "metadata": {},
   "source": [
    "# Illegal Mining\n",
    "<hr>\n",
    "# Notebook Summary\n",
    "\n",
    "<hr>\n",
    "# Algorithmic process  \n",
    "\n",
    "* [Import dependencies and connect to the datacube](#import)\n",
    "* [Choose platform and product](#plat_prod)\n",
    "* [Get the maximum extents of the datacube](#extents)\n",
    "* [Define extents you require that fall within the maximum extents](#define_extents) (selecting too much can make the acquisition process slow)\n",
    "* [Retrieve the data from the datacube](#retrieve_data)\n",
    "* [Obtain the clean mask](#obtain_clean_mask)\n",
    "* [Filter out clouds, scan lines, and invalid data](#clean_mask)\n",
    "* [Calculate NDVI, WOFS, and NDWI](#calculate)\n",
    "* [Examine the selected area](#area_analysis)\n",
    "\n",
    "<hr>\n",
    "# How It Works\n",
    "\n"
   ]
  },
  {
   "cell_type": "markdown",
   "metadata": {},
   "source": [
    "## <a id=\"import\">Import Dependencies and Connect to the Data Cube</a>"
   ]
  },
  {
   "cell_type": "code",
   "execution_count": 1,
   "metadata": {
    "scrolled": true
   },
   "outputs": [
    {
     "name": "stderr",
     "output_type": "stream",
     "text": [
      "/home/localuser/Datacube/datacube_env/lib/python3.5/site-packages/psycopg2-2.7.5-py3.5-linux-x86_64.egg/psycopg2/__init__.py:144: UserWarning: The psycopg2 wheel package will be renamed from release 2.8; in order to keep installing from binary please use \"pip install psycopg2-binary\" instead. For details see: <http://initd.org/psycopg/docs/install.html#binary-install-from-pypi>.\n",
      "  \"\"\")\n"
     ]
    }
   ],
   "source": [
    "%matplotlib inline\n",
    "import warnings\n",
    "import matplotlib.pyplot as plt\n",
    "\n",
    "# Import the datacube and the API\n",
    "import datacube\n",
    "from utils.data_cube_utilities.data_access_api import DataAccessApi\n",
    "import datetime as dt\n",
    "import numpy as np\n",
    "import xarray as xr\n",
    "\n",
    "from matplotlib.colors import LinearSegmentedColormap"
   ]
  },
  {
   "cell_type": "code",
   "execution_count": 2,
   "metadata": {},
   "outputs": [],
   "source": [
    "# Create an instance of the datacube and API.\n",
    "api = DataAccessApi(config=\"/home/localuser/.datacube.conf\")\n",
    "dc = api.dc"
   ]
  },
  {
   "cell_type": "markdown",
   "metadata": {},
   "source": [
    "## <a id=\"plat_prod\">Choose Platform and Product</a>"
   ]
  },
  {
   "cell_type": "markdown",
   "metadata": {},
   "source": [
    "**List available products for each platform**"
   ]
  },
  {
   "cell_type": "code",
   "execution_count": 3,
   "metadata": {
    "scrolled": true
   },
   "outputs": [
    {
     "name": "stdout",
     "output_type": "stream",
     "text": [
      "LANDSAT 7 Products:\n"
     ]
    },
    {
     "data": {
      "text/html": [
       "<div>\n",
       "<style scoped>\n",
       "    .dataframe tbody tr th:only-of-type {\n",
       "        vertical-align: middle;\n",
       "    }\n",
       "\n",
       "    .dataframe tbody tr th {\n",
       "        vertical-align: top;\n",
       "    }\n",
       "\n",
       "    .dataframe thead th {\n",
       "        text-align: right;\n",
       "    }\n",
       "</style>\n",
       "<table border=\"1\" class=\"dataframe\">\n",
       "  <thead>\n",
       "    <tr style=\"text-align: right;\">\n",
       "      <th></th>\n",
       "      <th>platform</th>\n",
       "      <th>name</th>\n",
       "    </tr>\n",
       "    <tr>\n",
       "      <th>id</th>\n",
       "      <th></th>\n",
       "      <th></th>\n",
       "    </tr>\n",
       "  </thead>\n",
       "  <tbody>\n",
       "    <tr>\n",
       "      <th>0</th>\n",
       "      <td>LANDSAT_7</td>\n",
       "      <td>ls7_collections_sr_scene</td>\n",
       "    </tr>\n",
       "    <tr>\n",
       "      <th>1</th>\n",
       "      <td>LANDSAT_7</td>\n",
       "      <td>ls7_ledaps_ghana</td>\n",
       "    </tr>\n",
       "    <tr>\n",
       "      <th>2</th>\n",
       "      <td>LANDSAT_7</td>\n",
       "      <td>ls7_ledaps_ghana_sample</td>\n",
       "    </tr>\n",
       "  </tbody>\n",
       "</table>\n",
       "</div>"
      ],
      "text/plain": [
       "     platform                      name\n",
       "id                                     \n",
       "0   LANDSAT_7  ls7_collections_sr_scene\n",
       "1   LANDSAT_7          ls7_ledaps_ghana\n",
       "2   LANDSAT_7   ls7_ledaps_ghana_sample"
      ]
     },
     "execution_count": 3,
     "metadata": {},
     "output_type": "execute_result"
    }
   ],
   "source": [
    "# Get available products\n",
    "products_info = dc.list_products()\n",
    "\n",
    "# List LANDSAT 7 products\n",
    "print(\"LANDSAT 7 Products:\")\n",
    "products_info[[\"platform\", \"name\"]][products_info.platform == \"LANDSAT_7\"]"
   ]
  },
  {
   "cell_type": "code",
   "execution_count": 4,
   "metadata": {
    "scrolled": true
   },
   "outputs": [
    {
     "name": "stdout",
     "output_type": "stream",
     "text": [
      "LANDSAT 8 Products:\n"
     ]
    },
    {
     "data": {
      "text/html": [
       "<div>\n",
       "<style scoped>\n",
       "    .dataframe tbody tr th:only-of-type {\n",
       "        vertical-align: middle;\n",
       "    }\n",
       "\n",
       "    .dataframe tbody tr th {\n",
       "        vertical-align: top;\n",
       "    }\n",
       "\n",
       "    .dataframe thead th {\n",
       "        text-align: right;\n",
       "    }\n",
       "</style>\n",
       "<table border=\"1\" class=\"dataframe\">\n",
       "  <thead>\n",
       "    <tr style=\"text-align: right;\">\n",
       "      <th></th>\n",
       "      <th>platform</th>\n",
       "      <th>name</th>\n",
       "    </tr>\n",
       "    <tr>\n",
       "      <th>id</th>\n",
       "      <th></th>\n",
       "      <th></th>\n",
       "    </tr>\n",
       "  </thead>\n",
       "  <tbody>\n",
       "  </tbody>\n",
       "</table>\n",
       "</div>"
      ],
      "text/plain": [
       "Empty DataFrame\n",
       "Columns: [platform, name]\n",
       "Index: []"
      ]
     },
     "execution_count": 4,
     "metadata": {},
     "output_type": "execute_result"
    }
   ],
   "source": [
    "# List LANDSAT 8 products\n",
    "print(\"LANDSAT 8 Products:\")\n",
    "products_info[[\"platform\", \"name\"]][products_info.platform == \"LANDSAT_8\"]"
   ]
  },
  {
   "cell_type": "markdown",
   "metadata": {},
   "source": [
    "**Choose products**"
   ]
  },
  {
   "cell_type": "code",
   "execution_count": 5,
   "metadata": {},
   "outputs": [],
   "source": [
    "# These are the platforms (satellites) and products (datacube sets) \n",
    "# used for this demonstration.\n",
    "use_Landsat7 = True\n",
    "use_Landsat8 = False\n",
    "platforms = []\n",
    "products = []\n",
    "if use_Landsat7:\n",
    "    platforms.append('LANDSAT_7')\n",
    "    products.append('ls7_ledaps_ghana_sample')\n",
    "# if use_Landsat8:\n",
    "#     platforms.append('LANDSAT_8')\n",
    "#     products.append('ls8_lasrc_ghana')"
   ]
  },
  {
   "cell_type": "markdown",
   "metadata": {},
   "source": [
    "## <a id=\"extents\">Get the Extents of the Cube</a>"
   ]
  },
  {
   "cell_type": "code",
   "execution_count": 6,
   "metadata": {},
   "outputs": [
    {
     "name": "stderr",
     "output_type": "stream",
     "text": [
      "/home/localuser/Datacube/data_cube_notebooks/utils/data_cube_utilities/data_access_api.py:184: FutureWarning: casting an xarray.Dataset to a boolean will change in xarray v0.11 to only include data variables, not coordinates. Cast the Dataset.variables property instead to preserve existing behavior in a forwards compatible manner.\n",
      "  if not dataset:\n"
     ]
    },
    {
     "data": {
      "text/html": [
       "<div style=\"width:100%;\"><div style=\"position:relative;width:100%;height:0;padding-bottom:60%;\"><iframe src=\"data:text/html;charset=utf-8;base64,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\" style=\"position:absolute;width:100%;height:100%;left:0;top:0;border:none !important;\" allowfullscreen webkitallowfullscreen mozallowfullscreen></iframe></div></div>"
      ],
      "text/plain": [
       "<folium.folium.Map at 0x7f32f8f11cf8>"
      ]
     },
     "execution_count": 6,
     "metadata": {},
     "output_type": "execute_result"
    }
   ],
   "source": [
    "from utils.data_cube_utilities.dc_display_map import display_map\n",
    "\n",
    "min_max_dates = np.empty((len(platforms), 2), dtype=object)\n",
    "min_max_lat = np.empty((len(platforms), 2))\n",
    "min_max_lon = np.empty((len(platforms), 2))\n",
    "for i, (platform, product) in enumerate(zip(platforms, products)):\n",
    "    # Get the extents of the cube\n",
    "    descriptor = api.get_query_metadata(platform=platform, product=product)\n",
    "\n",
    "    # Save extents\n",
    "    min_max_dates[i] = descriptor['time_extents']\n",
    "    min_max_lat[i] = descriptor['lat_extents']\n",
    "    min_max_lon[i] = descriptor['lon_extents']\n",
    "    \n",
    "# Determine minimum and maximum longitudes that bound a common area among products\n",
    "min_lon = np.max(min_max_lon[:,0]) # The greatest minimum longitude among products\n",
    "max_lon = np.min(min_max_lon[:,1]) # The smallest maximum longitude among products\n",
    "min_lat = np.max(min_max_lat[:,0])\n",
    "max_lat = np.min(min_max_lat[:,1])\n",
    "full_lon = (min_lon, max_lon)\n",
    "full_lat = (min_lat, max_lat)\n",
    "# Display the total shared area available for these datacube products.\n",
    "display_map(latitude = full_lat,longitude = full_lon)"
   ]
  },
  {
   "cell_type": "markdown",
   "metadata": {},
   "source": [
    "## <a id=\"define_extents\">Define the Extents of the Analysis</a>"
   ]
  },
  {
   "cell_type": "markdown",
   "metadata": {},
   "source": [
    "**Specify start and end dates in the same order as platforms and products**"
   ]
  },
  {
   "cell_type": "code",
   "execution_count": 7,
   "metadata": {},
   "outputs": [],
   "source": [
    "# Use these four lines to select the time slice common to all products.\n",
    "# min_start_date_mutual = np.max(min_max_dates[:,0])\n",
    "# max_end_date_mutual = np.min(min_max_dates[:,1])\n",
    "# start_dates = [min_start_date_mutual, min_start_date_mutual]\n",
    "# end_dates = [max_end_date_mutual, max_end_date_mutual]\n",
    "# Use these two lines to select all data available to each product.\n",
    "# start_dates = min_max_dates[:,0]\n",
    "# end_dates = min_max_dates[:,1]\n",
    "# Select a subset of the time available.\n",
    "start_dates = (dt.datetime(2016,1,1), dt.datetime(2016,1,1))\n",
    "end_dates = (dt.datetime(2017,12,1), dt.datetime(2017,12,1))"
   ]
  },
  {
   "cell_type": "markdown",
   "metadata": {},
   "source": [
    "**Specify an area to analyze**"
   ]
  },
  {
   "cell_type": "markdown",
   "metadata": {},
   "source": [
    "**No data returned**"
   ]
  },
  {
   "cell_type": "code",
   "execution_count": 8,
   "metadata": {},
   "outputs": [],
   "source": [
    "# min_lat_small, max_lat_small = (0.5393, 0.7664) # Lake Baringo (Kenya)\n",
    "# min_lon_small, max_lon_small = (35.9376, 36.1437) # Lake Baringo (Kenya)"
   ]
  },
  {
   "cell_type": "markdown",
   "metadata": {},
   "source": [
    "**Large regions**"
   ]
  },
  {
   "cell_type": "code",
   "execution_count": 9,
   "metadata": {},
   "outputs": [],
   "source": [
    "# min_lat_small, max_lat_small = (8.4, 9.4) # Ghana (full)\n",
    "# min_lon_small, max_lon_small = (-1.6, -0.6) # Ghana (full)\n",
    "min_lat_small, max_lat_small = (8.85, 8.9) # Ghana (small)\n",
    "min_lon_small, max_lon_small = (-1.75, -1.7) # Ghana (small)\n",
    "# min_lat_small, max_lat_small = (6.2, 6.4) # Ghana (Illegal Mining - Bibiani Forest District)\n",
    "# min_lon_small, max_lon_small = (-2.25, -2.05) # Ghana (Illegal Mining - Bibiani Forest District)\n",
    "# min_lat_small, max_lat_small = (6.225, 6.3) # Ghana (Illegal Mining - Begoro Forest District)\n",
    "# min_lon_small, max_lon_small = (-0.575,-0.525) # Ghana (Illegal Mining - Begoro Forest District)\n",
    "# min_lat_small, max_lat_small = (5.05, 5.15) # Ghana (Ampansie - Southwest - Brian region)\n",
    "# min_lon_small, max_lon_small = (-2.30,-2.20) # Ghana (Ampansie - Southwest - Brian region)\n",
    "# min_lat_small, max_lat_small = (6.1, 6.2) # Ghana (Illegal Mining - Kade Forest District)\n",
    "# min_lon_small, max_lon_small = (-0.85, -0.75) # Ghana (Illegal Mining - Kade Forest District)\n",
    "# min_lat_small, max_lat_small = (5.10, 5.14) # Ghana (Brian-SOUTH)\n",
    "# min_lon_small, max_lon_small = (-2.26, -2.22) # Ghana (Brian-SOUTH)\n",
    "# min_lat_small, max_lat_small = (6.7083,6.7285) # Ghana (research paper)\n",
    "# min_lon_small, max_lon_small = (-2.0750,-2.0183) # Ghana (research paper)"
   ]
  },
  {
   "cell_type": "markdown",
   "metadata": {},
   "source": [
    "**Small regions (sites)**"
   ]
  },
  {
   "cell_type": "code",
   "execution_count": 10,
   "metadata": {
    "scrolled": true
   },
   "outputs": [],
   "source": [
    "# Specify latitude and longitude bounds of an interesting area within the full extents.\n",
    "# shown in the metadata report above (reduce area for faster processing times).\n",
    "\n",
    "# No conclusive results.\n",
    "# min_lat_small, max_lat_small = (5.51, 5.52) # Tarkwa Forest District #1\n",
    "# min_lon_small, max_lon_small = (-1.837, -1.827) # Tarkwa Forest District #1\n",
    "\n",
    "# min_lat_small, max_lat_small = (6.5016, 6.5821) # Lake Volta (WOFS Test)\n",
    "# min_lon_small, max_lon_small = (-0.1618, -0.055) # Lake Volta (WOFS Test)\n",
    "# min_lat_small, max_lat_small = (6.5116, 6.5321) # Lake Volta (WOFS Test small)\n",
    "# min_lon_small, max_lon_small = (-0.1618, -0.155) # Lake Volta (WOFS Test small)\n",
    "\n",
    "# Choose an interesting point within the specified area (a pixel, not an area).\n",
    "\n",
    "# lat_point, lon_point = (8.875, -1.70)\n",
    "# lat_point, lon_point = (5.12, -2.24) # Ghana (Ampansie - Southwest -Brian region)\n",
    "# lat_point, lon_point = (6.7204, -2.0266) # Ghana (research paper - POI 1)\n",
    "# lat_point, lon_point = (6.7176, -2.0310) # Ghana (research paper - POI 2)\n",
    "# lat_point, lon_point = (5.1143, -2.2430) # Ghana (Brian-SOUTH) #1\n",
    "# lat_point, lon_point = (5.1110, -2.2463) # Ghana (Brian-SOUTH) #2\n",
    "# lat_point, lon_point = (6.203758489, -1.419891117) #(Illegal Mining - median)"
   ]
  },
  {
   "cell_type": "markdown",
   "metadata": {},
   "source": [
    "**Visualize the selected area**"
   ]
  },
  {
   "cell_type": "code",
   "execution_count": 11,
   "metadata": {
    "scrolled": true
   },
   "outputs": [
    {
     "data": {
      "text/html": [
       "<div style=\"width:100%;\"><div style=\"position:relative;width:100%;height:0;padding-bottom:60%;\"><iframe src=\"data:text/html;charset=utf-8;base64,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\" style=\"position:absolute;width:100%;height:100%;left:0;top:0;border:none !important;\" allowfullscreen webkitallowfullscreen mozallowfullscreen></iframe></div></div>"
      ],
      "text/plain": [
       "<folium.folium.Map at 0x7f32f9d45d30>"
      ]
     },
     "execution_count": 11,
     "metadata": {},
     "output_type": "execute_result"
    }
   ],
   "source": [
    "lon_small = (min_lon_small, max_lon_small)\n",
    "lat_small = (min_lat_small, max_lat_small)\n",
    "display_map(lat_small, lon_small)"
   ]
  },
  {
   "cell_type": "markdown",
   "metadata": {},
   "source": [
    "## <a id=\"retrieve_data\">Retrieve the data from the datacube</a>"
   ]
  },
  {
   "cell_type": "code",
   "execution_count": 12,
   "metadata": {
    "scrolled": false
   },
   "outputs": [],
   "source": [
    "from utils.data_cube_utilities import dc_mosaic\n",
    "from utils.data_cube_utilities import clean_mask\n",
    "import importlib\n",
    "importlib.reload(dc_mosaic)\n",
    "importlib.reload(clean_mask)\n",
    "\n",
    "from datetime import datetime as dt\n",
    "from utils.data_cube_utilities.clean_mask import landsat_qa_clean_mask, landsat_clean_mask_invalid\n",
    "\n",
    "cleaned_datasets = {}\n",
    "clean_masks = {}\n",
    "water_masks = {}\n",
    "measurements = ['red', 'blue', 'green', 'nir', 'swir1', 'swir2', 'pixel_qa']\n",
    "for i, (product,platform) in enumerate(zip(products, platforms)):\n",
    "    start_date = start_dates[i]\n",
    "    end_date = end_dates[i]\n",
    "    # Query the Data Cube\n",
    "    dataset = dc.load(lat = lat_small,\n",
    "                      lon = lon_small,\n",
    "                      platform = platform,\n",
    "                      time = (start_date, end_date),\n",
    "                      product = product,\n",
    "                      measurements = measurements)\n",
    "    if len(dataset.dims) > 0: # Sometimes data is not returned.\n",
    "        # Get the clean mask for the appropriate LANDSAT satellite platform.\n",
    "        clean_mask = landsat_qa_clean_mask(dataset, platform)\n",
    "        clean_masks[platform] = clean_mask\n",
    "        # Remove clouds.\n",
    "        cleaned_dataset = dataset.where(clean_mask)\n",
    "        # Remove data that is ouside the accepted range of LANDSAT 7 and 8.\n",
    "        cleaned_dataset = landsat_clean_mask_invalid(cleaned_dataset)\n",
    "        cleaned_datasets[platform] = cleaned_dataset\n",
    "        # Get a mask for points in the retrieved datacube which this Landsat platforms' pixel_qa band classifies as water.\n",
    "        water_masks[platform] = landsat_qa_clean_mask(dataset, platform, cover_types=['water'])\n",
    "assert len(cleaned_datasets) > 0, \"No data was retrieved.\""
   ]
  },
  {
   "cell_type": "markdown",
   "metadata": {},
   "source": [
    "**Combine the data**"
   ]
  },
  {
   "cell_type": "code",
   "execution_count": 13,
   "metadata": {
    "scrolled": false
   },
   "outputs": [],
   "source": [
    "from utils.data_cube_utilities.sort import xarray_sortby_coord\n",
    "if len(cleaned_datasets) > 1: # If mutliple non-empty datasets were retrieved, merge them and sort by time.\n",
    "    # Merge datasets.\n",
    "    cleaned_datasets_list = list(cleaned_datasets.values())\n",
    "    cleaned_dataset = xr.concat(cleaned_datasets_list, dim='time')\n",
    "    cleaned_dataset = xarray_sortby_coord(cleaned_dataset, 'time')\n",
    "    # Merge water masks.\n",
    "    water_masks_list = list(water_masks.values())\n",
    "    water_mask = xr.concat(water_masks_list, dim='time')\n",
    "    water_mask = xarray_sortby_coord(water_mask, 'time')\n",
    "else: # Select the first.\n",
    "    cleaned_dataset = cleaned_datasets[list(cleaned_datasets.keys())[0]]\n",
    "    water_mask = water_masks[list(water_masks.keys())[0]]"
   ]
  },
  {
   "cell_type": "markdown",
   "metadata": {},
   "source": [
    "## <a id=\"calculate\">Calculate NDVI, WOFS, and NDWI</a>"
   ]
  },
  {
   "cell_type": "code",
   "execution_count": 14,
   "metadata": {},
   "outputs": [],
   "source": [
    "from utils.data_cube_utilities.dc_ndvi_anomaly import NDVI\n",
    "from utils.data_cube_utilities.dc_water_classifier import NDWI, wofs_classify\n",
    "from utils.data_cube_utilities.dc_utilities import ignore_warnings\n",
    "# NDVI\n",
    "ndvi_arr = NDVI(cleaned_dataset)\n",
    "cleaned_dataset['ndvi'] = ndvi_arr\n",
    "# WOFS\n",
    "wofs_arr = ignore_warnings(wofs_classify, cleaned_dataset).wofs\n",
    "wofs_arr = wofs_arr.where(wofs_arr!=-9999)\n",
    "cleaned_dataset['wofs'] = wofs_arr\n",
    "# NDWI\n",
    "ndwi_arr = NDWI(cleaned_dataset)\n",
    "cleaned_dataset['ndwi'] = ndwi_arr"
   ]
  },
  {
   "cell_type": "markdown",
   "metadata": {},
   "source": [
    "## <a id=\"area_analysis\">Examine the selected area</a>"
   ]
  },
  {
   "cell_type": "code",
   "execution_count": 15,
   "metadata": {},
   "outputs": [],
   "source": [
    "from utils.data_cube_utilities import clean_mask\n",
    "import importlib\n",
    "importlib.reload(clean_mask)\n",
    "\n",
    "ls_wtr_cls = cleaned_dataset.red.copy()\n",
    "ls_wtr_cls.name = 'ls_wtr_cls'\n",
    "ls_wtr_cls.values = water_mask.astype(ls_wtr_cls.dtype)\n",
    "cleaned_dataset['ls_wtr_cls'] = ls_wtr_cls"
   ]
  },
  {
   "cell_type": "code",
   "execution_count": 16,
   "metadata": {},
   "outputs": [
    {
     "name": "stdout",
     "output_type": "stream",
     "text": [
      "<xarray.Dataset>\n",
      "Dimensions:     (latitude: 186, longitude: 186, time: 5)\n",
      "Coordinates:\n",
      "  * time        (time) datetime64[ns] 2016-01-13T10:28:52 ...\n",
      "  * latitude    (latitude) float64 8.9 8.9 8.899 8.899 8.899 8.899 8.898 ...\n",
      "  * longitude   (longitude) float64 -1.75 -1.75 -1.749 -1.749 -1.749 -1.749 ...\n",
      "Data variables:\n",
      "    red         (time, latitude, longitude) float64 nan nan 1.102e+03 ...\n",
      "    blue        (time, latitude, longitude) float64 nan nan 671.0 671.0 ...\n",
      "    green       (time, latitude, longitude) float64 nan nan 806.0 806.0 ...\n",
      "    nir         (time, latitude, longitude) float64 nan nan 1.928e+03 ...\n",
      "    swir1       (time, latitude, longitude) float64 nan nan 2.551e+03 ...\n",
      "    swir2       (time, latitude, longitude) float64 nan nan 1.819e+03 ...\n",
      "    pixel_qa    (time, latitude, longitude) float64 nan nan 66.0 66.0 66.0 ...\n",
      "    ndvi        (time, latitude, longitude) float64 nan nan 0.2726 0.2 0.187 ...\n",
      "    wofs        (time, latitude, longitude) float64 0.0 0.0 0.0 0.0 0.0 0.0 ...\n",
      "    ndwi        (time, latitude, longitude) float64 nan nan -0.1391 -0.2136 ...\n",
      "    ls_wtr_cls  (time, latitude, longitude) float64 0.0 0.0 0.0 0.0 0.0 0.0 ...\n",
      "Attributes:\n",
      "    crs:      EPSG:4326\n"
     ]
    }
   ],
   "source": [
    "print(cleaned_dataset)"
   ]
  },
  {
   "cell_type": "code",
   "execution_count": 17,
   "metadata": {
    "scrolled": false
   },
   "outputs": [],
   "source": [
    "# for i in range(0, len(ndvi_arr.time), 10):\n",
    "#     ndvi_arr.isel(time=i).plot()\n",
    "#     plt.show()"
   ]
  },
  {
   "cell_type": "markdown",
   "metadata": {},
   "source": [
    "**Test that WOFS is being performed correctly**"
   ]
  },
  {
   "cell_type": "code",
   "execution_count": 18,
   "metadata": {},
   "outputs": [],
   "source": [
    "# print(\"Sum of WOFS classifications (each is 0 or 1):\", ndvi_wofs_combined.wofs.sum())\n",
    "# ndvi_wofs_combined.wofs.isel(time=10).plot()\n",
    "# plt.show()"
   ]
  },
  {
   "cell_type": "markdown",
   "metadata": {},
   "source": [
    "**Testing bins**"
   ]
  },
  {
   "cell_type": "code",
   "execution_count": 19,
   "metadata": {},
   "outputs": [],
   "source": [
    "# from utils.data_cube_utilities import illegal_mining_notebook_utils\n",
    "# from utils.data_cube_utilities.dc_rgb import rgb\n",
    "# import importlib\n",
    "# importlib.reload(illegal_mining_notebook_utils)\n",
    "# from utils.data_cube_utilities.illegal_mining_notebook_utils import bin_time\n",
    "\n",
    "# # bin_time(ndvi_wofs_combined.isel(time=slice(0,10)), bins=5)\n",
    "# # print(ndvi_wofs_combined.isel(time=slice(80,90)))\n",
    "# # print(ndvi_wofs_combined.isel(time=slice(80,90)).ndvi.values)\n",
    "# # plt.plot(ndvi_wofs_combined.isel(time=65).ndvi.values)\n",
    "# print(ndvi_wofs_combined.isel(time=slice(0,100)).groupby_bins('time', 5).mean('time'))"
   ]
  },
  {
   "cell_type": "markdown",
   "metadata": {},
   "source": [
    "## Box-and-Whisker Plot by Full Time Period, Week, Month, Week of Year, or Month of Year."
   ]
  },
  {
   "cell_type": "markdown",
   "metadata": {},
   "source": [
    "### Plot of Mean by Month"
   ]
  },
  {
   "cell_type": "code",
   "execution_count": 20,
   "metadata": {
    "scrolled": false
   },
   "outputs": [
    {
     "name": "stdout",
     "output_type": "stream",
     "text": [
      "NDVI and WOFS (Mean by Month)\n"
     ]
    },
    {
     "data": {
      "image/png": "[encoded data removed]",
      "text/plain": [
       "<Figure size 864x432 with 1 Axes>"
      ]
     },
     "metadata": {},
     "output_type": "display_data"
    }
   ],
   "source": [
    "from utils.data_cube_utilities import plotter_utils\n",
    "import importlib\n",
    "importlib.reload(plotter_utils)\n",
    "from utils.data_cube_utilities.plotter_utils import xarray_time_series_plot\n",
    "\n",
    "# Specify whether to plot a cubic spline curve fit of NDVI.\n",
    "plot_cubic_spline_ndvi = True\n",
    "\n",
    "ndvi_color = 'forestgreen'\n",
    "wofs_color = 'blue'\n",
    "ls_wtr_cls_color = 'lightblue'\n",
    "ndwi_color = 'aqua'\n",
    "alpha = 0.8 # Standard amount of transparency.\n",
    "\n",
    "# Can be one of [None, 'week', 'month', 'weekofyear', 'monthofyear'].\n",
    "# for bin_by in [None, 'week', 'month', 'weekofyear', 'monthofyear']:\n",
    "for bin_by in ['month']:\n",
    "    aggregated_by_str = None\n",
    "    if bin_by is None:\n",
    "        plotting_data = cleaned_dataset\n",
    "    elif bin_by == 'week':\n",
    "        plotting_data = cleaned_dataset.resample(time='1w').mean()\n",
    "        aggregated_by_str = 'Week'\n",
    "    elif bin_by == 'month':\n",
    "        plotting_data = cleaned_dataset.resample(time='1m').mean()\n",
    "        aggregated_by_str = 'Month'\n",
    "    elif bin_by == 'weekofyear':\n",
    "        plotting_data = cleaned_dataset.groupby('time.week').mean(dim=('time'))\n",
    "        aggregated_by_str = 'Week of Year'\n",
    "    elif bin_by == 'monthofyear':\n",
    "        plotting_data = cleaned_dataset.groupby('time.month').mean(dim=('time'))\n",
    "        aggregated_by_str = 'Month of Year'\n",
    "    \n",
    "    params = dict(dataset=plotting_data, \n",
    "              plot_descs={'ndvi':       {'mean': [{'line': {'color': ndvi_color, 'alpha':alpha}}],\n",
    "                                         'none':  [{'box': {'boxprops': {'facecolor':ndvi_color, 'alpha':alpha}, \n",
    "                                                            'showfliers':False}}]},\n",
    "                          'wofs':       {'mean': [{'line': {'color': wofs_color, 'alpha':alpha}}]},\n",
    "                          'ls_wtr_cls': {'mean': [{'line': {'color': ls_wtr_cls_color, 'alpha':alpha}}]},\n",
    "                          'ndwi':       {'mean': [{'line': {'color': ndwi_color, 'alpha':alpha}}]}},\n",
    "              fig_params={'figsize':(12,6)})\n",
    "    if plot_cubic_spline_ndvi:\n",
    "        params['plot_descs']['ndvi']['mean'].append({'cubic_spline':{}})\n",
    "    xarray_time_series_plot(**params)\n",
    "    print(\"NDVI and WOFS {}\".format(\"(Mean by {})\".format(aggregated_by_str) if aggregated_by_str is not None else \"\"))"
   ]
  },
  {
   "cell_type": "markdown",
   "metadata": {},
   "source": [
    "### Plot of Median by Month"
   ]
  },
  {
   "cell_type": "code",
   "execution_count": 21,
   "metadata": {
    "scrolled": false
   },
   "outputs": [
    {
     "name": "stdout",
     "output_type": "stream",
     "text": [
      "NDVI and WOFS (Median by Month)\n"
     ]
    },
    {
     "data": {
      "image/png": "[encoded data removed]",
      "text/plain": [
       "<Figure size 864x432 with 1 Axes>"
      ]
     },
     "metadata": {},
     "output_type": "display_data"
    }
   ],
   "source": [
    "from utils.data_cube_utilities import plotter_utils\n",
    "import importlib\n",
    "importlib.reload(plotter_utils)\n",
    "from utils.data_cube_utilities.plotter_utils import xarray_time_series_plot\n",
    "\n",
    "# Specify whether to plot a cubic spline curve fit of NDVI.\n",
    "plot_cubic_spline_ndvi = True\n",
    "\n",
    "ndvi_color = 'forestgreen'\n",
    "wofs_color = 'blue'\n",
    "ls_wtr_cls_color = 'lightblue'\n",
    "ndwi_color = 'aqua'\n",
    "alpha = 0.8 # Standard amount of transparency.\n",
    "\n",
    "# Can be one of [None, 'week', 'month', 'weekofyear', 'monthofyear'].\n",
    "# for bin_by in [None, 'week', 'month', 'weekofyear', 'monthofyear']:\n",
    "for bin_by in ['month']:\n",
    "    aggregated_by_str = None\n",
    "    if bin_by is None:\n",
    "        plotting_data = cleaned_dataset\n",
    "    elif bin_by == 'week':\n",
    "        plotting_data = cleaned_dataset.resample(time='1w').median()\n",
    "        aggregated_by_str = 'Week'\n",
    "    elif bin_by == 'month':\n",
    "        plotting_data = cleaned_dataset.resample(time='1m').median()\n",
    "        aggregated_by_str = 'Month'\n",
    "    elif bin_by == 'weekofyear':\n",
    "        plotting_data = cleaned_dataset.groupby('time.week').median(dim=('time'))\n",
    "        aggregated_by_str = 'Week of Year'\n",
    "    elif bin_by == 'monthofyear':\n",
    "        plotting_data = cleaned_dataset.groupby('time.month').median(dim=('time'))\n",
    "        aggregated_by_str = 'Month of Year'\n",
    "    \n",
    "    params = dict(dataset=plotting_data, \n",
    "              plot_descs={'ndvi':       {'median': [{'line': {'color': ndvi_color, 'alpha':alpha}}],\n",
    "                                         'none':  [{'box': {'boxprops': {'facecolor':ndvi_color, 'alpha':alpha}, \n",
    "                                                            'showfliers':False}}]},\n",
    "                          'wofs':       {'median': [{'line': {'color': wofs_color, 'alpha':alpha}}]},\n",
    "                          'ls_wtr_cls': {'median': [{'line': {'color': ls_wtr_cls_color, 'alpha':alpha}}]},\n",
    "                          'ndwi':       {'median': [{'line': {'color': ndwi_color, 'alpha':alpha}}]}},\n",
    "              fig_params={'figsize':(12,6)})\n",
    "    if plot_cubic_spline_ndvi:\n",
    "        params['plot_descs']['ndvi']['median'].append({'cubic_spline':{}})\n",
    "    xarray_time_series_plot(**params)\n",
    "    print(\"NDVI and WOFS {}\".format(\"(Median by {})\".format(aggregated_by_str) if aggregated_by_str is not None else \"\"))"
   ]
  },
  {
   "cell_type": "markdown",
   "metadata": {},
   "source": [
    "### Plot of Mean by Week"
   ]
  },
  {
   "cell_type": "code",
   "execution_count": 22,
   "metadata": {
    "scrolled": false
   },
   "outputs": [
    {
     "name": "stdout",
     "output_type": "stream",
     "text": [
      "NDVI and WOFS (Mean by Week)\n"
     ]
    },
    {
     "data": {
      "image/png": "[encoded data removed]",
      "text/plain": [
       "<Figure size 864x432 with 1 Axes>"
      ]
     },
     "metadata": {},
     "output_type": "display_data"
    }
   ],
   "source": [
    "from utils.data_cube_utilities import plotter_utils\n",
    "import importlib\n",
    "importlib.reload(plotter_utils)\n",
    "from utils.data_cube_utilities.plotter_utils import xarray_time_series_plot\n",
    "\n",
    "# Specify whether to plot a cubic spline curve fit of NDVI.\n",
    "plot_cubic_spline_ndvi = True\n",
    "\n",
    "ndvi_color = 'forestgreen'\n",
    "wofs_color = 'blue'\n",
    "ls_wtr_cls_color = 'lightblue'\n",
    "ndwi_color = 'aqua'\n",
    "alpha = 0.8 # Standard amount of transparency.\n",
    "\n",
    "# Can be one of [None, 'week', 'month', 'weekofyear', 'monthofyear'].\n",
    "# for bin_by in [None, 'week', 'month', 'weekofyear', 'monthofyear']:\n",
    "for bin_by in ['week']:\n",
    "    aggregated_by_str = None\n",
    "    if bin_by is None:\n",
    "        plotting_data = cleaned_dataset\n",
    "    elif bin_by == 'week':\n",
    "        plotting_data = cleaned_dataset.resample(time='1w').mean()\n",
    "        aggregated_by_str = 'Week'\n",
    "    elif bin_by == 'month':\n",
    "        plotting_data = cleaned_dataset.resample(time='1m').mean()\n",
    "        aggregated_by_str = 'Month'\n",
    "    elif bin_by == 'weekofyear':\n",
    "        plotting_data = cleaned_dataset.groupby('time.week').mean(dim=('time'))\n",
    "        aggregated_by_str = 'Week of Year'\n",
    "    elif bin_by == 'monthofyear':\n",
    "        plotting_data = cleaned_dataset.groupby('time.month').mean(dim=('time'))\n",
    "        aggregated_by_str = 'Month of Year'\n",
    "    \n",
    "    params = dict(dataset=plotting_data, \n",
    "              plot_descs={'ndvi':       {'mean': [{'line': {'color': ndvi_color, 'alpha':alpha}}],\n",
    "                                         'none':  [{'box': {'boxprops': {'facecolor':ndvi_color, 'alpha':alpha}, \n",
    "                                                            'showfliers':False}}]},\n",
    "                          'wofs':       {'mean': [{'line': {'color': wofs_color, 'alpha':alpha}}]},\n",
    "                          'ls_wtr_cls': {'mean': [{'line': {'color': ls_wtr_cls_color, 'alpha':alpha}}]},\n",
    "                          'ndwi':       {'mean': [{'line': {'color': ndwi_color, 'alpha':alpha}}]}},\n",
    "              fig_params={'figsize':(12,6)}, show_legend=False)\n",
    "    if plot_cubic_spline_ndvi:\n",
    "        params['plot_descs']['ndvi']['mean'].append({'cubic_spline':{}})\n",
    "    xarray_time_series_plot(**params, max_times_per_plot=20)\n",
    "    print(\"NDVI and WOFS {}\".format(\"(Mean by {})\".format(aggregated_by_str) if aggregated_by_str is not None else \"\"))"
   ]
  },
  {
   "cell_type": "markdown",
   "metadata": {},
   "source": [
    "### Plot of Median by Week"
   ]
  },
  {
   "cell_type": "code",
   "execution_count": 23,
   "metadata": {
    "scrolled": false
   },
   "outputs": [
    {
     "name": "stdout",
     "output_type": "stream",
     "text": [
      "NDVI and WOFS (Median by Week)\n"
     ]
    },
    {
     "data": {
      "image/png": "[encoded data removed]",
      "text/plain": [
       "<Figure size 864x432 with 1 Axes>"
      ]
     },
     "metadata": {},
     "output_type": "display_data"
    }
   ],
   "source": [
    "from utils.data_cube_utilities import plotter_utils\n",
    "import importlib\n",
    "importlib.reload(plotter_utils)\n",
    "from utils.data_cube_utilities.plotter_utils import xarray_time_series_plot\n",
    "\n",
    "# Specify whether to plot a cubic spline curve fit of NDVI.\n",
    "plot_cubic_spline_ndvi = True\n",
    "\n",
    "ndvi_color = 'forestgreen'\n",
    "wofs_color = 'blue'\n",
    "ls_wtr_cls_color = 'lightblue'\n",
    "ndwi_color = 'aqua'\n",
    "alpha = 0.8 # Standard amount of transparency.\n",
    "\n",
    "# Can be one of [None, 'week', 'month', 'weekofyear', 'monthofyear'].\n",
    "# for bin_by in [None, 'week', 'month', 'weekofyear', 'monthofyear']:\n",
    "for bin_by in ['week']:\n",
    "    aggregated_by_str = None\n",
    "    if bin_by is None:\n",
    "        plotting_data = cleaned_dataset\n",
    "    elif bin_by == 'week':\n",
    "        plotting_data = cleaned_dataset.resample(time='1w').median()\n",
    "        aggregated_by_str = 'Week'\n",
    "    elif bin_by == 'month':\n",
    "        plotting_data = cleaned_dataset.resample(time='1m').median()\n",
    "        aggregated_by_str = 'Month'\n",
    "    elif bin_by == 'weekofyear':\n",
    "        plotting_data = cleaned_dataset.groupby('time.week').median(dim=('time'))\n",
    "        aggregated_by_str = 'Week of Year'\n",
    "    elif bin_by == 'monthofyear':\n",
    "        plotting_data = cleaned_dataset.groupby('time.month').median(dim=('time'))\n",
    "        aggregated_by_str = 'Month of Year'\n",
    "    \n",
    "    params = dict(dataset=plotting_data, \n",
    "              plot_descs={'ndvi':       {'median': [{'line': {'color': ndvi_color, 'alpha':alpha}}],\n",
    "                                         'none':  [{'box': {'boxprops': {'facecolor':ndvi_color, 'alpha':alpha}, \n",
    "                                                            'showfliers':False}}]},\n",
    "                          'wofs':       {'median': [{'line': {'color': wofs_color, 'alpha':alpha}}]},\n",
    "                          'ls_wtr_cls': {'median': [{'line': {'color': ls_wtr_cls_color, 'alpha':alpha}}]},\n",
    "                          'ndwi':       {'median': [{'line': {'color': ndwi_color, 'alpha':alpha}}]}},\n",
    "              fig_params={'figsize':(12,6)}, show_legend=False)\n",
    "    if plot_cubic_spline_ndvi:\n",
    "        params['plot_descs']['ndvi']['median'].append({'cubic_spline':{}})\n",
    "    xarray_time_series_plot(**params, max_times_per_plot=20)\n",
    "    print(\"NDVI and WOFS {}\".format(\"(Median by {})\".format(aggregated_by_str) if aggregated_by_str is not None else \"\"))"
   ]
  }
 ],
 "metadata": {
  "kernelspec": {
   "display_name": "Python 3",
   "language": "python",
   "name": "python3"
  },
  "language_info": {
   "codemirror_mode": {
    "name": "ipython",
    "version": 3
   },
   "file_extension": ".py",
   "mimetype": "text/x-python",
   "name": "python",
   "nbconvert_exporter": "python",
   "pygments_lexer": "ipython3",
   "version": "3.5.2"
  }
 },
 "nbformat": 4,
 "nbformat_minor": 2
}
