{
 "cells": [
  {
   "cell_type": "markdown",
   "metadata": {},
   "source": [
    "# Coastal Change\n",
    "\n",
    "**Description: **"
   ]
  },
  {
   "cell_type": "code",
   "execution_count": 22,
   "metadata": {
    "collapsed": false
   },
   "outputs": [],
   "source": [
    "%matplotlib inline\n",
    "\n",
    "from datetime import datetime\n",
    "\n",
    "import datacube\n",
    "import utils.dc_utilities as utils\n",
    "\n",
    "from utils.dc_mosaic import create_mosaic\n",
    "from utils.dc_water_classifier import *\n",
    "\n",
    "import warnings; warnings.simplefilter('ignore')"
   ]
  },
  {
   "cell_type": "code",
   "execution_count": 23,
   "metadata": {
    "collapsed": false
   },
   "outputs": [
    {
     "name": "stdout",
     "output_type": "stream",
     "text": [
      "Start time: 2017-01-30 15:32:34.204914\n"
     ]
    }
   ],
   "source": [
    "start_time = datetime.now()\n",
    "print(\"Start time: \" + str(start_time))"
   ]
  },
  {
   "cell_type": "code",
   "execution_count": 24,
   "metadata": {
    "collapsed": true
   },
   "outputs": [],
   "source": [
    "# Initialize data cube object\n",
    "dc = datacube.Datacube(app='dc-coastal-erosion')\n",
    "\n",
    "# Set query parameters\n",
    "platform        = 'LANDSAT_7'\n",
    "product_type    = 'ls7_ledaps_togo'\n",
    "\n",
    "min_lon         = 1.1919\n",
    "max_lon         = 1.4509\n",
    "min_lat         = 6.0809\n",
    "max_lat         = 6.2218"
   ]
  },
  {
   "cell_type": "code",
   "execution_count": 25,
   "metadata": {
    "collapsed": false
   },
   "outputs": [],
   "source": [
    "start_date      = datetime.strptime('2000-01-01', '%Y-%m-%d')\n",
    "end_date        = datetime.strptime('2000-12-31', '%Y-%m-%d')"
   ]
  },
  {
   "cell_type": "code",
   "execution_count": 26,
   "metadata": {
    "collapsed": true
   },
   "outputs": [],
   "source": [
    "# Retrieve data from Data Cube\n",
    "dataset_in_2000 = dc.load(platform=platform,\n",
    "                          product=product_type,\n",
    "                          time=(start_date, end_date),\n",
    "                          lon=(min_lon, max_lon),\n",
    "                          lat=(min_lat, max_lat))"
   ]
  },
  {
   "cell_type": "code",
   "execution_count": 27,
   "metadata": {
    "collapsed": true
   },
   "outputs": [],
   "source": [
    "start_date      = datetime.strptime('2015-01-01', '%Y-%m-%d')\n",
    "end_date        = datetime.strptime('2015-12-31', '%Y-%m-%d')"
   ]
  },
  {
   "cell_type": "code",
   "execution_count": 28,
   "metadata": {
    "collapsed": true
   },
   "outputs": [],
   "source": [
    "# Retrieve data from Data Cube\n",
    "dataset_in_2015 = dc.load(platform=platform,\n",
    "                          product=product_type,\n",
    "                          time=(start_date, end_date),\n",
    "                          lon=(min_lon, max_lon),\n",
    "                          lat=(min_lat, max_lat))"
   ]
  },
  {
   "cell_type": "code",
   "execution_count": 29,
   "metadata": {
    "collapsed": true
   },
   "outputs": [],
   "source": [
    "mosaic_2000 = create_mosaic(dataset_in_2000)\n",
    "mosaic_2015 = create_mosaic(dataset_in_2015)"
   ]
  },
  {
   "cell_type": "code",
   "execution_count": 30,
   "metadata": {
    "collapsed": false
   },
   "outputs": [],
   "source": [
    "water_class_2000 = wofs_classify(mosaic_2000, mosaic=True)\n",
    "water_class_2000.wofs.values[water_class_2000.wofs.values == -9999] = np.nan\n",
    "\n",
    "water_class_2015 = wofs_classify(mosaic_2015, mosaic=True)\n",
    "water_class_2015.wofs.values[water_class_2015.wofs.values == -9999] = np.nan\n",
    "\n",
    "wofs_2000 = water_class_2000.wofs.values\n",
    "wofs_2015 = water_class_2015.wofs.values"
   ]
  },
  {
   "cell_type": "code",
   "execution_count": 31,
   "metadata": {
    "collapsed": false
   },
   "outputs": [],
   "source": [
    "coastal_change = water_class_2015 - water_class_2000"
   ]
  },
  {
   "cell_type": "code",
   "execution_count": 32,
   "metadata": {
    "collapsed": false
   },
   "outputs": [
    {
     "data": {
      "text/plain": [
       "<matplotlib.collections.QuadMesh at 0x7fdbf807a278>"
      ]
     },
     "execution_count": 32,
     "metadata": {},
     "output_type": "execute_result"
    },
    {
     "data": {
      "image/png": "[encoded data removed]",
      "text/plain": [
       "<matplotlib.figure.Figure at 0x7fdbf84dc2e8>"
      ]
     },
     "metadata": {},
     "output_type": "display_data"
    }
   ],
   "source": [
    "# -1 -> water to coast\n",
    "#  0 -> no change\n",
    "#  1 -> coast to water (Coastal Erosion)\n",
    "\n",
    "coastal_change.wofs.plot()"
   ]
  },
  {
   "cell_type": "code",
   "execution_count": 33,
   "metadata": {
    "collapsed": true
   },
   "outputs": [],
   "source": [
    "coastline_2000 = np.zeros(wofs_2000.shape)\n",
    "\n",
    "for i in range(wofs_2000.shape[0]):\n",
    "    for j in range(wofs_2000.shape[1]):\n",
    "        pixel = wofs_2000[i,j]\n",
    "        if pixel == 0 and np.nansum(wofs_2000[i-1:i+2, j-1:j+2]) >= 1 and np.nansum(wofs_2000[i-1:i+2, j-1:j+2]) <= 5:\n",
    "            coastline_2000[i,j] = 1\n",
    "            \n",
    "coastline_2015 = np.zeros(wofs_2015.shape)\n",
    "\n",
    "for i in range(wofs_2015.shape[0]):\n",
    "    for j in range(wofs_2015.shape[1]):\n",
    "        pixel = wofs_2015[i,j]\n",
    "        if pixel == 0 and np.nansum(wofs_2015[i-1:i+2, j-1:j+2]) >= 1 and np.nansum(wofs_2015[i-1:i+2, j-1:j+2]) <= 5:\n",
    "            coastline_2015[i,j] = 1"
   ]
  },
  {
   "cell_type": "code",
   "execution_count": 34,
   "metadata": {
    "collapsed": true
   },
   "outputs": [],
   "source": [
    "import matplotlib.pyplot as plt\n",
    "import matplotlib.image as mpimg"
   ]
  },
  {
   "cell_type": "code",
   "execution_count": 35,
   "metadata": {
    "collapsed": true
   },
   "outputs": [],
   "source": [
    "from pylab import *"
   ]
  },
  {
   "cell_type": "code",
   "execution_count": 36,
   "metadata": {
    "collapsed": false
   },
   "outputs": [
    {
     "data": {
      "image/png": "[encoded data removed]",
      "text/plain": [
       "<matplotlib.figure.Figure at 0x7fdbe62d3da0>"
      ]
     },
     "metadata": {},
     "output_type": "display_data"
    }
   ],
   "source": [
    "fig = plt.figure()\n",
    "a=fig.add_subplot(1,2,1)\n",
    "imgplot = plt.imshow(wofs_2000, cmap='Blues',\n",
    "                     extent=[water_class_2000.longitude.values.min(), \n",
    "                             water_class_2000.longitude.values.max(),\n",
    "                             water_class_2000.latitude.values.min(),\n",
    "                             water_class_2000.latitude.values.max()])\n",
    "a.set_title('wofs - 2000')\n",
    "plt.colorbar(ticks=[0,1], orientation ='horizontal')\n",
    "a=fig.add_subplot(1,2,2)\n",
    "imgplot = plt.imshow(wofs_2015, cmap='Blues',\n",
    "                     extent=[water_class_2015.longitude.values.min(), \n",
    "                             water_class_2015.longitude.values.max(),\n",
    "                             water_class_2015.latitude.values.min(),\n",
    "                             water_class_2015.latitude.values.max()])\n",
    "#imgplot.set_clim(0.0,1.0)\n",
    "a.set_title('wofs - 2015')\n",
    "plt.colorbar(ticks=[0,1], orientation='horizontal')\n",
    "plt.savefig('wofs_compare.png')"
   ]
  },
  {
   "cell_type": "code",
   "execution_count": 37,
   "metadata": {
    "collapsed": false
   },
   "outputs": [
    {
     "data": {
      "text/plain": [
       "<matplotlib.image.AxesImage at 0x7fdbfaa03e80>"
      ]
     },
     "execution_count": 37,
     "metadata": {},
     "output_type": "execute_result"
    },
    {
     "data": {
      "image/png": "[encoded data removed]",
      "text/plain": [
       "<matplotlib.figure.Figure at 0x7fdbe62e4c88>"
      ]
     },
     "metadata": {},
     "output_type": "display_data"
    }
   ],
   "source": [
    "plt.imshow(coastline_2000, cmap='Greens')"
   ]
  },
  {
   "cell_type": "code",
   "execution_count": 38,
   "metadata": {
    "collapsed": false
   },
   "outputs": [
    {
     "data": {
      "text/plain": [
       "<matplotlib.image.AxesImage at 0x7fdbfa965278>"
      ]
     },
     "execution_count": 38,
     "metadata": {},
     "output_type": "execute_result"
    },
    {
     "data": {
      "image/png": "[encoded data removed]",
      "text/plain": [
       "<matplotlib.figure.Figure at 0x7fdbfaa34320>"
      ]
     },
     "metadata": {},
     "output_type": "display_data"
    }
   ],
   "source": [
    "plt.imshow(coastline_2015, cmap='Purples')"
   ]
  },
  {
   "cell_type": "code",
   "execution_count": 39,
   "metadata": {
    "collapsed": false
   },
   "outputs": [
    {
     "data": {
      "text/plain": [
       "<xarray.Dataset>\n",
       "Dimensions:            (latitude: 520, longitude: 957)\n",
       "Coordinates:\n",
       "  * latitude           (latitude) float64 6.222 6.222 6.221 6.221 6.221 6.22 ...\n",
       "  * longitude          (longitude) float64 1.192 1.192 1.192 1.193 1.193 ...\n",
       "Data variables:\n",
       "    blue               (latitude, longitude) float32 844.0 863.0 825.0 ...\n",
       "    green              (latitude, longitude) float32 1202.0 1141.0 1162.0 ...\n",
       "    red                (latitude, longitude) float32 1568.0 1498.0 1481.0 ...\n",
       "    nir                (latitude, longitude) float32 2743.0 2666.0 2743.0 ...\n",
       "    swir1              (latitude, longitude) float32 3490.0 3312.0 3335.0 ...\n",
       "    swir2              (latitude, longitude) float32 2829.0 2616.0 2616.0 ...\n",
       "    cf_mask            (latitude, longitude) int16 0 0 0 0 0 0 0 0 0 0 0 0 0 ...\n",
       "    cf_mask_conf       (latitude, longitude) int16 1 1 1 1 1 1 1 1 1 1 1 1 1 ...\n",
       "    adjacent_cloud_qa  (latitude, longitude) int16 255 255 255 255 255 255 ...\n",
       "    atmos_opacity      (latitude, longitude) int16 291 291 291 291 291 291 ...\n",
       "    cloud_qa           (latitude, longitude) int16 0 0 0 0 0 0 0 0 0 0 0 0 0 ...\n",
       "    cloud_shadow_qa    (latitude, longitude) int16 0 0 0 0 0 0 0 0 0 0 0 0 0 ...\n",
       "    ddv_qa             (latitude, longitude) int16 0 0 0 0 0 0 0 0 0 0 0 0 0 ...\n",
       "    fill_qa            (latitude, longitude) int16 0 0 0 0 0 0 0 0 0 0 0 0 0 ...\n",
       "    land_water_qa      (latitude, longitude) int16 0 0 0 0 0 0 0 0 0 0 0 0 0 ...\n",
       "    snow_qa            (latitude, longitude) int16 0 0 0 0 0 0 0 0 0 0 0 0 0 ..."
      ]
     },
     "execution_count": 39,
     "metadata": {},
     "output_type": "execute_result"
    }
   ],
   "source": [
    "mosaic_2000"
   ]
  },
  {
   "cell_type": "code",
   "execution_count": 40,
   "metadata": {
    "collapsed": true
   },
   "outputs": [],
   "source": [
    "mosaic_rgb_2000 = np.array([mosaic_2000.red.values, mosaic_2000.green.values, mosaic_2000.blue.values])"
   ]
  },
  {
   "cell_type": "code",
   "execution_count": 41,
   "metadata": {
    "collapsed": false
   },
   "outputs": [
    {
     "data": {
      "text/plain": [
       "array([[[ 1568.,  1498.,  1481., ...,   800.,   818.,   593.],\n",
       "        [ 1533.,  1464.,  1602., ...,   835.,   818.,   652.],\n",
       "        [ 1464.,  1516.,  1602., ...,   818.,   818.,   652.],\n",
       "        ..., \n",
       "        [  392.,   351.,   412., ...,   375.,   355.,   375.],\n",
       "        [  392.,   372.,   372., ...,   395.,   375.,   355.],\n",
       "        [  392.,   372.,   372., ...,   395.,   336.,   355.]],\n",
       "\n",
       "       [[ 1202.,  1141.,  1162., ...,   863.,   863.,   748.],\n",
       "        [ 1141.,  1162.,  1182., ...,   883.,   882.,   748.],\n",
       "        [ 1122.,  1141.,  1141., ...,   883.,   863.,   748.],\n",
       "        ..., \n",
       "        [  514.,   514.,   490., ...,   494.,   518.,   471.],\n",
       "        [  490.,   490.,   490., ...,   494.,   471.,   471.],\n",
       "        [  537.,   490.,   490., ...,   494.,   471.,   448.]],\n",
       "\n",
       "       [[  844.,   863.,   825., ...,   755.,   774.,   771.],\n",
       "        [  825.,   807.,   807., ...,   755.,   774.,   771.],\n",
       "        [  807.,   825.,   825., ...,   775.,   774.,   751.],\n",
       "        ..., \n",
       "        [  612.,   612.,   590., ...,   594.,   616.,   616.],\n",
       "        [  612.,   612.,   612., ...,   616.,   616.,   594.],\n",
       "        [  655.,   633.,   633., ...,   616.,   616.,   616.]]], dtype=float32)"
      ]
     },
     "execution_count": 41,
     "metadata": {},
     "output_type": "execute_result"
    }
   ],
   "source": [
    "mosaic_rgb_2000"
   ]
  },
  {
   "cell_type": "code",
   "execution_count": 43,
   "metadata": {
    "collapsed": false
   },
   "outputs": [
    {
     "ename": "TypeError",
     "evalue": "Invalid dimensions for image data",
     "output_type": "error",
     "traceback": [
      "\u001b[0;31m---------------------------------------------------------------------------\u001b[0m",
      "\u001b[0;31mTypeError\u001b[0m                                 Traceback (most recent call last)",
      "\u001b[0;32m<ipython-input-43-a64225ce5c7e>\u001b[0m in \u001b[0;36m<module>\u001b[0;34m()\u001b[0m\n\u001b[0;32m----> 1\u001b[0;31m \u001b[0mimgplot\u001b[0m \u001b[0;34m=\u001b[0m \u001b[0mplt\u001b[0m\u001b[0;34m.\u001b[0m\u001b[0mimshow\u001b[0m\u001b[0;34m(\u001b[0m\u001b[0mmosaic_rgb_2000\u001b[0m\u001b[0;34m)\u001b[0m\u001b[0;34m\u001b[0m\u001b[0m\n\u001b[0m",
      "\u001b[0;32m/home/localuser/Datacube/datacube_env/lib/python3.4/site-packages/matplotlib-2.0.0b4-py3.4-linux-x86_64.egg/matplotlib/pyplot.py\u001b[0m in \u001b[0;36mimshow\u001b[0;34m(X, cmap, norm, aspect, interpolation, alpha, vmin, vmax, origin, extent, shape, filternorm, filterrad, imlim, resample, url, hold, data, **kwargs)\u001b[0m\n\u001b[1;32m   3024\u001b[0m                         \u001b[0mfilternorm\u001b[0m\u001b[0;34m=\u001b[0m\u001b[0mfilternorm\u001b[0m\u001b[0;34m,\u001b[0m \u001b[0mfilterrad\u001b[0m\u001b[0;34m=\u001b[0m\u001b[0mfilterrad\u001b[0m\u001b[0;34m,\u001b[0m\u001b[0;34m\u001b[0m\u001b[0m\n\u001b[1;32m   3025\u001b[0m                         \u001b[0mimlim\u001b[0m\u001b[0;34m=\u001b[0m\u001b[0mimlim\u001b[0m\u001b[0;34m,\u001b[0m \u001b[0mresample\u001b[0m\u001b[0;34m=\u001b[0m\u001b[0mresample\u001b[0m\u001b[0;34m,\u001b[0m \u001b[0murl\u001b[0m\u001b[0;34m=\u001b[0m\u001b[0murl\u001b[0m\u001b[0;34m,\u001b[0m \u001b[0mdata\u001b[0m\u001b[0;34m=\u001b[0m\u001b[0mdata\u001b[0m\u001b[0;34m,\u001b[0m\u001b[0;34m\u001b[0m\u001b[0m\n\u001b[0;32m-> 3026\u001b[0;31m                         **kwargs)\n\u001b[0m\u001b[1;32m   3027\u001b[0m     \u001b[0;32mfinally\u001b[0m\u001b[0;34m:\u001b[0m\u001b[0;34m\u001b[0m\u001b[0m\n\u001b[1;32m   3028\u001b[0m         \u001b[0max\u001b[0m\u001b[0;34m.\u001b[0m\u001b[0mhold\u001b[0m\u001b[0;34m(\u001b[0m\u001b[0mwashold\u001b[0m\u001b[0;34m)\u001b[0m\u001b[0;34m\u001b[0m\u001b[0m\n",
      "\u001b[0;32m/home/localuser/Datacube/datacube_env/lib/python3.4/site-packages/matplotlib-2.0.0b4-py3.4-linux-x86_64.egg/matplotlib/__init__.py\u001b[0m in \u001b[0;36minner\u001b[0;34m(ax, *args, **kwargs)\u001b[0m\n\u001b[1;32m   1874\u001b[0m                     warnings.warn(msg % (label_namer, func.__name__),\n\u001b[1;32m   1875\u001b[0m                                   RuntimeWarning, stacklevel=2)\n\u001b[0;32m-> 1876\u001b[0;31m             \u001b[0;32mreturn\u001b[0m \u001b[0mfunc\u001b[0m\u001b[0;34m(\u001b[0m\u001b[0max\u001b[0m\u001b[0;34m,\u001b[0m \u001b[0;34m*\u001b[0m\u001b[0margs\u001b[0m\u001b[0;34m,\u001b[0m \u001b[0;34m**\u001b[0m\u001b[0mkwargs\u001b[0m\u001b[0;34m)\u001b[0m\u001b[0;34m\u001b[0m\u001b[0m\n\u001b[0m\u001b[1;32m   1877\u001b[0m         \u001b[0mpre_doc\u001b[0m \u001b[0;34m=\u001b[0m \u001b[0minner\u001b[0m\u001b[0;34m.\u001b[0m\u001b[0m__doc__\u001b[0m\u001b[0;34m\u001b[0m\u001b[0m\n\u001b[1;32m   1878\u001b[0m         \u001b[0;32mif\u001b[0m \u001b[0mpre_doc\u001b[0m \u001b[0;32mis\u001b[0m \u001b[0;32mNone\u001b[0m\u001b[0;34m:\u001b[0m\u001b[0;34m\u001b[0m\u001b[0m\n",
      "\u001b[0;32m/home/localuser/Datacube/datacube_env/lib/python3.4/site-packages/matplotlib-2.0.0b4-py3.4-linux-x86_64.egg/matplotlib/axes/_axes.py\u001b[0m in \u001b[0;36mimshow\u001b[0;34m(self, X, cmap, norm, aspect, interpolation, alpha, vmin, vmax, origin, extent, shape, filternorm, filterrad, imlim, resample, url, **kwargs)\u001b[0m\n\u001b[1;32m   5091\u001b[0m                               resample=resample, **kwargs)\n\u001b[1;32m   5092\u001b[0m \u001b[0;34m\u001b[0m\u001b[0m\n\u001b[0;32m-> 5093\u001b[0;31m         \u001b[0mim\u001b[0m\u001b[0;34m.\u001b[0m\u001b[0mset_data\u001b[0m\u001b[0;34m(\u001b[0m\u001b[0mX\u001b[0m\u001b[0;34m)\u001b[0m\u001b[0;34m\u001b[0m\u001b[0m\n\u001b[0m\u001b[1;32m   5094\u001b[0m         \u001b[0mim\u001b[0m\u001b[0;34m.\u001b[0m\u001b[0mset_alpha\u001b[0m\u001b[0;34m(\u001b[0m\u001b[0malpha\u001b[0m\u001b[0;34m)\u001b[0m\u001b[0;34m\u001b[0m\u001b[0m\n\u001b[1;32m   5095\u001b[0m         \u001b[0;32mif\u001b[0m \u001b[0mim\u001b[0m\u001b[0;34m.\u001b[0m\u001b[0mget_clip_path\u001b[0m\u001b[0;34m(\u001b[0m\u001b[0;34m)\u001b[0m \u001b[0;32mis\u001b[0m \u001b[0;32mNone\u001b[0m\u001b[0;34m:\u001b[0m\u001b[0;34m\u001b[0m\u001b[0m\n",
      "\u001b[0;32m/home/localuser/Datacube/datacube_env/lib/python3.4/site-packages/matplotlib-2.0.0b4-py3.4-linux-x86_64.egg/matplotlib/image.py\u001b[0m in \u001b[0;36mset_data\u001b[0;34m(self, A)\u001b[0m\n\u001b[1;32m    546\u001b[0m         if (self._A.ndim not in (2, 3) or\n\u001b[1;32m    547\u001b[0m                 (self._A.ndim == 3 and self._A.shape[-1] not in (3, 4))):\n\u001b[0;32m--> 548\u001b[0;31m             \u001b[0;32mraise\u001b[0m \u001b[0mTypeError\u001b[0m\u001b[0;34m(\u001b[0m\u001b[0;34m\"Invalid dimensions for image data\"\u001b[0m\u001b[0;34m)\u001b[0m\u001b[0;34m\u001b[0m\u001b[0m\n\u001b[0m\u001b[1;32m    549\u001b[0m \u001b[0;34m\u001b[0m\u001b[0m\n\u001b[1;32m    550\u001b[0m         \u001b[0mself\u001b[0m\u001b[0;34m.\u001b[0m\u001b[0m_imcache\u001b[0m \u001b[0;34m=\u001b[0m \u001b[0;32mNone\u001b[0m\u001b[0;34m\u001b[0m\u001b[0m\n",
      "\u001b[0;31mTypeError\u001b[0m: Invalid dimensions for image data"
     ]
    },
    {
     "data": {
      "image/png": "[encoded data removed]",
      "text/plain": [
       "<matplotlib.figure.Figure at 0x7fdbfa8ed438>"
      ]
     },
     "metadata": {},
     "output_type": "display_data"
    }
   ],
   "source": [
    "imgplot = plt.imshow(mosaic_rgb_2000)"
   ]
  },
  {
   "cell_type": "code",
   "execution_count": null,
   "metadata": {
    "collapsed": true
   },
   "outputs": [],
   "source": []
  }
 ],
 "metadata": {
  "kernelspec": {
   "display_name": "Python 3",
   "language": "python",
   "name": "python3"
  },
  "language_info": {
   "codemirror_mode": {
    "name": "ipython",
    "version": 3
   },
   "file_extension": ".py",
   "mimetype": "text/x-python",
   "name": "python",
   "nbconvert_exporter": "python",
   "pygments_lexer": "ipython3",
   "version": "3.4.3"
  }
 },
 "nbformat": 4,
 "nbformat_minor": 1
}
