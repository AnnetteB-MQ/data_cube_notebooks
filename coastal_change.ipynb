{
 "cells": [
  {
   "cell_type": "markdown",
   "metadata": {},
   "source": [
    "# Coastal Change\n",
    "\n",
    "**Description: **"
   ]
  },
  {
   "cell_type": "code",
   "execution_count": 1,
   "metadata": {
    "collapsed": true
   },
   "outputs": [],
   "source": [
    "%matplotlib inline\n",
    "\n",
    "from datetime import datetime\n",
    "\n",
    "import datacube\n",
    "import utils.data_cube_utilities.dc_utilities as utils\n",
    "\n",
    "from utils.data_cube_utilities.dc_mosaic import create_mosaic\n",
    "from utils.data_cube_utilities.dc_water_classifier import *\n",
    "\n",
    "import warnings; warnings.simplefilter('ignore')"
   ]
  },
  {
   "cell_type": "code",
   "execution_count": 2,
   "metadata": {},
   "outputs": [
    {
     "name": "stdout",
     "output_type": "stream",
     "text": [
      "Start time: 2017-05-30 10:13:52.087686\n"
     ]
    }
   ],
   "source": [
    "start_time = datetime.now()\n",
    "print(\"Start time: \" + str(start_time))"
   ]
  },
  {
   "cell_type": "code",
   "execution_count": 3,
   "metadata": {
    "collapsed": true
   },
   "outputs": [],
   "source": [
    "# Initialize data cube object\n",
    "dc = datacube.Datacube(app='dc-coastal-erosion')\n",
    "\n",
    "# Set query parameters\n",
    "platform        = 'LANDSAT_7'\n",
    "product_type    = 'ls7_ledaps_togo'\n",
    "\n",
    "min_lon         = 1.1919\n",
    "max_lon         = 1.4509\n",
    "min_lat         = 6.0809\n",
    "max_lat         = 6.2218"
   ]
  },
  {
   "cell_type": "code",
   "execution_count": 4,
   "metadata": {
    "collapsed": true
   },
   "outputs": [],
   "source": [
    "start_date      = datetime.strptime('2000-01-01', '%Y-%m-%d')\n",
    "end_date        = datetime.strptime('2000-12-31', '%Y-%m-%d')"
   ]
  },
  {
   "cell_type": "code",
   "execution_count": 5,
   "metadata": {
    "collapsed": true
   },
   "outputs": [],
   "source": [
    "# Retrieve data from Data Cube\n",
    "dataset_in_2000 = dc.load(platform=platform,\n",
    "                          product=product_type,\n",
    "                          time=(start_date, end_date),\n",
    "                          lon=(min_lon, max_lon),\n",
    "                          lat=(min_lat, max_lat))"
   ]
  },
  {
   "cell_type": "code",
   "execution_count": 6,
   "metadata": {
    "collapsed": true
   },
   "outputs": [],
   "source": [
    "start_date      = datetime.strptime('2015-01-01', '%Y-%m-%d')\n",
    "end_date        = datetime.strptime('2015-12-31', '%Y-%m-%d')"
   ]
  },
  {
   "cell_type": "code",
   "execution_count": 7,
   "metadata": {
    "collapsed": true
   },
   "outputs": [],
   "source": [
    "# Retrieve data from Data Cube\n",
    "dataset_in_2015 = dc.load(platform=platform,\n",
    "                          product=product_type,\n",
    "                          time=(start_date, end_date),\n",
    "                          lon=(min_lon, max_lon),\n",
    "                          lat=(min_lat, max_lat))"
   ]
  },
  {
   "cell_type": "code",
   "execution_count": 8,
   "metadata": {},
   "outputs": [],
   "source": [
    "clean_mask_2000 = utils.create_cfmask_clean_mask(dataset_in_2000.cf_mask)\n",
    "clean_mask_2015 = utils.create_cfmask_clean_mask(dataset_in_2015.cf_mask)\n",
    "\n",
    "mosaic_2000 = create_mosaic(dataset_in_2000, clean_mask=clean_mask_2000)\n",
    "mosaic_2015 = create_mosaic(dataset_in_2015, clean_mask=clean_mask_2015)"
   ]
  },
  {
   "cell_type": "code",
   "execution_count": 9,
   "metadata": {
    "collapsed": true
   },
   "outputs": [],
   "source": [
    "clean_mask_2000 = utils.create_cfmask_clean_mask(mosaic_2000.cf_mask)\n",
    "clean_mask_2015 = utils.create_cfmask_clean_mask(mosaic_2015.cf_mask)"
   ]
  },
  {
   "cell_type": "code",
   "execution_count": 10,
   "metadata": {
    "collapsed": true
   },
   "outputs": [],
   "source": [
    "water_class_2000 = wofs_classify(mosaic_2000, mosaic=True, clean_mask=clean_mask_2000)\n",
    "water_class_2000.wofs.values[water_class_2000.wofs.values == -9999] = np.nan\n",
    "\n",
    "water_class_2015 = wofs_classify(mosaic_2015, mosaic=True, clean_mask=clean_mask_2015)\n",
    "water_class_2015.wofs.values[water_class_2015.wofs.values == -9999] = np.nan\n",
    "\n",
    "wofs_2000 = water_class_2000.wofs.values\n",
    "wofs_2015 = water_class_2015.wofs.values"
   ]
  },
  {
   "cell_type": "code",
   "execution_count": 11,
   "metadata": {
    "collapsed": true
   },
   "outputs": [],
   "source": [
    "coastal_change = water_class_2015 - water_class_2000"
   ]
  },
  {
   "cell_type": "code",
   "execution_count": 12,
   "metadata": {},
   "outputs": [
    {
     "data": {
      "text/plain": [
       "<matplotlib.collections.QuadMesh at 0x7faca8ae7c18>"
      ]
     },
     "execution_count": 12,
     "metadata": {},
     "output_type": "execute_result"
    },
    {
     "data": {
      "image/png": "[encoded data removed]",
      "text/plain": [
       "<matplotlib.figure.Figure at 0x7faca96f2208>"
      ]
     },
     "metadata": {},
     "output_type": "display_data"
    }
   ],
   "source": [
    "# -1 -> water to coast\n",
    "#  0 -> no change\n",
    "#  1 -> coast to water (Coastal Erosion)\n",
    "\n",
    "coastal_change.wofs.plot()"
   ]
  },
  {
   "cell_type": "code",
   "execution_count": 13,
   "metadata": {
    "collapsed": true
   },
   "outputs": [],
   "source": [
    "coastline_2000 = np.zeros(wofs_2000.shape)\n",
    "\n",
    "for i in range(wofs_2000.shape[0]):\n",
    "    for j in range(wofs_2000.shape[1]):\n",
    "        pixel = wofs_2000[i,j]\n",
    "        if pixel == 0 and np.nansum(wofs_2000[i-1:i+2, j-1:j+2]) >= 1 and np.nansum(wofs_2000[i-1:i+2, j-1:j+2]) <= 5:\n",
    "            coastline_2000[i,j] = 1\n",
    "            \n",
    "coastline_2015 = np.zeros(wofs_2015.shape)\n",
    "\n",
    "for i in range(wofs_2015.shape[0]):\n",
    "    for j in range(wofs_2015.shape[1]):\n",
    "        pixel = wofs_2015[i,j]\n",
    "        if pixel == 0 and np.nansum(wofs_2015[i-1:i+2, j-1:j+2]) >= 1 and np.nansum(wofs_2015[i-1:i+2, j-1:j+2]) <= 5:\n",
    "            coastline_2015[i,j] = 1"
   ]
  },
  {
   "cell_type": "code",
   "execution_count": 14,
   "metadata": {
    "collapsed": true
   },
   "outputs": [],
   "source": [
    "import matplotlib.pyplot as plt\n",
    "import matplotlib.image as mpimg"
   ]
  },
  {
   "cell_type": "code",
   "execution_count": 15,
   "metadata": {
    "collapsed": true
   },
   "outputs": [],
   "source": [
    "from pylab import *"
   ]
  },
  {
   "cell_type": "code",
   "execution_count": 16,
   "metadata": {},
   "outputs": [
    {
     "data": {
      "image/png": "[encoded data removed]",
      "text/plain": [
       "<matplotlib.figure.Figure at 0x7faca8b798d0>"
      ]
     },
     "metadata": {},
     "output_type": "display_data"
    }
   ],
   "source": [
    "fig = plt.figure()\n",
    "a=fig.add_subplot(1,2,1)\n",
    "imgplot = plt.imshow(wofs_2000, cmap='Blues',\n",
    "                     extent=[water_class_2000.longitude.values.min(), \n",
    "                             water_class_2000.longitude.values.max(),\n",
    "                             water_class_2000.latitude.values.min(),\n",
    "                             water_class_2000.latitude.values.max()])\n",
    "a.set_title('wofs - 2000')\n",
    "plt.colorbar(ticks=[0,1], orientation ='horizontal')\n",
    "a=fig.add_subplot(1,2,2)\n",
    "imgplot = plt.imshow(wofs_2015, cmap='Blues',\n",
    "                     extent=[water_class_2015.longitude.values.min(), \n",
    "                             water_class_2015.longitude.values.max(),\n",
    "                             water_class_2015.latitude.values.min(),\n",
    "                             water_class_2015.latitude.values.max()])\n",
    "#imgplot.set_clim(0.0,1.0)\n",
    "a.set_title('wofs - 2015')\n",
    "plt.colorbar(ticks=[0,1], orientation='horizontal')\n",
    "plt.savefig('wofs_compare.png')"
   ]
  },
  {
   "cell_type": "code",
   "execution_count": 17,
   "metadata": {},
   "outputs": [
    {
     "data": {
      "text/plain": [
       "<matplotlib.image.AxesImage at 0x7fac966c87f0>"
      ]
     },
     "execution_count": 17,
     "metadata": {},
     "output_type": "execute_result"
    },
    {
     "data": {
      "image/png": "[encoded data removed]",
      "text/plain": [
       "<matplotlib.figure.Figure at 0x7faca949ef98>"
      ]
     },
     "metadata": {},
     "output_type": "display_data"
    }
   ],
   "source": [
    "plt.imshow(coastline_2000, cmap='Greens')"
   ]
  },
  {
   "cell_type": "code",
   "execution_count": 18,
   "metadata": {},
   "outputs": [
    {
     "data": {
      "text/plain": [
       "<matplotlib.image.AxesImage at 0x7fac966aabe0>"
      ]
     },
     "execution_count": 18,
     "metadata": {},
     "output_type": "execute_result"
    },
    {
     "data": {
      "image/png": "[encoded data removed]",
      "text/plain": [
       "<matplotlib.figure.Figure at 0x7fac96717668>"
      ]
     },
     "metadata": {},
     "output_type": "display_data"
    }
   ],
   "source": [
    "plt.imshow(coastline_2015, cmap='Purples')"
   ]
  },
  {
   "cell_type": "code",
   "execution_count": 19,
   "metadata": {},
   "outputs": [
    {
     "data": {
      "text/plain": [
       "<xarray.Dataset>\n",
       "Dimensions:            (latitude: 520, longitude: 957)\n",
       "Coordinates:\n",
       "  * longitude          (longitude) float64 1.192 1.192 1.192 1.193 1.193 ...\n",
       "  * latitude           (latitude) float64 6.222 6.222 6.221 6.221 6.221 6.22 ...\n",
       "Data variables:\n",
       "    blue               (latitude, longitude) float32 844.0 863.0 825.0 ...\n",
       "    green              (latitude, longitude) float32 1202.0 1141.0 1162.0 ...\n",
       "    red                (latitude, longitude) float32 1568.0 1498.0 1481.0 ...\n",
       "    nir                (latitude, longitude) float32 2743.0 2666.0 2743.0 ...\n",
       "    swir1              (latitude, longitude) float32 3490.0 3312.0 3335.0 ...\n",
       "    swir2              (latitude, longitude) float32 2829.0 2616.0 2616.0 ...\n",
       "    cf_mask            (latitude, longitude) int32 0 0 0 0 0 0 0 0 0 0 0 0 0 ...\n",
       "    cf_mask_conf       (latitude, longitude) int32 1 1 1 1 1 1 1 1 1 1 1 1 1 ...\n",
       "    adjacent_cloud_qa  (latitude, longitude) int32 255 255 255 255 255 255 ...\n",
       "    atmos_opacity      (latitude, longitude) int32 291 291 291 291 291 291 ...\n",
       "    cloud_qa           (latitude, longitude) int32 0 0 0 0 0 0 0 0 0 0 0 0 0 ...\n",
       "    cloud_shadow_qa    (latitude, longitude) int32 0 0 0 0 0 0 0 0 0 0 0 0 0 ...\n",
       "    ddv_qa             (latitude, longitude) int32 0 0 0 0 0 0 0 0 0 0 0 0 0 ...\n",
       "    fill_qa            (latitude, longitude) int32 0 0 0 0 0 0 0 0 0 0 0 0 0 ...\n",
       "    land_water_qa      (latitude, longitude) int32 0 0 0 0 0 0 0 0 0 0 0 0 0 ...\n",
       "    snow_qa            (latitude, longitude) int32 0 0 0 0 0 0 0 0 0 0 0 0 0 ..."
      ]
     },
     "execution_count": 19,
     "metadata": {},
     "output_type": "execute_result"
    }
   ],
   "source": [
    "mosaic_2000"
   ]
  },
  {
   "cell_type": "code",
   "execution_count": 20,
   "metadata": {
    "collapsed": true
   },
   "outputs": [],
   "source": [
    "mosaic_rgb_2000 = np.array([mosaic_2000.red.values, mosaic_2000.green.values, mosaic_2000.blue.values])"
   ]
  },
  {
   "cell_type": "code",
   "execution_count": 21,
   "metadata": {},
   "outputs": [
    {
     "data": {
      "text/plain": [
       "array([[[ 1568.,  1498.,  1481., ...,   800.,   818.,   593.],\n",
       "        [ 1533.,  1464.,  1602., ...,   835.,   818.,   652.],\n",
       "        [ 1464.,  1516.,  1602., ...,   818.,   818.,   652.],\n",
       "        ..., \n",
       "        [  392.,   351.,   412., ...,   375.,   355.,   375.],\n",
       "        [  392.,   372.,   372., ...,   395.,   375.,   355.],\n",
       "        [  392.,   372.,   372., ...,   395.,   336.,   355.]],\n",
       "\n",
       "       [[ 1202.,  1141.,  1162., ...,   863.,   863.,   748.],\n",
       "        [ 1141.,  1162.,  1182., ...,   883.,   882.,   748.],\n",
       "        [ 1122.,  1141.,  1141., ...,   883.,   863.,   748.],\n",
       "        ..., \n",
       "        [  514.,   514.,   490., ...,   494.,   518.,   471.],\n",
       "        [  490.,   490.,   490., ...,   494.,   471.,   471.],\n",
       "        [  537.,   490.,   490., ...,   494.,   471.,   448.]],\n",
       "\n",
       "       [[  844.,   863.,   825., ...,   755.,   774.,   771.],\n",
       "        [  825.,   807.,   807., ...,   755.,   774.,   771.],\n",
       "        [  807.,   825.,   825., ...,   775.,   774.,   751.],\n",
       "        ..., \n",
       "        [  612.,   612.,   590., ...,   594.,   616.,   616.],\n",
       "        [  612.,   612.,   612., ...,   616.,   616.,   594.],\n",
       "        [  655.,   633.,   633., ...,   616.,   616.,   616.]]], dtype=float32)"
      ]
     },
     "execution_count": 21,
     "metadata": {},
     "output_type": "execute_result"
    }
   ],
   "source": [
    "mosaic_rgb_2000"
   ]
  },
  {
   "cell_type": "code",
   "execution_count": null,
   "metadata": {
    "collapsed": true
   },
   "outputs": [],
   "source": []
  },
  {
   "cell_type": "code",
   "execution_count": null,
   "metadata": {
    "collapsed": true
   },
   "outputs": [],
   "source": []
  }
 ],
 "metadata": {
  "kernelspec": {
   "display_name": "Python 3",
   "language": "python",
   "name": "python3"
  },
  "language_info": {
   "codemirror_mode": {
    "name": "ipython",
    "version": 3
   },
   "file_extension": ".py",
   "mimetype": "text/x-python",
   "name": "python",
   "nbconvert_exporter": "python",
   "pygments_lexer": "ipython3",
   "version": "3.5.2"
  }
 },
 "nbformat": 4,
 "nbformat_minor": 1
}
