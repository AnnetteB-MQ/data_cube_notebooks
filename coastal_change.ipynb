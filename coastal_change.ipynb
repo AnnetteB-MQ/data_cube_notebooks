{
 "cells": [
  {
   "cell_type": "markdown",
   "metadata": {},
   "source": [
    "# Coastal Change\n",
    "\n",
    "**Description: **"
   ]
  },
  {
   "cell_type": "code",
   "execution_count": 1,
   "metadata": {},
   "outputs": [],
   "source": [
    "%matplotlib inline\n",
    "\n",
    "from datetime import datetime\n",
    "\n",
    "import datacube\n",
    "import utils.data_cube_utilities.dc_utilities as utils\n",
    "\n",
    "from utils.data_cube_utilities.dc_mosaic import create_mosaic, ls7_unpack_qa\n",
    "from utils.data_cube_utilities.dc_water_classifier import *\n",
    "\n",
    "import warnings; warnings.simplefilter('ignore')"
   ]
  },
  {
   "cell_type": "code",
   "execution_count": 2,
   "metadata": {},
   "outputs": [
    {
     "name": "stdout",
     "output_type": "stream",
     "text": [
      "Start time: 2018-04-20 09:58:58.969803\n"
     ]
    }
   ],
   "source": [
    "start_time = datetime.now()\n",
    "print(\"Start time: \" + str(start_time))"
   ]
  },
  {
   "cell_type": "code",
   "execution_count": 3,
   "metadata": {},
   "outputs": [],
   "source": [
    "# Initialize data cube object\n",
    "dc = datacube.Datacube(config='/home/localuser/.datacube.conf', app='dc-coastal-erosion')\n",
    "\n",
    "# Set query parameters\n",
    "platform        = 'LANDSAT_7'\n",
    "product_type    = 'ls7_ledaps_togo'\n",
    "\n",
    "min_lon         = 1.1919\n",
    "max_lon         = 1.4509\n",
    "min_lat         = 6.0809\n",
    "max_lat         = 6.2218"
   ]
  },
  {
   "cell_type": "code",
   "execution_count": 4,
   "metadata": {},
   "outputs": [],
   "source": [
    "start_date      = datetime.strptime('2000-01-01', '%Y-%m-%d')\n",
    "end_date        = datetime.strptime('2000-12-31', '%Y-%m-%d')"
   ]
  },
  {
   "cell_type": "code",
   "execution_count": 5,
   "metadata": {},
   "outputs": [],
   "source": [
    "measurements = ['red', 'green', 'blue', 'nir', 'swir1', 'swir2', 'pixel_qa']\n",
    "# Retrieve data from Data Cube\n",
    "dataset_in_2000 = dc.load(platform=platform,\n",
    "                          product=product_type,\n",
    "                          time=(start_date, end_date),\n",
    "                          lon=(min_lon, max_lon),\n",
    "                          lat=(min_lat, max_lat), measurements=measurements)"
   ]
  },
  {
   "cell_type": "code",
   "execution_count": 6,
   "metadata": {},
   "outputs": [],
   "source": [
    "start_date      = datetime.strptime('2015-01-01', '%Y-%m-%d')\n",
    "end_date        = datetime.strptime('2015-12-31', '%Y-%m-%d')"
   ]
  },
  {
   "cell_type": "code",
   "execution_count": 7,
   "metadata": {},
   "outputs": [],
   "source": [
    "# Retrieve data from Data Cube\n",
    "dataset_in_2015 = dc.load(platform=platform,\n",
    "                          product=product_type,\n",
    "                          time=(start_date, end_date),\n",
    "                          lon=(min_lon, max_lon),\n",
    "                          lat=(min_lat, max_lat), measurements=measurements)"
   ]
  },
  {
   "cell_type": "code",
   "execution_count": 8,
   "metadata": {},
   "outputs": [],
   "source": [
    "clear_xarray  = ls7_unpack_qa(dataset_in_2000.pixel_qa, \"clear\")  \n",
    "water_xarray  = ls7_unpack_qa(dataset_in_2000.pixel_qa, \"water\")\n",
    "clean_mask_2000 = np.logical_or(clear_xarray.values.astype(bool),\n",
    "                           water_xarray.values.astype(bool))\n",
    "\n",
    "clear_xarray  = ls7_unpack_qa(dataset_in_2015.pixel_qa, \"clear\")  \n",
    "water_xarray  = ls7_unpack_qa(dataset_in_2015.pixel_qa, \"water\")\n",
    "clean_mask_2015 = np.logical_or(clear_xarray.values.astype(bool),\n",
    "                           water_xarray.values.astype(bool))\n",
    "\n",
    "mosaic_2000 = create_mosaic(dataset_in_2000, clean_mask=clean_mask_2000)\n",
    "mosaic_2015 = create_mosaic(dataset_in_2015, clean_mask=clean_mask_2015)"
   ]
  },
  {
   "cell_type": "code",
   "execution_count": 9,
   "metadata": {},
   "outputs": [],
   "source": [
    "water_class_2000 = wofs_classify(mosaic_2000,\n",
    "                                 mosaic=True,\n",
    "                                 clean_mask=np.ones(mosaic_2000.red.shape).astype(np.bool))\n",
    "\n",
    "water_class_2000.wofs.values[water_class_2000.wofs.values == -9999] = np.nan\n",
    "\n",
    "water_class_2015 = wofs_classify(mosaic_2015, mosaic=True, clean_mask= np.ones(mosaic_2015.red.shape).astype(np.bool))\n",
    "water_class_2015.wofs.values[water_class_2015.wofs.values == -9999] = np.nan\n",
    "\n",
    "wofs_2000 = water_class_2000.wofs.values\n",
    "wofs_2015 = water_class_2015.wofs.values"
   ]
  },
  {
   "cell_type": "code",
   "execution_count": 10,
   "metadata": {},
   "outputs": [],
   "source": [
    "coastal_change = water_class_2015 - water_class_2000"
   ]
  },
  {
   "cell_type": "code",
   "execution_count": 11,
   "metadata": {},
   "outputs": [
    {
     "data": {
      "text/plain": [
       "<matplotlib.collections.QuadMesh at 0x7f92a6588f28>"
      ]
     },
     "execution_count": 11,
     "metadata": {},
     "output_type": "execute_result"
    },
    {
     "data": {
      "image/png": "[encoded data removed]",
      "text/plain": [
       "<matplotlib.figure.Figure at 0x7f92f845def0>"
      ]
     },
     "metadata": {},
     "output_type": "display_data"
    }
   ],
   "source": [
    "# -1 -> water to coast\n",
    "#  0 -> no change\n",
    "#  1 -> coast to water (Coastal Erosion)\n",
    "\n",
    "coastal_change.wofs.plot()"
   ]
  },
  {
   "cell_type": "code",
   "execution_count": 12,
   "metadata": {},
   "outputs": [],
   "source": [
    "coastline_2000 = np.zeros(wofs_2000.shape)\n",
    "\n",
    "for i in range(wofs_2000.shape[0]):\n",
    "    for j in range(wofs_2000.shape[1]):\n",
    "        pixel = wofs_2000[i,j]\n",
    "        if pixel == 0 and np.nansum(wofs_2000[i-1:i+2, j-1:j+2]) >= 1 and np.nansum(wofs_2000[i-1:i+2, j-1:j+2]) <= 5:\n",
    "            coastline_2000[i,j] = 1\n",
    "            \n",
    "coastline_2015 = np.zeros(wofs_2015.shape)\n",
    "\n",
    "for i in range(wofs_2015.shape[0]):\n",
    "    for j in range(wofs_2015.shape[1]):\n",
    "        pixel = wofs_2015[i,j]\n",
    "        if pixel == 0 and np.nansum(wofs_2015[i-1:i+2, j-1:j+2]) >= 1 and np.nansum(wofs_2015[i-1:i+2, j-1:j+2]) <= 5:\n",
    "            coastline_2015[i,j] = 1"
   ]
  },
  {
   "cell_type": "code",
   "execution_count": 13,
   "metadata": {},
   "outputs": [],
   "source": [
    "import matplotlib.pyplot as plt\n",
    "import matplotlib.image as mpimg"
   ]
  },
  {
   "cell_type": "code",
   "execution_count": 14,
   "metadata": {},
   "outputs": [],
   "source": [
    "from pylab import *"
   ]
  },
  {
   "cell_type": "code",
   "execution_count": 15,
   "metadata": {},
   "outputs": [
    {
     "data": {
      "image/png": "[encoded data removed]",
      "text/plain": [
       "<matplotlib.figure.Figure at 0x7f929cb43a90>"
      ]
     },
     "metadata": {},
     "output_type": "display_data"
    }
   ],
   "source": [
    "fig = plt.figure()\n",
    "a=fig.add_subplot(1,2,1)\n",
    "imgplot = plt.imshow(wofs_2000, cmap='Blues',\n",
    "                     extent=[water_class_2000.longitude.values.min(), \n",
    "                             water_class_2000.longitude.values.max(),\n",
    "                             water_class_2000.latitude.values.min(),\n",
    "                             water_class_2000.latitude.values.max()])\n",
    "a.set_title('wofs - 2000')\n",
    "plt.colorbar(ticks=[0,1], orientation ='horizontal')\n",
    "a=fig.add_subplot(1,2,2)\n",
    "imgplot = plt.imshow(wofs_2015, cmap='Blues',\n",
    "                     extent=[water_class_2015.longitude.values.min(), \n",
    "                             water_class_2015.longitude.values.max(),\n",
    "                             water_class_2015.latitude.values.min(),\n",
    "                             water_class_2015.latitude.values.max()])\n",
    "#imgplot.set_clim(0.0,1.0)\n",
    "a.set_title('wofs - 2015')\n",
    "plt.colorbar(ticks=[0,1], orientation='horizontal')\n",
    "plt.savefig('wofs_compare.png')"
   ]
  },
  {
   "cell_type": "code",
   "execution_count": 16,
   "metadata": {},
   "outputs": [
    {
     "data": {
      "text/plain": [
       "<matplotlib.image.AxesImage at 0x7f929a980dd8>"
      ]
     },
     "execution_count": 16,
     "metadata": {},
     "output_type": "execute_result"
    },
    {
     "data": {
      "image/png": "[encoded data removed]",
      "text/plain": [
       "<matplotlib.figure.Figure at 0x7f929aaa2048>"
      ]
     },
     "metadata": {},
     "output_type": "display_data"
    }
   ],
   "source": [
    "plt.imshow(coastline_2000, cmap='Greens')"
   ]
  },
  {
   "cell_type": "code",
   "execution_count": 17,
   "metadata": {},
   "outputs": [
    {
     "data": {
      "text/plain": [
       "<matplotlib.image.AxesImage at 0x7f929a966400>"
      ]
     },
     "execution_count": 17,
     "metadata": {},
     "output_type": "execute_result"
    },
    {
     "data": {
      "image/png": "[encoded data removed]",
      "text/plain": [
       "<matplotlib.figure.Figure at 0x7f929a99a1d0>"
      ]
     },
     "metadata": {},
     "output_type": "display_data"
    }
   ],
   "source": [
    "plt.imshow(coastline_2015, cmap='Purples')"
   ]
  },
  {
   "cell_type": "code",
   "execution_count": 18,
   "metadata": {},
   "outputs": [
    {
     "data": {
      "text/plain": [
       "<xarray.Dataset>\n",
       "Dimensions:    (latitude: 520, longitude: 957)\n",
       "Coordinates:\n",
       "  * latitude   (latitude) float64 6.222 6.222 6.221 6.221 6.221 6.22 6.22 ...\n",
       "  * longitude  (longitude) float64 1.192 1.192 1.192 1.193 1.193 1.193 1.193 ...\n",
       "Data variables:\n",
       "    red        (latitude, longitude) float32 1600.0 1532.0 1515.0 1910.0 ...\n",
       "    green      (latitude, longitude) float32 1203.0 1146.0 1165.0 1492.0 ...\n",
       "    blue       (latitude, longitude) float32 820.0 838.0 802.0 1014.0 943.0 ...\n",
       "    nir        (latitude, longitude) float32 2650.0 2575.0 2650.0 2764.0 ...\n",
       "    swir1      (latitude, longitude) float32 3541.0 3361.0 3384.0 3429.0 ...\n",
       "    swir2      (latitude, longitude) float32 2827.0 2615.0 2615.0 2827.0 ...\n",
       "    pixel_qa   (latitude, longitude) int32 66 66 66 66 66 66 66 66 66 66 66 ..."
      ]
     },
     "execution_count": 18,
     "metadata": {},
     "output_type": "execute_result"
    }
   ],
   "source": [
    "mosaic_2000"
   ]
  },
  {
   "cell_type": "code",
   "execution_count": 19,
   "metadata": {},
   "outputs": [],
   "source": [
    "mosaic_rgb_2000 = np.array([mosaic_2000.red.values, mosaic_2000.green.values, mosaic_2000.blue.values])"
   ]
  },
  {
   "cell_type": "code",
   "execution_count": 20,
   "metadata": {},
   "outputs": [
    {
     "data": {
      "text/plain": [
       "array([[[1600., 1532., 1515., ...,  837.,  855.,  621.],\n",
       "        [1566., 1497., 1636., ...,  873.,  855.,  682.],\n",
       "        [1497., 1549., 1636., ...,  855.,  855.,  682.],\n",
       "        ...,\n",
       "        [ 413.,  373.,  433., ...,  398.,  378.,  398.],\n",
       "        [ 413.,  393.,  393., ...,  418.,  398.,  378.],\n",
       "        [ 413.,  393.,  393., ...,  418.,  358.,  378.]],\n",
       "\n",
       "       [[1203., 1146., 1165., ...,  873.,  873.,  750.],\n",
       "        [1146., 1165., 1183., ...,  893.,  893.,  750.],\n",
       "        [1126., 1146., 1146., ...,  893.,  873.,  750.],\n",
       "        ...,\n",
       "        [ 514.,  514.,  492., ...,  498.,  520.,  475.],\n",
       "        [ 492.,  492.,  492., ...,  498.,  475.,  475.],\n",
       "        [ 537.,  492.,  492., ...,  498.,  475.,  453.]],\n",
       "\n",
       "       [[ 820.,  838.,  802., ...,  732.,  750.,  729.],\n",
       "        [ 802.,  786.,  786., ...,  732.,  750.,  729.],\n",
       "        [ 786.,  802.,  802., ...,  750.,  750.,  709.],\n",
       "        ...,\n",
       "        [ 568.,  568.,  547., ...,  554.,  575.,  575.],\n",
       "        [ 568.,  568.,  568., ...,  575.,  575.,  554.],\n",
       "        [ 610.,  589.,  589., ...,  575.,  575.,  575.]]], dtype=float32)"
      ]
     },
     "execution_count": 20,
     "metadata": {},
     "output_type": "execute_result"
    }
   ],
   "source": [
    "mosaic_rgb_2000"
   ]
  },
  {
   "cell_type": "code",
   "execution_count": null,
   "metadata": {},
   "outputs": [],
   "source": []
  },
  {
   "cell_type": "code",
   "execution_count": null,
   "metadata": {},
   "outputs": [],
   "source": []
  }
 ],
 "metadata": {
  "kernelspec": {
   "display_name": "Python 3",
   "language": "python",
   "name": "python3"
  },
  "language_info": {
   "codemirror_mode": {
    "name": "ipython",
    "version": 3
   },
   "file_extension": ".py",
   "mimetype": "text/x-python",
   "name": "python",
   "nbconvert_exporter": "python",
   "pygments_lexer": "ipython3",
   "version": "3.5.2"
  }
 },
 "nbformat": 4,
 "nbformat_minor": 2
}
