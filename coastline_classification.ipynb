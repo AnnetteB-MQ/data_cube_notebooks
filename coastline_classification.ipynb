{
 "cells": [
  {
   "cell_type": "code",
   "execution_count": null,
   "metadata": {},
   "outputs": [],
   "source": []
  },
  {
   "cell_type": "code",
   "execution_count": 1,
   "metadata": {},
   "outputs": [],
   "source": [
    "%matplotlib inline\n",
    "\n",
    "from datetime import datetime\n",
    "\n",
    "import datacube\n",
    "import utils.data_cube_utilities.dc_utilities as utils\n",
    "\n",
    "from utils.data_cube_utilities.dc_mosaic import create_mosaic, ls7_unpack_qa\n",
    "from utils.data_cube_utilities.dc_water_classifier import *\n",
    "\n",
    "import warnings; warnings.simplefilter('ignore')"
   ]
  },
  {
   "cell_type": "code",
   "execution_count": 2,
   "metadata": {},
   "outputs": [
    {
     "name": "stdout",
     "output_type": "stream",
     "text": [
      "Start time: 2018-04-20 10:49:24.203585\n"
     ]
    }
   ],
   "source": [
    "start_time = datetime.now()\n",
    "print(\"Start time: \" + str(start_time))"
   ]
  },
  {
   "cell_type": "code",
   "execution_count": 3,
   "metadata": {},
   "outputs": [],
   "source": [
    "# Initialize data cube object\n",
    "dc = datacube.Datacube(config='/home/localuser/.datacube.conf', app='dc-coastal-erosion')\n",
    "\n",
    "# Set query parameters\n",
    "platform        = 'LANDSAT_7'\n",
    "product_type    = 'ls7_ledaps_togo'\n",
    "\n",
    "min_lon         = 1.1919\n",
    "max_lon         = 1.4509\n",
    "min_lat         = 6.0809\n",
    "max_lat         = 6.2218"
   ]
  },
  {
   "cell_type": "code",
   "execution_count": 4,
   "metadata": {},
   "outputs": [
    {
     "data": {
      "text/plain": [
       "range(2000, 2015)"
      ]
     },
     "execution_count": 4,
     "metadata": {},
     "output_type": "execute_result"
    }
   ],
   "source": [
    "range(2000, 2015)"
   ]
  },
  {
   "cell_type": "code",
   "execution_count": 5,
   "metadata": {},
   "outputs": [],
   "source": [
    "start_date      = datetime.strptime('2007-01-01', '%Y-%m-%d')\n",
    "end_date        = datetime.strptime('2007-12-31', '%Y-%m-%d')"
   ]
  },
  {
   "cell_type": "code",
   "execution_count": 6,
   "metadata": {},
   "outputs": [],
   "source": [
    "measurements = ['red', 'green', 'blue', 'nir', 'swir1', 'swir2', 'pixel_qa']\n",
    "# Retrieve data from Data Cube\n",
    "dataset_in = dc.load(platform=platform,\n",
    "                     product=product_type,\n",
    "                     time=(start_date, end_date),\n",
    "                     lon=(min_lon, max_lon),\n",
    "                     lat=(min_lat, max_lat), measurements=measurements)"
   ]
  },
  {
   "cell_type": "code",
   "execution_count": 7,
   "metadata": {},
   "outputs": [],
   "source": [
    "# clean_mask = utils.create_cfmask_clean_mask(dataset_in.cf_mask)\n",
    "\n",
    "clear_xarray  = ls7_unpack_qa(dataset_in.pixel_qa, \"clear\")  \n",
    "water_xarray  = ls7_unpack_qa(dataset_in.pixel_qa, \"water\")\n",
    "clean_mask = np.logical_or(clear_xarray.values.astype(bool),\n",
    "                           water_xarray.values.astype(bool))\n",
    "mosaic = create_mosaic(dataset_in, clean_mask=clean_mask)"
   ]
  },
  {
   "cell_type": "code",
   "execution_count": 8,
   "metadata": {},
   "outputs": [
    {
     "data": {
      "text/plain": [
       "<xarray.Dataset>\n",
       "Dimensions:    (latitude: 520, longitude: 957)\n",
       "Coordinates:\n",
       "  * latitude   (latitude) float64 6.222 6.222 6.221 6.221 6.221 6.22 6.22 ...\n",
       "  * longitude  (longitude) float64 1.192 1.192 1.192 1.193 1.193 1.193 1.193 ...\n",
       "Data variables:\n",
       "    red        (latitude, longitude) int16 1797 1797 1797 1797 1824 1769 ...\n",
       "    green      (latitude, longitude) int16 1613 1643 1613 1613 1643 1613 ...\n",
       "    blue       (latitude, longitude) int16 1410 1438 1410 1410 1410 1438 ...\n",
       "    nir        (latitude, longitude) int16 2231 2231 2231 2231 2231 2272 ...\n",
       "    swir1      (latitude, longitude) int16 2772 2623 2586 2586 2623 2586 ...\n",
       "    swir2      (latitude, longitude) int16 2420 2227 2304 2227 2420 2227 ...\n",
       "    pixel_qa   (latitude, longitude) int32 66 66 66 66 130 130 130 130 66 66 ..."
      ]
     },
     "execution_count": 8,
     "metadata": {},
     "output_type": "execute_result"
    }
   ],
   "source": [
    "mosaic"
   ]
  },
  {
   "cell_type": "code",
   "execution_count": 9,
   "metadata": {},
   "outputs": [],
   "source": [
    "water_class = wofs_classify(mosaic, mosaic=True, clean_mask=\n",
    "                            np.ones(mosaic.red.shape).astype(np.bool))\n",
    "water_class.wofs.values[water_class.wofs.values == -9999] = np.nan\n",
    "wofs = water_class.wofs.values"
   ]
  },
  {
   "cell_type": "code",
   "execution_count": 10,
   "metadata": {},
   "outputs": [],
   "source": [
    "wofs[mosaic.swir2.values > 100] = np.nan"
   ]
  },
  {
   "cell_type": "code",
   "execution_count": 11,
   "metadata": {},
   "outputs": [],
   "source": [
    "coastline = np.zeros(wofs.shape)\n",
    "\n",
    "for i in range(wofs.shape[0]):\n",
    "    for j in range(wofs.shape[1]):\n",
    "        pixel = wofs[i,j]\n",
    "        if pixel == 0 and np.nansum(wofs[i-1:i+2, j-1:j+2]) >= 1 and np.nansum(wofs[i-1:i+2, j-1:j+2]) <= 5:\n",
    "            coastline[i,j] = 1"
   ]
  },
  {
   "cell_type": "code",
   "execution_count": 12,
   "metadata": {},
   "outputs": [
    {
     "data": {
      "text/plain": [
       "520"
      ]
     },
     "execution_count": 12,
     "metadata": {},
     "output_type": "execute_result"
    }
   ],
   "source": [
    "len(water_class.latitude)"
   ]
  },
  {
   "cell_type": "code",
   "execution_count": 13,
   "metadata": {},
   "outputs": [],
   "source": [
    "wofs[np.isnan(wofs)] = -9999"
   ]
  },
  {
   "cell_type": "code",
   "execution_count": 14,
   "metadata": {},
   "outputs": [
    {
     "data": {
      "text/plain": [
       "array([[-9.999e+03, -9.999e+03, -9.999e+03, ..., -9.999e+03, -9.999e+03,\n",
       "        -9.999e+03],\n",
       "       [-9.999e+03, -9.999e+03, -9.999e+03, ..., -9.999e+03, -9.999e+03,\n",
       "        -9.999e+03],\n",
       "       [-9.999e+03, -9.999e+03, -9.999e+03, ..., -9.999e+03, -9.999e+03,\n",
       "        -9.999e+03],\n",
       "       ...,\n",
       "       [-9.999e+03, -9.999e+03, -9.999e+03, ..., -9.999e+03, -9.999e+03,\n",
       "        -9.999e+03],\n",
       "       [-9.999e+03, -9.999e+03, -9.999e+03, ..., -9.999e+03, -9.999e+03,\n",
       "         1.000e+00],\n",
       "       [-9.999e+03, -9.999e+03, -9.999e+03, ..., -9.999e+03, -9.999e+03,\n",
       "        -9.999e+03]])"
      ]
     },
     "execution_count": 14,
     "metadata": {},
     "output_type": "execute_result"
    }
   ],
   "source": [
    "wofs"
   ]
  },
  {
   "cell_type": "code",
   "execution_count": 15,
   "metadata": {},
   "outputs": [],
   "source": [
    "driver = gdal.GetDriverByName('GTiff')\n",
    "raster = driver.Create('2007_wofs.tif', len(water_class.longitude), len(water_class.latitude), 1, gdal.GDT_Float32)\n",
    "\n",
    "crs = dataset_in.crs\n",
    "spatial_ref = utilities.get_spatial_ref(crs)\n",
    "\n",
    "# Upper left coordinates\n",
    "ul_lon = dataset_in.longitude.values[0]\n",
    "ul_lat = dataset_in.latitude.values[0]\n",
    "\n",
    "# Resolution\n",
    "products = dc.list_products()\n",
    "resolution = products.resolution[products.name == 'ls7_ledaps_togo']\n",
    "lon_dist = resolution.values[0][1]\n",
    "lat_dist = resolution.values[0][0]\n",
    "\n",
    "# Rotation\n",
    "lon_rtn = 0\n",
    "lat_rtn = 0\n",
    "\n",
    "geotransform = (ul_lon, lon_dist, lon_rtn, ul_lat, lat_rtn, lat_dist)\n",
    "\n",
    "raster.SetGeoTransform(geotransform)\n",
    "raster.SetProjection(spatial_ref)\n",
    "\n",
    "out_band = raster.GetRasterBand(1)\n",
    "out_band.SetNoDataValue(-9999)\n",
    "out_band.WriteArray(wofs)\n",
    "out_band.FlushCache()\n",
    "\n",
    "raster.FlushCache()\n",
    "out_band = None\n",
    "raster = None"
   ]
  },
  {
   "cell_type": "code",
   "execution_count": 16,
   "metadata": {},
   "outputs": [
    {
     "name": "stdout",
     "output_type": "stream",
     "text": [
      "Elapsed time: 0:00:04.527022\n"
     ]
    }
   ],
   "source": [
    "end_time = datetime.now()\n",
    "print(\"Elapsed time: \" + str(end_time - start_time))"
   ]
  }
 ],
 "metadata": {
  "kernelspec": {
   "display_name": "Python 3",
   "language": "python",
   "name": "python3"
  },
  "language_info": {
   "codemirror_mode": {
    "name": "ipython",
    "version": 3
   },
   "file_extension": ".py",
   "mimetype": "text/x-python",
   "name": "python",
   "nbconvert_exporter": "python",
   "pygments_lexer": "ipython3",
   "version": "3.5.2"
  }
 },
 "nbformat": 4,
 "nbformat_minor": 1
}
