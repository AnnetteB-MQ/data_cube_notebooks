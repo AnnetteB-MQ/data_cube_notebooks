{
 "cells": [
  {
   "cell_type": "code",
   "execution_count": 1,
   "metadata": {
    "collapsed": false
   },
   "outputs": [],
   "source": [
    "%matplotlib inline\n",
    "\n",
    "from datetime import datetime\n",
    "\n",
    "import datacube\n",
    "import utils.dc_utilities as utils\n",
    "\n",
    "from utils.dc_mosaic import create_mosaic\n",
    "from utils.dc_water_classifier import *\n",
    "\n",
    "import warnings; warnings.simplefilter('ignore')"
   ]
  },
  {
   "cell_type": "code",
   "execution_count": 2,
   "metadata": {
    "collapsed": false
   },
   "outputs": [
    {
     "name": "stdout",
     "output_type": "stream",
     "text": [
      "Start time: 2017-03-13 14:15:08.929633\n"
     ]
    }
   ],
   "source": [
    "start_time = datetime.now()\n",
    "print(\"Start time: \" + str(start_time))"
   ]
  },
  {
   "cell_type": "code",
   "execution_count": 3,
   "metadata": {
    "collapsed": true
   },
   "outputs": [],
   "source": [
    "# Initialize data cube object\n",
    "dc = datacube.Datacube(app='dc-coastal-erosion')\n",
    "\n",
    "# Set query parameters\n",
    "platform        = 'LANDSAT_7'\n",
    "product_type    = 'ls7_ledaps_togo'\n",
    "\n",
    "min_lon         = 1.1919\n",
    "max_lon         = 1.4509\n",
    "min_lat         = 6.0809\n",
    "max_lat         = 6.2218\n",
    "\n"
   ]
  },
  {
   "cell_type": "code",
   "execution_count": 27,
   "metadata": {
    "collapsed": false
   },
   "outputs": [
    {
     "data": {
      "text/plain": [
       "range(2000, 2015)"
      ]
     },
     "execution_count": 27,
     "metadata": {},
     "output_type": "execute_result"
    }
   ],
   "source": [
    "range(2000, 2015)"
   ]
  },
  {
   "cell_type": "code",
   "execution_count": 28,
   "metadata": {
    "collapsed": true
   },
   "outputs": [],
   "source": [
    "start_date      = datetime.strptime('2007-01-01', '%Y-%m-%d')\n",
    "end_date        = datetime.strptime('2007-12-31', '%Y-%m-%d')"
   ]
  },
  {
   "cell_type": "code",
   "execution_count": 29,
   "metadata": {
    "collapsed": true
   },
   "outputs": [],
   "source": [
    "# Retrieve data from Data Cube\n",
    "dataset_in = dc.load(platform=platform,\n",
    "                     product=product_type,\n",
    "                     time=(start_date, end_date),\n",
    "                     lon=(min_lon, max_lon),\n",
    "                     lat=(min_lat, max_lat))"
   ]
  },
  {
   "cell_type": "code",
   "execution_count": 30,
   "metadata": {
    "collapsed": false
   },
   "outputs": [],
   "source": [
    "mosaic = create_mosaic(dataset_in)"
   ]
  },
  {
   "cell_type": "code",
   "execution_count": 31,
   "metadata": {
    "collapsed": false
   },
   "outputs": [
    {
     "data": {
      "text/plain": [
       "<xarray.Dataset>\n",
       "Dimensions:            (latitude: 520, longitude: 957)\n",
       "Coordinates:\n",
       "  * latitude           (latitude) float64 6.222 6.222 6.221 6.221 6.221 6.22 ...\n",
       "  * longitude          (longitude) float64 1.192 1.192 1.192 1.193 1.193 ...\n",
       "Data variables:\n",
       "    blue               (latitude, longitude) int16 1468 1496 1468 1468 1468 ...\n",
       "    green              (latitude, longitude) int16 1616 1647 1616 1616 1647 ...\n",
       "    red                (latitude, longitude) int16 1750 1750 1750 1750 1777 ...\n",
       "    nir                (latitude, longitude) int16 2273 2273 2273 2273 2273 ...\n",
       "    swir1              (latitude, longitude) int16 2697 2553 2517 2517 2553 ...\n",
       "    swir2              (latitude, longitude) int16 2361 2173 2248 2173 2361 ...\n",
       "    cf_mask            (latitude, longitude) int16 0 0 0 0 0 0 0 0 0 0 0 0 0 ...\n",
       "    cf_mask_conf       (latitude, longitude) int16 1 1 1 1 2 2 2 2 1 1 1 1 1 ...\n",
       "    adjacent_cloud_qa  (latitude, longitude) int16 255 255 255 255 255 255 ...\n",
       "    atmos_opacity      (latitude, longitude) int16 313 313 313 313 313 313 ...\n",
       "    cloud_qa           (latitude, longitude) int16 0 0 0 0 255 255 255 255 0 ...\n",
       "    cloud_shadow_qa    (latitude, longitude) int16 0 0 0 0 0 0 0 0 0 0 0 0 0 ...\n",
       "    ddv_qa             (latitude, longitude) int16 0 0 0 0 0 0 0 0 0 0 0 0 0 ...\n",
       "    fill_qa            (latitude, longitude) int16 0 0 0 0 0 0 0 0 0 0 0 0 0 ...\n",
       "    land_water_qa      (latitude, longitude) int16 0 0 0 0 0 0 0 0 0 0 0 0 0 ...\n",
       "    snow_qa            (latitude, longitude) int16 0 0 0 0 0 0 0 0 0 0 0 0 0 ..."
      ]
     },
     "execution_count": 31,
     "metadata": {},
     "output_type": "execute_result"
    }
   ],
   "source": [
    "mosaic"
   ]
  },
  {
   "cell_type": "code",
   "execution_count": 32,
   "metadata": {
    "collapsed": false
   },
   "outputs": [],
   "source": [
    "water_class = wofs_classify(mosaic, mosaic=True)\n",
    "water_class.wofs.values[water_class.wofs.values == -9999] = np.nan"
   ]
  },
  {
   "cell_type": "code",
   "execution_count": 33,
   "metadata": {
    "collapsed": true
   },
   "outputs": [],
   "source": [
    "wofs = water_class.wofs.values"
   ]
  },
  {
   "cell_type": "code",
   "execution_count": 34,
   "metadata": {
    "collapsed": true
   },
   "outputs": [],
   "source": [
    "wofs[mosaic.swir2.values > 100] = np.nan"
   ]
  },
  {
   "cell_type": "code",
   "execution_count": 35,
   "metadata": {
    "collapsed": true
   },
   "outputs": [],
   "source": [
    "coastline = np.zeros(wofs.shape)\n",
    "\n",
    "for i in range(wofs.shape[0]):\n",
    "    for j in range(wofs.shape[1]):\n",
    "        pixel = wofs[i,j]\n",
    "        if pixel == 0 and np.nansum(wofs[i-1:i+2, j-1:j+2]) >= 1 and np.nansum(wofs[i-1:i+2, j-1:j+2]) <= 5:\n",
    "            coastline[i,j] = 1"
   ]
  },
  {
   "cell_type": "code",
   "execution_count": 36,
   "metadata": {
    "collapsed": false
   },
   "outputs": [
    {
     "data": {
      "text/plain": [
       "520"
      ]
     },
     "execution_count": 36,
     "metadata": {},
     "output_type": "execute_result"
    }
   ],
   "source": [
    "len(water_class.latitude)"
   ]
  },
  {
   "cell_type": "code",
   "execution_count": 37,
   "metadata": {
    "collapsed": true
   },
   "outputs": [],
   "source": [
    "wofs[np.isnan(wofs)] = -9999"
   ]
  },
  {
   "cell_type": "code",
   "execution_count": 38,
   "metadata": {
    "collapsed": false
   },
   "outputs": [
    {
     "data": {
      "text/plain": [
       "array([[ -9.99900000e+03,  -9.99900000e+03,  -9.99900000e+03, ...,\n",
       "         -9.99900000e+03,  -9.99900000e+03,  -9.99900000e+03],\n",
       "       [ -9.99900000e+03,  -9.99900000e+03,  -9.99900000e+03, ...,\n",
       "         -9.99900000e+03,  -9.99900000e+03,  -9.99900000e+03],\n",
       "       [ -9.99900000e+03,  -9.99900000e+03,  -9.99900000e+03, ...,\n",
       "         -9.99900000e+03,  -9.99900000e+03,  -9.99900000e+03],\n",
       "       ..., \n",
       "       [ -9.99900000e+03,  -9.99900000e+03,  -9.99900000e+03, ...,\n",
       "         -9.99900000e+03,  -9.99900000e+03,  -9.99900000e+03],\n",
       "       [ -9.99900000e+03,  -9.99900000e+03,  -9.99900000e+03, ...,\n",
       "         -9.99900000e+03,  -9.99900000e+03,   1.00000000e+00],\n",
       "       [ -9.99900000e+03,  -9.99900000e+03,  -9.99900000e+03, ...,\n",
       "         -9.99900000e+03,  -9.99900000e+03,  -9.99900000e+03]])"
      ]
     },
     "execution_count": 38,
     "metadata": {},
     "output_type": "execute_result"
    }
   ],
   "source": [
    "wofs"
   ]
  },
  {
   "cell_type": "code",
   "execution_count": 39,
   "metadata": {
    "collapsed": false
   },
   "outputs": [],
   "source": [
    "\n",
    "\n",
    "driver = gdal.GetDriverByName('GTiff')\n",
    "raster = driver.Create('2007_wofs.tif', len(water_class.longitude), len(water_class.latitude), 1, gdal.GDT_Float32)\n",
    "\n",
    "crs = dataset_in.crs\n",
    "spatial_ref = utilities.get_spatial_ref(crs)\n",
    "\n",
    "# Upper left coordinates\n",
    "ul_lon = dataset_in.longitude.values[0]\n",
    "ul_lat = dataset_in.latitude.values[0]\n",
    "\n",
    "# Resolution\n",
    "products = dc.list_products()\n",
    "resolution = products.resolution[products.name == 'ls7_ledaps_togo']\n",
    "lon_dist = resolution.values[0][1]\n",
    "lat_dist = resolution.values[0][0]\n",
    "\n",
    "# Rotation\n",
    "lon_rtn = 0\n",
    "lat_rtn = 0\n",
    "\n",
    "geotransform = (ul_lon, lon_dist, lon_rtn, ul_lat, lat_rtn, lat_dist)\n",
    "\n",
    "raster.SetGeoTransform(geotransform)\n",
    "raster.SetProjection(spatial_ref)\n",
    "\n",
    "out_band = raster.GetRasterBand(1)\n",
    "out_band.SetNoDataValue(-9999)\n",
    "out_band.WriteArray(wofs)\n",
    "out_band.FlushCache()\n",
    "\n",
    "raster.FlushCache()\n",
    "out_band = None\n",
    "raster = None"
   ]
  },
  {
   "cell_type": "code",
   "execution_count": 40,
   "metadata": {
    "collapsed": false
   },
   "outputs": [
    {
     "name": "stdout",
     "output_type": "stream",
     "text": [
      "Elapsed time: 0:00:15.342172\n"
     ]
    }
   ],
   "source": [
    "end_time = datetime.now()\n",
    "print(\"Elapsed time: \" + str(end_time - start_time))"
   ]
  },
  {
   "cell_type": "code",
   "execution_count": null,
   "metadata": {
    "collapsed": true
   },
   "outputs": [],
   "source": []
  }
 ],
 "metadata": {
  "kernelspec": {
   "display_name": "Python 3",
   "language": "python",
   "name": "python3"
  },
  "language_info": {
   "codemirror_mode": {
    "name": "ipython",
    "version": 3
   },
   "file_extension": ".py",
   "mimetype": "text/x-python",
   "name": "python",
   "nbconvert_exporter": "python",
   "pygments_lexer": "ipython3",
   "version": "3.4.3"
  }
 },
 "nbformat": 4,
 "nbformat_minor": 1
}
