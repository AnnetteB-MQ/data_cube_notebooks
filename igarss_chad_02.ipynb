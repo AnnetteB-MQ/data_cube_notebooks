{
 "cells": [
  {
   "cell_type": "code",
   "execution_count": 1,
   "metadata": {
    "collapsed": true
   },
   "outputs": [],
   "source": [
    "%matplotlib inline"
   ]
  },
  {
   "cell_type": "markdown",
   "metadata": {},
   "source": [
    "# Cleaning up imagery for pre and post rainy season\n",
    "\n",
    "The [previous tutorial](igarrs_chad_01.ipynb) addressed the identifying the extent of the rainy season near Lake Chad. This tutorial will focus on cleaning up optical imagery to make it suitable for water-detection algorithms.  \n",
    "  \n",
    "<br>  "
   ]
  },
  {
   "cell_type": "markdown",
   "metadata": {},
   "source": [
    "# What to expect from this notebook\n",
    "\n",
    "- Introduction to landsat 7 data.\n",
    "- basic xarray manipulations  \n",
    "- removing clouds and scanline error using `pixel_qa`\n",
    "- building a composite image  \n",
    "- saving products  \n",
    "\n",
    "<br>  \n",
    "\n",
    "# Algorithmic process  \n",
    "<br>\n",
    "![](diagrams/rainy_demo/alg_jn2_02.png)\n",
    "<br>  \n",
    "The algorithmic process is fairly simple. It is a composable chain of operations on landsat 7 imagery. The goal is to create a **scanline free** and **cloud-free** representation of the data for **pre** and **post** rainy season segments of 2015.  The process is outlined as follows:  \n",
    "\n",
    "1. load landsat imagery data for 2015  \n",
    "2. isolate pre and post rainy season data  \n",
    "3. remove clouds and scan-line errors from pre and post rainy sesaon data.     \n",
    "4. build a cloud free composite for pre and post rainy sesaon data. \n",
    "5. export the data for future use  \n",
    "\n",
    "What scanline-free or cloud-free means will be addressed later in the tutorial. To understand everything, just follow the steps in sequence.  \n",
    "\n"
   ]
  },
  {
   "cell_type": "markdown",
   "metadata": {},
   "source": [
    "# Creating a Datacube Object  \n",
    "<br>\n",
    "The following code connects to the datacube and accepts `cloud_removal_in_chad` as an app-name. The app name is typically only used in logging and debugging.  \n",
    "<br>"
   ]
  },
  {
   "cell_type": "code",
   "execution_count": 28,
   "metadata": {
    "collapsed": true
   },
   "outputs": [],
   "source": [
    "import datacube\n",
    "dc = datacube.Datacube(app = \"cloud_removal_in_chad\", config = '/home/localuser/.datacube.conf') "
   ]
  },
  {
   "cell_type": "markdown",
   "metadata": {},
   "source": [
    "<br>  \n",
    "\n",
    "Like in the previous tutorial. The datacube object will be used to load data that has previously been ingested by the datacube.  \n",
    "  \n",
    "<br>"
   ]
  },
  {
   "cell_type": "markdown",
   "metadata": {},
   "source": [
    "## Defining the boundaries of the area and restricting measurements"
   ]
  },
  {
   "cell_type": "code",
   "execution_count": 35,
   "metadata": {
    "collapsed": true
   },
   "outputs": [],
   "source": [
    "## Define Geographic boundaries using a (min,max) tuple.\n",
    "latitude = (12.75, 13.0)\n",
    "longitude = (14.25, 14.5)\n",
    "\n",
    "## Specify a date range using a (min,max) tuple  \n",
    "from datetime import datetime\n",
    "time = (datetime(2015,1,1), datetime(2016,1,1))\n",
    "\n",
    "## define the name you gave your data while it was being \"ingested\", as well as the platform it was captured on. \n",
    "platform = 'LANDSAT_7'  \n",
    "product = 'ls7_ledaps_lake_chad_example' \n",
    "\n",
    "measurements = ['red', 'green', 'blue', 'nir', 'swir1', 'swir2','pixel_qa']"
   ]
  },
  {
   "cell_type": "markdown",
   "metadata": {},
   "source": [
    "As a reminder and in-notebook reference, the following line of code displays the extents of the study area.  Re-orient yourself with it.  "
   ]
  },
  {
   "cell_type": "code",
   "execution_count": 3,
   "metadata": {},
   "outputs": [
    {
     "data": {
      "text/html": [
       "<div style=\"width:100%;\"><div style=\"position:relative;width:100%;height:0;padding-bottom:60%;\"><iframe src=\"data:text/html;charset=utf-8;base64,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\" style=\"position:absolute;width:100%;height:100%;left:0;top:0;border:none !important;\" allowfullscreen webkitallowfullscreen mozallowfullscreen></iframe></div></div>"
      ],
      "text/plain": [
       "<folium.folium.Map at 0x7f443172b5f8>"
      ]
     },
     "execution_count": 3,
     "metadata": {},
     "output_type": "execute_result"
    }
   ],
   "source": [
    "from utils.dc_display_map import display_map\n",
    "display_map(latitude = (12.75, 13.0),longitude = (14.25, 14.5))  "
   ]
  },
  {
   "cell_type": "markdown",
   "metadata": {},
   "source": [
    "<br>  \n",
    "\n",
    "## Loading in Landsat 7 imagery  \n",
    "The following code loads in landsat 7 imagery using the constraints defined above"
   ]
  },
  {
   "cell_type": "code",
   "execution_count": 37,
   "metadata": {
    "collapsed": true
   },
   "outputs": [],
   "source": [
    "#Load Landsat 7 data using parameters,\n",
    "landsat_data = dc.load(latitude = latitude,\n",
    "                       longitude = longitude,\n",
    "                       time = time,\n",
    "                       product = product,\n",
    "                       platform = platform,\n",
    "                       measurements = measurements)"
   ]
  },
  {
   "cell_type": "markdown",
   "metadata": {},
   "source": [
    "<a id='#intro_ls7'></a>  \n",
    "\n",
    "# Explore the Landsat 7 dataset\n",
    "\n",
    "The previous tutorial barely grazed the concept of xarray variables.  \n",
    "To understand how we use landsat7 imagery it will be necessary to make a brief detour and explain it in greater detail. \n",
    "<br>  \n",
    "\n",
    "### xarray - Variables & Data-arrays \n",
    "When you output the contents of your loaded -dataset...    \n"
   ]
  },
  {
   "cell_type": "code",
   "execution_count": 38,
   "metadata": {},
   "outputs": [
    {
     "name": "stdout",
     "output_type": "stream",
     "text": [
      "<xarray.Dataset>\n",
      "Dimensions:    (latitude: 929, longitude: 929, time: 20)\n",
      "Coordinates:\n",
      "  * time       (time) datetime64[ns] 2015-01-04T09:22:48 2015-01-20T09:22:48 ...\n",
      "  * latitude   (latitude) float64 13.0 13.0 13.0 13.0 13.0 13.0 13.0 13.0 ...\n",
      "  * longitude  (longitude) float64 14.25 14.25 14.25 14.25 14.25 14.25 14.25 ...\n",
      "Data variables:\n",
      "    red        (time, latitude, longitude) int16 1092 1123 1217 1249 1217 ...\n",
      "    green      (time, latitude, longitude) int16 1029 1131 1131 1097 1097 ...\n",
      "    blue       (time, latitude, longitude) int16 851 851 918 851 885 885 885 ...\n",
      "    nir        (time, latitude, longitude) int16 2246 2509 2861 2817 2772 ...\n",
      "    swir1      (time, latitude, longitude) int16 1520 1641 2002 2161 2202 ...\n",
      "    swir2      (time, latitude, longitude) int16 873 956 1161 1244 1244 1203 ...\n",
      "    pixel_qa   (time, latitude, longitude) int32 224 224 224 96 224 224 224 ...\n",
      "Attributes:\n",
      "    crs:      EPSG:4326\n"
     ]
    }
   ],
   "source": [
    "print(landsat_data)"
   ]
  },
  {
   "cell_type": "markdown",
   "metadata": {},
   "source": [
    "<br>  \n",
    ".. you should notice a list of values called data-variables.\n",
    "\n",
    "<br>  \n",
    "\n",
    "These 'variables' are really 3 dimensional [data-arrays](http://xarray.pydata.org/en/stable/data-structures.html) housing values like 'red', 'green', 'blue', and 'nir', values for each lat,lon,time coordinate pair in your dataset.  Think of an [xarray.Dataset](http://xarray.pydata.org/en/stable/data-structures.html#dataset) as an object that houses many different types of data under a shared coordinate system.  \n",
    "<br>  \n",
    "  \n",
    "![](diagrams/rainy_demo/ls7_xarray.png)  \n",
    "\n",
    "<br>  \n",
    "\n",
    "If you wish to fetch certain  data from your dataset you can call it by its variable name. So, if for example, you wanted to get the near-infrared data-array from the dataset, you would just index it like so:  \n",
    "<br>    "
   ]
  },
  {
   "cell_type": "code",
   "execution_count": 39,
   "metadata": {},
   "outputs": [
    {
     "data": {
      "text/plain": [
       "<xarray.DataArray 'nir' (time: 20, latitude: 929, longitude: 929)>\n",
       "array([[[ 2246,  2509, ...,  1222,  1222],\n",
       "        [ 2422,  2509, ...,  1222,  1266],\n",
       "        ..., \n",
       "        [ 3024,  3068, ...,  3276,  3276],\n",
       "        [ 2981,  2981, ...,  3233,  3233]],\n",
       "\n",
       "       [[ 1509,  1947, ..., -9999, -9999],\n",
       "        [ 1708,  1986, ..., -9999, -9999],\n",
       "        ..., \n",
       "        [ 2809,  2888, ..., -9999, -9999],\n",
       "        [ 2809,  2888, ..., -9999, -9999]],\n",
       "\n",
       "       ..., \n",
       "       [[ 5701,  5740, ..., -9999, -9999],\n",
       "        [ 5701,  5701, ..., -9999, -9999],\n",
       "        ..., \n",
       "        [ 4291,  4291, ..., -9999, -9999],\n",
       "        [ 4252,  4291, ...,  4746,  4707]],\n",
       "\n",
       "       [[ 3052,  3171, ...,   599,   559],\n",
       "        [ 2731,  2771, ...,   599,   559],\n",
       "        ..., \n",
       "        [ 3080,  2801, ...,  2835,  2756],\n",
       "        [ 3080,  2841, ...,  2715,  2676]]], dtype=int16)\n",
       "Coordinates:\n",
       "  * time       (time) datetime64[ns] 2015-01-04T09:22:48 2015-01-20T09:22:48 ...\n",
       "  * latitude   (latitude) float64 13.0 13.0 13.0 13.0 13.0 13.0 13.0 13.0 ...\n",
       "  * longitude  (longitude) float64 14.25 14.25 14.25 14.25 14.25 14.25 14.25 ...\n",
       "Attributes:\n",
       "    crs:      EPSG:4326\n",
       "    nodata:   -9999\n",
       "    units:    reflectance"
      ]
     },
     "execution_count": 39,
     "metadata": {},
     "output_type": "execute_result"
    }
   ],
   "source": [
    "landsat_data.nir  "
   ]
  },
  {
   "cell_type": "markdown",
   "metadata": {},
   "source": [
    "<br>  \n",
    "\n",
    "The object printed above is a [data-array](http://xarray.pydata.org/en/stable/generated/xarray.DataArray.html). Unlike a data-set, data-arrays only house one type of data and has its own set of attributes and functions.   \n",
    "  \n",
    "<br>  "
   ]
  },
  {
   "cell_type": "markdown",
   "metadata": {},
   "source": [
    "### xarray - Landsat 7 Values \n",
    "Let's explore landsat datasets in greater detail by starting with some background about what sort of data landsat satellites collect...  \n",
    "  \n",
    "In layman terms, Landsat satellites observe light that is reflected or emitted from the surface of the earth.\n",
    "<br>  \n",
    "  \n",
    "\n",
    "<img src = \"diagrams/rainy_demo/visual_spectrum.jpg\", style=\"width: 600px;\"/>\n",
    "\n",
    "<br>\n",
    "\n",
    "In landsat The spectrum for observable light is split up into smaller sections like 'red', 'green', 'blue', 'thermal','infrared' so-on and so forth...  \n",
    "\n",
    "\n",
    "Each of these sections will have some value denoting how much of that light was reflected from each pixel. The dataset we've loaded in contains values for each of these sections in separate data-arrays under a shared dataset.   \n",
    "\n",
    "The ones used in this series of notebooks are:  \n",
    "\n",
    "- `red`\n",
    "- `green`  \n",
    "- `blue`\n",
    "- `nir` - near infrared\n",
    "- `swir1` - band for short wave infrared \n",
    "- `swir2` - band for short wave infrared\n",
    "\n",
    "There is an alternative band attached to the Landsat7 xarray dataset called pixel qa.\n",
    "\n",
    "- `pixel_qa`  - land cover classifications"
   ]
  },
  {
   "cell_type": "markdown",
   "metadata": {
    "collapsed": true
   },
   "source": [
    "### Taking a look at landsat data taken on July 31st, 2015  \n",
    "\n",
    "The data listed above can be used in conjunction to display a visual readout of the area. The code below will use our `red` `green`, and `blue` values to produce a **png** of one of our time slices.  "
   ]
  },
  {
   "cell_type": "code",
   "execution_count": 69,
   "metadata": {
    "collapsed": true
   },
   "outputs": [],
   "source": [
    "## The only take-away from this code should be that a .png is produced. \n",
    "## Any details about how this function is used is out of scope for this tutorial  \n",
    "\n",
    "from utils.dc_utilities import write_png_from_xr\n",
    "write_png_from_xr('demo/landsat_rgb.png', landsat_data.isel(time = 11), [\"red\", \"green\", \"blue\"], scale = [(0,2000),(0,2000),(0,2000)])"
   ]
  },
  {
   "cell_type": "markdown",
   "metadata": {},
   "source": [
    "![](demo/landsat_rgb.png)"
   ]
  },
  {
   "cell_type": "markdown",
   "metadata": {},
   "source": [
    "# The need to clean up imagery\n",
    "\n",
    "Considering the imagery above.  It is hard to build a comprehensive profile on landcover. There are several objects that occlude the surface of the earth. Namely errors introduced by an SLC malfunction, as well as cloud cover.  \n",
    "\n",
    "### Scanline Gaps  \n",
    "\n",
    "In May of 2003, Landsat7's scan line correction system failed (SLC). This essentially renders several horizontal rows of imagery unusable for analysis. Luckily, these scanline gaps don't always appear in the same spots.  With enough imagery, a \"gap-less\" representation can be constructed that we can use to analyze pre and post rainy season.  \n",
    "  \n",
    "<br>  \n",
    "\n",
    "![](diagrams/rainy_demo/slc_error_02.PNG)\n",
    "\n",
    "<br>  \n",
    "  \n",
    "  \n",
    "### Cloud occlusion  \n",
    "  \n",
    "Clouds get in the way of analyzing/observing the surface reflectance values of Lake Chad. Fortunately, like SLC gaps, clouds don't always appear in the same spot. With enough imagery, taken at close enough intervals, a \"cloudless\" representation of the area can be built for pre and post rainy season acquisitions of the region.  \n",
    "\n",
    "<br>  \n",
    "  \n",
    "  ![](diagrams/rainy_demo/cloud_clip_01.PNG)\n",
    "  \n",
    "<br>  \n",
    "\n",
    ">**Strong Assumptions**  \n",
    ">In this analysis, strong assumptions are made regarding the variability of lake size in the span of a few acquisitions.(Namely, that the size in a pre-rainy season won't vary as much as it will after the rainy season contributes to the surface area of the lake)  \n",
    "\n"
   ]
  },
  {
   "cell_type": "markdown",
   "metadata": {},
   "source": [
    "# Cleaning up Pre and Post rainy season Imagery  "
   ]
  },
  {
   "cell_type": "markdown",
   "metadata": {},
   "source": [
    "### Splitting the dataset in two  \n",
    "The first step to cleaning up pre and post rainy season imagery is to split our year's worth of acquisitions into two separate datasets. In the previous notebooks, We've discovered that an appropriate boundary for the rainy season is sometime between June and October. For the sake of this notebook, we'll choose the first day in both months.  \n",
    "<br>  "
   ]
  },
  {
   "cell_type": "code",
   "execution_count": 45,
   "metadata": {
    "collapsed": true
   },
   "outputs": [],
   "source": [
    "start_of_rainy_season = '2015-06-01'\n",
    "end_of_rainy_season   = '2015-10-01'"
   ]
  },
  {
   "cell_type": "markdown",
   "metadata": {},
   "source": [
    "<br>  \n",
    "The next step after defining this would be to define the time ranges for both post and pre, then use them to select subsections from the original dataset to act as two separate datasets. (Like in the diagram below)  \n",
    "\n",
    "<br>  \n",
    "\n",
    "![](diagrams/rainy_demo/split_02.png)  \n",
    "\n",
    "<br>"
   ]
  },
  {
   "cell_type": "code",
   "execution_count": 46,
   "metadata": {
    "collapsed": true
   },
   "outputs": [],
   "source": [
    "start_of_year = '2015-01-01'\n",
    "end_of_year   = '2015-12-31'\n",
    "\n",
    "pre  = landsat_data.sel(time = slice(start_of_year, start_of_rainy_season))\n",
    "post = landsat_data.sel(time = slice(end_of_rainy_season, end_of_year))"
   ]
  },
  {
   "cell_type": "markdown",
   "metadata": {},
   "source": [
    "<br>  \n",
    "\n",
    "# Building a cloud-free and gap-free representation  \n",
    "\n",
    "This section of the process works s by masking out clouds and gaps from the imagery and then selecting a median valued cloud/scanline-gap free pixels of an image.     \n",
    "  \n",
    "![](diagrams/rainy_demo/cleanup.png)\n",
    "  \n",
    "<br>  \n",
    "  \n",
    "- Masking is done using the **pixel_qa** variable.  \n",
    "- The gap/cloud-free compositing is done using a technique called **median-pixel-mosaicing**   \n",
    "\n",
    "<br>  "
   ]
  },
  {
   "cell_type": "markdown",
   "metadata": {},
   "source": [
    "\n",
    "### Masking out clouds and SLC gaps  using `pixel_qa`\n",
    "We're going to be using one of our loaded values called `pixel_qa` for the masking step.  \n",
    "\n",
    "`pixel_qa` doesn't convey surface reflectance intensities. Instead, it is a band that contains more abstract information for each pixel. It places a pixel under one or more of the following categories:    \n",
    "\n",
    "- `clear` - pixel is likely normal landcover  \n",
    "- `water`  - pixel is likely water  \n",
    "- `cloud_shadow`  - pixel is likely in the shadow of a cloud  \n",
    "- `snow` - the pixel is likely snowy  \n",
    "- `cloud` - the pixel is likely cloudy  \n",
    "- `fill` - the pixel is classified as not fit for analysis (SRC-Gaps fall in this classification)  \n",
    "\n",
    "We will use these classifications to mask out values unsuitable for analysis.  \n"
   ]
  },
  {
   "cell_type": "markdown",
   "metadata": {},
   "source": [
    "### A Masking Function    \n",
    "The masking step will have to make use of a very peculiar encoding for each category.  \n",
    "<br>  \n",
    "\n",
    "\\begin{array}{|c|c|}\n",
    "\\hline bit & value & sum & interpretation \\\\\\hline\n",
    "  \t\t0  & 1 & 1 & Fill \\\\\\hline \n",
    "        1  & 2 & 3 & Clear \\\\\\hline\n",
    "        2  & 4 & 7 & Water \\\\\\hline\n",
    "        3  & 8 & 15 & Cloud Shadow \\\\\\hline\n",
    "        4  & 16 & 31 & Snow \\\\\\hline\n",
    "        5  & 32 & 63 & Cloud \\\\\\hline\n",
    "        6  & 32 & 63 & Cloud Confidence \\\\\n",
    "        &&& 00 = None \\\\\n",
    "        7& 138& 255 & 01 = Low \\\\\n",
    "        &&& 10 = Med \\\\\n",
    "        &&& 11 = High \\\\\\hline \n",
    "        \\end{array}  \n",
    "          \n",
    "<br>  \n",
    "\n",
    "The following function was constructed to mask out anything that isn't **clear** or **water**.  \n",
    "<br>  "
   ]
  },
  {
   "cell_type": "code",
   "execution_count": 50,
   "metadata": {
    "collapsed": true
   },
   "outputs": [],
   "source": [
    "import numpy as np  \n",
    "\n",
    "def cloud_and_slc_removal_mask(dataset):\n",
    "    #Create boolean Masks for clear and water pixels\n",
    "    clear_pixels = dataset.pixel_qa.values == 2 + 64\n",
    "    water_pixels = dataset.pixel_qa.values == 4 + 64\n",
    "    \n",
    "    a_clean_mask = np.logical_or(clear_pixels, water_pixels)\n",
    "    return a_clean_mask"
   ]
  },
  {
   "cell_type": "markdown",
   "metadata": {},
   "source": [
    "<br>  \n",
    "The following code creates a **boolean** mask, for slc code.  \n",
    "<br>  "
   ]
  },
  {
   "cell_type": "code",
   "execution_count": 51,
   "metadata": {
    "collapsed": true
   },
   "outputs": [],
   "source": [
    "mask_for_pre  = cloud_and_slc_removal_mask(pre)\n",
    "mask_for_post = cloud_and_slc_removal_mask(post)  "
   ]
  },
  {
   "cell_type": "markdown",
   "metadata": {},
   "source": [
    "<br>  \n",
    "A boolean mask is essentially what it sounds like. Let's look at its print-out  \n",
    "\n",
    "<br>  "
   ]
  },
  {
   "cell_type": "code",
   "execution_count": 53,
   "metadata": {},
   "outputs": [
    {
     "name": "stdout",
     "output_type": "stream",
     "text": [
      "[[[ True  True  True ..., False False False]\n",
      "  [ True  True  True ..., False False False]\n",
      "  [ True  True  True ...,  True  True  True]\n",
      "  ..., \n",
      "  [False False False ..., False False False]\n",
      "  [False False False ...,  True False False]\n",
      "  [False False False ...,  True  True  True]]\n",
      "\n",
      " [[ True  True  True ...,  True  True  True]\n",
      "  [ True  True  True ...,  True  True  True]\n",
      "  [ True  True  True ...,  True  True  True]\n",
      "  ..., \n",
      "  [ True  True  True ...,  True  True  True]\n",
      "  [ True  True  True ...,  True  True  True]\n",
      "  [ True  True  True ...,  True  True  True]]\n",
      "\n",
      " [[ True  True  True ..., False False False]\n",
      "  [ True  True  True ..., False False False]\n",
      "  [ True  True  True ..., False False False]\n",
      "  ..., \n",
      "  [ True  True  True ..., False False False]\n",
      "  [ True  True  True ..., False False False]\n",
      "  [ True  True  True ...,  True  True  True]]\n",
      "\n",
      " [[ True  True  True ...,  True  True  True]\n",
      "  [ True  True  True ...,  True  True  True]\n",
      "  [ True  True  True ...,  True  True  True]\n",
      "  ..., \n",
      "  [ True  True  True ...,  True  True  True]\n",
      "  [ True  True  True ...,  True  True  True]\n",
      "  [ True  True  True ...,  True  True  True]]\n",
      "\n",
      " [[False False False ..., False False False]\n",
      "  [False False False ..., False False False]\n",
      "  [False False False ..., False False False]\n",
      "  ..., \n",
      "  [False False False ..., False False False]\n",
      "  [False False False ..., False False False]\n",
      "  [False False False ..., False False False]]\n",
      "\n",
      " [[ True  True  True ...,  True  True  True]\n",
      "  [ True  True  True ...,  True  True  True]\n",
      "  [ True  True  True ...,  True  True  True]\n",
      "  ..., \n",
      "  [ True  True  True ...,  True  True  True]\n",
      "  [ True  True  True ...,  True  True  True]\n",
      "  [ True  True  True ...,  True  True  True]]]\n"
     ]
    }
   ],
   "source": [
    "print(mask_for_post)"
   ]
  },
  {
   "cell_type": "markdown",
   "metadata": {},
   "source": [
    "<br>     \n",
    "\n",
    "This boolean mask contains a **true** value for pixels that are clear and un-occluded by clouds or scanline gaps and **false** values where the opposite is true.  \n",
    "<br>     \n",
    "\n",
    "### Example of mask use   \n",
    "\n",
    "There are many ways to apply a mask. The following example is the xarray way. It will apply *nan* values to areas with clouds or scanline issues:  \n",
    "<br>"
   ]
  },
  {
   "cell_type": "code",
   "execution_count": 54,
   "metadata": {},
   "outputs": [
    {
     "data": {
      "text/plain": [
       "<xarray.Dataset>\n",
       "Dimensions:    (latitude: 929, longitude: 929, time: 9)\n",
       "Coordinates:\n",
       "  * longitude  (longitude) float64 14.25 14.25 14.25 14.25 14.25 14.25 14.25 ...\n",
       "  * time       (time) datetime64[ns] 2015-01-04T09:22:48 2015-01-20T09:22:48 ...\n",
       "  * latitude   (latitude) float64 13.0 13.0 13.0 13.0 13.0 13.0 13.0 13.0 ...\n",
       "Data variables:\n",
       "    red        (time, latitude, longitude) float64 nan nan nan nan nan nan ...\n",
       "    green      (time, latitude, longitude) float64 nan nan nan nan nan nan ...\n",
       "    blue       (time, latitude, longitude) float64 nan nan nan nan nan nan ...\n",
       "    nir        (time, latitude, longitude) float64 nan nan nan nan nan nan ...\n",
       "    swir1      (time, latitude, longitude) float64 nan nan nan nan nan nan ...\n",
       "    swir2      (time, latitude, longitude) float64 nan nan nan nan nan nan ...\n",
       "    pixel_qa   (time, latitude, longitude) float64 nan nan nan nan nan nan ...\n",
       "Attributes:\n",
       "    crs:      EPSG:4326"
      ]
     },
     "execution_count": 54,
     "metadata": {},
     "output_type": "execute_result"
    }
   ],
   "source": [
    "pre.where(mask_for_pre)"
   ]
  },
  {
   "cell_type": "markdown",
   "metadata": {},
   "source": [
    "Notice that a lot of the values in the array above have nan values. Compositing algorithms like the **median-pixel mosaic** below, make use of this **where** function as well as 'nans' as the marker for no-data values. "
   ]
  },
  {
   "cell_type": "markdown",
   "metadata": {},
   "source": [
    "<br>  \n",
    "### Median Pixel Mosaic\n",
    "A median pixel mosaic is used for our cloud/slc-gap free representation of satellite imagery. It Works by masking out clouds/slc-gaps from imagery, and using the median valued cloud-free pixels in the time series of each lat-lon coordinate pair  \n",
    "\n",
    "<br>    \n",
    "![](diagrams/rainy_demo/median_comp.png)\n",
    "  \n"
   ]
  },
  {
   "cell_type": "markdown",
   "metadata": {},
   "source": [
    "Here is a function we can use to build our mosaic. Its exact mechanics are abstracted away from this tutorial and can be explored in further detail by visiting [our github](https://github.com/ceos-seo/data_cube_utilities/blob/master/dc_mosaic.py).  \n",
    "<br>"
   ]
  },
  {
   "cell_type": "code",
   "execution_count": 56,
   "metadata": {
    "collapsed": true
   },
   "outputs": [],
   "source": [
    "from utils.dc_mosaic import create_median_mosaic\n",
    "\n",
    "def mosaic(dataset, mask):\n",
    "    return create_median_mosaic(dataset, clean_mask = mask)"
   ]
  },
  {
   "cell_type": "markdown",
   "metadata": {},
   "source": [
    "<br>\n",
    "Lets use it to generate our cloud free representations of the area:  \n",
    "<br>  "
   ]
  },
  {
   "cell_type": "code",
   "execution_count": 57,
   "metadata": {
    "collapsed": true
   },
   "outputs": [],
   "source": [
    "clean_pre  = mosaic(pre, mask_for_pre)  \n",
    "clean_post = mosaic(post, mask_for_post)"
   ]
  },
  {
   "cell_type": "markdown",
   "metadata": {},
   "source": [
    "<br>\n",
    "# Taking a peek at our cloud-free composites\n",
    "<br>  \n",
    "### Pre Rainy Season  "
   ]
  },
  {
   "cell_type": "code",
   "execution_count": 58,
   "metadata": {},
   "outputs": [
    {
     "name": "stdout",
     "output_type": "stream",
     "text": [
      "<xarray.Dataset>\n",
      "Dimensions:    (latitude: 929, longitude: 929)\n",
      "Coordinates:\n",
      "  * longitude  (longitude) float64 14.25 14.25 14.25 14.25 14.25 14.25 14.25 ...\n",
      "  * latitude   (latitude) float64 13.0 13.0 13.0 13.0 13.0 13.0 13.0 13.0 ...\n",
      "Data variables:\n",
      "    red        (latitude, longitude) int32 809 869 961 957 987 946 921 971 ...\n",
      "    green      (latitude, longitude) int32 778 791 846 833 832 846 858 859 ...\n",
      "    blue       (latitude, longitude) int32 539 590 590 591 617 604 591 579 ...\n",
      "    nir        (latitude, longitude) int32 1952 2001 2362 2280 2265 2438 ...\n",
      "    swir1      (latitude, longitude) int32 1538 1576 2086 2204 2152 2150 ...\n",
      "    swir2      (latitude, longitude) int32 883 913 1203 1276 1253 1263 1186 ...\n",
      "    pixel_qa   (latitude, longitude) int32 66 66 66 66 66 66 66 66 66 66 66 ...\n"
     ]
    }
   ],
   "source": [
    "print(clean_pre)  "
   ]
  },
  {
   "cell_type": "code",
   "execution_count": 73,
   "metadata": {
    "collapsed": true
   },
   "outputs": [],
   "source": [
    "write_png_from_xr('demo/pre_rain_mosaic.png', clean_pre, [\"red\", \"green\", \"blue\"], scale = [(0,2000),(0,2000),(0,2000)])"
   ]
  },
  {
   "cell_type": "markdown",
   "metadata": {},
   "source": [
    "Your png should look something like this:  \n",
    "![](demo/pre_rain_mosaic.png)  "
   ]
  },
  {
   "cell_type": "markdown",
   "metadata": {},
   "source": [
    "### Post Rainy Season  \n"
   ]
  },
  {
   "cell_type": "code",
   "execution_count": 60,
   "metadata": {},
   "outputs": [
    {
     "name": "stdout",
     "output_type": "stream",
     "text": [
      "<xarray.Dataset>\n",
      "Dimensions:    (latitude: 929, longitude: 929)\n",
      "Coordinates:\n",
      "  * longitude  (longitude) float64 14.25 14.25 14.25 14.25 14.25 14.25 14.25 ...\n",
      "  * latitude   (latitude) float64 13.0 13.0 13.0 13.0 13.0 13.0 13.0 13.0 ...\n",
      "Data variables:\n",
      "    red        (latitude, longitude) int32 585 638 664 742 718 663 663 708 ...\n",
      "    green      (latitude, longitude) int32 779 794 807 725 725 698 726 702 ...\n",
      "    blue       (latitude, longitude) int32 457 437 468 441 440 402 440 440 ...\n",
      "    nir        (latitude, longitude) int32 3149 3440 3513 3156 2899 3010 ...\n",
      "    swir1      (latitude, longitude) int32 1804 1845 2189 2221 2259 2095 ...\n",
      "    swir2      (latitude, longitude) int32 883 920 1017 1053 1169 1001 846 ...\n",
      "    pixel_qa   (latitude, longitude) int32 66 66 66 66 66 66 66 66 66 66 66 ...\n"
     ]
    }
   ],
   "source": [
    "print(clean_post)  "
   ]
  },
  {
   "cell_type": "code",
   "execution_count": 72,
   "metadata": {
    "collapsed": true
   },
   "outputs": [],
   "source": [
    "write_png_from_xr('demo/post_rain_mosaic.png', clean_post, [\"red\", \"green\", \"blue\"], scale = [(0,2000),(0,2000),(0,2000)])"
   ]
  },
  {
   "cell_type": "markdown",
   "metadata": {},
   "source": [
    "![](demo/post_rain_mosaic.png)  "
   ]
  },
  {
   "cell_type": "markdown",
   "metadata": {},
   "source": [
    "# Next Steps\n",
    "\n",
    "The [next notebook](igarss_chad_03.ipynb) in the series deals with water classification on these cloud free composites!  We'll need to save our work so that it can be loaded in the next notebook. The good news is that xarrays closely resemble the structure of net NETCDF files. It would make sense to save it off in that format.  The code below saves these files as NETCDFS using built-in export features of xarray.  "
   ]
  },
  {
   "cell_type": "code",
   "execution_count": 74,
   "metadata": {
    "collapsed": true
   },
   "outputs": [],
   "source": [
    "## Lets drop pixel qa since it doesn't make sense to house it in a composite.  \n",
    "final_post = clean_post.drop('pixel_qa')\n",
    "final_pre  = clean_pre.drop('pixel_qa')\n",
    "\n",
    "final_post.to_netcdf('demo/post_rain.nc')\n",
    "final_pre.to_netcdf('demo/pre_rain.nc')"
   ]
  },
  {
   "cell_type": "markdown",
   "metadata": {},
   "source": [
    " The entire notebook has been condensed down to a about 2 dozen lines of code below."
   ]
  },
  {
   "cell_type": "code",
   "execution_count": 65,
   "metadata": {
    "collapsed": true
   },
   "outputs": [],
   "source": [
    "import datacube\n",
    "from datetime import datetime\n",
    "from utils.dc_mosaic import create_median_mosaic\n",
    "\n",
    "def mosaic(dataset, mask):\n",
    "    return create_median_mosaic(dataset, clean_mask = mask)\n",
    "\n",
    "def cloud_and_slc_removal_mask(dataset):\n",
    "    clear_pixels = dataset.pixel_qa.values == 2 + 64\n",
    "    water_pixels = dataset.pixel_qa.values == 4 + 64\n",
    "    a_clean_mask = np.logical_or(clear_pixels, water_pixels)\n",
    "    return a_clean_mask\n",
    "\n",
    "#datacube obj\n",
    "dc = datacube.Datacube(app = \"cloud_removal_in_chad\", config = '/home/localuser/.datacube.conf') \n",
    "\n",
    "#load params\n",
    "latitude = (12.75, 13.0)\n",
    "longitude = (14.25, 14.5)\n",
    "time = (datetime(2015,1,1), datetime(2016,1,1))\n",
    "\n",
    "platform = 'LANDSAT_7'  \n",
    "product = 'ls7_ledaps_lake_chad_example' \n",
    "measurements = ['red', 'green', 'blue', 'nir', 'swir1', 'swir2','pixel_qa']\n",
    "\n",
    "#load\n",
    "landsat_data = dc.load(latitude = latitude, longitude = longitude, time = time, product = product, platform = platform, measurements = measurements)\n",
    "\n",
    "#time split params\n",
    "start_of_rainy_season = '2015-06-01'\n",
    "end_of_rainy_season   = '2015-10-01'\n",
    "start_of_year = '2015-01-01'\n",
    "end_of_year   = '2015-12-31'\n",
    "\n",
    "#time split\n",
    "pre  = landsat_data.sel(time = slice(start_of_year, start_of_rainy_season))\n",
    "post = landsat_data.sel(time = slice(end_of_rainy_season, end_of_year))\n",
    "\n",
    "#mask for mosaic processs\n",
    "mask_for_pre  = cloud_and_slc_removal_mask(pre)\n",
    "mask_for_post = cloud_and_slc_removal_mask(post)  \n",
    "\n",
    "#mosaic process\n",
    "clean_pre  = mosaic(pre, mask_for_pre)  \n",
    "clean_post = mosaic(post, mask_for_post)\n",
    "\n",
    "#save file\n",
    "clean_pre.drop('pixel_qa').to_netcdf('demo/pre_01.cd')\n",
    "clean_post.drop('pixel_qa').to_netcdf('demo/post_01.cd')"
   ]
  },
  {
   "cell_type": "code",
   "execution_count": null,
   "metadata": {
    "collapsed": true
   },
   "outputs": [],
   "source": []
  }
 ],
 "metadata": {
  "kernelspec": {
   "display_name": "Python 3",
   "language": "python",
   "name": "python3"
  },
  "language_info": {
   "codemirror_mode": {
    "name": "ipython",
    "version": 3
   },
   "file_extension": ".py",
   "mimetype": "text/x-python",
   "name": "python",
   "nbconvert_exporter": "python",
   "pygments_lexer": "ipython3",
   "version": "3.5.2"
  }
 },
 "nbformat": 4,
 "nbformat_minor": 2
}
