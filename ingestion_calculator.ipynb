{
 "cells": [
  {
   "cell_type": "markdown",
   "metadata": {},
   "source": [
    "## What to Expect From This Notebook\n",
    "- This notebook is a demonstration of the proper way to calculate the number of pixels to project a satellite image to when given latitude and longitude or path and row WRS-2 coordinates\n",
    "- This notebook takes into account the geoid shape Earth using the latest World Geodetic System (WGS84)\n",
    "\n",
    "## Algorithmic Steps\n",
    "- Turn path and row WRS coordinates into latitude and longitude coordinates if not already\n",
    "- Determine the number of meters per degree of latitude and longitude\n",
    "- Determine the pixel count of one degree of latitude and longitude using the meters per degree and satellite image resolution\n",
    "- Calculate the tile resolution that should be used using meters per degree and satellite image resolution\n",
    "- Determine tile size in pixels using tile resolution and meters per degree of latitude and longitude\n",
    "***\n",
    "## How It Works\n",
    "To determine the appropriate pixel size to use for a geographic region there are three basic factors to take into account:\n",
    "  - <font color=green>The resolution of the satellite</font>\n",
    "    - Landsat satellites have a resolution of 30m per pixel\n",
    "  - <font color=green>The latitude</font>\n",
    "    - The longitude does not matter.  The meters per degree of longitude are determined by the latitude since the longitudinal lines converge at the poles and reach their maxima at the equator. \n",
    "  - <font color=green>The actual shape of the Earth</font>\n",
    "    - Earth is not a true sphere, it is actually a geoid.  Becuase of this we have to use a gravimetrically oriented ellipsoid to approximate Earth.\n",
    "    - We will use the WGS84 measurements of the Earth's semimajor and semiminor axes since that is what GPS relies on and is very accurate.  It is estimated that the true center of Earth's mass lies within 2cm of the WGS84 measurements.\n",
    "![](diagrams/ingestion/WGS_84.png)  "
   ]
  },
  {
   "cell_type": "code",
   "execution_count": null,
   "metadata": {},
   "outputs": [],
   "source": [
    "import math\n",
    "import pandas as pd\n",
    "import requests\n",
    "import time\n",
    "\n",
    "#Getter for Epoch time\n",
    "current_milli_time = lambda: int(round(time.time() * 1000))"
   ]
  },
  {
   "cell_type": "markdown",
   "metadata": {},
   "source": [
    "## What are WRS-2 Path and Rows?\n",
    "\n",
    "USGS satellites follow tilted, nearly vertical paths.  These paths are geodesic, one full cycle does not end where it starts.\n",
    "- <font color=purple>Paths</font> are the intuitive name given to the vertical rows of the geodesic paths taken by the satellites\n",
    "- <font color=purple>Rows</font> are slightly more abstract in that they are \n",
    "![](diagrams/ingestion/geodesic_on_an_oblate_ellipsoid.png)  \n",
    "![](diagrams/ingestion/wrs2.gif)  "
   ]
  },
  {
   "cell_type": "code",
   "execution_count": null,
   "metadata": {},
   "outputs": [],
   "source": [
    "#For consistency and simplicity, since the alternative is retreiving and parsing a shapefile\n",
    "#we will ping USGS' web tool for path row conversion\n",
    "def pr_to_ll(path, row, show_url = False):\n",
    "    \"\"\"Path/Row WRS coordinates to Latitude and Longitude.\n",
    "    This function uses USGS' landsat calculator for lat/long conversions via an HTTP request\n",
    "    \"\"\"\n",
    "    \n",
    "    url = \"https://landsat.usgs.gov/landsat/lat_long_converter/tools_latlong.php?rs=convert_pr_to_ll\"\n",
    "    a = [path,row]    \n",
    "    for i in range(len(a)):\n",
    "        url = url + \"&rsargs[]=\" + str(a[i])\n",
    "    url = url + \"&rsrnd=\" + str(current_milli_time())\n",
    "    if(show_url): print(\"view directly from USGS:\", url)\n",
    "    r = requests.get(url)  \n",
    "    table = pd.read_html(r.text)[0]\n",
    "    lat, lon = table[1][1], table[3][1]\n",
    "    return {\"Latitude\":float(lat),\"Longitude\":float(lon)}"
   ]
  },
  {
   "cell_type": "markdown",
   "metadata": {},
   "source": []
  },
  {
   "cell_type": "code",
   "execution_count": 1,
   "metadata": {},
   "outputs": [],
   "source": [
    "#This is the result of using the geodetic distance formula using the\n",
    "#ellipsoid measurements from WGS84 reduced to constants.\n",
    "#it should be accurate to within ~1 meter\n",
    "def meters_per_degree(degrees_latitude):\n",
    "    \"\"\"Gets meters per degree of latitude and longitude from latitude\"\"\"\n",
    "    lat_rads = math.radians(degrees_latitude)\n",
    "    mpd_lat = 111132.92 - 559.82*math.cos(2*lat_rads)+1.175*math.cos(4*lat_rads)\n",
    "    mpd_lon = 111412.84 * math.cos(lat_rads) - 93.5 * math.cos(3*lat_rads)\n",
    "    return {\"lat_mpd\":mpd_lat, \"lon_mpd\":mpd_lon}"
   ]
  },
  {
   "cell_type": "markdown",
   "metadata": {},
   "source": []
  },
  {
   "cell_type": "code",
   "execution_count": 3,
   "metadata": {},
   "outputs": [],
   "source": []
  },
  {
   "cell_type": "code",
   "execution_count": 4,
   "metadata": {},
   "outputs": [],
   "source": [
    "def pixel_counts(latitude_position, image_resolution = 30):\n",
    "    \"\"\"Pixel count information based on the latitude and image resolution.\n",
    "    This function returns a dictionary of values indicating the pixel counts, tile-sizes,\n",
    "    resolutions, and estimated meters per degrees for both latitude and longitude.\n",
    "    \"\"\"\n",
    "    \n",
    "    temp = meters_per_degree(latitude_position)\n",
    "    lat_pxl_count = math.floor(temp[\"lat_mpd\"]/image_resolution)\n",
    "    lon_pxl_count = math.floor(temp[\"lon_mpd\"]/image_resolution)\n",
    "    res_lat = -(image_resolution/temp[\"lat_mpd\"])\n",
    "    res_lon = image_resolution/temp[\"lon_mpd\"]\n",
    "    tile_size_lat = -(res_lat*lat_pxl_count)\n",
    "    tile_size_lon = res_lon*lon_pxl_count\n",
    "    cond1 = (tile_size_lat / res_lat)%1==0\n",
    "    cond2 = (tile_size_lon / res_lon)%1==0\n",
    "    if(cond1 & cond2):\n",
    "        return {\"lat_pxl_count\":lat_pxl_count, \"lon_pxl_count\":lon_pxl_count,\n",
    "                \"resolution_lat\":res_lat, \"resolution_lon\":res_lon, \"tile_size_lat\":tile_size_lat,\n",
    "                \"tile_size_lon\":tile_size_lon, \"meters_per_deg_lat\":temp[\"lat_mpd\"], \"meters_per_deg_lon\":temp[\"lon_mpd\"]}\n",
    "    "
   ]
  },
  {
   "cell_type": "code",
   "execution_count": 5,
   "metadata": {},
   "outputs": [],
   "source": [
    "def pr_to_pixel_counts(path = 0, row = 0, resolution = 30):\n",
    "    \"\"\"Path/Row WRS coordinates to pixel count information.\n",
    "    This function is a wrapper for the pixel_counts function that allows you to pass\n",
    "    path and row coordinates in order to get the pixel counts, tile-sizes,\n",
    "    resolutions, and estimated meters per degrees for both latitude and longitude.\n",
    "    \"\"\"\n",
    "    \n",
    "    lat_lon = pr_to_ll(path,row)\n",
    "    return {**lat_lon, **pixel_counts(lat_lon[\"Latitude\"])}\n",
    "\n",
    "def ll_to_pixel_counts(latitude = 0, longitude = 0, resolution = 30):\n",
    "    \"\"\"Latitude and Longitude coordinates to pixel count information.\n",
    "    This function is a wrapper for the pixel_counts function that allows you to pass\n",
    "    latitude and longitude coordinates in order to get the pixel counts, tile-sizes,\n",
    "    resolutions, and estimated meters per degrees for the given latitude and longitude.\n",
    "    \"\"\"\n",
    "    \n",
    "    lat_lon = {\"Latitude\":latitude,\"Longitude\":longitude}\n",
    "    return {**lat_lon, **pixel_counts(lat_lon[\"Latitude\"])}"
   ]
  },
  {
   "cell_type": "code",
   "execution_count": 6,
   "metadata": {},
   "outputs": [
    {
     "data": {
      "text/plain": [
       "{'lat_mpd': 111637.22846518604, 'lon_mpd': 25028.242043474733}"
      ]
     },
     "execution_count": 6,
     "metadata": {},
     "output_type": "execute_result"
    }
   ],
   "source": [
    "#in order to get the meters per degree for latitude and longitude directly, use:\n",
    "meters_per_degree(77.049)"
   ]
  },
  {
   "cell_type": "code",
   "execution_count": 7,
   "metadata": {},
   "outputs": [
    {
     "data": {
      "text/plain": [
       "({'Latitude': 77.049, 'Longitude': -25.208},\n",
       " {'lat_pxl_count': 3721,\n",
       "  'lon_pxl_count': 834,\n",
       "  'meters_per_deg_lat': 111637.22846518604,\n",
       "  'meters_per_deg_lon': 25028.242043474733,\n",
       "  'resolution_lat': -0.0002687275599049422,\n",
       "  'resolution_lon': 0.001198645911602149,\n",
       "  'tile_size_lat': 0.9999352504062899,\n",
       "  'tile_size_lon': 0.9996706902761923})"
      ]
     },
     "execution_count": 7,
     "metadata": {},
     "output_type": "execute_result"
    }
   ],
   "source": [
    "#to get all of the pixel count information from latitude/Longitude format:\n",
    "ll_to_pixel_counts(77.049,-25.208,30) #only latitude and image resolution matter for the calculations"
   ]
  },
  {
   "cell_type": "code",
   "execution_count": 8,
   "metadata": {},
   "outputs": [
    {
     "data": {
      "text/plain": [
       "({'Latitude': 77.049, 'Longitude': -25.208},\n",
       " {'lat_pxl_count': 3721,\n",
       "  'lon_pxl_count': 834,\n",
       "  'meters_per_deg_lat': 111637.22846518604,\n",
       "  'meters_per_deg_lon': 25028.242043474733,\n",
       "  'resolution_lat': -0.0002687275599049422,\n",
       "  'resolution_lon': 0.001198645911602149,\n",
       "  'tile_size_lat': 0.9999352504062899,\n",
       "  'tile_size_lon': 0.9996706902761923})"
      ]
     },
     "execution_count": 8,
     "metadata": {},
     "output_type": "execute_result"
    }
   ],
   "source": [
    "#in order to get pixel count information from path/row format:\n",
    "pr_to_pixel_counts(4,5,30) #with path, row, and image_resolution as the arguments"
   ]
  },
  {
   "cell_type": "code",
   "execution_count": 9,
   "metadata": {},
   "outputs": [
    {
     "data": {
      "text/plain": [
       "{'lat_mpd': 110940.55018114275, 'lon_mpd': 91288.25522675944}"
      ]
     },
     "execution_count": 9,
     "metadata": {},
     "output_type": "execute_result"
    }
   ],
   "source": [
    "meters_per_degree(35)"
   ]
  },
  {
   "cell_type": "code",
   "execution_count": null,
   "metadata": {},
   "outputs": [],
   "source": [
    "meters_per_degree_2(35)"
   ]
  },
  {
   "cell_type": "code",
   "execution_count": null,
   "metadata": {},
   "outputs": [],
   "source": [
    "2**3"
   ]
  },
  {
   "cell_type": "code",
   "execution_count": 12,
   "metadata": {},
   "outputs": [
    {
     "name": "stdout",
     "output_type": "stream",
     "text": [
      "{'C': 3, 'A': 1, 'B': 2}\n"
     ]
    }
   ],
   "source": [
    "dicA = {\"A\":1, \"B\":3}\n",
    "dicB = {\"B\":2 ,\"C\":3}\n",
    "dicC = {**dicA,**dicB}\n",
    "print(dicC)"
   ]
  },
  {
   "cell_type": "code",
   "execution_count": null,
   "metadata": {},
   "outputs": [],
   "source": []
  }
 ],
 "metadata": {
  "kernelspec": {
   "display_name": "Python 3",
   "language": "python",
   "name": "python3"
  },
  "language_info": {
   "codemirror_mode": {
    "name": "ipython",
    "version": 3
   },
   "file_extension": ".py",
   "mimetype": "text/x-python",
   "name": "python",
   "nbconvert_exporter": "python",
   "pygments_lexer": "ipython3",
   "version": "3.5.2"
  }
 },
 "nbformat": 4,
 "nbformat_minor": 2
}
