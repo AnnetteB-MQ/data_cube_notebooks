{
 "cells": [
  {
   "cell_type": "code",
   "execution_count": null,
   "metadata": {
    "scrolled": true
   },
   "outputs": [],
   "source": [
    "%matplotlib inline\n",
    "\n",
    "# supress warnings\n",
    "import warnings\n",
    "warnings.filterwarnings('ignore')"
   ]
  },
  {
   "cell_type": "markdown",
   "metadata": {},
   "source": [
    "# NDVI  \n",
    "<br>  \n",
    "  \n",
    "> **NDVI(Normalized Difference Vegetation Index**  \n",
    "> A derived index that correlates well with the existance of vegetation.  \n",
    "\n",
    "<br>\n",
    "\n",
    "$$ NDVI =  \\frac{(NIR - RED)}{(NIR + RED)}$$  \n",
    "\n",
    "<br>"
   ]
  },
  {
   "cell_type": "code",
   "execution_count": null,
   "metadata": {
    "scrolled": true
   },
   "outputs": [],
   "source": [
    "def NDVI(dataset):\n",
    "    return (dataset.nir - dataset.red)/(dataset.nir + dataset.red)"
   ]
  },
  {
   "cell_type": "markdown",
   "metadata": {},
   "source": [
    "# NDWI  \n",
    "  \n",
    "> **NDWI Normalized Difference Water Index**  \n",
    "> A derived index that correlates well with the existance of water.  \n",
    "<br>\n",
    "\n",
    "$$ NDWI =  \\frac{GREEN - NIR}{GREEN + NIR}$$  \n",
    "  \n",
    "<br>"
   ]
  },
  {
   "cell_type": "code",
   "execution_count": null,
   "metadata": {
    "scrolled": true
   },
   "outputs": [],
   "source": [
    "def NDWI(dataset):\n",
    "    return (dataset.green - dataset.nir)/(dataset.green + dataset.nir)"
   ]
  },
  {
   "cell_type": "markdown",
   "metadata": {},
   "source": [
    "# NDBI  \n",
    "\n",
    "> **NDWI Normalized Difference Build-Up Index**  \n",
    "> A derived index that correlates well with the existance of urbanization.  \n",
    "<br>\n",
    "\n",
    "$$ NDBI =  \\frac{(SWIR - NIR)}{(SWIR + NIR)}$$  \n",
    " \n",
    "<br>  "
   ]
  },
  {
   "cell_type": "code",
   "execution_count": null,
   "metadata": {
    "scrolled": true
   },
   "outputs": [],
   "source": [
    "def NDBI(dataset):\n",
    "        return (dataset.swir2 - dataset.nir)/(dataset.swir2 + dataset.nir)"
   ]
  },
  {
   "cell_type": "markdown",
   "metadata": {},
   "source": [
    "# MOSAIC  \n",
    "  \n",
    ">**Recent-Pixel-First Mosaic**   \n",
    ">A cloud free representation of satellite imagery. Works by masking out clouds from imagery, and using the most recent cloud-free pixels in an image.  \n",
    "\n",
    "![](diagrams/urbanization/flat_mosaic.png)\n",
    "  \n",
    "<br>  "
   ]
  },
  {
   "cell_type": "code",
   "execution_count": null,
   "metadata": {
    "scrolled": true
   },
   "outputs": [],
   "source": [
    "from utils.data_cube_utilities.dc_mosaic import create_mosaic, ls8_unpack_qa\n",
    "import numpy as np\n",
    "\n",
    "def mosaic(dataset):\n",
    "    # The mask here is based on pixel_qa. It comes bundled in with most Landsat Products.\n",
    "    clear_xarray  = ls8_unpack_qa(dataset.pixel_qa, \"clear\")  # Boolean Xarray indicating landcover\n",
    "    water_xarray  = ls8_unpack_qa(dataset.pixel_qa, \"water\")  # Boolean Xarray indicating watercover\n",
    "    \n",
    "    cloud_free_boolean_mask = np.logical_or(clear_xarray, water_xarray)\n",
    "    \n",
    "    return create_mosaic(dataset, clean_mask = cloud_free_boolean_mask)"
   ]
  },
  {
   "cell_type": "markdown",
   "metadata": {},
   "source": [
    "<br>\n",
    "  \n",
    "> **Median Mosaic**  \n",
    ">  A cloud free representation fo satellite imagery. Works by masking out clouds from imagery, and using the median valued cloud-free pixels in the time series  \n",
    "  \n",
    "<br>\n",
    "\n",
    "\n",
    "![](diagrams/urbanization/median_comp.png)  \n",
    "  \n",
    "<br>"
   ]
  },
  {
   "cell_type": "code",
   "execution_count": null,
   "metadata": {
    "scrolled": true
   },
   "outputs": [],
   "source": [
    "from utils.data_cube_utilities.dc_mosaic import create_median_mosaic, ls8_unpack_qa\n",
    "\n",
    "def median_mosaic(dataset):\n",
    "    # The mask here is based on pixel_qa. It comes bundled in with most Landsat Products.\n",
    "    clear_xarray  = ls8_unpack_qa(dataset.pixel_qa, \"clear\")  # Boolean Xarray indicating landcover\n",
    "    water_xarray  = ls8_unpack_qa(dataset.pixel_qa, \"water\")  # Boolean Xarray indicating watercover\n",
    "    \n",
    "    cloud_free_boolean_mask = np.logical_or(clear_xarray, water_xarray)\n",
    "    \n",
    "    return create_median_mosaic(dataset, clean_mask = cloud_free_boolean_mask)"
   ]
  },
  {
   "cell_type": "markdown",
   "metadata": {},
   "source": [
    "<br>  \n",
    "\n",
    "# Loading Data"
   ]
  },
  {
   "cell_type": "markdown",
   "metadata": {},
   "source": [
    "> **Data cube object**  \n",
    "> A datacube object is your interface with data stored on your data cube system.  \n",
    "<br>  "
   ]
  },
  {
   "cell_type": "code",
   "execution_count": null,
   "metadata": {
    "scrolled": true
   },
   "outputs": [],
   "source": [
    "import datacube  \n",
    "dc = datacube.Datacube(app = '3B_urban', config = '/home/localuser/.datacube.conf')  "
   ]
  },
  {
   "cell_type": "markdown",
   "metadata": {},
   "source": [
    "<br>\n",
    "\n",
    "> **Loading a Dataset**  \n",
    "> Requires latitude-longitude bounds of an area, a time-range, list of desired measurements, platform and product names."
   ]
  },
  {
   "cell_type": "code",
   "execution_count": null,
   "metadata": {
    "scrolled": true
   },
   "outputs": [],
   "source": [
    "dc.list_products()"
   ]
  },
  {
   "cell_type": "code",
   "execution_count": null,
   "metadata": {
    "scrolled": true
   },
   "outputs": [],
   "source": [
    "from datetime import datetime\n",
    "\n",
    "## Loading in a region\n",
    "start_date = datetime(2015,1,1)\n",
    "end_date = datetime(2015,12,24)\n",
    "lat = (10.8381,11.3526)\n",
    "lon = (106.9136,107.5348)\n",
    "\n",
    "## Considering the year of 2015\n",
    "date_range = (start_date,end_date)\n",
    "\n",
    "## Landsat 8 Data\n",
    "platform = 'LANDSAT_8'\n",
    "product = 'ls8_lasrc_vietnam'\n",
    "\n",
    "desired_bands = ['red','green','nir','swir2', 'pixel_qa']  # needed by ndvi, ndwi, ndbi and cloud masking\n",
    "desired_bands = desired_bands + ['blue'] # blue is needed for a true color visualization purposes\n",
    "\n",
    "landsat_dataset = dc.load(product = product,\\\n",
    "\tplatform = platform,\\\n",
    "\tlat = lat,\\\n",
    "\tlon = lon,\\\n",
    "\ttime = date_range,\\\n",
    "\tmeasurements = desired_bands)"
   ]
  },
  {
   "cell_type": "markdown",
   "metadata": {},
   "source": [
    "<br>  \n",
    "\n",
    "# Displaying Data  \n",
    "<br>  \n",
    "\n",
    ">**A cloud free composite**  \n",
    "Clouds get in the way of understanding the area. Cloud free composites draw from a history of acquisitions to generate a cloud free representation of your area  \n",
    "\n",
    "<br>  "
   ]
  },
  {
   "cell_type": "code",
   "execution_count": null,
   "metadata": {
    "scrolled": true
   },
   "outputs": [],
   "source": [
    "landsat_mosaic = median_mosaic(landsat_dataset)"
   ]
  },
  {
   "cell_type": "markdown",
   "metadata": {},
   "source": [
    "<br>  \n",
    "> **Saving your data**  \n",
    "> A .tiff or png is a great way to represent true color mosaics. The image below is a saved .png representation of of a landsat mosaic.  "
   ]
  },
  {
   "cell_type": "code",
   "execution_count": null,
   "metadata": {
    "scrolled": true
   },
   "outputs": [],
   "source": [
    "from utils.data_cube_utilities.dc_utilities import write_png_from_xr\n",
    "write_png_from_xr('diagrams/urbanization/cloud_free_mosaic.png', landsat_mosaic, [\"red\", \"green\", \"blue\"], scale = [(0,2000),(0,2000),(0,2000)])"
   ]
  },
  {
   "cell_type": "markdown",
   "metadata": {},
   "source": [
    "<br>  \n",
    "\n",
    "![](diagrams/urbanization/cloud_free_mosaic.png)  \n",
    "  \n",
    "<br>  "
   ]
  },
  {
   "cell_type": "markdown",
   "metadata": {},
   "source": [
    "# Urbanization Analysis  \n",
    "\n",
    "> **NDWI, NDVI, NDBI**  \n",
    "You will very rarely have urban classification and water classifications apply to the same pixel. For urban analysis, it may make sense to compute not just urban classes, but classes that are unlikely to co-occur with urbanization. \n",
    "  \n",
    "<br>"
   ]
  },
  {
   "cell_type": "code",
   "execution_count": null,
   "metadata": {
    "scrolled": true
   },
   "outputs": [],
   "source": [
    "ndbi = NDBI(landsat_mosaic)  # Urbanization\n",
    "ndvi = NDVI(landsat_mosaic)  # Dense Vegetation\n",
    "ndwi = NDWI(landsat_mosaic)  # High Concentrations of Water"
   ]
  },
  {
   "cell_type": "markdown",
   "metadata": {},
   "source": [
    ">**Plot Values**  \n",
    "> xarray data-arrays have built in plotting functions you can use to validate trends or differences in your data.  \n",
    "<br>\n",
    "  "
   ]
  },
  {
   "cell_type": "code",
   "execution_count": null,
   "metadata": {
    "scrolled": true
   },
   "outputs": [],
   "source": [
    "(ndvi).plot(cmap = \"Greens\")"
   ]
  },
  {
   "cell_type": "code",
   "execution_count": null,
   "metadata": {
    "scrolled": true
   },
   "outputs": [],
   "source": [
    "(ndwi).plot(cmap = \"Blues\")"
   ]
  },
  {
   "cell_type": "code",
   "execution_count": null,
   "metadata": {
    "scrolled": true
   },
   "outputs": [],
   "source": [
    "(ndbi + 0.2).plot(cmap = \"Reds\")"
   ]
  },
  {
   "cell_type": "markdown",
   "metadata": {},
   "source": [
    "> **Convert To a Dataset**  \n",
    "It's good practice to accurately name your datasets and data-arrays. If you'd like to merge data-arrays into a larger datasets, you should convert data-arrays to datasets"
   ]
  },
  {
   "cell_type": "code",
   "execution_count": null,
   "metadata": {
    "scrolled": true
   },
   "outputs": [],
   "source": [
    "ds_ndvi = ndvi.to_dataset(name = \"NDVI\")\n",
    "ds_ndwi = ndwi.to_dataset(name=  \"NDWI\")\n",
    "ds_ndbi = ndbi.to_dataset(name = \"NDBI\")"
   ]
  },
  {
   "cell_type": "markdown",
   "metadata": {},
   "source": [
    "> **Merge into one large Dataset**  \n",
    "> If your data-arrays share the same set of coordinates, or if you feel that you'll be using these values together in the future,  you should consider merging them into a dataset"
   ]
  },
  {
   "cell_type": "code",
   "execution_count": null,
   "metadata": {
    "scrolled": true
   },
   "outputs": [],
   "source": [
    "urbanization_dataset = ds_ndvi.merge(ds_ndwi).merge(ds_ndbi)"
   ]
  },
  {
   "cell_type": "markdown",
   "metadata": {},
   "source": [
    ">**Checking your Merge**  \n",
    ">The string readout of your new dataset should give you a good idea about how the `.merge` went.  \n",
    "<br>"
   ]
  },
  {
   "cell_type": "code",
   "execution_count": null,
   "metadata": {
    "scrolled": true
   },
   "outputs": [],
   "source": [
    "print(urbanization_dataset)"
   ]
  },
  {
   "cell_type": "markdown",
   "metadata": {},
   "source": [
    "<br>  \n",
    "<br>  \n",
    "\n",
    ">**Building a False Color Composite**  \n",
    "> If you have three lowly correlated measurements, place each measurement on its own Red, Green, Blue channel and visualize it. "
   ]
  },
  {
   "cell_type": "code",
   "execution_count": null,
   "metadata": {
    "scrolled": true
   },
   "outputs": [],
   "source": [
    "write_png_from_xr('diagrams/urbanization/false_color.png', urbanization_dataset, [\"NDBI\", \"NDVI\", \"NDWI\"], scale = [(-1,1),(0,1),(0,1)])"
   ]
  },
  {
   "cell_type": "markdown",
   "metadata": {},
   "source": [
    "![](diagrams/urbanization/false_color.png)"
   ]
  },
  {
   "cell_type": "markdown",
   "metadata": {},
   "source": [
    ">**Analyze The False Color Image**  \n",
    "\n",
    "> Values that adhere strongly to individual classes adhere to their own color channel. In this example, NDVI adheres to green, NDWI adheres to blue, and NDBI seems to adhere to red  "
   ]
  },
  {
   "cell_type": "markdown",
   "metadata": {},
   "source": [
    "> **Validate urbanization using other imagery**  \n",
    "> Double check results using high-resolution imagery.  Compare to the false color mosaic\n",
    "<br>"
   ]
  },
  {
   "cell_type": "code",
   "execution_count": null,
   "metadata": {
    "scrolled": true
   },
   "outputs": [],
   "source": [
    "from utils.data_cube_utilities.dc_display_map import display_map\n",
    "display_map(latitude = lat ,longitude = lon)  "
   ]
  }
 ],
 "metadata": {
  "kernelspec": {
   "display_name": "Python 3",
   "language": "python",
   "name": "python3"
  },
  "language_info": {
   "codemirror_mode": {
    "name": "ipython",
    "version": 3
   },
   "file_extension": ".py",
   "mimetype": "text/x-python",
   "name": "python",
   "nbconvert_exporter": "python",
   "pygments_lexer": "ipython3",
   "version": "3.6.8"
  }
 },
 "nbformat": 4,
 "nbformat_minor": 2
}
