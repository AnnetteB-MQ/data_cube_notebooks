{
 "cells": [
  {
   "cell_type": "code",
   "execution_count": 1,
   "metadata": {},
   "outputs": [],
   "source": [
    "import pandas as pd"
   ]
  },
  {
   "cell_type": "code",
   "execution_count": 62,
   "metadata": {},
   "outputs": [
    {
     "data": {
      "text/html": [
       "<div>\n",
       "<table border=\"1\" class=\"dataframe\">\n",
       "  <thead>\n",
       "    <tr style=\"text-align: right;\">\n",
       "      <th></th>\n",
       "      <th>X</th>\n",
       "      <th>Y</th>\n",
       "      <th>LandUse</th>\n",
       "      <th>Latitude</th>\n",
       "      <th>Longitude</th>\n",
       "    </tr>\n",
       "  </thead>\n",
       "  <tbody>\n",
       "    <tr>\n",
       "      <th>0</th>\n",
       "      <td>618522.8899</td>\n",
       "      <td>6218452.029</td>\n",
       "      <td>Forestry</td>\n",
       "      <td>-34.168155</td>\n",
       "      <td>-55.714061</td>\n",
       "    </tr>\n",
       "    <tr>\n",
       "      <th>1</th>\n",
       "      <td>649042.3861</td>\n",
       "      <td>6199719.402</td>\n",
       "      <td>Forestry</td>\n",
       "      <td>-34.333113</td>\n",
       "      <td>-55.379803</td>\n",
       "    </tr>\n",
       "    <tr>\n",
       "      <th>2</th>\n",
       "      <td>655993.6095</td>\n",
       "      <td>6200009.045</td>\n",
       "      <td>Forestry</td>\n",
       "      <td>-34.329479</td>\n",
       "      <td>-55.304319</td>\n",
       "    </tr>\n",
       "    <tr>\n",
       "      <th>3</th>\n",
       "      <td>656440.0958</td>\n",
       "      <td>6200236.666</td>\n",
       "      <td>Forestry</td>\n",
       "      <td>-34.327360</td>\n",
       "      <td>-55.299509</td>\n",
       "    </tr>\n",
       "    <tr>\n",
       "      <th>4</th>\n",
       "      <td>656825.7859</td>\n",
       "      <td>6199755.161</td>\n",
       "      <td>Forestry</td>\n",
       "      <td>-34.331642</td>\n",
       "      <td>-55.295231</td>\n",
       "    </tr>\n",
       "  </tbody>\n",
       "</table>\n",
       "</div>"
      ],
      "text/plain": [
       "             X            Y   LandUse   Latitude  Longitude\n",
       "0  618522.8899  6218452.029  Forestry -34.168155 -55.714061\n",
       "1  649042.3861  6199719.402  Forestry -34.333113 -55.379803\n",
       "2  655993.6095  6200009.045  Forestry -34.329479 -55.304319\n",
       "3  656440.0958  6200236.666  Forestry -34.327360 -55.299509\n",
       "4  656825.7859  6199755.161  Forestry -34.331642 -55.295231"
      ]
     },
     "execution_count": 62,
     "metadata": {},
     "output_type": "execute_result"
    }
   ],
   "source": [
    "df = pd.read_csv('data.csv')\n",
    "df.head()"
   ]
  },
  {
   "cell_type": "code",
   "execution_count": 67,
   "metadata": {},
   "outputs": [
    {
     "data": {
      "text/plain": [
       "LandUse\n",
       "Forestry              6\n",
       "Fruittrees            3\n",
       "Nativeforest         13\n",
       "Naturalgrassland    175\n",
       "Other                 8\n",
       "Prairie              59\n",
       "Stubble               9\n",
       "Summercrops         150\n",
       "Water                 1\n",
       "dtype: int64"
      ]
     },
     "execution_count": 67,
     "metadata": {},
     "output_type": "execute_result"
    }
   ],
   "source": [
    "df.groupby(\"LandUse\").size()"
   ]
  },
  {
   "cell_type": "code",
   "execution_count": 66,
   "metadata": {},
   "outputs": [
    {
     "data": {
      "image/png": "[encoded data removed]",
      "text/plain": [
       "<matplotlib.figure.Figure at 0x7f929baba940>"
      ]
     },
     "metadata": {},
     "output_type": "display_data"
    }
   ],
   "source": [
    "from matplotlib import pyplot\n",
    "import seaborn as sns\n",
    "\n",
    "fig, ax = pyplot.subplots(figsize=(15,5))\n",
    "sns.countplot(x=\"LandUse\",data=df, palette=\"Greens_d\");"
   ]
  },
  {
   "cell_type": "markdown",
   "metadata": {},
   "source": [
    "For each image load up a small cube and display time series for it. \n",
    "\n",
    "col = 'time', col_wrap = 3  \n",
    "andsat_dataset.swir1.plot(col='time', col_wrap=3)"
   ]
  },
  {
   "cell_type": "code",
   "execution_count": 54,
   "metadata": {},
   "outputs": [
    {
     "data": {
      "text/html": [
       "<div>\n",
       "<table border=\"1\" class=\"dataframe\">\n",
       "  <thead>\n",
       "    <tr style=\"text-align: right;\">\n",
       "      <th></th>\n",
       "      <th>X</th>\n",
       "      <th>Y</th>\n",
       "      <th>LandUse</th>\n",
       "      <th>Latitude</th>\n",
       "      <th>Longitude</th>\n",
       "    </tr>\n",
       "  </thead>\n",
       "  <tbody>\n",
       "    <tr>\n",
       "      <th>0</th>\n",
       "      <td>618522.8899</td>\n",
       "      <td>6218452.029</td>\n",
       "      <td>Forestry</td>\n",
       "      <td>-34.168155</td>\n",
       "      <td>-55.714061</td>\n",
       "    </tr>\n",
       "    <tr>\n",
       "      <th>1</th>\n",
       "      <td>649042.3861</td>\n",
       "      <td>6199719.402</td>\n",
       "      <td>Forestry</td>\n",
       "      <td>-34.333113</td>\n",
       "      <td>-55.379803</td>\n",
       "    </tr>\n",
       "    <tr>\n",
       "      <th>2</th>\n",
       "      <td>655993.6095</td>\n",
       "      <td>6200009.045</td>\n",
       "      <td>Forestry</td>\n",
       "      <td>-34.329479</td>\n",
       "      <td>-55.304319</td>\n",
       "    </tr>\n",
       "    <tr>\n",
       "      <th>3</th>\n",
       "      <td>656440.0958</td>\n",
       "      <td>6200236.666</td>\n",
       "      <td>Forestry</td>\n",
       "      <td>-34.327360</td>\n",
       "      <td>-55.299509</td>\n",
       "    </tr>\n",
       "    <tr>\n",
       "      <th>4</th>\n",
       "      <td>656825.7859</td>\n",
       "      <td>6199755.161</td>\n",
       "      <td>Forestry</td>\n",
       "      <td>-34.331642</td>\n",
       "      <td>-55.295231</td>\n",
       "    </tr>\n",
       "    <tr>\n",
       "      <th>5</th>\n",
       "      <td>658215.0172</td>\n",
       "      <td>6197898.282</td>\n",
       "      <td>Forestry</td>\n",
       "      <td>-34.348169</td>\n",
       "      <td>-55.279793</td>\n",
       "    </tr>\n",
       "  </tbody>\n",
       "</table>\n",
       "</div>"
      ],
      "text/plain": [
       "             X            Y   LandUse   Latitude  Longitude\n",
       "0  618522.8899  6218452.029  Forestry -34.168155 -55.714061\n",
       "1  649042.3861  6199719.402  Forestry -34.333113 -55.379803\n",
       "2  655993.6095  6200009.045  Forestry -34.329479 -55.304319\n",
       "3  656440.0958  6200236.666  Forestry -34.327360 -55.299509\n",
       "4  656825.7859  6199755.161  Forestry -34.331642 -55.295231\n",
       "5  658215.0172  6197898.282  Forestry -34.348169 -55.279793"
      ]
     },
     "execution_count": 54,
     "metadata": {},
     "output_type": "execute_result"
    }
   ],
   "source": [
    "df[df[\"LandUse\"].str.contains(\"Forestry\")]"
   ]
  },
  {
   "cell_type": "code",
   "execution_count": 65,
   "metadata": {},
   "outputs": [
    {
     "data": {
      "text/plain": [
       "LandUse\n",
       "Forestry              6\n",
       "Fruittrees            3\n",
       "Nativeforest         13\n",
       "Naturalgrassland    175\n",
       "Other                 8\n",
       "Prairie              59\n",
       "Stubble               9\n",
       "Summercrops         150\n",
       "Water                 1\n",
       "dtype: int64"
      ]
     },
     "execution_count": 65,
     "metadata": {},
     "output_type": "execute_result"
    }
   ],
   "source": [
    "df.groupby(\"LandUse\").size()"
   ]
  },
  {
   "cell_type": "code",
   "execution_count": null,
   "metadata": {},
   "outputs": [],
   "source": []
  }
 ],
 "metadata": {
  "kernelspec": {
   "display_name": "Python 3",
   "language": "python",
   "name": "python3"
  },
  "language_info": {
   "codemirror_mode": {
    "name": "ipython",
    "version": 3
   },
   "file_extension": ".py",
   "mimetype": "text/x-python",
   "name": "python",
   "nbconvert_exporter": "python",
   "pygments_lexer": "ipython3",
   "version": "3.5.2"
  }
 },
 "nbformat": 4,
 "nbformat_minor": 2
}
