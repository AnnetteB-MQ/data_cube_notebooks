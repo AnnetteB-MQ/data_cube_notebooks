{
 "cells": [
  {
   "cell_type": "markdown",
   "metadata": {},
   "source": [
    "CEOS Sandbox Data Cube Notebooks\n",
    "=================\n",
    "\n",
    "The CEOS Sandbox Data Cube Notebooks is a collection of Jupyter Notebooks using the [Open Data Cube](https://www.opendatacube.org/) to analyze satellite data. These are modified versions of the [CEOS Data Cube Notebooks](https://github.com/ceos-seo/data_cube_notebooks) - mainly changed to accomdate differences in data availability.\n",
    "\n",
    "Data\n",
    "=================\n",
    "\n",
    "Currently, Landsat 7 and 8 data is available for much of Central Africa from 1999 to the beginning of 2020.\n",
    "\n",
    "The Data Cube product names are **ls7_usgs_sr_scene** (Landsat 7 data) and **ls8_usgs_sr_scene** (Landsat 8 data).\n",
    "\n",
    "| Product           | Lat/Lon Extents                                | Time Range         |\n",
    "|-------------------|------------------------------------------------|-------------------|\n",
    "| ls7_usgs_sr_scene | lat: [-12.57, 18.32], <br>lon: [-25.66, 44.05] | 07/1999-01/2020 |\n",
    "| ls8_usgs_sr_scene | lat: [-12.63, 18.40], <br>lon: [-25.47, 44.00] | 03/2013-01/2020 |"
   ]
  }
 ],
 "metadata": {
  "kernelspec": {
   "display_name": "Python 3",
   "language": "python",
   "name": "python3"
  },
  "language_info": {
   "codemirror_mode": {
    "name": "ipython",
    "version": 3
   },
   "file_extension": ".py",
   "mimetype": "text/x-python",
   "name": "python",
   "nbconvert_exporter": "python",
   "pygments_lexer": "ipython3",
   "version": "3.6.8"
  }
 },
 "nbformat": 4,
 "nbformat_minor": 4
}
