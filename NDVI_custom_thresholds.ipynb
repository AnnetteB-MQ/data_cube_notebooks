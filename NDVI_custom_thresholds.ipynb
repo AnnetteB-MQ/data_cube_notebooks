{
 "cells": [
  {
   "cell_type": "markdown",
   "metadata": {},
   "source": [
    "# <a id=\"top\">What to expect from this notebook</a>\n",
    "\n",
    "- an example of using of satellites to detect changes in plant life.\n",
    "- very basic xarray manipulations\n",
    "- removing clouds and patching scanlines\n",
    "- building a composite image\n",
    "\n",
    "<br>  \n",
    "\n",
    "# Algorithmic process  \n",
    "\n",
    "- [get the maximum extents of the datacube](#extents)\n",
    "- [define extents you require that fall within the maximum extents](#define_extents)\n",
    "    [* selecting too much can make the acquisition process slow ]\n",
    "- [filter out cloud data and scan lines](#clean_mask)\n",
    "- [select the dates you wish to form a baseline measure from and the target date for comparison](#baseline)\n",
    "- [compare the target date's NDVI values against the baseline composite image](#compare)\n",
    "- [plot the results](#plot)\n",
    "\n",
    "<hr>\n",
    "# How It Works\n",
    "\n",
    "To detect changes in plant life, we use a measure called NDVI. \n",
    "* <font color=green>NDVI</font> is the ratio of the difference between the near infrared light <font color=red>(NIR)</font> and red light <font color=red>(RED)</font> wavelengths to their sum\n",
    "<br>\n",
    "\n",
    "$$ NDVI =  \\frac{(NIR - RED)}{(NIR + RED)}$$  \n",
    "\n",
    "<br>\n",
    "<div class=\"alert-info\">\n",
    "The idea is to observe how much red light is being absorbed versus reflected. Photosynthetic plants absorb most of the visible spectrum's wavelengths when they are healthy.  When they aren't healthy, more of that light will get reflected.  This makes the difference between <font color=red>NIR</font> and <font color=red>RED</font> much smaller which will lower the <font color=green>NDVI</font>.  The resulting values from doing this over several pixels can be used to create visualizations for the changes in the amount of photosynthetic vegetation in large areas.\n",
    "</div>"
   ]
  },
  {
   "cell_type": "code",
   "execution_count": null,
   "metadata": {},
   "outputs": [],
   "source": [
    "#Import the datacube and the API\n",
    "import datacube\n",
    "from utils.data_cube_utilities.data_access_api import DataAccessApi\n",
    "\n",
    "#Create an instance of the datacube and API\n",
    "dc = datacube.Datacube(config=\"/home/localuser/.datacube.conf\")\n",
    "api = DataAccessApi(config=\"/home/localuser/.datacube.conf\")"
   ]
  },
  {
   "cell_type": "code",
   "execution_count": null,
   "metadata": {},
   "outputs": [],
   "source": [
    "#Get all the current datacube products\n",
    "products = dc.list_products()\n",
    "\n",
    "print(products[[\"platform\", \"name\"]])"
   ]
  },
  {
   "cell_type": "code",
   "execution_count": null,
   "metadata": {},
   "outputs": [],
   "source": [
    "#This is the platform (satellite) and product (datacube set) used for this demonstration\n",
    "platform = [\"LANDSAT_7\"]\n",
    "product = [\"ls7_ledaps_kenya\"]"
   ]
  },
  {
   "cell_type": "markdown",
   "metadata": {},
   "source": [
    "The magnitudes of the different wavelengths of light can be quanitized and stored on a per pixel basis.  <font color=green>NDVI</font> only requires the use of <font color=red>NIR</font> and <font color=red>RED</font> light but there are many more wavelengths and some additional measures available.  One such additional measure is called pixel_qa.  This is a measure of the quality of the pixel for analysis. A breakdown of the values stored in <font color=darkblue>pixel_qa</font> are beyond the scope of this notebook but we encourage you to check our github for more information on the meaning behind the values stored within.\n",
    "![](diagrams/rainy_demo/ls7_xarray.png)  "
   ]
  },
  {
   "cell_type": "markdown",
   "metadata": {},
   "source": [
    "## <a id=\"extents\">Getting the Extents of the Cube</a>"
   ]
  },
  {
   "cell_type": "code",
   "execution_count": null,
   "metadata": {},
   "outputs": [],
   "source": [
    "# Get the extents of the cube\n",
    "descriptor = api.get_query_metadata(platform=platform, product=product[0])\n",
    "\n",
    "#store the latitudinal and longitudinal extents\n",
    "lat, lon = products.resolution[products.platform == platform[0]].any()"
   ]
  },
  {
   "cell_type": "code",
   "execution_count": null,
   "metadata": {},
   "outputs": [],
   "source": [
    "from utils.data_cube_utilities.dc_display_map import display_map\n",
    "\n",
    "#save extents\n",
    "min_date, max_date = descriptor['time_extents']\n",
    "min_lat, max_lat = descriptor['lat_extents']\n",
    "min_lon, max_lon = descriptor['lon_extents']\n",
    "\n",
    "#Adjust date string\n",
    "min_date_str = str(min_date.year) + '-' + str(min_date.month) + '-' + str(min_date.day)\n",
    "max_date_str = str(max_date.year) + '-' + str(max_date.month) + '-' + str(max_date.day)\n",
    "\n",
    "#Round GPS coordinates to 3 decimal places\n",
    "min_lat_rounded = round(min_lat, 3)\n",
    "min_lon_rounded =  round(min_lon, 3)\n",
    "max_lat_rounded = round(max_lat, 3)\n",
    "max_lon_rounded = round(max_lon, 3) \n",
    "\n",
    "#display area\n",
    "display_map(latitude = (min_lat_rounded, max_lat_rounded),longitude = (min_lon_rounded, max_lon_rounded))"
   ]
  },
  {
   "cell_type": "code",
   "execution_count": null,
   "metadata": {},
   "outputs": [],
   "source": [
    "from dc_notebook_utilities import generate_metadata_report\n",
    "\n",
    "# Display the ranges of the metadata in a table\n",
    "generate_metadata_report(min_date_str, max_date_str, \n",
    "                         min_lon_rounded, max_lon_rounded, lon,\n",
    "                         min_lat_rounded, max_lat_rounded, lat)"
   ]
  },
  {
   "cell_type": "markdown",
   "metadata": {},
   "source": [
    "## <a id=\"define_extents\">Defining the Extents of the Analysis</a>"
   ]
  },
  {
   "cell_type": "code",
   "execution_count": null,
   "metadata": {},
   "outputs": [],
   "source": [
    "from dc_notebook_utilities import create_extents_gui \n",
    "\n",
    "#Create the GUI for the extents derived\n",
    "extent_values = create_extents_gui(min_date_str, max_date_str,\n",
    "                                   min_lon_rounded, max_lon_rounded,\n",
    "                                   min_lat_rounded, max_lat_rounded)"
   ]
  },
  {
   "cell_type": "markdown",
   "metadata": {},
   "source": [
    "While Latitude and Longitude are pretty straightforward, time slices must be chosen carefully so that you do not accidentally obscure useful information.  In the diagram below you can see that the rainy season is omitted so the composites can be representative of the dry seasons on either side of the rainy season.  The inclusion of the rainy season data would obscure the analysis results.\n",
    "![img](diagrams/rainy_demo/alg_jn2_02.png)\n"
   ]
  },
  {
   "cell_type": "code",
   "execution_count": null,
   "metadata": {},
   "outputs": [],
   "source": [
    "import datetime\n",
    "\n",
    "# Save form values\n",
    "start_date = datetime.datetime.strptime(extent_values[0].value, '%Y-%m-%d')\n",
    "end_date = datetime.datetime.strptime(extent_values[1].value, '%Y-%m-%d')\n",
    "min_lon = extent_values[2].value\n",
    "max_lon = extent_values[3].value\n",
    "min_lat = extent_values[4].value\n",
    "max_lat = extent_values[5].value\n",
    "\n",
    "#get a list of available image aquisition dates\n",
    "acquisitions_list = api.list_acquisition_dates(product[0], longitude=(min_lon, max_lon), latitude=(min_lat, max_lat))\n",
    "print(len(acquisitions_list))"
   ]
  },
  {
   "cell_type": "code",
   "execution_count": null,
   "metadata": {},
   "outputs": [],
   "source": [
    "#define query parameters\n",
    "params= dict(platform=platform[0],\n",
    "             product=product[0],\n",
    "             lon=(min_lon, max_lon),\n",
    "             lat=(min_lat, max_lat),\n",
    "             measurements = [\"red\", \"nir\", \"pixel_qa\"])\n",
    "\n",
    "# Query the Data Cube\n",
    "dataset = dc.load(**params)"
   ]
  },
  {
   "cell_type": "markdown",
   "metadata": {},
   "source": [
    "## <a id=\"clean_mask\">Making a Clean Mask</a>\n",
    "\n",
    "#### Clouds:\n",
    "Clouds can obscure imagery from satellites making the analysis harder to perform.  Fortunately clouds can be filtered out rather easily using images from other dates close to the target date.  The small illustration below shows how clouds can obsure a satellite image:\n",
    "  ![](diagrams/rainy_demo/cloud_clip_01.PNG)\n",
    "\n",
    "#### Scan Lines:\n",
    "Scan lines are an artifact of Landsat satellite imagery.  They are a result of a malfunction in the system responsible for ensuring full coverage.  As a result there are missing strips of imagery from most Landsat images.  The illsutration below shows what scan lines might look like on a satellite image:\n",
    "![](diagrams/rainy_demo/slc_error_02.PNG)"
   ]
  },
  {
   "cell_type": "code",
   "execution_count": null,
   "metadata": {},
   "outputs": [],
   "source": [
    "from utils.data_cube_utilities.clean_mask import landsat_qa_clean_mask\n",
    "\n",
    "#Get the clean mask for the LANDSAT satellite platform\n",
    "clean_mask = landsat_qa_clean_mask(dataset, platform[0])"
   ]
  },
  {
   "cell_type": "code",
   "execution_count": null,
   "metadata": {},
   "outputs": [],
   "source": [
    "#Apply clean mask to dataset\n",
    "cleaned_dataset = create_mosaic(dataset, reverse_time=False, clean_mask=clean_mask)"
   ]
  },
  {
   "cell_type": "markdown",
   "metadata": {},
   "source": [
    "# <a id=\"baseline\">Selecting a Target Date and Specifying a Baseline For Comparison</a>"
   ]
  },
  {
   "cell_type": "code",
   "execution_count": null,
   "metadata": {},
   "outputs": [],
   "source": [
    "from ipywidgets import widgets\n",
    "import collections\n",
    "import operator\n",
    "from utils.data_cube_utilities.dc_mosaic import (create_mosaic, create_median_mosaic,\n",
    "                                                 create_max_ndvi_mosaic, create_min_ndvi_mosaic)\n",
    "\n",
    "\n",
    "#create the widget for the scene selection dropdown\n",
    "#This will be used to select the scene we are comparing to the baseline NDVI amounts\n",
    "scene_sel = widgets.Dropdown(options=acquisitions_list, values=acquisitions_list)\n",
    "\n",
    "#This dropdown widget will allow us to select multiple scenes with which to compose a baseline\n",
    "baseline_sel = widgets.SelectMultiple(options=acquisitions_list, values=acquisitions_list)\n",
    "\n",
    "#Set the threshold increment and create the dropdown for it\n",
    "threshold_sel_options = {str(x)+'%': x/100 for x in range(5, 101, 5)}\n",
    "threshold_sel = widgets.Dropdown(options=collections.OrderedDict(sorted(threshold_sel_options.items(), key=operator.itemgetter(1))))\n",
    "\n",
    "#Create a dictionary of the different mosaic method options\n",
    "mosaic_methods = {'Most Recent':create_mosaic, 'Least Recent':create_mosaic,'Median':create_median_mosaic,\n",
    "                  'Max NDVI':create_max_ndvi_mosaic, 'Min NDVI':create_min_ndvi_mosaic}\n",
    "\n",
    "#create the widget for the mosaic options\n",
    "mosaic_options_sel = widgets.Dropdown(options=list(mosaic_methods.keys()))\n",
    "    \n",
    "# Display form\n",
    "display(widgets.Label('Select a scene to check for anomalies: '), scene_sel)\n",
    "display(widgets.Label('Select scenes to form a baseline: '), baseline_sel)\n",
    "display(widgets.Label('Select a mosaic method for the baseline:  '), mosaic_options_sel)\n",
    "display(widgets.Label('Select a percentage threshold for anomalies: '), threshold_sel)"
   ]
  },
  {
   "cell_type": "code",
   "execution_count": null,
   "metadata": {},
   "outputs": [],
   "source": [
    "#Initialize baseline mosaic for comparison\n",
    "baseline_mosaic = None\n",
    "\n",
    "#need to reverse the direction of the mosaicing over time if \"Most Recent\" selected\n",
    "reverse_time = True if mosaic_options_sel.value.title() == 'Most Recent' else False\n",
    "for index in range(len(baseline_sel.value)):\n",
    "    data = api.get_dataset_by_extent(product[0], latitude=(min_lat, max_lat), longitude=(min_lon, max_lon), \n",
    "                                    time=(baseline_sel.value[index],(baseline_sel.value[index+1] if index != len(baseline_sel.value)-1 else baseline_sel.value[index]+datetime.timedelta(seconds=1))),\n",
    "                                    measurements=['red', 'nir', 'pixel_qa'])\n",
    "    clean_mask = landsat_qa_clean_mask(data, platform[0])\n",
    "    baseline_mosaic = mosaic_methods[mosaic_options_sel.value](data, intermediate_product=baseline_mosaic, reverse_time=reverse_time, clean_mask=clean_mask)"
   ]
  },
  {
   "cell_type": "markdown",
   "metadata": {},
   "source": [
    "## <a id=\"compare\">Calulating the NDVI for the Baseline and Target Scene</a>"
   ]
  },
  {
   "cell_type": "code",
   "execution_count": null,
   "metadata": {},
   "outputs": [],
   "source": [
    "import sys #required for epsilon (in case the baseline is zero)\n",
    "\n",
    "#Calculate the NDVI baseline values\n",
    "ndvi_baseline = (baseline_mosaic.nir - baseline_mosaic.red) / (baseline_mosaic.nir + baseline_mosaic.red)\n",
    "\n",
    "#Calculate the NDVI values in the target scene\n",
    "ndvi_scene = (cleaned_dataset.nir - cleaned_dataset.red) / (cleaned_dataset.nir + cleaned_dataset.red)\n",
    "\n",
    "#Determine the percentage change\n",
    "percentage_change = abs((ndvi_baseline - ndvi_scene) / (ndvi_baseline+sys.float_info.epsilon))"
   ]
  },
  {
   "cell_type": "markdown",
   "metadata": {},
   "source": [
    "## <a id=\"plot\">Plotting the NDVI Anomalies</a>"
   ]
  },
  {
   "cell_type": "code",
   "execution_count": null,
   "metadata": {},
   "outputs": [],
   "source": [
    "import matplotlib.pyplot as plt\n",
    "\n",
    "#Set plot size\n",
    "plt.figure(figsize = (15,12))\n",
    "\n",
    "#plot the raw percent changes\n",
    "percentage_change.plot(cmap='seismic')"
   ]
  },
  {
   "cell_type": "markdown",
   "metadata": {},
   "source": [
    "In the plot above you can clearly see an anomaly of NDVI.  This indicates that there was a measurable difference in the amount of photosynthetic plants in the area compared to the standard defined in the baseline composite image."
   ]
  },
  {
   "cell_type": "code",
   "execution_count": null,
   "metadata": {},
   "outputs": [],
   "source": [
    "#with a hard cutoff value\n",
    "anom = percentage_change > 1 \n",
    "\n",
    "#display plot\n",
    "anom.plot(cmap='seismic')"
   ]
  },
  {
   "cell_type": "code",
   "execution_count": null,
   "metadata": {},
   "outputs": [],
   "source": [
    "#Let's see what that area is\n",
    "display_map(latitude = (.5, .7),longitude = (35.5, 35.7))"
   ]
  },
  {
   "cell_type": "markdown",
   "metadata": {},
   "source": [
    "It turns out that the anomaly we detected was Lake Kamnarok in Kenya.  So why did lake Kamnarok show up as an anomaly?  It turns out that Lake Kamnarok, named after all the <i>Narok</i> plants in it, dried up in 2015. When it did, a significant number of the plants inside and around it died.  Without any prior knowledge about the lake, we were able to determine that there was a significant change in the plant life there using satellite imagery."
   ]
  },
  {
   "cell_type": "markdown",
   "metadata": {},
   "source": [
    " \n",
    "[return](#top)"
   ]
  },
  {
   "cell_type": "code",
   "execution_count": null,
   "metadata": {},
   "outputs": [],
   "source": []
  }
 ],
 "metadata": {
  "kernelspec": {
   "display_name": "Python 3",
   "language": "python",
   "name": "python3"
  },
  "language_info": {
   "codemirror_mode": {
    "name": "ipython",
    "version": 3
   },
   "file_extension": ".py",
   "mimetype": "text/x-python",
   "name": "python",
   "nbconvert_exporter": "python",
   "pygments_lexer": "ipython3",
   "version": "3.5.2"
  }
 },
 "nbformat": 4,
 "nbformat_minor": 2
}
