{
 "cells": [
  {
   "cell_type": "markdown",
   "metadata": {},
   "source": [
    "# Cloud-Filtered Mosaics and Shapefile Region Selection\n",
    "\n",
    "This notebook can be used to create Landsat cloud-filtered mosaics for any time period and location. Selecting regions with shapefiles is also demonstrated. The mosaics can be output as GeoTIFF products for analysis in external GIS tools. \n",
    "\n",
    "The following mosaics are possible:\n",
    "* Median = midpoint of spectral data\n",
    "* Geomedian = Australian median product with improved spectral consistency\n",
    "* Most-Recent = most recent clear pixel\n",
    "* Least-Recent = least recent clear pixel\n",
    "* Max-NDVI = maximum vegetation response\n",
    "* Min-NDVI = minimum vegetation response\n",
    "\n",
    "Users should review the \"Cloud_Statistics\" notebook for more information about the cloud statistics for any given temporal and spatial combination. An understanding of the underlying data is important for creating a valid mosaic for further analyses."
   ]
  },
  {
   "cell_type": "markdown",
   "metadata": {},
   "source": [
    "## Import Dependencies and Connect to the Data Cube"
   ]
  },
  {
   "cell_type": "code",
   "execution_count": 1,
   "metadata": {},
   "outputs": [],
   "source": [
    "# Supress Warning \n",
    "import warnings\n",
    "warnings.filterwarnings('ignore')"
   ]
  },
  {
   "cell_type": "code",
   "execution_count": 2,
   "metadata": {},
   "outputs": [],
   "source": [
    "# Load Data Cube Configuration\n",
    "import datacube\n",
    "dc = datacube.Datacube(app = 'my_app', config = '/home/localuser/.datacube.conf')\n",
    "\n",
    "# Import Data Cube API\n",
    "import utils.data_cube_utilities.data_access_api as dc_api  \n",
    "api = dc_api.DataAccessApi(config = '/home/localuser/.datacube.conf')"
   ]
  },
  {
   "cell_type": "markdown",
   "metadata": {},
   "source": [
    "## Specify Platform, Product, and Mosaic Parameters"
   ]
  },
  {
   "cell_type": "code",
   "execution_count": 5,
   "metadata": {},
   "outputs": [],
   "source": [
    "# CHANGE HERE >>>>>>>>>>>>>>>>>\n",
    "\n",
    "# Select a Product and Platform\n",
    "# Examples: ghana, kenya, tanzania, sierra_leone, senegal\n",
    "\n",
    "# product = \"ls7_ledaps_ghana\"\n",
    "# platform = \"LANDSAT_7\"\n",
    "\n",
    "product = \"ls8_lasrc_ghana\"\n",
    "platform = \"LANDSAT_8\"\n",
    "\n",
    "# Specify Mosaic Parameters\n",
    "# The mosaic method to use when creating the final composite.\n",
    "# One of ['median', 'geomedian', 'most_recent', 'least_recent', 'max_ndvi', 'min_ndvi']\n",
    "# The options 'max' and 'min' require a spectral index to be calculated.\n",
    "mosaic_method = 'median'"
   ]
  },
  {
   "cell_type": "markdown",
   "metadata": {},
   "source": [
    "## Get the Extents of the Cube"
   ]
  },
  {
   "cell_type": "code",
   "execution_count": 6,
   "metadata": {},
   "outputs": [
    {
     "name": "stdout",
     "output_type": "stream",
     "text": [
      "Latitude Extents: (9.189630609254982, 10.375406784293382)\n",
      "Longitude Extents: (103.75555006315263, 105.42614699703059)\n",
      "Time Extents: (numpy.datetime64('2014-11-20T03:18:40.000000000'), numpy.datetime64('2015-01-23T03:19:00.000000000'))\n"
     ]
    }
   ],
   "source": [
    "# Print extents of the Data Cube\n",
    "extents = api.get_full_dataset_extent(platform = platform, product = product, measurements=[])\n",
    "\n",
    "latitude_extents = (min(extents['latitude'].values),max(extents['latitude'].values))\n",
    "longitude_extents = (min(extents['longitude'].values),max(extents['longitude'].values))\n",
    "time_extents = (min(extents['time'].values),max(extents['time'].values))\n",
    "\n",
    "print(\"Latitude Extents:\", latitude_extents)\n",
    "print(\"Longitude Extents:\", longitude_extents)\n",
    "print(\"Time Extents:\", time_extents)"
   ]
  },
  {
   "cell_type": "code",
   "execution_count": 7,
   "metadata": {
    "scrolled": false
   },
   "outputs": [
    {
     "data": {
      "text/html": [
       "<div style=\"width:100%;\"><div style=\"position:relative;width:100%;height:0;padding-bottom:60%;\"><iframe src=\"data:text/html;charset=utf-8;base64,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\" style=\"position:absolute;width:100%;height:100%;left:0;top:0;border:none !important;\" allowfullscreen webkitallowfullscreen mozallowfullscreen></iframe></div></div>"
      ],
      "text/plain": [
       "<folium.folium.Map at 0x7fc497724668>"
      ]
     },
     "execution_count": 7,
     "metadata": {},
     "output_type": "execute_result"
    }
   ],
   "source": [
    "# The code below renders a map that can be used to view the region.\n",
    "from utils.data_cube_utilities.dc_display_map import display_map\n",
    "display_map(latitude_extents,longitude_extents)"
   ]
  },
  {
   "cell_type": "markdown",
   "metadata": {},
   "source": [
    "## Get the Regions Bounded by the Shapefiles"
   ]
  },
  {
   "cell_type": "code",
   "execution_count": 8,
   "metadata": {},
   "outputs": [],
   "source": [
    "import fiona\n",
    "import rasterio\n",
    "import rasterio.mask\n",
    "from shapely.geometry import shape\n",
    "\n",
    "input_shp_root_pth = 'input/shapefiles/biggest_smallest_district/'\n",
    "big_distr_shp_pth = input_shp_root_pth + 'biggest_district.shp'\n",
    "sml_distr_shp_pth = input_shp_root_pth + 'smallest_district.shp'"
   ]
  },
  {
   "cell_type": "markdown",
   "metadata": {},
   "source": [
    "### Showing First Shapefile Region ('biggest_district.shp')"
   ]
  },
  {
   "cell_type": "code",
   "execution_count": null,
   "metadata": {
    "scrolled": false
   },
   "outputs": [],
   "source": [
    "with fiona.open(big_distr_shp_pth, 'r') as src:\n",
    "    # create a shapely geometry\n",
    "    geometry = shape(src[0]['geometry'])\n",
    "\n",
    "    # get the bounding box of the shapefile geometry\n",
    "    latitude, longitude = [[None]*2, [None]*2]\n",
    "    longitude[0], latitude[0] = geometry.bounds[0:2]\n",
    "    longitude[1], latitude[1] = geometry.bounds[2:4]\n",
    "display_map(latitude,longitude)"
   ]
  },
  {
   "cell_type": "markdown",
   "metadata": {},
   "source": [
    "### Showing Second Shapefile Region ('smallest_district.shp')"
   ]
  },
  {
   "cell_type": "code",
   "execution_count": null,
   "metadata": {
    "scrolled": false
   },
   "outputs": [],
   "source": [
    "with fiona.open(sml_distr_shp_pth, 'r') as src:\n",
    "    # create a shapely geometry\n",
    "    geometry = shape(src[0]['geometry'])\n",
    "\n",
    "    # get the bounding box of the shapefile geometry\n",
    "    latitude, longitude = [[None]*2, [None]*2]\n",
    "    longitude[0], latitude[0] = geometry.bounds[0:2]\n",
    "    longitude[1], latitude[1] = geometry.bounds[2:4]\n",
    "display_map(latitude,longitude)"
   ]
  },
  {
   "cell_type": "markdown",
   "metadata": {},
   "source": [
    "## Specify the Shapefile Region and Time Range to Load"
   ]
  },
  {
   "cell_type": "code",
   "execution_count": null,
   "metadata": {},
   "outputs": [],
   "source": [
    "# Path to shapefile to load data for - one of [big_distr_shp_pth, sml_distr_shp_pth].\n",
    "# Note that `big_distr_shp_pth` is very resource intensive to process because it is a large area.\n",
    "shp_file_pth_to_load = sml_distr_shp_pth\n",
    "\n",
    "# Time period\n",
    "time_extents = ('2017-01-01', '2018-01-01')"
   ]
  },
  {
   "cell_type": "markdown",
   "metadata": {},
   "source": [
    "## Load the Data and Create the Composite"
   ]
  },
  {
   "cell_type": "code",
   "execution_count": null,
   "metadata": {},
   "outputs": [],
   "source": [
    "import numpy as np\n",
    "\n",
    "with fiona.open(shp_file_pth_to_load, 'r') as src:\n",
    "    # create a shapely geometry\n",
    "    # this is done for the convenience for the .bounds property only\n",
    "    shp_geom = shape(src[0]['geometry'])\n",
    "\n",
    "    # get the bounding box of the shapefile geometry\n",
    "    latitude, longitude = [[None]*2, [None]*2]\n",
    "    longitude[0], latitude[0] = shp_geom.bounds[0:2]\n",
    "    longitude[1], latitude[1] = shp_geom.bounds[2:4]\n",
    "    \n",
    "    # load data for the bounding box of the shapefile geometry\n",
    "    measurements = ['red', 'green', 'blue', 'pixel_qa']\n",
    "    if mosaic_method in ['max_ndvi', 'min_ndvi']:\n",
    "        measurements += ['nir']\n",
    "    dataset = dc.load(latitude = latitude,\n",
    "                      longitude = longitude,\n",
    "                      platform = platform,\n",
    "                      time = time_extents,\n",
    "                      product = product,\n",
    "                      measurements = measurements) \n",
    "\n",
    "    # mask out clouds and invalid data\n",
    "    from utils.data_cube_utilities.clean_mask import landsat_qa_clean_mask, landsat_clean_mask_invalid\n",
    "    cloud_mask = landsat_qa_clean_mask(dataset, platform=platform)\n",
    "    invalid_mask = landsat_clean_mask_invalid(dataset)\n",
    "    cleaned_dataset = dataset.where(cloud_mask & invalid_mask)\n",
    "\n",
    "    # rasterize the shapefile geometry to a boolean mask\n",
    "    from datacube.utils import geometry\n",
    "    crs = geometry.CRS(src.crs_wkt)    \n",
    "    first_geometry = src[0]['geometry']\n",
    "    geom = geometry.Geometry(first_geometry, crs=crs)\n",
    "    geobox = dataset.geobox\n",
    "    shp_mask = rasterio.features.geometry_mask(\n",
    "        [geom.to_crs(geobox.crs)],\n",
    "        out_shape=geobox.shape,\n",
    "        transform=geobox.affine,\n",
    "        all_touched=True,\n",
    "        invert=True)\n",
    "    \n",
    "# Create the final composite.\n",
    "final_dataset = cleaned_dataset.where(shp_mask)\n",
    "if mosaic_method == 'median':\n",
    "    from utils.data_cube_utilities.dc_mosaic import create_median_mosaic\n",
    "    composite = create_median_mosaic(cleaned_dataset, cloud_mask)\n",
    "elif mosaic_method == 'geomedian':\n",
    "    from utils.data_cube_utilities.dc_mosaic import create_hdmedians_multiple_band_mosaic\n",
    "    composite = create_hdmedians_multiple_band_mosaic(cleaned_dataset, cloud_mask)\n",
    "elif mosaic_method == 'most_recent':\n",
    "    from utils.data_cube_utilities.dc_mosaic import create_mosaic\n",
    "    composite = create_mosaic(cleaned_dataset, cloud_mask.values)\n",
    "elif mosaic_method == 'least_recent':\n",
    "    from utils.data_cube_utilities.dc_mosaic import create_mosaic\n",
    "    composite = create_mosaic(cleaned_dataset, cloud_mask.values, reverse_time=True)\n",
    "elif mosaic_method == 'max_ndvi':\n",
    "    from utils.data_cube_utilities.dc_mosaic import create_max_ndvi_mosaic\n",
    "    composite = create_max_ndvi_mosaic(cleaned_dataset, cloud_mask.values)\n",
    "elif mosaic_method == 'min_ndvi':\n",
    "    from utils.data_cube_utilities.dc_mosaic import create_min_ndvi_mosaic\n",
    "    composite = create_min_ndvi_mosaic(cleaned_dataset, cloud_mask.values)\n",
    "    \n",
    "final_composite = composite.where(shp_mask)"
   ]
  },
  {
   "cell_type": "markdown",
   "metadata": {},
   "source": [
    "## Visualize the Composite"
   ]
  },
  {
   "cell_type": "code",
   "execution_count": null,
   "metadata": {},
   "outputs": [],
   "source": [
    "from utils.data_cube_utilities.dc_rgb import rgb\n",
    "import matplotlib.pyplot as plt\n",
    "fig = plt.figure(figsize=(10,10))\n",
    "rgb(final_composite, fig=fig)\n",
    "plt.show()"
   ]
  },
  {
   "cell_type": "markdown",
   "metadata": {},
   "source": [
    "## Export to GeoTIFF"
   ]
  },
  {
   "cell_type": "code",
   "execution_count": null,
   "metadata": {},
   "outputs": [],
   "source": [
    "from utils.data_cube_utilities.import_export import export_slice_to_geotiff\n",
    "size_str = 'small_dist' if shp_file_pth_to_load == sml_distr_shp_pth else 'big_dist'\n",
    "export_slice_to_geotiff(composite, 'output/geotiffs/DCAL_Custom_Mosaics_and_Shapefiles/{}_{}_composite.tif'\n",
    "                                    .format(size_str, mosaic_method))"
   ]
  },
  {
   "cell_type": "code",
   "execution_count": null,
   "metadata": {
    "scrolled": true
   },
   "outputs": [],
   "source": [
    "!ls -lah output/geotiffs/DCAL_Custom_Mosaics_and_Shapefiles"
   ]
  }
 ],
 "metadata": {
  "kernelspec": {
   "display_name": "Python 3",
   "language": "python",
   "name": "python3"
  },
  "language_info": {
   "codemirror_mode": {
    "name": "ipython",
    "version": 3
   },
   "file_extension": ".py",
   "mimetype": "text/x-python",
   "name": "python",
   "nbconvert_exporter": "python",
   "pygments_lexer": "ipython3",
   "version": "3.5.2"
  }
 },
 "nbformat": 4,
 "nbformat_minor": 2
}
