{
 "cells": [
  {
   "cell_type": "code",
   "execution_count": 1,
   "metadata": {},
   "outputs": [],
   "source": [
    "import nbformat\n",
    "from nbconvert.preprocessors import ExecutePreprocessor\n",
    "from nbconvert.preprocessors import CellExecutionError\n",
    "from nbclient.exceptions import CellControlSignal"
   ]
  },
  {
   "cell_type": "markdown",
   "metadata": {},
   "source": [
    "## Get a list of notebooks to run"
   ]
  },
  {
   "cell_type": "code",
   "execution_count": 2,
   "metadata": {},
   "outputs": [],
   "source": [
    "import sys\n",
    "import os\n",
    "sys.path.append(os.environ.get('NOTEBOOK_ROOT'))\n",
    "\n",
    "# exclude 'machine_learning' because we do not have the data \n",
    "#   to test the Uruguay Random Forest notebooks.\n",
    "# exclude 'UN_SDG_15_3_1.ipynb' due to no land change data (instructions in nbk).\n",
    "# exclude 'ALOS_Land_Change.ipynb' due to no ALOS data.\n",
    "# exclude 'Landslide_Identification_SLIP.iypnb' due to no TERRA ASTER data.\n",
    "# exclude 'Forest_Change_VNSC.ipynb' due to no TERRA ASTER data.\n",
    "# exclude 'Shallow_Water_Bathymetry.ipynb' due to no Landsat 8 Level 1 data.\n",
    "# exclude 'ALOS_WASARD.ipynb' due to no ALOS data.\n",
    "# exclude 'water_interoperability_similarity.ipynb' due to no Sentinel-2 data.\n",
    "exclude_subpaths = ['.ipynb_checkpoints', 'utils', 'test', 'IGARSS', 'legacy',\n",
    "                    'machine_learning',\n",
    "                    'Automated_Testing.ipynb', 'UN_SDG_15_3_1.ipynb',\n",
    "                    'ALOS_Land_Change.ipynb', 'Landslide_Identification_SLIP.ipynb',\n",
    "                    'Forest_Change_VNSC.ipynb', 'Shallow_Water_Bathymetry.ipynb',\n",
    "                    'ALOS_WASARD.ipynb', 'water_interoperability_similarity.ipynb']\n",
    "notebook_file_paths = []\n",
    "for root, directories, files in os.walk('..', topdown=True):\n",
    "    notebook_file_paths.extend([os.path.join(root, file) for file in files if file.endswith('.ipynb')])\n",
    "notebook_file_paths = sorted(notebook_file_paths)"
   ]
  },
  {
   "cell_type": "markdown",
   "metadata": {},
   "source": [
    "**Filter out notebooks using `exclude_subpaths`**"
   ]
  },
  {
   "cell_type": "code",
   "execution_count": 3,
   "metadata": {},
   "outputs": [],
   "source": [
    "def is_filepath_excluded(filepath, exclude_subpaths):\n",
    "    return any(list(map(lambda subpath: subpath in filepath, exclude_subpaths)))\n",
    "notebook_file_paths = [filepath for filepath in notebook_file_paths if not is_filepath_excluded(filepath, exclude_subpaths)]"
   ]
  },
  {
   "cell_type": "markdown",
   "metadata": {},
   "source": [
    "## Run the notebooks and record their status (e.g. working, error) to HTML as each completes"
   ]
  },
  {
   "cell_type": "code",
   "execution_count": null,
   "metadata": {},
   "outputs": [],
   "source": [
    "import re\n",
    "import pandas\n",
    "ansi_escape = re.compile(r'\\x1B(?:[@-Z\\\\-_]|\\[[0-?]*[ -/]*[@-~])')\n",
    "report = pandas.DataFrame(columns=['Notebook', 'Status', 'Bug Description'])\n",
    "for notebook_file_path in notebook_file_paths:\n",
    "    run_result = {'Notebook': notebook_file_path, 'Status': 'Working', 'Bug Description': ''}\n",
    "    with open(notebook_file_path, 'r+', encoding='utf-8') as notebook_file:\n",
    "        notebook = nbformat.read(notebook_file, as_version=4)\n",
    "        notebook_runner = ExecutePreprocessor(timeout=None)\n",
    "        try:\n",
    "            notebook_runner.preprocess(notebook, {'metadata': {'path': os.path.dirname(notebook_file_path)}})\n",
    "        except CellExecutionError as err:\n",
    "            run_result['Status'] = 'Error'\n",
    "            run_result['Bug Description'] = err\n",
    "        nbformat.write(notebook, notebook_file_path)\n",
    "    report = report.append(run_result, ignore_index=True)\n",
    "    report.to_html('testing_report.html', escape=False, formatters={'Bug Description': lambda e: ansi_escape.sub('', str(e).replace('\\n', '<br/>'))})"
   ]
  },
  {
   "cell_type": "markdown",
   "metadata": {},
   "source": [
    "### Export the results to a CSV"
   ]
  },
  {
   "cell_type": "code",
   "execution_count": null,
   "metadata": {},
   "outputs": [],
   "source": [
    "report['Bug Description'] = report['Bug Description'].map(lambda e: ansi_escape.sub('', str(e)))\n",
    "report.to_csv('testing_report.csv')"
   ]
  },
  {
   "cell_type": "code",
   "execution_count": null,
   "metadata": {},
   "outputs": [],
   "source": [
    "report"
   ]
  }
 ],
 "metadata": {
  "kernelspec": {
   "display_name": "Python 3",
   "language": "python",
   "name": "python3"
  },
  "language_info": {
   "codemirror_mode": {
    "name": "ipython",
    "version": 3
   },
   "file_extension": ".py",
   "mimetype": "text/x-python",
   "name": "python",
   "nbconvert_exporter": "python",
   "pygments_lexer": "ipython3",
   "version": "3.6.9"
  }
 },
 "nbformat": 4,
 "nbformat_minor": 4
}
