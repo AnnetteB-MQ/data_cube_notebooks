{
 "cells": [
  {
   "cell_type": "markdown",
   "metadata": {},
   "source": [
    "\n",
    "## Water supply monitoring of lake chad\n"
   ]
  },
  {
   "cell_type": "markdown",
   "metadata": {},
   "source": [
    ">### Lake Chad  \n",
    ">Lake chad is a large shallow lake bordered by the African countries of Cameroon, Chad, Niger, and Nigeria. The surrounding regions depend on lake chad as a primary source of fresh water and irrigation. This notebook will focus on monitoring the water supply in the Lake Chad region before and after the rainy season in 2015.\n",
    "\n",
    "<br/>\n"
   ]
  },
  {
   "cell_type": "markdown",
   "metadata": {},
   "source": [
    ">### Orient Yourself with Lake Chad\n",
    "\n",
    ">The code below renders a map that can be used to orient yourself with the region.\n",
    "The Lake Chad region sustains several hundred small communities. See if you can spot any of them.  \n",
    "<br>  \n"
   ]
  },
  {
   "cell_type": "code",
   "execution_count": null,
   "metadata": {
    "execution": {
     "iopub.execute_input": "2020-09-28T16:13:27.750792Z",
     "iopub.status.busy": "2020-09-28T16:13:27.750360Z",
     "iopub.status.idle": "2020-09-28T16:13:28.347484Z",
     "shell.execute_reply": "2020-09-28T16:13:28.347027Z"
    }
   },
   "outputs": [],
   "source": [
    "# Enable importing of utilities\n",
    "import sys\n",
    "sys.path.append('..')\n",
    "\n",
    "## The code below renders a map that can be used to orient yourself with the region.\n",
    "from utils.data_cube_utilities.dc_display_map import display_map\n",
    "display_map(latitude = (12.2, 14.5), longitude = (12.9, 15.5))"
   ]
  },
  {
   "cell_type": "markdown",
   "metadata": {},
   "source": [
    " <br/>  \n",
    " \n",
    ">##   Lake Chad is shrinking\n",
    ">Over the last 40 years, Lake Chad has decreased by more than 90% in surface area from 26,000 sq. km to 1,500 square km.   \n",
    "\n",
    "\n",
    ">This shrinkage has been a particularly popular case study due to the following factors:  \n",
    "\n",
    ">- the decline is large, and therefore easy to observe/monitor  \n",
    ">- weather/flooding patterns are predictable  \n",
    ">- the decline endangers many communities in the area. Studies on this region are important to mitigating the effects of a disappearing water supply.   \n",
    "  \n",
    "<br>\n",
    "  "
   ]
  },
  {
   "cell_type": "markdown",
   "metadata": {},
   "source": [
    "\n",
    "\n",
    "## Causes of shrinkage in Lake Chad  \n",
    "\n",
    "Possible causes of this shrinkage include: \n",
    "\n",
    ">**Over-irrigation**  \n",
    "> to meet the needs of a growing population in the region. Irrigation demands increased four-fold between 1983 and 1994, accounting for 50 percent of the additional decrease in the size of the lake. \n",
    "\n",
    ">**Climate change**  \n",
    "> A measured trend of dryer conditions. This brings about the need for more irrigation.  \n",
    "\n",
    ">**Declining Discharge**  \n",
    ">Discharge from the Chari/Logone river system has decreased in the last 40 years.  \n"
   ]
  },
  {
   "cell_type": "markdown",
   "metadata": {},
   "source": [
    "<br>\n",
    "\n",
    "\n",
    "  ![img](diagrams/rainy_demo/chad_decline.png)\n",
    "\n",
    "*The infographic above was taken from the [2017 issue of Foresight Africa](https://www.brookings.edu/wp-content/uploads/2017/01/global_20170109_foresight_africa.pdf)*"
   ]
  },
  {
   "cell_type": "markdown",
   "metadata": {},
   "source": [
    "<br>  \n",
    ">### Rainy Season\n",
    "\n",
    ">The climate in lake chad is fairly predictable. There is a rainy season that spans the summer months of **June, July, and August**. Followed by a dry season  from September to May that sees little or no percipitation.  This rainy season is the major source of water to Lake Chad. "
   ]
  },
  {
   "cell_type": "markdown",
   "metadata": {},
   "source": [
    "# Analyzing Lake Chad's surface area before and after the rainy season"
   ]
  },
  {
   "cell_type": "markdown",
   "metadata": {},
   "source": [
    "### Planning the analysis   \n",
    "  \n",
    "This notebook is the first in a series of notebooks covering water-body analysis of Lake Chad. Specifically, we'll be looking at the effect that the rainy season has on the surface area of Lake Chad.\n",
    "\n",
    "This analysis will require:\n",
    " - a means calculating **when** the rainy season **starts** and **ends**\n",
    " - a means of **determining** what part of the imagery is **water**\n",
    " - a means of determining **how much water** is in the lake  \n",
    " - a **comparison** of **before** rain measurements to **after** rain measurements. "
   ]
  },
  {
   "cell_type": "markdown",
   "metadata": {},
   "source": [
    "### Datacube  \n",
    "The Datacube is an open-source data-aggregation framework for remote-sensing data.  The following notebooks will show a detailed use for it."
   ]
  },
  {
   "cell_type": "markdown",
   "metadata": {},
   "source": [
    "### Divide and conquer\n",
    "To make certain concepts simpler to pick up, this water analysis task is split into smaller conceptually isolated pieces. Each receives a specialized treatment in a separate notebook. In order of analysis, the notebooks are as follows:     \n",
    "\n",
    "- [Working with GPM Precipitation Data to determine the start and end of the rainy season](igarss_chad_01.ipynb) \n",
    "  \n",
    "- [Working with Landsat7 Data to build cloud-free images](igarss_chad_02.ipynb)\n",
    "  \n",
    "- [Classifying bodies of Water on Before and after Images and comparing them](igarss_chad_03.ipynb)"
   ]
  },
  {
   "cell_type": "code",
   "execution_count": null,
   "metadata": {},
   "outputs": [],
   "source": []
  }
 ],
 "metadata": {
  "kernelspec": {
   "display_name": "Python 3",
   "language": "python",
   "name": "python3"
  },
  "language_info": {
   "codemirror_mode": {
    "name": "ipython",
    "version": 3
   },
   "file_extension": ".py",
   "mimetype": "text/x-python",
   "name": "python",
   "nbconvert_exporter": "python",
   "pygments_lexer": "ipython3",
   "version": "3.6.9"
  }
 },
 "nbformat": 4,
 "nbformat_minor": 2
}
