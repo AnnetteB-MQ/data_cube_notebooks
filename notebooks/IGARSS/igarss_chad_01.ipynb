{
 "cells": [
  {
   "cell_type": "code",
   "execution_count": 4,
   "metadata": {},
   "outputs": [],
   "source": [
    "# Enable importing of utilities\n",
    "import sys\n",
    "sys.path.append('..')\n",
    "\n",
    "%matplotlib inline\n",
    "from pylab import rcParams\n",
    "rcParams['figure.figsize'] = 10, 6"
   ]
  },
  {
   "cell_type": "markdown",
   "metadata": {},
   "source": [
    "# Analyizing Rainfall near Lake Chad  \n",
    "\n",
    "This tutorial is focused on solving the problem of determining **when** the rainy season starts and ends over Lake Chad.\n",
    "[Future notebooks in this series]() deal with analyzing the Lake Chad region *before* and *after* the rainy season to determine how much the rainy season contributes to the surface area of Lake Chad. \n",
    "    \n",
    "\n",
    "### What to expect from this notebook\n",
    "\n",
    "- Introduction to precipitation data.\n",
    "- Exposure to datacube\n",
    "- Exposure to `xarrays`\n",
    "- Visualizing time series data \n",
    "- curve fitting to determine start and end dates of the rainy season. \n",
    "\n",
    "### Algorithmic process\n",
    "\n",
    "1. create Datacube object\n",
    "2. define boundaries of study area\n",
    "3. use boudaries to load data \n",
    "4. create a time series representation of data\n",
    "5. curve fit to find rainy season start and end\n",
    "\n",
    "\n",
    "\n"
   ]
  },
  {
   "cell_type": "markdown",
   "metadata": {},
   "source": [
    "# Creating the datacube object \n"
   ]
  },
  {
   "cell_type": "markdown",
   "metadata": {},
   "source": [
    "The following code connects to the datacube and accepts `chad_rainfall` as an app-name."
   ]
  },
  {
   "cell_type": "code",
   "execution_count": 5,
   "metadata": {},
   "outputs": [],
   "source": [
    "import datacube\n",
    "dc = datacube.Datacube(app = \"chad_rainfall\", config = '/home/localuser/.datacube.conf') "
   ]
  },
  {
   "cell_type": "markdown",
   "metadata": {},
   "source": [
    "This object is the main interface to your stored and ingested data. It can handle complicated things like reprojecting data with varying resolutions and orientations. It can also be used to explore existing datasets. In this tutorial, it is only used for loading data from the datacube"
   ]
  },
  {
   "cell_type": "markdown",
   "metadata": {},
   "source": [
    "##  Loading GPM data"
   ]
  },
  {
   "cell_type": "markdown",
   "metadata": {},
   "source": [
    "A small dataset is easier to work with than the entirety of Lake Chad. The region you're about to load contains GPM measurements for a small area of Lake Chad near the mouth of its largest contributing river. The code below displays the bounds of the region but doesn't load it. \n",
    "  "
   ]
  },
  {
   "cell_type": "code",
   "execution_count": 6,
   "metadata": {},
   "outputs": [
    {
     "data": {
      "text/html": [
       "<div style=\"width:100%;\"><div style=\"position:relative;width:100%;height:0;padding-bottom:60%;\"><iframe src=\"data:text/html;charset=utf-8;base64,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\" style=\"position:absolute;width:100%;height:100%;left:0;top:0;border:none !important;\" allowfullscreen webkitallowfullscreen mozallowfullscreen></iframe></div></div>"
      ],
      "text/plain": [
       "<folium.folium.Map at 0x7fd1b904dcf8>"
      ]
     },
     "execution_count": 6,
     "metadata": {},
     "output_type": "execute_result"
    }
   ],
   "source": [
    "from utils.data_cube_utilities.dc_display_map import display_map\n",
    "display_map(latitude = (12.75, 13.0),longitude = (14.25, 14.5))  "
   ]
  },
  {
   "cell_type": "markdown",
   "metadata": {},
   "source": [
    "\n",
    "## Setting boundaries of our load  \n"
   ]
  },
  {
   "cell_type": "code",
   "execution_count": 7,
   "metadata": {},
   "outputs": [],
   "source": [
    "## Define Geographic boundaries using a (min,max) tuple.\n",
    "latitude = (12.75, 13.0)\n",
    "longitude = (14.25, 14.5)\n",
    "\n",
    "## Specify a date range using a (min,max) tuple  \n",
    "from datetime import datetime\n",
    "time = (datetime(2015,1,1), datetime(2016,1,2))\n",
    "\n",
    "## define the name you gave your data while it was being \"ingested\", as well as the platform it was captured on. \n",
    "product = 'gpm_imerg_gis_daily_global'\n",
    "platform = 'GPM'  "
   ]
  },
  {
   "cell_type": "markdown",
   "metadata": {},
   "source": [
    "<br>  \n",
    "\n",
    "It's simple to intuit what the **latitude**,**longitude** and **time** bounds will get you. It will give you a bounded and grided-dataset containing our rainy season. Each square in the diagram below represents the smallest spatial unit in our imagery. This smallest unit is often reffered to as a **pixel**.\n",
    "  \n",
    "<br>  \n",
    "\n",
    "![img](diagrams/rainy_demo/rainy2.png)\n"
   ]
  },
  {
   "cell_type": "markdown",
   "metadata": {},
   "source": [
    "While defining space and time bounds are simple to understand, it may be more complicated to pick up on what **product** and **platform** are. Platform will tell you how/where the data is produced. Product is a key used to chose what representation of that platform's data you wish to index.  \n",
    "\n",
    "For the sake of this tutorial, think of **product** and **platform** as shorthand names we used to look up data that is:  \n",
    "\n",
    "- produced on a **GPM** platform.\n",
    "  \n",
    "- represented using **gpm_imerg_gis_daily_global** settings or types.\n",
    "   \n",
    "The representation reflects personal prefferences that define, for example, the resolution of each pixel, how pixels are sampled, and the sort of geometric projections this grid of pixels undergoes to assume its current shape. Scripts for adding more general product types/representations are avaiable [here](), but aren't necessary to understanding this stage of the tutorial.  "
   ]
  },
  {
   "cell_type": "markdown",
   "metadata": {},
   "source": [
    "## Loading the data  "
   ]
  },
  {
   "cell_type": "code",
   "execution_count": 8,
   "metadata": {},
   "outputs": [],
   "source": [
    "#Load Percipitation data using parameters,\n",
    "gpm_data = dc.load(latitude = latitude, longitude = longitude, time = time, product = product, platform = platform)"
   ]
  },
  {
   "cell_type": "markdown",
   "metadata": {},
   "source": [
    "##  Exploring precipitation data  \n"
   ]
  },
  {
   "cell_type": "markdown",
   "metadata": {},
   "source": [
    "The code above should have loaded an [xarray]() containing your GPM data.  An xarray data-structure is essentially a wrapper for high-dimensional data-arrays. One of its main uses is the coupling of different data with a shared set of coordinates.\n",
    "  \n",
    "Conceptually, you can imagine GPM's xarray looking like this:  \n",
    "\n",
    "<br>\n",
    "\n",
    "![img](diagrams/rainy_demo/gpm_01.png)  \n",
    "  \n",
    "<br>\n",
    "\n",
    "Each latitude-longitude coordinate pair will have,  `total_precipitation`, `liquid_precipitation`, `ice_precipitation` and `percent_liquid` measurements taken for them.  \n",
    "\n",
    "An Xarray Dataset will store each of these measurements in separate grids and share a single set of coordinates among all measurements.  \n",
    "\n",
    "To get some detailed information about an xarray, a `print()` statement will give you a readout on its structure.  \n",
    "<br>"
   ]
  },
  {
   "cell_type": "code",
   "execution_count": 9,
   "metadata": {},
   "outputs": [
    {
     "name": "stdout",
     "output_type": "stream",
     "text": [
      "<xarray.Dataset>\n",
      "Dimensions:               (latitude: 3, longitude: 3, time: 366)\n",
      "Coordinates:\n",
      "  * time                  (time) datetime64[ns] 2015-01-01T11:59:59.500000 ... 2016-01-01T11:59:59.500000\n",
      "  * latitude              (latitude) float64 12.95 12.85 12.75\n",
      "  * longitude             (longitude) float64 14.25 14.35 14.45\n",
      "Data variables:\n",
      "    total_precipitation   (time, latitude, longitude) int32 0 0 0 0 ... 0 0 0 0\n",
      "    liquid_precipitation  (time, latitude, longitude) int32 0 0 0 0 ... 0 0 0 0\n",
      "    ice_precipitation     (time, latitude, longitude) int32 0 0 0 0 ... 0 0 0 0\n",
      "    percent_liquid        (time, latitude, longitude) uint8 15 15 15 ... 15 15\n",
      "Attributes:\n",
      "    crs:      EPSG:4326\n"
     ]
    }
   ],
   "source": [
    "print( gpm_data )"
   ]
  },
  {
   "cell_type": "markdown",
   "metadata": {},
   "source": [
    "<br>\n",
    "Using the readout above we can quickly gain a summary of the dataset we just loaded by examining:  \n",
    "\n",
    "- **Coordinates**  \n",
    "a readout of individual coordinates. In this case, it's three lists of `latitude`, `longitude`, and `time` values\n",
    "- **Dimensions**  \n",
    "a readout of how large each dimension is. In this case, we've loaded in a 3 by 3 area of land have 295 acquisitions between 2014-2015. This can hint that this is a daily, not hourly or monthly precipitation product.   \n",
    "- **Data Variables**  \n",
    "a readout of what sort of data is stored. In this case, each `latitude`, `longitude`, and `time` point will store four types of data. One for each `total_precipitation`, `liquid_precipitation`, `ice_precipitation`,`percent_liquid` variable.  \n",
    "\n",
    "- **Data Size**  \n",
    "Each entry has a size/type associated.  IE. `int32`, `int8`, `float64`.  You can use this to manage the memory footprint of your object. \n",
    "\n"
   ]
  },
  {
   "cell_type": "markdown",
   "metadata": {},
   "source": [
    "# Computing the daily average of precipitation"
   ]
  },
  {
   "cell_type": "markdown",
   "metadata": {},
   "source": [
    "The xarray that you're using has several built-in functions to efficiently run large scale operations on all points within the xarray. The following code makes use of one of those built-in functions to determine the average precipitation in an area for each time slice"
   ]
  },
  {
   "cell_type": "code",
   "execution_count": 10,
   "metadata": {},
   "outputs": [],
   "source": [
    "mean_precipitation = gpm_data.mean(dim = ['latitude', 'longitude'])"
   ]
  },
  {
   "cell_type": "markdown",
   "metadata": {},
   "source": [
    "The code above will: \n",
    "-  take the average of all measurements in latitude rows and store them in a **time * longitude** coordinate pair. \n",
    "-  take the average of all measurements in longitude `longitude` rows and store them in a **time** coordinate. \n",
    "\n",
    "The diagram below should detail the operations of averaging these areas.  \n",
    "\n",
    "![img](diagrams/rainy_demo/mean123.png) \n",
    "\n",
    "\n",
    "\n",
    "\n",
    "Our new xarray dataset will retain a single dimension called time. Each point in time will store a value representing the average of all pixel values at that time.  \n",
    "  \n",
    "Take a look at the print statement below.  "
   ]
  },
  {
   "cell_type": "code",
   "execution_count": 11,
   "metadata": {},
   "outputs": [
    {
     "name": "stdout",
     "output_type": "stream",
     "text": [
      "<xarray.Dataset>\n",
      "Dimensions:               (time: 366)\n",
      "Coordinates:\n",
      "  * time                  (time) datetime64[ns] 2015-01-01T11:59:59.500000 ... 2016-01-01T11:59:59.500000\n",
      "Data variables:\n",
      "    total_precipitation   (time) float64 0.0 0.0 0.0 0.0 0.0 ... 0.0 0.0 0.0 0.0\n",
      "    liquid_precipitation  (time) float64 0.0 0.0 0.0 0.0 0.0 ... 0.0 0.0 0.0 0.0\n",
      "    ice_precipitation     (time) float64 0.0 0.0 0.0 0.0 0.0 ... 0.0 0.0 0.0 0.0\n",
      "    percent_liquid        (time) float64 15.0 15.0 15.0 15.0 ... 15.0 15.0 15.0\n"
     ]
    }
   ],
   "source": [
    "print(mean_precipitation)"
   ]
  },
  {
   "cell_type": "markdown",
   "metadata": {},
   "source": [
    "Things you should notice:  \n",
    "\n",
    "- We're still representing mean_values using an xarray  \n",
    "\n",
    "- only time is displayed under the **coordinates** section.     \n",
    "  **latitude** and **longitude** are essentially dropped.  \n",
    "  \n",
    "- The averaging operation was performed on all datasets; `total_precipitation`, `liquid_precipitation`,`ice_precipitation`, and `percent_liquid`"
   ]
  },
  {
   "cell_type": "markdown",
   "metadata": {},
   "source": [
    "# Displaying time series data"
   ]
  },
  {
   "cell_type": "markdown",
   "metadata": {},
   "source": [
    "Xarray Datasets store several [data-arrays](http://xarray.pydata.org/en/stable/generated/xarray.DataArray.html).  \n",
    "\n",
    "The code below neatly extracts a **total_precipitation** data-array from our **mean_precipitation** Dataset.  \n",
    "<br>   "
   ]
  },
  {
   "cell_type": "code",
   "execution_count": 12,
   "metadata": {},
   "outputs": [],
   "source": [
    "mean_total_precipitation = mean_precipitation.total_precipitation  "
   ]
  },
  {
   "cell_type": "markdown",
   "metadata": {},
   "source": [
    "<br>  \n",
    "The new representation is also an xarray data-structure. When printed it looks something like this.  \n",
    "<br>  "
   ]
  },
  {
   "cell_type": "code",
   "execution_count": 13,
   "metadata": {},
   "outputs": [
    {
     "name": "stdout",
     "output_type": "stream",
     "text": [
      "<xarray.DataArray 'total_precipitation' (time: 366)>\n",
      "array([0., 0., 0., ..., 0., 0., 0.])\n",
      "Coordinates:\n",
      "  * time     (time) datetime64[ns] 2015-01-01T11:59:59.500000 ... 2016-01-01T11:59:59.500000\n"
     ]
    }
   ],
   "source": [
    "print(mean_total_precipitation)"
   ]
  },
  {
   "cell_type": "markdown",
   "metadata": {},
   "source": [
    "<br>\n",
    "For time series plotting we care about extracting **time** coordinates, and the data-array **values**  \n",
    "<br>"
   ]
  },
  {
   "cell_type": "code",
   "execution_count": 14,
   "metadata": {},
   "outputs": [],
   "source": [
    "times = mean_total_precipitation.time.values\n",
    "values = mean_total_precipitation.values"
   ]
  },
  {
   "cell_type": "markdown",
   "metadata": {},
   "source": [
    "<br>  \n",
    "The next line of code plots a time series graph of our values  \n",
    "<br>  "
   ]
  },
  {
   "cell_type": "code",
   "execution_count": 15,
   "metadata": {},
   "outputs": [
    {
     "name": "stderr",
     "output_type": "stream",
     "text": [
      "/home/localuser/Datacube/datacube_env/lib/python3.6/site-packages/pandas-0.24.2-py3.6-linux-x86_64.egg/pandas/plotting/_converter.py:129: FutureWarning: Using an implicitly registered datetime converter for a matplotlib plotting method. The converter was registered by pandas on import. Future versions of pandas will require you to explicitly register matplotlib converters.\n",
      "\n",
      "To register the converters:\n",
      "\t>>> from pandas.plotting import register_matplotlib_converters\n",
      "\t>>> register_matplotlib_converters()\n",
      "  warnings.warn(msg, FutureWarning)\n"
     ]
    },
    {
     "data": {
      "text/plain": [
       "[<matplotlib.lines.Line2D at 0x7fd1dbe5e208>]"
      ]
     },
     "execution_count": 15,
     "metadata": {},
     "output_type": "execute_result"
    },
    {
     "data": {
      "image/png": "[encoded data removed]",
      "text/plain": [
       "<Figure size 720x432 with 1 Axes>"
      ]
     },
     "metadata": {
      "needs_background": "light"
     },
     "output_type": "display_data"
    }
   ],
   "source": [
    "import matplotlib.pyplot as plt\n",
    "plt.plot(times, values) "
   ]
  },
  {
   "cell_type": "markdown",
   "metadata": {},
   "source": [
    "# Determining the bounds of the rainy season  \n",
    "  \n",
    "The section above displayed daily precipitation values observed in 2015.  \n",
    "The shape would fit a bell curve very well.   The following code deals with fitting a bell curve to our time series.  \n",
    "<br>  \n",
    "  "
   ]
  },
  {
   "cell_type": "code",
   "execution_count": 16,
   "metadata": {},
   "outputs": [
    {
     "data": {
      "image/png": "[encoded data removed]",
      "text/plain": [
       "<Figure size 720x432 with 1 Axes>"
      ]
     },
     "metadata": {
      "needs_background": "light"
     },
     "output_type": "display_data"
    }
   ],
   "source": [
    "#Code for this algorithm is out of scope for this tutorial on datacube and is abstracted away for demonstration purposes. \n",
    "import demo.curve_fit_gaussian as curve_fit\n",
    "\n",
    "curve_fit.plot_fit(times, values, standard_deviations = 2)  "
   ]
  },
  {
   "cell_type": "markdown",
   "metadata": {},
   "source": [
    "<br>  \n",
    "We pick two points that are equidistant from the center/peak of this curve to act as our bounding points for the rainy season.  \n",
    "<br>  "
   ]
  },
  {
   "cell_type": "code",
   "execution_count": 17,
   "metadata": {},
   "outputs": [
    {
     "data": {
      "text/plain": [
       "(numpy.datetime64('2015-09-28T11:59:59.500000000'),\n",
       " numpy.datetime64('2015-06-06T11:59:59.500000000'))"
      ]
     },
     "execution_count": 17,
     "metadata": {},
     "output_type": "execute_result"
    }
   ],
   "source": [
    "curve_fit.get_bounds(times, values, standard_deviations = 2)"
   ]
  },
  {
   "cell_type": "markdown",
   "metadata": {},
   "source": [
    "It appears that **JUNE** and **OCTOBER** should be adequate bounds for the rainy season.    "
   ]
  },
  {
   "cell_type": "markdown",
   "metadata": {
    "collapsed": true
   },
   "source": [
    "# Next Steps  \n",
    "\n",
    "This notebook served as an introduction to datacube and the xarray datasets. Now that we have the extent of our rainy season you can proceed with the [next notebook](igarss_chad_02.ipynb), in which landsat 7 data is broken into a pre and post rainy season dataset and cleaned up in preparation for [water detection](igarss_chad_03.ipynb). The entire notebook has been condensed down to a about a dozen lines of code below.     "
   ]
  },
  {
   "cell_type": "code",
   "execution_count": 18,
   "metadata": {},
   "outputs": [
    {
     "data": {
      "text/plain": [
       "(numpy.datetime64('2015-10-27T11:59:59.500000000'),\n",
       " numpy.datetime64('2015-05-09T11:59:59.500000000'))"
      ]
     },
     "execution_count": 18,
     "metadata": {},
     "output_type": "execute_result"
    }
   ],
   "source": [
    "from datetime import datetime\n",
    "import demo.curve_fit_gaussian as curve_fit\n",
    "\n",
    "latitude = (12.75, 13.0)\n",
    "longitude = (14.25, 14.5)\n",
    "time = (datetime(2015,1,1), datetime(2016,1,2))\n",
    "product = 'gpm_imerg_gis_daily_global'\n",
    "platform = 'GPM'  \n",
    "gpm_data = dc.load(latitude = latitude, longitude = longitude, time = time, product = product, platform = platform)\n",
    "\n",
    "mean_precipitation = gpm_data.mean(dim = ['latitude', 'longitude'])\n",
    "\n",
    "times =  mean_precipitation.time.values\n",
    "values = mean_precipitation.total_precipitation.values  \n",
    "  \n",
    "curve_fit.get_bounds(times, values, standard_deviations = 3)"
   ]
  },
  {
   "cell_type": "code",
   "execution_count": null,
   "metadata": {},
   "outputs": [],
   "source": []
  }
 ],
 "metadata": {
  "kernelspec": {
   "display_name": "Python 3",
   "language": "python",
   "name": "python3"
  },
  "language_info": {
   "codemirror_mode": {
    "name": "ipython",
    "version": 3
   },
   "file_extension": ".py",
   "mimetype": "text/x-python",
   "name": "python",
   "nbconvert_exporter": "python",
   "pygments_lexer": "ipython3",
   "version": "3.6.7"
  }
 },
 "nbformat": 4,
 "nbformat_minor": 2
}
