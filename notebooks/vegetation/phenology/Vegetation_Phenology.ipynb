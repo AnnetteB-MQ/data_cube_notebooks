{
 "cells": [
  {
   "cell_type": "markdown",
   "metadata": {},
   "source": [
    "<a id=\"Vegetation_Phenology_top\"></a>\n",
    "# Vegetation Phenology\n",
    "<hr>\n",
    "\n",
    "# Notebook Summary\n",
    "\n",
    "* LANDSAT 7, LANDSAT 8, or both are used to detect changes in plant life over time.\n",
    "* Either NDVI or EVI may be used as a indicator of vegatation.\n",
    "* The outputs of this notebook can be used to assess differences in agriculture fields over time or space and also allow the assessment of growing states such as planting and harvesting.\n",
    "\n",
    "<hr>\n",
    "\n",
    "# Index  \n",
    "\n",
    "* [Import Dependencies and Connect to the Data Cube](#Vegetation_Phenology_import)\n",
    "* [Choose Platform and Product](#Vegetation_Phenology_plat_prod)\n",
    "* [Get the Maximum Extents of the Cube](#Vegetation_Phenology_extents)\n",
    "* [Define the Extents of the Analysis](#Vegetation_Phenology_define_extents)\n",
    "* [Load Data from the Data Cube](#Vegetation_Phenology_retrieve_data)\n",
    "* [Calculate Vegetation Index](#Vegetation_Phenology_calculate)\n",
    "* [Examine the Selected Area](#Vegetation_Phenology_area_analysis)\n",
    "* [Create a Max NDVI Composite](#Vegetation_Phenology_mosaic)\n",
    "\n",
    "<hr>\n",
    "\n",
    "# How It Works\n",
    "\n",
    "To detect changes in plant life, we use a measure called NDVI. \n",
    "* <font color=green>NDVI</font> is the ratio of the difference between the amount of near infrared light <font color=red>(NIR)</font> and red light <font color=red>(RED)</font> divided by their sum.\n",
    "<br>\n",
    "\n",
    "$$ NDVI =  \\frac{(NIR - RED)}{(NIR + RED)}$$  \n",
    "\n",
    "<br>\n",
    "<div class=\"alert-info\">\n",
    "The intention is to observe how much red light is being absorbed versus reflected. Photosynthetic plants absorb most of the visible spectrum's wavelengths when they are healthy. When they aren't healthy, more of that light will get reflected, making the difference between <font color=red>NIR</font> and <font color=red>RED</font> much smaller, which will lower the <font color=green>NDVI</font> value. So a higher NDVI indicates a higher degree of vegetation.\n",
    "</div>\n",
    "\n",
    "However, we can also use a measure called EVI.\n",
    "<br>\n",
    "\n",
    "$$ EVI =  G * \\frac{(NIR - RED)}{(NIR + C1*RED-C2*BLUE+L)}$$  \n",
    "\n",
    "<br>\n",
    "<div class=\"alert-info\">\n",
    "    EVI is superior to NDVI in accuracy because it is less dependent on the solar\n",
    "    incidence angle, atmospheric conditions (e.g. particles and clouds), shadows, and\n",
    "    soil appearance. Normally, $G=2.5$, $C1=6$, $C2=7.5$, and $L=1$.\n",
    "</div>\n",
    "\n",
    "Additionally, there is a 2-band version of EVI called EVI2.\n",
    "<br>\n",
    "\n",
    "$$ EVI2 = G * \\frac{(NIR - RED)}{(NIR + C*RED+L)}$$\n",
    "\n",
    "<br>\n",
    "<div class=\"alert-info\">\n",
    "    EVI2 does not require a blue band like EVI, which means less data is required to use it.\n",
    "    Additionally, the blue band used in EVI can have a low signal-to-noise ratio \n",
    "    in earth observation imagery. When atmospheric effects are insignificant (e.g. on clear days),\n",
    "    EVI2 should closely match EVI. Normally, $G=2.5$, $C=2.4$, and $L=1$.\n",
    "</div>"
   ]
  },
  {
   "cell_type": "markdown",
   "metadata": {},
   "source": [
    "## <span id=\"Vegetation_Phenology_import\">Import Dependencies and Connect to the Data Cube [&#9652;](#Vegetation_Phenology_top)</span>"
   ]
  },
  {
   "cell_type": "code",
   "execution_count": 1,
   "metadata": {
    "execution": {
     "iopub.execute_input": "2020-09-29T01:07:14.582400Z",
     "iopub.status.busy": "2020-09-29T01:07:14.581960Z",
     "iopub.status.idle": "2020-09-29T01:07:15.991768Z",
     "shell.execute_reply": "2020-09-29T01:07:15.992230Z"
    },
    "scrolled": true
   },
   "outputs": [],
   "source": [
    "import sys\n",
    "import os\n",
    "sys.path.append(os.environ.get('NOTEBOOK_ROOT'))\n",
    "\n",
    "%matplotlib inline\n",
    "import matplotlib.pyplot as plt\n",
    "\n",
    "# Import the datacube and the API\n",
    "import datacube\n",
    "from utils.data_cube_utilities.data_access_api import DataAccessApi\n",
    "import numpy as np\n",
    "import pandas as pd\n",
    "import xarray as xr\n",
    "import datetime as dt\n",
    "\n",
    "from utils.data_cube_utilities.dc_load import get_overlapping_area\n",
    "from utils.data_cube_utilities.dc_display_map import display_map\n",
    "\n",
    "# Dependencies for loading multiple products.\n",
    "from utils.data_cube_utilities.dc_load import match_dim_sizes\n",
    "from utils.data_cube_utilities.clean_mask import landsat_qa_clean_mask, landsat_clean_mask_invalid\n",
    "from utils.data_cube_utilities.aggregate import xr_scale_res\n",
    "from utils.data_cube_utilities.dc_load import is_dataset_empty\n",
    "\n",
    "from utils.data_cube_utilities.plotter_utils import xarray_time_series_plot\n",
    "\n",
    "from utils.data_cube_utilities.dc_mosaic import create_max_ndvi_mosaic\n",
    "from utils.data_cube_utilities.dc_rgb import rgb\n",
    "\n",
    "from utils.data_cube_utilities.dc_ndvi_anomaly import NDVI, EVI, EVI2\n",
    "\n",
    "from utils.data_cube_utilities.dc_utilities import write_png_from_xr\n",
    "from utils.data_cube_utilities.import_export import export_xarray_to_multiple_geotiffs"
   ]
  },
  {
   "cell_type": "code",
   "execution_count": 2,
   "metadata": {
    "execution": {
     "iopub.execute_input": "2020-09-29T01:07:15.999814Z",
     "iopub.status.busy": "2020-09-29T01:07:15.999388Z",
     "iopub.status.idle": "2020-09-29T01:07:16.247896Z",
     "shell.execute_reply": "2020-09-29T01:07:16.248354Z"
    }
   },
   "outputs": [],
   "source": [
    "# Create an instance of the datacube and API.\n",
    "api = DataAccessApi()\n",
    "dc = api.dc"
   ]
  },
  {
   "cell_type": "markdown",
   "metadata": {},
   "source": [
    "## <span id=\"Vegetation_Phenology_plat_prod\">Choose Platform and Product [&#9652;](#Vegetation_Phenology_top)</span>"
   ]
  },
  {
   "cell_type": "code",
   "execution_count": 3,
   "metadata": {
    "execution": {
     "iopub.execute_input": "2020-09-29T01:07:16.251877Z",
     "iopub.status.busy": "2020-09-29T01:07:16.251464Z",
     "iopub.status.idle": "2020-09-29T01:07:16.270133Z",
     "shell.execute_reply": "2020-09-29T01:07:16.269677Z"
    }
   },
   "outputs": [],
   "source": [
    "# Get available products\n",
    "products_info = dc.list_products()"
   ]
  },
  {
   "cell_type": "code",
   "execution_count": 4,
   "metadata": {
    "execution": {
     "iopub.execute_input": "2020-09-29T01:07:16.285062Z",
     "iopub.status.busy": "2020-09-29T01:07:16.282391Z",
     "iopub.status.idle": "2020-09-29T01:07:16.288072Z",
     "shell.execute_reply": "2020-09-29T01:07:16.288483Z"
    }
   },
   "outputs": [
    {
     "name": "stdout",
     "output_type": "stream",
     "text": [
      "LANDSAT 7 Products:\n"
     ]
    },
    {
     "data": {
      "text/html": [
       "<div>\n",
       "<style scoped>\n",
       "    .dataframe tbody tr th:only-of-type {\n",
       "        vertical-align: middle;\n",
       "    }\n",
       "\n",
       "    .dataframe tbody tr th {\n",
       "        vertical-align: top;\n",
       "    }\n",
       "\n",
       "    .dataframe thead th {\n",
       "        text-align: right;\n",
       "    }\n",
       "</style>\n",
       "<table border=\"1\" class=\"dataframe\">\n",
       "  <thead>\n",
       "    <tr style=\"text-align: right;\">\n",
       "      <th></th>\n",
       "      <th>platform</th>\n",
       "      <th>name</th>\n",
       "    </tr>\n",
       "    <tr>\n",
       "      <th>id</th>\n",
       "      <th></th>\n",
       "      <th></th>\n",
       "    </tr>\n",
       "  </thead>\n",
       "  <tbody>\n",
       "    <tr>\n",
       "      <th>12</th>\n",
       "      <td>LANDSAT_7</td>\n",
       "      <td>ls7_collections_sr_scene</td>\n",
       "    </tr>\n",
       "    <tr>\n",
       "      <th>13</th>\n",
       "      <td>LANDSAT_7</td>\n",
       "      <td>ls7_ledaps_ghana</td>\n",
       "    </tr>\n",
       "    <tr>\n",
       "      <th>17</th>\n",
       "      <td>LANDSAT_7</td>\n",
       "      <td>ls7_ledaps_kenya</td>\n",
       "    </tr>\n",
       "    <tr>\n",
       "      <th>18</th>\n",
       "      <td>LANDSAT_7</td>\n",
       "      <td>ls7_ledaps_senegal</td>\n",
       "    </tr>\n",
       "    <tr>\n",
       "      <th>16</th>\n",
       "      <td>LANDSAT_7</td>\n",
       "      <td>ls7_ledaps_sierra_leone</td>\n",
       "    </tr>\n",
       "    <tr>\n",
       "      <th>19</th>\n",
       "      <td>LANDSAT_7</td>\n",
       "      <td>ls7_ledaps_tanzania</td>\n",
       "    </tr>\n",
       "    <tr>\n",
       "      <th>31</th>\n",
       "      <td>LANDSAT_7</td>\n",
       "      <td>ls7_ledaps_vietnam</td>\n",
       "    </tr>\n",
       "  </tbody>\n",
       "</table>\n",
       "</div>"
      ],
      "text/plain": [
       "     platform                      name\n",
       "id                                     \n",
       "12  LANDSAT_7  ls7_collections_sr_scene\n",
       "13  LANDSAT_7          ls7_ledaps_ghana\n",
       "17  LANDSAT_7          ls7_ledaps_kenya\n",
       "18  LANDSAT_7        ls7_ledaps_senegal\n",
       "16  LANDSAT_7   ls7_ledaps_sierra_leone\n",
       "19  LANDSAT_7       ls7_ledaps_tanzania\n",
       "31  LANDSAT_7        ls7_ledaps_vietnam"
      ]
     },
     "execution_count": 1,
     "metadata": {},
     "output_type": "execute_result"
    }
   ],
   "source": [
    "print(\"LANDSAT 7 Products:\")\n",
    "products_info[[\"platform\", \"name\"]][products_info.platform == \"LANDSAT_7\"]"
   ]
  },
  {
   "cell_type": "code",
   "execution_count": 5,
   "metadata": {
    "execution": {
     "iopub.execute_input": "2020-09-29T01:07:16.295535Z",
     "iopub.status.busy": "2020-09-29T01:07:16.294908Z",
     "iopub.status.idle": "2020-09-29T01:07:16.298189Z",
     "shell.execute_reply": "2020-09-29T01:07:16.297764Z"
    }
   },
   "outputs": [
    {
     "name": "stdout",
     "output_type": "stream",
     "text": [
      "LANDSAT 8 Products:\n"
     ]
    },
    {
     "data": {
      "text/html": [
       "<div>\n",
       "<style scoped>\n",
       "    .dataframe tbody tr th:only-of-type {\n",
       "        vertical-align: middle;\n",
       "    }\n",
       "\n",
       "    .dataframe tbody tr th {\n",
       "        vertical-align: top;\n",
       "    }\n",
       "\n",
       "    .dataframe thead th {\n",
       "        text-align: right;\n",
       "    }\n",
       "</style>\n",
       "<table border=\"1\" class=\"dataframe\">\n",
       "  <thead>\n",
       "    <tr style=\"text-align: right;\">\n",
       "      <th></th>\n",
       "      <th>platform</th>\n",
       "      <th>name</th>\n",
       "    </tr>\n",
       "    <tr>\n",
       "      <th>id</th>\n",
       "      <th></th>\n",
       "      <th></th>\n",
       "    </tr>\n",
       "  </thead>\n",
       "  <tbody>\n",
       "    <tr>\n",
       "      <th>7</th>\n",
       "      <td>LANDSAT_8</td>\n",
       "      <td>ls8_collections_sr_scene</td>\n",
       "    </tr>\n",
       "    <tr>\n",
       "      <th>9</th>\n",
       "      <td>LANDSAT_8</td>\n",
       "      <td>ls8_lasrc_ghana</td>\n",
       "    </tr>\n",
       "    <tr>\n",
       "      <th>10</th>\n",
       "      <td>LANDSAT_8</td>\n",
       "      <td>ls8_lasrc_kenya</td>\n",
       "    </tr>\n",
       "    <tr>\n",
       "      <th>11</th>\n",
       "      <td>LANDSAT_8</td>\n",
       "      <td>ls8_lasrc_senegal</td>\n",
       "    </tr>\n",
       "    <tr>\n",
       "      <th>8</th>\n",
       "      <td>LANDSAT_8</td>\n",
       "      <td>ls8_lasrc_sierra_leone</td>\n",
       "    </tr>\n",
       "    <tr>\n",
       "      <th>15</th>\n",
       "      <td>LANDSAT_8</td>\n",
       "      <td>ls8_lasrc_tanzania</td>\n",
       "    </tr>\n",
       "  </tbody>\n",
       "</table>\n",
       "</div>"
      ],
      "text/plain": [
       "     platform                      name\n",
       "id                                     \n",
       "7   LANDSAT_8  ls8_collections_sr_scene\n",
       "9   LANDSAT_8           ls8_lasrc_ghana\n",
       "10  LANDSAT_8           ls8_lasrc_kenya\n",
       "11  LANDSAT_8         ls8_lasrc_senegal\n",
       "8   LANDSAT_8    ls8_lasrc_sierra_leone\n",
       "15  LANDSAT_8        ls8_lasrc_tanzania"
      ]
     },
     "execution_count": 1,
     "metadata": {},
     "output_type": "execute_result"
    }
   ],
   "source": [
    "print(\"LANDSAT 8 Products:\")\n",
    "products_info[[\"platform\", \"name\"]][products_info.platform == \"LANDSAT_8\"]"
   ]
  },
  {
   "cell_type": "markdown",
   "metadata": {},
   "source": [
    "**Choose the platform and product**"
   ]
  },
  {
   "cell_type": "code",
   "execution_count": 6,
   "metadata": {
    "execution": {
     "iopub.execute_input": "2020-09-29T01:07:16.301947Z",
     "iopub.status.busy": "2020-09-29T01:07:16.301408Z",
     "iopub.status.idle": "2020-09-29T01:07:16.303099Z",
     "shell.execute_reply": "2020-09-29T01:07:16.303501Z"
    }
   },
   "outputs": [],
   "source": [
    "# These are the platforms (satellites) and products (datacube sets) \n",
    "# used for this demonstration.\n",
    "use_Landsat7 = True\n",
    "use_Landsat8 = False\n",
    "platforms = []\n",
    "products = []\n",
    "if use_Landsat7:\n",
    "    platforms.append('LANDSAT_7')\n",
    "    products.append('ls7_ledaps_ghana')\n",
    "if use_Landsat8:\n",
    "    platforms.append('LANDSAT_8')\n",
    "    products.append('ls8_lasrc_ghana')"
   ]
  },
  {
   "cell_type": "markdown",
   "metadata": {},
   "source": [
    "## <span id=\"Vegetation_Phenology_extents\">Get the Maximum Extents of the Cube [&#9652;](#Vegetation_Phenology_top)</span>"
   ]
  },
  {
   "cell_type": "code",
   "execution_count": 7,
   "metadata": {
    "execution": {
     "iopub.execute_input": "2020-09-29T01:07:16.308226Z",
     "iopub.status.busy": "2020-09-29T01:07:16.307684Z",
     "iopub.status.idle": "2020-09-29T01:07:24.002904Z",
     "shell.execute_reply": "2020-09-29T01:07:24.003350Z"
    }
   },
   "outputs": [
    {
     "name": "stdout",
     "output_type": "stream",
     "text": [
      "LANDSAT_7:\n",
      "Lat bounds: (3.7730589405966173, 11.318637832619382)\n",
      "Lon bounds: (-3.772789446011382, 1.8863273493593828)\n",
      "Time bounds: ['2000-01-01', '2020-01-10']\n"
     ]
    }
   ],
   "source": [
    "for product, platform in zip(products, platforms):\n",
    "    prod_extents = api.get_query_metadata(platform=platform, product=product, measurements=[])\n",
    "\n",
    "    latitude_extents = prod_extents['lat_extents']\n",
    "    longitude_extents = prod_extents['lon_extents']\n",
    "    time_extents = list(map(lambda time: time.strftime('%Y-%m-%d'), prod_extents['time_extents']))\n",
    "\n",
    "    print(\"{}:\".format(platform))\n",
    "    print(\"Lat bounds:\", latitude_extents)\n",
    "    print(\"Lon bounds:\", longitude_extents)\n",
    "    print(\"Time bounds:\", time_extents)"
   ]
  },
  {
   "cell_type": "code",
   "execution_count": 8,
   "metadata": {
    "execution": {
     "iopub.execute_input": "2020-09-29T01:07:24.007569Z",
     "iopub.status.busy": "2020-09-29T01:07:24.006908Z",
     "iopub.status.idle": "2020-09-29T01:07:31.369120Z",
     "shell.execute_reply": "2020-09-29T01:07:31.369579Z"
    },
    "scrolled": false
   },
   "outputs": [
    {
     "data": {
      "text/html": [
       "<div style=\"width:100%;\"><div style=\"position:relative;width:100%;height:0;padding-bottom:60%;\"><span style=\"color:#565656\">Make this Notebook Trusted to load map: File -> Trust Notebook</span><iframe src=\"about:blank\" style=\"position:absolute;width:100%;height:100%;left:0;top:0;border:none !important;\" data-html=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 onload=\"this.contentDocument.open();this.contentDocument.write(atob(this.getAttribute('data-html')));this.contentDocument.close();\" allowfullscreen webkitallowfullscreen mozallowfullscreen></iframe></div></div>"
      ],
      "text/plain": [
       "<folium.folium.Map at 0x7f7acdeca908>"
      ]
     },
     "execution_count": 1,
     "metadata": {},
     "output_type": "execute_result"
    }
   ],
   "source": [
    "full_lat, full_lon, min_max_dates = get_overlapping_area(api, platforms, products)\n",
    "\n",
    "# Display the total shared area available for these datacube products.\n",
    "display_map(latitude = full_lat,longitude = full_lon)"
   ]
  },
  {
   "cell_type": "markdown",
   "metadata": {},
   "source": [
    "## <span id=\"Vegetation_Phenology_define_extents\">Define the Extents of the Analysis [&#9652;](#Vegetation_Phenology_top)</span>"
   ]
  },
  {
   "cell_type": "markdown",
   "metadata": {},
   "source": [
    "**Specify the time range**"
   ]
  },
  {
   "cell_type": "code",
   "execution_count": 9,
   "metadata": {
    "execution": {
     "iopub.execute_input": "2020-09-29T01:07:31.372629Z",
     "iopub.status.busy": "2020-09-29T01:07:31.372214Z",
     "iopub.status.idle": "2020-09-29T01:07:31.373892Z",
     "shell.execute_reply": "2020-09-29T01:07:31.374305Z"
    }
   },
   "outputs": [],
   "source": [
    "# Select a subset of the time available.\n",
    "time_range = (\"2016-01-01\", \"2016-12-31\")"
   ]
  },
  {
   "cell_type": "markdown",
   "metadata": {},
   "source": [
    "**Specify an area to analyze**"
   ]
  },
  {
   "cell_type": "code",
   "execution_count": 10,
   "metadata": {
    "execution": {
     "iopub.execute_input": "2020-09-29T01:07:31.377698Z",
     "iopub.status.busy": "2020-09-29T01:07:31.377242Z",
     "iopub.status.idle": "2020-09-29T01:07:31.378888Z",
     "shell.execute_reply": "2020-09-29T01:07:31.379297Z"
    }
   },
   "outputs": [],
   "source": [
    "# Specify latitude and longitude bounds of an interesting area within the full extents\n",
    "\n",
    "# Ghana\n",
    "# Crops NW of Accra (small)\n",
    "lat = (5.7261, 5.7390)\n",
    "lon = (-0.4960, -0.4889)\n",
    "# Crops NW of Accra (medium)\n",
    "# lat = (5.7259, 5.7517) \n",
    "# lon = (-0.5308, -0.5143)\n",
    "# Central Ghana - West of Kintampo\n",
    "# lat = (8.0074, 8.0203) \n",
    "# lon = (-2.0486, -2.0332)\n",
    "    \n",
    "# Vietnam\n",
    "# Area #1\n",
    "# lat = (10.95, 11.00)\n",
    "# lon = (107.15, 107.20)\n",
    "# Area #2\n",
    "# lat = (11.10, 11.39)\n",
    "# lon = (106.8, 106.92)\n",
    "# Area #3\n",
    "# lat = (9.8, 10.0)\n",
    "# lon = (105.2, 105.4)\n",
    "# Area #4\n",
    "# lat = (9.9, 10.1)\n",
    "# lon = (105.0, 105.2)"
   ]
  },
  {
   "cell_type": "markdown",
   "metadata": {},
   "source": [
    "**Visualize the selected area**"
   ]
  },
  {
   "cell_type": "code",
   "execution_count": 11,
   "metadata": {
    "execution": {
     "iopub.execute_input": "2020-09-29T01:07:31.382642Z",
     "iopub.status.busy": "2020-09-29T01:07:31.382234Z",
     "iopub.status.idle": "2020-09-29T01:07:31.389952Z",
     "shell.execute_reply": "2020-09-29T01:07:31.389492Z"
    }
   },
   "outputs": [
    {
     "data": {
      "text/html": [
       "<div style=\"width:100%;\"><div style=\"position:relative;width:100%;height:0;padding-bottom:60%;\"><span style=\"color:#565656\">Make this Notebook Trusted to load map: File -> Trust Notebook</span><iframe src=\"about:blank\" style=\"position:absolute;width:100%;height:100%;left:0;top:0;border:none !important;\" data-html=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 onload=\"this.contentDocument.open();this.contentDocument.write(atob(this.getAttribute('data-html')));this.contentDocument.close();\" allowfullscreen webkitallowfullscreen mozallowfullscreen></iframe></div></div>"
      ],
      "text/plain": [
       "<folium.folium.Map at 0x7f7b1001e828>"
      ]
     },
     "execution_count": 1,
     "metadata": {},
     "output_type": "execute_result"
    }
   ],
   "source": [
    "display_map(lat, lon)"
   ]
  },
  {
   "cell_type": "markdown",
   "metadata": {},
   "source": [
    "## <span id=\"Vegetation_Phenology_retrieve_data\">Load Data from the Data Cube [&#9652;](#Vegetation_Phenology_top)</span>"
   ]
  },
  {
   "cell_type": "code",
   "execution_count": 12,
   "metadata": {
    "execution": {
     "iopub.execute_input": "2020-09-29T01:07:31.400063Z",
     "iopub.status.busy": "2020-09-29T01:07:31.399272Z",
     "iopub.status.idle": "2020-09-29T01:07:45.988284Z",
     "shell.execute_reply": "2020-09-29T01:07:45.987784Z"
    }
   },
   "outputs": [],
   "source": [
    "# Select which spectral index to use to track changes in vegetation.\n",
    "# Can be any of ['NDVI', 'EVI', 'EVI2'].\n",
    "spectral_index = 'EVI2'\n",
    "\n",
    "if spectral_index == 'NDVI':\n",
    "    measurements = ['red', 'nir']\n",
    "elif spectral_index == 'EVI':\n",
    "    measurements = ['red', 'nir', 'blue']\n",
    "else: # EVI2\n",
    "    measurements = ['red', 'nir']\n",
    "# Include pixel_qa band to obtain the clean mask in load_multiplatform.\n",
    "# Include red, green, and blue bands to be able to show RGB images of the data.\n",
    "measurements = list(set(measurements + ['pixel_qa', 'red', 'green', 'blue']))\n",
    "\n",
    "matching_abs_res, same_dim_sizes = \\\n",
    "    match_dim_sizes(dc, products, lon, lat)\n",
    "datasets = {}\n",
    "clean_masks = {}\n",
    "for platform, product in zip(platforms, products):\n",
    "    # Load the dataset.\n",
    "    dataset = dc.load(platform=platform, product=product, \n",
    "                      lat=lat, lon=lon, \n",
    "                      time=time_extents, measurements=measurements,\n",
    "                      group_by='solar_day')\n",
    "    if is_dataset_empty(dataset):\n",
    "        continue\n",
    "    # Get the masks (varies by platform).\n",
    "    # The astype cast is for `xr_scale_res()` below.\n",
    "    clean_mask = (landsat_qa_clean_mask(dataset, platform) & \n",
    "                  (dataset != -9999).to_array().all('variable') & \n",
    "                  landsat_clean_mask_invalid(dataset))\n",
    "    dataset = dataset.drop('pixel_qa')    \n",
    "    # (Optional) Discard acquisitions with no clean data.\n",
    "    acq_times_to_keep = dataset.time.values[(clean_mask.mean(['latitude', 'longitude']) > 0.001).values]\n",
    "    dataset = dataset.sel(time=acq_times_to_keep)\n",
    "    clean_mask = clean_mask.sel(time=acq_times_to_keep)\n",
    "    # If needed, scale the datasets and clean masks to the same size in the x and y dimensions.\n",
    "    if not same_dim_sizes:    \n",
    "        dataset = xr_scale_res(dataset, abs_res=matching_abs_res)\n",
    "        clean_mask = xr_scale_res(clean_mask.astype(np.uint8), abs_res=matching_abs_res).astype(np.bool)\n",
    "    # Clean the data.\n",
    "    dataset = dataset.where(clean_mask)\n",
    "    datasets[product], clean_masks[product] = dataset, clean_mask\n",
    "# Combine everything.\n",
    "if len(datasets) > 0:\n",
    "    # Make the coordinates of the datasets the same as the first.\n",
    "    for i in range(1, len(platforms)):\n",
    "        for coord in ['latitude', 'longitude']:\n",
    "            datasets[platforms[i]][coord].values = \\\n",
    "                datasets[platforms[0]][coord].values\n",
    "    dataset = xr.concat(list(datasets.values()), dim='time').sortby('time')\n",
    "    clean_mask = xr.concat(list(clean_masks.values()), dim='time').sortby('time')\n",
    "else:\n",
    "    dataset = xr.Dataset()\n",
    "    clean_mask = xr.DataArray(np.empty((0,), dtype=np.bool))\n",
    "del datasets, clean_masks\n",
    "\n",
    "cleaned_dataset = dataset.where(clean_mask)\n",
    "del dataset # Save memory"
   ]
  },
  {
   "cell_type": "markdown",
   "metadata": {},
   "source": [
    "## <span id='Vegetation_Phenology_calculate'>Calculate Vegetation Index [&#9652;](#Vegetation_Phenology_top)</span>"
   ]
  },
  {
   "cell_type": "code",
   "execution_count": 13,
   "metadata": {
    "execution": {
     "iopub.execute_input": "2020-09-29T01:07:45.993829Z",
     "iopub.status.busy": "2020-09-29T01:07:45.992981Z",
     "iopub.status.idle": "2020-09-29T01:07:46.001670Z",
     "shell.execute_reply": "2020-09-29T01:07:46.000819Z"
    }
   },
   "outputs": [],
   "source": [
    "if spectral_index == 'NDVI':\n",
    "    vegetation_arr = NDVI(cleaned_dataset)\n",
    "elif spectral_index == 'EVI':\n",
    "    vegetation_arr = EVI(cleaned_dataset)\n",
    "else: # 'EVI2'\n",
    "    vegetation_arr = EVI2(cleaned_dataset)\n",
    "cleaned_dataset[spectral_index] = vegetation_arr"
   ]
  },
  {
   "cell_type": "markdown",
   "metadata": {},
   "source": [
    "## <span id=\"Vegetation_Phenology_area_analysis\">Examine the Selected Area [&#9652;](#Vegetation_Phenology_top)</span>"
   ]
  },
  {
   "cell_type": "markdown",
   "metadata": {},
   "source": [
    "**If no plots appear in the figures below, there is no data available for the region selected**"
   ]
  },
  {
   "cell_type": "markdown",
   "metadata": {},
   "source": [
    "**Box-and-Whisker Plot by Full Time Period, Week, Month, Week of Year, or Month of Year.**"
   ]
  },
  {
   "cell_type": "code",
   "execution_count": 14,
   "metadata": {
    "execution": {
     "iopub.execute_input": "2020-09-29T01:07:46.013876Z",
     "iopub.status.busy": "2020-09-29T01:07:46.010186Z",
     "iopub.status.idle": "2020-09-29T01:07:46.468499Z",
     "shell.execute_reply": "2020-09-29T01:07:46.468915Z"
    }
   },
   "outputs": [
    {
     "name": "stdout",
     "output_type": "stream",
     "text": [
      "EVI2 (Aggregated by Month of Year)\n"
     ]
    },
    {
     "data": {
      "image/png": "[encoded data removed]",
      "text/plain": [
       "<Figure size 1200x600 with 1 Axes>"
      ]
     },
     "metadata": {
      "needs_background": "light"
     },
     "output_type": "display_data"
    }
   ],
   "source": [
    "import warnings\n",
    "\n",
    "## Settings ##\n",
    "\n",
    "# Specify the type of curve fit to use for the vegetation index along time.\n",
    "# Can be one of [None, 'gaussian', 'gaussian_filter', 'poly', 'cubic_spline'].\n",
    "# Using None will not plot a curve fit.\n",
    "curve_fit_type = 'gaussian_filter'\n",
    "assert curve_fit_type in [None, 'gaussian', 'gaussian_filter', 'poly', 'cubic_spline'], \\\n",
    "    \"The variable `curve_fit_type` must be in \" \\\n",
    "    \"[None, 'gaussian', 'gaussian_filter', 'poly', 'cubic_spline']\"\n",
    "\n",
    "# Specify the target aggregation type of the curve fit. Input can be either 'mean' or 'median'.\n",
    "curve_fit_target = 'median'\n",
    "assert curve_fit_target in ['mean', 'median'], \"The variable 'curve_fit_target' must be either \"\\\n",
    "                                               \"'mean' or 'median'.\"\n",
    "\n",
    "# The maximum number of data points that appear along time in each plot.\n",
    "# If more than this number of data points need to be plotted, a grid of plots will be created.\n",
    "max_times_per_plot = 10\n",
    "\n",
    "## End Settings ##\n",
    "\n",
    "# Can be one of [None, 'week', 'month', 'weekofyear', 'monthofyear'].\n",
    "with warnings.catch_warnings():\n",
    "    # Ignore warning about aggregations of empty slices.\n",
    "    warnings.simplefilter(\"ignore\", category=RuntimeWarning)\n",
    "    for bin_by in ['monthofyear']:\n",
    "        aggregated_by_str = None\n",
    "        if bin_by is None:\n",
    "            plotting_data = cleaned_dataset\n",
    "        elif bin_by == 'week':\n",
    "            plotting_data = cleaned_dataset.resample(time='1w').mean()\n",
    "            aggregated_by_str = 'Week'\n",
    "        elif bin_by == 'month':\n",
    "            plotting_data = cleaned_dataset.resample(time='1m').mean()\n",
    "            aggregated_by_str = 'Month'\n",
    "        elif bin_by == 'weekofyear':\n",
    "            plotting_data = cleaned_dataset.groupby('time.week').mean(dim=('time'))\n",
    "            aggregated_by_str = 'Week of Year'\n",
    "        elif bin_by == 'monthofyear':\n",
    "            plotting_data = cleaned_dataset.groupby('time.month').mean(dim=('time'))\n",
    "            aggregated_by_str = 'Month of Year'\n",
    "    \n",
    "params = dict(dataset=plotting_data, \n",
    "              plot_descs={spectral_index:{'none':[{'box':{'boxprops':{'facecolor':'forestgreen'}}}]}})\n",
    "if curve_fit_type is not None:\n",
    "    if curve_fit_type == 'gaussian':\n",
    "        curve_fit_desc = [{'gaussian': {}}]\n",
    "    elif curve_fit_type == 'gaussian_filter':\n",
    "        curve_fit_desc = [{'gaussian_filter': {}}]\n",
    "    elif curve_fit_type == 'poly':\n",
    "        curve_fit_desc = [{'poly': {'degree': 3}}]\n",
    "    else: # 'cubic_spline'\n",
    "        curve_fit_desc = [{'cubic_spline': {}}]\n",
    "    params['plot_descs'][spectral_index][curve_fit_target] = curve_fit_desc\n",
    "    \n",
    "fig, _ = xarray_time_series_plot(**params, fig_params=dict(figsize=(8,4), dpi=150))\n",
    "plt.title('Box-and-Whisker Plot by Full Time Period')\n",
    "agg_str = \"(Aggregated by {})\".format(aggregated_by_str) if aggregated_by_str is not None else \"\"\n",
    "print(\"{} {}\".format(spectral_index, agg_str))"
   ]
  },
  {
   "cell_type": "markdown",
   "metadata": {},
   "source": [
    "## <span id=\"Vegetation_Phenology_mosaic\">Create a Max NDVI Composite [&#9652;](#Vegetation_Phenology_top)</span>"
   ]
  },
  {
   "cell_type": "code",
   "execution_count": 15,
   "metadata": {
    "execution": {
     "iopub.execute_input": "2020-09-29T01:07:46.486797Z",
     "iopub.status.busy": "2020-09-29T01:07:46.482560Z",
     "iopub.status.idle": "2020-09-29T01:07:47.544063Z",
     "shell.execute_reply": "2020-09-29T01:07:47.544411Z"
    }
   },
   "outputs": [
    {
     "data": {
      "image/png": "[encoded data removed]",
      "text/plain": [
       "<Figure size 864x476.082 with 1 Axes>"
      ]
     },
     "metadata": {
      "needs_background": "light"
     },
     "output_type": "display_data"
    }
   ],
   "source": [
    "max_ndvi_mosaic = create_max_ndvi_mosaic(cleaned_dataset, clean_mask)\n",
    "rgb(max_ndvi_mosaic, min_inten=0.05,\n",
    "    width=12)\n",
    "plt.show()"
   ]
  }
 ],
 "metadata": {
  "kernelspec": {
   "display_name": "Python 3",
   "language": "python",
   "name": "python3"
  },
  "language_info": {
   "codemirror_mode": {
    "name": "ipython",
    "version": 3
   },
   "file_extension": ".py",
   "mimetype": "text/x-python",
   "name": "python",
   "nbconvert_exporter": "python",
   "pygments_lexer": "ipython3",
   "version": "3.6.9"
  },
  "pycharm": {
   "stem_cell": {
    "cell_type": "raw",
    "metadata": {
     "collapsed": false
    },
    "source": []
   }
  }
 },
 "nbformat": 4,
 "nbformat_minor": 4
}
