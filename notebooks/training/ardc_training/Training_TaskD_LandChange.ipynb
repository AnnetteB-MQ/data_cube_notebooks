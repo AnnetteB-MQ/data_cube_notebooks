{
 "cells": [
  {
   "cell_type": "code",
   "execution_count": 1,
   "metadata": {
    "execution": {
     "iopub.execute_input": "2020-09-29T01:01:10.191698Z",
     "iopub.status.busy": "2020-09-29T01:01:10.191267Z",
     "iopub.status.idle": "2020-09-29T01:01:10.193898Z",
     "shell.execute_reply": "2020-09-29T01:01:10.194322Z"
    }
   },
   "outputs": [],
   "source": [
    "# Enable importing of utilities.\n",
    "import sys\n",
    "import os\n",
    "sys.path.append(os.environ.get('NOTEBOOK_ROOT'))"
   ]
  },
  {
   "cell_type": "markdown",
   "metadata": {},
   "source": [
    "# ARDC Training: Python Notebooks\n",
    "Task-D: Land Change"
   ]
  },
  {
   "cell_type": "markdown",
   "metadata": {},
   "source": [
    "> ### Import the Datacube Configuration"
   ]
  },
  {
   "cell_type": "code",
   "execution_count": 2,
   "metadata": {
    "execution": {
     "iopub.execute_input": "2020-09-29T01:01:10.199078Z",
     "iopub.status.busy": "2020-09-29T01:01:10.198403Z",
     "iopub.status.idle": "2020-09-29T01:01:11.488234Z",
     "shell.execute_reply": "2020-09-29T01:01:11.488700Z"
    }
   },
   "outputs": [],
   "source": [
    "import datacube\n",
    "import utils.data_cube_utilities.data_access_api as dc_api  \n",
    "api = dc_api.DataAccessApi()\n",
    "dc = datacube.Datacube(app = 'ardc_task_d')\n",
    "api.dc = dc"
   ]
  },
  {
   "cell_type": "code",
   "execution_count": 3,
   "metadata": {
    "execution": {
     "iopub.execute_input": "2020-09-29T01:01:11.492633Z",
     "iopub.status.busy": "2020-09-29T01:01:11.491954Z",
     "iopub.status.idle": "2020-09-29T01:01:11.649439Z",
     "shell.execute_reply": "2020-09-29T01:01:11.649954Z"
    }
   },
   "outputs": [],
   "source": [
    "# Enable plotting\n",
    "%matplotlib inline"
   ]
  },
  {
   "cell_type": "code",
   "execution_count": 4,
   "metadata": {
    "execution": {
     "iopub.execute_input": "2020-09-29T01:01:11.653236Z",
     "iopub.status.busy": "2020-09-29T01:01:11.652717Z",
     "iopub.status.idle": "2020-09-29T01:01:11.654466Z",
     "shell.execute_reply": "2020-09-29T01:01:11.654888Z"
    }
   },
   "outputs": [],
   "source": [
    "# Supress Warning \n",
    "import warnings\n",
    "warnings.filterwarnings('ignore')"
   ]
  },
  {
   "cell_type": "markdown",
   "metadata": {},
   "source": [
    ">### Browse the available Data Cubes   "
   ]
  },
  {
   "cell_type": "code",
   "execution_count": 5,
   "metadata": {
    "execution": {
     "iopub.execute_input": "2020-09-29T01:01:11.659007Z",
     "iopub.status.busy": "2020-09-29T01:01:11.658344Z",
     "iopub.status.idle": "2020-09-29T01:01:11.703566Z",
     "shell.execute_reply": "2020-09-29T01:01:11.704017Z"
    },
    "scrolled": false
   },
   "outputs": [
    {
     "data": {
      "text/html": [
       "<div>\n",
       "<style scoped>\n",
       "    .dataframe tbody tr th:only-of-type {\n",
       "        vertical-align: middle;\n",
       "    }\n",
       "\n",
       "    .dataframe tbody tr th {\n",
       "        vertical-align: top;\n",
       "    }\n",
       "\n",
       "    .dataframe thead th {\n",
       "        text-align: right;\n",
       "    }\n",
       "</style>\n",
       "<table border=\"1\" class=\"dataframe\">\n",
       "  <thead>\n",
       "    <tr style=\"text-align: right;\">\n",
       "      <th></th>\n",
       "      <th>name</th>\n",
       "      <th>description</th>\n",
       "      <th>instrument</th>\n",
       "      <th>platform</th>\n",
       "      <th>label</th>\n",
       "      <th>product_type</th>\n",
       "      <th>lon</th>\n",
       "      <th>lat</th>\n",
       "      <th>format</th>\n",
       "      <th>creation_time</th>\n",
       "      <th>time</th>\n",
       "      <th>crs</th>\n",
       "      <th>resolution</th>\n",
       "      <th>tile_size</th>\n",
       "      <th>spatial_dimensions</th>\n",
       "    </tr>\n",
       "    <tr>\n",
       "      <th>id</th>\n",
       "      <th></th>\n",
       "      <th></th>\n",
       "      <th></th>\n",
       "      <th></th>\n",
       "      <th></th>\n",
       "      <th></th>\n",
       "      <th></th>\n",
       "      <th></th>\n",
       "      <th></th>\n",
       "      <th></th>\n",
       "      <th></th>\n",
       "      <th></th>\n",
       "      <th></th>\n",
       "      <th></th>\n",
       "      <th></th>\n",
       "    </tr>\n",
       "  </thead>\n",
       "  <tbody>\n",
       "    <tr>\n",
       "      <th>13</th>\n",
       "      <td>ls7_ledaps_ghana</td>\n",
       "      <td>Landsat 7 USGS Collection 1 Higher Level SR sc...</td>\n",
       "      <td>ETM</td>\n",
       "      <td>LANDSAT_7</td>\n",
       "      <td>None</td>\n",
       "      <td>LEDAPS</td>\n",
       "      <td>None</td>\n",
       "      <td>None</td>\n",
       "      <td>NetCDF</td>\n",
       "      <td>None</td>\n",
       "      <td>None</td>\n",
       "      <td>EPSG:4326</td>\n",
       "      <td>(-0.000269494585236, 0.000269494585236)</td>\n",
       "      <td>(0.943231048326, 0.943231048326)</td>\n",
       "      <td>(latitude, longitude)</td>\n",
       "    </tr>\n",
       "    <tr>\n",
       "      <th>17</th>\n",
       "      <td>ls7_ledaps_kenya</td>\n",
       "      <td>Landsat 7 USGS Collection 1 Higher Level SR sc...</td>\n",
       "      <td>ETM</td>\n",
       "      <td>LANDSAT_7</td>\n",
       "      <td>None</td>\n",
       "      <td>LEDAPS</td>\n",
       "      <td>None</td>\n",
       "      <td>None</td>\n",
       "      <td>NetCDF</td>\n",
       "      <td>None</td>\n",
       "      <td>None</td>\n",
       "      <td>EPSG:4326</td>\n",
       "      <td>(-0.000269493, 0.000269493)</td>\n",
       "      <td>(0.99981903, 0.99981903)</td>\n",
       "      <td>(latitude, longitude)</td>\n",
       "    </tr>\n",
       "    <tr>\n",
       "      <th>18</th>\n",
       "      <td>ls7_ledaps_senegal</td>\n",
       "      <td>Landsat 7 USGS Collection 1 Higher Level SR sc...</td>\n",
       "      <td>ETM</td>\n",
       "      <td>LANDSAT_7</td>\n",
       "      <td>None</td>\n",
       "      <td>LEDAPS</td>\n",
       "      <td>None</td>\n",
       "      <td>None</td>\n",
       "      <td>NetCDF</td>\n",
       "      <td>None</td>\n",
       "      <td>None</td>\n",
       "      <td>EPSG:4326</td>\n",
       "      <td>(-0.000271152, 0.00027769)</td>\n",
       "      <td>(0.813456, 0.83307)</td>\n",
       "      <td>(latitude, longitude)</td>\n",
       "    </tr>\n",
       "    <tr>\n",
       "      <th>16</th>\n",
       "      <td>ls7_ledaps_sierra_leone</td>\n",
       "      <td>Landsat 7 USGS Collection 1 Higher Level SR sc...</td>\n",
       "      <td>ETM</td>\n",
       "      <td>LANDSAT_7</td>\n",
       "      <td>None</td>\n",
       "      <td>LEDAPS</td>\n",
       "      <td>None</td>\n",
       "      <td>None</td>\n",
       "      <td>NetCDF</td>\n",
       "      <td>None</td>\n",
       "      <td>None</td>\n",
       "      <td>EPSG:4326</td>\n",
       "      <td>(-0.000269494585236, 0.000269494585236)</td>\n",
       "      <td>(0.943231048326, 0.943231048326)</td>\n",
       "      <td>(latitude, longitude)</td>\n",
       "    </tr>\n",
       "    <tr>\n",
       "      <th>19</th>\n",
       "      <td>ls7_ledaps_tanzania</td>\n",
       "      <td>Landsat 7 USGS Collection 1 Higher Level SR sc...</td>\n",
       "      <td>ETM</td>\n",
       "      <td>LANDSAT_7</td>\n",
       "      <td>None</td>\n",
       "      <td>LEDAPS</td>\n",
       "      <td>None</td>\n",
       "      <td>None</td>\n",
       "      <td>NetCDF</td>\n",
       "      <td>None</td>\n",
       "      <td>None</td>\n",
       "      <td>EPSG:4326</td>\n",
       "      <td>(-0.000271277688070265, 0.000271139577954979)</td>\n",
       "      <td>(0.999929558226998, 0.999962763497961)</td>\n",
       "      <td>(latitude, longitude)</td>\n",
       "    </tr>\n",
       "    <tr>\n",
       "      <th>31</th>\n",
       "      <td>ls7_ledaps_vietnam</td>\n",
       "      <td>Landsat 7 USGS Collection 1 Higher Level SR sc...</td>\n",
       "      <td>ETM</td>\n",
       "      <td>LANDSAT_7</td>\n",
       "      <td>None</td>\n",
       "      <td>LEDAPS</td>\n",
       "      <td>None</td>\n",
       "      <td>None</td>\n",
       "      <td>NetCDF</td>\n",
       "      <td>None</td>\n",
       "      <td>None</td>\n",
       "      <td>EPSG:4326</td>\n",
       "      <td>(-0.000269494585236, 0.000269494585236)</td>\n",
       "      <td>(0.943231048326, 0.943231048326)</td>\n",
       "      <td>(latitude, longitude)</td>\n",
       "    </tr>\n",
       "    <tr>\n",
       "      <th>9</th>\n",
       "      <td>ls8_lasrc_ghana</td>\n",
       "      <td>Landsat 8 USGS Collection 1 Higher Level SR sc...</td>\n",
       "      <td>OLI_TIRS</td>\n",
       "      <td>LANDSAT_8</td>\n",
       "      <td>None</td>\n",
       "      <td>LaSRC</td>\n",
       "      <td>None</td>\n",
       "      <td>None</td>\n",
       "      <td>NetCDF</td>\n",
       "      <td>None</td>\n",
       "      <td>None</td>\n",
       "      <td>EPSG:4326</td>\n",
       "      <td>(-0.000269494585236, 0.000269494585236)</td>\n",
       "      <td>(0.943231048326, 0.943231048326)</td>\n",
       "      <td>(latitude, longitude)</td>\n",
       "    </tr>\n",
       "    <tr>\n",
       "      <th>10</th>\n",
       "      <td>ls8_lasrc_kenya</td>\n",
       "      <td>Landsat 8 USGS Collection 1 Higher Level SR sc...</td>\n",
       "      <td>OLI_TIRS</td>\n",
       "      <td>LANDSAT_8</td>\n",
       "      <td>None</td>\n",
       "      <td>LaSRC</td>\n",
       "      <td>None</td>\n",
       "      <td>None</td>\n",
       "      <td>NetCDF</td>\n",
       "      <td>None</td>\n",
       "      <td>None</td>\n",
       "      <td>EPSG:4326</td>\n",
       "      <td>(-0.000271309115317046, 0.00026957992707863)</td>\n",
       "      <td>(0.999502780827996, 0.999602369607559)</td>\n",
       "      <td>(latitude, longitude)</td>\n",
       "    </tr>\n",
       "    <tr>\n",
       "      <th>11</th>\n",
       "      <td>ls8_lasrc_senegal</td>\n",
       "      <td>Landsat 8 USGS Collection 1 Higher Level SR sc...</td>\n",
       "      <td>OLI_TIRS</td>\n",
       "      <td>LANDSAT_8</td>\n",
       "      <td>None</td>\n",
       "      <td>LaSRC</td>\n",
       "      <td>None</td>\n",
       "      <td>None</td>\n",
       "      <td>NetCDF</td>\n",
       "      <td>None</td>\n",
       "      <td>None</td>\n",
       "      <td>EPSG:4326</td>\n",
       "      <td>(-0.000271152, 0.00027769)</td>\n",
       "      <td>(0.813456, 0.83307)</td>\n",
       "      <td>(latitude, longitude)</td>\n",
       "    </tr>\n",
       "    <tr>\n",
       "      <th>8</th>\n",
       "      <td>ls8_lasrc_sierra_leone</td>\n",
       "      <td>Landsat 8 USGS Collection 1 Higher Level SR sc...</td>\n",
       "      <td>OLI_TIRS</td>\n",
       "      <td>LANDSAT_8</td>\n",
       "      <td>None</td>\n",
       "      <td>LaSRC</td>\n",
       "      <td>None</td>\n",
       "      <td>None</td>\n",
       "      <td>NetCDF</td>\n",
       "      <td>None</td>\n",
       "      <td>None</td>\n",
       "      <td>EPSG:4326</td>\n",
       "      <td>(-0.000269494585236, 0.000269494585236)</td>\n",
       "      <td>(0.943231048326, 0.943231048326)</td>\n",
       "      <td>(latitude, longitude)</td>\n",
       "    </tr>\n",
       "    <tr>\n",
       "      <th>15</th>\n",
       "      <td>ls8_lasrc_tanzania</td>\n",
       "      <td>Landsat 8 USGS Collection 1 Higher Level SR sc...</td>\n",
       "      <td>OLI_TIRS</td>\n",
       "      <td>LANDSAT_8</td>\n",
       "      <td>None</td>\n",
       "      <td>LaSRC</td>\n",
       "      <td>None</td>\n",
       "      <td>None</td>\n",
       "      <td>NetCDF</td>\n",
       "      <td>None</td>\n",
       "      <td>None</td>\n",
       "      <td>EPSG:4326</td>\n",
       "      <td>(-0.000271277688070265, 0.000271139577954979)</td>\n",
       "      <td>(0.999929558226998, 0.999962763497961)</td>\n",
       "      <td>(latitude, longitude)</td>\n",
       "    </tr>\n",
       "    <tr>\n",
       "      <th>25</th>\n",
       "      <td>s1g_gamma0_geneva</td>\n",
       "      <td>Sentinel-1A/B SAR Gamma0, processed to the GEE...</td>\n",
       "      <td>SAR</td>\n",
       "      <td>SENTINEL_1</td>\n",
       "      <td>None</td>\n",
       "      <td>gamma0</td>\n",
       "      <td>None</td>\n",
       "      <td>None</td>\n",
       "      <td>NetCDF</td>\n",
       "      <td>None</td>\n",
       "      <td>None</td>\n",
       "      <td>EPSG:4326</td>\n",
       "      <td>(-0.000269493, 0.000269493)</td>\n",
       "      <td>(0.99981903, 0.99981903)</td>\n",
       "      <td>(latitude, longitude)</td>\n",
       "    </tr>\n",
       "    <tr>\n",
       "      <th>21</th>\n",
       "      <td>s1monthly_gamma0_ghana</td>\n",
       "      <td>Sentinel-1A/B SAR Gamma0, processed to the Yea...</td>\n",
       "      <td>SAR</td>\n",
       "      <td>SENTINEL1</td>\n",
       "      <td>None</td>\n",
       "      <td>gamma_0</td>\n",
       "      <td>None</td>\n",
       "      <td>None</td>\n",
       "      <td>NetCDF</td>\n",
       "      <td>None</td>\n",
       "      <td>None</td>\n",
       "      <td>EPSG:4326</td>\n",
       "      <td>(-0.000180668, 0.000180668)</td>\n",
       "      <td>(0.99999738, 0.99999738)</td>\n",
       "      <td>(latitude, longitude)</td>\n",
       "    </tr>\n",
       "  </tbody>\n",
       "</table>\n",
       "</div>"
      ],
      "text/plain": [
       "                       name  \\\n",
       "id                            \n",
       "13         ls7_ledaps_ghana   \n",
       "17         ls7_ledaps_kenya   \n",
       "18       ls7_ledaps_senegal   \n",
       "16  ls7_ledaps_sierra_leone   \n",
       "19      ls7_ledaps_tanzania   \n",
       "31       ls7_ledaps_vietnam   \n",
       "9           ls8_lasrc_ghana   \n",
       "10          ls8_lasrc_kenya   \n",
       "11        ls8_lasrc_senegal   \n",
       "8    ls8_lasrc_sierra_leone   \n",
       "15       ls8_lasrc_tanzania   \n",
       "25        s1g_gamma0_geneva   \n",
       "21   s1monthly_gamma0_ghana   \n",
       "\n",
       "                                          description instrument    platform  \\\n",
       "id                                                                             \n",
       "13  Landsat 7 USGS Collection 1 Higher Level SR sc...        ETM   LANDSAT_7   \n",
       "17  Landsat 7 USGS Collection 1 Higher Level SR sc...        ETM   LANDSAT_7   \n",
       "18  Landsat 7 USGS Collection 1 Higher Level SR sc...        ETM   LANDSAT_7   \n",
       "16  Landsat 7 USGS Collection 1 Higher Level SR sc...        ETM   LANDSAT_7   \n",
       "19  Landsat 7 USGS Collection 1 Higher Level SR sc...        ETM   LANDSAT_7   \n",
       "31  Landsat 7 USGS Collection 1 Higher Level SR sc...        ETM   LANDSAT_7   \n",
       "9   Landsat 8 USGS Collection 1 Higher Level SR sc...   OLI_TIRS   LANDSAT_8   \n",
       "10  Landsat 8 USGS Collection 1 Higher Level SR sc...   OLI_TIRS   LANDSAT_8   \n",
       "11  Landsat 8 USGS Collection 1 Higher Level SR sc...   OLI_TIRS   LANDSAT_8   \n",
       "8   Landsat 8 USGS Collection 1 Higher Level SR sc...   OLI_TIRS   LANDSAT_8   \n",
       "15  Landsat 8 USGS Collection 1 Higher Level SR sc...   OLI_TIRS   LANDSAT_8   \n",
       "25  Sentinel-1A/B SAR Gamma0, processed to the GEE...        SAR  SENTINEL_1   \n",
       "21  Sentinel-1A/B SAR Gamma0, processed to the Yea...        SAR   SENTINEL1   \n",
       "\n",
       "   label product_type   lon   lat  format creation_time  time        crs  \\\n",
       "id                                                                         \n",
       "13  None       LEDAPS  None  None  NetCDF          None  None  EPSG:4326   \n",
       "17  None       LEDAPS  None  None  NetCDF          None  None  EPSG:4326   \n",
       "18  None       LEDAPS  None  None  NetCDF          None  None  EPSG:4326   \n",
       "16  None       LEDAPS  None  None  NetCDF          None  None  EPSG:4326   \n",
       "19  None       LEDAPS  None  None  NetCDF          None  None  EPSG:4326   \n",
       "31  None       LEDAPS  None  None  NetCDF          None  None  EPSG:4326   \n",
       "9   None        LaSRC  None  None  NetCDF          None  None  EPSG:4326   \n",
       "10  None        LaSRC  None  None  NetCDF          None  None  EPSG:4326   \n",
       "11  None        LaSRC  None  None  NetCDF          None  None  EPSG:4326   \n",
       "8   None        LaSRC  None  None  NetCDF          None  None  EPSG:4326   \n",
       "15  None        LaSRC  None  None  NetCDF          None  None  EPSG:4326   \n",
       "25  None       gamma0  None  None  NetCDF          None  None  EPSG:4326   \n",
       "21  None      gamma_0  None  None  NetCDF          None  None  EPSG:4326   \n",
       "\n",
       "                                       resolution  \\\n",
       "id                                                  \n",
       "13        (-0.000269494585236, 0.000269494585236)   \n",
       "17                    (-0.000269493, 0.000269493)   \n",
       "18                     (-0.000271152, 0.00027769)   \n",
       "16        (-0.000269494585236, 0.000269494585236)   \n",
       "19  (-0.000271277688070265, 0.000271139577954979)   \n",
       "31        (-0.000269494585236, 0.000269494585236)   \n",
       "9         (-0.000269494585236, 0.000269494585236)   \n",
       "10   (-0.000271309115317046, 0.00026957992707863)   \n",
       "11                     (-0.000271152, 0.00027769)   \n",
       "8         (-0.000269494585236, 0.000269494585236)   \n",
       "15  (-0.000271277688070265, 0.000271139577954979)   \n",
       "25                    (-0.000269493, 0.000269493)   \n",
       "21                    (-0.000180668, 0.000180668)   \n",
       "\n",
       "                                 tile_size     spatial_dimensions  \n",
       "id                                                                 \n",
       "13        (0.943231048326, 0.943231048326)  (latitude, longitude)  \n",
       "17                (0.99981903, 0.99981903)  (latitude, longitude)  \n",
       "18                     (0.813456, 0.83307)  (latitude, longitude)  \n",
       "16        (0.943231048326, 0.943231048326)  (latitude, longitude)  \n",
       "19  (0.999929558226998, 0.999962763497961)  (latitude, longitude)  \n",
       "31        (0.943231048326, 0.943231048326)  (latitude, longitude)  \n",
       "9         (0.943231048326, 0.943231048326)  (latitude, longitude)  \n",
       "10  (0.999502780827996, 0.999602369607559)  (latitude, longitude)  \n",
       "11                     (0.813456, 0.83307)  (latitude, longitude)  \n",
       "8         (0.943231048326, 0.943231048326)  (latitude, longitude)  \n",
       "15  (0.999929558226998, 0.999962763497961)  (latitude, longitude)  \n",
       "25                (0.99981903, 0.99981903)  (latitude, longitude)  \n",
       "21                (0.99999738, 0.99999738)  (latitude, longitude)  "
      ]
     },
     "execution_count": 1,
     "metadata": {},
     "output_type": "execute_result"
    }
   ],
   "source": [
    "list_of_products = dc.list_products()\n",
    "netCDF_products = list_of_products[list_of_products['format'] == 'NetCDF']\n",
    "netCDF_products"
   ]
  },
  {
   "cell_type": "markdown",
   "metadata": {},
   "source": [
    ">### Pick a product  \n",
    ">Use the platform and product names from the previous block to select a Data Cube.  "
   ]
  },
  {
   "cell_type": "code",
   "execution_count": 6,
   "metadata": {
    "execution": {
     "iopub.execute_input": "2020-09-29T01:01:11.707961Z",
     "iopub.status.busy": "2020-09-29T01:01:11.707536Z",
     "iopub.status.idle": "2020-09-29T01:01:13.854193Z",
     "shell.execute_reply": "2020-09-29T01:01:13.854579Z"
    }
   },
   "outputs": [],
   "source": [
    "# Change the data platform and data cube here\n",
    "\n",
    "platform = \"LANDSAT_7\"\n",
    "# platform = \"LANDSAT_8\"\n",
    "\n",
    "# product = \"ls7_ledaps_ghana\"\n",
    "# product = \"ls7_ledaps_kenya\"\n",
    "# product = \"ls7_ledaps_senegal\"\n",
    "# product = \"ls7_ledaps_sierra_leone\"\n",
    "# product = \"ls7_ledaps_tanzania\"\n",
    "product = \"ls7_ledaps_vietnam\"\n",
    "\n",
    "# Get Coordinates\n",
    "coordinates = api.get_full_dataset_extent(platform = platform, product = product)"
   ]
  },
  {
   "cell_type": "markdown",
   "metadata": {},
   "source": [
    "> #### Display Latitude-Longitude and Time Bounds of the Data Cube"
   ]
  },
  {
   "cell_type": "code",
   "execution_count": 7,
   "metadata": {
    "execution": {
     "iopub.execute_input": "2020-09-29T01:01:13.859869Z",
     "iopub.status.busy": "2020-09-29T01:01:13.859315Z",
     "iopub.status.idle": "2020-09-29T01:01:16.023733Z",
     "shell.execute_reply": "2020-09-29T01:01:16.023262Z"
    }
   },
   "outputs": [
    {
     "name": "stdout",
     "output_type": "stream",
     "text": [
      "Latitude Extents: (9.176425374578418, 13.964805165051667)\n",
      "Longitude Extents: (102.40430421277932, 108.93092407802477)\n",
      "Time Extents: ['1999-09-08', '2016-12-29']\n"
     ]
    }
   ],
   "source": [
    "from utils.data_cube_utilities.dc_time import _n64_to_datetime, dt_to_str\n",
    "\n",
    "extents = api.get_full_dataset_extent(platform = platform, product = product, measurements=[])\n",
    "\n",
    "latitude_extents = (min(extents['latitude'].values),max(extents['latitude'].values))\n",
    "longitude_extents = (min(extents['longitude'].values),max(extents['longitude'].values))\n",
    "time_extents = (min(extents['time'].values),max(extents['time'].values))\n",
    "\n",
    "print(\"Latitude Extents:\", latitude_extents)\n",
    "print(\"Longitude Extents:\", longitude_extents)\n",
    "print(\"Time Extents:\", list(map(dt_to_str, map(_n64_to_datetime, time_extents))))"
   ]
  },
  {
   "cell_type": "markdown",
   "metadata": {},
   "source": [
    "# Visualize Data Cube Region"
   ]
  },
  {
   "cell_type": "code",
   "execution_count": 8,
   "metadata": {
    "execution": {
     "iopub.execute_input": "2020-09-29T01:01:16.027050Z",
     "iopub.status.busy": "2020-09-29T01:01:16.026625Z",
     "iopub.status.idle": "2020-09-29T01:01:16.202550Z",
     "shell.execute_reply": "2020-09-29T01:01:16.202977Z"
    }
   },
   "outputs": [
    {
     "data": {
      "text/html": [
       "<div style=\"width:100%;\"><div style=\"position:relative;width:100%;height:0;padding-bottom:60%;\"><span style=\"color:#565656\">Make this Notebook Trusted to load map: File -> Trust Notebook</span><iframe src=\"about:blank\" style=\"position:absolute;width:100%;height:100%;left:0;top:0;border:none !important;\" data-html=PCFET0NUWVBFIGh0bWw+CjxoZWFkPiAgICAKICAgIDxtZXRhIGh0dHAtZXF1aXY9ImNvbnRlbnQtdHlwZSIgY29udGVudD0idGV4dC9odG1sOyBjaGFyc2V0PVVURi04IiAvPgogICAgCiAgICAgICAgPHNjcmlwdD4KICAgICAgICAgICAgTF9OT19UT1VDSCA9IGZhbHNlOwogICAgICAgICAgICBMX0RJU0FCTEVfM0QgPSBmYWxzZTsKICAgICAgICA8L3NjcmlwdD4KICAgIAogICAgPHNjcmlwdCBzcmM9Imh0dHBzOi8vY2RuLmpzZGVsaXZyLm5ldC9ucG0vbGVhZmxldEAxLjYuMC9kaXN0L2xlYWZsZXQuanMiPjwvc2NyaXB0PgogICAgPHNjcmlwdCBzcmM9Imh0dHBzOi8vY29kZS5qcXVlcnkuY29tL2pxdWVyeS0xLjEyLjQubWluLmpzIj48L3NjcmlwdD4KICAgIDxzY3JpcHQgc3JjPSJodHRwczovL21heGNkbi5ib290c3RyYXBjZG4uY29tL2Jvb3RzdHJhcC8zLjIuMC9qcy9ib290c3RyYXAubWluLmpzIj48L3NjcmlwdD4KICAgIDxzY3JpcHQgc3JjPSJodHRwczovL2NkbmpzLmNsb3VkZmxhcmUuY29tL2FqYXgvbGlicy9MZWFmbGV0LmF3ZXNvbWUtbWFya2Vycy8yLjAuMi9sZWFmbGV0LmF3ZXNvbWUtbWFya2Vycy5qcyI+PC9zY3JpcHQ+CiAgICA8bGluayByZWw9InN0eWxlc2hlZXQiIGhyZWY9Imh0dHBzOi8vY2RuLmpzZGVsaXZyLm5ldC9ucG0vbGVhZmxldEAxLjYuMC9kaXN0L2xlYWZsZXQuY3NzIi8+CiAgICA8bGluayByZWw9InN0eWxlc2hlZXQiIGhyZWY9Imh0dHBzOi8vbWF4Y2RuLmJvb3RzdHJhcGNkbi5jb20vYm9vdHN0cmFwLzMuMi4wL2Nzcy9ib290c3RyYXAubWluLmNzcyIvPgogICAgPGxpbmsgcmVsPSJzdHlsZXNoZWV0IiBocmVmPSJodHRwczovL21heGNkbi5ib290c3RyYXBjZG4uY29tL2Jvb3RzdHJhcC8zLjIuMC9jc3MvYm9vdHN0cmFwLXRoZW1lLm1pbi5jc3MiLz4KICAgIDxsaW5rIHJlbD0ic3R5bGVzaGVldCIgaHJlZj0iaHR0cHM6Ly9tYXhjZG4uYm9vdHN0cmFwY2RuLmNvbS9mb250LWF3ZXNvbWUvNC42LjMvY3NzL2ZvbnQtYXdlc29tZS5taW4uY3NzIi8+CiAgICA8bGluayByZWw9InN0eWxlc2hlZXQiIGhyZWY9Imh0dHBzOi8vY2RuanMuY2xvdWRmbGFyZS5jb20vYWpheC9saWJzL0xlYWZsZXQuYXdlc29tZS1tYXJrZXJzLzIuMC4yL2xlYWZsZXQuYXdlc29tZS1tYXJrZXJzLmNzcyIvPgogICAgPGxpbmsgcmVsPSJzdHlsZXNoZWV0IiBocmVmPSJodHRwczovL3Jhd2Nkbi5naXRoYWNrLmNvbS9weXRob24tdmlzdWFsaXphdGlvbi9mb2xpdW0vbWFzdGVyL2ZvbGl1bS90ZW1wbGF0ZXMvbGVhZmxldC5hd2Vzb21lLnJvdGF0ZS5jc3MiLz4KICAgIDxzdHlsZT5odG1sLCBib2R5IHt3aWR0aDogMTAwJTtoZWlnaHQ6IDEwMCU7bWFyZ2luOiAwO3BhZGRpbmc6IDA7fTwvc3R5bGU+CiAgICA8c3R5bGU+I21hcCB7cG9zaXRpb246YWJzb2x1dGU7dG9wOjA7Ym90dG9tOjA7cmlnaHQ6MDtsZWZ0OjA7fTwvc3R5bGU+CiAgICAKICAgICAgICAgICAgPG1ldGEgbmFtZT0idmlld3BvcnQiIGNvbnRlbnQ9IndpZHRoPWRldmljZS13aWR0aCwKICAgICAgICAgICAgICAgIGluaXRpYWwtc2NhbGU9MS4wLCBtYXhpbXVtLXNjYWxlPTEuMCwgdXNlci1zY2FsYWJsZT1ubyIgLz4KICAgICAgICAgICAgPHN0eWxlPgogICAgICAgICAgICAgICAgI21hcF85YzllYTI3N2M5Y2Y0NDgyODIwNTczNTRmMTU1ZjcyNCB7CiAgICAgICAgICAgICAgICAgICAgcG9zaXRpb246IHJlbGF0aXZlOwogICAgICAgICAgICAgICAgICAgIHdpZHRoOiAxMDAuMCU7CiAgICAgICAgICAgICAgICAgICAgaGVpZ2h0OiAxMDAuMCU7CiAgICAgICAgICAgICAgICAgICAgbGVmdDogMC4wJTsKICAgICAgICAgICAgICAgICAgICB0b3A6IDAuMCU7CiAgICAgICAgICAgICAgICB9CiAgICAgICAgICAgIDwvc3R5bGU+CiAgICAgICAgCjwvaGVhZD4KPGJvZHk+ICAgIAogICAgCiAgICAgICAgICAgIDxkaXYgY2xhc3M9ImZvbGl1bS1tYXAiIGlkPSJtYXBfOWM5ZWEyNzdjOWNmNDQ4MjgyMDU3MzU0ZjE1NWY3MjQiID48L2Rpdj4KICAgICAgICAKPC9ib2R5Pgo8c2NyaXB0PiAgICAKICAgIAogICAgICAgICAgICB2YXIgbWFwXzljOWVhMjc3YzljZjQ0ODI4MjA1NzM1NGYxNTVmNzI0ID0gTC5tYXAoCiAgICAgICAgICAgICAgICAibWFwXzljOWVhMjc3YzljZjQ0ODI4MjA1NzM1NGYxNTVmNzI0IiwKICAgICAgICAgICAgICAgIHsKICAgICAgICAgICAgICAgICAgICBjZW50ZXI6IFsxMS41NzA2MTUyNjk4MTUwNDMsIDEwNS42Njc2MTQxNDU0MDIwNF0sCiAgICAgICAgICAgICAgICAgICAgY3JzOiBMLkNSUy5FUFNHMzg1NywKICAgICAgICAgICAgICAgICAgICB6b29tOiA2LAogICAgICAgICAgICAgICAgICAgIHpvb21Db250cm9sOiB0cnVlLAogICAgICAgICAgICAgICAgICAgIHByZWZlckNhbnZhczogZmFsc2UsCiAgICAgICAgICAgICAgICB9CiAgICAgICAgICAgICk7CgogICAgICAgICAgICAKCiAgICAgICAgCiAgICAKICAgICAgICAgICAgdmFyIHRpbGVfbGF5ZXJfM2JjNDA5OGQ0NWIzNGYxZTgyZDBjMjM1Mzg2Y2I5MGEgPSBMLnRpbGVMYXllcigKICAgICAgICAgICAgICAgICIgaHR0cDovL210MS5nb29nbGUuY29tL3Z0L2x5cnM9eVx1MDAyNno9e3p9XHUwMDI2eD17eH1cdTAwMjZ5PXt5fSIsCiAgICAgICAgICAgICAgICB7ImF0dHJpYnV0aW9uIjogIkdvb2dsZSIsICJkZXRlY3RSZXRpbmEiOiBmYWxzZSwgIm1heE5hdGl2ZVpvb20iOiAxOCwgIm1heFpvb20iOiAxOCwgIm1pblpvb20iOiAwLCAibm9XcmFwIjogZmFsc2UsICJvcGFjaXR5IjogMSwgInN1YmRvbWFpbnMiOiAiYWJjIiwgInRtcyI6IGZhbHNlfQogICAgICAgICAgICApLmFkZFRvKG1hcF85YzllYTI3N2M5Y2Y0NDgyODIwNTczNTRmMTU1ZjcyNCk7CiAgICAgICAgCiAgICAKICAgICAgICAgICAgdmFyIHBvbHlfbGluZV84ZjZlYTczM2NjYzA0ODc4YjY4MTUxOWQzMjdiYTU4YyA9IEwucG9seWxpbmUoCiAgICAgICAgICAgICAgICBbWzkuMTc2NDI1Mzc0NTc4NDE4LCAxMDIuNDA0MzA0MjEyNzc5MzJdLCBbOS4xNzY0MjUzNzQ1Nzg0MTgsIDEwOC45MzA5MjQwNzgwMjQ3N10sIFsxMy45NjQ4MDUxNjUwNTE2NjcsIDEwOC45MzA5MjQwNzgwMjQ3N10sIFsxMy45NjQ4MDUxNjUwNTE2NjcsIDEwMi40MDQzMDQyMTI3NzkzMl0sIFs5LjE3NjQyNTM3NDU3ODQxOCwgMTAyLjQwNDMwNDIxMjc3OTMyXV0sCiAgICAgICAgICAgICAgICB7ImJ1YmJsaW5nTW91c2VFdmVudHMiOiB0cnVlLCAiY29sb3IiOiAicmVkIiwgImRhc2hBcnJheSI6IG51bGwsICJkYXNoT2Zmc2V0IjogbnVsbCwgImZpbGwiOiBmYWxzZSwgImZpbGxDb2xvciI6ICJyZWQiLCAiZmlsbE9wYWNpdHkiOiAwLjIsICJmaWxsUnVsZSI6ICJldmVub2RkIiwgImxpbmVDYXAiOiAicm91bmQiLCAibGluZUpvaW4iOiAicm91bmQiLCAibm9DbGlwIjogZmFsc2UsICJvcGFjaXR5IjogMC44LCAic21vb3RoRmFjdG9yIjogMS4wLCAic3Ryb2tlIjogdHJ1ZSwgIndlaWdodCI6IDN9CiAgICAgICAgICAgICkuYWRkVG8obWFwXzljOWVhMjc3YzljZjQ0ODI4MjA1NzM1NGYxNTVmNzI0KTsKICAgICAgICAKICAgIAogICAgICAgICAgICAgICAgdmFyIGxhdF9sbmdfcG9wdXBfZWY2ZmNhN2RjYTJlNDc0ZjhkYmRlNmRlYmVjMjBkZjcgPSBMLnBvcHVwKCk7CiAgICAgICAgICAgICAgICBmdW5jdGlvbiBsYXRMbmdQb3AoZSkgewogICAgICAgICAgICAgICAgICAgIGxhdF9sbmdfcG9wdXBfZWY2ZmNhN2RjYTJlNDc0ZjhkYmRlNmRlYmVjMjBkZjcKICAgICAgICAgICAgICAgICAgICAgICAgLnNldExhdExuZyhlLmxhdGxuZykKICAgICAgICAgICAgICAgICAgICAgICAgLnNldENvbnRlbnQoIkxhdGl0dWRlOiAiICsgZS5sYXRsbmcubGF0LnRvRml4ZWQoNCkgKwogICAgICAgICAgICAgICAgICAgICAgICAgICAgICAgICAgICAiPGJyPkxvbmdpdHVkZTogIiArIGUubGF0bG5nLmxuZy50b0ZpeGVkKDQpKQogICAgICAgICAgICAgICAgICAgICAgICAub3Blbk9uKG1hcF85YzllYTI3N2M5Y2Y0NDgyODIwNTczNTRmMTU1ZjcyNCk7CiAgICAgICAgICAgICAgICAgICAgfQogICAgICAgICAgICAgICAgbWFwXzljOWVhMjc3YzljZjQ0ODI4MjA1NzM1NGYxNTVmNzI0Lm9uKCdjbGljaycsIGxhdExuZ1BvcCk7CiAgICAgICAgICAgIAo8L3NjcmlwdD4= onload=\"this.contentDocument.open();this.contentDocument.write(atob(this.getAttribute('data-html')));this.contentDocument.close();\" allowfullscreen webkitallowfullscreen mozallowfullscreen></iframe></div></div>"
      ],
      "text/plain": [
       "<folium.folium.Map at 0x7f9a362b86a0>"
      ]
     },
     "execution_count": 1,
     "metadata": {},
     "output_type": "execute_result"
    }
   ],
   "source": [
    "## The code below renders a map that can be used to orient yourself with the region.\n",
    "from utils.data_cube_utilities.dc_display_map import display_map\n",
    "display_map(latitude = latitude_extents, longitude = longitude_extents)"
   ]
  },
  {
   "cell_type": "markdown",
   "metadata": {},
   "source": [
    "> ### Pick a smaller analysis region and display that region\n",
    "Try to keep your region to less than 0.02-deg x 0.02-deg for rapid processing. This will give you a region of about 75x75 pixels. You can click on the map above to find the Lat-Lon coordinates of any location. You will want to identify a region with an urban aree or some known vegetation. Pick a time window of 10+ years, as the curvefit algorithm requires a long time series to detect change.\n",
    "<br><br>\n",
    "Here is what to expect ... 0.02-deg x 0.02-deg (75x75 pixels) over 10 years will take 10 to 15 minutes to execute. Be patient ... "
   ]
  },
  {
   "cell_type": "code",
   "execution_count": 9,
   "metadata": {
    "execution": {
     "iopub.execute_input": "2020-09-29T01:01:16.209984Z",
     "iopub.status.busy": "2020-09-29T01:01:16.209558Z",
     "iopub.status.idle": "2020-09-29T01:01:16.211807Z",
     "shell.execute_reply": "2020-09-29T01:01:16.211380Z"
    }
   },
   "outputs": [],
   "source": [
    "# Lam Dong Province near reservior \n",
    "# latitude_extents =  (11.843, 11.922)\n",
    "# longitude_extents =  (107.723, 107.821)\n",
    "\n",
    "latitude_extents =  (11.90, 11.92)\n",
    "longitude_extents =  (107.76, 107.78)\n",
    "\n",
    "time_extents = ('2001-01-01', '2005-12-31')"
   ]
  },
  {
   "cell_type": "code",
   "execution_count": 10,
   "metadata": {
    "execution": {
     "iopub.execute_input": "2020-09-29T01:01:16.215363Z",
     "iopub.status.busy": "2020-09-29T01:01:16.214957Z",
     "iopub.status.idle": "2020-09-29T01:01:16.222475Z",
     "shell.execute_reply": "2020-09-29T01:01:16.222895Z"
    },
    "scrolled": false
   },
   "outputs": [
    {
     "data": {
      "text/html": [
       "<div style=\"width:100%;\"><div style=\"position:relative;width:100%;height:0;padding-bottom:60%;\"><span style=\"color:#565656\">Make this Notebook Trusted to load map: File -> Trust Notebook</span><iframe src=\"about:blank\" style=\"position:absolute;width:100%;height:100%;left:0;top:0;border:none !important;\" data-html=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 onload=\"this.contentDocument.open();this.contentDocument.write(atob(this.getAttribute('data-html')));this.contentDocument.close();\" allowfullscreen webkitallowfullscreen mozallowfullscreen></iframe></div></div>"
      ],
      "text/plain": [
       "<folium.folium.Map at 0x7f9a2cbb80b8>"
      ]
     },
     "execution_count": 1,
     "metadata": {},
     "output_type": "execute_result"
    }
   ],
   "source": [
    "display_map(latitude = latitude_extents, longitude = longitude_extents)"
   ]
  },
  {
   "cell_type": "markdown",
   "metadata": {},
   "source": [
    "## Load the dataset and the required spectral bands or other parameters\n",
    "After loading, you will view the Xarray dataset. Notice the dimensions represent the number of pixels in your latitude and longitude dimension as well as the number of time slices (time) in your time series."
   ]
  },
  {
   "cell_type": "code",
   "execution_count": 11,
   "metadata": {
    "execution": {
     "iopub.execute_input": "2020-09-29T01:01:16.227383Z",
     "iopub.status.busy": "2020-09-29T01:01:16.226735Z",
     "iopub.status.idle": "2020-09-29T01:01:21.177135Z",
     "shell.execute_reply": "2020-09-29T01:01:21.177629Z"
    }
   },
   "outputs": [],
   "source": [
    "from utils.data_cube_utilities.dc_load import load_simple\n",
    "\n",
    "# Reduce the resolution of the data to reduce memory consumption and run time.\n",
    "landsat_dataset, clean_mask, masks = \\\n",
    "    load_simple(dc, platform = platform, product=product, frac_res=0.1,\n",
    "                load_params=dict(latitude = latitude_extents,\n",
    "                                 longitude = longitude_extents,\n",
    "                                 platform = platform,\n",
    "                                 time = time_extents,\n",
    "                                 product = product,\n",
    "                                 measurements = ['red', 'green', 'blue', 'nir', 'swir1', 'swir2', 'pixel_qa']))\n",
    "del clean_mask, masks"
   ]
  },
  {
   "cell_type": "code",
   "execution_count": 12,
   "metadata": {
    "execution": {
     "iopub.execute_input": "2020-09-29T01:01:21.186921Z",
     "iopub.status.busy": "2020-09-29T01:01:21.185337Z",
     "iopub.status.idle": "2020-09-29T01:01:21.212603Z",
     "shell.execute_reply": "2020-09-29T01:01:21.213024Z"
    }
   },
   "outputs": [
    {
     "data": {
      "text/html": [
       "<div><svg style=\"position: absolute; width: 0; height: 0; overflow: hidden\">\n",
       "<defs>\n",
       "<symbol id=\"icon-database\" viewBox=\"0 0 32 32\">\n",
       "<path d=\"M16 0c-8.837 0-16 2.239-16 5v4c0 2.761 7.163 5 16 5s16-2.239 16-5v-4c0-2.761-7.163-5-16-5z\"></path>\n",
       "<path d=\"M16 17c-8.837 0-16-2.239-16-5v6c0 2.761 7.163 5 16 5s16-2.239 16-5v-6c0 2.761-7.163 5-16 5z\"></path>\n",
       "<path d=\"M16 26c-8.837 0-16-2.239-16-5v6c0 2.761 7.163 5 16 5s16-2.239 16-5v-6c0 2.761-7.163 5-16 5z\"></path>\n",
       "</symbol>\n",
       "<symbol id=\"icon-file-text2\" viewBox=\"0 0 32 32\">\n",
       "<path d=\"M28.681 7.159c-0.694-0.947-1.662-2.053-2.724-3.116s-2.169-2.030-3.116-2.724c-1.612-1.182-2.393-1.319-2.841-1.319h-15.5c-1.378 0-2.5 1.121-2.5 2.5v27c0 1.378 1.122 2.5 2.5 2.5h23c1.378 0 2.5-1.122 2.5-2.5v-19.5c0-0.448-0.137-1.23-1.319-2.841zM24.543 5.457c0.959 0.959 1.712 1.825 2.268 2.543h-4.811v-4.811c0.718 0.556 1.584 1.309 2.543 2.268zM28 29.5c0 0.271-0.229 0.5-0.5 0.5h-23c-0.271 0-0.5-0.229-0.5-0.5v-27c0-0.271 0.229-0.5 0.5-0.5 0 0 15.499-0 15.5 0v7c0 0.552 0.448 1 1 1h7v19.5z\"></path>\n",
       "<path d=\"M23 26h-14c-0.552 0-1-0.448-1-1s0.448-1 1-1h14c0.552 0 1 0.448 1 1s-0.448 1-1 1z\"></path>\n",
       "<path d=\"M23 22h-14c-0.552 0-1-0.448-1-1s0.448-1 1-1h14c0.552 0 1 0.448 1 1s-0.448 1-1 1z\"></path>\n",
       "<path d=\"M23 18h-14c-0.552 0-1-0.448-1-1s0.448-1 1-1h14c0.552 0 1 0.448 1 1s-0.448 1-1 1z\"></path>\n",
       "</symbol>\n",
       "</defs>\n",
       "</svg>\n",
       "<style>/* CSS stylesheet for displaying xarray objects in jupyterlab.\n",
       " *\n",
       " */\n",
       "\n",
       ":root {\n",
       "  --xr-font-color0: var(--jp-content-font-color0, rgba(0, 0, 0, 1));\n",
       "  --xr-font-color2: var(--jp-content-font-color2, rgba(0, 0, 0, 0.54));\n",
       "  --xr-font-color3: var(--jp-content-font-color3, rgba(0, 0, 0, 0.38));\n",
       "  --xr-border-color: var(--jp-border-color2, #e0e0e0);\n",
       "  --xr-disabled-color: var(--jp-layout-color3, #bdbdbd);\n",
       "  --xr-background-color: var(--jp-layout-color0, white);\n",
       "  --xr-background-color-row-even: var(--jp-layout-color1, white);\n",
       "  --xr-background-color-row-odd: var(--jp-layout-color2, #eeeeee);\n",
       "}\n",
       "\n",
       "html[theme=dark],\n",
       "body.vscode-dark {\n",
       "  --xr-font-color0: rgba(255, 255, 255, 1);\n",
       "  --xr-font-color2: rgba(255, 255, 255, 0.54);\n",
       "  --xr-font-color3: rgba(255, 255, 255, 0.38);\n",
       "  --xr-border-color: #1F1F1F;\n",
       "  --xr-disabled-color: #515151;\n",
       "  --xr-background-color: #111111;\n",
       "  --xr-background-color-row-even: #111111;\n",
       "  --xr-background-color-row-odd: #313131;\n",
       "}\n",
       "\n",
       ".xr-wrap {\n",
       "  display: block;\n",
       "  min-width: 300px;\n",
       "  max-width: 700px;\n",
       "}\n",
       "\n",
       ".xr-text-repr-fallback {\n",
       "  /* fallback to plain text repr when CSS is not injected (untrusted notebook) */\n",
       "  display: none;\n",
       "}\n",
       "\n",
       ".xr-header {\n",
       "  padding-top: 6px;\n",
       "  padding-bottom: 6px;\n",
       "  margin-bottom: 4px;\n",
       "  border-bottom: solid 1px var(--xr-border-color);\n",
       "}\n",
       "\n",
       ".xr-header > div,\n",
       ".xr-header > ul {\n",
       "  display: inline;\n",
       "  margin-top: 0;\n",
       "  margin-bottom: 0;\n",
       "}\n",
       "\n",
       ".xr-obj-type,\n",
       ".xr-array-name {\n",
       "  margin-left: 2px;\n",
       "  margin-right: 10px;\n",
       "}\n",
       "\n",
       ".xr-obj-type {\n",
       "  color: var(--xr-font-color2);\n",
       "}\n",
       "\n",
       ".xr-sections {\n",
       "  padding-left: 0 !important;\n",
       "  display: grid;\n",
       "  grid-template-columns: 150px auto auto 1fr 20px 20px;\n",
       "}\n",
       "\n",
       ".xr-section-item {\n",
       "  display: contents;\n",
       "}\n",
       "\n",
       ".xr-section-item input {\n",
       "  display: none;\n",
       "}\n",
       "\n",
       ".xr-section-item input + label {\n",
       "  color: var(--xr-disabled-color);\n",
       "}\n",
       "\n",
       ".xr-section-item input:enabled + label {\n",
       "  cursor: pointer;\n",
       "  color: var(--xr-font-color2);\n",
       "}\n",
       "\n",
       ".xr-section-item input:enabled + label:hover {\n",
       "  color: var(--xr-font-color0);\n",
       "}\n",
       "\n",
       ".xr-section-summary {\n",
       "  grid-column: 1;\n",
       "  color: var(--xr-font-color2);\n",
       "  font-weight: 500;\n",
       "}\n",
       "\n",
       ".xr-section-summary > span {\n",
       "  display: inline-block;\n",
       "  padding-left: 0.5em;\n",
       "}\n",
       "\n",
       ".xr-section-summary-in:disabled + label {\n",
       "  color: var(--xr-font-color2);\n",
       "}\n",
       "\n",
       ".xr-section-summary-in + label:before {\n",
       "  display: inline-block;\n",
       "  content: '►';\n",
       "  font-size: 11px;\n",
       "  width: 15px;\n",
       "  text-align: center;\n",
       "}\n",
       "\n",
       ".xr-section-summary-in:disabled + label:before {\n",
       "  color: var(--xr-disabled-color);\n",
       "}\n",
       "\n",
       ".xr-section-summary-in:checked + label:before {\n",
       "  content: '▼';\n",
       "}\n",
       "\n",
       ".xr-section-summary-in:checked + label > span {\n",
       "  display: none;\n",
       "}\n",
       "\n",
       ".xr-section-summary,\n",
       ".xr-section-inline-details {\n",
       "  padding-top: 4px;\n",
       "  padding-bottom: 4px;\n",
       "}\n",
       "\n",
       ".xr-section-inline-details {\n",
       "  grid-column: 2 / -1;\n",
       "}\n",
       "\n",
       ".xr-section-details {\n",
       "  display: none;\n",
       "  grid-column: 1 / -1;\n",
       "  margin-bottom: 5px;\n",
       "}\n",
       "\n",
       ".xr-section-summary-in:checked ~ .xr-section-details {\n",
       "  display: contents;\n",
       "}\n",
       "\n",
       ".xr-array-wrap {\n",
       "  grid-column: 1 / -1;\n",
       "  display: grid;\n",
       "  grid-template-columns: 20px auto;\n",
       "}\n",
       "\n",
       ".xr-array-wrap > label {\n",
       "  grid-column: 1;\n",
       "  vertical-align: top;\n",
       "}\n",
       "\n",
       ".xr-preview {\n",
       "  color: var(--xr-font-color3);\n",
       "}\n",
       "\n",
       ".xr-array-preview,\n",
       ".xr-array-data {\n",
       "  padding: 0 5px !important;\n",
       "  grid-column: 2;\n",
       "}\n",
       "\n",
       ".xr-array-data,\n",
       ".xr-array-in:checked ~ .xr-array-preview {\n",
       "  display: none;\n",
       "}\n",
       "\n",
       ".xr-array-in:checked ~ .xr-array-data,\n",
       ".xr-array-preview {\n",
       "  display: inline-block;\n",
       "}\n",
       "\n",
       ".xr-dim-list {\n",
       "  display: inline-block !important;\n",
       "  list-style: none;\n",
       "  padding: 0 !important;\n",
       "  margin: 0;\n",
       "}\n",
       "\n",
       ".xr-dim-list li {\n",
       "  display: inline-block;\n",
       "  padding: 0;\n",
       "  margin: 0;\n",
       "}\n",
       "\n",
       ".xr-dim-list:before {\n",
       "  content: '(';\n",
       "}\n",
       "\n",
       ".xr-dim-list:after {\n",
       "  content: ')';\n",
       "}\n",
       "\n",
       ".xr-dim-list li:not(:last-child):after {\n",
       "  content: ',';\n",
       "  padding-right: 5px;\n",
       "}\n",
       "\n",
       ".xr-has-index {\n",
       "  font-weight: bold;\n",
       "}\n",
       "\n",
       ".xr-var-list,\n",
       ".xr-var-item {\n",
       "  display: contents;\n",
       "}\n",
       "\n",
       ".xr-var-item > div,\n",
       ".xr-var-item label,\n",
       ".xr-var-item > .xr-var-name span {\n",
       "  background-color: var(--xr-background-color-row-even);\n",
       "  margin-bottom: 0;\n",
       "}\n",
       "\n",
       ".xr-var-item > .xr-var-name:hover span {\n",
       "  padding-right: 5px;\n",
       "}\n",
       "\n",
       ".xr-var-list > li:nth-child(odd) > div,\n",
       ".xr-var-list > li:nth-child(odd) > label,\n",
       ".xr-var-list > li:nth-child(odd) > .xr-var-name span {\n",
       "  background-color: var(--xr-background-color-row-odd);\n",
       "}\n",
       "\n",
       ".xr-var-name {\n",
       "  grid-column: 1;\n",
       "}\n",
       "\n",
       ".xr-var-dims {\n",
       "  grid-column: 2;\n",
       "}\n",
       "\n",
       ".xr-var-dtype {\n",
       "  grid-column: 3;\n",
       "  text-align: right;\n",
       "  color: var(--xr-font-color2);\n",
       "}\n",
       "\n",
       ".xr-var-preview {\n",
       "  grid-column: 4;\n",
       "}\n",
       "\n",
       ".xr-var-name,\n",
       ".xr-var-dims,\n",
       ".xr-var-dtype,\n",
       ".xr-preview,\n",
       ".xr-attrs dt {\n",
       "  white-space: nowrap;\n",
       "  overflow: hidden;\n",
       "  text-overflow: ellipsis;\n",
       "  padding-right: 10px;\n",
       "}\n",
       "\n",
       ".xr-var-name:hover,\n",
       ".xr-var-dims:hover,\n",
       ".xr-var-dtype:hover,\n",
       ".xr-attrs dt:hover {\n",
       "  overflow: visible;\n",
       "  width: auto;\n",
       "  z-index: 1;\n",
       "}\n",
       "\n",
       ".xr-var-attrs,\n",
       ".xr-var-data {\n",
       "  display: none;\n",
       "  background-color: var(--xr-background-color) !important;\n",
       "  padding-bottom: 5px !important;\n",
       "}\n",
       "\n",
       ".xr-var-attrs-in:checked ~ .xr-var-attrs,\n",
       ".xr-var-data-in:checked ~ .xr-var-data {\n",
       "  display: block;\n",
       "}\n",
       "\n",
       ".xr-var-data > table {\n",
       "  float: right;\n",
       "}\n",
       "\n",
       ".xr-var-name span,\n",
       ".xr-var-data,\n",
       ".xr-attrs {\n",
       "  padding-left: 25px !important;\n",
       "}\n",
       "\n",
       ".xr-attrs,\n",
       ".xr-var-attrs,\n",
       ".xr-var-data {\n",
       "  grid-column: 1 / -1;\n",
       "}\n",
       "\n",
       "dl.xr-attrs {\n",
       "  padding: 0;\n",
       "  margin: 0;\n",
       "  display: grid;\n",
       "  grid-template-columns: 125px auto;\n",
       "}\n",
       "\n",
       ".xr-attrs dt, dd {\n",
       "  padding: 0;\n",
       "  margin: 0;\n",
       "  float: left;\n",
       "  padding-right: 10px;\n",
       "  width: auto;\n",
       "}\n",
       "\n",
       ".xr-attrs dt {\n",
       "  font-weight: normal;\n",
       "  grid-column: 1;\n",
       "}\n",
       "\n",
       ".xr-attrs dt:hover span {\n",
       "  display: inline-block;\n",
       "  background: var(--xr-background-color);\n",
       "  padding-right: 10px;\n",
       "}\n",
       "\n",
       ".xr-attrs dd {\n",
       "  grid-column: 2;\n",
       "  white-space: pre-wrap;\n",
       "  word-break: break-all;\n",
       "}\n",
       "\n",
       ".xr-icon-database,\n",
       ".xr-icon-file-text2 {\n",
       "  display: inline-block;\n",
       "  vertical-align: middle;\n",
       "  width: 1em;\n",
       "  height: 1.5em !important;\n",
       "  stroke-width: 0;\n",
       "  stroke: currentColor;\n",
       "  fill: currentColor;\n",
       "}\n",
       "</style><pre class='xr-text-repr-fallback'>&lt;xarray.Dataset&gt;\n",
       "Dimensions:      (latitude: 24, longitude: 24, time: 60)\n",
       "Coordinates:\n",
       "  * time         (time) datetime64[ns] 2001-01-02T02:58:02 ... 2005-12-31T02:...\n",
       "    spatial_ref  int32 4326\n",
       "  * longitude    (longitude) float64 107.8 107.8 107.8 ... 107.8 107.8 107.8\n",
       "  * latitude     (latitude) float64 11.92 11.92 11.92 11.92 ... 11.9 11.9 11.9\n",
       "Data variables:\n",
       "    red          (time, latitude, longitude) int16 476 434 369 ... -9999 -9999\n",
       "    green        (time, latitude, longitude) int16 733 615 473 ... -9999 -9999\n",
       "    blue         (time, latitude, longitude) int16 361 383 361 ... -9999 -9999\n",
       "    nir          (time, latitude, longitude) int16 4688 4159 ... -9999 -9999\n",
       "    swir1        (time, latitude, longitude) int16 2160 1972 ... -9999 -9999\n",
       "    swir2        (time, latitude, longitude) int16 889 861 608 ... -9999 -9999\n",
       "    pixel_qa     (time, latitude, longitude) int32 66 66 66 66 66 ... 1 1 1 1 1\n",
       "Attributes:\n",
       "    crs:           EPSG:4326\n",
       "    grid_mapping:  spatial_ref</pre><div class='xr-wrap' hidden><div class='xr-header'><div class='xr-obj-type'>xarray.Dataset</div></div><ul class='xr-sections'><li class='xr-section-item'><input id='section-6343a3c1-62c9-4f2d-a63f-51a1ce493c85' class='xr-section-summary-in' type='checkbox' disabled ><label for='section-6343a3c1-62c9-4f2d-a63f-51a1ce493c85' class='xr-section-summary'  title='Expand/collapse section'>Dimensions:</label><div class='xr-section-inline-details'><ul class='xr-dim-list'><li><span class='xr-has-index'>latitude</span>: 24</li><li><span class='xr-has-index'>longitude</span>: 24</li><li><span class='xr-has-index'>time</span>: 60</li></ul></div><div class='xr-section-details'></div></li><li class='xr-section-item'><input id='section-90be33a7-c39b-4311-ac17-70b4f96f2180' class='xr-section-summary-in' type='checkbox'  checked><label for='section-90be33a7-c39b-4311-ac17-70b4f96f2180' class='xr-section-summary' >Coordinates: <span>(4)</span></label><div class='xr-section-inline-details'></div><div class='xr-section-details'><ul class='xr-var-list'><li class='xr-var-item'><div class='xr-var-name'><span class='xr-has-index'>time</span></div><div class='xr-var-dims'>(time)</div><div class='xr-var-dtype'>datetime64[ns]</div><div class='xr-var-preview xr-preview'>2001-01-02T02:58:02 ... 2005-12-...</div><input id='attrs-15789f4d-0d38-4e44-844f-127065028fc2' class='xr-var-attrs-in' type='checkbox' ><label for='attrs-15789f4d-0d38-4e44-844f-127065028fc2' title='Show/Hide attributes'><svg class='icon xr-icon-file-text2'><use xlink:href='#icon-file-text2'></use></svg></label><input id='data-0b1ee03d-a94f-4852-86f8-709d9fb1372d' class='xr-var-data-in' type='checkbox'><label for='data-0b1ee03d-a94f-4852-86f8-709d9fb1372d' title='Show/Hide data repr'><svg class='icon xr-icon-database'><use xlink:href='#icon-database'></use></svg></label><div class='xr-var-attrs'><dl class='xr-attrs'><dt><span>units :</span></dt><dd>seconds since 1970-01-01 00:00:00</dd></dl></div><div class='xr-var-data'><pre>array([&#x27;2001-01-02T02:58:02.000000000&#x27;, &#x27;2001-02-03T02:58:07.000000000&#x27;,\n",
       "       &#x27;2001-04-08T02:57:43.000000000&#x27;, &#x27;2001-06-11T02:57:17.000000000&#x27;,\n",
       "       &#x27;2001-09-15T02:56:11.000000000&#x27;, &#x27;2001-11-18T02:56:11.000000000&#x27;,\n",
       "       &#x27;2001-12-04T02:56:08.000000000&#x27;, &#x27;2001-12-20T02:56:19.000000000&#x27;,\n",
       "       &#x27;2002-01-05T02:56:20.000000000&#x27;, &#x27;2002-02-06T02:56:31.000000000&#x27;,\n",
       "       &#x27;2002-02-22T02:56:32.000000000&#x27;, &#x27;2002-03-10T02:56:35.000000000&#x27;,\n",
       "       &#x27;2002-03-26T02:56:28.000000000&#x27;, &#x27;2002-04-11T02:56:29.000000000&#x27;,\n",
       "       &#x27;2002-04-27T02:56:28.000000000&#x27;, &#x27;2002-05-13T02:56:24.000000000&#x27;,\n",
       "       &#x27;2002-06-14T02:56:11.000000000&#x27;, &#x27;2002-08-01T02:55:53.000000000&#x27;,\n",
       "       &#x27;2002-09-02T02:55:39.000000000&#x27;, &#x27;2002-10-04T02:55:22.000000000&#x27;,\n",
       "       &#x27;2002-10-20T02:55:26.000000000&#x27;, &#x27;2002-11-05T02:55:32.000000000&#x27;,\n",
       "       &#x27;2002-12-07T02:55:55.000000000&#x27;, &#x27;2003-01-08T02:55:58.000000000&#x27;,\n",
       "       &#x27;2003-01-24T02:56:09.000000000&#x27;, &#x27;2003-02-25T02:56:18.000000000&#x27;,\n",
       "       &#x27;2003-03-13T02:56:24.000000000&#x27;, &#x27;2003-03-29T02:56:20.000000000&#x27;,\n",
       "       &#x27;2003-10-07T02:55:48.000000000&#x27;, &#x27;2003-11-08T02:56:07.000000000&#x27;,\n",
       "       &#x27;2003-11-24T02:56:20.000000000&#x27;, &#x27;2003-12-26T02:56:32.000000000&#x27;,\n",
       "       &#x27;2004-01-27T02:56:43.000000000&#x27;, &#x27;2004-02-28T02:56:47.000000000&#x27;,\n",
       "       &#x27;2004-03-15T02:56:55.000000000&#x27;, &#x27;2004-03-31T02:56:56.000000000&#x27;,\n",
       "       &#x27;2004-04-16T02:56:49.000000000&#x27;, &#x27;2004-05-02T02:56:50.000000000&#x27;,\n",
       "       &#x27;2004-06-19T02:56:40.000000000&#x27;, &#x27;2004-07-05T02:56:40.000000000&#x27;,\n",
       "       &#x27;2004-08-06T02:56:27.000000000&#x27;, &#x27;2004-09-23T02:56:16.000000000&#x27;,\n",
       "       &#x27;2004-10-09T02:56:09.000000000&#x27;, &#x27;2004-10-25T02:56:26.000000000&#x27;,\n",
       "       &#x27;2004-11-10T02:56:35.000000000&#x27;, &#x27;2004-12-12T02:56:50.000000000&#x27;,\n",
       "       &#x27;2004-12-28T02:56:59.000000000&#x27;, &#x27;2005-01-13T02:57:03.000000000&#x27;,\n",
       "       &#x27;2005-01-29T02:57:05.000000000&#x27;, &#x27;2005-02-14T02:57:15.000000000&#x27;,\n",
       "       &#x27;2005-03-02T02:57:20.000000000&#x27;, &#x27;2005-03-18T02:57:21.000000000&#x27;,\n",
       "       &#x27;2005-04-03T02:57:18.000000000&#x27;, &#x27;2005-04-19T02:57:11.000000000&#x27;,\n",
       "       &#x27;2005-05-05T02:57:16.000000000&#x27;, &#x27;2005-05-21T02:57:16.000000000&#x27;,\n",
       "       &#x27;2005-08-25T02:56:55.000000000&#x27;, &#x27;2005-10-12T02:56:44.000000000&#x27;,\n",
       "       &#x27;2005-11-13T02:57:08.000000000&#x27;, &#x27;2005-12-31T02:57:25.000000000&#x27;],\n",
       "      dtype=&#x27;datetime64[ns]&#x27;)</pre></div></li><li class='xr-var-item'><div class='xr-var-name'><span>spatial_ref</span></div><div class='xr-var-dims'>()</div><div class='xr-var-dtype'>int32</div><div class='xr-var-preview xr-preview'>4326</div><input id='attrs-1d1a35d1-10d9-4658-9f96-89d473119d7c' class='xr-var-attrs-in' type='checkbox' ><label for='attrs-1d1a35d1-10d9-4658-9f96-89d473119d7c' title='Show/Hide attributes'><svg class='icon xr-icon-file-text2'><use xlink:href='#icon-file-text2'></use></svg></label><input id='data-38dd317d-302d-4567-9eff-c1b70e4ed83b' class='xr-var-data-in' type='checkbox'><label for='data-38dd317d-302d-4567-9eff-c1b70e4ed83b' title='Show/Hide data repr'><svg class='icon xr-icon-database'><use xlink:href='#icon-database'></use></svg></label><div class='xr-var-attrs'><dl class='xr-attrs'><dt><span>spatial_ref :</span></dt><dd>GEOGCS[&quot;WGS 84&quot;,DATUM[&quot;WGS_1984&quot;,SPHEROID[&quot;WGS 84&quot;,6378137,298.257223563,AUTHORITY[&quot;EPSG&quot;,&quot;7030&quot;]],AUTHORITY[&quot;EPSG&quot;,&quot;6326&quot;]],PRIMEM[&quot;Greenwich&quot;,0,AUTHORITY[&quot;EPSG&quot;,&quot;8901&quot;]],UNIT[&quot;degree&quot;,0.0174532925199433,AUTHORITY[&quot;EPSG&quot;,&quot;9122&quot;]],AUTHORITY[&quot;EPSG&quot;,&quot;4326&quot;]]</dd><dt><span>grid_mapping_name :</span></dt><dd>latitude_longitude</dd></dl></div><div class='xr-var-data'><pre>array(4326, dtype=int32)</pre></div></li><li class='xr-var-item'><div class='xr-var-name'><span class='xr-has-index'>longitude</span></div><div class='xr-var-dims'>(longitude)</div><div class='xr-var-dtype'>float64</div><div class='xr-var-preview xr-preview'>107.8 107.8 107.8 ... 107.8 107.8</div><input id='attrs-82e726a9-3260-4980-8a57-78baf330f948' class='xr-var-attrs-in' type='checkbox' disabled><label for='attrs-82e726a9-3260-4980-8a57-78baf330f948' title='Show/Hide attributes'><svg class='icon xr-icon-file-text2'><use xlink:href='#icon-file-text2'></use></svg></label><input id='data-c812e617-5d82-4cc2-8d8e-bb558303f507' class='xr-var-data-in' type='checkbox'><label for='data-c812e617-5d82-4cc2-8d8e-bb558303f507' title='Show/Hide data repr'><svg class='icon xr-icon-database'><use xlink:href='#icon-database'></use></svg></label><div class='xr-var-attrs'><dl class='xr-attrs'></dl></div><div class='xr-var-data'><pre>array([107.75997 , 107.760779, 107.761587, 107.762396, 107.763204, 107.764282,\n",
       "       107.765091, 107.765899, 107.766707, 107.767516, 107.768594, 107.769402,\n",
       "       107.770211, 107.771019, 107.772097, 107.772906, 107.773714, 107.774523,\n",
       "       107.775331, 107.776409, 107.777218, 107.778026, 107.778835, 107.779913])</pre></div></li><li class='xr-var-item'><div class='xr-var-name'><span class='xr-has-index'>latitude</span></div><div class='xr-var-dims'>(latitude)</div><div class='xr-var-dtype'>float64</div><div class='xr-var-preview xr-preview'>11.92 11.92 11.92 ... 11.9 11.9</div><input id='attrs-ce7fd62d-fc8c-4fee-8cd4-fb58854576d4' class='xr-var-attrs-in' type='checkbox' disabled><label for='attrs-ce7fd62d-fc8c-4fee-8cd4-fb58854576d4' title='Show/Hide attributes'><svg class='icon xr-icon-file-text2'><use xlink:href='#icon-file-text2'></use></svg></label><input id='data-2529cc02-81f7-4373-af0c-67be14a2f276' class='xr-var-data-in' type='checkbox'><label for='data-2529cc02-81f7-4373-af0c-67be14a2f276' title='Show/Hide data repr'><svg class='icon xr-icon-database'><use xlink:href='#icon-database'></use></svg></label><div class='xr-var-attrs'><dl class='xr-attrs'></dl></div><div class='xr-var-data'><pre>array([11.91988 , 11.919072, 11.918263, 11.917455, 11.916646, 11.915568,\n",
       "       11.91476 , 11.913951, 11.913143, 11.912334, 11.911256, 11.910448,\n",
       "       11.909639, 11.908831, 11.907753, 11.906945, 11.906136, 11.905328,\n",
       "       11.904519, 11.903441, 11.902633, 11.901824, 11.901016, 11.899938])</pre></div></li></ul></div></li><li class='xr-section-item'><input id='section-6b852d01-972d-43cd-8d9c-ba1f028588d2' class='xr-section-summary-in' type='checkbox'  checked><label for='section-6b852d01-972d-43cd-8d9c-ba1f028588d2' class='xr-section-summary' >Data variables: <span>(7)</span></label><div class='xr-section-inline-details'></div><div class='xr-section-details'><ul class='xr-var-list'><li class='xr-var-item'><div class='xr-var-name'><span>red</span></div><div class='xr-var-dims'>(time, latitude, longitude)</div><div class='xr-var-dtype'>int16</div><div class='xr-var-preview xr-preview'>476 434 369 ... -9999 -9999 -9999</div><input id='attrs-ccb9a81f-92f5-41ac-bcbf-b6802528f11e' class='xr-var-attrs-in' type='checkbox' ><label for='attrs-ccb9a81f-92f5-41ac-bcbf-b6802528f11e' title='Show/Hide attributes'><svg class='icon xr-icon-file-text2'><use xlink:href='#icon-file-text2'></use></svg></label><input id='data-d7f72293-a77b-4588-8bc9-0d35ed8d5e86' class='xr-var-data-in' type='checkbox'><label for='data-d7f72293-a77b-4588-8bc9-0d35ed8d5e86' title='Show/Hide data repr'><svg class='icon xr-icon-database'><use xlink:href='#icon-database'></use></svg></label><div class='xr-var-attrs'><dl class='xr-attrs'><dt><span>units :</span></dt><dd>reflectance</dd><dt><span>nodata :</span></dt><dd>-9999</dd><dt><span>crs :</span></dt><dd>EPSG:4326</dd><dt><span>grid_mapping :</span></dt><dd>spatial_ref</dd></dl></div><div class='xr-var-data'><pre>array([[[  476,   434,   369, ...,   392,   372,   373],\n",
       "        [  412,   391,   391, ...,   371,   436,   310],\n",
       "        [  412,   369,   306, ...,   371,   436,   331],\n",
       "        ...,\n",
       "        [  454,   454,   349, ...,   304,   344,   490],\n",
       "        [  412,   391,   434, ...,   346,   429,   367],\n",
       "        [  960,   938,   455, ...,   369,   389,   451]],\n",
       "\n",
       "       [[  346,   365,   210, ...,   288,   307,   307],\n",
       "        [  346,   268,   288, ...,   248,   307,   210],\n",
       "        [  307,   249,   230, ...,   307,   230,   230],\n",
       "        ...,\n",
       "        [  385,   404,   268, ...,   248,   288,   481],\n",
       "        [  365,   326,   326, ...,   248,   326,   268],\n",
       "        [  849,   694,   404, ...,   346,   365,   346]],\n",
       "\n",
       "       [[ 3594,  3060,  3268, ...,   329,   366,   348],\n",
       "        [20000, 20000, 20000, ...,   367,   349,   294],\n",
       "        [ 3576,  2764,  3850, ...,   440,   368,   368],\n",
       "        ...,\n",
       "...\n",
       "        ...,\n",
       "        [  796,   833,   778, ...,  1033,   995,  1069],\n",
       "        [  851,   814,   832, ...,   995,   978,   995],\n",
       "        [  851,   814,   832, ...,   995,   995,  1032]],\n",
       "\n",
       "       [[-9999,   254,   292, ...,   290,   347,   328],\n",
       "        [-9999, -9999, -9999, ...,   309,   328,   252],\n",
       "        [  254,   254,   235, ...,   271,   309,   309],\n",
       "        ...,\n",
       "        [-9999,   344,   756, ...,   289,   194,   270],\n",
       "        [-9999, -9999, -9999, ...,  1130,   570,   195],\n",
       "        [  287,   418,   682, ...,   157,   270,   309]],\n",
       "\n",
       "       [[  289, -9999, -9999, ...,   248,   269,   249],\n",
       "        [  247,   227,   207, ...,   269,   310,   188],\n",
       "        [  288,   207,   186, ..., -9999,   269,   270],\n",
       "        ...,\n",
       "        [  352,   372, -9999, ...,   129,   210,   292],\n",
       "        [  330,   290,   270, ...,   150,   211,   210],\n",
       "        [  310,   269,   269, ..., -9999, -9999, -9999]]], dtype=int16)</pre></div></li><li class='xr-var-item'><div class='xr-var-name'><span>green</span></div><div class='xr-var-dims'>(time, latitude, longitude)</div><div class='xr-var-dtype'>int16</div><div class='xr-var-preview xr-preview'>733 615 473 ... -9999 -9999 -9999</div><input id='attrs-a065755e-4ab9-401f-8e29-b76eb8db4042' class='xr-var-attrs-in' type='checkbox' ><label for='attrs-a065755e-4ab9-401f-8e29-b76eb8db4042' title='Show/Hide attributes'><svg class='icon xr-icon-file-text2'><use xlink:href='#icon-file-text2'></use></svg></label><input id='data-011f7cce-c157-4f6f-bb7b-b15a14357afe' class='xr-var-data-in' type='checkbox'><label for='data-011f7cce-c157-4f6f-bb7b-b15a14357afe' title='Show/Hide data repr'><svg class='icon xr-icon-database'><use xlink:href='#icon-database'></use></svg></label><div class='xr-var-attrs'><dl class='xr-attrs'><dt><span>units :</span></dt><dd>reflectance</dd><dt><span>nodata :</span></dt><dd>-9999</dd><dt><span>crs :</span></dt><dd>EPSG:4326</dd><dt><span>grid_mapping :</span></dt><dd>spatial_ref</dd></dl></div><div class='xr-var-data'><pre>array([[[  733,   615,   473, ...,   569,   545,   547],\n",
       "        [  638,   545,   568, ...,   521,   617,   454],\n",
       "        [  615,   545,   450, ...,   521,   522,   501],\n",
       "        ...,\n",
       "        [  661,   733,   591, ...,   423,   493,   723],\n",
       "        [  591,   543,   568, ...,   540,   563,   541],\n",
       "        [  733,   850,   638, ...,   565,   589,   611]],\n",
       "\n",
       "       [[  569,   527,   376, ...,   483,   462,   440],\n",
       "        [  569,   440,   484, ...,   419,   526,   353],\n",
       "        [  505,   462,   376, ...,   419,   397,   353],\n",
       "        ...,\n",
       "        [  612,   634,   462, ...,   333,   462,   676],\n",
       "        [  547,   462,   527, ...,   440,   526,   440],\n",
       "        [  720,   720,   547, ...,   483,   547,   505]],\n",
       "\n",
       "       [[ 3642,  3033,  3263, ...,   490,   529,   529],\n",
       "        [20000,  4129, 20000, ...,   491,   531,   450],\n",
       "        [ 3488,  2782,  3829, ...,   613,   532,   512],\n",
       "        ...,\n",
       "...\n",
       "        ...,\n",
       "        [  997,   997,   957, ...,  1138,  1158,  1137],\n",
       "        [ 1018,   957,   976, ...,  1097,  1137,  1097],\n",
       "        [  997,   976,   956, ...,  1076,  1097,  1137]],\n",
       "\n",
       "       [[-9999,   475,   391, ...,   556,   452,   535],\n",
       "        [-9999, -9999, -9999, ...,   452,   452,   389],\n",
       "        [  496,   454,   391, ...,   494,   618,   597],\n",
       "        ...,\n",
       "        [-9999,   616,   969, ...,   450,   408,   492],\n",
       "        [-9999, -9999, -9999, ...,  1237,   741,   347],\n",
       "        [  553,   657,   823, ...,   347,   430,   492]],\n",
       "\n",
       "       [[  522, -9999, -9999, ...,   430,   341,   477],\n",
       "        [  385,   339,   385, ...,   408,   476,   342],\n",
       "        [  407,   408,   294, ..., -9999,   499,   500],\n",
       "        ...,\n",
       "        [  568,   546, -9999, ...,   253,   344,   457],\n",
       "        [  477,   455,   501, ...,   276,   389,   276],\n",
       "        [  431,   409,   431, ..., -9999, -9999, -9999]]], dtype=int16)</pre></div></li><li class='xr-var-item'><div class='xr-var-name'><span>blue</span></div><div class='xr-var-dims'>(time, latitude, longitude)</div><div class='xr-var-dtype'>int16</div><div class='xr-var-preview xr-preview'>361 383 361 ... -9999 -9999 -9999</div><input id='attrs-169408cc-c3f1-46cc-a234-413f2fddec88' class='xr-var-attrs-in' type='checkbox' ><label for='attrs-169408cc-c3f1-46cc-a234-413f2fddec88' title='Show/Hide attributes'><svg class='icon xr-icon-file-text2'><use xlink:href='#icon-file-text2'></use></svg></label><input id='data-6a727a96-e518-4059-94e4-ce0ac6bff716' class='xr-var-data-in' type='checkbox'><label for='data-6a727a96-e518-4059-94e4-ce0ac6bff716' title='Show/Hide data repr'><svg class='icon xr-icon-database'><use xlink:href='#icon-database'></use></svg></label><div class='xr-var-attrs'><dl class='xr-attrs'><dt><span>units :</span></dt><dd>reflectance</dd><dt><span>nodata :</span></dt><dd>-9999</dd><dt><span>crs :</span></dt><dd>EPSG:4326</dd><dt><span>grid_mapping :</span></dt><dd>spatial_ref</dd></dl></div><div class='xr-var-data'><pre>array([[[  361,   383,   361, ...,   341,   364,   301],\n",
       "        [  383,   405,   383, ...,   319,   364,   323],\n",
       "        [  361,   361,   296, ...,   363,   343,   345],\n",
       "        ...,\n",
       "        [  340,   383,   340, ...,   261,   346,   389],\n",
       "        [  361,   339,   296, ...,   284,   326,   348],\n",
       "        [  471,   448,   427, ...,   329,   351,   351]],\n",
       "\n",
       "       [[  264,   264,   244, ...,   263,   204,   263],\n",
       "        [  264,   244,   264, ...,   223,   263,   223],\n",
       "        [  244,   244,   165, ...,   263,   223,   164],\n",
       "        ...,\n",
       "        [  264,   244,   205, ...,   223,   223,   302],\n",
       "        [  264,   244,   264, ...,   243,   263,   243],\n",
       "        [  402,   382,   264, ...,   243,   243,   243]],\n",
       "\n",
       "       [[ 3313,  2866,  3005, ...,   389,   370,   389],\n",
       "        [20000, 20000, 20000, ...,   372,   371,   371],\n",
       "        [ 3260,  2587, 20000, ...,   411,   355,   373],\n",
       "        ...,\n",
       "...\n",
       "        ...,\n",
       "        [  739,   758,   739, ...,  1052,   996,   977],\n",
       "        [  795,   739,   757, ...,   958,   995,   957],\n",
       "        [  776,   757,   757, ...,   958,   995,   900]],\n",
       "\n",
       "       [[-9999,   241,   259, ...,   294,   275,   275],\n",
       "        [-9999, -9999, -9999, ...,   274,   312,   218],\n",
       "        [  241,   222,   222, ...,   274,   293,   292],\n",
       "        ...,\n",
       "        [-9999,   289,   670, ...,   272,   234,   253],\n",
       "        [-9999, -9999, -9999, ...,  1045,   539,   216],\n",
       "        [  231,   403,   631, ...,   196,   235,   235]],\n",
       "\n",
       "       [[  262, -9999, -9999, ...,   219,   200,   222],\n",
       "        [  198,   198,   198, ...,   219,   241,   160],\n",
       "        [  219,   219,   199, ..., -9999,   281,   243],\n",
       "        ...,\n",
       "        [  222,   244, -9999, ...,   121,   204,   245],\n",
       "        [  242,   221,   264, ...,   164,   225,   184],\n",
       "        [  262,   220,   242, ..., -9999, -9999, -9999]]], dtype=int16)</pre></div></li><li class='xr-var-item'><div class='xr-var-name'><span>nir</span></div><div class='xr-var-dims'>(time, latitude, longitude)</div><div class='xr-var-dtype'>int16</div><div class='xr-var-preview xr-preview'>4688 4159 2511 ... -9999 -9999</div><input id='attrs-ba2dd75e-f1f4-4646-85b3-a9f6b77029ba' class='xr-var-attrs-in' type='checkbox' ><label for='attrs-ba2dd75e-f1f4-4646-85b3-a9f6b77029ba' title='Show/Hide attributes'><svg class='icon xr-icon-file-text2'><use xlink:href='#icon-file-text2'></use></svg></label><input id='data-a7b0a312-2a68-4fd7-9f7e-965fff210397' class='xr-var-data-in' type='checkbox'><label for='data-a7b0a312-2a68-4fd7-9f7e-965fff210397' title='Show/Hide data repr'><svg class='icon xr-icon-database'><use xlink:href='#icon-database'></use></svg></label><div class='xr-var-attrs'><dl class='xr-attrs'><dt><span>units :</span></dt><dd>reflectance</dd><dt><span>nodata :</span></dt><dd>-9999</dd><dt><span>crs :</span></dt><dd>EPSG:4326</dd><dt><span>grid_mapping :</span></dt><dd>spatial_ref</dd></dl></div><div class='xr-var-data'><pre>array([[[ 4688,  4159,  2511, ...,  3269,  3446,  3354],\n",
       "        [ 4247,  3672,  3805, ...,  3179,  3933,  2507],\n",
       "        [ 3893,  3449,  2691, ...,  3091,  2956,  2731],\n",
       "        ...,\n",
       "        [ 4642,  4642,  4158, ...,  2494,  3377,  4472],\n",
       "        [ 3848,  3759,  3981, ...,  2978,  3814,  2935],\n",
       "        [ 1970,  3225,  3670, ...,  3591,  4029,  3855]],\n",
       "\n",
       "       [[ 4416,  3918,  2289, ...,  3001,  3210,  3127],\n",
       "        [ 4042,  3460,  3669, ...,  2750,  3626,  2331],\n",
       "        [ 3751,  3502,  2709, ...,  2917,  2750,  2373],\n",
       "        ...,\n",
       "        [ 4374,  4332,  3958, ...,  2540,  3292,  4330],\n",
       "        [ 3626,  3585,  3792, ...,  2833,  3792,  2916],\n",
       "        [ 2079,  3376,  3585, ...,  3333,  3916,  3583]],\n",
       "\n",
       "       [[ 4926,  4852,  4889, ...,  2138,  2600,  2369],\n",
       "        [ 5335,  5559,  6371, ...,  2253,  2561,  1905],\n",
       "        [ 5036,  4587,  5261, ...,  3133,  2790,  2483],\n",
       "        ...,\n",
       "...\n",
       "        ...,\n",
       "        [ 3763,  3802,  3724, ...,  3258,  3337,  3574],\n",
       "        [ 3606,  3450,  3607, ...,  3100,  3496,  3180],\n",
       "        [ 3765,  3568,  3451, ...,  3259,  3457,  3378]],\n",
       "\n",
       "       [[-9999,  3606,  2425, ...,  3931,  2916,  4295],\n",
       "        [-9999, -9999, -9999, ...,  3851,  3932,  3729],\n",
       "        [ 3484,  3078,  2629, ...,  3446,  4215,  3972],\n",
       "        ...,\n",
       "        [-9999,  4663,  4382, ...,  2754,  3487,  4336],\n",
       "        [-9999, -9999, -9999, ...,  3771,  4053,  3161],\n",
       "        [ 4463,  4059,  3897, ...,  3608,  3851,  3729]],\n",
       "\n",
       "       [[ 3965, -9999, -9999, ...,  3565,  2716,  3740],\n",
       "        [ 3433,  2988,  3077, ...,  3610,  3742,  2850],\n",
       "        [ 3210,  2585,  2270, ..., -9999,  3742,  3518],\n",
       "        ...,\n",
       "        [ 4494,  4626, -9999, ...,  2132,  3115,  4180],\n",
       "        [ 3074,  3341,  3652, ...,  2489,  4002,  2668],\n",
       "        [ 3431,  3431,  3296, ..., -9999, -9999, -9999]]], dtype=int16)</pre></div></li><li class='xr-var-item'><div class='xr-var-name'><span>swir1</span></div><div class='xr-var-dims'>(time, latitude, longitude)</div><div class='xr-var-dtype'>int16</div><div class='xr-var-preview xr-preview'>2160 1972 1217 ... -9999 -9999</div><input id='attrs-f2d2da45-a5ba-4578-af7a-5efded21577f' class='xr-var-attrs-in' type='checkbox' ><label for='attrs-f2d2da45-a5ba-4578-af7a-5efded21577f' title='Show/Hide attributes'><svg class='icon xr-icon-file-text2'><use xlink:href='#icon-file-text2'></use></svg></label><input id='data-1738a5b9-1986-4477-8888-7c026ef5a9f2' class='xr-var-data-in' type='checkbox'><label for='data-1738a5b9-1986-4477-8888-7c026ef5a9f2' title='Show/Hide data repr'><svg class='icon xr-icon-database'><use xlink:href='#icon-database'></use></svg></label><div class='xr-var-attrs'><dl class='xr-attrs'><dt><span>units :</span></dt><dd>reflectance</dd><dt><span>nodata :</span></dt><dd>-9999</dd><dt><span>crs :</span></dt><dd>EPSG:4326</dd><dt><span>grid_mapping :</span></dt><dd>spatial_ref</dd></dl></div><div class='xr-var-data'><pre>array([[[ 2160,  1972,  1217, ...,  1702,  1567,  1673],\n",
       "        [ 2025,  1594,  1810, ...,  1486,  2104,  1108],\n",
       "        [ 1810,  1622,  1217, ...,  1486,  1486,  1216],\n",
       "        ...,\n",
       "        [ 2347,  2347,  1944, ...,  1079,  1641,  2550],\n",
       "        [ 2052,  1810,  2025, ...,  1453,  1908,  1480],\n",
       "        [ 2159,  2401,  2158, ...,  1773,  2067,  2093]],\n",
       "\n",
       "       [[ 2025,  1846,  1058, ...,  1643,  1439,  1566],\n",
       "        [ 2025,  1566,  1745, ...,  1363,  1871,  1184],\n",
       "        [ 1745,  1719,  1108, ...,  1439,  1312,   980],\n",
       "        ...,\n",
       "        [ 2227,  2381,  1770, ...,  1082,  1617,  2532],\n",
       "        [ 2126,  1795,  1871, ...,  1388,  1948,  1489],\n",
       "        [ 2126,  2227,  2126, ...,  1642,  2151,  1871]],\n",
       "\n",
       "       [[ 4139,  3958,  4095, ...,   988,  1286,  1218],\n",
       "        [ 4660,  4931, 20000, ...,   988,  1332,   760],\n",
       "        [ 4161,  3571,  4660, ...,  1697,  1491,  1126],\n",
       "        ...,\n",
       "...\n",
       "        ...,\n",
       "        [ 1775,  1799,  1822, ...,  1518,  1588,  1659],\n",
       "        [ 1751,  1728,  1751, ...,  1329,  1540,  1447],\n",
       "        [ 1892,  1728,  1682, ...,  1353,  1518,  1682]],\n",
       "\n",
       "       [[-9999,  1779,  1164, ...,  2000,  1534,  2000],\n",
       "        [-9999, -9999, -9999, ...,  1804,  2025,  1632],\n",
       "        [ 1779,  1582,  1311, ...,  1681,  2099,  2025],\n",
       "        ...,\n",
       "        [-9999,  2297,  2371, ...,  1288,  1607,  1902],\n",
       "        [-9999, -9999, -9999, ...,  2247,  1803,  1066],\n",
       "        [ 2224,  2076,  2223, ...,  1016,  1435,  1975]],\n",
       "\n",
       "       [[ 1901, -9999, -9999, ...,  1793,  1335,  1792],\n",
       "        [ 1685,  1416,  1524, ...,  1685,  1900,  1254],\n",
       "        [ 1685,  1389,  1039, ..., -9999,  1873,  1738],\n",
       "        ...,\n",
       "        [ 2196,  2168, -9999, ...,   876,  1360,  1738],\n",
       "        [ 1819,  1684,  2034, ...,   661,  1468,   822],\n",
       "        [ 2034,  1900,  1819, ..., -9999, -9999, -9999]]], dtype=int16)</pre></div></li><li class='xr-var-item'><div class='xr-var-name'><span>swir2</span></div><div class='xr-var-dims'>(time, latitude, longitude)</div><div class='xr-var-dtype'>int16</div><div class='xr-var-preview xr-preview'>889 861 608 ... -9999 -9999 -9999</div><input id='attrs-1641f05f-c361-4285-8874-4b0674356465' class='xr-var-attrs-in' type='checkbox' ><label for='attrs-1641f05f-c361-4285-8874-4b0674356465' title='Show/Hide attributes'><svg class='icon xr-icon-file-text2'><use xlink:href='#icon-file-text2'></use></svg></label><input id='data-e0667749-20ce-442e-95b8-03e1f196af74' class='xr-var-data-in' type='checkbox'><label for='data-e0667749-20ce-442e-95b8-03e1f196af74' title='Show/Hide data repr'><svg class='icon xr-icon-database'><use xlink:href='#icon-database'></use></svg></label><div class='xr-var-attrs'><dl class='xr-attrs'><dt><span>units :</span></dt><dd>reflectance</dd><dt><span>nodata :</span></dt><dd>-9999</dd><dt><span>crs :</span></dt><dd>EPSG:4326</dd><dt><span>grid_mapping :</span></dt><dd>spatial_ref</dd></dl></div><div class='xr-var-data'><pre>array([[[  889,   861,   608, ...,   748,   636,   748],\n",
       "        [  833,   692,   720, ...,   636,   860,   550],\n",
       "        [  748,   664,   494, ...,   692,   636,   494],\n",
       "        ...,\n",
       "        [  946,  1002,   776, ...,   521,   718,  1138],\n",
       "        [  889,   692,   833, ...,   605,   830,   661],\n",
       "        [ 1678,  1649,  1030, ...,   773,   857,   913]],\n",
       "\n",
       "       [[  820,   767,   420, ...,   633,   580,   607],\n",
       "        [  767,   607,   607, ...,   580,   767,   447],\n",
       "        [  686,   686,   367, ...,   580,   473,   394],\n",
       "        ...,\n",
       "        [  954,   954,   660, ...,   473,   607,  1139],\n",
       "        [  926,   739,   713, ...,   607,   794,   633],\n",
       "        [ 1567,  1380,   980, ...,   660,   900,   713]],\n",
       "\n",
       "       [[ 3432,  3240,  3384, ...,   364,   557,   485],\n",
       "        [ 4003,  4194,  5123, ...,   364,   557,   317],\n",
       "        [ 3454,  2714,  4003, ...,   699,   604,   436],\n",
       "        ...,\n",
       "...\n",
       "        ...,\n",
       "        [  877,   901,   852, ...,   902,   927,   976],\n",
       "        [  926,   877,   901, ...,   777,   877,   777],\n",
       "        [ 1000,   926,   877, ...,   777,   828,  1002]],\n",
       "\n",
       "       [[-9999,   640,   459, ...,   797,   666,   822],\n",
       "        [-9999, -9999, -9999, ...,   745,   771,   640],\n",
       "        [  666,   614,   459, ...,   666,   848,   823],\n",
       "        ...,\n",
       "        [-9999,   849,  1188, ...,   485,   614,   692],\n",
       "        [-9999, -9999, -9999, ...,  1342,   771,   380],\n",
       "        [  797,   952,  1109, ...,   277,   485,   797]],\n",
       "\n",
       "       [[  681, -9999, -9999, ...,   680,   480,   708],\n",
       "        [  623,   452,   566, ...,   594,   738,   450],\n",
       "        [  651,   566,   336, ..., -9999,   708,   679],\n",
       "        ...,\n",
       "        [  823,   766, -9999, ...,   336,   537,   622],\n",
       "        [  708,   623,   823, ...,   193,   450,   336],\n",
       "        [  880,   651,   680, ..., -9999, -9999, -9999]]], dtype=int16)</pre></div></li><li class='xr-var-item'><div class='xr-var-name'><span>pixel_qa</span></div><div class='xr-var-dims'>(time, latitude, longitude)</div><div class='xr-var-dtype'>int32</div><div class='xr-var-preview xr-preview'>66 66 66 66 66 66 ... 1 1 1 1 1 1</div><input id='attrs-abebf45c-472e-4cd6-8c00-7e05f419c284' class='xr-var-attrs-in' type='checkbox' ><label for='attrs-abebf45c-472e-4cd6-8c00-7e05f419c284' title='Show/Hide attributes'><svg class='icon xr-icon-file-text2'><use xlink:href='#icon-file-text2'></use></svg></label><input id='data-7a39e188-1b35-40b5-be35-22d398f69136' class='xr-var-data-in' type='checkbox'><label for='data-7a39e188-1b35-40b5-be35-22d398f69136' title='Show/Hide data repr'><svg class='icon xr-icon-database'><use xlink:href='#icon-database'></use></svg></label><div class='xr-var-attrs'><dl class='xr-attrs'><dt><span>units :</span></dt><dd>bit_index</dd><dt><span>nodata :</span></dt><dd>1</dd><dt><span>flags_definition :</span></dt><dd>{&#x27;pixel_qa&#x27;: {&#x27;bits&#x27;: [0, 1, 2, 3, 4, 5, 6, 7, 8, 9, 10, 11, 12, 13, 14, 15], &#x27;values&#x27;: {&#x27;1&#x27;: &#x27;Fill&#x27;, &#x27;2&#x27;: &#x27;Clear&#x27;, &#x27;4&#x27;: &#x27;Water&#x27;, &#x27;8&#x27;: &#x27;Cloud shadow&#x27;, &#x27;16&#x27;: &#x27;Snow&#x27;, &#x27;32&#x27;: &#x27;Cloud&#x27;, &#x27;64&#x27;: &#x27;Cloud Confidence Low Bit&#x27;, &#x27;128&#x27;: &#x27;Cloud Confidence High Bit&#x27;, &#x27;256&#x27;: &#x27;Unused&#x27;, &#x27;512&#x27;: &#x27;Unused&#x27;, &#x27;1024&#x27;: &#x27;Unused&#x27;, &#x27;2048&#x27;: &#x27;Unused&#x27;, &#x27;4096&#x27;: &#x27;Unused&#x27;, &#x27;8192&#x27;: &#x27;Unused&#x27;, &#x27;16384&#x27;: &#x27;Unused&#x27;, &#x27;32786&#x27;: &#x27;Unused&#x27;}, &#x27;description&#x27;: &#x27;Level 2 Pixel Quality Band&#x27;}}</dd><dt><span>crs :</span></dt><dd>EPSG:4326</dd><dt><span>grid_mapping :</span></dt><dd>spatial_ref</dd></dl></div><div class='xr-var-data'><pre>array([[[ 66,  66,  66, ...,  66,  66,  66],\n",
       "        [ 66,  66,  66, ...,  66,  66,  66],\n",
       "        [ 66,  66,  66, ...,  66,  66,  66],\n",
       "        ...,\n",
       "        [ 66,  66,  66, ...,  66,  66,  66],\n",
       "        [ 66,  66,  66, ...,  66,  66,  66],\n",
       "        [ 66,  66,  66, ...,  66,  66,  66]],\n",
       "\n",
       "       [[ 66,  66,  66, ...,  66,  66,  66],\n",
       "        [ 66,  66,  66, ...,  66,  66,  66],\n",
       "        [ 66,  66,  66, ...,  66,  66,  66],\n",
       "        ...,\n",
       "        [ 66,  66,  66, ...,  66,  66,  66],\n",
       "        [ 66,  66,  66, ...,  66,  66,  66],\n",
       "        [ 66,  66,  66, ...,  66,  66,  66]],\n",
       "\n",
       "       [[224, 224, 224, ...,  66,  66,  66],\n",
       "        [224, 224, 224, ...,  66,  66,  66],\n",
       "        [224, 224, 224, ...,  66,  66,  66],\n",
       "        ...,\n",
       "...\n",
       "        ...,\n",
       "        [224, 224, 160, ..., 224, 224, 224],\n",
       "        [224, 224, 224, ..., 224, 224, 224],\n",
       "        [224, 224, 224, ..., 224, 224, 224]],\n",
       "\n",
       "       [[  1,  66,  66, ...,  66,  66,  66],\n",
       "        [  1,   1,   1, ...,  66,  66,  66],\n",
       "        [ 66,  66,  66, ...,  66,  66,  66],\n",
       "        ...,\n",
       "        [  1,  66,  66, ...,  66,  66,  96],\n",
       "        [  1,   1,   1, ...,  66,  66,  66],\n",
       "        [ 66,  66,  66, ...,  66,  66,  66]],\n",
       "\n",
       "       [[ 66,   1,   1, ...,  66,  66,  66],\n",
       "        [ 66,  66,  66, ...,  66,  66,  66],\n",
       "        [ 66,  66,  66, ...,   1,  66,  66],\n",
       "        ...,\n",
       "        [ 66,  66,   1, ...,  66,  66,  66],\n",
       "        [ 66,  66,  66, ...,  66,  66,  66],\n",
       "        [ 66,  66,  66, ...,   1,   1,   1]]], dtype=int32)</pre></div></li></ul></div></li><li class='xr-section-item'><input id='section-47c0a9b7-8712-4e37-9eb7-a0d527215b93' class='xr-section-summary-in' type='checkbox'  checked><label for='section-47c0a9b7-8712-4e37-9eb7-a0d527215b93' class='xr-section-summary' >Attributes: <span>(2)</span></label><div class='xr-section-inline-details'></div><div class='xr-section-details'><dl class='xr-attrs'><dt><span>crs :</span></dt><dd>EPSG:4326</dd><dt><span>grid_mapping :</span></dt><dd>spatial_ref</dd></dl></div></li></ul></div></div>"
      ],
      "text/plain": [
       "<xarray.Dataset>\n",
       "Dimensions:      (latitude: 24, longitude: 24, time: 60)\n",
       "Coordinates:\n",
       "  * time         (time) datetime64[ns] 2001-01-02T02:58:02 ... 2005-12-31T02:...\n",
       "    spatial_ref  int32 4326\n",
       "  * longitude    (longitude) float64 107.8 107.8 107.8 ... 107.8 107.8 107.8\n",
       "  * latitude     (latitude) float64 11.92 11.92 11.92 11.92 ... 11.9 11.9 11.9\n",
       "Data variables:\n",
       "    red          (time, latitude, longitude) int16 476 434 369 ... -9999 -9999\n",
       "    green        (time, latitude, longitude) int16 733 615 473 ... -9999 -9999\n",
       "    blue         (time, latitude, longitude) int16 361 383 361 ... -9999 -9999\n",
       "    nir          (time, latitude, longitude) int16 4688 4159 ... -9999 -9999\n",
       "    swir1        (time, latitude, longitude) int16 2160 1972 ... -9999 -9999\n",
       "    swir2        (time, latitude, longitude) int16 889 861 608 ... -9999 -9999\n",
       "    pixel_qa     (time, latitude, longitude) int32 66 66 66 66 66 ... 1 1 1 1 1\n",
       "Attributes:\n",
       "    crs:           EPSG:4326\n",
       "    grid_mapping:  spatial_ref"
      ]
     },
     "execution_count": 1,
     "metadata": {},
     "output_type": "execute_result"
    }
   ],
   "source": [
    "landsat_dataset\n",
    "#view the dimensions and sample content from the cube"
   ]
  },
  {
   "cell_type": "markdown",
   "metadata": {},
   "source": [
    "## PyCCD\n",
    "The compute time of PyCCD scales sharply with extent sizes. Seemingly small areas can take anywhere from 10-15 minutes to process."
   ]
  },
  {
   "cell_type": "code",
   "execution_count": 13,
   "metadata": {
    "execution": {
     "iopub.execute_input": "2020-09-29T01:01:21.216045Z",
     "iopub.status.busy": "2020-09-29T01:01:21.215616Z",
     "iopub.status.idle": "2020-09-29T01:01:21.217696Z",
     "shell.execute_reply": "2020-09-29T01:01:21.217244Z"
    }
   },
   "outputs": [],
   "source": [
    "# import utils.data_cube_utilities.dc_ccd as ccd"
   ]
  },
  {
   "cell_type": "code",
   "execution_count": 14,
   "metadata": {
    "execution": {
     "iopub.execute_input": "2020-09-29T01:01:21.220384Z",
     "iopub.status.busy": "2020-09-29T01:01:21.219971Z",
     "iopub.status.idle": "2020-09-29T01:01:21.222045Z",
     "shell.execute_reply": "2020-09-29T01:01:21.221619Z"
    },
    "scrolled": false
   },
   "outputs": [],
   "source": [
    "# %time change_matrix = ccd.process_xarray(landsat_dataset, distributed = True, process = \"matrix\") #Run process xarray on large dataset"
   ]
  },
  {
   "cell_type": "code",
   "execution_count": 15,
   "metadata": {
    "execution": {
     "iopub.execute_input": "2020-09-29T01:01:21.224678Z",
     "iopub.status.busy": "2020-09-29T01:01:21.224250Z",
     "iopub.status.idle": "2020-09-29T01:01:21.226324Z",
     "shell.execute_reply": "2020-09-29T01:01:21.225897Z"
    }
   },
   "outputs": [],
   "source": [
    "# %time change_volume = (change_matrix.sum(dim='time') - 1).rename('change_volume')"
   ]
  },
  {
   "cell_type": "markdown",
   "metadata": {},
   "source": [
    "## Plotting change volume  \n",
    "Plot change volume to identify regions/areas of change. The change volume represents the number of land changes for a pixel over the time series."
   ]
  },
  {
   "cell_type": "code",
   "execution_count": 16,
   "metadata": {
    "execution": {
     "iopub.execute_input": "2020-09-29T01:01:21.228891Z",
     "iopub.status.busy": "2020-09-29T01:01:21.228472Z",
     "iopub.status.idle": "2020-09-29T01:01:21.230180Z",
     "shell.execute_reply": "2020-09-29T01:01:21.230504Z"
    }
   },
   "outputs": [],
   "source": [
    "# import matplotlib.pyplot as plt  \n",
    "# from utils.data_cube_utilities.plotter_utils import figure_ratio\n",
    "\n",
    "# plt.figure(figsize = figure_ratio(change_volume, fixed_width=8))\n",
    "# change_volume.plot()\n",
    "# plt.axes().set_aspect(\"equal\")"
   ]
  },
  {
   "cell_type": "markdown",
   "metadata": {},
   "source": [
    "## Plot the time of first changes"
   ]
  },
  {
   "cell_type": "code",
   "execution_count": 17,
   "metadata": {
    "execution": {
     "iopub.execute_input": "2020-09-29T01:01:21.232910Z",
     "iopub.status.busy": "2020-09-29T01:01:21.232505Z",
     "iopub.status.idle": "2020-09-29T01:01:21.235369Z",
     "shell.execute_reply": "2020-09-29T01:01:21.234943Z"
    }
   },
   "outputs": [],
   "source": [
    "# %time\n",
    "# time_map_ccd_product = ccd._nth_occurence_in_ccd_matrix(change_matrix, 1, f = ccd._n64_datetime_to_scalar)"
   ]
  },
  {
   "cell_type": "code",
   "execution_count": 18,
   "metadata": {
    "execution": {
     "iopub.execute_input": "2020-09-29T01:01:21.237864Z",
     "iopub.status.busy": "2020-09-29T01:01:21.237419Z",
     "iopub.status.idle": "2020-09-29T01:01:21.239519Z",
     "shell.execute_reply": "2020-09-29T01:01:21.239101Z"
    }
   },
   "outputs": [],
   "source": [
    "# import datetime\n",
    "# from matplotlib.ticker import FuncFormatter\n",
    "\n",
    "# plt.figure(figsize = figure_ratio(time_map_ccd_product, fixed_width=8))\n",
    "# epochFormatter = FuncFormatter(lambda x, pos: datetime.datetime.utcfromtimestamp(x).strftime('%Y-%m-%d'))\n",
    "# time_map_ccd_product.plot(cmap = \"magma\", cbar_kwargs=({'format': epochFormatter}))\n",
    "# plt.axes().set_aspect(\"equal\")"
   ]
  },
  {
   "cell_type": "markdown",
   "metadata": {},
   "source": [
    "## Validating Change\n",
    "Use the two images below to review scenes at the beginning of the time series and the end of the time series. "
   ]
  },
  {
   "cell_type": "markdown",
   "metadata": {},
   "source": [
    "### Review of RGB images\n",
    "Choose an image from the start and end of the time series. Remember that 0 is the first acquisition and the last acquisition if the number of time steps. You can find that number in the XARRAY report above. Try various combinations of the start and end images to identify the land changes using visual interpretation. You will see some images will have clouds and others will have Landsat-7 \"bands\". You can also change the RGB image bands to give you an combination you desire. "
   ]
  },
  {
   "cell_type": "code",
   "execution_count": 19,
   "metadata": {
    "execution": {
     "iopub.execute_input": "2020-09-29T01:01:21.242934Z",
     "iopub.status.busy": "2020-09-29T01:01:21.242532Z",
     "iopub.status.idle": "2020-09-29T01:01:21.403170Z",
     "shell.execute_reply": "2020-09-29T01:01:21.403601Z"
    }
   },
   "outputs": [
    {
     "name": "stdout",
     "output_type": "stream",
     "text": [
      "2001-04-08T02:57:43.000000000\n"
     ]
    },
    {
     "data": {
      "text/plain": [
       "(<Figure size 720x288 with 1 Axes>,\n",
       " <AxesSubplot:xlabel='longitude', ylabel='latitude'>)"
      ]
     },
     "execution_count": 1,
     "metadata": {},
     "output_type": "execute_result"
    },
    {
     "data": {
      "image/png": "[encoded data removed]",
      "text/plain": [
       "<Figure size 720x288 with 1 Axes>"
      ]
     },
     "metadata": {
      "needs_background": "light"
     },
     "output_type": "display_data"
    }
   ],
   "source": [
    "from utils.data_cube_utilities.dc_rgb import rgb\n",
    "\n",
    "first = 2 # Acquisition Number ... change here\n",
    "\n",
    "print( landsat_dataset.time.values[first] )\n",
    "\n",
    "rgb( landsat_dataset,\n",
    "     time_index = first,\n",
    "     bands = ['swir2','nir','green'])"
   ]
  },
  {
   "cell_type": "code",
   "execution_count": 20,
   "metadata": {
    "execution": {
     "iopub.execute_input": "2020-09-29T01:01:21.408770Z",
     "iopub.status.busy": "2020-09-29T01:01:21.408136Z",
     "iopub.status.idle": "2020-09-29T01:01:21.511948Z",
     "shell.execute_reply": "2020-09-29T01:01:21.512292Z"
    },
    "scrolled": false
   },
   "outputs": [
    {
     "name": "stdout",
     "output_type": "stream",
     "text": [
      "2005-03-02T02:57:20.000000000\n"
     ]
    },
    {
     "data": {
      "text/plain": [
       "(<Figure size 720x288 with 1 Axes>,\n",
       " <AxesSubplot:xlabel='longitude', ylabel='latitude'>)"
      ]
     },
     "execution_count": 1,
     "metadata": {},
     "output_type": "execute_result"
    },
    {
     "data": {
      "image/png": "[encoded data removed]",
      "text/plain": [
       "<Figure size 720x288 with 1 Axes>"
      ]
     },
     "metadata": {
      "needs_background": "light"
     },
     "output_type": "display_data"
    }
   ],
   "source": [
    "last = 50 # Acquisition Number ... change here\n",
    "\n",
    "print( landsat_dataset.time.values[last] )\n",
    "\n",
    "rgb(landsat_dataset,\n",
    "    time_index = last,\n",
    "    bands = ['swir2','nir','green'])"
   ]
  },
  {
   "cell_type": "markdown",
   "metadata": {},
   "source": [
    "# Vogelmann NDVI Trend "
   ]
  },
  {
   "cell_type": "code",
   "execution_count": 21,
   "metadata": {
    "execution": {
     "iopub.execute_input": "2020-09-29T01:01:21.516061Z",
     "iopub.status.busy": "2020-09-29T01:01:21.515451Z",
     "iopub.status.idle": "2020-09-29T01:01:21.518000Z",
     "shell.execute_reply": "2020-09-29T01:01:21.518332Z"
    }
   },
   "outputs": [],
   "source": [
    "import utils.data_cube_utilities.trend as trend"
   ]
  },
  {
   "cell_type": "code",
   "execution_count": 22,
   "metadata": {
    "execution": {
     "iopub.execute_input": "2020-09-29T01:01:21.568858Z",
     "iopub.status.busy": "2020-09-29T01:01:21.568442Z",
     "iopub.status.idle": "2020-09-29T01:01:21.569238Z",
     "shell.execute_reply": "2020-09-29T01:01:21.567967Z"
    }
   },
   "outputs": [],
   "source": [
    "import numpy as np\n",
    "\n",
    "def land_and_water_masking_ls7(dataset):    \n",
    "    #Create boolean Masks for clear and water pixels\n",
    "    clear_pixels = dataset.pixel_qa.values == 2 + 64\n",
    "    water_pixels = dataset.pixel_qa.values == 4 + 64\n",
    "\n",
    "    a_clean_mask = np.logical_or(clear_pixels, water_pixels)\n",
    "    return a_clean_mask"
   ]
  },
  {
   "cell_type": "code",
   "execution_count": 23,
   "metadata": {
    "execution": {
     "iopub.execute_input": "2020-09-29T01:01:21.572958Z",
     "iopub.status.busy": "2020-09-29T01:01:21.572468Z",
     "iopub.status.idle": "2020-09-29T01:01:21.574272Z",
     "shell.execute_reply": "2020-09-29T01:01:21.574706Z"
    }
   },
   "outputs": [],
   "source": [
    "def remove_clouds(dataset):  \n",
    "    return dataset.where(land_and_water_masking_ls7(dataset)).drop('pixel_qa')"
   ]
  },
  {
   "cell_type": "code",
   "execution_count": 24,
   "metadata": {
    "execution": {
     "iopub.execute_input": "2020-09-29T01:01:21.577972Z",
     "iopub.status.busy": "2020-09-29T01:01:21.577533Z",
     "iopub.status.idle": "2020-09-29T01:01:21.579211Z",
     "shell.execute_reply": "2020-09-29T01:01:21.579620Z"
    }
   },
   "outputs": [],
   "source": [
    "def NDVI(dataset):\n",
    "    return (dataset.nir - dataset.red)/(dataset.nir + dataset.red)"
   ]
  },
  {
   "cell_type": "code",
   "execution_count": 25,
   "metadata": {
    "execution": {
     "iopub.execute_input": "2020-09-29T01:01:21.583578Z",
     "iopub.status.busy": "2020-09-29T01:01:21.583166Z",
     "iopub.status.idle": "2020-09-29T01:01:21.963591Z",
     "shell.execute_reply": "2020-09-29T01:01:21.964050Z"
    }
   },
   "outputs": [],
   "source": [
    "ndvi_trend_product = trend.linear(NDVI(remove_clouds(landsat_dataset)))"
   ]
  },
  {
   "cell_type": "code",
   "execution_count": 26,
   "metadata": {
    "execution": {
     "iopub.execute_input": "2020-09-29T01:01:21.968103Z",
     "iopub.status.busy": "2020-09-29T01:01:21.967426Z",
     "iopub.status.idle": "2020-09-29T01:01:22.176548Z",
     "shell.execute_reply": "2020-09-29T01:01:22.176991Z"
    },
    "scrolled": true
   },
   "outputs": [
    {
     "data": {
      "text/plain": [
       "<matplotlib.collections.QuadMesh at 0x7f9a4a9410b8>"
      ]
     },
     "execution_count": 1,
     "metadata": {},
     "output_type": "execute_result"
    },
    {
     "data": {
      "image/png": "[encoded data removed]",
      "text/plain": [
       "<Figure size 432x288 with 2 Axes>"
      ]
     },
     "metadata": {
      "needs_background": "light"
     },
     "output_type": "display_data"
    }
   ],
   "source": [
    "(-ndvi_trend_product).plot()"
   ]
  }
 ],
 "metadata": {
  "kernelspec": {
   "display_name": "Python 3",
   "language": "python",
   "name": "python3"
  },
  "language_info": {
   "codemirror_mode": {
    "name": "ipython",
    "version": 3
   },
   "file_extension": ".py",
   "mimetype": "text/x-python",
   "name": "python",
   "nbconvert_exporter": "python",
   "pygments_lexer": "ipython3",
   "version": "3.6.9"
  }
 },
 "nbformat": 4,
 "nbformat_minor": 2
}
