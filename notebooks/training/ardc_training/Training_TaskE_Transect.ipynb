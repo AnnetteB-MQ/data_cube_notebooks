{
 "cells": [
  {
   "cell_type": "code",
   "execution_count": 1,
   "metadata": {
    "execution": {
     "iopub.execute_input": "2020-09-29T01:01:24.272589Z",
     "iopub.status.busy": "2020-09-29T01:01:24.272084Z",
     "iopub.status.idle": "2020-09-29T01:01:24.273870Z",
     "shell.execute_reply": "2020-09-29T01:01:24.274292Z"
    }
   },
   "outputs": [],
   "source": [
    "# Enable importing of utilities.\n",
    "import sys\n",
    "import os\n",
    "sys.path.append(os.environ.get('NOTEBOOK_ROOT'))"
   ]
  },
  {
   "cell_type": "markdown",
   "metadata": {},
   "source": [
    "# ARDC Training: Python Notebooks\n",
    "Task-E: This notebook will demonstrate 2D transect analyses and 3D Hovmoller plots. We will run these for NDVI (land) and TSM (water quality) to show the spatial and temporal variation of data along a line (transect) for a given time slice and for the entire time series. "
   ]
  },
  {
   "cell_type": "markdown",
   "metadata": {},
   "source": [
    "> ### Import the Datacube Configuration"
   ]
  },
  {
   "cell_type": "code",
   "execution_count": 2,
   "metadata": {
    "execution": {
     "iopub.execute_input": "2020-09-29T01:01:24.277857Z",
     "iopub.status.busy": "2020-09-29T01:01:24.277163Z",
     "iopub.status.idle": "2020-09-29T01:01:25.560232Z",
     "shell.execute_reply": "2020-09-29T01:01:25.560707Z"
    }
   },
   "outputs": [],
   "source": [
    "import datacube\n",
    "import utils.data_cube_utilities.data_access_api as dc_api  \n",
    "api = dc_api.DataAccessApi()\n",
    "dc = api.dc"
   ]
  },
  {
   "cell_type": "markdown",
   "metadata": {},
   "source": [
    ">### Browse the available Data Cubes   "
   ]
  },
  {
   "cell_type": "code",
   "execution_count": 3,
   "metadata": {
    "execution": {
     "iopub.execute_input": "2020-09-29T01:01:25.564608Z",
     "iopub.status.busy": "2020-09-29T01:01:25.564169Z",
     "iopub.status.idle": "2020-09-29T01:01:25.612154Z",
     "shell.execute_reply": "2020-09-29T01:01:25.612596Z"
    }
   },
   "outputs": [
    {
     "data": {
      "text/html": [
       "<div>\n",
       "<style scoped>\n",
       "    .dataframe tbody tr th:only-of-type {\n",
       "        vertical-align: middle;\n",
       "    }\n",
       "\n",
       "    .dataframe tbody tr th {\n",
       "        vertical-align: top;\n",
       "    }\n",
       "\n",
       "    .dataframe thead th {\n",
       "        text-align: right;\n",
       "    }\n",
       "</style>\n",
       "<table border=\"1\" class=\"dataframe\">\n",
       "  <thead>\n",
       "    <tr style=\"text-align: right;\">\n",
       "      <th></th>\n",
       "      <th>name</th>\n",
       "      <th>description</th>\n",
       "      <th>time</th>\n",
       "      <th>lon</th>\n",
       "      <th>format</th>\n",
       "      <th>platform</th>\n",
       "      <th>lat</th>\n",
       "      <th>instrument</th>\n",
       "      <th>label</th>\n",
       "      <th>product_type</th>\n",
       "      <th>creation_time</th>\n",
       "      <th>crs</th>\n",
       "      <th>resolution</th>\n",
       "      <th>tile_size</th>\n",
       "      <th>spatial_dimensions</th>\n",
       "    </tr>\n",
       "    <tr>\n",
       "      <th>id</th>\n",
       "      <th></th>\n",
       "      <th></th>\n",
       "      <th></th>\n",
       "      <th></th>\n",
       "      <th></th>\n",
       "      <th></th>\n",
       "      <th></th>\n",
       "      <th></th>\n",
       "      <th></th>\n",
       "      <th></th>\n",
       "      <th></th>\n",
       "      <th></th>\n",
       "      <th></th>\n",
       "      <th></th>\n",
       "      <th></th>\n",
       "    </tr>\n",
       "  </thead>\n",
       "  <tbody>\n",
       "    <tr>\n",
       "      <th>13</th>\n",
       "      <td>ls7_ledaps_ghana</td>\n",
       "      <td>Landsat 7 USGS Collection 1 Higher Level SR sc...</td>\n",
       "      <td>None</td>\n",
       "      <td>None</td>\n",
       "      <td>NetCDF</td>\n",
       "      <td>LANDSAT_7</td>\n",
       "      <td>None</td>\n",
       "      <td>ETM</td>\n",
       "      <td>None</td>\n",
       "      <td>LEDAPS</td>\n",
       "      <td>None</td>\n",
       "      <td>EPSG:4326</td>\n",
       "      <td>(-0.000269494585236, 0.000269494585236)</td>\n",
       "      <td>(0.943231048326, 0.943231048326)</td>\n",
       "      <td>(latitude, longitude)</td>\n",
       "    </tr>\n",
       "    <tr>\n",
       "      <th>17</th>\n",
       "      <td>ls7_ledaps_kenya</td>\n",
       "      <td>Landsat 7 USGS Collection 1 Higher Level SR sc...</td>\n",
       "      <td>None</td>\n",
       "      <td>None</td>\n",
       "      <td>NetCDF</td>\n",
       "      <td>LANDSAT_7</td>\n",
       "      <td>None</td>\n",
       "      <td>ETM</td>\n",
       "      <td>None</td>\n",
       "      <td>LEDAPS</td>\n",
       "      <td>None</td>\n",
       "      <td>EPSG:4326</td>\n",
       "      <td>(-0.000269493, 0.000269493)</td>\n",
       "      <td>(0.99981903, 0.99981903)</td>\n",
       "      <td>(latitude, longitude)</td>\n",
       "    </tr>\n",
       "    <tr>\n",
       "      <th>18</th>\n",
       "      <td>ls7_ledaps_senegal</td>\n",
       "      <td>Landsat 7 USGS Collection 1 Higher Level SR sc...</td>\n",
       "      <td>None</td>\n",
       "      <td>None</td>\n",
       "      <td>NetCDF</td>\n",
       "      <td>LANDSAT_7</td>\n",
       "      <td>None</td>\n",
       "      <td>ETM</td>\n",
       "      <td>None</td>\n",
       "      <td>LEDAPS</td>\n",
       "      <td>None</td>\n",
       "      <td>EPSG:4326</td>\n",
       "      <td>(-0.000271152, 0.00027769)</td>\n",
       "      <td>(0.813456, 0.83307)</td>\n",
       "      <td>(latitude, longitude)</td>\n",
       "    </tr>\n",
       "    <tr>\n",
       "      <th>16</th>\n",
       "      <td>ls7_ledaps_sierra_leone</td>\n",
       "      <td>Landsat 7 USGS Collection 1 Higher Level SR sc...</td>\n",
       "      <td>None</td>\n",
       "      <td>None</td>\n",
       "      <td>NetCDF</td>\n",
       "      <td>LANDSAT_7</td>\n",
       "      <td>None</td>\n",
       "      <td>ETM</td>\n",
       "      <td>None</td>\n",
       "      <td>LEDAPS</td>\n",
       "      <td>None</td>\n",
       "      <td>EPSG:4326</td>\n",
       "      <td>(-0.000269494585236, 0.000269494585236)</td>\n",
       "      <td>(0.943231048326, 0.943231048326)</td>\n",
       "      <td>(latitude, longitude)</td>\n",
       "    </tr>\n",
       "    <tr>\n",
       "      <th>19</th>\n",
       "      <td>ls7_ledaps_tanzania</td>\n",
       "      <td>Landsat 7 USGS Collection 1 Higher Level SR sc...</td>\n",
       "      <td>None</td>\n",
       "      <td>None</td>\n",
       "      <td>NetCDF</td>\n",
       "      <td>LANDSAT_7</td>\n",
       "      <td>None</td>\n",
       "      <td>ETM</td>\n",
       "      <td>None</td>\n",
       "      <td>LEDAPS</td>\n",
       "      <td>None</td>\n",
       "      <td>EPSG:4326</td>\n",
       "      <td>(-0.000271277688070265, 0.000271139577954979)</td>\n",
       "      <td>(0.999929558226998, 0.999962763497961)</td>\n",
       "      <td>(latitude, longitude)</td>\n",
       "    </tr>\n",
       "    <tr>\n",
       "      <th>31</th>\n",
       "      <td>ls7_ledaps_vietnam</td>\n",
       "      <td>Landsat 7 USGS Collection 1 Higher Level SR sc...</td>\n",
       "      <td>None</td>\n",
       "      <td>None</td>\n",
       "      <td>NetCDF</td>\n",
       "      <td>LANDSAT_7</td>\n",
       "      <td>None</td>\n",
       "      <td>ETM</td>\n",
       "      <td>None</td>\n",
       "      <td>LEDAPS</td>\n",
       "      <td>None</td>\n",
       "      <td>EPSG:4326</td>\n",
       "      <td>(-0.000269494585236, 0.000269494585236)</td>\n",
       "      <td>(0.943231048326, 0.943231048326)</td>\n",
       "      <td>(latitude, longitude)</td>\n",
       "    </tr>\n",
       "    <tr>\n",
       "      <th>9</th>\n",
       "      <td>ls8_lasrc_ghana</td>\n",
       "      <td>Landsat 8 USGS Collection 1 Higher Level SR sc...</td>\n",
       "      <td>None</td>\n",
       "      <td>None</td>\n",
       "      <td>NetCDF</td>\n",
       "      <td>LANDSAT_8</td>\n",
       "      <td>None</td>\n",
       "      <td>OLI_TIRS</td>\n",
       "      <td>None</td>\n",
       "      <td>LaSRC</td>\n",
       "      <td>None</td>\n",
       "      <td>EPSG:4326</td>\n",
       "      <td>(-0.000269494585236, 0.000269494585236)</td>\n",
       "      <td>(0.943231048326, 0.943231048326)</td>\n",
       "      <td>(latitude, longitude)</td>\n",
       "    </tr>\n",
       "    <tr>\n",
       "      <th>10</th>\n",
       "      <td>ls8_lasrc_kenya</td>\n",
       "      <td>Landsat 8 USGS Collection 1 Higher Level SR sc...</td>\n",
       "      <td>None</td>\n",
       "      <td>None</td>\n",
       "      <td>NetCDF</td>\n",
       "      <td>LANDSAT_8</td>\n",
       "      <td>None</td>\n",
       "      <td>OLI_TIRS</td>\n",
       "      <td>None</td>\n",
       "      <td>LaSRC</td>\n",
       "      <td>None</td>\n",
       "      <td>EPSG:4326</td>\n",
       "      <td>(-0.000271309115317046, 0.00026957992707863)</td>\n",
       "      <td>(0.999502780827996, 0.999602369607559)</td>\n",
       "      <td>(latitude, longitude)</td>\n",
       "    </tr>\n",
       "    <tr>\n",
       "      <th>11</th>\n",
       "      <td>ls8_lasrc_senegal</td>\n",
       "      <td>Landsat 8 USGS Collection 1 Higher Level SR sc...</td>\n",
       "      <td>None</td>\n",
       "      <td>None</td>\n",
       "      <td>NetCDF</td>\n",
       "      <td>LANDSAT_8</td>\n",
       "      <td>None</td>\n",
       "      <td>OLI_TIRS</td>\n",
       "      <td>None</td>\n",
       "      <td>LaSRC</td>\n",
       "      <td>None</td>\n",
       "      <td>EPSG:4326</td>\n",
       "      <td>(-0.000271152, 0.00027769)</td>\n",
       "      <td>(0.813456, 0.83307)</td>\n",
       "      <td>(latitude, longitude)</td>\n",
       "    </tr>\n",
       "    <tr>\n",
       "      <th>8</th>\n",
       "      <td>ls8_lasrc_sierra_leone</td>\n",
       "      <td>Landsat 8 USGS Collection 1 Higher Level SR sc...</td>\n",
       "      <td>None</td>\n",
       "      <td>None</td>\n",
       "      <td>NetCDF</td>\n",
       "      <td>LANDSAT_8</td>\n",
       "      <td>None</td>\n",
       "      <td>OLI_TIRS</td>\n",
       "      <td>None</td>\n",
       "      <td>LaSRC</td>\n",
       "      <td>None</td>\n",
       "      <td>EPSG:4326</td>\n",
       "      <td>(-0.000269494585236, 0.000269494585236)</td>\n",
       "      <td>(0.943231048326, 0.943231048326)</td>\n",
       "      <td>(latitude, longitude)</td>\n",
       "    </tr>\n",
       "    <tr>\n",
       "      <th>15</th>\n",
       "      <td>ls8_lasrc_tanzania</td>\n",
       "      <td>Landsat 8 USGS Collection 1 Higher Level SR sc...</td>\n",
       "      <td>None</td>\n",
       "      <td>None</td>\n",
       "      <td>NetCDF</td>\n",
       "      <td>LANDSAT_8</td>\n",
       "      <td>None</td>\n",
       "      <td>OLI_TIRS</td>\n",
       "      <td>None</td>\n",
       "      <td>LaSRC</td>\n",
       "      <td>None</td>\n",
       "      <td>EPSG:4326</td>\n",
       "      <td>(-0.000271277688070265, 0.000271139577954979)</td>\n",
       "      <td>(0.999929558226998, 0.999962763497961)</td>\n",
       "      <td>(latitude, longitude)</td>\n",
       "    </tr>\n",
       "    <tr>\n",
       "      <th>25</th>\n",
       "      <td>s1g_gamma0_geneva</td>\n",
       "      <td>Sentinel-1A/B SAR Gamma0, processed to the GEE...</td>\n",
       "      <td>None</td>\n",
       "      <td>None</td>\n",
       "      <td>NetCDF</td>\n",
       "      <td>SENTINEL_1</td>\n",
       "      <td>None</td>\n",
       "      <td>SAR</td>\n",
       "      <td>None</td>\n",
       "      <td>gamma0</td>\n",
       "      <td>None</td>\n",
       "      <td>EPSG:4326</td>\n",
       "      <td>(-0.000269493, 0.000269493)</td>\n",
       "      <td>(0.99981903, 0.99981903)</td>\n",
       "      <td>(latitude, longitude)</td>\n",
       "    </tr>\n",
       "    <tr>\n",
       "      <th>21</th>\n",
       "      <td>s1monthly_gamma0_ghana</td>\n",
       "      <td>Sentinel-1A/B SAR Gamma0, processed to the Yea...</td>\n",
       "      <td>None</td>\n",
       "      <td>None</td>\n",
       "      <td>NetCDF</td>\n",
       "      <td>SENTINEL1</td>\n",
       "      <td>None</td>\n",
       "      <td>SAR</td>\n",
       "      <td>None</td>\n",
       "      <td>gamma_0</td>\n",
       "      <td>None</td>\n",
       "      <td>EPSG:4326</td>\n",
       "      <td>(-0.000180668, 0.000180668)</td>\n",
       "      <td>(0.99999738, 0.99999738)</td>\n",
       "      <td>(latitude, longitude)</td>\n",
       "    </tr>\n",
       "  </tbody>\n",
       "</table>\n",
       "</div>"
      ],
      "text/plain": [
       "                       name  \\\n",
       "id                            \n",
       "13         ls7_ledaps_ghana   \n",
       "17         ls7_ledaps_kenya   \n",
       "18       ls7_ledaps_senegal   \n",
       "16  ls7_ledaps_sierra_leone   \n",
       "19      ls7_ledaps_tanzania   \n",
       "31       ls7_ledaps_vietnam   \n",
       "9           ls8_lasrc_ghana   \n",
       "10          ls8_lasrc_kenya   \n",
       "11        ls8_lasrc_senegal   \n",
       "8    ls8_lasrc_sierra_leone   \n",
       "15       ls8_lasrc_tanzania   \n",
       "25        s1g_gamma0_geneva   \n",
       "21   s1monthly_gamma0_ghana   \n",
       "\n",
       "                                          description  time   lon  format  \\\n",
       "id                                                                          \n",
       "13  Landsat 7 USGS Collection 1 Higher Level SR sc...  None  None  NetCDF   \n",
       "17  Landsat 7 USGS Collection 1 Higher Level SR sc...  None  None  NetCDF   \n",
       "18  Landsat 7 USGS Collection 1 Higher Level SR sc...  None  None  NetCDF   \n",
       "16  Landsat 7 USGS Collection 1 Higher Level SR sc...  None  None  NetCDF   \n",
       "19  Landsat 7 USGS Collection 1 Higher Level SR sc...  None  None  NetCDF   \n",
       "31  Landsat 7 USGS Collection 1 Higher Level SR sc...  None  None  NetCDF   \n",
       "9   Landsat 8 USGS Collection 1 Higher Level SR sc...  None  None  NetCDF   \n",
       "10  Landsat 8 USGS Collection 1 Higher Level SR sc...  None  None  NetCDF   \n",
       "11  Landsat 8 USGS Collection 1 Higher Level SR sc...  None  None  NetCDF   \n",
       "8   Landsat 8 USGS Collection 1 Higher Level SR sc...  None  None  NetCDF   \n",
       "15  Landsat 8 USGS Collection 1 Higher Level SR sc...  None  None  NetCDF   \n",
       "25  Sentinel-1A/B SAR Gamma0, processed to the GEE...  None  None  NetCDF   \n",
       "21  Sentinel-1A/B SAR Gamma0, processed to the Yea...  None  None  NetCDF   \n",
       "\n",
       "      platform   lat instrument label product_type creation_time        crs  \\\n",
       "id                                                                            \n",
       "13   LANDSAT_7  None        ETM  None       LEDAPS          None  EPSG:4326   \n",
       "17   LANDSAT_7  None        ETM  None       LEDAPS          None  EPSG:4326   \n",
       "18   LANDSAT_7  None        ETM  None       LEDAPS          None  EPSG:4326   \n",
       "16   LANDSAT_7  None        ETM  None       LEDAPS          None  EPSG:4326   \n",
       "19   LANDSAT_7  None        ETM  None       LEDAPS          None  EPSG:4326   \n",
       "31   LANDSAT_7  None        ETM  None       LEDAPS          None  EPSG:4326   \n",
       "9    LANDSAT_8  None   OLI_TIRS  None        LaSRC          None  EPSG:4326   \n",
       "10   LANDSAT_8  None   OLI_TIRS  None        LaSRC          None  EPSG:4326   \n",
       "11   LANDSAT_8  None   OLI_TIRS  None        LaSRC          None  EPSG:4326   \n",
       "8    LANDSAT_8  None   OLI_TIRS  None        LaSRC          None  EPSG:4326   \n",
       "15   LANDSAT_8  None   OLI_TIRS  None        LaSRC          None  EPSG:4326   \n",
       "25  SENTINEL_1  None        SAR  None       gamma0          None  EPSG:4326   \n",
       "21   SENTINEL1  None        SAR  None      gamma_0          None  EPSG:4326   \n",
       "\n",
       "                                       resolution  \\\n",
       "id                                                  \n",
       "13        (-0.000269494585236, 0.000269494585236)   \n",
       "17                    (-0.000269493, 0.000269493)   \n",
       "18                     (-0.000271152, 0.00027769)   \n",
       "16        (-0.000269494585236, 0.000269494585236)   \n",
       "19  (-0.000271277688070265, 0.000271139577954979)   \n",
       "31        (-0.000269494585236, 0.000269494585236)   \n",
       "9         (-0.000269494585236, 0.000269494585236)   \n",
       "10   (-0.000271309115317046, 0.00026957992707863)   \n",
       "11                     (-0.000271152, 0.00027769)   \n",
       "8         (-0.000269494585236, 0.000269494585236)   \n",
       "15  (-0.000271277688070265, 0.000271139577954979)   \n",
       "25                    (-0.000269493, 0.000269493)   \n",
       "21                    (-0.000180668, 0.000180668)   \n",
       "\n",
       "                                 tile_size     spatial_dimensions  \n",
       "id                                                                 \n",
       "13        (0.943231048326, 0.943231048326)  (latitude, longitude)  \n",
       "17                (0.99981903, 0.99981903)  (latitude, longitude)  \n",
       "18                     (0.813456, 0.83307)  (latitude, longitude)  \n",
       "16        (0.943231048326, 0.943231048326)  (latitude, longitude)  \n",
       "19  (0.999929558226998, 0.999962763497961)  (latitude, longitude)  \n",
       "31        (0.943231048326, 0.943231048326)  (latitude, longitude)  \n",
       "9         (0.943231048326, 0.943231048326)  (latitude, longitude)  \n",
       "10  (0.999502780827996, 0.999602369607559)  (latitude, longitude)  \n",
       "11                     (0.813456, 0.83307)  (latitude, longitude)  \n",
       "8         (0.943231048326, 0.943231048326)  (latitude, longitude)  \n",
       "15  (0.999929558226998, 0.999962763497961)  (latitude, longitude)  \n",
       "25                (0.99981903, 0.99981903)  (latitude, longitude)  \n",
       "21                (0.99999738, 0.99999738)  (latitude, longitude)  "
      ]
     },
     "execution_count": 1,
     "metadata": {},
     "output_type": "execute_result"
    }
   ],
   "source": [
    "list_of_products = dc.list_products()\n",
    "netCDF_products = list_of_products[list_of_products['format'] == 'NetCDF']\n",
    "netCDF_products"
   ]
  },
  {
   "cell_type": "markdown",
   "metadata": {},
   "source": [
    ">### Pick a product  \n",
    ">Use the platform and product names from the previous block to select a Data Cube.  "
   ]
  },
  {
   "cell_type": "code",
   "execution_count": 4,
   "metadata": {
    "execution": {
     "iopub.execute_input": "2020-09-29T01:01:25.615924Z",
     "iopub.status.busy": "2020-09-29T01:01:25.615415Z",
     "iopub.status.idle": "2020-09-29T01:01:25.617075Z",
     "shell.execute_reply": "2020-09-29T01:01:25.617489Z"
    }
   },
   "outputs": [],
   "source": [
    "# Change the data platform and data cube here\n",
    "\n",
    "platform = \"LANDSAT_7\"\n",
    "# platform = \"LANDSAT_8\"\n",
    "\n",
    "# product = \"ls7_ledaps_ghana\"\n",
    "# product = \"ls7_ledaps_kenya\"\n",
    "# product = \"ls7_ledaps_senegal\"\n",
    "# product = \"ls7_ledaps_sierra_leone\"\n",
    "# product = \"ls7_ledaps_tanzania\"\n",
    "product = \"ls7_ledaps_vietnam\""
   ]
  },
  {
   "cell_type": "markdown",
   "metadata": {},
   "source": [
    "> #### Display Latitude-Longitude and Time Bounds of the Data Cube"
   ]
  },
  {
   "cell_type": "code",
   "execution_count": 5,
   "metadata": {
    "execution": {
     "iopub.execute_input": "2020-09-29T01:01:25.622165Z",
     "iopub.status.busy": "2020-09-29T01:01:25.621746Z",
     "iopub.status.idle": "2020-09-29T01:01:27.792239Z",
     "shell.execute_reply": "2020-09-29T01:01:27.792715Z"
    }
   },
   "outputs": [
    {
     "name": "stdout",
     "output_type": "stream",
     "text": [
      "Latitude Extents: (9.176425374578418, 13.964805165051667)\n",
      "Longitude Extents: (102.40430421277932, 108.93092407802477)\n",
      "Time Extents: ['1999-09-08', '2016-12-29']\n"
     ]
    }
   ],
   "source": [
    "from utils.data_cube_utilities.dc_time import _n64_to_datetime, dt_to_str\n",
    "\n",
    "extents = api.get_full_dataset_extent(platform = platform, product = product, measurements=[])\n",
    "\n",
    "latitude_extents = (min(extents['latitude'].values),max(extents['latitude'].values))\n",
    "longitude_extents = (min(extents['longitude'].values),max(extents['longitude'].values))\n",
    "time_extents = (min(extents['time'].values),max(extents['time'].values))\n",
    "\n",
    "print(\"Latitude Extents:\", latitude_extents)\n",
    "print(\"Longitude Extents:\", longitude_extents)\n",
    "print(\"Time Extents:\", list(map(dt_to_str, map(_n64_to_datetime, time_extents))))"
   ]
  },
  {
   "cell_type": "markdown",
   "metadata": {},
   "source": [
    "# Visualize Data Cube Region"
   ]
  },
  {
   "cell_type": "code",
   "execution_count": 6,
   "metadata": {
    "execution": {
     "iopub.execute_input": "2020-09-29T01:01:27.796409Z",
     "iopub.status.busy": "2020-09-29T01:01:27.795724Z",
     "iopub.status.idle": "2020-09-29T01:01:27.970571Z",
     "shell.execute_reply": "2020-09-29T01:01:27.970084Z"
    }
   },
   "outputs": [
    {
     "data": {
      "text/html": [
       "<div style=\"width:100%;\"><div style=\"position:relative;width:100%;height:0;padding-bottom:60%;\"><span style=\"color:#565656\">Make this Notebook Trusted to load map: File -> Trust Notebook</span><iframe src=\"about:blank\" style=\"position:absolute;width:100%;height:100%;left:0;top:0;border:none !important;\" data-html=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 onload=\"this.contentDocument.open();this.contentDocument.write(atob(this.getAttribute('data-html')));this.contentDocument.close();\" allowfullscreen webkitallowfullscreen mozallowfullscreen></iframe></div></div>"
      ],
      "text/plain": [
       "<folium.folium.Map at 0x7efd5c7f6a20>"
      ]
     },
     "execution_count": 1,
     "metadata": {},
     "output_type": "execute_result"
    }
   ],
   "source": [
    "## The code below renders a map that can be used to orient yourself with the region.\n",
    "from utils.data_cube_utilities.dc_display_map import display_map\n",
    "display_map(latitude = latitude_extents, longitude = longitude_extents)"
   ]
  },
  {
   "cell_type": "markdown",
   "metadata": {},
   "source": [
    "> ### Pick a smaller analysis region and display that region\n",
    "Try to keep your region to less than 0.2-deg x 0.2-deg for rapid processing. You can click on the map above to find the Lat-Lon coordinates of any location. You will want to identify a region with an inland water body and some vegetation. Pick a time window of several years."
   ]
  },
  {
   "cell_type": "code",
   "execution_count": 7,
   "metadata": {
    "execution": {
     "iopub.execute_input": "2020-09-29T01:01:27.974225Z",
     "iopub.status.busy": "2020-09-29T01:01:27.973682Z",
     "iopub.status.idle": "2020-09-29T01:01:27.975834Z",
     "shell.execute_reply": "2020-09-29T01:01:27.975394Z"
    }
   },
   "outputs": [],
   "source": [
    "## Vietnam - Central Lam Dong Province ##\n",
    "longitude_extents = (107.0, 107.2)\n",
    "latitude_extents  = (11.7, 12.0)\n",
    "\n",
    "## Vietnam Ho Tri An Lake\n",
    "# longitude_extents = (107.0, 107.2)\n",
    "# latitude_extents  = (11.1, 11.3)\n",
    "\n",
    "time_extents = ('2005-01-01', '2005-12-31')"
   ]
  },
  {
   "cell_type": "code",
   "execution_count": 8,
   "metadata": {
    "execution": {
     "iopub.execute_input": "2020-09-29T01:01:27.979396Z",
     "iopub.status.busy": "2020-09-29T01:01:27.978979Z",
     "iopub.status.idle": "2020-09-29T01:01:27.986768Z",
     "shell.execute_reply": "2020-09-29T01:01:27.986333Z"
    },
    "scrolled": false
   },
   "outputs": [
    {
     "data": {
      "text/html": [
       "<div style=\"width:100%;\"><div style=\"position:relative;width:100%;height:0;padding-bottom:60%;\"><span style=\"color:#565656\">Make this Notebook Trusted to load map: File -> Trust Notebook</span><iframe src=\"about:blank\" style=\"position:absolute;width:100%;height:100%;left:0;top:0;border:none !important;\" data-html=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 onload=\"this.contentDocument.open();this.contentDocument.write(atob(this.getAttribute('data-html')));this.contentDocument.close();\" allowfullscreen webkitallowfullscreen mozallowfullscreen></iframe></div></div>"
      ],
      "text/plain": [
       "<folium.folium.Map at 0x7efd4df8fcf8>"
      ]
     },
     "execution_count": 1,
     "metadata": {},
     "output_type": "execute_result"
    }
   ],
   "source": [
    "display_map(latitude = latitude_extents, longitude = longitude_extents)"
   ]
  },
  {
   "cell_type": "markdown",
   "metadata": {},
   "source": [
    "## Load the dataset and the required spectral bands or other parameters\n",
    "After loading, you will view the Xarray dataset. Notice the dimensions represent the number of pixels in your latitude and longitude dimension as well as the number of time slices (time) in your time series."
   ]
  },
  {
   "cell_type": "code",
   "execution_count": 9,
   "metadata": {
    "execution": {
     "iopub.execute_input": "2020-09-29T01:01:27.991131Z",
     "iopub.status.busy": "2020-09-29T01:01:27.990468Z",
     "iopub.status.idle": "2020-09-29T01:01:32.939941Z",
     "shell.execute_reply": "2020-09-29T01:01:32.940403Z"
    }
   },
   "outputs": [],
   "source": [
    "landsat_dataset = dc.load(latitude = latitude_extents,\n",
    "                          longitude = longitude_extents,\n",
    "                          platform = platform,\n",
    "                          time = time_extents,\n",
    "                          product = product,\n",
    "                          measurements = ['red', 'green', 'blue', 'nir', 'swir1', 'swir2', 'pixel_qa']) "
   ]
  },
  {
   "cell_type": "code",
   "execution_count": 10,
   "metadata": {
    "execution": {
     "iopub.execute_input": "2020-09-29T01:01:32.965785Z",
     "iopub.status.busy": "2020-09-29T01:01:32.958130Z",
     "iopub.status.idle": "2020-09-29T01:01:32.979520Z",
     "shell.execute_reply": "2020-09-29T01:01:32.980312Z"
    }
   },
   "outputs": [
    {
     "data": {
      "text/html": [
       "<div><svg style=\"position: absolute; width: 0; height: 0; overflow: hidden\">\n",
       "<defs>\n",
       "<symbol id=\"icon-database\" viewBox=\"0 0 32 32\">\n",
       "<path d=\"M16 0c-8.837 0-16 2.239-16 5v4c0 2.761 7.163 5 16 5s16-2.239 16-5v-4c0-2.761-7.163-5-16-5z\"></path>\n",
       "<path d=\"M16 17c-8.837 0-16-2.239-16-5v6c0 2.761 7.163 5 16 5s16-2.239 16-5v-6c0 2.761-7.163 5-16 5z\"></path>\n",
       "<path d=\"M16 26c-8.837 0-16-2.239-16-5v6c0 2.761 7.163 5 16 5s16-2.239 16-5v-6c0 2.761-7.163 5-16 5z\"></path>\n",
       "</symbol>\n",
       "<symbol id=\"icon-file-text2\" viewBox=\"0 0 32 32\">\n",
       "<path d=\"M28.681 7.159c-0.694-0.947-1.662-2.053-2.724-3.116s-2.169-2.030-3.116-2.724c-1.612-1.182-2.393-1.319-2.841-1.319h-15.5c-1.378 0-2.5 1.121-2.5 2.5v27c0 1.378 1.122 2.5 2.5 2.5h23c1.378 0 2.5-1.122 2.5-2.5v-19.5c0-0.448-0.137-1.23-1.319-2.841zM24.543 5.457c0.959 0.959 1.712 1.825 2.268 2.543h-4.811v-4.811c0.718 0.556 1.584 1.309 2.543 2.268zM28 29.5c0 0.271-0.229 0.5-0.5 0.5h-23c-0.271 0-0.5-0.229-0.5-0.5v-27c0-0.271 0.229-0.5 0.5-0.5 0 0 15.499-0 15.5 0v7c0 0.552 0.448 1 1 1h7v19.5z\"></path>\n",
       "<path d=\"M23 26h-14c-0.552 0-1-0.448-1-1s0.448-1 1-1h14c0.552 0 1 0.448 1 1s-0.448 1-1 1z\"></path>\n",
       "<path d=\"M23 22h-14c-0.552 0-1-0.448-1-1s0.448-1 1-1h14c0.552 0 1 0.448 1 1s-0.448 1-1 1z\"></path>\n",
       "<path d=\"M23 18h-14c-0.552 0-1-0.448-1-1s0.448-1 1-1h14c0.552 0 1 0.448 1 1s-0.448 1-1 1z\"></path>\n",
       "</symbol>\n",
       "</defs>\n",
       "</svg>\n",
       "<style>/* CSS stylesheet for displaying xarray objects in jupyterlab.\n",
       " *\n",
       " */\n",
       "\n",
       ":root {\n",
       "  --xr-font-color0: var(--jp-content-font-color0, rgba(0, 0, 0, 1));\n",
       "  --xr-font-color2: var(--jp-content-font-color2, rgba(0, 0, 0, 0.54));\n",
       "  --xr-font-color3: var(--jp-content-font-color3, rgba(0, 0, 0, 0.38));\n",
       "  --xr-border-color: var(--jp-border-color2, #e0e0e0);\n",
       "  --xr-disabled-color: var(--jp-layout-color3, #bdbdbd);\n",
       "  --xr-background-color: var(--jp-layout-color0, white);\n",
       "  --xr-background-color-row-even: var(--jp-layout-color1, white);\n",
       "  --xr-background-color-row-odd: var(--jp-layout-color2, #eeeeee);\n",
       "}\n",
       "\n",
       "html[theme=dark],\n",
       "body.vscode-dark {\n",
       "  --xr-font-color0: rgba(255, 255, 255, 1);\n",
       "  --xr-font-color2: rgba(255, 255, 255, 0.54);\n",
       "  --xr-font-color3: rgba(255, 255, 255, 0.38);\n",
       "  --xr-border-color: #1F1F1F;\n",
       "  --xr-disabled-color: #515151;\n",
       "  --xr-background-color: #111111;\n",
       "  --xr-background-color-row-even: #111111;\n",
       "  --xr-background-color-row-odd: #313131;\n",
       "}\n",
       "\n",
       ".xr-wrap {\n",
       "  display: block;\n",
       "  min-width: 300px;\n",
       "  max-width: 700px;\n",
       "}\n",
       "\n",
       ".xr-text-repr-fallback {\n",
       "  /* fallback to plain text repr when CSS is not injected (untrusted notebook) */\n",
       "  display: none;\n",
       "}\n",
       "\n",
       ".xr-header {\n",
       "  padding-top: 6px;\n",
       "  padding-bottom: 6px;\n",
       "  margin-bottom: 4px;\n",
       "  border-bottom: solid 1px var(--xr-border-color);\n",
       "}\n",
       "\n",
       ".xr-header > div,\n",
       ".xr-header > ul {\n",
       "  display: inline;\n",
       "  margin-top: 0;\n",
       "  margin-bottom: 0;\n",
       "}\n",
       "\n",
       ".xr-obj-type,\n",
       ".xr-array-name {\n",
       "  margin-left: 2px;\n",
       "  margin-right: 10px;\n",
       "}\n",
       "\n",
       ".xr-obj-type {\n",
       "  color: var(--xr-font-color2);\n",
       "}\n",
       "\n",
       ".xr-sections {\n",
       "  padding-left: 0 !important;\n",
       "  display: grid;\n",
       "  grid-template-columns: 150px auto auto 1fr 20px 20px;\n",
       "}\n",
       "\n",
       ".xr-section-item {\n",
       "  display: contents;\n",
       "}\n",
       "\n",
       ".xr-section-item input {\n",
       "  display: none;\n",
       "}\n",
       "\n",
       ".xr-section-item input + label {\n",
       "  color: var(--xr-disabled-color);\n",
       "}\n",
       "\n",
       ".xr-section-item input:enabled + label {\n",
       "  cursor: pointer;\n",
       "  color: var(--xr-font-color2);\n",
       "}\n",
       "\n",
       ".xr-section-item input:enabled + label:hover {\n",
       "  color: var(--xr-font-color0);\n",
       "}\n",
       "\n",
       ".xr-section-summary {\n",
       "  grid-column: 1;\n",
       "  color: var(--xr-font-color2);\n",
       "  font-weight: 500;\n",
       "}\n",
       "\n",
       ".xr-section-summary > span {\n",
       "  display: inline-block;\n",
       "  padding-left: 0.5em;\n",
       "}\n",
       "\n",
       ".xr-section-summary-in:disabled + label {\n",
       "  color: var(--xr-font-color2);\n",
       "}\n",
       "\n",
       ".xr-section-summary-in + label:before {\n",
       "  display: inline-block;\n",
       "  content: '►';\n",
       "  font-size: 11px;\n",
       "  width: 15px;\n",
       "  text-align: center;\n",
       "}\n",
       "\n",
       ".xr-section-summary-in:disabled + label:before {\n",
       "  color: var(--xr-disabled-color);\n",
       "}\n",
       "\n",
       ".xr-section-summary-in:checked + label:before {\n",
       "  content: '▼';\n",
       "}\n",
       "\n",
       ".xr-section-summary-in:checked + label > span {\n",
       "  display: none;\n",
       "}\n",
       "\n",
       ".xr-section-summary,\n",
       ".xr-section-inline-details {\n",
       "  padding-top: 4px;\n",
       "  padding-bottom: 4px;\n",
       "}\n",
       "\n",
       ".xr-section-inline-details {\n",
       "  grid-column: 2 / -1;\n",
       "}\n",
       "\n",
       ".xr-section-details {\n",
       "  display: none;\n",
       "  grid-column: 1 / -1;\n",
       "  margin-bottom: 5px;\n",
       "}\n",
       "\n",
       ".xr-section-summary-in:checked ~ .xr-section-details {\n",
       "  display: contents;\n",
       "}\n",
       "\n",
       ".xr-array-wrap {\n",
       "  grid-column: 1 / -1;\n",
       "  display: grid;\n",
       "  grid-template-columns: 20px auto;\n",
       "}\n",
       "\n",
       ".xr-array-wrap > label {\n",
       "  grid-column: 1;\n",
       "  vertical-align: top;\n",
       "}\n",
       "\n",
       ".xr-preview {\n",
       "  color: var(--xr-font-color3);\n",
       "}\n",
       "\n",
       ".xr-array-preview,\n",
       ".xr-array-data {\n",
       "  padding: 0 5px !important;\n",
       "  grid-column: 2;\n",
       "}\n",
       "\n",
       ".xr-array-data,\n",
       ".xr-array-in:checked ~ .xr-array-preview {\n",
       "  display: none;\n",
       "}\n",
       "\n",
       ".xr-array-in:checked ~ .xr-array-data,\n",
       ".xr-array-preview {\n",
       "  display: inline-block;\n",
       "}\n",
       "\n",
       ".xr-dim-list {\n",
       "  display: inline-block !important;\n",
       "  list-style: none;\n",
       "  padding: 0 !important;\n",
       "  margin: 0;\n",
       "}\n",
       "\n",
       ".xr-dim-list li {\n",
       "  display: inline-block;\n",
       "  padding: 0;\n",
       "  margin: 0;\n",
       "}\n",
       "\n",
       ".xr-dim-list:before {\n",
       "  content: '(';\n",
       "}\n",
       "\n",
       ".xr-dim-list:after {\n",
       "  content: ')';\n",
       "}\n",
       "\n",
       ".xr-dim-list li:not(:last-child):after {\n",
       "  content: ',';\n",
       "  padding-right: 5px;\n",
       "}\n",
       "\n",
       ".xr-has-index {\n",
       "  font-weight: bold;\n",
       "}\n",
       "\n",
       ".xr-var-list,\n",
       ".xr-var-item {\n",
       "  display: contents;\n",
       "}\n",
       "\n",
       ".xr-var-item > div,\n",
       ".xr-var-item label,\n",
       ".xr-var-item > .xr-var-name span {\n",
       "  background-color: var(--xr-background-color-row-even);\n",
       "  margin-bottom: 0;\n",
       "}\n",
       "\n",
       ".xr-var-item > .xr-var-name:hover span {\n",
       "  padding-right: 5px;\n",
       "}\n",
       "\n",
       ".xr-var-list > li:nth-child(odd) > div,\n",
       ".xr-var-list > li:nth-child(odd) > label,\n",
       ".xr-var-list > li:nth-child(odd) > .xr-var-name span {\n",
       "  background-color: var(--xr-background-color-row-odd);\n",
       "}\n",
       "\n",
       ".xr-var-name {\n",
       "  grid-column: 1;\n",
       "}\n",
       "\n",
       ".xr-var-dims {\n",
       "  grid-column: 2;\n",
       "}\n",
       "\n",
       ".xr-var-dtype {\n",
       "  grid-column: 3;\n",
       "  text-align: right;\n",
       "  color: var(--xr-font-color2);\n",
       "}\n",
       "\n",
       ".xr-var-preview {\n",
       "  grid-column: 4;\n",
       "}\n",
       "\n",
       ".xr-var-name,\n",
       ".xr-var-dims,\n",
       ".xr-var-dtype,\n",
       ".xr-preview,\n",
       ".xr-attrs dt {\n",
       "  white-space: nowrap;\n",
       "  overflow: hidden;\n",
       "  text-overflow: ellipsis;\n",
       "  padding-right: 10px;\n",
       "}\n",
       "\n",
       ".xr-var-name:hover,\n",
       ".xr-var-dims:hover,\n",
       ".xr-var-dtype:hover,\n",
       ".xr-attrs dt:hover {\n",
       "  overflow: visible;\n",
       "  width: auto;\n",
       "  z-index: 1;\n",
       "}\n",
       "\n",
       ".xr-var-attrs,\n",
       ".xr-var-data {\n",
       "  display: none;\n",
       "  background-color: var(--xr-background-color) !important;\n",
       "  padding-bottom: 5px !important;\n",
       "}\n",
       "\n",
       ".xr-var-attrs-in:checked ~ .xr-var-attrs,\n",
       ".xr-var-data-in:checked ~ .xr-var-data {\n",
       "  display: block;\n",
       "}\n",
       "\n",
       ".xr-var-data > table {\n",
       "  float: right;\n",
       "}\n",
       "\n",
       ".xr-var-name span,\n",
       ".xr-var-data,\n",
       ".xr-attrs {\n",
       "  padding-left: 25px !important;\n",
       "}\n",
       "\n",
       ".xr-attrs,\n",
       ".xr-var-attrs,\n",
       ".xr-var-data {\n",
       "  grid-column: 1 / -1;\n",
       "}\n",
       "\n",
       "dl.xr-attrs {\n",
       "  padding: 0;\n",
       "  margin: 0;\n",
       "  display: grid;\n",
       "  grid-template-columns: 125px auto;\n",
       "}\n",
       "\n",
       ".xr-attrs dt, dd {\n",
       "  padding: 0;\n",
       "  margin: 0;\n",
       "  float: left;\n",
       "  padding-right: 10px;\n",
       "  width: auto;\n",
       "}\n",
       "\n",
       ".xr-attrs dt {\n",
       "  font-weight: normal;\n",
       "  grid-column: 1;\n",
       "}\n",
       "\n",
       ".xr-attrs dt:hover span {\n",
       "  display: inline-block;\n",
       "  background: var(--xr-background-color);\n",
       "  padding-right: 10px;\n",
       "}\n",
       "\n",
       ".xr-attrs dd {\n",
       "  grid-column: 2;\n",
       "  white-space: pre-wrap;\n",
       "  word-break: break-all;\n",
       "}\n",
       "\n",
       ".xr-icon-database,\n",
       ".xr-icon-file-text2 {\n",
       "  display: inline-block;\n",
       "  vertical-align: middle;\n",
       "  width: 1em;\n",
       "  height: 1.5em !important;\n",
       "  stroke-width: 0;\n",
       "  stroke: currentColor;\n",
       "  fill: currentColor;\n",
       "}\n",
       "</style><pre class='xr-text-repr-fallback'>&lt;xarray.Dataset&gt;\n",
       "Dimensions:      (latitude: 1114, longitude: 743, time: 13)\n",
       "Coordinates:\n",
       "  * time         (time) datetime64[ns] 2005-01-13T02:57:03 ... 2005-12-31T02:...\n",
       "  * latitude     (latitude) float64 12.0 12.0 12.0 12.0 ... 11.7 11.7 11.7 11.7\n",
       "  * longitude    (longitude) float64 107.0 107.0 107.0 ... 107.2 107.2 107.2\n",
       "    spatial_ref  int32 4326\n",
       "Data variables:\n",
       "    red          (time, latitude, longitude) int16 -9999 -9999 -9999 ... 457 517\n",
       "    green        (time, latitude, longitude) int16 -9999 -9999 -9999 ... 500 500\n",
       "    blue         (time, latitude, longitude) int16 -9999 -9999 -9999 ... 296 316\n",
       "    nir          (time, latitude, longitude) int16 -9999 -9999 ... 2713 2356\n",
       "    swir1        (time, latitude, longitude) int16 -9999 -9999 ... 1632 1552\n",
       "    swir2        (time, latitude, longitude) int16 -9999 -9999 -9999 ... 796 738\n",
       "    pixel_qa     (time, latitude, longitude) int32 1 1 1 1 1 ... 66 66 66 66 66\n",
       "Attributes:\n",
       "    crs:           EPSG:4326\n",
       "    grid_mapping:  spatial_ref</pre><div class='xr-wrap' hidden><div class='xr-header'><div class='xr-obj-type'>xarray.Dataset</div></div><ul class='xr-sections'><li class='xr-section-item'><input id='section-0f6b74bf-99ca-4e36-834f-a4ce0803494c' class='xr-section-summary-in' type='checkbox' disabled ><label for='section-0f6b74bf-99ca-4e36-834f-a4ce0803494c' class='xr-section-summary'  title='Expand/collapse section'>Dimensions:</label><div class='xr-section-inline-details'><ul class='xr-dim-list'><li><span class='xr-has-index'>latitude</span>: 1114</li><li><span class='xr-has-index'>longitude</span>: 743</li><li><span class='xr-has-index'>time</span>: 13</li></ul></div><div class='xr-section-details'></div></li><li class='xr-section-item'><input id='section-253e6c6b-9571-4e83-a472-a437a0decc58' class='xr-section-summary-in' type='checkbox'  checked><label for='section-253e6c6b-9571-4e83-a472-a437a0decc58' class='xr-section-summary' >Coordinates: <span>(4)</span></label><div class='xr-section-inline-details'></div><div class='xr-section-details'><ul class='xr-var-list'><li class='xr-var-item'><div class='xr-var-name'><span class='xr-has-index'>time</span></div><div class='xr-var-dims'>(time)</div><div class='xr-var-dtype'>datetime64[ns]</div><div class='xr-var-preview xr-preview'>2005-01-13T02:57:03 ... 2005-12-...</div><input id='attrs-92956dda-5af4-4e36-88e7-62993446143e' class='xr-var-attrs-in' type='checkbox' ><label for='attrs-92956dda-5af4-4e36-88e7-62993446143e' title='Show/Hide attributes'><svg class='icon xr-icon-file-text2'><use xlink:href='#icon-file-text2'></use></svg></label><input id='data-7c2c11dd-3c5f-4c87-b377-381610f1e6a5' class='xr-var-data-in' type='checkbox'><label for='data-7c2c11dd-3c5f-4c87-b377-381610f1e6a5' title='Show/Hide data repr'><svg class='icon xr-icon-database'><use xlink:href='#icon-database'></use></svg></label><div class='xr-var-attrs'><dl class='xr-attrs'><dt><span>units :</span></dt><dd>seconds since 1970-01-01 00:00:00</dd></dl></div><div class='xr-var-data'><pre>array([&#x27;2005-01-13T02:57:03.000000000&#x27;, &#x27;2005-01-29T02:57:05.000000000&#x27;,\n",
       "       &#x27;2005-02-14T02:57:15.000000000&#x27;, &#x27;2005-03-02T02:57:20.000000000&#x27;,\n",
       "       &#x27;2005-03-18T02:57:21.000000000&#x27;, &#x27;2005-04-03T02:57:18.000000000&#x27;,\n",
       "       &#x27;2005-04-19T02:57:11.000000000&#x27;, &#x27;2005-05-05T02:57:16.000000000&#x27;,\n",
       "       &#x27;2005-05-21T02:57:16.000000000&#x27;, &#x27;2005-08-25T02:56:55.000000000&#x27;,\n",
       "       &#x27;2005-10-12T02:56:44.000000000&#x27;, &#x27;2005-11-13T02:57:08.000000000&#x27;,\n",
       "       &#x27;2005-12-31T02:57:25.000000000&#x27;], dtype=&#x27;datetime64[ns]&#x27;)</pre></div></li><li class='xr-var-item'><div class='xr-var-name'><span class='xr-has-index'>latitude</span></div><div class='xr-var-dims'>(latitude)</div><div class='xr-var-dtype'>float64</div><div class='xr-var-preview xr-preview'>12.0 12.0 12.0 ... 11.7 11.7 11.7</div><input id='attrs-671514e9-13d3-47c4-b5ca-92ecaf1483f7' class='xr-var-attrs-in' type='checkbox' ><label for='attrs-671514e9-13d3-47c4-b5ca-92ecaf1483f7' title='Show/Hide attributes'><svg class='icon xr-icon-file-text2'><use xlink:href='#icon-file-text2'></use></svg></label><input id='data-69d38a64-5819-4f33-98e6-4606e4cfb1ae' class='xr-var-data-in' type='checkbox'><label for='data-69d38a64-5819-4f33-98e6-4606e4cfb1ae' title='Show/Hide data repr'><svg class='icon xr-icon-database'><use xlink:href='#icon-database'></use></svg></label><div class='xr-var-attrs'><dl class='xr-attrs'><dt><span>units :</span></dt><dd>degrees_north</dd><dt><span>resolution :</span></dt><dd>-0.000269494585236</dd><dt><span>crs :</span></dt><dd>EPSG:4326</dd></dl></div><div class='xr-var-data'><pre>array([11.99992 , 11.999651, 11.999381, ..., 11.700512, 11.700242, 11.699973])</pre></div></li><li class='xr-var-item'><div class='xr-var-name'><span class='xr-has-index'>longitude</span></div><div class='xr-var-dims'>(longitude)</div><div class='xr-var-dtype'>float64</div><div class='xr-var-preview xr-preview'>107.0 107.0 107.0 ... 107.2 107.2</div><input id='attrs-a96af82f-503c-47e1-b3ca-680da6e1e0e1' class='xr-var-attrs-in' type='checkbox' ><label for='attrs-a96af82f-503c-47e1-b3ca-680da6e1e0e1' title='Show/Hide attributes'><svg class='icon xr-icon-file-text2'><use xlink:href='#icon-file-text2'></use></svg></label><input id='data-3882b659-36fc-40b8-98c6-01093cdc5b10' class='xr-var-data-in' type='checkbox'><label for='data-3882b659-36fc-40b8-98c6-01093cdc5b10' title='Show/Hide data repr'><svg class='icon xr-icon-database'><use xlink:href='#icon-database'></use></svg></label><div class='xr-var-attrs'><dl class='xr-attrs'><dt><span>units :</span></dt><dd>degrees_east</dd><dt><span>resolution :</span></dt><dd>0.000269494585236</dd><dt><span>crs :</span></dt><dd>EPSG:4326</dd></dl></div><div class='xr-var-data'><pre>array([106.999995, 107.000265, 107.000534, ..., 107.199421, 107.199691,\n",
       "       107.19996 ])</pre></div></li><li class='xr-var-item'><div class='xr-var-name'><span>spatial_ref</span></div><div class='xr-var-dims'>()</div><div class='xr-var-dtype'>int32</div><div class='xr-var-preview xr-preview'>4326</div><input id='attrs-2b309424-80e0-4acd-b6e6-c1114f1767da' class='xr-var-attrs-in' type='checkbox' ><label for='attrs-2b309424-80e0-4acd-b6e6-c1114f1767da' title='Show/Hide attributes'><svg class='icon xr-icon-file-text2'><use xlink:href='#icon-file-text2'></use></svg></label><input id='data-ede0b2d7-a071-412f-adbb-81b3719b8d0d' class='xr-var-data-in' type='checkbox'><label for='data-ede0b2d7-a071-412f-adbb-81b3719b8d0d' title='Show/Hide data repr'><svg class='icon xr-icon-database'><use xlink:href='#icon-database'></use></svg></label><div class='xr-var-attrs'><dl class='xr-attrs'><dt><span>spatial_ref :</span></dt><dd>GEOGCS[&quot;WGS 84&quot;,DATUM[&quot;WGS_1984&quot;,SPHEROID[&quot;WGS 84&quot;,6378137,298.257223563,AUTHORITY[&quot;EPSG&quot;,&quot;7030&quot;]],AUTHORITY[&quot;EPSG&quot;,&quot;6326&quot;]],PRIMEM[&quot;Greenwich&quot;,0,AUTHORITY[&quot;EPSG&quot;,&quot;8901&quot;]],UNIT[&quot;degree&quot;,0.0174532925199433,AUTHORITY[&quot;EPSG&quot;,&quot;9122&quot;]],AUTHORITY[&quot;EPSG&quot;,&quot;4326&quot;]]</dd><dt><span>grid_mapping_name :</span></dt><dd>latitude_longitude</dd></dl></div><div class='xr-var-data'><pre>array(4326, dtype=int32)</pre></div></li></ul></div></li><li class='xr-section-item'><input id='section-1fcb5036-1663-4131-b9ad-6523c781ac8d' class='xr-section-summary-in' type='checkbox'  checked><label for='section-1fcb5036-1663-4131-b9ad-6523c781ac8d' class='xr-section-summary' >Data variables: <span>(7)</span></label><div class='xr-section-inline-details'></div><div class='xr-section-details'><ul class='xr-var-list'><li class='xr-var-item'><div class='xr-var-name'><span>red</span></div><div class='xr-var-dims'>(time, latitude, longitude)</div><div class='xr-var-dtype'>int16</div><div class='xr-var-preview xr-preview'>-9999 -9999 -9999 ... 335 457 517</div><input id='attrs-43bf79d3-a6c4-4340-8b2b-55dcf51792e4' class='xr-var-attrs-in' type='checkbox' ><label for='attrs-43bf79d3-a6c4-4340-8b2b-55dcf51792e4' title='Show/Hide attributes'><svg class='icon xr-icon-file-text2'><use xlink:href='#icon-file-text2'></use></svg></label><input id='data-9fc99223-b255-40d8-8c93-991f78f90849' class='xr-var-data-in' type='checkbox'><label for='data-9fc99223-b255-40d8-8c93-991f78f90849' title='Show/Hide data repr'><svg class='icon xr-icon-database'><use xlink:href='#icon-database'></use></svg></label><div class='xr-var-attrs'><dl class='xr-attrs'><dt><span>units :</span></dt><dd>reflectance</dd><dt><span>nodata :</span></dt><dd>-9999</dd><dt><span>crs :</span></dt><dd>EPSG:4326</dd><dt><span>grid_mapping :</span></dt><dd>spatial_ref</dd></dl></div><div class='xr-var-data'><pre>array([[[-9999, -9999, -9999, ..., -9999, -9999, -9999],\n",
       "        [-9999, -9999, -9999, ..., -9999, -9999, -9999],\n",
       "        [-9999, -9999, -9999, ..., -9999, -9999, -9999],\n",
       "        ...,\n",
       "        [-9999, -9999, -9999, ...,   407,   407,   488],\n",
       "        [-9999, -9999, -9999, ...,   407,   467,   529],\n",
       "        [-9999, -9999,   909, ...,   448,   548,   508]],\n",
       "\n",
       "       [[-9999, -9999, -9999, ...,  3840,  3819,  3819],\n",
       "        [-9999, -9999, -9999, ...,  3945,  3966,  3966],\n",
       "        [-9999, -9999, -9999, ...,  4007,  4028,  4028],\n",
       "        ...,\n",
       "        [-9999, -9999, -9999, ...,   639,   662,   795],\n",
       "        [-9999, -9999, -9999, ...,   639,   662,   795],\n",
       "        [-9999, -9999, -9999, ...,   706,   817,   817]],\n",
       "\n",
       "       [[-9999, -9999, -9999, ...,   595,   595,   571],\n",
       "        [-9999, -9999, -9999, ...,   548,   617,   641],\n",
       "        [-9999, -9999, -9999, ...,   686,   803,   757],\n",
       "        ...,\n",
       "...\n",
       "        ...,\n",
       "        [-9999, -9999, -9999, ...,   548,   566,   531],\n",
       "        [-9999, -9999, -9999, ...,   530,   531,   549],\n",
       "        [-9999, -9999, -9999, ...,   548,   548,   602]],\n",
       "\n",
       "       [[-9999, -9999, -9999, ..., -9999, -9999, -9999],\n",
       "        [-9999, -9999, -9999, ..., -9999, -9999, -9999],\n",
       "        [-9999, -9999, -9999, ..., -9999, -9999, -9999],\n",
       "        ...,\n",
       "        [  575,   535,   535, ..., -9999, -9999, -9999],\n",
       "        [  555,   475,   575, ..., -9999, -9999, -9999],\n",
       "        [  475,   475,   495, ..., -9999, -9999, -9999]],\n",
       "\n",
       "       [[-9999, -9999, -9999, ..., -9999, -9999, -9999],\n",
       "        [-9999, -9999, -9999, ..., -9999, -9999, -9999],\n",
       "        [-9999, -9999, -9999, ...,   338, -9999, -9999],\n",
       "        ...,\n",
       "        [-9999, -9999, -9999, ...,   273,   335,   274],\n",
       "        [-9999, -9999, -9999, ...,   314,   376,   436],\n",
       "        [-9999, -9999, -9999, ...,   335,   457,   517]]], dtype=int16)</pre></div></li><li class='xr-var-item'><div class='xr-var-name'><span>green</span></div><div class='xr-var-dims'>(time, latitude, longitude)</div><div class='xr-var-dtype'>int16</div><div class='xr-var-preview xr-preview'>-9999 -9999 -9999 ... 433 500 500</div><input id='attrs-7ae94a7e-a699-4456-9495-c2ad4eb681d5' class='xr-var-attrs-in' type='checkbox' ><label for='attrs-7ae94a7e-a699-4456-9495-c2ad4eb681d5' title='Show/Hide attributes'><svg class='icon xr-icon-file-text2'><use xlink:href='#icon-file-text2'></use></svg></label><input id='data-a5f6b191-b517-49b5-932d-ddc7e40b4e64' class='xr-var-data-in' type='checkbox'><label for='data-a5f6b191-b517-49b5-932d-ddc7e40b4e64' title='Show/Hide data repr'><svg class='icon xr-icon-database'><use xlink:href='#icon-database'></use></svg></label><div class='xr-var-attrs'><dl class='xr-attrs'><dt><span>units :</span></dt><dd>reflectance</dd><dt><span>nodata :</span></dt><dd>-9999</dd><dt><span>crs :</span></dt><dd>EPSG:4326</dd><dt><span>grid_mapping :</span></dt><dd>spatial_ref</dd></dl></div><div class='xr-var-data'><pre>array([[[-9999, -9999, -9999, ..., -9999, -9999, -9999],\n",
       "        [-9999, -9999, -9999, ..., -9999, -9999, -9999],\n",
       "        [-9999, -9999, -9999, ..., -9999, -9999, -9999],\n",
       "        ...,\n",
       "        [-9999, -9999, -9999, ...,   490,   467,   512],\n",
       "        [-9999, -9999, -9999, ...,   535,   490,   490],\n",
       "        [-9999, -9999,   796, ...,   535,   535,   490]],\n",
       "\n",
       "       [[-9999, -9999, -9999, ...,  3753,  3730,  3637],\n",
       "        [-9999, -9999, -9999, ...,  3869,  3846,  3776],\n",
       "        [-9999, -9999, -9999, ...,  3869,  3869,  3846],\n",
       "        ...,\n",
       "        [-9999, -9999, -9999, ...,   736,   736,   736],\n",
       "        [-9999, -9999, -9999, ...,   736,   736,   786],\n",
       "        [-9999, -9999, -9999, ...,   786,   786,   761]],\n",
       "\n",
       "       [[-9999, -9999, -9999, ...,   647,   647,   647],\n",
       "        [-9999, -9999, -9999, ...,   647,   699,   673],\n",
       "        [-9999, -9999, -9999, ...,   699,   752,   726],\n",
       "        ...,\n",
       "...\n",
       "        ...,\n",
       "        [-9999, -9999, -9999, ...,   676,   657,   696],\n",
       "        [-9999, -9999, -9999, ...,   637,   676,   676],\n",
       "        [-9999, -9999, -9999, ...,   696,   696,   716]],\n",
       "\n",
       "       [[-9999, -9999, -9999, ..., -9999, -9999, -9999],\n",
       "        [-9999, -9999, -9999, ..., -9999, -9999, -9999],\n",
       "        [-9999, -9999, -9999, ..., -9999, -9999, -9999],\n",
       "        ...,\n",
       "        [  653,   608,   630, ..., -9999, -9999, -9999],\n",
       "        [  608,   563,   676, ..., -9999, -9999, -9999],\n",
       "        [  563,   585,   608, ..., -9999, -9999, -9999]],\n",
       "\n",
       "       [[-9999, -9999, -9999, ..., -9999, -9999, -9999],\n",
       "        [-9999, -9999, -9999, ..., -9999, -9999, -9999],\n",
       "        [-9999, -9999, -9999, ...,   438, -9999, -9999],\n",
       "        ...,\n",
       "        [-9999, -9999, -9999, ...,   477,   409,   410],\n",
       "        [-9999, -9999, -9999, ...,   478,   478,   455],\n",
       "        [-9999, -9999, -9999, ...,   433,   500,   500]]], dtype=int16)</pre></div></li><li class='xr-var-item'><div class='xr-var-name'><span>blue</span></div><div class='xr-var-dims'>(time, latitude, longitude)</div><div class='xr-var-dtype'>int16</div><div class='xr-var-preview xr-preview'>-9999 -9999 -9999 ... 316 296 316</div><input id='attrs-e5ad612e-3eef-4015-bb54-7cf9f1f5ffdd' class='xr-var-attrs-in' type='checkbox' ><label for='attrs-e5ad612e-3eef-4015-bb54-7cf9f1f5ffdd' title='Show/Hide attributes'><svg class='icon xr-icon-file-text2'><use xlink:href='#icon-file-text2'></use></svg></label><input id='data-8da1a9e5-3ae3-424d-8582-fec7c9bb0323' class='xr-var-data-in' type='checkbox'><label for='data-8da1a9e5-3ae3-424d-8582-fec7c9bb0323' title='Show/Hide data repr'><svg class='icon xr-icon-database'><use xlink:href='#icon-database'></use></svg></label><div class='xr-var-attrs'><dl class='xr-attrs'><dt><span>units :</span></dt><dd>reflectance</dd><dt><span>nodata :</span></dt><dd>-9999</dd><dt><span>crs :</span></dt><dd>EPSG:4326</dd><dt><span>grid_mapping :</span></dt><dd>spatial_ref</dd></dl></div><div class='xr-var-data'><pre>array([[[-9999, -9999, -9999, ..., -9999, -9999, -9999],\n",
       "        [-9999, -9999, -9999, ..., -9999, -9999, -9999],\n",
       "        [-9999, -9999, -9999, ..., -9999, -9999, -9999],\n",
       "        ...,\n",
       "        [-9999, -9999, -9999, ...,   365,   365,   365],\n",
       "        [-9999, -9999, -9999, ...,   303,   386,   406],\n",
       "        [-9999, -9999,   615, ...,   406,   386,   386]],\n",
       "\n",
       "       [[-9999, -9999, -9999, ...,  3614,  3593,  3529],\n",
       "        [-9999, -9999, -9999, ...,  3742,  3699,  3656],\n",
       "        [-9999, -9999, -9999, ...,  3763,  3721,  3742],\n",
       "        ...,\n",
       "        [-9999, -9999, -9999, ...,   647,   671,   624],\n",
       "        [-9999, -9999, -9999, ...,   624,   624,   624],\n",
       "        [-9999, -9999, -9999, ...,   624,   671,   671]],\n",
       "\n",
       "       [[-9999, -9999, -9999, ...,   556,   556,   582],\n",
       "        [-9999, -9999, -9999, ...,   556,   556,   606],\n",
       "        [-9999, -9999, -9999, ...,   631,   606,   606],\n",
       "        ...,\n",
       "...\n",
       "        ...,\n",
       "        [-9999, -9999, -9999, ...,   507,   470,   489],\n",
       "        [-9999, -9999, -9999, ...,   470,   470,   489],\n",
       "        [-9999, -9999, -9999, ...,   470,   488,   507]],\n",
       "\n",
       "       [[-9999, -9999, -9999, ..., -9999, -9999, -9999],\n",
       "        [-9999, -9999, -9999, ..., -9999, -9999, -9999],\n",
       "        [-9999, -9999, -9999, ..., -9999, -9999, -9999],\n",
       "        ...,\n",
       "        [  395,   395,   395, ..., -9999, -9999, -9999],\n",
       "        [  416,   375,   354, ..., -9999, -9999, -9999],\n",
       "        [  375,   375,   354, ..., -9999, -9999, -9999]],\n",
       "\n",
       "       [[-9999, -9999, -9999, ..., -9999, -9999, -9999],\n",
       "        [-9999, -9999, -9999, ..., -9999, -9999, -9999],\n",
       "        [-9999, -9999, -9999, ...,   264, -9999, -9999],\n",
       "        ...,\n",
       "        [-9999, -9999, -9999, ...,   213,   213,   255],\n",
       "        [-9999, -9999, -9999, ...,   193,   296,   296],\n",
       "        [-9999, -9999, -9999, ...,   316,   296,   316]]], dtype=int16)</pre></div></li><li class='xr-var-item'><div class='xr-var-name'><span>nir</span></div><div class='xr-var-dims'>(time, latitude, longitude)</div><div class='xr-var-dtype'>int16</div><div class='xr-var-preview xr-preview'>-9999 -9999 -9999 ... 2713 2356</div><input id='attrs-dd1561bd-7427-420a-8581-1ffe99f4627c' class='xr-var-attrs-in' type='checkbox' ><label for='attrs-dd1561bd-7427-420a-8581-1ffe99f4627c' title='Show/Hide attributes'><svg class='icon xr-icon-file-text2'><use xlink:href='#icon-file-text2'></use></svg></label><input id='data-46d627c1-0469-460b-a6ce-f1d5a7b5d1e5' class='xr-var-data-in' type='checkbox'><label for='data-46d627c1-0469-460b-a6ce-f1d5a7b5d1e5' title='Show/Hide data repr'><svg class='icon xr-icon-database'><use xlink:href='#icon-database'></use></svg></label><div class='xr-var-attrs'><dl class='xr-attrs'><dt><span>units :</span></dt><dd>reflectance</dd><dt><span>nodata :</span></dt><dd>-9999</dd><dt><span>crs :</span></dt><dd>EPSG:4326</dd><dt><span>grid_mapping :</span></dt><dd>spatial_ref</dd></dl></div><div class='xr-var-data'><pre>array([[[-9999, -9999, -9999, ..., -9999, -9999, -9999],\n",
       "        [-9999, -9999, -9999, ..., -9999, -9999, -9999],\n",
       "        [-9999, -9999, -9999, ..., -9999, -9999, -9999],\n",
       "        ...,\n",
       "        [-9999, -9999, -9999, ...,  2913,  2783,  2346],\n",
       "        [-9999, -9999, -9999, ...,  2957,  2783,  2215],\n",
       "        [-9999, -9999,  2622, ...,  2871,  2478,  2084]],\n",
       "\n",
       "       [[-9999, -9999, -9999, ...,  4710,  4710,  4710],\n",
       "        [-9999, -9999, -9999, ...,  4843,  4843,  4754],\n",
       "        [-9999, -9999, -9999, ...,  4843,  4888,  4843],\n",
       "        ...,\n",
       "        [-9999, -9999, -9999, ...,  2647,  2510,  2277],\n",
       "        [-9999, -9999, -9999, ...,  2740,  2647,  2277],\n",
       "        [-9999, -9999, -9999, ...,  2694,  2510,  2138]],\n",
       "\n",
       "       [[-9999, -9999, -9999, ...,  2591,  2685,  2874],\n",
       "        [-9999, -9999, -9999, ...,  2733,  2780,  2828],\n",
       "        [-9999, -9999, -9999, ...,  2828,  2591,  2591],\n",
       "        ...,\n",
       "...\n",
       "        ...,\n",
       "        [-9999, -9999, -9999, ...,  2749,  2865,  3097],\n",
       "        [-9999, -9999, -9999, ...,  2710,  2981,  3252],\n",
       "        [-9999, -9999, -9999, ...,  2787,  3291,  3445]],\n",
       "\n",
       "       [[-9999, -9999, -9999, ..., -9999, -9999, -9999],\n",
       "        [-9999, -9999, -9999, ..., -9999, -9999, -9999],\n",
       "        [-9999, -9999, -9999, ..., -9999, -9999, -9999],\n",
       "        ...,\n",
       "        [ 3126,  3126,  2871, ..., -9999, -9999, -9999],\n",
       "        [ 3169,  3041,  2999, ..., -9999, -9999, -9999],\n",
       "        [ 2914,  3041,  3126, ..., -9999, -9999, -9999]],\n",
       "\n",
       "       [[-9999, -9999, -9999, ..., -9999, -9999, -9999],\n",
       "        [-9999, -9999, -9999, ..., -9999, -9999, -9999],\n",
       "        [-9999, -9999, -9999, ...,  3443, -9999, -9999],\n",
       "        ...,\n",
       "        [-9999, -9999, -9999, ...,  2848,  2713,  2758],\n",
       "        [-9999, -9999, -9999, ...,  2937,  2937,  2579],\n",
       "        [-9999, -9999, -9999, ...,  2892,  2713,  2356]]], dtype=int16)</pre></div></li><li class='xr-var-item'><div class='xr-var-name'><span>swir1</span></div><div class='xr-var-dims'>(time, latitude, longitude)</div><div class='xr-var-dtype'>int16</div><div class='xr-var-preview xr-preview'>-9999 -9999 -9999 ... 1632 1552</div><input id='attrs-b0d0eebb-76cd-4790-b14b-af159362860e' class='xr-var-attrs-in' type='checkbox' ><label for='attrs-b0d0eebb-76cd-4790-b14b-af159362860e' title='Show/Hide attributes'><svg class='icon xr-icon-file-text2'><use xlink:href='#icon-file-text2'></use></svg></label><input id='data-c521d5d1-48a1-459d-817c-69fe5ec46f1a' class='xr-var-data-in' type='checkbox'><label for='data-c521d5d1-48a1-459d-817c-69fe5ec46f1a' title='Show/Hide data repr'><svg class='icon xr-icon-database'><use xlink:href='#icon-database'></use></svg></label><div class='xr-var-attrs'><dl class='xr-attrs'><dt><span>units :</span></dt><dd>reflectance</dd><dt><span>nodata :</span></dt><dd>-9999</dd><dt><span>crs :</span></dt><dd>EPSG:4326</dd><dt><span>grid_mapping :</span></dt><dd>spatial_ref</dd></dl></div><div class='xr-var-data'><pre>array([[[-9999, -9999, -9999, ..., -9999, -9999, -9999],\n",
       "        [-9999, -9999, -9999, ..., -9999, -9999, -9999],\n",
       "        [-9999, -9999, -9999, ..., -9999, -9999, -9999],\n",
       "        ...,\n",
       "        [-9999, -9999, -9999, ...,  1343,  1343,  1423],\n",
       "        [-9999, -9999, -9999, ...,  1370,  1476,  1662],\n",
       "        [-9999, -9999,  2576, ...,  1529,  1768,  1715]],\n",
       "\n",
       "       [[-9999, -9999, -9999, ...,  4232,  4259,  4153],\n",
       "        [-9999, -9999, -9999, ...,  4367,  4340,  4286],\n",
       "        [-9999, -9999, -9999, ...,  4394,  4421,  4421],\n",
       "        ...,\n",
       "        [-9999, -9999, -9999, ...,  1499,  1499,  1525],\n",
       "        [-9999, -9999, -9999, ...,  1445,  1661,  1959],\n",
       "        [-9999, -9999, -9999, ...,  1580,  2040,  2283]],\n",
       "\n",
       "       [[-9999, -9999, -9999, ...,  1335,  1417,  1444],\n",
       "        [-9999, -9999, -9999, ...,  1444,  1444,  1525],\n",
       "        [-9999, -9999, -9999, ...,  1552,  1661,  1688],\n",
       "        ...,\n",
       "...\n",
       "        ...,\n",
       "        [-9999, -9999, -9999, ...,  1627,  1674,  1651],\n",
       "        [-9999, -9999, -9999, ...,  1604,  1674,  1697],\n",
       "        [-9999, -9999, -9999, ...,  1581,  1766,  1836]],\n",
       "\n",
       "       [[-9999, -9999, -9999, ..., -9999, -9999, -9999],\n",
       "        [-9999, -9999, -9999, ..., -9999, -9999, -9999],\n",
       "        [-9999, -9999, -9999, ..., -9999, -9999, -9999],\n",
       "        ...,\n",
       "        [ 2417,  2215,  2215, ..., -9999, -9999, -9999],\n",
       "        [ 2291,  2064,  2241, ..., -9999, -9999, -9999],\n",
       "        [ 1989,  2064,  2115, ..., -9999, -9999, -9999]],\n",
       "\n",
       "       [[-9999, -9999, -9999, ..., -9999, -9999, -9999],\n",
       "        [-9999, -9999, -9999, ..., -9999, -9999, -9999],\n",
       "        [-9999, -9999, -9999, ...,  1450, -9999, -9999],\n",
       "        ...,\n",
       "        [-9999, -9999, -9999, ...,  1363,  1336,  1309],\n",
       "        [-9999, -9999, -9999, ...,  1363,  1470,  1498],\n",
       "        [-9999, -9999, -9999, ...,  1444,  1632,  1552]]], dtype=int16)</pre></div></li><li class='xr-var-item'><div class='xr-var-name'><span>swir2</span></div><div class='xr-var-dims'>(time, latitude, longitude)</div><div class='xr-var-dtype'>int16</div><div class='xr-var-preview xr-preview'>-9999 -9999 -9999 ... 566 796 738</div><input id='attrs-ed1a88db-ee60-4040-8b5b-c523fbf7d895' class='xr-var-attrs-in' type='checkbox' ><label for='attrs-ed1a88db-ee60-4040-8b5b-c523fbf7d895' title='Show/Hide attributes'><svg class='icon xr-icon-file-text2'><use xlink:href='#icon-file-text2'></use></svg></label><input id='data-2758925b-1f47-412c-a33c-cb31b77282b8' class='xr-var-data-in' type='checkbox'><label for='data-2758925b-1f47-412c-a33c-cb31b77282b8' title='Show/Hide data repr'><svg class='icon xr-icon-database'><use xlink:href='#icon-database'></use></svg></label><div class='xr-var-attrs'><dl class='xr-attrs'><dt><span>units :</span></dt><dd>reflectance</dd><dt><span>nodata :</span></dt><dd>-9999</dd><dt><span>crs :</span></dt><dd>EPSG:4326</dd><dt><span>grid_mapping :</span></dt><dd>spatial_ref</dd></dl></div><div class='xr-var-data'><pre>array([[[-9999, -9999, -9999, ..., -9999, -9999, -9999],\n",
       "        [-9999, -9999, -9999, ..., -9999, -9999, -9999],\n",
       "        [-9999, -9999, -9999, ..., -9999, -9999, -9999],\n",
       "        ...,\n",
       "        [-9999, -9999, -9999, ...,   551,   634,   718],\n",
       "        [-9999, -9999, -9999, ...,   578,   718,   912],\n",
       "        [-9999, -9999,  1448, ...,   746,   912,   912]],\n",
       "\n",
       "       [[-9999, -9999, -9999, ...,  3397,  3482,  3369],\n",
       "        [-9999, -9999, -9999, ...,  3565,  3509,  3538],\n",
       "        [-9999, -9999, -9999, ...,  3622,  3650,  3565],\n",
       "        ...,\n",
       "        [-9999, -9999, -9999, ...,   709,   709,   766],\n",
       "        [-9999, -9999, -9999, ...,   596,   822,  1048],\n",
       "        [-9999, -9999, -9999, ...,   766,  1104,  1387]],\n",
       "\n",
       "       [[-9999, -9999, -9999, ...,   558,   614,   529],\n",
       "        [-9999, -9999, -9999, ...,   614,   614,   643],\n",
       "        [-9999, -9999, -9999, ...,   643,   870,   898],\n",
       "        ...,\n",
       "...\n",
       "        ...,\n",
       "        [-9999, -9999, -9999, ...,   700,   774,   774],\n",
       "        [-9999, -9999, -9999, ...,   725,   750,   823],\n",
       "        [-9999, -9999, -9999, ...,   725,   798,   897]],\n",
       "\n",
       "       [[-9999, -9999, -9999, ..., -9999, -9999, -9999],\n",
       "        [-9999, -9999, -9999, ..., -9999, -9999, -9999],\n",
       "        [-9999, -9999, -9999, ..., -9999, -9999, -9999],\n",
       "        ...,\n",
       "        [ 1183,  1103,  1049, ..., -9999, -9999, -9999],\n",
       "        [ 1103,   943,  1049, ..., -9999, -9999, -9999],\n",
       "        [  863,   970,   970, ..., -9999, -9999, -9999]],\n",
       "\n",
       "       [[-9999, -9999, -9999, ..., -9999, -9999, -9999],\n",
       "        [-9999, -9999, -9999, ..., -9999, -9999, -9999],\n",
       "        [-9999, -9999, -9999, ...,   512, -9999, -9999],\n",
       "        ...,\n",
       "        [-9999, -9999, -9999, ...,   566,   566,   453],\n",
       "        [-9999, -9999, -9999, ...,   509,   624,   681],\n",
       "        [-9999, -9999, -9999, ...,   566,   796,   738]]], dtype=int16)</pre></div></li><li class='xr-var-item'><div class='xr-var-name'><span>pixel_qa</span></div><div class='xr-var-dims'>(time, latitude, longitude)</div><div class='xr-var-dtype'>int32</div><div class='xr-var-preview xr-preview'>1 1 1 1 1 1 1 ... 66 66 66 66 66 66</div><input id='attrs-208d3967-21af-4941-bbe1-963a665336b8' class='xr-var-attrs-in' type='checkbox' ><label for='attrs-208d3967-21af-4941-bbe1-963a665336b8' title='Show/Hide attributes'><svg class='icon xr-icon-file-text2'><use xlink:href='#icon-file-text2'></use></svg></label><input id='data-130f5a6f-edd6-4388-96a0-c837898b215e' class='xr-var-data-in' type='checkbox'><label for='data-130f5a6f-edd6-4388-96a0-c837898b215e' title='Show/Hide data repr'><svg class='icon xr-icon-database'><use xlink:href='#icon-database'></use></svg></label><div class='xr-var-attrs'><dl class='xr-attrs'><dt><span>units :</span></dt><dd>bit_index</dd><dt><span>nodata :</span></dt><dd>1</dd><dt><span>flags_definition :</span></dt><dd>{&#x27;pixel_qa&#x27;: {&#x27;bits&#x27;: [0, 1, 2, 3, 4, 5, 6, 7, 8, 9, 10, 11, 12, 13, 14, 15], &#x27;values&#x27;: {&#x27;1&#x27;: &#x27;Fill&#x27;, &#x27;2&#x27;: &#x27;Clear&#x27;, &#x27;4&#x27;: &#x27;Water&#x27;, &#x27;8&#x27;: &#x27;Cloud shadow&#x27;, &#x27;16&#x27;: &#x27;Snow&#x27;, &#x27;32&#x27;: &#x27;Cloud&#x27;, &#x27;64&#x27;: &#x27;Cloud Confidence Low Bit&#x27;, &#x27;128&#x27;: &#x27;Cloud Confidence High Bit&#x27;, &#x27;256&#x27;: &#x27;Unused&#x27;, &#x27;512&#x27;: &#x27;Unused&#x27;, &#x27;1024&#x27;: &#x27;Unused&#x27;, &#x27;2048&#x27;: &#x27;Unused&#x27;, &#x27;4096&#x27;: &#x27;Unused&#x27;, &#x27;8192&#x27;: &#x27;Unused&#x27;, &#x27;16384&#x27;: &#x27;Unused&#x27;, &#x27;32786&#x27;: &#x27;Unused&#x27;}, &#x27;description&#x27;: &#x27;Level 2 Pixel Quality Band&#x27;}}</dd><dt><span>crs :</span></dt><dd>EPSG:4326</dd><dt><span>grid_mapping :</span></dt><dd>spatial_ref</dd></dl></div><div class='xr-var-data'><pre>array([[[  1,   1,   1, ...,   1,   1,   1],\n",
       "        [  1,   1,   1, ...,   1,   1,   1],\n",
       "        [  1,   1,   1, ...,   1,   1,   1],\n",
       "        ...,\n",
       "        [  1,   1,   1, ...,  66,  66,  66],\n",
       "        [  1,   1,   1, ...,  66,  66,  66],\n",
       "        [  1,   1,  66, ...,  66,  66,  66]],\n",
       "\n",
       "       [[  1,   1,   1, ..., 224, 224, 224],\n",
       "        [  1,   1,   1, ..., 224, 224, 224],\n",
       "        [  1,   1,   1, ..., 224, 224, 224],\n",
       "        ...,\n",
       "        [  1,   1,   1, ...,  66,  66,  66],\n",
       "        [  1,   1,   1, ...,  66,  66,  66],\n",
       "        [  1,   1,   1, ...,  66,  66,  66]],\n",
       "\n",
       "       [[  1,   1,   1, ...,  66,  66,  66],\n",
       "        [  1,   1,   1, ...,  66,  66,  66],\n",
       "        [  1,   1,   1, ...,  66,  66,  66],\n",
       "        ...,\n",
       "...\n",
       "        ...,\n",
       "        [  1,   1,   1, ...,  66,  66,  66],\n",
       "        [  1,   1,   1, ...,  66,  66,  66],\n",
       "        [  1,   1,   1, ...,  66,  66,  66]],\n",
       "\n",
       "       [[  1,   1,   1, ...,   1,   1,   1],\n",
       "        [  1,   1,   1, ...,   1,   1,   1],\n",
       "        [  1,   1,   1, ...,   1,   1,   1],\n",
       "        ...,\n",
       "        [ 66,  66,  66, ...,   1,   1,   1],\n",
       "        [ 66,  66,  66, ...,   1,   1,   1],\n",
       "        [ 66,  66,  66, ...,   1,   1,   1]],\n",
       "\n",
       "       [[  1,   1,   1, ...,   1,   1,   1],\n",
       "        [  1,   1,   1, ...,   1,   1,   1],\n",
       "        [  1,   1,   1, ...,  66,   1,   1],\n",
       "        ...,\n",
       "        [  1,   1,   1, ...,  66,  66,  66],\n",
       "        [  1,   1,   1, ...,  66,  66,  66],\n",
       "        [  1,   1,   1, ...,  66,  66,  66]]], dtype=int32)</pre></div></li></ul></div></li><li class='xr-section-item'><input id='section-9b110103-fc31-4220-985c-0a1ab524e010' class='xr-section-summary-in' type='checkbox'  checked><label for='section-9b110103-fc31-4220-985c-0a1ab524e010' class='xr-section-summary' >Attributes: <span>(2)</span></label><div class='xr-section-inline-details'></div><div class='xr-section-details'><dl class='xr-attrs'><dt><span>crs :</span></dt><dd>EPSG:4326</dd><dt><span>grid_mapping :</span></dt><dd>spatial_ref</dd></dl></div></li></ul></div></div>"
      ],
      "text/plain": [
       "<xarray.Dataset>\n",
       "Dimensions:      (latitude: 1114, longitude: 743, time: 13)\n",
       "Coordinates:\n",
       "  * time         (time) datetime64[ns] 2005-01-13T02:57:03 ... 2005-12-31T02:...\n",
       "  * latitude     (latitude) float64 12.0 12.0 12.0 12.0 ... 11.7 11.7 11.7 11.7\n",
       "  * longitude    (longitude) float64 107.0 107.0 107.0 ... 107.2 107.2 107.2\n",
       "    spatial_ref  int32 4326\n",
       "Data variables:\n",
       "    red          (time, latitude, longitude) int16 -9999 -9999 -9999 ... 457 517\n",
       "    green        (time, latitude, longitude) int16 -9999 -9999 -9999 ... 500 500\n",
       "    blue         (time, latitude, longitude) int16 -9999 -9999 -9999 ... 296 316\n",
       "    nir          (time, latitude, longitude) int16 -9999 -9999 ... 2713 2356\n",
       "    swir1        (time, latitude, longitude) int16 -9999 -9999 ... 1632 1552\n",
       "    swir2        (time, latitude, longitude) int16 -9999 -9999 -9999 ... 796 738\n",
       "    pixel_qa     (time, latitude, longitude) int32 1 1 1 1 1 ... 66 66 66 66 66\n",
       "Attributes:\n",
       "    crs:           EPSG:4326\n",
       "    grid_mapping:  spatial_ref"
      ]
     },
     "execution_count": 1,
     "metadata": {},
     "output_type": "execute_result"
    }
   ],
   "source": [
    "landsat_dataset\n",
    "#view the dimensions and sample content from the cube"
   ]
  },
  {
   "cell_type": "markdown",
   "metadata": {},
   "source": [
    "## Preparing the data\n",
    "We will filter out the clouds and the water using the Landsat pixel_qa information. Next, we will calculate the values of NDVI (vegetation index) and TSM (water quality). "
   ]
  },
  {
   "cell_type": "code",
   "execution_count": 11,
   "metadata": {
    "execution": {
     "iopub.execute_input": "2020-09-29T01:01:32.987382Z",
     "iopub.status.busy": "2020-09-29T01:01:32.986580Z",
     "iopub.status.idle": "2020-09-29T01:01:32.988373Z",
     "shell.execute_reply": "2020-09-29T01:01:32.989008Z"
    }
   },
   "outputs": [],
   "source": [
    "import xarray as xr  \n",
    "import numpy as np\n",
    "def ls7_unpack_qa( data_array , cover_type):  \n",
    "    \n",
    "    land_cover_endcoding = dict( fill     =  [1], \n",
    "                                 clear    =  [66,  130], \n",
    "                                 water    =  [68,  132],\n",
    "                                 shadow   =  [72,  136],\n",
    "                                 snow     =  [80,  112, 144, 176],\n",
    "                                 cloud    =  [96,  112, 160, 176, 224],\n",
    "                                 low_conf =  [66,  68,  72,  80,  96,  112],\n",
    "                                 med_conf =  [130, 132, 136, 144, 160, 176],\n",
    "                                 high_conf=  [224]\n",
    "                               ) \n",
    "    boolean_mask = np.isin(data_array.values, land_cover_endcoding[cover_type]) \n",
    "    return xr.DataArray(boolean_mask.astype(int),\n",
    "                        coords = data_array.coords,\n",
    "                        dims = data_array.dims,\n",
    "                        name = cover_type + \"_mask\",\n",
    "                        attrs = data_array.attrs) \n"
   ]
  },
  {
   "cell_type": "code",
   "execution_count": 12,
   "metadata": {
    "execution": {
     "iopub.execute_input": "2020-09-29T01:01:32.992864Z",
     "iopub.status.busy": "2020-09-29T01:01:32.992396Z",
     "iopub.status.idle": "2020-09-29T01:01:33.215098Z",
     "shell.execute_reply": "2020-09-29T01:01:33.214603Z"
    }
   },
   "outputs": [],
   "source": [
    "clear_xarray  = ls7_unpack_qa(landsat_dataset.pixel_qa, \"clear\")  \n",
    "water_xarray  = ls7_unpack_qa(landsat_dataset.pixel_qa, \"water\")\n",
    "shadow_xarray = ls7_unpack_qa(landsat_dataset.pixel_qa, \"shadow\") \n",
    "cloud_xarray = ls7_unpack_qa(landsat_dataset.pixel_qa, \"cloud\") "
   ]
  },
  {
   "cell_type": "code",
   "execution_count": 13,
   "metadata": {
    "execution": {
     "iopub.execute_input": "2020-09-29T01:01:33.219717Z",
     "iopub.status.busy": "2020-09-29T01:01:33.219299Z",
     "iopub.status.idle": "2020-09-29T01:01:33.273405Z",
     "shell.execute_reply": "2020-09-29T01:01:33.273883Z"
    }
   },
   "outputs": [],
   "source": [
    "clean_xarray = xr.ufuncs.logical_or(clear_xarray , water_xarray).astype(np.int8).rename(\"clean_mask\")\n",
    "\n",
    "clean_mask = np.logical_or(clear_xarray.values.astype(bool),\n",
    "                           water_xarray.values.astype(bool)) "
   ]
  },
  {
   "cell_type": "code",
   "execution_count": 14,
   "metadata": {
    "execution": {
     "iopub.execute_input": "2020-09-29T01:01:33.277467Z",
     "iopub.status.busy": "2020-09-29T01:01:33.277054Z",
     "iopub.status.idle": "2020-09-29T01:01:33.279375Z",
     "shell.execute_reply": "2020-09-29T01:01:33.278933Z"
    }
   },
   "outputs": [],
   "source": [
    "def NDVI(dataset):\n",
    "    return ((dataset.nir - dataset.red)/(dataset.nir + dataset.red)).rename(\"NDVI\")"
   ]
  },
  {
   "cell_type": "code",
   "execution_count": 15,
   "metadata": {
    "execution": {
     "iopub.execute_input": "2020-09-29T01:01:33.283010Z",
     "iopub.status.busy": "2020-09-29T01:01:33.282609Z",
     "iopub.status.idle": "2020-09-29T01:01:33.344988Z",
     "shell.execute_reply": "2020-09-29T01:01:33.345444Z"
    }
   },
   "outputs": [],
   "source": [
    "ndvi_xarray = NDVI(landsat_dataset)  # Vegetation Index"
   ]
  },
  {
   "cell_type": "code",
   "execution_count": 16,
   "metadata": {
    "execution": {
     "iopub.execute_input": "2020-09-29T01:01:33.349301Z",
     "iopub.status.busy": "2020-09-29T01:01:33.348633Z",
     "iopub.status.idle": "2020-09-29T01:01:33.943044Z",
     "shell.execute_reply": "2020-09-29T01:01:33.942637Z"
    }
   },
   "outputs": [],
   "source": [
    "from utils.data_cube_utilities.dc_water_quality import tsm\n",
    "\n",
    "tsm_xarray = tsm(landsat_dataset, clean_mask = water_xarray.values.astype(bool) ).tsm"
   ]
  },
  {
   "cell_type": "markdown",
   "metadata": {},
   "source": [
    "### Combine everything into one XARRAY for further analysis"
   ]
  },
  {
   "cell_type": "code",
   "execution_count": 17,
   "metadata": {
    "execution": {
     "iopub.execute_input": "2020-09-29T01:01:33.948051Z",
     "iopub.status.busy": "2020-09-29T01:01:33.947599Z",
     "iopub.status.idle": "2020-09-29T01:01:33.953450Z",
     "shell.execute_reply": "2020-09-29T01:01:33.953014Z"
    }
   },
   "outputs": [],
   "source": [
    "combined_dataset = xr.merge([landsat_dataset,\n",
    "          clean_xarray,\n",
    "          clear_xarray,\n",
    "          water_xarray,\n",
    "          shadow_xarray,\n",
    "          cloud_xarray,                  \n",
    "          ndvi_xarray,\n",
    "          tsm_xarray])\n",
    "\n",
    "# Copy original crs to merged dataset \n",
    "combined_dataset = combined_dataset.assign_attrs(landsat_dataset.attrs)"
   ]
  },
  {
   "cell_type": "markdown",
   "metadata": {},
   "source": [
    "## Define a path for a transect  \n",
    "A transect is just a line that will run across our region of interest. Use the display map above to find the end points of your desired line. If you click on the map it will give you precise Lat-Lon positions for a point."
   ]
  },
  {
   "cell_type": "markdown",
   "metadata": {},
   "source": [
    "### Start with a line across a mix of water and land"
   ]
  },
  {
   "cell_type": "code",
   "execution_count": 18,
   "metadata": {
    "execution": {
     "iopub.execute_input": "2020-09-29T01:01:33.956824Z",
     "iopub.status.busy": "2020-09-29T01:01:33.956313Z",
     "iopub.status.idle": "2020-09-29T01:01:33.958442Z",
     "shell.execute_reply": "2020-09-29T01:01:33.958018Z"
    }
   },
   "outputs": [],
   "source": [
    "# Water and Land Mixed Examples\n",
    "\n",
    "# North-South Path\n",
    "start = ( 11.8428, 107.0734 )\n",
    "end   = ( 11.7306, 107.0734 )\n",
    "\n",
    "# East-West Path\n",
    "# start = ( 11.9167, 107.0554 )\n",
    "# end   = ( 11.9167, 107.1719 )\n",
    "\n",
    "# East-West Path for Lake Ho Tri An\n",
    "# start = ( 11.25, 107.02 )\n",
    "# end   = ( 11.25, 107.18 )"
   ]
  },
  {
   "cell_type": "markdown",
   "metadata": {},
   "source": [
    "### Plot the transect line"
   ]
  },
  {
   "cell_type": "code",
   "execution_count": 19,
   "metadata": {
    "execution": {
     "iopub.execute_input": "2020-09-29T01:01:33.964377Z",
     "iopub.status.busy": "2020-09-29T01:01:33.963953Z",
     "iopub.status.idle": "2020-09-29T01:01:33.972553Z",
     "shell.execute_reply": "2020-09-29T01:01:33.972103Z"
    }
   },
   "outputs": [
    {
     "data": {
      "text/html": [
       "<div style=\"width:100%;\"><div style=\"position:relative;width:100%;height:0;padding-bottom:60%;\"><span style=\"color:#565656\">Make this Notebook Trusted to load map: File -> Trust Notebook</span><iframe src=\"about:blank\" style=\"position:absolute;width:100%;height:100%;left:0;top:0;border:none !important;\" data-html=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 onload=\"this.contentDocument.open();this.contentDocument.write(atob(this.getAttribute('data-html')));this.contentDocument.close();\" allowfullscreen webkitallowfullscreen mozallowfullscreen></iframe></div></div>"
      ],
      "text/plain": [
       "<folium.folium.Map at 0x7efd13789fd0>"
      ]
     },
     "execution_count": 1,
     "metadata": {},
     "output_type": "execute_result"
    }
   ],
   "source": [
    "import folium\n",
    "import numpy as np  \n",
    "from folium.features import CustomIcon\n",
    "\n",
    "def plot_a_path(points , zoom = 15):\n",
    "    xs,ys = zip(*points)\n",
    "    \n",
    "    map_center_point = (np.mean(xs), np.mean(ys))\n",
    "    the_map = folium.Map(location=[map_center_point[0], map_center_point[1]], zoom_start = zoom, tiles='http://mt1.google.com/vt/lyrs=y&z={z}&x={x}&y={y}', attr = \"Google Attribution\")\n",
    "    path = folium.PolyLine(locations=points, weight=5, color = 'orange')\n",
    "    the_map.add_child(path)\n",
    "    \n",
    "    start = ( xs[0] ,ys[0] )\n",
    "    end   = ( xs[-1],ys[-1])\n",
    "    \n",
    "    return the_map  \n",
    "\n",
    "plot_a_path([start,end])    "
   ]
  },
  {
   "cell_type": "markdown",
   "metadata": {},
   "source": [
    "### Find the nearest pixels along the transect path"
   ]
  },
  {
   "cell_type": "code",
   "execution_count": 20,
   "metadata": {
    "execution": {
     "iopub.execute_input": "2020-09-29T01:01:33.978677Z",
     "iopub.status.busy": "2020-09-29T01:01:33.978252Z",
     "iopub.status.idle": "2020-09-29T01:01:33.983246Z",
     "shell.execute_reply": "2020-09-29T01:01:33.982799Z"
    }
   },
   "outputs": [],
   "source": [
    "from utils.data_cube_utilities.transect import line_scan\n",
    "\n",
    "import numpy as np\n",
    "\n",
    "def get_index_at(coords, ds):\n",
    "    '''Returns an integer index pair.'''\n",
    "    lat = coords[0]\n",
    "    lon = coords[1]\n",
    "    \n",
    "    nearest_lat = ds.sel(latitude = lat, method = 'nearest').latitude.values\n",
    "    nearest_lon = ds.sel(longitude = lon, method = 'nearest').longitude.values\n",
    "    \n",
    "    lat_index = np.where(ds.latitude.values == nearest_lat)[0]\n",
    "    lon_index = np.where(ds.longitude.values == nearest_lon)[0]\n",
    "    \n",
    "    return (int(lat_index), int(lon_index))\n",
    "\n",
    "def create_pixel_trail(start, end, ds):\n",
    "    a = get_index_at(start, ds)\n",
    "    b = get_index_at(end, ds)\n",
    "    \n",
    "    indices = line_scan.line_scan(a, b)\n",
    "\n",
    "    pixels = [ ds.isel(latitude = x, longitude = y) for x, y in indices]\n",
    "    return pixels"
   ]
  },
  {
   "cell_type": "code",
   "execution_count": 21,
   "metadata": {
    "execution": {
     "iopub.execute_input": "2020-09-29T01:01:34.000900Z",
     "iopub.status.busy": "2020-09-29T01:01:33.987479Z",
     "iopub.status.idle": "2020-09-29T01:01:34.140384Z",
     "shell.execute_reply": "2020-09-29T01:01:34.140834Z"
    }
   },
   "outputs": [],
   "source": [
    "list_of_pixels_along_segment = create_pixel_trail(start, end, landsat_dataset)"
   ]
  },
  {
   "cell_type": "markdown",
   "metadata": {},
   "source": [
    "## Groundwork for Transect (2-D) and Hovmöller (3-D) Plots"
   ]
  },
  {
   "cell_type": "code",
   "execution_count": 22,
   "metadata": {
    "execution": {
     "iopub.execute_input": "2020-09-29T01:01:34.151715Z",
     "iopub.status.busy": "2020-09-29T01:01:34.150427Z",
     "iopub.status.idle": "2020-09-29T01:01:34.310197Z",
     "shell.execute_reply": "2020-09-29T01:01:34.310632Z"
    }
   },
   "outputs": [],
   "source": [
    "import xarray\n",
    "import matplotlib.pyplot as plt  \n",
    "from matplotlib.ticker import FuncFormatter  \n",
    "from datetime import datetime  \n",
    "import time\n",
    "\n",
    "def plot_list_of_pixels(list_of_pixels, band_name, y = None): \n",
    "    start = (\n",
    "             \"{0:.2f}\".format(float(list_of_pixels[0].latitude.values )),\n",
    "             \"{0:.2f}\".format(float(list_of_pixels[0].longitude.values))\n",
    "            )  \n",
    "    end = (\n",
    "             \"{0:.2f}\".format(float(list_of_pixels[-1].latitude.values)),\n",
    "             \"{0:.2f}\".format(float(list_of_pixels[-1].longitude.values))\n",
    "            )\n",
    "    \n",
    "    def reformat_n64(t):\n",
    "        return time.strftime(\"%Y.%m.%d\", time.gmtime(t.astype(int)/1000000000))   \n",
    "    \n",
    "    def pixel_to_array(pixel):\n",
    "        return(pixel.values)\n",
    "    \n",
    "    def figure_ratio(x,y, fixed_width = 10):\n",
    "        width = fixed_width\n",
    "        height = y * (fixed_width / x)\n",
    "        return (width, height)\n",
    "    \n",
    "    pixel_array = np.transpose([pixel_to_array(pix) for pix in list_of_pixels])\n",
    "    \n",
    "    #If the data has one acquisition, then plot transect (2-D), else Hovmöller (3-D) \n",
    "    if y.size == 1:\n",
    "        plt.figure(figsize = (15,5))\n",
    "        plt.scatter(np.arange(pixel_array.size), pixel_array)\n",
    "        plt.title(\"Transect (2-D) \\n Acquisition date: {}\".format(reformat_n64(y)))\n",
    "        plt.xlabel(\"Pixels along the transect \\n {} -  {} \\n \".format(start,end))\n",
    "        plt.ylabel(band_name)\n",
    "\n",
    "    else:\n",
    "        m = FuncFormatter(lambda x :x )\n",
    "        figure = plt.figure(figsize = figure_ratio(len(list_of_pixels),\n",
    "                                                   len(list_of_pixels[0].values),\n",
    "                                                   fixed_width = 15))\n",
    "        number_of_y_ticks = 5 \n",
    "\n",
    "        ax = plt.gca()\n",
    "        cax = ax.imshow(pixel_array, interpolation='none')\n",
    "        figure.colorbar(cax,fraction=0.110, pad=0.04)\n",
    "\n",
    "        ax.set_title(\"Hovmöller (3-D) \\n Acquisition range: {} -  {} \\n \".format(reformat_n64(y[0]),reformat_n64(y[-1])))\n",
    "        plt.xlabel(\"Pixels along the transect \\n {} -  {} \\n \".format(start,end))\n",
    "        ax.get_yaxis().set_major_formatter( FuncFormatter(lambda x, p: reformat_n64(list_of_pixels[0].time.values[int(x)]) if int(x) < len(list_of_pixels[0].time) else \"\"))    \n",
    "        plt.ylabel(\"Time\")\n",
    "    plt.show()"
   ]
  },
  {
   "cell_type": "code",
   "execution_count": 23,
   "metadata": {
    "execution": {
     "iopub.execute_input": "2020-09-29T01:01:34.318925Z",
     "iopub.status.busy": "2020-09-29T01:01:34.318510Z",
     "iopub.status.idle": "2020-09-29T01:01:34.320235Z",
     "shell.execute_reply": "2020-09-29T01:01:34.320642Z"
    }
   },
   "outputs": [],
   "source": [
    "def transect_plot(start,\n",
    "                  end,\n",
    "                  da):\n",
    "    if type(da) is not xarray.DataArray and (type(da) is xarray.Dataset)  :\n",
    "        raise Exception('You should be passing in a data-array, not a Dataset')\n",
    "\n",
    "    pixels = create_pixel_trail(start, end,da)\n",
    "    dates = da.time.values  \n",
    "\n",
    "    lats = [x.latitude.values for x in pixels]\n",
    "    lons = [x.longitude.values for x in pixels]\n",
    "    \n",
    "    plot_list_of_pixels(pixels, da.name, y = dates)"
   ]
  },
  {
   "cell_type": "code",
   "execution_count": 24,
   "metadata": {
    "execution": {
     "iopub.execute_input": "2020-09-29T01:01:34.388741Z",
     "iopub.status.busy": "2020-09-29T01:01:34.353009Z",
     "iopub.status.idle": "2020-09-29T01:01:34.480272Z",
     "shell.execute_reply": "2020-09-29T01:01:34.479806Z"
    }
   },
   "outputs": [],
   "source": [
    "pixels = create_pixel_trail(start, end, landsat_dataset)"
   ]
  },
  {
   "cell_type": "code",
   "execution_count": 25,
   "metadata": {
    "execution": {
     "iopub.execute_input": "2020-09-29T01:01:34.553810Z",
     "iopub.status.busy": "2020-09-29T01:01:34.518057Z",
     "iopub.status.idle": "2020-09-29T01:01:34.571773Z",
     "shell.execute_reply": "2020-09-29T01:01:34.571300Z"
    }
   },
   "outputs": [],
   "source": [
    "t = 2\n",
    "subset = list( map(lambda x: x.isel(time = t), pixels))"
   ]
  },
  {
   "cell_type": "markdown",
   "metadata": {},
   "source": [
    "### Mask Clouds"
   ]
  },
  {
   "cell_type": "code",
   "execution_count": 26,
   "metadata": {
    "execution": {
     "iopub.execute_input": "2020-09-29T01:01:34.575812Z",
     "iopub.status.busy": "2020-09-29T01:01:34.575314Z",
     "iopub.status.idle": "2020-09-29T01:01:34.577079Z",
     "shell.execute_reply": "2020-09-29T01:01:34.577501Z"
    }
   },
   "outputs": [],
   "source": [
    "def land_and_water_masking_ls7(dataset):    \n",
    "    #Create boolean Masks for clear and water pixels\n",
    "    clear_pixels = landsat_dataset.pixel_qa.values == 2 + 64\n",
    "    water_pixels = landsat_dataset.pixel_qa.values == 4 + 64\n",
    "\n",
    "    a_clean_mask = np.logical_or(clear_pixels, water_pixels)\n",
    "    return a_clean_mask"
   ]
  },
  {
   "cell_type": "code",
   "execution_count": 27,
   "metadata": {
    "execution": {
     "iopub.execute_input": "2020-09-29T01:01:34.580657Z",
     "iopub.status.busy": "2020-09-29T01:01:34.580247Z",
     "iopub.status.idle": "2020-09-29T01:01:35.193498Z",
     "shell.execute_reply": "2020-09-29T01:01:35.194083Z"
    }
   },
   "outputs": [],
   "source": [
    "cloudless_dataset = landsat_dataset.where(land_and_water_masking_ls7(landsat_dataset))"
   ]
  },
  {
   "cell_type": "markdown",
   "metadata": {},
   "source": [
    "### Select an acquisition date and then plot a 2D transect without clouds"
   ]
  },
  {
   "cell_type": "code",
   "execution_count": 28,
   "metadata": {
    "execution": {
     "iopub.execute_input": "2020-09-29T01:01:35.197316Z",
     "iopub.status.busy": "2020-09-29T01:01:35.196817Z",
     "iopub.status.idle": "2020-09-29T01:01:35.198553Z",
     "shell.execute_reply": "2020-09-29T01:01:35.198966Z"
    }
   },
   "outputs": [],
   "source": [
    "# select an acquisition number from the start (t=0) to \"time\" using the array limits above\n",
    "acquisition_number = 10"
   ]
  },
  {
   "cell_type": "code",
   "execution_count": 29,
   "metadata": {
    "execution": {
     "iopub.execute_input": "2020-09-29T01:01:35.202444Z",
     "iopub.status.busy": "2020-09-29T01:01:35.201949Z",
     "iopub.status.idle": "2020-09-29T01:01:35.203667Z",
     "shell.execute_reply": "2020-09-29T01:01:35.204080Z"
    }
   },
   "outputs": [],
   "source": [
    "#If plotted will create the 2-D transect\n",
    "cloudless_dataset_for_acq_no = cloudless_dataset.isel(time = acquisition_number) "
   ]
  },
  {
   "cell_type": "code",
   "execution_count": 30,
   "metadata": {
    "execution": {
     "iopub.execute_input": "2020-09-29T01:01:35.210274Z",
     "iopub.status.busy": "2020-09-29T01:01:35.209764Z",
     "iopub.status.idle": "2020-09-29T01:01:35.211415Z",
     "shell.execute_reply": "2020-09-29T01:01:35.211820Z"
    }
   },
   "outputs": [],
   "source": [
    "#If Plotted will create the 3-D Hovmoller plot for a portion of the time series (min to max)\n",
    "min_acq = 1\n",
    "max_acq = 4\n",
    "\n",
    "cloudless_dataset_from_1_to_acq_no = cloudless_dataset.isel(time = slice(min_acq, max_acq)) "
   ]
  },
  {
   "cell_type": "markdown",
   "metadata": {},
   "source": [
    "## Select one of the XARRAY parameters for analysis"
   ]
  },
  {
   "cell_type": "code",
   "execution_count": 31,
   "metadata": {
    "execution": {
     "iopub.execute_input": "2020-09-29T01:01:35.214725Z",
     "iopub.status.busy": "2020-09-29T01:01:35.214291Z",
     "iopub.status.idle": "2020-09-29T01:01:35.215939Z",
     "shell.execute_reply": "2020-09-29T01:01:35.216343Z"
    }
   },
   "outputs": [],
   "source": [
    "band = 'green'"
   ]
  },
  {
   "cell_type": "markdown",
   "metadata": {},
   "source": [
    "### Create a 2D Transect plot of the \"band\" for one date"
   ]
  },
  {
   "cell_type": "code",
   "execution_count": 32,
   "metadata": {
    "execution": {
     "iopub.execute_input": "2020-09-29T01:01:35.220577Z",
     "iopub.status.busy": "2020-09-29T01:01:35.220097Z",
     "iopub.status.idle": "2020-09-29T01:01:35.572568Z",
     "shell.execute_reply": "2020-09-29T01:01:35.572052Z"
    },
    "scrolled": false
   },
   "outputs": [
    {
     "data": {
      "image/png": "[encoded data removed]",
      "text/plain": [
       "<Figure size 1080x360 with 1 Axes>"
      ]
     },
     "metadata": {
      "needs_background": "light"
     },
     "output_type": "display_data"
    }
   ],
   "source": [
    "transect_plot(start, end, cloudless_dataset_for_acq_no[band])"
   ]
  },
  {
   "cell_type": "markdown",
   "metadata": {},
   "source": [
    "### Create a 2D Transect plot of NDVI for one date"
   ]
  },
  {
   "cell_type": "code",
   "execution_count": 33,
   "metadata": {
    "execution": {
     "iopub.execute_input": "2020-09-29T01:01:35.576741Z",
     "iopub.status.busy": "2020-09-29T01:01:35.576332Z",
     "iopub.status.idle": "2020-09-29T01:01:35.850069Z",
     "shell.execute_reply": "2020-09-29T01:01:35.849572Z"
    }
   },
   "outputs": [
    {
     "data": {
      "image/png": "[encoded data removed]",
      "text/plain": [
       "<Figure size 1080x360 with 1 Axes>"
      ]
     },
     "metadata": {
      "needs_background": "light"
     },
     "output_type": "display_data"
    }
   ],
   "source": [
    "transect_plot(start, end, NDVI(cloudless_dataset_for_acq_no))"
   ]
  },
  {
   "cell_type": "markdown",
   "metadata": {},
   "source": [
    "### Create a 3D Hovmoller plot of NDVI for the entire time series"
   ]
  },
  {
   "cell_type": "code",
   "execution_count": 34,
   "metadata": {
    "execution": {
     "iopub.execute_input": "2020-09-29T01:01:35.854828Z",
     "iopub.status.busy": "2020-09-29T01:01:35.853872Z",
     "iopub.status.idle": "2020-09-29T01:01:36.392708Z",
     "shell.execute_reply": "2020-09-29T01:01:36.392257Z"
    }
   },
   "outputs": [
    {
     "data": {
      "image/png": "[encoded data removed]",
      "text/plain": [
       "<Figure size 1080x33.6691 with 2 Axes>"
      ]
     },
     "metadata": {
      "needs_background": "light"
     },
     "output_type": "display_data"
    }
   ],
   "source": [
    "transect_plot(start, end, NDVI(cloudless_dataset))"
   ]
  },
  {
   "cell_type": "markdown",
   "metadata": {},
   "source": [
    "### Create a 2D Transect plot of water existence for one date"
   ]
  },
  {
   "cell_type": "code",
   "execution_count": 35,
   "metadata": {
    "execution": {
     "iopub.execute_input": "2020-09-29T01:01:36.397900Z",
     "iopub.status.busy": "2020-09-29T01:01:36.397058Z",
     "iopub.status.idle": "2020-09-29T01:01:36.647179Z",
     "shell.execute_reply": "2020-09-29T01:01:36.647598Z"
    }
   },
   "outputs": [
    {
     "data": {
      "image/png": "[encoded data removed]",
      "text/plain": [
       "<Figure size 1080x360 with 1 Axes>"
      ]
     },
     "metadata": {
      "needs_background": "light"
     },
     "output_type": "display_data"
    }
   ],
   "source": [
    "transect_plot(start, end, water_xarray.isel(time = acquisition_number))"
   ]
  },
  {
   "cell_type": "markdown",
   "metadata": {},
   "source": [
    "### Create a 3D Hovmoller plot of water extent for the entire time series"
   ]
  },
  {
   "cell_type": "code",
   "execution_count": 36,
   "metadata": {
    "execution": {
     "iopub.execute_input": "2020-09-29T01:01:36.689817Z",
     "iopub.status.busy": "2020-09-29T01:01:36.653563Z",
     "iopub.status.idle": "2020-09-29T01:01:36.948949Z",
     "shell.execute_reply": "2020-09-29T01:01:36.948510Z"
    },
    "scrolled": true
   },
   "outputs": [
    {
     "data": {
      "image/png": "[encoded data removed]",
      "text/plain": [
       "<Figure size 1080x33.6691 with 2 Axes>"
      ]
     },
     "metadata": {
      "needs_background": "light"
     },
     "output_type": "display_data"
    }
   ],
   "source": [
    "transect_plot(start, end, water_xarray)"
   ]
  },
  {
   "cell_type": "markdown",
   "metadata": {},
   "source": [
    "### Create a 2D Transect plot of water quality (TSM) for one date"
   ]
  },
  {
   "cell_type": "code",
   "execution_count": 37,
   "metadata": {
    "execution": {
     "iopub.execute_input": "2020-09-29T01:01:36.954108Z",
     "iopub.status.busy": "2020-09-29T01:01:36.953256Z",
     "iopub.status.idle": "2020-09-29T01:01:37.196464Z",
     "shell.execute_reply": "2020-09-29T01:01:37.196883Z"
    }
   },
   "outputs": [
    {
     "data": {
      "image/png": "[encoded data removed]",
      "text/plain": [
       "<Figure size 1080x360 with 1 Axes>"
      ]
     },
     "metadata": {
      "needs_background": "light"
     },
     "output_type": "display_data"
    }
   ],
   "source": [
    "transect_plot(start, end, tsm_xarray.isel(time = acquisition_number))"
   ]
  },
  {
   "cell_type": "markdown",
   "metadata": {},
   "source": [
    "### Create a 3D Hovmoller plot of water quality (TSM) for one date"
   ]
  },
  {
   "cell_type": "code",
   "execution_count": 38,
   "metadata": {
    "execution": {
     "iopub.execute_input": "2020-09-29T01:01:37.202931Z",
     "iopub.status.busy": "2020-09-29T01:01:37.200950Z",
     "iopub.status.idle": "2020-09-29T01:01:37.496174Z",
     "shell.execute_reply": "2020-09-29T01:01:37.496592Z"
    }
   },
   "outputs": [
    {
     "data": {
      "image/png": "[encoded data removed]",
      "text/plain": [
       "<Figure size 1080x33.6691 with 2 Axes>"
      ]
     },
     "metadata": {
      "needs_background": "light"
     },
     "output_type": "display_data"
    }
   ],
   "source": [
    "transect_plot(start, end, tsm_xarray)"
   ]
  }
 ],
 "metadata": {
  "kernelspec": {
   "display_name": "Python 3",
   "language": "python",
   "name": "python3"
  },
  "language_info": {
   "codemirror_mode": {
    "name": "ipython",
    "version": 3
   },
   "file_extension": ".py",
   "mimetype": "text/x-python",
   "name": "python",
   "nbconvert_exporter": "python",
   "pygments_lexer": "ipython3",
   "version": "3.6.9"
  }
 },
 "nbformat": 4,
 "nbformat_minor": 2
}
