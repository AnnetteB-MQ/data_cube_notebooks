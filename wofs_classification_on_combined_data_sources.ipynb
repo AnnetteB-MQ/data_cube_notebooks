{
 "cells": [
  {
   "cell_type": "markdown",
   "metadata": {},
   "source": [
    "# CEOS Data Cube - WOFS Classification on Combined Data Sources\n",
    "*****\n",
    "**Description:** This Python notebook allows users to directly interact with a CEOS-formatted data cube to perform analyses for water management. The following steps will allow users to connect to a data cube, define the analysis location and time period (extent of latitude/longitude and dates), and then run the Australian Water Observations from Space (WOFS) algorithm. The outputs of the WOFS algorithm include static and time series pixel-level water observations for any pixel. These results provide critical information for water management that will allow users to assess water cycle dynamics, historical water extent and the risk of floods and droughts. In this notebook, Landsat 5, 7, and 8 data will be used to create the output product. Future versions may consider the addition of water quality parameters (e.g. Total Suspended Matter, Chlorophyll-A, CDOM), coastal erosion analyses and in-situ precipitation and surface temperature data.\n",
    "*****"
   ]
  },
  {
   "cell_type": "markdown",
   "metadata": {},
   "source": [
    "**Import necessary Data Cube libraries and dependencies.**"
   ]
  },
  {
   "cell_type": "code",
   "execution_count": 1,
   "metadata": {},
   "outputs": [
    {
     "name": "stdout",
     "output_type": "stream",
     "text": [
      "'Basemap' was not found in 'mpl_toolkits.basemap'.  It is likely that 'mpl_toolkits.basemap' is not present\n"
     ]
    }
   ],
   "source": [
    "%matplotlib inline\n",
    "\n",
    "import matplotlib.pyplot as plt\n",
    "\n",
    "from datetime import datetime, timedelta\n",
    "import numpy as np\n",
    "\n",
    "import datacube\n",
    "import utils.data_cube_utilities.dc_utilities as utilities\n",
    "from utils.data_cube_utilities.dc_water_classifier import wofs_classify\n",
    "from utils.data_cube_utilities.dc_utilities import perform_timeseries_analysis\n",
    "from utils.data_cube_utilities.dc_mosaic import create_mosaic, ls7_unpack_qa\n",
    "from utils.data_cube_utilities.dc_display_map import display_map\n",
    "import dc_au_colormaps\n",
    "\n",
    "import gdal\n",
    "\n",
    "import xarray as xr\n",
    "\n",
    "from dc_notebook_utilities import create_extents_gui, generate_metadata_report, create_acq_date_gui"
   ]
  },
  {
   "cell_type": "markdown",
   "metadata": {},
   "source": [
    "**First, we must connect to our data cube.** We can then query the contents of the data cube we have connected to, including both the metadata and the actual data."
   ]
  },
  {
   "cell_type": "code",
   "execution_count": 2,
   "metadata": {},
   "outputs": [],
   "source": [
    "dc = datacube.Datacube(config='/home/localuser/.datacube.conf', app='dc-water-analysis')\n",
    "api = datacube.api.API(datacube=dc)"
   ]
  },
  {
   "cell_type": "markdown",
   "metadata": {},
   "source": [
    "**Obtain the metadata of our cube...** Initially, we need to get the platforms and products in the cube. The rest of the metadata will be dependent on these two options. We currently only have multisensor data for our Lake Chad region, so the metadata is generated below. "
   ]
  },
  {
   "cell_type": "code",
   "execution_count": 3,
   "metadata": {},
   "outputs": [],
   "source": [
    "# Get available products\n",
    "products = dc.list_products()\n",
    "platform_list = ['LANDSAT_5', 'LANDSAT_7']#, 'LANDSAT_8']\n",
    "product_list = ['ls5_ledaps_lake_chad_full', 'ls7_ledaps_lake_chad_full']#, 'ls8_lasrc_lake_chad_full']"
   ]
  },
  {
   "cell_type": "markdown",
   "metadata": {},
   "source": [
    "**With the platform and product, we can get the rest of the metadata.** This includes the resolution of a pixel, the latitude/longitude extents, and the minimum and maximum dates available of the chosen platform/product combination."
   ]
  },
  {
   "cell_type": "code",
   "execution_count": 4,
   "metadata": {},
   "outputs": [
    {
     "name": "stdout",
     "output_type": "stream",
     "text": [
      "Metadata for:  ls5_ledaps_lake_chad_full LANDSAT_5\n"
     ]
    },
    {
     "data": {
      "text/html": [
       "<h2>Metadata Report: </h2>"
      ],
      "text/plain": [
       "<IPython.core.display.HTML object>"
      ]
     },
     "metadata": {},
     "output_type": "display_data"
    },
    {
     "data": {
      "text/html": [
       "<table><tr><th></th><th>Min</th><th>Max</th><th>Resolution</th></tr><tr><th>Date: </th><td>1984-6-8</td><td>1999-2-8</td><td></td></tr><tr><th>Longitude: </th><td>11.514</td><td>16.555</td><td>0.00027769</td></tr><tr><th>Latitude: </th><td>12.066</td><td>15.409</td><td>-0.000271152</td></tr></table>"
      ],
      "text/plain": [
       "<IPython.core.display.HTML object>"
      ]
     },
     "metadata": {},
     "output_type": "display_data"
    },
    {
     "name": "stdout",
     "output_type": "stream",
     "text": [
      "Metadata for:  ls7_ledaps_lake_chad_full LANDSAT_7\n"
     ]
    },
    {
     "data": {
      "text/html": [
       "<h2>Metadata Report: </h2>"
      ],
      "text/plain": [
       "<IPython.core.display.HTML object>"
      ]
     },
     "metadata": {},
     "output_type": "display_data"
    },
    {
     "data": {
      "text/html": [
       "<table><tr><th></th><th>Min</th><th>Max</th><th>Resolution</th></tr><tr><th>Date: </th><td>1999-7-10</td><td>2016-12-31</td><td></td></tr><tr><th>Longitude: </th><td>11.565</td><td>16.555</td><td>0.00027769</td></tr><tr><th>Latitude: </th><td>12.061</td><td>15.413</td><td>-0.000271152</td></tr></table>"
      ],
      "text/plain": [
       "<IPython.core.display.HTML object>"
      ]
     },
     "metadata": {},
     "output_type": "display_data"
    }
   ],
   "source": [
    "for product_index in range(len(product_list)):\n",
    "    # Get the pixel resolution of the selected product\n",
    "    resolution = products.resolution[products.name == product_list[product_index]]\n",
    "    lat_dist = resolution.values[0][0]\n",
    "    lon_dist = resolution.values[0][1]\n",
    "\n",
    "    # Get the extents of the cube\n",
    "    descriptor = api.get_descriptor({'platform': platform_list[product_index]})[product_list[product_index]]\n",
    "\n",
    "    min_date = descriptor['result_min'][0]\n",
    "    min_lat = descriptor['result_min'][1]\n",
    "    min_lon = descriptor['result_min'][2]\n",
    "\n",
    "    min_date_str = str(min_date.year) + '-' + str(min_date.month) + '-' + str(min_date.day)\n",
    "\n",
    "    min_lat_rounded = round(min_lat, 3)\n",
    "    min_lon_rounded =  round(min_lon, 3)\n",
    "\n",
    "    max_date = descriptor['result_max'][0]\n",
    "    max_lat = descriptor['result_max'][1] \n",
    "    max_lon = descriptor['result_max'][2] \n",
    "\n",
    "    max_date_str = str(max_date.year) + '-' + str(max_date.month) + '-' + str(max_date.day)\n",
    "\n",
    "    max_lat_rounded = round(max_lat, 3) #calculates latitude of the pixel's center\n",
    "    max_lon_rounded = round(max_lon, 3) #calculates longitude of the pixel's center\n",
    "\n",
    "    # Display metadata\n",
    "    print(\"Metadata for: \", product_list[product_index], platform_list[product_index])\n",
    "    generate_metadata_report(min_date_str, max_date_str, \n",
    "                             min_lon_rounded, max_lon_rounded, lon_dist,\n",
    "                             min_lat_rounded, max_lat_rounded, lat_dist)"
   ]
  },
  {
   "cell_type": "markdown",
   "metadata": {},
   "source": [
    "**Using the extents from above, we have filled in the defaults for the extent GUI below.** \n",
    "While there is a large region available, we recommend using the values below:\n",
    "\n",
    "    min_lon = 14.244\n",
    "    max_lon = 14.493\n",
    "    min_lat = 12.737\n",
    "    max_lat = 12.987"
   ]
  },
  {
   "cell_type": "code",
   "execution_count": 5,
   "metadata": {},
   "outputs": [
    {
     "data": {
      "application/vnd.jupyter.widget-view+json": {
       "model_id": "c5b75c6d6a454ae99985e9c2667cabf1",
       "version_major": 2,
       "version_minor": 0
      },
      "text/html": [
       "<p>Failed to display Jupyter Widget of type <code>Label</code>.</p>\n",
       "<p>\n",
       "  If you're reading this message in the Jupyter Notebook or JupyterLab Notebook, it may mean\n",
       "  that the widgets JavaScript is still loading. If this message persists, it\n",
       "  likely means that the widgets JavaScript library is either not installed or\n",
       "  not enabled. See the <a href=\"https://ipywidgets.readthedocs.io/en/stable/user_install.html\">Jupyter\n",
       "  Widgets Documentation</a> for setup instructions.\n",
       "</p>\n",
       "<p>\n",
       "  If you're reading this message in another frontend (for example, a static\n",
       "  rendering on GitHub or <a href=\"https://nbviewer.jupyter.org/\">NBViewer</a>),\n",
       "  it may mean that your frontend doesn't currently support widgets.\n",
       "</p>\n"
      ],
      "text/plain": [
       "Label(value='Start date: ')"
      ]
     },
     "metadata": {},
     "output_type": "display_data"
    },
    {
     "data": {
      "application/vnd.jupyter.widget-view+json": {
       "model_id": "e916ceba9a4b4b918697e2dc91ce6447",
       "version_major": 2,
       "version_minor": 0
      },
      "text/html": [
       "<p>Failed to display Jupyter Widget of type <code>Text</code>.</p>\n",
       "<p>\n",
       "  If you're reading this message in the Jupyter Notebook or JupyterLab Notebook, it may mean\n",
       "  that the widgets JavaScript is still loading. If this message persists, it\n",
       "  likely means that the widgets JavaScript library is either not installed or\n",
       "  not enabled. See the <a href=\"https://ipywidgets.readthedocs.io/en/stable/user_install.html\">Jupyter\n",
       "  Widgets Documentation</a> for setup instructions.\n",
       "</p>\n",
       "<p>\n",
       "  If you're reading this message in another frontend (for example, a static\n",
       "  rendering on GitHub or <a href=\"https://nbviewer.jupyter.org/\">NBViewer</a>),\n",
       "  it may mean that your frontend doesn't currently support widgets.\n",
       "</p>\n"
      ],
      "text/plain": [
       "Text(value='1984-07-01')"
      ]
     },
     "metadata": {},
     "output_type": "display_data"
    },
    {
     "data": {
      "application/vnd.jupyter.widget-view+json": {
       "model_id": "cfe9abfc52d349628fda8b85f505bddb",
       "version_major": 2,
       "version_minor": 0
      },
      "text/html": [
       "<p>Failed to display Jupyter Widget of type <code>Label</code>.</p>\n",
       "<p>\n",
       "  If you're reading this message in the Jupyter Notebook or JupyterLab Notebook, it may mean\n",
       "  that the widgets JavaScript is still loading. If this message persists, it\n",
       "  likely means that the widgets JavaScript library is either not installed or\n",
       "  not enabled. See the <a href=\"https://ipywidgets.readthedocs.io/en/stable/user_install.html\">Jupyter\n",
       "  Widgets Documentation</a> for setup instructions.\n",
       "</p>\n",
       "<p>\n",
       "  If you're reading this message in another frontend (for example, a static\n",
       "  rendering on GitHub or <a href=\"https://nbviewer.jupyter.org/\">NBViewer</a>),\n",
       "  it may mean that your frontend doesn't currently support widgets.\n",
       "</p>\n"
      ],
      "text/plain": [
       "Label(value='End date: ')"
      ]
     },
     "metadata": {},
     "output_type": "display_data"
    },
    {
     "data": {
      "application/vnd.jupyter.widget-view+json": {
       "model_id": "a7c584407ce249d6b1203d36c9678751",
       "version_major": 2,
       "version_minor": 0
      },
      "text/html": [
       "<p>Failed to display Jupyter Widget of type <code>Text</code>.</p>\n",
       "<p>\n",
       "  If you're reading this message in the Jupyter Notebook or JupyterLab Notebook, it may mean\n",
       "  that the widgets JavaScript is still loading. If this message persists, it\n",
       "  likely means that the widgets JavaScript library is either not installed or\n",
       "  not enabled. See the <a href=\"https://ipywidgets.readthedocs.io/en/stable/user_install.html\">Jupyter\n",
       "  Widgets Documentation</a> for setup instructions.\n",
       "</p>\n",
       "<p>\n",
       "  If you're reading this message in another frontend (for example, a static\n",
       "  rendering on GitHub or <a href=\"https://nbviewer.jupyter.org/\">NBViewer</a>),\n",
       "  it may mean that your frontend doesn't currently support widgets.\n",
       "</p>\n"
      ],
      "text/plain": [
       "Text(value='2016-10-05')"
      ]
     },
     "metadata": {},
     "output_type": "display_data"
    },
    {
     "data": {
      "application/vnd.jupyter.widget-view+json": {
       "model_id": "71a3b9fdb1b849c58d8c91ceba1237d0",
       "version_major": 2,
       "version_minor": 0
      },
      "text/html": [
       "<p>Failed to display Jupyter Widget of type <code>Label</code>.</p>\n",
       "<p>\n",
       "  If you're reading this message in the Jupyter Notebook or JupyterLab Notebook, it may mean\n",
       "  that the widgets JavaScript is still loading. If this message persists, it\n",
       "  likely means that the widgets JavaScript library is either not installed or\n",
       "  not enabled. See the <a href=\"https://ipywidgets.readthedocs.io/en/stable/user_install.html\">Jupyter\n",
       "  Widgets Documentation</a> for setup instructions.\n",
       "</p>\n",
       "<p>\n",
       "  If you're reading this message in another frontend (for example, a static\n",
       "  rendering on GitHub or <a href=\"https://nbviewer.jupyter.org/\">NBViewer</a>),\n",
       "  it may mean that your frontend doesn't currently support widgets.\n",
       "</p>\n"
      ],
      "text/plain": [
       "Label(value='Min lon: ')"
      ]
     },
     "metadata": {},
     "output_type": "display_data"
    },
    {
     "data": {
      "application/vnd.jupyter.widget-view+json": {
       "model_id": "67c1c694dba744d59ed80042e69a43b1",
       "version_major": 2,
       "version_minor": 0
      },
      "text/html": [
       "<p>Failed to display Jupyter Widget of type <code>BoundedFloatText</code>.</p>\n",
       "<p>\n",
       "  If you're reading this message in the Jupyter Notebook or JupyterLab Notebook, it may mean\n",
       "  that the widgets JavaScript is still loading. If this message persists, it\n",
       "  likely means that the widgets JavaScript library is either not installed or\n",
       "  not enabled. See the <a href=\"https://ipywidgets.readthedocs.io/en/stable/user_install.html\">Jupyter\n",
       "  Widgets Documentation</a> for setup instructions.\n",
       "</p>\n",
       "<p>\n",
       "  If you're reading this message in another frontend (for example, a static\n",
       "  rendering on GitHub or <a href=\"https://nbviewer.jupyter.org/\">NBViewer</a>),\n",
       "  it may mean that your frontend doesn't currently support widgets.\n",
       "</p>\n"
      ],
      "text/plain": [
       "BoundedFloatText(value=14.244, max=14.493, min=14.244)"
      ]
     },
     "metadata": {},
     "output_type": "display_data"
    },
    {
     "data": {
      "application/vnd.jupyter.widget-view+json": {
       "model_id": "eb8cc9bee7c247aa8304f0f6da6d4895",
       "version_major": 2,
       "version_minor": 0
      },
      "text/html": [
       "<p>Failed to display Jupyter Widget of type <code>Label</code>.</p>\n",
       "<p>\n",
       "  If you're reading this message in the Jupyter Notebook or JupyterLab Notebook, it may mean\n",
       "  that the widgets JavaScript is still loading. If this message persists, it\n",
       "  likely means that the widgets JavaScript library is either not installed or\n",
       "  not enabled. See the <a href=\"https://ipywidgets.readthedocs.io/en/stable/user_install.html\">Jupyter\n",
       "  Widgets Documentation</a> for setup instructions.\n",
       "</p>\n",
       "<p>\n",
       "  If you're reading this message in another frontend (for example, a static\n",
       "  rendering on GitHub or <a href=\"https://nbviewer.jupyter.org/\">NBViewer</a>),\n",
       "  it may mean that your frontend doesn't currently support widgets.\n",
       "</p>\n"
      ],
      "text/plain": [
       "Label(value='Max lon: ')"
      ]
     },
     "metadata": {},
     "output_type": "display_data"
    },
    {
     "data": {
      "application/vnd.jupyter.widget-view+json": {
       "model_id": "b09293ff492f4fd9b85ddd9383c0ca81",
       "version_major": 2,
       "version_minor": 0
      },
      "text/html": [
       "<p>Failed to display Jupyter Widget of type <code>BoundedFloatText</code>.</p>\n",
       "<p>\n",
       "  If you're reading this message in the Jupyter Notebook or JupyterLab Notebook, it may mean\n",
       "  that the widgets JavaScript is still loading. If this message persists, it\n",
       "  likely means that the widgets JavaScript library is either not installed or\n",
       "  not enabled. See the <a href=\"https://ipywidgets.readthedocs.io/en/stable/user_install.html\">Jupyter\n",
       "  Widgets Documentation</a> for setup instructions.\n",
       "</p>\n",
       "<p>\n",
       "  If you're reading this message in another frontend (for example, a static\n",
       "  rendering on GitHub or <a href=\"https://nbviewer.jupyter.org/\">NBViewer</a>),\n",
       "  it may mean that your frontend doesn't currently support widgets.\n",
       "</p>\n"
      ],
      "text/plain": [
       "BoundedFloatText(value=14.493, max=14.493, min=14.244)"
      ]
     },
     "metadata": {},
     "output_type": "display_data"
    },
    {
     "data": {
      "application/vnd.jupyter.widget-view+json": {
       "model_id": "ada8e08bed174e4bbf7ab382130fc8f4",
       "version_major": 2,
       "version_minor": 0
      },
      "text/html": [
       "<p>Failed to display Jupyter Widget of type <code>Label</code>.</p>\n",
       "<p>\n",
       "  If you're reading this message in the Jupyter Notebook or JupyterLab Notebook, it may mean\n",
       "  that the widgets JavaScript is still loading. If this message persists, it\n",
       "  likely means that the widgets JavaScript library is either not installed or\n",
       "  not enabled. See the <a href=\"https://ipywidgets.readthedocs.io/en/stable/user_install.html\">Jupyter\n",
       "  Widgets Documentation</a> for setup instructions.\n",
       "</p>\n",
       "<p>\n",
       "  If you're reading this message in another frontend (for example, a static\n",
       "  rendering on GitHub or <a href=\"https://nbviewer.jupyter.org/\">NBViewer</a>),\n",
       "  it may mean that your frontend doesn't currently support widgets.\n",
       "</p>\n"
      ],
      "text/plain": [
       "Label(value='Min lat: ')"
      ]
     },
     "metadata": {},
     "output_type": "display_data"
    },
    {
     "data": {
      "application/vnd.jupyter.widget-view+json": {
       "model_id": "dfb78445620c4ccda5c546ede5644260",
       "version_major": 2,
       "version_minor": 0
      },
      "text/html": [
       "<p>Failed to display Jupyter Widget of type <code>BoundedFloatText</code>.</p>\n",
       "<p>\n",
       "  If you're reading this message in the Jupyter Notebook or JupyterLab Notebook, it may mean\n",
       "  that the widgets JavaScript is still loading. If this message persists, it\n",
       "  likely means that the widgets JavaScript library is either not installed or\n",
       "  not enabled. See the <a href=\"https://ipywidgets.readthedocs.io/en/stable/user_install.html\">Jupyter\n",
       "  Widgets Documentation</a> for setup instructions.\n",
       "</p>\n",
       "<p>\n",
       "  If you're reading this message in another frontend (for example, a static\n",
       "  rendering on GitHub or <a href=\"https://nbviewer.jupyter.org/\">NBViewer</a>),\n",
       "  it may mean that your frontend doesn't currently support widgets.\n",
       "</p>\n"
      ],
      "text/plain": [
       "BoundedFloatText(value=12.737, max=12.987, min=12.737)"
      ]
     },
     "metadata": {},
     "output_type": "display_data"
    },
    {
     "data": {
      "application/vnd.jupyter.widget-view+json": {
       "model_id": "49dfb318f92340fc9f0101b29e4251a1",
       "version_major": 2,
       "version_minor": 0
      },
      "text/html": [
       "<p>Failed to display Jupyter Widget of type <code>Label</code>.</p>\n",
       "<p>\n",
       "  If you're reading this message in the Jupyter Notebook or JupyterLab Notebook, it may mean\n",
       "  that the widgets JavaScript is still loading. If this message persists, it\n",
       "  likely means that the widgets JavaScript library is either not installed or\n",
       "  not enabled. See the <a href=\"https://ipywidgets.readthedocs.io/en/stable/user_install.html\">Jupyter\n",
       "  Widgets Documentation</a> for setup instructions.\n",
       "</p>\n",
       "<p>\n",
       "  If you're reading this message in another frontend (for example, a static\n",
       "  rendering on GitHub or <a href=\"https://nbviewer.jupyter.org/\">NBViewer</a>),\n",
       "  it may mean that your frontend doesn't currently support widgets.\n",
       "</p>\n"
      ],
      "text/plain": [
       "Label(value='Max lat: ')"
      ]
     },
     "metadata": {},
     "output_type": "display_data"
    },
    {
     "data": {
      "application/vnd.jupyter.widget-view+json": {
       "model_id": "d1be2bb115fe4bfe929e08485b0290b1",
       "version_major": 2,
       "version_minor": 0
      },
      "text/html": [
       "<p>Failed to display Jupyter Widget of type <code>BoundedFloatText</code>.</p>\n",
       "<p>\n",
       "  If you're reading this message in the Jupyter Notebook or JupyterLab Notebook, it may mean\n",
       "  that the widgets JavaScript is still loading. If this message persists, it\n",
       "  likely means that the widgets JavaScript library is either not installed or\n",
       "  not enabled. See the <a href=\"https://ipywidgets.readthedocs.io/en/stable/user_install.html\">Jupyter\n",
       "  Widgets Documentation</a> for setup instructions.\n",
       "</p>\n",
       "<p>\n",
       "  If you're reading this message in another frontend (for example, a static\n",
       "  rendering on GitHub or <a href=\"https://nbviewer.jupyter.org/\">NBViewer</a>),\n",
       "  it may mean that your frontend doesn't currently support widgets.\n",
       "</p>\n"
      ],
      "text/plain": [
       "BoundedFloatText(value=12.987, max=12.987, min=12.737)"
      ]
     },
     "metadata": {},
     "output_type": "display_data"
    }
   ],
   "source": [
    "min_lon_small = 14.244\n",
    "max_lon_small = 14.493\n",
    "min_lat_small = 12.737\n",
    "max_lat_small = 12.987\n",
    "extent_values = create_extents_gui(\"1984-07-01\", \"2016-10-05\",\n",
    "                                   min_lon_small, max_lon_small,\n",
    "                                   min_lat_small, max_lat_small)"
   ]
  },
  {
   "cell_type": "markdown",
   "metadata": {},
   "source": [
    "**The entire dataset for all of the defined products and platforms are loaded below.**\n",
    "\n",
    "They are loaded seperately and then combined over the time axis of the data. Using the full time extent, you will see that there are over 400 seperate acquisitions."
   ]
  },
  {
   "cell_type": "code",
   "execution_count": 6,
   "metadata": {},
   "outputs": [
    {
     "data": {
      "text/html": [
       "<div>\n",
       "<table border=\"1\" class=\"dataframe\">\n",
       "  <thead>\n",
       "    <tr style=\"text-align: right;\">\n",
       "      <th></th>\n",
       "      <th>name</th>\n",
       "      <th>description</th>\n",
       "      <th>format</th>\n",
       "      <th>orbit</th>\n",
       "      <th>instrument</th>\n",
       "      <th>lon</th>\n",
       "      <th>sat_row</th>\n",
       "      <th>platform</th>\n",
       "      <th>sat_path</th>\n",
       "      <th>product_type</th>\n",
       "      <th>lat</th>\n",
       "      <th>time</th>\n",
       "      <th>gsi</th>\n",
       "      <th>crs</th>\n",
       "      <th>resolution</th>\n",
       "      <th>tile_size</th>\n",
       "      <th>spatial_dimensions</th>\n",
       "    </tr>\n",
       "    <tr>\n",
       "      <th>id</th>\n",
       "      <th></th>\n",
       "      <th></th>\n",
       "      <th></th>\n",
       "      <th></th>\n",
       "      <th></th>\n",
       "      <th></th>\n",
       "      <th></th>\n",
       "      <th></th>\n",
       "      <th></th>\n",
       "      <th></th>\n",
       "      <th></th>\n",
       "      <th></th>\n",
       "      <th></th>\n",
       "      <th></th>\n",
       "      <th></th>\n",
       "      <th></th>\n",
       "      <th></th>\n",
       "    </tr>\n",
       "  </thead>\n",
       "  <tbody>\n",
       "    <tr>\n",
       "      <th>46</th>\n",
       "      <td>alos2_jjfast_scansar_tile</td>\n",
       "      <td>ALOS-2 PALSAR JJ-FAST mosaic tiles generated f...</td>\n",
       "      <td>GeoTiff</td>\n",
       "      <td>NaN</td>\n",
       "      <td>PALSAR</td>\n",
       "      <td>NaN</td>\n",
       "      <td>NaN</td>\n",
       "      <td>ALOS_2</td>\n",
       "      <td>NaN</td>\n",
       "      <td>tile</td>\n",
       "      <td>NaN</td>\n",
       "      <td>None</td>\n",
       "      <td>NaN</td>\n",
       "      <td>NaN</td>\n",
       "      <td>NaN</td>\n",
       "      <td>NaN</td>\n",
       "      <td>NaN</td>\n",
       "    </tr>\n",
       "    <tr>\n",
       "      <th>61</th>\n",
       "      <td>alos2_jjfast_scansar_tile_colombia</td>\n",
       "      <td>ALOS2 PALSAR JJFAST tile in DN format processe...</td>\n",
       "      <td>NetCDF</td>\n",
       "      <td>NaN</td>\n",
       "      <td>PALSAR</td>\n",
       "      <td>NaN</td>\n",
       "      <td>NaN</td>\n",
       "      <td>ALOS_2</td>\n",
       "      <td>NaN</td>\n",
       "      <td>tile</td>\n",
       "      <td>NaN</td>\n",
       "      <td>None</td>\n",
       "      <td>NaN</td>\n",
       "      <td>EPSG:4326</td>\n",
       "      <td>[-0.0002666666667, 0.0002666666667]</td>\n",
       "      <td>[0.5333333334, 0.5333333334]</td>\n",
       "      <td>(latitude, longitude)</td>\n",
       "    </tr>\n",
       "    <tr>\n",
       "      <th>50</th>\n",
       "      <td>alos2_palsar_colombia</td>\n",
       "      <td>ALOS2 PALSAR tile in DN format processed for t...</td>\n",
       "      <td>NetCDF</td>\n",
       "      <td>NaN</td>\n",
       "      <td>PALSAR</td>\n",
       "      <td>NaN</td>\n",
       "      <td>NaN</td>\n",
       "      <td>ALOS_2</td>\n",
       "      <td>NaN</td>\n",
       "      <td>gamma0</td>\n",
       "      <td>NaN</td>\n",
       "      <td>None</td>\n",
       "      <td>NaN</td>\n",
       "      <td>EPSG:4326</td>\n",
       "      <td>[-0.0002666666667, 0.0002666666667]</td>\n",
       "      <td>[0.5333333334, 0.5333333334]</td>\n",
       "      <td>(latitude, longitude)</td>\n",
       "    </tr>\n",
       "    <tr>\n",
       "      <th>51</th>\n",
       "      <td>alos2_palsar_kenya</td>\n",
       "      <td>ALOS2 PALSAR tile in DN format processed for t...</td>\n",
       "      <td>NetCDF</td>\n",
       "      <td>NaN</td>\n",
       "      <td>PALSAR</td>\n",
       "      <td>NaN</td>\n",
       "      <td>NaN</td>\n",
       "      <td>ALOS_2</td>\n",
       "      <td>NaN</td>\n",
       "      <td>gamma0</td>\n",
       "      <td>NaN</td>\n",
       "      <td>None</td>\n",
       "      <td>NaN</td>\n",
       "      <td>EPSG:4326</td>\n",
       "      <td>[-0.0002666666667, 0.0002666666667]</td>\n",
       "      <td>[0.5333333334, 0.5333333334]</td>\n",
       "      <td>(latitude, longitude)</td>\n",
       "    </tr>\n",
       "    <tr>\n",
       "      <th>48</th>\n",
       "      <td>alos2_palsar_tile</td>\n",
       "      <td>ALOS-2 PALSAR mosaic tiles generated for use i...</td>\n",
       "      <td>GeoTiff</td>\n",
       "      <td>NaN</td>\n",
       "      <td>PALSAR</td>\n",
       "      <td>NaN</td>\n",
       "      <td>NaN</td>\n",
       "      <td>ALOS_2</td>\n",
       "      <td>NaN</td>\n",
       "      <td>gamma0</td>\n",
       "      <td>NaN</td>\n",
       "      <td>None</td>\n",
       "      <td>NaN</td>\n",
       "      <td>NaN</td>\n",
       "      <td>NaN</td>\n",
       "      <td>NaN</td>\n",
       "      <td>NaN</td>\n",
       "    </tr>\n",
       "    <tr>\n",
       "      <th>52</th>\n",
       "      <td>alos2_palsar_vietnam</td>\n",
       "      <td>ALOS2 PALSAR tile in DN format processed for t...</td>\n",
       "      <td>NetCDF</td>\n",
       "      <td>NaN</td>\n",
       "      <td>PALSAR</td>\n",
       "      <td>NaN</td>\n",
       "      <td>NaN</td>\n",
       "      <td>ALOS_2</td>\n",
       "      <td>NaN</td>\n",
       "      <td>gamma0</td>\n",
       "      <td>NaN</td>\n",
       "      <td>None</td>\n",
       "      <td>NaN</td>\n",
       "      <td>EPSG:4326</td>\n",
       "      <td>[-0.0002666666667, 0.0002666666667]</td>\n",
       "      <td>[0.5333333334, 0.5333333334]</td>\n",
       "      <td>(latitude, longitude)</td>\n",
       "    </tr>\n",
       "    <tr>\n",
       "      <th>53</th>\n",
       "      <td>alos_palsar_colombia</td>\n",
       "      <td>ALOS PALSAR tile in DN format processed for th...</td>\n",
       "      <td>NetCDF</td>\n",
       "      <td>NaN</td>\n",
       "      <td>PALSAR</td>\n",
       "      <td>NaN</td>\n",
       "      <td>NaN</td>\n",
       "      <td>ALOS</td>\n",
       "      <td>NaN</td>\n",
       "      <td>gamma0</td>\n",
       "      <td>NaN</td>\n",
       "      <td>None</td>\n",
       "      <td>NaN</td>\n",
       "      <td>EPSG:4326</td>\n",
       "      <td>[-0.0002666666667, 0.0002666666667]</td>\n",
       "      <td>[0.5333333334, 0.5333333334]</td>\n",
       "      <td>(latitude, longitude)</td>\n",
       "    </tr>\n",
       "    <tr>\n",
       "      <th>54</th>\n",
       "      <td>alos_palsar_kenya</td>\n",
       "      <td>ALOS PALSAR tile in DN format processed for th...</td>\n",
       "      <td>NetCDF</td>\n",
       "      <td>NaN</td>\n",
       "      <td>PALSAR</td>\n",
       "      <td>NaN</td>\n",
       "      <td>NaN</td>\n",
       "      <td>ALOS</td>\n",
       "      <td>NaN</td>\n",
       "      <td>gamma0</td>\n",
       "      <td>NaN</td>\n",
       "      <td>None</td>\n",
       "      <td>NaN</td>\n",
       "      <td>EPSG:4326</td>\n",
       "      <td>[-0.0002666666667, 0.0002666666667]</td>\n",
       "      <td>[0.5333333334, 0.5333333334]</td>\n",
       "      <td>(latitude, longitude)</td>\n",
       "    </tr>\n",
       "    <tr>\n",
       "      <th>47</th>\n",
       "      <td>alos_palsar_tile</td>\n",
       "      <td>ALOS PALSAR mosaic tiles generated for use in ...</td>\n",
       "      <td>GeoTiff</td>\n",
       "      <td>NaN</td>\n",
       "      <td>PALSAR</td>\n",
       "      <td>NaN</td>\n",
       "      <td>NaN</td>\n",
       "      <td>ALOS</td>\n",
       "      <td>NaN</td>\n",
       "      <td>gamma0</td>\n",
       "      <td>NaN</td>\n",
       "      <td>None</td>\n",
       "      <td>NaN</td>\n",
       "      <td>NaN</td>\n",
       "      <td>NaN</td>\n",
       "      <td>NaN</td>\n",
       "      <td>NaN</td>\n",
       "    </tr>\n",
       "    <tr>\n",
       "      <th>55</th>\n",
       "      <td>alos_palsar_vietnam</td>\n",
       "      <td>ALOS PALSAR tile in DN format processed for th...</td>\n",
       "      <td>NetCDF</td>\n",
       "      <td>NaN</td>\n",
       "      <td>PALSAR</td>\n",
       "      <td>NaN</td>\n",
       "      <td>NaN</td>\n",
       "      <td>ALOS</td>\n",
       "      <td>NaN</td>\n",
       "      <td>gamma0</td>\n",
       "      <td>NaN</td>\n",
       "      <td>None</td>\n",
       "      <td>NaN</td>\n",
       "      <td>EPSG:4326</td>\n",
       "      <td>[-0.0002666666667, 0.0002666666667]</td>\n",
       "      <td>[0.5333333334, 0.5333333334]</td>\n",
       "      <td>(latitude, longitude)</td>\n",
       "    </tr>\n",
       "    <tr>\n",
       "      <th>5</th>\n",
       "      <td>gpm_imerg_gis_daily</td>\n",
       "      <td>GIS translation of the imerg data product. Mul...</td>\n",
       "      <td>GeoTiff</td>\n",
       "      <td>NaN</td>\n",
       "      <td>GPM</td>\n",
       "      <td>NaN</td>\n",
       "      <td>NaN</td>\n",
       "      <td>GPM</td>\n",
       "      <td>NaN</td>\n",
       "      <td>daily</td>\n",
       "      <td>NaN</td>\n",
       "      <td>None</td>\n",
       "      <td>NaN</td>\n",
       "      <td>NaN</td>\n",
       "      <td>NaN</td>\n",
       "      <td>NaN</td>\n",
       "      <td>NaN</td>\n",
       "    </tr>\n",
       "    <tr>\n",
       "      <th>14</th>\n",
       "      <td>gpm_imerg_gis_daily_global</td>\n",
       "      <td>Global NetCDF GPM IMERG GIS data</td>\n",
       "      <td>NetCDF</td>\n",
       "      <td>NaN</td>\n",
       "      <td>GPM</td>\n",
       "      <td>NaN</td>\n",
       "      <td>NaN</td>\n",
       "      <td>GPM</td>\n",
       "      <td>NaN</td>\n",
       "      <td>daily</td>\n",
       "      <td>NaN</td>\n",
       "      <td>None</td>\n",
       "      <td>NaN</td>\n",
       "      <td>EPSG:4326</td>\n",
       "      <td>[-0.1, 0.1]</td>\n",
       "      <td>[90, 180]</td>\n",
       "      <td>(latitude, longitude)</td>\n",
       "    </tr>\n",
       "    <tr>\n",
       "      <th>6</th>\n",
       "      <td>gpm_imerg_gis_hourly</td>\n",
       "      <td>GIS translation of the imerg data product. Mul...</td>\n",
       "      <td>GeoTiff</td>\n",
       "      <td>NaN</td>\n",
       "      <td>GPM</td>\n",
       "      <td>NaN</td>\n",
       "      <td>NaN</td>\n",
       "      <td>GPM</td>\n",
       "      <td>NaN</td>\n",
       "      <td>hourly</td>\n",
       "      <td>NaN</td>\n",
       "      <td>None</td>\n",
       "      <td>NaN</td>\n",
       "      <td>NaN</td>\n",
       "      <td>NaN</td>\n",
       "      <td>NaN</td>\n",
       "      <td>NaN</td>\n",
       "    </tr>\n",
       "    <tr>\n",
       "      <th>4</th>\n",
       "      <td>gpm_imerg_gis_monthly</td>\n",
       "      <td>GIS translation of the imerg data product. Mul...</td>\n",
       "      <td>GeoTiff</td>\n",
       "      <td>NaN</td>\n",
       "      <td>GPM</td>\n",
       "      <td>NaN</td>\n",
       "      <td>NaN</td>\n",
       "      <td>GPM</td>\n",
       "      <td>NaN</td>\n",
       "      <td>monthly</td>\n",
       "      <td>NaN</td>\n",
       "      <td>None</td>\n",
       "      <td>NaN</td>\n",
       "      <td>NaN</td>\n",
       "      <td>NaN</td>\n",
       "      <td>NaN</td>\n",
       "      <td>NaN</td>\n",
       "    </tr>\n",
       "    <tr>\n",
       "      <th>15</th>\n",
       "      <td>gpm_imerg_gis_monthly_global</td>\n",
       "      <td>Global NetCDF GPM IMERG GIS data</td>\n",
       "      <td>NetCDF</td>\n",
       "      <td>NaN</td>\n",
       "      <td>GPM</td>\n",
       "      <td>NaN</td>\n",
       "      <td>NaN</td>\n",
       "      <td>GPM</td>\n",
       "      <td>NaN</td>\n",
       "      <td>monthly</td>\n",
       "      <td>NaN</td>\n",
       "      <td>None</td>\n",
       "      <td>NaN</td>\n",
       "      <td>EPSG:4326</td>\n",
       "      <td>[-0.1, 0.1]</td>\n",
       "      <td>[90, 180]</td>\n",
       "      <td>(latitude, longitude)</td>\n",
       "    </tr>\n",
       "    <tr>\n",
       "      <th>7</th>\n",
       "      <td>ls5_collections_sr_scene</td>\n",
       "      <td>Landsat 5 USGS Collection 1 Higher Level SR sc...</td>\n",
       "      <td>GeoTiff</td>\n",
       "      <td>NaN</td>\n",
       "      <td>TM</td>\n",
       "      <td>NaN</td>\n",
       "      <td>NaN</td>\n",
       "      <td>LANDSAT_5</td>\n",
       "      <td>NaN</td>\n",
       "      <td>LEDAPS</td>\n",
       "      <td>NaN</td>\n",
       "      <td>None</td>\n",
       "      <td>NaN</td>\n",
       "      <td>NaN</td>\n",
       "      <td>NaN</td>\n",
       "      <td>NaN</td>\n",
       "      <td>NaN</td>\n",
       "    </tr>\n",
       "    <tr>\n",
       "      <th>17</th>\n",
       "      <td>ls5_ledaps_bangladesh</td>\n",
       "      <td>Landsat 5 USGS Collection 1 Higher Level SR sc...</td>\n",
       "      <td>NetCDF</td>\n",
       "      <td>NaN</td>\n",
       "      <td>TM</td>\n",
       "      <td>NaN</td>\n",
       "      <td>NaN</td>\n",
       "      <td>LANDSAT_5</td>\n",
       "      <td>NaN</td>\n",
       "      <td>LEDAPS</td>\n",
       "      <td>NaN</td>\n",
       "      <td>None</td>\n",
       "      <td>NaN</td>\n",
       "      <td>EPSG:4326</td>\n",
       "      <td>[-0.000270861, 0.000294834]</td>\n",
       "      <td>[0.812583, 0.884502]</td>\n",
       "      <td>(latitude, longitude)</td>\n",
       "    </tr>\n",
       "    <tr>\n",
       "      <th>18</th>\n",
       "      <td>ls5_ledaps_lake_chad_full</td>\n",
       "      <td>Landsat 5 USGS Collection 1 Higher Level SR sc...</td>\n",
       "      <td>NetCDF</td>\n",
       "      <td>NaN</td>\n",
       "      <td>TM</td>\n",
       "      <td>NaN</td>\n",
       "      <td>NaN</td>\n",
       "      <td>LANDSAT_5</td>\n",
       "      <td>NaN</td>\n",
       "      <td>LEDAPS</td>\n",
       "      <td>NaN</td>\n",
       "      <td>None</td>\n",
       "      <td>NaN</td>\n",
       "      <td>EPSG:4326</td>\n",
       "      <td>[-0.000271152, 0.00027769]</td>\n",
       "      <td>[0.813456, 0.83307]</td>\n",
       "      <td>(latitude, longitude)</td>\n",
       "    </tr>\n",
       "    <tr>\n",
       "      <th>8</th>\n",
       "      <td>ls7_collections_sr_scene</td>\n",
       "      <td>Landsat 7 USGS Collection 1 Higher Level SR sc...</td>\n",
       "      <td>GeoTiff</td>\n",
       "      <td>NaN</td>\n",
       "      <td>ETM</td>\n",
       "      <td>NaN</td>\n",
       "      <td>NaN</td>\n",
       "      <td>LANDSAT_7</td>\n",
       "      <td>NaN</td>\n",
       "      <td>LEDAPS</td>\n",
       "      <td>NaN</td>\n",
       "      <td>None</td>\n",
       "      <td>NaN</td>\n",
       "      <td>NaN</td>\n",
       "      <td>NaN</td>\n",
       "      <td>NaN</td>\n",
       "      <td>NaN</td>\n",
       "    </tr>\n",
       "    <tr>\n",
       "      <th>70</th>\n",
       "      <td>ls7_collections_sr_scene_lean</td>\n",
       "      <td>Landsat 7 USGS Collection 1 Higher Level SR sc...</td>\n",
       "      <td>GeoTiff</td>\n",
       "      <td>NaN</td>\n",
       "      <td>ETM1</td>\n",
       "      <td>NaN</td>\n",
       "      <td>NaN</td>\n",
       "      <td>LANDSAT_7</td>\n",
       "      <td>NaN</td>\n",
       "      <td>LEDAPS</td>\n",
       "      <td>NaN</td>\n",
       "      <td>None</td>\n",
       "      <td>NaN</td>\n",
       "      <td>NaN</td>\n",
       "      <td>NaN</td>\n",
       "      <td>NaN</td>\n",
       "      <td>NaN</td>\n",
       "    </tr>\n",
       "    <tr>\n",
       "      <th>19</th>\n",
       "      <td>ls7_ledaps_amazon_river</td>\n",
       "      <td>Landsat 7 USGS Collection 1 Higher Level SR sc...</td>\n",
       "      <td>NetCDF</td>\n",
       "      <td>NaN</td>\n",
       "      <td>ETM</td>\n",
       "      <td>NaN</td>\n",
       "      <td>NaN</td>\n",
       "      <td>LANDSAT_7</td>\n",
       "      <td>NaN</td>\n",
       "      <td>LEDAPS</td>\n",
       "      <td>NaN</td>\n",
       "      <td>None</td>\n",
       "      <td>NaN</td>\n",
       "      <td>EPSG:4326</td>\n",
       "      <td>[-0.000271302, 0.000269995]</td>\n",
       "      <td>[0.813906, 0.809985]</td>\n",
       "      <td>(latitude, longitude)</td>\n",
       "    </tr>\n",
       "    <tr>\n",
       "      <th>20</th>\n",
       "      <td>ls7_ledaps_bangladesh</td>\n",
       "      <td>Landsat 7 USGS Collection 1 Higher Level SR sc...</td>\n",
       "      <td>NetCDF</td>\n",
       "      <td>NaN</td>\n",
       "      <td>ETM</td>\n",
       "      <td>NaN</td>\n",
       "      <td>NaN</td>\n",
       "      <td>LANDSAT_7</td>\n",
       "      <td>NaN</td>\n",
       "      <td>LEDAPS</td>\n",
       "      <td>NaN</td>\n",
       "      <td>None</td>\n",
       "      <td>NaN</td>\n",
       "      <td>EPSG:4326</td>\n",
       "      <td>[-0.000270861, 0.000294834]</td>\n",
       "      <td>[0.812583, 0.884502]</td>\n",
       "      <td>(latitude, longitude)</td>\n",
       "    </tr>\n",
       "    <tr>\n",
       "      <th>35</th>\n",
       "      <td>ls7_ledaps_bangladesh_bari</td>\n",
       "      <td>Landsat 7 USGS Collection 1 Higher Level SR sc...</td>\n",
       "      <td>NetCDF</td>\n",
       "      <td>NaN</td>\n",
       "      <td>ETM</td>\n",
       "      <td>NaN</td>\n",
       "      <td>NaN</td>\n",
       "      <td>LANDSAT_7</td>\n",
       "      <td>NaN</td>\n",
       "      <td>LEDAPS</td>\n",
       "      <td>NaN</td>\n",
       "      <td>None</td>\n",
       "      <td>NaN</td>\n",
       "      <td>EPSG:4326</td>\n",
       "      <td>[-0.000270861, 0.000294834]</td>\n",
       "      <td>[0.812583, 0.884502]</td>\n",
       "      <td>(latitude, longitude)</td>\n",
       "    </tr>\n",
       "    <tr>\n",
       "      <th>36</th>\n",
       "      <td>ls7_ledaps_caqueta</td>\n",
       "      <td>Landsat 7 USGS Collection 1 Higher Level SR sc...</td>\n",
       "      <td>NetCDF</td>\n",
       "      <td>NaN</td>\n",
       "      <td>ETM</td>\n",
       "      <td>NaN</td>\n",
       "      <td>NaN</td>\n",
       "      <td>LANDSAT_7</td>\n",
       "      <td>NaN</td>\n",
       "      <td>LEDAPS</td>\n",
       "      <td>NaN</td>\n",
       "      <td>None</td>\n",
       "      <td>NaN</td>\n",
       "      <td>EPSG:4326</td>\n",
       "      <td>[-0.000269494585236, 0.000269494585236]</td>\n",
       "      <td>[0.538989170472, 0.538989170472]</td>\n",
       "      <td>(latitude, longitude)</td>\n",
       "    </tr>\n",
       "    <tr>\n",
       "      <th>21</th>\n",
       "      <td>ls7_ledaps_colombia</td>\n",
       "      <td>Landsat 7 USGS Collection 1 Higher Level SR sc...</td>\n",
       "      <td>NetCDF</td>\n",
       "      <td>NaN</td>\n",
       "      <td>ETM</td>\n",
       "      <td>NaN</td>\n",
       "      <td>NaN</td>\n",
       "      <td>LANDSAT_7</td>\n",
       "      <td>NaN</td>\n",
       "      <td>LEDAPS</td>\n",
       "      <td>NaN</td>\n",
       "      <td>None</td>\n",
       "      <td>NaN</td>\n",
       "      <td>EPSG:4326</td>\n",
       "      <td>[-0.000271307, 0.000269505]</td>\n",
       "      <td>[0.9495745, 0.9432675]</td>\n",
       "      <td>(latitude, longitude)</td>\n",
       "    </tr>\n",
       "    <tr>\n",
       "      <th>22</th>\n",
       "      <td>ls7_ledaps_ghana</td>\n",
       "      <td>Landsat 7 USGS Collection 1 Higher Level SR sc...</td>\n",
       "      <td>NetCDF</td>\n",
       "      <td>NaN</td>\n",
       "      <td>ETM</td>\n",
       "      <td>NaN</td>\n",
       "      <td>NaN</td>\n",
       "      <td>LANDSAT_7</td>\n",
       "      <td>NaN</td>\n",
       "      <td>LEDAPS</td>\n",
       "      <td>NaN</td>\n",
       "      <td>None</td>\n",
       "      <td>NaN</td>\n",
       "      <td>EPSG:4326</td>\n",
       "      <td>[-0.000269494585236, 0.000269494585236]</td>\n",
       "      <td>[0.943231048326, 0.943231048326]</td>\n",
       "      <td>(latitude, longitude)</td>\n",
       "    </tr>\n",
       "    <tr>\n",
       "      <th>23</th>\n",
       "      <td>ls7_ledaps_kenya</td>\n",
       "      <td>Landsat 7 USGS Collection 1 Higher Level SR sc...</td>\n",
       "      <td>NetCDF</td>\n",
       "      <td>NaN</td>\n",
       "      <td>ETM</td>\n",
       "      <td>NaN</td>\n",
       "      <td>NaN</td>\n",
       "      <td>LANDSAT_7</td>\n",
       "      <td>NaN</td>\n",
       "      <td>LEDAPS</td>\n",
       "      <td>NaN</td>\n",
       "      <td>None</td>\n",
       "      <td>NaN</td>\n",
       "      <td>EPSG:4326</td>\n",
       "      <td>[-0.000269493, 0.000269493]</td>\n",
       "      <td>[0.99981903, 0.99981903]</td>\n",
       "      <td>(latitude, longitude)</td>\n",
       "    </tr>\n",
       "    <tr>\n",
       "      <th>41</th>\n",
       "      <td>ls7_ledaps_lake_baringo</td>\n",
       "      <td>Landsat 7 USGS Collection 1 Higher Level SR sc...</td>\n",
       "      <td>NetCDF</td>\n",
       "      <td>NaN</td>\n",
       "      <td>ETM</td>\n",
       "      <td>NaN</td>\n",
       "      <td>NaN</td>\n",
       "      <td>LANDSAT_7</td>\n",
       "      <td>NaN</td>\n",
       "      <td>LEDAPS</td>\n",
       "      <td>NaN</td>\n",
       "      <td>None</td>\n",
       "      <td>NaN</td>\n",
       "      <td>EPSG:4326</td>\n",
       "      <td>[-0.000269493, 0.000269493]</td>\n",
       "      <td>[0.249820011, 0.249820011]</td>\n",
       "      <td>(latitude, longitude)</td>\n",
       "    </tr>\n",
       "    <tr>\n",
       "      <th>24</th>\n",
       "      <td>ls7_ledaps_lake_chad_full</td>\n",
       "      <td>Landsat 7 USGS Collection 1 Higher Level SR sc...</td>\n",
       "      <td>NetCDF</td>\n",
       "      <td>NaN</td>\n",
       "      <td>ETM</td>\n",
       "      <td>NaN</td>\n",
       "      <td>NaN</td>\n",
       "      <td>LANDSAT_7</td>\n",
       "      <td>NaN</td>\n",
       "      <td>LEDAPS</td>\n",
       "      <td>NaN</td>\n",
       "      <td>None</td>\n",
       "      <td>NaN</td>\n",
       "      <td>EPSG:4326</td>\n",
       "      <td>[-0.000271152, 0.00027769]</td>\n",
       "      <td>[0.813456, 0.83307]</td>\n",
       "      <td>(latitude, longitude)</td>\n",
       "    </tr>\n",
       "    <tr>\n",
       "      <th>25</th>\n",
       "      <td>ls7_ledaps_lake_cortijo</td>\n",
       "      <td>Landsat 7 USGS Collection 1 Higher Level SR sc...</td>\n",
       "      <td>NetCDF</td>\n",
       "      <td>NaN</td>\n",
       "      <td>ETM</td>\n",
       "      <td>NaN</td>\n",
       "      <td>NaN</td>\n",
       "      <td>LANDSAT_7</td>\n",
       "      <td>NaN</td>\n",
       "      <td>LEDAPS</td>\n",
       "      <td>NaN</td>\n",
       "      <td>None</td>\n",
       "      <td>NaN</td>\n",
       "      <td>EPSG:4326</td>\n",
       "      <td>[-0.000271297, 0.000270148]</td>\n",
       "      <td>[0.813891, 0.810444]</td>\n",
       "      <td>(latitude, longitude)</td>\n",
       "    </tr>\n",
       "    <tr>\n",
       "      <th>...</th>\n",
       "      <td>...</td>\n",
       "      <td>...</td>\n",
       "      <td>...</td>\n",
       "      <td>...</td>\n",
       "      <td>...</td>\n",
       "      <td>...</td>\n",
       "      <td>...</td>\n",
       "      <td>...</td>\n",
       "      <td>...</td>\n",
       "      <td>...</td>\n",
       "      <td>...</td>\n",
       "      <td>...</td>\n",
       "      <td>...</td>\n",
       "      <td>...</td>\n",
       "      <td>...</td>\n",
       "      <td>...</td>\n",
       "      <td>...</td>\n",
       "    </tr>\n",
       "    <tr>\n",
       "      <th>28</th>\n",
       "      <td>ls7_ledaps_salgar_colombia</td>\n",
       "      <td>Landsat 7 USGS Collection 1 Higher Level SR sc...</td>\n",
       "      <td>NetCDF</td>\n",
       "      <td>NaN</td>\n",
       "      <td>ETM</td>\n",
       "      <td>NaN</td>\n",
       "      <td>NaN</td>\n",
       "      <td>LANDSAT_7</td>\n",
       "      <td>NaN</td>\n",
       "      <td>LEDAPS</td>\n",
       "      <td>NaN</td>\n",
       "      <td>None</td>\n",
       "      <td>NaN</td>\n",
       "      <td>EPSG:4326</td>\n",
       "      <td>[-0.000271285, 0.000270849]</td>\n",
       "      <td>[0.9494975, 0.9479715]</td>\n",
       "      <td>(latitude, longitude)</td>\n",
       "    </tr>\n",
       "    <tr>\n",
       "      <th>72</th>\n",
       "      <td>ls7_ledaps_sanagustin</td>\n",
       "      <td>Landsat 7 USGS Collection 1 Higher Level SR sc...</td>\n",
       "      <td>NetCDF</td>\n",
       "      <td>NaN</td>\n",
       "      <td>ETM1</td>\n",
       "      <td>NaN</td>\n",
       "      <td>NaN</td>\n",
       "      <td>LANDSAT_7</td>\n",
       "      <td>NaN</td>\n",
       "      <td>LEDAPS</td>\n",
       "      <td>NaN</td>\n",
       "      <td>None</td>\n",
       "      <td>NaN</td>\n",
       "      <td>EPSG:4326</td>\n",
       "      <td>[-0.000271309115317046, 0.00026957992707863]</td>\n",
       "      <td>[0.999502780827996, 0.999602369607559]</td>\n",
       "      <td>(latitude, longitude)</td>\n",
       "    </tr>\n",
       "    <tr>\n",
       "      <th>63</th>\n",
       "      <td>ls7_ledaps_scene</td>\n",
       "      <td>Landsat 7 LEDAPS 30 metre. Will be used for al...</td>\n",
       "      <td>GeoTiff</td>\n",
       "      <td>NaN</td>\n",
       "      <td>ETM</td>\n",
       "      <td>NaN</td>\n",
       "      <td>NaN</td>\n",
       "      <td>LANDSAT_7</td>\n",
       "      <td>NaN</td>\n",
       "      <td>ledaps</td>\n",
       "      <td>NaN</td>\n",
       "      <td>None</td>\n",
       "      <td>NaN</td>\n",
       "      <td>NaN</td>\n",
       "      <td>NaN</td>\n",
       "      <td>NaN</td>\n",
       "      <td>NaN</td>\n",
       "    </tr>\n",
       "    <tr>\n",
       "      <th>29</th>\n",
       "      <td>ls7_ledaps_togo</td>\n",
       "      <td>Landsat 7 USGS Collection 1 Higher Level SR sc...</td>\n",
       "      <td>NetCDF</td>\n",
       "      <td>NaN</td>\n",
       "      <td>ETM</td>\n",
       "      <td>NaN</td>\n",
       "      <td>NaN</td>\n",
       "      <td>LANDSAT_7</td>\n",
       "      <td>NaN</td>\n",
       "      <td>LEDAPS</td>\n",
       "      <td>NaN</td>\n",
       "      <td>None</td>\n",
       "      <td>NaN</td>\n",
       "      <td>EPSG:4326</td>\n",
       "      <td>[-0.000271285, 0.000270971]</td>\n",
       "      <td>[0.813855, 0.812913]</td>\n",
       "      <td>(latitude, longitude)</td>\n",
       "    </tr>\n",
       "    <tr>\n",
       "      <th>30</th>\n",
       "      <td>ls7_ledaps_tonga</td>\n",
       "      <td>Landsat 7 USGS Collection 1 Higher Level SR sc...</td>\n",
       "      <td>NetCDF</td>\n",
       "      <td>NaN</td>\n",
       "      <td>ETM</td>\n",
       "      <td>NaN</td>\n",
       "      <td>NaN</td>\n",
       "      <td>LANDSAT_7</td>\n",
       "      <td>NaN</td>\n",
       "      <td>LEDAPS</td>\n",
       "      <td>NaN</td>\n",
       "      <td>None</td>\n",
       "      <td>NaN</td>\n",
       "      <td>EPSG:4326</td>\n",
       "      <td>[-0.000270961, 0.000280452]</td>\n",
       "      <td>[0.812883, 0.841356]</td>\n",
       "      <td>(latitude, longitude)</td>\n",
       "    </tr>\n",
       "    <tr>\n",
       "      <th>31</th>\n",
       "      <td>ls7_ledaps_vietnam</td>\n",
       "      <td>Landsat 7 USGS Collection 1 Higher Level SR sc...</td>\n",
       "      <td>NetCDF</td>\n",
       "      <td>NaN</td>\n",
       "      <td>ETM</td>\n",
       "      <td>NaN</td>\n",
       "      <td>NaN</td>\n",
       "      <td>LANDSAT_7</td>\n",
       "      <td>NaN</td>\n",
       "      <td>LEDAPS</td>\n",
       "      <td>NaN</td>\n",
       "      <td>None</td>\n",
       "      <td>NaN</td>\n",
       "      <td>EPSG:4326</td>\n",
       "      <td>[-0.000269494585236, 0.000269494585236]</td>\n",
       "      <td>[0.943231048326, 0.943231048326]</td>\n",
       "      <td>(latitude, longitude)</td>\n",
       "    </tr>\n",
       "    <tr>\n",
       "      <th>9</th>\n",
       "      <td>ls8_collections_sr_scene</td>\n",
       "      <td>Landsat 8 USGS Collection 1 Higher Level SR sc...</td>\n",
       "      <td>GeoTiff</td>\n",
       "      <td>NaN</td>\n",
       "      <td>OLI_TIRS</td>\n",
       "      <td>NaN</td>\n",
       "      <td>NaN</td>\n",
       "      <td>LANDSAT_8</td>\n",
       "      <td>NaN</td>\n",
       "      <td>LaSRC</td>\n",
       "      <td>NaN</td>\n",
       "      <td>None</td>\n",
       "      <td>NaN</td>\n",
       "      <td>NaN</td>\n",
       "      <td>NaN</td>\n",
       "      <td>NaN</td>\n",
       "      <td>NaN</td>\n",
       "    </tr>\n",
       "    <tr>\n",
       "      <th>71</th>\n",
       "      <td>ls8_collections_sr_scene_lean</td>\n",
       "      <td>Landsat 8 USGS Collection 1 Higher Level SR sc...</td>\n",
       "      <td>GeoTiff</td>\n",
       "      <td>NaN</td>\n",
       "      <td>OLI_TIRS1</td>\n",
       "      <td>NaN</td>\n",
       "      <td>NaN</td>\n",
       "      <td>LANDSAT_8</td>\n",
       "      <td>NaN</td>\n",
       "      <td>LaSRC</td>\n",
       "      <td>NaN</td>\n",
       "      <td>None</td>\n",
       "      <td>NaN</td>\n",
       "      <td>NaN</td>\n",
       "      <td>NaN</td>\n",
       "      <td>NaN</td>\n",
       "      <td>NaN</td>\n",
       "    </tr>\n",
       "    <tr>\n",
       "      <th>37</th>\n",
       "      <td>ls8_lasrc_caqueta</td>\n",
       "      <td>Landsat 8 USGS Collection 1 Higher Level SR sc...</td>\n",
       "      <td>NetCDF</td>\n",
       "      <td>NaN</td>\n",
       "      <td>OLI_TIRS</td>\n",
       "      <td>NaN</td>\n",
       "      <td>NaN</td>\n",
       "      <td>LANDSAT_8</td>\n",
       "      <td>NaN</td>\n",
       "      <td>LaSRC</td>\n",
       "      <td>NaN</td>\n",
       "      <td>None</td>\n",
       "      <td>NaN</td>\n",
       "      <td>EPSG:4326</td>\n",
       "      <td>[-0.000269494585236, 0.000269494585236]</td>\n",
       "      <td>[0.538989170472, 0.538989170472]</td>\n",
       "      <td>(latitude, longitude)</td>\n",
       "    </tr>\n",
       "    <tr>\n",
       "      <th>32</th>\n",
       "      <td>ls8_lasrc_lake_chad_full</td>\n",
       "      <td>Landsat 8 USGS Collection 1 Higher Level SR sc...</td>\n",
       "      <td>NetCDF</td>\n",
       "      <td>NaN</td>\n",
       "      <td>OLI_TIRS</td>\n",
       "      <td>NaN</td>\n",
       "      <td>NaN</td>\n",
       "      <td>LANDSAT_8</td>\n",
       "      <td>NaN</td>\n",
       "      <td>LaSRC</td>\n",
       "      <td>NaN</td>\n",
       "      <td>None</td>\n",
       "      <td>NaN</td>\n",
       "      <td>EPSG:4326</td>\n",
       "      <td>[-0.000271152, 0.00027769]</td>\n",
       "      <td>[0.813456, 0.83307]</td>\n",
       "      <td>(latitude, longitude)</td>\n",
       "    </tr>\n",
       "    <tr>\n",
       "      <th>33</th>\n",
       "      <td>ls8_lasrc_meta_river</td>\n",
       "      <td>Landsat 8 USGS Collection 1 Higher Level SR sc...</td>\n",
       "      <td>NetCDF</td>\n",
       "      <td>NaN</td>\n",
       "      <td>OLI_TIRS</td>\n",
       "      <td>NaN</td>\n",
       "      <td>NaN</td>\n",
       "      <td>LANDSAT_8</td>\n",
       "      <td>NaN</td>\n",
       "      <td>LaSRC</td>\n",
       "      <td>NaN</td>\n",
       "      <td>None</td>\n",
       "      <td>NaN</td>\n",
       "      <td>EPSG:4326</td>\n",
       "      <td>[-0.00027129679, 0.00027014858]</td>\n",
       "      <td>[0.49999998397, 0.499774873]</td>\n",
       "      <td>(latitude, longitude)</td>\n",
       "    </tr>\n",
       "    <tr>\n",
       "      <th>73</th>\n",
       "      <td>ls8_lasrc_sanagustin</td>\n",
       "      <td>Landsat 8 USGS Collection 1 Higher Level SR sc...</td>\n",
       "      <td>NetCDF</td>\n",
       "      <td>NaN</td>\n",
       "      <td>OLI_TIRS1</td>\n",
       "      <td>NaN</td>\n",
       "      <td>NaN</td>\n",
       "      <td>LANDSAT_8</td>\n",
       "      <td>NaN</td>\n",
       "      <td>LaSRC</td>\n",
       "      <td>NaN</td>\n",
       "      <td>None</td>\n",
       "      <td>NaN</td>\n",
       "      <td>EPSG:4326</td>\n",
       "      <td>[-0.000271309115317046, 0.00026957992707863]</td>\n",
       "      <td>[0.999502780827996, 0.999602369607559]</td>\n",
       "      <td>(latitude, longitude)</td>\n",
       "    </tr>\n",
       "    <tr>\n",
       "      <th>74</th>\n",
       "      <td>ls8_lasrc_tonga_test</td>\n",
       "      <td>Landsat 8 USGS Collection 1 Higher Level SR sc...</td>\n",
       "      <td>NetCDF</td>\n",
       "      <td>NaN</td>\n",
       "      <td>OLI_TIRS1</td>\n",
       "      <td>NaN</td>\n",
       "      <td>NaN</td>\n",
       "      <td>LANDSAT_8</td>\n",
       "      <td>NaN</td>\n",
       "      <td>LaSRC</td>\n",
       "      <td>NaN</td>\n",
       "      <td>None</td>\n",
       "      <td>NaN</td>\n",
       "      <td>EPSG:4326</td>\n",
       "      <td>[-0.000269494585236, 0.000269494585236]</td>\n",
       "      <td>[0.27, 0.27]</td>\n",
       "      <td>(latitude, longitude)</td>\n",
       "    </tr>\n",
       "    <tr>\n",
       "      <th>75</th>\n",
       "      <td>ls8_lasrc_tonga_test_correct</td>\n",
       "      <td>Landsat 8 USGS Collection 1 Higher Level SR sc...</td>\n",
       "      <td>NetCDF</td>\n",
       "      <td>NaN</td>\n",
       "      <td>OLI_TIRS1</td>\n",
       "      <td>NaN</td>\n",
       "      <td>NaN</td>\n",
       "      <td>LANDSAT_8</td>\n",
       "      <td>NaN</td>\n",
       "      <td>LaSRC</td>\n",
       "      <td>NaN</td>\n",
       "      <td>None</td>\n",
       "      <td>NaN</td>\n",
       "      <td>EPSG:4326</td>\n",
       "      <td>[-0.000269494585236, 0.000269494585236]</td>\n",
       "      <td>[0.943231048326, 0.943231048326]</td>\n",
       "      <td>(latitude, longitude)</td>\n",
       "    </tr>\n",
       "    <tr>\n",
       "      <th>76</th>\n",
       "      <td>ls8_lasrc_tonga_test_newresol</td>\n",
       "      <td>Landsat 8 USGS Collection 1 Higher Level SR sc...</td>\n",
       "      <td>NetCDF</td>\n",
       "      <td>NaN</td>\n",
       "      <td>OLI_TIRS1</td>\n",
       "      <td>NaN</td>\n",
       "      <td>NaN</td>\n",
       "      <td>LANDSAT_8</td>\n",
       "      <td>NaN</td>\n",
       "      <td>LaSRC</td>\n",
       "      <td>NaN</td>\n",
       "      <td>None</td>\n",
       "      <td>NaN</td>\n",
       "      <td>EPSG:4326</td>\n",
       "      <td>[-0.0003, 0.0003]</td>\n",
       "      <td>[0.943231048326, 0.943231048326]</td>\n",
       "      <td>(latitude, longitude)</td>\n",
       "    </tr>\n",
       "    <tr>\n",
       "      <th>40</th>\n",
       "      <td>ls8_lasrc_uruguay</td>\n",
       "      <td>Landsat 8 USGS Collection 1 Higher Level SR sc...</td>\n",
       "      <td>NetCDF</td>\n",
       "      <td>NaN</td>\n",
       "      <td>OLI_TIRS</td>\n",
       "      <td>NaN</td>\n",
       "      <td>NaN</td>\n",
       "      <td>LANDSAT_8</td>\n",
       "      <td>NaN</td>\n",
       "      <td>LaSRC</td>\n",
       "      <td>NaN</td>\n",
       "      <td>None</td>\n",
       "      <td>NaN</td>\n",
       "      <td>EPSG:4326</td>\n",
       "      <td>[-0.000269494585236, 0.000269494585236]</td>\n",
       "      <td>[0.943231048326, 0.943231048326]</td>\n",
       "      <td>(latitude, longitude)</td>\n",
       "    </tr>\n",
       "    <tr>\n",
       "      <th>34</th>\n",
       "      <td>ls8_lasrc_vietnam</td>\n",
       "      <td>Landsat 8 USGS Collection 1 Higher Level SR sc...</td>\n",
       "      <td>NetCDF</td>\n",
       "      <td>NaN</td>\n",
       "      <td>OLI_TIRS</td>\n",
       "      <td>NaN</td>\n",
       "      <td>NaN</td>\n",
       "      <td>LANDSAT_8</td>\n",
       "      <td>NaN</td>\n",
       "      <td>LaSRC</td>\n",
       "      <td>NaN</td>\n",
       "      <td>None</td>\n",
       "      <td>NaN</td>\n",
       "      <td>EPSG:4326</td>\n",
       "      <td>[-0.000269494585236, 0.000269494585236]</td>\n",
       "      <td>[0.943231048326, 0.943231048326]</td>\n",
       "      <td>(latitude, longitude)</td>\n",
       "    </tr>\n",
       "    <tr>\n",
       "      <th>69</th>\n",
       "      <td>ls8_ledaps_scene</td>\n",
       "      <td>Landsat 8 LEDAPS 25 metre</td>\n",
       "      <td>GeoTiff</td>\n",
       "      <td>NaN</td>\n",
       "      <td>OLI_TIRS</td>\n",
       "      <td>NaN</td>\n",
       "      <td>NaN</td>\n",
       "      <td>LANDSAT_8</td>\n",
       "      <td>NaN</td>\n",
       "      <td>LEDAPS</td>\n",
       "      <td>NaN</td>\n",
       "      <td>None</td>\n",
       "      <td>NaN</td>\n",
       "      <td>NaN</td>\n",
       "      <td>NaN</td>\n",
       "      <td>NaN</td>\n",
       "      <td>NaN</td>\n",
       "    </tr>\n",
       "    <tr>\n",
       "      <th>65</th>\n",
       "      <td>ls8_level1_scene</td>\n",
       "      <td>Landsat 8 Level 1 At-sensor Radiance 25 metre</td>\n",
       "      <td>GeoTiff</td>\n",
       "      <td>NaN</td>\n",
       "      <td>OLI</td>\n",
       "      <td>NaN</td>\n",
       "      <td>NaN</td>\n",
       "      <td>LANDSAT_8</td>\n",
       "      <td>NaN</td>\n",
       "      <td>level1</td>\n",
       "      <td>NaN</td>\n",
       "      <td>None</td>\n",
       "      <td>NaN</td>\n",
       "      <td>NaN</td>\n",
       "      <td>NaN</td>\n",
       "      <td>NaN</td>\n",
       "      <td>NaN</td>\n",
       "    </tr>\n",
       "    <tr>\n",
       "      <th>66</th>\n",
       "      <td>ls8_nbar_scene</td>\n",
       "      <td>Landsat 8 NBAR 25 metre</td>\n",
       "      <td>GeoTiff</td>\n",
       "      <td>NaN</td>\n",
       "      <td>OLI</td>\n",
       "      <td>NaN</td>\n",
       "      <td>NaN</td>\n",
       "      <td>LANDSAT_8</td>\n",
       "      <td>NaN</td>\n",
       "      <td>nbar</td>\n",
       "      <td>NaN</td>\n",
       "      <td>None</td>\n",
       "      <td>NaN</td>\n",
       "      <td>NaN</td>\n",
       "      <td>NaN</td>\n",
       "      <td>NaN</td>\n",
       "      <td>NaN</td>\n",
       "    </tr>\n",
       "    <tr>\n",
       "      <th>67</th>\n",
       "      <td>ls8_nbart_scene</td>\n",
       "      <td>Landsat 8 NBART 25 metre</td>\n",
       "      <td>GeoTiff</td>\n",
       "      <td>NaN</td>\n",
       "      <td>OLI</td>\n",
       "      <td>NaN</td>\n",
       "      <td>NaN</td>\n",
       "      <td>LANDSAT_8</td>\n",
       "      <td>NaN</td>\n",
       "      <td>nbart</td>\n",
       "      <td>NaN</td>\n",
       "      <td>None</td>\n",
       "      <td>NaN</td>\n",
       "      <td>NaN</td>\n",
       "      <td>NaN</td>\n",
       "      <td>NaN</td>\n",
       "      <td>NaN</td>\n",
       "    </tr>\n",
       "    <tr>\n",
       "      <th>68</th>\n",
       "      <td>ls8_pq_scene</td>\n",
       "      <td>Landsat 8 PQ 25 metre</td>\n",
       "      <td>GeoTiff</td>\n",
       "      <td>NaN</td>\n",
       "      <td>ETM</td>\n",
       "      <td>NaN</td>\n",
       "      <td>NaN</td>\n",
       "      <td>LANDSAT_8</td>\n",
       "      <td>NaN</td>\n",
       "      <td>pqa</td>\n",
       "      <td>NaN</td>\n",
       "      <td>None</td>\n",
       "      <td>NaN</td>\n",
       "      <td>NaN</td>\n",
       "      <td>NaN</td>\n",
       "      <td>NaN</td>\n",
       "      <td>NaN</td>\n",
       "    </tr>\n",
       "    <tr>\n",
       "      <th>64</th>\n",
       "      <td>ls8_satellite_telemetry_data</td>\n",
       "      <td>Landsat 8 Satellite Telemetry Data</td>\n",
       "      <td>NaN</td>\n",
       "      <td>NaN</td>\n",
       "      <td>OLI</td>\n",
       "      <td>NaN</td>\n",
       "      <td>NaN</td>\n",
       "      <td>LANDSAT_8</td>\n",
       "      <td>NaN</td>\n",
       "      <td>satellite_telemetry_data</td>\n",
       "      <td>NaN</td>\n",
       "      <td>None</td>\n",
       "      <td>NaN</td>\n",
       "      <td>NaN</td>\n",
       "      <td>NaN</td>\n",
       "      <td>NaN</td>\n",
       "      <td>NaN</td>\n",
       "    </tr>\n",
       "    <tr>\n",
       "      <th>57</th>\n",
       "      <td>s1_gamma0_colombia</td>\n",
       "      <td>Sentinel-1A/B SAR Gamma0, processed to the CEO...</td>\n",
       "      <td>NetCDF</td>\n",
       "      <td>NaN</td>\n",
       "      <td>SAR</td>\n",
       "      <td>NaN</td>\n",
       "      <td>NaN</td>\n",
       "      <td>SENTINEL_1</td>\n",
       "      <td>NaN</td>\n",
       "      <td>gamma0</td>\n",
       "      <td>NaN</td>\n",
       "      <td>None</td>\n",
       "      <td>NaN</td>\n",
       "      <td>EPSG:4326</td>\n",
       "      <td>[-0.000269715032, 0.000269715032]</td>\n",
       "      <td>[0.809145096, 0.809145096]</td>\n",
       "      <td>(latitude, longitude)</td>\n",
       "    </tr>\n",
       "    <tr>\n",
       "      <th>58</th>\n",
       "      <td>s1_gamma0_lake_chad</td>\n",
       "      <td>Sentinel-1A/B SAR Gamma0, processed to the CEO...</td>\n",
       "      <td>NetCDF</td>\n",
       "      <td>NaN</td>\n",
       "      <td>SAR</td>\n",
       "      <td>NaN</td>\n",
       "      <td>NaN</td>\n",
       "      <td>SENTINEL_1</td>\n",
       "      <td>NaN</td>\n",
       "      <td>gamma0</td>\n",
       "      <td>NaN</td>\n",
       "      <td>None</td>\n",
       "      <td>NaN</td>\n",
       "      <td>EPSG:4326</td>\n",
       "      <td>[-0.000269715032, 0.000269715032]</td>\n",
       "      <td>[0.809145096, 0.809145096]</td>\n",
       "      <td>(latitude, longitude)</td>\n",
       "    </tr>\n",
       "    <tr>\n",
       "      <th>59</th>\n",
       "      <td>s1_gamma0_menindee_lakes</td>\n",
       "      <td>Sentinel-1A/B SAR Gamma0, processed to the CEO...</td>\n",
       "      <td>NetCDF</td>\n",
       "      <td>NaN</td>\n",
       "      <td>SAR</td>\n",
       "      <td>NaN</td>\n",
       "      <td>NaN</td>\n",
       "      <td>SENTINEL_1</td>\n",
       "      <td>NaN</td>\n",
       "      <td>gamma0</td>\n",
       "      <td>NaN</td>\n",
       "      <td>None</td>\n",
       "      <td>NaN</td>\n",
       "      <td>EPSG:4326</td>\n",
       "      <td>[-0.000269715032, 0.000269715032]</td>\n",
       "      <td>[0.809145096, 0.809145096]</td>\n",
       "      <td>(latitude, longitude)</td>\n",
       "    </tr>\n",
       "    <tr>\n",
       "      <th>10</th>\n",
       "      <td>s1_gamma0_scene</td>\n",
       "      <td>Sentinel-1A/B SAR Gamma0 scenes, processed to ...</td>\n",
       "      <td>ENVI</td>\n",
       "      <td>NaN</td>\n",
       "      <td>SAR</td>\n",
       "      <td>NaN</td>\n",
       "      <td>NaN</td>\n",
       "      <td>SENTINEL_1</td>\n",
       "      <td>NaN</td>\n",
       "      <td>gamma0</td>\n",
       "      <td>NaN</td>\n",
       "      <td>None</td>\n",
       "      <td>NaN</td>\n",
       "      <td>NaN</td>\n",
       "      <td>NaN</td>\n",
       "      <td>NaN</td>\n",
       "      <td>NaN</td>\n",
       "    </tr>\n",
       "    <tr>\n",
       "      <th>60</th>\n",
       "      <td>s1_gamma0_vietnam</td>\n",
       "      <td>Sentinel-1A/B SAR Gamma0, processed to the CEO...</td>\n",
       "      <td>NetCDF</td>\n",
       "      <td>NaN</td>\n",
       "      <td>SAR</td>\n",
       "      <td>NaN</td>\n",
       "      <td>NaN</td>\n",
       "      <td>SENTINEL_1</td>\n",
       "      <td>NaN</td>\n",
       "      <td>gamma0</td>\n",
       "      <td>NaN</td>\n",
       "      <td>None</td>\n",
       "      <td>NaN</td>\n",
       "      <td>EPSG:4326</td>\n",
       "      <td>[-0.000269715032, 0.000269715032]</td>\n",
       "      <td>[0.809145096, 0.809145096]</td>\n",
       "      <td>(latitude, longitude)</td>\n",
       "    </tr>\n",
       "    <tr>\n",
       "      <th>13</th>\n",
       "      <td>terra_aster_gdm_salgar_colombia</td>\n",
       "      <td>Terra Aster -- metre, UTM 36 projection</td>\n",
       "      <td>NetCDF</td>\n",
       "      <td>NaN</td>\n",
       "      <td>ASTER</td>\n",
       "      <td>NaN</td>\n",
       "      <td>NaN</td>\n",
       "      <td>TERRA</td>\n",
       "      <td>NaN</td>\n",
       "      <td>GDEM_V2</td>\n",
       "      <td>NaN</td>\n",
       "      <td>None</td>\n",
       "      <td>NaN</td>\n",
       "      <td>EPSG:4326</td>\n",
       "      <td>[-0.000271285, 0.000270849]</td>\n",
       "      <td>[0.9494975, 0.9479715]</td>\n",
       "      <td>(latitude, longitude)</td>\n",
       "    </tr>\n",
       "    <tr>\n",
       "      <th>3</th>\n",
       "      <td>terra_aster_gdm_v2_scene</td>\n",
       "      <td>Global Elevation Data from TERRA stallite's AS...</td>\n",
       "      <td>GeoTiff</td>\n",
       "      <td>NaN</td>\n",
       "      <td>ASTER</td>\n",
       "      <td>NaN</td>\n",
       "      <td>NaN</td>\n",
       "      <td>TERRA</td>\n",
       "      <td>NaN</td>\n",
       "      <td>GDEM_V2</td>\n",
       "      <td>NaN</td>\n",
       "      <td>None</td>\n",
       "      <td>NaN</td>\n",
       "      <td>NaN</td>\n",
       "      <td>NaN</td>\n",
       "      <td>NaN</td>\n",
       "      <td>NaN</td>\n",
       "    </tr>\n",
       "  </tbody>\n",
       "</table>\n",
       "<p>63 rows × 17 columns</p>\n",
       "</div>"
      ],
      "text/plain": [
       "                                  name  \\\n",
       "id                                       \n",
       "46           alos2_jjfast_scansar_tile   \n",
       "61  alos2_jjfast_scansar_tile_colombia   \n",
       "50               alos2_palsar_colombia   \n",
       "51                  alos2_palsar_kenya   \n",
       "48                   alos2_palsar_tile   \n",
       "52                alos2_palsar_vietnam   \n",
       "53                alos_palsar_colombia   \n",
       "54                   alos_palsar_kenya   \n",
       "47                    alos_palsar_tile   \n",
       "55                 alos_palsar_vietnam   \n",
       "5                  gpm_imerg_gis_daily   \n",
       "14          gpm_imerg_gis_daily_global   \n",
       "6                 gpm_imerg_gis_hourly   \n",
       "4                gpm_imerg_gis_monthly   \n",
       "15        gpm_imerg_gis_monthly_global   \n",
       "7             ls5_collections_sr_scene   \n",
       "17               ls5_ledaps_bangladesh   \n",
       "18           ls5_ledaps_lake_chad_full   \n",
       "8             ls7_collections_sr_scene   \n",
       "70       ls7_collections_sr_scene_lean   \n",
       "19             ls7_ledaps_amazon_river   \n",
       "20               ls7_ledaps_bangladesh   \n",
       "35          ls7_ledaps_bangladesh_bari   \n",
       "36                  ls7_ledaps_caqueta   \n",
       "21                 ls7_ledaps_colombia   \n",
       "22                    ls7_ledaps_ghana   \n",
       "23                    ls7_ledaps_kenya   \n",
       "41             ls7_ledaps_lake_baringo   \n",
       "24           ls7_ledaps_lake_chad_full   \n",
       "25             ls7_ledaps_lake_cortijo   \n",
       "..                                 ...   \n",
       "28          ls7_ledaps_salgar_colombia   \n",
       "72               ls7_ledaps_sanagustin   \n",
       "63                    ls7_ledaps_scene   \n",
       "29                     ls7_ledaps_togo   \n",
       "30                    ls7_ledaps_tonga   \n",
       "31                  ls7_ledaps_vietnam   \n",
       "9             ls8_collections_sr_scene   \n",
       "71       ls8_collections_sr_scene_lean   \n",
       "37                   ls8_lasrc_caqueta   \n",
       "32            ls8_lasrc_lake_chad_full   \n",
       "33                ls8_lasrc_meta_river   \n",
       "73                ls8_lasrc_sanagustin   \n",
       "74                ls8_lasrc_tonga_test   \n",
       "75        ls8_lasrc_tonga_test_correct   \n",
       "76       ls8_lasrc_tonga_test_newresol   \n",
       "40                   ls8_lasrc_uruguay   \n",
       "34                   ls8_lasrc_vietnam   \n",
       "69                    ls8_ledaps_scene   \n",
       "65                    ls8_level1_scene   \n",
       "66                      ls8_nbar_scene   \n",
       "67                     ls8_nbart_scene   \n",
       "68                        ls8_pq_scene   \n",
       "64        ls8_satellite_telemetry_data   \n",
       "57                  s1_gamma0_colombia   \n",
       "58                 s1_gamma0_lake_chad   \n",
       "59            s1_gamma0_menindee_lakes   \n",
       "10                     s1_gamma0_scene   \n",
       "60                   s1_gamma0_vietnam   \n",
       "13     terra_aster_gdm_salgar_colombia   \n",
       "3             terra_aster_gdm_v2_scene   \n",
       "\n",
       "                                          description   format  orbit  \\\n",
       "id                                                                      \n",
       "46  ALOS-2 PALSAR JJ-FAST mosaic tiles generated f...  GeoTiff    NaN   \n",
       "61  ALOS2 PALSAR JJFAST tile in DN format processe...   NetCDF    NaN   \n",
       "50  ALOS2 PALSAR tile in DN format processed for t...   NetCDF    NaN   \n",
       "51  ALOS2 PALSAR tile in DN format processed for t...   NetCDF    NaN   \n",
       "48  ALOS-2 PALSAR mosaic tiles generated for use i...  GeoTiff    NaN   \n",
       "52  ALOS2 PALSAR tile in DN format processed for t...   NetCDF    NaN   \n",
       "53  ALOS PALSAR tile in DN format processed for th...   NetCDF    NaN   \n",
       "54  ALOS PALSAR tile in DN format processed for th...   NetCDF    NaN   \n",
       "47  ALOS PALSAR mosaic tiles generated for use in ...  GeoTiff    NaN   \n",
       "55  ALOS PALSAR tile in DN format processed for th...   NetCDF    NaN   \n",
       "5   GIS translation of the imerg data product. Mul...  GeoTiff    NaN   \n",
       "14                   Global NetCDF GPM IMERG GIS data   NetCDF    NaN   \n",
       "6   GIS translation of the imerg data product. Mul...  GeoTiff    NaN   \n",
       "4   GIS translation of the imerg data product. Mul...  GeoTiff    NaN   \n",
       "15                   Global NetCDF GPM IMERG GIS data   NetCDF    NaN   \n",
       "7   Landsat 5 USGS Collection 1 Higher Level SR sc...  GeoTiff    NaN   \n",
       "17  Landsat 5 USGS Collection 1 Higher Level SR sc...   NetCDF    NaN   \n",
       "18  Landsat 5 USGS Collection 1 Higher Level SR sc...   NetCDF    NaN   \n",
       "8   Landsat 7 USGS Collection 1 Higher Level SR sc...  GeoTiff    NaN   \n",
       "70  Landsat 7 USGS Collection 1 Higher Level SR sc...  GeoTiff    NaN   \n",
       "19  Landsat 7 USGS Collection 1 Higher Level SR sc...   NetCDF    NaN   \n",
       "20  Landsat 7 USGS Collection 1 Higher Level SR sc...   NetCDF    NaN   \n",
       "35  Landsat 7 USGS Collection 1 Higher Level SR sc...   NetCDF    NaN   \n",
       "36  Landsat 7 USGS Collection 1 Higher Level SR sc...   NetCDF    NaN   \n",
       "21  Landsat 7 USGS Collection 1 Higher Level SR sc...   NetCDF    NaN   \n",
       "22  Landsat 7 USGS Collection 1 Higher Level SR sc...   NetCDF    NaN   \n",
       "23  Landsat 7 USGS Collection 1 Higher Level SR sc...   NetCDF    NaN   \n",
       "41  Landsat 7 USGS Collection 1 Higher Level SR sc...   NetCDF    NaN   \n",
       "24  Landsat 7 USGS Collection 1 Higher Level SR sc...   NetCDF    NaN   \n",
       "25  Landsat 7 USGS Collection 1 Higher Level SR sc...   NetCDF    NaN   \n",
       "..                                                ...      ...    ...   \n",
       "28  Landsat 7 USGS Collection 1 Higher Level SR sc...   NetCDF    NaN   \n",
       "72  Landsat 7 USGS Collection 1 Higher Level SR sc...   NetCDF    NaN   \n",
       "63  Landsat 7 LEDAPS 30 metre. Will be used for al...  GeoTiff    NaN   \n",
       "29  Landsat 7 USGS Collection 1 Higher Level SR sc...   NetCDF    NaN   \n",
       "30  Landsat 7 USGS Collection 1 Higher Level SR sc...   NetCDF    NaN   \n",
       "31  Landsat 7 USGS Collection 1 Higher Level SR sc...   NetCDF    NaN   \n",
       "9   Landsat 8 USGS Collection 1 Higher Level SR sc...  GeoTiff    NaN   \n",
       "71  Landsat 8 USGS Collection 1 Higher Level SR sc...  GeoTiff    NaN   \n",
       "37  Landsat 8 USGS Collection 1 Higher Level SR sc...   NetCDF    NaN   \n",
       "32  Landsat 8 USGS Collection 1 Higher Level SR sc...   NetCDF    NaN   \n",
       "33  Landsat 8 USGS Collection 1 Higher Level SR sc...   NetCDF    NaN   \n",
       "73  Landsat 8 USGS Collection 1 Higher Level SR sc...   NetCDF    NaN   \n",
       "74  Landsat 8 USGS Collection 1 Higher Level SR sc...   NetCDF    NaN   \n",
       "75  Landsat 8 USGS Collection 1 Higher Level SR sc...   NetCDF    NaN   \n",
       "76  Landsat 8 USGS Collection 1 Higher Level SR sc...   NetCDF    NaN   \n",
       "40  Landsat 8 USGS Collection 1 Higher Level SR sc...   NetCDF    NaN   \n",
       "34  Landsat 8 USGS Collection 1 Higher Level SR sc...   NetCDF    NaN   \n",
       "69                          Landsat 8 LEDAPS 25 metre  GeoTiff    NaN   \n",
       "65      Landsat 8 Level 1 At-sensor Radiance 25 metre  GeoTiff    NaN   \n",
       "66                            Landsat 8 NBAR 25 metre  GeoTiff    NaN   \n",
       "67                           Landsat 8 NBART 25 metre  GeoTiff    NaN   \n",
       "68                              Landsat 8 PQ 25 metre  GeoTiff    NaN   \n",
       "64                 Landsat 8 Satellite Telemetry Data      NaN    NaN   \n",
       "57  Sentinel-1A/B SAR Gamma0, processed to the CEO...   NetCDF    NaN   \n",
       "58  Sentinel-1A/B SAR Gamma0, processed to the CEO...   NetCDF    NaN   \n",
       "59  Sentinel-1A/B SAR Gamma0, processed to the CEO...   NetCDF    NaN   \n",
       "10  Sentinel-1A/B SAR Gamma0 scenes, processed to ...     ENVI    NaN   \n",
       "60  Sentinel-1A/B SAR Gamma0, processed to the CEO...   NetCDF    NaN   \n",
       "13            Terra Aster -- metre, UTM 36 projection   NetCDF    NaN   \n",
       "3   Global Elevation Data from TERRA stallite's AS...  GeoTiff    NaN   \n",
       "\n",
       "   instrument  lon  sat_row    platform  sat_path              product_type  \\\n",
       "id                                                                            \n",
       "46     PALSAR  NaN      NaN      ALOS_2       NaN                      tile   \n",
       "61     PALSAR  NaN      NaN      ALOS_2       NaN                      tile   \n",
       "50     PALSAR  NaN      NaN      ALOS_2       NaN                    gamma0   \n",
       "51     PALSAR  NaN      NaN      ALOS_2       NaN                    gamma0   \n",
       "48     PALSAR  NaN      NaN      ALOS_2       NaN                    gamma0   \n",
       "52     PALSAR  NaN      NaN      ALOS_2       NaN                    gamma0   \n",
       "53     PALSAR  NaN      NaN        ALOS       NaN                    gamma0   \n",
       "54     PALSAR  NaN      NaN        ALOS       NaN                    gamma0   \n",
       "47     PALSAR  NaN      NaN        ALOS       NaN                    gamma0   \n",
       "55     PALSAR  NaN      NaN        ALOS       NaN                    gamma0   \n",
       "5         GPM  NaN      NaN         GPM       NaN                     daily   \n",
       "14        GPM  NaN      NaN         GPM       NaN                     daily   \n",
       "6         GPM  NaN      NaN         GPM       NaN                    hourly   \n",
       "4         GPM  NaN      NaN         GPM       NaN                   monthly   \n",
       "15        GPM  NaN      NaN         GPM       NaN                   monthly   \n",
       "7          TM  NaN      NaN   LANDSAT_5       NaN                    LEDAPS   \n",
       "17         TM  NaN      NaN   LANDSAT_5       NaN                    LEDAPS   \n",
       "18         TM  NaN      NaN   LANDSAT_5       NaN                    LEDAPS   \n",
       "8         ETM  NaN      NaN   LANDSAT_7       NaN                    LEDAPS   \n",
       "70       ETM1  NaN      NaN   LANDSAT_7       NaN                    LEDAPS   \n",
       "19        ETM  NaN      NaN   LANDSAT_7       NaN                    LEDAPS   \n",
       "20        ETM  NaN      NaN   LANDSAT_7       NaN                    LEDAPS   \n",
       "35        ETM  NaN      NaN   LANDSAT_7       NaN                    LEDAPS   \n",
       "36        ETM  NaN      NaN   LANDSAT_7       NaN                    LEDAPS   \n",
       "21        ETM  NaN      NaN   LANDSAT_7       NaN                    LEDAPS   \n",
       "22        ETM  NaN      NaN   LANDSAT_7       NaN                    LEDAPS   \n",
       "23        ETM  NaN      NaN   LANDSAT_7       NaN                    LEDAPS   \n",
       "41        ETM  NaN      NaN   LANDSAT_7       NaN                    LEDAPS   \n",
       "24        ETM  NaN      NaN   LANDSAT_7       NaN                    LEDAPS   \n",
       "25        ETM  NaN      NaN   LANDSAT_7       NaN                    LEDAPS   \n",
       "..        ...  ...      ...         ...       ...                       ...   \n",
       "28        ETM  NaN      NaN   LANDSAT_7       NaN                    LEDAPS   \n",
       "72       ETM1  NaN      NaN   LANDSAT_7       NaN                    LEDAPS   \n",
       "63        ETM  NaN      NaN   LANDSAT_7       NaN                    ledaps   \n",
       "29        ETM  NaN      NaN   LANDSAT_7       NaN                    LEDAPS   \n",
       "30        ETM  NaN      NaN   LANDSAT_7       NaN                    LEDAPS   \n",
       "31        ETM  NaN      NaN   LANDSAT_7       NaN                    LEDAPS   \n",
       "9    OLI_TIRS  NaN      NaN   LANDSAT_8       NaN                     LaSRC   \n",
       "71  OLI_TIRS1  NaN      NaN   LANDSAT_8       NaN                     LaSRC   \n",
       "37   OLI_TIRS  NaN      NaN   LANDSAT_8       NaN                     LaSRC   \n",
       "32   OLI_TIRS  NaN      NaN   LANDSAT_8       NaN                     LaSRC   \n",
       "33   OLI_TIRS  NaN      NaN   LANDSAT_8       NaN                     LaSRC   \n",
       "73  OLI_TIRS1  NaN      NaN   LANDSAT_8       NaN                     LaSRC   \n",
       "74  OLI_TIRS1  NaN      NaN   LANDSAT_8       NaN                     LaSRC   \n",
       "75  OLI_TIRS1  NaN      NaN   LANDSAT_8       NaN                     LaSRC   \n",
       "76  OLI_TIRS1  NaN      NaN   LANDSAT_8       NaN                     LaSRC   \n",
       "40   OLI_TIRS  NaN      NaN   LANDSAT_8       NaN                     LaSRC   \n",
       "34   OLI_TIRS  NaN      NaN   LANDSAT_8       NaN                     LaSRC   \n",
       "69   OLI_TIRS  NaN      NaN   LANDSAT_8       NaN                    LEDAPS   \n",
       "65        OLI  NaN      NaN   LANDSAT_8       NaN                    level1   \n",
       "66        OLI  NaN      NaN   LANDSAT_8       NaN                      nbar   \n",
       "67        OLI  NaN      NaN   LANDSAT_8       NaN                     nbart   \n",
       "68        ETM  NaN      NaN   LANDSAT_8       NaN                       pqa   \n",
       "64        OLI  NaN      NaN   LANDSAT_8       NaN  satellite_telemetry_data   \n",
       "57        SAR  NaN      NaN  SENTINEL_1       NaN                    gamma0   \n",
       "58        SAR  NaN      NaN  SENTINEL_1       NaN                    gamma0   \n",
       "59        SAR  NaN      NaN  SENTINEL_1       NaN                    gamma0   \n",
       "10        SAR  NaN      NaN  SENTINEL_1       NaN                    gamma0   \n",
       "60        SAR  NaN      NaN  SENTINEL_1       NaN                    gamma0   \n",
       "13      ASTER  NaN      NaN       TERRA       NaN                   GDEM_V2   \n",
       "3       ASTER  NaN      NaN       TERRA       NaN                   GDEM_V2   \n",
       "\n",
       "    lat  time  gsi        crs                                    resolution  \\\n",
       "id                                                                            \n",
       "46  NaN  None  NaN        NaN                                           NaN   \n",
       "61  NaN  None  NaN  EPSG:4326           [-0.0002666666667, 0.0002666666667]   \n",
       "50  NaN  None  NaN  EPSG:4326           [-0.0002666666667, 0.0002666666667]   \n",
       "51  NaN  None  NaN  EPSG:4326           [-0.0002666666667, 0.0002666666667]   \n",
       "48  NaN  None  NaN        NaN                                           NaN   \n",
       "52  NaN  None  NaN  EPSG:4326           [-0.0002666666667, 0.0002666666667]   \n",
       "53  NaN  None  NaN  EPSG:4326           [-0.0002666666667, 0.0002666666667]   \n",
       "54  NaN  None  NaN  EPSG:4326           [-0.0002666666667, 0.0002666666667]   \n",
       "47  NaN  None  NaN        NaN                                           NaN   \n",
       "55  NaN  None  NaN  EPSG:4326           [-0.0002666666667, 0.0002666666667]   \n",
       "5   NaN  None  NaN        NaN                                           NaN   \n",
       "14  NaN  None  NaN  EPSG:4326                                   [-0.1, 0.1]   \n",
       "6   NaN  None  NaN        NaN                                           NaN   \n",
       "4   NaN  None  NaN        NaN                                           NaN   \n",
       "15  NaN  None  NaN  EPSG:4326                                   [-0.1, 0.1]   \n",
       "7   NaN  None  NaN        NaN                                           NaN   \n",
       "17  NaN  None  NaN  EPSG:4326                   [-0.000270861, 0.000294834]   \n",
       "18  NaN  None  NaN  EPSG:4326                    [-0.000271152, 0.00027769]   \n",
       "8   NaN  None  NaN        NaN                                           NaN   \n",
       "70  NaN  None  NaN        NaN                                           NaN   \n",
       "19  NaN  None  NaN  EPSG:4326                   [-0.000271302, 0.000269995]   \n",
       "20  NaN  None  NaN  EPSG:4326                   [-0.000270861, 0.000294834]   \n",
       "35  NaN  None  NaN  EPSG:4326                   [-0.000270861, 0.000294834]   \n",
       "36  NaN  None  NaN  EPSG:4326       [-0.000269494585236, 0.000269494585236]   \n",
       "21  NaN  None  NaN  EPSG:4326                   [-0.000271307, 0.000269505]   \n",
       "22  NaN  None  NaN  EPSG:4326       [-0.000269494585236, 0.000269494585236]   \n",
       "23  NaN  None  NaN  EPSG:4326                   [-0.000269493, 0.000269493]   \n",
       "41  NaN  None  NaN  EPSG:4326                   [-0.000269493, 0.000269493]   \n",
       "24  NaN  None  NaN  EPSG:4326                    [-0.000271152, 0.00027769]   \n",
       "25  NaN  None  NaN  EPSG:4326                   [-0.000271297, 0.000270148]   \n",
       "..  ...   ...  ...        ...                                           ...   \n",
       "28  NaN  None  NaN  EPSG:4326                   [-0.000271285, 0.000270849]   \n",
       "72  NaN  None  NaN  EPSG:4326  [-0.000271309115317046, 0.00026957992707863]   \n",
       "63  NaN  None  NaN        NaN                                           NaN   \n",
       "29  NaN  None  NaN  EPSG:4326                   [-0.000271285, 0.000270971]   \n",
       "30  NaN  None  NaN  EPSG:4326                   [-0.000270961, 0.000280452]   \n",
       "31  NaN  None  NaN  EPSG:4326       [-0.000269494585236, 0.000269494585236]   \n",
       "9   NaN  None  NaN        NaN                                           NaN   \n",
       "71  NaN  None  NaN        NaN                                           NaN   \n",
       "37  NaN  None  NaN  EPSG:4326       [-0.000269494585236, 0.000269494585236]   \n",
       "32  NaN  None  NaN  EPSG:4326                    [-0.000271152, 0.00027769]   \n",
       "33  NaN  None  NaN  EPSG:4326               [-0.00027129679, 0.00027014858]   \n",
       "73  NaN  None  NaN  EPSG:4326  [-0.000271309115317046, 0.00026957992707863]   \n",
       "74  NaN  None  NaN  EPSG:4326       [-0.000269494585236, 0.000269494585236]   \n",
       "75  NaN  None  NaN  EPSG:4326       [-0.000269494585236, 0.000269494585236]   \n",
       "76  NaN  None  NaN  EPSG:4326                             [-0.0003, 0.0003]   \n",
       "40  NaN  None  NaN  EPSG:4326       [-0.000269494585236, 0.000269494585236]   \n",
       "34  NaN  None  NaN  EPSG:4326       [-0.000269494585236, 0.000269494585236]   \n",
       "69  NaN  None  NaN        NaN                                           NaN   \n",
       "65  NaN  None  NaN        NaN                                           NaN   \n",
       "66  NaN  None  NaN        NaN                                           NaN   \n",
       "67  NaN  None  NaN        NaN                                           NaN   \n",
       "68  NaN  None  NaN        NaN                                           NaN   \n",
       "64  NaN  None  NaN        NaN                                           NaN   \n",
       "57  NaN  None  NaN  EPSG:4326             [-0.000269715032, 0.000269715032]   \n",
       "58  NaN  None  NaN  EPSG:4326             [-0.000269715032, 0.000269715032]   \n",
       "59  NaN  None  NaN  EPSG:4326             [-0.000269715032, 0.000269715032]   \n",
       "10  NaN  None  NaN        NaN                                           NaN   \n",
       "60  NaN  None  NaN  EPSG:4326             [-0.000269715032, 0.000269715032]   \n",
       "13  NaN  None  NaN  EPSG:4326                   [-0.000271285, 0.000270849]   \n",
       "3   NaN  None  NaN        NaN                                           NaN   \n",
       "\n",
       "                                 tile_size     spatial_dimensions  \n",
       "id                                                                 \n",
       "46                                     NaN                    NaN  \n",
       "61            [0.5333333334, 0.5333333334]  (latitude, longitude)  \n",
       "50            [0.5333333334, 0.5333333334]  (latitude, longitude)  \n",
       "51            [0.5333333334, 0.5333333334]  (latitude, longitude)  \n",
       "48                                     NaN                    NaN  \n",
       "52            [0.5333333334, 0.5333333334]  (latitude, longitude)  \n",
       "53            [0.5333333334, 0.5333333334]  (latitude, longitude)  \n",
       "54            [0.5333333334, 0.5333333334]  (latitude, longitude)  \n",
       "47                                     NaN                    NaN  \n",
       "55            [0.5333333334, 0.5333333334]  (latitude, longitude)  \n",
       "5                                      NaN                    NaN  \n",
       "14                               [90, 180]  (latitude, longitude)  \n",
       "6                                      NaN                    NaN  \n",
       "4                                      NaN                    NaN  \n",
       "15                               [90, 180]  (latitude, longitude)  \n",
       "7                                      NaN                    NaN  \n",
       "17                    [0.812583, 0.884502]  (latitude, longitude)  \n",
       "18                     [0.813456, 0.83307]  (latitude, longitude)  \n",
       "8                                      NaN                    NaN  \n",
       "70                                     NaN                    NaN  \n",
       "19                    [0.813906, 0.809985]  (latitude, longitude)  \n",
       "20                    [0.812583, 0.884502]  (latitude, longitude)  \n",
       "35                    [0.812583, 0.884502]  (latitude, longitude)  \n",
       "36        [0.538989170472, 0.538989170472]  (latitude, longitude)  \n",
       "21                  [0.9495745, 0.9432675]  (latitude, longitude)  \n",
       "22        [0.943231048326, 0.943231048326]  (latitude, longitude)  \n",
       "23                [0.99981903, 0.99981903]  (latitude, longitude)  \n",
       "41              [0.249820011, 0.249820011]  (latitude, longitude)  \n",
       "24                     [0.813456, 0.83307]  (latitude, longitude)  \n",
       "25                    [0.813891, 0.810444]  (latitude, longitude)  \n",
       "..                                     ...                    ...  \n",
       "28                  [0.9494975, 0.9479715]  (latitude, longitude)  \n",
       "72  [0.999502780827996, 0.999602369607559]  (latitude, longitude)  \n",
       "63                                     NaN                    NaN  \n",
       "29                    [0.813855, 0.812913]  (latitude, longitude)  \n",
       "30                    [0.812883, 0.841356]  (latitude, longitude)  \n",
       "31        [0.943231048326, 0.943231048326]  (latitude, longitude)  \n",
       "9                                      NaN                    NaN  \n",
       "71                                     NaN                    NaN  \n",
       "37        [0.538989170472, 0.538989170472]  (latitude, longitude)  \n",
       "32                     [0.813456, 0.83307]  (latitude, longitude)  \n",
       "33            [0.49999998397, 0.499774873]  (latitude, longitude)  \n",
       "73  [0.999502780827996, 0.999602369607559]  (latitude, longitude)  \n",
       "74                            [0.27, 0.27]  (latitude, longitude)  \n",
       "75        [0.943231048326, 0.943231048326]  (latitude, longitude)  \n",
       "76        [0.943231048326, 0.943231048326]  (latitude, longitude)  \n",
       "40        [0.943231048326, 0.943231048326]  (latitude, longitude)  \n",
       "34        [0.943231048326, 0.943231048326]  (latitude, longitude)  \n",
       "69                                     NaN                    NaN  \n",
       "65                                     NaN                    NaN  \n",
       "66                                     NaN                    NaN  \n",
       "67                                     NaN                    NaN  \n",
       "68                                     NaN                    NaN  \n",
       "64                                     NaN                    NaN  \n",
       "57              [0.809145096, 0.809145096]  (latitude, longitude)  \n",
       "58              [0.809145096, 0.809145096]  (latitude, longitude)  \n",
       "59              [0.809145096, 0.809145096]  (latitude, longitude)  \n",
       "10                                     NaN                    NaN  \n",
       "60              [0.809145096, 0.809145096]  (latitude, longitude)  \n",
       "13                  [0.9494975, 0.9479715]  (latitude, longitude)  \n",
       "3                                      NaN                    NaN  \n",
       "\n",
       "[63 rows x 17 columns]"
      ]
     },
     "execution_count": 6,
     "metadata": {},
     "output_type": "execute_result"
    }
   ],
   "source": [
    "dc.list_products()"
   ]
  },
  {
   "cell_type": "code",
   "execution_count": 7,
   "metadata": {},
   "outputs": [
    {
     "data": {
      "text/html": [
       "<div style=\"width:100%;\"><div style=\"position:relative;width:100%;height:0;padding-bottom:60%;\"><iframe src=\"data:text/html;charset=utf-8;base64,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\" style=\"position:absolute;width:100%;height:100%;left:0;top:0;border:none !important;\" allowfullscreen webkitallowfullscreen mozallowfullscreen></iframe></div></div>"
      ],
      "text/plain": [
       "<folium.folium.Map at 0x7f7dbcd319e8>"
      ]
     },
     "execution_count": 7,
     "metadata": {},
     "output_type": "execute_result"
    }
   ],
   "source": [
    "lon = (min_lon, max_lon)\n",
    "lat = (min_lat, max_lat)\n",
    "display_map(lat, lon)"
   ]
  },
  {
   "cell_type": "markdown",
   "metadata": {},
   "source": [
    "**At this point, we must access our data cube and analyze our data.** In this example, we will run the WOfS algorithm. The wofs_classify function, seen below, will return a modified dataset, where a value of 1 indicates the pixel has been classified as water by the WoFS algorithm and 0 represents the pixel is non-water. You will see that this output dataset is of the same dimensions as the input dataset. \n",
    "\n",
    "*****\n",
    "\n",
    "For more information on the WOFS algorithm, refer to:\n",
    "\n",
    "Mueller, et al. (2015) \"Water observations from space: Mapping surface water from 25 years of Landsat imagery across Australia.\" *Remote Sensing of Environment*."
   ]
  },
  {
   "cell_type": "code",
   "execution_count": 12,
   "metadata": {},
   "outputs": [],
   "source": [
    "from utils.data_cube_utilities.clean_mask import landsat_qa_clean_mask\n",
    "wofs_classifications = []\n",
    "measurements = ['blue', 'green', 'red', 'nir', 'swir1', 'swir2', 'pixel_qa']\n",
    "\n",
    "for product,platform in zip(product_list, platform_list):\n",
    "    start_date = datetime.strptime(extent_values[0].value, '%Y-%m-%d')\n",
    "    end_date = datetime.strptime(extent_values[1].value, '%Y-%m-%d')\n",
    "    min_lon = extent_values[2].value\n",
    "    max_lon = extent_values[3].value\n",
    "    min_lat = extent_values[4].value\n",
    "    max_lat = extent_values[5].value\n",
    "\n",
    "    # Query the Data Cube\n",
    "    dataset_in = dc.load(platform  = platform,\n",
    "                         product   = product,\n",
    "                         time      = (start_date, end_date),\n",
    "                         lon       = (min_lon_small, max_lon_small), \n",
    "                         lat       = (min_lat_small, max_lat_small),\n",
    "                         measurements=measurements)\n",
    "    # WOFS classification\n",
    "    clean_mask = landsat_qa_clean_mask(dataset_in, platform)\n",
    "    water_class = wofs_classify(dataset_in, clean_mask=clean_mask)\n",
    "    wofs_classifications.append(water_class.copy(deep=True))\n",
    "complete_dataset = None\n",
    "if len(wofs_classifications) != 0:\n",
    "    complete_dataset = xr.concat(wofs_classifications, 'time')\n",
    "else:\n",
    "    complete_dataset = xr.Dataset()\n",
    "datasets_in = None"
   ]
  },
  {
   "cell_type": "markdown",
   "metadata": {},
   "source": [
    "**Execute the following code and then use the generated form to choose your desired acquisition date.** The following two code blocks are only necessary if you would like to see the water mask of a single acquisition date. "
   ]
  },
  {
   "cell_type": "code",
   "execution_count": 13,
   "metadata": {},
   "outputs": [
    {
     "data": {
      "application/vnd.jupyter.widget-view+json": {
       "model_id": "66b60963b63c49f68494d0986b8f676f",
       "version_major": 2,
       "version_minor": 0
      },
      "text/html": [
       "<p>Failed to display Jupyter Widget of type <code>Label</code>.</p>\n",
       "<p>\n",
       "  If you're reading this message in the Jupyter Notebook or JupyterLab Notebook, it may mean\n",
       "  that the widgets JavaScript is still loading. If this message persists, it\n",
       "  likely means that the widgets JavaScript library is either not installed or\n",
       "  not enabled. See the <a href=\"https://ipywidgets.readthedocs.io/en/stable/user_install.html\">Jupyter\n",
       "  Widgets Documentation</a> for setup instructions.\n",
       "</p>\n",
       "<p>\n",
       "  If you're reading this message in another frontend (for example, a static\n",
       "  rendering on GitHub or <a href=\"https://nbviewer.jupyter.org/\">NBViewer</a>),\n",
       "  it may mean that your frontend doesn't currently support widgets.\n",
       "</p>\n"
      ],
      "text/plain": [
       "Label(value='Acquisition Date: ')"
      ]
     },
     "metadata": {},
     "output_type": "display_data"
    },
    {
     "data": {
      "application/vnd.jupyter.widget-view+json": {
       "model_id": "cf00021fd46644d8926f7c39c9e82f61",
       "version_major": 2,
       "version_minor": 0
      },
      "text/html": [
       "<p>Failed to display Jupyter Widget of type <code>Dropdown</code>.</p>\n",
       "<p>\n",
       "  If you're reading this message in the Jupyter Notebook or JupyterLab Notebook, it may mean\n",
       "  that the widgets JavaScript is still loading. If this message persists, it\n",
       "  likely means that the widgets JavaScript library is either not installed or\n",
       "  not enabled. See the <a href=\"https://ipywidgets.readthedocs.io/en/stable/user_install.html\">Jupyter\n",
       "  Widgets Documentation</a> for setup instructions.\n",
       "</p>\n",
       "<p>\n",
       "  If you're reading this message in another frontend (for example, a static\n",
       "  rendering on GitHub or <a href=\"https://nbviewer.jupyter.org/\">NBViewer</a>),\n",
       "  it may mean that your frontend doesn't currently support widgets.\n",
       "</p>\n"
      ],
      "text/plain": [
       "Dropdown(options=('1999-08-20', '1999-10-23', '1999-12-10', '2000-02-28', '2000-03-31', '2000-06-03', '2000-08-22', '2000-09-23', '2000-10-09', '2000-11-10', '2001-01-13', '2001-02-14', '2001-03-18', '2001-05-21', '2001-07-08', '2001-08-02', '2001-08-25', '2001-09-26', '2001-10-28', '2001-12-31', '2002-02-17', '2002-03-05', '2002-05-08', '2002-06-25', '2002-08-28', '2002-10-08', '2002-10-15', '2002-11-16', '2002-12-18', '2003-02-04', '2003-02-20', '2003-03-08', '2003-05-11', '2003-07-30', '2003-10-18', '2003-11-03', '2003-12-05', '2004-01-06', '2004-02-07', '2004-03-26', '2004-04-11', '2004-04-27', '2004-05-13', '2004-06-14', '2004-08-01', '2004-09-18', '2004-10-20', '2004-11-05', '2004-11-21', '2004-12-07', '2004-12-23', '2005-02-25', '2005-03-29', '2005-04-14', '2005-08-04', '2005-10-07', '2005-10-23', '2005-11-08', '2005-11-24', '2005-12-10', '2005-12-26', '2006-01-11', '2006-02-28', '2006-04-17', '2006-05-03', '2006-05-19', '2006-06-04', '2006-06-20', '2006-07-06', '2006-07-22', '2006-10-03', '2006-10-26', '2006-11-04', '2006-11-20', '2006-11-27', '2006-12-13', '2006-12-29', '2007-01-14', '2007-01-30', '2007-02-15', '2007-03-03', '2007-03-19', '2007-04-04', '2007-04-20', '2007-05-06', '2007-05-22', '2007-06-07', '2007-07-09', '2007-07-18', '2007-07-25', '2007-08-19', '2007-09-11', '2007-10-13', '2007-10-29', '2007-11-23', '2007-11-30', '2007-12-09', '2007-12-16', '2008-01-01', '2008-01-10', '2008-01-17', '2008-01-26', '2008-02-02', '2008-02-11', '2008-02-18', '2008-03-05', '2008-03-21', '2008-03-30', '2008-04-22', '2008-05-24', '2008-06-18', '2008-09-29', '2008-10-31', '2008-11-16', '2008-11-25', '2008-12-02', '2008-12-18', '2009-03-08', '2009-03-17', '2009-03-24', '2009-05-11', '2009-05-20', '2009-05-27', '2009-07-07', '2009-07-23', '2009-07-30', '2009-08-15', '2009-09-09', '2009-09-25', '2009-10-02', '2009-10-18', '2009-12-30', '2010-01-15', '2010-01-22', '2010-01-31', '2010-02-07', '2010-02-16', '2010-02-23', '2010-03-20', '2010-03-27', '2010-04-05', '2010-04-12', '2010-04-21', '2010-05-07', '2010-05-14', '2010-06-15', '2010-12-24', '2011-01-09', '2011-07-04', '2011-07-20', '2011-08-21', '2011-10-01', '2011-12-27', '2012-01-12', '2012-01-28', '2012-02-13', '2012-02-29', '2012-03-16', '2012-04-01', '2012-04-26', '2012-05-03', '2012-05-12', '2012-05-19', '2012-05-28', '2012-06-04', '2012-06-20', '2012-07-06', '2012-09-24', '2012-10-10', '2012-10-26', '2013-01-14', '2013-02-15', '2013-03-03', '2013-04-04', '2013-05-22', '2013-07-09', '2013-10-13', '2013-10-29', '2013-11-14', '2013-11-30', '2013-12-16', '2014-01-01', '2014-01-17', '2014-01-26', '2014-02-02', '2014-02-11', '2014-03-22', '2014-04-07', '2014-04-23', '2014-05-09', '2014-05-18', '2014-05-25', '2014-06-10', '2014-06-26', '2014-07-12', '2014-07-28', '2014-08-13', '2014-08-29', '2014-09-14', '2014-09-30', '2014-10-16', '2014-11-01', '2014-11-17', '2014-12-03', '2014-12-19', '2015-01-04', '2015-01-20', '2015-02-21', '2015-03-09', '2015-03-25', '2015-04-10', '2015-04-26', '2015-05-12', '2015-05-28', '2015-06-13', '2015-07-15', '2015-07-31', '2015-08-16', '2015-09-01', '2015-09-26', '2015-10-03', '2015-10-19', '2015-11-04', '2015-11-20', '2015-12-06', '2015-12-22', '2016-01-07', '2016-01-16', '2016-01-23', '2016-02-01', '2016-02-08', '2016-02-24', '2016-03-11', '2016-03-27', '2016-04-12', '2016-04-28', '2016-05-14', '2016-07-01', '2016-07-17', '2016-08-02', '2016-08-18', '2016-09-03', '2016-09-19', '2016-09-28'), value='1999-08-20')"
      ]
     },
     "metadata": {},
     "output_type": "display_data"
    }
   ],
   "source": [
    "acq_dates = list(water_class.time.values.astype(str))\n",
    "acq_dates = list(map(lambda x:x.split(\"T\")[0],acq_dates))\n",
    "acq_date_input = create_acq_date_gui(acq_dates)"
   ]
  },
  {
   "cell_type": "code",
   "execution_count": 14,
   "metadata": {},
   "outputs": [
    {
     "name": "stderr",
     "output_type": "stream",
     "text": [
      "/home/localuser/Datacube/datacube_env/lib/python3.5/site-packages/ipykernel_launcher.py:10: RuntimeWarning: invalid value encountered in greater\n",
      "  # Remove the CWD from sys.path while we load stuff.\n"
     ]
    },
    {
     "data": {
      "image/png": "[encoded data removed]",
      "text/plain": [
       "<matplotlib.figure.Figure at 0x7f7db5861400>"
      ]
     },
     "metadata": {},
     "output_type": "display_data"
    }
   ],
   "source": [
    "# Save form value\n",
    "acq_date = acq_date_input.value\n",
    "acq_date_index = acq_dates.index(acq_date)\n",
    "\n",
    "# Get water class for selected acquisition date and mask no data values\n",
    "water_class_for_acq_date = water_class.wofs[acq_date_index]\n",
    "water_class_for_acq_date.values = water_class_for_acq_date.values.astype('float')\n",
    "water_class_for_acq_date.values[water_class_for_acq_date.values == -9999] = np.nan\n",
    "\n",
    "if len(water_class_for_acq_date.values[water_class_for_acq_date.values > -9999]) > 0:\n",
    "    water_observations_for_acq_date_plot = water_class_for_acq_date.plot(cmap='BuPu')"
   ]
  },
  {
   "cell_type": "markdown",
   "metadata": {},
   "source": [
    "**With all of the pixels classified as either water/non-water, let's perform a time series analysis over our derived water class.** The function, perform_timeseries_analysis, takes in a dataset of 3 dimensions (time, latitude, and longitude), then sums the values of each pixel over time. It also keeps track of the number of clear observations we have at each pixel. We can then normalize each pixel to determine areas at risk of flooding. The normalization calculation is simply:\n",
    "\n",
    "$$normalized\\_water\\_observations = \\dfrac{total\\_water\\_observations}{total\\_clear\\_observations}$$.\n",
    "\n",
    "The output each of the three calculations can be seen below."
   ]
  },
  {
   "cell_type": "code",
   "execution_count": 15,
   "metadata": {},
   "outputs": [
    {
     "data": {
      "text/plain": [
       "<xarray.Dataset>\n",
       "Dimensions:          (latitude: 923, longitude: 898)\n",
       "Coordinates:\n",
       "  * latitude         (latitude) float64 12.99 12.99 12.99 12.99 12.99 12.99 ...\n",
       "  * longitude        (longitude) float64 14.24 14.24 14.24 14.24 14.25 14.25 ...\n",
       "Data variables:\n",
       "    total_clean      (latitude, longitude) int64 143 142 143 142 143 143 143 ...\n",
       "    total_data       (latitude, longitude) float64 0.0 0.0 0.0 0.0 0.0 0.0 ...\n",
       "    normalized_data  (latitude, longitude) float64 0.0 0.0 0.0 0.0 0.0 0.0 ..."
      ]
     },
     "execution_count": 15,
     "metadata": {},
     "output_type": "execute_result"
    }
   ],
   "source": [
    "time_series = perform_timeseries_analysis(water_class, 'wofs')\n",
    "time_series"
   ]
  },
  {
   "cell_type": "code",
   "execution_count": 16,
   "metadata": {},
   "outputs": [
    {
     "data": {
      "image/png": "[encoded data removed]",
      "text/plain": [
       "<matplotlib.figure.Figure at 0x7f7dcfc426a0>"
      ]
     },
     "metadata": {},
     "output_type": "display_data"
    }
   ],
   "source": [
    "normalized_water_observations_plot = time_series.normalized_data.plot(cmap='dc_au_WaterSummary')"
   ]
  },
  {
   "cell_type": "code",
   "execution_count": 17,
   "metadata": {},
   "outputs": [
    {
     "data": {
      "image/png": "[encoded data removed]",
      "text/plain": [
       "<matplotlib.figure.Figure at 0x7f7dc65e79e8>"
      ]
     },
     "metadata": {},
     "output_type": "display_data"
    }
   ],
   "source": [
    "total_water_observations_plot = time_series.total_data.plot(cmap='dc_au_WaterObservations')"
   ]
  },
  {
   "cell_type": "code",
   "execution_count": 18,
   "metadata": {},
   "outputs": [
    {
     "data": {
      "image/png": "[encoded data removed]",
      "text/plain": [
       "<matplotlib.figure.Figure at 0x7f7dc65cc898>"
      ]
     },
     "metadata": {},
     "output_type": "display_data"
    }
   ],
   "source": [
    "total_clear_observations_plot = time_series.total_clean.plot(cmap='dc_au_ClearObservations')"
   ]
  }
 ],
 "metadata": {
  "kernelspec": {
   "display_name": "Python 3",
   "language": "python",
   "name": "python3"
  },
  "language_info": {
   "codemirror_mode": {
    "name": "ipython",
    "version": 3
   },
   "file_extension": ".py",
   "mimetype": "text/x-python",
   "name": "python",
   "nbconvert_exporter": "python",
   "pygments_lexer": "ipython3",
   "version": "3.5.2"
  },
  "widgets": {
   "state": {
    "03fa2da8c01f40198443f2760b7c9f4f": {
     "views": [
      {
       "cell_index": 10
      }
     ]
    },
    "0402aeb10a0c462c95cf29676b9c3b27": {
     "views": [
      {
       "cell_index": 10
      }
     ]
    },
    "0501d824252a47faaee54c4d18707356": {
     "views": [
      {
       "cell_index": 9
      }
     ]
    },
    "052af7b0dbc8440ebc747f3499af091c": {
     "views": [
      {
       "cell_index": 10
      }
     ]
    },
    "09b6a63693a64d0c9778c480d5a28e3c": {
     "views": [
      {
       "cell_index": 9
      }
     ]
    },
    "0de373f4a235487595d0c969162ce14c": {
     "views": [
      {
       "cell_index": 10
      }
     ]
    },
    "0eefd0f96bba43a29105a0cc09f93698": {
     "views": [
      {
       "cell_index": 9
      }
     ]
    },
    "10cdf3d1a7b54127b80c7d56fe0a0f42": {
     "views": [
      {
       "cell_index": 9
      }
     ]
    },
    "17fb91388dca421a94bea5112499b79c": {
     "views": [
      {
       "cell_index": 10
      }
     ]
    },
    "1dae06efe8da449597ce6805dcded7bf": {
     "views": [
      {
       "cell_index": 10
      }
     ]
    },
    "1e073caecaec496ea8b59af034e5e1de": {
     "views": [
      {
       "cell_index": 10
      }
     ]
    },
    "2533672ab4434e31b8dde90e133e2ca6": {
     "views": [
      {
       "cell_index": 9
      }
     ]
    },
    "25387926bfe64835a51352b5a1ecdeca": {
     "views": [
      {
       "cell_index": 10
      }
     ]
    },
    "349d6b96f46b4964886ea6e6cc69cb00": {
     "views": [
      {
       "cell_index": 10
      }
     ]
    },
    "35181f825d29413394dccbc3d4256fb8": {
     "views": [
      {
       "cell_index": 8
      }
     ]
    },
    "48f38023eca14beb95a557a2f7019392": {
     "views": [
      {
       "cell_index": 8
      }
     ]
    },
    "53fd9c9ada3345f9a4da486a53d8bfcd": {
     "views": [
      {
       "cell_index": 9
      }
     ]
    },
    "5ddd138d222143b08b8222754aa75ecd": {
     "views": [
      {
       "cell_index": 9
      }
     ]
    },
    "6d9b8ed3db3f4cf29654371d14b20c7f": {
     "views": [
      {
       "cell_index": 16
      }
     ]
    },
    "7aa7d93b8f0e4af6b1c27f4d83e112d4": {
     "views": [
      {
       "cell_index": 9
      }
     ]
    },
    "8eaddc0d99574a40b4c1e8ca7d2af920": {
     "views": [
      {
       "cell_index": 16
      }
     ]
    },
    "aed9979773174f6ca1521fab48c84841": {
     "views": [
      {
       "cell_index": 9
      }
     ]
    },
    "b08f688a75fd444cbfa7cdac8c4a31de": {
     "views": [
      {
       "cell_index": 10
      }
     ]
    },
    "b16acddb760249829ee2d6993a2cb400": {
     "views": [
      {
       "cell_index": 9
      }
     ]
    },
    "bd201dd7f2f34f56998a0f4d9c1cacf3": {
     "views": [
      {
       "cell_index": 10
      }
     ]
    },
    "bd61a0b19b2841d3a93a14a3762c0410": {
     "views": [
      {
       "cell_index": 10
      }
     ]
    },
    "be268f374eb1401aa035a9aaf8283317": {
     "views": [
      {
       "cell_index": 10
      }
     ]
    },
    "c7e79fef0f7245188fa6e8f1452183b7": {
     "views": [
      {
       "cell_index": 9
      }
     ]
    },
    "c88c772442884660bfb5331c889523c9": {
     "views": [
      {
       "cell_index": 10
      }
     ]
    },
    "cb10886442b643339f6c5d89fa0ae43d": {
     "views": [
      {
       "cell_index": 9
      }
     ]
    },
    "d8e70490913547788cd1960f531984c7": {
     "views": [
      {
       "cell_index": 10
      }
     ]
    },
    "e1e64a3bfe0147e0acfa82292821f2d2": {
     "views": [
      {
       "cell_index": 10
      }
     ]
    },
    "e9774a5d34f34b4d9e0d5c3f52797e07": {
     "views": [
      {
       "cell_index": 10
      }
     ]
    },
    "ff84d5cae9484a6aaa48f385024d0075": {
     "views": [
      {
       "cell_index": 10
      }
     ]
    }
   },
   "version": "1.2.0"
  }
 },
 "nbformat": 4,
 "nbformat_minor": 2
}
