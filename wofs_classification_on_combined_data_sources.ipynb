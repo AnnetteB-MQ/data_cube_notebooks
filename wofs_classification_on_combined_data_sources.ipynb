{
 "cells": [
  {
   "cell_type": "markdown",
   "metadata": {},
   "source": [
    "# CEOS Data Cube - WOFS Classification on Combined Data Sources\n",
    "*****\n",
    "**Description:** This Python notebook allows users to directly interact with a CEOS-formatted data cube to perform analyses for water management. The following steps will allow users to connect to a data cube, define the analysis location and time period (extent of latitude/longitude and dates), and then run the Australian Water Observations from Space (WOFS) algorithm. The outputs of the WOFS algorithm include static and time series pixel-level water observations for any pixel. These results provide critical information for water management that will allow users to assess water cycle dynamics, historical water extent and the risk of floods and droughts. In this notebook, Landsat 5, 7, and 8 data will be used to create the output product. Future versions may consider the addition of water quality parameters (e.g. Total Suspended Matter, Chlorophyll-A, CDOM), coastal erosion analyses and in-situ precipitation and surface temperature data.\n",
    "*****"
   ]
  },
  {
   "cell_type": "markdown",
   "metadata": {},
   "source": [
    "**Import necessary Data Cube libraries and dependencies.**"
   ]
  },
  {
   "cell_type": "code",
   "execution_count": 1,
   "metadata": {},
   "outputs": [],
   "source": [
    "%matplotlib inline\n",
    "\n",
    "import matplotlib.pyplot as plt\n",
    "\n",
    "from datetime import datetime, timedelta\n",
    "import numpy as np\n",
    "\n",
    "import datacube\n",
    "from utils.data_cube_utilities.dc_water_classifier import wofs_classify\n",
    "from utils.data_cube_utilities.dc_utilities import perform_timeseries_analysis\n",
    "from utils.data_cube_utilities.dc_display_map import display_map\n",
    "import dc_au_colormaps\n",
    "\n",
    "import xarray as xr\n",
    "\n",
    "from dc_notebook_utilities import create_acq_date_gui\n",
    "\n",
    "# supress warnings\n",
    "import warnings\n",
    "warnings.filterwarnings('ignore')"
   ]
  },
  {
   "cell_type": "markdown",
   "metadata": {},
   "source": [
    "**First, we must connect to our data cube.** We can then query the contents of the data cube we have connected to, including both the metadata and the actual data."
   ]
  },
  {
   "cell_type": "code",
   "execution_count": 2,
   "metadata": {},
   "outputs": [],
   "source": [
    "from utils.data_cube_utilities.data_access_api import DataAccessApi\n",
    "api = DataAccessApi(config=\"/home/localuser/.datacube.conf\")\n",
    "dc = api.dc"
   ]
  },
  {
   "cell_type": "markdown",
   "metadata": {},
   "source": [
    "**Obtain the metadata of our cube...** Initially, we need to get the platforms and products in the cube. The rest of the metadata will be dependent on these two options. We currently only have multisensor data for our Lake Chad region, so the metadata is generated below. "
   ]
  },
  {
   "cell_type": "markdown",
   "metadata": {},
   "source": [
    "**List available products for each platform**"
   ]
  },
  {
   "cell_type": "code",
   "execution_count": 3,
   "metadata": {},
   "outputs": [],
   "source": [
    "# Get available products\n",
    "products_info = dc.list_products()"
   ]
  },
  {
   "cell_type": "code",
   "execution_count": 4,
   "metadata": {},
   "outputs": [
    {
     "name": "stdout",
     "output_type": "stream",
     "text": [
      "LANDSAT 7 Products:\n"
     ]
    },
    {
     "data": {
      "text/html": [
       "<div>\n",
       "<style scoped>\n",
       "    .dataframe tbody tr th:only-of-type {\n",
       "        vertical-align: middle;\n",
       "    }\n",
       "\n",
       "    .dataframe tbody tr th {\n",
       "        vertical-align: top;\n",
       "    }\n",
       "\n",
       "    .dataframe thead th {\n",
       "        text-align: right;\n",
       "    }\n",
       "</style>\n",
       "<table border=\"1\" class=\"dataframe\">\n",
       "  <thead>\n",
       "    <tr style=\"text-align: right;\">\n",
       "      <th></th>\n",
       "      <th>platform</th>\n",
       "      <th>name</th>\n",
       "    </tr>\n",
       "    <tr>\n",
       "      <th>id</th>\n",
       "      <th></th>\n",
       "      <th></th>\n",
       "    </tr>\n",
       "  </thead>\n",
       "  <tbody>\n",
       "    <tr>\n",
       "      <th>12</th>\n",
       "      <td>LANDSAT_7</td>\n",
       "      <td>ls7_collections_sr_scene</td>\n",
       "    </tr>\n",
       "    <tr>\n",
       "      <th>13</th>\n",
       "      <td>LANDSAT_7</td>\n",
       "      <td>ls7_ledaps_ghana</td>\n",
       "    </tr>\n",
       "    <tr>\n",
       "      <th>17</th>\n",
       "      <td>LANDSAT_7</td>\n",
       "      <td>ls7_ledaps_kenya</td>\n",
       "    </tr>\n",
       "    <tr>\n",
       "      <th>18</th>\n",
       "      <td>LANDSAT_7</td>\n",
       "      <td>ls7_ledaps_senegal</td>\n",
       "    </tr>\n",
       "    <tr>\n",
       "      <th>16</th>\n",
       "      <td>LANDSAT_7</td>\n",
       "      <td>ls7_ledaps_sierra_leone</td>\n",
       "    </tr>\n",
       "    <tr>\n",
       "      <th>19</th>\n",
       "      <td>LANDSAT_7</td>\n",
       "      <td>ls7_ledaps_tanzania</td>\n",
       "    </tr>\n",
       "    <tr>\n",
       "      <th>31</th>\n",
       "      <td>LANDSAT_7</td>\n",
       "      <td>ls7_ledaps_vietnam</td>\n",
       "    </tr>\n",
       "  </tbody>\n",
       "</table>\n",
       "</div>"
      ],
      "text/plain": [
       "     platform                      name\n",
       "id                                     \n",
       "12  LANDSAT_7  ls7_collections_sr_scene\n",
       "13  LANDSAT_7          ls7_ledaps_ghana\n",
       "17  LANDSAT_7          ls7_ledaps_kenya\n",
       "18  LANDSAT_7        ls7_ledaps_senegal\n",
       "16  LANDSAT_7   ls7_ledaps_sierra_leone\n",
       "19  LANDSAT_7       ls7_ledaps_tanzania\n",
       "31  LANDSAT_7        ls7_ledaps_vietnam"
      ]
     },
     "execution_count": 4,
     "metadata": {},
     "output_type": "execute_result"
    }
   ],
   "source": [
    "# List LANDSAT 7 products\n",
    "print(\"LANDSAT 7 Products:\")\n",
    "products_info[[\"platform\", \"name\"]][products_info.platform == \"LANDSAT_7\"]"
   ]
  },
  {
   "cell_type": "code",
   "execution_count": 5,
   "metadata": {},
   "outputs": [
    {
     "name": "stdout",
     "output_type": "stream",
     "text": [
      "LANDSAT 8 Products:\n"
     ]
    },
    {
     "data": {
      "text/html": [
       "<div>\n",
       "<style scoped>\n",
       "    .dataframe tbody tr th:only-of-type {\n",
       "        vertical-align: middle;\n",
       "    }\n",
       "\n",
       "    .dataframe tbody tr th {\n",
       "        vertical-align: top;\n",
       "    }\n",
       "\n",
       "    .dataframe thead th {\n",
       "        text-align: right;\n",
       "    }\n",
       "</style>\n",
       "<table border=\"1\" class=\"dataframe\">\n",
       "  <thead>\n",
       "    <tr style=\"text-align: right;\">\n",
       "      <th></th>\n",
       "      <th>platform</th>\n",
       "      <th>name</th>\n",
       "    </tr>\n",
       "    <tr>\n",
       "      <th>id</th>\n",
       "      <th></th>\n",
       "      <th></th>\n",
       "    </tr>\n",
       "  </thead>\n",
       "  <tbody>\n",
       "    <tr>\n",
       "      <th>7</th>\n",
       "      <td>LANDSAT_8</td>\n",
       "      <td>ls8_collections_sr_scene</td>\n",
       "    </tr>\n",
       "    <tr>\n",
       "      <th>9</th>\n",
       "      <td>LANDSAT_8</td>\n",
       "      <td>ls8_lasrc_ghana</td>\n",
       "    </tr>\n",
       "    <tr>\n",
       "      <th>10</th>\n",
       "      <td>LANDSAT_8</td>\n",
       "      <td>ls8_lasrc_kenya</td>\n",
       "    </tr>\n",
       "    <tr>\n",
       "      <th>11</th>\n",
       "      <td>LANDSAT_8</td>\n",
       "      <td>ls8_lasrc_senegal</td>\n",
       "    </tr>\n",
       "    <tr>\n",
       "      <th>8</th>\n",
       "      <td>LANDSAT_8</td>\n",
       "      <td>ls8_lasrc_sierra_leone</td>\n",
       "    </tr>\n",
       "    <tr>\n",
       "      <th>15</th>\n",
       "      <td>LANDSAT_8</td>\n",
       "      <td>ls8_lasrc_tanzania</td>\n",
       "    </tr>\n",
       "  </tbody>\n",
       "</table>\n",
       "</div>"
      ],
      "text/plain": [
       "     platform                      name\n",
       "id                                     \n",
       "7   LANDSAT_8  ls8_collections_sr_scene\n",
       "9   LANDSAT_8           ls8_lasrc_ghana\n",
       "10  LANDSAT_8           ls8_lasrc_kenya\n",
       "11  LANDSAT_8         ls8_lasrc_senegal\n",
       "8   LANDSAT_8    ls8_lasrc_sierra_leone\n",
       "15  LANDSAT_8        ls8_lasrc_tanzania"
      ]
     },
     "execution_count": 5,
     "metadata": {},
     "output_type": "execute_result"
    }
   ],
   "source": [
    "# List LANDSAT 8 products\n",
    "print(\"LANDSAT 8 Products:\")\n",
    "products_info[[\"platform\", \"name\"]][products_info.platform == \"LANDSAT_8\"]"
   ]
  },
  {
   "cell_type": "code",
   "execution_count": 6,
   "metadata": {},
   "outputs": [],
   "source": [
    "# platforms = ['LANDSAT_5', 'LANDSAT_7']\n",
    "# products = ['ls5_ledaps_lake_chad_full', 'ls7_ledaps_lake_chad_full']\n",
    "platforms = ['LANDSAT_7', 'LANDSAT_8']\n",
    "products = ['ls7_ledaps_ghana', 'ls8_lasrc_ghana']"
   ]
  },
  {
   "cell_type": "markdown",
   "metadata": {},
   "source": [
    "**With the platform and product, we can get the rest of the metadata.** This includes the resolution of a pixel, the latitude/longitude extents, and the minimum and maximum dates available of the chosen platform/product combination."
   ]
  },
  {
   "cell_type": "code",
   "execution_count": 7,
   "metadata": {},
   "outputs": [],
   "source": [
    "from utils.data_cube_utilities.dc_load import get_overlapping_area\n",
    "\n",
    "full_lat, full_lon, min_max_dates = get_overlapping_area(api, platforms, products)"
   ]
  },
  {
   "cell_type": "code",
   "execution_count": 8,
   "metadata": {
    "scrolled": true
   },
   "outputs": [
    {
     "name": "stdout",
     "output_type": "stream",
     "text": [
      "Available Latitude Extents: (3.772924193304, 11.318772579912)\n",
      "Available Longitude Extents: (-3.772924193304, 1.886462096652)\n",
      "Available Time Extents: [['2000-01-01' '2017-12-28']\n",
      " ['2013-04-13' '2018-01-01']]\n"
     ]
    }
   ],
   "source": [
    "from utils.data_cube_utilities.dc_time import dt_to_str\n",
    "print(\"Available Latitude Extents:\", full_lat)\n",
    "print(\"Available Longitude Extents:\", full_lon)\n",
    "print(\"Available Time Extents:\", np.vectorize(dt_to_str)(min_max_dates))"
   ]
  },
  {
   "cell_type": "code",
   "execution_count": 9,
   "metadata": {},
   "outputs": [
    {
     "data": {
      "text/html": [
       "<div style=\"width:100%;\"><div style=\"position:relative;width:100%;height:0;padding-bottom:60%;\"><iframe src=\"data:text/html;charset=utf-8;base64,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\" style=\"position:absolute;width:100%;height:100%;left:0;top:0;border:none !important;\" allowfullscreen webkitallowfullscreen mozallowfullscreen></iframe></div></div>"
      ],
      "text/plain": [
       "<folium.folium.Map at 0x7f69cf5be470>"
      ]
     },
     "execution_count": 9,
     "metadata": {},
     "output_type": "execute_result"
    }
   ],
   "source": [
    "display_map(latitude=full_lat, longitude=full_lon)"
   ]
  },
  {
   "cell_type": "code",
   "execution_count": 10,
   "metadata": {},
   "outputs": [
    {
     "data": {
      "text/html": [
       "<div style=\"width:100%;\"><div style=\"position:relative;width:100%;height:0;padding-bottom:60%;\"><iframe src=\"data:text/html;charset=utf-8;base64,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\" style=\"position:absolute;width:100%;height:100%;left:0;top:0;border:none !important;\" allowfullscreen webkitallowfullscreen mozallowfullscreen></iframe></div></div>"
      ],
      "text/plain": [
       "<folium.folium.Map at 0x7f69cf609198>"
      ]
     },
     "execution_count": 10,
     "metadata": {},
     "output_type": "execute_result"
    }
   ],
   "source": [
    "start_dates = [\"1995-01-01\",\"1995-12-31\"]\n",
    "end_dates = [\"2010-01-01\", \"2010-12-31\"]\n",
    "\n",
    "lon_small = (-0.410, -0.330)\n",
    "lat_small = (5.545, 5.620)\n",
    "\n",
    "display_map(lat_small, lon_small)"
   ]
  },
  {
   "cell_type": "markdown",
   "metadata": {},
   "source": [
    "**The entire dataset for all of the defined products and platforms are loaded below.**\n",
    "\n",
    "They are loaded seperately and then combined over the time axis of the data. Using the full time extent, you will see that there are over 400 seperate acquisitions."
   ]
  },
  {
   "cell_type": "code",
   "execution_count": 11,
   "metadata": {},
   "outputs": [
    {
     "data": {
      "text/html": [
       "<div>\n",
       "<style scoped>\n",
       "    .dataframe tbody tr th:only-of-type {\n",
       "        vertical-align: middle;\n",
       "    }\n",
       "\n",
       "    .dataframe tbody tr th {\n",
       "        vertical-align: top;\n",
       "    }\n",
       "\n",
       "    .dataframe thead th {\n",
       "        text-align: right;\n",
       "    }\n",
       "</style>\n",
       "<table border=\"1\" class=\"dataframe\">\n",
       "  <thead>\n",
       "    <tr style=\"text-align: right;\">\n",
       "      <th></th>\n",
       "      <th>name</th>\n",
       "      <th>description</th>\n",
       "      <th>instrument</th>\n",
       "      <th>creation_time</th>\n",
       "      <th>product_type</th>\n",
       "      <th>format</th>\n",
       "      <th>lat</th>\n",
       "      <th>label</th>\n",
       "      <th>lon</th>\n",
       "      <th>platform</th>\n",
       "      <th>time</th>\n",
       "      <th>crs</th>\n",
       "      <th>resolution</th>\n",
       "      <th>tile_size</th>\n",
       "      <th>spatial_dimensions</th>\n",
       "    </tr>\n",
       "    <tr>\n",
       "      <th>id</th>\n",
       "      <th></th>\n",
       "      <th></th>\n",
       "      <th></th>\n",
       "      <th></th>\n",
       "      <th></th>\n",
       "      <th></th>\n",
       "      <th></th>\n",
       "      <th></th>\n",
       "      <th></th>\n",
       "      <th></th>\n",
       "      <th></th>\n",
       "      <th></th>\n",
       "      <th></th>\n",
       "      <th></th>\n",
       "      <th></th>\n",
       "    </tr>\n",
       "  </thead>\n",
       "  <tbody>\n",
       "    <tr>\n",
       "      <th>12</th>\n",
       "      <td>ls7_collections_sr_scene</td>\n",
       "      <td>Landsat 7 USGS Collection 1 Higher Level SR sc...</td>\n",
       "      <td>ETM</td>\n",
       "      <td>None</td>\n",
       "      <td>LEDAPS</td>\n",
       "      <td>GeoTiff</td>\n",
       "      <td>None</td>\n",
       "      <td>None</td>\n",
       "      <td>None</td>\n",
       "      <td>LANDSAT_7</td>\n",
       "      <td>None</td>\n",
       "      <td>NaN</td>\n",
       "      <td>NaN</td>\n",
       "      <td>NaN</td>\n",
       "      <td>NaN</td>\n",
       "    </tr>\n",
       "    <tr>\n",
       "      <th>13</th>\n",
       "      <td>ls7_ledaps_ghana</td>\n",
       "      <td>Landsat 7 USGS Collection 1 Higher Level SR sc...</td>\n",
       "      <td>ETM</td>\n",
       "      <td>None</td>\n",
       "      <td>LEDAPS</td>\n",
       "      <td>NetCDF</td>\n",
       "      <td>None</td>\n",
       "      <td>None</td>\n",
       "      <td>None</td>\n",
       "      <td>LANDSAT_7</td>\n",
       "      <td>None</td>\n",
       "      <td>EPSG:4326</td>\n",
       "      <td>[-0.000269494585236, 0.000269494585236]</td>\n",
       "      <td>[0.943231048326, 0.943231048326]</td>\n",
       "      <td>(latitude, longitude)</td>\n",
       "    </tr>\n",
       "    <tr>\n",
       "      <th>17</th>\n",
       "      <td>ls7_ledaps_kenya</td>\n",
       "      <td>Landsat 7 USGS Collection 1 Higher Level SR sc...</td>\n",
       "      <td>ETM</td>\n",
       "      <td>None</td>\n",
       "      <td>LEDAPS</td>\n",
       "      <td>NetCDF</td>\n",
       "      <td>None</td>\n",
       "      <td>None</td>\n",
       "      <td>None</td>\n",
       "      <td>LANDSAT_7</td>\n",
       "      <td>None</td>\n",
       "      <td>EPSG:4326</td>\n",
       "      <td>[-0.000269493, 0.000269493]</td>\n",
       "      <td>[0.99981903, 0.99981903]</td>\n",
       "      <td>(latitude, longitude)</td>\n",
       "    </tr>\n",
       "    <tr>\n",
       "      <th>18</th>\n",
       "      <td>ls7_ledaps_senegal</td>\n",
       "      <td>Landsat 7 USGS Collection 1 Higher Level SR sc...</td>\n",
       "      <td>ETM</td>\n",
       "      <td>None</td>\n",
       "      <td>LEDAPS</td>\n",
       "      <td>NetCDF</td>\n",
       "      <td>None</td>\n",
       "      <td>None</td>\n",
       "      <td>None</td>\n",
       "      <td>LANDSAT_7</td>\n",
       "      <td>None</td>\n",
       "      <td>EPSG:4326</td>\n",
       "      <td>[-0.000271152, 0.00027769]</td>\n",
       "      <td>[0.813456, 0.83307]</td>\n",
       "      <td>(latitude, longitude)</td>\n",
       "    </tr>\n",
       "    <tr>\n",
       "      <th>16</th>\n",
       "      <td>ls7_ledaps_sierra_leone</td>\n",
       "      <td>Landsat 7 USGS Collection 1 Higher Level SR sc...</td>\n",
       "      <td>ETM</td>\n",
       "      <td>None</td>\n",
       "      <td>LEDAPS</td>\n",
       "      <td>NetCDF</td>\n",
       "      <td>None</td>\n",
       "      <td>None</td>\n",
       "      <td>None</td>\n",
       "      <td>LANDSAT_7</td>\n",
       "      <td>None</td>\n",
       "      <td>EPSG:4326</td>\n",
       "      <td>[-0.000269494585236, 0.000269494585236]</td>\n",
       "      <td>[0.943231048326, 0.943231048326]</td>\n",
       "      <td>(latitude, longitude)</td>\n",
       "    </tr>\n",
       "    <tr>\n",
       "      <th>19</th>\n",
       "      <td>ls7_ledaps_tanzania</td>\n",
       "      <td>Landsat 7 USGS Collection 1 Higher Level SR sc...</td>\n",
       "      <td>ETM</td>\n",
       "      <td>None</td>\n",
       "      <td>LEDAPS</td>\n",
       "      <td>NetCDF</td>\n",
       "      <td>None</td>\n",
       "      <td>None</td>\n",
       "      <td>None</td>\n",
       "      <td>LANDSAT_7</td>\n",
       "      <td>None</td>\n",
       "      <td>EPSG:4326</td>\n",
       "      <td>[-0.000271277688070265, 0.000271139577954979]</td>\n",
       "      <td>[0.999929558226998, 0.999962763497961]</td>\n",
       "      <td>(latitude, longitude)</td>\n",
       "    </tr>\n",
       "    <tr>\n",
       "      <th>31</th>\n",
       "      <td>ls7_ledaps_vietnam</td>\n",
       "      <td>Landsat 7 USGS Collection 1 Higher Level SR sc...</td>\n",
       "      <td>ETM</td>\n",
       "      <td>None</td>\n",
       "      <td>LEDAPS</td>\n",
       "      <td>NetCDF</td>\n",
       "      <td>None</td>\n",
       "      <td>None</td>\n",
       "      <td>None</td>\n",
       "      <td>LANDSAT_7</td>\n",
       "      <td>None</td>\n",
       "      <td>EPSG:4326</td>\n",
       "      <td>[-0.000269494585236, 0.000269494585236]</td>\n",
       "      <td>[0.943231048326, 0.943231048326]</td>\n",
       "      <td>(latitude, longitude)</td>\n",
       "    </tr>\n",
       "    <tr>\n",
       "      <th>7</th>\n",
       "      <td>ls8_collections_sr_scene</td>\n",
       "      <td>Landsat 8 USGS Collection 1 Higher Level SR sc...</td>\n",
       "      <td>OLI_TIRS</td>\n",
       "      <td>None</td>\n",
       "      <td>LaSRC</td>\n",
       "      <td>GeoTiff</td>\n",
       "      <td>None</td>\n",
       "      <td>None</td>\n",
       "      <td>None</td>\n",
       "      <td>LANDSAT_8</td>\n",
       "      <td>None</td>\n",
       "      <td>NaN</td>\n",
       "      <td>NaN</td>\n",
       "      <td>NaN</td>\n",
       "      <td>NaN</td>\n",
       "    </tr>\n",
       "    <tr>\n",
       "      <th>9</th>\n",
       "      <td>ls8_lasrc_ghana</td>\n",
       "      <td>Landsat 8 USGS Collection 1 Higher Level SR sc...</td>\n",
       "      <td>OLI_TIRS</td>\n",
       "      <td>None</td>\n",
       "      <td>LaSRC</td>\n",
       "      <td>NetCDF</td>\n",
       "      <td>None</td>\n",
       "      <td>None</td>\n",
       "      <td>None</td>\n",
       "      <td>LANDSAT_8</td>\n",
       "      <td>None</td>\n",
       "      <td>EPSG:4326</td>\n",
       "      <td>[-0.000269494585236, 0.000269494585236]</td>\n",
       "      <td>[0.943231048326, 0.943231048326]</td>\n",
       "      <td>(latitude, longitude)</td>\n",
       "    </tr>\n",
       "    <tr>\n",
       "      <th>10</th>\n",
       "      <td>ls8_lasrc_kenya</td>\n",
       "      <td>Landsat 8 USGS Collection 1 Higher Level SR sc...</td>\n",
       "      <td>OLI_TIRS</td>\n",
       "      <td>None</td>\n",
       "      <td>LaSRC</td>\n",
       "      <td>NetCDF</td>\n",
       "      <td>None</td>\n",
       "      <td>None</td>\n",
       "      <td>None</td>\n",
       "      <td>LANDSAT_8</td>\n",
       "      <td>None</td>\n",
       "      <td>EPSG:4326</td>\n",
       "      <td>[-0.000271309115317046, 0.00026957992707863]</td>\n",
       "      <td>[0.999502780827996, 0.999602369607559]</td>\n",
       "      <td>(latitude, longitude)</td>\n",
       "    </tr>\n",
       "    <tr>\n",
       "      <th>11</th>\n",
       "      <td>ls8_lasrc_senegal</td>\n",
       "      <td>Landsat 8 USGS Collection 1 Higher Level SR sc...</td>\n",
       "      <td>OLI_TIRS</td>\n",
       "      <td>None</td>\n",
       "      <td>LaSRC</td>\n",
       "      <td>NetCDF</td>\n",
       "      <td>None</td>\n",
       "      <td>None</td>\n",
       "      <td>None</td>\n",
       "      <td>LANDSAT_8</td>\n",
       "      <td>None</td>\n",
       "      <td>EPSG:4326</td>\n",
       "      <td>[-0.000271152, 0.00027769]</td>\n",
       "      <td>[0.813456, 0.83307]</td>\n",
       "      <td>(latitude, longitude)</td>\n",
       "    </tr>\n",
       "    <tr>\n",
       "      <th>8</th>\n",
       "      <td>ls8_lasrc_sierra_leone</td>\n",
       "      <td>Landsat 8 USGS Collection 1 Higher Level SR sc...</td>\n",
       "      <td>OLI_TIRS</td>\n",
       "      <td>None</td>\n",
       "      <td>LaSRC</td>\n",
       "      <td>NetCDF</td>\n",
       "      <td>None</td>\n",
       "      <td>None</td>\n",
       "      <td>None</td>\n",
       "      <td>LANDSAT_8</td>\n",
       "      <td>None</td>\n",
       "      <td>EPSG:4326</td>\n",
       "      <td>[-0.000269494585236, 0.000269494585236]</td>\n",
       "      <td>[0.943231048326, 0.943231048326]</td>\n",
       "      <td>(latitude, longitude)</td>\n",
       "    </tr>\n",
       "    <tr>\n",
       "      <th>15</th>\n",
       "      <td>ls8_lasrc_tanzania</td>\n",
       "      <td>Landsat 8 USGS Collection 1 Higher Level SR sc...</td>\n",
       "      <td>OLI_TIRS</td>\n",
       "      <td>None</td>\n",
       "      <td>LaSRC</td>\n",
       "      <td>NetCDF</td>\n",
       "      <td>None</td>\n",
       "      <td>None</td>\n",
       "      <td>None</td>\n",
       "      <td>LANDSAT_8</td>\n",
       "      <td>None</td>\n",
       "      <td>EPSG:4326</td>\n",
       "      <td>[-0.000271277688070265, 0.000271139577954979]</td>\n",
       "      <td>[0.999929558226998, 0.999962763497961]</td>\n",
       "      <td>(latitude, longitude)</td>\n",
       "    </tr>\n",
       "  </tbody>\n",
       "</table>\n",
       "</div>"
      ],
      "text/plain": [
       "                        name  \\\n",
       "id                             \n",
       "12  ls7_collections_sr_scene   \n",
       "13          ls7_ledaps_ghana   \n",
       "17          ls7_ledaps_kenya   \n",
       "18        ls7_ledaps_senegal   \n",
       "16   ls7_ledaps_sierra_leone   \n",
       "19       ls7_ledaps_tanzania   \n",
       "31        ls7_ledaps_vietnam   \n",
       "7   ls8_collections_sr_scene   \n",
       "9            ls8_lasrc_ghana   \n",
       "10           ls8_lasrc_kenya   \n",
       "11         ls8_lasrc_senegal   \n",
       "8     ls8_lasrc_sierra_leone   \n",
       "15        ls8_lasrc_tanzania   \n",
       "\n",
       "                                          description instrument  \\\n",
       "id                                                                 \n",
       "12  Landsat 7 USGS Collection 1 Higher Level SR sc...        ETM   \n",
       "13  Landsat 7 USGS Collection 1 Higher Level SR sc...        ETM   \n",
       "17  Landsat 7 USGS Collection 1 Higher Level SR sc...        ETM   \n",
       "18  Landsat 7 USGS Collection 1 Higher Level SR sc...        ETM   \n",
       "16  Landsat 7 USGS Collection 1 Higher Level SR sc...        ETM   \n",
       "19  Landsat 7 USGS Collection 1 Higher Level SR sc...        ETM   \n",
       "31  Landsat 7 USGS Collection 1 Higher Level SR sc...        ETM   \n",
       "7   Landsat 8 USGS Collection 1 Higher Level SR sc...   OLI_TIRS   \n",
       "9   Landsat 8 USGS Collection 1 Higher Level SR sc...   OLI_TIRS   \n",
       "10  Landsat 8 USGS Collection 1 Higher Level SR sc...   OLI_TIRS   \n",
       "11  Landsat 8 USGS Collection 1 Higher Level SR sc...   OLI_TIRS   \n",
       "8   Landsat 8 USGS Collection 1 Higher Level SR sc...   OLI_TIRS   \n",
       "15  Landsat 8 USGS Collection 1 Higher Level SR sc...   OLI_TIRS   \n",
       "\n",
       "   creation_time product_type   format   lat label   lon   platform  time  \\\n",
       "id                                                                          \n",
       "12          None       LEDAPS  GeoTiff  None  None  None  LANDSAT_7  None   \n",
       "13          None       LEDAPS   NetCDF  None  None  None  LANDSAT_7  None   \n",
       "17          None       LEDAPS   NetCDF  None  None  None  LANDSAT_7  None   \n",
       "18          None       LEDAPS   NetCDF  None  None  None  LANDSAT_7  None   \n",
       "16          None       LEDAPS   NetCDF  None  None  None  LANDSAT_7  None   \n",
       "19          None       LEDAPS   NetCDF  None  None  None  LANDSAT_7  None   \n",
       "31          None       LEDAPS   NetCDF  None  None  None  LANDSAT_7  None   \n",
       "7           None        LaSRC  GeoTiff  None  None  None  LANDSAT_8  None   \n",
       "9           None        LaSRC   NetCDF  None  None  None  LANDSAT_8  None   \n",
       "10          None        LaSRC   NetCDF  None  None  None  LANDSAT_8  None   \n",
       "11          None        LaSRC   NetCDF  None  None  None  LANDSAT_8  None   \n",
       "8           None        LaSRC   NetCDF  None  None  None  LANDSAT_8  None   \n",
       "15          None        LaSRC   NetCDF  None  None  None  LANDSAT_8  None   \n",
       "\n",
       "          crs                                     resolution  \\\n",
       "id                                                             \n",
       "12        NaN                                            NaN   \n",
       "13  EPSG:4326        [-0.000269494585236, 0.000269494585236]   \n",
       "17  EPSG:4326                    [-0.000269493, 0.000269493]   \n",
       "18  EPSG:4326                     [-0.000271152, 0.00027769]   \n",
       "16  EPSG:4326        [-0.000269494585236, 0.000269494585236]   \n",
       "19  EPSG:4326  [-0.000271277688070265, 0.000271139577954979]   \n",
       "31  EPSG:4326        [-0.000269494585236, 0.000269494585236]   \n",
       "7         NaN                                            NaN   \n",
       "9   EPSG:4326        [-0.000269494585236, 0.000269494585236]   \n",
       "10  EPSG:4326   [-0.000271309115317046, 0.00026957992707863]   \n",
       "11  EPSG:4326                     [-0.000271152, 0.00027769]   \n",
       "8   EPSG:4326        [-0.000269494585236, 0.000269494585236]   \n",
       "15  EPSG:4326  [-0.000271277688070265, 0.000271139577954979]   \n",
       "\n",
       "                                 tile_size     spatial_dimensions  \n",
       "id                                                                 \n",
       "12                                     NaN                    NaN  \n",
       "13        [0.943231048326, 0.943231048326]  (latitude, longitude)  \n",
       "17                [0.99981903, 0.99981903]  (latitude, longitude)  \n",
       "18                     [0.813456, 0.83307]  (latitude, longitude)  \n",
       "16        [0.943231048326, 0.943231048326]  (latitude, longitude)  \n",
       "19  [0.999929558226998, 0.999962763497961]  (latitude, longitude)  \n",
       "31        [0.943231048326, 0.943231048326]  (latitude, longitude)  \n",
       "7                                      NaN                    NaN  \n",
       "9         [0.943231048326, 0.943231048326]  (latitude, longitude)  \n",
       "10  [0.999502780827996, 0.999602369607559]  (latitude, longitude)  \n",
       "11                     [0.813456, 0.83307]  (latitude, longitude)  \n",
       "8         [0.943231048326, 0.943231048326]  (latitude, longitude)  \n",
       "15  [0.999929558226998, 0.999962763497961]  (latitude, longitude)  "
      ]
     },
     "execution_count": 11,
     "metadata": {},
     "output_type": "execute_result"
    }
   ],
   "source": [
    "dc.list_products()"
   ]
  },
  {
   "cell_type": "markdown",
   "metadata": {},
   "source": [
    "**At this point, we must access our data cube and analyze our data.** In this example, we will run the WOFS algorithm. The wofs_classify function, seen below, will return a modified dataset, where a value of 1 indicates the pixel has been classified as water by the WoFS algorithm and 0 represents the pixel is non-water. You will see that this output dataset is of the same dimensions as the input dataset. \n",
    "\n",
    "*****\n",
    "\n",
    "For more information on the WOFS algorithm, refer to:\n",
    "\n",
    "Mueller, et al. (2015) \"Water observations from space: Mapping surface water from 25 years of Landsat imagery across Australia.\" *Remote Sensing of Environment*."
   ]
  },
  {
   "cell_type": "code",
   "execution_count": 12,
   "metadata": {
    "scrolled": false
   },
   "outputs": [],
   "source": [
    "from utils.data_cube_utilities.clean_mask import landsat_qa_clean_mask\n",
    "wofs_classifications = []\n",
    "measurements = ['blue', 'green', 'red', 'nir', 'swir1', 'swir2', 'pixel_qa']\n",
    "\n",
    "for i, (product,platform) in enumerate(zip(products, platforms)):\n",
    "    start_date = start_dates[i]\n",
    "    end_date = end_dates[i]\n",
    "    # Query the Data Cube\n",
    "    dataset_in = dc.load(platform  = platform,\n",
    "                         product   = product,\n",
    "                         time      = (start_date, end_date),\n",
    "                         lon       = lon_small, \n",
    "                         lat       = lat_small,\n",
    "                         measurements=measurements)\n",
    "    if len(dataset_in.dims) == 0: # The dataset is empty.\n",
    "        continue\n",
    "    # WOFS classification\n",
    "    clean_mask = landsat_qa_clean_mask(dataset_in, platform)\n",
    "    water_class = wofs_classify(dataset_in, clean_mask=clean_mask.values)\n",
    "    wofs_classifications.append(water_class.copy(deep=True))\n",
    "complete_dataset = None\n",
    "if len(wofs_classifications) != 0:\n",
    "    complete_dataset = xr.concat(wofs_classifications, 'time')\n",
    "else:\n",
    "    complete_dataset = xr.Dataset()\n",
    "datasets_in = None"
   ]
  },
  {
   "cell_type": "markdown",
   "metadata": {},
   "source": [
    "**Execute the following code and then use the generated form to choose your desired acquisition date.** The following two code blocks are only necessary if you would like to see the water mask of a single acquisition date. "
   ]
  },
  {
   "cell_type": "code",
   "execution_count": 13,
   "metadata": {},
   "outputs": [
    {
     "data": {
      "application/vnd.jupyter.widget-view+json": {
       "model_id": "66f8c2d0b93f466ebbc4d1f3f3313b47",
       "version_major": 2,
       "version_minor": 0
      },
      "text/plain": [
       "Label(value='Acquisition Date: ')"
      ]
     },
     "metadata": {},
     "output_type": "display_data"
    },
    {
     "data": {
      "application/vnd.jupyter.widget-view+json": {
       "model_id": "c18a2149df5340918531eee2c8eecec9",
       "version_major": 2,
       "version_minor": 0
      },
      "text/plain": [
       "Dropdown(options=('2000-02-04', '2000-05-10', '2000-05-26', '2000-06-11', '2000-08-30', '2000-09-15', '2000-10…"
      ]
     },
     "metadata": {},
     "output_type": "display_data"
    }
   ],
   "source": [
    "acq_dates = list(water_class.time.values.astype(str))\n",
    "acq_dates = list(map(lambda x:x.split(\"T\")[0],acq_dates))\n",
    "acq_date_input = create_acq_date_gui(acq_dates)"
   ]
  },
  {
   "cell_type": "code",
   "execution_count": 14,
   "metadata": {},
   "outputs": [
    {
     "data": {
      "image/png": "[encoded data removed]",
      "text/plain": [
       "<Figure size 432x288 with 2 Axes>"
      ]
     },
     "metadata": {
      "needs_background": "light"
     },
     "output_type": "display_data"
    }
   ],
   "source": [
    "# Save form value\n",
    "acq_date = acq_date_input.value\n",
    "acq_date_index = acq_dates.index(acq_date)\n",
    "\n",
    "# Get water class for selected acquisition date and mask no data values\n",
    "water_class_for_acq_date = water_class.wofs[acq_date_index]\n",
    "water_class_for_acq_date.values = water_class_for_acq_date.values.astype('float')\n",
    "water_class_for_acq_date.values[water_class_for_acq_date.values == -9999] = np.nan\n",
    "\n",
    "if len(water_class_for_acq_date.values[water_class_for_acq_date.values > -9999]) > 0:\n",
    "    water_observations_for_acq_date_plot = water_class_for_acq_date.plot(cmap='BuPu')"
   ]
  },
  {
   "cell_type": "markdown",
   "metadata": {},
   "source": [
    "**With all of the pixels classified as either water/non-water, let's perform a time series analysis over our derived water class.** The function, perform_timeseries_analysis, takes in a dataset of 3 dimensions (time, latitude, and longitude), then sums the values of each pixel over time. It also keeps track of the number of clear observations we have at each pixel. We can then normalize each pixel to determine areas at risk of flooding. The normalization calculation is simply:\n",
    "\n",
    "$$normalized\\_water\\_observations = \\dfrac{total\\_water\\_observations}{total\\_clear\\_observations}$$.\n",
    "\n",
    "The output each of the three calculations can be seen below."
   ]
  },
  {
   "cell_type": "code",
   "execution_count": 15,
   "metadata": {},
   "outputs": [
    {
     "data": {
      "text/plain": [
       "<xarray.Dataset>\n",
       "Dimensions:          (latitude: 279, longitude: 298)\n",
       "Coordinates:\n",
       "  * latitude         (latitude) float64 5.62 5.62 5.619 ... 5.546 5.545 5.545\n",
       "  * longitude        (longitude) float64 -0.41 -0.4098 -0.4095 ... -0.3303 -0.33\n",
       "Data variables:\n",
       "    normalized_data  (latitude, longitude) float64 0.0 0.0 0.0 ... 0.0 0.0 0.0\n",
       "    min              (latitude, longitude) float64 0.0 0.0 0.0 ... 0.0 0.0 0.0\n",
       "    max              (latitude, longitude) float64 0.0 0.0 0.0 ... 0.0 0.0 0.0\n",
       "    total_data       (latitude, longitude) float64 0.0 0.0 0.0 ... 0.0 0.0 0.0\n",
       "    total_clean      (latitude, longitude) int64 23 28 32 29 27 ... 30 29 29 29"
      ]
     },
     "execution_count": 15,
     "metadata": {},
     "output_type": "execute_result"
    }
   ],
   "source": [
    "time_series = perform_timeseries_analysis(water_class, 'wofs')\n",
    "time_series"
   ]
  },
  {
   "cell_type": "code",
   "execution_count": 16,
   "metadata": {
    "scrolled": true
   },
   "outputs": [
    {
     "data": {
      "image/png": "[encoded data removed]",
      "text/plain": [
       "<Figure size 432x288 with 2 Axes>"
      ]
     },
     "metadata": {
      "needs_background": "light"
     },
     "output_type": "display_data"
    }
   ],
   "source": [
    "normalized_water_observations_plot = time_series.normalized_data.plot(cmap='dc_au_WaterSummary')"
   ]
  },
  {
   "cell_type": "code",
   "execution_count": 17,
   "metadata": {},
   "outputs": [
    {
     "data": {
      "image/png": "[encoded data removed]",
      "text/plain": [
       "<Figure size 432x288 with 2 Axes>"
      ]
     },
     "metadata": {
      "needs_background": "light"
     },
     "output_type": "display_data"
    }
   ],
   "source": [
    "total_water_observations_plot = time_series.total_data.plot(cmap='dc_au_WaterObservations')"
   ]
  },
  {
   "cell_type": "code",
   "execution_count": 18,
   "metadata": {},
   "outputs": [
    {
     "data": {
      "image/png": "[encoded data removed]",
      "text/plain": [
       "<Figure size 432x288 with 2 Axes>"
      ]
     },
     "metadata": {
      "needs_background": "light"
     },
     "output_type": "display_data"
    }
   ],
   "source": [
    "total_clear_observations_plot = time_series.total_clean.plot(cmap='dc_au_ClearObservations')"
   ]
  }
 ],
 "metadata": {
  "kernelspec": {
   "display_name": "Python 3",
   "language": "python",
   "name": "python3"
  },
  "language_info": {
   "codemirror_mode": {
    "name": "ipython",
    "version": 3
   },
   "file_extension": ".py",
   "mimetype": "text/x-python",
   "name": "python",
   "nbconvert_exporter": "python",
   "pygments_lexer": "ipython3",
   "version": "3.6.8"
  },
  "widgets": {
   "state": {
    "03fa2da8c01f40198443f2760b7c9f4f": {
     "views": [
      {
       "cell_index": 10
      }
     ]
    },
    "0402aeb10a0c462c95cf29676b9c3b27": {
     "views": [
      {
       "cell_index": 10
      }
     ]
    },
    "0501d824252a47faaee54c4d18707356": {
     "views": [
      {
       "cell_index": 9
      }
     ]
    },
    "052af7b0dbc8440ebc747f3499af091c": {
     "views": [
      {
       "cell_index": 10
      }
     ]
    },
    "09b6a63693a64d0c9778c480d5a28e3c": {
     "views": [
      {
       "cell_index": 9
      }
     ]
    },
    "0de373f4a235487595d0c969162ce14c": {
     "views": [
      {
       "cell_index": 10
      }
     ]
    },
    "0eefd0f96bba43a29105a0cc09f93698": {
     "views": [
      {
       "cell_index": 9
      }
     ]
    },
    "10cdf3d1a7b54127b80c7d56fe0a0f42": {
     "views": [
      {
       "cell_index": 9
      }
     ]
    },
    "17fb91388dca421a94bea5112499b79c": {
     "views": [
      {
       "cell_index": 10
      }
     ]
    },
    "1dae06efe8da449597ce6805dcded7bf": {
     "views": [
      {
       "cell_index": 10
      }
     ]
    },
    "1e073caecaec496ea8b59af034e5e1de": {
     "views": [
      {
       "cell_index": 10
      }
     ]
    },
    "2533672ab4434e31b8dde90e133e2ca6": {
     "views": [
      {
       "cell_index": 9
      }
     ]
    },
    "25387926bfe64835a51352b5a1ecdeca": {
     "views": [
      {
       "cell_index": 10
      }
     ]
    },
    "349d6b96f46b4964886ea6e6cc69cb00": {
     "views": [
      {
       "cell_index": 10
      }
     ]
    },
    "35181f825d29413394dccbc3d4256fb8": {
     "views": [
      {
       "cell_index": 8
      }
     ]
    },
    "48f38023eca14beb95a557a2f7019392": {
     "views": [
      {
       "cell_index": 8
      }
     ]
    },
    "53fd9c9ada3345f9a4da486a53d8bfcd": {
     "views": [
      {
       "cell_index": 9
      }
     ]
    },
    "5ddd138d222143b08b8222754aa75ecd": {
     "views": [
      {
       "cell_index": 9
      }
     ]
    },
    "6d9b8ed3db3f4cf29654371d14b20c7f": {
     "views": [
      {
       "cell_index": 16
      }
     ]
    },
    "7aa7d93b8f0e4af6b1c27f4d83e112d4": {
     "views": [
      {
       "cell_index": 9
      }
     ]
    },
    "8eaddc0d99574a40b4c1e8ca7d2af920": {
     "views": [
      {
       "cell_index": 16
      }
     ]
    },
    "aed9979773174f6ca1521fab48c84841": {
     "views": [
      {
       "cell_index": 9
      }
     ]
    },
    "b08f688a75fd444cbfa7cdac8c4a31de": {
     "views": [
      {
       "cell_index": 10
      }
     ]
    },
    "b16acddb760249829ee2d6993a2cb400": {
     "views": [
      {
       "cell_index": 9
      }
     ]
    },
    "bd201dd7f2f34f56998a0f4d9c1cacf3": {
     "views": [
      {
       "cell_index": 10
      }
     ]
    },
    "bd61a0b19b2841d3a93a14a3762c0410": {
     "views": [
      {
       "cell_index": 10
      }
     ]
    },
    "be268f374eb1401aa035a9aaf8283317": {
     "views": [
      {
       "cell_index": 10
      }
     ]
    },
    "c7e79fef0f7245188fa6e8f1452183b7": {
     "views": [
      {
       "cell_index": 9
      }
     ]
    },
    "c88c772442884660bfb5331c889523c9": {
     "views": [
      {
       "cell_index": 10
      }
     ]
    },
    "cb10886442b643339f6c5d89fa0ae43d": {
     "views": [
      {
       "cell_index": 9
      }
     ]
    },
    "d8e70490913547788cd1960f531984c7": {
     "views": [
      {
       "cell_index": 10
      }
     ]
    },
    "e1e64a3bfe0147e0acfa82292821f2d2": {
     "views": [
      {
       "cell_index": 10
      }
     ]
    },
    "e9774a5d34f34b4d9e0d5c3f52797e07": {
     "views": [
      {
       "cell_index": 10
      }
     ]
    },
    "ff84d5cae9484a6aaa48f385024d0075": {
     "views": [
      {
       "cell_index": 10
      }
     ]
    }
   },
   "version": "1.2.0"
  }
 },
 "nbformat": 4,
 "nbformat_minor": 2
}
