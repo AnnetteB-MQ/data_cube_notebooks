{
 "cells": [
  {
   "cell_type": "markdown",
   "metadata": {},
   "source": [
    "# CEOS Data Cube - WOFS Classification on Combined Data Sources\n",
    "*****\n",
    "**Description:** This Python notebook allows users to directly interact with a CEOS-formatted data cube to perform analyses for water management. The following steps will allow users to connect to a data cube, define the analysis location and time period (extent of latitude/longitude and dates), and then run the Australian Water Observations from Space (WOFS) algorithm. The outputs of the WOFS algorithm include static and time series pixel-level water observations for any pixel. These results provide critical information for water management that will allow users to assess water cycle dynamics, historical water extent and the risk of floods and droughts. In this notebook, Landsat 5, 7, and 8 data will be used to create the output product. Future versions may consider the addition of water quality parameters (e.g. Total Suspended Matter, Chlorophyll-A, CDOM), coastal erosion analyses and in-situ precipitation and surface temperature data.\n",
    "*****"
   ]
  },
  {
   "cell_type": "markdown",
   "metadata": {},
   "source": [
    "**Import necessary Data Cube libraries and dependencies.**"
   ]
  },
  {
   "cell_type": "code",
   "execution_count": 1,
   "metadata": {},
   "outputs": [
    {
     "name": "stdout",
     "output_type": "stream",
     "text": [
      "could not find 'mpl_toolkits.basemap' in 'Basemap'.  'Basemap' is likely not present\n"
     ]
    }
   ],
   "source": [
    "%matplotlib inline\n",
    "\n",
    "import matplotlib.pyplot as plt\n",
    "\n",
    "from datetime import datetime, timedelta\n",
    "import numpy as np\n",
    "\n",
    "import datacube\n",
    "import utils.data_cube_utilities.dc_utilities as utilities\n",
    "from utils.data_cube_utilities.dc_water_classifier import wofs_classify\n",
    "from utils.data_cube_utilities.dc_utilities import perform_timeseries_analysis\n",
    "from utils.data_cube_utilities.dc_mosaic import create_mosaic, ls7_unpack_qa\n",
    "from utils.data_cube_utilities.dc_display_map import display_map\n",
    "import dc_au_colormaps\n",
    "\n",
    "import gdal\n",
    "\n",
    "import xarray as xr\n",
    "\n",
    "from dc_notebook_utilities import create_extents_gui, generate_metadata_report, create_acq_date_gui"
   ]
  },
  {
   "cell_type": "markdown",
   "metadata": {},
   "source": [
    "**First, we must connect to our data cube.** We can then query the contents of the data cube we have connected to, including both the metadata and the actual data."
   ]
  },
  {
   "cell_type": "code",
   "execution_count": 2,
   "metadata": {},
   "outputs": [],
   "source": [
    "dc = datacube.Datacube(config='/home/localuser/.datacube.conf', app='dc-water-analysis')\n",
    "api = datacube.api.API(datacube=dc)"
   ]
  },
  {
   "cell_type": "markdown",
   "metadata": {},
   "source": [
    "**Obtain the metadata of our cube...** Initially, we need to get the platforms and products in the cube. The rest of the metadata will be dependent on these two options. We currently only have multisensor data for our Lake Chad region, so the metadata is generated below. "
   ]
  },
  {
   "cell_type": "code",
   "execution_count": 3,
   "metadata": {},
   "outputs": [],
   "source": [
    "# Get available products\n",
    "products = dc.list_products()\n",
    "platform_list = ['LANDSAT_5', 'LANDSAT_7']#, 'LANDSAT_8']\n",
    "product_list = ['ls5_ledaps_lake_chad_full', 'ls7_ledaps_lake_chad_full']#, 'ls8_lasrc_lake_chad_full']"
   ]
  },
  {
   "cell_type": "markdown",
   "metadata": {},
   "source": [
    "**With the platform and product, we can get the rest of the metadata.** This includes the resolution of a pixel, the latitude/longitude extents, and the minimum and maximum dates available of the chosen platform/product combination."
   ]
  },
  {
   "cell_type": "code",
   "execution_count": 4,
   "metadata": {},
   "outputs": [
    {
     "name": "stdout",
     "output_type": "stream",
     "text": [
      "Metadata for:  ls5_ledaps_lake_chad_full LANDSAT_5\n"
     ]
    },
    {
     "data": {
      "text/html": [
       "<h2>Metadata Report: </h2>"
      ],
      "text/plain": [
       "<IPython.core.display.HTML object>"
      ]
     },
     "metadata": {},
     "output_type": "display_data"
    },
    {
     "data": {
      "text/html": [
       "<table><tr><th></th><th>Min</th><th>Max</th><th>Resolution</th></tr><tr><th>Date: </th><td>1984-6-8</td><td>1999-2-8</td><td></td></tr><tr><th>Longitude: </th><td>11.514</td><td>16.555</td><td>0.00027769</td></tr><tr><th>Latitude: </th><td>12.066</td><td>15.409</td><td>-0.000271152</td></tr></table>"
      ],
      "text/plain": [
       "<IPython.core.display.HTML object>"
      ]
     },
     "metadata": {},
     "output_type": "display_data"
    },
    {
     "name": "stdout",
     "output_type": "stream",
     "text": [
      "Metadata for:  ls7_ledaps_lake_chad_full LANDSAT_7\n"
     ]
    },
    {
     "data": {
      "text/html": [
       "<h2>Metadata Report: </h2>"
      ],
      "text/plain": [
       "<IPython.core.display.HTML object>"
      ]
     },
     "metadata": {},
     "output_type": "display_data"
    },
    {
     "data": {
      "text/html": [
       "<table><tr><th></th><th>Min</th><th>Max</th><th>Resolution</th></tr><tr><th>Date: </th><td>1999-7-10</td><td>2016-12-31</td><td></td></tr><tr><th>Longitude: </th><td>11.565</td><td>16.555</td><td>0.00027769</td></tr><tr><th>Latitude: </th><td>12.061</td><td>15.413</td><td>-0.000271152</td></tr></table>"
      ],
      "text/plain": [
       "<IPython.core.display.HTML object>"
      ]
     },
     "metadata": {},
     "output_type": "display_data"
    }
   ],
   "source": [
    "for product_index in range(len(product_list)):\n",
    "    # Get the pixel resolution of the selected product\n",
    "    resolution = products.resolution[products.name == product_list[product_index]]\n",
    "    lat_dist = resolution.values[0][0]\n",
    "    lon_dist = resolution.values[0][1]\n",
    "\n",
    "    # Get the extents of the cube\n",
    "    descriptor = api.get_descriptor({'platform': platform_list[product_index]})[product_list[product_index]]\n",
    "\n",
    "    min_date = descriptor['result_min'][0]\n",
    "    min_lat = descriptor['result_min'][1]\n",
    "    min_lon = descriptor['result_min'][2]\n",
    "\n",
    "    min_date_str = str(min_date.year) + '-' + str(min_date.month) + '-' + str(min_date.day)\n",
    "\n",
    "    min_lat_rounded = round(min_lat, 3)\n",
    "    min_lon_rounded =  round(min_lon, 3)\n",
    "\n",
    "    max_date = descriptor['result_max'][0]\n",
    "    max_lat = descriptor['result_max'][1] \n",
    "    max_lon = descriptor['result_max'][2] \n",
    "\n",
    "    max_date_str = str(max_date.year) + '-' + str(max_date.month) + '-' + str(max_date.day)\n",
    "\n",
    "    max_lat_rounded = round(max_lat, 3) #calculates latitude of the pixel's center\n",
    "    max_lon_rounded = round(max_lon, 3) #calculates longitude of the pixel's center\n",
    "\n",
    "    # Display metadata\n",
    "    print(\"Metadata for: \", product_list[product_index], platform_list[product_index])\n",
    "    generate_metadata_report(min_date_str, max_date_str, \n",
    "                             min_lon_rounded, max_lon_rounded, lon_dist,\n",
    "                             min_lat_rounded, max_lat_rounded, lat_dist)"
   ]
  },
  {
   "cell_type": "markdown",
   "metadata": {},
   "source": [
    "**Using the extents from above, we have filled in the defaults for the extent GUI below.** \n",
    "While there is a large region available, we recommend using the values below:\n",
    "\n",
    "    min_lon = 14.244\n",
    "    max_lon = 14.493\n",
    "    min_lat = 12.737\n",
    "    max_lat = 12.987"
   ]
  },
  {
   "cell_type": "code",
   "execution_count": 5,
   "metadata": {},
   "outputs": [
    {
     "data": {
      "application/vnd.jupyter.widget-view+json": {
       "model_id": "236cb6c8afd9475aac676f53f43af504",
       "version_major": 2,
       "version_minor": 0
      },
      "text/html": [
       "<p>Failed to display Jupyter Widget of type <code>Label</code>.</p>\n",
       "<p>\n",
       "  If you're reading this message in the Jupyter Notebook or JupyterLab Notebook, it may mean\n",
       "  that the widgets JavaScript is still loading. If this message persists, it\n",
       "  likely means that the widgets JavaScript library is either not installed or\n",
       "  not enabled. See the <a href=\"https://ipywidgets.readthedocs.io/en/stable/user_install.html\">Jupyter\n",
       "  Widgets Documentation</a> for setup instructions.\n",
       "</p>\n",
       "<p>\n",
       "  If you're reading this message in another frontend (for example, a static\n",
       "  rendering on GitHub or <a href=\"https://nbviewer.jupyter.org/\">NBViewer</a>),\n",
       "  it may mean that your frontend doesn't currently support widgets.\n",
       "</p>\n"
      ],
      "text/plain": [
       "Label(value='Start date: ')"
      ]
     },
     "metadata": {},
     "output_type": "display_data"
    },
    {
     "data": {
      "application/vnd.jupyter.widget-view+json": {
       "model_id": "d5fe839b6aee4851a781610e1f94987b",
       "version_major": 2,
       "version_minor": 0
      },
      "text/html": [
       "<p>Failed to display Jupyter Widget of type <code>Text</code>.</p>\n",
       "<p>\n",
       "  If you're reading this message in the Jupyter Notebook or JupyterLab Notebook, it may mean\n",
       "  that the widgets JavaScript is still loading. If this message persists, it\n",
       "  likely means that the widgets JavaScript library is either not installed or\n",
       "  not enabled. See the <a href=\"https://ipywidgets.readthedocs.io/en/stable/user_install.html\">Jupyter\n",
       "  Widgets Documentation</a> for setup instructions.\n",
       "</p>\n",
       "<p>\n",
       "  If you're reading this message in another frontend (for example, a static\n",
       "  rendering on GitHub or <a href=\"https://nbviewer.jupyter.org/\">NBViewer</a>),\n",
       "  it may mean that your frontend doesn't currently support widgets.\n",
       "</p>\n"
      ],
      "text/plain": [
       "Text(value='1984-07-01')"
      ]
     },
     "metadata": {},
     "output_type": "display_data"
    },
    {
     "data": {
      "application/vnd.jupyter.widget-view+json": {
       "model_id": "73fcb06fdb34413f95d3af48a92df105",
       "version_major": 2,
       "version_minor": 0
      },
      "text/html": [
       "<p>Failed to display Jupyter Widget of type <code>Label</code>.</p>\n",
       "<p>\n",
       "  If you're reading this message in the Jupyter Notebook or JupyterLab Notebook, it may mean\n",
       "  that the widgets JavaScript is still loading. If this message persists, it\n",
       "  likely means that the widgets JavaScript library is either not installed or\n",
       "  not enabled. See the <a href=\"https://ipywidgets.readthedocs.io/en/stable/user_install.html\">Jupyter\n",
       "  Widgets Documentation</a> for setup instructions.\n",
       "</p>\n",
       "<p>\n",
       "  If you're reading this message in another frontend (for example, a static\n",
       "  rendering on GitHub or <a href=\"https://nbviewer.jupyter.org/\">NBViewer</a>),\n",
       "  it may mean that your frontend doesn't currently support widgets.\n",
       "</p>\n"
      ],
      "text/plain": [
       "Label(value='End date: ')"
      ]
     },
     "metadata": {},
     "output_type": "display_data"
    },
    {
     "data": {
      "application/vnd.jupyter.widget-view+json": {
       "model_id": "efce52768da4427787abcd762288ad67",
       "version_major": 2,
       "version_minor": 0
      },
      "text/html": [
       "<p>Failed to display Jupyter Widget of type <code>Text</code>.</p>\n",
       "<p>\n",
       "  If you're reading this message in the Jupyter Notebook or JupyterLab Notebook, it may mean\n",
       "  that the widgets JavaScript is still loading. If this message persists, it\n",
       "  likely means that the widgets JavaScript library is either not installed or\n",
       "  not enabled. See the <a href=\"https://ipywidgets.readthedocs.io/en/stable/user_install.html\">Jupyter\n",
       "  Widgets Documentation</a> for setup instructions.\n",
       "</p>\n",
       "<p>\n",
       "  If you're reading this message in another frontend (for example, a static\n",
       "  rendering on GitHub or <a href=\"https://nbviewer.jupyter.org/\">NBViewer</a>),\n",
       "  it may mean that your frontend doesn't currently support widgets.\n",
       "</p>\n"
      ],
      "text/plain": [
       "Text(value='2016-10-05')"
      ]
     },
     "metadata": {},
     "output_type": "display_data"
    },
    {
     "data": {
      "application/vnd.jupyter.widget-view+json": {
       "model_id": "88c86eb720b44e3db1ef20a79ccdc98d",
       "version_major": 2,
       "version_minor": 0
      },
      "text/html": [
       "<p>Failed to display Jupyter Widget of type <code>Label</code>.</p>\n",
       "<p>\n",
       "  If you're reading this message in the Jupyter Notebook or JupyterLab Notebook, it may mean\n",
       "  that the widgets JavaScript is still loading. If this message persists, it\n",
       "  likely means that the widgets JavaScript library is either not installed or\n",
       "  not enabled. See the <a href=\"https://ipywidgets.readthedocs.io/en/stable/user_install.html\">Jupyter\n",
       "  Widgets Documentation</a> for setup instructions.\n",
       "</p>\n",
       "<p>\n",
       "  If you're reading this message in another frontend (for example, a static\n",
       "  rendering on GitHub or <a href=\"https://nbviewer.jupyter.org/\">NBViewer</a>),\n",
       "  it may mean that your frontend doesn't currently support widgets.\n",
       "</p>\n"
      ],
      "text/plain": [
       "Label(value='Min lon: ')"
      ]
     },
     "metadata": {},
     "output_type": "display_data"
    },
    {
     "data": {
      "application/vnd.jupyter.widget-view+json": {
       "model_id": "4a8ffa42814843ce9da5f79df465b71e",
       "version_major": 2,
       "version_minor": 0
      },
      "text/html": [
       "<p>Failed to display Jupyter Widget of type <code>BoundedFloatText</code>.</p>\n",
       "<p>\n",
       "  If you're reading this message in the Jupyter Notebook or JupyterLab Notebook, it may mean\n",
       "  that the widgets JavaScript is still loading. If this message persists, it\n",
       "  likely means that the widgets JavaScript library is either not installed or\n",
       "  not enabled. See the <a href=\"https://ipywidgets.readthedocs.io/en/stable/user_install.html\">Jupyter\n",
       "  Widgets Documentation</a> for setup instructions.\n",
       "</p>\n",
       "<p>\n",
       "  If you're reading this message in another frontend (for example, a static\n",
       "  rendering on GitHub or <a href=\"https://nbviewer.jupyter.org/\">NBViewer</a>),\n",
       "  it may mean that your frontend doesn't currently support widgets.\n",
       "</p>\n"
      ],
      "text/plain": [
       "BoundedFloatText(value=14.244, max=14.493, min=14.244)"
      ]
     },
     "metadata": {},
     "output_type": "display_data"
    },
    {
     "data": {
      "application/vnd.jupyter.widget-view+json": {
       "model_id": "fe3a53a074d745f9ab4910ac7d4946ff",
       "version_major": 2,
       "version_minor": 0
      },
      "text/html": [
       "<p>Failed to display Jupyter Widget of type <code>Label</code>.</p>\n",
       "<p>\n",
       "  If you're reading this message in the Jupyter Notebook or JupyterLab Notebook, it may mean\n",
       "  that the widgets JavaScript is still loading. If this message persists, it\n",
       "  likely means that the widgets JavaScript library is either not installed or\n",
       "  not enabled. See the <a href=\"https://ipywidgets.readthedocs.io/en/stable/user_install.html\">Jupyter\n",
       "  Widgets Documentation</a> for setup instructions.\n",
       "</p>\n",
       "<p>\n",
       "  If you're reading this message in another frontend (for example, a static\n",
       "  rendering on GitHub or <a href=\"https://nbviewer.jupyter.org/\">NBViewer</a>),\n",
       "  it may mean that your frontend doesn't currently support widgets.\n",
       "</p>\n"
      ],
      "text/plain": [
       "Label(value='Max lon: ')"
      ]
     },
     "metadata": {},
     "output_type": "display_data"
    },
    {
     "data": {
      "application/vnd.jupyter.widget-view+json": {
       "model_id": "b56eae84d2fe4fb9ae31a0fc2ecb00d0",
       "version_major": 2,
       "version_minor": 0
      },
      "text/html": [
       "<p>Failed to display Jupyter Widget of type <code>BoundedFloatText</code>.</p>\n",
       "<p>\n",
       "  If you're reading this message in the Jupyter Notebook or JupyterLab Notebook, it may mean\n",
       "  that the widgets JavaScript is still loading. If this message persists, it\n",
       "  likely means that the widgets JavaScript library is either not installed or\n",
       "  not enabled. See the <a href=\"https://ipywidgets.readthedocs.io/en/stable/user_install.html\">Jupyter\n",
       "  Widgets Documentation</a> for setup instructions.\n",
       "</p>\n",
       "<p>\n",
       "  If you're reading this message in another frontend (for example, a static\n",
       "  rendering on GitHub or <a href=\"https://nbviewer.jupyter.org/\">NBViewer</a>),\n",
       "  it may mean that your frontend doesn't currently support widgets.\n",
       "</p>\n"
      ],
      "text/plain": [
       "BoundedFloatText(value=14.493, max=14.493, min=14.244)"
      ]
     },
     "metadata": {},
     "output_type": "display_data"
    },
    {
     "data": {
      "application/vnd.jupyter.widget-view+json": {
       "model_id": "6692dd7006f947c68ab5d92e2ec23286",
       "version_major": 2,
       "version_minor": 0
      },
      "text/html": [
       "<p>Failed to display Jupyter Widget of type <code>Label</code>.</p>\n",
       "<p>\n",
       "  If you're reading this message in the Jupyter Notebook or JupyterLab Notebook, it may mean\n",
       "  that the widgets JavaScript is still loading. If this message persists, it\n",
       "  likely means that the widgets JavaScript library is either not installed or\n",
       "  not enabled. See the <a href=\"https://ipywidgets.readthedocs.io/en/stable/user_install.html\">Jupyter\n",
       "  Widgets Documentation</a> for setup instructions.\n",
       "</p>\n",
       "<p>\n",
       "  If you're reading this message in another frontend (for example, a static\n",
       "  rendering on GitHub or <a href=\"https://nbviewer.jupyter.org/\">NBViewer</a>),\n",
       "  it may mean that your frontend doesn't currently support widgets.\n",
       "</p>\n"
      ],
      "text/plain": [
       "Label(value='Min lat: ')"
      ]
     },
     "metadata": {},
     "output_type": "display_data"
    },
    {
     "data": {
      "application/vnd.jupyter.widget-view+json": {
       "model_id": "e6c7ec1fe29a4f6689ed5edac741f40e",
       "version_major": 2,
       "version_minor": 0
      },
      "text/html": [
       "<p>Failed to display Jupyter Widget of type <code>BoundedFloatText</code>.</p>\n",
       "<p>\n",
       "  If you're reading this message in the Jupyter Notebook or JupyterLab Notebook, it may mean\n",
       "  that the widgets JavaScript is still loading. If this message persists, it\n",
       "  likely means that the widgets JavaScript library is either not installed or\n",
       "  not enabled. See the <a href=\"https://ipywidgets.readthedocs.io/en/stable/user_install.html\">Jupyter\n",
       "  Widgets Documentation</a> for setup instructions.\n",
       "</p>\n",
       "<p>\n",
       "  If you're reading this message in another frontend (for example, a static\n",
       "  rendering on GitHub or <a href=\"https://nbviewer.jupyter.org/\">NBViewer</a>),\n",
       "  it may mean that your frontend doesn't currently support widgets.\n",
       "</p>\n"
      ],
      "text/plain": [
       "BoundedFloatText(value=12.737, max=12.987, min=12.737)"
      ]
     },
     "metadata": {},
     "output_type": "display_data"
    },
    {
     "data": {
      "application/vnd.jupyter.widget-view+json": {
       "model_id": "d6d2b0bd432343db98a377de9e996b20",
       "version_major": 2,
       "version_minor": 0
      },
      "text/html": [
       "<p>Failed to display Jupyter Widget of type <code>Label</code>.</p>\n",
       "<p>\n",
       "  If you're reading this message in the Jupyter Notebook or JupyterLab Notebook, it may mean\n",
       "  that the widgets JavaScript is still loading. If this message persists, it\n",
       "  likely means that the widgets JavaScript library is either not installed or\n",
       "  not enabled. See the <a href=\"https://ipywidgets.readthedocs.io/en/stable/user_install.html\">Jupyter\n",
       "  Widgets Documentation</a> for setup instructions.\n",
       "</p>\n",
       "<p>\n",
       "  If you're reading this message in another frontend (for example, a static\n",
       "  rendering on GitHub or <a href=\"https://nbviewer.jupyter.org/\">NBViewer</a>),\n",
       "  it may mean that your frontend doesn't currently support widgets.\n",
       "</p>\n"
      ],
      "text/plain": [
       "Label(value='Max lat: ')"
      ]
     },
     "metadata": {},
     "output_type": "display_data"
    },
    {
     "data": {
      "application/vnd.jupyter.widget-view+json": {
       "model_id": "4da26a69095e4ea3bcb10e482e5d6bf0",
       "version_major": 2,
       "version_minor": 0
      },
      "text/html": [
       "<p>Failed to display Jupyter Widget of type <code>BoundedFloatText</code>.</p>\n",
       "<p>\n",
       "  If you're reading this message in the Jupyter Notebook or JupyterLab Notebook, it may mean\n",
       "  that the widgets JavaScript is still loading. If this message persists, it\n",
       "  likely means that the widgets JavaScript library is either not installed or\n",
       "  not enabled. See the <a href=\"https://ipywidgets.readthedocs.io/en/stable/user_install.html\">Jupyter\n",
       "  Widgets Documentation</a> for setup instructions.\n",
       "</p>\n",
       "<p>\n",
       "  If you're reading this message in another frontend (for example, a static\n",
       "  rendering on GitHub or <a href=\"https://nbviewer.jupyter.org/\">NBViewer</a>),\n",
       "  it may mean that your frontend doesn't currently support widgets.\n",
       "</p>\n"
      ],
      "text/plain": [
       "BoundedFloatText(value=12.987, max=12.987, min=12.737)"
      ]
     },
     "metadata": {},
     "output_type": "display_data"
    }
   ],
   "source": [
    "min_lon = 14.244\n",
    "max_lon = 14.493\n",
    "min_lat = 12.737\n",
    "max_lat = 12.987\n",
    "extent_values = create_extents_gui(\"1984-07-01\", \"2016-10-05\",\n",
    "                                   min_lon, max_lon,\n",
    "                                   min_lat, max_lat)"
   ]
  },
  {
   "cell_type": "markdown",
   "metadata": {},
   "source": [
    "**The entire dataset for all of the defined products and platforms are loaded below.**\n",
    "\n",
    "They are loaded seperately and then combined over the time axis of the data. Using the full time extent, you will see that there are over 400 seperate acquisitions."
   ]
  },
  {
   "cell_type": "code",
   "execution_count": 6,
   "metadata": {},
   "outputs": [
    {
     "data": {
      "text/html": [
       "<div>\n",
       "<table border=\"1\" class=\"dataframe\">\n",
       "  <thead>\n",
       "    <tr style=\"text-align: right;\">\n",
       "      <th></th>\n",
       "      <th>name</th>\n",
       "      <th>description</th>\n",
       "      <th>instrument</th>\n",
       "      <th>lat</th>\n",
       "      <th>lon</th>\n",
       "      <th>time</th>\n",
       "      <th>sat_path</th>\n",
       "      <th>product_type</th>\n",
       "      <th>platform</th>\n",
       "      <th>orbit</th>\n",
       "      <th>sat_row</th>\n",
       "      <th>format</th>\n",
       "      <th>gsi</th>\n",
       "      <th>crs</th>\n",
       "      <th>resolution</th>\n",
       "      <th>tile_size</th>\n",
       "      <th>spatial_dimensions</th>\n",
       "    </tr>\n",
       "    <tr>\n",
       "      <th>id</th>\n",
       "      <th></th>\n",
       "      <th></th>\n",
       "      <th></th>\n",
       "      <th></th>\n",
       "      <th></th>\n",
       "      <th></th>\n",
       "      <th></th>\n",
       "      <th></th>\n",
       "      <th></th>\n",
       "      <th></th>\n",
       "      <th></th>\n",
       "      <th></th>\n",
       "      <th></th>\n",
       "      <th></th>\n",
       "      <th></th>\n",
       "      <th></th>\n",
       "      <th></th>\n",
       "    </tr>\n",
       "  </thead>\n",
       "  <tbody>\n",
       "    <tr>\n",
       "      <th>46</th>\n",
       "      <td>alos2_jjfast_scansar_tile</td>\n",
       "      <td>ALOS-2 PALSAR JJ-FAST mosaic tiles generated f...</td>\n",
       "      <td>PALSAR</td>\n",
       "      <td>NaN</td>\n",
       "      <td>NaN</td>\n",
       "      <td>None</td>\n",
       "      <td>NaN</td>\n",
       "      <td>tile</td>\n",
       "      <td>ALOS_2</td>\n",
       "      <td>NaN</td>\n",
       "      <td>NaN</td>\n",
       "      <td>GeoTiff</td>\n",
       "      <td>NaN</td>\n",
       "      <td>NaN</td>\n",
       "      <td>NaN</td>\n",
       "      <td>NaN</td>\n",
       "      <td>NaN</td>\n",
       "    </tr>\n",
       "    <tr>\n",
       "      <th>61</th>\n",
       "      <td>alos2_jjfast_scansar_tile_colombia</td>\n",
       "      <td>ALOS2 PALSAR JJFAST tile in DN format processe...</td>\n",
       "      <td>PALSAR</td>\n",
       "      <td>NaN</td>\n",
       "      <td>NaN</td>\n",
       "      <td>None</td>\n",
       "      <td>NaN</td>\n",
       "      <td>tile</td>\n",
       "      <td>ALOS_2</td>\n",
       "      <td>NaN</td>\n",
       "      <td>NaN</td>\n",
       "      <td>NetCDF</td>\n",
       "      <td>NaN</td>\n",
       "      <td>EPSG:4326</td>\n",
       "      <td>[-0.0002666666667, 0.0002666666667]</td>\n",
       "      <td>[0.5333333334, 0.5333333334]</td>\n",
       "      <td>(latitude, longitude)</td>\n",
       "    </tr>\n",
       "    <tr>\n",
       "      <th>50</th>\n",
       "      <td>alos2_palsar_colombia</td>\n",
       "      <td>ALOS2 PALSAR tile in DN format processed for t...</td>\n",
       "      <td>PALSAR</td>\n",
       "      <td>NaN</td>\n",
       "      <td>NaN</td>\n",
       "      <td>None</td>\n",
       "      <td>NaN</td>\n",
       "      <td>gamma0</td>\n",
       "      <td>ALOS_2</td>\n",
       "      <td>NaN</td>\n",
       "      <td>NaN</td>\n",
       "      <td>NetCDF</td>\n",
       "      <td>NaN</td>\n",
       "      <td>EPSG:4326</td>\n",
       "      <td>[-0.0002666666667, 0.0002666666667]</td>\n",
       "      <td>[0.5333333334, 0.5333333334]</td>\n",
       "      <td>(latitude, longitude)</td>\n",
       "    </tr>\n",
       "    <tr>\n",
       "      <th>51</th>\n",
       "      <td>alos2_palsar_kenya</td>\n",
       "      <td>ALOS2 PALSAR tile in DN format processed for t...</td>\n",
       "      <td>PALSAR</td>\n",
       "      <td>NaN</td>\n",
       "      <td>NaN</td>\n",
       "      <td>None</td>\n",
       "      <td>NaN</td>\n",
       "      <td>gamma0</td>\n",
       "      <td>ALOS_2</td>\n",
       "      <td>NaN</td>\n",
       "      <td>NaN</td>\n",
       "      <td>NetCDF</td>\n",
       "      <td>NaN</td>\n",
       "      <td>EPSG:4326</td>\n",
       "      <td>[-0.0002666666667, 0.0002666666667]</td>\n",
       "      <td>[0.5333333334, 0.5333333334]</td>\n",
       "      <td>(latitude, longitude)</td>\n",
       "    </tr>\n",
       "    <tr>\n",
       "      <th>48</th>\n",
       "      <td>alos2_palsar_tile</td>\n",
       "      <td>ALOS-2 PALSAR mosaic tiles generated for use i...</td>\n",
       "      <td>PALSAR</td>\n",
       "      <td>NaN</td>\n",
       "      <td>NaN</td>\n",
       "      <td>None</td>\n",
       "      <td>NaN</td>\n",
       "      <td>gamma0</td>\n",
       "      <td>ALOS_2</td>\n",
       "      <td>NaN</td>\n",
       "      <td>NaN</td>\n",
       "      <td>GeoTiff</td>\n",
       "      <td>NaN</td>\n",
       "      <td>NaN</td>\n",
       "      <td>NaN</td>\n",
       "      <td>NaN</td>\n",
       "      <td>NaN</td>\n",
       "    </tr>\n",
       "    <tr>\n",
       "      <th>52</th>\n",
       "      <td>alos2_palsar_vietnam</td>\n",
       "      <td>ALOS2 PALSAR tile in DN format processed for t...</td>\n",
       "      <td>PALSAR</td>\n",
       "      <td>NaN</td>\n",
       "      <td>NaN</td>\n",
       "      <td>None</td>\n",
       "      <td>NaN</td>\n",
       "      <td>gamma0</td>\n",
       "      <td>ALOS_2</td>\n",
       "      <td>NaN</td>\n",
       "      <td>NaN</td>\n",
       "      <td>NetCDF</td>\n",
       "      <td>NaN</td>\n",
       "      <td>EPSG:4326</td>\n",
       "      <td>[-0.0002666666667, 0.0002666666667]</td>\n",
       "      <td>[0.5333333334, 0.5333333334]</td>\n",
       "      <td>(latitude, longitude)</td>\n",
       "    </tr>\n",
       "    <tr>\n",
       "      <th>53</th>\n",
       "      <td>alos_palsar_colombia</td>\n",
       "      <td>ALOS PALSAR tile in DN format processed for th...</td>\n",
       "      <td>PALSAR</td>\n",
       "      <td>NaN</td>\n",
       "      <td>NaN</td>\n",
       "      <td>None</td>\n",
       "      <td>NaN</td>\n",
       "      <td>gamma0</td>\n",
       "      <td>ALOS</td>\n",
       "      <td>NaN</td>\n",
       "      <td>NaN</td>\n",
       "      <td>NetCDF</td>\n",
       "      <td>NaN</td>\n",
       "      <td>EPSG:4326</td>\n",
       "      <td>[-0.0002666666667, 0.0002666666667]</td>\n",
       "      <td>[0.5333333334, 0.5333333334]</td>\n",
       "      <td>(latitude, longitude)</td>\n",
       "    </tr>\n",
       "    <tr>\n",
       "      <th>54</th>\n",
       "      <td>alos_palsar_kenya</td>\n",
       "      <td>ALOS PALSAR tile in DN format processed for th...</td>\n",
       "      <td>PALSAR</td>\n",
       "      <td>NaN</td>\n",
       "      <td>NaN</td>\n",
       "      <td>None</td>\n",
       "      <td>NaN</td>\n",
       "      <td>gamma0</td>\n",
       "      <td>ALOS</td>\n",
       "      <td>NaN</td>\n",
       "      <td>NaN</td>\n",
       "      <td>NetCDF</td>\n",
       "      <td>NaN</td>\n",
       "      <td>EPSG:4326</td>\n",
       "      <td>[-0.0002666666667, 0.0002666666667]</td>\n",
       "      <td>[0.5333333334, 0.5333333334]</td>\n",
       "      <td>(latitude, longitude)</td>\n",
       "    </tr>\n",
       "    <tr>\n",
       "      <th>47</th>\n",
       "      <td>alos_palsar_tile</td>\n",
       "      <td>ALOS PALSAR mosaic tiles generated for use in ...</td>\n",
       "      <td>PALSAR</td>\n",
       "      <td>NaN</td>\n",
       "      <td>NaN</td>\n",
       "      <td>None</td>\n",
       "      <td>NaN</td>\n",
       "      <td>gamma0</td>\n",
       "      <td>ALOS</td>\n",
       "      <td>NaN</td>\n",
       "      <td>NaN</td>\n",
       "      <td>GeoTiff</td>\n",
       "      <td>NaN</td>\n",
       "      <td>NaN</td>\n",
       "      <td>NaN</td>\n",
       "      <td>NaN</td>\n",
       "      <td>NaN</td>\n",
       "    </tr>\n",
       "    <tr>\n",
       "      <th>55</th>\n",
       "      <td>alos_palsar_vietnam</td>\n",
       "      <td>ALOS PALSAR tile in DN format processed for th...</td>\n",
       "      <td>PALSAR</td>\n",
       "      <td>NaN</td>\n",
       "      <td>NaN</td>\n",
       "      <td>None</td>\n",
       "      <td>NaN</td>\n",
       "      <td>gamma0</td>\n",
       "      <td>ALOS</td>\n",
       "      <td>NaN</td>\n",
       "      <td>NaN</td>\n",
       "      <td>NetCDF</td>\n",
       "      <td>NaN</td>\n",
       "      <td>EPSG:4326</td>\n",
       "      <td>[-0.0002666666667, 0.0002666666667]</td>\n",
       "      <td>[0.5333333334, 0.5333333334]</td>\n",
       "      <td>(latitude, longitude)</td>\n",
       "    </tr>\n",
       "    <tr>\n",
       "      <th>5</th>\n",
       "      <td>gpm_imerg_gis_daily</td>\n",
       "      <td>GIS translation of the imerg data product. Mul...</td>\n",
       "      <td>GPM</td>\n",
       "      <td>NaN</td>\n",
       "      <td>NaN</td>\n",
       "      <td>None</td>\n",
       "      <td>NaN</td>\n",
       "      <td>daily</td>\n",
       "      <td>GPM</td>\n",
       "      <td>NaN</td>\n",
       "      <td>NaN</td>\n",
       "      <td>GeoTiff</td>\n",
       "      <td>NaN</td>\n",
       "      <td>NaN</td>\n",
       "      <td>NaN</td>\n",
       "      <td>NaN</td>\n",
       "      <td>NaN</td>\n",
       "    </tr>\n",
       "    <tr>\n",
       "      <th>14</th>\n",
       "      <td>gpm_imerg_gis_daily_global</td>\n",
       "      <td>Global NetCDF GPM IMERG GIS data</td>\n",
       "      <td>GPM</td>\n",
       "      <td>NaN</td>\n",
       "      <td>NaN</td>\n",
       "      <td>None</td>\n",
       "      <td>NaN</td>\n",
       "      <td>daily</td>\n",
       "      <td>GPM</td>\n",
       "      <td>NaN</td>\n",
       "      <td>NaN</td>\n",
       "      <td>NetCDF</td>\n",
       "      <td>NaN</td>\n",
       "      <td>EPSG:4326</td>\n",
       "      <td>[-0.1, 0.1]</td>\n",
       "      <td>[90, 180]</td>\n",
       "      <td>(latitude, longitude)</td>\n",
       "    </tr>\n",
       "    <tr>\n",
       "      <th>6</th>\n",
       "      <td>gpm_imerg_gis_hourly</td>\n",
       "      <td>GIS translation of the imerg data product. Mul...</td>\n",
       "      <td>GPM</td>\n",
       "      <td>NaN</td>\n",
       "      <td>NaN</td>\n",
       "      <td>None</td>\n",
       "      <td>NaN</td>\n",
       "      <td>hourly</td>\n",
       "      <td>GPM</td>\n",
       "      <td>NaN</td>\n",
       "      <td>NaN</td>\n",
       "      <td>GeoTiff</td>\n",
       "      <td>NaN</td>\n",
       "      <td>NaN</td>\n",
       "      <td>NaN</td>\n",
       "      <td>NaN</td>\n",
       "      <td>NaN</td>\n",
       "    </tr>\n",
       "    <tr>\n",
       "      <th>4</th>\n",
       "      <td>gpm_imerg_gis_monthly</td>\n",
       "      <td>GIS translation of the imerg data product. Mul...</td>\n",
       "      <td>GPM</td>\n",
       "      <td>NaN</td>\n",
       "      <td>NaN</td>\n",
       "      <td>None</td>\n",
       "      <td>NaN</td>\n",
       "      <td>monthly</td>\n",
       "      <td>GPM</td>\n",
       "      <td>NaN</td>\n",
       "      <td>NaN</td>\n",
       "      <td>GeoTiff</td>\n",
       "      <td>NaN</td>\n",
       "      <td>NaN</td>\n",
       "      <td>NaN</td>\n",
       "      <td>NaN</td>\n",
       "      <td>NaN</td>\n",
       "    </tr>\n",
       "    <tr>\n",
       "      <th>15</th>\n",
       "      <td>gpm_imerg_gis_monthly_global</td>\n",
       "      <td>Global NetCDF GPM IMERG GIS data</td>\n",
       "      <td>GPM</td>\n",
       "      <td>NaN</td>\n",
       "      <td>NaN</td>\n",
       "      <td>None</td>\n",
       "      <td>NaN</td>\n",
       "      <td>monthly</td>\n",
       "      <td>GPM</td>\n",
       "      <td>NaN</td>\n",
       "      <td>NaN</td>\n",
       "      <td>NetCDF</td>\n",
       "      <td>NaN</td>\n",
       "      <td>EPSG:4326</td>\n",
       "      <td>[-0.1, 0.1]</td>\n",
       "      <td>[90, 180]</td>\n",
       "      <td>(latitude, longitude)</td>\n",
       "    </tr>\n",
       "    <tr>\n",
       "      <th>7</th>\n",
       "      <td>ls5_collections_sr_scene</td>\n",
       "      <td>Landsat 5 USGS Collection 1 Higher Level SR sc...</td>\n",
       "      <td>TM</td>\n",
       "      <td>NaN</td>\n",
       "      <td>NaN</td>\n",
       "      <td>None</td>\n",
       "      <td>NaN</td>\n",
       "      <td>LEDAPS</td>\n",
       "      <td>LANDSAT_5</td>\n",
       "      <td>NaN</td>\n",
       "      <td>NaN</td>\n",
       "      <td>GeoTiff</td>\n",
       "      <td>NaN</td>\n",
       "      <td>NaN</td>\n",
       "      <td>NaN</td>\n",
       "      <td>NaN</td>\n",
       "      <td>NaN</td>\n",
       "    </tr>\n",
       "    <tr>\n",
       "      <th>17</th>\n",
       "      <td>ls5_ledaps_bangladesh</td>\n",
       "      <td>Landsat 5 USGS Collection 1 Higher Level SR sc...</td>\n",
       "      <td>TM</td>\n",
       "      <td>NaN</td>\n",
       "      <td>NaN</td>\n",
       "      <td>None</td>\n",
       "      <td>NaN</td>\n",
       "      <td>LEDAPS</td>\n",
       "      <td>LANDSAT_5</td>\n",
       "      <td>NaN</td>\n",
       "      <td>NaN</td>\n",
       "      <td>NetCDF</td>\n",
       "      <td>NaN</td>\n",
       "      <td>EPSG:4326</td>\n",
       "      <td>[-0.000270861, 0.000294834]</td>\n",
       "      <td>[0.812583, 0.884502]</td>\n",
       "      <td>(latitude, longitude)</td>\n",
       "    </tr>\n",
       "    <tr>\n",
       "      <th>18</th>\n",
       "      <td>ls5_ledaps_lake_chad_full</td>\n",
       "      <td>Landsat 5 USGS Collection 1 Higher Level SR sc...</td>\n",
       "      <td>TM</td>\n",
       "      <td>NaN</td>\n",
       "      <td>NaN</td>\n",
       "      <td>None</td>\n",
       "      <td>NaN</td>\n",
       "      <td>LEDAPS</td>\n",
       "      <td>LANDSAT_5</td>\n",
       "      <td>NaN</td>\n",
       "      <td>NaN</td>\n",
       "      <td>NetCDF</td>\n",
       "      <td>NaN</td>\n",
       "      <td>EPSG:4326</td>\n",
       "      <td>[-0.000271152, 0.00027769]</td>\n",
       "      <td>[0.813456, 0.83307]</td>\n",
       "      <td>(latitude, longitude)</td>\n",
       "    </tr>\n",
       "    <tr>\n",
       "      <th>8</th>\n",
       "      <td>ls7_collections_sr_scene</td>\n",
       "      <td>Landsat 7 USGS Collection 1 Higher Level SR sc...</td>\n",
       "      <td>ETM</td>\n",
       "      <td>NaN</td>\n",
       "      <td>NaN</td>\n",
       "      <td>None</td>\n",
       "      <td>NaN</td>\n",
       "      <td>LEDAPS</td>\n",
       "      <td>LANDSAT_7</td>\n",
       "      <td>NaN</td>\n",
       "      <td>NaN</td>\n",
       "      <td>GeoTiff</td>\n",
       "      <td>NaN</td>\n",
       "      <td>NaN</td>\n",
       "      <td>NaN</td>\n",
       "      <td>NaN</td>\n",
       "      <td>NaN</td>\n",
       "    </tr>\n",
       "    <tr>\n",
       "      <th>70</th>\n",
       "      <td>ls7_collections_sr_scene_lean</td>\n",
       "      <td>Landsat 7 USGS Collection 1 Higher Level SR sc...</td>\n",
       "      <td>ETM1</td>\n",
       "      <td>NaN</td>\n",
       "      <td>NaN</td>\n",
       "      <td>None</td>\n",
       "      <td>NaN</td>\n",
       "      <td>LEDAPS</td>\n",
       "      <td>LANDSAT_7</td>\n",
       "      <td>NaN</td>\n",
       "      <td>NaN</td>\n",
       "      <td>GeoTiff</td>\n",
       "      <td>NaN</td>\n",
       "      <td>NaN</td>\n",
       "      <td>NaN</td>\n",
       "      <td>NaN</td>\n",
       "      <td>NaN</td>\n",
       "    </tr>\n",
       "    <tr>\n",
       "      <th>19</th>\n",
       "      <td>ls7_ledaps_amazon_river</td>\n",
       "      <td>Landsat 7 USGS Collection 1 Higher Level SR sc...</td>\n",
       "      <td>ETM</td>\n",
       "      <td>NaN</td>\n",
       "      <td>NaN</td>\n",
       "      <td>None</td>\n",
       "      <td>NaN</td>\n",
       "      <td>LEDAPS</td>\n",
       "      <td>LANDSAT_7</td>\n",
       "      <td>NaN</td>\n",
       "      <td>NaN</td>\n",
       "      <td>NetCDF</td>\n",
       "      <td>NaN</td>\n",
       "      <td>EPSG:4326</td>\n",
       "      <td>[-0.000271302, 0.000269995]</td>\n",
       "      <td>[0.813906, 0.809985]</td>\n",
       "      <td>(latitude, longitude)</td>\n",
       "    </tr>\n",
       "    <tr>\n",
       "      <th>20</th>\n",
       "      <td>ls7_ledaps_bangladesh</td>\n",
       "      <td>Landsat 7 USGS Collection 1 Higher Level SR sc...</td>\n",
       "      <td>ETM</td>\n",
       "      <td>NaN</td>\n",
       "      <td>NaN</td>\n",
       "      <td>None</td>\n",
       "      <td>NaN</td>\n",
       "      <td>LEDAPS</td>\n",
       "      <td>LANDSAT_7</td>\n",
       "      <td>NaN</td>\n",
       "      <td>NaN</td>\n",
       "      <td>NetCDF</td>\n",
       "      <td>NaN</td>\n",
       "      <td>EPSG:4326</td>\n",
       "      <td>[-0.000270861, 0.000294834]</td>\n",
       "      <td>[0.812583, 0.884502]</td>\n",
       "      <td>(latitude, longitude)</td>\n",
       "    </tr>\n",
       "    <tr>\n",
       "      <th>35</th>\n",
       "      <td>ls7_ledaps_bangladesh_bari</td>\n",
       "      <td>Landsat 7 USGS Collection 1 Higher Level SR sc...</td>\n",
       "      <td>ETM</td>\n",
       "      <td>NaN</td>\n",
       "      <td>NaN</td>\n",
       "      <td>None</td>\n",
       "      <td>NaN</td>\n",
       "      <td>LEDAPS</td>\n",
       "      <td>LANDSAT_7</td>\n",
       "      <td>NaN</td>\n",
       "      <td>NaN</td>\n",
       "      <td>NetCDF</td>\n",
       "      <td>NaN</td>\n",
       "      <td>EPSG:4326</td>\n",
       "      <td>[-0.000270861, 0.000294834]</td>\n",
       "      <td>[0.812583, 0.884502]</td>\n",
       "      <td>(latitude, longitude)</td>\n",
       "    </tr>\n",
       "    <tr>\n",
       "      <th>36</th>\n",
       "      <td>ls7_ledaps_caqueta</td>\n",
       "      <td>Landsat 7 USGS Collection 1 Higher Level SR sc...</td>\n",
       "      <td>ETM</td>\n",
       "      <td>NaN</td>\n",
       "      <td>NaN</td>\n",
       "      <td>None</td>\n",
       "      <td>NaN</td>\n",
       "      <td>LEDAPS</td>\n",
       "      <td>LANDSAT_7</td>\n",
       "      <td>NaN</td>\n",
       "      <td>NaN</td>\n",
       "      <td>NetCDF</td>\n",
       "      <td>NaN</td>\n",
       "      <td>EPSG:4326</td>\n",
       "      <td>[-0.000269494585236, 0.000269494585236]</td>\n",
       "      <td>[0.538989170472, 0.538989170472]</td>\n",
       "      <td>(latitude, longitude)</td>\n",
       "    </tr>\n",
       "    <tr>\n",
       "      <th>21</th>\n",
       "      <td>ls7_ledaps_colombia</td>\n",
       "      <td>Landsat 7 USGS Collection 1 Higher Level SR sc...</td>\n",
       "      <td>ETM</td>\n",
       "      <td>NaN</td>\n",
       "      <td>NaN</td>\n",
       "      <td>None</td>\n",
       "      <td>NaN</td>\n",
       "      <td>LEDAPS</td>\n",
       "      <td>LANDSAT_7</td>\n",
       "      <td>NaN</td>\n",
       "      <td>NaN</td>\n",
       "      <td>NetCDF</td>\n",
       "      <td>NaN</td>\n",
       "      <td>EPSG:4326</td>\n",
       "      <td>[-0.000271307, 0.000269505]</td>\n",
       "      <td>[0.9495745, 0.9432675]</td>\n",
       "      <td>(latitude, longitude)</td>\n",
       "    </tr>\n",
       "    <tr>\n",
       "      <th>22</th>\n",
       "      <td>ls7_ledaps_ghana</td>\n",
       "      <td>Landsat 7 USGS Collection 1 Higher Level SR sc...</td>\n",
       "      <td>ETM</td>\n",
       "      <td>NaN</td>\n",
       "      <td>NaN</td>\n",
       "      <td>None</td>\n",
       "      <td>NaN</td>\n",
       "      <td>LEDAPS</td>\n",
       "      <td>LANDSAT_7</td>\n",
       "      <td>NaN</td>\n",
       "      <td>NaN</td>\n",
       "      <td>NetCDF</td>\n",
       "      <td>NaN</td>\n",
       "      <td>EPSG:4326</td>\n",
       "      <td>[-0.000269494585236, 0.000269494585236]</td>\n",
       "      <td>[0.943231048326, 0.943231048326]</td>\n",
       "      <td>(latitude, longitude)</td>\n",
       "    </tr>\n",
       "    <tr>\n",
       "      <th>23</th>\n",
       "      <td>ls7_ledaps_kenya</td>\n",
       "      <td>Landsat 7 USGS Collection 1 Higher Level SR sc...</td>\n",
       "      <td>ETM</td>\n",
       "      <td>NaN</td>\n",
       "      <td>NaN</td>\n",
       "      <td>None</td>\n",
       "      <td>NaN</td>\n",
       "      <td>LEDAPS</td>\n",
       "      <td>LANDSAT_7</td>\n",
       "      <td>NaN</td>\n",
       "      <td>NaN</td>\n",
       "      <td>NetCDF</td>\n",
       "      <td>NaN</td>\n",
       "      <td>EPSG:4326</td>\n",
       "      <td>[-0.000269493, 0.000269493]</td>\n",
       "      <td>[0.99981903, 0.99981903]</td>\n",
       "      <td>(latitude, longitude)</td>\n",
       "    </tr>\n",
       "    <tr>\n",
       "      <th>41</th>\n",
       "      <td>ls7_ledaps_lake_baringo</td>\n",
       "      <td>Landsat 7 USGS Collection 1 Higher Level SR sc...</td>\n",
       "      <td>ETM</td>\n",
       "      <td>NaN</td>\n",
       "      <td>NaN</td>\n",
       "      <td>None</td>\n",
       "      <td>NaN</td>\n",
       "      <td>LEDAPS</td>\n",
       "      <td>LANDSAT_7</td>\n",
       "      <td>NaN</td>\n",
       "      <td>NaN</td>\n",
       "      <td>NetCDF</td>\n",
       "      <td>NaN</td>\n",
       "      <td>EPSG:4326</td>\n",
       "      <td>[-0.000269493, 0.000269493]</td>\n",
       "      <td>[0.249820011, 0.249820011]</td>\n",
       "      <td>(latitude, longitude)</td>\n",
       "    </tr>\n",
       "    <tr>\n",
       "      <th>24</th>\n",
       "      <td>ls7_ledaps_lake_chad_full</td>\n",
       "      <td>Landsat 7 USGS Collection 1 Higher Level SR sc...</td>\n",
       "      <td>ETM</td>\n",
       "      <td>NaN</td>\n",
       "      <td>NaN</td>\n",
       "      <td>None</td>\n",
       "      <td>NaN</td>\n",
       "      <td>LEDAPS</td>\n",
       "      <td>LANDSAT_7</td>\n",
       "      <td>NaN</td>\n",
       "      <td>NaN</td>\n",
       "      <td>NetCDF</td>\n",
       "      <td>NaN</td>\n",
       "      <td>EPSG:4326</td>\n",
       "      <td>[-0.000271152, 0.00027769]</td>\n",
       "      <td>[0.813456, 0.83307]</td>\n",
       "      <td>(latitude, longitude)</td>\n",
       "    </tr>\n",
       "    <tr>\n",
       "      <th>25</th>\n",
       "      <td>ls7_ledaps_lake_cortijo</td>\n",
       "      <td>Landsat 7 USGS Collection 1 Higher Level SR sc...</td>\n",
       "      <td>ETM</td>\n",
       "      <td>NaN</td>\n",
       "      <td>NaN</td>\n",
       "      <td>None</td>\n",
       "      <td>NaN</td>\n",
       "      <td>LEDAPS</td>\n",
       "      <td>LANDSAT_7</td>\n",
       "      <td>NaN</td>\n",
       "      <td>NaN</td>\n",
       "      <td>NetCDF</td>\n",
       "      <td>NaN</td>\n",
       "      <td>EPSG:4326</td>\n",
       "      <td>[-0.000271297, 0.000270148]</td>\n",
       "      <td>[0.813891, 0.810444]</td>\n",
       "      <td>(latitude, longitude)</td>\n",
       "    </tr>\n",
       "    <tr>\n",
       "      <th>26</th>\n",
       "      <td>ls7_ledaps_menindee_lakes</td>\n",
       "      <td>Landsat 7 USGS Collection 1 Higher Level SR sc...</td>\n",
       "      <td>ETM</td>\n",
       "      <td>NaN</td>\n",
       "      <td>NaN</td>\n",
       "      <td>None</td>\n",
       "      <td>NaN</td>\n",
       "      <td>LEDAPS</td>\n",
       "      <td>LANDSAT_7</td>\n",
       "      <td>NaN</td>\n",
       "      <td>NaN</td>\n",
       "      <td>NetCDF</td>\n",
       "      <td>NaN</td>\n",
       "      <td>EPSG:4326</td>\n",
       "      <td>[-0.000270523, 0.000319227]</td>\n",
       "      <td>[0.9468305, 1.1172945]</td>\n",
       "      <td>(latitude, longitude)</td>\n",
       "    </tr>\n",
       "    <tr>\n",
       "      <th>27</th>\n",
       "      <td>ls7_ledaps_meta_river</td>\n",
       "      <td>Landsat 7 USGS Collection 1 Higher Level SR sc...</td>\n",
       "      <td>ETM</td>\n",
       "      <td>NaN</td>\n",
       "      <td>NaN</td>\n",
       "      <td>None</td>\n",
       "      <td>NaN</td>\n",
       "      <td>LEDAPS</td>\n",
       "      <td>LANDSAT_7</td>\n",
       "      <td>NaN</td>\n",
       "      <td>NaN</td>\n",
       "      <td>NetCDF</td>\n",
       "      <td>NaN</td>\n",
       "      <td>EPSG:4326</td>\n",
       "      <td>[-0.00027129679, 0.00027014858]</td>\n",
       "      <td>[0.49999998397, 0.499774873]</td>\n",
       "      <td>(latitude, longitude)</td>\n",
       "    </tr>\n",
       "    <tr>\n",
       "      <th>62</th>\n",
       "      <td>ls7_ledaps_mexico</td>\n",
       "      <td>Landsat 7 USGS Collection 1 Higher Level SR sc...</td>\n",
       "      <td>ETM</td>\n",
       "      <td>NaN</td>\n",
       "      <td>NaN</td>\n",
       "      <td>None</td>\n",
       "      <td>NaN</td>\n",
       "      <td>LEDAPS</td>\n",
       "      <td>LANDSAT_7</td>\n",
       "      <td>NaN</td>\n",
       "      <td>NaN</td>\n",
       "      <td>NetCDF</td>\n",
       "      <td>NaN</td>\n",
       "      <td>EPSG:4326</td>\n",
       "      <td>[-0.00027098518, 0.0002870971]</td>\n",
       "      <td>[0.9999353142, 0.9995961993]</td>\n",
       "      <td>(latitude, longitude)</td>\n",
       "    </tr>\n",
       "    <tr>\n",
       "      <th>28</th>\n",
       "      <td>ls7_ledaps_salgar_colombia</td>\n",
       "      <td>Landsat 7 USGS Collection 1 Higher Level SR sc...</td>\n",
       "      <td>ETM</td>\n",
       "      <td>NaN</td>\n",
       "      <td>NaN</td>\n",
       "      <td>None</td>\n",
       "      <td>NaN</td>\n",
       "      <td>LEDAPS</td>\n",
       "      <td>LANDSAT_7</td>\n",
       "      <td>NaN</td>\n",
       "      <td>NaN</td>\n",
       "      <td>NetCDF</td>\n",
       "      <td>NaN</td>\n",
       "      <td>EPSG:4326</td>\n",
       "      <td>[-0.000271285, 0.000270849]</td>\n",
       "      <td>[0.9494975, 0.9479715]</td>\n",
       "      <td>(latitude, longitude)</td>\n",
       "    </tr>\n",
       "    <tr>\n",
       "      <th>72</th>\n",
       "      <td>ls7_ledaps_sanagustin</td>\n",
       "      <td>Landsat 7 USGS Collection 1 Higher Level SR sc...</td>\n",
       "      <td>ETM1</td>\n",
       "      <td>NaN</td>\n",
       "      <td>NaN</td>\n",
       "      <td>None</td>\n",
       "      <td>NaN</td>\n",
       "      <td>LEDAPS</td>\n",
       "      <td>LANDSAT_7</td>\n",
       "      <td>NaN</td>\n",
       "      <td>NaN</td>\n",
       "      <td>NetCDF</td>\n",
       "      <td>NaN</td>\n",
       "      <td>EPSG:4326</td>\n",
       "      <td>[-0.000271309115317046, 0.00026957992707863]</td>\n",
       "      <td>[0.999502780827996, 0.999602369607559]</td>\n",
       "      <td>(latitude, longitude)</td>\n",
       "    </tr>\n",
       "    <tr>\n",
       "      <th>63</th>\n",
       "      <td>ls7_ledaps_scene</td>\n",
       "      <td>Landsat 7 LEDAPS 30 metre. Will be used for al...</td>\n",
       "      <td>ETM</td>\n",
       "      <td>NaN</td>\n",
       "      <td>NaN</td>\n",
       "      <td>None</td>\n",
       "      <td>NaN</td>\n",
       "      <td>ledaps</td>\n",
       "      <td>LANDSAT_7</td>\n",
       "      <td>NaN</td>\n",
       "      <td>NaN</td>\n",
       "      <td>GeoTiff</td>\n",
       "      <td>NaN</td>\n",
       "      <td>NaN</td>\n",
       "      <td>NaN</td>\n",
       "      <td>NaN</td>\n",
       "      <td>NaN</td>\n",
       "    </tr>\n",
       "    <tr>\n",
       "      <th>29</th>\n",
       "      <td>ls7_ledaps_togo</td>\n",
       "      <td>Landsat 7 USGS Collection 1 Higher Level SR sc...</td>\n",
       "      <td>ETM</td>\n",
       "      <td>NaN</td>\n",
       "      <td>NaN</td>\n",
       "      <td>None</td>\n",
       "      <td>NaN</td>\n",
       "      <td>LEDAPS</td>\n",
       "      <td>LANDSAT_7</td>\n",
       "      <td>NaN</td>\n",
       "      <td>NaN</td>\n",
       "      <td>NetCDF</td>\n",
       "      <td>NaN</td>\n",
       "      <td>EPSG:4326</td>\n",
       "      <td>[-0.000271285, 0.000270971]</td>\n",
       "      <td>[0.813855, 0.812913]</td>\n",
       "      <td>(latitude, longitude)</td>\n",
       "    </tr>\n",
       "    <tr>\n",
       "      <th>30</th>\n",
       "      <td>ls7_ledaps_tonga</td>\n",
       "      <td>Landsat 7 USGS Collection 1 Higher Level SR sc...</td>\n",
       "      <td>ETM</td>\n",
       "      <td>NaN</td>\n",
       "      <td>NaN</td>\n",
       "      <td>None</td>\n",
       "      <td>NaN</td>\n",
       "      <td>LEDAPS</td>\n",
       "      <td>LANDSAT_7</td>\n",
       "      <td>NaN</td>\n",
       "      <td>NaN</td>\n",
       "      <td>NetCDF</td>\n",
       "      <td>NaN</td>\n",
       "      <td>EPSG:4326</td>\n",
       "      <td>[-0.000270961, 0.000280452]</td>\n",
       "      <td>[0.812883, 0.841356]</td>\n",
       "      <td>(latitude, longitude)</td>\n",
       "    </tr>\n",
       "    <tr>\n",
       "      <th>31</th>\n",
       "      <td>ls7_ledaps_vietnam</td>\n",
       "      <td>Landsat 7 USGS Collection 1 Higher Level SR sc...</td>\n",
       "      <td>ETM</td>\n",
       "      <td>NaN</td>\n",
       "      <td>NaN</td>\n",
       "      <td>None</td>\n",
       "      <td>NaN</td>\n",
       "      <td>LEDAPS</td>\n",
       "      <td>LANDSAT_7</td>\n",
       "      <td>NaN</td>\n",
       "      <td>NaN</td>\n",
       "      <td>NetCDF</td>\n",
       "      <td>NaN</td>\n",
       "      <td>EPSG:4326</td>\n",
       "      <td>[-0.000269494585236, 0.000269494585236]</td>\n",
       "      <td>[0.943231048326, 0.943231048326]</td>\n",
       "      <td>(latitude, longitude)</td>\n",
       "    </tr>\n",
       "    <tr>\n",
       "      <th>9</th>\n",
       "      <td>ls8_collections_sr_scene</td>\n",
       "      <td>Landsat 8 USGS Collection 1 Higher Level SR sc...</td>\n",
       "      <td>OLI_TIRS</td>\n",
       "      <td>NaN</td>\n",
       "      <td>NaN</td>\n",
       "      <td>None</td>\n",
       "      <td>NaN</td>\n",
       "      <td>LaSRC</td>\n",
       "      <td>LANDSAT_8</td>\n",
       "      <td>NaN</td>\n",
       "      <td>NaN</td>\n",
       "      <td>GeoTiff</td>\n",
       "      <td>NaN</td>\n",
       "      <td>NaN</td>\n",
       "      <td>NaN</td>\n",
       "      <td>NaN</td>\n",
       "      <td>NaN</td>\n",
       "    </tr>\n",
       "    <tr>\n",
       "      <th>71</th>\n",
       "      <td>ls8_collections_sr_scene_lean</td>\n",
       "      <td>Landsat 8 USGS Collection 1 Higher Level SR sc...</td>\n",
       "      <td>OLI_TIRS1</td>\n",
       "      <td>NaN</td>\n",
       "      <td>NaN</td>\n",
       "      <td>None</td>\n",
       "      <td>NaN</td>\n",
       "      <td>LaSRC</td>\n",
       "      <td>LANDSAT_8</td>\n",
       "      <td>NaN</td>\n",
       "      <td>NaN</td>\n",
       "      <td>GeoTiff</td>\n",
       "      <td>NaN</td>\n",
       "      <td>NaN</td>\n",
       "      <td>NaN</td>\n",
       "      <td>NaN</td>\n",
       "      <td>NaN</td>\n",
       "    </tr>\n",
       "    <tr>\n",
       "      <th>37</th>\n",
       "      <td>ls8_lasrc_caqueta</td>\n",
       "      <td>Landsat 8 USGS Collection 1 Higher Level SR sc...</td>\n",
       "      <td>OLI_TIRS</td>\n",
       "      <td>NaN</td>\n",
       "      <td>NaN</td>\n",
       "      <td>None</td>\n",
       "      <td>NaN</td>\n",
       "      <td>LaSRC</td>\n",
       "      <td>LANDSAT_8</td>\n",
       "      <td>NaN</td>\n",
       "      <td>NaN</td>\n",
       "      <td>NetCDF</td>\n",
       "      <td>NaN</td>\n",
       "      <td>EPSG:4326</td>\n",
       "      <td>[-0.000269494585236, 0.000269494585236]</td>\n",
       "      <td>[0.538989170472, 0.538989170472]</td>\n",
       "      <td>(latitude, longitude)</td>\n",
       "    </tr>\n",
       "    <tr>\n",
       "      <th>32</th>\n",
       "      <td>ls8_lasrc_lake_chad_full</td>\n",
       "      <td>Landsat 8 USGS Collection 1 Higher Level SR sc...</td>\n",
       "      <td>OLI_TIRS</td>\n",
       "      <td>NaN</td>\n",
       "      <td>NaN</td>\n",
       "      <td>None</td>\n",
       "      <td>NaN</td>\n",
       "      <td>LaSRC</td>\n",
       "      <td>LANDSAT_8</td>\n",
       "      <td>NaN</td>\n",
       "      <td>NaN</td>\n",
       "      <td>NetCDF</td>\n",
       "      <td>NaN</td>\n",
       "      <td>EPSG:4326</td>\n",
       "      <td>[-0.000271152, 0.00027769]</td>\n",
       "      <td>[0.813456, 0.83307]</td>\n",
       "      <td>(latitude, longitude)</td>\n",
       "    </tr>\n",
       "    <tr>\n",
       "      <th>33</th>\n",
       "      <td>ls8_lasrc_meta_river</td>\n",
       "      <td>Landsat 8 USGS Collection 1 Higher Level SR sc...</td>\n",
       "      <td>OLI_TIRS</td>\n",
       "      <td>NaN</td>\n",
       "      <td>NaN</td>\n",
       "      <td>None</td>\n",
       "      <td>NaN</td>\n",
       "      <td>LaSRC</td>\n",
       "      <td>LANDSAT_8</td>\n",
       "      <td>NaN</td>\n",
       "      <td>NaN</td>\n",
       "      <td>NetCDF</td>\n",
       "      <td>NaN</td>\n",
       "      <td>EPSG:4326</td>\n",
       "      <td>[-0.00027129679, 0.00027014858]</td>\n",
       "      <td>[0.49999998397, 0.499774873]</td>\n",
       "      <td>(latitude, longitude)</td>\n",
       "    </tr>\n",
       "    <tr>\n",
       "      <th>73</th>\n",
       "      <td>ls8_lasrc_sanagustin</td>\n",
       "      <td>Landsat 8 USGS Collection 1 Higher Level SR sc...</td>\n",
       "      <td>OLI_TIRS1</td>\n",
       "      <td>NaN</td>\n",
       "      <td>NaN</td>\n",
       "      <td>None</td>\n",
       "      <td>NaN</td>\n",
       "      <td>LaSRC</td>\n",
       "      <td>LANDSAT_8</td>\n",
       "      <td>NaN</td>\n",
       "      <td>NaN</td>\n",
       "      <td>NetCDF</td>\n",
       "      <td>NaN</td>\n",
       "      <td>EPSG:4326</td>\n",
       "      <td>[-0.000271309115317046, 0.00026957992707863]</td>\n",
       "      <td>[0.999502780827996, 0.999602369607559]</td>\n",
       "      <td>(latitude, longitude)</td>\n",
       "    </tr>\n",
       "    <tr>\n",
       "      <th>40</th>\n",
       "      <td>ls8_lasrc_uruguay</td>\n",
       "      <td>Landsat 8 USGS Collection 1 Higher Level SR sc...</td>\n",
       "      <td>OLI_TIRS</td>\n",
       "      <td>NaN</td>\n",
       "      <td>NaN</td>\n",
       "      <td>None</td>\n",
       "      <td>NaN</td>\n",
       "      <td>LaSRC</td>\n",
       "      <td>LANDSAT_8</td>\n",
       "      <td>NaN</td>\n",
       "      <td>NaN</td>\n",
       "      <td>NetCDF</td>\n",
       "      <td>NaN</td>\n",
       "      <td>EPSG:4326</td>\n",
       "      <td>[-0.000269494585236, 0.000269494585236]</td>\n",
       "      <td>[0.943231048326, 0.943231048326]</td>\n",
       "      <td>(latitude, longitude)</td>\n",
       "    </tr>\n",
       "    <tr>\n",
       "      <th>34</th>\n",
       "      <td>ls8_lasrc_vietnam</td>\n",
       "      <td>Landsat 8 USGS Collection 1 Higher Level SR sc...</td>\n",
       "      <td>OLI_TIRS</td>\n",
       "      <td>NaN</td>\n",
       "      <td>NaN</td>\n",
       "      <td>None</td>\n",
       "      <td>NaN</td>\n",
       "      <td>LaSRC</td>\n",
       "      <td>LANDSAT_8</td>\n",
       "      <td>NaN</td>\n",
       "      <td>NaN</td>\n",
       "      <td>NetCDF</td>\n",
       "      <td>NaN</td>\n",
       "      <td>EPSG:4326</td>\n",
       "      <td>[-0.000269494585236, 0.000269494585236]</td>\n",
       "      <td>[0.943231048326, 0.943231048326]</td>\n",
       "      <td>(latitude, longitude)</td>\n",
       "    </tr>\n",
       "    <tr>\n",
       "      <th>69</th>\n",
       "      <td>ls8_ledaps_scene</td>\n",
       "      <td>Landsat 8 LEDAPS 25 metre</td>\n",
       "      <td>OLI_TIRS</td>\n",
       "      <td>NaN</td>\n",
       "      <td>NaN</td>\n",
       "      <td>None</td>\n",
       "      <td>NaN</td>\n",
       "      <td>LEDAPS</td>\n",
       "      <td>LANDSAT_8</td>\n",
       "      <td>NaN</td>\n",
       "      <td>NaN</td>\n",
       "      <td>GeoTiff</td>\n",
       "      <td>NaN</td>\n",
       "      <td>NaN</td>\n",
       "      <td>NaN</td>\n",
       "      <td>NaN</td>\n",
       "      <td>NaN</td>\n",
       "    </tr>\n",
       "    <tr>\n",
       "      <th>65</th>\n",
       "      <td>ls8_level1_scene</td>\n",
       "      <td>Landsat 8 Level 1 At-sensor Radiance 25 metre</td>\n",
       "      <td>OLI</td>\n",
       "      <td>NaN</td>\n",
       "      <td>NaN</td>\n",
       "      <td>None</td>\n",
       "      <td>NaN</td>\n",
       "      <td>level1</td>\n",
       "      <td>LANDSAT_8</td>\n",
       "      <td>NaN</td>\n",
       "      <td>NaN</td>\n",
       "      <td>GeoTiff</td>\n",
       "      <td>NaN</td>\n",
       "      <td>NaN</td>\n",
       "      <td>NaN</td>\n",
       "      <td>NaN</td>\n",
       "      <td>NaN</td>\n",
       "    </tr>\n",
       "    <tr>\n",
       "      <th>66</th>\n",
       "      <td>ls8_nbar_scene</td>\n",
       "      <td>Landsat 8 NBAR 25 metre</td>\n",
       "      <td>OLI</td>\n",
       "      <td>NaN</td>\n",
       "      <td>NaN</td>\n",
       "      <td>None</td>\n",
       "      <td>NaN</td>\n",
       "      <td>nbar</td>\n",
       "      <td>LANDSAT_8</td>\n",
       "      <td>NaN</td>\n",
       "      <td>NaN</td>\n",
       "      <td>GeoTiff</td>\n",
       "      <td>NaN</td>\n",
       "      <td>NaN</td>\n",
       "      <td>NaN</td>\n",
       "      <td>NaN</td>\n",
       "      <td>NaN</td>\n",
       "    </tr>\n",
       "    <tr>\n",
       "      <th>67</th>\n",
       "      <td>ls8_nbart_scene</td>\n",
       "      <td>Landsat 8 NBART 25 metre</td>\n",
       "      <td>OLI</td>\n",
       "      <td>NaN</td>\n",
       "      <td>NaN</td>\n",
       "      <td>None</td>\n",
       "      <td>NaN</td>\n",
       "      <td>nbart</td>\n",
       "      <td>LANDSAT_8</td>\n",
       "      <td>NaN</td>\n",
       "      <td>NaN</td>\n",
       "      <td>GeoTiff</td>\n",
       "      <td>NaN</td>\n",
       "      <td>NaN</td>\n",
       "      <td>NaN</td>\n",
       "      <td>NaN</td>\n",
       "      <td>NaN</td>\n",
       "    </tr>\n",
       "    <tr>\n",
       "      <th>68</th>\n",
       "      <td>ls8_pq_scene</td>\n",
       "      <td>Landsat 8 PQ 25 metre</td>\n",
       "      <td>ETM</td>\n",
       "      <td>NaN</td>\n",
       "      <td>NaN</td>\n",
       "      <td>None</td>\n",
       "      <td>NaN</td>\n",
       "      <td>pqa</td>\n",
       "      <td>LANDSAT_8</td>\n",
       "      <td>NaN</td>\n",
       "      <td>NaN</td>\n",
       "      <td>GeoTiff</td>\n",
       "      <td>NaN</td>\n",
       "      <td>NaN</td>\n",
       "      <td>NaN</td>\n",
       "      <td>NaN</td>\n",
       "      <td>NaN</td>\n",
       "    </tr>\n",
       "    <tr>\n",
       "      <th>64</th>\n",
       "      <td>ls8_satellite_telemetry_data</td>\n",
       "      <td>Landsat 8 Satellite Telemetry Data</td>\n",
       "      <td>OLI</td>\n",
       "      <td>NaN</td>\n",
       "      <td>NaN</td>\n",
       "      <td>None</td>\n",
       "      <td>NaN</td>\n",
       "      <td>satellite_telemetry_data</td>\n",
       "      <td>LANDSAT_8</td>\n",
       "      <td>NaN</td>\n",
       "      <td>NaN</td>\n",
       "      <td>NaN</td>\n",
       "      <td>NaN</td>\n",
       "      <td>NaN</td>\n",
       "      <td>NaN</td>\n",
       "      <td>NaN</td>\n",
       "      <td>NaN</td>\n",
       "    </tr>\n",
       "    <tr>\n",
       "      <th>57</th>\n",
       "      <td>s1_gamma0_colombia</td>\n",
       "      <td>Sentinel-1A/B SAR Gamma0, processed to the CEO...</td>\n",
       "      <td>SAR</td>\n",
       "      <td>NaN</td>\n",
       "      <td>NaN</td>\n",
       "      <td>None</td>\n",
       "      <td>NaN</td>\n",
       "      <td>gamma0</td>\n",
       "      <td>SENTINEL_1</td>\n",
       "      <td>NaN</td>\n",
       "      <td>NaN</td>\n",
       "      <td>NetCDF</td>\n",
       "      <td>NaN</td>\n",
       "      <td>EPSG:4326</td>\n",
       "      <td>[-0.000269715032, 0.000269715032]</td>\n",
       "      <td>[0.809145096, 0.809145096]</td>\n",
       "      <td>(latitude, longitude)</td>\n",
       "    </tr>\n",
       "    <tr>\n",
       "      <th>58</th>\n",
       "      <td>s1_gamma0_lake_chad</td>\n",
       "      <td>Sentinel-1A/B SAR Gamma0, processed to the CEO...</td>\n",
       "      <td>SAR</td>\n",
       "      <td>NaN</td>\n",
       "      <td>NaN</td>\n",
       "      <td>None</td>\n",
       "      <td>NaN</td>\n",
       "      <td>gamma0</td>\n",
       "      <td>SENTINEL_1</td>\n",
       "      <td>NaN</td>\n",
       "      <td>NaN</td>\n",
       "      <td>NetCDF</td>\n",
       "      <td>NaN</td>\n",
       "      <td>EPSG:4326</td>\n",
       "      <td>[-0.000269715032, 0.000269715032]</td>\n",
       "      <td>[0.809145096, 0.809145096]</td>\n",
       "      <td>(latitude, longitude)</td>\n",
       "    </tr>\n",
       "    <tr>\n",
       "      <th>59</th>\n",
       "      <td>s1_gamma0_menindee_lakes</td>\n",
       "      <td>Sentinel-1A/B SAR Gamma0, processed to the CEO...</td>\n",
       "      <td>SAR</td>\n",
       "      <td>NaN</td>\n",
       "      <td>NaN</td>\n",
       "      <td>None</td>\n",
       "      <td>NaN</td>\n",
       "      <td>gamma0</td>\n",
       "      <td>SENTINEL_1</td>\n",
       "      <td>NaN</td>\n",
       "      <td>NaN</td>\n",
       "      <td>NetCDF</td>\n",
       "      <td>NaN</td>\n",
       "      <td>EPSG:4326</td>\n",
       "      <td>[-0.000269715032, 0.000269715032]</td>\n",
       "      <td>[0.809145096, 0.809145096]</td>\n",
       "      <td>(latitude, longitude)</td>\n",
       "    </tr>\n",
       "    <tr>\n",
       "      <th>10</th>\n",
       "      <td>s1_gamma0_scene</td>\n",
       "      <td>Sentinel-1A/B SAR Gamma0 scenes, processed to ...</td>\n",
       "      <td>SAR</td>\n",
       "      <td>NaN</td>\n",
       "      <td>NaN</td>\n",
       "      <td>None</td>\n",
       "      <td>NaN</td>\n",
       "      <td>gamma0</td>\n",
       "      <td>SENTINEL_1</td>\n",
       "      <td>NaN</td>\n",
       "      <td>NaN</td>\n",
       "      <td>ENVI</td>\n",
       "      <td>NaN</td>\n",
       "      <td>NaN</td>\n",
       "      <td>NaN</td>\n",
       "      <td>NaN</td>\n",
       "      <td>NaN</td>\n",
       "    </tr>\n",
       "    <tr>\n",
       "      <th>60</th>\n",
       "      <td>s1_gamma0_vietnam</td>\n",
       "      <td>Sentinel-1A/B SAR Gamma0, processed to the CEO...</td>\n",
       "      <td>SAR</td>\n",
       "      <td>NaN</td>\n",
       "      <td>NaN</td>\n",
       "      <td>None</td>\n",
       "      <td>NaN</td>\n",
       "      <td>gamma0</td>\n",
       "      <td>SENTINEL_1</td>\n",
       "      <td>NaN</td>\n",
       "      <td>NaN</td>\n",
       "      <td>NetCDF</td>\n",
       "      <td>NaN</td>\n",
       "      <td>EPSG:4326</td>\n",
       "      <td>[-0.000269715032, 0.000269715032]</td>\n",
       "      <td>[0.809145096, 0.809145096]</td>\n",
       "      <td>(latitude, longitude)</td>\n",
       "    </tr>\n",
       "    <tr>\n",
       "      <th>13</th>\n",
       "      <td>terra_aster_gdm_salgar_colombia</td>\n",
       "      <td>Terra Aster -- metre, UTM 36 projection</td>\n",
       "      <td>ASTER</td>\n",
       "      <td>NaN</td>\n",
       "      <td>NaN</td>\n",
       "      <td>None</td>\n",
       "      <td>NaN</td>\n",
       "      <td>GDEM_V2</td>\n",
       "      <td>TERRA</td>\n",
       "      <td>NaN</td>\n",
       "      <td>NaN</td>\n",
       "      <td>NetCDF</td>\n",
       "      <td>NaN</td>\n",
       "      <td>EPSG:4326</td>\n",
       "      <td>[-0.000271285, 0.000270849]</td>\n",
       "      <td>[0.9494975, 0.9479715]</td>\n",
       "      <td>(latitude, longitude)</td>\n",
       "    </tr>\n",
       "    <tr>\n",
       "      <th>3</th>\n",
       "      <td>terra_aster_gdm_v2_scene</td>\n",
       "      <td>Global Elevation Data from TERRA stallite's AS...</td>\n",
       "      <td>ASTER</td>\n",
       "      <td>NaN</td>\n",
       "      <td>NaN</td>\n",
       "      <td>None</td>\n",
       "      <td>NaN</td>\n",
       "      <td>GDEM_V2</td>\n",
       "      <td>TERRA</td>\n",
       "      <td>NaN</td>\n",
       "      <td>NaN</td>\n",
       "      <td>GeoTiff</td>\n",
       "      <td>NaN</td>\n",
       "      <td>NaN</td>\n",
       "      <td>NaN</td>\n",
       "      <td>NaN</td>\n",
       "      <td>NaN</td>\n",
       "    </tr>\n",
       "  </tbody>\n",
       "</table>\n",
       "</div>"
      ],
      "text/plain": [
       "                                  name  \\\n",
       "id                                       \n",
       "46           alos2_jjfast_scansar_tile   \n",
       "61  alos2_jjfast_scansar_tile_colombia   \n",
       "50               alos2_palsar_colombia   \n",
       "51                  alos2_palsar_kenya   \n",
       "48                   alos2_palsar_tile   \n",
       "52                alos2_palsar_vietnam   \n",
       "53                alos_palsar_colombia   \n",
       "54                   alos_palsar_kenya   \n",
       "47                    alos_palsar_tile   \n",
       "55                 alos_palsar_vietnam   \n",
       "5                  gpm_imerg_gis_daily   \n",
       "14          gpm_imerg_gis_daily_global   \n",
       "6                 gpm_imerg_gis_hourly   \n",
       "4                gpm_imerg_gis_monthly   \n",
       "15        gpm_imerg_gis_monthly_global   \n",
       "7             ls5_collections_sr_scene   \n",
       "17               ls5_ledaps_bangladesh   \n",
       "18           ls5_ledaps_lake_chad_full   \n",
       "8             ls7_collections_sr_scene   \n",
       "70       ls7_collections_sr_scene_lean   \n",
       "19             ls7_ledaps_amazon_river   \n",
       "20               ls7_ledaps_bangladesh   \n",
       "35          ls7_ledaps_bangladesh_bari   \n",
       "36                  ls7_ledaps_caqueta   \n",
       "21                 ls7_ledaps_colombia   \n",
       "22                    ls7_ledaps_ghana   \n",
       "23                    ls7_ledaps_kenya   \n",
       "41             ls7_ledaps_lake_baringo   \n",
       "24           ls7_ledaps_lake_chad_full   \n",
       "25             ls7_ledaps_lake_cortijo   \n",
       "26           ls7_ledaps_menindee_lakes   \n",
       "27               ls7_ledaps_meta_river   \n",
       "62                   ls7_ledaps_mexico   \n",
       "28          ls7_ledaps_salgar_colombia   \n",
       "72               ls7_ledaps_sanagustin   \n",
       "63                    ls7_ledaps_scene   \n",
       "29                     ls7_ledaps_togo   \n",
       "30                    ls7_ledaps_tonga   \n",
       "31                  ls7_ledaps_vietnam   \n",
       "9             ls8_collections_sr_scene   \n",
       "71       ls8_collections_sr_scene_lean   \n",
       "37                   ls8_lasrc_caqueta   \n",
       "32            ls8_lasrc_lake_chad_full   \n",
       "33                ls8_lasrc_meta_river   \n",
       "73                ls8_lasrc_sanagustin   \n",
       "40                   ls8_lasrc_uruguay   \n",
       "34                   ls8_lasrc_vietnam   \n",
       "69                    ls8_ledaps_scene   \n",
       "65                    ls8_level1_scene   \n",
       "66                      ls8_nbar_scene   \n",
       "67                     ls8_nbart_scene   \n",
       "68                        ls8_pq_scene   \n",
       "64        ls8_satellite_telemetry_data   \n",
       "57                  s1_gamma0_colombia   \n",
       "58                 s1_gamma0_lake_chad   \n",
       "59            s1_gamma0_menindee_lakes   \n",
       "10                     s1_gamma0_scene   \n",
       "60                   s1_gamma0_vietnam   \n",
       "13     terra_aster_gdm_salgar_colombia   \n",
       "3             terra_aster_gdm_v2_scene   \n",
       "\n",
       "                                          description instrument  lat  lon  \\\n",
       "id                                                                           \n",
       "46  ALOS-2 PALSAR JJ-FAST mosaic tiles generated f...     PALSAR  NaN  NaN   \n",
       "61  ALOS2 PALSAR JJFAST tile in DN format processe...     PALSAR  NaN  NaN   \n",
       "50  ALOS2 PALSAR tile in DN format processed for t...     PALSAR  NaN  NaN   \n",
       "51  ALOS2 PALSAR tile in DN format processed for t...     PALSAR  NaN  NaN   \n",
       "48  ALOS-2 PALSAR mosaic tiles generated for use i...     PALSAR  NaN  NaN   \n",
       "52  ALOS2 PALSAR tile in DN format processed for t...     PALSAR  NaN  NaN   \n",
       "53  ALOS PALSAR tile in DN format processed for th...     PALSAR  NaN  NaN   \n",
       "54  ALOS PALSAR tile in DN format processed for th...     PALSAR  NaN  NaN   \n",
       "47  ALOS PALSAR mosaic tiles generated for use in ...     PALSAR  NaN  NaN   \n",
       "55  ALOS PALSAR tile in DN format processed for th...     PALSAR  NaN  NaN   \n",
       "5   GIS translation of the imerg data product. Mul...        GPM  NaN  NaN   \n",
       "14                   Global NetCDF GPM IMERG GIS data        GPM  NaN  NaN   \n",
       "6   GIS translation of the imerg data product. Mul...        GPM  NaN  NaN   \n",
       "4   GIS translation of the imerg data product. Mul...        GPM  NaN  NaN   \n",
       "15                   Global NetCDF GPM IMERG GIS data        GPM  NaN  NaN   \n",
       "7   Landsat 5 USGS Collection 1 Higher Level SR sc...         TM  NaN  NaN   \n",
       "17  Landsat 5 USGS Collection 1 Higher Level SR sc...         TM  NaN  NaN   \n",
       "18  Landsat 5 USGS Collection 1 Higher Level SR sc...         TM  NaN  NaN   \n",
       "8   Landsat 7 USGS Collection 1 Higher Level SR sc...        ETM  NaN  NaN   \n",
       "70  Landsat 7 USGS Collection 1 Higher Level SR sc...       ETM1  NaN  NaN   \n",
       "19  Landsat 7 USGS Collection 1 Higher Level SR sc...        ETM  NaN  NaN   \n",
       "20  Landsat 7 USGS Collection 1 Higher Level SR sc...        ETM  NaN  NaN   \n",
       "35  Landsat 7 USGS Collection 1 Higher Level SR sc...        ETM  NaN  NaN   \n",
       "36  Landsat 7 USGS Collection 1 Higher Level SR sc...        ETM  NaN  NaN   \n",
       "21  Landsat 7 USGS Collection 1 Higher Level SR sc...        ETM  NaN  NaN   \n",
       "22  Landsat 7 USGS Collection 1 Higher Level SR sc...        ETM  NaN  NaN   \n",
       "23  Landsat 7 USGS Collection 1 Higher Level SR sc...        ETM  NaN  NaN   \n",
       "41  Landsat 7 USGS Collection 1 Higher Level SR sc...        ETM  NaN  NaN   \n",
       "24  Landsat 7 USGS Collection 1 Higher Level SR sc...        ETM  NaN  NaN   \n",
       "25  Landsat 7 USGS Collection 1 Higher Level SR sc...        ETM  NaN  NaN   \n",
       "26  Landsat 7 USGS Collection 1 Higher Level SR sc...        ETM  NaN  NaN   \n",
       "27  Landsat 7 USGS Collection 1 Higher Level SR sc...        ETM  NaN  NaN   \n",
       "62  Landsat 7 USGS Collection 1 Higher Level SR sc...        ETM  NaN  NaN   \n",
       "28  Landsat 7 USGS Collection 1 Higher Level SR sc...        ETM  NaN  NaN   \n",
       "72  Landsat 7 USGS Collection 1 Higher Level SR sc...       ETM1  NaN  NaN   \n",
       "63  Landsat 7 LEDAPS 30 metre. Will be used for al...        ETM  NaN  NaN   \n",
       "29  Landsat 7 USGS Collection 1 Higher Level SR sc...        ETM  NaN  NaN   \n",
       "30  Landsat 7 USGS Collection 1 Higher Level SR sc...        ETM  NaN  NaN   \n",
       "31  Landsat 7 USGS Collection 1 Higher Level SR sc...        ETM  NaN  NaN   \n",
       "9   Landsat 8 USGS Collection 1 Higher Level SR sc...   OLI_TIRS  NaN  NaN   \n",
       "71  Landsat 8 USGS Collection 1 Higher Level SR sc...  OLI_TIRS1  NaN  NaN   \n",
       "37  Landsat 8 USGS Collection 1 Higher Level SR sc...   OLI_TIRS  NaN  NaN   \n",
       "32  Landsat 8 USGS Collection 1 Higher Level SR sc...   OLI_TIRS  NaN  NaN   \n",
       "33  Landsat 8 USGS Collection 1 Higher Level SR sc...   OLI_TIRS  NaN  NaN   \n",
       "73  Landsat 8 USGS Collection 1 Higher Level SR sc...  OLI_TIRS1  NaN  NaN   \n",
       "40  Landsat 8 USGS Collection 1 Higher Level SR sc...   OLI_TIRS  NaN  NaN   \n",
       "34  Landsat 8 USGS Collection 1 Higher Level SR sc...   OLI_TIRS  NaN  NaN   \n",
       "69                          Landsat 8 LEDAPS 25 metre   OLI_TIRS  NaN  NaN   \n",
       "65      Landsat 8 Level 1 At-sensor Radiance 25 metre        OLI  NaN  NaN   \n",
       "66                            Landsat 8 NBAR 25 metre        OLI  NaN  NaN   \n",
       "67                           Landsat 8 NBART 25 metre        OLI  NaN  NaN   \n",
       "68                              Landsat 8 PQ 25 metre        ETM  NaN  NaN   \n",
       "64                 Landsat 8 Satellite Telemetry Data        OLI  NaN  NaN   \n",
       "57  Sentinel-1A/B SAR Gamma0, processed to the CEO...        SAR  NaN  NaN   \n",
       "58  Sentinel-1A/B SAR Gamma0, processed to the CEO...        SAR  NaN  NaN   \n",
       "59  Sentinel-1A/B SAR Gamma0, processed to the CEO...        SAR  NaN  NaN   \n",
       "10  Sentinel-1A/B SAR Gamma0 scenes, processed to ...        SAR  NaN  NaN   \n",
       "60  Sentinel-1A/B SAR Gamma0, processed to the CEO...        SAR  NaN  NaN   \n",
       "13            Terra Aster -- metre, UTM 36 projection      ASTER  NaN  NaN   \n",
       "3   Global Elevation Data from TERRA stallite's AS...      ASTER  NaN  NaN   \n",
       "\n",
       "    time  sat_path              product_type    platform  orbit  sat_row  \\\n",
       "id                                                                         \n",
       "46  None       NaN                      tile      ALOS_2    NaN      NaN   \n",
       "61  None       NaN                      tile      ALOS_2    NaN      NaN   \n",
       "50  None       NaN                    gamma0      ALOS_2    NaN      NaN   \n",
       "51  None       NaN                    gamma0      ALOS_2    NaN      NaN   \n",
       "48  None       NaN                    gamma0      ALOS_2    NaN      NaN   \n",
       "52  None       NaN                    gamma0      ALOS_2    NaN      NaN   \n",
       "53  None       NaN                    gamma0        ALOS    NaN      NaN   \n",
       "54  None       NaN                    gamma0        ALOS    NaN      NaN   \n",
       "47  None       NaN                    gamma0        ALOS    NaN      NaN   \n",
       "55  None       NaN                    gamma0        ALOS    NaN      NaN   \n",
       "5   None       NaN                     daily         GPM    NaN      NaN   \n",
       "14  None       NaN                     daily         GPM    NaN      NaN   \n",
       "6   None       NaN                    hourly         GPM    NaN      NaN   \n",
       "4   None       NaN                   monthly         GPM    NaN      NaN   \n",
       "15  None       NaN                   monthly         GPM    NaN      NaN   \n",
       "7   None       NaN                    LEDAPS   LANDSAT_5    NaN      NaN   \n",
       "17  None       NaN                    LEDAPS   LANDSAT_5    NaN      NaN   \n",
       "18  None       NaN                    LEDAPS   LANDSAT_5    NaN      NaN   \n",
       "8   None       NaN                    LEDAPS   LANDSAT_7    NaN      NaN   \n",
       "70  None       NaN                    LEDAPS   LANDSAT_7    NaN      NaN   \n",
       "19  None       NaN                    LEDAPS   LANDSAT_7    NaN      NaN   \n",
       "20  None       NaN                    LEDAPS   LANDSAT_7    NaN      NaN   \n",
       "35  None       NaN                    LEDAPS   LANDSAT_7    NaN      NaN   \n",
       "36  None       NaN                    LEDAPS   LANDSAT_7    NaN      NaN   \n",
       "21  None       NaN                    LEDAPS   LANDSAT_7    NaN      NaN   \n",
       "22  None       NaN                    LEDAPS   LANDSAT_7    NaN      NaN   \n",
       "23  None       NaN                    LEDAPS   LANDSAT_7    NaN      NaN   \n",
       "41  None       NaN                    LEDAPS   LANDSAT_7    NaN      NaN   \n",
       "24  None       NaN                    LEDAPS   LANDSAT_7    NaN      NaN   \n",
       "25  None       NaN                    LEDAPS   LANDSAT_7    NaN      NaN   \n",
       "26  None       NaN                    LEDAPS   LANDSAT_7    NaN      NaN   \n",
       "27  None       NaN                    LEDAPS   LANDSAT_7    NaN      NaN   \n",
       "62  None       NaN                    LEDAPS   LANDSAT_7    NaN      NaN   \n",
       "28  None       NaN                    LEDAPS   LANDSAT_7    NaN      NaN   \n",
       "72  None       NaN                    LEDAPS   LANDSAT_7    NaN      NaN   \n",
       "63  None       NaN                    ledaps   LANDSAT_7    NaN      NaN   \n",
       "29  None       NaN                    LEDAPS   LANDSAT_7    NaN      NaN   \n",
       "30  None       NaN                    LEDAPS   LANDSAT_7    NaN      NaN   \n",
       "31  None       NaN                    LEDAPS   LANDSAT_7    NaN      NaN   \n",
       "9   None       NaN                     LaSRC   LANDSAT_8    NaN      NaN   \n",
       "71  None       NaN                     LaSRC   LANDSAT_8    NaN      NaN   \n",
       "37  None       NaN                     LaSRC   LANDSAT_8    NaN      NaN   \n",
       "32  None       NaN                     LaSRC   LANDSAT_8    NaN      NaN   \n",
       "33  None       NaN                     LaSRC   LANDSAT_8    NaN      NaN   \n",
       "73  None       NaN                     LaSRC   LANDSAT_8    NaN      NaN   \n",
       "40  None       NaN                     LaSRC   LANDSAT_8    NaN      NaN   \n",
       "34  None       NaN                     LaSRC   LANDSAT_8    NaN      NaN   \n",
       "69  None       NaN                    LEDAPS   LANDSAT_8    NaN      NaN   \n",
       "65  None       NaN                    level1   LANDSAT_8    NaN      NaN   \n",
       "66  None       NaN                      nbar   LANDSAT_8    NaN      NaN   \n",
       "67  None       NaN                     nbart   LANDSAT_8    NaN      NaN   \n",
       "68  None       NaN                       pqa   LANDSAT_8    NaN      NaN   \n",
       "64  None       NaN  satellite_telemetry_data   LANDSAT_8    NaN      NaN   \n",
       "57  None       NaN                    gamma0  SENTINEL_1    NaN      NaN   \n",
       "58  None       NaN                    gamma0  SENTINEL_1    NaN      NaN   \n",
       "59  None       NaN                    gamma0  SENTINEL_1    NaN      NaN   \n",
       "10  None       NaN                    gamma0  SENTINEL_1    NaN      NaN   \n",
       "60  None       NaN                    gamma0  SENTINEL_1    NaN      NaN   \n",
       "13  None       NaN                   GDEM_V2       TERRA    NaN      NaN   \n",
       "3   None       NaN                   GDEM_V2       TERRA    NaN      NaN   \n",
       "\n",
       "     format  gsi        crs                                    resolution  \\\n",
       "id                                                                          \n",
       "46  GeoTiff  NaN        NaN                                           NaN   \n",
       "61   NetCDF  NaN  EPSG:4326           [-0.0002666666667, 0.0002666666667]   \n",
       "50   NetCDF  NaN  EPSG:4326           [-0.0002666666667, 0.0002666666667]   \n",
       "51   NetCDF  NaN  EPSG:4326           [-0.0002666666667, 0.0002666666667]   \n",
       "48  GeoTiff  NaN        NaN                                           NaN   \n",
       "52   NetCDF  NaN  EPSG:4326           [-0.0002666666667, 0.0002666666667]   \n",
       "53   NetCDF  NaN  EPSG:4326           [-0.0002666666667, 0.0002666666667]   \n",
       "54   NetCDF  NaN  EPSG:4326           [-0.0002666666667, 0.0002666666667]   \n",
       "47  GeoTiff  NaN        NaN                                           NaN   \n",
       "55   NetCDF  NaN  EPSG:4326           [-0.0002666666667, 0.0002666666667]   \n",
       "5   GeoTiff  NaN        NaN                                           NaN   \n",
       "14   NetCDF  NaN  EPSG:4326                                   [-0.1, 0.1]   \n",
       "6   GeoTiff  NaN        NaN                                           NaN   \n",
       "4   GeoTiff  NaN        NaN                                           NaN   \n",
       "15   NetCDF  NaN  EPSG:4326                                   [-0.1, 0.1]   \n",
       "7   GeoTiff  NaN        NaN                                           NaN   \n",
       "17   NetCDF  NaN  EPSG:4326                   [-0.000270861, 0.000294834]   \n",
       "18   NetCDF  NaN  EPSG:4326                    [-0.000271152, 0.00027769]   \n",
       "8   GeoTiff  NaN        NaN                                           NaN   \n",
       "70  GeoTiff  NaN        NaN                                           NaN   \n",
       "19   NetCDF  NaN  EPSG:4326                   [-0.000271302, 0.000269995]   \n",
       "20   NetCDF  NaN  EPSG:4326                   [-0.000270861, 0.000294834]   \n",
       "35   NetCDF  NaN  EPSG:4326                   [-0.000270861, 0.000294834]   \n",
       "36   NetCDF  NaN  EPSG:4326       [-0.000269494585236, 0.000269494585236]   \n",
       "21   NetCDF  NaN  EPSG:4326                   [-0.000271307, 0.000269505]   \n",
       "22   NetCDF  NaN  EPSG:4326       [-0.000269494585236, 0.000269494585236]   \n",
       "23   NetCDF  NaN  EPSG:4326                   [-0.000269493, 0.000269493]   \n",
       "41   NetCDF  NaN  EPSG:4326                   [-0.000269493, 0.000269493]   \n",
       "24   NetCDF  NaN  EPSG:4326                    [-0.000271152, 0.00027769]   \n",
       "25   NetCDF  NaN  EPSG:4326                   [-0.000271297, 0.000270148]   \n",
       "26   NetCDF  NaN  EPSG:4326                   [-0.000270523, 0.000319227]   \n",
       "27   NetCDF  NaN  EPSG:4326               [-0.00027129679, 0.00027014858]   \n",
       "62   NetCDF  NaN  EPSG:4326                [-0.00027098518, 0.0002870971]   \n",
       "28   NetCDF  NaN  EPSG:4326                   [-0.000271285, 0.000270849]   \n",
       "72   NetCDF  NaN  EPSG:4326  [-0.000271309115317046, 0.00026957992707863]   \n",
       "63  GeoTiff  NaN        NaN                                           NaN   \n",
       "29   NetCDF  NaN  EPSG:4326                   [-0.000271285, 0.000270971]   \n",
       "30   NetCDF  NaN  EPSG:4326                   [-0.000270961, 0.000280452]   \n",
       "31   NetCDF  NaN  EPSG:4326       [-0.000269494585236, 0.000269494585236]   \n",
       "9   GeoTiff  NaN        NaN                                           NaN   \n",
       "71  GeoTiff  NaN        NaN                                           NaN   \n",
       "37   NetCDF  NaN  EPSG:4326       [-0.000269494585236, 0.000269494585236]   \n",
       "32   NetCDF  NaN  EPSG:4326                    [-0.000271152, 0.00027769]   \n",
       "33   NetCDF  NaN  EPSG:4326               [-0.00027129679, 0.00027014858]   \n",
       "73   NetCDF  NaN  EPSG:4326  [-0.000271309115317046, 0.00026957992707863]   \n",
       "40   NetCDF  NaN  EPSG:4326       [-0.000269494585236, 0.000269494585236]   \n",
       "34   NetCDF  NaN  EPSG:4326       [-0.000269494585236, 0.000269494585236]   \n",
       "69  GeoTiff  NaN        NaN                                           NaN   \n",
       "65  GeoTiff  NaN        NaN                                           NaN   \n",
       "66  GeoTiff  NaN        NaN                                           NaN   \n",
       "67  GeoTiff  NaN        NaN                                           NaN   \n",
       "68  GeoTiff  NaN        NaN                                           NaN   \n",
       "64      NaN  NaN        NaN                                           NaN   \n",
       "57   NetCDF  NaN  EPSG:4326             [-0.000269715032, 0.000269715032]   \n",
       "58   NetCDF  NaN  EPSG:4326             [-0.000269715032, 0.000269715032]   \n",
       "59   NetCDF  NaN  EPSG:4326             [-0.000269715032, 0.000269715032]   \n",
       "10     ENVI  NaN        NaN                                           NaN   \n",
       "60   NetCDF  NaN  EPSG:4326             [-0.000269715032, 0.000269715032]   \n",
       "13   NetCDF  NaN  EPSG:4326                   [-0.000271285, 0.000270849]   \n",
       "3   GeoTiff  NaN        NaN                                           NaN   \n",
       "\n",
       "                                 tile_size     spatial_dimensions  \n",
       "id                                                                 \n",
       "46                                     NaN                    NaN  \n",
       "61            [0.5333333334, 0.5333333334]  (latitude, longitude)  \n",
       "50            [0.5333333334, 0.5333333334]  (latitude, longitude)  \n",
       "51            [0.5333333334, 0.5333333334]  (latitude, longitude)  \n",
       "48                                     NaN                    NaN  \n",
       "52            [0.5333333334, 0.5333333334]  (latitude, longitude)  \n",
       "53            [0.5333333334, 0.5333333334]  (latitude, longitude)  \n",
       "54            [0.5333333334, 0.5333333334]  (latitude, longitude)  \n",
       "47                                     NaN                    NaN  \n",
       "55            [0.5333333334, 0.5333333334]  (latitude, longitude)  \n",
       "5                                      NaN                    NaN  \n",
       "14                               [90, 180]  (latitude, longitude)  \n",
       "6                                      NaN                    NaN  \n",
       "4                                      NaN                    NaN  \n",
       "15                               [90, 180]  (latitude, longitude)  \n",
       "7                                      NaN                    NaN  \n",
       "17                    [0.812583, 0.884502]  (latitude, longitude)  \n",
       "18                     [0.813456, 0.83307]  (latitude, longitude)  \n",
       "8                                      NaN                    NaN  \n",
       "70                                     NaN                    NaN  \n",
       "19                    [0.813906, 0.809985]  (latitude, longitude)  \n",
       "20                    [0.812583, 0.884502]  (latitude, longitude)  \n",
       "35                    [0.812583, 0.884502]  (latitude, longitude)  \n",
       "36        [0.538989170472, 0.538989170472]  (latitude, longitude)  \n",
       "21                  [0.9495745, 0.9432675]  (latitude, longitude)  \n",
       "22        [0.943231048326, 0.943231048326]  (latitude, longitude)  \n",
       "23                [0.99981903, 0.99981903]  (latitude, longitude)  \n",
       "41              [0.249820011, 0.249820011]  (latitude, longitude)  \n",
       "24                     [0.813456, 0.83307]  (latitude, longitude)  \n",
       "25                    [0.813891, 0.810444]  (latitude, longitude)  \n",
       "26                  [0.9468305, 1.1172945]  (latitude, longitude)  \n",
       "27            [0.49999998397, 0.499774873]  (latitude, longitude)  \n",
       "62            [0.9999353142, 0.9995961993]  (latitude, longitude)  \n",
       "28                  [0.9494975, 0.9479715]  (latitude, longitude)  \n",
       "72  [0.999502780827996, 0.999602369607559]  (latitude, longitude)  \n",
       "63                                     NaN                    NaN  \n",
       "29                    [0.813855, 0.812913]  (latitude, longitude)  \n",
       "30                    [0.812883, 0.841356]  (latitude, longitude)  \n",
       "31        [0.943231048326, 0.943231048326]  (latitude, longitude)  \n",
       "9                                      NaN                    NaN  \n",
       "71                                     NaN                    NaN  \n",
       "37        [0.538989170472, 0.538989170472]  (latitude, longitude)  \n",
       "32                     [0.813456, 0.83307]  (latitude, longitude)  \n",
       "33            [0.49999998397, 0.499774873]  (latitude, longitude)  \n",
       "73  [0.999502780827996, 0.999602369607559]  (latitude, longitude)  \n",
       "40        [0.943231048326, 0.943231048326]  (latitude, longitude)  \n",
       "34        [0.943231048326, 0.943231048326]  (latitude, longitude)  \n",
       "69                                     NaN                    NaN  \n",
       "65                                     NaN                    NaN  \n",
       "66                                     NaN                    NaN  \n",
       "67                                     NaN                    NaN  \n",
       "68                                     NaN                    NaN  \n",
       "64                                     NaN                    NaN  \n",
       "57              [0.809145096, 0.809145096]  (latitude, longitude)  \n",
       "58              [0.809145096, 0.809145096]  (latitude, longitude)  \n",
       "59              [0.809145096, 0.809145096]  (latitude, longitude)  \n",
       "10                                     NaN                    NaN  \n",
       "60              [0.809145096, 0.809145096]  (latitude, longitude)  \n",
       "13                  [0.9494975, 0.9479715]  (latitude, longitude)  \n",
       "3                                      NaN                    NaN  "
      ]
     },
     "execution_count": 6,
     "metadata": {},
     "output_type": "execute_result"
    }
   ],
   "source": [
    "dc.list_products()"
   ]
  },
  {
   "cell_type": "code",
   "execution_count": 7,
   "metadata": {},
   "outputs": [
    {
     "data": {
      "text/html": [
       "<div style=\"width:100%;\"><div style=\"position:relative;width:100%;height:0;padding-bottom:60%;\"><iframe src=\"data:text/html;charset=utf-8;base64,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\" style=\"position:absolute;width:100%;height:100%;left:0;top:0;border:none !important;\" allowfullscreen webkitallowfullscreen mozallowfullscreen></iframe></div></div>"
      ],
      "text/plain": [
       "<folium.folium.Map at 0x7fdc75d0be48>"
      ]
     },
     "execution_count": 7,
     "metadata": {},
     "output_type": "execute_result"
    }
   ],
   "source": [
    "lon = (min_lon, max_lon)\n",
    "lat = (min_lat, max_lat)\n",
    "display_map(lat, lon)"
   ]
  },
  {
   "cell_type": "code",
   "execution_count": 8,
   "metadata": {},
   "outputs": [
    {
     "name": "stdout",
     "output_type": "stream",
     "text": [
      "<xarray.Dataset>\n",
      "Dimensions:    (latitude: 923, longitude: 898, time: 267)\n",
      "Coordinates:\n",
      "  * latitude   (latitude) float64 12.99 12.99 12.99 12.99 12.99 12.99 12.99 ...\n",
      "  * longitude  (longitude) float64 14.24 14.24 14.24 14.24 14.25 14.25 14.25 ...\n",
      "  * time       (time) datetime64[ns] 1984-07-01T08:52:46 1984-08-18T08:54:07 ...\n",
      "Data variables:\n",
      "    blue       (time, latitude, longitude) int16 667 665 698 649 665 665 665 ...\n",
      "    green      (time, latitude, longitude) int16 962 962 997 997 962 997 997 ...\n",
      "    red        (time, latitude, longitude) int16 866 835 835 866 866 897 897 ...\n",
      "    nir        (time, latitude, longitude) int16 3299 3224 3148 3186 3148 ...\n",
      "    swir1      (time, latitude, longitude) int16 1796 1821 1847 1796 1847 ...\n",
      "    swir2      (time, latitude, longitude) int16 869 906 906 832 943 979 906 ...\n",
      "    pixel_qa   (time, latitude, longitude) int32 66 66 66 66 66 66 66 66 66 ...\n",
      "Attributes:\n",
      "    crs:      EPSG:4326\n"
     ]
    }
   ],
   "source": [
    "datasets_in = []\n",
    "\n",
    "measurements = ['blue', 'green', 'red', 'nir', 'swir1', 'swir2', 'pixel_qa']\n",
    "\n",
    "for product,platform in zip(product_list, platform_list):\n",
    "    start_date = datetime.strptime(extent_values[0].value, '%Y-%m-%d')\n",
    "    end_date = datetime.strptime(extent_values[1].value, '%Y-%m-%d')\n",
    "    min_lon = extent_values[2].value\n",
    "    max_lon = extent_values[3].value\n",
    "    min_lat = extent_values[4].value\n",
    "    max_lat = extent_values[5].value\n",
    "\n",
    "    # Query the Data Cube\n",
    "    dataset_in = dc.load(platform  = platform,\n",
    "                         product   = product,\n",
    "                         time      = (start_date, end_date),\n",
    "                         lon       = (min_lon, max_lon), \n",
    "                         lat       = (min_lat, max_lat),\n",
    "                         measurements=measurements)\n",
    "    datasets_in.append(dataset_in.copy(deep=True))\n",
    "complete_dataset = None\n",
    "if len(datasets_in) != 0:\n",
    "    complete_dataset = xr.concat(datasets_in, 'time')\n",
    "else:\n",
    "    complete_dataset = xr.Dataset()\n",
    "datasets_in = None\n",
    "print(complete_dataset)"
   ]
  },
  {
   "cell_type": "markdown",
   "metadata": {},
   "source": [
    "**At this point, we have finished accessing our data cube and we can turn to analyzing our data.** In this example, we will run the WOfS algorithm. The wofs_classify function, seen below, will return a modified dataset, where a value of 1 indicates the pixel has been classified as water by the WoFS algorithm and 0 represents the pixel is non-water. You will see that this output dataset is of the same dimensions as the input dataset. \n",
    "\n",
    "*****\n",
    "\n",
    "For more information on the WOfS algorithm, refer to:\n",
    "\n",
    "Mueller, et al. (2015) \"Water observations from space: Mapping surface water from 25 years of Landsat imagery across Australia.\" *Remote Sensing of Environment*."
   ]
  },
  {
   "cell_type": "code",
   "execution_count": 9,
   "metadata": {},
   "outputs": [],
   "source": [
    "clear_xarray  = ls7_unpack_qa(dataset_in.pixel_qa, \"clear\")\n",
    "water_xarray  = ls7_unpack_qa(dataset_in.pixel_qa, \"water\")\n",
    "clean_mask = np.logical_or(clear_xarray.values.astype(bool),\n",
    "                                water_xarray.values.astype(bool))\n",
    "water_class = wofs_classify(complete_dataset, clean_mask=clean_mask)"
   ]
  },
  {
   "cell_type": "markdown",
   "metadata": {},
   "source": [
    "**Execute the following code and then use the generated form to choose your desired acquisition date.** The following two code blocks are only necessary if you would like to see the water mask of a single acquisition date. "
   ]
  },
  {
   "cell_type": "code",
   "execution_count": 10,
   "metadata": {},
   "outputs": [
    {
     "data": {
      "application/vnd.jupyter.widget-view+json": {
       "model_id": "e6fe224cf13345fbb53cd3cfd557d6ba",
       "version_major": 2,
       "version_minor": 0
      },
      "text/html": [
       "<p>Failed to display Jupyter Widget of type <code>Label</code>.</p>\n",
       "<p>\n",
       "  If you're reading this message in the Jupyter Notebook or JupyterLab Notebook, it may mean\n",
       "  that the widgets JavaScript is still loading. If this message persists, it\n",
       "  likely means that the widgets JavaScript library is either not installed or\n",
       "  not enabled. See the <a href=\"https://ipywidgets.readthedocs.io/en/stable/user_install.html\">Jupyter\n",
       "  Widgets Documentation</a> for setup instructions.\n",
       "</p>\n",
       "<p>\n",
       "  If you're reading this message in another frontend (for example, a static\n",
       "  rendering on GitHub or <a href=\"https://nbviewer.jupyter.org/\">NBViewer</a>),\n",
       "  it may mean that your frontend doesn't currently support widgets.\n",
       "</p>\n"
      ],
      "text/plain": [
       "Label(value='Acquisition Date: ')"
      ]
     },
     "metadata": {},
     "output_type": "display_data"
    },
    {
     "data": {
      "application/vnd.jupyter.widget-view+json": {
       "model_id": "9b84df13a8724a31a4d76d4e42726bb4",
       "version_major": 2,
       "version_minor": 0
      },
      "text/html": [
       "<p>Failed to display Jupyter Widget of type <code>Dropdown</code>.</p>\n",
       "<p>\n",
       "  If you're reading this message in the Jupyter Notebook or JupyterLab Notebook, it may mean\n",
       "  that the widgets JavaScript is still loading. If this message persists, it\n",
       "  likely means that the widgets JavaScript library is either not installed or\n",
       "  not enabled. See the <a href=\"https://ipywidgets.readthedocs.io/en/stable/user_install.html\">Jupyter\n",
       "  Widgets Documentation</a> for setup instructions.\n",
       "</p>\n",
       "<p>\n",
       "  If you're reading this message in another frontend (for example, a static\n",
       "  rendering on GitHub or <a href=\"https://nbviewer.jupyter.org/\">NBViewer</a>),\n",
       "  it may mean that your frontend doesn't currently support widgets.\n",
       "</p>\n"
      ],
      "text/plain": [
       "Dropdown(options=('1984-07-01', '1984-08-18', '1984-09-28', '1984-10-21', '1984-11-06', '1985-05-01', '1986-01-12', '1986-08-24', '1986-10-04', '1986-10-20', '1986-11-12', '1986-11-28', '1986-12-07', '1986-12-14', '1986-12-30', '1987-01-15', '1987-01-31', '1987-03-20', '1987-10-14', '1991-10-25', '1991-11-26', '1991-12-12', '1998-11-29', '1999-08-20', '1999-10-23', '1999-12-10', '2000-02-28', '2000-03-31', '2000-06-03', '2000-08-22', '2000-09-23', '2000-10-09', '2000-11-10', '2001-01-13', '2001-02-14', '2001-03-18', '2001-05-21', '2001-07-08', '2001-08-02', '2001-08-25', '2001-09-26', '2001-10-28', '2001-12-31', '2002-02-17', '2002-03-05', '2002-05-08', '2002-06-25', '2002-08-28', '2002-10-08', '2002-10-15', '2002-11-16', '2002-12-18', '2003-02-04', '2003-02-20', '2003-03-08', '2003-05-11', '2003-07-30', '2003-10-18', '2003-11-03', '2003-12-05', '2004-01-06', '2004-02-07', '2004-03-26', '2004-04-11', '2004-04-27', '2004-05-13', '2004-06-14', '2004-08-01', '2004-09-18', '2004-10-20', '2004-11-05', '2004-11-21', '2004-12-07', '2004-12-23', '2005-02-25', '2005-03-29', '2005-04-14', '2005-08-04', '2005-10-07', '2005-10-23', '2005-11-08', '2005-11-24', '2005-12-10', '2005-12-26', '2006-01-11', '2006-02-28', '2006-04-17', '2006-05-03', '2006-05-19', '2006-06-04', '2006-06-20', '2006-07-06', '2006-07-22', '2006-10-03', '2006-10-26', '2006-11-04', '2006-11-20', '2006-11-27', '2006-12-13', '2006-12-29', '2007-01-14', '2007-01-30', '2007-02-15', '2007-03-03', '2007-03-19', '2007-04-04', '2007-04-20', '2007-05-06', '2007-05-22', '2007-06-07', '2007-07-09', '2007-07-18', '2007-07-25', '2007-08-19', '2007-09-11', '2007-10-13', '2007-10-29', '2007-11-23', '2007-11-30', '2007-12-09', '2007-12-16', '2008-01-01', '2008-01-10', '2008-01-17', '2008-01-26', '2008-02-02', '2008-02-11', '2008-02-18', '2008-03-05', '2008-03-21', '2008-03-30', '2008-04-22', '2008-05-24', '2008-06-18', '2008-09-29', '2008-10-31', '2008-11-16', '2008-11-25', '2008-12-02', '2008-12-18', '2009-03-08', '2009-03-17', '2009-03-24', '2009-05-11', '2009-05-20', '2009-05-27', '2009-07-07', '2009-07-23', '2009-07-30', '2009-08-15', '2009-09-09', '2009-09-25', '2009-10-02', '2009-10-18', '2009-12-30', '2010-01-15', '2010-01-22', '2010-01-31', '2010-02-07', '2010-02-16', '2010-02-23', '2010-03-20', '2010-03-27', '2010-04-05', '2010-04-12', '2010-04-21', '2010-05-07', '2010-05-14', '2010-06-15', '2010-12-24', '2011-01-09', '2011-07-04', '2011-07-20', '2011-08-21', '2011-10-01', '2011-12-27', '2012-01-12', '2012-01-28', '2012-02-13', '2012-02-29', '2012-03-16', '2012-04-01', '2012-04-26', '2012-05-03', '2012-05-12', '2012-05-19', '2012-05-28', '2012-06-04', '2012-06-20', '2012-07-06', '2012-09-24', '2012-10-10', '2012-10-26', '2013-01-14', '2013-02-15', '2013-03-03', '2013-04-04', '2013-05-22', '2013-07-09', '2013-10-13', '2013-10-29', '2013-11-14', '2013-11-30', '2013-12-16', '2014-01-01', '2014-01-17', '2014-01-26', '2014-02-02', '2014-02-11', '2014-03-22', '2014-04-07', '2014-04-23', '2014-05-09', '2014-05-18', '2014-05-25', '2014-06-10', '2014-06-26', '2014-07-12', '2014-07-28', '2014-08-13', '2014-08-29', '2014-09-14', '2014-09-30', '2014-10-16', '2014-11-01', '2014-11-17', '2014-12-03', '2014-12-19', '2015-01-04', '2015-01-20', '2015-02-21', '2015-03-09', '2015-03-25', '2015-04-10', '2015-04-26', '2015-05-12', '2015-05-28', '2015-06-13', '2015-07-15', '2015-07-31', '2015-08-16', '2015-09-01', '2015-09-26', '2015-10-03', '2015-10-19', '2015-11-04', '2015-11-20', '2015-12-06', '2015-12-22', '2016-01-07', '2016-01-16', '2016-01-23', '2016-02-01', '2016-02-08', '2016-02-24', '2016-03-11', '2016-03-27', '2016-04-12', '2016-04-28', '2016-05-14', '2016-07-01', '2016-07-17', '2016-08-02', '2016-08-18', '2016-09-03', '2016-09-19', '2016-09-28'), value='1984-07-01')"
      ]
     },
     "metadata": {},
     "output_type": "display_data"
    }
   ],
   "source": [
    "acq_dates = list(water_class.time.values.astype(str))\n",
    "acq_dates = list(map(lambda x:x.split(\"T\")[0],acq_dates))\n",
    "acq_date_input = create_acq_date_gui(acq_dates)"
   ]
  },
  {
   "cell_type": "code",
   "execution_count": 11,
   "metadata": {},
   "outputs": [
    {
     "data": {
      "image/png": "[encoded data removed]",
      "text/plain": [
       "<matplotlib.figure.Figure at 0x7fdc8a37beb8>"
      ]
     },
     "metadata": {},
     "output_type": "display_data"
    }
   ],
   "source": [
    "# Save form value\n",
    "acq_date = acq_date_input.value\n",
    "acq_date_index = acq_dates.index(acq_date)\n",
    "\n",
    "# Get water class for selected acquisition date and mask no data values\n",
    "water_class_for_acq_date = water_class.wofs[acq_date_index]\n",
    "water_class_for_acq_date.values = water_class_for_acq_date.values.astype('float')\n",
    "water_class_for_acq_date.values[water_class_for_acq_date.values == -9999] = np.nan\n",
    "\n",
    "if len(water_class_for_acq_date.values[water_class_for_acq_date.values > -9999]) > 0:\n",
    "    water_observations_for_acq_date_plot = water_class_for_acq_date.plot(cmap='BuPu')"
   ]
  },
  {
   "cell_type": "markdown",
   "metadata": {},
   "source": [
    "**With all of the pixels classified as either water/non-water, let's perform a time series analysis over our derived water class.** The function, perform_timeseries_analysis, takes in a dataset of 3 dimensions (time, latitude, and longitude), then sums the values of each pixel over time. It also keeps track of the number of clear observations we have at each pixel. We can then normalize each pixel to determine areas at risk of flooding. The normalization calculation is simply:\n",
    "\n",
    "$$normalized\\_water\\_observations = \\dfrac{total\\_water\\_observations}{total\\_clear\\_observations}$$.\n",
    "\n",
    "The output each of the three calculations can be seen below."
   ]
  },
  {
   "cell_type": "code",
   "execution_count": 12,
   "metadata": {},
   "outputs": [
    {
     "data": {
      "text/plain": [
       "<xarray.Dataset>\n",
       "Dimensions:          (latitude: 923, longitude: 898)\n",
       "Coordinates:\n",
       "  * latitude         (latitude) float64 12.99 12.99 12.99 12.99 12.99 12.99 ...\n",
       "  * longitude        (longitude) float64 14.24 14.24 14.24 14.24 14.25 14.25 ...\n",
       "Data variables:\n",
       "    total_data       (latitude, longitude) float64 75.0 76.0 75.0 76.0 75.0 ...\n",
       "    normalized_data  (latitude, longitude) float64 0.2809 0.2846 0.2809 ...\n",
       "    total_clean      (latitude, longitude) int64 267 267 267 267 267 267 267 ..."
      ]
     },
     "execution_count": 12,
     "metadata": {},
     "output_type": "execute_result"
    }
   ],
   "source": [
    "time_series = perform_timeseries_analysis(water_class, 'wofs')\n",
    "time_series"
   ]
  },
  {
   "cell_type": "code",
   "execution_count": 13,
   "metadata": {},
   "outputs": [
    {
     "data": {
      "image/png": "[encoded data removed]",
      "text/plain": [
       "<matplotlib.figure.Figure at 0x7fdc75d0b1d0>"
      ]
     },
     "metadata": {},
     "output_type": "display_data"
    }
   ],
   "source": [
    "normalized_water_observations_plot = time_series.normalized_data.plot(cmap='dc_au_WaterSummary')"
   ]
  },
  {
   "cell_type": "code",
   "execution_count": 14,
   "metadata": {},
   "outputs": [
    {
     "data": {
      "image/png": "[encoded data removed]",
      "text/plain": [
       "<matplotlib.figure.Figure at 0x7fdc7707e470>"
      ]
     },
     "metadata": {},
     "output_type": "display_data"
    }
   ],
   "source": [
    "total_water_observations_plot = time_series.total_data.plot(cmap='dc_au_WaterObservations')"
   ]
  },
  {
   "cell_type": "code",
   "execution_count": 15,
   "metadata": {},
   "outputs": [
    {
     "data": {
      "image/png": "[encoded data removed]",
      "text/plain": [
       "<matplotlib.figure.Figure at 0x7fdc90fa8860>"
      ]
     },
     "metadata": {},
     "output_type": "display_data"
    }
   ],
   "source": [
    "total_clear_observations_plot = time_series.total_clean.plot(cmap='dc_au_ClearObservations')"
   ]
  }
 ],
 "metadata": {
  "kernelspec": {
   "display_name": "Python 3",
   "language": "python",
   "name": "python3"
  },
  "language_info": {
   "codemirror_mode": {
    "name": "ipython",
    "version": 3
   },
   "file_extension": ".py",
   "mimetype": "text/x-python",
   "name": "python",
   "nbconvert_exporter": "python",
   "pygments_lexer": "ipython3",
   "version": "3.5.2"
  },
  "widgets": {
   "state": {
    "03fa2da8c01f40198443f2760b7c9f4f": {
     "views": [
      {
       "cell_index": 10
      }
     ]
    },
    "0402aeb10a0c462c95cf29676b9c3b27": {
     "views": [
      {
       "cell_index": 10
      }
     ]
    },
    "0501d824252a47faaee54c4d18707356": {
     "views": [
      {
       "cell_index": 9
      }
     ]
    },
    "052af7b0dbc8440ebc747f3499af091c": {
     "views": [
      {
       "cell_index": 10
      }
     ]
    },
    "09b6a63693a64d0c9778c480d5a28e3c": {
     "views": [
      {
       "cell_index": 9
      }
     ]
    },
    "0de373f4a235487595d0c969162ce14c": {
     "views": [
      {
       "cell_index": 10
      }
     ]
    },
    "0eefd0f96bba43a29105a0cc09f93698": {
     "views": [
      {
       "cell_index": 9
      }
     ]
    },
    "10cdf3d1a7b54127b80c7d56fe0a0f42": {
     "views": [
      {
       "cell_index": 9
      }
     ]
    },
    "17fb91388dca421a94bea5112499b79c": {
     "views": [
      {
       "cell_index": 10
      }
     ]
    },
    "1dae06efe8da449597ce6805dcded7bf": {
     "views": [
      {
       "cell_index": 10
      }
     ]
    },
    "1e073caecaec496ea8b59af034e5e1de": {
     "views": [
      {
       "cell_index": 10
      }
     ]
    },
    "2533672ab4434e31b8dde90e133e2ca6": {
     "views": [
      {
       "cell_index": 9
      }
     ]
    },
    "25387926bfe64835a51352b5a1ecdeca": {
     "views": [
      {
       "cell_index": 10
      }
     ]
    },
    "349d6b96f46b4964886ea6e6cc69cb00": {
     "views": [
      {
       "cell_index": 10
      }
     ]
    },
    "35181f825d29413394dccbc3d4256fb8": {
     "views": [
      {
       "cell_index": 8
      }
     ]
    },
    "48f38023eca14beb95a557a2f7019392": {
     "views": [
      {
       "cell_index": 8
      }
     ]
    },
    "53fd9c9ada3345f9a4da486a53d8bfcd": {
     "views": [
      {
       "cell_index": 9
      }
     ]
    },
    "5ddd138d222143b08b8222754aa75ecd": {
     "views": [
      {
       "cell_index": 9
      }
     ]
    },
    "6d9b8ed3db3f4cf29654371d14b20c7f": {
     "views": [
      {
       "cell_index": 16
      }
     ]
    },
    "7aa7d93b8f0e4af6b1c27f4d83e112d4": {
     "views": [
      {
       "cell_index": 9
      }
     ]
    },
    "8eaddc0d99574a40b4c1e8ca7d2af920": {
     "views": [
      {
       "cell_index": 16
      }
     ]
    },
    "aed9979773174f6ca1521fab48c84841": {
     "views": [
      {
       "cell_index": 9
      }
     ]
    },
    "b08f688a75fd444cbfa7cdac8c4a31de": {
     "views": [
      {
       "cell_index": 10
      }
     ]
    },
    "b16acddb760249829ee2d6993a2cb400": {
     "views": [
      {
       "cell_index": 9
      }
     ]
    },
    "bd201dd7f2f34f56998a0f4d9c1cacf3": {
     "views": [
      {
       "cell_index": 10
      }
     ]
    },
    "bd61a0b19b2841d3a93a14a3762c0410": {
     "views": [
      {
       "cell_index": 10
      }
     ]
    },
    "be268f374eb1401aa035a9aaf8283317": {
     "views": [
      {
       "cell_index": 10
      }
     ]
    },
    "c7e79fef0f7245188fa6e8f1452183b7": {
     "views": [
      {
       "cell_index": 9
      }
     ]
    },
    "c88c772442884660bfb5331c889523c9": {
     "views": [
      {
       "cell_index": 10
      }
     ]
    },
    "cb10886442b643339f6c5d89fa0ae43d": {
     "views": [
      {
       "cell_index": 9
      }
     ]
    },
    "d8e70490913547788cd1960f531984c7": {
     "views": [
      {
       "cell_index": 10
      }
     ]
    },
    "e1e64a3bfe0147e0acfa82292821f2d2": {
     "views": [
      {
       "cell_index": 10
      }
     ]
    },
    "e9774a5d34f34b4d9e0d5c3f52797e07": {
     "views": [
      {
       "cell_index": 10
      }
     ]
    },
    "ff84d5cae9484a6aaa48f385024d0075": {
     "views": [
      {
       "cell_index": 10
      }
     ]
    }
   },
   "version": "1.2.0"
  }
 },
 "nbformat": 4,
 "nbformat_minor": 2
}
