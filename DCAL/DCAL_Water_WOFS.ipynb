{
 "cells": [
  {
   "cell_type": "markdown",
   "metadata": {
    "pycharm": {}
   },
   "source": [
    "<a id=\"top\"></a>\n",
    "# Water Observations from Space (WOFS)\n",
    "\n",
    "<hr>\n",
    "\n",
    "# Notebook Summary\n",
    "\n",
    "This notebook demonstrates the Australian Water Observations from Space (WOFS) algorithm. This water detection algorithm is significantly better than the Landsat QA water flag or the NDWI index for water identification. \n",
    "<br><br>\n",
    "For more information, visit this website: http://www.ga.gov.au/scientific-topics/hazards/flood/wofs\n",
    "\n",
    "### NOTE: Do not issue the \"run all cells\" or \"restart and run all cells\" commands. The first 2 cells need to be run manually.\n",
    "\n",
    "<hr>\n",
    "\n",
    "# Index\n",
    "\n",
    "* [Import Dependencies and Connect to the Data Cube](#import)\n",
    "* [Choose Platforms and Products](#plat_prod)\n",
    "* [Get the Extents of the Cube](#extents)\n",
    "* [Define the Extents of the Analysis](#define_extents)\n",
    "* [Load and Clean Data from the Data Cube](#load_data)\n",
    "* [Time Series Water Detection Analysis](#time_series_water)\n",
    "* [Create GeoTIFF Output Products](#export)"
   ]
  },
  {
   "cell_type": "markdown",
   "metadata": {
    "pycharm": {}
   },
   "source": [
    "**Get the name of this notebook for storing files separately from copies of it.**"
   ]
  },
  {
   "cell_type": "code",
   "execution_count": 1,
   "metadata": {
    "pycharm": {},
    "scrolled": true
   },
   "outputs": [
    {
     "data": {
      "application/javascript": [
       "IPython.notebook.kernel.execute('nb_name = \"' + IPython.notebook.notebook_name + '\"')\n"
      ],
      "text/plain": [
       "<IPython.core.display.Javascript object>"
      ]
     },
     "metadata": {},
     "output_type": "display_data"
    }
   ],
   "source": [
    "%%javascript \n",
    "IPython.notebook.kernel.execute('nb_name = \"' + IPython.notebook.notebook_name + '\"')"
   ]
  },
  {
   "cell_type": "code",
   "execution_count": 2,
   "metadata": {
    "pycharm": {}
   },
   "outputs": [],
   "source": [
    "import os\n",
    "nb_name = os.path.splitext(nb_name)[0] # Remove the .ipynb extension."
   ]
  },
  {
   "cell_type": "markdown",
   "metadata": {
    "pycharm": {}
   },
   "source": [
    "## <span id=\"import\">Import Dependencies and Connect to the Data Cube [&#9652;](#top)</span>"
   ]
  },
  {
   "cell_type": "code",
   "execution_count": 3,
   "metadata": {
    "pycharm": {},
    "scrolled": false
   },
   "outputs": [],
   "source": [
    "# Enable importing of utilities.\n",
    "import sys\n",
    "sys.path.append('..')\n",
    "\n",
    "import numpy as np  \n",
    "import xarray as xr\n",
    "import pandas as pd\n",
    "import matplotlib.pyplot as plt\n",
    "\n",
    "%matplotlib inline\n",
    "\n",
    "# Load Data Cube Configuration\n",
    "import datacube\n",
    "import utils.data_cube_utilities.data_access_api as dc_api\n",
    "\n",
    "api = dc_api.DataAccessApi()\n",
    "dc = api.dc"
   ]
  },
  {
   "cell_type": "markdown",
   "metadata": {
    "pycharm": {
     "metadata": false,
     "name": "#%% md\n"
    }
   },
   "source": [
    "## <span id=\"plat_prod\">Choose Platforms and Products [&#9652;](#top)</span>"
   ]
  },
  {
   "cell_type": "markdown",
   "metadata": {
    "pycharm": {
     "metadata": false,
     "name": "#%% md\n"
    }
   },
   "source": [
    "**List available products for each platform**"
   ]
  },
  {
   "cell_type": "code",
   "execution_count": 4,
   "metadata": {
    "pycharm": {
     "metadata": false,
     "name": "#%% \n"
    }
   },
   "outputs": [
    {
     "name": "stdout",
     "output_type": "stream",
     "text": [
      "LANDSAT 7 Products:\n"
     ]
    },
    {
     "data": {
      "text/html": [
       "<div>\n",
       "<style scoped>\n",
       "    .dataframe tbody tr th:only-of-type {\n",
       "        vertical-align: middle;\n",
       "    }\n",
       "\n",
       "    .dataframe tbody tr th {\n",
       "        vertical-align: top;\n",
       "    }\n",
       "\n",
       "    .dataframe thead th {\n",
       "        text-align: right;\n",
       "    }\n",
       "</style>\n",
       "<table border=\"1\" class=\"dataframe\">\n",
       "  <thead>\n",
       "    <tr style=\"text-align: right;\">\n",
       "      <th></th>\n",
       "      <th>platform</th>\n",
       "      <th>name</th>\n",
       "    </tr>\n",
       "    <tr>\n",
       "      <th>id</th>\n",
       "      <th></th>\n",
       "      <th></th>\n",
       "    </tr>\n",
       "  </thead>\n",
       "  <tbody>\n",
       "    <tr>\n",
       "      <th>12</th>\n",
       "      <td>LANDSAT_7</td>\n",
       "      <td>ls7_collections_sr_scene</td>\n",
       "    </tr>\n",
       "    <tr>\n",
       "      <th>13</th>\n",
       "      <td>LANDSAT_7</td>\n",
       "      <td>ls7_ledaps_ghana</td>\n",
       "    </tr>\n",
       "    <tr>\n",
       "      <th>17</th>\n",
       "      <td>LANDSAT_7</td>\n",
       "      <td>ls7_ledaps_kenya</td>\n",
       "    </tr>\n",
       "    <tr>\n",
       "      <th>18</th>\n",
       "      <td>LANDSAT_7</td>\n",
       "      <td>ls7_ledaps_senegal</td>\n",
       "    </tr>\n",
       "    <tr>\n",
       "      <th>16</th>\n",
       "      <td>LANDSAT_7</td>\n",
       "      <td>ls7_ledaps_sierra_leone</td>\n",
       "    </tr>\n",
       "    <tr>\n",
       "      <th>19</th>\n",
       "      <td>LANDSAT_7</td>\n",
       "      <td>ls7_ledaps_tanzania</td>\n",
       "    </tr>\n",
       "    <tr>\n",
       "      <th>31</th>\n",
       "      <td>LANDSAT_7</td>\n",
       "      <td>ls7_ledaps_vietnam</td>\n",
       "    </tr>\n",
       "  </tbody>\n",
       "</table>\n",
       "</div>"
      ],
      "text/plain": [
       "     platform                      name\n",
       "id                                     \n",
       "12  LANDSAT_7  ls7_collections_sr_scene\n",
       "13  LANDSAT_7          ls7_ledaps_ghana\n",
       "17  LANDSAT_7          ls7_ledaps_kenya\n",
       "18  LANDSAT_7        ls7_ledaps_senegal\n",
       "16  LANDSAT_7   ls7_ledaps_sierra_leone\n",
       "19  LANDSAT_7       ls7_ledaps_tanzania\n",
       "31  LANDSAT_7        ls7_ledaps_vietnam"
      ]
     },
     "execution_count": 4,
     "metadata": {},
     "output_type": "execute_result"
    }
   ],
   "source": [
    "# Get available products\n",
    "products_info = dc.list_products()\n",
    "\n",
    "# List LANDSAT 7 products\n",
    "print(\"LANDSAT 7 Products:\")\n",
    "products_info[[\"platform\", \"name\"]][products_info.platform == \"LANDSAT_7\"]"
   ]
  },
  {
   "cell_type": "code",
   "execution_count": 5,
   "metadata": {
    "pycharm": {
     "metadata": false,
     "name": "#%%\n"
    }
   },
   "outputs": [
    {
     "name": "stdout",
     "output_type": "stream",
     "text": [
      "LANDSAT 8 Products:\n"
     ]
    },
    {
     "data": {
      "text/html": [
       "<div>\n",
       "<style scoped>\n",
       "    .dataframe tbody tr th:only-of-type {\n",
       "        vertical-align: middle;\n",
       "    }\n",
       "\n",
       "    .dataframe tbody tr th {\n",
       "        vertical-align: top;\n",
       "    }\n",
       "\n",
       "    .dataframe thead th {\n",
       "        text-align: right;\n",
       "    }\n",
       "</style>\n",
       "<table border=\"1\" class=\"dataframe\">\n",
       "  <thead>\n",
       "    <tr style=\"text-align: right;\">\n",
       "      <th></th>\n",
       "      <th>platform</th>\n",
       "      <th>name</th>\n",
       "    </tr>\n",
       "    <tr>\n",
       "      <th>id</th>\n",
       "      <th></th>\n",
       "      <th></th>\n",
       "    </tr>\n",
       "  </thead>\n",
       "  <tbody>\n",
       "    <tr>\n",
       "      <th>7</th>\n",
       "      <td>LANDSAT_8</td>\n",
       "      <td>ls8_collections_sr_scene</td>\n",
       "    </tr>\n",
       "    <tr>\n",
       "      <th>9</th>\n",
       "      <td>LANDSAT_8</td>\n",
       "      <td>ls8_lasrc_ghana</td>\n",
       "    </tr>\n",
       "    <tr>\n",
       "      <th>10</th>\n",
       "      <td>LANDSAT_8</td>\n",
       "      <td>ls8_lasrc_kenya</td>\n",
       "    </tr>\n",
       "    <tr>\n",
       "      <th>11</th>\n",
       "      <td>LANDSAT_8</td>\n",
       "      <td>ls8_lasrc_senegal</td>\n",
       "    </tr>\n",
       "    <tr>\n",
       "      <th>8</th>\n",
       "      <td>LANDSAT_8</td>\n",
       "      <td>ls8_lasrc_sierra_leone</td>\n",
       "    </tr>\n",
       "    <tr>\n",
       "      <th>15</th>\n",
       "      <td>LANDSAT_8</td>\n",
       "      <td>ls8_lasrc_tanzania</td>\n",
       "    </tr>\n",
       "  </tbody>\n",
       "</table>\n",
       "</div>"
      ],
      "text/plain": [
       "     platform                      name\n",
       "id                                     \n",
       "7   LANDSAT_8  ls8_collections_sr_scene\n",
       "9   LANDSAT_8           ls8_lasrc_ghana\n",
       "10  LANDSAT_8           ls8_lasrc_kenya\n",
       "11  LANDSAT_8         ls8_lasrc_senegal\n",
       "8   LANDSAT_8    ls8_lasrc_sierra_leone\n",
       "15  LANDSAT_8        ls8_lasrc_tanzania"
      ]
     },
     "execution_count": 5,
     "metadata": {},
     "output_type": "execute_result"
    }
   ],
   "source": [
    "# List LANDSAT 8 products\n",
    "print(\"LANDSAT 8 Products:\")\n",
    "products_info[[\"platform\", \"name\"]][products_info.platform == \"LANDSAT_8\"]"
   ]
  },
  {
   "cell_type": "markdown",
   "metadata": {
    "pycharm": {
     "metadata": false
    }
   },
   "source": [
    "**Choose products**"
   ]
  },
  {
   "cell_type": "markdown",
   "metadata": {
    "pycharm": {
     "metadata": false,
     "name": "#%% md\n"
    }
   },
   "source": [
    "<p style=\"color:red\";><b>CHANGE INPUTS BELOW"
   ]
  },
  {
   "cell_type": "code",
   "execution_count": 6,
   "metadata": {
    "pycharm": {
     "metadata": false,
     "name": "#%%\n"
    }
   },
   "outputs": [],
   "source": [
    "# CHANGE HERE >>>>>>>>>>>>>>>>>\n",
    "\n",
    "# Select a Product and Platform\n",
    "product = \"ls7_ledaps_kenya\"\n",
    "platform = \"LANDSAT_7\"\n",
    "\n",
    "# product = \"ls8_lasrc_kenya\"\n",
    "# platform = \"LANDSAT_8\""
   ]
  },
  {
   "cell_type": "markdown",
   "metadata": {
    "pycharm": {
     "metadata": false
    }
   },
   "source": [
    "## <span id=\"extents\">Get the Extents of the Cube [&#9652;](#top)</span>"
   ]
  },
  {
   "cell_type": "code",
   "execution_count": 7,
   "metadata": {
    "pycharm": {
     "metadata": false,
     "name": "#%%\n"
    }
   },
   "outputs": [
    {
     "name": "stdout",
     "output_type": "stream",
     "text": [
      "Latitude Extents: (-4.9990951500000005, 5.99891418)\n",
      "Longitude Extents: (32.99402799, 41.99239926)\n",
      "Time Extents: ['2000-01-04', '2017-12-31']\n"
     ]
    }
   ],
   "source": [
    "from utils.data_cube_utilities.dc_load import get_product_extents\n",
    "from utils.data_cube_utilities.dc_time import dt_to_str\n",
    "\n",
    "full_lat, full_lon, min_max_dates = get_product_extents(api, platform, product)\n",
    "\n",
    "# Print the extents of the combined data.\n",
    "print(\"Latitude Extents:\", full_lat)\n",
    "print(\"Longitude Extents:\", full_lon)\n",
    "print(\"Time Extents:\", list(map(dt_to_str, min_max_dates)))"
   ]
  },
  {
   "cell_type": "markdown",
   "metadata": {
    "pycharm": {
     "metadata": false,
     "name": "#%% md\n"
    }
   },
   "source": [
    "**Visualize the available area**"
   ]
  },
  {
   "cell_type": "code",
   "execution_count": 8,
   "metadata": {
    "pycharm": {
     "metadata": false,
     "name": "#%%\n"
    }
   },
   "outputs": [
    {
     "data": {
      "text/html": [
       "<div style=\"width:100%;\"><div style=\"position:relative;width:100%;height:0;padding-bottom:60%;\"><iframe src=\"data:text/html;charset=utf-8;base64,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\" style=\"position:absolute;width:100%;height:100%;left:0;top:0;border:none !important;\" allowfullscreen webkitallowfullscreen mozallowfullscreen></iframe></div></div>"
      ],
      "text/plain": [
       "<folium.folium.Map at 0x7f2c4b2f0c88>"
      ]
     },
     "execution_count": 8,
     "metadata": {},
     "output_type": "execute_result"
    }
   ],
   "source": [
    "from utils.data_cube_utilities.dc_display_map import display_map\n",
    "display_map(full_lat, full_lon)"
   ]
  },
  {
   "cell_type": "markdown",
   "metadata": {
    "pycharm": {
     "metadata": false
    }
   },
   "source": [
    "## <span id=\"define_extents\">Define the Extents of the Analysis [&#9652;](#top)</span>"
   ]
  },
  {
   "cell_type": "markdown",
   "metadata": {
    "pycharm": {
     "metadata": false
    }
   },
   "source": [
    "<p style=\"color:red\";><b>CHANGE INPUTS BELOW"
   ]
  },
  {
   "cell_type": "code",
   "execution_count": 9,
   "metadata": {
    "pycharm": {
     "metadata": false,
     "name": "#%%\n"
    }
   },
   "outputs": [],
   "source": [
    "# Select an analysis region (Lat-Lon) within the extents listed above. \n",
    "# Be sure you check whether you are using L7 or L8 as the time extents are very different\n",
    "# HINT: Keep your region small (<0.5 deg square) to avoid memory overload issues\n",
    "# Select a time period (Min-Max) within the extents listed above (Year-Month-Day)\n",
    "# This region and time period will be used for the water assessment\n",
    "\n",
    "# Mombasa, Kenya\n",
    "latitude_extents = (-4.0475, -3.9574) \n",
    "longitude_extents = (39.6028, 39.6792) \n",
    "time_extents = ('2015-01-01', '2017-01-01')\n",
    "\n",
    "# L. Tanganyika, Tanzania\n",
    "# latitude_extents = (-8.8901, -3.3042) \n",
    "# longitude_extents = (29.0069, 31.2510)\n",
    "# time_extents = ('2016-01-01', '2017-01-01')\n",
    "\n",
    "# L. Turkana, Kenya\n",
    "# latitude_extents = ( 2.3248, 4.6859) \n",
    "# longitude_extents = (35.7751, 36.7639) \n",
    "# time_extents = ('2000-01-01', '2015-01-01')\n",
    "\n",
    "# Ndakaini Dam, Kenya (provides water to Nairobi)\n",
    "# latitude_extents =  (-0.8269, -0.8090) \n",
    "# longitude_extents =  (36.8192, 36.8529)\n",
    "# time_extents = ('2000-01-01', '2018-01-01')"
   ]
  },
  {
   "cell_type": "markdown",
   "metadata": {
    "pycharm": {
     "metadata": false
    }
   },
   "source": [
    "**Visualize the selected area**"
   ]
  },
  {
   "cell_type": "code",
   "execution_count": 10,
   "metadata": {
    "pycharm": {},
    "scrolled": false
   },
   "outputs": [
    {
     "data": {
      "text/html": [
       "<div style=\"width:100%;\"><div style=\"position:relative;width:100%;height:0;padding-bottom:60%;\"><iframe src=\"data:text/html;charset=utf-8;base64,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\" style=\"position:absolute;width:100%;height:100%;left:0;top:0;border:none !important;\" allowfullscreen webkitallowfullscreen mozallowfullscreen></iframe></div></div>"
      ],
      "text/plain": [
       "<folium.folium.Map at 0x7f2c4b6bea20>"
      ]
     },
     "execution_count": 10,
     "metadata": {},
     "output_type": "execute_result"
    }
   ],
   "source": [
    "display_map(latitude = latitude_extents, longitude = longitude_extents)"
   ]
  },
  {
   "cell_type": "markdown",
   "metadata": {
    "pycharm": {
     "metadata": false
    }
   },
   "source": [
    "## <span id=\"load_data\">Load and Clean Data from the Data Cube [&#9652;](#top)</span>\n",
    "After loading, you will view the Xarray dataset. Notice the dimensions represent the number of pixels in your latitude and longitude dimension as well as the number of time slices (time) in your time series."
   ]
  },
  {
   "cell_type": "code",
   "execution_count": 11,
   "metadata": {
    "pycharm": {}
   },
   "outputs": [
    {
     "name": "stdout",
     "output_type": "stream",
     "text": [
      "<xarray.Dataset>\n",
      "Dimensions:    (latitude: 335, longitude: 285, time: 29)\n",
      "Coordinates:\n",
      "  * time       (time) datetime64[ns] 2015-01-15T07:30:11 ... 2016-12-03T07:34:07\n",
      "  * latitude   (latitude) float64 -3.957 -3.958 -3.958 ... -4.047 -4.047 -4.047\n",
      "  * longitude  (longitude) float64 39.6 39.6 39.6 39.6 ... 39.68 39.68 39.68\n",
      "Data variables:\n",
      "    *empty*\n",
      "Attributes:\n",
      "    crs:      EPSG:4326\n"
     ]
    }
   ],
   "source": [
    "# Perform an empty load to create a blank dataset with correct dimensions.\n",
    "landsat_dataset = dc.load(\n",
    "    platform = platform,\n",
    "    product = product,\n",
    "    latitude = latitude_extents,\n",
    "    longitude = longitude_extents,\n",
    "    time = time_extents,\n",
    "    measurements = [], # Do not load any measurements.\n",
    ")\n",
    "print(landsat_dataset)\n",
    "ds_times = landsat_dataset.time # Save the acquisition dates for later\n",
    "landsat_dataset = landsat_dataset.drop('time') # Drop time dimension"
   ]
  },
  {
   "cell_type": "code",
   "execution_count": 12,
   "metadata": {
    "pycharm": {}
   },
   "outputs": [
    {
     "data": {
      "text/html": [
       "<pre>&lt;xarray.Dataset&gt;\n",
       "Dimensions:      (latitude: 335, longitude: 285)\n",
       "Coordinates:\n",
       "  * latitude     (latitude) float64 -3.957 -3.958 -3.958 ... -4.047 -4.047\n",
       "  * longitude    (longitude) float64 39.6 39.6 39.6 39.6 ... 39.68 39.68 39.68\n",
       "Data variables:\n",
       "    count_total  (latitude, longitude) uint16 0 0 0 0 0 0 0 0 ... 0 0 0 0 0 0 0\n",
       "    count_water  (latitude, longitude) uint16 0 0 0 0 0 0 0 0 ... 0 0 0 0 0 0 0</pre>"
      ],
      "text/plain": [
       "<xarray.Dataset>\n",
       "Dimensions:      (latitude: 335, longitude: 285)\n",
       "Coordinates:\n",
       "  * latitude     (latitude) float64 -3.957 -3.958 -3.958 ... -4.047 -4.047\n",
       "  * longitude    (longitude) float64 39.6 39.6 39.6 39.6 ... 39.68 39.68 39.68\n",
       "Data variables:\n",
       "    count_total  (latitude, longitude) uint16 0 0 0 0 0 0 0 0 ... 0 0 0 0 0 0 0\n",
       "    count_water  (latitude, longitude) uint16 0 0 0 0 0 0 0 0 ... 0 0 0 0 0 0 0"
      ]
     },
     "execution_count": 12,
     "metadata": {},
     "output_type": "execute_result"
    }
   ],
   "source": [
    "# Create a new band which will be used to store total number of NON-CLOUD (land+water) pixels\n",
    "landsat_dataset = landsat_dataset.assign({\n",
    "    'count_total':\n",
    "    xr.DataArray(\n",
    "        np.zeros([d for d in landsat_dataset.dims.values()], dtype=np.uint16),\n",
    "        dims=landsat_dataset.dims,\n",
    "        coords=landsat_dataset.coords,\n",
    "    ),\n",
    "})\n",
    "# Create a new band which will be used to store total number of WATER pixels (subset of NON-CLOUD)\n",
    "landsat_dataset = landsat_dataset.assign({\n",
    "    'count_water':\n",
    "    xr.DataArray(\n",
    "        np.zeros([d for d in landsat_dataset.dims.values()], dtype=np.uint16),\n",
    "        dims=landsat_dataset.dims,\n",
    "        coords=landsat_dataset.coords,\n",
    "    ),\n",
    "})\n",
    "# Remove some attributes to allow saving of progress to NetCDF files.\n",
    "del landsat_dataset.attrs['crs'], ds_times.attrs['units']\n",
    "landsat_dataset"
   ]
  },
  {
   "cell_type": "code",
   "execution_count": 13,
   "metadata": {
    "pycharm": {}
   },
   "outputs": [],
   "source": [
    "# This function just outputs a progress bar so I know things are still moving...\n",
    "def progbar(progress, start_time=None, start_progress=0, msg='Progress:', bar_length=50):\n",
    "    from IPython.display import clear_output\n",
    "    import datetime\n",
    "    \n",
    "    # Clamp progress\n",
    "    if not isinstance(progress, (float,int)): progress = 0;\n",
    "    elif progress < 0: progress = 0;\n",
    "    elif progress >= 1: progress = 1;\n",
    "        \n",
    "    # ETA\n",
    "    if progress>0 and isinstance(start_time, datetime.datetime):\n",
    "        cur_time = datetime.datetime.utcnow()\n",
    "        \n",
    "        per_step_dur = (cur_time - start_time)/(progress-start_progress)\n",
    "        duration = per_step_dur*progress # Estimated processing duration until this point.\n",
    "        \n",
    "        eta_dur  = duration*(1-progress)/progress\n",
    "        eta_time = cur_time + eta_dur\n",
    "        time_str = \"ETA: {eta} ({mins:.2f} min)\".format(\n",
    "            eta = str(eta_time.isoformat(' ', timespec='seconds')),\n",
    "            mins = eta_dur.seconds / 60,\n",
    "        )\n",
    "    else: time_str =\"\";\n",
    "        \n",
    "    # Print it out\n",
    "    blocks = int(round(bar_length * progress))\n",
    "    clear_output(wait = True)\n",
    "    print(\"{msg} [{bar}] {pct:.1f}% {time_str}\".format( bar=\"#\" * blocks + \"-\" * (bar_length - blocks), pct=progress * 100, msg=msg, time_str=time_str))\n",
    "    \n",
    "    return datetime.datetime.utcnow() # Return current time"
   ]
  },
  {
   "cell_type": "code",
   "execution_count": 14,
   "metadata": {
    "pycharm": {},
    "scrolled": false
   },
   "outputs": [
    {
     "name": "stdout",
     "output_type": "stream",
     "text": [
      "Progress: [##################################################] 100.0% \n"
     ]
    },
    {
     "data": {
      "text/html": [
       "<pre>&lt;xarray.Dataset&gt;\n",
       "Dimensions:      (latitude: 335, longitude: 285)\n",
       "Coordinates:\n",
       "  * latitude     (latitude) float64 -3.957 -3.958 -3.958 ... -4.047 -4.047\n",
       "  * longitude    (longitude) float64 39.6 39.6 39.6 39.6 ... 39.68 39.68 39.68\n",
       "Data variables:\n",
       "    count_total  (latitude, longitude) uint16 0 0 0 0 0 0 0 ... 14 14 13 13 13 0\n",
       "    count_water  (latitude, longitude) uint16 0 0 0 0 0 0 0 ... 0 0 0 9 13 13 0</pre>"
      ],
      "text/plain": [
       "<xarray.Dataset>\n",
       "Dimensions:      (latitude: 335, longitude: 285)\n",
       "Coordinates:\n",
       "  * latitude     (latitude) float64 -3.957 -3.958 -3.958 ... -4.047 -4.047\n",
       "  * longitude    (longitude) float64 39.6 39.6 39.6 39.6 ... 39.68 39.68 39.68\n",
       "Data variables:\n",
       "    count_total  (latitude, longitude) uint16 0 0 0 0 0 0 0 ... 14 14 13 13 13 0\n",
       "    count_water  (latitude, longitude) uint16 0 0 0 0 0 0 0 ... 0 0 0 9 13 13 0"
      ]
     },
     "execution_count": 14,
     "metadata": {},
     "output_type": "execute_result"
    }
   ],
   "source": [
    "from utils.data_cube_utilities.clean_mask import landsat_qa_clean_mask\n",
    "from utils.data_cube_utilities.dc_water_classifier import wofs_classify\n",
    "from utils.data_cube_utilities.dc_load import is_dataset_empty\n",
    "import os\n",
    "import pickle\n",
    "\n",
    "# Create a DataArray to hold the per-acquisition water percentages.\n",
    "timeslice_water_pct = xr.DataArray(np.full(len(ds_times), np.nan), name='timeslice_water_pct',\n",
    "                                   dims=ds_times.dims, coords=ds_times.coords)\n",
    "# Reset counters to zero (just in case we run this cell multiple times for some reason).\n",
    "landsat_dataset.count_water.values*=0\n",
    "landsat_dataset.count_total.values*=0\n",
    "\n",
    "# Create geographic chunks.\n",
    "from utils.data_cube_utilities.dc_chunker import create_geographic_chunks\n",
    "geographic_chunks = create_geographic_chunks(longitude_extents, latitude_extents, 0.1)\n",
    "\n",
    "tmp_dir = 'tmp/{}'.format(nb_name)\n",
    "if not os.path.exists(tmp_dir):\n",
    "    os.makedirs(tmp_dir)\n",
    "\n",
    "# Check if we are continuing the previous task (parameter set).\n",
    "params_filepath = '{}/params.pkl'.format(tmp_dir) \n",
    "full_params = dict(platform=platform, product=product, \n",
    "                   latitude=latitude_extents, longitude=longitude_extents, time=time_extents,\n",
    "                   measurements=['red', 'green', 'blue', 'nir', 'swir1', 'swir2', 'pixel_qa'])\n",
    "continuing_task = False\n",
    "if os.path.exists(params_filepath):\n",
    "    with open(params_filepath, 'rb') as params_file:\n",
    "        old_params = pickle.load(params_file)\n",
    "        if old_params == full_params:\n",
    "            continuing_task = True\n",
    "\n",
    "progress_raster_file = \"{}/progress_raster.nc\".format(tmp_dir)\n",
    "progress_time_ind_file = \"{}/time_ind.pk\".format(tmp_dir)\n",
    "progress_timeslice_water_pct_file = \"{}/timeslice_water.nc\".format(tmp_dir)\n",
    "            \n",
    "# If the parameter set is new, record it and remove old progress files.\n",
    "if not continuing_task:\n",
    "    for root, dirs, files in os.walk(tmp_dir):\n",
    "        for file in files:\n",
    "            os.remove(os.path.join(root, file))\n",
    "    with open(params_filepath, 'wb') as params_file:\n",
    "        pickle.dump(full_params, params_file)\n",
    "    \n",
    "parameters = full_params.copy()\n",
    "del parameters['time']\n",
    "\n",
    "# Load the progress if any exists.\n",
    "if os.path.exists(progress_raster_file):\n",
    "    with xr.open_dataset(progress_raster_file) as raster_raster_file_handle:\n",
    "        landsat_dataset = raster_raster_file_handle.load()\n",
    "if os.path.exists(progress_time_ind_file):\n",
    "    with open(progress_time_ind_file, 'rb') as pickle_file:\n",
    "        last_completed_time_ind = pickle.load(pickle_file)\n",
    "else:\n",
    "    last_completed_time_ind = -1\n",
    "if os.path.exists(progress_timeslice_water_pct_file):\n",
    "    with xr.open_dataset(progress_timeslice_water_pct_file) as progress_timeslice_water_pct_file_handle:\n",
    "        timeslice_water_pct = progress_timeslice_water_pct_file_handle.load().timeslice_water_pct\n",
    "\n",
    "# Loop over all the time slices, processing each one.\n",
    "start_progress = (last_completed_time_ind+1)/len(ds_times)\n",
    "start_time = progbar(start_progress)\n",
    "for time_ind,t in enumerate(ds_times.values):\n",
    "    if time_ind <= last_completed_time_ind:\n",
    "        continue\n",
    "    parameters.update(dict(time=str(t)))\n",
    "    \n",
    "    timeslice_total_cloud = 0\n",
    "    timeslice_total_water = 0\n",
    "    \n",
    "    # Process each geographic chunk for this time slice.\n",
    "    for geo_chunk_ind, geographic_chunk in enumerate(geographic_chunks):\n",
    "        if geo_chunk_ind == 0:\n",
    "            print(\"Processing geographic chunks.\")\n",
    "        elif geo_chunk_ind % 5 == 0:\n",
    "            print(\"Processed {:.3%} of all geographic chunks.\".format(geo_chunk_ind / len(geographic_chunks)))\n",
    "        \n",
    "        landsat_slice_dict = dict(latitude=slice(*geographic_chunk['latitude'][::-1]),\n",
    "                                  longitude=slice(*geographic_chunk['longitude']))\n",
    "        geo_coords = landsat_dataset.sel(landsat_slice_dict).coords\n",
    "        # Get the actual geographic extents of this data.\n",
    "        geographic_chunk['latitude'] = geo_coords['latitude'][[0,-1]].values[::-1]\n",
    "        geographic_chunk['longitude'] = geo_coords['longitude'][[0,-1]].values\n",
    "        landsat_slice_dict = dict(latitude=slice(*geographic_chunk['latitude'][::-1]),\n",
    "                                  longitude=slice(*geographic_chunk['longitude']))\n",
    "        \n",
    "        parameters.update(geographic_chunk)\n",
    "        \n",
    "        landsat_chunk = dc.load(**parameters)\n",
    "        if is_dataset_empty(landsat_chunk):\n",
    "            continue\n",
    "        landsat_chunk = landsat_chunk.squeeze('time')\n",
    "        \n",
    "        # Mask Clouds\n",
    "        cloud_mask = landsat_qa_clean_mask(landsat_chunk, platform=platform) # bool\n",
    "        timeslice_total_cloud += cloud_mask.sum()\n",
    "    \n",
    "        # Add to total cloud-free pixel count.\n",
    "        chunk_count_total = landsat_dataset.count_total.sel(landsat_slice_dict)\n",
    "        chunk_count_total.values += cloud_mask.values\n",
    "    \n",
    "        # Classify Water\n",
    "        water_mask = wofs_classify(landsat_chunk, clean_mask = cloud_mask.values, mosaic=True, no_data=0).wofs.astype(np.bool)\n",
    "        timeslice_total_water += water_mask.sum()\n",
    "    \n",
    "        # Add to total water pixel count\n",
    "        chunk_count_water = landsat_dataset.count_water.sel(landsat_slice_dict)\n",
    "        chunk_count_water.values += water_mask.values\n",
    "\n",
    "    # Compute percent of cloud-free pixels that are water for this timeslice.\n",
    "    timeslice_water_pct[time_ind] = timeslice_total_water / timeslice_total_cloud\n",
    "    \n",
    "    # Save progress.\n",
    "    if os.path.exists(progress_raster_file):\n",
    "        os.remove(progress_raster_file)\n",
    "    landsat_dataset.to_netcdf(progress_raster_file)\n",
    "    if os.path.exists(progress_time_ind_file):\n",
    "        os.remove(progress_time_ind_file)\n",
    "    with open(progress_time_ind_file, 'wb') as pickle_file:\n",
    "        pickle.dump(time_ind, pickle_file)\n",
    "    if os.path.exists(progress_timeslice_water_pct_file):\n",
    "        os.remove(progress_timeslice_water_pct_file)\n",
    "    timeslice_water_pct.to_netcdf(progress_timeslice_water_pct_file)\n",
    "    \n",
    "    # Print progress bar\n",
    "    progbar((time_ind+1)/len(ds_times), start_time, start_progress)\n",
    "    \n",
    "    # Plot time slice water percentages (except when all values are NaN, which causes an error).\n",
    "    if ~np.all(np.isnan(timeslice_water_pct)):\n",
    "        timeslice_water_pct.plot(figsize=(12,2), marker='o', linestyle='None')\n",
    "        # plt.gca().set_yscale('log') # Change scaling of the Y axis to logarithmic\n",
    "        plt.xlim(timeslice_water_pct.time.values[[0,-1]])\n",
    "        plt.ylim(0, 1)\n",
    "        plt.show()\n",
    "    \n",
    "    # Draw map as we go\n",
    "    # landsat_dataset_low_res = xr_scale_res(landsat_dataset, frac_res=0.01)\n",
    "    # plt.imshow(landsat_dataset_low_res.count_water / landsat_dataset_low_res.count_total, \n",
    "    #            aspect='equal')\n",
    "    # plt.show()\n",
    "\n",
    "progbar(1)\n",
    "landsat_dataset"
   ]
  },
  {
   "cell_type": "markdown",
   "metadata": {
    "pycharm": {}
   },
   "source": [
    "## <span id=\"time_series_water\">Time Series Water Detection Analysis [&#9652;](#top)</span>\n",
    "Time series output of the Australian Water Detection from Space (WOFS) results. The results show the percent of time that a pixel is classified as water over the entire time series. BLUE = frequent water, RED = infrequent water."
   ]
  },
  {
   "cell_type": "code",
   "execution_count": 15,
   "metadata": {
    "pycharm": {}
   },
   "outputs": [],
   "source": [
    "# import color-scheme and set nans to black\n",
    "from matplotlib.cm import jet_r as jet_r\n",
    "jet_r.set_bad('black',1)"
   ]
  },
  {
   "cell_type": "code",
   "execution_count": 16,
   "metadata": {
    "pycharm": {}
   },
   "outputs": [
    {
     "data": {
      "image/png": "[encoded data removed]",
      "text/plain": [
       "<Figure size 1008x1008 with 2 Axes>"
      ]
     },
     "metadata": {
      "needs_background": "light"
     },
     "output_type": "display_data"
    }
   ],
   "source": [
    "# Here we plot the product we have created\n",
    "# Areas of RED have experienced little or no water over the time series\n",
    "# Areas of BLUE have experience significant or constant water over the time series\n",
    "\n",
    "tmp = landsat_dataset.count_water / landsat_dataset.count_total\n",
    "fig,ax = plt.subplots(figsize=(14,14))\n",
    "plt.imshow(tmp, cmap = jet_r, aspect=\"equal\", extent=(\n",
    "    landsat_dataset.longitude.min(),\n",
    "    landsat_dataset.longitude.max(),\n",
    "    landsat_dataset.latitude.min(),\n",
    "    landsat_dataset.latitude.max(),\n",
    "))\n",
    "plt.colorbar()\n",
    "plt.show()"
   ]
  },
  {
   "cell_type": "code",
   "execution_count": 17,
   "metadata": {
    "pycharm": {}
   },
   "outputs": [
    {
     "data": {
      "image/png": "[encoded data removed]",
      "text/plain": [
       "<Figure size 1080x216 with 1 Axes>"
      ]
     },
     "metadata": {
      "needs_background": "light"
     },
     "output_type": "display_data"
    }
   ],
   "source": [
    "# Here we plot the percentage of valid (non-cloudy) pixels that were identified as water for each time slice\n",
    "\n",
    "timeslice_water_pct.plot(figsize=(15,3), marker='o', linestyle='None')\n",
    "plt.show()"
   ]
  },
  {
   "cell_type": "code",
   "execution_count": 18,
   "metadata": {
    "pycharm": {}
   },
   "outputs": [
    {
     "data": {
      "image/png": "[encoded data removed]",
      "text/plain": [
       "<Figure size 1080x216 with 1 Axes>"
      ]
     },
     "metadata": {
      "needs_background": "light"
     },
     "output_type": "display_data"
    }
   ],
   "source": [
    "# It is often helpful to use a logarithmic scale when viewing these types of plots, as the \"interesting\"\n",
    "# behavior tends to be clustered near zero and large outliers can hide small trends.\n",
    "# The result below can be compared to the result above. \n",
    "\n",
    "timeslice_water_pct.plot(figsize=(15,3), marker='o', linestyle='None')\n",
    "plt.gca().set_yscale('log') # Change scaling of the Y axis to logarithmic\n",
    "plt.show()"
   ]
  },
  {
   "cell_type": "markdown",
   "metadata": {
    "pycharm": {
     "metadata": false,
     "name": "#%% md\n"
    }
   },
   "source": [
    "## <span id=\"export\">Create GeoTIFF Output Products [&#9652;](#top)</span>"
   ]
  },
  {
   "cell_type": "code",
   "execution_count": 19,
   "metadata": {
    "pycharm": {},
    "scrolled": true
   },
   "outputs": [],
   "source": [
    "# Save the water percentage image to a GeoTIFF.\n",
    "from utils.data_cube_utilities.import_export import export_slice_to_geotiff\n",
    "\n",
    "dataset_to_export = xr.Dataset(coords=landsat_dataset.coords, attrs=landsat_dataset.attrs)\n",
    "dataset_to_export['wofs_pct'] = tmp.astype(np.float32).where(landsat_dataset.count_total>0)"
   ]
  },
  {
   "cell_type": "markdown",
   "metadata": {
    "pycharm": {
     "metadata": false,
     "name": "#%% md\n"
    }
   },
   "source": [
    "<p style=\"color:red\";><b>CHANGE INPUTS BELOW"
   ]
  },
  {
   "cell_type": "code",
   "execution_count": 23,
   "metadata": {
    "pycharm": {}
   },
   "outputs": [],
   "source": [
    "# The export command below is commented out to avoid overwriting files. \n",
    "# If you would like to export data, please check the file path before uncommenting the line\n",
    "# to ensure no files are accidentally lost.\n",
    "\n",
    "output_dir = 'output/geotiffs'\n",
    "if not os.path.exists(output_dir):\n",
    "    os.makedirs(output_dir)\n",
    "export_slice_to_geotiff(dataset_to_export, output_dir + '/WOFS_Percentage.tif')"
   ]
  },
  {
   "cell_type": "code",
   "execution_count": 24,
   "metadata": {
    "pycharm": {}
   },
   "outputs": [
    {
     "name": "stdout",
     "output_type": "stream",
     "text": [
      "-rw-rw-r-- 1 localuser localuser 374K Jan 12 03:41 output/geotiffs/WOFS_Percentage.tif\r\n"
     ]
    }
   ],
   "source": [
    "!ls -lah output/geotiffs/WOFS_Percentage.tif"
   ]
  },
  {
   "cell_type": "code",
   "execution_count": 25,
   "metadata": {
    "pycharm": {}
   },
   "outputs": [
    {
     "name": "stdout",
     "output_type": "stream",
     "text": [
      "Driver: GTiff/GeoTIFF\r\n",
      "Files: output/geotiffs/WOFS_Percentage.tif\r\n",
      "Size is 285, 335\r\n",
      "Coordinate System is:\r\n",
      "GEOGCRS[\"WGS 84\",\r\n",
      "    DATUM[\"World Geodetic System 1984\",\r\n",
      "        ELLIPSOID[\"WGS 84\",6378137,298.257223563,\r\n",
      "            LENGTHUNIT[\"metre\",1]]],\r\n",
      "    PRIMEM[\"Greenwich\",0,\r\n",
      "        ANGLEUNIT[\"degree\",0.0174532925199433]],\r\n",
      "    CS[ellipsoidal,2],\r\n",
      "        AXIS[\"geodetic latitude (Lat)\",north,\r\n",
      "            ORDER[1],\r\n",
      "            ANGLEUNIT[\"degree\",0.0174532925199433]],\r\n",
      "        AXIS[\"geodetic longitude (Lon)\",east,\r\n",
      "            ORDER[2],\r\n",
      "            ANGLEUNIT[\"degree\",0.0174532925199433]],\r\n",
      "    USAGE[\r\n",
      "        SCOPE[\"unknown\"],\r\n",
      "        AREA[\"World\"],\r\n",
      "        BBOX[-90,-180,90,180]],\r\n",
      "    ID[\"EPSG\",4326]]\r\n",
      "Data axis to CRS axis mapping: 2,1\r\n",
      "Origin = (39.602670082499998,-3.957369958500000)\r\n",
      "Pixel Size = (0.000268547410526,-0.000268688543284)\r\n",
      "Metadata:\r\n",
      "  AREA_OR_POINT=Area\r\n",
      "Image Structure Metadata:\r\n",
      "  INTERLEAVE=BAND\r\n",
      "Corner Coordinates:\r\n",
      "Upper Left  (  39.6026701,  -3.9573700) ( 39d36' 9.61\"E,  3d57'26.53\"S)\r\n",
      "Lower Left  (  39.6026701,  -4.0473806) ( 39d36' 9.61\"E,  4d 2'50.57\"S)\r\n",
      "Upper Right (  39.6792061,  -3.9573700) ( 39d40'45.14\"E,  3d57'26.53\"S)\r\n",
      "Lower Right (  39.6792061,  -4.0473806) ( 39d40'45.14\"E,  4d 2'50.57\"S)\r\n",
      "Center      (  39.6409381,  -4.0023753) ( 39d38'27.38\"E,  4d 0' 8.55\"S)\r\n",
      "Band 1 Block=285x7 Type=Float32, ColorInterp=Gray\r\n",
      "  NoData Value=-9999\r\n"
     ]
    }
   ],
   "source": [
    "!gdalinfo output/geotiffs/WOFS_Percentage.tif"
   ]
  }
 ],
 "metadata": {
  "kernelspec": {
   "display_name": "Python 3",
   "language": "python",
   "name": "python3"
  },
  "language_info": {
   "codemirror_mode": {
    "name": "ipython",
    "version": 3
   },
   "file_extension": ".py",
   "mimetype": "text/x-python",
   "name": "python",
   "nbconvert_exporter": "python",
   "pygments_lexer": "ipython3",
   "version": "3.6.9"
  },
  "pycharm": {
   "stem_cell": {
    "cell_type": "raw",
    "metadata": {
     "collapsed": false
    },
    "source": []
   }
  }
 },
 "nbformat": 4,
 "nbformat_minor": 2
}
