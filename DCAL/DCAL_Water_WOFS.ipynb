{
 "cells": [
  {
   "cell_type": "markdown",
   "metadata": {
    "pycharm": {}
   },
   "source": [
    "<a id=\"top\"></a>\n",
    "# Water Observations from Space (WOFS)\n",
    "\n",
    "<hr><hr>\n",
    "\n",
    "# Notebook Summary\n",
    "\n",
    "This notebook demonstrates the Australian Water Observations from Space (WOFS) algorithm. This water detection algorithm is significantly better than the Landsat QA water flag or the NDWI index for water identification. \n",
    "<br><br>\n",
    "For more information, visit this website: http://www.ga.gov.au/scientific-topics/hazards/flood/wofs\n",
    "\n",
    "<hr><hr>\n",
    "\n",
    "# Index\n",
    "\n",
    "* [Import Dependencies and Connect to the Data Cube](#import)\n",
    "* [Choose Platforms and Products](#plat_prod)\n",
    "* [Get the Extents of the Cube](#extents)\n",
    "* [Define the Extents of the Analysis](#define_extents)\n",
    "* [Load and Clean Data from the Data Cube](#load_data)\n",
    "* [Time Series Water Detection Analysis](#time_series_water)\n",
    "* [Create GeoTIFF Output Products](#export)"
   ]
  },
  {
   "cell_type": "markdown",
   "metadata": {
    "pycharm": {}
   },
   "source": [
    "## <span id=\"import\">Import Dependencies and Connect to the Data Cube [&#9652;](#top)</span>"
   ]
  },
  {
   "cell_type": "code",
   "execution_count": 1,
   "metadata": {
    "pycharm": {}
   },
   "outputs": [],
   "source": [
    "# Enable importing of utilities.\n",
    "import sys\n",
    "sys.path.append('..')\n",
    "\n",
    "# Supress Warning \n",
    "import warnings\n",
    "warnings.filterwarnings('ignore')\n",
    "\n",
    "import numpy as np  \n",
    "import xarray as xr\n",
    "import pandas as pd\n",
    "import matplotlib.pyplot as plt\n",
    "\n",
    "# Load Data Cube Configuration\n",
    "import datacube\n",
    "import utils.data_cube_utilities.data_access_api as dc_api  \n",
    "api = dc_api.DataAccessApi(config = '/home/localuser/.datacube.conf')\n",
    "dc = api.dc"
   ]
  },
  {
   "cell_type": "markdown",
   "metadata": {
    "pycharm": {}
   },
   "source": [
    "## <span id=\"plat_prod\">Choose Platforms and Products [&#9652;](#top)</span>"
   ]
  },
  {
   "cell_type": "markdown",
   "metadata": {},
   "source": [
    "**List available products for each platform**"
   ]
  },
  {
   "cell_type": "code",
   "execution_count": 2,
   "metadata": {
    "pycharm": {}
   },
   "outputs": [
    {
     "name": "stdout",
     "output_type": "stream",
     "text": [
      "LANDSAT 7 Products:\n"
     ]
    },
    {
     "data": {
      "text/html": [
       "<div>\n",
       "<style scoped>\n",
       "    .dataframe tbody tr th:only-of-type {\n",
       "        vertical-align: middle;\n",
       "    }\n",
       "\n",
       "    .dataframe tbody tr th {\n",
       "        vertical-align: top;\n",
       "    }\n",
       "\n",
       "    .dataframe thead th {\n",
       "        text-align: right;\n",
       "    }\n",
       "</style>\n",
       "<table border=\"1\" class=\"dataframe\">\n",
       "  <thead>\n",
       "    <tr style=\"text-align: right;\">\n",
       "      <th></th>\n",
       "      <th>platform</th>\n",
       "      <th>name</th>\n",
       "    </tr>\n",
       "    <tr>\n",
       "      <th>id</th>\n",
       "      <th></th>\n",
       "      <th></th>\n",
       "    </tr>\n",
       "  </thead>\n",
       "  <tbody>\n",
       "    <tr>\n",
       "      <th>12</th>\n",
       "      <td>LANDSAT_7</td>\n",
       "      <td>ls7_collections_sr_scene</td>\n",
       "    </tr>\n",
       "    <tr>\n",
       "      <th>13</th>\n",
       "      <td>LANDSAT_7</td>\n",
       "      <td>ls7_ledaps_ghana</td>\n",
       "    </tr>\n",
       "    <tr>\n",
       "      <th>17</th>\n",
       "      <td>LANDSAT_7</td>\n",
       "      <td>ls7_ledaps_kenya</td>\n",
       "    </tr>\n",
       "    <tr>\n",
       "      <th>18</th>\n",
       "      <td>LANDSAT_7</td>\n",
       "      <td>ls7_ledaps_senegal</td>\n",
       "    </tr>\n",
       "    <tr>\n",
       "      <th>16</th>\n",
       "      <td>LANDSAT_7</td>\n",
       "      <td>ls7_ledaps_sierra_leone</td>\n",
       "    </tr>\n",
       "    <tr>\n",
       "      <th>19</th>\n",
       "      <td>LANDSAT_7</td>\n",
       "      <td>ls7_ledaps_tanzania</td>\n",
       "    </tr>\n",
       "    <tr>\n",
       "      <th>31</th>\n",
       "      <td>LANDSAT_7</td>\n",
       "      <td>ls7_ledaps_vietnam</td>\n",
       "    </tr>\n",
       "  </tbody>\n",
       "</table>\n",
       "</div>"
      ],
      "text/plain": [
       "     platform                      name\n",
       "id                                     \n",
       "12  LANDSAT_7  ls7_collections_sr_scene\n",
       "13  LANDSAT_7          ls7_ledaps_ghana\n",
       "17  LANDSAT_7          ls7_ledaps_kenya\n",
       "18  LANDSAT_7        ls7_ledaps_senegal\n",
       "16  LANDSAT_7   ls7_ledaps_sierra_leone\n",
       "19  LANDSAT_7       ls7_ledaps_tanzania\n",
       "31  LANDSAT_7        ls7_ledaps_vietnam"
      ]
     },
     "execution_count": 2,
     "metadata": {},
     "output_type": "execute_result"
    }
   ],
   "source": [
    "# Get available products\n",
    "products_info = dc.list_products()\n",
    "\n",
    "# List LANDSAT 7 products\n",
    "print(\"LANDSAT 7 Products:\")\n",
    "products_info[[\"platform\", \"name\"]][products_info.platform == \"LANDSAT_7\"]"
   ]
  },
  {
   "cell_type": "code",
   "execution_count": 3,
   "metadata": {
    "pycharm": {},
    "scrolled": true
   },
   "outputs": [
    {
     "name": "stdout",
     "output_type": "stream",
     "text": [
      "LANDSAT 8 Products:\n"
     ]
    },
    {
     "data": {
      "text/html": [
       "<div>\n",
       "<style scoped>\n",
       "    .dataframe tbody tr th:only-of-type {\n",
       "        vertical-align: middle;\n",
       "    }\n",
       "\n",
       "    .dataframe tbody tr th {\n",
       "        vertical-align: top;\n",
       "    }\n",
       "\n",
       "    .dataframe thead th {\n",
       "        text-align: right;\n",
       "    }\n",
       "</style>\n",
       "<table border=\"1\" class=\"dataframe\">\n",
       "  <thead>\n",
       "    <tr style=\"text-align: right;\">\n",
       "      <th></th>\n",
       "      <th>platform</th>\n",
       "      <th>name</th>\n",
       "    </tr>\n",
       "    <tr>\n",
       "      <th>id</th>\n",
       "      <th></th>\n",
       "      <th></th>\n",
       "    </tr>\n",
       "  </thead>\n",
       "  <tbody>\n",
       "    <tr>\n",
       "      <th>7</th>\n",
       "      <td>LANDSAT_8</td>\n",
       "      <td>ls8_collections_sr_scene</td>\n",
       "    </tr>\n",
       "    <tr>\n",
       "      <th>9</th>\n",
       "      <td>LANDSAT_8</td>\n",
       "      <td>ls8_lasrc_ghana</td>\n",
       "    </tr>\n",
       "    <tr>\n",
       "      <th>10</th>\n",
       "      <td>LANDSAT_8</td>\n",
       "      <td>ls8_lasrc_kenya</td>\n",
       "    </tr>\n",
       "    <tr>\n",
       "      <th>11</th>\n",
       "      <td>LANDSAT_8</td>\n",
       "      <td>ls8_lasrc_senegal</td>\n",
       "    </tr>\n",
       "    <tr>\n",
       "      <th>8</th>\n",
       "      <td>LANDSAT_8</td>\n",
       "      <td>ls8_lasrc_sierra_leone</td>\n",
       "    </tr>\n",
       "    <tr>\n",
       "      <th>15</th>\n",
       "      <td>LANDSAT_8</td>\n",
       "      <td>ls8_lasrc_tanzania</td>\n",
       "    </tr>\n",
       "  </tbody>\n",
       "</table>\n",
       "</div>"
      ],
      "text/plain": [
       "     platform                      name\n",
       "id                                     \n",
       "7   LANDSAT_8  ls8_collections_sr_scene\n",
       "9   LANDSAT_8           ls8_lasrc_ghana\n",
       "10  LANDSAT_8           ls8_lasrc_kenya\n",
       "11  LANDSAT_8         ls8_lasrc_senegal\n",
       "8   LANDSAT_8    ls8_lasrc_sierra_leone\n",
       "15  LANDSAT_8        ls8_lasrc_tanzania"
      ]
     },
     "execution_count": 3,
     "metadata": {},
     "output_type": "execute_result"
    }
   ],
   "source": [
    "# List LANDSAT 8 products\n",
    "print(\"LANDSAT 8 Products:\")\n",
    "products_info[[\"platform\", \"name\"]][products_info.platform == \"LANDSAT_8\"]"
   ]
  },
  {
   "cell_type": "markdown",
   "metadata": {},
   "source": [
    "**Choose products**"
   ]
  },
  {
   "cell_type": "markdown",
   "metadata": {
    "pycharm": {}
   },
   "source": [
    "<p style=\"color:red\";><b>CHANGE INPUTS BELOW"
   ]
  },
  {
   "cell_type": "code",
   "execution_count": 4,
   "metadata": {
    "pycharm": {}
   },
   "outputs": [],
   "source": [
    "# Select a Product and Platform\n",
    "# Examples: ghana, kenya, tanzania, sierra_leone, senegal\n",
    "\n",
    "product = \"ls7_ledaps_kenya\"\n",
    "platform = \"LANDSAT_7\"\n",
    "\n",
    "# product = \"ls8_lasrc_kenya\"\n",
    "# platform = \"LANDSAT_8\""
   ]
  },
  {
   "cell_type": "markdown",
   "metadata": {
    "pycharm": {}
   },
   "source": [
    "## <span id=\"extents\">Get the Extents of the Cube [&#9652;](#top)</span>"
   ]
  },
  {
   "cell_type": "code",
   "execution_count": 5,
   "metadata": {},
   "outputs": [
    {
     "name": "stdout",
     "output_type": "stream",
     "text": [
      "Latitude Extents: (-4.9990951500000005, 5.99891418)\n",
      "Longitude Extents: (32.99402799, 41.99239926)\n",
      "Time Extents: ['2000-01-04', '2017-12-31']\n"
     ]
    }
   ],
   "source": [
    "from utils.data_cube_utilities.dc_load import get_product_extents\n",
    "from utils.data_cube_utilities.dc_time import dt_to_str\n",
    "\n",
    "full_lat, full_lon, min_max_dates = get_product_extents(api, platform, product)\n",
    "\n",
    "# Print the extents of the combined data.\n",
    "print(\"Latitude Extents:\", full_lat)\n",
    "print(\"Longitude Extents:\", full_lon)\n",
    "print(\"Time Extents:\", list(map(dt_to_str, min_max_dates)))"
   ]
  },
  {
   "cell_type": "markdown",
   "metadata": {},
   "source": [
    "**Visualize the available area**"
   ]
  },
  {
   "cell_type": "code",
   "execution_count": 6,
   "metadata": {},
   "outputs": [
    {
     "data": {
      "text/html": [
       "<div style=\"width:100%;\"><div style=\"position:relative;width:100%;height:0;padding-bottom:60%;\"><iframe src=\"data:text/html;charset=utf-8;base64,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\" style=\"position:absolute;width:100%;height:100%;left:0;top:0;border:none !important;\" allowfullscreen webkitallowfullscreen mozallowfullscreen></iframe></div></div>"
      ],
      "text/plain": [
       "<folium.folium.Map at 0x7f6278622f98>"
      ]
     },
     "execution_count": 6,
     "metadata": {},
     "output_type": "execute_result"
    }
   ],
   "source": [
    "from utils.data_cube_utilities.dc_display_map import display_map\n",
    "display_map(full_lat, full_lon)"
   ]
  },
  {
   "cell_type": "markdown",
   "metadata": {
    "pycharm": {}
   },
   "source": [
    "## <span id=\"define_extents\">Define the Extents of the Analysis [&#9652;](#top)</span>"
   ]
  },
  {
   "cell_type": "markdown",
   "metadata": {
    "pycharm": {}
   },
   "source": [
    "<p style=\"color:red\";><b>CHANGE INPUTS BELOW"
   ]
  },
  {
   "cell_type": "code",
   "execution_count": 7,
   "metadata": {
    "pycharm": {}
   },
   "outputs": [],
   "source": [
    "# Select an analysis region (Lat-Lon) within the extents listed above. \n",
    "# Be sure you check whether you are using L7 or L8 as the time extents are very different\n",
    "# HINT: Keep your region small (<0.5 deg square) to avoid memory overload issues\n",
    "# Select a time period (Min-Max) within the extents listed above (Year-Month-Day)\n",
    "# This region and time period will be used for the water assessment\n",
    "\n",
    "# Mombasa, Kenya\n",
    "# latitude_extents = (-4.0475, -3.9574) \n",
    "# longitude_extents = (39.6028, 39.6792) \n",
    "# time_extents = ('2015-01-01', '2018-01-01')\n",
    "\n",
    "# Naivasha, Kenya\n",
    "# latitude_extents = (-0.8509, -0.66) \n",
    "# longitude_extents = (36.246, 36.47) \n",
    "# time_extents = ('2002-01-01', '2018-01-01')\n",
    "\n",
    "# Ndakaini Dam, Kenya (provides water to Nairobi)\n",
    "latitude_extents =  (-0.8269, -0.8090) \n",
    "longitude_extents =  (36.8192, 36.8529)\n",
    "\n",
    "# Time Period\n",
    "time_extents = ('2000-01-01', '2018-01-01')"
   ]
  },
  {
   "cell_type": "markdown",
   "metadata": {},
   "source": [
    "**Visualize the selected area**"
   ]
  },
  {
   "cell_type": "code",
   "execution_count": 8,
   "metadata": {
    "pycharm": {},
    "scrolled": false
   },
   "outputs": [
    {
     "data": {
      "text/html": [
       "<div style=\"width:100%;\"><div style=\"position:relative;width:100%;height:0;padding-bottom:60%;\"><iframe src=\"data:text/html;charset=utf-8;base64,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\" style=\"position:absolute;width:100%;height:100%;left:0;top:0;border:none !important;\" allowfullscreen webkitallowfullscreen mozallowfullscreen></iframe></div></div>"
      ],
      "text/plain": [
       "<folium.folium.Map at 0x7f6277d17208>"
      ]
     },
     "execution_count": 8,
     "metadata": {},
     "output_type": "execute_result"
    }
   ],
   "source": [
    "display_map(latitude = latitude_extents, longitude = longitude_extents)"
   ]
  },
  {
   "cell_type": "markdown",
   "metadata": {
    "pycharm": {}
   },
   "source": [
    "## <span id=\"load_data\">Load and Clean Data from the Data Cube [&#9652;](#top)</span>\n",
    "After loading, you will view the Xarray dataset. Notice the dimensions represent the number of pixels in your latitude and longitude dimension as well as the number of time slices (time) in your time series."
   ]
  },
  {
   "cell_type": "code",
   "execution_count": 9,
   "metadata": {
    "pycharm": {}
   },
   "outputs": [],
   "source": [
    "landsat_dataset = dc.load(latitude = latitude_extents,\n",
    "                          longitude = longitude_extents,\n",
    "                          platform = platform,\n",
    "                          time = time_extents,\n",
    "                          product = product,\n",
    "                          measurements = ['red', 'green', 'blue', 'nir', 'swir1', 'swir2', 'pixel_qa']) "
   ]
  },
  {
   "cell_type": "code",
   "execution_count": 10,
   "metadata": {
    "pycharm": {},
    "scrolled": true
   },
   "outputs": [
    {
     "data": {
      "text/plain": [
       "<xarray.Dataset>\n",
       "Dimensions:    (latitude: 68, longitude: 126, time: 198)\n",
       "Coordinates:\n",
       "  * time       (time) datetime64[ns] 2000-02-21T07:35:49 ... 2017-12-20T07:45:29\n",
       "  * latitude   (latitude) float64 -0.8089 -0.8092 -0.8094 ... -0.8267 -0.8269\n",
       "  * longitude  (longitude) float64 36.82 36.82 36.82 36.82 ... 36.85 36.85 36.85\n",
       "Data variables:\n",
       "    red        (time, latitude, longitude) int16 843 827 843 ... 1290 2314 3277\n",
       "    green      (time, latitude, longitude) int16 699 662 644 ... 1314 2266 3204\n",
       "    blue       (time, latitude, longitude) int16 412 378 395 ... 1115 2020 2904\n",
       "    nir        (time, latitude, longitude) int16 2933 2613 2399 ... 4631 5256\n",
       "    swir1      (time, latitude, longitude) int16 2551 2441 2529 ... 3072 4134\n",
       "    swir2      (time, latitude, longitude) int16 1524 1593 1842 ... 2387 3606\n",
       "    pixel_qa   (time, latitude, longitude) int32 66 66 66 66 ... 96 160 224 224\n",
       "Attributes:\n",
       "    crs:      EPSG:4326"
      ]
     },
     "execution_count": 10,
     "metadata": {},
     "output_type": "execute_result"
    }
   ],
   "source": [
    "# View some of the content in the xarray dataset\n",
    "# The latitude and longitude dimensions are in pixels\n",
    "# The time reflects the number of time slices in the xarray\n",
    "landsat_dataset"
   ]
  },
  {
   "cell_type": "markdown",
   "metadata": {
    "pycharm": {}
   },
   "source": [
    ">### Masking out Clouds"
   ]
  },
  {
   "cell_type": "code",
   "execution_count": 11,
   "metadata": {
    "pycharm": {}
   },
   "outputs": [],
   "source": [
    "from utils.data_cube_utilities.clean_mask import landsat_qa_clean_mask\n",
    "cloud_mask = landsat_qa_clean_mask(landsat_dataset, platform=platform)"
   ]
  },
  {
   "cell_type": "code",
   "execution_count": 12,
   "metadata": {
    "pycharm": {}
   },
   "outputs": [],
   "source": [
    "cloud_mask = np.bitwise_and(landsat_dataset.pixel_qa,6).astype(bool)\n",
    "cleaned_dataset = landsat_dataset.drop('pixel_qa').where(cloud_mask)"
   ]
  },
  {
   "cell_type": "markdown",
   "metadata": {
    "pycharm": {}
   },
   "source": [
    "## <span id=\"time_series_water\">Time Series Water Detection Analysis [&#9652;](#top)</span>\n",
    "Time series output of the Australian Water Observations from Space (WOFS) results. The results show the percent of time that a pixel is classified as water over the entire time series. BLUE = frequent water, RED = infrequent water."
   ]
  },
  {
   "cell_type": "code",
   "execution_count": 13,
   "metadata": {
    "pycharm": {}
   },
   "outputs": [],
   "source": [
    "from utils.data_cube_utilities.dc_water_classifier import wofs_classify\n",
    "ts_water_classification = wofs_classify(landsat_dataset,clean_mask = cloud_mask)"
   ]
  },
  {
   "cell_type": "code",
   "execution_count": 14,
   "metadata": {
    "pycharm": {}
   },
   "outputs": [],
   "source": [
    "# Apply nan to no_data values\n",
    "ts_water_classification = ts_water_classification.where(ts_water_classification != -9999).astype(np.float16)\n",
    "\n",
    "# Time series aggregation that ignores nan values.    \n",
    "water_classification_percentages = (ts_water_classification.mean(dim = ['time']) * 100).wofs.rename('water_classification_percentages')"
   ]
  },
  {
   "cell_type": "code",
   "execution_count": 15,
   "metadata": {
    "pycharm": {}
   },
   "outputs": [],
   "source": [
    "# import color-scheme and set nans to black\n",
    "from matplotlib.cm import jet_r\n",
    "jet_r.set_bad('black',1)"
   ]
  },
  {
   "cell_type": "markdown",
   "metadata": {
    "pycharm": {}
   },
   "source": [
    "<p style=\"color:red\";><b>CHANGE INPUTS BELOW"
   ]
  },
  {
   "cell_type": "code",
   "execution_count": 16,
   "metadata": {
    "pycharm": {}
   },
   "outputs": [
    {
     "data": {
      "text/plain": [
       "<matplotlib.collections.QuadMesh at 0x7f62345ed208>"
      ]
     },
     "execution_count": 16,
     "metadata": {},
     "output_type": "execute_result"
    },
    {
     "data": {
      "image/png": "[encoded data removed]",
      "text/plain": [
       "<Figure size 1008x864 with 2 Axes>"
      ]
     },
     "metadata": {
      "needs_background": "light"
     },
     "output_type": "display_data"
    }
   ],
   "source": [
    "# This is where the WOFS time series product is generated. \n",
    "# Areas of RED have experienced little or no water over the time series\n",
    "# Areas of BLUE have experience significant or constant water over the time series\n",
    "\n",
    "# The \"figsize\" may need adjustment to get the proper scaling and avoid distortion. \n",
    "# See the XARRAY dimensions above to get an idea of the Lat-Lon ratio for your image, figsize=(x,y)\n",
    "# The y-axis scale and legend is part of the image area, so that needs to be considered\n",
    "# It is suggested to keep the x-dimension at x=12. \n",
    "\n",
    "water_classification_percentages.plot(cmap = jet_r, figsize=(14,12))"
   ]
  },
  {
   "cell_type": "markdown",
   "metadata": {
    "pycharm": {}
   },
   "source": [
    "The following code computes and then plots the percentage of valid pixels that were identified as water, for each time step in the time series. It should be noted that clouds can impact the statistical results by reducing the number of valid pixels."
   ]
  },
  {
   "cell_type": "code",
   "execution_count": 17,
   "metadata": {
    "pycharm": {},
    "scrolled": false
   },
   "outputs": [
    {
     "data": {
      "image/png": "[encoded data removed]",
      "text/plain": [
       "<Figure size 1152x432 with 1 Axes>"
      ]
     },
     "metadata": {
      "needs_background": "light"
     },
     "output_type": "display_data"
    }
   ],
   "source": [
    "fig = plt.figure(figsize=(16,6))\n",
    "\n",
    "pct_water_per_acq = ts_water_classification.wofs.mean(['latitude', 'longitude'])\n",
    "pct_water_per_year = pct_water_per_acq.groupby('time.year').mean()\n",
    "plt.plot(pct_water_per_year.values)\n",
    "plt.xticks(range(len(pct_water_per_year)), pct_water_per_year.year.values, rotation=45)\n",
    "plt.xlabel(\"Year\")\n",
    "plt.ylabel(\"Water Percent (WOFS)\")\n",
    "plt.show()"
   ]
  },
  {
   "cell_type": "markdown",
   "metadata": {
    "pycharm": {}
   },
   "source": [
    "## <span id=\"export\">Create GeoTIFF Output Products [&#9652;](#top)</span>"
   ]
  },
  {
   "cell_type": "code",
   "execution_count": 18,
   "metadata": {
    "pycharm": {},
    "scrolled": true
   },
   "outputs": [],
   "source": [
    "# Save the water percentage image to a GeoTIFF\n",
    "from utils.data_cube_utilities.import_export import export_slice_to_geotiff\n",
    "\n",
    "dataset_to_export = xr.Dataset(coords=water_classification_percentages.coords,attrs=ts_water_classification.attrs)\n",
    "dataset_to_export['wofs_pct'] = (water_classification_percentages/100).astype(np.float32)"
   ]
  },
  {
   "cell_type": "markdown",
   "metadata": {
    "pycharm": {}
   },
   "source": [
    "<p style=\"color:red\";><b>CHANGE INPUTS BELOW"
   ]
  },
  {
   "cell_type": "code",
   "execution_count": 19,
   "metadata": {
    "pycharm": {}
   },
   "outputs": [],
   "source": [
    "# The export command on the following line is commented out to avoid overwriting files. \n",
    "# If you would like to export data, please change the filename before uncommenting the next line.\n",
    "\n",
    "export_slice_to_geotiff(dataset_to_export, '../geotiffs/WOFS_Percentage_demo2.tif')"
   ]
  },
  {
   "cell_type": "code",
   "execution_count": 20,
   "metadata": {
    "pycharm": {}
   },
   "outputs": [
    {
     "name": "stdout",
     "output_type": "stream",
     "text": [
      "total 1.1G\r\n",
      "drwxrwxr-x  3 localuser localuser 4.0K May 10 21:13 .\r\n",
      "drwxrwxrwx 14 root      root       12K May 10 20:41 ..\r\n",
      "drwxrwxr-x  2 localuser localuser 4.0K Nov 30 02:52 .ipynb_checkpoints\r\n",
      "-rw-rw-r--  1 localuser localuser  42M May 10 20:50 DEMO_median_composite.tif\r\n",
      "-rw-rw-r--  1 localuser localuser 833M Apr 14 23:52 WOFS_Percentage_L-BIG_AC.tif\r\n",
      "-rw-rw-r--  1 localuser localuser 123M Apr 11 12:36 WOFS_Percentage_L-Turkana_AC.tif\r\n",
      "-rw-rw-r--  1 localuser localuser  53M Apr 11 10:09 WOFS_Percentage_L-Victoria_AC.tif\r\n",
      "-rw-rw-r--  1 localuser localuser  34K Dec 19 20:38 WOFS_Percentage_demo.tif\r\n",
      "-rw-rw-r--  1 localuser localuser  34K May 10 21:13 WOFS_Percentage_demo2.tif\r\n",
      "-rw-rw-r--  1 localuser localuser 4.2M Dec 22 22:33 evi.tif\r\n",
      "-rw-rw-r--  1 localuser localuser  17M May  6 18:20 frac_classes.tif\r\n",
      "-rw-rw-r--  1 localuser localuser 4.2M Dec 22 22:33 ndvi_land.tif\r\n",
      "-rw-rw-r--  1 localuser localuser 4.2M Dec 22 22:33 ndvi_land_and_water.tif\r\n",
      "-rw-rw-r--  1 localuser localuser 4.7M May 10 21:10 sample_anomaly_01.tif\r\n",
      "-rw-rw-r--  1 localuser localuser 4.2M Dec 22 22:33 savi.tif\r\n",
      "-rw-rw-r--  1 localuser localuser 4.2M May  7 21:54 wofs.tif\r\n"
     ]
    }
   ],
   "source": [
    "!ls -lah ../geotiffs/"
   ]
  }
 ],
 "metadata": {
  "kernelspec": {
   "display_name": "Python 3",
   "language": "python",
   "name": "python3"
  },
  "language_info": {
   "codemirror_mode": {
    "name": "ipython",
    "version": 3
   },
   "file_extension": ".py",
   "mimetype": "text/x-python",
   "name": "python",
   "nbconvert_exporter": "python",
   "pygments_lexer": "ipython3",
   "version": "3.6.6"
  }
 },
 "nbformat": 4,
 "nbformat_minor": 2
}
