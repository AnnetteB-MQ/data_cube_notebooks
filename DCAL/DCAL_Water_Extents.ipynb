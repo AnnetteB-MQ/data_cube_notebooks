{
 "cells": [
  {
   "cell_type": "markdown",
   "metadata": {},
   "source": [
    "<a id=\"top\"></a>\n",
    "# Water Extents\n",
    "\n",
    "<hr><hr>\n",
    "\n",
    "# Notebook Summary\n",
    "\n",
    "The spatial extents of water in a scene are analyzed with optical (Landsat) and SAR (Sentinel 1) data.\n",
    "\n",
    "<hr><hr>\n",
    "\n",
    "# Algorithmic process  \n",
    "\n",
    "* [Import Dependencies and Connect to the Data Cube](#import)\n",
    "* [Choose Platform and Product](#plat_prod)\n",
    "* [Get the Maximum Extents of the Cube](#extents)\n",
    "* [Define the Extents of the Analysis](#define_extents)\n",
    "* [Load Data from the Data Cube](#retrieve_data)\n",
    "    * Load Optical Data (Landsat)\n",
    "    * Load SAR Data (Sentinel 1)\n",
    "* [Get Water Classifications](#get_water_cls)\n",
    "    * Get WOFS Classifications for Landsat Data\n",
    "    * Get WASARD Classifications for Sentinel 1 Data\n",
    "    * Combine and Resample Water Classifications\n",
    "* [Examine the Minimum and Maximum Water Extents](#examine_water_extents)\n",
    "\n",
    "For more information, visit this website: http://www.ga.gov.au/scientific-topics/hazards/flood/wofs"
   ]
  },
  {
   "cell_type": "markdown",
   "metadata": {},
   "source": [
    "## <span id=\"import\">Import Dependencies and Connect to the Data Cube [&#9652;](#top)</span>"
   ]
  },
  {
   "cell_type": "code",
   "execution_count": 1,
   "metadata": {},
   "outputs": [],
   "source": [
    "# Enable importing of utilities.\n",
    "import sys\n",
    "sys.path.append('..')\n",
    "\n",
    "import warnings\n",
    "warnings.filterwarnings('ignore')\n",
    "\n",
    "import matplotlib.pyplot as plt\n",
    "import numpy as np \n",
    "import pandas as pd\n",
    "import xarray as xr\n",
    " \n",
    "import datacube\n",
    "from utils.data_cube_utilities.data_access_api import DataAccessApi"
   ]
  },
  {
   "cell_type": "code",
   "execution_count": 2,
   "metadata": {},
   "outputs": [],
   "source": [
    "api = DataAccessApi()\n",
    "dc = api.dc"
   ]
  },
  {
   "cell_type": "markdown",
   "metadata": {},
   "source": [
    "## <span id=\"plat_prod\">Choose Platform and Product [&#9652;](#top)</span>"
   ]
  },
  {
   "cell_type": "code",
   "execution_count": 3,
   "metadata": {
    "scrolled": false
   },
   "outputs": [
    {
     "data": {
      "text/html": [
       "<div>\n",
       "<style scoped>\n",
       "    .dataframe tbody tr th:only-of-type {\n",
       "        vertical-align: middle;\n",
       "    }\n",
       "\n",
       "    .dataframe tbody tr th {\n",
       "        vertical-align: top;\n",
       "    }\n",
       "\n",
       "    .dataframe thead th {\n",
       "        text-align: right;\n",
       "    }\n",
       "</style>\n",
       "<table border=\"1\" class=\"dataframe\">\n",
       "  <thead>\n",
       "    <tr style=\"text-align: right;\">\n",
       "      <th></th>\n",
       "      <th>name</th>\n",
       "      <th>description</th>\n",
       "      <th>product_type</th>\n",
       "      <th>time</th>\n",
       "      <th>creation_time</th>\n",
       "      <th>format</th>\n",
       "      <th>lon</th>\n",
       "      <th>instrument</th>\n",
       "      <th>platform</th>\n",
       "      <th>lat</th>\n",
       "      <th>label</th>\n",
       "      <th>crs</th>\n",
       "      <th>resolution</th>\n",
       "      <th>tile_size</th>\n",
       "      <th>spatial_dimensions</th>\n",
       "    </tr>\n",
       "    <tr>\n",
       "      <th>id</th>\n",
       "      <th></th>\n",
       "      <th></th>\n",
       "      <th></th>\n",
       "      <th></th>\n",
       "      <th></th>\n",
       "      <th></th>\n",
       "      <th></th>\n",
       "      <th></th>\n",
       "      <th></th>\n",
       "      <th></th>\n",
       "      <th></th>\n",
       "      <th></th>\n",
       "      <th></th>\n",
       "      <th></th>\n",
       "      <th></th>\n",
       "    </tr>\n",
       "  </thead>\n",
       "  <tbody>\n",
       "    <tr>\n",
       "      <td>12</td>\n",
       "      <td>ls7_collections_sr_scene</td>\n",
       "      <td>Landsat 7 USGS Collection 1 Higher Level SR sc...</td>\n",
       "      <td>LEDAPS</td>\n",
       "      <td>None</td>\n",
       "      <td>None</td>\n",
       "      <td>GeoTiff</td>\n",
       "      <td>None</td>\n",
       "      <td>ETM</td>\n",
       "      <td>LANDSAT_7</td>\n",
       "      <td>None</td>\n",
       "      <td>None</td>\n",
       "      <td>NaN</td>\n",
       "      <td>NaN</td>\n",
       "      <td>NaN</td>\n",
       "      <td>NaN</td>\n",
       "    </tr>\n",
       "    <tr>\n",
       "      <td>13</td>\n",
       "      <td>ls7_ledaps_ghana</td>\n",
       "      <td>Landsat 7 USGS Collection 1 Higher Level SR sc...</td>\n",
       "      <td>LEDAPS</td>\n",
       "      <td>None</td>\n",
       "      <td>None</td>\n",
       "      <td>NetCDF</td>\n",
       "      <td>None</td>\n",
       "      <td>ETM</td>\n",
       "      <td>LANDSAT_7</td>\n",
       "      <td>None</td>\n",
       "      <td>None</td>\n",
       "      <td>EPSG:4326</td>\n",
       "      <td>(-0.000269494585236, 0.000269494585236)</td>\n",
       "      <td>(0.943231048326, 0.943231048326)</td>\n",
       "      <td>(latitude, longitude)</td>\n",
       "    </tr>\n",
       "    <tr>\n",
       "      <td>17</td>\n",
       "      <td>ls7_ledaps_kenya</td>\n",
       "      <td>Landsat 7 USGS Collection 1 Higher Level SR sc...</td>\n",
       "      <td>LEDAPS</td>\n",
       "      <td>None</td>\n",
       "      <td>None</td>\n",
       "      <td>NetCDF</td>\n",
       "      <td>None</td>\n",
       "      <td>ETM</td>\n",
       "      <td>LANDSAT_7</td>\n",
       "      <td>None</td>\n",
       "      <td>None</td>\n",
       "      <td>EPSG:4326</td>\n",
       "      <td>(-0.000269493, 0.000269493)</td>\n",
       "      <td>(0.99981903, 0.99981903)</td>\n",
       "      <td>(latitude, longitude)</td>\n",
       "    </tr>\n",
       "    <tr>\n",
       "      <td>18</td>\n",
       "      <td>ls7_ledaps_senegal</td>\n",
       "      <td>Landsat 7 USGS Collection 1 Higher Level SR sc...</td>\n",
       "      <td>LEDAPS</td>\n",
       "      <td>None</td>\n",
       "      <td>None</td>\n",
       "      <td>NetCDF</td>\n",
       "      <td>None</td>\n",
       "      <td>ETM</td>\n",
       "      <td>LANDSAT_7</td>\n",
       "      <td>None</td>\n",
       "      <td>None</td>\n",
       "      <td>EPSG:4326</td>\n",
       "      <td>(-0.000271152, 0.00027769)</td>\n",
       "      <td>(0.813456, 0.83307)</td>\n",
       "      <td>(latitude, longitude)</td>\n",
       "    </tr>\n",
       "    <tr>\n",
       "      <td>16</td>\n",
       "      <td>ls7_ledaps_sierra_leone</td>\n",
       "      <td>Landsat 7 USGS Collection 1 Higher Level SR sc...</td>\n",
       "      <td>LEDAPS</td>\n",
       "      <td>None</td>\n",
       "      <td>None</td>\n",
       "      <td>NetCDF</td>\n",
       "      <td>None</td>\n",
       "      <td>ETM</td>\n",
       "      <td>LANDSAT_7</td>\n",
       "      <td>None</td>\n",
       "      <td>None</td>\n",
       "      <td>EPSG:4326</td>\n",
       "      <td>(-0.000269494585236, 0.000269494585236)</td>\n",
       "      <td>(0.943231048326, 0.943231048326)</td>\n",
       "      <td>(latitude, longitude)</td>\n",
       "    </tr>\n",
       "    <tr>\n",
       "      <td>19</td>\n",
       "      <td>ls7_ledaps_tanzania</td>\n",
       "      <td>Landsat 7 USGS Collection 1 Higher Level SR sc...</td>\n",
       "      <td>LEDAPS</td>\n",
       "      <td>None</td>\n",
       "      <td>None</td>\n",
       "      <td>NetCDF</td>\n",
       "      <td>None</td>\n",
       "      <td>ETM</td>\n",
       "      <td>LANDSAT_7</td>\n",
       "      <td>None</td>\n",
       "      <td>None</td>\n",
       "      <td>EPSG:4326</td>\n",
       "      <td>(-0.000271277688070265, 0.000271139577954979)</td>\n",
       "      <td>(0.999929558226998, 0.999962763497961)</td>\n",
       "      <td>(latitude, longitude)</td>\n",
       "    </tr>\n",
       "    <tr>\n",
       "      <td>31</td>\n",
       "      <td>ls7_ledaps_vietnam</td>\n",
       "      <td>Landsat 7 USGS Collection 1 Higher Level SR sc...</td>\n",
       "      <td>LEDAPS</td>\n",
       "      <td>None</td>\n",
       "      <td>None</td>\n",
       "      <td>NetCDF</td>\n",
       "      <td>None</td>\n",
       "      <td>ETM</td>\n",
       "      <td>LANDSAT_7</td>\n",
       "      <td>None</td>\n",
       "      <td>None</td>\n",
       "      <td>EPSG:4326</td>\n",
       "      <td>(-0.000269494585236, 0.000269494585236)</td>\n",
       "      <td>(0.943231048326, 0.943231048326)</td>\n",
       "      <td>(latitude, longitude)</td>\n",
       "    </tr>\n",
       "    <tr>\n",
       "      <td>7</td>\n",
       "      <td>ls8_collections_sr_scene</td>\n",
       "      <td>Landsat 8 USGS Collection 1 Higher Level SR sc...</td>\n",
       "      <td>LaSRC</td>\n",
       "      <td>None</td>\n",
       "      <td>None</td>\n",
       "      <td>GeoTiff</td>\n",
       "      <td>None</td>\n",
       "      <td>OLI_TIRS</td>\n",
       "      <td>LANDSAT_8</td>\n",
       "      <td>None</td>\n",
       "      <td>None</td>\n",
       "      <td>NaN</td>\n",
       "      <td>NaN</td>\n",
       "      <td>NaN</td>\n",
       "      <td>NaN</td>\n",
       "    </tr>\n",
       "    <tr>\n",
       "      <td>9</td>\n",
       "      <td>ls8_lasrc_ghana</td>\n",
       "      <td>Landsat 8 USGS Collection 1 Higher Level SR sc...</td>\n",
       "      <td>LaSRC</td>\n",
       "      <td>None</td>\n",
       "      <td>None</td>\n",
       "      <td>NetCDF</td>\n",
       "      <td>None</td>\n",
       "      <td>OLI_TIRS</td>\n",
       "      <td>LANDSAT_8</td>\n",
       "      <td>None</td>\n",
       "      <td>None</td>\n",
       "      <td>EPSG:4326</td>\n",
       "      <td>(-0.000269494585236, 0.000269494585236)</td>\n",
       "      <td>(0.943231048326, 0.943231048326)</td>\n",
       "      <td>(latitude, longitude)</td>\n",
       "    </tr>\n",
       "    <tr>\n",
       "      <td>10</td>\n",
       "      <td>ls8_lasrc_kenya</td>\n",
       "      <td>Landsat 8 USGS Collection 1 Higher Level SR sc...</td>\n",
       "      <td>LaSRC</td>\n",
       "      <td>None</td>\n",
       "      <td>None</td>\n",
       "      <td>NetCDF</td>\n",
       "      <td>None</td>\n",
       "      <td>OLI_TIRS</td>\n",
       "      <td>LANDSAT_8</td>\n",
       "      <td>None</td>\n",
       "      <td>None</td>\n",
       "      <td>EPSG:4326</td>\n",
       "      <td>(-0.000271309115317046, 0.00026957992707863)</td>\n",
       "      <td>(0.999502780827996, 0.999602369607559)</td>\n",
       "      <td>(latitude, longitude)</td>\n",
       "    </tr>\n",
       "    <tr>\n",
       "      <td>11</td>\n",
       "      <td>ls8_lasrc_senegal</td>\n",
       "      <td>Landsat 8 USGS Collection 1 Higher Level SR sc...</td>\n",
       "      <td>LaSRC</td>\n",
       "      <td>None</td>\n",
       "      <td>None</td>\n",
       "      <td>NetCDF</td>\n",
       "      <td>None</td>\n",
       "      <td>OLI_TIRS</td>\n",
       "      <td>LANDSAT_8</td>\n",
       "      <td>None</td>\n",
       "      <td>None</td>\n",
       "      <td>EPSG:4326</td>\n",
       "      <td>(-0.000271152, 0.00027769)</td>\n",
       "      <td>(0.813456, 0.83307)</td>\n",
       "      <td>(latitude, longitude)</td>\n",
       "    </tr>\n",
       "    <tr>\n",
       "      <td>8</td>\n",
       "      <td>ls8_lasrc_sierra_leone</td>\n",
       "      <td>Landsat 8 USGS Collection 1 Higher Level SR sc...</td>\n",
       "      <td>LaSRC</td>\n",
       "      <td>None</td>\n",
       "      <td>None</td>\n",
       "      <td>NetCDF</td>\n",
       "      <td>None</td>\n",
       "      <td>OLI_TIRS</td>\n",
       "      <td>LANDSAT_8</td>\n",
       "      <td>None</td>\n",
       "      <td>None</td>\n",
       "      <td>EPSG:4326</td>\n",
       "      <td>(-0.000269494585236, 0.000269494585236)</td>\n",
       "      <td>(0.943231048326, 0.943231048326)</td>\n",
       "      <td>(latitude, longitude)</td>\n",
       "    </tr>\n",
       "    <tr>\n",
       "      <td>15</td>\n",
       "      <td>ls8_lasrc_tanzania</td>\n",
       "      <td>Landsat 8 USGS Collection 1 Higher Level SR sc...</td>\n",
       "      <td>LaSRC</td>\n",
       "      <td>None</td>\n",
       "      <td>None</td>\n",
       "      <td>NetCDF</td>\n",
       "      <td>None</td>\n",
       "      <td>OLI_TIRS</td>\n",
       "      <td>LANDSAT_8</td>\n",
       "      <td>None</td>\n",
       "      <td>None</td>\n",
       "      <td>EPSG:4326</td>\n",
       "      <td>(-0.000271277688070265, 0.000271139577954979)</td>\n",
       "      <td>(0.999929558226998, 0.999962763497961)</td>\n",
       "      <td>(latitude, longitude)</td>\n",
       "    </tr>\n",
       "  </tbody>\n",
       "</table>\n",
       "</div>"
      ],
      "text/plain": [
       "                        name  \\\n",
       "id                             \n",
       "12  ls7_collections_sr_scene   \n",
       "13          ls7_ledaps_ghana   \n",
       "17          ls7_ledaps_kenya   \n",
       "18        ls7_ledaps_senegal   \n",
       "16   ls7_ledaps_sierra_leone   \n",
       "19       ls7_ledaps_tanzania   \n",
       "31        ls7_ledaps_vietnam   \n",
       "7   ls8_collections_sr_scene   \n",
       "9            ls8_lasrc_ghana   \n",
       "10           ls8_lasrc_kenya   \n",
       "11         ls8_lasrc_senegal   \n",
       "8     ls8_lasrc_sierra_leone   \n",
       "15        ls8_lasrc_tanzania   \n",
       "\n",
       "                                          description product_type  time  \\\n",
       "id                                                                         \n",
       "12  Landsat 7 USGS Collection 1 Higher Level SR sc...       LEDAPS  None   \n",
       "13  Landsat 7 USGS Collection 1 Higher Level SR sc...       LEDAPS  None   \n",
       "17  Landsat 7 USGS Collection 1 Higher Level SR sc...       LEDAPS  None   \n",
       "18  Landsat 7 USGS Collection 1 Higher Level SR sc...       LEDAPS  None   \n",
       "16  Landsat 7 USGS Collection 1 Higher Level SR sc...       LEDAPS  None   \n",
       "19  Landsat 7 USGS Collection 1 Higher Level SR sc...       LEDAPS  None   \n",
       "31  Landsat 7 USGS Collection 1 Higher Level SR sc...       LEDAPS  None   \n",
       "7   Landsat 8 USGS Collection 1 Higher Level SR sc...        LaSRC  None   \n",
       "9   Landsat 8 USGS Collection 1 Higher Level SR sc...        LaSRC  None   \n",
       "10  Landsat 8 USGS Collection 1 Higher Level SR sc...        LaSRC  None   \n",
       "11  Landsat 8 USGS Collection 1 Higher Level SR sc...        LaSRC  None   \n",
       "8   Landsat 8 USGS Collection 1 Higher Level SR sc...        LaSRC  None   \n",
       "15  Landsat 8 USGS Collection 1 Higher Level SR sc...        LaSRC  None   \n",
       "\n",
       "   creation_time   format   lon instrument   platform   lat label        crs  \\\n",
       "id                                                                             \n",
       "12          None  GeoTiff  None        ETM  LANDSAT_7  None  None        NaN   \n",
       "13          None   NetCDF  None        ETM  LANDSAT_7  None  None  EPSG:4326   \n",
       "17          None   NetCDF  None        ETM  LANDSAT_7  None  None  EPSG:4326   \n",
       "18          None   NetCDF  None        ETM  LANDSAT_7  None  None  EPSG:4326   \n",
       "16          None   NetCDF  None        ETM  LANDSAT_7  None  None  EPSG:4326   \n",
       "19          None   NetCDF  None        ETM  LANDSAT_7  None  None  EPSG:4326   \n",
       "31          None   NetCDF  None        ETM  LANDSAT_7  None  None  EPSG:4326   \n",
       "7           None  GeoTiff  None   OLI_TIRS  LANDSAT_8  None  None        NaN   \n",
       "9           None   NetCDF  None   OLI_TIRS  LANDSAT_8  None  None  EPSG:4326   \n",
       "10          None   NetCDF  None   OLI_TIRS  LANDSAT_8  None  None  EPSG:4326   \n",
       "11          None   NetCDF  None   OLI_TIRS  LANDSAT_8  None  None  EPSG:4326   \n",
       "8           None   NetCDF  None   OLI_TIRS  LANDSAT_8  None  None  EPSG:4326   \n",
       "15          None   NetCDF  None   OLI_TIRS  LANDSAT_8  None  None  EPSG:4326   \n",
       "\n",
       "                                       resolution  \\\n",
       "id                                                  \n",
       "12                                            NaN   \n",
       "13        (-0.000269494585236, 0.000269494585236)   \n",
       "17                    (-0.000269493, 0.000269493)   \n",
       "18                     (-0.000271152, 0.00027769)   \n",
       "16        (-0.000269494585236, 0.000269494585236)   \n",
       "19  (-0.000271277688070265, 0.000271139577954979)   \n",
       "31        (-0.000269494585236, 0.000269494585236)   \n",
       "7                                             NaN   \n",
       "9         (-0.000269494585236, 0.000269494585236)   \n",
       "10   (-0.000271309115317046, 0.00026957992707863)   \n",
       "11                     (-0.000271152, 0.00027769)   \n",
       "8         (-0.000269494585236, 0.000269494585236)   \n",
       "15  (-0.000271277688070265, 0.000271139577954979)   \n",
       "\n",
       "                                 tile_size     spatial_dimensions  \n",
       "id                                                                 \n",
       "12                                     NaN                    NaN  \n",
       "13        (0.943231048326, 0.943231048326)  (latitude, longitude)  \n",
       "17                (0.99981903, 0.99981903)  (latitude, longitude)  \n",
       "18                     (0.813456, 0.83307)  (latitude, longitude)  \n",
       "16        (0.943231048326, 0.943231048326)  (latitude, longitude)  \n",
       "19  (0.999929558226998, 0.999962763497961)  (latitude, longitude)  \n",
       "31        (0.943231048326, 0.943231048326)  (latitude, longitude)  \n",
       "7                                      NaN                    NaN  \n",
       "9         (0.943231048326, 0.943231048326)  (latitude, longitude)  \n",
       "10  (0.999502780827996, 0.999602369607559)  (latitude, longitude)  \n",
       "11                     (0.813456, 0.83307)  (latitude, longitude)  \n",
       "8         (0.943231048326, 0.943231048326)  (latitude, longitude)  \n",
       "15  (0.999929558226998, 0.999962763497961)  (latitude, longitude)  "
      ]
     },
     "execution_count": 3,
     "metadata": {},
     "output_type": "execute_result"
    }
   ],
   "source": [
    "# Get available products\n",
    "products_info = dc.list_products()\n",
    "products_info"
   ]
  },
  {
   "cell_type": "code",
   "execution_count": 4,
   "metadata": {},
   "outputs": [
    {
     "name": "stdout",
     "output_type": "stream",
     "text": [
      "LANDSAT 7 Products:\n"
     ]
    },
    {
     "data": {
      "text/html": [
       "<div>\n",
       "<style scoped>\n",
       "    .dataframe tbody tr th:only-of-type {\n",
       "        vertical-align: middle;\n",
       "    }\n",
       "\n",
       "    .dataframe tbody tr th {\n",
       "        vertical-align: top;\n",
       "    }\n",
       "\n",
       "    .dataframe thead th {\n",
       "        text-align: right;\n",
       "    }\n",
       "</style>\n",
       "<table border=\"1\" class=\"dataframe\">\n",
       "  <thead>\n",
       "    <tr style=\"text-align: right;\">\n",
       "      <th></th>\n",
       "      <th>platform</th>\n",
       "      <th>name</th>\n",
       "    </tr>\n",
       "    <tr>\n",
       "      <th>id</th>\n",
       "      <th></th>\n",
       "      <th></th>\n",
       "    </tr>\n",
       "  </thead>\n",
       "  <tbody>\n",
       "    <tr>\n",
       "      <td>12</td>\n",
       "      <td>LANDSAT_7</td>\n",
       "      <td>ls7_collections_sr_scene</td>\n",
       "    </tr>\n",
       "    <tr>\n",
       "      <td>13</td>\n",
       "      <td>LANDSAT_7</td>\n",
       "      <td>ls7_ledaps_ghana</td>\n",
       "    </tr>\n",
       "    <tr>\n",
       "      <td>17</td>\n",
       "      <td>LANDSAT_7</td>\n",
       "      <td>ls7_ledaps_kenya</td>\n",
       "    </tr>\n",
       "    <tr>\n",
       "      <td>18</td>\n",
       "      <td>LANDSAT_7</td>\n",
       "      <td>ls7_ledaps_senegal</td>\n",
       "    </tr>\n",
       "    <tr>\n",
       "      <td>16</td>\n",
       "      <td>LANDSAT_7</td>\n",
       "      <td>ls7_ledaps_sierra_leone</td>\n",
       "    </tr>\n",
       "    <tr>\n",
       "      <td>19</td>\n",
       "      <td>LANDSAT_7</td>\n",
       "      <td>ls7_ledaps_tanzania</td>\n",
       "    </tr>\n",
       "    <tr>\n",
       "      <td>31</td>\n",
       "      <td>LANDSAT_7</td>\n",
       "      <td>ls7_ledaps_vietnam</td>\n",
       "    </tr>\n",
       "  </tbody>\n",
       "</table>\n",
       "</div>"
      ],
      "text/plain": [
       "     platform                      name\n",
       "id                                     \n",
       "12  LANDSAT_7  ls7_collections_sr_scene\n",
       "13  LANDSAT_7          ls7_ledaps_ghana\n",
       "17  LANDSAT_7          ls7_ledaps_kenya\n",
       "18  LANDSAT_7        ls7_ledaps_senegal\n",
       "16  LANDSAT_7   ls7_ledaps_sierra_leone\n",
       "19  LANDSAT_7       ls7_ledaps_tanzania\n",
       "31  LANDSAT_7        ls7_ledaps_vietnam"
      ]
     },
     "execution_count": 4,
     "metadata": {},
     "output_type": "execute_result"
    }
   ],
   "source": [
    "# List LANDSAT 7 products (remove comments below to see list of products)\n",
    "print(\"LANDSAT 7 Products:\")\n",
    "products_info[[\"platform\", \"name\"]][products_info.platform == \"LANDSAT_7\"]"
   ]
  },
  {
   "cell_type": "code",
   "execution_count": 5,
   "metadata": {
    "scrolled": false
   },
   "outputs": [
    {
     "name": "stdout",
     "output_type": "stream",
     "text": [
      "LANDSAT 8 Products:\n"
     ]
    },
    {
     "data": {
      "text/html": [
       "<div>\n",
       "<style scoped>\n",
       "    .dataframe tbody tr th:only-of-type {\n",
       "        vertical-align: middle;\n",
       "    }\n",
       "\n",
       "    .dataframe tbody tr th {\n",
       "        vertical-align: top;\n",
       "    }\n",
       "\n",
       "    .dataframe thead th {\n",
       "        text-align: right;\n",
       "    }\n",
       "</style>\n",
       "<table border=\"1\" class=\"dataframe\">\n",
       "  <thead>\n",
       "    <tr style=\"text-align: right;\">\n",
       "      <th></th>\n",
       "      <th>platform</th>\n",
       "      <th>name</th>\n",
       "    </tr>\n",
       "    <tr>\n",
       "      <th>id</th>\n",
       "      <th></th>\n",
       "      <th></th>\n",
       "    </tr>\n",
       "  </thead>\n",
       "  <tbody>\n",
       "    <tr>\n",
       "      <td>7</td>\n",
       "      <td>LANDSAT_8</td>\n",
       "      <td>ls8_collections_sr_scene</td>\n",
       "    </tr>\n",
       "    <tr>\n",
       "      <td>9</td>\n",
       "      <td>LANDSAT_8</td>\n",
       "      <td>ls8_lasrc_ghana</td>\n",
       "    </tr>\n",
       "    <tr>\n",
       "      <td>10</td>\n",
       "      <td>LANDSAT_8</td>\n",
       "      <td>ls8_lasrc_kenya</td>\n",
       "    </tr>\n",
       "    <tr>\n",
       "      <td>11</td>\n",
       "      <td>LANDSAT_8</td>\n",
       "      <td>ls8_lasrc_senegal</td>\n",
       "    </tr>\n",
       "    <tr>\n",
       "      <td>8</td>\n",
       "      <td>LANDSAT_8</td>\n",
       "      <td>ls8_lasrc_sierra_leone</td>\n",
       "    </tr>\n",
       "    <tr>\n",
       "      <td>15</td>\n",
       "      <td>LANDSAT_8</td>\n",
       "      <td>ls8_lasrc_tanzania</td>\n",
       "    </tr>\n",
       "  </tbody>\n",
       "</table>\n",
       "</div>"
      ],
      "text/plain": [
       "     platform                      name\n",
       "id                                     \n",
       "7   LANDSAT_8  ls8_collections_sr_scene\n",
       "9   LANDSAT_8           ls8_lasrc_ghana\n",
       "10  LANDSAT_8           ls8_lasrc_kenya\n",
       "11  LANDSAT_8         ls8_lasrc_senegal\n",
       "8   LANDSAT_8    ls8_lasrc_sierra_leone\n",
       "15  LANDSAT_8        ls8_lasrc_tanzania"
      ]
     },
     "execution_count": 5,
     "metadata": {},
     "output_type": "execute_result"
    }
   ],
   "source": [
    "# List LANDSAT 8 products (remove comments below to see list of products)\n",
    "print(\"LANDSAT 8 Products:\")\n",
    "products_info[[\"platform\", \"name\"]][products_info.platform == \"LANDSAT_8\"]"
   ]
  },
  {
   "cell_type": "code",
   "execution_count": 6,
   "metadata": {},
   "outputs": [
    {
     "name": "stdout",
     "output_type": "stream",
     "text": [
      "Sentinel 1 Products:\n"
     ]
    },
    {
     "data": {
      "text/html": [
       "<div>\n",
       "<style scoped>\n",
       "    .dataframe tbody tr th:only-of-type {\n",
       "        vertical-align: middle;\n",
       "    }\n",
       "\n",
       "    .dataframe tbody tr th {\n",
       "        vertical-align: top;\n",
       "    }\n",
       "\n",
       "    .dataframe thead th {\n",
       "        text-align: right;\n",
       "    }\n",
       "</style>\n",
       "<table border=\"1\" class=\"dataframe\">\n",
       "  <thead>\n",
       "    <tr style=\"text-align: right;\">\n",
       "      <th></th>\n",
       "      <th>platform</th>\n",
       "      <th>name</th>\n",
       "    </tr>\n",
       "    <tr>\n",
       "      <th>id</th>\n",
       "      <th></th>\n",
       "      <th></th>\n",
       "    </tr>\n",
       "  </thead>\n",
       "  <tbody>\n",
       "  </tbody>\n",
       "</table>\n",
       "</div>"
      ],
      "text/plain": [
       "Empty DataFrame\n",
       "Columns: [platform, name]\n",
       "Index: []"
      ]
     },
     "execution_count": 6,
     "metadata": {},
     "output_type": "execute_result"
    }
   ],
   "source": [
    "# List Sentinel 1 products (remove comments below to see list of products)\n",
    "print(\"Sentinel 1 Products:\")\n",
    "products_info[[\"platform\", \"name\"]][products_info.platform == \"SENTINEL1\"]"
   ]
  },
  {
   "cell_type": "markdown",
   "metadata": {},
   "source": [
    "<p style=\"color:red\";><b>CHANGE INPUTS BELOW"
   ]
  },
  {
   "cell_type": "code",
   "execution_count": 7,
   "metadata": {},
   "outputs": [],
   "source": [
    "# These are the optical platforms (satellites) and \n",
    "# products (datacube sets) used for this demonstration.\n",
    "use_Landsat7 = True\n",
    "use_Landsat8 = True\n",
    "optical_platforms = []\n",
    "optical_products = []\n",
    "if use_Landsat7:\n",
    "    optical_platforms.append('LANDSAT_7')\n",
    "    optical_products.append('ls7_ledaps_ghana')\n",
    "if use_Landsat8:\n",
    "    optical_platforms.append('LANDSAT_8')\n",
    "    optical_products.append('ls8_lasrc_ghana')\n",
    "\n",
    "# These are the SAR platforms (satellites) and \n",
    "# products (datacube sets) used for this demonstration.\n",
    "sar_platforms = []\n",
    "sar_products = []\n",
    "# sar_platforms = ['SENTINEL1']\n",
    "# sar_products = ['s1monthly_gamma0_ghana']\n",
    "\n",
    "platforms = optical_platforms + sar_platforms\n",
    "products = optical_products + sar_products\n",
    "assert len(platforms) > 0, \"There must be at least one platform (and corresponding product) selected.\"\n",
    "\n",
    "# The fraction of the original resolution to use for analysis.\n",
    "# Use this to control memory consumption and run time.\n",
    "# Set this to None to not scale the resolution of the data.\n",
    "frac_res = None"
   ]
  },
  {
   "cell_type": "markdown",
   "metadata": {},
   "source": [
    "## <span id=\"extents\">Get the Maximum Extents of the Cube [&#9652;](#top)</span>"
   ]
  },
  {
   "cell_type": "code",
   "execution_count": 9,
   "metadata": {},
   "outputs": [
    {
     "name": "stdout",
     "output_type": "stream",
     "text": [
      "For platform LANDSAT_7 and product ls7_ledaps_ghana:\n",
      "Time Extents: ['2000-01-01' '2017-12-28']\n",
      "\n",
      "For platform LANDSAT_8 and product ls8_lasrc_ghana:\n",
      "Time Extents: ['2013-04-13' '2018-01-01']\n",
      "\n",
      "Overlapping Extents:\n",
      "Latitude Extents: (3.772924193304, 11.318772579912)\n",
      "Longitude Extents: (-3.772924193304, 1.886462096652)\n",
      "Time Extents: ['2013-04-13', '2017-12-28']\n"
     ]
    }
   ],
   "source": [
    "from utils.data_cube_utilities.dc_load import get_overlapping_area\n",
    "from utils.data_cube_utilities.dc_time import dt_to_str\n",
    "\n",
    "full_lat, full_lon, min_max_dates = get_overlapping_area(api, platforms, products)\n",
    "\n",
    "# Print the extents of each product.\n",
    "str_min_max_dates = np.vectorize(dt_to_str)(min_max_dates)\n",
    "for i, (platform, product) in enumerate(zip(platforms, products)):\n",
    "    print(\"For platform {} and product {}:\".format(platform, product))\n",
    "    print(\"Time Extents:\", str_min_max_dates[i])\n",
    "    print()\n",
    "\n",
    "# Print the extents of the combined data.\n",
    "min_start_date_mutual = np.max(min_max_dates[:,0])\n",
    "max_end_date_mutual = np.min(min_max_dates[:,1])\n",
    "print(\"Overlapping Extents:\")\n",
    "print(\"Latitude Extents:\", full_lat)\n",
    "print(\"Longitude Extents:\", full_lon)\n",
    "print(\"Time Extents:\", list(map(dt_to_str, (min_start_date_mutual, max_end_date_mutual))))"
   ]
  },
  {
   "cell_type": "code",
   "execution_count": 10,
   "metadata": {},
   "outputs": [
    {
     "data": {
      "text/html": [
       "<div style=\"width:100%;\"><div style=\"position:relative;width:100%;height:0;padding-bottom:60%;\"><iframe src=\"data:text/html;charset=utf-8;base64,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\" style=\"position:absolute;width:100%;height:100%;left:0;top:0;border:none !important;\" allowfullscreen webkitallowfullscreen mozallowfullscreen></iframe></div></div>"
      ],
      "text/plain": [
       "<folium.folium.Map at 0x7fdf012e02e8>"
      ]
     },
     "execution_count": 10,
     "metadata": {},
     "output_type": "execute_result"
    }
   ],
   "source": [
    "from utils.data_cube_utilities.dc_display_map import display_map\n",
    "\n",
    "# Display the total shared area available for these datacube products.\n",
    "display_map(latitude = full_lat,longitude = full_lon)"
   ]
  },
  {
   "cell_type": "markdown",
   "metadata": {},
   "source": [
    "## <span id=\"define_extents\">Define the Extents of the Analysis [&#9652;](#top)</span>"
   ]
  },
  {
   "cell_type": "markdown",
   "metadata": {},
   "source": [
    "<p style=\"color:red\";><b>CHANGE INPUTS BELOW"
   ]
  },
  {
   "cell_type": "code",
   "execution_count": 11,
   "metadata": {},
   "outputs": [],
   "source": [
    "# Select an analysis region (Lat-Lon) within the extents listed above. \n",
    "# If your datasets are empty, check which products and time extents you used.\n",
    "# HINT: Keep your region small (<0.5 deg square) to avoid memory overload issues.\n",
    "# Select a time period (Min-Max) within the extents listed above (Year-Month-Day).\n",
    "# This region and time period will be used for the water assessment.\n",
    "\n",
    "# Mombasa, Kenya\n",
    "# lat = (-4.0475, -3.9574) \n",
    "# lon = (39.6028, 39.6792) \n",
    "# time_extents = ('2015-01-01', '2018-01-01')\n",
    "\n",
    "# Ndakaini Dam, Kenya (provides water to Nairobi)\n",
    "# lat =  (-0.8269, -0.8090)  # full\n",
    "# lon =  (36.8192, 36.8529) # full\n",
    "# lat =  (-0.8269, -0.8190)  # small\n",
    "# lon =  (36.8392, 36.8429) # small\n",
    "# time_extents = ('2000-01-01', '2018-01-01')\n",
    "\n",
    "# Lake by Mankessim, Ghana\n",
    "lat = (5.3010, 5.3240)\n",
    "lon = (-1.0450, -1.0238)\n",
    "time_extents = ('2015-01-01', '2018-12-31')\n",
    "\n",
    "# Lake Sulunga, Tanzania\n",
    "# latitude_extents = (-6.2622, -5.8822) \n",
    "# longitude_extents = (34.9802, 35.3602) \n",
    "# time_extents = ('2016-01-01', '2018-01-01')"
   ]
  },
  {
   "cell_type": "markdown",
   "metadata": {},
   "source": [
    "**Visualize the selected area**"
   ]
  },
  {
   "cell_type": "code",
   "execution_count": 12,
   "metadata": {
    "scrolled": false
   },
   "outputs": [
    {
     "data": {
      "text/html": [
       "<div style=\"width:100%;\"><div style=\"position:relative;width:100%;height:0;padding-bottom:60%;\"><iframe src=\"data:text/html;charset=utf-8;base64,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\" style=\"position:absolute;width:100%;height:100%;left:0;top:0;border:none !important;\" allowfullscreen webkitallowfullscreen mozallowfullscreen></iframe></div></div>"
      ],
      "text/plain": [
       "<folium.folium.Map at 0x7fdee8393470>"
      ]
     },
     "execution_count": 12,
     "metadata": {},
     "output_type": "execute_result"
    }
   ],
   "source": [
    "display_map(lat, lon)"
   ]
  },
  {
   "cell_type": "markdown",
   "metadata": {},
   "source": [
    "## <span id=\"retrieve_data\">Load Data from the Data Cube [&#9652;](#top)</span>"
   ]
  },
  {
   "cell_type": "markdown",
   "metadata": {},
   "source": [
    "**Load Optical Data (Landsat)**"
   ]
  },
  {
   "cell_type": "code",
   "execution_count": 13,
   "metadata": {
    "scrolled": false
   },
   "outputs": [],
   "source": [
    "from utils.data_cube_utilities.dc_load import match_dim_sizes\n",
    "from utils.data_cube_utilities.clean_mask import landsat_qa_clean_mask, landsat_clean_mask_invalid\n",
    "from utils.data_cube_utilities.aggregate import xr_scale_res\n",
    "from utils.data_cube_utilities.sort import xarray_sortby_coord\n",
    "\n",
    "matching_abs_res, same_dim_sizes = match_dim_sizes(dc, products, lon, lat, method='min')\n",
    "\n",
    "optical_datasets = {}\n",
    "optical_clean_masks = {}\n",
    "optical_cloud_masks = {}\n",
    "for platform, product in zip(optical_platforms, optical_products):\n",
    "    # Load the data.\n",
    "    # We need the bands ['red', 'green', 'blue', 'nir', 'swir1', 'swir2'] because WOFS uses them.\n",
    "    # We need the 'pixel_qa' band to mask out undesired pixels.\n",
    "    measurements = ['red', 'green', 'blue', 'nir', 'swir1', 'swir2', 'pixel_qa']\n",
    "    dataset = dc.load(platform=platform, product=product, \n",
    "                      lat=lat, lon=lon, \n",
    "                      time=time_extents, measurements=measurements)\n",
    "    if len(dataset.dims) == 0: # The dataset is empty.\n",
    "        continue\n",
    "    # Get the clean masks.\n",
    "    clean_mask = landsat_qa_clean_mask(dataset, platform) & \\\n",
    "                 (dataset[measurements[0]] != -9999) & \\\n",
    "                 landsat_clean_mask_invalid(dataset)\n",
    "    cloud_mask = landsat_qa_clean_mask(dataset, platform, cover_types=['cloud'])\n",
    "    # Remove the 'pixel_qa' band since we have the clean mask.\n",
    "    dataset = dataset.drop('pixel_qa')\n",
    "    # If needed, scale the datasets and clean masks to the same size in the x and y dimensions.\n",
    "    if not same_dim_sizes:\n",
    "        dataset = xr_scale_res(dataset, abs_res=matching_abs_res)\n",
    "        clean_mask = xr_scale_res(clean_mask.astype(np.uint8), abs_res=matching_abs_res).astype(np.bool)\n",
    "        cloud_mask = xr_scale_res(cloud_mask.astype(np.uint8), abs_res=matching_abs_res).astype(np.bool)\n",
    "    # Clean the data.\n",
    "    dataset = dataset.astype(np.float32).where(clean_mask)\n",
    "    optical_datasets[product] = dataset\n",
    "    optical_clean_masks[product] = clean_mask\n",
    "    optical_cloud_masks[product] = cloud_mask\n",
    "# Combine everything.\n",
    "if len(optical_datasets) > 0:\n",
    "    optical_dataset = xarray_sortby_coord(xr.concat(list(optical_datasets.values()), dim='time'), coord='time')\n",
    "    optical_clean_mask = xarray_sortby_coord(xr.concat(list(optical_clean_masks.values()), dim='time'), coord='time')\n",
    "    optical_cloud_mask = xarray_sortby_coord(xr.concat(list(optical_cloud_masks.values()), dim='time'), coord='time')\n",
    "else:\n",
    "    optical_dataset = xr.Dataset()\n",
    "    optical_clean_mask = xr.DataArray(np.empty((0,), dtype=np.bool))\n",
    "    optical_cloud_mask = xr.DataArray(np.empty((0,), dtype=np.bool))\n",
    "del optical_datasets, optical_clean_masks, optical_cloud_masks"
   ]
  },
  {
   "cell_type": "markdown",
   "metadata": {},
   "source": [
    "**Load SAR Data (Sentinel 1)**"
   ]
  },
  {
   "cell_type": "code",
   "execution_count": 14,
   "metadata": {},
   "outputs": [],
   "source": [
    "sar_datasets = {}\n",
    "sar_clean_masks = {}\n",
    "for platform, product in zip(sar_platforms, sar_products):\n",
    "    # Load the data.\n",
    "    measurements = ['vv', 'vh']\n",
    "    dataset = dc.load(platform=platform, product=product, lat=lat, lon=lon, \n",
    "                      time=time_extents, measurements=measurements)\n",
    "    if len(dataset.dims) == 0: # The dataset is empty.\n",
    "        continue\n",
    "    # Get the clean masks.\n",
    "    clean_mask = (dataset.vv != 0)\n",
    "    # If needed, scale the datasets and clean masks to the same size in the x and y dimensions.\n",
    "    if not same_dim_sizes:    \n",
    "        dataset = xr_scale_res(dataset, abs_res=matching_abs_res)\n",
    "        clean_mask = xr_scale_res(clean_mask.astype(np.uint8), abs_res=matching_abs_res).astype(np.bool)\n",
    "    sar_datasets[product], sar_clean_masks[product] = dataset, clean_mask\n",
    "# Combine everything.\n",
    "if len(sar_datasets) > 0:\n",
    "    sar_dataset = xarray_sortby_coord(xr.concat(list(sar_datasets.values()), dim='time'), coord='time')\n",
    "    sar_clean_mask = xarray_sortby_coord(xr.concat(list(sar_clean_masks.values()), dim='time'), coord='time')\n",
    "else:\n",
    "    sar_dataset = xr.Dataset()\n",
    "    sar_clean_mask = xr.DataArray(np.empty((0,), dtype=np.bool))\n",
    "del sar_datasets, sar_clean_masks"
   ]
  },
  {
   "cell_type": "code",
   "execution_count": 15,
   "metadata": {},
   "outputs": [],
   "source": [
    "from utils.data_cube_utilities.dc_load import is_dataset_empty\n",
    "\n",
    "optical_dataset_is_empty = is_dataset_empty(optical_dataset)\n",
    "sar_dataset_is_empty = is_dataset_empty(sar_dataset)\n",
    "# Make coordinates other than time the same between the optical and SAR datasets.\n",
    "if not optical_dataset_is_empty and not sar_dataset_is_empty:\n",
    "    sar_dataset.latitude.values = optical_dataset.latitude.values\n",
    "    sar_dataset.longitude.values = optical_dataset.longitude.values"
   ]
  },
  {
   "cell_type": "markdown",
   "metadata": {},
   "source": [
    "## <span id=\"get_water_cls\">Get Water Classifications [&#9652;](#top)</span>"
   ]
  },
  {
   "cell_type": "markdown",
   "metadata": {},
   "source": [
    "**Get WOFS Classifications for Landsat Data**"
   ]
  },
  {
   "cell_type": "code",
   "execution_count": 16,
   "metadata": {},
   "outputs": [],
   "source": [
    "if not optical_dataset_is_empty:\n",
    "    from utils.data_cube_utilities.dc_water_classifier import wofs_classify\n",
    "    optical_dataset['water'] = wofs_classify(optical_dataset, optical_clean_mask).wofs.astype(np.float16)\n",
    "    optical_dataset['water'] = optical_dataset['water'].where(optical_clean_mask & (optical_dataset['water'] != -10000))"
   ]
  },
  {
   "cell_type": "markdown",
   "metadata": {},
   "source": [
    "**Get WASARD Classifications for Sentinel 1 Data**"
   ]
  },
  {
   "cell_type": "code",
   "execution_count": 17,
   "metadata": {},
   "outputs": [],
   "source": [
    "if not sar_dataset_is_empty:\n",
    "    from utils.data_cube_utilities.wasard import wasard_classifier\n",
    "    wasard_cls = wasard_classifier('wasard/general.pkl')\n",
    "    sar_dataset['water'] = wasard_cls.wasard_classify(sar_dataset).wasard"
   ]
  },
  {
   "cell_type": "markdown",
   "metadata": {},
   "source": [
    "**Combine and Resample Water Classifications**"
   ]
  },
  {
   "cell_type": "code",
   "execution_count": 18,
   "metadata": {},
   "outputs": [],
   "source": [
    "water_datasets = []\n",
    "if not optical_dataset_is_empty:\n",
    "    water_datasets.append(optical_dataset.water)\n",
    "if not sar_dataset_is_empty:\n",
    "    water_datasets.append(sar_dataset.water)\n",
    "water = xarray_sortby_coord(xr.concat(water_datasets, dim='time'), coord='time')"
   ]
  },
  {
   "cell_type": "code",
   "execution_count": 19,
   "metadata": {},
   "outputs": [],
   "source": [
    "# Water classifiers can sometimes output erroneous classifications, so we take a rounded mean \n",
    "# of water classifications along time for windows of times to have a more reliable output.\n",
    "# Must be a number followed by a letter. The number is the number of time periods\n",
    "# for each composite. The letter is the unit of time and can be one of ['D', 'W', 'M', 'Y'],\n",
    "# which are days, weeks, months, and years, respectively.\n",
    "# Set this to None to use all original water classification time slices.\n",
    "composite_period = None\n",
    "\n",
    "water = water.resample(time=composite_period).mean('time').round() if composite_period is not None else water"
   ]
  },
  {
   "cell_type": "markdown",
   "metadata": {},
   "source": [
    "## <span id=\"examine_water_extents\">Examine the Minimum and Maximum Water Extents [&#9652;](#top)</span>"
   ]
  },
  {
   "cell_type": "markdown",
   "metadata": {},
   "source": [
    "<p style=\"color:red\";><b>CHANGE INPUTS BELOW"
   ]
  },
  {
   "cell_type": "code",
   "execution_count": 20,
   "metadata": {},
   "outputs": [],
   "source": [
    "## Plot Formatting Settings ##\n",
    "\n",
    "# Formatting for full-width plots.\n",
    "title_fontdict = dict(fontsize=16) # Title formatting\n",
    "tick_label_fmt_dict = dict(axis='both', labelsize=12) # Tick label formatting\n",
    "axis_label_fmt_dict = dict(fontsize=16) # Axis label formatting\n",
    "legend_kwargs = dict(fontsize=12)\n",
    "\n",
    "std_dpi = 200 # Standard image dpi.\n",
    "\n",
    "## End Plot Formatting Settings ##"
   ]
  },
  {
   "cell_type": "markdown",
   "metadata": {},
   "source": [
    "**Obtain the minimum and maximum water extents.**"
   ]
  },
  {
   "cell_type": "markdown",
   "metadata": {},
   "source": [
    "<p style=\"color:red\";><b>CHANGE INPUTS BELOW"
   ]
  },
  {
   "cell_type": "code",
   "execution_count": 21,
   "metadata": {},
   "outputs": [],
   "source": [
    "## Settings ##\n",
    "\n",
    "# Can be any of ['time-slice', 'per-pixel'].\n",
    "# The value 'time-slice' obtains the minimum and maximum water extents on an time-slice basis.\n",
    "# The value 'per-pixel' obtains the minumum and maximum water extents on a per-pixel basis.\n",
    "water_extent_method = 'time-slice'\n",
    "assert water_extent_method in ['time-slice', 'per-pixel'], \\\n",
    "    \"The setting `water_extent_method` must be one of ['time-slice', 'per-pixel'].\"\n",
    "\n",
    "# This setting is only relevant if `water_extent_method` is set to 'time-slice'.\n",
    "# Water classifiers can sometimes output erroneous classifications and sometimes excessive clouds\n",
    "# make compositing an impractical solution to accounting for noisy classifications. \n",
    "# And SAR data is sometimes unavailable for WASARD water classification over cloudy regions,\n",
    "# so percentiles can be specified for the minimum and maximum time slices. These can be between\n",
    "# 0 and 100. The minimum water time-slice selected will be the time slice with non-water extents\n",
    "# at or below `percentile_min`. The maximum water time-slice selected will be the time slice \n",
    "# with water extents at or below `percentile_max`.\n",
    "percentile_min, percentile_max = 95, 90\n",
    "\n",
    "## End Settings ##\n",
    "\n",
    "# Option 1: Obtain the acquisitions with the minimum and maximum water extents.\n",
    "if water_extent_method == 'time-slice':\n",
    "    count_non_water = water.where(water == 0).count(dim=['latitude', 'longitude'])\n",
    "    count_water = water.where(water == 1).count(dim=['latitude', 'longitude'])\n",
    "    \n",
    "    # Find the acquisition with the least water (the one with the most non-water pixels).\n",
    "    percentile_value_min = np.percentile(count_non_water, percentile_min, interpolation='lower')\n",
    "    # Handle the case of multiple acquisitions with the same amount of non-water (notably 0).\n",
    "    acqs_with_value_min = count_non_water == percentile_value_min\n",
    "    if acqs_with_value_min.sum() > 1: # Find the acquisition with the least water (and most non-water).\n",
    "        min_extent_time_ind = np.argmin(count_water.isel(time=acqs_with_value_min).values)\n",
    "    else:\n",
    "        min_extent_time_ind = (count_non_water == percentile_value_min).argmax().values\n",
    "    min_extent_time = water.time.values[min_extent_time_ind]\n",
    "    min_water_extent = water.isel(time=min_extent_time_ind)\n",
    "\n",
    "    # Find the acquisition with the most water (the one with the most water pixels).\n",
    "    percentile_value_max = np.percentile(count_water, percentile_max, interpolation='lower')\n",
    "    # Handle the case of multiple acquisitions with the same amount of water (notably 0).\n",
    "    acqs_with_value_max = count_water == percentile_value_max\n",
    "    if acqs_with_value_max.sum() > 1: # Find the acquisition with the least non-water (and most water).\n",
    "        max_extent_time_ind = np.argmin(count_non_water.isel(time=acqs_with_value_max).values)\n",
    "    else:\n",
    "        max_extent_time_ind = (count_water == percentile_value_max).argmax().values\n",
    "    max_extent_time = water.time.values[max_extent_time_ind]\n",
    "    max_water_extent = water.isel(time=max_extent_time_ind)\n",
    "    \n",
    "# Option 2: Obtain the minimum and maximum water extents on a per-pixel basis.\n",
    "else: \n",
    "    min_water_extent = water.min('time')\n",
    "    max_water_extent = water.max('time')"
   ]
  },
  {
   "cell_type": "markdown",
   "metadata": {},
   "source": [
    "**Show the minimum and maximum water extents.**"
   ]
  },
  {
   "cell_type": "code",
   "execution_count": 22,
   "metadata": {
    "scrolled": false
   },
   "outputs": [
    {
     "data": {
      "image/png": "[encoded data removed]",
      "text/plain": [
       "<Figure size 2400x2612.66 with 2 Axes>"
      ]
     },
     "metadata": {
      "needs_background": "light"
     },
     "output_type": "display_data"
    }
   ],
   "source": [
    "from utils.data_cube_utilities.plotter_utils import figure_ratio, create_discrete_color_map, xarray_imshow\n",
    "\n",
    "# Begin plotting the data\n",
    "fig_width = 12 # Use this to change the size of this figure.\n",
    "fig = plt.figure(figsize=figure_ratio(water, fixed_width=fig_width), dpi=std_dpi)\n",
    "\n",
    "# Create common colormap.\n",
    "cmap = create_discrete_color_map([0,1], ['red', 'blue'])\n",
    "\n",
    "imshow_kwargs = dict(vmin=0, vmax=1, cmap=cmap)\n",
    "\n",
    "legend_labels = {0:'Not Water', 1:'Water'}\n",
    "\n",
    "# Minimum water extent\n",
    "ax = plt.subplot(1,2,1)\n",
    "fig, ax, im, cbar = \\\n",
    "    xarray_imshow(min_water_extent.astype(np.float32), fig=fig, ax=ax, use_colorbar=False, use_legend=True, \n",
    "                  legend_labels=legend_labels, imshow_kwargs=imshow_kwargs, \n",
    "                  x_label_kwargs=axis_label_fmt_dict, y_label_kwargs=axis_label_fmt_dict,\n",
    "                  legend_kwargs=legend_kwargs)\n",
    "ax.set_title(\"Minimum Water Extent \\n({})\".format(min_extent_time), fontdict=title_fontdict)\n",
    "ax.tick_params(**tick_label_fmt_dict)\n",
    "\n",
    "# Maximum water extent\n",
    "ax = plt.subplot(1,2,2)\n",
    "fig, ax, im, cbar = \\\n",
    "    xarray_imshow(max_water_extent.astype(np.float32), fig=fig, ax=ax, use_colorbar=False, use_legend=True, \n",
    "                  legend_labels=legend_labels, imshow_kwargs=imshow_kwargs,\n",
    "                  x_label_kwargs=axis_label_fmt_dict, y_label_kwargs=axis_label_fmt_dict,\n",
    "                  legend_kwargs=legend_kwargs)\n",
    "ax.set_title(\"Maximum Water Extent \\n({})\".format(max_extent_time), fontdict=title_fontdict)\n",
    "ax.tick_params(**tick_label_fmt_dict)\n",
    "\n",
    "plt.tight_layout()\n",
    "plt.show()"
   ]
  },
  {
   "cell_type": "markdown",
   "metadata": {},
   "source": [
    "**For the minimum and maximum water extents, print the percents of pixels that are water, not water, or cloud.**"
   ]
  },
  {
   "cell_type": "code",
   "execution_count": 23,
   "metadata": {
    "scrolled": false
   },
   "outputs": [
    {
     "name": "stdout",
     "output_type": "stream",
     "text": [
      "The minimum water extent image is composed of the following classes:\n",
      "    Water (706 pixels - 10.39% of all pixels)\n",
      "    Not Water (4168 pixels - 61.35% of all pixels)\n",
      "    Cloud (436 pixels - 6.42% of all pixels)\n",
      "    No-data (1484 pixels - 21.84% of all pixels)\n",
      "\n",
      "The maximum water extent image is composed of the following classes:\n",
      "    Water (582 pixels - 8.57% of all pixels)\n",
      "    Not Water (3715 pixels - 54.68% of all pixels),\n",
      "    Cloud (0 pixels - 0.00% of all pixels)\n",
      "    No-data (2497 pixels - 36.75% of all pixels)\n"
     ]
    }
   ],
   "source": [
    "# Determine the percent of water and non-water pixels for the minimum extent.\n",
    "num_water_min = (min_water_extent == 1).sum().values\n",
    "pct_water_min = num_water_min / min_water_extent.size\n",
    "num_non_water_min = (min_water_extent == 0).sum().values\n",
    "pct_non_water_min = num_non_water_min / min_water_extent.size\n",
    "\n",
    "# Determine the percent of water and non-water pixels for the maximum extent.\n",
    "num_water_max = (max_water_extent == 1).sum().values\n",
    "pct_water_max = num_water_max / max_water_extent.size\n",
    "num_non_water_max = (max_water_extent == 0).sum().values\n",
    "pct_non_water_max = num_non_water_max / max_water_extent.size\n",
    "\n",
    "# Determine the fraction of cloud pixels for the minium and maximum extents.\n",
    "if optical_dataset_is_empty: # SAR data is largely unaffected by clouds.\n",
    "    num_cloud_min, pct_cloud_min, num_cloud_max, pct_cloud_max = [0]*4\n",
    "else: # Handle time-slice-based extents.\n",
    "    if water_extent_method == 'time-slice':\n",
    "        min_acq_is_optical = np.any(optical_cloud_mask.time.values == min_extent_time)\n",
    "        num_cloud_min = optical_cloud_mask.sel(time=min_extent_time).sum().values \\\n",
    "                        if min_acq_is_optical else 0\n",
    "        pct_cloud_min = num_cloud_min / min_water_extent.size\n",
    "\n",
    "        max_acq_is_optical = np.any(optical_cloud_mask.time.values == max_extent_time)\n",
    "        num_cloud_max = optical_cloud_mask.sel(time=max_extent_time).sum().values \\\n",
    "                        if max_acq_is_optical else 0\n",
    "        pct_cloud_max = num_cloud_max / max_water_extent.size\n",
    "    else: # Handle per-pixel extents.\n",
    "        cloud_masks = []\n",
    "        if not optical_dataset_is_empty:\n",
    "            cloud_masks.append(~optical_cloud_mask)\n",
    "        if not sar_dataset_is_empty:\n",
    "            cloud_masks.append(sar_clean_mask)\n",
    "        combined_cloud_mask = xr.concat(cloud_masks, dim='time')\n",
    "        num_cloud_min = (~combined_cloud_mask).min('time').sum().values\n",
    "        pct_cloud_min = num_cloud_min / min_water_extent.size\n",
    "        # For both min and max extents, cloud pixels will be minimized because cloud pixels are masked to NaN,\n",
    "        # which is ignored (avoided) by the min and max operations for xarrays.\n",
    "        num_cloud_max = num_cloud_min \n",
    "        pct_cloud_max = num_cloud_max / max_water_extent.size\n",
    "\n",
    "# Determine the percent of no_data values for hte minimum and maximum extents.\n",
    "num_nodata_min = int(min_water_extent.size - sum([num_water_min, num_non_water_min, num_cloud_min]))\n",
    "pct_nodata_min = num_nodata_min / min_water_extent.size\n",
    "num_nodata_max = int(max_water_extent.size - sum([num_water_max, num_non_water_max, num_cloud_max]))\n",
    "pct_nodata_max = num_nodata_max / max_water_extent.size\n",
    "\n",
    "print(\"\"\"The minimum water extent image is composed of the following classes:\n",
    "    Water ({} pixels - {:.2%} of all pixels)\n",
    "    Not Water ({} pixels - {:.2%} of all pixels)\n",
    "    Cloud ({} pixels - {:.2%} of all pixels)\n",
    "    No-data ({} pixels - {:.2%} of all pixels)\"\"\"\n",
    "    .format(num_water_min, pct_water_min, \n",
    "            num_non_water_min, pct_non_water_min, \n",
    "            num_cloud_min, pct_cloud_min,\n",
    "            num_nodata_min, pct_nodata_min))\n",
    "print()\n",
    "print(\"\"\"The maximum water extent image is composed of the following classes:\n",
    "    Water ({} pixels - {:.2%} of all pixels)\n",
    "    Not Water ({} pixels - {:.2%} of all pixels),\n",
    "    Cloud ({} pixels - {:.2%} of all pixels)\n",
    "    No-data ({} pixels - {:.2%} of all pixels)\"\"\"\n",
    "    .format(num_water_max, pct_water_max, \n",
    "            num_non_water_max, pct_non_water_max, \n",
    "            num_cloud_max, pct_cloud_max,\n",
    "            num_nodata_max, pct_nodata_max))"
   ]
  }
 ],
 "metadata": {
  "kernelspec": {
   "display_name": "Python 3",
   "language": "python",
   "name": "python3"
  },
  "language_info": {
   "codemirror_mode": {
    "name": "ipython",
    "version": 3
   },
   "file_extension": ".py",
   "mimetype": "text/x-python",
   "name": "python",
   "nbconvert_exporter": "python",
   "pygments_lexer": "ipython3",
   "version": "3.6.7"
  },
  "pycharm": {
   "stem_cell": {
    "cell_type": "raw",
    "source": [],
    "metadata": {
     "collapsed": false
    }
   }
  }
 },
 "nbformat": 4,
 "nbformat_minor": 2
}