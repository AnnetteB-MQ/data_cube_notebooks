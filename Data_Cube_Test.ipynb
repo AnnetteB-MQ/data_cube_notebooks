{
 "cells": [
  {
   "cell_type": "code",
   "execution_count": 1,
   "metadata": {},
   "outputs": [],
   "source": [
    "%matplotlib inline\n",
    "import datacube\n",
    "dc = datacube.Datacube(config=\"/home/localuser/.datacube.conf\")"
   ]
  },
  {
   "cell_type": "code",
   "execution_count": 2,
   "metadata": {
    "scrolled": true
   },
   "outputs": [],
   "source": [
    "# Query the Data Cube\n",
    "dataset_in = dc.load(platform = \"LANDSAT_7\",\n",
    "                     product = \"ls7_ledaps_general\",\n",
    "                     measurements = ['red', 'pixel_qa'],\n",
    "                     lat=(8.3, 8.8),\n",
    "                     lon=(-2.8, -2.3))\n",
    "dataset_in"
   ]
  },
  {
   "cell_type": "code",
   "execution_count": 3,
   "metadata": {},
   "outputs": [],
   "source": [
    "import numpy as np\n",
    "# Only select clear land.\n",
    "dataset_in = dataset_in.where(np.bitwise_and(dataset_in.pixel_qa, 2))\n",
    "# Mask out missing data (often called \"no_data\").\n",
    "dataset_in = dataset_in.where(dataset_in != -9999)\n",
    "dataset_in['red'].isel(time=0).plot()"
   ]
  }
 ],
 "metadata": {
  "kernelspec": {
   "display_name": "Python 3",
   "language": "python",
   "name": "python3"
  },
  "language_info": {
   "codemirror_mode": {
    "name": "ipython",
    "version": 3
   },
   "file_extension": ".py",
   "mimetype": "text/x-python",
   "name": "python",
   "nbconvert_exporter": "python",
   "pygments_lexer": "ipython3",
   "version": "3.5.2"
  }
 },
 "nbformat": 4,
 "nbformat_minor": 2
}
