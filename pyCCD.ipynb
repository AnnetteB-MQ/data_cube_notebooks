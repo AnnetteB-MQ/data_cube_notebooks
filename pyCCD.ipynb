{
 "cells": [
  {
   "cell_type": "code",
   "execution_count": 2,
   "metadata": {
    "collapsed": true
   },
   "outputs": [],
   "source": [
    "%matplotlib inline"
   ]
  },
  {
   "cell_type": "markdown",
   "metadata": {},
   "source": [
    "# Detecting deforestation using pyCCD"
   ]
  },
  {
   "cell_type": "markdown",
   "metadata": {},
   "source": [
    "## Finding a study area  \n",
    "\n",
    "I found the following area using google earth and surreptitious comparison with [this](http://www.earthenginepartners.appspot.com/science-2013-global-forest) web-visualization provided by the University of Maryland.  \n",
    "  \n",
    "The image below was generated using google earth.  \n",
    "\n",
    "Change occurs on some date between Feb 9 2013, and Feb 23 2014.   \n",
    "  \n",
    "![img](diagrams/ccd/deforestation_ge.png)  \n",
    "  \n",
    "The rest of this notebook focuses on using pyCCD to detect this change.  \n",
    "\n",
    "## Extent Declaration\n",
    "\n",
    "The extents or boundaries of this area are defined in the dictionary below"
   ]
  },
  {
   "cell_type": "code",
   "execution_count": 1,
   "metadata": {
    "collapsed": true
   },
   "outputs": [],
   "source": [
    "from datetime import datetime\n",
    "\n",
    "extents = {\n",
    "    \"deforestation_bangladesh\":{\n",
    "        \"longitude\": (90.02882710688932, 90.04410381279332),\n",
    "\t\t\"latitude\":  (25.22213617305038, 25.23477198147955),\n",
    "        \"product\" : \"ls7_ledaps_bangladesh\",\n",
    "        \"platform\": \"LANDSAT_7\",\n",
    "        \"measurements\": ['red','green','blue','nir','swir1','swir2','cf_mask'],\n",
    "        \"time\": (datetime(2006,1,1), datetime.max)\n",
    "    }\n",
    "}"
   ]
  },
  {
   "cell_type": "markdown",
   "metadata": {},
   "source": [
    "## Initialize Datacube and Load Area  "
   ]
  },
  {
   "cell_type": "code",
   "execution_count": 3,
   "metadata": {
    "collapsed": true
   },
   "outputs": [],
   "source": [
    "import datacube\n",
    "\n",
    "dc = datacube.Datacube(app='pyccd_bangladesh')\n",
    "api = datacube.api.API(datacube=dc)\n",
    "\n",
    "bangladesh = dc.load(**extents[\"deforestation_bangladesh\"])"
   ]
  },
  {
   "cell_type": "markdown",
   "metadata": {},
   "source": [
    "## Visualizing Cloud Coverage\n",
    "\n",
    "`pyCCD` requires a threshold of at least 25% clear coverage(This means that land has to be classified as not-cloudy 75% of the time). The following section quicky outputs a visualization of `clear_percentage` values in the loaded area. This is a step taken to debug/understand our data. \n",
    "\n",
    "If you're focused on pyccd I would recommend glancing over the visualization and coming to the conclusion that the amount of `clear pixels` in the area exeeds the minimum threshold, and move on.  \n",
    "<br>"
   ]
  },
  {
   "cell_type": "code",
   "execution_count": 4,
   "metadata": {
    "collapsed": true
   },
   "outputs": [],
   "source": [
    "import numpy as np  \n",
    "\n",
    "def clear_to_total_ratio(dataset):\n",
    "    mask = dataset.cf_mask\n",
    "    clear = mask.where(mask < 2)\n",
    "    clear.values[~np.isnan(clear.values)] = 1\n",
    "    mask = clear.sum('time')/len(mask.time)\n",
    "    return mask.rename(\"clear_percentage\")"
   ]
  },
  {
   "cell_type": "code",
   "execution_count": 5,
   "metadata": {},
   "outputs": [
    {
     "data": {
      "text/plain": [
       "<matplotlib.collections.QuadMesh at 0x7fb5a184e400>"
      ]
     },
     "execution_count": 5,
     "metadata": {},
     "output_type": "execute_result"
    },
    {
     "data": {
      "image/png": "[encoded data removed]",
      "text/plain": [
       "<matplotlib.figure.Figure at 0x7fb5a196e048>"
      ]
     },
     "metadata": {},
     "output_type": "display_data"
    }
   ],
   "source": [
    "coverage = clear_to_total_ratio(bangladesh)\n",
    "coverage.where(coverage > 0.25).plot()"
   ]
  },
  {
   "cell_type": "markdown",
   "metadata": {},
   "source": [
    "## Running pyCCD on a single pixel"
   ]
  },
  {
   "cell_type": "markdown",
   "metadata": {},
   "source": [
    "The first step in this process would be selecting a pixel to analyze. The following coordinates are derived from analysis of high resolution imagery on Google Earth in an area where deforestation may have happened.  \n",
    "<br>"
   ]
  },
  {
   "cell_type": "code",
   "execution_count": 6,
   "metadata": {
    "collapsed": true
   },
   "outputs": [],
   "source": [
    "pixel_coordinates = {\"latitude\":25.228928,\"longitude\": 90.035790}"
   ]
  },
  {
   "cell_type": "markdown",
   "metadata": {},
   "source": [
    "<br>\n",
    "The coordinates above aren't exactley aligned with the coordinates of our dataset.  In the code below we select the pixel from our dataset that is closest to our `pixel_coordinates` using [nearest](http://xarray.pydata.org/en/stable/indexing.html#nearest-neighbor-lookups).  \n",
    "<br>  "
   ]
  },
  {
   "cell_type": "code",
   "execution_count": 7,
   "metadata": {
    "collapsed": true
   },
   "outputs": [],
   "source": [
    "pixel = bangladesh.sel(**pixel_coordinates, method = 'nearest')"
   ]
  },
  {
   "cell_type": "markdown",
   "metadata": {},
   "source": [
    "<br>  \n",
    "\n",
    "The next step is importing our change detection utility.  \n",
    "`utils.dc_ccd` is a datacube wrapper for [pyCCD](https://github.com/USGS-EROS/lcmap-pyccd).  \n",
    "  \n",
    "<br>"
   ]
  },
  {
   "cell_type": "code",
   "execution_count": 8,
   "metadata": {
    "collapsed": true
   },
   "outputs": [],
   "source": [
    "import utils.data_cube_utilities.dc_ccd as ccd"
   ]
  },
  {
   "cell_type": "markdown",
   "metadata": {},
   "source": [
    "<br>\n",
    "I process our target pixel using `ccd.process_pixel()`. This function takes a single positional argument: a 1x1 pixel dataset.   \n",
    "<br>"
   ]
  },
  {
   "cell_type": "code",
   "execution_count": 9,
   "metadata": {},
   "outputs": [
    {
     "name": "stderr",
     "output_type": "stream",
     "text": [
      "DEBUG:ccd.procedures:Procedure selected: standard_procedure\n",
      "DEBUG:ccd.procedures:Build change models - dates: 138, obs: (7, 138), meow_size: 12, peek_size: 6\n",
      "DEBUG:ccd.procedures:Processing mask initial count: 69\n",
      "DEBUG:ccd.procedures:Variogram values: [ 222.  219.  260.  456.  369.  257.    0.]\n",
      "DEBUG:ccd.procedures:Initialize for change model #: 1\n",
      "DEBUG:ccd.change:Initial slice(0, 12, None)\n",
      "DEBUG:ccd.change:Sufficient time from times[0..15] (day #732322 to #732690)\n",
      "DEBUG:ccd.change:Checking window: slice(0, 15, None)\n",
      "DEBUG:ccd.change:Number of Tmask outliers found: 1\n",
      "DEBUG:ccd.change:Generating models to check for stability\n",
      "DEBUG:ccd.change:Stability norm: 6.33214548674, Check against: 15.086272469388987\n",
      "DEBUG:ccd.change:Stable start found: slice(0, 14, None)\n",
      "DEBUG:ccd.procedures:Extend change model\n",
      "DEBUG:ccd.change:lookforward initial model window: slice(0, 14, None)\n",
      "DEBUG:ccd.change:Detecting change for slice(14, 20, None)\n",
      "DEBUG:ccd.change:Retrain models, less than 24 samples\n",
      "DEBUG:ccd.change:Magnitudes of change: [  0.46974859   2.2281583    1.78430138  20.10790075   0.43163574\n",
      "  12.23246941]\n",
      "DEBUG:ccd.change:Detecting change for slice(15, 21, None)\n",
      "DEBUG:ccd.change:Retrain models, less than 24 samples\n",
      "DEBUG:ccd.change:Magnitudes of change: [  1.68878831   1.50065989  19.23592121   0.37658364  12.05168434\n",
      "   1.95000043]\n",
      "DEBUG:ccd.change:Detecting change for slice(16, 22, None)\n",
      "DEBUG:ccd.change:Retrain models, less than 24 samples\n",
      "DEBUG:ccd.change:Magnitudes of change: [  1.40226402  20.05604673   0.77983384  12.87933566   2.3575069\n",
      "   0.8326656 ]\n",
      "DEBUG:ccd.change:Detecting change for slice(17, 23, None)\n",
      "DEBUG:ccd.change:Retrain models, less than 24 samples\n",
      "DEBUG:ccd.change:Magnitudes of change: [ 17.41140322   0.76831515  11.85623764   2.09041147   0.74090124\n",
      "   1.93119176]\n",
      "DEBUG:ccd.change:Detecting change for slice(18, 24, None)\n",
      "DEBUG:ccd.change:Retrain models, less than 24 samples\n",
      "DEBUG:ccd.change:Magnitudes of change: [ 12.13906297   1.59893337   3.1148999    1.53981934   2.142593\n",
      "   1.42266484]\n",
      "DEBUG:ccd.change:Detecting change for slice(19, 25, None)\n",
      "DEBUG:ccd.change:Retrain models, less than 24 samples\n",
      "DEBUG:ccd.change:Magnitudes of change: [ 8.13695532  1.6057396   0.63692291  2.12935412  1.40695934  2.2904521 ]\n",
      "DEBUG:ccd.change:Detecting change for slice(20, 26, None)\n",
      "DEBUG:ccd.change:Retrain models, less than 24 samples\n",
      "DEBUG:ccd.change:Magnitudes of change: [ 2.86958065  2.16494455  2.86221751  1.48819218  3.35158696  0.5596945 ]\n",
      "DEBUG:ccd.change:Detecting change for slice(21, 27, None)\n",
      "DEBUG:ccd.change:Retrain models, less than 24 samples\n",
      "DEBUG:ccd.change:Magnitudes of change: [ 1.48319323  1.84433193  0.92301445  2.72213927  0.60778303  1.04507748]\n",
      "DEBUG:ccd.change:Detecting change for slice(22, 28, None)\n",
      "DEBUG:ccd.change:Retrain models, less than 24 samples\n",
      "DEBUG:ccd.change:Magnitudes of change: [ 1.30419277  0.70092833  2.35957072  0.73237364  1.02393417  5.45859016]\n",
      "DEBUG:ccd.change:Detecting change for slice(23, 29, None)\n",
      "DEBUG:ccd.change:Retrain models, less than 24 samples\n",
      "DEBUG:ccd.change:Magnitudes of change: [ 0.42770035  1.50477241  0.92910053  0.82632135  4.30831677  1.15825553]\n",
      "DEBUG:ccd.change:Detecting change for slice(24, 30, None)\n",
      "DEBUG:ccd.change:Magnitudes of change: [ 1.50477241  0.92910053  0.82632135  4.30831677  1.15825553  0.99749668]\n",
      "DEBUG:ccd.change:Detecting change for slice(25, 31, None)\n",
      "DEBUG:ccd.change:Magnitudes of change: [ 0.92910053  0.82632135  4.30831677  1.15825553  0.99749668  0.981617  ]\n",
      "DEBUG:ccd.change:Detecting change for slice(26, 32, None)\n",
      "DEBUG:ccd.change:Magnitudes of change: [ 0.82632135  4.30831677  1.15825553  0.99749668  0.981617    1.08701222]\n",
      "DEBUG:ccd.change:Detecting change for slice(27, 33, None)\n",
      "DEBUG:ccd.change:Magnitudes of change: [ 4.30831677  1.15825553  0.99749668  0.981617    1.08701222  0.96277306]\n",
      "DEBUG:ccd.change:Detecting change for slice(28, 34, None)\n",
      "DEBUG:ccd.change:Magnitudes of change: [ 1.15825553  0.99749668  0.981617    1.08701222  0.96277306  3.3024293 ]\n",
      "DEBUG:ccd.change:Detecting change for slice(29, 35, None)\n",
      "DEBUG:ccd.change:Magnitudes of change: [ 0.99749668  0.981617    1.08701222  0.96277306  3.3024293   1.03692818]\n",
      "DEBUG:ccd.change:Detecting change for slice(30, 36, None)\n",
      "DEBUG:ccd.change:Magnitudes of change: [  0.981617     1.08701222   0.96277306   3.3024293    1.03692818\n",
      "  21.77995207]\n",
      "DEBUG:ccd.change:Detecting change for slice(31, 37, None)\n",
      "DEBUG:ccd.change:Retrain models, model_span: 1488 fit_span: 1088\n",
      "DEBUG:ccd.change:Magnitudes of change: [  0.21730596   0.19243719   5.3999536    1.28348999  17.8056793\n",
      "   1.03651126]\n",
      "DEBUG:ccd.change:Detecting change for slice(32, 38, None)\n",
      "DEBUG:ccd.change:Magnitudes of change: [  0.19243719   5.3999536    1.28348999  17.8056793    1.03651126\n",
      "   0.48318716]\n",
      "DEBUG:ccd.change:Detecting change for slice(33, 39, None)\n",
      "DEBUG:ccd.change:Magnitudes of change: [  5.3999536    1.28348999  17.8056793    1.03651126   0.48318716\n",
      "   0.77958864]\n",
      "DEBUG:ccd.change:Detecting change for slice(34, 40, None)\n",
      "DEBUG:ccd.change:Magnitudes of change: [  1.28348999  17.8056793    1.03651126   0.48318716   0.77958864\n",
      "   0.76688044]\n",
      "DEBUG:ccd.change:Detecting change for slice(35, 41, None)\n",
      "DEBUG:ccd.change:Magnitudes of change: [ 17.8056793    1.03651126   0.48318716   0.77958864   0.76688044\n",
      "   1.7745012 ]\n",
      "DEBUG:ccd.change:Detecting change for slice(36, 42, None)\n",
      "DEBUG:ccd.change:Magnitudes of change: [ 1.03651126  0.48318716  0.77958864  0.76688044  1.7745012   2.65638389]\n",
      "DEBUG:ccd.change:Detecting change for slice(37, 43, None)\n",
      "DEBUG:ccd.change:Magnitudes of change: [ 0.48318716  0.77958864  0.76688044  1.7745012   2.65638389  1.36261395]\n",
      "DEBUG:ccd.change:Detecting change for slice(38, 44, None)\n",
      "DEBUG:ccd.change:Magnitudes of change: [ 0.77958864  0.76688044  1.7745012   2.65638389  1.36261395  0.95588792]\n",
      "DEBUG:ccd.change:Detecting change for slice(39, 45, None)\n",
      "DEBUG:ccd.change:Magnitudes of change: [ 0.76688044  1.7745012   2.65638389  1.36261395  0.95588792  1.37645456]\n",
      "DEBUG:ccd.change:Detecting change for slice(40, 46, None)\n",
      "DEBUG:ccd.change:Retrain models, model_span: 2064 fit_span: 1488\n",
      "DEBUG:ccd.change:Magnitudes of change: [ 0.68912509  1.45286454  0.76209488  0.34848715  0.50181822  1.22182744]\n",
      "DEBUG:ccd.change:Detecting change for slice(41, 47, None)\n",
      "DEBUG:ccd.change:Magnitudes of change: [ 1.45292621  0.7622508   0.34888507  0.50209962  1.2247681   2.0148825 ]\n",
      "DEBUG:ccd.change:Detecting change for slice(42, 48, None)\n",
      "DEBUG:ccd.change:Magnitudes of change: [ 0.7622508   0.34888507  0.50209962  1.2247681   2.0148825   1.262272  ]\n",
      "DEBUG:ccd.change:Detecting change for slice(43, 49, None)\n",
      "DEBUG:ccd.change:Magnitudes of change: [ 0.35226635  0.50449074  1.24975555  2.03825889  1.2745975   1.20757036]\n",
      "DEBUG:ccd.change:Detecting change for slice(44, 50, None)\n",
      "DEBUG:ccd.change:Magnitudes of change: [ 0.50289306  1.23305968  2.02263948  1.26636196  1.18248308  3.04302945]\n",
      "DEBUG:ccd.change:Detecting change for slice(45, 51, None)\n",
      "DEBUG:ccd.change:Magnitudes of change: [ 1.23523543  2.02467495  1.26743519  1.18575237  3.0583208   4.95907411]\n",
      "DEBUG:ccd.change:Detecting change for slice(46, 52, None)\n",
      "DEBUG:ccd.change:Magnitudes of change: [ 2.01213144  1.26082147  1.16560547  2.96408842  4.95721268  6.4155552 ]\n",
      "DEBUG:ccd.change:Detecting change for slice(47, 53, None)\n",
      "DEBUG:ccd.change:Magnitudes of change: [ 1.262272    1.17002412  2.9847556   4.95762093  6.41784631  8.45145105]\n",
      "DEBUG:ccd.change:Detecting change for slice(48, 54, None)\n",
      "DEBUG:ccd.change:Magnitudes of change: [  1.20757036   3.16036934   4.96108993   6.43731445   8.45890115\n",
      "  25.67680042]\n",
      "DEBUG:ccd.change:Detecting change for slice(49, 55, None)\n",
      "DEBUG:ccd.change:Magnitudes of change: [  2.9742469    4.95741334   6.41668134   8.45100524  25.51792252\n",
      "  70.03866191]\n",
      "DEBUG:ccd.change:Detecting change for slice(50, 56, None)\n",
      "DEBUG:ccd.change:Magnitudes of change: [  4.95797013   6.41980604   8.452201    25.54198312  70.05071481\n",
      "  73.84025937]\n",
      "DEBUG:ccd.change:Detecting change for slice(51, 57, None)\n",
      "DEBUG:ccd.change:Magnitudes of change: [  6.42600158   8.45457192  25.5896897   70.07461291  73.87127483\n",
      "  48.21211919]\n",
      "DEBUG:ccd.change:Detecting change for slice(52, 58, None)\n"
     ]
    },
    {
     "name": "stderr",
     "output_type": "stream",
     "text": [
      "DEBUG:ccd.change:Magnitudes of change: [  8.45057428  25.50925103  70.03431802  73.81897927  48.05940041\n",
      "  88.47776909]\n",
      "DEBUG:ccd.change:Detecting change for slice(53, 59, None)\n",
      "DEBUG:ccd.change:Magnitudes of change: [ 25.51287175  70.03613179  73.82133321  48.06627462  88.48885269\n",
      "  34.27156403]\n",
      "DEBUG:ccd.change:Change detected at: 53\n",
      "DEBUG:ccd.procedures:Accumulate results, 1 so far\n",
      "DEBUG:ccd.change:Catching observations: slice(53, 68, None)\n",
      "DEBUG:ccd.procedures:change detection complete\n",
      "DEBUG:lcmap-pyccd:Total time for algorithm: 0.7467052936553955\n"
     ]
    }
   ],
   "source": [
    "ccd_proccessed_pixel = ccd.process_pixel(pixel)"
   ]
  },
  {
   "cell_type": "markdown",
   "metadata": {},
   "source": [
    "<br> \n",
    "\n",
    "The function above takes our original dataset and appends ccd related attributes to your xarray that can be checked using `xarray.dataset.attrs`.  \n",
    "\n",
    "<br>"
   ]
  },
  {
   "cell_type": "code",
   "execution_count": 10,
   "metadata": {},
   "outputs": [
    {
     "data": {
      "text/plain": [
       "odict_keys(['crs', 'ccd_results', 'ccd_start_times', 'ccd_end_times', 'ccd_break_times', 'ccd'])"
      ]
     },
     "execution_count": 10,
     "metadata": {},
     "output_type": "execute_result"
    }
   ],
   "source": [
    "ccd_proccessed_pixel.attrs.keys()"
   ]
  },
  {
   "cell_type": "markdown",
   "metadata": {},
   "source": [
    "<br>\n",
    "\n",
    "## Plotting pyCCD results  \n",
    "\n",
    "  \n",
    "Passing a pixel into the `ccd.plot` function will display time series visualizations depicting change on one or more of the bands.  "
   ]
  },
  {
   "cell_type": "code",
   "execution_count": 11,
   "metadata": {},
   "outputs": [
    {
     "data": {
      "image/png": "[encoded data removed]",
      "text/plain": [
       "<matplotlib.figure.Figure at 0x7fb5a2278d30>"
      ]
     },
     "metadata": {},
     "output_type": "display_data"
    },
    {
     "data": {
      "image/png": "[encoded data removed]",
      "text/plain": [
       "<matplotlib.figure.Figure at 0x7fb594b522e8>"
      ]
     },
     "metadata": {},
     "output_type": "display_data"
    }
   ],
   "source": [
    "ccd.plot_pixel(ccd_proccessed_pixel, bands = ['swir1', 'nir'])"
   ]
  },
  {
   "cell_type": "markdown",
   "metadata": {},
   "source": [
    "## Running pyCCD on a large area"
   ]
  },
  {
   "cell_type": "markdown",
   "metadata": {},
   "source": [
    "The plot pixel function above is suitable for a per-pixel analysis case. The final product stores a large number of coeffiecients per pixel. Detailed below is a closed-form calculation of the number of coefficients needed per pixel.   \n",
    "\n",
    "<br>\n",
    "\n",
    "$$ Num_{coefficients} = 8 * Num_{bands} * (Num_{changes} + 1) $$ \n",
    "\n",
    "<br>\n",
    "\n",
    "This sort of growth makes in-memory storage of coefficients infeasible for larger areas.  To combat this, Instead of storing the  coefficients of each pixel, we generate a `change_volume` product.    \n",
    "  \n",
    "  <br>\n",
    "\n",
    "![img](diagrams/ccd/change_volume.png)"
   ]
  },
  {
   "cell_type": "markdown",
   "metadata": {},
   "source": [
    "The `change_volume` product is the count of all `break_day` indices in a per pixel pyccd analysis.  To compute this, simply call `ccd.process_xarray()`. For for large areas, this should take a considerable amount of time to compute (2 hours for a 300x300 px swath)  \n",
    "<br>"
   ]
  },
  {
   "cell_type": "code",
   "execution_count": 12,
   "metadata": {},
   "outputs": [
    {
     "name": "stderr",
     "output_type": "stream",
     "text": [
      "/home/localuser/Datacube/datacube_env/lib/python3.5/site-packages/sklearn/linear_model/coordinate_descent.py:484: ConvergenceWarning: Objective did not converge. You might want to increase the number of iterations. Fitting data with very small alpha may cause precision problems.\n",
      "  ConvergenceWarning)\n",
      "/home/localuser/Datacube/datacube_env/lib/python3.5/site-packages/sklearn/linear_model/coordinate_descent.py:484: ConvergenceWarning: Objective did not converge. You might want to increase the number of iterations. Fitting data with very small alpha may cause precision problems.\n",
      "  ConvergenceWarning)\n"
     ]
    }
   ],
   "source": [
    "change_volume_bangladesh = ccd.process_xarray(bangladesh, distributed = True)"
   ]
  },
  {
   "cell_type": "markdown",
   "metadata": {},
   "source": [
    "\n",
    "`ccd.process_xarray()` should return an xarray data-array detailing change volume. Being an `xarray.dataarray()`, you should be able to call a plot function to visualize results  \n",
    "  \n",
    "<br>  \n"
   ]
  },
  {
   "cell_type": "code",
   "execution_count": 13,
   "metadata": {},
   "outputs": [
    {
     "data": {
      "text/plain": [
       "<matplotlib.collections.QuadMesh at 0x7fb5944a07b8>"
      ]
     },
     "execution_count": 13,
     "metadata": {},
     "output_type": "execute_result"
    },
    {
     "data": {
      "image/png": "[encoded data removed]",
      "text/plain": [
       "<matplotlib.figure.Figure at 0x7fb5944b97b8>"
      ]
     },
     "metadata": {},
     "output_type": "display_data"
    }
   ],
   "source": [
    "change_volume_bangladesh.plot()"
   ]
  },
  {
   "cell_type": "markdown",
   "metadata": {},
   "source": [
    "## The  dc_ccd library"
   ]
  },
  {
   "cell_type": "markdown",
   "metadata": {},
   "source": [
    "The following functions can be called from `dc_ccd`:  \n",
    "\n",
    "- `dc_ccd.process_pixel(ds)`  \n",
    "  takes a 1-by-1 dataset, computes ccd, and returns a duplicate pixel with xarray metadata appended.  \n",
    "  \n",
    "    \n",
    "- `dc_ccd.plot_pixel(ds, bands = None)`:  \n",
    "  takes a 1-by-1 dataset that has been processed by ccd and plots the time series models for that pixel.  \n",
    "  This function accepts an additional parameter called bands that can be used to limit what is plotted. Simply pass in a list of   band name strings.    \n",
    "  \n",
    "    \n",
    "- `dc_ccd.process_xarray(ds, distributed = True)`: takes a dataset and returns a change_volume product. Accepts an aditional  \n",
    "   parameter called `distributed` that toggles full core-utilization/distribution of ccd processing.  \n",
    "\n",
    "\n",
    "`"
   ]
  },
  {
   "cell_type": "code",
   "execution_count": null,
   "metadata": {
    "collapsed": true
   },
   "outputs": [],
   "source": []
  }
 ],
 "metadata": {
  "kernelspec": {
   "display_name": "Python 3",
   "language": "python",
   "name": "python3"
  },
  "language_info": {
   "codemirror_mode": {
    "name": "ipython",
    "version": 3
   },
   "file_extension": ".py",
   "mimetype": "text/x-python",
   "name": "python",
   "nbconvert_exporter": "python",
   "pygments_lexer": "ipython3",
   "version": "3.5.2"
  }
 },
 "nbformat": 4,
 "nbformat_minor": 2
}
