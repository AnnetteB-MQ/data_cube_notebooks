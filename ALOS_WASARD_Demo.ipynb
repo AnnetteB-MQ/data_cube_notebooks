{
 "cells": [
  {
   "cell_type": "markdown",
   "metadata": {},
   "source": [
    "<a id=\"alos_wasard_demo_top\"></a>\n",
    "\n",
    "# ALOS WASARD Demo\n",
    "\n",
    "<hr>\n",
    "\n",
    "# Notebook Summary\n",
    "\n",
    "This notebook shows the WASARD water classifier (a transfer model of [WOfS](https://www.ga.gov.au/scientific-topics/community-safety/flood/wofs)) applied to ALOS data.\n",
    "\n",
    "<hr>\n",
    "\n",
    "# Index\n",
    "\n",
    "* [Import Dependencies and Connect to the Data Cube](#alos_wasard_demo_import)\n",
    "* [Choose Platforms and Products](#alos_wasard_demo_plat_prod)\n",
    "* [Get the Extents of the Cube](#alos_wasard_demo_extents)\n",
    "* [Define the Analysis Parameters](#alos_wasard_demo_parameters)\n",
    "* [Load and Clean Data from the Data Cube](#alos_wasard_demo_load)\n",
    "* [Train a New Classifier from the Given Extents and Show Results](#alos_wasard_demo_train)"
   ]
  },
  {
   "cell_type": "markdown",
   "metadata": {},
   "source": [
    "## <span id=\"alos_wasard_demo_import\">Import Dependencies and Connect to the Data Cube [&#9652;](#alos_wasard_demo_top)</span>"
   ]
  },
  {
   "cell_type": "code",
   "execution_count": null,
   "metadata": {},
   "outputs": [],
   "source": [
    "%matplotlib inline\n",
    "\n",
    "from datetime import datetime\n",
    "import imp\n",
    "from time import time\n",
    "import numpy as np\n",
    "import pandas as pd\n",
    "import xarray as xr\n",
    "import matplotlib.pyplot as plt\n",
    "import matplotlib.image as mpimg\n",
    "\n",
    "import datacube\n",
    "dc = datacube.Datacube(app = 'ALOS WASARD Demo')"
   ]
  },
  {
   "cell_type": "markdown",
   "metadata": {},
   "source": [
    "## <span id=\"alos_wasard_demo_plat_prod\">Choose Platforms and Products [&#9652;](#alos_wasard_demo_top)</span>"
   ]
  },
  {
   "cell_type": "code",
   "execution_count": null,
   "metadata": {},
   "outputs": [],
   "source": [
    "platforms = ['ALOS_2', 'LANDSAT_8']\n",
    "products  = ['alos2_palsar_vietnam', 'ls8_lasrc_vietnam']"
   ]
  },
  {
   "cell_type": "markdown",
   "metadata": {},
   "source": [
    "## <a id=\"alos_wasard_demo_extents\"></a> Get the Extents of the Cube [&#9652;](#alos_wasard_demo_top)"
   ]
  },
  {
   "cell_type": "code",
   "execution_count": null,
   "metadata": {},
   "outputs": [],
   "source": [
    "from utils.data_cube_utilities.dc_time import dt_to_str\n",
    "\n",
    "full_lat = None\n",
    "full_lon = None\n",
    "min_max_dates = None\n",
    "for platform, product in zip(platforms, products):\n",
    "    metadata = dc.load(platform=platform, product=product, measurements=[])\n",
    "    curr_lats = metadata.latitude.values[[-1,0]]\n",
    "    full_lat = curr_lats if full_lat is None else \\\n",
    "        np.where(curr_lats>full_lat, curr_lats, full_lat)\n",
    "    curr_lons = metadata.longitude.values[[-1,0]]\n",
    "    full_lon = curr_lons if full_lon is None else \\\n",
    "        np.where(curr_lats>full_lon, curr_lons, full_lon)\n",
    "    curr_dates = metadata.time.values[[-1,0]]\n",
    "    min_max_dates = curr_dates if min_max_dates is None else \\\n",
    "        np.where(curr_dates>min_max_dates, curr_dates, min_max_dates)\n",
    "min_max_dates = list(map(dt_to_str, map(pd.to_datetime, metadata.time.values[[0,-1]])))\n",
    "\n",
    "# Print the extents of the combined data.\n",
    "print(\"Latitude Extents:\", full_lat)\n",
    "print(\"Longitude Extents:\", full_lon)\n",
    "print(\"Time Extents:\", min_max_dates)"
   ]
  },
  {
   "cell_type": "markdown",
   "metadata": {},
   "source": [
    "## <a id=\"alos_wasard_demo_parameters\"></a> Define the Analysis Parameters [&#9652;](#alos_wasard_demo_top)"
   ]
  },
  {
   "cell_type": "code",
   "execution_count": null,
   "metadata": {},
   "outputs": [],
   "source": [
    "# Tagrin Bay, Sierra Leone\n",
    "lon = (-13.1838, -13.0662)\n",
    "lat = (8.4428, 8.5597)\n",
    "time_range = ('2014-01-01', '2014-12-31')"
   ]
  },
  {
   "cell_type": "markdown",
   "metadata": {},
   "source": [
    "**Visualize the selected area**"
   ]
  },
  {
   "cell_type": "code",
   "execution_count": null,
   "metadata": {},
   "outputs": [],
   "source": [
    "from utils.data_cube_utilities.dc_display_map import display_map\n",
    "display_map(lat, lon)  "
   ]
  },
  {
   "cell_type": "markdown",
   "metadata": {},
   "source": [
    "## <a id=\"alos_wasard_demo_load\"></a> Load and Clean Data from the Data Cube [&#9652;](#alos_wasard_demo_top)"
   ]
  },
  {
   "cell_type": "code",
   "execution_count": null,
   "metadata": {},
   "outputs": [],
   "source": [
    "params_alos = dict(platform=platforms[0],\n",
    "                   product=products[0],\n",
    "                   time=time_range,\n",
    "                   lon=lon,\n",
    "                   lat=lat, \n",
    "                   measurements=['hh', 'hv'])\n",
    "params_lsat = dict(platform=platforms[1],\n",
    "                   product=products[1],\n",
    "                   time=time_range,\n",
    "                   lon=lon,\n",
    "                   lat=lat,\n",
    "                  measurements=['red', 'green', 'blue', 'nir', 'swir1', 'swir2', 'pixel_qa'])\n",
    "alos = dc.load(**params_alos)\n",
    "landsat = dc.load(**params_lsat) "
   ]
  },
  {
   "cell_type": "markdown",
   "metadata": {},
   "source": [
    "## <a id=\"alos_wasard_demo_train\"></a> Train a New Classifier from the Given Extents and Show Results [&#9652;](#alos_wasard_demo_top)\n",
    "##### We currently only have ALOS acquisitions that are yearly mosaics, taken years prior to the earliest landsat acquisition. The ALOS and Landsat acquisitions used to train the classifier can therefore differ wildly. In order to train an effective classifier, then, we train many classifiers and use the best one."
   ]
  },
  {
   "cell_type": "code",
   "execution_count": null,
   "metadata": {},
   "outputs": [],
   "source": [
    "from utils.data_cube_utilities import wasard\n",
    "alos_classifier_lst = wasard.get_best_classifier(n_classifiers = 10, sar_dataset = alos, landsat_dataset = landsat)"
   ]
  },
  {
   "cell_type": "markdown",
   "metadata": {},
   "source": [
    "##### After examining multiple classifiers, we have chosen the following because of its high precision and recall. "
   ]
  },
  {
   "cell_type": "code",
   "execution_count": null,
   "metadata": {},
   "outputs": [],
   "source": [
    "alos_classifier = alos_classifier_lst[1]"
   ]
  },
  {
   "cell_type": "code",
   "execution_count": null,
   "metadata": {},
   "outputs": [],
   "source": [
    "alos_classifier.precision"
   ]
  },
  {
   "cell_type": "code",
   "execution_count": null,
   "metadata": {},
   "outputs": [],
   "source": [
    "alos_classifier.recall"
   ]
  },
  {
   "cell_type": "markdown",
   "metadata": {},
   "source": [
    "**Use the classifier to run water detection on every ALOS scene in the dataset**"
   ]
  },
  {
   "cell_type": "code",
   "execution_count": null,
   "metadata": {},
   "outputs": [],
   "source": [
    "alos_classified = alos_classifier.wasard_classify(alos)"
   ]
  },
  {
   "cell_type": "markdown",
   "metadata": {},
   "source": [
    "**Plot water detected by WASARD on an ALOS acquisition**"
   ]
  },
  {
   "cell_type": "code",
   "execution_count": null,
   "metadata": {},
   "outputs": [],
   "source": [
    "wasard.wasard_plot(alos_classified, sar_time_index = 0)"
   ]
  }
 ],
 "metadata": {
  "kernelspec": {
   "display_name": "Python 3",
   "language": "python",
   "name": "python3"
  },
  "language_info": {
   "codemirror_mode": {
    "name": "ipython",
    "version": 3
   },
   "file_extension": ".py",
   "mimetype": "text/x-python",
   "name": "python",
   "nbconvert_exporter": "python",
   "pygments_lexer": "ipython3",
   "version": "3.6.8"
  }
 },
 "nbformat": 4,
 "nbformat_minor": 4
}
