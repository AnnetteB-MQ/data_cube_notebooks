{
 "cells": [
  {
   "cell_type": "code",
   "execution_count": 1,
   "metadata": {},
   "outputs": [],
   "source": [
    "%matplotlib inline\n",
    "import datacube\n",
    "import xarray as xr\n",
    "from datetime import datetime\n",
    "import warnings; warnings.simplefilter('ignore')\n",
    "import imp\n",
    "from time import time\n",
    "import matplotlib.pyplot as plt\n",
    "import numpy as np\n",
    "import matplotlib.image as mpimg\n",
    "dc = datacube.Datacube(app = 'ALOS Demo', config = '/home/localuser/.datacube.conf')"
   ]
  },
  {
   "cell_type": "markdown",
   "metadata": {},
   "source": [
    "### Loading Data from Landsat 8 and ALOS PALSAR"
   ]
  },
  {
   "cell_type": "code",
   "execution_count": 2,
   "metadata": {},
<<<<<<< HEAD
   "outputs": [
    {
     "name": "stdout",
     "output_type": "stream",
     "text": [
      "{'lon': (106.976139, 107.337043), 'platform': 'ALOS_2', 'lat': (11.06, 11.29581), 'product': 'alos2_palsar_vietnam', 'time': (datetime.datetime(2000, 1, 1, 0, 0), datetime.datetime(2017, 12, 31, 0, 0))}\n"
     ]
    },
    {
     "name": "stderr",
     "output_type": "stream",
     "text": [
      "Error opening source dataset: NetCDF:/datacube/ingested_data/ALOS2_PALSAR/Vietnam/ALOS2_PALSAR_4326_201_21_20150101000000000000.nc:mask\n"
     ]
    },
    {
     "ename": "TypeError",
     "evalue": "Cannot cast scalar from dtype('float32') to dtype('uint8') according to the rule 'same_kind'",
     "output_type": "error",
     "traceback": [
      "\u001b[0;31m---------------------------------------------------------------------------\u001b[0m",
      "\u001b[0;31mTypeError\u001b[0m                                 Traceback (most recent call last)",
      "\u001b[0;32m<ipython-input-2-02030aba69e6>\u001b[0m in \u001b[0;36m<module>\u001b[0;34m()\u001b[0m\n\u001b[1;32m     16\u001b[0m                           lat=(min_lat, max_lat))\n\u001b[1;32m     17\u001b[0m \u001b[0mprint\u001b[0m\u001b[0;34m(\u001b[0m\u001b[0mparas\u001b[0m\u001b[0;34m)\u001b[0m\u001b[0;34m\u001b[0m\u001b[0m\n\u001b[0;32m---> 18\u001b[0;31m \u001b[0malos\u001b[0m \u001b[0;34m=\u001b[0m \u001b[0mdc\u001b[0m\u001b[0;34m.\u001b[0m\u001b[0mload\u001b[0m\u001b[0;34m(\u001b[0m\u001b[0;34m**\u001b[0m\u001b[0mparas\u001b[0m\u001b[0;34m)\u001b[0m\u001b[0;34m\u001b[0m\u001b[0m\n\u001b[0m\u001b[1;32m     19\u001b[0m landsat = dc.load(platform=platforms[1],\n\u001b[1;32m     20\u001b[0m                           \u001b[0mproduct\u001b[0m\u001b[0;34m=\u001b[0m\u001b[0mlsat_product_types\u001b[0m\u001b[0;34m,\u001b[0m\u001b[0;34m\u001b[0m\u001b[0m\n",
      "\u001b[0;32m/home/localuser/Datacube/agdc-v2/datacube/api/core.py\u001b[0m in \u001b[0;36mload\u001b[0;34m(self, product, measurements, output_crs, resolution, resampling, stack, dask_chunks, like, fuse_func, align, datasets, **query)\u001b[0m\n\u001b[1;32m    320\u001b[0m \u001b[0;34m\u001b[0m\u001b[0m\n\u001b[1;32m    321\u001b[0m         result = self.load_data(grouped, geobox, measurements.values(),\n\u001b[0;32m--> 322\u001b[0;31m                                 fuse_func=fuse_func, dask_chunks=dask_chunks)\n\u001b[0m\u001b[1;32m    323\u001b[0m         \u001b[0;32mif\u001b[0m \u001b[0;32mnot\u001b[0m \u001b[0mstack\u001b[0m\u001b[0;34m:\u001b[0m\u001b[0;34m\u001b[0m\u001b[0m\n\u001b[1;32m    324\u001b[0m             \u001b[0;32mreturn\u001b[0m \u001b[0mresult\u001b[0m\u001b[0;34m\u001b[0m\u001b[0m\n",
      "\u001b[0;32m/home/localuser/Datacube/agdc-v2/datacube/api/core.py\u001b[0m in \u001b[0;36mload_data\u001b[0;34m(sources, geobox, measurements, fuse_func, dask_chunks, skip_broken_datasets)\u001b[0m\n\u001b[1;32m    489\u001b[0m \u001b[0;34m\u001b[0m\u001b[0m\n\u001b[1;32m    490\u001b[0m         return Datacube.create_storage(OrderedDict((dim, sources.coords[dim]) for dim in sources.dims),\n\u001b[0;32m--> 491\u001b[0;31m                                        geobox, measurements, data_func)\n\u001b[0m\u001b[1;32m    492\u001b[0m \u001b[0;34m\u001b[0m\u001b[0m\n\u001b[1;32m    493\u001b[0m     \u001b[0;34m@\u001b[0m\u001b[0mstaticmethod\u001b[0m\u001b[0;34m\u001b[0m\u001b[0m\n",
      "\u001b[0;32m/home/localuser/Datacube/agdc-v2/datacube/api/core.py\u001b[0m in \u001b[0;36mcreate_storage\u001b[0;34m(coords, geobox, measurements, data_func)\u001b[0m\n\u001b[1;32m    426\u001b[0m \u001b[0;34m\u001b[0m\u001b[0m\n\u001b[1;32m    427\u001b[0m         \u001b[0;32mfor\u001b[0m \u001b[0mmeasurement\u001b[0m \u001b[0;32min\u001b[0m \u001b[0mmeasurements\u001b[0m\u001b[0;34m:\u001b[0m\u001b[0;34m\u001b[0m\u001b[0m\n\u001b[0;32m--> 428\u001b[0;31m             \u001b[0mdata\u001b[0m \u001b[0;34m=\u001b[0m \u001b[0mdata_func\u001b[0m\u001b[0;34m(\u001b[0m\u001b[0mmeasurement\u001b[0m\u001b[0;34m)\u001b[0m\u001b[0;34m\u001b[0m\u001b[0m\n\u001b[0m\u001b[1;32m    429\u001b[0m \u001b[0;34m\u001b[0m\u001b[0m\n\u001b[1;32m    430\u001b[0m             attrs = {\n",
      "\u001b[0;32m/home/localuser/Datacube/agdc-v2/datacube/api/core.py\u001b[0m in \u001b[0;36mdata_func\u001b[0;34m(measurement)\u001b[0m\n\u001b[1;32m    482\u001b[0m                 \u001b[0;32mfor\u001b[0m \u001b[0mindex\u001b[0m\u001b[0;34m,\u001b[0m \u001b[0mdatasets\u001b[0m \u001b[0;32min\u001b[0m \u001b[0mnumpy\u001b[0m\u001b[0;34m.\u001b[0m\u001b[0mndenumerate\u001b[0m\u001b[0;34m(\u001b[0m\u001b[0msources\u001b[0m\u001b[0;34m.\u001b[0m\u001b[0mvalues\u001b[0m\u001b[0;34m)\u001b[0m\u001b[0;34m:\u001b[0m\u001b[0;34m\u001b[0m\u001b[0m\n\u001b[1;32m    483\u001b[0m                     _fuse_measurement(data[index], datasets, geobox, measurement, fuse_func=fuse_func,\n\u001b[0;32m--> 484\u001b[0;31m                                       skip_broken_datasets=skip_broken_datasets)\n\u001b[0m\u001b[1;32m    485\u001b[0m                 \u001b[0;32mreturn\u001b[0m \u001b[0mdata\u001b[0m\u001b[0;34m\u001b[0m\u001b[0m\n\u001b[1;32m    486\u001b[0m         \u001b[0;32melse\u001b[0m\u001b[0;34m:\u001b[0m\u001b[0;34m\u001b[0m\u001b[0m\n",
      "\u001b[0;32m/home/localuser/Datacube/agdc-v2/datacube/api/core.py\u001b[0m in \u001b[0;36m_fuse_measurement\u001b[0;34m(dest, datasets, geobox, measurement, skip_broken_datasets, fuse_func)\u001b[0m\n\u001b[1;32m    548\u001b[0m                        \u001b[0mresampling\u001b[0m\u001b[0;34m=\u001b[0m\u001b[0mmeasurement\u001b[0m\u001b[0;34m.\u001b[0m\u001b[0mget\u001b[0m\u001b[0;34m(\u001b[0m\u001b[0;34m'resampling_method'\u001b[0m\u001b[0;34m,\u001b[0m \u001b[0;34m'nearest'\u001b[0m\u001b[0;34m)\u001b[0m\u001b[0;34m,\u001b[0m\u001b[0;34m\u001b[0m\u001b[0m\n\u001b[1;32m    549\u001b[0m                        \u001b[0mfuse_func\u001b[0m\u001b[0;34m=\u001b[0m\u001b[0mfuse_func\u001b[0m\u001b[0;34m,\u001b[0m\u001b[0;34m\u001b[0m\u001b[0m\n\u001b[0;32m--> 550\u001b[0;31m                        skip_broken_datasets=skip_broken_datasets)\n\u001b[0m\u001b[1;32m    551\u001b[0m \u001b[0;34m\u001b[0m\u001b[0m\n\u001b[1;32m    552\u001b[0m \u001b[0;34m\u001b[0m\u001b[0m\n",
      "\u001b[0;32m/home/localuser/Datacube/agdc-v2/datacube/storage/storage.py\u001b[0m in \u001b[0;36mreproject_and_fuse\u001b[0;34m(sources, destination, dst_transform, dst_projection, dst_nodata, resampling, fuse_func, skip_broken_datasets)\u001b[0m\n\u001b[1;32m    204\u001b[0m         \u001b[0;32mfor\u001b[0m \u001b[0msource\u001b[0m \u001b[0;32min\u001b[0m \u001b[0msources\u001b[0m\u001b[0;34m:\u001b[0m\u001b[0;34m\u001b[0m\u001b[0m\n\u001b[1;32m    205\u001b[0m             \u001b[0;32mwith\u001b[0m \u001b[0mignore_exceptions_if\u001b[0m\u001b[0;34m(\u001b[0m\u001b[0mskip_broken_datasets\u001b[0m\u001b[0;34m)\u001b[0m\u001b[0;34m:\u001b[0m\u001b[0;34m\u001b[0m\u001b[0m\n\u001b[0;32m--> 206\u001b[0;31m                 \u001b[0mread_from_source\u001b[0m\u001b[0;34m(\u001b[0m\u001b[0msource\u001b[0m\u001b[0;34m,\u001b[0m \u001b[0mbuffer_\u001b[0m\u001b[0;34m,\u001b[0m \u001b[0mdst_transform\u001b[0m\u001b[0;34m,\u001b[0m \u001b[0mdst_nodata\u001b[0m\u001b[0;34m,\u001b[0m \u001b[0mdst_projection\u001b[0m\u001b[0;34m,\u001b[0m \u001b[0mresampling\u001b[0m\u001b[0;34m)\u001b[0m\u001b[0;34m\u001b[0m\u001b[0m\n\u001b[0m\u001b[1;32m    207\u001b[0m                 \u001b[0mfuse_func\u001b[0m\u001b[0;34m(\u001b[0m\u001b[0mdestination\u001b[0m\u001b[0;34m,\u001b[0m \u001b[0mbuffer_\u001b[0m\u001b[0;34m)\u001b[0m\u001b[0;34m\u001b[0m\u001b[0m\n\u001b[1;32m    208\u001b[0m \u001b[0;34m\u001b[0m\u001b[0m\n",
      "\u001b[0;32m/home/localuser/Datacube/agdc-v2/datacube/storage/storage.py\u001b[0m in \u001b[0;36mread_from_source\u001b[0;34m(source, dest, dst_transform, dst_nodata, dst_projection, resampling)\u001b[0m\n\u001b[1;32m    143\u001b[0m                 \u001b[0;32mreturn\u001b[0m\u001b[0;34m\u001b[0m\u001b[0m\n\u001b[1;32m    144\u001b[0m             \u001b[0mdest\u001b[0m \u001b[0;34m=\u001b[0m \u001b[0mdest\u001b[0m\u001b[0;34m[\u001b[0m\u001b[0moffset\u001b[0m\u001b[0;34m[\u001b[0m\u001b[0;36m0\u001b[0m\u001b[0;34m]\u001b[0m\u001b[0;34m:\u001b[0m\u001b[0moffset\u001b[0m\u001b[0;34m[\u001b[0m\u001b[0;36m0\u001b[0m\u001b[0;34m]\u001b[0m \u001b[0;34m+\u001b[0m \u001b[0mtmp\u001b[0m\u001b[0;34m.\u001b[0m\u001b[0mshape\u001b[0m\u001b[0;34m[\u001b[0m\u001b[0;36m0\u001b[0m\u001b[0;34m]\u001b[0m\u001b[0;34m,\u001b[0m \u001b[0moffset\u001b[0m\u001b[0;34m[\u001b[0m\u001b[0;36m1\u001b[0m\u001b[0;34m]\u001b[0m\u001b[0;34m:\u001b[0m\u001b[0moffset\u001b[0m\u001b[0;34m[\u001b[0m\u001b[0;36m1\u001b[0m\u001b[0;34m]\u001b[0m \u001b[0;34m+\u001b[0m \u001b[0mtmp\u001b[0m\u001b[0;34m.\u001b[0m\u001b[0mshape\u001b[0m\u001b[0;34m[\u001b[0m\u001b[0;36m1\u001b[0m\u001b[0;34m]\u001b[0m\u001b[0;34m]\u001b[0m\u001b[0;34m\u001b[0m\u001b[0m\n\u001b[0;32m--> 145\u001b[0;31m             \u001b[0mnumpy\u001b[0m\u001b[0;34m.\u001b[0m\u001b[0mcopyto\u001b[0m\u001b[0;34m(\u001b[0m\u001b[0mdest\u001b[0m\u001b[0;34m,\u001b[0m \u001b[0mtmp\u001b[0m\u001b[0;34m,\u001b[0m \u001b[0mwhere\u001b[0m\u001b[0;34m=\u001b[0m\u001b[0;34m(\u001b[0m\u001b[0mtmp\u001b[0m \u001b[0;34m!=\u001b[0m \u001b[0msrc\u001b[0m\u001b[0;34m.\u001b[0m\u001b[0mnodata\u001b[0m\u001b[0;34m)\u001b[0m\u001b[0;34m)\u001b[0m\u001b[0;34m\u001b[0m\u001b[0m\n\u001b[0m\u001b[1;32m    146\u001b[0m         \u001b[0;32melse\u001b[0m\u001b[0;34m:\u001b[0m\u001b[0;34m\u001b[0m\u001b[0m\n\u001b[1;32m    147\u001b[0m             \u001b[0;32mif\u001b[0m \u001b[0mdest\u001b[0m\u001b[0;34m.\u001b[0m\u001b[0mdtype\u001b[0m \u001b[0;34m==\u001b[0m \u001b[0mnumpy\u001b[0m\u001b[0;34m.\u001b[0m\u001b[0mdtype\u001b[0m\u001b[0;34m(\u001b[0m\u001b[0;34m'int8'\u001b[0m\u001b[0;34m)\u001b[0m\u001b[0;34m:\u001b[0m\u001b[0;34m\u001b[0m\u001b[0m\n",
      "\u001b[0;31mTypeError\u001b[0m: Cannot cast scalar from dtype('float32') to dtype('uint8') according to the rule 'same_kind'"
     ]
    }
   ],
=======
   "outputs": [],
>>>>>>> 6b9436a7066f71020abc589ed1801b1e4aea233c
   "source": [
    "platforms = ['ALOS_2', 'LANDSAT_8']\n",
    "products  = ['alos2_palsar_vietnam', 'ls8_lasrc_vietnam']\n",
    "# sent_product_types   = 'alos2_palsar_vietnam'\n",
    "# lsat_product_types   = 'ls8_lasrc_vietnam'\n",
    "\n",
    "min_lon = 106.976139\n",
    "max_lon = 107.337043\n",
    "min_lat = 11.06\n",
    "max_lat = 11.295810\n",
    "\n",
    "start_date      = datetime.strptime('2000-1-1', '%Y-%m-%d')\n",
    "end_date        = datetime.strptime('2017-12-31', '%Y-%m-%d')\n",
    "params_alos = dict(platform=platforms[0],\n",
    "                   product=products[0],\n",
    "                   time=(start_date, end_date),\n",
    "                   lon=(min_lon, max_lon),\n",
    "                   lat=(min_lat, max_lat), \n",
    "                   measurements=['hh', 'hv'])\n",
    "params_lsat = dict(platform=platforms[1],\n",
    "                   product=products[1],\n",
    "                   time=(start_date, end_date),\n",
    "                   lon=(min_lon, max_lon),\n",
    "                   lat=(min_lat, max_lat),\n",
    "                  measurements=['red', 'green', 'blue', 'nir', 'swir1', 'swir2', 'pixel_qa'])\n",
    "alos = dc.load(**params_alos)\n",
    "landsat = dc.load(**params_lsat) "
   ]
  },
  {
   "cell_type": "markdown",
   "metadata": {},
   "source": [
    "### Training a new classifier from the given extents\n",
    "##### We currently only have ALOS acquisitions that are yearly mosaics, taken years prior to the earliest landsat acquisition. The ALOS and Landsat acquisitions used to train the classifier can therefore differ wildly. In order to train an effective classifier, then, we train many classifiers and use the best one."
   ]
  },
  {
   "cell_type": "code",
   "execution_count": 3,
   "metadata": {},
   "outputs": [],
   "source": [
    "from utils.data_cube_utilities import wasard\n",
    "alos_classifier_lst = wasard.get_best_classifier(n_classifiers = 10, sar_dataset = alos, landsat_dataset = landsat)"
   ]
  },
  {
   "cell_type": "markdown",
   "metadata": {},
   "source": [
    "##### After examining multiple classifiers, we have chose the following because of its high precision and recall. "
   ]
  },
  {
   "cell_type": "code",
   "execution_count": 4,
   "metadata": {},
   "outputs": [],
   "source": [
    "alos_classifier = alos_classifier_lst[1]"
   ]
  },
  {
   "cell_type": "code",
   "execution_count": 5,
   "metadata": {},
   "outputs": [
    {
     "data": {
      "text/plain": [
       "0.8620277628297487"
      ]
     },
     "execution_count": 5,
     "metadata": {},
     "output_type": "execute_result"
    }
   ],
   "source": [
    "alos_classifier.precision"
   ]
  },
  {
   "cell_type": "code",
   "execution_count": 6,
   "metadata": {},
   "outputs": [
    {
     "data": {
      "text/plain": [
       "0.8679312886151982"
      ]
     },
     "execution_count": 6,
     "metadata": {},
     "output_type": "execute_result"
    }
   ],
   "source": [
    "alos_classifier.recall"
   ]
  },
  {
   "cell_type": "markdown",
   "metadata": {},
   "source": [
    "### Using the classifier to run water detection on every ALOS scene in the dataset"
   ]
  },
  {
   "cell_type": "code",
   "execution_count": 7,
   "metadata": {},
   "outputs": [],
   "source": [
    "alos_classified = alos_classifier.wasard_classify(alos)"
   ]
  },
  {
   "cell_type": "markdown",
   "metadata": {},
   "source": [
    "### Plotting water detected by WASARD on an ALOS acquisition "
   ]
  },
  {
   "cell_type": "code",
   "execution_count": 8,
   "metadata": {},
   "outputs": [
    {
     "data": {
      "image/png": "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\n",
      "text/plain": [
       "<matplotlib.figure.Figure at 0x7f84064eab00>"
      ]
     },
     "metadata": {},
     "output_type": "display_data"
    }
   ],
   "source": [
    "wasard.wasard_plot(alos_classified, sar_time_index = 0)"
   ]
  },
  {
   "cell_type": "markdown",
   "metadata": {},
   "source": [
    "### Visualizing results: ALOS acquisition is pictured on the left; the same acquisition with the WASARD predictions is on the right "
   ]
  },
  {
   "cell_type": "markdown",
   "metadata": {},
   "source": [
    "<img src=\"./diagrams/WASARD/alos_comparison.png\">"
   ]
  },
  {
   "cell_type": "markdown",
   "metadata": {},
   "source": [
    "#### Code for generating the above:"
   ]
  },
  {
   "cell_type": "code",
   "execution_count": 9,
   "metadata": {},
   "outputs": [],
   "source": [
    "def plot_wasard(sar_dataset, imge, time_index):\n",
    "    \n",
    "    fig = plt.figure(figsize=(18,10))\n",
    "    img = mpimg.imread(imge)\n",
    "    \n",
    "    a = fig.add_subplot(1,2,1)\n",
    "    implot = plt.imshow(img, extent = [min_lon, max_lon, min_lat, max_lat])\n",
    "   \n",
    "    b = fig.add_subplot(1,2,2)\n",
    "    \n",
    "    implot = plt.imshow(img, extent = [min_lon, max_lon, min_lat, max_lat])\n",
    "    wasard.wasard_plot(sar_dataset, time_index, plot_over_image=True)"
   ]
  },
  {
   "cell_type": "markdown",
   "metadata": {},
   "source": [
    "<br>  "
   ]
  },
  {
   "cell_type": "code",
   "execution_count": 10,
   "metadata": {},
   "outputs": [],
   "source": [
    "# plot_wasard(alos_classified, 'alos2_img.png', 0)"
   ]
  }
 ],
 "metadata": {
  "kernelspec": {
   "display_name": "Python 3",
   "language": "python",
   "name": "python3"
  },
  "language_info": {
   "codemirror_mode": {
    "name": "ipython",
    "version": 3
   },
   "file_extension": ".py",
   "mimetype": "text/x-python",
   "name": "python",
   "nbconvert_exporter": "python",
   "pygments_lexer": "ipython3",
   "version": "3.5.2"
  }
 },
 "nbformat": 4,
 "nbformat_minor": 2
}
