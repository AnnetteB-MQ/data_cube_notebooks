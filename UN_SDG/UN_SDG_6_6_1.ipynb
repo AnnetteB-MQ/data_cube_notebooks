{
 "cells": [
  {
   "cell_type": "markdown",
   "metadata": {},
   "source": [
    "<a id=\"top\"></a>\n",
    "# UN SDG Indicator 6.6.1:<br> Change in the Extent of Water-related Ecosystems\n",
    "\n",
    "\n",
    "<hr>\n",
    "\n",
    "# Notebook Summary\n",
    "The United Nations have prescribed 17 \"Sustainable Development Goals\" (SDGs). This notebook attempts to monitor SDG Indicator 6.6.1 - change in the extent of water-related ecosystems. Indicator 6.6.1 has 4 sub-indicators:\n",
    ">    i. The spatial extent of water-related ecosystems <br>\n",
    ">    ii. The quantity of water contained within these ecosystems <br>\n",
    ">    iii. The quality of water within these ecosystems <br>\n",
    ">    iv. The health or state of these ecosystems <br>\n",
    "\n",
    "This notebook primarily focuses on the first sub-indicator - spatial extents.\n",
    "\n",
    "In the first section, one time period is analyzed. The mean of water classifications over time is visualized, the minimum and maximum water extents are visualized, and the frequency of water classification for each pixel is visualized.\n",
    "\n",
    "In the second section, two time periods are analyzed - a baseline time period and an analysis time period. The change in pixels that are water at any time during their respective time periods is calculated, the change in water from the baseline time period to the analysis time period is visualized, and the area is classified by degree of change using classification labels provided by UN SDG 6.6.1.\n",
    "\n",
    "<hr>\n",
    "\n",
    "# Index\n",
    "\n",
    "* [Import Dependencies and Connect to the Data Cube](#import)\n",
    "* [Choose Platform and Product](#plat_prod)\n",
    "* [Get the Extents of the Cube](#extents)\n",
    "* [Analyze a Single Time Period](#single_period)\n",
    "    * [Define the Extents of the Analysis](#define_extents_single) (selecting too much can make the acquisition process slow)\n",
    "    * [Retrieve the Data from the Datacube](#retrieve_data_single)\n",
    "    * [Get Water Classifications](#calculate_single)\n",
    "    * [Prepare for Visualization](#prepare_for_vis)\n",
    "    * [Find the Minimum and Maximum Water Extents](#find_water_extents)\n",
    "    * [Create Water Extent Image](#water_extent_image)\n",
    "    * [Create Time Series Plot of the Mean of Water](#time_series_water)\n",
    "* [Compare Two Time Periods - a Baseline and an Analysis](#two_period)\n",
    "    * [Define the Extents of the Analysis](#define_extents_baseline_analysis)\n",
    "    * [Retrieve the Data from the Datacube](#retrieve_data_baseline_analysis)\n",
    "    * [Get Water Classifications](#calculate_baseline_analysis)\n",
    "    * [Calculate Change in Water from the Baseline Period to the Analysis Period](#calculate_water_change)\n",
    "    * [Create a Change Figure](#change_figure)\n",
    "    * [Classify the Area by Degree of Change](#classify_by_degree_change)"
   ]
  },
  {
   "cell_type": "markdown",
   "metadata": {},
   "source": [
    "## <a id=\"import\"></a>Import Dependencies and Connect to the Data Cube [&#9652;](#top)"
   ]
  },
  {
   "cell_type": "code",
   "execution_count": 1,
   "metadata": {},
   "outputs": [],
   "source": [
    "# Supress Warning \n",
    "import warnings\n",
    "warnings.filterwarnings('ignore')"
   ]
  },
  {
   "cell_type": "code",
   "execution_count": 2,
   "metadata": {
    "scrolled": true
   },
   "outputs": [],
   "source": [
    "%matplotlib inline\n",
    "import warnings\n",
    "import matplotlib.pyplot as plt\n",
    "\n",
    "# Allow importing of our utilities.\n",
    "import sys\n",
    "sys.path.append(\"..\")\n",
    "\n",
    "# Import the datacube and the API\n",
    "import datacube\n",
    "from utils.data_cube_utilities.data_access_api import DataAccessApi\n",
    "import datetime as dt\n",
    "import numpy as np\n",
    "import xarray as xr\n",
    "import pandas as pd\n",
    "\n",
    "from matplotlib.colors import LinearSegmentedColormap"
   ]
  },
  {
   "cell_type": "code",
   "execution_count": 3,
   "metadata": {},
   "outputs": [],
   "source": [
    "# Create an instance of the datacube and API.\n",
    "api = DataAccessApi(config=\"/home/localuser/.datacube.conf\")\n",
    "dc = api.dc"
   ]
  },
  {
   "cell_type": "markdown",
   "metadata": {},
   "source": [
    "## <a id=\"plat_prod\"></a>Choose Platform and Product [&#9652;](#top)"
   ]
  },
  {
   "cell_type": "markdown",
   "metadata": {},
   "source": [
    "**List available products for each platform**"
   ]
  },
  {
   "cell_type": "code",
   "execution_count": 4,
   "metadata": {
    "scrolled": true
   },
   "outputs": [
    {
     "name": "stdout",
     "output_type": "stream",
     "text": [
      "LANDSAT 7 Products:\n"
     ]
    },
    {
     "data": {
      "text/html": [
       "<div>\n",
       "<style scoped>\n",
       "    .dataframe tbody tr th:only-of-type {\n",
       "        vertical-align: middle;\n",
       "    }\n",
       "\n",
       "    .dataframe tbody tr th {\n",
       "        vertical-align: top;\n",
       "    }\n",
       "\n",
       "    .dataframe thead th {\n",
       "        text-align: right;\n",
       "    }\n",
       "</style>\n",
       "<table border=\"1\" class=\"dataframe\">\n",
       "  <thead>\n",
       "    <tr style=\"text-align: right;\">\n",
       "      <th></th>\n",
       "      <th>platform</th>\n",
       "      <th>name</th>\n",
       "    </tr>\n",
       "    <tr>\n",
       "      <th>id</th>\n",
       "      <th></th>\n",
       "      <th></th>\n",
       "    </tr>\n",
       "  </thead>\n",
       "  <tbody>\n",
       "    <tr>\n",
       "      <th>8</th>\n",
       "      <td>LANDSAT_7</td>\n",
       "      <td>ls7_collections_sr_scene</td>\n",
       "    </tr>\n",
       "    <tr>\n",
       "      <th>67</th>\n",
       "      <td>LANDSAT_7</td>\n",
       "      <td>ls7_collections_sr_scene_lean</td>\n",
       "    </tr>\n",
       "    <tr>\n",
       "      <th>78</th>\n",
       "      <td>LANDSAT_7</td>\n",
       "      <td>ls7_collections_sr_scene_mini</td>\n",
       "    </tr>\n",
       "    <tr>\n",
       "      <th>19</th>\n",
       "      <td>LANDSAT_7</td>\n",
       "      <td>ls7_ledaps_amazon_river</td>\n",
       "    </tr>\n",
       "    <tr>\n",
       "      <th>20</th>\n",
       "      <td>LANDSAT_7</td>\n",
       "      <td>ls7_ledaps_bangladesh</td>\n",
       "    </tr>\n",
       "    <tr>\n",
       "      <th>35</th>\n",
       "      <td>LANDSAT_7</td>\n",
       "      <td>ls7_ledaps_bangladesh_bari</td>\n",
       "    </tr>\n",
       "    <tr>\n",
       "      <th>87</th>\n",
       "      <td>LANDSAT_7</td>\n",
       "      <td>ls7_ledaps_caqueta</td>\n",
       "    </tr>\n",
       "    <tr>\n",
       "      <th>21</th>\n",
       "      <td>LANDSAT_7</td>\n",
       "      <td>ls7_ledaps_colombia</td>\n",
       "    </tr>\n",
       "    <tr>\n",
       "      <th>22</th>\n",
       "      <td>LANDSAT_7</td>\n",
       "      <td>ls7_ledaps_ghana</td>\n",
       "    </tr>\n",
       "    <tr>\n",
       "      <th>74</th>\n",
       "      <td>LANDSAT_7</td>\n",
       "      <td>ls7_ledaps_honduras</td>\n",
       "    </tr>\n",
       "    <tr>\n",
       "      <th>23</th>\n",
       "      <td>LANDSAT_7</td>\n",
       "      <td>ls7_ledaps_kenya</td>\n",
       "    </tr>\n",
       "    <tr>\n",
       "      <th>41</th>\n",
       "      <td>LANDSAT_7</td>\n",
       "      <td>ls7_ledaps_lake_baringo</td>\n",
       "    </tr>\n",
       "    <tr>\n",
       "      <th>24</th>\n",
       "      <td>LANDSAT_7</td>\n",
       "      <td>ls7_ledaps_lake_chad_full</td>\n",
       "    </tr>\n",
       "    <tr>\n",
       "      <th>25</th>\n",
       "      <td>LANDSAT_7</td>\n",
       "      <td>ls7_ledaps_lake_cortijo</td>\n",
       "    </tr>\n",
       "    <tr>\n",
       "      <th>26</th>\n",
       "      <td>LANDSAT_7</td>\n",
       "      <td>ls7_ledaps_menindee_lakes</td>\n",
       "    </tr>\n",
       "    <tr>\n",
       "      <th>27</th>\n",
       "      <td>LANDSAT_7</td>\n",
       "      <td>ls7_ledaps_meta_river</td>\n",
       "    </tr>\n",
       "    <tr>\n",
       "      <th>28</th>\n",
       "      <td>LANDSAT_7</td>\n",
       "      <td>ls7_ledaps_salgar_colombia</td>\n",
       "    </tr>\n",
       "    <tr>\n",
       "      <th>68</th>\n",
       "      <td>LANDSAT_7</td>\n",
       "      <td>ls7_ledaps_samoa</td>\n",
       "    </tr>\n",
       "    <tr>\n",
       "      <th>75</th>\n",
       "      <td>LANDSAT_7</td>\n",
       "      <td>ls7_ledaps_south_africa</td>\n",
       "    </tr>\n",
       "    <tr>\n",
       "      <th>82</th>\n",
       "      <td>LANDSAT_7</td>\n",
       "      <td>ls7_ledaps_swiss_mini</td>\n",
       "    </tr>\n",
       "    <tr>\n",
       "      <th>79</th>\n",
       "      <td>LANDSAT_7</td>\n",
       "      <td>ls7_ledaps_switzerland</td>\n",
       "    </tr>\n",
       "    <tr>\n",
       "      <th>29</th>\n",
       "      <td>LANDSAT_7</td>\n",
       "      <td>ls7_ledaps_togo</td>\n",
       "    </tr>\n",
       "    <tr>\n",
       "      <th>30</th>\n",
       "      <td>LANDSAT_7</td>\n",
       "      <td>ls7_ledaps_tonga</td>\n",
       "    </tr>\n",
       "    <tr>\n",
       "      <th>31</th>\n",
       "      <td>LANDSAT_7</td>\n",
       "      <td>ls7_ledaps_vietnam</td>\n",
       "    </tr>\n",
       "  </tbody>\n",
       "</table>\n",
       "</div>"
      ],
      "text/plain": [
       "     platform                           name\n",
       "id                                          \n",
       "8   LANDSAT_7       ls7_collections_sr_scene\n",
       "67  LANDSAT_7  ls7_collections_sr_scene_lean\n",
       "78  LANDSAT_7  ls7_collections_sr_scene_mini\n",
       "19  LANDSAT_7        ls7_ledaps_amazon_river\n",
       "20  LANDSAT_7          ls7_ledaps_bangladesh\n",
       "35  LANDSAT_7     ls7_ledaps_bangladesh_bari\n",
       "87  LANDSAT_7             ls7_ledaps_caqueta\n",
       "21  LANDSAT_7            ls7_ledaps_colombia\n",
       "22  LANDSAT_7               ls7_ledaps_ghana\n",
       "74  LANDSAT_7            ls7_ledaps_honduras\n",
       "23  LANDSAT_7               ls7_ledaps_kenya\n",
       "41  LANDSAT_7        ls7_ledaps_lake_baringo\n",
       "24  LANDSAT_7      ls7_ledaps_lake_chad_full\n",
       "25  LANDSAT_7        ls7_ledaps_lake_cortijo\n",
       "26  LANDSAT_7      ls7_ledaps_menindee_lakes\n",
       "27  LANDSAT_7          ls7_ledaps_meta_river\n",
       "28  LANDSAT_7     ls7_ledaps_salgar_colombia\n",
       "68  LANDSAT_7               ls7_ledaps_samoa\n",
       "75  LANDSAT_7        ls7_ledaps_south_africa\n",
       "82  LANDSAT_7          ls7_ledaps_swiss_mini\n",
       "79  LANDSAT_7         ls7_ledaps_switzerland\n",
       "29  LANDSAT_7                ls7_ledaps_togo\n",
       "30  LANDSAT_7               ls7_ledaps_tonga\n",
       "31  LANDSAT_7             ls7_ledaps_vietnam"
      ]
     },
     "execution_count": 4,
     "metadata": {},
     "output_type": "execute_result"
    }
   ],
   "source": [
    "# Get available products\n",
    "products_info = dc.list_products()\n",
    "\n",
    "# List LANDSAT 7 products\n",
    "print(\"LANDSAT 7 Products:\")\n",
    "products_info[[\"platform\", \"name\"]][products_info.platform == \"LANDSAT_7\"]"
   ]
  },
  {
   "cell_type": "code",
   "execution_count": 5,
   "metadata": {
    "scrolled": true
   },
   "outputs": [
    {
     "name": "stdout",
     "output_type": "stream",
     "text": [
      "LANDSAT 8 Products:\n"
     ]
    },
    {
     "data": {
      "text/html": [
       "<div>\n",
       "<style scoped>\n",
       "    .dataframe tbody tr th:only-of-type {\n",
       "        vertical-align: middle;\n",
       "    }\n",
       "\n",
       "    .dataframe tbody tr th {\n",
       "        vertical-align: top;\n",
       "    }\n",
       "\n",
       "    .dataframe thead th {\n",
       "        text-align: right;\n",
       "    }\n",
       "</style>\n",
       "<table border=\"1\" class=\"dataframe\">\n",
       "  <thead>\n",
       "    <tr style=\"text-align: right;\">\n",
       "      <th></th>\n",
       "      <th>platform</th>\n",
       "      <th>name</th>\n",
       "    </tr>\n",
       "    <tr>\n",
       "      <th>id</th>\n",
       "      <th></th>\n",
       "      <th></th>\n",
       "    </tr>\n",
       "  </thead>\n",
       "  <tbody>\n",
       "    <tr>\n",
       "      <th>9</th>\n",
       "      <td>LANDSAT_8</td>\n",
       "      <td>ls8_collections_sr_scene</td>\n",
       "    </tr>\n",
       "    <tr>\n",
       "      <th>69</th>\n",
       "      <td>LANDSAT_8</td>\n",
       "      <td>ls8_collections_sr_scene_lean</td>\n",
       "    </tr>\n",
       "    <tr>\n",
       "      <th>86</th>\n",
       "      <td>LANDSAT_8</td>\n",
       "      <td>ls8_lasrc_caqueta</td>\n",
       "    </tr>\n",
       "    <tr>\n",
       "      <th>73</th>\n",
       "      <td>LANDSAT_8</td>\n",
       "      <td>ls8_lasrc_honduras</td>\n",
       "    </tr>\n",
       "    <tr>\n",
       "      <th>32</th>\n",
       "      <td>LANDSAT_8</td>\n",
       "      <td>ls8_lasrc_lake_chad_full</td>\n",
       "    </tr>\n",
       "    <tr>\n",
       "      <th>33</th>\n",
       "      <td>LANDSAT_8</td>\n",
       "      <td>ls8_lasrc_meta_river</td>\n",
       "    </tr>\n",
       "    <tr>\n",
       "      <th>70</th>\n",
       "      <td>LANDSAT_8</td>\n",
       "      <td>ls8_lasrc_samoa</td>\n",
       "    </tr>\n",
       "    <tr>\n",
       "      <th>83</th>\n",
       "      <td>LANDSAT_8</td>\n",
       "      <td>ls8_lasrc_swiss_mini</td>\n",
       "    </tr>\n",
       "    <tr>\n",
       "      <th>77</th>\n",
       "      <td>LANDSAT_8</td>\n",
       "      <td>ls8_lasrc_switzerland</td>\n",
       "    </tr>\n",
       "    <tr>\n",
       "      <th>71</th>\n",
       "      <td>LANDSAT_8</td>\n",
       "      <td>ls8_lasrc_tonga</td>\n",
       "    </tr>\n",
       "    <tr>\n",
       "      <th>40</th>\n",
       "      <td>LANDSAT_8</td>\n",
       "      <td>ls8_lasrc_uruguay</td>\n",
       "    </tr>\n",
       "    <tr>\n",
       "      <th>34</th>\n",
       "      <td>LANDSAT_8</td>\n",
       "      <td>ls8_lasrc_vietnam</td>\n",
       "    </tr>\n",
       "  </tbody>\n",
       "</table>\n",
       "</div>"
      ],
      "text/plain": [
       "     platform                           name\n",
       "id                                          \n",
       "9   LANDSAT_8       ls8_collections_sr_scene\n",
       "69  LANDSAT_8  ls8_collections_sr_scene_lean\n",
       "86  LANDSAT_8              ls8_lasrc_caqueta\n",
       "73  LANDSAT_8             ls8_lasrc_honduras\n",
       "32  LANDSAT_8       ls8_lasrc_lake_chad_full\n",
       "33  LANDSAT_8           ls8_lasrc_meta_river\n",
       "70  LANDSAT_8                ls8_lasrc_samoa\n",
       "83  LANDSAT_8           ls8_lasrc_swiss_mini\n",
       "77  LANDSAT_8          ls8_lasrc_switzerland\n",
       "71  LANDSAT_8                ls8_lasrc_tonga\n",
       "40  LANDSAT_8              ls8_lasrc_uruguay\n",
       "34  LANDSAT_8              ls8_lasrc_vietnam"
      ]
     },
     "execution_count": 5,
     "metadata": {},
     "output_type": "execute_result"
    }
   ],
   "source": [
    "# List LANDSAT 8 products\n",
    "print(\"LANDSAT 8 Products:\")\n",
    "products_info[[\"platform\", \"name\"]][products_info.platform == \"LANDSAT_8\"]"
   ]
  },
  {
   "cell_type": "markdown",
   "metadata": {},
   "source": [
    "**Choose products**"
   ]
  },
  {
   "cell_type": "code",
   "execution_count": 6,
   "metadata": {},
   "outputs": [],
   "source": [
    "# These are the platforms (satellites) and products (datacube sets) \n",
    "# used for this demonstration.\n",
    "use_Landsat7 = True\n",
    "use_Landsat8 = False\n",
    "platforms = []\n",
    "products = []\n",
    "# Work around some missing data for the Landsat 7 Tanzania product.\n",
    "if use_Landsat7:\n",
    "    platforms.append('LANDSAT_7')\n",
    "    products.append('ls7_ledaps_vietnam')\n",
    "if use_Landsat8:\n",
    "    platforms.append('LANDSAT_8')\n",
    "    products.append('ls8_lasrc_vietnam')\n",
    "# The fraction of the original resolution to use for analysis.\n",
    "# Use this to control memory consumption and run time.\n",
    "frac_res = 0.25"
   ]
  },
  {
   "cell_type": "markdown",
   "metadata": {},
   "source": [
    "## <a id=\"extents\"></a>Get the Extents of the Cube [&#9652;](#top)"
   ]
  },
  {
   "cell_type": "code",
   "execution_count": 7,
   "metadata": {
    "scrolled": false
   },
   "outputs": [],
   "source": [
    "from utils.data_cube_utilities.dc_load import get_overlapping_area\n",
    "# Get the area common to all products.\n",
    "full_lat, full_lon, min_max_dates = get_overlapping_area(api, platforms, products)"
   ]
  },
  {
   "cell_type": "code",
   "execution_count": 8,
   "metadata": {
    "scrolled": true
   },
   "outputs": [
    {
     "name": "stdout",
     "output_type": "stream",
     "text": [
      "Available Latitude Extents: (9.1762906272858, 13.964939912344285)\n",
      "Available Longitude Extents: (102.4041694654867, 108.9310588253174)\n",
      "Available Time Extents: [['1999-09-08' '2016-12-29']]\n"
     ]
    }
   ],
   "source": [
    "from utils.data_cube_utilities.dc_time import dt_to_str\n",
    "print(\"Available Latitude Extents:\", full_lat)\n",
    "print(\"Available Longitude Extents:\", full_lon)\n",
    "print(\"Available Time Extents:\", np.vectorize(dt_to_str)(min_max_dates))"
   ]
  },
  {
   "cell_type": "markdown",
   "metadata": {},
   "source": [
    "**Visualize the full area**"
   ]
  },
  {
   "cell_type": "code",
   "execution_count": 9,
   "metadata": {},
   "outputs": [
    {
     "data": {
      "text/html": [
       "<div style=\"width:100%;\"><div style=\"position:relative;width:100%;height:0;padding-bottom:60%;\"><iframe src=\"data:text/html;charset=utf-8;base64,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\" style=\"position:absolute;width:100%;height:100%;left:0;top:0;border:none !important;\" allowfullscreen webkitallowfullscreen mozallowfullscreen></iframe></div></div>"
      ],
      "text/plain": [
       "<folium.folium.Map at 0x7f63d37c70f0>"
      ]
     },
     "execution_count": 9,
     "metadata": {},
     "output_type": "execute_result"
    }
   ],
   "source": [
    "from utils.data_cube_utilities.dc_display_map import display_map\n",
    "display_map(full_lat, full_lon)"
   ]
  },
  {
   "cell_type": "markdown",
   "metadata": {},
   "source": [
    "## <a id=\"single_period\"></a>Analyze a Single Time Period  [&#9652;](#top)"
   ]
  },
  {
   "cell_type": "markdown",
   "metadata": {},
   "source": [
    "### <a id=\"define_extents_single\"></a>Define the Extents of the Analysis [&#9652;](#top)"
   ]
  },
  {
   "cell_type": "markdown",
   "metadata": {},
   "source": [
    "**Specify start and end dates**"
   ]
  },
  {
   "cell_type": "code",
   "execution_count": 10,
   "metadata": {},
   "outputs": [],
   "source": [
    "# Select a subset of the time available.\n",
    "date_range = [dt.datetime(2013,1,1), dt.datetime(2017,12,31)]"
   ]
  },
  {
   "cell_type": "markdown",
   "metadata": {},
   "source": [
    "**Specify an area to analyze**"
   ]
  },
  {
   "cell_type": "code",
   "execution_count": 11,
   "metadata": {},
   "outputs": [],
   "source": [
    "# Specify latitude and longitude bounds of an interesting area within the full extents.\n",
    "\n",
    "# Ghana\n",
    "# min_lat_small, max_lat_small = (6.5016, 6.5221) # Lake Volta (very small)\n",
    "# min_lon_small, max_lon_small = (-0.1618, -0.100) # Lake Volta (very small)\n",
    "# min_lat_small, max_lat_small = (6.5016, 6.5821) # Lake Volta (small)\n",
    "# min_lon_small, max_lon_small = (-0.1618, -0.055) # Lake Volta (small)\n",
    "# min_lat_small, max_lat_small = (6.5138, 6.5292) # Lake Volta (medium)\n",
    "# min_lon_small, max_lon_small = (-0.1669, -0.1493) # Lake Volta (medium)\n",
    "# min_lat_small, max_lat_small = (6.2989, 7.9287) # Lake Volta (large)\n",
    "# min_lon_small, max_lon_small = (-0.4559, 0.2637) # Lake Volta (large)\n",
    "\n",
    "# Lake Sulunga, Tanzania\n",
    "# min_lat_small, max_lat_small = (-6.3605, -5.8252) # Large \n",
    "# min_lon_small, max_lon_small = (34.9756, 35.4535) # Large\n",
    "# min_lat_small, max_lat_small = (-6.2593, -5.8701) # Small (close fit)\n",
    "# min_lon_small, max_lon_small = (34.9901, 35.3641) #  Small (close fit)\n",
    "\n",
    "# Lake Manyara, Tanzania\n",
    "# min_lat_small, max_lat_small = (-3.8505, -3.3886) \n",
    "# min_lon_small, max_lon_small = (35.7184, 35.9271)\n",
    "\n",
    "# Vietnam\n",
    "# min_lat_small, max_lat_small = (10.037934, 10.237934) \n",
    "# min_lon_small, max_lon_small = (104.992264, 105.192264)\n",
    "min_lat_small, max_lat_small = (11.0645, 11.2845) # Tri An Lake\n",
    "min_lon_small, max_lon_small = (106.9567, 107.2967) # Tri An Lake"
   ]
  },
  {
   "cell_type": "markdown",
   "metadata": {},
   "source": [
    "**Visualize the selected area**"
   ]
  },
  {
   "cell_type": "code",
   "execution_count": 12,
   "metadata": {
    "scrolled": false
   },
   "outputs": [
    {
     "data": {
      "text/html": [
       "<div style=\"width:100%;\"><div style=\"position:relative;width:100%;height:0;padding-bottom:60%;\"><iframe src=\"data:text/html;charset=utf-8;base64,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\" style=\"position:absolute;width:100%;height:100%;left:0;top:0;border:none !important;\" allowfullscreen webkitallowfullscreen mozallowfullscreen></iframe></div></div>"
      ],
      "text/plain": [
       "<folium.folium.Map at 0x7f641c2155c0>"
      ]
     },
     "execution_count": 12,
     "metadata": {},
     "output_type": "execute_result"
    }
   ],
   "source": [
    "lon_small = (min_lon_small, max_lon_small)\n",
    "lat_small = (min_lat_small, max_lat_small)\n",
    "display_map(lat_small, lon_small)"
   ]
  },
  {
   "cell_type": "markdown",
   "metadata": {},
   "source": [
    "### <a id=\"retrieve_data_single\"></a>Retrieve the Data from the Datacube [&#9652;](#top)"
   ]
  },
  {
   "cell_type": "code",
   "execution_count": 13,
   "metadata": {
    "scrolled": false
   },
   "outputs": [],
   "source": [
    "from utils.data_cube_utilities.dc_load import load_multiplatform\n",
    "\n",
    "measurements = ['red', 'blue', 'green', 'nir', 'swir1', 'swir2', 'pixel_qa']\n",
    "dataset, clean_mask, masks = \\\n",
    "    load_multiplatform(dc, platforms, products, frac_res=frac_res,\n",
    "                       load_params=dict(lat=lat_small, lon=lon_small, \n",
    "                                        time=date_range,\n",
    "                                        measurements=measurements))"
   ]
  },
  {
   "cell_type": "markdown",
   "metadata": {},
   "source": [
    "### <a id=\"calculate_single\"></a> Get Water Classifications [&#9652;](#top)"
   ]
  },
  {
   "cell_type": "code",
   "execution_count": 14,
   "metadata": {},
   "outputs": [],
   "source": [
    "from utils.data_cube_utilities.dc_water_classifier import wofs_classify\n",
    "from utils.data_cube_utilities.dc_utilities import ignore_warnings\n",
    "from xarray.ufuncs import logical_and as xr_and\n",
    "\n",
    "cleaned_dataset = dataset.where(clean_mask) # Clean the dataset\n",
    "wofs_arr = ignore_warnings(wofs_classify, cleaned_dataset).wofs\n",
    "wofs_arr = wofs_arr.where(xr_and((wofs_arr!=-9999), clean_mask))\n",
    "cleaned_dataset['water'] = wofs_arr"
   ]
  },
  {
   "cell_type": "markdown",
   "metadata": {},
   "source": [
    "### <a id=\"prepare_for_vis\"></a> Prepare for Visualization [&#9652;](#top)"
   ]
  },
  {
   "cell_type": "code",
   "execution_count": 15,
   "metadata": {},
   "outputs": [],
   "source": [
    "# Define a standard dpi partly to tune font sizes in figures.\n",
    "# A higher dpi and a lower figure size will result in larger \n",
    "# font sizes relative to the figure size.\n",
    "std_dpi = 100"
   ]
  },
  {
   "cell_type": "markdown",
   "metadata": {},
   "source": [
    "### <a id=\"find_water_extents\"></a>**Find the Minimum and Maximum Water Extents** [&#9652;](#top)"
   ]
  },
  {
   "cell_type": "markdown",
   "metadata": {},
   "source": [
    "**We are finding the minimum and maximum water extents based on a max-composite of water data. We do this to reduce the appearance of missing data due to cloud cover and to avoid cluttering a plot of the mean of water over time later.**"
   ]
  },
  {
   "cell_type": "code",
   "execution_count": 16,
   "metadata": {
    "scrolled": false
   },
   "outputs": [
    {
     "data": {
      "image/png": "[encoded data removed]",
      "text/plain": [
       "<Figure size 900x582.857 with 2 Axes>"
      ]
     },
     "metadata": {
      "needs_background": "light"
     },
     "output_type": "display_data"
    }
   ],
   "source": [
    "from utils.data_cube_utilities.plotter_utils import figure_ratio, create_discrete_color_map,\\\n",
    "                                                    xarray_imshow\n",
    "\n",
    "# Find the minimum, mean, and maximum water extents by month.\n",
    "bin_str = '1m'\n",
    "resampled_data = cleaned_dataset.water.resample(time=bin_str)\n",
    "min_water, mean_water, max_water = resampled_data.min(dim='time'), \\\n",
    "    resampled_data.mean(dim='time'), resampled_data.max(dim='time')\n",
    "\n",
    "# Find the acquisition with the least water.\n",
    "# Treat the time with the most non-water pixels as the time with the least water.\n",
    "min_extent_time_ind = max_water.where(max_water == 0).count(['latitude', 'longitude']).argmax().values\n",
    "min_extent_acq = max_water.isel(time=min_extent_time_ind)\n",
    "\n",
    "# Find the acquisition with the most water.\n",
    "max_extent_time_ind = max_water.where(max_water == 1).count(['latitude', 'longitude']).argmax().values\n",
    "max_extent_acq = max_water.isel(time=max_extent_time_ind)\n",
    "\n",
    "# Begin plotting the data\n",
    "fig_width = 9 # Use this to change the size of this figure.\n",
    "fig = plt.figure(figsize=figure_ratio(cleaned_dataset, fixed_width=fig_width), dpi=std_dpi)\n",
    "\n",
    "# Create common colormap.\n",
    "cmap = create_discrete_color_map([0,1], ['red', 'blue'])\n",
    "\n",
    "imshow_kwargs = dict(vmin=0, vmax=1, cmap=cmap)\n",
    "\n",
    "legend_labels = {0:'Not Water', 1:'Water'}\n",
    "\n",
    "# Minimum water acqusition\n",
    "ax = plt.subplot(1,2,1)\n",
    "fig, ax, im, cbar = \\\n",
    "    xarray_imshow(min_extent_acq, fig=fig, ax=ax, use_colorbar=False, use_legend=True, \n",
    "                  legend_labels=legend_labels, imshow_kwargs=imshow_kwargs)\n",
    "ax.set_title(\"Minimum Water Extent ({1:.3%} water)\\n {0}\"\\\n",
    "             .format(pd.to_datetime(str(min_extent_acq.time.values)).strftime('%d/%m/%Y (DD/MM/YYYY)'), \n",
    "                     np.nansum(min_extent_acq.values) / min_extent_acq.size))\n",
    "\n",
    "# Maximum water acqusition\n",
    "ax = plt.subplot(1,2,2)\n",
    "fig, ax, im, cbar = \\\n",
    "    xarray_imshow(max_extent_acq, fig=fig, ax=ax, use_colorbar=False, use_legend=True, \n",
    "                  legend_labels=legend_labels, imshow_kwargs=imshow_kwargs)\n",
    "ax.set_title(\"Maximum Water Extent ({1:.3%} water)\\n {0}\"\\\n",
    "             .format(pd.to_datetime(str(max_extent_acq.time.values)).strftime('%d/%m/%Y (DD/MM/YYYY)'), \n",
    "                     np.nansum(max_extent_acq.values) / max_extent_acq.size))\n",
    "\n",
    "plt.tight_layout()\n",
    "plt.show()"
   ]
  },
  {
   "cell_type": "markdown",
   "metadata": {},
   "source": [
    "### <a id=\"water_extent_image\"></a>**Create Water Extent Image** [&#9652;](#top)"
   ]
  },
  {
   "cell_type": "code",
   "execution_count": 17,
   "metadata": {
    "scrolled": false
   },
   "outputs": [
    {
     "name": "stdout",
     "output_type": "stream",
     "text": [
      "Percent of pixels in each category:\n",
      "                 Number   Percent\n",
      "Never Water       41427  0.644678\n",
      "Sometimes Water   11227  0.174712\n",
      "Always Water      11606  0.180610\n",
      "Unknown               0  0.000000\n"
     ]
    },
    {
     "data": {
      "image/png": "[encoded data removed]",
      "text/plain": [
       "<Figure size 600x388.571 with 1 Axes>"
      ]
     },
     "metadata": {
      "needs_background": "light"
     },
     "output_type": "display_data"
    }
   ],
   "source": [
    "from utils.data_cube_utilities.plotter_utils import binary_class_change_plot\n",
    "\n",
    "fig_width = 6 # Use this to change the size of this figure.\n",
    "fig = plt.figure(figsize=figure_ratio(cleaned_dataset, fixed_width=fig_width), dpi=std_dpi)\n",
    "\n",
    "# Shade 3 regions - never, sometimes, and always water.\n",
    "(fig,ax), [stats_table] = \\\n",
    "    binary_class_change_plot(\n",
    "        [cleaned_dataset.water], [clean_mask], colors=['red', 'yellow', 'blue'], \n",
    "        class_legend_label='Water', fig=fig)\n",
    "\n",
    "print(\"Percent of pixels in each category:\")\n",
    "print(stats_table)\n",
    "\n",
    "plt.show()"
   ]
  },
  {
   "cell_type": "markdown",
   "metadata": {},
   "source": [
    "### <a id=\"time_series_water\"></a>Create Time Series Plot of the Mean of Water [&#9652;](#top)"
   ]
  },
  {
   "cell_type": "code",
   "execution_count": 18,
   "metadata": {
    "scrolled": false
   },
   "outputs": [
    {
     "data": {
      "text/plain": [
       "<Figure size 1000x200 with 0 Axes>"
      ]
     },
     "metadata": {},
     "output_type": "display_data"
    },
    {
     "data": {
      "image/png": "[encoded data removed]",
      "text/plain": [
       "<Figure size 864x432 with 1 Axes>"
      ]
     },
     "metadata": {
      "needs_background": "light"
     },
     "output_type": "display_data"
    }
   ],
   "source": [
    "from utils.data_cube_utilities.plotter_utils import xarray_time_series_plot\n",
    "from utils.data_cube_utilities.aggregate import xr_sel_time_by_bin\n",
    "\n",
    "water_ds = xr.Dataset(data_vars={\"Min Water\":min_water, \"Mean Water\":mean_water, \n",
    "                                 \"Max Water\":max_water})\n",
    "\n",
    "# Show only some of the times to avoid cluttering the figure with tick labels.\n",
    "plotting_data = xr_sel_time_by_bin(water_ds, num_bins=min(30, len(water_ds.time)))\n",
    "\n",
    "figsize = (10, 2) # The width and height of the figure, respectively.\n",
    "fig = plt.figure(figsize=figsize, dpi=std_dpi)\n",
    "\n",
    "xarray_time_series_plot(plotting_data, fig=fig,\n",
    "                        plot_descs={'Min Water':  {'mean': [{'scatter': {}}]},\n",
    "                                    'Mean Water': {'mean': [{'scatter': {}}]},\n",
    "                                    'Max Water':  {'mean': [{'scatter': {}}]}},\n",
    "                        show_legend=True, title='Mean of Water Over Time')\n",
    "plt.ylim(0,1)\n",
    "plt.show()"
   ]
  },
  {
   "cell_type": "markdown",
   "metadata": {},
   "source": [
    "## <a id=\"two_period\"></a>Compare Two Time Periods - a Baseline and an Analysis [&#9652;](#top)"
   ]
  },
  {
   "cell_type": "markdown",
   "metadata": {},
   "source": [
    "### <a id=\"define_extents_baseline_analysis\"></a>Define the Extents of the Analysis [&#9652;](#top)"
   ]
  },
  {
   "cell_type": "markdown",
   "metadata": {},
   "source": [
    "**Specify start and end dates in the same order as platforms and products**"
   ]
  },
  {
   "cell_type": "code",
   "execution_count": 19,
   "metadata": {},
   "outputs": [],
   "source": [
    "# Select a subset of the time available.\n",
    "date_ranges = {'baseline': [dt.datetime(2014,1,1), dt.datetime(2016,1,1)],\n",
    "               'analysis': [dt.datetime(2016,1,1), dt.datetime(2018,1,1)]}"
   ]
  },
  {
   "cell_type": "markdown",
   "metadata": {},
   "source": [
    "**Visualize the selected area**"
   ]
  },
  {
   "cell_type": "code",
   "execution_count": 20,
   "metadata": {
    "scrolled": false
   },
   "outputs": [
    {
     "data": {
      "text/html": [
       "<div style=\"width:100%;\"><div style=\"position:relative;width:100%;height:0;padding-bottom:60%;\"><iframe src=\"data:text/html;charset=utf-8;base64,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\" style=\"position:absolute;width:100%;height:100%;left:0;top:0;border:none !important;\" allowfullscreen webkitallowfullscreen mozallowfullscreen></iframe></div></div>"
      ],
      "text/plain": [
       "<folium.folium.Map at 0x7f63d2d2cfd0>"
      ]
     },
     "execution_count": 20,
     "metadata": {},
     "output_type": "execute_result"
    }
   ],
   "source": [
    "lon_small = (min_lon_small, max_lon_small)\n",
    "lat_small = (min_lat_small, max_lat_small)\n",
    "display_map(lat_small, lon_small)"
   ]
  },
  {
   "cell_type": "markdown",
   "metadata": {},
   "source": [
    "### <a id=\"retrieve_data_baseline_analysis\"></a>Retrieve the Data from the Datacube [&#9652;](#top)"
   ]
  },
  {
   "cell_type": "code",
   "execution_count": 21,
   "metadata": {},
   "outputs": [],
   "source": [
    "from utils.data_cube_utilities.dc_load import load_multiplatform\n",
    "\n",
    "cleaned_datasets = {} # Maps categories to cleaned datasets.\n",
    "clean_masks = {} # Maps categories to clean masks.\n",
    "measurements = ['red', 'blue', 'green', 'nir', 'swir1', 'swir2', 'pixel_qa']\n",
    "# Load the baseline and analysis datasets.\n",
    "for category in date_ranges.keys():\n",
    "    dataset, clean_masks[category], masks = \\\n",
    "        load_multiplatform(dc, platforms, products, frac_res=frac_res,\n",
    "                           load_params=dict(lat=lat_small, lon=lon_small, \n",
    "                                            time=date_ranges[category],\n",
    "                                            measurements=measurements))\n",
    "    cleaned_datasets[category] = dataset.where(clean_masks[category])\n",
    "del dataset # Save memory"
   ]
  },
  {
   "cell_type": "markdown",
   "metadata": {},
   "source": [
    "### <a id=\"calculate_baseline_analysis\"></a>Get Water Classifications [&#9652;](#top)"
   ]
  },
  {
   "cell_type": "code",
   "execution_count": 22,
   "metadata": {},
   "outputs": [],
   "source": [
    "from utils.data_cube_utilities.dc_water_classifier import wofs_classify\n",
    "from utils.data_cube_utilities.dc_utilities import ignore_warnings\n",
    "\n",
    "for category in cleaned_datasets:\n",
    "    wofs_arr = ignore_warnings(wofs_classify, cleaned_datasets[category]).wofs\n",
    "    wofs_arr = wofs_arr.where(xr_and((wofs_arr!=-9999), clean_masks[category]))\n",
    "    cleaned_datasets[category]['water'] = wofs_arr"
   ]
  },
  {
   "cell_type": "markdown",
   "metadata": {},
   "source": [
    "### <a id=\"calculate_water_change\"></a>**Calculate Change in Water from the Baseline Period to the Analysis Period** [&#9652;](#top)"
   ]
  },
  {
   "cell_type": "code",
   "execution_count": 23,
   "metadata": {
    "scrolled": false
   },
   "outputs": [
    {
     "name": "stdout",
     "output_type": "stream",
     "text": [
      "Between the baseline (2014-01-01 to 2016-01-01) and analysis (2016-01-01 to 2018-01-01) time periods, the change in pixels that are water at any time during their respective time periods is:-5.204%\n"
     ]
    }
   ],
   "source": [
    "baseline_ds = cleaned_datasets['baseline']\n",
    "baseline_sum_cls = baseline_ds.water.sum(dim='time')\n",
    "analysis_ds = cleaned_datasets['analysis']\n",
    "analysis_sum_cls = analysis_ds.water.sum(dim='time')\n",
    "\n",
    "# If a pixel was classified as water at any time during its time period, it is considered water.\n",
    "baseline_frac_cls_ever = (0 < baseline_sum_cls).values.sum() / baseline_sum_cls.size\n",
    "analysis_frac_cls_ever = (0 < analysis_sum_cls).values.sum() / analysis_sum_cls.size\n",
    "# Calculate fractional change as the difference in the fraction of pixels ever classified as water.\n",
    "frac_change_cls = (analysis_frac_cls_ever - baseline_frac_cls_ever) / baseline_frac_cls_ever\n",
    "print(\"Between the baseline ({0} to {1}) and analysis ({2} to {3}) time periods, the change in pixels \"\\\n",
    "      \"that are water at any time during their respective time periods is:{4:.3%}\".format(\n",
    "        date_ranges['baseline'][0].strftime('%Y-%m-%d'), date_ranges['baseline'][1].strftime('%Y-%m-%d'), \n",
    "        date_ranges['analysis'][0].strftime('%Y-%m-%d'), date_ranges['analysis'][1].strftime('%Y-%m-%d'), \n",
    "        frac_change_cls))"
   ]
  },
  {
   "cell_type": "markdown",
   "metadata": {},
   "source": [
    "### <a id=\"change_figure\"></a>**Create a Change Figure** [&#9652;](#top)"
   ]
  },
  {
   "cell_type": "code",
   "execution_count": 24,
   "metadata": {
    "scrolled": false
   },
   "outputs": [
    {
     "name": "stdout",
     "output_type": "stream",
     "text": [
      "Percent of pixels in each category:\n",
      "                      Number   Percent\n",
      "No Water to No Water   41806  0.650576\n",
      "No Water to Water        240  0.003735\n",
      "Water to No Water       1396  0.021724\n",
      "Water to Water         20817  0.323950\n",
      "Net Change              1636  0.025459\n",
      "Unknown                    1  0.000016\n"
     ]
    },
    {
     "data": {
      "image/png": "[encoded data removed]",
      "text/plain": [
       "<Figure size 600x388.571 with 1 Axes>"
      ]
     },
     "metadata": {
      "needs_background": "light"
     },
     "output_type": "display_data"
    }
   ],
   "source": [
    "fig_width = 6 # Use this to change the size of this figure.\n",
    "fig = plt.figure(figsize=figure_ratio(baseline_ds, fixed_width=fig_width), dpi=std_dpi)\n",
    "\n",
    "# Show regions based on changes between having zero or more than zero times in which they are classified as water \n",
    "# between the two time periods.\n",
    "[fig,ax], [stats_table, change_matrix] = \\\n",
    "    binary_class_change_plot(\n",
    "        [baseline_ds.water, analysis_ds.water], \n",
    "    [clean_masks['baseline'], clean_masks['analysis']],\n",
    "        colors=['yellow', 'green', 'red', 'blue'], class_legend_label='Water', \n",
    "        fig=fig)\n",
    "\n",
    "print(\"Percent of pixels in each category:\")\n",
    "print(stats_table)\n",
    "\n",
    "plt.show()"
   ]
  },
  {
   "cell_type": "markdown",
   "metadata": {},
   "source": [
    "### <a id=\"classify_by_degree_change\"></a>**Classifiy the Area by Degree of Change** [&#9652;](#top)"
   ]
  },
  {
   "cell_type": "code",
   "execution_count": 25,
   "metadata": {},
   "outputs": [
    {
     "name": "stdout",
     "output_type": "stream",
     "text": [
      "The percent of pixels that have changed class relative to the baseline time period is 5.204%, so this region can be classfied as Unmodified Natural (class A)\n"
     ]
    }
   ],
   "source": [
    "region_class = None\n",
    "frac_change_cls = abs(frac_change_cls)\n",
    "if frac_change_cls <= 0.1:\n",
    "    region_class = \"Unmodified Natural (class A)\"\n",
    "if 0.1 < frac_change_cls <= 0.2:\n",
    "    region_class = \"Largely Natural (class B)\"\n",
    "if 0.2 < frac_change_cls <= 0.4:\n",
    "    region_class = \"Moderately Modified (class C)\"\n",
    "if 0.4 < frac_change_cls <= 0.6:\n",
    "    region_class = \"Largely Modified (class D)\"\n",
    "if 0.6 < frac_change_cls:\n",
    "    region_class = \"Seriously Modified (class E)\"\n",
    "print(\"The percent of pixels that have changed class relative to the baseline time period \" \\\n",
    "      \"is {0:.3%}, so this region can be classfied as {1}\".format(frac_change_cls, region_class))"
   ]
  }
 ],
 "metadata": {
  "kernelspec": {
   "display_name": "Python 3",
   "language": "python",
   "name": "python3"
  },
  "language_info": {
   "codemirror_mode": {
    "name": "ipython",
    "version": 3
   },
   "file_extension": ".py",
   "mimetype": "text/x-python",
   "name": "python",
   "nbconvert_exporter": "python",
   "pygments_lexer": "ipython3",
   "version": "3.6.8"
  }
 },
 "nbformat": 4,
 "nbformat_minor": 2
}
