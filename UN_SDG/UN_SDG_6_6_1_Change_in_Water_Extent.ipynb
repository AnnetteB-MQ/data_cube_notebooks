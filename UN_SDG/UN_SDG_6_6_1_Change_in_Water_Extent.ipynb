{
 "cells": [
  {
   "cell_type": "markdown",
   "metadata": {},
   "source": [
    "<a id=\"top\"></a>\n",
    "# UN SDG Indicator 6.6.1:<br> Change in the Extent of Water-related Ecosystems\n",
    "\n",
    "\n",
    "<hr>\n",
    "\n",
    "# Notebook Summary\n",
    "The United Nations have prescribed 17 \"Sustainable Development Goals\" (SDGs). This notebook attempts to monitor SDG Indicator 6.6.1 - change in the extent of water-related ecosystems. Indicator 6.6.1 has 4 sub-indicators:\n",
    ">    i. The spatial extent of water-related ecosystems <br>\n",
    ">    ii. The quantity of water contained within these ecosystems <br>\n",
    ">    iii. The quality of water within these ecosystems <br>\n",
    ">    iv. The health or state of these ecosystems <br>\n",
    "\n",
    "This notebook primarily focuses on the first sub-indicator - spatial extents.\n",
    "\n",
    "In the first section, one time period is analyzed. The mean of water classifications over time is visualized, the minimum and maximum water extents are visualized, and the frequency of water classification for each pixel is visualized.\n",
    "\n",
    "In the second section, two time periods are analyzed - a baseline time period and an analysis time period. The change in pixels that are water at any time during their respective time periods is calculated, the change in water from the baseline time period to the analysis time period is visualized, and the area is classified by degree of change using classification labels provided by UN SDG 6.6.1.\n",
    "\n",
    "<hr>\n",
    "\n",
    "# Index\n",
    "\n",
    "* [Import Dependencies and Connect to the Data Cube](#import)\n",
    "* [Choose Platform and Product](#plat_prod)\n",
    "* [Get the Extents of the Cube](#extents)\n",
    "* [Analyze a Single Time Period](#single_period)\n",
    "    * [Define the Extents of the Analysis](#define_extents_single) (selecting too much can make the acquisition process slow)\n",
    "    * [Retrieve the Data from the Datacube](#retrieve_data_single)\n",
    "    * [Get Water Classifications](#calculate_single)\n",
    "    * [Prepare for Visualization](#prepare_for_vis)\n",
    "    * [Find the Minimum and Maximum Water Extents](#find_water_extents)\n",
    "    * [Create Water Extent Image](#water_extent_image)\n",
    "    * [Create Time Series Plot of the Mean of Water](#time_series_water)\n",
    "* [Compare Two Time Periods - a Baseline and an Analysis](#two_period)\n",
    "    * [Define the Extents of the Analysis](#define_extents_baseline_analysis)\n",
    "    * [Retrieve the Data from the Datacube](#retrieve_data_baseline_analysis)\n",
    "    * [Get Water Classifications](#calculate_baseline_analysis)\n",
    "    * [Calculate Change in Water from the Baseline Period to the Analysis Period](#calculate_water_change)\n",
    "    * [Create a Change Figure](#change_figure)\n",
    "    * [Classify the Area by Degree of Change](#classify_by_degree_change)"
   ]
  },
  {
   "cell_type": "markdown",
   "metadata": {},
   "source": [
    "## <a id=\"import\"></a>Import Dependencies and Connect to the Data Cube [&#9652;](#top)"
   ]
  },
  {
   "cell_type": "code",
   "execution_count": null,
   "metadata": {},
   "outputs": [],
   "source": [
    "# Supress Warning \n",
    "import warnings\n",
    "warnings.filterwarnings('ignore')"
   ]
  },
  {
   "cell_type": "code",
   "execution_count": null,
   "metadata": {
    "scrolled": true
   },
   "outputs": [],
   "source": [
    "%matplotlib inline\n",
    "import warnings\n",
    "import matplotlib.pyplot as plt\n",
    "\n",
    "# Allow importing of our utilities.\n",
    "import sys\n",
    "sys.path.append(\"..\")\n",
    "\n",
    "# Import the datacube and the API\n",
    "import datacube\n",
    "from utils.data_cube_utilities.data_access_api import DataAccessApi\n",
    "import datetime as dt\n",
    "import numpy as np\n",
    "import xarray as xr\n",
    "import pandas as pd\n",
    "\n",
    "from matplotlib.colors import LinearSegmentedColormap"
   ]
  },
  {
   "cell_type": "code",
   "execution_count": null,
   "metadata": {},
   "outputs": [],
   "source": [
    "# Create an instance of the datacube and API.\n",
    "api = DataAccessApi(config=\"/home/localuser/.datacube.conf\")\n",
    "dc = api.dc"
   ]
  },
  {
   "cell_type": "markdown",
   "metadata": {},
   "source": [
    "## <a id=\"plat_prod\"></a>Choose Platform and Product [&#9652;](#top)"
   ]
  },
  {
   "cell_type": "markdown",
   "metadata": {},
   "source": [
    "**List available products for each platform**"
   ]
  },
  {
   "cell_type": "code",
   "execution_count": null,
   "metadata": {
    "scrolled": true
   },
   "outputs": [],
   "source": [
    "# Get available products\n",
    "products_info = dc.list_products()\n",
    "\n",
    "# List LANDSAT 7 products\n",
    "print(\"LANDSAT 7 Products:\")\n",
    "products_info[[\"platform\", \"name\"]][products_info.platform == \"LANDSAT_7\"]"
   ]
  },
  {
   "cell_type": "code",
   "execution_count": null,
   "metadata": {
    "scrolled": true
   },
   "outputs": [],
   "source": [
    "# List LANDSAT 8 products\n",
    "print(\"LANDSAT 8 Products:\")\n",
    "products_info[[\"platform\", \"name\"]][products_info.platform == \"LANDSAT_8\"]"
   ]
  },
  {
   "cell_type": "markdown",
   "metadata": {},
   "source": [
    "**Choose products**"
   ]
  },
  {
   "cell_type": "code",
   "execution_count": null,
   "metadata": {},
   "outputs": [],
   "source": [
    "# These are the platforms (satellites) and products (datacube sets) \n",
    "# used for this demonstration.\n",
    "use_Landsat7 = True\n",
    "use_Landsat8 = False\n",
    "platforms = []\n",
    "products = []\n",
    "# Work around some missing data for the Landsat 7 Tanzania product.\n",
    "if use_Landsat7:\n",
    "    platforms.append('LANDSAT_7')\n",
    "    products.append('ls7_ledaps_tanzania')\n",
    "if use_Landsat8:\n",
    "    platforms.append('LANDSAT_8')\n",
    "    products.append('ls8_lasrc_tanzania')\n",
    "# The fraction of the original resolution to use for analysis.\n",
    "# Use this to control memory consumption and run time.\n",
    "frac_res = 0.25"
   ]
  },
  {
   "cell_type": "markdown",
   "metadata": {},
   "source": [
    "## <a id=\"extents\"></a>Get the Extents of the Cube [&#9652;](#top)"
   ]
  },
  {
   "cell_type": "code",
   "execution_count": null,
   "metadata": {
    "scrolled": false
   },
   "outputs": [],
   "source": [
    "from utils.data_cube_utilities.dc_load import get_overlapping_area\n",
    "# Get the area common to all products.\n",
    "full_lat, full_lon, min_max_dates = get_overlapping_area(api, platforms, products)"
   ]
  },
  {
   "cell_type": "code",
   "execution_count": null,
   "metadata": {
    "scrolled": true
   },
   "outputs": [],
   "source": [
    "from utils.data_cube_utilities.dc_time import dt_to_str\n",
    "print(\"Available Latitude Extents:\", full_lat)\n",
    "print(\"Available Longitude Extents:\", full_lon)\n",
    "print(\"Available Time Extents:\", np.vectorize(dt_to_str)(min_max_dates))"
   ]
  },
  {
   "cell_type": "markdown",
   "metadata": {},
   "source": [
    "## <a id=\"single_period\"></a>Analyze a Single Time Period  [&#9652;](#top)"
   ]
  },
  {
   "cell_type": "markdown",
   "metadata": {},
   "source": [
    "### <a id=\"define_extents_single\"></a>Define the Extents of the Analysis [&#9652;](#top)"
   ]
  },
  {
   "cell_type": "markdown",
   "metadata": {},
   "source": [
    "**Specify start and end dates**"
   ]
  },
  {
   "cell_type": "code",
   "execution_count": null,
   "metadata": {},
   "outputs": [],
   "source": [
    "# Select a subset of the time available.\n",
    "date_range = [dt.datetime(2016,1,1), dt.datetime(2018,1,1)]"
   ]
  },
  {
   "cell_type": "markdown",
   "metadata": {},
   "source": [
    "**Specify an area to analyze**"
   ]
  },
  {
   "cell_type": "code",
   "execution_count": null,
   "metadata": {},
   "outputs": [],
   "source": [
    "# Specify latitude and longitude bounds of an interesting area within the full extents.\n",
    "\n",
    "# Ghana\n",
    "# min_lat_small, max_lat_small = (6.5016, 6.5221) # Lake Volta (very small)\n",
    "# min_lon_small, max_lon_small = (-0.1618, -0.100) # Lake Volta (very small)\n",
    "# min_lat_small, max_lat_small = (6.5016, 6.5821) # Lake Volta (small)\n",
    "# min_lon_small, max_lon_small = (-0.1618, -0.055) # Lake Volta (small)\n",
    "# min_lat_small, max_lat_small = (6.5138, 6.5292) # Lake Volta (medium)\n",
    "# min_lon_small, max_lon_small = (-0.1669, -0.1493) # Lake Volta (medium)\n",
    "# min_lat_small, max_lat_small = (6.2989, 7.9287) # Lake Volta (large)\n",
    "# min_lon_small, max_lon_small = (-0.4559, 0.2637) # Lake Volta (large)\n",
    "\n",
    "# Lake Sulunga, Tanzania\n",
    "# min_lat_small, max_lat_small = (-6.3605, -5.8252) # Large \n",
    "# min_lon_small, max_lon_small = (34.9756, 35.4535) # Large\n",
    "min_lat_small, max_lat_small = (-6.2593, -5.8701) # Small (close fit)\n",
    "min_lon_small, max_lon_small = (34.9901, 35.3641) #  Small (close fit)\n",
    "\n",
    "# Lake Manyara, Tanzania\n",
    "# min_lat_small, max_lat_small = (-3.8505, -3.3886) \n",
    "# min_lon_small, max_lon_small = (35.7184, 35.9271)\n",
    "\n",
    "# Vietnam\n",
    "# min_lat_small, max_lat_small = (10.037934, 10.237934) \n",
    "# min_lon_small, max_lon_small = (104.992264, 105.192264)"
   ]
  },
  {
   "cell_type": "markdown",
   "metadata": {},
   "source": [
    "**Visualize the selected area**"
   ]
  },
  {
   "cell_type": "code",
   "execution_count": null,
   "metadata": {
    "scrolled": false
   },
   "outputs": [],
   "source": [
    "from utils.data_cube_utilities.dc_display_map import display_map\n",
    "lon_small = (min_lon_small, max_lon_small)\n",
    "lat_small = (min_lat_small, max_lat_small)\n",
    "display_map(lat_small, lon_small)"
   ]
  },
  {
   "cell_type": "markdown",
   "metadata": {},
   "source": [
    "### <a id=\"retrieve_data_single\"></a>Retrieve the Data from the Datacube [&#9652;](#top)"
   ]
  },
  {
   "cell_type": "code",
   "execution_count": null,
   "metadata": {
    "scrolled": false
   },
   "outputs": [],
   "source": [
    "from utils.data_cube_utilities.dc_load import load_multiplatform\n",
    "\n",
    "measurements = ['red', 'blue', 'green', 'nir', 'swir1', 'swir2', 'pixel_qa']\n",
    "dataset, clean_mask, masks = \\\n",
    "    load_multiplatform(dc, platforms, products, frac_res=frac_res,\n",
    "                       load_params=dict(lat=lat_small, lon=lon_small, \n",
    "                                        time=date_range,\n",
    "                                        measurements=measurements))"
   ]
  },
  {
   "cell_type": "markdown",
   "metadata": {},
   "source": [
    "### <a id=\"calculate_single\"></a> Get Water Classifications [&#9652;](#top)"
   ]
  },
  {
   "cell_type": "code",
   "execution_count": null,
   "metadata": {},
   "outputs": [],
   "source": [
    "from utils.data_cube_utilities.dc_water_classifier import wofs_classify\n",
    "from utils.data_cube_utilities.dc_utilities import ignore_warnings\n",
    "from xarray.ufuncs import logical_and as xr_and\n",
    "\n",
    "cleaned_dataset = dataset.where(clean_mask) # Clean the dataset\n",
    "wofs_arr = ignore_warnings(wofs_classify, cleaned_dataset).wofs\n",
    "wofs_arr = wofs_arr.where(xr_and((wofs_arr!=-9999), clean_mask))\n",
    "cleaned_dataset['water'] = wofs_arr"
   ]
  },
  {
   "cell_type": "markdown",
   "metadata": {},
   "source": [
    "### <a id=\"prepare_for_vis\"></a> Prepare for Visualization [&#9652;](#top)"
   ]
  },
  {
   "cell_type": "code",
   "execution_count": null,
   "metadata": {},
   "outputs": [],
   "source": [
    "# Define a standard dpi to tune font sizes in figures.\n",
    "# A higher dpi and a lower figure size will result in larger \n",
    "# font sizes relative to the figure size.\n",
    "std_dpi = 100"
   ]
  },
  {
   "cell_type": "markdown",
   "metadata": {},
   "source": [
    "### <a id=\"find_water_extents\"></a>**Find the Minimum and Maximum Water Extents** [&#9652;](#top)"
   ]
  },
  {
   "cell_type": "markdown",
   "metadata": {},
   "source": [
    "**We are finding the minimum and maximum water extents based on a max-composite of water data. We do this to reduce the appearance of missing data due to cloud cover and to avoid cluttering a plot of the mean of water over time later.**"
   ]
  },
  {
   "cell_type": "code",
   "execution_count": null,
   "metadata": {
    "scrolled": false
   },
   "outputs": [],
   "source": [
    "from utils.data_cube_utilities.plotter_utils import figure_ratio, create_discrete_color_map,\\\n",
    "                                                    xarray_imshow\n",
    "\n",
    "# Find the minimum, mean, and maximum water extents by month.\n",
    "bin_str = '1m'\n",
    "resampled_data = cleaned_dataset.water.resample(time=bin_str)\n",
    "min_water, mean_water, max_water = resampled_data.min(dim='time'), \\\n",
    "    resampled_data.mean(dim='time'), resampled_data.max(dim='time')\n",
    "\n",
    "# Find the acquisition with the least water.\n",
    "# Treat the time with the most non-water pixels as the time with the least water.\n",
    "min_extent_time_ind = max_water.where(max_water == 0).count(['latitude', 'longitude']).argmax().values\n",
    "min_extent_acq = max_water.isel(time=min_extent_time_ind)\n",
    "\n",
    "# Find the acquisition with the most water.\n",
    "max_extent_time_ind = max_water.where(max_water == 1).count(['latitude', 'longitude']).argmax().values\n",
    "max_extent_acq = max_water.isel(time=max_extent_time_ind)\n",
    "\n",
    "# Begin plotting the data\n",
    "fig_width = 9 # Use this to change the size of this figure.\n",
    "fig = plt.figure(figsize=figure_ratio(cleaned_dataset, fixed_width=fig_width), dpi=std_dpi)\n",
    "\n",
    "# Create common colormap.\n",
    "cmap = create_discrete_color_map([0,1], ['red', 'blue'])\n",
    "\n",
    "imshow_kwargs = dict(vmin=0, vmax=1, cmap=cmap)\n",
    "\n",
    "legend_labels = {0:'Not Water', 1:'Water'}\n",
    "\n",
    "# Minimum water acqusition\n",
    "ax = plt.subplot(1,2,1)\n",
    "fig, ax, im, cbar = \\\n",
    "    xarray_imshow(min_extent_acq, fig=fig, ax=ax, use_colorbar=False, use_legend=True, \n",
    "                  legend_labels=legend_labels, imshow_kwargs=imshow_kwargs)\n",
    "ax.set_title(\"Minimum Water Extent ({1:.3%} water)\\n {0}\"\\\n",
    "             .format(pd.to_datetime(str(min_extent_acq.time.values)).strftime('%d/%m/%Y (DD/MM/YYYY)'), \n",
    "                     np.nansum(min_extent_acq.values) / min_extent_acq.size))\n",
    "\n",
    "# Maximum water acqusition\n",
    "ax = plt.subplot(1,2,2)\n",
    "fig, ax, im, cbar = \\\n",
    "    xarray_imshow(max_extent_acq, fig=fig, ax=ax, use_colorbar=False, use_legend=True, \n",
    "                  legend_labels=legend_labels, imshow_kwargs=imshow_kwargs)\n",
    "ax.set_title(\"Maximum Water Extent ({1:.3%} water)\\n {0}\"\\\n",
    "             .format(pd.to_datetime(str(max_extent_acq.time.values)).strftime('%d/%m/%Y (DD/MM/YYYY)'), \n",
    "                     np.nansum(max_extent_acq.values) / max_extent_acq.size))\n",
    "\n",
    "plt.tight_layout()\n",
    "plt.show()"
   ]
  },
  {
   "cell_type": "markdown",
   "metadata": {},
   "source": [
    "### <a id=\"water_extent_image\"></a>**Create Water Extent Image** [&#9652;](#top)"
   ]
  },
  {
   "cell_type": "code",
   "execution_count": null,
   "metadata": {
    "scrolled": false
   },
   "outputs": [],
   "source": [
    "from utils.data_cube_utilities.plotter_utils import binary_class_change_plot\n",
    "\n",
    "fig_width = 6 # Use this to change the size of this figure.\n",
    "fig = plt.figure(figsize=figure_ratio(cleaned_dataset, fixed_width=fig_width), dpi=std_dpi)\n",
    "\n",
    "# Shade 3 regions - never, sometimes, and always water.\n",
    "(fig,ax), [pct_none, pct_chng, pct_perm, pct_unknown] = \\\n",
    "    binary_class_change_plot(\n",
    "        [cleaned_dataset.water], colors=['red', 'yellow', 'blue'], \n",
    "        class_legend_label='Water', fig=fig)\n",
    "\n",
    "print(\"Percent of pixels that were never water: {0:.3%}\".format(pct_none))\n",
    "print(\"Percent of pixels that were sometimes water: {0:.3%}\".format(pct_chng))\n",
    "print(\"Percent of pixels that were always water: {0:.3%}\".format(pct_perm))\n",
    "print(\"Percent of pixels with insufficient data for categorization: {0:.3%}\".format(pct_unknown))\n",
    "\n",
    "plt.show()"
   ]
  },
  {
   "cell_type": "markdown",
   "metadata": {},
   "source": [
    "### <a id=\"time_series_water\"></a>Create Time Series Plot of the Mean of Water [&#9652;](#top)"
   ]
  },
  {
   "cell_type": "code",
   "execution_count": null,
   "metadata": {
    "scrolled": false
   },
   "outputs": [],
   "source": [
    "from utils.data_cube_utilities.plotter_utils import xarray_time_series_plot\n",
    "from utils.data_cube_utilities.aggregate import xr_sel_time_by_bin\n",
    "\n",
    "water_ds = xr.Dataset(data_vars={\"Min Water\":min_water, \"Mean Water\":mean_water, \n",
    "                                 \"Max Water\":max_water})\n",
    "\n",
    "# Show only some of the times to avoid cluttering the figure with tick labels.\n",
    "plotting_data = xr_sel_time_by_bin(water_ds, num_bins=min(30, len(water_ds.time)))\n",
    "\n",
    "figsize = (10, 2) # The width and height of the figure, respectively.\n",
    "fig = plt.figure(figsize=figsize, dpi=std_dpi)\n",
    "\n",
    "xarray_time_series_plot(plotting_data, fig=fig,\n",
    "                        plot_descs={'Min Water':  {'mean': [{'scatter': {}}]},\n",
    "                                    'Mean Water': {'mean': [{'scatter': {}}]},\n",
    "                                    'Max Water':  {'mean': [{'scatter': {}}]}},\n",
    "                        show_legend=True, title='Mean of Water Over Time')\n",
    "plt.ylim(0,1)\n",
    "plt.show()"
   ]
  },
  {
   "cell_type": "markdown",
   "metadata": {},
   "source": [
    "## <a id=\"two_period\"></a>Compare Two Time Periods - a Baseline and an Analysis [&#9652;](#top)"
   ]
  },
  {
   "cell_type": "markdown",
   "metadata": {},
   "source": [
    "### <a id=\"define_extents_baseline_analysis\"></a>Define the Extents of the Analysis [&#9652;](#top)"
   ]
  },
  {
   "cell_type": "markdown",
   "metadata": {},
   "source": [
    "**Specify start and end dates in the same order as platforms and products**"
   ]
  },
  {
   "cell_type": "code",
   "execution_count": null,
   "metadata": {},
   "outputs": [],
   "source": [
    "# Select a subset of the time available.\n",
    "date_ranges = {'baseline': [dt.datetime(2014,1,1), dt.datetime(2016,1,1)],\n",
    "               'analysis': [dt.datetime(2016,1,1), dt.datetime(2018,1,1)]}"
   ]
  },
  {
   "cell_type": "code",
   "execution_count": null,
   "metadata": {},
   "outputs": [],
   "source": [
    "# Select a subset of the time available.\n",
    "date_ranges = {'baseline': [dt.datetime(2014,1,1), dt.datetime(2015,1,1)],\n",
    "               'analysis': [dt.datetime(2015,1,1), dt.datetime(2016,1,1)]}"
   ]
  },
  {
   "cell_type": "markdown",
   "metadata": {},
   "source": [
    "**Visualize the selected area**"
   ]
  },
  {
   "cell_type": "code",
   "execution_count": null,
   "metadata": {
    "scrolled": false
   },
   "outputs": [],
   "source": [
    "lon_small = (min_lon_small, max_lon_small)\n",
    "lat_small = (min_lat_small, max_lat_small)\n",
    "display_map(lat_small, lon_small)"
   ]
  },
  {
   "cell_type": "markdown",
   "metadata": {},
   "source": [
    "### <a id=\"retrieve_data_baseline_analysis\"></a>Retrieve the Data from the Datacube [&#9652;](#top)"
   ]
  },
  {
   "cell_type": "code",
   "execution_count": null,
   "metadata": {},
   "outputs": [],
   "source": [
    "from utils.data_cube_utilities.dc_load import load_multiplatform\n",
    "\n",
    "cleaned_datasets = {} # Maps categories to cleaned datasets.\n",
    "clean_masks = {} # Maps categories to clean masks.\n",
    "measurements = ['red', 'blue', 'green', 'nir', 'swir1', 'swir2', 'pixel_qa']\n",
    "# Load the baseline and analysis datasets.\n",
    "for category in date_ranges.keys():\n",
    "    dataset, clean_masks[category], masks = \\\n",
    "        load_multiplatform(dc, platforms, products, frac_res=frac_res,\n",
    "                           load_params=dict(lat=lat_small, lon=lon_small, \n",
    "                                            time=date_ranges[category],\n",
    "                                            measurements=measurements))\n",
    "    cleaned_datasets[category] = dataset.where(clean_masks[category])\n",
    "del dataset # Save memory"
   ]
  },
  {
   "cell_type": "markdown",
   "metadata": {},
   "source": [
    "### <a id=\"calculate_baseline_analysis\"></a>Get Water Classifications [&#9652;](#top)"
   ]
  },
  {
   "cell_type": "code",
   "execution_count": null,
   "metadata": {},
   "outputs": [],
   "source": [
    "from utils.data_cube_utilities.dc_water_classifier import wofs_classify\n",
    "from utils.data_cube_utilities.dc_utilities import ignore_warnings\n",
    "\n",
    "for category in cleaned_datasets:\n",
    "    wofs_arr = ignore_warnings(wofs_classify, cleaned_datasets[category]).wofs\n",
    "    wofs_arr = wofs_arr.where(xr_and((wofs_arr!=-9999), clean_masks[category]))\n",
    "    cleaned_datasets[category]['water'] = wofs_arr"
   ]
  },
  {
   "cell_type": "markdown",
   "metadata": {},
   "source": [
    "### <a id=\"calculate_water_change\"></a>**Calculate Change in Water from the Baseline Period to the Analysis Period** [&#9652;](#top)"
   ]
  },
  {
   "cell_type": "code",
   "execution_count": null,
   "metadata": {
    "scrolled": false
   },
   "outputs": [],
   "source": [
    "baseline_ds = cleaned_datasets['baseline']\n",
    "baseline_sum_cls = baseline_ds.water.sum(dim='time')\n",
    "analysis_ds = cleaned_datasets['analysis']\n",
    "analysis_sum_cls = analysis_ds.water.sum(dim='time')\n",
    "\n",
    "# If a pixel was classified as water at any time during its time period, it is considered water.\n",
    "baseline_frac_cls_ever = (0 < baseline_sum_cls).values.sum() / baseline_sum_cls.size\n",
    "analysis_frac_cls_ever = (0 < analysis_sum_cls).values.sum() / analysis_sum_cls.size\n",
    "# Calculate fractional change as the difference in the fraction of pixels ever classified as water.\n",
    "frac_change_cls = (analysis_frac_cls_ever - baseline_frac_cls_ever) / baseline_frac_cls_ever\n",
    "print(\"Between the baseline ({0} to {1}) and analysis ({2} to {3}) time periods, the change in pixels \"\\\n",
    "      \"that are water at any time during their respective time periods is:{4:.3%}\".format(\n",
    "        date_ranges['baseline'][0].strftime('%Y-%m-%d'), date_ranges['baseline'][1].strftime('%Y-%m-%d'), \n",
    "        date_ranges['analysis'][0].strftime('%Y-%m-%d'), date_ranges['analysis'][1].strftime('%Y-%m-%d'), \n",
    "        frac_change_cls))"
   ]
  },
  {
   "cell_type": "markdown",
   "metadata": {},
   "source": [
    "### <a id=\"change_figure\"></a>**Create a Change Figure** [&#9652;](#top)"
   ]
  },
  {
   "cell_type": "code",
   "execution_count": null,
   "metadata": {
    "scrolled": false
   },
   "outputs": [],
   "source": [
    "fig_width = 6 # Use this to change the size of this figure.\n",
    "fig = plt.figure(figsize=figure_ratio(baseline_ds, fixed_width=fig_width), dpi=std_dpi)\n",
    "\n",
    "# Show regions based on changes between having zero or more than zero times in which they are classified as water \n",
    "# between the two time periods.\n",
    "[fig,ax], [pct_never_never, pct_never_some, pct_some_never, pct_some_some, pct_unknown] = \\\n",
    "    binary_class_change_plot(\n",
    "        [baseline_ds.water, analysis_ds.water], \n",
    "        colors=['yellow', 'green', 'red', 'blue'], class_legend_label='Water', \n",
    "        fig=fig)\n",
    "\n",
    "print(\"Percent of pixels that were never water: {0:.3%}\"\n",
    "      .format(pct_never_never))\n",
    "print(\"Percent of pixels that changed from no water to water: {0:.3%}\"\n",
    "      .format(pct_never_some))\n",
    "print(\"Percent of pixels that changed from water to no water: {0:.3%}\"\n",
    "      .format(pct_some_never))\n",
    "print(\"Percent of pixels that were always water: {0:.3%}\"\n",
    "      .format(pct_some_some))\n",
    "print(\"Percent of pixels with insufficient data for categorization: {0:.3%}\"\n",
    "      .format(pct_unknown))\n",
    "\n",
    "plt.show()"
   ]
  },
  {
   "cell_type": "markdown",
   "metadata": {},
   "source": [
    "### <a id=\"classify_by_degree_change\"></a>**Classifiy the Area by Degree of Change** [&#9652;](#top)"
   ]
  },
  {
   "cell_type": "code",
   "execution_count": null,
   "metadata": {},
   "outputs": [],
   "source": [
    "region_class = None\n",
    "frac_change_cls = abs(frac_change_cls)\n",
    "if frac_change_cls <= 0.1:\n",
    "    region_class = \"Unmodified Natural (class A)\"\n",
    "if 0.1 < frac_change_cls <= 0.2:\n",
    "    region_class = \"Largely Natural (class B)\"\n",
    "if 0.2 < frac_change_cls <= 0.4:\n",
    "    region_class = \"Moderately Modified (class C)\"\n",
    "if 0.4 < frac_change_cls <= 0.6:\n",
    "    region_class = \"Largely Modified (class D)\"\n",
    "if 0.6 < frac_change_cls:\n",
    "    region_class = \"Seriously Modified (class E)\"\n",
    "print(\"The percent of pixels that have changed class relative to the baseline time period \" \\\n",
    "      \"is {0:.3%}, so this region can be classfied as {1}\".format(frac_change_cls, region_class))"
   ]
  }
 ],
 "metadata": {
  "kernelspec": {
   "display_name": "Python 3",
   "language": "python",
   "name": "python3"
  },
  "language_info": {
   "codemirror_mode": {
    "name": "ipython",
    "version": 3
   },
   "file_extension": ".py",
   "mimetype": "text/x-python",
   "name": "python",
   "nbconvert_exporter": "python",
   "pygments_lexer": "ipython3",
   "version": "3.5.2"
  }
 },
 "nbformat": 4,
 "nbformat_minor": 2
}
