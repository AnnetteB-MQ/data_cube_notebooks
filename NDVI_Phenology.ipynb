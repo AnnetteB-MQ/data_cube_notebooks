{
 "cells": [
  {
   "cell_type": "markdown",
   "metadata": {},
   "source": [
    "# NDVI Phenology\n",
    "<hr>\n",
    "# Notebook Summary\n",
    "\n",
    "* LANDSAT 7 and LANDSAT 8 are used to detect changes in plant life over time.\n",
    "* Very basic xarray manipulations are performed.\n",
    "* The data is cleaned of clouds and scanlines.\n",
    "\n",
    "<hr>\n",
    "# Algorithmic process  \n",
    "\n",
    "* [Import dependencies and connect to the datacube](#import)\n",
    "* [Choose platform and product](#plat_prod)\n",
    "* [Get the maximum extents of the datacube](#extents)\n",
    "* [Define extents you require that fall within the maximum extents](#define_extents) (selecting too much can make the acquisition process slow)\n",
    "* [Retrieve the data from the datacube](#retrieve_data)\n",
    "* [Calculate NDVI](#calculate)\n",
    "* [Examine the selected area](#area_analysis)\n",
    "\n",
    "<hr>\n",
    "# How It Works\n",
    "\n",
    "To detect changes in plant life, we use a measure called NDVI. \n",
    "* <font color=green>NDVI</font> is the ratio of the difference between amount of near infrared light <font color=red>(NIR)</font> and red light <font color=red>(RED)</font> divided by their sum.\n",
    "<br>\n",
    "\n",
    "$$ NDVI =  \\frac{(NIR - RED)}{(NIR + RED)}$$  \n",
    "\n",
    "<br>\n",
    "<div class=\"alert-info\">\n",
    "The idea is to observe how much red light is being absorbed versus reflected. Photosynthetic plants absorb most of the visible spectrum's wavelengths when they are healthy.  When they aren't healthy, more of that light will get reflected.  This makes the difference between <font color=red>NIR</font> and <font color=red>RED</font> much smaller which will lower the <font color=green>NDVI</font>.  The resulting values from doing this over several pixels can be used to create visualizations for the changes in the amount of photosynthetic vegetation in large areas.\n",
    "</div>"
   ]
  },
  {
   "cell_type": "markdown",
   "metadata": {},
   "source": [
    "## <a id=\"import\">Import Dependencies and Connect to the Data Cube</a>"
   ]
  },
  {
   "cell_type": "code",
   "execution_count": 1,
   "metadata": {},
   "outputs": [
    {
     "name": "stderr",
     "output_type": "stream",
     "text": [
      "/home/localuser/Datacube/datacube_env/lib/python3.5/site-packages/psycopg2-2.7.5-py3.5-linux-x86_64.egg/psycopg2/__init__.py:144: UserWarning: The psycopg2 wheel package will be renamed from release 2.8; in order to keep installing from binary please use \"pip install psycopg2-binary\" instead. For details see: <http://initd.org/psycopg/docs/install.html#binary-install-from-pypi>.\n",
      "  \"\"\")\n"
     ]
    }
   ],
   "source": [
    "%matplotlib inline\n",
    "import warnings\n",
    "import matplotlib.pyplot as plt\n",
    "\n",
    "# Import the datacube and the API\n",
    "import datacube\n",
    "from utils.data_cube_utilities.data_access_api import DataAccessApi\n",
    "import numpy as np\n",
    "import pandas as pd\n",
    "import xarray as xr\n",
    "import datetime as dt\n",
    "\n",
    "from utils.data_cube_utilities.dc_display_map import display_map"
   ]
  },
  {
   "cell_type": "code",
   "execution_count": 2,
   "metadata": {},
   "outputs": [],
   "source": [
    "# Create an instance of the datacube and API.\n",
    "api = DataAccessApi(config=\"/home/localuser/.datacube.conf\")\n",
    "dc = api.dc"
   ]
  },
  {
   "cell_type": "markdown",
   "metadata": {},
   "source": [
    "## <a id=\"plat_prod\">Choose Platform and Product</a>"
   ]
  },
  {
   "cell_type": "code",
   "execution_count": 3,
   "metadata": {
    "scrolled": true
   },
   "outputs": [
    {
     "name": "stdout",
     "output_type": "stream",
     "text": [
      "LANDSAT 7 Products:\n"
     ]
    },
    {
     "data": {
      "text/html": [
       "<div>\n",
       "<style scoped>\n",
       "    .dataframe tbody tr th:only-of-type {\n",
       "        vertical-align: middle;\n",
       "    }\n",
       "\n",
       "    .dataframe tbody tr th {\n",
       "        vertical-align: top;\n",
       "    }\n",
       "\n",
       "    .dataframe thead th {\n",
       "        text-align: right;\n",
       "    }\n",
       "</style>\n",
       "<table border=\"1\" class=\"dataframe\">\n",
       "  <thead>\n",
       "    <tr style=\"text-align: right;\">\n",
       "      <th></th>\n",
       "      <th>platform</th>\n",
       "      <th>name</th>\n",
       "    </tr>\n",
       "    <tr>\n",
       "      <th>id</th>\n",
       "      <th></th>\n",
       "      <th></th>\n",
       "    </tr>\n",
       "  </thead>\n",
       "  <tbody>\n",
       "    <tr>\n",
       "      <th>0</th>\n",
       "      <td>LANDSAT_7</td>\n",
       "      <td>ls7_collections_sr_scene</td>\n",
       "    </tr>\n",
       "    <tr>\n",
       "      <th>1</th>\n",
       "      <td>LANDSAT_7</td>\n",
       "      <td>ls7_ledaps_ghana</td>\n",
       "    </tr>\n",
       "    <tr>\n",
       "      <th>2</th>\n",
       "      <td>LANDSAT_7</td>\n",
       "      <td>ls7_ledaps_ghana_sample</td>\n",
       "    </tr>\n",
       "  </tbody>\n",
       "</table>\n",
       "</div>"
      ],
      "text/plain": [
       "     platform                      name\n",
       "id                                     \n",
       "0   LANDSAT_7  ls7_collections_sr_scene\n",
       "1   LANDSAT_7          ls7_ledaps_ghana\n",
       "2   LANDSAT_7   ls7_ledaps_ghana_sample"
      ]
     },
     "execution_count": 3,
     "metadata": {},
     "output_type": "execute_result"
    }
   ],
   "source": [
    "# Get available products\n",
    "products_info = dc.list_products()\n",
    "\n",
    "# List LANDSAT 7 products\n",
    "print(\"LANDSAT 7 Products:\")\n",
    "products_info[[\"platform\", \"name\"]][products_info.platform == \"LANDSAT_7\"]"
   ]
  },
  {
   "cell_type": "code",
   "execution_count": 4,
   "metadata": {
    "scrolled": true
   },
   "outputs": [
    {
     "name": "stdout",
     "output_type": "stream",
     "text": [
      "LANDSAT 8 Products:\n"
     ]
    },
    {
     "data": {
      "text/html": [
       "<div>\n",
       "<style scoped>\n",
       "    .dataframe tbody tr th:only-of-type {\n",
       "        vertical-align: middle;\n",
       "    }\n",
       "\n",
       "    .dataframe tbody tr th {\n",
       "        vertical-align: top;\n",
       "    }\n",
       "\n",
       "    .dataframe thead th {\n",
       "        text-align: right;\n",
       "    }\n",
       "</style>\n",
       "<table border=\"1\" class=\"dataframe\">\n",
       "  <thead>\n",
       "    <tr style=\"text-align: right;\">\n",
       "      <th></th>\n",
       "      <th>platform</th>\n",
       "      <th>name</th>\n",
       "    </tr>\n",
       "    <tr>\n",
       "      <th>id</th>\n",
       "      <th></th>\n",
       "      <th></th>\n",
       "    </tr>\n",
       "  </thead>\n",
       "  <tbody>\n",
       "  </tbody>\n",
       "</table>\n",
       "</div>"
      ],
      "text/plain": [
       "Empty DataFrame\n",
       "Columns: [platform, name]\n",
       "Index: []"
      ]
     },
     "execution_count": 4,
     "metadata": {},
     "output_type": "execute_result"
    }
   ],
   "source": [
    "# List LANDSAT 8 products\n",
    "print(\"LANDSAT 8 Products:\")\n",
    "products_info[[\"platform\", \"name\"]][products_info.platform == \"LANDSAT_8\"]"
   ]
  },
  {
   "cell_type": "code",
   "execution_count": 5,
   "metadata": {},
   "outputs": [],
   "source": [
    "# These are the platforms (satellites) and products (datacube sets) \n",
    "# used for this demonstration.\n",
    "use_Landsat7 = True\n",
    "use_Landsat8 = False\n",
    "platforms = []\n",
    "products = []\n",
    "if use_Landsat7:\n",
    "    platforms.append('LANDSAT_7')\n",
    "    products.append('ls7_ledaps_ghana_sample')\n",
    "if use_Landsat8:\n",
    "    pass\n",
    "#     platforms.append('LANDSAT_8')\n",
    "#     products.append('ls8_lasrc_ghana')"
   ]
  },
  {
   "cell_type": "markdown",
   "metadata": {},
   "source": [
    "## <a id=\"extents\">Get the Extents of the Cube</a>"
   ]
  },
  {
   "cell_type": "code",
   "execution_count": 6,
   "metadata": {
    "scrolled": false
   },
   "outputs": [
    {
     "name": "stderr",
     "output_type": "stream",
     "text": [
      "/home/localuser/Datacube/data_cube_notebooks/utils/data_cube_utilities/data_access_api.py:184: FutureWarning: casting an xarray.Dataset to a boolean will change in xarray v0.11 to only include data variables, not coordinates. Cast the Dataset.variables property instead to preserve existing behavior in a forwards compatible manner.\n",
      "  if not dataset:\n"
     ]
    },
    {
     "data": {
      "text/html": [
       "<div style=\"width:100%;\"><div style=\"position:relative;width:100%;height:0;padding-bottom:60%;\"><iframe src=\"data:text/html;charset=utf-8;base64,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\" style=\"position:absolute;width:100%;height:100%;left:0;top:0;border:none !important;\" allowfullscreen webkitallowfullscreen mozallowfullscreen></iframe></div></div>"
      ],
      "text/plain": [
       "<folium.folium.Map at 0x7fac159d0e80>"
      ]
     },
     "execution_count": 6,
     "metadata": {},
     "output_type": "execute_result"
    }
   ],
   "source": [
    "min_max_dates = np.empty((len(platforms), 2), dtype=object)\n",
    "min_max_lat = np.empty((len(platforms), 2))\n",
    "min_max_lon = np.empty((len(platforms), 2))\n",
    "for i, (platform, product) in enumerate(zip(platforms, products)):\n",
    "    # Get the extents of the cube\n",
    "    descriptor = api.get_query_metadata(platform=platform, product=product)\n",
    "\n",
    "    # Save extents\n",
    "    min_max_dates[i] = descriptor['time_extents']\n",
    "    min_max_lat[i] = descriptor['lat_extents']\n",
    "    min_max_lon[i] = descriptor['lon_extents']\n",
    "    \n",
    "# Determine minimum and maximum longitudes that bound a common area among products\n",
    "min_lon = np.max(min_max_lon[:,0]) # The greatest minimum longitude among products\n",
    "max_lon = np.min(min_max_lon[:,1]) # The smallest maximum longitude among products\n",
    "min_lat = np.max(min_max_lat[:,0])\n",
    "max_lat = np.min(min_max_lat[:,1])\n",
    "full_lon = (min_lon, max_lon)\n",
    "full_lat = (min_lat, max_lat)\n",
    "# Display the total shared area available for these datacube products.\n",
    "display_map(latitude = full_lat,longitude = full_lon)"
   ]
  },
  {
   "cell_type": "markdown",
   "metadata": {},
   "source": [
    "## <a id=\"define_extents\">Define the Extents of the Analysis</a>"
   ]
  },
  {
   "cell_type": "markdown",
   "metadata": {},
   "source": [
    "**Specify start and end dates in the same order as platforms and products**"
   ]
  },
  {
   "cell_type": "code",
   "execution_count": 7,
   "metadata": {},
   "outputs": [
    {
     "name": "stdout",
     "output_type": "stream",
     "text": [
      "{'lat_extents': (7.749586293046416, 9.43231048326), 'time_extents': (datetime.datetime(2015, 4, 16, 10, 26, 29), datetime.datetime(2016, 4, 2, 10, 29, 25)), 'pixel_count': 11045636, 'tile_count': 12, 'lon_extents': (-1.886462096652, -1.409726175369516)}\n"
     ]
    }
   ],
   "source": [
    "print(descriptor)"
   ]
  },
  {
   "cell_type": "code",
   "execution_count": 8,
   "metadata": {},
   "outputs": [],
   "source": [
    "# Use these four lines to select the time slice common to all products.\n",
    "# min_start_date_mutual = np.max(min_max_dates[:,0])\n",
    "# max_end_date_mutual = np.min(min_max_dates[:,1])\n",
    "# start_dates = [min_start_date_mutual, min_start_date_mutual]\n",
    "# end_dates = [max_end_date_mutual, max_end_date_mutual]\n",
    "# Use these two lines to select all data available to each product.\n",
    "# start_dates = min_max_dates[:,0]\n",
    "# end_dates = min_max_dates[:,1]\n",
    "# Select a subset of the time available.\n",
    "start_dates = (dt.datetime(2016,1,1), dt.datetime(2016,1,1))\n",
    "end_dates = (dt.datetime(2017,12,1), dt.datetime(2017,12,1))"
   ]
  },
  {
   "cell_type": "markdown",
   "metadata": {},
   "source": [
    "**Specify an area to analyze**"
   ]
  },
  {
   "cell_type": "code",
   "execution_count": 9,
   "metadata": {},
   "outputs": [],
   "source": [
    "# Specify latitude and longitude bounds of an interesting area within the full extents\n",
    "\n",
    "# Ghana\n",
    "# min_lat_small, max_lat_small = (5.7261, 5.7390) # Crops NW of Accra (small)\n",
    "# min_lon_small, max_lon_small = (-0.4960, -0.4889) # Crops NW of Accra (small)\n",
    "# min_lat_small, max_lat_small = (5.7259, 5.7517) # Crops NW of Accra (medium)\n",
    "# min_lon_small, max_lon_small = (-0.5308, -0.5143) # Crops NW of Accra (medium)\n",
    "# min_lat_small, max_lat_small = (8.0074, 8.0203) # Central Ghana - West of Kintampo\n",
    "# min_lon_small, max_lon_small = (-2.0486, -2.0332) # Central Ghana - West of Kintampo\n",
    "min_lat_small, max_lat_small = (8.0195, 8.0345) # ls7_ledaps_ghana_sample\n",
    "min_lon_small, max_lon_small = (-1.8463, -1.8376) # ls7_ledaps_ghana_sample\n",
    "\n",
    "# Vietnam\n",
    "# min_lat_small, max_lat_small = (10.95, 11.00) # Area #1\n",
    "# min_lon_small, max_lon_small = (107.15, 107.20) # Area #1\n",
    "# min_lat_small_area, max_lat_small_area = (11.10, 11.39) # Area #2\n",
    "# min_lon_small_area, max_lon_small_area = (106.8, 106.92) # Area #2\n",
    "\n",
    "# Choose an interesting point within the specified area (a pixel, not an area).\n",
    "# Vietnam\n",
    "# lon_point, lat_point = 107.2086, 10.9790\n",
    "# lon_point, lat_point = 106.8540, 11.1445"
   ]
  },
  {
   "cell_type": "markdown",
   "metadata": {},
   "source": [
    "**Visualize the selected area**"
   ]
  },
  {
   "cell_type": "code",
   "execution_count": 10,
   "metadata": {
    "scrolled": false
   },
   "outputs": [
    {
     "data": {
      "text/html": [
       "<div style=\"width:100%;\"><div style=\"position:relative;width:100%;height:0;padding-bottom:60%;\"><iframe src=\"data:text/html;charset=utf-8;base64,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\" style=\"position:absolute;width:100%;height:100%;left:0;top:0;border:none !important;\" allowfullscreen webkitallowfullscreen mozallowfullscreen></iframe></div></div>"
      ],
      "text/plain": [
       "<folium.folium.Map at 0x7fac159c0c18>"
      ]
     },
     "execution_count": 10,
     "metadata": {},
     "output_type": "execute_result"
    }
   ],
   "source": [
    "lon_small = (min_lon_small, max_lon_small)\n",
    "lat_small = (min_lat_small, max_lat_small)\n",
    "display_map(lat_small, lon_small)"
   ]
  },
  {
   "cell_type": "markdown",
   "metadata": {},
   "source": [
    "## <a id=\"retrieve_data\">Retrieve the data from the datacube</a>"
   ]
  },
  {
   "cell_type": "code",
   "execution_count": 11,
   "metadata": {},
   "outputs": [],
   "source": [
    "from datetime import datetime as dt\n",
    "from utils.data_cube_utilities import clean_mask\n",
    "from utils.data_cube_utilities.clean_mask import landsat_qa_clean_mask, landsat_clean_mask_invalid\n",
    "\n",
    "cleaned_datasets = {}\n",
    "clean_masks = {}\n",
    "measurements = ['red', 'blue', 'green', 'nir', 'swir1', 'swir2', 'pixel_qa']\n",
    "for i, (product,platform) in enumerate(zip(products, platforms)):\n",
    "    start_date = start_dates[i]\n",
    "    end_date = end_dates[i]\n",
    "    # Query the Data Cube\n",
    "    dataset = dc.load(lat = lat_small,\n",
    "                      lon = lon_small,\n",
    "                      platform = platform,\n",
    "                      time = (start_date, end_date),\n",
    "                      product = product,\n",
    "                      measurements = measurements)\n",
    "    if len(dataset.dims) > 0: # Sometimes data is not returned.\n",
    "        # Get the clean mask for the appropriate LANDSAT satellite platform.\n",
    "        clean_mask = landsat_qa_clean_mask(dataset, platform)\n",
    "        clean_masks[platform] = clean_mask\n",
    "        # Remove clouds.\n",
    "        cleaned_dataset = dataset.where(clean_mask)\n",
    "        # Remove data that is ouside the accepted range of LANDSAT 7 and 8.\n",
    "        cleaned_dataset = landsat_clean_mask_invalid(cleaned_dataset)\n",
    "        cleaned_datasets[platform] = cleaned_dataset\n",
    "assert len(cleaned_datasets) > 0, \"No data was retrieved.\""
   ]
  },
  {
   "cell_type": "code",
   "execution_count": 12,
   "metadata": {},
   "outputs": [
    {
     "data": {
      "image/png": "[encoded data removed]",
      "text/plain": [
       "<Figure size 432x288 with 2 Axes>"
      ]
     },
     "metadata": {},
     "output_type": "display_data"
    }
   ],
   "source": [
    "for time_ind in range(len(cleaned_dataset.time)):\n",
    "    cleaned_dataset.isel(time=time_ind).red.plot()\n",
    "    plt.show()"
   ]
  },
  {
   "cell_type": "markdown",
   "metadata": {},
   "source": [
    "**Combine the data**"
   ]
  },
  {
   "cell_type": "code",
   "execution_count": 13,
   "metadata": {},
   "outputs": [],
   "source": [
    "from utils.data_cube_utilities.sort import xarray_sortby_coord\n",
    "if len(cleaned_datasets) > 1:\n",
    "    cleaned_datasets_list = list(cleaned_datasets.values())\n",
    "    cleaned_dataset = xr.concat(cleaned_datasets_list, dim='time')\n",
    "    cleaned_dataset = xarray_sortby_coord(cleaned_dataset, 'time')\n",
    "else:\n",
    "    cleaned_dataset = cleaned_datasets[list(cleaned_datasets.keys())[0]]"
   ]
  },
  {
   "cell_type": "code",
   "execution_count": 14,
   "metadata": {
    "scrolled": false
   },
   "outputs": [
    {
     "name": "stdout",
     "output_type": "stream",
     "text": [
      "cleaned_dataset: <xarray.Dataset>\n",
      "Dimensions:    (latitude: 57, longitude: 33, time: 1)\n",
      "Coordinates:\n",
      "  * time       (time) datetime64[ns] 2016-04-02T10:29:25\n",
      "  * latitude   (latitude) float64 8.035 8.034 8.034 8.034 8.033 8.033 8.033 ...\n",
      "  * longitude  (longitude) float64 -1.846 -1.846 -1.846 -1.845 -1.845 -1.845 ...\n",
      "Data variables:\n",
      "    red        (time, latitude, longitude) float64 nan nan nan nan nan nan ...\n",
      "    blue       (time, latitude, longitude) float64 nan nan nan nan nan nan ...\n",
      "    green      (time, latitude, longitude) float64 nan nan nan nan nan nan ...\n",
      "    nir        (time, latitude, longitude) float64 nan nan nan nan nan nan ...\n",
      "    swir1      (time, latitude, longitude) float64 nan nan nan nan nan nan ...\n",
      "    swir2      (time, latitude, longitude) float64 nan nan nan nan nan nan ...\n",
      "    pixel_qa   (time, latitude, longitude) float64 nan nan nan nan nan nan ...\n",
      "Attributes:\n",
      "    crs:      EPSG:4326\n"
     ]
    }
   ],
   "source": [
    "print(\"cleaned_dataset:\", cleaned_dataset)"
   ]
  },
  {
   "cell_type": "markdown",
   "metadata": {},
   "source": [
    "## <a id='calculate'>Calculate NDVI</a>"
   ]
  },
  {
   "cell_type": "code",
   "execution_count": 15,
   "metadata": {
    "scrolled": true
   },
   "outputs": [],
   "source": [
    "from utils.data_cube_utilities.dc_ndvi_anomaly import NDVI\n",
    "ndvi_arr = NDVI(cleaned_dataset)\n",
    "cleaned_dataset['ndvi'] = ndvi_arr"
   ]
  },
  {
   "cell_type": "markdown",
   "metadata": {},
   "source": [
    "## <a id=\"area_analysis\">Examine the selected area</a>"
   ]
  },
  {
   "cell_type": "markdown",
   "metadata": {},
   "source": [
    "**If no plots appear in the figures below, there is no data available for the region selected**"
   ]
  },
  {
   "cell_type": "code",
   "execution_count": 16,
   "metadata": {},
   "outputs": [],
   "source": [
    "# import datetime\n",
    "# import seaborn as sns\n",
    "# def plot_area_boxplot_analysis(resolution='weekly', showfliers=False, fliersize=1.):\n",
    "#     \"\"\"\n",
    "#     Plot a boxplot analysis for the selected area.\n",
    "    \n",
    "#     Parameters\n",
    "#     ----------\n",
    "#     resolution: str\n",
    "#         Specifies the time resolution at which to aggregate across years. Can be either 'daily' or 'weekly'.\n",
    "#     showfliers: bool\n",
    "#         Whether or not to show fliers - data points that fall outside the whiskers, by the 1.5 IQR rule.\n",
    "#     fliersize: float\n",
    "#         The size of the fliers.\n",
    "#     \"\"\"\n",
    "#     def convert_int_to_datetime(time_ints):\n",
    "#         \"\"\"\n",
    "#         Converts a NumPy array of day or week integers to a list of strings for labelling axes in plotting.\n",
    "#         \"\"\"\n",
    "#         if resolution=='daily':\n",
    "#             return naive_months_ticks_by_day(time_ints)\n",
    "#         elif resolution=='weekly':\n",
    "#             return naive_months_ticks_by_week(time_ints)\n",
    "    \n",
    "#     assert resolution in ['daily', 'weekly'], \"resolution must be either 'daily' or 'weekly'\"\n",
    "#     if resolution=='daily':\n",
    "#         time_str = 'dayofyear'\n",
    "#         all_time_nums = np.arange(1,367)\n",
    "#         xlabel= 'Day of Year'\n",
    "#     elif resolution=='weekly':\n",
    "#         time_str = 'weekofyear'\n",
    "#         all_time_nums = np.arange(1,54)\n",
    "#         xlabel= 'Week of Year'\n",
    "    \n",
    "#     dfs = [] # A list of dataframes - one for each platform.\n",
    "#     acquisition_time_nums = np.array([]) # All acquisition times (day or week numbers) across all selected platforms.\n",
    "#     for i, platform in enumerate(comp_vals_arrs_dict.keys()):\n",
    "#         data_arr = comp_vals_arrs_dict[platform].comp_vals\n",
    "#         # Mean of computed values across time.\n",
    "#         data = data_arr.groupby('time.'+time_str).mean(dim='time')\n",
    "#         acquisition_time_nums = np.append(acquisition_time_nums, data[time_str].values)\n",
    "        \n",
    "#         # Cast to a pandas DataFrame (this takes a few minutes for each platform).\n",
    "#         data = data.to_dataframe()\n",
    "#         data['platform'] = platform # This column will be used to color the boxplot.\n",
    "#         dfs.append(data)\n",
    "#     # Combine the product-specific dataframes.\n",
    "#     df = pd.concat(dfs)\n",
    "    \n",
    "#     # Use the date as a column rather than an index for the seaborn plot.\n",
    "#     df.reset_index(level=time_str, inplace=True)\n",
    "    \n",
    "#     plt.figure(figsize=(18,9), dpi=300)\n",
    "#     if resolution=='daily':\n",
    "#         formatting = dict(width=1.5, linewidth=0.2)\n",
    "#     elif resolution=='weekly':\n",
    "#         formatting = dict(width=1., linewidth=0.5)\n",
    "#     boxplot = sns.boxplot(x=time_str, y='comp_vals', data=df, hue='platform', showfliers=showfliers, fliersize=fliersize,\n",
    "#                           order=all_time_nums, **formatting) # The order parameter is to ensure proper spacing.\n",
    "#     # Format the x axis tick labels.\n",
    "#     ax = plt.gca()\n",
    "#     tick_label_fontsize = 16\n",
    "#     ax.set_xticklabels(convert_int_to_datetime(all_time_nums), fontsize=tick_label_fontsize)\n",
    "#     plt.yticks(fontsize=tick_label_fontsize)\n",
    "#     axis_label_fontsize = 22\n",
    "#     plt.xlabel(xlabel, fontsize=axis_label_fontsize)\n",
    "#     plt.ylabel('NDVI', fontsize=axis_label_fontsize)\n",
    "#     plt.legend(loc='best', fontsize=16)\n",
    "#     plt.show()"
   ]
  },
  {
   "cell_type": "markdown",
   "metadata": {},
   "source": [
    "**Box-and-Whisker Plot by Full Time Period, Week, Month, Week of Year, or Month of Year.**"
   ]
  },
  {
   "cell_type": "code",
   "execution_count": 17,
   "metadata": {},
   "outputs": [],
   "source": [
    "# x = np.arange(1000)\n",
    "# y = x**2 + x + 1\n",
    "# degree = 3\n",
    "# from operator import mul\n",
    "# from functools import reduce\n",
    "# print(np.array([np.array([coef*(x_val**current_degree) for coef, current_degree in \n",
    "#                    zip(np.polyfit(x, y, degree), range(degree, -1, -1))]).sum() for x_val in x]))"
   ]
  },
  {
   "cell_type": "code",
   "execution_count": 18,
   "metadata": {},
   "outputs": [],
   "source": [
    "# from scipy.ndimage.filters import gaussian_filter\n",
    "# num_x = 100\n",
    "# x = np.arange(num_x)\n",
    "# y = np.random.rand(num_x)\n",
    "# x_smooth = np.linspace(x.min(), x.max(), n_pts)\n",
    "# gf = gaussian_filter(y, y.std())\n",
    "# # print(y)\n",
    "# print(y.mean(), y.std())\n",
    "# # print(gf)\n",
    "# plt.figure(figsize=(18,6))\n",
    "# plt.plot(x, y, label='x')\n",
    "# plt.plot(x, gf, label='gf')\n",
    "# plt.legend()\n",
    "# plt.show()"
   ]
  },
  {
   "cell_type": "code",
   "execution_count": 30,
   "metadata": {
    "scrolled": false
   },
   "outputs": [
    {
     "name": "stdout",
     "output_type": "stream",
     "text": [
      "NDVI \n"
     ]
    },
    {
     "data": {
      "image/png": "[encoded data removed]",
      "text/plain": [
       "<Figure size 1296x864 with 1 Axes>"
      ]
     },
     "metadata": {},
     "output_type": "display_data"
    }
   ],
   "source": [
    "# plot_area_boxplot_analysis('weekly', showfliers=False)\n",
    "from utils.data_cube_utilities import plotter_utils, scale, dc_utilities, curve_fitting\n",
    "import importlib\n",
    "importlib.reload(plotter_utils)\n",
    "importlib.reload(scale)\n",
    "importlib.reload(dc_utilities)\n",
    "importlib.reload(curve_fitting)\n",
    "from utils.data_cube_utilities.plotter_utils import xarray_time_series_plot\n",
    "\n",
    "# Specify whether to plot a Gaussian curve fit of the mean of NDVI along time.\n",
    "plot_gaussian_filter_ndvi_mean = True\n",
    "max_times_per_plot = 10 # The maximum number of acquisitions with data that appear in each plot.\n",
    "\n",
    "# Can be one of [None, 'week', 'month', 'weekofyear', 'monthofyear'].\n",
    "for bin_by in [None]:\n",
    "    aggregated_by_str = None\n",
    "    if bin_by is None:\n",
    "        plotting_data = cleaned_dataset\n",
    "    elif bin_by == 'week':\n",
    "        plotting_data = cleaned_dataset.resample(time='1w').mean()\n",
    "        aggregated_by_str = 'Week'\n",
    "    elif bin_by == 'month':\n",
    "        plotting_data = cleaned_dataset.resample(time='1m').mean()\n",
    "        aggregated_by_str = 'Month'\n",
    "    elif bin_by == 'weekofyear':\n",
    "        plotting_data = cleaned_dataset.groupby('time.week').mean(dim=('time'))\n",
    "        aggregated_by_str = 'Week of Year'\n",
    "    elif bin_by == 'monthofyear':\n",
    "        plotting_data = cleaned_dataset.groupby('time.month').mean(dim=('time'))\n",
    "        aggregated_by_str = 'Month of Year'\n",
    "    \n",
    "    params = dict(dataset=plotting_data, plot_descs={'ndvi':{'none':[{'box':{'boxprops':{'facecolor':'forestgreen'}}}]}})\n",
    "    if plot_gaussian_filter_ndvi_mean:\n",
    "        params['plot_descs']['ndvi']['median'] = [{'poly':{'degree': 3}}]\n",
    "        \n",
    "#     params['scale_params'] = 'norm'#{'ndvi': 'norm', 'red': 'norm'}\n",
    "    \n",
    "    xarray_time_series_plot(**params)\n",
    "    print(\"NDVI {}\".format(\"(Aggregated by {})\".format(aggregated_by_str) if aggregated_by_str is not None else \"\"))"
   ]
  },
  {
   "cell_type": "markdown",
   "metadata": {},
   "source": [
    "**Show image of composited data using a Max NDVI mosaic**"
   ]
  },
  {
   "cell_type": "code",
   "execution_count": 31,
   "metadata": {
    "scrolled": false
   },
   "outputs": [
    {
     "name": "stderr",
     "output_type": "stream",
     "text": [
      "/home/localuser/Datacube/data_cube_notebooks/utils/data_cube_utilities/dc_utilities.py:203: FutureWarning: iteration over an xarray.Dataset will change in xarray v0.11 to only include data variables, not coordinates. Iterate over the Dataset.variables property instead to preserve existing behavior in a forwards compatible manner.\n",
      "  for band in dataset:\n",
      "/home/localuser/Datacube/datacube_env/lib/python3.5/site-packages/numpy/core/_methods.py:29: RuntimeWarning: invalid value encountered in reduce\n",
      "  return umr_minimum(a, axis, None, out, keepdims)\n"
     ]
    },
    {
     "data": {
      "image/png": "[encoded data removed]",
      "text/plain": [
       "<Figure size 720x416.842 with 1 Axes>"
      ]
     },
     "metadata": {},
     "output_type": "display_data"
    }
   ],
   "source": [
    "from utils.data_cube_utilities.dc_mosaic import create_max_ndvi_mosaic\n",
    "from utils.data_cube_utilities.dc_rgb import rgb\n",
    "max_ndvi_mosaic = create_max_ndvi_mosaic(cleaned_dataset)\n",
    "rgb(max_ndvi_mosaic)"
   ]
  },
  {
   "cell_type": "markdown",
   "metadata": {},
   "source": [
    "**Save results to an image file and create a GeoTIFF**"
   ]
  },
  {
   "cell_type": "code",
   "execution_count": 32,
   "metadata": {
    "scrolled": true
   },
   "outputs": [
    {
     "data": {
      "image/png": "[encoded data removed]",
      "text/plain": [
       "<Figure size 432x288 with 2 Axes>"
      ]
     },
     "metadata": {},
     "output_type": "display_data"
    }
   ],
   "source": [
    "for time_ind in range(len(cleaned_dataset.time)):\n",
    "    cleaned_dataset.isel(time=time_ind).red.plot()\n",
    "    plt.show()"
   ]
  },
  {
   "cell_type": "code",
   "execution_count": 33,
   "metadata": {},
   "outputs": [],
   "source": [
    "from utils.data_cube_utilities.dc_utilities import write_png_from_xr\n",
    "import os\n",
    "png_dir = 'output/pngs'\n",
    "if not os.path.exists(png_dir):\n",
    "    os.makedirs(png_dir)\n",
    "write_png_from_xr('{}/NDVI_Phenology_Max_NDVI_Mosaic.png'.format(png_dir), max_ndvi_mosaic, ['red','green','blue'], scale=(0,4000))"
   ]
  },
  {
   "cell_type": "markdown",
   "metadata": {},
   "source": [
    "**Export to GeoTIFF**"
   ]
  },
  {
   "cell_type": "code",
   "execution_count": 34,
   "metadata": {},
   "outputs": [],
   "source": [
    "from utils.data_cube_utilities.import_export import export_xarray_to_geotiff\n",
    "geotiff_dir = 'geotiffs'\n",
    "if not os.path.exists(geotiff_dir):\n",
    "    os.makedirs(geotiff_dir)\n",
    "export_xarray_to_geotiff(cleaned_dataset, \"{}/NDVI_Phenology\".format(geotiff_dir))"
   ]
  }
 ],
 "metadata": {
  "kernelspec": {
   "display_name": "Python 3",
   "language": "python",
   "name": "python3"
  },
  "language_info": {
   "codemirror_mode": {
    "name": "ipython",
    "version": 3
   },
   "file_extension": ".py",
   "mimetype": "text/x-python",
   "name": "python",
   "nbconvert_exporter": "python",
   "pygments_lexer": "ipython3",
   "version": "3.5.2"
  }
 },
 "nbformat": 4,
 "nbformat_minor": 2
}
