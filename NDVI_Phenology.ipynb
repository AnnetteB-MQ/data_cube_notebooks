{
 "cells": [
  {
   "cell_type": "markdown",
   "metadata": {},
   "source": [
    "# NDVI Phenology\n",
    "<hr>\n",
    "# Notebook Summary\n",
    "\n",
    "* LANDSAT 7 and LANDSAT 8 are used to detect changes in plant life over time.\n",
    "* Very basic xarray manipulations are performed.\n",
    "* The data is cleaned of clouds and scanlines.\n",
    "\n",
    "<hr>\n",
    "# Algorithmic process  \n",
    "\n",
    "* [Import dependencies and connect to the datacube](#import)\n",
    "* [Choose platform and product](#plat_prod)\n",
    "* [Get the maximum extents of the datacube](#extents)\n",
    "* [Define extents you require that fall within the maximum extents](#define_extents) (selecting too much can make the acquisition process slow)\n",
    "* [Understand filtering of cloud data and scan lines](#filter)\n",
    "* [Retrieve the data from the datacube](#retrieve_data_time_series)\n",
    "* [Obtain the clean mask](#obtain_clean_mask_time_series)\n",
    "* [Filter out clouds, scan lines, and invalid data](#clean_mask_time_series)\n",
    "* [Calculate NDVI](#calculate)\n",
    "* [Plot a time series analysis](#time_series_analysis)\n",
    "\n",
    "<hr>\n",
    "# How It Works\n",
    "\n",
    "To detect changes in plant life, we use a measure called NDVI. \n",
    "* <font color=green>NDVI</font> is the ratio of the difference between amount of near infrared light <font color=red>(NIR)</font> and red light <font color=red>(RED)</font> divided by their sum.\n",
    "<br>\n",
    "\n",
    "$$ NDVI =  \\frac{(NIR - RED)}{(NIR + RED)}$$  \n",
    "\n",
    "<br>\n",
    "<div class=\"alert-info\">\n",
    "The idea is to observe how much red light is being absorbed versus reflected. Photosynthetic plants absorb most of the visible spectrum's wavelengths when they are healthy.  When they aren't healthy, more of that light will get reflected.  This makes the difference between <font color=red>NIR</font> and <font color=red>RED</font> much smaller which will lower the <font color=green>NDVI</font>.  The resulting values from doing this over several pixels can be used to create visualizations for the changes in the amount of photosynthetic vegetation in large areas.\n",
    "</div>"
   ]
  },
  {
   "cell_type": "markdown",
   "metadata": {},
   "source": [
    "## <a id=\"import\">Import Dependencies and Connect to the Data Cube</a>"
   ]
  },
  {
   "cell_type": "code",
   "execution_count": 1,
   "metadata": {},
   "outputs": [],
   "source": [
    "%matplotlib inline\n",
    "# Ignore warnings (from NDVI)\n",
    "import warnings\n",
    "warnings.simplefilter('ignore')\n",
    "\n",
    "# Import the datacube and the API\n",
    "import datacube\n",
    "from utils.data_cube_utilities.data_access_api import DataAccessApi\n",
    "from utils.data_cube_utilities.dc_display_map import display_map\n",
    "from dc_notebook_utilities import generate_metadata_report\n",
    "from utils.data_cube_utilities.clean_mask import landsat_clean_mask_invalid\n",
    "import numpy as np\n",
    "import pandas as pd\n",
    "import matplotlib.pyplot as plt\n",
    "import xarray as xr\n",
    "from datetime import datetime as dt\n",
    "from utils.data_cube_utilities.dc_ndvi import NDVI\n",
    "import utils.data_cube_utilities.plotter_utils as plotter\n",
    "\n",
    "# Create an instance of the datacube and API\n",
    "dc = datacube.Datacube(config=\"/home/localuser/.datacube.conf\")\n",
    "api = DataAccessApi(config=\"/home/localuser/.datacube.conf\")"
   ]
  },
  {
   "cell_type": "markdown",
   "metadata": {},
   "source": [
    "## <a id=\"plat_prod\">Choose Platform and Product</a>"
   ]
  },
  {
   "cell_type": "code",
   "execution_count": 2,
   "metadata": {},
   "outputs": [
    {
     "name": "stdout",
     "output_type": "stream",
     "text": [
      "LANDSAT 7 Products:\n",
      "     platform                           name\n",
      "id                                          \n",
      "8   LANDSAT_7       ls7_collections_sr_scene\n",
      "67  LANDSAT_7  ls7_collections_sr_scene_lean\n",
      "78  LANDSAT_7  ls7_collections_sr_scene_mini\n",
      "19  LANDSAT_7        ls7_ledaps_amazon_river\n",
      "20  LANDSAT_7          ls7_ledaps_bangladesh\n",
      "35  LANDSAT_7     ls7_ledaps_bangladesh_bari\n",
      "87  LANDSAT_7             ls7_ledaps_caqueta\n",
      "21  LANDSAT_7            ls7_ledaps_colombia\n",
      "22  LANDSAT_7               ls7_ledaps_ghana\n",
      "74  LANDSAT_7            ls7_ledaps_honduras\n",
      "23  LANDSAT_7               ls7_ledaps_kenya\n",
      "41  LANDSAT_7        ls7_ledaps_lake_baringo\n",
      "24  LANDSAT_7      ls7_ledaps_lake_chad_full\n",
      "25  LANDSAT_7        ls7_ledaps_lake_cortijo\n",
      "26  LANDSAT_7      ls7_ledaps_menindee_lakes\n",
      "27  LANDSAT_7          ls7_ledaps_meta_river\n",
      "28  LANDSAT_7     ls7_ledaps_salgar_colombia\n",
      "68  LANDSAT_7               ls7_ledaps_samoa\n",
      "75  LANDSAT_7        ls7_ledaps_south_africa\n",
      "82  LANDSAT_7          ls7_ledaps_swiss_mini\n",
      "79  LANDSAT_7         ls7_ledaps_switzerland\n",
      "29  LANDSAT_7                ls7_ledaps_togo\n",
      "30  LANDSAT_7               ls7_ledaps_tonga\n",
      "31  LANDSAT_7             ls7_ledaps_vietnam\n",
      "\n",
      "LANDSAT 8 Products:\n",
      "     platform                           name\n",
      "id                                          \n",
      "9   LANDSAT_8       ls8_collections_sr_scene\n",
      "69  LANDSAT_8  ls8_collections_sr_scene_lean\n",
      "86  LANDSAT_8              ls8_lasrc_caqueta\n",
      "73  LANDSAT_8             ls8_lasrc_honduras\n",
      "32  LANDSAT_8       ls8_lasrc_lake_chad_full\n",
      "33  LANDSAT_8           ls8_lasrc_meta_river\n",
      "70  LANDSAT_8                ls8_lasrc_samoa\n",
      "83  LANDSAT_8           ls8_lasrc_swiss_mini\n",
      "77  LANDSAT_8          ls8_lasrc_switzerland\n",
      "71  LANDSAT_8                ls8_lasrc_tonga\n",
      "40  LANDSAT_8              ls8_lasrc_uruguay\n",
      "34  LANDSAT_8              ls8_lasrc_vietnam\n"
     ]
    }
   ],
   "source": [
    "# Get available products\n",
    "products_info = dc.list_products()\n",
    "\n",
    "# List LANDSAT 7 products\n",
    "print(\"LANDSAT 7 Products:\")\n",
    "print(products_info[[\"platform\", \"name\"]]\n",
    "      [products_info.platform == \"LANDSAT_7\"])\n",
    "print()\n",
    "\n",
    "# List LANDSAT 8 products\n",
    "print(\"LANDSAT 8 Products:\")\n",
    "print(products_info[[\"platform\", \"name\"]]\n",
    "      [products_info.platform == \"LANDSAT_8\"])"
   ]
  },
  {
   "cell_type": "code",
   "execution_count": 3,
   "metadata": {},
   "outputs": [],
   "source": [
    "# These are the platforms (satellites) and products (datacube sets) \n",
    "# used for this demonstration. Only select one LANDSAT 7 product, \n",
    "# one LANDSAT 8 product, or one of both. The products must have similar areas.\n",
    "platforms = [\"LANDSAT_7\", \"LANDSAT_8\"] # Must be list            \n",
    "products = [\"ls7_ledaps_vietnam\", \"ls8_lasrc_vietnam\"] # Must be list   "
   ]
  },
  {
   "cell_type": "markdown",
   "metadata": {},
   "source": [
    "The magnitudes of the different wavelengths of light can be quanitized and stored on a per pixel basis.  <font color=green>NDVI</font> only requires the use of <font color=red>NIR</font> and <font color=red>RED</font> light but there are many more wavelengths and some additional measures available.  One such additional measure is called <font color=darkblue>pixel_qa</font>.  This is a measure of the quality of the pixel for analysis. A breakdown of the values stored in <font color=darkblue>pixel_qa</font> are beyond the scope of this notebook but we encourage you to check our github for more information on the meaning behind the values stored within.\n",
    "![](diagrams/rainy_demo/ls7_xarray.png) "
   ]
  },
  {
   "cell_type": "markdown",
   "metadata": {},
   "source": [
    "## <a id=\"extents\">Get the Extents of the Cube</a>"
   ]
  },
  {
   "cell_type": "code",
   "execution_count": 4,
   "metadata": {
    "scrolled": false
   },
   "outputs": [
    {
     "data": {
      "text/html": [
       "<div style=\"width:100%;\"><div style=\"position:relative;width:100%;height:0;padding-bottom:60%;\"><iframe src=\"data:text/html;charset=utf-8;base64,PCFET0NUWVBFIGh0bWw+CjxoZWFkPiAgICAKICAgIDxtZXRhIGh0dHAtZXF1aXY9ImNvbnRlbnQtdHlwZSIgY29udGVudD0idGV4dC9odG1sOyBjaGFyc2V0PVVURi04IiAvPgogICAgPHNjcmlwdD5MX1BSRUZFUl9DQU5WQVMgPSBmYWxzZTsgTF9OT19UT1VDSCA9IGZhbHNlOyBMX0RJU0FCTEVfM0QgPSBmYWxzZTs8L3NjcmlwdD4KICAgIDxzY3JpcHQgc3JjPSJodHRwczovL3VucGtnLmNvbS9sZWFmbGV0QDEuMC4xL2Rpc3QvbGVhZmxldC5qcyI+PC9zY3JpcHQ+CiAgICA8c2NyaXB0IHNyYz0iaHR0cHM6Ly9hamF4Lmdvb2dsZWFwaXMuY29tL2FqYXgvbGlicy9qcXVlcnkvMS4xMS4xL2pxdWVyeS5taW4uanMiPjwvc2NyaXB0PgogICAgPHNjcmlwdCBzcmM9Imh0dHBzOi8vbWF4Y2RuLmJvb3RzdHJhcGNkbi5jb20vYm9vdHN0cmFwLzMuMi4wL2pzL2Jvb3RzdHJhcC5taW4uanMiPjwvc2NyaXB0PgogICAgPHNjcmlwdCBzcmM9Imh0dHBzOi8vY2RuanMuY2xvdWRmbGFyZS5jb20vYWpheC9saWJzL0xlYWZsZXQuYXdlc29tZS1tYXJrZXJzLzIuMC4yL2xlYWZsZXQuYXdlc29tZS1tYXJrZXJzLmpzIj48L3NjcmlwdD4KICAgIDxzY3JpcHQgc3JjPSJodHRwczovL2NkbmpzLmNsb3VkZmxhcmUuY29tL2FqYXgvbGlicy9sZWFmbGV0Lm1hcmtlcmNsdXN0ZXIvMS4wLjAvbGVhZmxldC5tYXJrZXJjbHVzdGVyLXNyYy5qcyI+PC9zY3JpcHQ+CiAgICA8c2NyaXB0IHNyYz0iaHR0cHM6Ly9jZG5qcy5jbG91ZGZsYXJlLmNvbS9hamF4L2xpYnMvbGVhZmxldC5tYXJrZXJjbHVzdGVyLzEuMC4wL2xlYWZsZXQubWFya2VyY2x1c3Rlci5qcyI+PC9zY3JpcHQ+CiAgICA8bGluayByZWw9InN0eWxlc2hlZXQiIGhyZWY9Imh0dHBzOi8vdW5wa2cuY29tL2xlYWZsZXRAMS4wLjEvZGlzdC9sZWFmbGV0LmNzcyIgLz4KICAgIDxsaW5rIHJlbD0ic3R5bGVzaGVldCIgaHJlZj0iaHR0cHM6Ly9tYXhjZG4uYm9vdHN0cmFwY2RuLmNvbS9ib290c3RyYXAvMy4yLjAvY3NzL2Jvb3RzdHJhcC5taW4uY3NzIiAvPgogICAgPGxpbmsgcmVsPSJzdHlsZXNoZWV0IiBocmVmPSJodHRwczovL21heGNkbi5ib290c3RyYXBjZG4uY29tL2Jvb3RzdHJhcC8zLjIuMC9jc3MvYm9vdHN0cmFwLXRoZW1lLm1pbi5jc3MiIC8+CiAgICA8bGluayByZWw9InN0eWxlc2hlZXQiIGhyZWY9Imh0dHBzOi8vbWF4Y2RuLmJvb3RzdHJhcGNkbi5jb20vZm9udC1hd2Vzb21lLzQuNi4zL2Nzcy9mb250LWF3ZXNvbWUubWluLmNzcyIgLz4KICAgIDxsaW5rIHJlbD0ic3R5bGVzaGVldCIgaHJlZj0iaHR0cHM6Ly9jZG5qcy5jbG91ZGZsYXJlLmNvbS9hamF4L2xpYnMvTGVhZmxldC5hd2Vzb21lLW1hcmtlcnMvMi4wLjIvbGVhZmxldC5hd2Vzb21lLW1hcmtlcnMuY3NzIiAvPgogICAgPGxpbmsgcmVsPSJzdHlsZXNoZWV0IiBocmVmPSJodHRwczovL2NkbmpzLmNsb3VkZmxhcmUuY29tL2FqYXgvbGlicy9sZWFmbGV0Lm1hcmtlcmNsdXN0ZXIvMS4wLjAvTWFya2VyQ2x1c3Rlci5EZWZhdWx0LmNzcyIgLz4KICAgIDxsaW5rIHJlbD0ic3R5bGVzaGVldCIgaHJlZj0iaHR0cHM6Ly9jZG5qcy5jbG91ZGZsYXJlLmNvbS9hamF4L2xpYnMvbGVhZmxldC5tYXJrZXJjbHVzdGVyLzEuMC4wL01hcmtlckNsdXN0ZXIuY3NzIiAvPgogICAgPGxpbmsgcmVsPSJzdHlsZXNoZWV0IiBocmVmPSJodHRwczovL3Jhd2dpdC5jb20vcHl0aG9uLXZpc3VhbGl6YXRpb24vZm9saXVtL21hc3Rlci9mb2xpdW0vdGVtcGxhdGVzL2xlYWZsZXQuYXdlc29tZS5yb3RhdGUuY3NzIiAvPgogICAgPHN0eWxlPmh0bWwsIGJvZHkge3dpZHRoOiAxMDAlO2hlaWdodDogMTAwJTttYXJnaW46IDA7cGFkZGluZzogMDt9PC9zdHlsZT4KICAgIDxzdHlsZT4jbWFwIHtwb3NpdGlvbjphYnNvbHV0ZTt0b3A6MDtib3R0b206MDtyaWdodDowO2xlZnQ6MDt9PC9zdHlsZT4KICAgIAogICAgICAgICAgICA8c3R5bGU+ICNtYXBfOThmZWI2ZDVlNzY3NDUwNTkxYTFjMmIxNWVmZmQ2YjkgewogICAgICAgICAgICAgICAgcG9zaXRpb24gOiByZWxhdGl2ZTsKICAgICAgICAgICAgICAgIHdpZHRoIDogMTAwLjAlOwogICAgICAgICAgICAgICAgaGVpZ2h0OiAxMDAuMCU7CiAgICAgICAgICAgICAgICBsZWZ0OiAwLjAlOwogICAgICAgICAgICAgICAgdG9wOiAwLjAlOwogICAgICAgICAgICAgICAgfQogICAgICAgICAgICA8L3N0eWxlPgogICAgICAgIAo8L2hlYWQ+Cjxib2R5PiAgICAKICAgIAogICAgICAgICAgICA8ZGl2IGNsYXNzPSJmb2xpdW0tbWFwIiBpZD0ibWFwXzk4ZmViNmQ1ZTc2NzQ1MDU5MWExYzJiMTVlZmZkNmI5IiA+PC9kaXY+CiAgICAgICAgCjwvYm9keT4KPHNjcmlwdD4gICAgCiAgICAKCiAgICAgICAgICAgIAogICAgICAgICAgICAgICAgdmFyIHNvdXRoV2VzdCA9IEwubGF0TG5nKC05MCwgLTE4MCk7CiAgICAgICAgICAgICAgICB2YXIgbm9ydGhFYXN0ID0gTC5sYXRMbmcoOTAsIDE4MCk7CiAgICAgICAgICAgICAgICB2YXIgYm91bmRzID0gTC5sYXRMbmdCb3VuZHMoc291dGhXZXN0LCBub3J0aEVhc3QpOwogICAgICAgICAgICAKCiAgICAgICAgICAgIHZhciBtYXBfOThmZWI2ZDVlNzY3NDUwNTkxYTFjMmIxNWVmZmQ2YjkgPSBMLm1hcCgKICAgICAgICAgICAgICAgICAgICAgICAgICAgICAgICAgICdtYXBfOThmZWI2ZDVlNzY3NDUwNTkxYTFjMmIxNWVmZmQ2YjknLAogICAgICAgICAgICAgICAgICAgICAgICAgICAgICAgICAge2NlbnRlcjogWzExLjU2MjUzMDQzMjI1Nzk2MiwxMDcuODU0NTYyNzA0NTkyMThdLAogICAgICAgICAgICAgICAgICAgICAgICAgICAgICAgICAgem9vbTogOCwKICAgICAgICAgICAgICAgICAgICAgICAgICAgICAgICAgIG1heEJvdW5kczogYm91bmRzLAogICAgICAgICAgICAgICAgICAgICAgICAgICAgICAgICAgbGF5ZXJzOiBbXSwKICAgICAgICAgICAgICAgICAgICAgICAgICAgICAgICAgIHdvcmxkQ29weUp1bXA6IGZhbHNlLAogICAgICAgICAgICAgICAgICAgICAgICAgICAgICAgICAgY3JzOiBMLkNSUy5FUFNHMzg1NwogICAgICAgICAgICAgICAgICAgICAgICAgICAgICAgICB9KTsKICAgICAgICAgICAgCiAgICAgICAgCiAgICAKICAgICAgICAgICAgdmFyIHRpbGVfbGF5ZXJfYWE1NTAwYjMyMmM5NDFkMGJjZGZjNzY4ZDQyNmUxNWEgPSBMLnRpbGVMYXllcigKICAgICAgICAgICAgICAgICcgaHR0cDovL210MS5nb29nbGUuY29tL3Z0L2x5cnM9eSZ6PXt6fSZ4PXt4fSZ5PXt5fScsCiAgICAgICAgICAgICAgICB7CiAgICAgICAgICAgICAgICAgICAgbWF4Wm9vbTogMTgsCiAgICAgICAgICAgICAgICAgICAgbWluWm9vbTogMSwKICAgICAgICAgICAgICAgICAgICBjb250aW51b3VzV29ybGQ6IGZhbHNlLAogICAgICAgICAgICAgICAgICAgIG5vV3JhcDogZmFsc2UsCiAgICAgICAgICAgICAgICAgICAgYXR0cmlidXRpb246ICdHb29nbGUnLAogICAgICAgICAgICAgICAgICAgIGRldGVjdFJldGluYTogZmFsc2UKICAgICAgICAgICAgICAgICAgICB9CiAgICAgICAgICAgICAgICApLmFkZFRvKG1hcF85OGZlYjZkNWU3Njc0NTA1OTFhMWMyYjE1ZWZmZDZiOSk7CgogICAgICAgIAogICAgCiAgICAgICAgICAgICAgICB2YXIgcG9seV9saW5lXzI3ZDBlOGI5YmM3NDQ1OGJhY2QyNWQzOTExM2M3N2QwID0gTC5wb2x5bGluZSgKICAgICAgICAgICAgICAgICAgICBbWzEwLjUxMzc5MjI1MzgxMjA2OSwgMTA2Ljc4OTkyNDM0NTYxNzM3XSwgWzEwLjUxMzc5MjI1MzgxMjA2OSwgMTA4LjkxOTIwMTA2MzU2N10sIFsxMi42MTEyNjg2MTA3MDM4NTYsIDEwOC45MTkyMDEwNjM1NjddLCBbMTIuNjExMjY4NjEwNzAzODU2LCAxMDYuNzg5OTI0MzQ1NjE3MzddLCBbMTAuNTEzNzkyMjUzODEyMDY5LCAxMDYuNzg5OTI0MzQ1NjE3MzddXSwKICAgICAgICAgICAgICAgICAgICB7CiAgICAgICAgICAgICAgICAgICAgICAgIGNvbG9yOiAncmVkJywKICAgICAgICAgICAgICAgICAgICAgICAgCiAgICAgICAgICAgICAgICAgICAgICAgIG9wYWNpdHk6IDAuOCwKICAgICAgICAgICAgICAgICAgICAgICAgfSk7CiAgICAgICAgICAgICAgICBtYXBfOThmZWI2ZDVlNzY3NDUwNTkxYTFjMmIxNWVmZmQ2YjkuYWRkTGF5ZXIocG9seV9saW5lXzI3ZDBlOGI5YmM3NDQ1OGJhY2QyNWQzOTExM2M3N2QwKTsKICAgICAgICAgICAgCiAgICAKICAgICAgICAgICAgICAgIHZhciBsYXRfbG5nX3BvcHVwXzE4NmRjOTAxYjEwZjQ0MDJiNjIxZDI0MjFjYTIwN2EzID0gTC5wb3B1cCgpOwogICAgICAgICAgICAgICAgZnVuY3Rpb24gbGF0TG5nUG9wKGUpIHsKICAgICAgICAgICAgICAgICAgICBsYXRfbG5nX3BvcHVwXzE4NmRjOTAxYjEwZjQ0MDJiNjIxZDI0MjFjYTIwN2EzCiAgICAgICAgICAgICAgICAgICAgICAgIC5zZXRMYXRMbmcoZS5sYXRsbmcpCiAgICAgICAgICAgICAgICAgICAgICAgIC5zZXRDb250ZW50KCJMYXRpdHVkZTogIiArIGUubGF0bG5nLmxhdC50b0ZpeGVkKDQpICsKICAgICAgICAgICAgICAgICAgICAgICAgICAgICAgICAgICAgIjxicj5Mb25naXR1ZGU6ICIgKyBlLmxhdGxuZy5sbmcudG9GaXhlZCg0KSkKICAgICAgICAgICAgICAgICAgICAgICAgLm9wZW5PbihtYXBfOThmZWI2ZDVlNzY3NDUwNTkxYTFjMmIxNWVmZmQ2YjkpOwogICAgICAgICAgICAgICAgICAgIH0KICAgICAgICAgICAgICAgIG1hcF85OGZlYjZkNWU3Njc0NTA1OTFhMWMyYjE1ZWZmZDZiOS5vbignY2xpY2snLCBsYXRMbmdQb3ApOwogICAgICAgICAgICAKPC9zY3JpcHQ+\" style=\"position:absolute;width:100%;height:100%;left:0;top:0;border:none !important;\" allowfullscreen webkitallowfullscreen mozallowfullscreen></iframe></div></div>"
      ],
      "text/plain": [
       "<folium.folium.Map at 0x7f68e017c0f0>"
      ]
     },
     "execution_count": 4,
     "metadata": {},
     "output_type": "execute_result"
    }
   ],
   "source": [
    "descriptors = np.empty(len(platforms), dtype=object)\n",
    "lat_lons = np.empty((len(platforms), 2))\n",
    "min_max_dates = np.empty((len(platforms), 2), dtype=object)\n",
    "min_max_lat = np.empty((len(platforms), 2))\n",
    "min_max_lon = np.empty((len(platforms), 2))\n",
    "min_max_date_strs = np.empty((len(platforms), 2), dtype=object)\n",
    "min_lat_lon_rounded = np.empty((len(platforms), 2))\n",
    "max_lat_lon_rounded = np.empty((len(platforms), 2))\n",
    "for i, (platform, product) in enumerate(zip(platforms, products)):\n",
    "    # Get the extents of the cube\n",
    "    descriptor = api.get_query_metadata(platform=platform, product=product)\n",
    "    descriptors[i] = descriptor\n",
    "    \n",
    "    # Store the latitudinal and longitudinal extents\n",
    "    lat, lon = products_info.resolution[products_info.platform == platform].any()\n",
    "    lat_lons[i] = (lat,lon)\n",
    "\n",
    "    # Save extents\n",
    "    min_date, max_date = descriptor['time_extents']\n",
    "    min_max_dates[i] = (min_date, max_date)\n",
    "    min_lat, max_lat = descriptor['lat_extents']\n",
    "    min_max_lat[i] = (min_lat, max_lat)\n",
    "    min_lon, max_lon = descriptor['lon_extents']\n",
    "    min_max_lon[i] = (min_lon, max_lon)\n",
    "    \n",
    "    # Adjust date string\n",
    "    min_date_str = str(min_date.year) + '-' + str(min_date.month) + '-' + str(min_date.day)\n",
    "    max_date_str = str(max_date.year) + '-' + str(max_date.month) + '-' + str(max_date.day)\n",
    "    min_max_date_strs[i] = (min_date_str, max_date_str)\n",
    "    \n",
    "    # Round GPS coordinates to 3 decimal places\n",
    "    min_lat_rounded, min_lon_rounded = round(min_lat, 3), round(min_lon, 3)\n",
    "    min_lat_lon_rounded[i] = (min_lat_rounded, min_lon_rounded)\n",
    "    max_lat_rounded, max_lon_rounded = round(max_lat, 3), round(max_lon, 3)\n",
    "    max_lat_lon_rounded[i] = (max_lat_rounded, max_lon_rounded)\n",
    "    \n",
    "# Determine minimum and maximum longitudes that bound a common area among products\n",
    "min_lon = np.max(min_max_lon[:,0]) # The greatest minimum longitude among products\n",
    "max_lon = np.min(min_max_lon[:,1]) # The smallest maximum longitude among products\n",
    "min_lat = np.max(min_max_lat[:,0])\n",
    "max_lat = np.min(min_max_lat[:,1])\n",
    "full_lon = (min_lon, max_lon)\n",
    "full_lat = (min_lat, max_lat)\n",
    "# Display the total shared area available for these datacube products.\n",
    "display_map(latitude = full_lat,longitude = full_lon)"
   ]
  },
  {
   "cell_type": "code",
   "execution_count": 5,
   "metadata": {},
   "outputs": [
    {
     "name": "stdout",
     "output_type": "stream",
     "text": [
      "METADATA REPORT FOR PLATFORM LANDSAT_7:\n"
     ]
    },
    {
     "data": {
      "text/html": [
       "<h2>Metadata Report: </h2>"
      ],
      "text/plain": [
       "<IPython.core.display.HTML object>"
      ]
     },
     "metadata": {},
     "output_type": "display_data"
    },
    {
     "data": {
      "text/html": [
       "<table><tr><th></th><th>Min</th><th>Max</th><th>Resolution</th></tr><tr><th>Date: </th><td>1999-9-8</td><td>2016-12-29</td><td></td></tr><tr><th>Longitude: </th><td>102.404</td><td>108.931</td><td>0.000269995</td></tr><tr><th>Latitude: </th><td>9.176</td><td>13.965</td><td>-0.000271302</td></tr></table>"
      ],
      "text/plain": [
       "<IPython.core.display.HTML object>"
      ]
     },
     "metadata": {},
     "output_type": "display_data"
    },
    {
     "name": "stdout",
     "output_type": "stream",
     "text": [
      "METADATA REPORT FOR PLATFORM LANDSAT_8:\n"
     ]
    },
    {
     "data": {
      "text/html": [
       "<h2>Metadata Report: </h2>"
      ],
      "text/plain": [
       "<IPython.core.display.HTML object>"
      ]
     },
     "metadata": {},
     "output_type": "display_data"
    },
    {
     "data": {
      "text/html": [
       "<table><tr><th></th><th>Min</th><th>Max</th><th>Resolution</th></tr><tr><th>Date: </th><td>2014-1-14</td><td>2016-12-21</td><td></td></tr><tr><th>Longitude: </th><td>106.79</td><td>108.919</td><td>0.000269494585236</td></tr><tr><th>Latitude: </th><td>10.514</td><td>12.611</td><td>-0.000269494585236</td></tr></table>"
      ],
      "text/plain": [
       "<IPython.core.display.HTML object>"
      ]
     },
     "metadata": {},
     "output_type": "display_data"
    }
   ],
   "source": [
    "for i in range(len(platforms)):\n",
    "    min_date_str, max_date_str = min_max_date_strs[i]\n",
    "    min_lat_rounded, min_lon_rounded = min_lat_lon_rounded[i]\n",
    "    max_lat_rounded, max_lon_rounded = max_lat_lon_rounded[i]\n",
    "    lat, lon = lat_lons[i]\n",
    "    print(\"METADATA REPORT FOR PLATFORM {}:\".format(platforms[i]))\n",
    "    # Display the ranges of the datacube in a table\n",
    "    generate_metadata_report(min_date_str, max_date_str, \n",
    "                             min_lon_rounded, max_lon_rounded, lon,\n",
    "                             min_lat_rounded, max_lat_rounded, lat)"
   ]
  },
  {
   "cell_type": "markdown",
   "metadata": {},
   "source": [
    "## <a id=\"define_extents\">Define the Extents of the Analysis</a>"
   ]
  },
  {
   "cell_type": "markdown",
   "metadata": {},
   "source": [
    "**Specify start and end dates in the same order as platforms and products**"
   ]
  },
  {
   "cell_type": "code",
   "execution_count": 6,
   "metadata": {},
   "outputs": [],
   "source": [
    "# Use these four lines to select the time slice common to all products.\n",
    "# min_start_date_mutual = np.max(min_max_dates[:,0])\n",
    "# max_end_date_mutual = np.min(min_max_dates[:,1])\n",
    "# start_dates = [min_start_date_mutual, min_start_date_mutual]\n",
    "# end_dates = [max_end_date_mutual, max_end_date_mutual]\n",
    "# Use these two lines to select all data available to each product.\n",
    "start_dates = min_max_dates[:,0]\n",
    "end_dates = min_max_dates[:,1]"
   ]
  },
  {
   "cell_type": "markdown",
   "metadata": {},
   "source": [
    "**Specify an area and a point to analyze**"
   ]
  },
  {
   "cell_type": "code",
   "execution_count": 7,
   "metadata": {},
   "outputs": [],
   "source": [
    "# Specify latitude and longitude bounds of an interesting area within the full extents\n",
    "# shown in the metadata report above (reduce area for faster processing times).\n",
    "min_lon_small_area = 106.8\n",
    "max_lon_small_area = 106.92\n",
    "min_lat_small_area = 11.10\n",
    "max_lat_small_area = 11.39\n",
    "# Choose an interesting point (a pixel, not an area).\n",
    "lon_point = 106.8395\n",
    "lat_point = 11.1567"
   ]
  },
  {
   "cell_type": "markdown",
   "metadata": {},
   "source": [
    "**Choose to analyze the area or the point**"
   ]
  },
  {
   "cell_type": "code",
   "execution_count": 8,
   "metadata": {},
   "outputs": [],
   "source": [
    "# Analyze the specified area.\n",
    "# min_lon_small, max_lon_small = (min_lon_small_area, max_lon_small_area)\n",
    "# min_lat_small, max_lat_small = (min_lat_small_area, max_lat_small_area)\n",
    "# Analyze the specified point.\n",
    "min_lon_small, max_lon_small = (lon_point, lon_point)\n",
    "min_lat_small, max_lat_small = (lat_point, lat_point)\n",
    "# Analyze a small region around the specified point.\n",
    "# diff = 0.005\n",
    "# min_lon_small, max_lon_small = (lon_point-diff, lon_point+diff)\n",
    "# min_lat_small, max_lat_small = (lat_point-diff, lat_point+diff)\n",
    "# Boolean specifying whether we are conducting an analysis for a point or an area.\n",
    "point_analysis = (min_lon_small == max_lon_small and \n",
    "                  min_lat_small == max_lat_small)"
   ]
  },
  {
   "cell_type": "code",
   "execution_count": 9,
   "metadata": {
    "scrolled": false
   },
   "outputs": [
    {
     "name": "stdout",
     "output_type": "stream",
     "text": [
      "Region selected (lat/lon):  (11.1567, 11.1567) (106.8395, 106.8395)\n",
      "Full lat/lon bounds for ls7 and ls8:  (10.513792253812069, 12.611268610703856) (106.78992434561737, 108.919201063567)\n"
     ]
    },
    {
     "data": {
      "text/html": [
       "<div style=\"width:100%;\"><div style=\"position:relative;width:100%;height:0;padding-bottom:60%;\"><iframe src=\"data:text/html;charset=utf-8;base64,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\" style=\"position:absolute;width:100%;height:100%;left:0;top:0;border:none !important;\" allowfullscreen webkitallowfullscreen mozallowfullscreen></iframe></div></div>"
      ],
      "text/plain": [
       "<folium.folium.Map at 0x7f6880e0ad30>"
      ]
     },
     "execution_count": 9,
     "metadata": {},
     "output_type": "execute_result"
    }
   ],
   "source": [
    "# Display the subset of the region to be analyzed.\n",
    "lon_small = (min_lon_small, max_lon_small)\n",
    "lat_small = (min_lat_small, max_lat_small)\n",
    "print(\"Region selected (lat/lon): \", lat_small, lon_small)\n",
    "print(\"Full lat/lon bounds for ls7 and ls8: \", full_lat, full_lon)\n",
    "display_map(lat_small, lon_small)"
   ]
  },
  {
   "cell_type": "markdown",
   "metadata": {},
   "source": [
    "## <a id=\"filter\">Filtering Clouds, Scan Lines, and Invalid Data</a>\n",
    "\n",
    "#### Clouds:\n",
    "Clouds can obscure imagery from satellites making the analysis harder to perform.  Fortunately clouds can be filtered out rather easily using images from other dates close to the target date.  The small illustration below shows how clouds can obsure a satellite image:  \n",
    "\n",
    "<br>  \n",
    "\n",
    "  ![](diagrams/rainy_demo/cloud_clip_01.PNG)\n",
    "\n",
    "#### Scan Lines:\n",
    "Scan lines are an artifact of Landsat satellite imagery.  They are a result of a malfunction in the system responsible for ensuring full coverage.  As a result there are missing strips of imagery from most Landsat images.  The illsutration below shows what scan lines might look like on a satellite image:  \n",
    "  \n",
    "<br>  \n",
    "\n",
    "![](diagrams/rainy_demo/slc_error_02.PNG)\n",
    "\n",
    "#### Invalid Data:  \n",
    "<br>  \n",
    "The LANDSAT platform specifies valid ranges of reflectance values for frequency bands - such as red, green, and blue. There are cases in which even a pixel that does not contain a cloud can be invalid due to an unacceptable level of reflectance. For example, glass may reflect and refract light toward the satellite, yielding reflectance values for at least some bands which are unrepresentative of the appropriate values.  \n",
    "  \n",
    "<br>  \n",
    "\n",
    "![](diagrams/invalid_data.png)"
   ]
  },
  {
   "cell_type": "markdown",
   "metadata": {},
   "source": [
    "## <a id=\"retrieve_data_time_series\">Retrieve the data from the datacube</a>"
   ]
  },
  {
   "cell_type": "code",
   "execution_count": 10,
   "metadata": {
    "scrolled": true
   },
   "outputs": [],
   "source": [
    "from datetime import datetime as dt\n",
    "measurements = ['red', 'green', 'blue', 'swir1', 'swir2', 'nir', 'pixel_qa']\n",
    "datasets_in = {}\n",
    "for i, (product,platform) in enumerate(zip(products, platforms)):\n",
    "    start_date = start_dates[i]\n",
    "    end_date = end_dates[i]\n",
    "    # Query the Data Cube\n",
    "    dataset_in = dc.load(lat = lat_small,\n",
    "                         lon = lon_small,\n",
    "                         platform = platform,\n",
    "                         time = (start_date, end_date),\n",
    "                         product = product,\n",
    "                         measurements = measurements)\n",
    "    if len(dataset_in.dims) > 0: # Sometimes data is not returned.\n",
    "        datasets_in[platform] = dataset_in"
   ]
  },
  {
   "cell_type": "markdown",
   "metadata": {},
   "source": [
    "## <a id=\"obtain_clean_mask_time_series\">Obtain the clean masks</a>"
   ]
  },
  {
   "cell_type": "code",
   "execution_count": 11,
   "metadata": {},
   "outputs": [],
   "source": [
    "from utils.data_cube_utilities.clean_mask import landsat_qa_clean_mask\n",
    "# Get the clean mask for the LANDSAT satellite platform\n",
    "clean_masks = {}\n",
    "for platform in datasets_in.keys():\n",
    "    clean_masks[platform] = landsat_qa_clean_mask(datasets_in[platform], platform)"
   ]
  },
  {
   "cell_type": "markdown",
   "metadata": {},
   "source": [
    "## <a id=\"clean_mask_time_series\">Filter out clouds, scan lines, and invalid data</a>"
   ]
  },
  {
   "cell_type": "code",
   "execution_count": 12,
   "metadata": {
    "scrolled": true
   },
   "outputs": [],
   "source": [
    "cleaned_datasets = {}\n",
    "for platform in datasets_in.keys():\n",
    "    dataset_in = datasets_in[platform]\n",
    "    clean_mask = clean_masks[platform]\n",
    "    cleaned_datasets[platform] = dataset_in.where(clean_mask)\n",
    "    cleaned_datasets[platform] = landsat_clean_mask_invalid(cleaned_datasets[platform])\n",
    "    if not point_analysis:\n",
    "        # Show before masking\n",
    "        plt.imshow(dataset_in.isel(time=0).red, aspect='auto')\n",
    "    #     dataset_in.isel(time=0).red.plot()\n",
    "        plt.title(platform + \" - Red band before masking ({})\".format(str(dataset_in.time.values[0])))\n",
    "        plt.show()\n",
    "        # Show after masking\n",
    "        plt.imshow(cleaned_datasets[platform].isel(time=0).red, aspect='auto')\n",
    "    #     cleaned_datasets[platform].isel(time=0).red.plot()\n",
    "        plt.title(platform + \" - Red band after masking ({})\".format(str(dataset_in.time.values[0])))\n",
    "        plt.show()"
   ]
  },
  {
   "cell_type": "markdown",
   "metadata": {},
   "source": [
    "## <a id='calculate'>Calculate NDVI</a>"
   ]
  },
  {
   "cell_type": "code",
   "execution_count": 13,
   "metadata": {
    "scrolled": true
   },
   "outputs": [],
   "source": [
    "ndvi_data_arrs = {}\n",
    "ndvi = {}\n",
    "for platform in datasets_in.keys():\n",
    "    ndvi_data_arrs[platform] = NDVI(cleaned_datasets[platform])\n",
    "    ndvi[platform] = ndvi_data_arrs[platform].to_dataset(name='ndvi')"
   ]
  },
  {
   "cell_type": "markdown",
   "metadata": {},
   "source": [
    "## <a id=\"time_series_analysis\">Plot NDVI statistics over time</a>"
   ]
  },
  {
   "cell_type": "markdown",
   "metadata": {},
   "source": [
    "**If no plot appears in the figure below, there is no data available for the region selected**"
   ]
  },
  {
   "cell_type": "code",
   "execution_count": 14,
   "metadata": {
    "scrolled": false
   },
   "outputs": [
    {
     "data": {
      "image/png": "[encoded data removed]",
      "text/plain": [
       "<matplotlib.figure.Figure at 0x7f6880dd7208>"
      ]
     },
     "metadata": {},
     "output_type": "display_data"
    }
   ],
   "source": [
    "# Box and whisker plot for an area analysis.\n",
    "fig = plt.figure(1, figsize=(15,5))\n",
    "\n",
    "\n",
    "if not point_analysis:\n",
    "    data = [ndvi[platform].ndvi.values.flatten() for platform in datasets_in.keys()]\n",
    "    filtered_data = list(map(lambda arr: arr[~np.isnan(arr)], data))\n",
    "    ax = fig.add_subplot(111)\n",
    "    ax.boxplot(filtered_data, labels=platforms, showfliers=False)\n",
    "    plt.show()\n",
    "else: # Simple time series plot for a single pixel analysis.\n",
    "#     plotter.plot_band(cleaned_datasets[platform], ndvi_data_arrs[platform])\n",
    "    data = ndvi[platform].ndvi.mean(dim=['latitude', 'longitude']).values\n",
    "    data = plotter.impute_missing_data_1D(data)\n",
    "    for platform in datasets_in.keys():\n",
    "        plt.plot(data, label=platform, marker='o')\n",
    "    plt.grid()\n",
    "    plt.legend()\n",
    "    plt.show()"
   ]
  },
  {
   "cell_type": "code",
   "execution_count": null,
   "metadata": {},
   "outputs": [],
   "source": []
  }
 ],
 "metadata": {
  "kernelspec": {
   "display_name": "Python 3",
   "language": "python",
   "name": "python3"
  },
  "language_info": {
   "codemirror_mode": {
    "name": "ipython",
    "version": 3
   },
   "file_extension": ".py",
   "mimetype": "text/x-python",
   "name": "python",
   "nbconvert_exporter": "python",
   "pygments_lexer": "ipython3",
   "version": "3.5.2"
  }
 },
 "nbformat": 4,
 "nbformat_minor": 2
}
