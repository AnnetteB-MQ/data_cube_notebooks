{
 "cells": [
  {
   "cell_type": "markdown",
   "metadata": {},
   "source": [
    "<a id=\"top\"></a>\n",
    "# NDVI Phenology\n",
    "<hr>\n",
    "\n",
    "# Notebook Summary\n",
    "\n",
    "* LANDSAT 7, LANDSAT 8, or both are used to detect changes in plant life over time.\n",
    "\n",
    "<hr>\n",
    "\n",
    "# Algorithmic process  \n",
    "\n",
    "* [Import Dependencies and Connect to the Data Cube](#import)\n",
    "* [Choose Platform and Product](#plat_prod)\n",
    "* [Get the Maximum Extents of the Cube](#extents)\n",
    "* [Define the Extents of the Analysis](#define_extents) (selecting too much can make the acquisition process slow)\n",
    "* [Load Data from the Data Cube](#retrieve_data)\n",
    "* [Calculate NDVI](#calculate)\n",
    "* [Examine the Selected Area](#area_analysis)\n",
    "* [Create a Max NDVI Composite](#mosaic)\n",
    "* [Export the Mosaic to a PNG and a GeoTIFF](#export)\n",
    "\n",
    "<hr>\n",
    "\n",
    "# How It Works\n",
    "\n",
    "To detect changes in plant life, we use a measure called NDVI. \n",
    "* <font color=green>NDVI</font> is the ratio of the difference between the amount of near infrared light <font color=red>(NIR)</font> and red light <font color=red>(RED)</font> divided by their sum.\n",
    "<br>\n",
    "\n",
    "$$ NDVI =  \\frac{(NIR - RED)}{(NIR + RED)}$$  \n",
    "\n",
    "<br>\n",
    "<div class=\"alert-info\">\n",
    "The intention is to observe how much red light is being absorbed versus reflected. Photosynthetic plants absorb most of the visible spectrum's wavelengths when they are healthy. When they aren't healthy, more of that light will get reflected.  This makes the difference between <font color=red>NIR</font> and <font color=red>RED</font> much smaller, which will lower the <font color=green>NDVI</font>.  The resulting values from doing this over several pixels can be used to create visualizations for the changes in the amount of photosynthetic vegetation in large areas.\n",
    "</div>"
   ]
  },
  {
   "cell_type": "markdown",
   "metadata": {},
   "source": [
    "## <span id=\"import\">Import Dependencies and Connect to the Data Cube [&#9652;](#top)</span>"
   ]
  },
  {
   "cell_type": "code",
   "execution_count": 1,
   "metadata": {
    "scrolled": true
   },
   "outputs": [
    {
     "name": "stderr",
     "output_type": "stream",
     "text": [
<<<<<<< HEAD
      "/home/localuser/Datacube/datacube_env/lib/python3.5/site-packages/psycopg2-2.7.4-py3.5-linux-x86_64.egg/psycopg2/__init__.py:144: UserWarning: The psycopg2 wheel package will be renamed from release 2.8; in order to keep installing from binary please use \"pip install psycopg2-binary\" instead. For details see: <http://initd.org/psycopg/docs/install.html#binary-install-from-pypi>.\n",
=======
      "/home/localuser/Datacube/datacube_env/lib/python3.6/site-packages/psycopg2-2.7.5-py3.6-linux-x86_64.egg/psycopg2/__init__.py:144: UserWarning: The psycopg2 wheel package will be renamed from release 2.8; in order to keep installing from binary please use \"pip install psycopg2-binary\" instead. For details see: <http://initd.org/psycopg/docs/install.html#binary-install-from-pypi>.\n",
>>>>>>> origin/pre-release
      "  \"\"\")\n"
     ]
    }
   ],
   "source": [
    "%matplotlib inline\n",
    "import warnings\n",
    "import matplotlib.pyplot as plt\n",
    "\n",
    "# Import the datacube and the API\n",
    "import datacube\n",
    "from utils.data_cube_utilities.data_access_api import DataAccessApi\n",
    "import numpy as np\n",
    "import pandas as pd\n",
    "import xarray as xr\n",
    "import datetime as dt"
   ]
  },
  {
   "cell_type": "code",
   "execution_count": 2,
   "metadata": {},
   "outputs": [],
   "source": [
    "# Create an instance of the datacube and API.\n",
    "api = DataAccessApi(config=\"/home/localuser/.datacube.conf\")\n",
    "dc = api.dc"
   ]
  },
  {
   "cell_type": "markdown",
   "metadata": {},
   "source": [
    "## <span id=\"plat_prod\">Choose Platform and Product [&#9652;](#top)</span>"
   ]
  },
  {
   "cell_type": "code",
   "execution_count": 3,
   "metadata": {
    "scrolled": false
   },
   "outputs": [
    {
     "name": "stdout",
     "output_type": "stream",
     "text": [
      "LANDSAT 7 Products:\n"
     ]
    },
    {
     "data": {
      "text/html": [
       "<div>\n",
       "<style scoped>\n",
       "    .dataframe tbody tr th:only-of-type {\n",
       "        vertical-align: middle;\n",
       "    }\n",
       "\n",
       "    .dataframe tbody tr th {\n",
       "        vertical-align: top;\n",
       "    }\n",
       "\n",
       "    .dataframe thead th {\n",
       "        text-align: right;\n",
       "    }\n",
       "</style>\n",
       "<table border=\"1\" class=\"dataframe\">\n",
       "  <thead>\n",
       "    <tr style=\"text-align: right;\">\n",
       "      <th></th>\n",
       "      <th>platform</th>\n",
       "      <th>name</th>\n",
       "    </tr>\n",
       "    <tr>\n",
       "      <th>id</th>\n",
       "      <th></th>\n",
       "      <th></th>\n",
       "    </tr>\n",
       "  </thead>\n",
       "  <tbody>\n",
       "    <tr>\n",
       "      <th>12</th>\n",
       "      <td>LANDSAT_7</td>\n",
       "      <td>ls7_collections_sr_scene</td>\n",
       "    </tr>\n",
       "    <tr>\n",
       "      <th>13</th>\n",
       "      <td>LANDSAT_7</td>\n",
       "      <td>ls7_ledaps_ghana</td>\n",
       "    </tr>\n",
       "    <tr>\n",
       "      <th>17</th>\n",
       "      <td>LANDSAT_7</td>\n",
       "      <td>ls7_ledaps_kenya</td>\n",
       "    </tr>\n",
       "    <tr>\n",
       "      <th>18</th>\n",
       "      <td>LANDSAT_7</td>\n",
       "      <td>ls7_ledaps_senegal</td>\n",
       "    </tr>\n",
       "    <tr>\n",
       "      <th>16</th>\n",
<<<<<<< HEAD
       "      <td>LANDSAT_7</td>\n",
       "      <td>ls7_ledaps_sierra_leone</td>\n",
       "    </tr>\n",
       "    <tr>\n",
       "      <th>19</th>\n",
       "      <td>LANDSAT_7</td>\n",
       "      <td>ls7_ledaps_tanzania</td>\n",
=======
       "      <td>LANDSAT_7</td>\n",
       "      <td>ls7_ledaps_sierra_leone</td>\n",
       "    </tr>\n",
       "    <tr>\n",
       "      <th>19</th>\n",
       "      <td>LANDSAT_7</td>\n",
       "      <td>ls7_ledaps_tanzania</td>\n",
       "    </tr>\n",
       "    <tr>\n",
       "      <th>31</th>\n",
       "      <td>LANDSAT_7</td>\n",
       "      <td>ls7_ledaps_vietnam</td>\n",
>>>>>>> origin/pre-release
       "    </tr>\n",
       "    <tr>\n",
       "      <th>21</th>\n",
       "      <td>LANDSAT_7</td>\n",
       "      <td>ls7_level1_usgs</td>\n",
       "    </tr>\n",
       "  </tbody>\n",
       "</table>\n",
       "</div>"
      ],
      "text/plain": [
       "     platform                      name\n",
       "id                                     \n",
       "12  LANDSAT_7  ls7_collections_sr_scene\n",
       "13  LANDSAT_7          ls7_ledaps_ghana\n",
       "17  LANDSAT_7          ls7_ledaps_kenya\n",
       "18  LANDSAT_7        ls7_ledaps_senegal\n",
       "16  LANDSAT_7   ls7_ledaps_sierra_leone\n",
       "19  LANDSAT_7       ls7_ledaps_tanzania\n",
<<<<<<< HEAD
       "31  LANDSAT_7        ls7_ledaps_vietnam"
=======
       "31  LANDSAT_7        ls7_ledaps_vietnam\n",
       "21  LANDSAT_7           ls7_level1_usgs"
>>>>>>> origin/pre-release
      ]
     },
     "execution_count": 3,
     "metadata": {},
     "output_type": "execute_result"
    }
   ],
   "source": [
    "# Get available products\n",
    "products_info = dc.list_products()\n",
    "\n",
    "# List LANDSAT 7 products\n",
    "print(\"LANDSAT 7 Products:\")\n",
    "products_info[[\"platform\", \"name\"]][products_info.platform == \"LANDSAT_7\"]"
   ]
  },
  {
   "cell_type": "code",
   "execution_count": 4,
   "metadata": {
    "scrolled": false
   },
   "outputs": [
    {
     "name": "stdout",
     "output_type": "stream",
     "text": [
      "LANDSAT 8 Products:\n"
     ]
    },
    {
     "data": {
      "text/html": [
       "<div>\n",
       "<style scoped>\n",
       "    .dataframe tbody tr th:only-of-type {\n",
       "        vertical-align: middle;\n",
       "    }\n",
       "\n",
       "    .dataframe tbody tr th {\n",
       "        vertical-align: top;\n",
       "    }\n",
       "\n",
       "    .dataframe thead th {\n",
       "        text-align: right;\n",
       "    }\n",
       "</style>\n",
       "<table border=\"1\" class=\"dataframe\">\n",
       "  <thead>\n",
       "    <tr style=\"text-align: right;\">\n",
       "      <th></th>\n",
       "      <th>platform</th>\n",
       "      <th>name</th>\n",
       "    </tr>\n",
       "    <tr>\n",
       "      <th>id</th>\n",
       "      <th></th>\n",
       "      <th></th>\n",
       "    </tr>\n",
       "  </thead>\n",
       "  <tbody>\n",
       "    <tr>\n",
       "      <th>7</th>\n",
       "      <td>LANDSAT_8</td>\n",
       "      <td>ls8_collections_sr_scene</td>\n",
       "    </tr>\n",
       "    <tr>\n",
<<<<<<< HEAD
       "      <th>9</th>\n",
       "      <td>LANDSAT_8</td>\n",
       "      <td>ls8_lasrc_ghana</td>\n",
       "    </tr>\n",
       "    <tr>\n",
       "      <th>10</th>\n",
       "      <td>LANDSAT_8</td>\n",
       "      <td>ls8_lasrc_kenya</td>\n",
       "    </tr>\n",
       "    <tr>\n",
       "      <th>11</th>\n",
       "      <td>LANDSAT_8</td>\n",
       "      <td>ls8_lasrc_senegal</td>\n",
       "    </tr>\n",
       "    <tr>\n",
       "      <th>8</th>\n",
       "      <td>LANDSAT_8</td>\n",
       "      <td>ls8_lasrc_sierra_leone</td>\n",
       "    </tr>\n",
       "    <tr>\n",
       "      <th>15</th>\n",
       "      <td>LANDSAT_8</td>\n",
       "      <td>ls8_lasrc_tanzania</td>\n",
=======
       "      <th>23</th>\n",
       "      <td>LANDSAT_8</td>\n",
       "      <td>ls8_l1_pc_usgs</td>\n",
       "    </tr>\n",
       "    <tr>\n",
       "      <th>9</th>\n",
       "      <td>LANDSAT_8</td>\n",
       "      <td>ls8_lasrc_ghana</td>\n",
       "    </tr>\n",
       "    <tr>\n",
       "      <th>10</th>\n",
       "      <td>LANDSAT_8</td>\n",
       "      <td>ls8_lasrc_kenya</td>\n",
       "    </tr>\n",
       "    <tr>\n",
       "      <th>11</th>\n",
       "      <td>LANDSAT_8</td>\n",
       "      <td>ls8_lasrc_senegal</td>\n",
       "    </tr>\n",
       "    <tr>\n",
       "      <th>8</th>\n",
       "      <td>LANDSAT_8</td>\n",
       "      <td>ls8_lasrc_sierra_leone</td>\n",
       "    </tr>\n",
       "    <tr>\n",
       "      <th>15</th>\n",
       "      <td>LANDSAT_8</td>\n",
       "      <td>ls8_lasrc_tanzania</td>\n",
       "    </tr>\n",
       "    <tr>\n",
       "      <th>20</th>\n",
       "      <td>LANDSAT_8</td>\n",
       "      <td>ls8_level1_usgs</td>\n",
>>>>>>> origin/pre-release
       "    </tr>\n",
       "  </tbody>\n",
       "</table>\n",
       "</div>"
      ],
      "text/plain": [
       "     platform                      name\n",
       "id                                     \n",
       "7   LANDSAT_8  ls8_collections_sr_scene\n",
<<<<<<< HEAD
=======
       "23  LANDSAT_8            ls8_l1_pc_usgs\n",
>>>>>>> origin/pre-release
       "9   LANDSAT_8           ls8_lasrc_ghana\n",
       "10  LANDSAT_8           ls8_lasrc_kenya\n",
       "11  LANDSAT_8         ls8_lasrc_senegal\n",
       "8   LANDSAT_8    ls8_lasrc_sierra_leone\n",
<<<<<<< HEAD
       "15  LANDSAT_8        ls8_lasrc_tanzania"
=======
       "15  LANDSAT_8        ls8_lasrc_tanzania\n",
       "20  LANDSAT_8           ls8_level1_usgs"
>>>>>>> origin/pre-release
      ]
     },
     "execution_count": 4,
     "metadata": {},
     "output_type": "execute_result"
    }
   ],
   "source": [
    "# List LANDSAT 8 products\n",
    "print(\"LANDSAT 8 Products:\")\n",
    "products_info[[\"platform\", \"name\"]][products_info.platform == \"LANDSAT_8\"]"
   ]
  },
  {
   "cell_type": "code",
   "execution_count": 5,
   "metadata": {},
   "outputs": [],
   "source": [
    "# These are the platforms (satellites) and products (datacube sets) \n",
    "# used for this demonstration.\n",
    "use_Landsat7 = True\n",
    "use_Landsat8 = True\n",
    "platforms = []\n",
    "products = []\n",
    "if use_Landsat7:\n",
    "    platforms.append('LANDSAT_7')\n",
    "    products.append('ls7_ledaps_ghana')\n",
    "if use_Landsat8:\n",
    "    platforms.append('LANDSAT_8')\n",
    "    products.append('ls8_lasrc_ghana')"
   ]
  },
  {
   "cell_type": "markdown",
   "metadata": {},
   "source": [
<<<<<<< HEAD
    "## <a id=\"extents\">Get the Maximum Extents of the Cube</a>"
=======
    "## <span id=\"extents\">Get the Maximum Extents of the Cube [&#9652;](#top)</span>"
>>>>>>> origin/pre-release
   ]
  },
  {
   "cell_type": "code",
   "execution_count": 6,
   "metadata": {
    "scrolled": false
   },
   "outputs": [
    {
     "name": "stderr",
     "output_type": "stream",
     "text": [
<<<<<<< HEAD
      "/home/localuser/Datacube/data_cube_notebooks/utils/data_cube_utilities/data_access_api.py:183: FutureWarning: casting an xarray.Dataset to a boolean will change in xarray v0.11 to only include data variables, not coordinates. Cast the Dataset.variables property instead to preserve existing behavior in a forwards compatible manner.\n",
=======
      "/home/localuser/Datacube/data_cube_notebooks/utils/data_cube_utilities/data_access_api.py:184: FutureWarning: casting an xarray.Dataset to a boolean will change in xarray v0.11 to only include data variables, not coordinates. Cast the Dataset.variables property instead to preserve existing behavior in a forwards compatible manner.\n",
>>>>>>> origin/pre-release
      "  if not dataset:\n"
     ]
    },
    {
     "data": {
      "text/html": [
<<<<<<< HEAD
       "<div style=\"width:100%;\"><div style=\"position:relative;width:100%;height:0;padding-bottom:60%;\"><iframe src=\"data:text/html;charset=utf-8;base64,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\" style=\"position:absolute;width:100%;height:100%;left:0;top:0;border:none !important;\" allowfullscreen webkitallowfullscreen mozallowfullscreen></iframe></div></div>"
      ],
      "text/plain": [
       "<folium.folium.Map at 0x7f80e5abad68>"
=======
       "<div style=\"width:100%;\"><div style=\"position:relative;width:100%;height:0;padding-bottom:60%;\"><iframe src=\"data:text/html;charset=utf-8;base64,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\" style=\"position:absolute;width:100%;height:100%;left:0;top:0;border:none !important;\" allowfullscreen webkitallowfullscreen mozallowfullscreen></iframe></div></div>"
      ],
      "text/plain": [
       "<folium.folium.Map at 0x7f54fb9e1438>"
>>>>>>> origin/pre-release
      ]
     },
     "execution_count": 6,
     "metadata": {},
     "output_type": "execute_result"
    }
   ],
   "source": [
    "from utils.data_cube_utilities.dc_display_map import display_map\n",
    "\n",
    "min_max_dates = np.empty((len(platforms), 2), dtype=object)\n",
    "min_max_lat = np.empty((len(platforms), 2))\n",
    "min_max_lon = np.empty((len(platforms), 2))\n",
    "for i, (platform, product) in enumerate(zip(platforms, products)):\n",
    "    # Get the extents of the cube\n",
    "    descriptor = api.get_query_metadata(platform=platform, product=product, measurements=[])\n",
    "\n",
    "    # Save extents\n",
    "    min_max_dates[i] = descriptor['time_extents']\n",
    "    min_max_lat[i] = descriptor['lat_extents']\n",
    "    min_max_lon[i] = descriptor['lon_extents']\n",
    "    \n",
    "# Determine minimum and maximum longitudes that bound a common area among products\n",
    "min_lon = np.max(min_max_lon[:,0]) # The greatest minimum longitude among products\n",
    "max_lon = np.min(min_max_lon[:,1]) # The smallest maximum longitude among products\n",
    "min_lat = np.max(min_max_lat[:,0])\n",
    "max_lat = np.min(min_max_lat[:,1])\n",
    "full_lon = (min_lon, max_lon)\n",
    "full_lat = (min_lat, max_lat)\n",
    "# Display the total shared area available for these datacube products.\n",
    "display_map(latitude = full_lat,longitude = full_lon)"
   ]
  },
  {
   "cell_type": "markdown",
   "metadata": {},
   "source": [
    "## <span id=\"define_extents\">Define the Extents of the Analysis [&#9652;](#top)</span>"
   ]
  },
  {
   "cell_type": "markdown",
   "metadata": {},
   "source": [
    "**Specify start and end dates in the same order as platforms and products**"
   ]
  },
  {
   "cell_type": "code",
   "execution_count": 7,
   "metadata": {},
   "outputs": [],
   "source": [
    "# Use these four lines to select the time slice common to all products.\n",
    "# min_start_date_mutual = np.max(min_max_dates[:,0])\n",
    "# max_end_date_mutual = np.min(min_max_dates[:,1])\n",
    "# start_dates = [min_start_date_mutual, min_start_date_mutual]\n",
    "# end_dates = [max_end_date_mutual, max_end_date_mutual]\n",
    "# Use these two lines to select all data available to each product.\n",
    "# start_dates = min_max_dates[:,0]\n",
    "# end_dates = min_max_dates[:,1]\n",
    "# Select a subset of the time available.\n",
    "# start_date = dt.datetime(2016,1,1)\n",
    "# end_date = dt.datetime(2017,12,1)\n",
<<<<<<< HEAD
    "start_dates = (dt.datetime(2016,1,1), dt.datetime(2016,1,1))\n",
    "end_dates = (dt.datetime(2017,12,1), dt.datetime(2017,12,1))"
=======
    "start_date = dt.datetime(2016,1,1)#(dt.datetime(2016,1,1), dt.datetime(2016,1,1))\n",
    "end_date = dt.datetime(2017,12,1)#(dt.datetime(2017,12,1), dt.datetime(2017,12,1))"
>>>>>>> origin/pre-release
   ]
  },
  {
   "cell_type": "markdown",
   "metadata": {},
   "source": [
    "**Specify an area to analyze**"
   ]
  },
  {
   "cell_type": "code",
   "execution_count": 8,
   "metadata": {},
   "outputs": [],
   "source": [
    "# Specify latitude and longitude bounds of an interesting area within the full extents\n",
    "\n",
    "# Ghana\n",
    "# min_lat_small, max_lat_small = (5.7261, 5.7390) # Crops NW of Accra (small)\n",
    "# min_lon_small, max_lon_small = (-0.4960, -0.4889) # Crops NW of Accra (small)\n",
    "# min_lat_small, max_lat_small = (5.7259, 5.7517) # Crops NW of Accra (medium)\n",
    "# min_lon_small, max_lon_small = (-0.5308, -0.5143) # Crops NW of Accra (medium)\n",
    "min_lat_small, max_lat_small = (8.0074, 8.0203) # Central Ghana - West of Kintampo\n",
    "min_lon_small, max_lon_small = (-2.0486, -2.0332) # Central Ghana - West of Kintampo\n",
    "    \n",
    "# Vietnam\n",
    "# min_lat_small, max_lat_small = (10.95, 11.00) # Area #1\n",
    "# min_lon_small, max_lon_small = (107.15, 107.20) # Area #1\n",
    "# min_lat_small_area, max_lat_small_area = (11.10, 11.39) # Area #2\n",
    "# min_lon_small_area, max_lon_small_area = (106.8, 106.92) # Area #2\n",
    "\n",
    "# Choose an interesting point within the specified area (a pixel, not an area).\n",
    "# Vietnam\n",
    "# lon_point, lat_point = 107.2086, 10.9790\n",
    "# lon_point, lat_point = 106.8540, 11.1445"
   ]
  },
  {
   "cell_type": "markdown",
   "metadata": {},
   "source": [
    "**Visualize the selected area**"
   ]
  },
  {
   "cell_type": "code",
   "execution_count": 9,
   "metadata": {
    "scrolled": false
   },
   "outputs": [
    {
     "data": {
      "text/html": [
<<<<<<< HEAD
       "<div style=\"width:100%;\"><div style=\"position:relative;width:100%;height:0;padding-bottom:60%;\"><iframe src=\"data:text/html;charset=utf-8;base64,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\" style=\"position:absolute;width:100%;height:100%;left:0;top:0;border:none !important;\" allowfullscreen webkitallowfullscreen mozallowfullscreen></iframe></div></div>"
      ],
      "text/plain": [
       "<folium.folium.Map at 0x7f80e6639f60>"
=======
       "<div style=\"width:100%;\"><div style=\"position:relative;width:100%;height:0;padding-bottom:60%;\"><iframe src=\"data:text/html;charset=utf-8;base64,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\" style=\"position:absolute;width:100%;height:100%;left:0;top:0;border:none !important;\" allowfullscreen webkitallowfullscreen mozallowfullscreen></iframe></div></div>"
      ],
      "text/plain": [
       "<folium.folium.Map at 0x7f54a9ee6390>"
>>>>>>> origin/pre-release
      ]
     },
     "execution_count": 9,
     "metadata": {},
     "output_type": "execute_result"
    }
   ],
   "source": [
    "lon_small = (min_lon_small, max_lon_small)\n",
    "lat_small = (min_lat_small, max_lat_small)\n",
    "display_map(lat_small, lon_small)"
   ]
  },
  {
   "cell_type": "markdown",
   "metadata": {},
   "source": [
<<<<<<< HEAD
    "## <a id=\"retrieve_data\">Load Data from the Data Cube</a>"
=======
    "## <span id=\"retrieve_data\">Load Data from the Data Cube [&#9652;](#top)</span>"
>>>>>>> origin/pre-release
   ]
  },
  {
   "cell_type": "code",
   "execution_count": 10,
   "metadata": {},
<<<<<<< HEAD
   "outputs": [],
   "source": [
    "from datetime import datetime as dt\n",
    "from utils.data_cube_utilities.clean_mask import landsat_qa_clean_mask, landsat_clean_mask_invalid\n",
    "from xarray.ufuncs import logical_and as xr_and\n",
    "\n",
    "cleaned_datasets = {}\n",
    "clean_masks = {}\n",
    "measurements = ['red', 'blue', 'green', 'nir', 'swir1', 'swir2', 'pixel_qa']\n",
    "for i, (product,platform) in enumerate(zip(products, platforms)):\n",
    "    start_date = start_dates[i]\n",
    "    end_date = end_dates[i]\n",
    "    # Query the Data Cube\n",
    "    dataset = dc.load(lat = lat_small,\n",
    "                      lon = lon_small,\n",
    "                      platform = platform,\n",
    "                      time = (start_date, end_date),\n",
    "                      product = product,\n",
    "                      measurements = measurements)\n",
    "    if len(dataset.dims) > 0: # Sometimes data is not returned.\n",
    "        # Get the clean mask for the appropriate LANDSAT satellite platform.\n",
    "        clean_mask = landsat_qa_clean_mask(dataset, platform)\n",
    "        # Remove data that is ouside the accepted range of LANDSAT 7 and 8.\n",
    "        clean_mask = xr_and(clean_mask, landsat_clean_mask_invalid(dataset))\n",
    "        clean_masks[platform] = clean_mask\n",
    "        # Remove clouds.\n",
    "        cleaned_dataset = dataset.where(clean_mask)\n",
    "        cleaned_datasets[platform] = cleaned_dataset\n",
    "assert len(cleaned_datasets) > 0, \"No data was retrieved.\""
=======
   "outputs": [],
   "source": [
    "from utils.data_cube_utilities.dc_load import load_multiplatform\n",
    "\n",
    "measurements = ['red', 'blue', 'green', 'nir', 'swir1', 'swir2', 'pixel_qa']\n",
    "dataset, clean_mask, _ = \\\n",
    "    load_multiplatform(dc, platforms, products, \n",
    "                       load_params=dict(lat=lat_small, lon=lon_small, time=(start_date, end_date),\n",
    "                                        measurements=measurements))\n",
    "cleaned_dataset = dataset.where(clean_mask)\n",
    "del dataset"
   ]
  },
  {
   "cell_type": "markdown",
   "metadata": {},
   "source": [
    "## <span id='calculate'>Calculate NDVI [&#9652;](#top)</span>"
   ]
  },
  {
   "cell_type": "code",
   "execution_count": 11,
   "metadata": {
    "scrolled": true
   },
   "outputs": [],
   "source": [
    "from utils.data_cube_utilities.dc_ndvi_anomaly import NDVI\n",
    "ndvi_arr = NDVI(cleaned_dataset)\n",
    "cleaned_dataset['ndvi'] = ndvi_arr"
>>>>>>> origin/pre-release
   ]
  },
  {
   "cell_type": "markdown",
   "metadata": {},
   "source": [
<<<<<<< HEAD
    "**Combine the data**"
   ]
  },
  {
   "cell_type": "code",
   "execution_count": 11,
=======
    "## <span id=\"area_analysis\">Examine the Selected Area [&#9652;](#top)</span>"
   ]
  },
  {
   "cell_type": "markdown",
>>>>>>> origin/pre-release
   "metadata": {},
   "source": [
<<<<<<< HEAD
    "from utils.data_cube_utilities.sort import xarray_sortby_coord\n",
    "if len(cleaned_datasets) > 1:\n",
    "    # Dataset\n",
    "    cleaned_datasets_list = list(cleaned_datasets.values())\n",
    "    cleaned_dataset = xr.concat(cleaned_datasets_list, dim='time')\n",
    "    cleaned_dataset = xarray_sortby_coord(cleaned_dataset, 'time')\n",
    "    # Clean mask\n",
    "    clean_mask_list = list(clean_masks.values())\n",
    "    clean_mask = xr.concat(clean_mask_list, dim='time')\n",
    "    clean_mask = xarray_sortby_coord(clean_mask, 'time')\n",
    "else:\n",
    "    cleaned_dataset = cleaned_datasets[list(cleaned_datasets.keys())[0]]\n",
    "    clean_mask = clean_masks[list(clean_masks.keys())[0]]"
   ]
  },
  {
   "cell_type": "markdown",
   "metadata": {},
   "source": [
    "## <a id='calculate'>Calculate NDVI</a>"
   ]
  },
  {
   "cell_type": "code",
   "execution_count": 12,
   "metadata": {
    "scrolled": true
   },
   "outputs": [],
   "source": [
    "from utils.data_cube_utilities.dc_ndvi_anomaly import NDVI\n",
    "ndvi_arr = NDVI(cleaned_dataset)\n",
    "cleaned_dataset['ndvi'] = ndvi_arr"
   ]
  },
  {
   "cell_type": "markdown",
   "metadata": {},
   "source": [
    "## <a id=\"area_analysis\">Examine the Selected Area</a>"
   ]
  },
  {
   "cell_type": "markdown",
   "metadata": {},
   "source": [
=======
>>>>>>> origin/pre-release
    "**If no plots appear in the figures below, there is no data available for the region selected**"
   ]
  },
  {
   "cell_type": "markdown",
   "metadata": {},
   "source": [
    "**Box-and-Whisker Plot by Full Time Period, Week, Month, Week of Year, or Month of Year.**"
   ]
  },
  {
   "cell_type": "code",
<<<<<<< HEAD
   "execution_count": 13,
=======
   "execution_count": 12,
>>>>>>> origin/pre-release
   "metadata": {
    "scrolled": false
   },
   "outputs": [
    {
<<<<<<< HEAD
=======
     "name": "stderr",
     "output_type": "stream",
     "text": [
      "/home/localuser/Datacube/datacube_env/lib/python3.6/site-packages/xarray-0.10.9-py3.6.egg/xarray/core/nanops.py:162: RuntimeWarning: Mean of empty slice\n",
      "  return np.nanmean(a, axis=axis, dtype=dtype)\n"
     ]
    },
    {
>>>>>>> origin/pre-release
     "name": "stdout",
     "output_type": "stream",
     "text": [
      "NDVI (Aggregated by Month of Year)\n"
     ]
    },
    {
     "data": {
<<<<<<< HEAD
      "image/png": "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\n",
=======
      "image/png": "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\n",
>>>>>>> origin/pre-release
      "text/plain": [
       "<Figure size 1296x864 with 1 Axes>"
      ]
     },
<<<<<<< HEAD
     "metadata": {},
=======
     "metadata": {
      "needs_background": "light"
     },
>>>>>>> origin/pre-release
     "output_type": "display_data"
    }
   ],
   "source": [
    "from utils.data_cube_utilities.plotter_utils import xarray_time_series_plot\n",
    "\n",
    "# Specify whether to plot a Gaussian curve fit of the mean of NDVI along time.\n",
    "plot_gaussian_filter_ndvi_mean = True\n",
    "max_times_per_plot = 10 # The maximum number of acquisitions with data that appear in each plot.\n",
    "\n",
    "# Can be one of [None, 'week', 'month', 'weekofyear', 'monthofyear'].\n",
    "for bin_by in ['monthofyear']:\n",
    "    aggregated_by_str = None\n",
    "    if bin_by is None:\n",
    "        plotting_data = cleaned_dataset\n",
    "    elif bin_by == 'week':\n",
    "        plotting_data = cleaned_dataset.resample(time='1w').mean()\n",
    "        aggregated_by_str = 'Week'\n",
    "    elif bin_by == 'month':\n",
    "        plotting_data = cleaned_dataset.resample(time='1m').mean()\n",
    "        aggregated_by_str = 'Month'\n",
    "    elif bin_by == 'weekofyear':\n",
    "        plotting_data = cleaned_dataset.groupby('time.week').mean(dim=('time'))\n",
    "        aggregated_by_str = 'Week of Year'\n",
    "    elif bin_by == 'monthofyear':\n",
    "        plotting_data = cleaned_dataset.groupby('time.month').mean(dim=('time')).isel(month=slice(0,1))\n",
    "        aggregated_by_str = 'Month of Year'\n",
<<<<<<< HEAD
    "    \n",
    "params = dict(dataset=plotting_data, plot_descs={'ndvi':{'none':[\n",
    "    {'box':{'boxprops':{'facecolor':'forestgreen'}}}]}})\n",
    "if plot_gaussian_filter_ndvi_mean:\n",
    "    params['plot_descs']['ndvi']['mean'] = [{'poly': {'degree': 3}}]\n",
    "    \n",
    "params['scale_params'] = 'norm'\n",
    "    \n",
=======
    "    \n",
    "params = dict(dataset=plotting_data, plot_descs={'ndvi':{'none':[\n",
    "    {'box':{'boxprops':{'facecolor':'forestgreen'}}}]}})\n",
    "if plot_gaussian_filter_ndvi_mean:\n",
    "    params['plot_descs']['ndvi']['mean'] = [{'poly': {'degree': 3}}]\n",
    "    \n",
    "params['scale_params'] = 'norm'\n",
    "    \n",
>>>>>>> origin/pre-release
    "xarray_time_series_plot(**params)\n",
    "plt.title('Box-and-Whisker Plot by Full Time Period')\n",
    "print(\"NDVI {}\".format(\"(Aggregated by {})\".format(aggregated_by_str) if aggregated_by_str is not None else \"\"))"
   ]
  },
  {
   "cell_type": "markdown",
   "metadata": {},
   "source": [
<<<<<<< HEAD
    "## <a id=\"mosaic\">Create a Max NDVI Composite</a>"
=======
    "## <span id=\"mosaic\">Create a Max NDVI Composite [&#9652;](#top)</span>"
>>>>>>> origin/pre-release
   ]
  },
  {
   "cell_type": "code",
<<<<<<< HEAD
   "execution_count": 14,
=======
   "execution_count": 13,
>>>>>>> origin/pre-release
   "metadata": {
    "scrolled": false
   },
   "outputs": [
    {
     "name": "stderr",
     "output_type": "stream",
     "text": [
<<<<<<< HEAD
      "/home/localuser/Datacube/data_cube_notebooks/utils/data_cube_utilities/dc_utilities.py:165: FutureWarning: iteration over an xarray.Dataset will change in xarray v0.11 to only include data variables, not coordinates. Iterate over the Dataset.variables property instead to preserve existing behavior in a forwards compatible manner.\n",
=======
      "/home/localuser/Datacube/data_cube_notebooks/utils/data_cube_utilities/dc_utilities.py:214: FutureWarning: iteration over an xarray.Dataset will change in xarray v0.11 to only include data variables, not coordinates. Iterate over the Dataset.variables property instead to preserve existing behavior in a forwards compatible manner.\n",
>>>>>>> origin/pre-release
      "  for band in dataset:\n"
     ]
    },
    {
     "data": {
<<<<<<< HEAD
      "image/png": "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\n",
      "text/plain": [
       "<Figure size 720x852.245 with 1 Axes>"
=======
      "text/plain": [
       "(<Figure size 720x852.245 with 1 Axes>,\n",
       " <matplotlib.axes._subplots.AxesSubplot at 0x7f5490883cc0>)"
>>>>>>> origin/pre-release
      ]
     },
     "execution_count": 13,
     "metadata": {},
     "output_type": "execute_result"
    },
    {
     "data": {
      "image/png": "iVBORw0KGgoAAAANSUhEUgAAAncAAAIgCAYAAADnQU8tAAAABHNCSVQICAgIfAhkiAAAAAlwSFlzAAALEgAACxIB0t1+/AAAADl0RVh0U29mdHdhcmUAbWF0cGxvdGxpYiB2ZXJzaW9uIDMuMC4xLCBodHRwOi8vbWF0cGxvdGxpYi5vcmcvDW2N/gAAIABJREFUeJzs3Xm8ZFV57vHnrTqnm+5GEFuMghhQcABuwo2tQTM4YMA44YC5GIloiBhnUW/iyFVirmKMJI43JCbBIcTYYiRGBb2giRPazCCatBcEARUBUUZPVb33j707Ho9N76e7V519ep3f9/PhQ3ed1WvvWrVr13t2VT1vZKYAAABQh0HfOwAAAIByKO4AAAAqQnEHAABQEYo7AACAilDcAQAAVITiDgAAoCIUdwAAABWhuAMAAKgIxR0AAEBFZvregT7NzMzkypUrCs3WR6ePKDbTUu5T4txLd//LrVj5NSu5b45c0o/68rBkj8eSky32gQ3siMznyW233P6DzNy9a9yyLu5WrlyhBx5w/85xXnEx3v4d2kqDGFrjJsaZOidLt1RxZpqYc9mXqo2NpnsXzaUNY9zAvANp3IHJZGTN5R4ak4KtDO2jJ5wHyptqYGw1Cp8xrftp7v94bDzPvanktqUM5xkV7rPTE8ZjvpR/bXEOWW/QVph0PwZF63n/CVxs1FJ+zAcD4x6Ya3b+OZd829qmN922iYjjIuLSiLgkIk6NiJ0W/HxlRHw4IjZGxDkRsXd7+29FxLkRcXH7/0fP+zcPbm/fGBHviPaZHhF/EhEXRcQFEXFmROwxzfsGAACwFE2tuIuIPSW9RNK6zDxQ0lDSkQuGHSPpxszcV9JJkk5sb/+BpCdm5n+TdLSkD8z7N++V9FxJ+7X/Pba9/c8y85cy8yBJn5B0fPl7BQAAsLRN+wsVM5JWRcSMpNWSrlnw88MlndL+eb2kQyIiMvP8zNw09tJ2jpURcS9Ju2TmV7J53+D9kp4sSZn5o3nzrtHSvkoLAAAwFVP7zF1mXh0Rb5N0paTbJJ2ZmWcuGLanpKva8aOIuEnSWjVX7jZ5mqTzMvOO9mrgd+b97DvtHJKkiPhTSc+SdJOkR21uvyLiWEnHStKKFbPbfgcBAACWoGm+Lbubmitz+0jaQ9KaiDhqK+c4QM1btc9zxmfmazNzL0kfkvSiOxlzcmauy8x1MzPL+vskAACgQtN8W/Yxki7PzOsyc07SaZIevmDM1ZL2kqT2rdtdJV3f/v3ekj4m6VmZ+a154+8979/fu71toQ+pueIHAACwrEyzuLtS0sERsbr9Rushki5bMOZ0NV+YkKQjJJ2VmRkRd5X0r5JelZlf3DQ4M6+V9KOIOLid81mSPi5JEbHfvHkPl/SNadwpAACApWxqxV1mnqPmSxLnSbq43dbJEXFCRDypHfY+SWsjYqOkl0t6VXv7iyTtK+n4Ntrkgoi4R/uzF0j6G0kbJX1L0qfa29/SRq5cJOlQSS+d1n0DAABYqsINq6zRmjWr0wkxdpQMMR4WDCd2lQ4xDieRMbzfLTKdsF339xQzKbKP1EwjxXhgpoM6u+aGGLunCCvEuPCalcx6dQJ5h7NeIG+OvM/zxrB7vvHIjh7u3t7AO7fYj/m4+7xnBbjKD062mNt02OdG99Ri5dkWPE+5w8y5rMfJfWIWXNripUzBc4v7HHCc/9VLzs3MdZ3bLLZFAAAA9I7iDgAAoCIUdwAAABWhuAMAAKgIxR0AAEBFKO4AAAAqQnEHAABQEYo7AACAinhJm5VKpRk+3B38GcaYZpvlwo5dVuZkycRGlc4A7v4dxN37NIKCJWmSRlht2ZxRi5un6gQKl33EvdxS+zE3B1rBpWagahgbzbF3ypzICzuOgqcD63luh8aWS5cdDLw1G4/nvE0Ou+fLNBfWCRR2nyh2iHHpZ56z0YJTFdz/krnDfSyrr3vnJmPvnOHiyh0AAEBFKO4AAAAqQnEHAABQEYo7AACAilDcAQAAVITiDgAAoCIUdwAAABWhuAMAAKgIxR0AAEBFlnWHij44nSz8LgTeuIGV3O3Fe6eZKW41DnC6QMjrnuF3PvBGLtUQ+XQf9FIbLMzepDnQ677iHrPGcTYp22HGa7Dhdb+R0RXD6VwiSTkx0/KNx2ky8TpPuCbjUeeYwbDgwT00r4GUfG6W5jxPCi6ZeZiVZe7/IMpd0xqbz5Ms3H3CwZU7AACAilDcAQAAVITiDgAAoCIUdwAAABWhuAMAAKgIxR0AAEBFKO4AAAAqQnEHAABQEYo7AACAiizrDhUhL5U700ml91LkrS4EZtS2m7zvMTs3FNyi03lCktIYFu5SmDHsTicRdy1SXlcDp3uAsxbl2YtrDDHnKrhJNy3fOhd4U9nSecyzuyNDo/t39cJPE/NJYE5mHhslN5ljZ5vuAeQNs7jdh+y1NTbZQ1eJsq8nnonZGcnqZFHw3FIaV+4AAAAqQnEHAABQEYo7AACAilDcAQAAVITiDgAAoCIUdwAAABWhuAMAAKgIxR0AAEBFlnWIsSIUYYTVGgmEThipJE2szEwvZNFNUJwYybduxuKg4K8DYSbypnE/3ZDIsrHP5cKJpcIhogUDef3dWvwUVCsUvJfg54LcY9s+bxibLPh8ctffDpt25nKXwkuVL8uYzw5I95PUy210caeyJyz9ME0m3QeR+zzp4zDjyh0AAEBFKO4AAAAqQnEHAABQEYo7AACAilDcAQAAVITiDgAAoCIUdwAAABWhuAMAAKgIxR0AAEBFlneHCklhZEdbye9Fo8LNjgZmDng4HR7sTPFy2eNFl8xdiyjXLcLpnOHOtWnGxeWumTdb0Q4btnLdV0rG+LtrYW3R7dwQ3b+rh/n7vDGVJCkno+4x/RwYHut57inalcE+Nxbcu17uaEHm/g+H3V2pJGky7u5A5HSvkmQ9TnSoAAAAwJ2iuAMAAKgIxR0AAEBFKO4AAAAqQnEHAABQEYo7AACAilDcAQAAVITiDgAAoCLLO8Q4pYmXVmsMMYKOJS+51wxGdIOH3RBUjzdZhBcUaW3RCoD09mtgrsUkuwMsJ0s4m9VbjqV7B9xsUIcbomsNczNLC66tn4HdfQ5yQ1ed49+2lNNZjfVwN+ffTeN8Zr6c2MejcXAP7EBeY4g5lf00L3gMjY1wYsnbt6Uc0M2VOwAAgIpQ3AEAAFSE4g4AAKAiFHcAAAAVobgDAACoCMUdAABARSjuAAAAKkJxBwAAUBGKOwAAgIos6w4VKTdhulxcvjVTwaRwSUqjhB+YdX6Yvw6kmQLumDHWY2J2CLE6kpjj3C4EBZst2Bb5sG6n656wZOeGTTMuJjuR3k3oL9Mgx95kynte9hG87572Sh62zt2019/uFmFO6GzT7VJU8jJOwUUreZi56/+TO7xxK1cY2/Smsjt2lDTVK3cRcVxEXBoRl0TEqRGx04Kfr4yID0fExog4JyL2bm9fGxFnR8TNEfGuBf/mGRFxcURcFBGfjoi7t7c/vd3WJCLWTfN+AQAALFVTK+4iYk9JL5G0LjMPlDSUdOSCYcdIujEz95V0kqQT29tvl/R6Sa9cMOeMpL+U9KjM/CVJF0l6UfvjSyQ9VdK/lb83AAAAO4Zpf+ZuRtKqtihbLemaBT8/XNIp7Z/XSzokIiIzb8nML6gp8uaL9r810XTA3mXTnJl5WWZ+c0r3AwAAYIcwteIuM6+W9DZJV0q6VtJNmXnmgmF7SrqqHT+SdJOktVuYc07S8yVdrKao21/S+4rvPAAAwA5qmm/L7qbmytw+kvZQc7XtqO2cc1ZNcfff2zkvkvTqrZzj2IjYEBEbRqPR9uwOAADAkjPNt2UfI+nyzLyuveJ2mqSHLxhztaS9pP/6PN2ukq7fwpwHSVJmfiubr63902bm3KLMPDkz12XmupmZZf1lYQAAUKFpFndXSjo4Ila3n487RNJlC8acLuno9s9HSDort5w1cLWk/SNi9/bvv7WZOQEAAJatqV26ysxzImK9pPMkjSSdL+nkiDhB0obMPF3N5+U+EBEbJd2ged+mjYgr1HxhYkVEPFnSoZn59Yh4o6R/i4g5Sd+W9Ox2/FMkvVPS7pL+NSIuyMzDpnX/AAAAlqKwQzkrtHrN6nzgAfsZI714UIcTWqpB4RBjY6PlQ4y9UGHHsIcQ4/GEEOOtVTLEuGhQrfs8KZqoag5b5BBjd7+Kviq4uc/umhW8o32E6FqvufaaLdHk5x7s6CHG7rJesOHSczOzM8t32X/oLAsd9UVfJ43Cotmot9WhcWS5Cdr2rhVcEase1tCaa24y523TOAG7J5Mlq/BJumj3CXtxF7tDhTfOPzS6R7ofDbZeQNwnuvnLmfXcNH9ZLfk7bR8XLey1deYyx9lbtM5nZkFc7lqHzdk1dy1WrjQHOjV4wdcAu1A30VsWAACgIhR3AAAAFaG4AwAAqAjFHQAAQEUo7gAAACpCcQcAAFARijsAAICKUNwBAABUZNmHGHt5jE63AneD3VsMM4DTTkS3xnihpZHm7wNFAxm778HIDCd29RFQ7HV4MOcyWh/Yx+wSTaRvFExULRiUaocdG4/TeGyGlc8Yx8+4bEC6czYYFH4yhfF4uv1xSj7n/JZB3UPsJbOXttxj4IRST9y0+4LnltKnqcV+DbDXzMSVOwAAgIpQ3AEAAFSE4g4AAKAiFHcAAAAVobgDAACoCMUdAABARSjuAAAAKkJxBwAAUBGKOwAAgIos+w4VVqy1lVRdsF3EwKu5naR2SZoYee1pJ5ibnSyMMePx2JrLGeV3WyjXrcB+zO22BsUGWezd6qFbh83ZN/dhMpa26OEjKYwYfH+bTosNbzKjCYHN6fAjbcWazXSfH2POO08NjbnGI28u/xzavR7uTO6+zRj3M80DbWCcENyrRu65ZTzqHuh0aJGkTO91p2TLGus0Vfg8y5U7AACAilDcAQAAVITiDgAAoCIUdwAAABWhuAMAAKgIxR0AAEBFKO4AAAAqQnEHAABQEYo7AACAiiz7DhWlmgLY4dJWDL431cTfaPcIMyrcTdEeT7pTwMv1WtiK2UqmgPfQucHqQiC/K0DJbRZ9RIuubbn9H5rdY9zfm8PpHmPu/mRsdD4oHYNf8jE322JMjK4M7t1MY3Hd55LfoaKbcfpstmku/3jcvWYDc/2tThbuYWEu2XDYPaHbYcM/nxkK38+SuHIHAABQEYo7AACAilDcAQAAVITiDgAAoCIUdwAAABWhuAMAAKgIxR0AAEBFKO4AAAAqsuxDjJ0UQid/sGSWYelcRCug2A1KNdM1iwZdOtsrGOi8+DM1yoY6l9s7N8S1h5xOi39odI8cuOHEw+7Q2GZg95DxqGA4a+E86pLHbE7KzTaY8R6nnDjhvt5cE2MuyQySNl+ZzU1aoc5uwLUbnOxNZo4zdm2goblJ7zXMWQ/3mC26Ziau3AEAAFSE4g4AAKAiFHcAAAAVobgDAACoCMUdAABARSjuAAAAKkJxBwAAUBGKOwAAgIpQ3AEAAFSEDhUOK7i7XNS2lTQvaWCnzXfHmE/MbVqdJyRrOUqGdrtrVjRc3ZzM79zgTLj4fSCiZMsUu62KOc7YN/v5NOhOuLc7T5gtU8aj7vnc/XfYy2oOdI6N0uH8TveJkh0B/NX3RkbBSyoD80XAGTUwO1Q4nRsm5gPgjvMOIrPzhLlmJTumOA9A6S4WXLkDAACoCMUdAABARSjuAAAAKkJxBwAAUBGKOwAAgIpQ3AEAAFSE4g4AAKAiFHcAAAAVIcTYCRcsNI872cAsucNMPRxld7hj0SxJuSGo5VIb7ZnMoE5vQm+r9r4tcoaxHU5cNFHYDBQeuuGsTii4J9UdKGwHjZYcZwc/d08W7snFDXA1Hk87+Nxl5Uh723SOnzSfKEPzmO2DlS9eMMQ4jXDuZi5rmPW8K32YFdXDvnHlDgAAoCIUdwAAABWhuAMAAKgIxR0AAEBFKO4AAAAqQnEHAABQEYo7AACAilDcAQAAVITiDgAAoCJ0qHAS7kt2BSgZYm5O5iR3DwZDa66xurtd2Bst2W7BVTQpvPT+OzHs3kzOoWEfi+6aFTy43bT88Vx3Er57bDudD3LgLcbA7irhDCrXbaGPGP/Sh1lOuh8ouxOHpfQ9MLZY/MlZzsQ4huxThrm21nL4LXcWXdEuV6apXrmLiOMi4tKIuCQiTo2InRb8fGVEfDgiNkbEORGxd3v72og4OyJujoh3Lfg3KyLi5Ij4j4j4RkQ8bUtzAQAALCdTK+4iYk9JL5G0LjMPlDSUdOSCYcdIujEz95V0kqQT29tvl/R6Sa/czNSvlfT9zLy/pP0lfb5jLgAAgGVj2p+5m5G0KiJmJK2WdM2Cnx8u6ZT2z+slHRIRkZm3ZOYX1BR5C/2+pDdLUmZOMvMHW5qr3F0BAABY+qZW3GXm1ZLeJulKSddKuikzz1wwbE9JV7XjR5JukrT2zuaMiLu2f/yTiDgvIj4SEb+wLXMBAADUaJpvy+6m5mraPpL2kLQmIo7azmlnJN1b0pcy81ckfVlNAbk1+3VsRGyIiA2j0Wg7dwcAAGBpmebbso+RdHlmXpeZc5JOk/TwBWOulrSXJLVv3e4q6fotzHm9pFvbuSTpI5J+ZWvmysyTM3NdZq6bmeHLwgAAoC7TLO6ulHRwRKxuP/t2iKTLFow5XdLR7Z+PkHRW5p1/z7r92b9IemR70yGSvr4tcwEAANRoapeuMvOciFgv6TxJI0nnSzo5Ik6QtCEzT5f0PkkfiIiNkm7QvG/TRsQVknaRtCIinizp0Mz8uqQ/bv/NX0i6TtJz2n9yp3MBAAAsF7GcL26tXrM6H3DA/TvHFQ0xNsYMzA26uzU3muvephtinF6IsXdc8WXmn1FwzawQY2sm+YmkzvsA5kYHM96bCjt6iPFkbATyelNZwbfuuazky4L7GuMH3xpjCoYY+0ux+CHGJV+/B+aR5mxxbBzX0taENTsKJrxL0qTc2pYMMb5ww6XnZua6rnF86Mx5AJ2DwTyXOIVbmgfpyGwWMRzOdo6ZGKnvkv9CORl375x7Xir5/B8OvUN+PO7+sk3JFyN3vj7KYfcEPJw1jm3zeeIeG8NZZ0Jvskl2779btNkvbtagci+6PTQ08F/ASxaB5vnMKQL955w50hg2d4fZlaTgCcH9xSWi3Jo5c0lSpvd4WnMVLNp6aF5io7csAABARSjuAAAAKkJxBwAAUBGKOwAAgIpQ3AEAAFSE4g4AAKAiFHcAAAAVobgDAACoCCHGTpK/M8YIQJVkhRmmzC4QE682H426N5phBlhOzA4JRtrrwEyRd4MuSxoMup8aaXbrmNgp8iXbShTanqSJ+ZgPnfnc4OqCqZ92g42h9eQsqmgnkYLsbToPeek1swa5nVyccWYI9tgbZ+S7++HE5to6w9J9DbNahLgdNsqFE5ePlS+4ycWeS1y5AwAAqArFHQAAQEUo7gAAACpCcQcAAFARijsAAICKUNwBAABUhOIOAACgIhR3AAAAFaG4AwAAqMiy7lARkgZWkna5GHmnW8Fk7NXcOSkXaR12arfZyaJgCHjJudy0/NDIGOM+fbrnktwUeW+LVueDGFpzpcwU+YKtCNywfOuwLbj7JXerGddH/4ludtZ/wVR9r1uElAWPs8mk++BwN+fu1XDYfT/TPC7S2H/JfJzCnEvd5w33MYqheQ4y2no4XZGayQoOK/iyWfpMwJU7AACAilDcAQAAVITiDgAAoCIUdwAAABWhuAMAAKgIxR0AAEBFKO4AAAAqQnEHAABQEYo7AACAiizrDhUNJxe6O17aTSd3grvtdHh3m8bANLc6M/TGjY07Gmm2Dhh0/w4yGXtdIHzdi+auv9cFRZoUjDEfGk9tO+nfbhFS7uB2Ox8U7erhDbMMh+W6zLjPTbfDQ0mZToeB7u4CW8O5nwWbWMhs5KKw76ZxbnHvQMHLM/bx4563namMzhP2XG5bG3eY8RgUfa0u/Pzlyh0AAEBFKO4AAAAqQnEHAABQEYo7AACAilDcAQAAVITiDgAAoCIUdwAAABWhuAMAAKjI8g4xDikGRlChkdlox7wWDNd0p5qZ7R45HpmhqwUDVUNeOmhOjIDiwvmtYdzPkkG77UY7zQ7MNcvuxzPTCxD1I4yN51LJxWg22j1TwWPDn8obmcbJxd3/xY8wlpyA4oEZ6DwelwvHHQzN4HAnqHbsXgPxDu6Bl2jrbdE9CZVUJve/GWYHjHdvdDjjrdl4VC56uOTyl77SxpU7AACAilDcAQAAVITiDgAAoCIUdwAAABWhuAMAAKgIxR0AAEBFKO4AAAAqQnEHAABQEYo7AACAiizrDhWZ0sQJRTfGuEHVbocHR3hR5xqPnW4RhWPwjbuZ4XVISCPG3OmIsXW653P3320xMGP8rjXjpv1ndycLpzuCJM2utIZp5CxH4UB95/lkH9sFTSZu9H65fSu5tP5eOR1TvD0bmse201XCXf+ih6PRFUaSJk5XD3Ou4qc9h9UVxuukI7NLzswKo+OOe5zNmq+bc+U6pjiy8HmKK3cAAAAVobgDAACoCMUdAABARSjuAAAAKkJxBwAAUBGruIvGURFxfPv3+0TEQ6e7awAAANha7pW790h6mKRntH//saR3T2WPAAAAsM3cnLtfzcxfiYjzJSkzb4yIFVPcLwAAAGwD98rdXDSphClJEbG7rGhfAAAALCb3yt07JH1M0j0i4k8lHSHpdVPbq0WURpK5kxvtVrpWWn54s0WYtbnT4WFodovwtmgtWpiTZR8x7OncAW+qgduswPhdazLy5rIS3Sdmtwtzo87dtB9z80hzRrlzDayD1ppKQ7N7jNUhp3RbD2eL9jFrzGVuczwyz6LG2hZdMfN8XLLBQJpPFLczj9Plx1V2bc1tFtx/uxmT0TFlODA7cRgVwnhsdjwyWcVdZn4oIs6VdIiapXlyZl5WdE8AAACw3bZY3EXE3eb99fuSTp3/s8y8YVo7BgAAgK3XdeXuXDVXYUPSfSTd2P75rpKulLTPVPcOAAAAW2WLbypn5j6ZeV9Jn5X0xMy8e2aulfQESWcuxg4CAADA535b9uDM/OSmv2TmpyQ9fDq7BAAAgG3lflv2moh4naQPtn9/pqRrprNLAAAA2FbulbtnSNpdTRzKxyTdQz/tVgEAAIAlwo1CuUHSS6e8LwAAANhOVnEXEWdrM9mFmfno4nu0qFIaGgGVTujhyLwIasw1MIMp3QBLI6fZyuzdGl4Gp51oW8zADX628mzdEGn38ewes3LVKmuu0ag7EHNgBu260Zph3E83nNXNLHXCTZ39kiTn0LBCyCW5B+3AOoS842xiJCIPjGDWrZHGweEG0Lph084jYOeeG+Ps/NyCwc/u/jsh/JI0M9Mdtjv2ErXl3NF0DgzJDhS2A66dTbrHhvHknEwKBg+7r00m9zN3r5z3550kPU1SZ2x9RBwn6Q/UHA0XS3pOZt4+7+crJb1f0oMlXS/pf2TmFRGxVtJ6SQ+R9PeZ+aJ5/+bTku7V7vu/S3phZo4j4iBJ/6fdv5GkF2TmV837BwAAUAWrVMzMc+f998XMfLmkR27p30TEnpJeImldZh4oaSjpyAXDjpF0Y2buK+kkSSe2t98u6fX62aJyk9/JzF+WdKCazwE+vb39rZLemJkHSTq+/TsAAMCyYhV3EXG3ef/dPSIOk7Sr8U9nJK2KiBlJq/Xz37A9XNIp7Z/XSzokIiIzb8nML6gp8n5GZv5o3twr9NNrxClpl/bPu25mWwAAANVz35ad36liJOlyNVfd7lRmXh0Rb1PTyeI2SWdm5sLg4z0lXdWOH0XETZLWSvrBluaOiDMkPVTSp9QUhZL0MklntNsciBw+AACwDLmf4HtQZt637VixX2YeKulrW/oHEbGbmitz+0jaQ9KaiDhq+3a3kZmHqfnc3UpJm77U8XxJx2XmXpKOk/S+O9mvYyNiQ0RscD50DgAAsCNxi7svbea2L3f8m8dIujwzr8vMOUmn6eevpl0taS9Jat+63VXNFys6tV/M+LiaAlKSjm63IUkfUXNlb3P/7uTMXJeZ65xvEAEAAOxItvi2bETcU81bp6si4r/rp19c3kXNZ+i25EpJB0fEajVvyx4iacOCMaerKcq+LOkISWflFr43HxE7S7pLZl7bFoOPV/ONWan5jN0jJH1OzdW8/+zYPwAAgOp0febuMEnPlnRvSW+fd/uPJb1mS/8wM8+JiPWSzlPzOb3zJZ0cESdI2pCZp6t56/QDEbFR0g2a923aiLhCTRG5IiKeLOlQNVf1Tm8jVAaSzlYTfyJJz5X0l23Rd7ukYzvuGwAAQHXCCgGNeFpmfnQR9mdRrV6zKh9w4L6d45zQw4kZYuwED4cZ9Bpm6OHESeGMsp8/LBlibO2+NdNWhBgbSocYO5nCJUOMx5POqMpmnOascWnkjLpBtUVDjM2jY2g8AG5weNHkbXP/+wkxdlLZvQDa8dgbF2b4tjdZ95B+Qoy9+9hHiLHznHODq20FpysZYlwy+9+9i+d/9eJzM3Nd17iut2WPyswPSto7Il7+czuT+fbN/LMdR8h6dCZzxoNcMBHd7zzhvTiXPAL7OJituQqeWF0777KzNe6WH91ijZtdubJzzGhkFmTGidp9YVB6BYFVhA+8XyLcjilO4Tbo5agt15XE3aJTuE3G5i+OZgE16c6ylxvib5fN7nFr8Ipdt8OGyXnNKXgfJe+XPVvhbkaLvU17ZZ1zqDnVwCgU0+4Q4ul6W3ZN+//NvYoVLs0BAACwvbZY3GXmX7V//GxmfnH+zyLi16a2VwAAANgm7gcw3mneBgAAgB51febuYWqy6XZf8Jm7XdT0igUAAMAS0vWZuxVqPm83I+ku827/kZpcOgAAACwhXZ+5+7ykz0fE32fmtxdpnwAAALCNuq7cbXJrRPyZpAMk7bTpxsx89J3/EwAAACw29wsVH5L0DUn7SHqjpCskfW1K+wQAAIBt5F65W5uZ74uIl857q3bHL+7STNU32i24KfhePKCd4FpunN0RwNxm0bm678BOK3fqHCOZ3TpMt95+hzVudqdZa9zEOBjnxrdac3kNQrz9KhnOmhPve1hu2LET+F20w4D91CwZdlxursG5sgAOAAAgAElEQVTQ7HxgLlrJDiF9mBhdMfyuJCWVDcv2Du2y3WMWW/Ege6f5ihFOLHnHmRvc7nKLu039h66NiMdLukbS3cruCgAAALaXW9y9KSJ2lfQKNfl2u0h62dT2CgAAANvEKu4y8xPtH2+S9ChJigiKOwAAgCXG/ULF5ry8ewgAAAAW0/YUd0v3U7IAAADL1PYUd0v0OzMAAADLV1dv2R9r80VcSFo1lT0CAADANutqP3aXLf0cAAAAS8v2vC0LAACAJcbNuauX8cnBgdGhwk6qnnTPlTNznWMkSWOzNnc+Hekm0ntblLFkGrpHnxHdPZ543SIm6XVIcESa6z9jfvfIWLMIc9Gc1ivubrnJ79Z83mRuVwBn39I9ap0OG2Pv+BkMjfWXNBk7XSW8/R8b54OhvV/lzgdlu3WUZfUHKfsEMI9Zc5M9fPTdWjO7k0vBDhvOi447WWF9dPXgyh0AAEBFKO4AAAAqQnEHAABQEYo7AACAilDcAQAAVITiDgAAoCIUdwAAABWhuAMAAKgIxR0AAEBF6FCxyCKMhHgz3ns4a3bF+ImTSl+ui4IkzcwanTjM+5lGV4mx0flDKpuBnzG2xk0mXleDiO7HM+V1GHDC8tPYniTFxNuml+RvPuaTcmn/Gnj7v3R5a+GMGo8Kd6LpoauEpWSzgsJ3MY1zldnswt81Y6Bz/nGl0yFHpbt/uOcMb9+crlPu+jsNrEo3seDKHQAAQEUo7gAAACpCcQcAAFARijsAAICKUNwBAABUhOIOAACgIhR3AAAAFaG4AwAAqMiyDzEuFY3ohhk6mY12mKEZ3Dsz2x2i6wZYTtIL7k0j+NZdM/NuWtJcXSuc1Qxhdh9RN7i0lMg5a1yavwNGuQzjrQjRNcZMzN9hh8Yxa4yRpHS36cw1NkPNZ6xEZ2uuyZz5PHfmsmYqyz5+nHBfe5tm2LTzEJjhvvap0Rjonn+c4OFwrxuZw+ywY4f5Wmcd2yX3qzCu3AEAAFSE4g4AAKAiFHcAAAAVobgDAACoCMUdAABARSjuAAAAKkJxBwAAUBGKOwAAgIpQ3AEAAFRk2XeocDgZ1OOJl+juhIAP7FYF3rhxdmfE59jbf3eb/n3oNhx275u7tfGobFcJh9Gso9mi1f3DTFc3Hs/hTNl2EWk85lFwXdutdm/TTKR3Oln00W3BNTa6SjjdaiRpMOONc9bfPbf0EfZfcpNFG8wsdrsabcVaWPu2dDs39LC0vRzbXLkDAACoCMUdAABARSjuAAAAKkJxBwAAUBGKOwAAgIpQ3AEAAFSE4g4AAKAiFHcAAAAVobgDAACoCB0qSjFTr60OFeZko594efnD2e75rOYIkoYljxg3tbtgovhk4m3UbGrgzWXegcxyHR6GK4xtmusfQ3PNCqbSFw2RH3v75Yyy+5sUPLbH5pPT2Tf3+C/6APTRrKCHLgQyOgFJUhRskVB2aUuekMt2AnKWzH3O9XFoxMB4DXafmyau3AEAAFSE4g4AAKAiFHcAAAAVobgDAACoCMUdAABARSjuAAAAKkJxBwAAUBGKOwAAgIos+xDjUnmSJeMHx3PubN648ah7nBusOTTCGCVp7AQyFkyTnJsrHJq57buy7ZwUTveAtVN0nU2aIcDWsMVfWT+EuVu662oOmzjzueGsxuM0Se/3ef9R6g5Yto/Eghm6w4H30pY5MgZZU23FU7Pc+biokgHXi3+asvWQnW8FFMew7LW2qV65i4jjIuLSiLgkIk6NiJ0W/HxlRHw4IjZGxDkRsXd7+9qIODsibo6Idy34N38aEVdFxM0Lbj8pIi5o//uPiPjhNO8bAADAUjS14i4i9pT0EknrMvNASUNJRy4YdoykGzNzX0knSTqxvf12Sa+X9MrNTP0vkh668MbMPC4zD8rMgyS9U9JpRe4IAADADmTan7mbkbQqImYkrZZ0zYKfHy7plPbP6yUdEhGRmbdk5hfUFHk/IzO/kpnXdmz3GZJO3b5dBwAA2PFMrbjLzKslvU3SlZKulXRTZp65YNiekq5qx48k3SRp7fZsNyJ+UdI+ks7annkAAAB2RNN8W3Y3NVfm9pG0h6Q1EXHUtLY3z5GS1mfmZj/pGxHHRsSGiNgwGnV/GBgAAGBHMs23ZR8j6fLMvC4z59R8Bu7hC8ZcLWkvSWrfut1V0vXbud0jtYW3ZDPz5Mxcl5nrZmaG27kpAACApWWaxd2Vkg6OiNXRfK/7EEmXLRhzuqSj2z8fIemstLMGfl5EPFDSbpK+vK1zAAAA7Mim+Zm7c9R8SeI8SRe32zo5Ik6IiCe1w94naW1EbJT0ckmv2vTvI+IKSW+X9OyI+E5E7N/e/taI+I6k1e3tb5i32SMl/eP2FIgAAAA7sljOddDqNavygQfsW2QudxWdatrOSXUHGmmMbmjmilnv9wErxLigkRtibK7ZoOSvPWbws3MQuY/TYDjxtlnQkg0xLjiX+5xzn5pOiHGaD+XACZsezFpz+Rm63Z9bHo/NO1AwXXawpEOMnbm8yYqeZe3XE+cFpewm+7BUQ4zP/+rF52bmuq5xy7pDRchMpXcmM49S6zRXOkLbGJfmRufmvBP1zEz3Ru0+HE6Iv7n+9gnYGGg/+e1zZveMgz6S64sqfHAb07llrrPFsfuLl/nLzaRkJxfjOTAo+AthM6z7BWl26L3MzI1+4m3U4p4Puj93Pdn8d/N+fovm0g6MbRaveayuEt4zxTq27af50v1lz7kL4c5mXdXxpnLRWxYAAKAiFHcAAAAVobgDAACoCMUdAABARSjuAAAAKkJxBwAAUBGKOwAAgIpQ3AEAAFRkWYcYp7zw27Ip4MYYN7/VLM2t6dxEfW+Ybrute8yq1QXjJN3QVTuctZsTdLw1rNkGXqCqw06H7yM32Q0LNsYUzADWxEwxdkO1h8PuQNvR3Jw1V8x63SccdoeNiXNGcAOFza4SMrpKmPpokFB0m/Zz0xnovaCEMcy+j+YLitUUwzwfu6HUMsKa3fD/cLsUFcSVOwAAgIpQ3AEAAFSE4g4AAKAiFHcAAAAVobgDAACoCMUdAABARSjuAAAAKkJxBwAAUBGKOwAAgIos6w4VIS/VemIkVRfNn+6jI4DJ3bWZFd1r9hOji4UkxbB7q4PSWfNOInrxbZZ74O3uE9Zk5jivrUfhjXYznr7NFo20fPu3YfOxDGM9hrPeadpafvPAsB9y436Gu/7mwIHTyaLoE6CsdDskWJN5wyK6O6HYx6yx0cm4XBeRZqPl2mK4Z6AwusdMxt5jmU4N4T5RTFy5AwAAqAjFHQAAQEUo7gAAACpCcQcAAFARijsAAICKUNwBAABUhOIOAACgIhR3AAAAFaG4AwAAqMiy7lAhhZV8HeqOrk9jjOQlursR2nY/Ayf4umB3BFfMlmt9EJMe9r/wmg0GznHWg6J3s/A9MKZzuzKMjRT5YfHnidP9xtvmZNKdll/6+LE6H7hzFewwMLbvqXHeLvyYlz1vFJzLbOUyie41i8GOf90ojeeTvfzWecqcy7TjPwIAAAD4LxR3AAAAFaG4AwAAqAjFHQAAQEUo7gAAACpCcQcAAFARijsAAICKUNwBAABUZFmHGKdSk4kTHGukC5rBlFkuw9iO6XR2zbqPW8EJXs2xd09j0L1vaa6/GwjrjHJCh4szHyY3uNfhrllJ7t5bd9OerHvIyAk2lTQ7O1tsm/YxOzBO5+ZaTDTytulNZ85V8Bw68a5bpJucbPDDiZ1EW/O6i30+6D5uY+AFUjv3snhYdg9zOZnOMTADxoueqDxcuQMAAKgIxR0AAEBFKO4AAAAqQnEHAABQEYo7AACAilDcAQAAVITiDgAAoCIUdwAAABWhuAMAAKjIsu5QIXlJ/oOZpblMmV6KfOm08GIbHXp7VnKU//tMuUz0kt0i3Km8bZr30dyoldBfuNmF01ll4kTNm3PZd8DtWGNt0dv/idE9o2RXG0lyAvpHRncESV7rCUmDidFJoWTniWIztZzuE/YDtV17sk0iutc/5T3m7u6Hcd7OdDsGmZ04BgWfT0OnYxMdKgAAAHAnKO4AAAAqQnEHAABQEYo7AACAilDcAQAAVITiDgAAoCIUdwAAABWhuAMAAKgIxR0AAEBFlmbrhUXkhO+PfzLXPchIoJZkRXK7qd1moLs339ir84czXrr3xMnuLhjInXK7dZhp+UZEvxu876T4u9xuF1a3iMKsPXMf84Lj3DVzhrndIvyuHtYob5vGZKV/mx9PursCDAfeVsduQr+1HF63gqLPErsTTfdWwzxpTCbeeS8G3nnb4ZxDw1xZ+7XOeN5FeMeZ/RpgdBLxz7Pdx2MMyz47uXIHAABQEYo7AACAilDcAQAAVITiDgAAoCIUdwAAABWhuAMAAKgIxR0AAEBFKO4AAAAqsrxDjFNeWKoTPFwwDXMwYz4sJTM/zVF2TuciC3khnWkmP4cTjms+5uOCixbm72NOcO9g4IV5DtyD21gQJ4zUnEqS+bwz939g7Jv9UNoPuRFoWzT52Y+NLTXKDSd2g3vTCigueD/LZRM30xnp58XPsxMzuNdhPE5uiLH9GmZM5x0X/jYd7nNzYoR9DwoGTUtTvnIXEcdFxKURcUlEnBoROy34+cqI+HBEbIyIcyJi73k/e3V7+zcj4rB5t7+0ne/SiHjZvNvfEBFXR8QF7X+Pm+Z9AwAAWIqmVtxFxJ6SXiJpXWYeKGko6cgFw46RdGNm7ivpJEkntv92/3bsAZIeK+k9ETGMiAMlPVfSQyX9sqQnRMS+8+Y7KTMPav/75LTuGwAAwFI17c/czUhaFREzklZLumbBzw+XdEr75/WSDommWdvhkv4xM+/IzMslbVRT0D1I0jmZeWtmjiR9XtJTp3wfAAAAdhhTK+4y82pJb5N0paRrJd2UmWcuGLanpKva8SNJN0laO//21nfa2y6R9BsRsTYiVkt6nKS95o17UURcFBF/GxG7TeFuAQAALGnTfFt2NzVX4PaRtIekNRFx1PbMmZmXqXnr9kxJn5Z0gaRNnxR9r6T7STpITTH553eyX8dGxIaI2DAaFfyQKQAAwBIwzbdlHyPp8sy8LjPnJJ0m6eELxlyt9spb+9btrpKun397697tbcrM92XmgzPzNyXdKOk/2tu/l5njzJxI+ms1b+P+nMw8OTPXZea6mZmy304BAADo2zSLuyslHRwRq9vP0R0i6bIFY06XdHT75yMknZVNhsPpko5sv027j6T9JH1VkiLiHu3/76Pm83b/0P79XvPmfYqat3ABAACWlanl3GXmORGxXtJ5kkaSzpd0ckScIGlDZp4u6X2SPhARGyXdoPbbtJl5aUT8k6Svt//2hfnTcKCPRsRaSXPt7T9sb39rRBykJsXmCknPm9Z9AwAAWKrCCTut1erVq3K/B96ve6CRaBvDcinGvYQYTwqmMMsLqy176Jmhq26IcbFBUsnUTDfE2Nnmkg4x9raonHSPHJkhus4B6Z4vZ2dmvW0aa+sGpY6NcFw7XLbk4+Sep8wQ46144hn6CDFe/Nfcomd3K8TYPE8VXNvyIcbd98E9NU6MEGk3xPi8r150bmau6xq3vDtUhLxWBCWfGcZck/HImmoQ5boyhHnCKRi83wu/HjNe6Iv2/nCZj4Bxbs2J+ZnTodlhwGsX4c1lHo9jp4i1ZvK6YszMekVbyYT+iVG0NdsstEF7VGFu0WPVYz3cg5KbLH3+LNlBKbufURluoWWeg5zXaZf71HS6etivwd1jnAJwa9BbFgAAoCIUdwAAABWhuAMAAKgIxR0AAEBFKO4AAAAqQnEHAABQEYo7AACAilDcAQAAVITiDgAAoCLLu0OFJK+vidGtwAzkdgKt7XT7iVmbG+ne5TtPOAPtJlPuRo2ZyrWisqfyhpkrVq5bhNsGaTTyDm5n/2dm3ER6t/tH93xumzWn44iVWi9JZiuhok+THZzfoMJoB+lu0xizRJvtNEq273LnstqPmZ0bBt65pWjLtoIP6GRcrqtE6a50XLkDAACoCMUdAABARSjuAAAAKkJxBwAAUBGKOwAAgIpQ3AEAAFSE4g4AAKAiFHcAAAAVIcTYCDR0QoXt/EEns9EIHZakMMeNJ6POMYOBeSjYd3SRk1cL5yEPhuWSLp1AYUnKcbk1czaZ1sHoB4g6o+bmuo9FyQ/ydo5b99ieG891D7LTcZdouGkPibwlQ7xLb7OoksnJhc0MZjvH2KHmRnDv7NAMMTavL02i+1w1mZidBPo4OHpIy+bKHQAAQEUo7gAAACpCcQcAAFARijsAAICKUNwBAABUhOIOAACgIhR3AAAAFaG4AwAAqAjFHQAAQEXoUFGIHU7uhGibJfc4vbR/Z+eKp8g7A82NOlNNzC4Qdtx/D0n+MTQT1g056b6fMfSe/jk2jzNnLvdhMg8OZ1yYc4XRySKNbi9SP10ZSm6vZFcM96lZcj7rPNsTp/uK2XzI36Yx39g4Z0jSYND9AuX2ZxmYz5RBdG9zYnfcsYaVVfD10MWVOwAAgIpQ3AEAAFSE4g4AAKAiFHcAAAAVobgDAACoCMUdAABARSjuAAAAKkJxBwAAUBFCjA1WtqAdQNg90AmJlKTJuFwgb8oLZ42YtcallSLqJtoaoZ9uUOrAW7PJXPeEMyu8x8kO5M2hNc7i3M8e8pzd4GR339JIJPVDS42BhQN5i+aWFgwrdznzuYG8MfAW1wuu9njPzbIPetHHwJxs7Aw013886n6tGLoB6eaJ23kOD8xtOvsvLf7rfulwZa7cAQAAVITiDgAAoCIUdwAAABWhuAMAAKgIxR0AAEBFKO4AAAAqQnEHAABQEYo7AACAilDcAQAAVGTZd6golT0eQ3MmI5Hb7TzhJro70dd2OLYbN2/83hB2dL25Sce4XAq+myjudqiwJrRbcZQTAzNt3lqzsjHs3pKZHUKcY9aaSYqB121kMhkbk5kbdZRuUVFwk1E6ot/hbNK+BOI9UEWfweZks0bXozvm5optNAbGcS3/HDq2pit7/JR9nIw1K7z/XLkDAACoCMUdAABARSjuAAAAKkJxBwAAUBGKOwAAgIpQ3AEAAFSE4g4AAKAiFHcAAAAVobgDAACoyLLvULHYnNRrt9uF28nCGmWGY08GI2vcMLoPrYm3SY1H3fHkA7NzQ5jjhrPd48bpJbpHer9DOR0SBgVTzP3OGd4w5/EcDMxH3Vwz7+F0Owd039Gh2a3DPbYdblK+1a3DncscVzLFf9JDwxr3fFCUs8ksd8xK0k9Gxnnb7XZhnBvdTjRul6WB8VpX8jlnK3swFpyMK3cAAABVobgDAACoCMUdAABARSjuAAAAKkJxBwAAUBGKOwAAgIpQ3AEAAFSE4g4AAKAihBgbnDjGPrIw3QDFMO6AG1qaZlLk2Ag7nphzxaD7dxB/+c3gZzNE1JrLeQAkhbrDmjPK/T4WZuxn0UBbO4PZ27eJkXw7GAytuZzncJpP9BybAdfWqIJKpxgXVHQtCk5m5vF6J1pJYeyc/zCZI0smXBsDB2Y4sWtirK2zrpLsB7TkU8A6bexIIcYRcVxEXBoRl0TEqRGx04Kfr4yID0fExog4JyL2nvezV7e3fzMiDmtve0BEXDDvvx9FxMsWzPmKiMiIuPs07xsAAMBSNLXiLiL2lPQSSesy80BJQ0lHLhh2jKQbM3NfSSdJOrH9t/u3Yw+Q9FhJ74mIYWZ+MzMPysyDJD1Y0q2SPjZvm3tJOlTSldO6XwAAAEvZtD9zNyNpVUTMSFot6ZoFPz9c0intn9dLOiSaZn+HS/rHzLwjMy+XtFHSQxf820MkfSszvz3vtpMk/ZF6eVMBAACgf1Mr7jLzaklvU3MV7VpJN2XmmQuG7Snpqnb8SNJNktbOv731nfa2+Y6UdOqmv0TE4ZKuzswLC94NAACAHco035bdTc0VuH0k7SFpTUQcVWjuFZKeJOkj7d9XS3qNpOONf3tsRGyIiA2jUfcH2AEAAHYk03xb9jGSLs/M6zJzTtJpkh6+YMzVkvaSpPat210lXT//9ta929s2+W1J52Xm99q/309NEXlhRFzRjj8vIu65cKcy8+TMXJeZ62ZmvG/RAQAA7CimWdxdKengiFjdfo7uEEmXLRhzuqSj2z8fIemszMz29iPbb9PuI2k/SV+d9++eoXlvyWbmxZl5j8zcOzP3VvM27q9k5nencccAAACWqqnl3GXmORGxXtJ5kkaSzpd0ckScIGlDZp4u6X2SPhARGyXdoPbbtJl5aUT8k6Svt//2hZk5lqSIWCPptyQ9b1r7DgAAsKOKtBMa67N6zaq8/4Pu1znOWaHB0AsgLBlT6AS4SrLuQOmjwMnatUOMjcmKX4I2AiXTCB1uJys3qo8Q44IHR+nQ3sUOMXaORUmamCHGJVk5tWVzXpeuXkKMvWEDJ8TYDFH3H6ZyIcbDGSNUvvATfTTXfa6y12IHDzG+4GuXnJuZ6zqnW87FXURcJ+nbC26+u6Qf9LA7aLD+/WL9+8dj0C/Wv1+s/5b9Ymbu3jVoWRd3mxMRG5yqGNPB+veL9e8fj0G/WP9+sf5lTDvEGAAAAIuI4g4AAKAiFHc/7+S+d2CZY/37xfr3j8egX6x/v1j/AvjMHQAAQEW4cgcAAFARijsAAICKUNxtpYhY2fc+oNG2tQOAXnAOWlyst4/ibitExBMlvSoi7tb3vixHEfGgiHhwROwmSZmZPNkXT0TsFRH373s/lrOIeHxEHNH3fixXEfFrEfGMiDhUas5Bfe/TMjMrSRExtdaptaC4M0XEoyWdJOkrmXnDgp9RYExZRDxZ0gclvUJNgf2aiAgKvMXR/mJzmqT3R8Q7ImLvfvdo+WkLihPV9OHGIouIJ0l6j6TfkHR0RDxk3s84B01ZRDxF0kUR8YuZOYoIr6/gMkVx5ztE0tsz84yIuEd7BekACozpi4hdJf2hpKMz83clfVnSUyW9edP697qDlYuI31RTVPyBpMdI2l3Ss/vcp+UmIh4h6W8kPTszz4qInSNi9/lXMDgHTU9E3FXSS9Scg14g6UZJ946IPSXeRZi2iNhf0uskXS7pCxGxd2aOKfDuHJc2fbeoeUJL0j9LukbSSNL3I+KlFBhTNSvpbpJ2av/+KUlPkbSHpBdIendP+7Vc7CbpzzPzQkmKiDdLel17Yp1w7C+KWUlrJN3WfizhQ2p+Ob8yIs7IzI/yOExVSLqLpF3a9T9M0j6Snh4R10t6Ces/VXdIemtmfjgi3iDpyxHxsMy8IiJmMnMkNb/g8Dg0uHK3BRGxW0SsaP96gaQTIuJvJb03M4+Q9CZJd5X0sL72sWbtZ+x2yswfSPqApLdGxOGSTmiHnC5p3952sHIRMRMRg8z8uKSPb7qt/fF9JK1sr1js1ttOVi4iBhExzMzPSjpG0hmSvirpY2qunn5d0mMjYuf+9rJeEfGIiHhkZt4o6e8lvVfSZyV9MDMfL+nNan7x/LX+9rJe7WvAqsz8lqR/kaTMfIOk/6OmwNunfYv2Qe3PKOxaFHd3ov2M0QckfSIi1mXmJ9W8NXWY2iuemXlJO3yXfvayXhFxmKS/krRXe9PfSTpV0pPUFBVHZ+Z6SQfwBZfyIuLxal7IPhIR92oLbEkaS/qupBsz89aI+D1J/zMidrqzubBt2s+ZvkvShyJi/8z8Z0lHSfqrzPzrzPyumsfovpLu0eOuVikiHiPpM5JOaQuM96r5vN2nJJ0tSZl5sZqrerv2tqOVmvcasOmt71sjYtD++Y1qCryzIuJ1kt7CL5k/i7dlNyMiHi7pf0t6jqTHSXpjW+ydIukXJB0fEVdJupekB0n6Zl/7WqN2rY+X9OLM/E9JysybJf11RPzdvEvwR0laKeknve1shSLiCZL+RM2XV56m5ksUh2XmpL1Sd6Ok6yPiNZJ+R9JRmXl7j7tcnYj4b2q+wPVcSY9Q8/nSj0pan5mfmzf08ZJWS/rRou9kxdpfbt4o6VA1v1A+XdL7M/OGiLhQ0msjYk7SPSXtp+YKKgpZ8BqwcdPtmTnZ9DZsZr6x/SzqcZIe3V5dRYvibvPWSTo7MzdExDWSflXSWyR9WtJfSLpI0hPUfBbp9zPz8t72tDLt2+Avk3RbZn4lItaqefvpnmreFvlGO+6odtwxbeGHAtovrxwp6Y/aD+5/V9IbJL04Iv5V0lVqiolDJT1E0hMz8z/62t+K3UfSee3bsZ+NiKdL+m1J44hYr+YXmmMlvUjSM+ZdWcV2ioi9JD1P0isz83MR8etqvlD3/nbIZ9Q8Pn8u6WY15yBeAwq5k9eAo/XT14BvtuN+Q81b4o9sr6BiHnrLbkb77cA/lnSJpN9V85bgrZIOkPSxzDxt0zejeI+/vIjYQ9I7JaWab2aeqeYq6f0l/XFmnt9e2biZk2pZ7XF998y8rn2b49/VvAV1vaSDJb0+M7/WXrU7fd5HE1BQ+1GDv5X07sz8THvb70j6PUkvzcz/FxH/Q9LFmclVo4IiYo2knTPze+3fd1bzDf33tG/Nbhp3V0lzmXlLP3tar4i4l5rYmbHu/DXgvpJ+kpnf6W9Ply6Ku1ZEPFbNZ+c+ouZbUQ+TdKCkgzPz6e2Y56u5YvG0zJz0ta81mrf+H8/MO9on90cknZGZf9KOeZOke0t6DkV1We367yrpo/Pe9t5d0v0y8yvt398k6T6Z+az2Q/7j/va4PvOfA5Imkv5IzbdkP56Z57djTlRTeLywtx2tVET8qppvJGdmnt3eNpuZc20hfbCk10q6nfN/efPWPzLz/0bEPSWt18+/Buyp5h0zXgO2gLdl1XwjTdKLJf2ims+unNHm2X1R0v0i4iGZ+TVJ16m5grdCEp8xKmTB+t8UEZ/LzGsj4nGZ+aP2G5sTSVeqWXsUtGD9b4yIz2fmHZl5naTr5hVyV0ha1cYNUNgVtPAclJmfjogPSnq5pMMjYs/M/ISkb6n5jBcKiojflvRnaoqJp0bEq/EM5yMAAAgJSURBVDLzk5k51w75hqRXS3pIZn6+r/2s1WbW/9WZ+a8R8ThJP54XccJrgIniTv/1Ic1z1OSo/U81nyk6Tc1BdIekF7QREL8sPjxe3GbWf42a9b913s+frebD5c/mN7ayFqz/H0naWdJpm4q6bMJCj1bzOSTWfwoWPgciYufMXB8R71KT6fiHEfGHar7A9dQ+97U2EXGQmiSE52fmv7dflJhrC+qrJSkzL2w/6/jy9pf+Mc+DMpz1b8c9R7wG2Jbt27KbfhPY9AIWEY9U86I2UvNhzi+rCS7+uKS91bzXf8b8b+5g2xnr/0U1L3RvkvQASf9L0vF8cLaMrVj//y3pwZJeKem1rH85HY/BcZK+pOaXy3epidt4sKT/nP+Ch203b/0foua18KsRcQ9Jl+mnn/E6u43d2PRZ4FFmfr+/va7H1qx/WwDyGrAVlnPO3aZstE3V7e2SXpSZn5a0QU2rk3tm5n9m5mcy890UdkV1rf/rJc1m5m1qnuxH86Quyl3/W9q//x7rX9yWHoOvqTkHrc3MmzPzx5n5OQq7ou4mSZn5tbawWKnmKukrMvMZkp4l6Q/auA1l5jUUdkW56/8wNd+Q5TVgKyzLt2XbDKM/jogL1Hym6L3ZfOX6/GiCE5+mJmPq19uxn+IDtOWY6/8Xatb/iZn5L2quYKCAbVx/FLQN56BP8lZUOfPW/0JJ31PzTdgbIuLDmfnD9mrqlRFxutqPh6CcrVz/cftL/m297vQOZtkVdxHxADVfsf59NZ+pe6Sk9dEEt4aa9PGnZuY/R8QRki6hsCtnG9b/or72tUasf/+28RxEYVfIZtb/EZI+FhFHZBMBNGjfJn+6mm/IvrXH3a0O6784lt1n7trPTRyfmX8YTePzUNMf8AA1rX3ukpnf7nMfa8b694v17x+PQb/uZP3fJOmhamKuboyIYyW9QNIzM/PSHne3Oqz/4liOn7mbSDo4Io5uvwk4UpNddJmab+F8O5pm3dHvblaL9e8X698/HoN+bW79j1fz2dLntGO+p+bqKYVFeaz/IlhWb8u23875bkS8UE2/zNsy858kzan5ZtrDpCaWoM/9rBXr3y/Wv388Bv3qWP9zJP2aJGXmx/vcz1qx/otn2Vy5a9/Hz/b/X5T0QkknRsSmpOu7SjowItbwG3N5rH+/WP/+8Rj0y1z//Vn/6WD9F1fVn7lr39ufyyZpX7GgZVI0X7F+u6SvS/oNNZeB6ZVZCOvfL9a/fzwG/WL9+8X696fa4i6aPo1vVtM25l6SHrXpG2ftbwWRTSr8WjU5U7PZNorG9mP9+8X694/HoF+sf79Y/35V+bZsRPympL+U9ApJz5R0tZqkfUlNV+j2oNojM6/PzBs4qMph/fvF+vePx6BfrH+/WP/+VVfcRdMD9r6SXp2ZZ2XzweR/UNPWZ9OYYUTsJ+ndEbGmp12tEuvfL9a/fzwG/WL9+8X6Lw1Vvi0bTX+6mcy8pv37gZLenZmPWDBut8y8sY99rBnr3y/Wv388Bv1i/fvF+vevuit3kpSZ3593UIWaXJ217d+fGxHvbYfe1NMuVo317xfr3z8eg36x/v1i/ftXZXEnNV+7bv84lLRR0rkR8buSjpH0XoksqWli/fvF+vePx6BfrH+/WP9+Vfm27CYR8ShJT5f0Gknfaf97SmZe1uuOLROsf79Y//7xGPSL9e8X69+fmq/c7avma9ify8wfSvpHSU/ioFocrH+/WP/+8Rj0i/XvF+vfr2qv3EXE7pL2yMwL27+vyszbet6tZYP17xfr3z8eg36x/v1i/ftVbXG3SURE1n4nlzDWv1+sf/94DPrF+veL9e9H9cUdAADAclLtZ+4AAACWI4o7AACAilDcAQAAVITiDgAAoCIUdwCWnYi4ecrz/01E7N/++TXb8O/3johLyu8ZgOWAb8sCWHYi4ubM3Hmpbisi9pb0icw8cCo7BaBqXLkDAP3X1bKzIuKiiPi/EXGf9va/j4h3RMSXIuL/RcQR7e2DiHhPRHwjIj4TEZ+c97PPRcS6iHiLpFURcUFEfGjhFbmIeGVEvKH984Mj4sKIuFDSC+eNGUbEn0XE19p9e94iLguAHRDFHQA03inplMz8JUkfkvSOeT+7l6Rfl/QESW9pb3uqpL0l7S/p9yQ9bOGEmfkqSbdl5kGZ+cyO7f+dpBdn5i8vuP0YSTdl5kMkPUTScyNin625YwCWF4o7AGg8TNI/tH/+gJpibpN/zsxJZn5d0i+0t/26pI+0t39X0tnbuuGIuKuku2bmv83b/iaHSnpWRFwg6RxJayXtt63bAlC/mb53AAB2AHfM+3Nsxzwj/ewv1TsZ/ybUXNE7Yzu2C2AZ4codADS+JOnI9s/PlPTvHeO/KOlp7WfvfkHSI+9k3FxEzLZ//p6ke0TE2ohYqeZtXmXmDyX9MCI2XS2c/xbuGZKev2mOiLh/RKzZivsFYJnhyh2A5Wh1RHxn3t/fLunF0v9v5w5xIoqhKIDea1A4loNkA3jULIINwC4IGVaAQ7EExAgEwRMUigRfxHwxggQyBlLOkU3TtO7m5b3mpu15krckq2/OuE1ykuQpyUuSTZL3L/ZdJXlsuxljnLW9SPKQ5DXJ886+VZJ125Hkfmf9Otvevk3bLnc7/dErgX/JVygAe2p7OMb4aHuUbWA7XvrvAH6Nyh3A/u6WYYiDJJeCHfAXqNwBAEzEQAUAwESEOwCAiQh3AAATEe4AACYi3AEATES4AwCYyCe7ox4PT903KQAAAABJRU5ErkJggg==\n",
      "text/plain": [
       "<Figure size 720x852.245 with 1 Axes>"
      ]
     },
     "metadata": {
      "needs_background": "light"
     },
     "output_type": "display_data"
    }
   ],
   "source": [
    "from utils.data_cube_utilities.dc_mosaic import create_max_ndvi_mosaic\n",
    "from utils.data_cube_utilities.dc_rgb import rgb\n",
    "max_ndvi_mosaic = create_max_ndvi_mosaic(cleaned_dataset, clean_mask)\n",
    "rgb(max_ndvi_mosaic)"
   ]
  },
  {
   "cell_type": "markdown",
   "metadata": {},
   "source": [
<<<<<<< HEAD
    "## <a id=\"export\">Export the Mosaic to a PNG and a GeoTIFF</a>"
=======
    "## <span id=\"export\">Export the Mosaic to a PNG and a GeoTIFF [&#9652;](#top)</span>"
>>>>>>> origin/pre-release
   ]
  },
  {
   "cell_type": "markdown",
   "metadata": {},
   "source": [
    "**Export to PNG**"
   ]
  },
  {
   "cell_type": "code",
<<<<<<< HEAD
   "execution_count": 15,
=======
   "execution_count": 14,
>>>>>>> origin/pre-release
   "metadata": {},
   "outputs": [],
   "source": [
    "from utils.data_cube_utilities.dc_utilities import write_png_from_xr\n",
    "import os\n",
    "png_dir = 'output/pngs'\n",
    "if not os.path.exists(png_dir):\n",
    "    os.makedirs(png_dir)\n",
    "write_png_from_xr('{}/NDVI_Phenology_Max_NDVI_Mosaic.png'.format(png_dir), max_ndvi_mosaic, ['red','green','blue'], scale=(0,4000))"
   ]
  },
  {
   "cell_type": "markdown",
   "metadata": {},
   "source": [
    "**Export to GeoTIFF**"
   ]
  },
  {
   "cell_type": "code",
<<<<<<< HEAD
   "execution_count": 16,
=======
   "execution_count": 15,
>>>>>>> origin/pre-release
   "metadata": {},
   "outputs": [],
   "source": [
    "from utils.data_cube_utilities.import_export import export_xarray_to_geotiff\n",
<<<<<<< HEAD
    "geotiff_dir = 'geotiffs'\n",
=======
    "geotiff_dir = 'output/geotiffs/NDVI_Phenology'\n",
>>>>>>> origin/pre-release
    "if not os.path.exists(geotiff_dir):\n",
    "    os.makedirs(geotiff_dir)\n",
    "export_xarray_to_geotiff(cleaned_dataset, \"{}/NDVI_Phenology\".format(geotiff_dir))"
   ]
  }
 ],
 "metadata": {
  "kernelspec": {
   "display_name": "Python 3",
   "language": "python",
   "name": "python3"
  },
  "language_info": {
   "codemirror_mode": {
    "name": "ipython",
    "version": 3
   },
   "file_extension": ".py",
   "mimetype": "text/x-python",
   "name": "python",
   "nbconvert_exporter": "python",
   "pygments_lexer": "ipython3",
<<<<<<< HEAD
   "version": "3.5.4"
=======
   "version": "3.6.6"
>>>>>>> origin/pre-release
  }
 },
 "nbformat": 4,
 "nbformat_minor": 2
}
