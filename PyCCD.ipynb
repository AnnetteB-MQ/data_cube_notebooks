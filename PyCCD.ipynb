{
 "cells": [
  {
   "cell_type": "markdown",
   "metadata": {},
   "source": [
    "<a id=\"top\"></a>\n",
    "# PyCCD\n",
    "<hr>\n",
    "\n",
    "# Notebook Summary\n",
    "\n",
    "PyCCD is an abbreviation of \"Python Continuous Change Detection\". It is a Python implementation of the land change detection algorithm presented in the paper \"Continuous Change Detection and Classification of Land Cover Using All Available Landsat Data\" by Zhe Zhu and Curtis E. Woodcock.\n",
    "\n",
    "<hr><hr>\n",
    "\n",
    "# Outline\n",
    "\n",
    "* [Import Dependencies and Connect to the Data Cube](#import)\n",
    "* [Choose Platform and Product](#plat_prod)\n",
    "* [Get the Maximum Extents of the Cube](#extents)\n",
    "* [Define the Extents of the Analysis](#define_extents)\n",
    "* [Load Data from the Data Cube](#retrieve_data)\n",
    "* [Run PyCCD](#run_pyccd)\n",
    "* [Plot Change Volume and Detection Dates](#plot_cng_det_dates)\n",
    "* [Validate Changes](#validate)\n",
    "\n",
    "<hr><hr>"
   ]
  },
  {
   "cell_type": "markdown",
   "metadata": {},
   "source": [
    "## <span id=\"import\">Import Dependencies and Connect to the Data Cube [&#9652;](#top)</span>"
   ]
  },
  {
   "cell_type": "code",
   "execution_count": null,
   "metadata": {},
   "outputs": [],
   "source": [
    "%matplotlib inline\n",
    "import datacube\n",
    "import utils.data_cube_utilities.data_access_api as dc_api\n",
    "import datetime as dt\n",
    "\n",
    "# Supress Warning \n",
    "import numpy as np\n",
    "# import warnings\n",
    "# warnings.filterwarnings('ignore')"
   ]
  },
  {
   "cell_type": "code",
   "execution_count": null,
   "metadata": {
    "scrolled": true
   },
   "outputs": [],
   "source": [
    "api = dc_api.DataAccessApi(config = '/home/localuser/.datacube.conf')\n",
    "dc = api.dc"
   ]
  },
  {
   "cell_type": "markdown",
   "metadata": {},
   "source": [
    "## <span id=\"plat_prod\">Choose Platform and Product [&#9652;](#top)</span>"
   ]
  },
  {
   "cell_type": "code",
   "execution_count": null,
   "metadata": {},
   "outputs": [],
   "source": [
    "# List NetCDF products\n",
    "print(\"NetCDF Products:\")\n",
    "products_info = dc.list_products()\n",
    "netCDF_products = products_info[products_info['format'] == 'NetCDF']\n",
    "netCDF_products"
   ]
  },
  {
   "cell_type": "code",
   "execution_count": null,
   "metadata": {},
   "outputs": [],
   "source": [
    "platform = \"LANDSAT_7\"\n",
    "product = \"ls7_ledaps_bangladesh\""
   ]
  },
  {
   "cell_type": "markdown",
   "metadata": {},
   "source": [
    "## <span id=\"extents\">Get the Maximum Extents of the Cube [&#9652;](#top)</span>"
   ]
  },
  {
   "cell_type": "code",
   "execution_count": null,
   "metadata": {},
   "outputs": [],
   "source": [
    "from utils.data_cube_utilities.dc_load import get_product_extents\n",
    "\n",
    "full_lat, full_lon, min_max_dates = get_product_extents(api, platform, product)\n",
    "\n",
    "print(\"Lat bounds:\", full_lat)\n",
    "print(\"Lon bounds:\", full_lon)\n",
    "print(\"Time bounds:\", min_max_dates) "
   ]
  },
  {
   "cell_type": "code",
   "execution_count": null,
   "metadata": {},
   "outputs": [],
   "source": [
    "from utils.data_cube_utilities.dc_display_map import display_map\n",
    "\n",
    "# Display the total shared area available for these datacube products.\n",
    "display_map(latitude = full_lat,longitude = full_lon)"
   ]
  },
  {
   "cell_type": "markdown",
   "metadata": {},
   "source": [
    "## <span id=\"define_extents\">Define the Extents of the Analysis [&#9652;](#top)</span>"
   ]
  },
  {
   "cell_type": "markdown",
   "metadata": {},
   "source": [
    "**Specify start and end dates in the same order as platforms and products**"
   ]
  },
  {
   "cell_type": "code",
   "execution_count": null,
   "metadata": {
    "scrolled": true
   },
   "outputs": [],
   "source": [
    "# time_extents = ('2000-01-01', '2016-01-01')"
   ]
  },
  {
   "cell_type": "markdown",
   "metadata": {},
   "source": [
    "**Specify an area to analyze**"
   ]
  },
  {
   "cell_type": "code",
   "execution_count": null,
   "metadata": {},
   "outputs": [],
   "source": [
    "######### Bangladesh ############################\n",
    "# longitude_extents = (90.031428,  90.040565) \n",
    "# latitude_extents  = ( 25.225266, 25.232605)\n",
    "\n",
    "######### Colombia - Cartegena ##################\n",
    "# longitude_extents = ( -74.8567, -74.8318 )\n",
    "# latitude_extents = (1.326481586145379,  1.3424)\n",
    "latitude_extents =  ( 1.3255, 1.33) \n",
    "longitude_extents =  (-74.8567, -74.8422)\n",
    "\n",
    "######## Ghana ##################\n",
    "#longitude_extents = (  -2.2622,  -2.2039)\n",
    "#latitude_extents = (8.2390, 8.2867) \n",
    "\n",
    "#latitude_extents = (8.2631, 8.2834)\n",
    "#longitude_extents = (-2.2486, -2.2229)\n",
    "\n",
    "# longitude_extents = (-2.4026, -2.3484)\n",
    "# latitude_extents = ( 8.1386,  8.1872)\n",
    "\n",
    "# ######### Vietnam ################## \n",
    "# longitude_extents = (108.02, 108.15) # Buan Tau Sanh Lake\n",
    "# latitude_extents  = (12.18 , 12.30) # Buan Tau Sanh Lake"
   ]
  },
  {
   "cell_type": "markdown",
   "metadata": {},
   "source": [
    "**Visualize the selected area**"
   ]
  },
  {
   "cell_type": "code",
   "execution_count": null,
   "metadata": {},
   "outputs": [],
   "source": [
    "display_map(latitude = latitude_extents, longitude = longitude_extents)"
   ]
  },
  {
   "cell_type": "markdown",
   "metadata": {},
   "source": [
    "## <span id=\"retrieve_data\">Load Data from the Data Cube[&#9652;](#top)</span>"
   ]
  },
  {
   "cell_type": "code",
   "execution_count": null,
   "metadata": {},
   "outputs": [],
   "source": [
    "landsat_dataset = dc.load(latitude = latitude_extents,\n",
    "                          longitude = longitude_extents,\n",
    "                          time=time_extents,\n",
    "                          platform = platform,\n",
    "                          product = product,\n",
    "                          measurements = ['red', 'green', 'blue', 'nir', 'swir1', 'swir2', 'pixel_qa']) "
   ]
  },
  {
   "cell_type": "markdown",
   "metadata": {},
   "source": [
    "> ### Examining the size of our extent.  \n",
    "> The compute time of pyCCD scales sharply with extent sizes. Seemingly small areas can take anywhere from 10-15 minutes to process."
   ]
  },
  {
   "cell_type": "code",
   "execution_count": null,
   "metadata": {},
   "outputs": [],
   "source": [
    "landsat_dataset\n",
    "#view the dimensions and sample content from the cube"
   ]
  },
  {
   "cell_type": "markdown",
   "metadata": {},
   "source": [
    "## <span id=\"run_pyccd\">Run PyCCD[&#9652;](#top)</span>"
   ]
  },
  {
   "cell_type": "markdown",
   "metadata": {},
   "source": [
    ">### Import Library  \n",
    "The library exposes three functions: `process_xarray`, `process_pixel`, `plot_pixel`  "
   ]
  },
  {
   "cell_type": "code",
   "execution_count": null,
   "metadata": {},
   "outputs": [],
   "source": [
    "import utils.data_cube_utilities.dc_ccd as ccd"
   ]
  },
  {
   "cell_type": "markdown",
   "metadata": {},
   "source": [
    "> ### Timed Calculation of change volume  \n"
   ]
  },
  {
   "cell_type": "code",
   "execution_count": null,
   "metadata": {},
   "outputs": [],
   "source": [
    "%time ccd_product = ccd.process_xarray(landsat_dataset, distributed = True) #Run process xarray on large dataset"
   ]
  },
  {
   "cell_type": "markdown",
   "metadata": {},
   "source": [
    "## <span id=\"plot_cng_det_dates\">Plot Change Volume and Detection Dates[&#9652;](#top)</span>"
   ]
  },
  {
   "cell_type": "markdown",
   "metadata": {},
   "source": [
    "> ## Plotting change volume  \n",
    "> Plot change volume to identify regions/areas of change"
   ]
  },
  {
   "cell_type": "code",
   "execution_count": null,
   "metadata": {},
   "outputs": [],
   "source": [
    "def figure_ratio(ds, fixed_width = 22):\n",
    "    width = fixed_width\n",
    "    height = len(ds.latitude) * (fixed_width / len(ds.longitude))\n",
    "    return (width, height)"
   ]
  },
  {
   "cell_type": "code",
   "execution_count": null,
   "metadata": {},
   "outputs": [],
   "source": [
    "import  matplotlib.pyplot as plt  \n",
    "\n",
    "plt.figure(figsize = figure_ratio(ccd_product))\n",
    "ccd_product.plot()\n",
    "plt.axes().set_aspect(\"equal\")"
   ]
  },
  {
   "cell_type": "markdown",
   "metadata": {},
   "source": [
    "> ## Time of first changes"
   ]
  },
  {
   "cell_type": "code",
   "execution_count": null,
   "metadata": {},
   "outputs": [],
   "source": [
    "%time time_map_ccd_product = ccd.process_xarray(landsat_dataset, distributed = True, process = \"first\") #Run process xarray on large dataset"
   ]
  },
  {
   "cell_type": "markdown",
   "metadata": {},
   "source": [
    "> ### Plot Detection Dates"
   ]
  },
  {
   "cell_type": "code",
   "execution_count": null,
   "metadata": {},
   "outputs": [],
   "source": [
    "import datetime\n",
    "import matplotlib.pyplot as plt \n",
    "from matplotlib.ticker import FuncFormatter\n",
    "\n",
    "plt.figure(figsize = figure_ratio(time_map_ccd_product))\n",
    "epochFormatter = FuncFormatter(lambda x, pos: datetime.datetime.utcfromtimestamp(x).strftime('%Y-%m-%d'))\n",
    "time_map_ccd_product.plot(cmap = \"magma\", cbar_kwargs=({'format': epochFormatter}))\n",
    "plt.axes().set_aspect(\"equal\")\n"
   ]
  },
  {
   "cell_type": "markdown",
   "metadata": {},
   "source": [
    "<br>  "
   ]
  },
  {
   "cell_type": "markdown",
   "metadata": {},
   "source": [
    "## <span id=\"validate\">Validate Changes[&#9652;](#top)</span>"
   ]
  },
  {
   "cell_type": "markdown",
   "metadata": {},
   "source": [
    "> ### Imagery from earlier acquisitions  \n",
    "> Change starts with landcover before...    "
   ]
  },
  {
   "cell_type": "code",
   "execution_count": null,
   "metadata": {},
   "outputs": [],
   "source": [
    "from dc_notebook_utilities import rgb\n",
    "print( landsat_dataset.time.values[1] )\n",
    "rgb(landsat_dataset, at_index = 0)"
   ]
  },
  {
   "cell_type": "markdown",
   "metadata": {},
   "source": [
    "> ### Imagery from later acquisitions  \n",
    "> ... and is revealed when compared to landcover after.  "
   ]
  },
  {
   "cell_type": "code",
   "execution_count": null,
   "metadata": {},
   "outputs": [],
   "source": [
    "print( landsat_dataset.time.values[130] )\n",
    "rgb(landsat_dataset, at_index = 130)"
   ]
  },
  {
   "cell_type": "markdown",
   "metadata": {},
   "source": [
    "\n",
    "<br>\n",
    "<br>\n",
    "<br>\n",
    "\n",
    "># Change within a selected Pixel"
   ]
  },
  {
   "cell_type": "markdown",
   "metadata": {},
   "source": [
    "<br>\n",
    "> ### Define Pixel Lat and Lon"
   ]
  },
  {
   "cell_type": "code",
   "execution_count": null,
   "metadata": {},
   "outputs": [],
   "source": [
    "## Bangladesh \n",
    "pixel_latitude = 25.228928\n",
    "pixel_longitude  = 90.035790\n",
    "\n",
    "## Colombia  \n",
    "pixel_latitude = 1.3282\n",
    "pixel_longitude  = -74.8549  "
   ]
  },
  {
   "cell_type": "markdown",
   "metadata": {},
   "source": [
    "> ### Select a Pixel from dataset"
   ]
  },
  {
   "cell_type": "code",
   "execution_count": null,
   "metadata": {},
   "outputs": [],
   "source": [
    "target_pixel = landsat_dataset.sel(latitude = pixel_latitude, longitude = pixel_longitude, method = \"nearest\")"
   ]
  },
  {
   "cell_type": "code",
   "execution_count": null,
   "metadata": {},
   "outputs": [],
   "source": [
    "processed_pixel = ccd.process_pixel(target_pixel)"
   ]
  },
  {
   "cell_type": "markdown",
   "metadata": {},
   "source": [
    "<br>"
   ]
  },
  {
   "cell_type": "markdown",
   "metadata": {},
   "source": [
    "> ### Plot time series models  "
   ]
  },
  {
   "cell_type": "code",
   "execution_count": null,
   "metadata": {},
   "outputs": [],
   "source": [
    "ccd.plot_pixel(processed_pixel)"
   ]
  },
  {
   "cell_type": "markdown",
   "metadata": {},
   "source": [
    "> ### Plotting Residuals "
   ]
  },
  {
   "cell_type": "code",
   "execution_count": null,
   "metadata": {},
   "outputs": [],
   "source": [
    "from functools import partial\n",
    "from datetime import datetime, timedelta\n",
    "from scipy.spatial.distance import euclidean  \n",
    "\n",
    "def _clean_pixel(_ds, saturation_threshold=10000):\n",
    "    \"\"\"Filters out over-saturated values\n",
    "\n",
    "    Creates a mask from the saturation threshold and > 0 and applies it to _ds.\n",
    "\n",
    "    Args:\n",
    "        _ds: dataset to mask\n",
    "        saturation_threshold: threshold that a pixel must be below to be considered 'clean'\n",
    "\n",
    "    Returns:\n",
    "        an xArray dataset that has been masked for saturation and valid (>0) pixels\n",
    "    \"\"\"\n",
    "    ds = _ds\n",
    "    mask = (ds < saturation_threshold) & (ds >= 0)\n",
    "    indices = [x for x, y in enumerate(mask.red.values) if y == True]\n",
    "    return ds.isel(time=indices)\n",
    "\n",
    "\n",
    "def _n64_to_datetime(n64):\n",
    "    \"\"\"Convert Numpy 64 bit timestamps to datetime objects. Units in seconds\"\"\"\n",
    "    return datetime.utcfromtimestamp(n64.tolist() / 1e9)\n",
    "\n",
    "def n64_to_ordinal(n64):\n",
    "    dt = _n64_to_datetime(n64)\n",
    "    return dt.toordinal()\n",
    "\n",
    "def _plot_res(results=None, original_pixel=None, band=None, file_name=None):\n",
    "    \"\"\"Plots CCD residual for a given band. Accepts a 1x1xt xarray if a scatter-plot overlay of original acquisitions over the ccd results is needed.\"\"\"\n",
    "\n",
    "    fig = plt.figure(1, figsize =(20,5))\n",
    "    fig.suptitle(band.title() + \" Residual \", fontsize=18, verticalalignment='bottom')\n",
    "\n",
    "    lastdt = None\n",
    "\n",
    "    dateLabels = []\n",
    "\n",
    "    for change_model in results[\"change_models\"]:\n",
    "        ax1 = fig.add_subplot(111)\n",
    "        model = getattr(change_model, band)        \n",
    "        time = original_pixel.sel(time = slice(datetime.fromordinal(change_model.start_day),\n",
    "                                                datetime.fromordinal(change_model.end_day))\n",
    "                                  ).time.values        \n",
    "        ordinal_time = list(map(n64_to_ordinal , time))\n",
    "        actual    = original_pixel[band].values\n",
    "        \n",
    "        predicted = list(map(partial(ccd._lasso_eval,bias= model.intercept, weights = model.coefficients), ordinal_time))\n",
    "        residual  = list(map(lambda x: euclidean(x[0], x[1]), zip(actual, predicted)))\n",
    "                \n",
    "        x = time\n",
    "        y = residual\n",
    "\n",
    "        ax1.plot(x, y, label= model.coefficients)\n",
    "        \n",
    "        # Curve Fit Code  \n",
    "        polycoeffs = np.polyfit(ordinal_time,residual,5)\n",
    "\n",
    "        f = np.poly1d(polycoeffs)\n",
    "\n",
    "        x_new = np.linspace(ordinal_time[0], ordinal_time[-1], 50)\n",
    "        y_new = f(x_new)\n",
    "        ax1.plot(x_new, y_new, c = \"#333333\")\n",
    "        \n",
    "        # Draw Vertical Lines\n",
    "        dt = datetime.fromordinal(change_model.start_day)\n",
    "        dateLabels.append(dt)\n",
    "\n",
    "        if lastdt is not None:\n",
    "            ax1.axvspan(lastdt, dt, color=(0, 0, 0, 0.1))\n",
    "\n",
    "        dt = datetime.fromordinal(change_model.end_day)\n",
    "        dateLabels.append(dt)\n",
    "\n",
    "        lastdt = dt\n",
    "\n",
    "\n",
    "    ymin, ymax = ax1.get_ylim()\n",
    "    for idx, dt in enumerate(dateLabels):\n",
    "        plt.axvline(x=dt, linestyle='dotted', color=(0, 0, 0, 0.5))\n",
    "        # Top, inside\n",
    "        plt.text(\n",
    "            dt,\n",
    "            ymax,\n",
    "            \"\\n\" +  # HACK TO FIX SPACING\n",
    "            dt.strftime('%b %d') + \"  \\n\"  # HACK TO FIX SPACING\n",
    "            ,\n",
    "            rotation=90,\n",
    "            horizontalalignment='right' if (idx % 2) else 'left',\n",
    "            verticalalignment='top')\n",
    "\n",
    "    plt.tight_layout()\n",
    "\n",
    "    if file_name is not None:\n",
    "        _save_plot_to_file(plot=plt, file=filename, band_name=band)\n",
    "    plt.show()\n"
   ]
  },
  {
   "cell_type": "markdown",
   "metadata": {},
   "source": [
    "<br>  \n",
    "> ### Remove points that don't have a `clear` designation on `pixel_qa`"
   ]
  },
  {
   "cell_type": "code",
   "execution_count": null,
   "metadata": {},
   "outputs": [],
   "source": [
    "clear_pixel = processed_pixel.where(processed_pixel.pixel_qa == 66, drop = True)"
   ]
  },
  {
   "cell_type": "markdown",
   "metadata": {},
   "source": [
    "> ### Run Residual Plotting on a pixel with clear values  "
   ]
  },
  {
   "cell_type": "code",
   "execution_count": null,
   "metadata": {},
   "outputs": [],
   "source": [
    "for band in ['red', 'green', 'blue', 'nir', 'swir1', 'swir2']:\n",
    "    _plot_res(results= clear_pixel.attrs['ccd_results'],\n",
    "              original_pixel=clear_pixel,\n",
    "              band=band,\n",
    "              file_name=None)"
   ]
  }
 ],
 "metadata": {
  "kernelspec": {
   "display_name": "Python 3",
   "language": "python",
   "name": "python3"
  },
  "language_info": {
   "codemirror_mode": {
    "name": "ipython",
    "version": 3
   },
   "file_extension": ".py",
   "mimetype": "text/x-python",
   "name": "python",
   "nbconvert_exporter": "python",
   "pygments_lexer": "ipython3",
   "version": "3.5.2"
  }
 },
 "nbformat": 4,
 "nbformat_minor": 2
}
