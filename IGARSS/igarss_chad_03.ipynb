{
 "cells": [
  {
   "cell_type": "code",
   "execution_count": 1,
   "metadata": {},
   "outputs": [],
   "source": [
    "# Enable importing of utilities\n",
    "import sys\n",
    "sys.path.append('..')\n",
    "\n",
    "%matplotlib inline\n",
    "from pylab import rcParams\n",
    "rcParams['figure.figsize'] = 10, 10"
   ]
  },
  {
   "cell_type": "markdown",
   "metadata": {},
   "source": [
    "# Water Classification and Analysis of Lake Chad\n",
    "\n",
    "The [previous tutorial](igarrs_chad_02.ipynb) introduced Landsat 7 imagery.  The Lake Chad dataset was split into **pre** and **post** rainy season data-sets. The datasets were then cleaned up to produce a cloud-free and SLC-gap-free composite. \n",
    "\n",
    "This tutorial will focus on analyzing bodies of water using the results of a water classification algorithm called [WOFS]()  \n"
   ]
  },
  {
   "cell_type": "markdown",
   "metadata": {},
   "source": [
    "<br>\n",
    "# What to expect from this notebook:  \n",
    "<br>  \n",
    "\n",
    "- Loading in NETCDF files \n",
    "- Introduction to WOFS for water classification\n",
    "- Built in plotting utilities of xarrays  \n",
    "- Band arithmetic using xarrays  \n",
    "- Analysis of lake chad; pre and post rainy season "
   ]
  },
  {
   "cell_type": "markdown",
   "metadata": {},
   "source": [
    "<br>  \n",
    "# Algorithmic Process  \n",
    "<br>  \n",
    "\n",
    "![](diagrams/rainy_demo/algo_nb3.png)  \n",
    "\n",
    "<br>  \n",
    "\n",
    "The algorithmic process is fairly simple. It is a chain of operations on our composite imagery. The goal here is to use water classifiers on our composite imagery to create comparabe water-products. Then to use the difference between the water products as a change classifier.  \n",
    "  \n",
    "<br>  \n",
    "  \n",
    "1. load composites for pre and post rainy season(genereated in previous notebook)  \n",
    "2. run WOFS water classifier on both composites. (This should xarrays where where 1 is water, 0 is not water)\n",
    "3. calculate the difference between post and pre water products to generate a water change product.        \n",
    "4. count all the positive values for **water gain** estimate  \n",
    "4. counnt all the negative values for **water loss** estimate  \n",
    "\n",
    "<br>   "
   ]
  },
  {
   "cell_type": "markdown",
   "metadata": {},
   "source": [
    "# Loading in composites  \n",
    "  \n",
    "<br>  \n",
    "\n",
    "In our [previous notebook](igarrs_chad_02.ipynb) two composites were created to represent cloud and SLC-gap imagery of **pre-rainy season** and **post rainy season** Landsat7 imagery.  They were saved NETCDF files to use in this tutorial.  \n",
    "\n",
    "Xarrays were designed with NETCDF as it's primary storage format so loading them should be a synch. Start with the import:  \n",
    "<br>  \n"
   ]
  },
  {
   "cell_type": "code",
   "execution_count": 2,
   "metadata": {},
   "outputs": [],
   "source": [
    "import xarray as xr  "
   ]
  },
  {
   "cell_type": "markdown",
   "metadata": {},
   "source": [
    "<br>  \n",
    "### Load Pre Rainy Season composite  "
   ]
  },
  {
   "cell_type": "code",
   "execution_count": 3,
   "metadata": {},
   "outputs": [],
   "source": [
    "pre_rain  = xr.open_dataset('../demo/pre_rain.nc')"
   ]
  },
  {
   "cell_type": "markdown",
   "metadata": {},
   "source": [
    "Lets print its contents as a high level check that data is loaded."
   ]
  },
  {
   "cell_type": "code",
   "execution_count": 4,
   "metadata": {},
   "outputs": [
    {
     "data": {
      "text/plain": [
       "<xarray.Dataset>\n",
       "Dimensions:    (latitude: 923, longitude: 901)\n",
       "Coordinates:\n",
       "  * longitude  (longitude) float64 14.25 14.25 14.25 14.25 ... 14.5 14.5 14.5\n",
       "  * latitude   (latitude) float64 13.0 13.0 13.0 13.0 ... 12.75 12.75 12.75\n",
       "Data variables:\n",
       "    red        (latitude, longitude) int32 ...\n",
       "    green      (latitude, longitude) int32 ...\n",
       "    blue       (latitude, longitude) int32 ...\n",
       "    nir        (latitude, longitude) int32 ...\n",
       "    swir1      (latitude, longitude) int32 ...\n",
       "    swir2      (latitude, longitude) int32 ..."
      ]
     },
     "execution_count": 4,
     "metadata": {},
     "output_type": "execute_result"
    }
   ],
   "source": [
    "pre_rain"
   ]
  },
  {
   "cell_type": "markdown",
   "metadata": {},
   "source": [
    "<br>  \n",
    "The `pre_rain` xarray should represents an area that looks somewhat like this:\n",
    "![](demo/pre_rain_mosaic.png)  \n",
    ">Note:  *figure above is cached result*"
   ]
  },
  {
   "cell_type": "markdown",
   "metadata": {},
   "source": [
    "<br>  \n",
    "## Load Post Rainy Season Composite  \n"
   ]
  },
  {
   "cell_type": "code",
   "execution_count": 5,
   "metadata": {},
   "outputs": [],
   "source": [
    "post_rain  = xr.open_dataset('../demo/post_rain.nc')"
   ]
  },
  {
   "cell_type": "markdown",
   "metadata": {},
   "source": [
    "Lets print this one as well  "
   ]
  },
  {
   "cell_type": "code",
   "execution_count": 6,
   "metadata": {},
   "outputs": [
    {
     "data": {
      "text/plain": [
       "<xarray.Dataset>\n",
       "Dimensions:    (latitude: 923, longitude: 901)\n",
       "Coordinates:\n",
       "  * longitude  (longitude) float64 14.25 14.25 14.25 14.25 ... 14.5 14.5 14.5\n",
       "  * latitude   (latitude) float64 13.0 13.0 13.0 13.0 ... 12.75 12.75 12.75\n",
       "Data variables:\n",
       "    red        (latitude, longitude) int32 ...\n",
       "    green      (latitude, longitude) int32 ...\n",
       "    blue       (latitude, longitude) int32 ...\n",
       "    nir        (latitude, longitude) int32 ...\n",
       "    swir1      (latitude, longitude) int32 ...\n",
       "    swir2      (latitude, longitude) int32 ..."
      ]
     },
     "execution_count": 6,
     "metadata": {},
     "output_type": "execute_result"
    }
   ],
   "source": [
    "post_rain"
   ]
  },
  {
   "cell_type": "markdown",
   "metadata": {},
   "source": [
    "The post xarray represents an area that looks somewhat like this:  \n",
    "\n",
    "![](demo/post_rain_mosaic.png)  \n",
    "  \n",
    ">Note:  *figure above is cached result*"
   ]
  },
  {
   "cell_type": "markdown",
   "metadata": {},
   "source": [
    "# Water classification  \n",
    "The goal of water classification is to classify each pixel as water or not water. The applications of water classification can range from identifying flood-plains or coastal boundaries, to observing trends like coastal erosion or the seasonal fluctuations of water. The purpose of this section is to classify bodies of water on pre and post rainy season composites so that we can start analyzing change in lake-chad's surface area.    \n",
    "<br>  \n",
    "\n",
    "![](diagrams/rainy_demo/wofs_step.png)  \n",
    "  \n",
    "<br>"
   ]
  },
  {
   "cell_type": "markdown",
   "metadata": {},
   "source": [
    "### WOFS Water classifier  \n",
    "\n",
    "WOFS( Water Observations From Space) is a water classifier developed by the Australian government following extreme flooding in 2011.  It uses a [regression tree](https://en.wikipedia.org/wiki/Logistic_model_tree) machine learning model trained on several geographically and geologically varied sections of the Australian continent on over 25 years of Landsat imagery.  \n",
    "\n",
    "While details of its implementation are outside of the scope of this tutorial, you can:  \n",
    "\n",
    "- access the Wofs code we're about to use on [our github](https://github.com/ceos-seo/data_cube_utilities/blob/master/dc_water_classifier.py)\n",
    "- read the original research [here](http://ac.els-cdn.com/S0034425715301929/1-s2.0-S0034425715301929-main.pdf?_tid=fb86c208-613b-11e7-92ff-00000aacb35e&acdnat=1499229771_4a94d67aaa7d03881fa5b0efc74b5c8e)  \n",
    "  \n",
    "<br>\n",
    "### Running the wofs classifier  \n",
    "  \n",
    "Running the wofs classifier is as simple as running a function call. It is typically good practice to create simple functions that accept an Xarray Dataset and return a processed XARRAY Dataset with new data-arrays within it.  \n",
    "<br>  "
   ]
  },
  {
   "cell_type": "code",
   "execution_count": 7,
   "metadata": {},
   "outputs": [
    {
     "name": "stdout",
     "output_type": "stream",
     "text": [
      "<xarray.Dataset>\n",
      "Dimensions:    (latitude: 923, longitude: 901)\n",
      "Coordinates:\n",
      "  * latitude   (latitude) float64 13.0 13.0 13.0 13.0 ... 12.75 12.75 12.75\n",
      "  * longitude  (longitude) float64 14.25 14.25 14.25 14.25 ... 14.5 14.5 14.5\n",
      "Data variables:\n",
      "    wofs       (latitude, longitude) float64 0.0 0.0 0.0 0.0 ... 0.0 0.0 0.0 0.0\n"
     ]
    }
   ],
   "source": [
    "from utils.data_cube_utilities.dc_water_classifier import wofs_classify\n",
    "import numpy as np\n",
    "clean_mask = np.ones((pre_rain.sizes['latitude'],pre_rain.sizes['longitude'])).astype(np.bool)  \n",
    "      \n",
    "pre_water = wofs_classify(pre_rain, clean_mask = clean_mask, mosaic = True)\n",
    "print(pre_water)\n",
    "post_water = wofs_classify(post_rain, clean_mask = clean_mask, mosaic = True)"
   ]
  },
  {
   "cell_type": "markdown",
   "metadata": {},
   "source": [
    "<br>  \n",
    "### The structure of Wofs Data  "
   ]
  },
  {
   "cell_type": "markdown",
   "metadata": {},
   "source": [
    "An interesting feature of Xarrays is their built-in support for plotting. Any [data-arrays](http://xarray.pydata.org/en/stable/api.html#dataarray) can plot its values using a plot function. Let's see what data-arrays come with wofs classifiers:  \n",
    "<br>   \n"
   ]
  },
  {
   "cell_type": "code",
   "execution_count": 8,
   "metadata": {},
   "outputs": [
    {
     "data": {
      "text/plain": [
       "<xarray.Dataset>\n",
       "Dimensions:    (latitude: 923, longitude: 901)\n",
       "Coordinates:\n",
       "  * latitude   (latitude) float64 13.0 13.0 13.0 13.0 ... 12.75 12.75 12.75\n",
       "  * longitude  (longitude) float64 14.25 14.25 14.25 14.25 ... 14.5 14.5 14.5\n",
       "Data variables:\n",
       "    wofs       (latitude, longitude) float64 0.0 0.0 0.0 0.0 ... 0.0 0.0 0.0 0.0"
      ]
     },
     "execution_count": 8,
     "metadata": {},
     "output_type": "execute_result"
    }
   ],
   "source": [
    "pre_water"
   ]
  },
  {
   "cell_type": "markdown",
   "metadata": {},
   "source": [
    "<br>  \n",
    "The printout shows that wofs produced a dataset with a single data-array called `wofs`. Lets see what sort of values are in `wofs` by running an np.unique command on it.   \n",
    "<br>  "
   ]
  },
  {
   "cell_type": "code",
   "execution_count": 9,
   "metadata": {},
   "outputs": [
    {
     "data": {
      "text/plain": [
       "array([0., 1.])"
      ]
     },
     "execution_count": 9,
     "metadata": {},
     "output_type": "execute_result"
    }
   ],
   "source": [
    "np.unique(pre_water.wofs)"
   ]
  },
  {
   "cell_type": "markdown",
   "metadata": {},
   "source": [
    "<br>  \n",
    "So wofs only ever assumes one of two values.  1 for water, 0 for not water. This should produce a highly contrasted images when plotted using Xarrays built in plotting feature.  \n",
    "<br>  \n",
    "<br>  \n",
    "### Pre-Rain Water Classifcations   "
   ]
  },
  {
   "cell_type": "code",
   "execution_count": 10,
   "metadata": {},
   "outputs": [
    {
     "data": {
      "text/plain": [
       "<matplotlib.collections.QuadMesh at 0x7f6d27a11400>"
      ]
     },
     "execution_count": 10,
     "metadata": {},
     "output_type": "execute_result"
    },
    {
     "data": {
      "image/png": "[encoded data removed]",
      "text/plain": [
       "<Figure size 432x288 with 2 Axes>"
      ]
     },
     "metadata": {
      "needs_background": "light"
     },
     "output_type": "display_data"
    }
   ],
   "source": [
    "pre_water.wofs.plot(cmap = \"Blues\")"
   ]
  },
  {
   "cell_type": "markdown",
   "metadata": {},
   "source": [
    "### Post-Rain Water Classifications"
   ]
  },
  {
   "cell_type": "code",
   "execution_count": 11,
   "metadata": {},
   "outputs": [
    {
     "data": {
      "text/plain": [
       "<matplotlib.collections.QuadMesh at 0x7f6d278eef98>"
      ]
     },
     "execution_count": 11,
     "metadata": {},
     "output_type": "execute_result"
    },
    {
     "data": {
      "image/png": "[encoded data removed]",
      "text/plain": [
       "<Figure size 432x288 with 2 Axes>"
      ]
     },
     "metadata": {
      "needs_background": "light"
     },
     "output_type": "display_data"
    }
   ],
   "source": [
    "post_water.wofs.plot(cmap = \"Blues\")  "
   ]
  },
  {
   "cell_type": "markdown",
   "metadata": {},
   "source": [
    "<br>  \n",
    "<br>  \n",
    "# Differencing Water products to reveal Water change  "
   ]
  },
  {
   "cell_type": "markdown",
   "metadata": {},
   "source": [
    "The two images rendered above aren't too revealing when it comes to observing significant trends in water change. Perhaps we should take advantage of Xarrays arithmetic capabilities to detect or highlight change in our water classes.  \n",
    "  \n",
    "<br>  \n",
    "![](diagrams/rainy_demo/differencing.png)  \n",
    "<br>"
   ]
  },
  {
   "cell_type": "markdown",
   "metadata": {},
   "source": [
    "<br>  \n",
    "Arithmetic operations like addition and subtraction can be applied to xarray datasets that share the same shape. For example, the following differencing operation ....  \n",
    "  \n",
    "<br>"
   ]
  },
  {
   "cell_type": "code",
   "execution_count": 12,
   "metadata": {},
   "outputs": [],
   "source": [
    "water_change = post_water - pre_water"
   ]
  },
  {
   "cell_type": "markdown",
   "metadata": {},
   "source": [
    "<br>  \n",
    "... applies the difference operator to all values within the wofs data-array with extreme efficiency. If we were, to check unique values again...  \n",
    "<br>  "
   ]
  },
  {
   "cell_type": "code",
   "execution_count": 13,
   "metadata": {},
   "outputs": [
    {
     "data": {
      "text/plain": [
       "array([-1.,  0.,  1.])"
      ]
     },
     "execution_count": 13,
     "metadata": {},
     "output_type": "execute_result"
    }
   ],
   "source": [
    "np.unique(water_change.wofs)  "
   ]
  },
  {
   "cell_type": "markdown",
   "metadata": {},
   "source": [
    "<br>  \n",
    "... then we should encounter three values. 1, 0, -1. These values can be interpreted as values indicating change in water. The table below should serve as an incredibly clear reference:  \n",
    "<br>  \n",
    "\n",
    "\\begin{array}{|c|c|}\n",
    "\\hline post & pre & diff & interpretation \\\\\\hline\n",
    "        1  & 0 & 1-0 = +1 & water gain \\\\\\hline\n",
    "        0  & 1 & 0-1 = -1 & water loss \\\\\\hline \n",
    "        1  & 1 & 1-1= 0 & no-change \\\\\\hline\n",
    "        0  & 0 & 0-0=0 & no-change \\\\\\hline\n",
    "        \\end{array}  \n",
    "\n",
    "<br>  \n",
    "\n",
    "Understanding the intuition and logic behind this differencing, I think we're ready to take a look at a plot of water change over the area...    \n",
    "<br>  \n",
    "<br>  \n"
   ]
  },
  {
   "cell_type": "code",
   "execution_count": 14,
   "metadata": {},
   "outputs": [
    {
     "data": {
      "text/plain": [
       "<matplotlib.collections.QuadMesh at 0x7f6d2789ccf8>"
      ]
     },
     "execution_count": 14,
     "metadata": {},
     "output_type": "execute_result"
    },
    {
     "data": {
      "image/png": "[encoded data removed]",
      "text/plain": [
       "<Figure size 432x288 with 2 Axes>"
      ]
     },
     "metadata": {
      "needs_background": "light"
     },
     "output_type": "display_data"
    }
   ],
   "source": [
    "water_change.wofs.plot()"
   ]
  },
  {
   "cell_type": "markdown",
   "metadata": {},
   "source": [
    "<br>  \n",
    "\n",
    "### Interpreting the plot. Relying on non-visual results  \n",
    "\n",
    "The plot above shows a surprisingly different story from our expectation of water growth. Large sections of lake chad seem to have dis-appeared after the rainy season. The recommended next step would be to explore change by methods of counting. "
   ]
  },
  {
   "cell_type": "code",
   "execution_count": 15,
   "metadata": {},
   "outputs": [],
   "source": [
    "## Create a boolean xarray\n",
    "water_growth = (water_change.wofs ==  1)\n",
    "water_loss   = (water_change.wofs == -1)\n",
    "\n",
    "## Casting a 'boolean' to an 'int' makes 'True' values '1' and 'False' Values '0'. Summing should give us our totals \n",
    "total_growth = water_growth.astype(np.int8).sum()\n",
    "total_loss   = water_loss.astype(np.int8).sum()"
   ]
  },
  {
   "cell_type": "markdown",
   "metadata": {},
   "source": [
    "<br>  \n",
    "The results...  \n",
    "<br>  \n",
    "  "
   ]
  },
  {
   "cell_type": "code",
   "execution_count": 16,
   "metadata": {},
   "outputs": [
    {
     "name": "stdout",
     "output_type": "stream",
     "text": [
      "Growth: 7344\n",
      "Loss: 14170\n",
      "Net Change: -6826\n"
     ]
    }
   ],
   "source": [
    "print(\"Growth:\",     int(total_growth.values))  \n",
    "print(\"Loss:\",       int(total_loss.values))\n",
    "print(\"Net Change:\", int(total_growth - total_loss))"
   ]
  },
  {
   "cell_type": "markdown",
   "metadata": {},
   "source": [
    "<br>  \n",
    "### How to interpret these results  \n",
    "Several guesses can be made here as to why water was lost after the rainy season. Since that is out scope for this lecture(and beyond the breadth of this developer's knowledge) I'll leave definitive answers to the right researchers in this field.  \n",
    "  \n",
    "What can be provided, however, is an addititional figure regarding trends precipitation.  \n",
    "  \n",
    "  \n",
    "<br>\n",
    "### Bringing back more GPM Data\n",
    "\n",
    "Lets bring back the GPM data one more time and increase the time range by one year in both directions.  \n",
    "\n",
    "Instead of spanning the year of **2015** to **2016**,  let's do **2014** to **2017**.   "
   ]
  },
  {
   "cell_type": "markdown",
   "metadata": {},
   "source": [
    "> **Load GPM**  \n",
    "> Using the same code from our first [gpm tutorial](igarrs_chad_01.ipynb), let's load in three years of rainfall data:  \n",
    "<br>  \n"
   ]
  },
  {
   "cell_type": "code",
   "execution_count": 17,
   "metadata": {},
   "outputs": [],
   "source": [
    "import datacube\n",
    "dc = datacube.Datacube(app = \"chad_rainfall\", config = '/home/localuser/.datacube.conf') \n",
    "\n",
    "## Define Geographic boundaries using a (min,max) tuple.\n",
    "latitude = (12.75, 13.0)\n",
    "longitude = (14.25, 14.5)\n",
    "\n",
    "## Specify a date range using a (min,max) tuple  \n",
    "from datetime import datetime\n",
    "time = (datetime(2014,1,1), datetime(2017,1,2))\n",
    "\n",
    "## define the name you gave your data while it was being \"ingested\", as well as the platform it was captured on. \n",
    "product = 'gpm_imerg_gis_daily_global'\n",
    "platform = 'GPM'  \n",
    "\n",
    "measurements = ['total_precipitation']\n",
    "gpm_data = dc.load(latitude = latitude, longitude = longitude, \n",
    "                   product = product, platform = platform, \n",
    "                   measurements=measurements)"
   ]
  },
  {
   "cell_type": "markdown",
   "metadata": {},
   "source": [
    "<br>  \n",
    ">** Display Data **   \n",
    ">We'll aggregate spatial axis so that we're left with a mean value of the region for each point in time. Let's plot those points in a time series.  \n",
    "<br>  "
   ]
  },
  {
   "cell_type": "code",
   "execution_count": 18,
   "metadata": {},
   "outputs": [
    {
     "data": {
      "text/plain": [
       "[<matplotlib.lines.Line2D at 0x7f6d83b1e2e8>]"
      ]
     },
     "execution_count": 18,
     "metadata": {},
     "output_type": "execute_result"
    },
    {
     "data": {
      "image/png": "[encoded data removed]",
      "text/plain": [
       "<Figure size 432x288 with 1 Axes>"
      ]
     },
     "metadata": {
      "needs_background": "light"
     },
     "output_type": "display_data"
    }
   ],
   "source": [
    "times = gpm_data.time.values\n",
    "values = gpm_data.mean(['latitude', 'longitude']).total_precipitation.values\n",
    "\n",
    "import matplotlib.pyplot as plt\n",
    "plt.plot(times, values) "
   ]
  },
  {
   "cell_type": "markdown",
   "metadata": {},
   "source": [
    "# Next Steps  \n",
    "\n",
    "This concludes our series on observing the rainy season's contributions to Lake Chad's surface area. Hopefully you've taken an understanding of, or even interest to datacube and xarrays.  \n",
    "  \n",
    "I encourage you to check out more of our notebooks on [our github](https://github.com/ceos-seo/data_cube_notebooks) with applications ranging from [landslide detection](https://github.com/ceos-seo/data_cube_notebooks/blob/master/slip.ipynb) to [fractional coverage](https://github.com/ceos-seo/data_cube_notebooks/blob/master/fractional_coverage.ipynb) or even the [Wofs water detection algorithm](https://github.com/ceos-seo/data_cube_notebooks/blob/master/water_detection.ipynb)  "
   ]
  }
 ],
 "metadata": {
  "kernelspec": {
   "display_name": "Python 3",
   "language": "python",
   "name": "python3"
  },
  "language_info": {
   "codemirror_mode": {
    "name": "ipython",
    "version": 3
   },
   "file_extension": ".py",
   "mimetype": "text/x-python",
   "name": "python",
   "nbconvert_exporter": "python",
   "pygments_lexer": "ipython3",
   "version": "3.6.7"
  }
 },
 "nbformat": 4,
 "nbformat_minor": 2
}
