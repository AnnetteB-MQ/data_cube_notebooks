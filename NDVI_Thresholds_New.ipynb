{
 "cells": [
  {
   "cell_type": "markdown",
   "metadata": {},
   "source": [
    "# What to expect from this notebook<a id=\"top\"></a>\n",
    "\n",
    "- an example of using of satellites to detect changes in plant life.\n",
    "- very basic xarray manipulations\n",
    "- removing clouds and patching scanlines\n",
    "- building a composite image\n",
    "\n",
    "<br>  \n",
    "\n",
    "# Algorithmic process  \n",
    "\n",
    "- [get the maximum extents of the datacube](#extents)\n",
    "- [define extents you require that fall within the maximum extents](#define_extents)\n",
    "    [* selecting too much can make the acquisition process slow ]\n",
    "- [filter out cloud data and scan lines](#clean_mask)\n",
    "- [select the dates you wish to form a baseline measure from and the target date for comparison](#baseline)\n",
    "- [compare the target date's NDVI values against the baseline composite image](#compare)\n",
    "- [plot the results](#plot)\n",
    "\n",
    "<hr>\n",
    "# How It Works\n",
    "\n",
    "To detect changes in plant life, we use a measure called NDVI. \n",
    "* <font color=green>NDVI</font> is the ratio of the difference between amount of near infrared light <font color=red>(NIR)</font> and red light <font color=red>(RED)</font> divided by their sum.\n",
    "<br>\n",
    "\n",
    "$$ NDVI =  \\frac{(NIR - RED)}{(NIR + RED)}$$  \n",
    "\n",
    "<br>\n",
    "<div class=\"alert-info\">\n",
    "The idea is to observe how much red light is being absorbed versus reflected. Photosynthetic plants absorb most of the visible spectrum's wavelengths when they are healthy.  When they aren't healthy, more of that light will get reflected.  This makes the difference between <font color=red>NIR</font> and <font color=red>RED</font> much smaller which will lower the <font color=green>NDVI</font>.  The resulting values from doing this over several pixels can be used to create visualizations for the changes in the amount of photosynthetic vegetation in large areas.\n",
    "</div>"
   ]
  },
  {
   "cell_type": "code",
   "execution_count": 1,
   "metadata": {},
   "outputs": [],
   "source": [
    "#Import the datacube and the API\n",
    "import datacube\n",
    "from utils.data_cube_utilities.data_access_api import DataAccessApi\n",
    "\n",
    "#Create an instance of the datacube and API\n",
    "dc = datacube.Datacube(config=\"/home/localuser/.datacube.conf\")\n",
    "api = DataAccessApi(config=\"/home/localuser/.datacube.conf\")"
   ]
  },
  {
   "cell_type": "code",
   "execution_count": 2,
   "metadata": {},
   "outputs": [
    {
     "name": "stdout",
     "output_type": "stream",
     "text": [
      "     platform                           name\n",
      "id                                          \n",
      "8   LANDSAT_7       ls7_collections_sr_scene\n",
      "70  LANDSAT_7  ls7_collections_sr_scene_lean\n",
      "19  LANDSAT_7        ls7_ledaps_amazon_river\n",
      "20  LANDSAT_7          ls7_ledaps_bangladesh\n",
      "35  LANDSAT_7     ls7_ledaps_bangladesh_bari\n",
      "36  LANDSAT_7             ls7_ledaps_caqueta\n",
      "21  LANDSAT_7            ls7_ledaps_colombia\n",
      "22  LANDSAT_7               ls7_ledaps_ghana\n",
      "23  LANDSAT_7               ls7_ledaps_kenya\n",
      "41  LANDSAT_7        ls7_ledaps_lake_baringo\n",
      "24  LANDSAT_7      ls7_ledaps_lake_chad_full\n",
      "25  LANDSAT_7        ls7_ledaps_lake_cortijo\n",
      "26  LANDSAT_7      ls7_ledaps_menindee_lakes\n",
      "27  LANDSAT_7          ls7_ledaps_meta_river\n",
      "62  LANDSAT_7              ls7_ledaps_mexico\n",
      "28  LANDSAT_7     ls7_ledaps_salgar_colombia\n",
      "72  LANDSAT_7          ls7_ledaps_sanagustin\n",
      "63  LANDSAT_7               ls7_ledaps_scene\n",
      "29  LANDSAT_7                ls7_ledaps_togo\n",
      "30  LANDSAT_7               ls7_ledaps_tonga\n",
      "31  LANDSAT_7             ls7_ledaps_vietnam\n"
     ]
    }
   ],
   "source": [
    "#Get all the current datacube products\n",
    "products = dc.list_products()\n",
    "\n",
    "#List the LANDSAT 7 products\n",
    "print(products[[\"platform\", \"name\"]][products.platform == \"LANDSAT_7\"])"
   ]
  },
  {
   "cell_type": "code",
   "execution_count": 3,
   "metadata": {},
   "outputs": [],
   "source": [
    "#This are the platform (satellite) and product (datacube set) used for this demonstration\n",
    "platform = [\"LANDSAT_7\"]\n",
    "product = [\"ls7_ledaps_kenya\"]"
   ]
  },
  {
   "cell_type": "markdown",
   "metadata": {},
   "source": [
    "The magnitudes of the different wavelengths of light can be quanitized and stored on a per pixel basis.  <font color=green>NDVI</font> only requires the use of <font color=red>NIR</font> and <font color=red>RED</font> light but there are many more wavelengths and some additional measures available.  One such additional measure is called <font color=darkblue>pixel_qa</font>.  This is a measure of the quality of the pixel for analysis. A breakdown of the values stored in <font color=darkblue>pixel_qa</font> are beyond the scope of this notebook but we encourage you to check our github for more information on the meaning behind the values stored within.\n",
    "![](diagrams/rainy_demo/ls7_xarray.png) "
   ]
  },
  {
   "cell_type": "markdown",
   "metadata": {},
   "source": [
    "## <a id=\"extents\">Getting the Extents of the Cube</a>"
   ]
  },
  {
   "cell_type": "code",
   "execution_count": 5,
   "metadata": {},
   "outputs": [],
   "source": [
    "# Get the extents of the cube\n",
    "descriptor = api.get_query_metadata(platform=platform, product=product[0])\n",
    "\n",
    "#store the latitudinal and longitudinal extents\n",
    "lat, lon = products.resolution[products.platform == platform[0]].any()\n",
    "\n",
    "from utils.data_cube_utilities.dc_display_map import display_map\n",
    "\n",
    "#save extents\n",
    "min_date, max_date = descriptor['time_extents']\n",
    "min_lat, max_lat = descriptor['lat_extents']\n",
    "min_lon, max_lon = descriptor['lon_extents']\n",
    "\n",
    "#Adjust date string\n",
    "min_date_str = str(min_date.year) + '-' + str(min_date.month) + '-' + str(min_date.day)\n",
    "max_date_str = str(max_date.year) + '-' + str(max_date.month) + '-' + str(max_date.day)\n",
    "\n",
    "#Round GPS coordinates to 3 decimal places\n",
    "min_lat_rounded = round(min_lat, 3)\n",
    "min_lon_rounded =  round(min_lon, 3)\n",
    "max_lat_rounded = round(max_lat, 3)\n",
    "max_lon_rounded = round(max_lon, 3) "
   ]
  },
  {
   "cell_type": "code",
   "execution_count": 6,
   "metadata": {},
   "outputs": [
    {
     "data": {
      "text/html": [
       "<h2>Metadata Report: </h2>"
      ],
      "text/plain": [
       "<IPython.core.display.HTML object>"
      ]
     },
     "metadata": {},
     "output_type": "display_data"
    },
    {
     "data": {
      "text/html": [
       "<table><tr><th></th><th>Min</th><th>Max</th><th>Resolution</th></tr><tr><th>Date: </th><td>2005-1-8</td><td>2016-12-24</td><td></td></tr><tr><th>Longitude: </th><td>34.655</td><td>36.899</td><td>0.000269995</td></tr><tr><th>Latitude: </th><td>-0.942</td><td>0.95</td><td>-0.000271302</td></tr></table>"
      ],
      "text/plain": [
       "<IPython.core.display.HTML object>"
      ]
     },
     "metadata": {},
     "output_type": "display_data"
    }
   ],
   "source": [
    "from dc_notebook_utilities import generate_metadata_report\n",
    "\n",
    "# Display the ranges of the datacube in a table\n",
    "generate_metadata_report(min_date_str, max_date_str, \n",
    "                         min_lon_rounded, max_lon_rounded, lon,\n",
    "                         min_lat_rounded, max_lat_rounded, lat)"
   ]
  },
  {
   "cell_type": "code",
   "execution_count": null,
   "metadata": {},
   "outputs": [],
   "source": [
    "min_lon = 35.5\n",
    "max_lon = 35.7\n",
    "min_lat = 0.5\n",
    "max_lat = 0.7\n",
    "\n",
    "landsat_dataset = landsat_dataset = dc.load(latitude = (min_lat, max,\n",
    "                          longitude = (min_lon, max_lon),\n",
    "                          platform = platform,\n",
    "                          time = time_extents,\n",
    "                          product = product,\n",
    "                          measurements = ['red', 'green', 'blue', 'nir', 'swir1', 'swir2', 'pixel_qa']) "
   ]
  }
 ],
 "metadata": {
  "kernelspec": {
   "display_name": "Python 3",
   "language": "python",
   "name": "python3"
  },
  "language_info": {
   "codemirror_mode": {
    "name": "ipython",
    "version": 3
   },
   "file_extension": ".py",
   "mimetype": "text/x-python",
   "name": "python",
   "nbconvert_exporter": "python",
   "pygments_lexer": "ipython3",
   "version": "3.5.2"
  }
 },
 "nbformat": 4,
 "nbformat_minor": 2
}
