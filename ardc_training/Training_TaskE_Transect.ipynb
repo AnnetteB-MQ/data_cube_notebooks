{
 "cells": [
  {
   "cell_type": "code",
   "execution_count": 1,
   "metadata": {},
   "outputs": [],
   "source": [
    "# Enable importing of utilities.\n",
    "from sys import path\n",
    "path.append(\"..\")"
   ]
  },
  {
   "cell_type": "markdown",
   "metadata": {},
   "source": [
    "# ARDC Training: Python Notebooks\n",
    "Task-E: This notebook will demonstrate 2D transect analyses and 3D Hovmoller plots. We will run these for NDVI (land) and TSM (water quality) to show the spatial and temporal variation of data along a line (transect) for a given time slice and for the entire time series. "
   ]
  },
  {
   "cell_type": "markdown",
   "metadata": {},
   "source": [
    "> ### Import the Datacube Configuration"
   ]
  },
  {
   "cell_type": "code",
   "execution_count": 2,
   "metadata": {},
   "outputs": [],
   "source": [
    "import datacube\n",
    "import utils.data_cube_utilities.data_access_api as dc_api  \n",
    "api = dc_api.DataAccessApi()\n",
    "dc = datacube.Datacube(app = 'ardc_task_e')\n",
    "api.dc = dc"
   ]
  },
  {
   "cell_type": "code",
   "execution_count": 3,
   "metadata": {},
   "outputs": [],
   "source": [
    "# # Supress Warning \n",
    "# import warnings\n",
    "# warnings.filterwarnings('ignore')"
   ]
  },
  {
   "cell_type": "markdown",
   "metadata": {},
   "source": [
    ">### Browse the available Data Cubes   "
   ]
  },
  {
   "cell_type": "code",
   "execution_count": 4,
   "metadata": {},
   "outputs": [
    {
     "data": {
      "text/html": [
       "<div>\n",
       "<style scoped>\n",
       "    .dataframe tbody tr th:only-of-type {\n",
       "        vertical-align: middle;\n",
       "    }\n",
       "\n",
       "    .dataframe tbody tr th {\n",
       "        vertical-align: top;\n",
       "    }\n",
       "\n",
       "    .dataframe thead th {\n",
       "        text-align: right;\n",
       "    }\n",
       "</style>\n",
       "<table border=\"1\" class=\"dataframe\">\n",
       "  <thead>\n",
       "    <tr style=\"text-align: right;\">\n",
       "      <th></th>\n",
       "      <th>name</th>\n",
       "      <th>description</th>\n",
       "      <th>product_type</th>\n",
       "      <th>instrument</th>\n",
       "      <th>format</th>\n",
       "      <th>platform</th>\n",
       "      <th>creation_time</th>\n",
       "      <th>label</th>\n",
       "      <th>time</th>\n",
       "      <th>lat</th>\n",
       "      <th>lon</th>\n",
       "      <th>crs</th>\n",
       "      <th>resolution</th>\n",
       "      <th>tile_size</th>\n",
       "      <th>spatial_dimensions</th>\n",
       "    </tr>\n",
       "    <tr>\n",
       "      <th>id</th>\n",
       "      <th></th>\n",
       "      <th></th>\n",
       "      <th></th>\n",
       "      <th></th>\n",
       "      <th></th>\n",
       "      <th></th>\n",
       "      <th></th>\n",
       "      <th></th>\n",
       "      <th></th>\n",
       "      <th></th>\n",
       "      <th></th>\n",
       "      <th></th>\n",
       "      <th></th>\n",
       "      <th></th>\n",
       "      <th></th>\n",
       "    </tr>\n",
       "  </thead>\n",
       "  <tbody>\n",
       "    <tr>\n",
       "      <td>13</td>\n",
       "      <td>ls7_ledaps_ghana</td>\n",
       "      <td>Landsat 7 USGS Collection 1 Higher Level SR sc...</td>\n",
       "      <td>LEDAPS</td>\n",
       "      <td>ETM</td>\n",
       "      <td>NetCDF</td>\n",
       "      <td>LANDSAT_7</td>\n",
       "      <td>None</td>\n",
       "      <td>None</td>\n",
       "      <td>None</td>\n",
       "      <td>None</td>\n",
       "      <td>None</td>\n",
       "      <td>EPSG:4326</td>\n",
       "      <td>(-0.000269494585236, 0.000269494585236)</td>\n",
       "      <td>(0.943231048326, 0.943231048326)</td>\n",
       "      <td>(latitude, longitude)</td>\n",
       "    </tr>\n",
       "    <tr>\n",
       "      <td>17</td>\n",
       "      <td>ls7_ledaps_kenya</td>\n",
       "      <td>Landsat 7 USGS Collection 1 Higher Level SR sc...</td>\n",
       "      <td>LEDAPS</td>\n",
       "      <td>ETM</td>\n",
       "      <td>NetCDF</td>\n",
       "      <td>LANDSAT_7</td>\n",
       "      <td>None</td>\n",
       "      <td>None</td>\n",
       "      <td>None</td>\n",
       "      <td>None</td>\n",
       "      <td>None</td>\n",
       "      <td>EPSG:4326</td>\n",
       "      <td>(-0.000269493, 0.000269493)</td>\n",
       "      <td>(0.99981903, 0.99981903)</td>\n",
       "      <td>(latitude, longitude)</td>\n",
       "    </tr>\n",
       "    <tr>\n",
       "      <td>18</td>\n",
       "      <td>ls7_ledaps_senegal</td>\n",
       "      <td>Landsat 7 USGS Collection 1 Higher Level SR sc...</td>\n",
       "      <td>LEDAPS</td>\n",
       "      <td>ETM</td>\n",
       "      <td>NetCDF</td>\n",
       "      <td>LANDSAT_7</td>\n",
       "      <td>None</td>\n",
       "      <td>None</td>\n",
       "      <td>None</td>\n",
       "      <td>None</td>\n",
       "      <td>None</td>\n",
       "      <td>EPSG:4326</td>\n",
       "      <td>(-0.000271152, 0.00027769)</td>\n",
       "      <td>(0.813456, 0.83307)</td>\n",
       "      <td>(latitude, longitude)</td>\n",
       "    </tr>\n",
       "    <tr>\n",
       "      <td>16</td>\n",
       "      <td>ls7_ledaps_sierra_leone</td>\n",
       "      <td>Landsat 7 USGS Collection 1 Higher Level SR sc...</td>\n",
       "      <td>LEDAPS</td>\n",
       "      <td>ETM</td>\n",
       "      <td>NetCDF</td>\n",
       "      <td>LANDSAT_7</td>\n",
       "      <td>None</td>\n",
       "      <td>None</td>\n",
       "      <td>None</td>\n",
       "      <td>None</td>\n",
       "      <td>None</td>\n",
       "      <td>EPSG:4326</td>\n",
       "      <td>(-0.000269494585236, 0.000269494585236)</td>\n",
       "      <td>(0.943231048326, 0.943231048326)</td>\n",
       "      <td>(latitude, longitude)</td>\n",
       "    </tr>\n",
       "    <tr>\n",
       "      <td>19</td>\n",
       "      <td>ls7_ledaps_tanzania</td>\n",
       "      <td>Landsat 7 USGS Collection 1 Higher Level SR sc...</td>\n",
       "      <td>LEDAPS</td>\n",
       "      <td>ETM</td>\n",
       "      <td>NetCDF</td>\n",
       "      <td>LANDSAT_7</td>\n",
       "      <td>None</td>\n",
       "      <td>None</td>\n",
       "      <td>None</td>\n",
       "      <td>None</td>\n",
       "      <td>None</td>\n",
       "      <td>EPSG:4326</td>\n",
       "      <td>(-0.000271277688070265, 0.000271139577954979)</td>\n",
       "      <td>(0.999929558226998, 0.999962763497961)</td>\n",
       "      <td>(latitude, longitude)</td>\n",
       "    </tr>\n",
       "    <tr>\n",
       "      <td>31</td>\n",
       "      <td>ls7_ledaps_vietnam</td>\n",
       "      <td>Landsat 7 USGS Collection 1 Higher Level SR sc...</td>\n",
       "      <td>LEDAPS</td>\n",
       "      <td>ETM</td>\n",
       "      <td>NetCDF</td>\n",
       "      <td>LANDSAT_7</td>\n",
       "      <td>None</td>\n",
       "      <td>None</td>\n",
       "      <td>None</td>\n",
       "      <td>None</td>\n",
       "      <td>None</td>\n",
       "      <td>EPSG:4326</td>\n",
       "      <td>(-0.000269494585236, 0.000269494585236)</td>\n",
       "      <td>(0.943231048326, 0.943231048326)</td>\n",
       "      <td>(latitude, longitude)</td>\n",
       "    </tr>\n",
       "    <tr>\n",
       "      <td>9</td>\n",
       "      <td>ls8_lasrc_ghana</td>\n",
       "      <td>Landsat 8 USGS Collection 1 Higher Level SR sc...</td>\n",
       "      <td>LaSRC</td>\n",
       "      <td>OLI_TIRS</td>\n",
       "      <td>NetCDF</td>\n",
       "      <td>LANDSAT_8</td>\n",
       "      <td>None</td>\n",
       "      <td>None</td>\n",
       "      <td>None</td>\n",
       "      <td>None</td>\n",
       "      <td>None</td>\n",
       "      <td>EPSG:4326</td>\n",
       "      <td>(-0.000269494585236, 0.000269494585236)</td>\n",
       "      <td>(0.943231048326, 0.943231048326)</td>\n",
       "      <td>(latitude, longitude)</td>\n",
       "    </tr>\n",
       "    <tr>\n",
       "      <td>10</td>\n",
       "      <td>ls8_lasrc_kenya</td>\n",
       "      <td>Landsat 8 USGS Collection 1 Higher Level SR sc...</td>\n",
       "      <td>LaSRC</td>\n",
       "      <td>OLI_TIRS</td>\n",
       "      <td>NetCDF</td>\n",
       "      <td>LANDSAT_8</td>\n",
       "      <td>None</td>\n",
       "      <td>None</td>\n",
       "      <td>None</td>\n",
       "      <td>None</td>\n",
       "      <td>None</td>\n",
       "      <td>EPSG:4326</td>\n",
       "      <td>(-0.000271309115317046, 0.00026957992707863)</td>\n",
       "      <td>(0.999502780827996, 0.999602369607559)</td>\n",
       "      <td>(latitude, longitude)</td>\n",
       "    </tr>\n",
       "    <tr>\n",
       "      <td>11</td>\n",
       "      <td>ls8_lasrc_senegal</td>\n",
       "      <td>Landsat 8 USGS Collection 1 Higher Level SR sc...</td>\n",
       "      <td>LaSRC</td>\n",
       "      <td>OLI_TIRS</td>\n",
       "      <td>NetCDF</td>\n",
       "      <td>LANDSAT_8</td>\n",
       "      <td>None</td>\n",
       "      <td>None</td>\n",
       "      <td>None</td>\n",
       "      <td>None</td>\n",
       "      <td>None</td>\n",
       "      <td>EPSG:4326</td>\n",
       "      <td>(-0.000271152, 0.00027769)</td>\n",
       "      <td>(0.813456, 0.83307)</td>\n",
       "      <td>(latitude, longitude)</td>\n",
       "    </tr>\n",
       "    <tr>\n",
       "      <td>8</td>\n",
       "      <td>ls8_lasrc_sierra_leone</td>\n",
       "      <td>Landsat 8 USGS Collection 1 Higher Level SR sc...</td>\n",
       "      <td>LaSRC</td>\n",
       "      <td>OLI_TIRS</td>\n",
       "      <td>NetCDF</td>\n",
       "      <td>LANDSAT_8</td>\n",
       "      <td>None</td>\n",
       "      <td>None</td>\n",
       "      <td>None</td>\n",
       "      <td>None</td>\n",
       "      <td>None</td>\n",
       "      <td>EPSG:4326</td>\n",
       "      <td>(-0.000269494585236, 0.000269494585236)</td>\n",
       "      <td>(0.943231048326, 0.943231048326)</td>\n",
       "      <td>(latitude, longitude)</td>\n",
       "    </tr>\n",
       "    <tr>\n",
       "      <td>15</td>\n",
       "      <td>ls8_lasrc_tanzania</td>\n",
       "      <td>Landsat 8 USGS Collection 1 Higher Level SR sc...</td>\n",
       "      <td>LaSRC</td>\n",
       "      <td>OLI_TIRS</td>\n",
       "      <td>NetCDF</td>\n",
       "      <td>LANDSAT_8</td>\n",
       "      <td>None</td>\n",
       "      <td>None</td>\n",
       "      <td>None</td>\n",
       "      <td>None</td>\n",
       "      <td>None</td>\n",
       "      <td>EPSG:4326</td>\n",
       "      <td>(-0.000271277688070265, 0.000271139577954979)</td>\n",
       "      <td>(0.999929558226998, 0.999962763497961)</td>\n",
       "      <td>(latitude, longitude)</td>\n",
       "    </tr>\n",
       "  </tbody>\n",
       "</table>\n",
       "</div>"
      ],
      "text/plain": [
       "                       name  \\\n",
       "id                            \n",
       "13         ls7_ledaps_ghana   \n",
       "17         ls7_ledaps_kenya   \n",
       "18       ls7_ledaps_senegal   \n",
       "16  ls7_ledaps_sierra_leone   \n",
       "19      ls7_ledaps_tanzania   \n",
       "31       ls7_ledaps_vietnam   \n",
       "9           ls8_lasrc_ghana   \n",
       "10          ls8_lasrc_kenya   \n",
       "11        ls8_lasrc_senegal   \n",
       "8    ls8_lasrc_sierra_leone   \n",
       "15       ls8_lasrc_tanzania   \n",
       "\n",
       "                                          description product_type instrument  \\\n",
       "id                                                                              \n",
       "13  Landsat 7 USGS Collection 1 Higher Level SR sc...       LEDAPS        ETM   \n",
       "17  Landsat 7 USGS Collection 1 Higher Level SR sc...       LEDAPS        ETM   \n",
       "18  Landsat 7 USGS Collection 1 Higher Level SR sc...       LEDAPS        ETM   \n",
       "16  Landsat 7 USGS Collection 1 Higher Level SR sc...       LEDAPS        ETM   \n",
       "19  Landsat 7 USGS Collection 1 Higher Level SR sc...       LEDAPS        ETM   \n",
       "31  Landsat 7 USGS Collection 1 Higher Level SR sc...       LEDAPS        ETM   \n",
       "9   Landsat 8 USGS Collection 1 Higher Level SR sc...        LaSRC   OLI_TIRS   \n",
       "10  Landsat 8 USGS Collection 1 Higher Level SR sc...        LaSRC   OLI_TIRS   \n",
       "11  Landsat 8 USGS Collection 1 Higher Level SR sc...        LaSRC   OLI_TIRS   \n",
       "8   Landsat 8 USGS Collection 1 Higher Level SR sc...        LaSRC   OLI_TIRS   \n",
       "15  Landsat 8 USGS Collection 1 Higher Level SR sc...        LaSRC   OLI_TIRS   \n",
       "\n",
       "    format   platform creation_time label  time   lat   lon        crs  \\\n",
       "id                                                                       \n",
       "13  NetCDF  LANDSAT_7          None  None  None  None  None  EPSG:4326   \n",
       "17  NetCDF  LANDSAT_7          None  None  None  None  None  EPSG:4326   \n",
       "18  NetCDF  LANDSAT_7          None  None  None  None  None  EPSG:4326   \n",
       "16  NetCDF  LANDSAT_7          None  None  None  None  None  EPSG:4326   \n",
       "19  NetCDF  LANDSAT_7          None  None  None  None  None  EPSG:4326   \n",
       "31  NetCDF  LANDSAT_7          None  None  None  None  None  EPSG:4326   \n",
       "9   NetCDF  LANDSAT_8          None  None  None  None  None  EPSG:4326   \n",
       "10  NetCDF  LANDSAT_8          None  None  None  None  None  EPSG:4326   \n",
       "11  NetCDF  LANDSAT_8          None  None  None  None  None  EPSG:4326   \n",
       "8   NetCDF  LANDSAT_8          None  None  None  None  None  EPSG:4326   \n",
       "15  NetCDF  LANDSAT_8          None  None  None  None  None  EPSG:4326   \n",
       "\n",
       "                                       resolution  \\\n",
       "id                                                  \n",
       "13        (-0.000269494585236, 0.000269494585236)   \n",
       "17                    (-0.000269493, 0.000269493)   \n",
       "18                     (-0.000271152, 0.00027769)   \n",
       "16        (-0.000269494585236, 0.000269494585236)   \n",
       "19  (-0.000271277688070265, 0.000271139577954979)   \n",
       "31        (-0.000269494585236, 0.000269494585236)   \n",
       "9         (-0.000269494585236, 0.000269494585236)   \n",
       "10   (-0.000271309115317046, 0.00026957992707863)   \n",
       "11                     (-0.000271152, 0.00027769)   \n",
       "8         (-0.000269494585236, 0.000269494585236)   \n",
       "15  (-0.000271277688070265, 0.000271139577954979)   \n",
       "\n",
       "                                 tile_size     spatial_dimensions  \n",
       "id                                                                 \n",
       "13        (0.943231048326, 0.943231048326)  (latitude, longitude)  \n",
       "17                (0.99981903, 0.99981903)  (latitude, longitude)  \n",
       "18                     (0.813456, 0.83307)  (latitude, longitude)  \n",
       "16        (0.943231048326, 0.943231048326)  (latitude, longitude)  \n",
       "19  (0.999929558226998, 0.999962763497961)  (latitude, longitude)  \n",
       "31        (0.943231048326, 0.943231048326)  (latitude, longitude)  \n",
       "9         (0.943231048326, 0.943231048326)  (latitude, longitude)  \n",
       "10  (0.999502780827996, 0.999602369607559)  (latitude, longitude)  \n",
       "11                     (0.813456, 0.83307)  (latitude, longitude)  \n",
       "8         (0.943231048326, 0.943231048326)  (latitude, longitude)  \n",
       "15  (0.999929558226998, 0.999962763497961)  (latitude, longitude)  "
      ]
     },
     "execution_count": 4,
     "metadata": {},
     "output_type": "execute_result"
    }
   ],
   "source": [
    "list_of_products = dc.list_products()\n",
    "netCDF_products = list_of_products[list_of_products['format'] == 'NetCDF']\n",
    "netCDF_products"
   ]
  },
  {
   "cell_type": "markdown",
   "metadata": {},
   "source": [
    ">### Pick a product  \n",
    ">Use the platform and product names from the previous block to select a Data Cube.  "
   ]
  },
  {
   "cell_type": "code",
   "execution_count": 5,
   "metadata": {},
   "outputs": [],
   "source": [
    "import utils.data_cube_utilities.data_access_api as dc_api  \n",
    "api = dc_api.DataAccessApi(config = '/home/localuser/.datacube.conf')\n",
    "\n",
    "# Change the data platform and data cube here\n",
    "\n",
    "platform = \"LANDSAT_7\"\n",
    "# platform = \"LANDSAT_8\"\n",
    "\n",
    "# product = \"ls7_ledaps_ghana\"\n",
    "# product = \"ls7_ledaps_kenya\"\n",
    "# product = \"ls7_ledaps_senegal\"\n",
    "# product = \"ls7_ledaps_sierra_leone\"\n",
    "# product = \"ls7_ledaps_tanzania\"\n",
    "product = \"ls7_ledaps_vietnam\""
   ]
  },
  {
   "cell_type": "markdown",
   "metadata": {},
   "source": [
    "> #### Display Latitude-Longitude and Time Bounds of the Data Cube"
   ]
  },
  {
   "cell_type": "code",
   "execution_count": 6,
   "metadata": {},
   "outputs": [
    {
     "name": "stdout",
     "output_type": "stream",
     "text": [
      "Latitude Extents: (9.176425374578418, 13.964805165051667)\n",
      "Longitude Extents: (102.40430421277932, 108.93092407802477)\n",
      "Time Extents: ['1999-09-08', '2016-12-29']\n"
     ]
    }
   ],
   "source": [
    "from utils.data_cube_utilities.dc_time import _n64_to_datetime, dt_to_str\n",
    "\n",
    "extents = api.get_full_dataset_extent(platform = platform, product = product, measurements=[])\n",
    "\n",
    "latitude_extents = (min(extents['latitude'].values),max(extents['latitude'].values))\n",
    "longitude_extents = (min(extents['longitude'].values),max(extents['longitude'].values))\n",
    "time_extents = (min(extents['time'].values),max(extents['time'].values))\n",
    "\n",
    "print(\"Latitude Extents:\", latitude_extents)\n",
    "print(\"Longitude Extents:\", longitude_extents)\n",
    "print(\"Time Extents:\", list(map(dt_to_str, map(_n64_to_datetime, time_extents))))"
   ]
  },
  {
   "cell_type": "markdown",
   "metadata": {},
   "source": [
    "# Visualize Data Cube Region"
   ]
  },
  {
   "cell_type": "code",
   "execution_count": 7,
   "metadata": {},
   "outputs": [
    {
     "data": {
      "text/html": [
       "<div style=\"width:100%;\"><div style=\"position:relative;width:100%;height:0;padding-bottom:60%;\"><iframe src=\"data:text/html;charset=utf-8;base64,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\" style=\"position:absolute;width:100%;height:100%;left:0;top:0;border:none !important;\" allowfullscreen webkitallowfullscreen mozallowfullscreen></iframe></div></div>"
      ],
      "text/plain": [
       "<folium.folium.Map at 0x7fc09ee47e10>"
      ]
     },
     "execution_count": 7,
     "metadata": {},
     "output_type": "execute_result"
    }
   ],
   "source": [
    "## The code below renders a map that can be used to orient yourself with the region.\n",
    "from utils.data_cube_utilities.dc_display_map import display_map\n",
    "display_map(latitude = latitude_extents, longitude = longitude_extents)"
   ]
  },
  {
   "cell_type": "markdown",
   "metadata": {},
   "source": [
    "> ### Pick a smaller analysis region and display that region\n",
    "Try to keep your region to less than 0.2-deg x 0.2-deg for rapid processing. You can click on the map above to find the Lat-Lon coordinates of any location. You will want to identify a region with an inland water body and some vegetation. Pick a time window of several years."
   ]
  },
  {
   "cell_type": "code",
   "execution_count": 8,
   "metadata": {},
   "outputs": [],
   "source": [
    "## Vietnam - Central Lam Dong Province ##\n",
    "longitude_extents = (107.0, 107.2)\n",
    "latitude_extents  = (11.7, 12.0)\n",
    "\n",
    "## Vietnam Ho Tri An Lake\n",
    "# longitude_extents = (107.0, 107.2)\n",
    "# latitude_extents  = (11.1, 11.3)\n",
    "\n",
    "time_extents = ('2005-01-01', '2005-12-31')"
   ]
  },
  {
   "cell_type": "code",
   "execution_count": 9,
   "metadata": {
    "scrolled": false
   },
   "outputs": [
    {
     "data": {
      "text/html": [
       "<div style=\"width:100%;\"><div style=\"position:relative;width:100%;height:0;padding-bottom:60%;\"><iframe src=\"data:text/html;charset=utf-8;base64,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\" style=\"position:absolute;width:100%;height:100%;left:0;top:0;border:none !important;\" allowfullscreen webkitallowfullscreen mozallowfullscreen></iframe></div></div>"
      ],
      "text/plain": [
       "<folium.folium.Map at 0x7fc09ee34390>"
      ]
     },
     "execution_count": 9,
     "metadata": {},
     "output_type": "execute_result"
    }
   ],
   "source": [
    "display_map(latitude = latitude_extents, longitude = longitude_extents)"
   ]
  },
  {
   "cell_type": "markdown",
   "metadata": {},
   "source": [
    "## Load the dataset and the required spectral bands or other parameters\n",
    "After loading, you will view the Xarray dataset. Notice the dimensions represent the number of pixels in your latitude and longitude dimension as well as the number of time slices (time) in your time series."
   ]
  },
  {
   "cell_type": "code",
   "execution_count": 10,
   "metadata": {},
   "outputs": [],
   "source": [
    "landsat_dataset = dc.load(latitude = latitude_extents,\n",
    "                          longitude = longitude_extents,\n",
    "                          platform = platform,\n",
    "                          time = time_extents,\n",
    "                          product = product,\n",
    "                          measurements = ['red', 'green', 'blue', 'nir', 'swir1', 'swir2', 'pixel_qa']) "
   ]
  },
  {
   "cell_type": "code",
   "execution_count": 11,
   "metadata": {},
   "outputs": [
    {
     "data": {
      "text/plain": [
       "<xarray.Dataset>\n",
       "Dimensions:    (latitude: 1114, longitude: 743, time: 13)\n",
       "Coordinates:\n",
       "  * time       (time) datetime64[ns] 2005-01-13T02:57:03 ... 2005-12-31T02:57:25\n",
       "  * latitude   (latitude) float64 12.0 12.0 12.0 12.0 ... 11.7 11.7 11.7 11.7\n",
       "  * longitude  (longitude) float64 107.0 107.0 107.0 107.0 ... 107.2 107.2 107.2\n",
       "Data variables:\n",
       "    red        (time, latitude, longitude) int16 -9999 -9999 -9999 ... 457 517\n",
       "    green      (time, latitude, longitude) int16 -9999 -9999 -9999 ... 500 500\n",
       "    blue       (time, latitude, longitude) int16 -9999 -9999 -9999 ... 296 316\n",
       "    nir        (time, latitude, longitude) int16 -9999 -9999 -9999 ... 2713 2356\n",
       "    swir1      (time, latitude, longitude) int16 -9999 -9999 -9999 ... 1632 1552\n",
       "    swir2      (time, latitude, longitude) int16 -9999 -9999 -9999 ... 796 738\n",
       "    pixel_qa   (time, latitude, longitude) int32 1 1 1 1 1 1 ... 66 66 66 66 66\n",
       "Attributes:\n",
       "    crs:      EPSG:4326"
      ]
     },
     "execution_count": 11,
     "metadata": {},
     "output_type": "execute_result"
    }
   ],
   "source": [
    "landsat_dataset\n",
    "#view the dimensions and sample content from the cube"
   ]
  },
  {
   "cell_type": "markdown",
   "metadata": {},
   "source": [
    "## Preparing the data\n",
    "We will filter out the clouds and the water using the Landsat pixel_qa information. Next, we will calculate the values of NDVI (vegetation index) and TSM (water quality). "
   ]
  },
  {
   "cell_type": "code",
   "execution_count": 12,
   "metadata": {},
   "outputs": [],
   "source": [
    "import xarray as xr  \n",
    "import numpy as np\n",
    "def ls7_unpack_qa( data_array , cover_type):  \n",
    "    \n",
    "    land_cover_endcoding = dict( fill     =  [1], \n",
    "                                 clear    =  [66,  130], \n",
    "                                 water    =  [68,  132],\n",
    "                                 shadow   =  [72,  136],\n",
    "                                 snow     =  [80,  112, 144, 176],\n",
    "                                 cloud    =  [96,  112, 160, 176, 224],\n",
    "                                 low_conf =  [66,  68,  72,  80,  96,  112],\n",
    "                                 med_conf =  [130, 132, 136, 144, 160, 176],\n",
    "                                 high_conf=  [224]\n",
    "                               ) \n",
    "    boolean_mask = np.isin(data_array.values, land_cover_endcoding[cover_type]) \n",
    "    return xr.DataArray(boolean_mask.astype(int),\n",
    "                        coords = data_array.coords,\n",
    "                        dims = data_array.dims,\n",
    "                        name = cover_type + \"_mask\",\n",
    "                        attrs = data_array.attrs) \n"
   ]
  },
  {
   "cell_type": "code",
   "execution_count": 13,
   "metadata": {},
   "outputs": [],
   "source": [
    "clear_xarray  = ls7_unpack_qa(landsat_dataset.pixel_qa, \"clear\")  \n",
    "water_xarray  = ls7_unpack_qa(landsat_dataset.pixel_qa, \"water\")\n",
    "shadow_xarray = ls7_unpack_qa(landsat_dataset.pixel_qa, \"shadow\") \n",
    "cloud_xarray = ls7_unpack_qa(landsat_dataset.pixel_qa, \"cloud\") "
   ]
  },
  {
   "cell_type": "code",
   "execution_count": 14,
   "metadata": {},
   "outputs": [],
   "source": [
    "clean_xarray = xr.ufuncs.logical_or(clear_xarray , water_xarray).astype(np.int8).rename(\"clean_mask\")\n",
    "\n",
    "clean_mask = np.logical_or(clear_xarray.values.astype(bool),\n",
    "                           water_xarray.values.astype(bool)) "
   ]
  },
  {
   "cell_type": "code",
   "execution_count": 15,
   "metadata": {},
   "outputs": [],
   "source": [
    "def NDVI(dataset):\n",
    "    return ((dataset.nir - dataset.red)/(dataset.nir + dataset.red)).rename(\"NDVI\")"
   ]
  },
  {
   "cell_type": "code",
   "execution_count": 16,
   "metadata": {},
   "outputs": [],
   "source": [
    "ndvi_xarray = NDVI(landsat_dataset)  # Vegetation Index"
   ]
  },
  {
   "cell_type": "code",
   "execution_count": 17,
   "metadata": {},
   "outputs": [],
   "source": [
    "from utils.data_cube_utilities.dc_water_quality import tsm\n",
    "\n",
    "tsm_xarray = tsm(landsat_dataset, clean_mask = water_xarray.values.astype(bool) ).tsm"
   ]
  },
  {
   "cell_type": "markdown",
   "metadata": {},
   "source": [
    "### Combine everything into one XARRAY for further analysis"
   ]
  },
  {
   "cell_type": "code",
   "execution_count": 18,
   "metadata": {},
   "outputs": [],
   "source": [
    "combined_dataset = xr.merge([landsat_dataset,\n",
    "          clean_xarray,\n",
    "          clear_xarray,\n",
    "          water_xarray,\n",
    "          shadow_xarray,\n",
    "          cloud_xarray,                  \n",
    "          ndvi_xarray,\n",
    "          tsm_xarray])\n",
    "\n",
    "# Copy original crs to merged dataset \n",
    "combined_dataset = combined_dataset.assign_attrs(landsat_dataset.attrs)"
   ]
  },
  {
   "cell_type": "markdown",
   "metadata": {},
   "source": [
    "## Define a path for a transect  \n",
    "A transect is just a line that will run across our region of interest. Use the display map above to find the end points of your desired line. If you click on the map it will give you precise Lat-Lon positions for a point."
   ]
  },
  {
   "cell_type": "markdown",
   "metadata": {},
   "source": [
    "### Start with a line across a mix of water and land"
   ]
  },
  {
   "cell_type": "code",
   "execution_count": 19,
   "metadata": {},
   "outputs": [],
   "source": [
    "# Water and Land Mixed Examples\n",
    "\n",
    "# North-South Path\n",
    "start = ( 11.8428, 107.0734 )\n",
    "end   = ( 11.7306, 107.0734 )\n",
    "\n",
    "# East-West Path\n",
    "# start = ( 11.9167, 107.0554 )\n",
    "# end   = ( 11.9167, 107.1719 )\n",
    "\n",
    "# East-West Path for Lake Ho Tri An\n",
    "# start = ( 11.25, 107.02 )\n",
    "# end   = ( 11.25, 107.18 )"
   ]
  },
  {
   "cell_type": "markdown",
   "metadata": {},
   "source": [
    "### Plot the transect line"
   ]
  },
  {
   "cell_type": "code",
   "execution_count": 20,
   "metadata": {},
   "outputs": [
    {
     "data": {
      "text/html": [
       "<div style=\"width:100%;\"><div style=\"position:relative;width:100%;height:0;padding-bottom:60%;\"><iframe src=\"data:text/html;charset=utf-8;base64,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\" style=\"position:absolute;width:100%;height:100%;left:0;top:0;border:none !important;\" allowfullscreen webkitallowfullscreen mozallowfullscreen></iframe></div></div>"
      ],
      "text/plain": [
       "<folium.folium.Map at 0x7fc09bd3d160>"
      ]
     },
     "execution_count": 20,
     "metadata": {},
     "output_type": "execute_result"
    }
   ],
   "source": [
    "import folium\n",
    "import numpy as np  \n",
    "from folium.features import CustomIcon\n",
    "\n",
    "def plot_a_path(points , zoom = 15):\n",
    "    xs,ys = zip(*points)\n",
    "    \n",
    "    map_center_point = (np.mean(xs), np.mean(ys))\n",
    "    the_map = folium.Map(location=[map_center_point[0], map_center_point[1]], zoom_start = zoom, tiles='http://mt1.google.com/vt/lyrs=y&z={z}&x={x}&y={y}', attr = \"Google Attribution\")\n",
    "    path = folium.PolyLine(locations=points, weight=5, color = 'orange')\n",
    "    the_map.add_child(path)\n",
    "    \n",
    "    start = ( xs[0] ,ys[0] )\n",
    "    end   = ( xs[-1],ys[-1])\n",
    "    \n",
    "    return the_map  \n",
    "\n",
    "plot_a_path([start,end])    "
   ]
  },
  {
   "cell_type": "markdown",
   "metadata": {},
   "source": [
    "### Find the nearest pixels along the transect path"
   ]
  },
  {
   "cell_type": "code",
   "execution_count": 21,
   "metadata": {},
   "outputs": [],
   "source": [
    "from utils.data_cube_utilities.transect import line_scan\n",
    "\n",
    "import numpy as np\n",
    "\n",
    "def get_index_at(coords, ds):\n",
    "    '''Returns an integer index pair.'''\n",
    "    lat = coords[0]\n",
    "    lon = coords[1]\n",
    "    \n",
    "    nearest_lat = ds.sel(latitude = lat, method = 'nearest').latitude.values\n",
    "    nearest_lon = ds.sel(longitude = lon, method = 'nearest').longitude.values\n",
    "    \n",
    "    lat_index = np.where(ds.latitude.values == nearest_lat)[0]\n",
    "    lon_index = np.where(ds.longitude.values == nearest_lon)[0]\n",
    "    \n",
    "    return (int(lat_index), int(lon_index))\n",
    "\n",
    "def create_pixel_trail(start, end, ds):\n",
    "    a = get_index_at(start, ds)\n",
    "    b = get_index_at(end, ds)\n",
    "    \n",
    "    indices = line_scan.line_scan(a, b)\n",
    "\n",
    "    pixels = [ ds.isel(latitude = x, longitude = y) for x, y in indices]\n",
    "    return pixels"
   ]
  },
  {
   "cell_type": "code",
   "execution_count": 22,
   "metadata": {},
   "outputs": [],
   "source": [
    "list_of_pixels_along_segment = create_pixel_trail(start, end, landsat_dataset)"
   ]
  },
  {
   "cell_type": "markdown",
   "metadata": {},
   "source": [
    "## Groundwork for Transect (2-D) and Hovmöller (3-D) Plots"
   ]
  },
  {
   "cell_type": "code",
   "execution_count": 23,
   "metadata": {},
   "outputs": [],
   "source": [
    "import xarray\n",
    "import matplotlib.pyplot as plt  \n",
    "from matplotlib.ticker import FuncFormatter  \n",
    "from datetime import datetime  \n",
    "import time\n",
    "\n",
    "def plot_list_of_pixels(list_of_pixels, band_name, y = None): \n",
    "    start = (\n",
    "             \"{0:.2f}\".format(float(list_of_pixels[0].latitude.values )),\n",
    "             \"{0:.2f}\".format(float(list_of_pixels[0].longitude.values))\n",
    "            )  \n",
    "    end = (\n",
    "             \"{0:.2f}\".format(float(list_of_pixels[-1].latitude.values)),\n",
    "             \"{0:.2f}\".format(float(list_of_pixels[-1].longitude.values))\n",
    "            )\n",
    "    \n",
    "    def reformat_n64(t):\n",
    "        return time.strftime(\"%Y.%m.%d\", time.gmtime(t.astype(int)/1000000000))   \n",
    "    \n",
    "    def pixel_to_array(pixel):\n",
    "        return(pixel.values)\n",
    "    \n",
    "    def figure_ratio(x,y, fixed_width = 10):\n",
    "        width = fixed_width\n",
    "        height = y * (fixed_width / x)\n",
    "        return (width, height)\n",
    "    \n",
    "    pixel_array = np.transpose([pixel_to_array(pix) for pix in list_of_pixels])\n",
    "    \n",
    "    #If the data has one acquisition, then plot transect (2-D), else Hovmöller (3-D) \n",
    "    if y.size == 1:\n",
    "        plt.figure(figsize = (15,5))\n",
    "        plt.scatter(np.arange(pixel_array.size), pixel_array)\n",
    "        plt.title(\"Transect (2-D) \\n Acquisition date: {}\".format(reformat_n64(y)))\n",
    "        plt.xlabel(\"Pixels along the transect \\n {} -  {} \\n \".format(start,end))\n",
    "        plt.ylabel(band_name)\n",
    "\n",
    "    else:\n",
    "        m = FuncFormatter(lambda x :x )\n",
    "        figure = plt.figure(figsize = figure_ratio(len(list_of_pixels),\n",
    "                                                   len(list_of_pixels[0].values),\n",
    "                                                   fixed_width = 15))\n",
    "        number_of_y_ticks = 5 \n",
    "\n",
    "        ax = plt.gca()\n",
    "        cax = ax.imshow(pixel_array, interpolation='none')\n",
    "        figure.colorbar(cax,fraction=0.110, pad=0.04)\n",
    "\n",
    "        ax.set_title(\"Hovmöller (3-D) \\n Acquisition range: {} -  {} \\n \".format(reformat_n64(y[0]),reformat_n64(y[-1])))\n",
    "        plt.xlabel(\"Pixels along the transect \\n {} -  {} \\n \".format(start,end))\n",
    "        ax.get_yaxis().set_major_formatter( FuncFormatter(lambda x, p: reformat_n64(list_of_pixels[0].time.values[int(x)]) if int(x) < len(list_of_pixels[0].time) else \"\"))    \n",
    "        plt.ylabel(\"Time\")\n",
    "    plt.show()"
   ]
  },
  {
   "cell_type": "code",
   "execution_count": 24,
   "metadata": {},
   "outputs": [],
   "source": [
    "def transect_plot(start,\n",
    "                  end,\n",
    "                  da):\n",
    "    if type(da) is not xarray.DataArray and (type(da) is xarray.Dataset)  :\n",
    "        raise Exception('You should be passing in a data-array, not a Dataset')\n",
    "\n",
    "    pixels = create_pixel_trail(start, end,da)\n",
    "    dates = da.time.values  \n",
    "\n",
    "    lats = [x.latitude.values for x in pixels]\n",
    "    lons = [x.longitude.values for x in pixels]\n",
    "    \n",
    "    plot_list_of_pixels(pixels, da.name, y = dates)"
   ]
  },
  {
   "cell_type": "code",
   "execution_count": 25,
   "metadata": {},
   "outputs": [],
   "source": [
    "pixels = create_pixel_trail(start, end, landsat_dataset)"
   ]
  },
  {
   "cell_type": "code",
   "execution_count": 26,
   "metadata": {},
   "outputs": [],
   "source": [
    "t = 2\n",
    "subset = list( map(lambda x: x.isel(time = t), pixels))"
   ]
  },
  {
   "cell_type": "markdown",
   "metadata": {},
   "source": [
    "### Mask Clouds"
   ]
  },
  {
   "cell_type": "code",
   "execution_count": 27,
   "metadata": {},
   "outputs": [],
   "source": [
    "def land_and_water_masking_ls7(dataset):    \n",
    "    #Create boolean Masks for clear and water pixels\n",
    "    clear_pixels = landsat_dataset.pixel_qa.values == 2 + 64\n",
    "    water_pixels = landsat_dataset.pixel_qa.values == 4 + 64\n",
    "\n",
    "    a_clean_mask = np.logical_or(clear_pixels, water_pixels)\n",
    "    return a_clean_mask"
   ]
  },
  {
   "cell_type": "code",
   "execution_count": 28,
   "metadata": {},
   "outputs": [],
   "source": [
    "cloudless_dataset = landsat_dataset.where(land_and_water_masking_ls7(landsat_dataset))"
   ]
  },
  {
   "cell_type": "markdown",
   "metadata": {},
   "source": [
    "### Select an acquisition date and then plot a 2D transect without clouds"
   ]
  },
  {
   "cell_type": "code",
   "execution_count": 31,
   "metadata": {},
   "outputs": [],
   "source": [
    "# select an acquisition number from the start (t=0) to \"time\" using the array limits above\n",
    "acquisition_number = 10"
   ]
  },
  {
   "cell_type": "code",
   "execution_count": 32,
   "metadata": {},
   "outputs": [],
   "source": [
    "#If plotted will create the 2-D transect\n",
    "cloudless_dataset_for_acq_no = cloudless_dataset.isel(time = acquisition_number) "
   ]
  },
  {
   "cell_type": "code",
   "execution_count": 33,
   "metadata": {},
   "outputs": [],
   "source": [
    "#If Plotted will create the 3-D Hovmoller plot for a portion of the time series (min to max)\n",
    "min_acq = 1\n",
    "max_acq = 4\n",
    "\n",
    "cloudless_dataset_from_1_to_acq_no = cloudless_dataset.isel(time = slice(min_acq, max_acq)) "
   ]
  },
  {
   "cell_type": "markdown",
   "metadata": {},
   "source": [
    "## Select one of the XARRAY parameters for analysis"
   ]
  },
  {
   "cell_type": "code",
   "execution_count": 34,
   "metadata": {},
   "outputs": [],
   "source": [
    "band = 'green'"
   ]
  },
  {
   "cell_type": "markdown",
   "metadata": {},
   "source": [
    "### Create a 2D Transect plot of the \"band\" for one date"
   ]
  },
  {
   "cell_type": "code",
   "execution_count": 35,
   "metadata": {
    "scrolled": false
   },
   "outputs": [
    {
     "data": {
      "image/png": "[encoded data removed]",
      "text/plain": [
       "<Figure size 1080x360 with 1 Axes>"
      ]
     },
     "metadata": {
      "needs_background": "light"
     },
     "output_type": "display_data"
    }
   ],
   "source": [
    "transect_plot(start, end, cloudless_dataset_for_acq_no[band])"
   ]
  },
  {
   "cell_type": "markdown",
   "metadata": {},
   "source": [
    "### Create a 2D Transect plot of NDVI for one date"
   ]
  },
  {
   "cell_type": "code",
   "execution_count": 36,
   "metadata": {},
   "outputs": [
    {
     "data": {
      "image/png": "[encoded data removed]",
      "text/plain": [
       "<Figure size 1080x360 with 1 Axes>"
      ]
     },
     "metadata": {
      "needs_background": "light"
     },
     "output_type": "display_data"
    }
   ],
   "source": [
    "transect_plot(start, end, NDVI(cloudless_dataset_for_acq_no))"
   ]
  },
  {
   "cell_type": "markdown",
   "metadata": {},
   "source": [
    "### Create a 3D Hovmoller plot of NDVI for the entire time series"
   ]
  },
  {
   "cell_type": "code",
   "execution_count": 37,
   "metadata": {},
   "outputs": [
    {
     "data": {
      "image/png": "[encoded data removed]",
      "text/plain": [
       "<Figure size 1080x33.6691 with 2 Axes>"
      ]
     },
     "metadata": {
      "needs_background": "light"
     },
     "output_type": "display_data"
    }
   ],
   "source": [
    "transect_plot(start, end, NDVI(cloudless_dataset))"
   ]
  },
  {
   "cell_type": "markdown",
   "metadata": {},
   "source": [
    "### Create a 2D Transect plot of water existence for one date"
   ]
  },
  {
   "cell_type": "code",
   "execution_count": 38,
   "metadata": {},
   "outputs": [
    {
     "data": {
      "image/png": "[encoded data removed]",
      "text/plain": [
       "<Figure size 1080x360 with 1 Axes>"
      ]
     },
     "metadata": {
      "needs_background": "light"
     },
     "output_type": "display_data"
    }
   ],
   "source": [
    "transect_plot(start, end, water_xarray.isel(time = acquisition_number))"
   ]
  },
  {
   "cell_type": "markdown",
   "metadata": {},
   "source": [
    "### Create a 3D Hovmoller plot of water extent for the entire time series"
   ]
  },
  {
   "cell_type": "code",
   "execution_count": 39,
   "metadata": {
    "scrolled": true
   },
   "outputs": [
    {
     "data": {
      "image/png": "[encoded data removed]",
      "text/plain": [
       "<Figure size 1080x33.6691 with 2 Axes>"
      ]
     },
     "metadata": {
      "needs_background": "light"
     },
     "output_type": "display_data"
    }
   ],
   "source": [
    "transect_plot(start, end, water_xarray)"
   ]
  },
  {
   "cell_type": "markdown",
   "metadata": {},
   "source": [
    "### Create a 2D Transect plot of water quality (TSM) for one date"
   ]
  },
  {
   "cell_type": "code",
   "execution_count": 40,
   "metadata": {},
   "outputs": [
    {
     "data": {
      "image/png": "[encoded data removed]",
      "text/plain": [
       "<Figure size 1080x360 with 1 Axes>"
      ]
     },
     "metadata": {
      "needs_background": "light"
     },
     "output_type": "display_data"
    }
   ],
   "source": [
    "transect_plot(start, end, tsm_xarray.isel(time = acquisition_number))"
   ]
  },
  {
   "cell_type": "markdown",
   "metadata": {},
   "source": [
    "### Create a 3D Hovmoller plot of water quality (TSM) for one date"
   ]
  },
  {
   "cell_type": "code",
   "execution_count": 41,
   "metadata": {},
   "outputs": [
    {
     "data": {
      "image/png": "[encoded data removed]",
      "text/plain": [
       "<Figure size 1080x33.6691 with 2 Axes>"
      ]
     },
     "metadata": {
      "needs_background": "light"
     },
     "output_type": "display_data"
    }
   ],
   "source": [
    "transect_plot(start, end, tsm_xarray)"
   ]
  }
 ],
 "metadata": {
  "kernelspec": {
   "display_name": "Python 3",
   "language": "python",
   "name": "python3"
  },
  "language_info": {
   "codemirror_mode": {
    "name": "ipython",
    "version": 3
   },
   "file_extension": ".py",
   "mimetype": "text/x-python",
   "name": "python",
   "nbconvert_exporter": "python",
   "pygments_lexer": "ipython3",
   "version": "3.6.7"
  }
 },
 "nbformat": 4,
 "nbformat_minor": 2
}
