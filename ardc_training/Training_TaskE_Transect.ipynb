{
 "cells": [
  {
   "cell_type": "code",
   "execution_count": 1,
   "metadata": {},
   "outputs": [],
   "source": [
    "from sys import path\n",
    "path.append(\"../\")"
   ]
  },
  {
   "cell_type": "markdown",
   "metadata": {},
   "source": [
    "# ARDC Training: Python Notebooks\n",
    "Task-E: This notebook will demonstrate 2D transect analyses and 3D Hovmoller plots. We will run these for NDVI (land) and TSM (water quality) to show the spatial and temporal variation of data along a line (transect) for a given time slice and for the entire time series. "
   ]
  },
  {
   "cell_type": "markdown",
   "metadata": {},
   "source": [
    "> ### Import the Datacube Configuration"
   ]
  },
  {
   "cell_type": "code",
   "execution_count": 1,
   "metadata": {
    "collapsed": true
   },
   "outputs": [],
   "source": [
    "import datacube\n",
    "dc = datacube.Datacube(app = 'my_app', config = '/home/localuser/.datacube.conf')"
   ]
  },
  {
   "cell_type": "code",
   "execution_count": 2,
   "metadata": {
    "collapsed": true
   },
   "outputs": [],
   "source": [
    "# Supress Warning \n",
    "import warnings\n",
    "warnings.filterwarnings('ignore')"
   ]
  },
  {
   "cell_type": "markdown",
   "metadata": {},
   "source": [
    ">### Browse the available Data Cubes   "
   ]
  },
  {
   "cell_type": "code",
   "execution_count": 3,
   "metadata": {},
   "outputs": [
    {
     "data": {
      "text/html": [
       "<div>\n",
       "<style>\n",
       "    .dataframe thead tr:only-child th {\n",
       "        text-align: right;\n",
       "    }\n",
       "\n",
       "    .dataframe thead th {\n",
       "        text-align: left;\n",
       "    }\n",
       "\n",
       "    .dataframe tbody tr th {\n",
       "        vertical-align: top;\n",
       "    }\n",
       "</style>\n",
       "<table border=\"1\" class=\"dataframe\">\n",
       "  <thead>\n",
       "    <tr style=\"text-align: right;\">\n",
       "      <th></th>\n",
       "      <th>name</th>\n",
       "      <th>description</th>\n",
       "      <th>platform</th>\n",
       "      <th>product_type</th>\n",
       "      <th>instrument</th>\n",
       "      <th>time</th>\n",
       "      <th>lat</th>\n",
       "      <th>lon</th>\n",
       "      <th>format</th>\n",
       "      <th>crs</th>\n",
       "      <th>resolution</th>\n",
       "      <th>tile_size</th>\n",
       "      <th>spatial_dimensions</th>\n",
       "    </tr>\n",
       "    <tr>\n",
       "      <th>id</th>\n",
       "      <th></th>\n",
       "      <th></th>\n",
       "      <th></th>\n",
       "      <th></th>\n",
       "      <th></th>\n",
       "      <th></th>\n",
       "      <th></th>\n",
       "      <th></th>\n",
       "      <th></th>\n",
       "      <th></th>\n",
       "      <th></th>\n",
       "      <th></th>\n",
       "      <th></th>\n",
       "    </tr>\n",
       "  </thead>\n",
       "  <tbody>\n",
       "    <tr>\n",
       "      <th>61</th>\n",
       "      <td>alos2_jjfast_scansar_tile_colombia</td>\n",
       "      <td>ALOS2 PALSAR JJFAST tile in DN format processe...</td>\n",
       "      <td>ALOS_2</td>\n",
       "      <td>tile</td>\n",
       "      <td>PALSAR</td>\n",
       "      <td>None</td>\n",
       "      <td>None</td>\n",
       "      <td>None</td>\n",
       "      <td>NetCDF</td>\n",
       "      <td>EPSG:4326</td>\n",
       "      <td>[-0.0002666666667, 0.0002666666667]</td>\n",
       "      <td>[0.5333333334, 0.5333333334]</td>\n",
       "      <td>(latitude, longitude)</td>\n",
       "    </tr>\n",
       "    <tr>\n",
       "      <th>65</th>\n",
       "      <td>alos2_palsar2_scansar_caqueta</td>\n",
       "      <td>ALOS2 PALSAR JJFAST tile in DN format processe...</td>\n",
       "      <td>ALOS_2</td>\n",
       "      <td>tile</td>\n",
       "      <td>PALSAR_2</td>\n",
       "      <td>None</td>\n",
       "      <td>None</td>\n",
       "      <td>None</td>\n",
       "      <td>NetCDF</td>\n",
       "      <td>EPSG:4326</td>\n",
       "      <td>[-0.0002666666667, 0.0002666666667]</td>\n",
       "      <td>[0.5333333334, 0.5333333334]</td>\n",
       "      <td>(latitude, longitude)</td>\n",
       "    </tr>\n",
       "    <tr>\n",
       "      <th>50</th>\n",
       "      <td>alos2_palsar_colombia</td>\n",
       "      <td>ALOS2 PALSAR tile in DN format processed for t...</td>\n",
       "      <td>ALOS_2</td>\n",
       "      <td>gamma0</td>\n",
       "      <td>PALSAR</td>\n",
       "      <td>None</td>\n",
       "      <td>None</td>\n",
       "      <td>None</td>\n",
       "      <td>NetCDF</td>\n",
       "      <td>EPSG:4326</td>\n",
       "      <td>[-0.0002666666667, 0.0002666666667]</td>\n",
       "      <td>[0.5333333334, 0.5333333334]</td>\n",
       "      <td>(latitude, longitude)</td>\n",
       "    </tr>\n",
       "    <tr>\n",
       "      <th>51</th>\n",
       "      <td>alos2_palsar_kenya</td>\n",
       "      <td>ALOS2 PALSAR tile in DN format processed for t...</td>\n",
       "      <td>ALOS_2</td>\n",
       "      <td>gamma0</td>\n",
       "      <td>PALSAR</td>\n",
       "      <td>None</td>\n",
       "      <td>None</td>\n",
       "      <td>None</td>\n",
       "      <td>NetCDF</td>\n",
       "      <td>EPSG:4326</td>\n",
       "      <td>[-0.0002666666667, 0.0002666666667]</td>\n",
       "      <td>[0.5333333334, 0.5333333334]</td>\n",
       "      <td>(latitude, longitude)</td>\n",
       "    </tr>\n",
       "    <tr>\n",
       "      <th>52</th>\n",
       "      <td>alos2_palsar_vietnam</td>\n",
       "      <td>ALOS2 PALSAR tile in DN format processed for t...</td>\n",
       "      <td>ALOS_2</td>\n",
       "      <td>gamma0</td>\n",
       "      <td>PALSAR</td>\n",
       "      <td>None</td>\n",
       "      <td>None</td>\n",
       "      <td>None</td>\n",
       "      <td>NetCDF</td>\n",
       "      <td>EPSG:4326</td>\n",
       "      <td>[-0.0002666666667, 0.0002666666667]</td>\n",
       "      <td>[0.5333333334, 0.5333333334]</td>\n",
       "      <td>(latitude, longitude)</td>\n",
       "    </tr>\n",
       "    <tr>\n",
       "      <th>53</th>\n",
       "      <td>alos_palsar_colombia</td>\n",
       "      <td>ALOS PALSAR tile in DN format processed for th...</td>\n",
       "      <td>ALOS</td>\n",
       "      <td>gamma0</td>\n",
       "      <td>PALSAR</td>\n",
       "      <td>None</td>\n",
       "      <td>None</td>\n",
       "      <td>None</td>\n",
       "      <td>NetCDF</td>\n",
       "      <td>EPSG:4326</td>\n",
       "      <td>[-0.0002666666667, 0.0002666666667]</td>\n",
       "      <td>[0.5333333334, 0.5333333334]</td>\n",
       "      <td>(latitude, longitude)</td>\n",
       "    </tr>\n",
       "    <tr>\n",
       "      <th>54</th>\n",
       "      <td>alos_palsar_kenya</td>\n",
       "      <td>ALOS PALSAR tile in DN format processed for th...</td>\n",
       "      <td>ALOS</td>\n",
       "      <td>gamma0</td>\n",
       "      <td>PALSAR</td>\n",
       "      <td>None</td>\n",
       "      <td>None</td>\n",
       "      <td>None</td>\n",
       "      <td>NetCDF</td>\n",
       "      <td>EPSG:4326</td>\n",
       "      <td>[-0.0002666666667, 0.0002666666667]</td>\n",
       "      <td>[0.5333333334, 0.5333333334]</td>\n",
       "      <td>(latitude, longitude)</td>\n",
       "    </tr>\n",
       "    <tr>\n",
       "      <th>55</th>\n",
       "      <td>alos_palsar_vietnam</td>\n",
       "      <td>ALOS PALSAR tile in DN format processed for th...</td>\n",
       "      <td>ALOS</td>\n",
       "      <td>gamma0</td>\n",
       "      <td>PALSAR</td>\n",
       "      <td>None</td>\n",
       "      <td>None</td>\n",
       "      <td>None</td>\n",
       "      <td>NetCDF</td>\n",
       "      <td>EPSG:4326</td>\n",
       "      <td>[-0.0002666666667, 0.0002666666667]</td>\n",
       "      <td>[0.5333333334, 0.5333333334]</td>\n",
       "      <td>(latitude, longitude)</td>\n",
       "    </tr>\n",
       "    <tr>\n",
       "      <th>14</th>\n",
       "      <td>gpm_imerg_gis_daily_global</td>\n",
       "      <td>Global NetCDF GPM IMERG GIS data</td>\n",
       "      <td>GPM</td>\n",
       "      <td>daily</td>\n",
       "      <td>GPM</td>\n",
       "      <td>None</td>\n",
       "      <td>None</td>\n",
       "      <td>None</td>\n",
       "      <td>NetCDF</td>\n",
       "      <td>EPSG:4326</td>\n",
       "      <td>[-0.1, 0.1]</td>\n",
       "      <td>[90, 180]</td>\n",
       "      <td>(latitude, longitude)</td>\n",
       "    </tr>\n",
       "    <tr>\n",
       "      <th>15</th>\n",
       "      <td>gpm_imerg_gis_monthly_global</td>\n",
       "      <td>Global NetCDF GPM IMERG GIS data</td>\n",
       "      <td>GPM</td>\n",
       "      <td>monthly</td>\n",
       "      <td>GPM</td>\n",
       "      <td>None</td>\n",
       "      <td>None</td>\n",
       "      <td>None</td>\n",
       "      <td>NetCDF</td>\n",
       "      <td>EPSG:4326</td>\n",
       "      <td>[-0.1, 0.1]</td>\n",
       "      <td>[90, 180]</td>\n",
       "      <td>(latitude, longitude)</td>\n",
       "    </tr>\n",
       "    <tr>\n",
       "      <th>17</th>\n",
       "      <td>ls5_ledaps_bangladesh</td>\n",
       "      <td>Landsat 5 USGS Collection 1 Higher Level SR sc...</td>\n",
       "      <td>LANDSAT_5</td>\n",
       "      <td>LEDAPS</td>\n",
       "      <td>TM</td>\n",
       "      <td>None</td>\n",
       "      <td>None</td>\n",
       "      <td>None</td>\n",
       "      <td>NetCDF</td>\n",
       "      <td>EPSG:4326</td>\n",
       "      <td>[-0.000270861, 0.000294834]</td>\n",
       "      <td>[0.812583, 0.884502]</td>\n",
       "      <td>(latitude, longitude)</td>\n",
       "    </tr>\n",
       "    <tr>\n",
       "      <th>18</th>\n",
       "      <td>ls5_ledaps_lake_chad_full</td>\n",
       "      <td>Landsat 5 USGS Collection 1 Higher Level SR sc...</td>\n",
       "      <td>LANDSAT_5</td>\n",
       "      <td>LEDAPS</td>\n",
       "      <td>TM</td>\n",
       "      <td>None</td>\n",
       "      <td>None</td>\n",
       "      <td>None</td>\n",
       "      <td>NetCDF</td>\n",
       "      <td>EPSG:4326</td>\n",
       "      <td>[-0.000271152, 0.00027769]</td>\n",
       "      <td>[0.813456, 0.83307]</td>\n",
       "      <td>(latitude, longitude)</td>\n",
       "    </tr>\n",
       "    <tr>\n",
       "      <th>85</th>\n",
       "      <td>ls5_ledaps_swiss_mini</td>\n",
       "      <td>Landsat 5 USGS Collection 1 Higher Level SR sc...</td>\n",
       "      <td>LANDSAT_5</td>\n",
       "      <td>LEDAPS</td>\n",
       "      <td>TM1</td>\n",
       "      <td>None</td>\n",
       "      <td>None</td>\n",
       "      <td>None</td>\n",
       "      <td>NetCDF</td>\n",
       "      <td>EPSG:4326</td>\n",
       "      <td>[-0.000269493, 0.000269493]</td>\n",
       "      <td>[0.99981903, 0.99981903]</td>\n",
       "      <td>(latitude, longitude)</td>\n",
       "    </tr>\n",
       "    <tr>\n",
       "      <th>19</th>\n",
       "      <td>ls7_ledaps_amazon_river</td>\n",
       "      <td>Landsat 7 USGS Collection 1 Higher Level SR sc...</td>\n",
       "      <td>LANDSAT_7</td>\n",
       "      <td>LEDAPS</td>\n",
       "      <td>ETM</td>\n",
       "      <td>None</td>\n",
       "      <td>None</td>\n",
       "      <td>None</td>\n",
       "      <td>NetCDF</td>\n",
       "      <td>EPSG:4326</td>\n",
       "      <td>[-0.000271302, 0.000269995]</td>\n",
       "      <td>[0.813906, 0.809985]</td>\n",
       "      <td>(latitude, longitude)</td>\n",
       "    </tr>\n",
       "    <tr>\n",
       "      <th>20</th>\n",
       "      <td>ls7_ledaps_bangladesh</td>\n",
       "      <td>Landsat 7 USGS Collection 1 Higher Level SR sc...</td>\n",
       "      <td>LANDSAT_7</td>\n",
       "      <td>LEDAPS</td>\n",
       "      <td>ETM</td>\n",
       "      <td>None</td>\n",
       "      <td>None</td>\n",
       "      <td>None</td>\n",
       "      <td>NetCDF</td>\n",
       "      <td>EPSG:4326</td>\n",
       "      <td>[-0.000270861, 0.000294834]</td>\n",
       "      <td>[0.812583, 0.884502]</td>\n",
       "      <td>(latitude, longitude)</td>\n",
       "    </tr>\n",
       "    <tr>\n",
       "      <th>35</th>\n",
       "      <td>ls7_ledaps_bangladesh_bari</td>\n",
       "      <td>Landsat 7 USGS Collection 1 Higher Level SR sc...</td>\n",
       "      <td>LANDSAT_7</td>\n",
       "      <td>LEDAPS</td>\n",
       "      <td>ETM</td>\n",
       "      <td>None</td>\n",
       "      <td>None</td>\n",
       "      <td>None</td>\n",
       "      <td>NetCDF</td>\n",
       "      <td>EPSG:4326</td>\n",
       "      <td>[-0.000270861, 0.000294834]</td>\n",
       "      <td>[0.812583, 0.884502]</td>\n",
       "      <td>(latitude, longitude)</td>\n",
       "    </tr>\n",
       "    <tr>\n",
       "      <th>36</th>\n",
       "      <td>ls7_ledaps_caqueta</td>\n",
       "      <td>Landsat 7 USGS Collection 1 Higher Level SR sc...</td>\n",
       "      <td>LANDSAT_7</td>\n",
       "      <td>LEDAPS</td>\n",
       "      <td>ETM</td>\n",
       "      <td>None</td>\n",
       "      <td>None</td>\n",
       "      <td>None</td>\n",
       "      <td>NetCDF</td>\n",
       "      <td>EPSG:4326</td>\n",
       "      <td>[-0.000269494585236, 0.000269494585236]</td>\n",
       "      <td>[0.538989170472, 0.538989170472]</td>\n",
       "      <td>(latitude, longitude)</td>\n",
       "    </tr>\n",
       "    <tr>\n",
       "      <th>21</th>\n",
       "      <td>ls7_ledaps_colombia</td>\n",
       "      <td>Landsat 7 USGS Collection 1 Higher Level SR sc...</td>\n",
       "      <td>LANDSAT_7</td>\n",
       "      <td>LEDAPS</td>\n",
       "      <td>ETM</td>\n",
       "      <td>None</td>\n",
       "      <td>None</td>\n",
       "      <td>None</td>\n",
       "      <td>NetCDF</td>\n",
       "      <td>EPSG:4326</td>\n",
       "      <td>[-0.000271307, 0.000269505]</td>\n",
       "      <td>[0.9495745, 0.9432675]</td>\n",
       "      <td>(latitude, longitude)</td>\n",
       "    </tr>\n",
       "    <tr>\n",
       "      <th>22</th>\n",
       "      <td>ls7_ledaps_ghana</td>\n",
       "      <td>Landsat 7 USGS Collection 1 Higher Level SR sc...</td>\n",
       "      <td>LANDSAT_7</td>\n",
       "      <td>LEDAPS</td>\n",
       "      <td>ETM</td>\n",
       "      <td>None</td>\n",
       "      <td>None</td>\n",
       "      <td>None</td>\n",
       "      <td>NetCDF</td>\n",
       "      <td>EPSG:4326</td>\n",
       "      <td>[-0.000269494585236, 0.000269494585236]</td>\n",
       "      <td>[0.943231048326, 0.943231048326]</td>\n",
       "      <td>(latitude, longitude)</td>\n",
       "    </tr>\n",
       "    <tr>\n",
       "      <th>74</th>\n",
       "      <td>ls7_ledaps_honduras</td>\n",
       "      <td>Landsat 7 USGS Collection 1 Higher Level SR sc...</td>\n",
       "      <td>LANDSAT_7</td>\n",
       "      <td>LEDAPS</td>\n",
       "      <td>ETM1</td>\n",
       "      <td>None</td>\n",
       "      <td>None</td>\n",
       "      <td>None</td>\n",
       "      <td>NetCDF</td>\n",
       "      <td>EPSG:4326</td>\n",
       "      <td>[-0.000271141072802191, 0.000278249126645553]</td>\n",
       "      <td>[0.999968276494482, 0.999470862910829]</td>\n",
       "      <td>(latitude, longitude)</td>\n",
       "    </tr>\n",
       "    <tr>\n",
       "      <th>23</th>\n",
       "      <td>ls7_ledaps_kenya</td>\n",
       "      <td>Landsat 7 USGS Collection 1 Higher Level SR sc...</td>\n",
       "      <td>LANDSAT_7</td>\n",
       "      <td>LEDAPS</td>\n",
       "      <td>ETM</td>\n",
       "      <td>None</td>\n",
       "      <td>None</td>\n",
       "      <td>None</td>\n",
       "      <td>NetCDF</td>\n",
       "      <td>EPSG:4326</td>\n",
       "      <td>[-0.000269493, 0.000269493]</td>\n",
       "      <td>[0.99981903, 0.99981903]</td>\n",
       "      <td>(latitude, longitude)</td>\n",
       "    </tr>\n",
       "    <tr>\n",
       "      <th>41</th>\n",
       "      <td>ls7_ledaps_lake_baringo</td>\n",
       "      <td>Landsat 7 USGS Collection 1 Higher Level SR sc...</td>\n",
       "      <td>LANDSAT_7</td>\n",
       "      <td>LEDAPS</td>\n",
       "      <td>ETM</td>\n",
       "      <td>None</td>\n",
       "      <td>None</td>\n",
       "      <td>None</td>\n",
       "      <td>NetCDF</td>\n",
       "      <td>EPSG:4326</td>\n",
       "      <td>[-0.000269493, 0.000269493]</td>\n",
       "      <td>[0.249820011, 0.249820011]</td>\n",
       "      <td>(latitude, longitude)</td>\n",
       "    </tr>\n",
       "    <tr>\n",
       "      <th>24</th>\n",
       "      <td>ls7_ledaps_lake_chad_full</td>\n",
       "      <td>Landsat 7 USGS Collection 1 Higher Level SR sc...</td>\n",
       "      <td>LANDSAT_7</td>\n",
       "      <td>LEDAPS</td>\n",
       "      <td>ETM</td>\n",
       "      <td>None</td>\n",
       "      <td>None</td>\n",
       "      <td>None</td>\n",
       "      <td>NetCDF</td>\n",
       "      <td>EPSG:4326</td>\n",
       "      <td>[-0.000271152, 0.00027769]</td>\n",
       "      <td>[0.813456, 0.83307]</td>\n",
       "      <td>(latitude, longitude)</td>\n",
       "    </tr>\n",
       "    <tr>\n",
       "      <th>25</th>\n",
       "      <td>ls7_ledaps_lake_cortijo</td>\n",
       "      <td>Landsat 7 USGS Collection 1 Higher Level SR sc...</td>\n",
       "      <td>LANDSAT_7</td>\n",
       "      <td>LEDAPS</td>\n",
       "      <td>ETM</td>\n",
       "      <td>None</td>\n",
       "      <td>None</td>\n",
       "      <td>None</td>\n",
       "      <td>NetCDF</td>\n",
       "      <td>EPSG:4326</td>\n",
       "      <td>[-0.000271297, 0.000270148]</td>\n",
       "      <td>[0.813891, 0.810444]</td>\n",
       "      <td>(latitude, longitude)</td>\n",
       "    </tr>\n",
       "    <tr>\n",
       "      <th>26</th>\n",
       "      <td>ls7_ledaps_menindee_lakes</td>\n",
       "      <td>Landsat 7 USGS Collection 1 Higher Level SR sc...</td>\n",
       "      <td>LANDSAT_7</td>\n",
       "      <td>LEDAPS</td>\n",
       "      <td>ETM</td>\n",
       "      <td>None</td>\n",
       "      <td>None</td>\n",
       "      <td>None</td>\n",
       "      <td>NetCDF</td>\n",
       "      <td>EPSG:4326</td>\n",
       "      <td>[-0.000270523, 0.000319227]</td>\n",
       "      <td>[0.9468305, 1.1172945]</td>\n",
       "      <td>(latitude, longitude)</td>\n",
       "    </tr>\n",
       "    <tr>\n",
       "      <th>27</th>\n",
       "      <td>ls7_ledaps_meta_river</td>\n",
       "      <td>Landsat 7 USGS Collection 1 Higher Level SR sc...</td>\n",
       "      <td>LANDSAT_7</td>\n",
       "      <td>LEDAPS</td>\n",
       "      <td>ETM</td>\n",
       "      <td>None</td>\n",
       "      <td>None</td>\n",
       "      <td>None</td>\n",
       "      <td>NetCDF</td>\n",
       "      <td>EPSG:4326</td>\n",
       "      <td>[-0.00027129679, 0.00027014858]</td>\n",
       "      <td>[0.49999998397, 0.499774873]</td>\n",
       "      <td>(latitude, longitude)</td>\n",
       "    </tr>\n",
       "    <tr>\n",
       "      <th>28</th>\n",
       "      <td>ls7_ledaps_salgar_colombia</td>\n",
       "      <td>Landsat 7 USGS Collection 1 Higher Level SR sc...</td>\n",
       "      <td>LANDSAT_7</td>\n",
       "      <td>LEDAPS</td>\n",
       "      <td>ETM</td>\n",
       "      <td>None</td>\n",
       "      <td>None</td>\n",
       "      <td>None</td>\n",
       "      <td>NetCDF</td>\n",
       "      <td>EPSG:4326</td>\n",
       "      <td>[-0.000271285, 0.000270849]</td>\n",
       "      <td>[0.9494975, 0.9479715]</td>\n",
       "      <td>(latitude, longitude)</td>\n",
       "    </tr>\n",
       "    <tr>\n",
       "      <th>68</th>\n",
       "      <td>ls7_ledaps_samoa</td>\n",
       "      <td>Landsat 7 USGS Collection 1 Higher Level SR sc...</td>\n",
       "      <td>LANDSAT_7</td>\n",
       "      <td>LEDAPS</td>\n",
       "      <td>ETM1</td>\n",
       "      <td>None</td>\n",
       "      <td>None</td>\n",
       "      <td>None</td>\n",
       "      <td>NetCDF</td>\n",
       "      <td>EPSG:4326</td>\n",
       "      <td>[-0.000270961, 0.000280452]</td>\n",
       "      <td>[0.812883, 0.841356]</td>\n",
       "      <td>(latitude, longitude)</td>\n",
       "    </tr>\n",
       "    <tr>\n",
       "      <th>75</th>\n",
       "      <td>ls7_ledaps_south_africa</td>\n",
       "      <td>Landsat 7 USGS Collection 1 Higher Level SR sc...</td>\n",
       "      <td>LANDSAT_7</td>\n",
       "      <td>LEDAPS</td>\n",
       "      <td>ETM1</td>\n",
       "      <td>None</td>\n",
       "      <td>None</td>\n",
       "      <td>None</td>\n",
       "      <td>NetCDF</td>\n",
       "      <td>EPSG:4326</td>\n",
       "      <td>[-0.000270676, 0.000307499]</td>\n",
       "      <td>[0.999877144, 0.999986748]</td>\n",
       "      <td>(latitude, longitude)</td>\n",
       "    </tr>\n",
       "    <tr>\n",
       "      <th>82</th>\n",
       "      <td>ls7_ledaps_swiss_mini</td>\n",
       "      <td>Landsat 7 USGS Collection 1 Higher Level SR sc...</td>\n",
       "      <td>LANDSAT_7</td>\n",
       "      <td>LEDAPS</td>\n",
       "      <td>ETM3</td>\n",
       "      <td>None</td>\n",
       "      <td>None</td>\n",
       "      <td>None</td>\n",
       "      <td>NetCDF</td>\n",
       "      <td>EPSG:4326</td>\n",
       "      <td>[-0.000269493, 0.000269493]</td>\n",
       "      <td>[0.99981903, 0.99981903]</td>\n",
       "      <td>(latitude, longitude)</td>\n",
       "    </tr>\n",
       "    <tr>\n",
       "      <th>79</th>\n",
       "      <td>ls7_ledaps_switzerland</td>\n",
       "      <td>Landsat 7 USGS Collection 1 Higher Level SR sc...</td>\n",
       "      <td>LANDSAT_7</td>\n",
       "      <td>LEDAPS</td>\n",
       "      <td>ETM3</td>\n",
       "      <td>None</td>\n",
       "      <td>None</td>\n",
       "      <td>None</td>\n",
       "      <td>NetCDF</td>\n",
       "      <td>EPSG:4326</td>\n",
       "      <td>[-0.000269856975802825, 0.000394197414064964]</td>\n",
       "      <td>[0.999550238373662, 0.999684642068748]</td>\n",
       "      <td>(latitude, longitude)</td>\n",
       "    </tr>\n",
       "    <tr>\n",
       "      <th>29</th>\n",
       "      <td>ls7_ledaps_togo</td>\n",
       "      <td>Landsat 7 USGS Collection 1 Higher Level SR sc...</td>\n",
       "      <td>LANDSAT_7</td>\n",
       "      <td>LEDAPS</td>\n",
       "      <td>ETM</td>\n",
       "      <td>None</td>\n",
       "      <td>None</td>\n",
       "      <td>None</td>\n",
       "      <td>NetCDF</td>\n",
       "      <td>EPSG:4326</td>\n",
       "      <td>[-0.000271285, 0.000270971]</td>\n",
       "      <td>[0.813855, 0.812913]</td>\n",
       "      <td>(latitude, longitude)</td>\n",
       "    </tr>\n",
       "    <tr>\n",
       "      <th>30</th>\n",
       "      <td>ls7_ledaps_tonga</td>\n",
       "      <td>Landsat 7 USGS Collection 1 Higher Level SR sc...</td>\n",
       "      <td>LANDSAT_7</td>\n",
       "      <td>LEDAPS</td>\n",
       "      <td>ETM</td>\n",
       "      <td>None</td>\n",
       "      <td>None</td>\n",
       "      <td>None</td>\n",
       "      <td>NetCDF</td>\n",
       "      <td>EPSG:4326</td>\n",
       "      <td>[-0.000270961, 0.000280452]</td>\n",
       "      <td>[0.812883, 0.841356]</td>\n",
       "      <td>(latitude, longitude)</td>\n",
       "    </tr>\n",
       "    <tr>\n",
       "      <th>31</th>\n",
       "      <td>ls7_ledaps_vietnam</td>\n",
       "      <td>Landsat 7 USGS Collection 1 Higher Level SR sc...</td>\n",
       "      <td>LANDSAT_7</td>\n",
       "      <td>LEDAPS</td>\n",
       "      <td>ETM</td>\n",
       "      <td>None</td>\n",
       "      <td>None</td>\n",
       "      <td>None</td>\n",
       "      <td>NetCDF</td>\n",
       "      <td>EPSG:4326</td>\n",
       "      <td>[-0.000269494585236, 0.000269494585236]</td>\n",
       "      <td>[0.943231048326, 0.943231048326]</td>\n",
       "      <td>(latitude, longitude)</td>\n",
       "    </tr>\n",
       "    <tr>\n",
       "      <th>37</th>\n",
       "      <td>ls8_lasrc_caqueta</td>\n",
       "      <td>Landsat 8 USGS Collection 1 Higher Level SR sc...</td>\n",
       "      <td>LANDSAT_8</td>\n",
       "      <td>LaSRC</td>\n",
       "      <td>OLI_TIRS</td>\n",
       "      <td>None</td>\n",
       "      <td>None</td>\n",
       "      <td>None</td>\n",
       "      <td>NetCDF</td>\n",
       "      <td>EPSG:4326</td>\n",
       "      <td>[-0.000269494585236, 0.000269494585236]</td>\n",
       "      <td>[0.538989170472, 0.538989170472]</td>\n",
       "      <td>(latitude, longitude)</td>\n",
       "    </tr>\n",
       "    <tr>\n",
       "      <th>73</th>\n",
       "      <td>ls8_lasrc_honduras</td>\n",
       "      <td>Landsat 8 USGS Collection 1 Higher Level SR sc...</td>\n",
       "      <td>LANDSAT_8</td>\n",
       "      <td>LaSRC</td>\n",
       "      <td>OLI_TIRS1</td>\n",
       "      <td>None</td>\n",
       "      <td>None</td>\n",
       "      <td>None</td>\n",
       "      <td>NetCDF</td>\n",
       "      <td>EPSG:4326</td>\n",
       "      <td>[-0.000271141072802191, 0.000278249126645553]</td>\n",
       "      <td>[0.999968276494482, 0.999470862910829]</td>\n",
       "      <td>(latitude, longitude)</td>\n",
       "    </tr>\n",
       "    <tr>\n",
       "      <th>32</th>\n",
       "      <td>ls8_lasrc_lake_chad_full</td>\n",
       "      <td>Landsat 8 USGS Collection 1 Higher Level SR sc...</td>\n",
       "      <td>LANDSAT_8</td>\n",
       "      <td>LaSRC</td>\n",
       "      <td>OLI_TIRS</td>\n",
       "      <td>None</td>\n",
       "      <td>None</td>\n",
       "      <td>None</td>\n",
       "      <td>NetCDF</td>\n",
       "      <td>EPSG:4326</td>\n",
       "      <td>[-0.000271152, 0.00027769]</td>\n",
       "      <td>[0.813456, 0.83307]</td>\n",
       "      <td>(latitude, longitude)</td>\n",
       "    </tr>\n",
       "    <tr>\n",
       "      <th>33</th>\n",
       "      <td>ls8_lasrc_meta_river</td>\n",
       "      <td>Landsat 8 USGS Collection 1 Higher Level SR sc...</td>\n",
       "      <td>LANDSAT_8</td>\n",
       "      <td>LaSRC</td>\n",
       "      <td>OLI_TIRS</td>\n",
       "      <td>None</td>\n",
       "      <td>None</td>\n",
       "      <td>None</td>\n",
       "      <td>NetCDF</td>\n",
       "      <td>EPSG:4326</td>\n",
       "      <td>[-0.00027129679, 0.00027014858]</td>\n",
       "      <td>[0.49999998397, 0.499774873]</td>\n",
       "      <td>(latitude, longitude)</td>\n",
       "    </tr>\n",
       "    <tr>\n",
       "      <th>70</th>\n",
       "      <td>ls8_lasrc_samoa</td>\n",
       "      <td>Landsat 8 USGS Collection 1 Higher Level SR sc...</td>\n",
       "      <td>LANDSAT_8</td>\n",
       "      <td>LaSRC</td>\n",
       "      <td>OLI_TIRS1</td>\n",
       "      <td>None</td>\n",
       "      <td>None</td>\n",
       "      <td>None</td>\n",
       "      <td>NetCDF</td>\n",
       "      <td>EPSG:4326</td>\n",
       "      <td>[-0.000270961, 0.000280452]</td>\n",
       "      <td>[0.812883, 0.841356]</td>\n",
       "      <td>(latitude, longitude)</td>\n",
       "    </tr>\n",
       "    <tr>\n",
       "      <th>83</th>\n",
       "      <td>ls8_lasrc_swiss_mini</td>\n",
       "      <td>Landsat 8 USGS Collection 1 Higher Level SR sc...</td>\n",
       "      <td>LANDSAT_8</td>\n",
       "      <td>LaSRC</td>\n",
       "      <td>OLI_TIRS1</td>\n",
       "      <td>None</td>\n",
       "      <td>None</td>\n",
       "      <td>None</td>\n",
       "      <td>NetCDF</td>\n",
       "      <td>EPSG:4326</td>\n",
       "      <td>[-0.000269493, 0.000269493]</td>\n",
       "      <td>[0.99981903, 0.99981903]</td>\n",
       "      <td>(latitude, longitude)</td>\n",
       "    </tr>\n",
       "    <tr>\n",
       "      <th>77</th>\n",
       "      <td>ls8_lasrc_switzerland</td>\n",
       "      <td>Landsat 8 USGS Collection 1 Higher Level SR sc...</td>\n",
       "      <td>LANDSAT_8</td>\n",
       "      <td>LaSRC</td>\n",
       "      <td>OLI_TIRS1</td>\n",
       "      <td>None</td>\n",
       "      <td>None</td>\n",
       "      <td>None</td>\n",
       "      <td>NetCDF</td>\n",
       "      <td>EPSG:4326</td>\n",
       "      <td>[-0.000269856975802825, 0.000394197414064964]</td>\n",
       "      <td>[0.999550238373662, 0.999684642068748]</td>\n",
       "      <td>(latitude, longitude)</td>\n",
       "    </tr>\n",
       "    <tr>\n",
       "      <th>71</th>\n",
       "      <td>ls8_lasrc_tonga</td>\n",
       "      <td>Landsat 8 USGS Collection 1 Higher Level SR sc...</td>\n",
       "      <td>LANDSAT_8</td>\n",
       "      <td>LaSRC</td>\n",
       "      <td>OLI_TIRS1</td>\n",
       "      <td>None</td>\n",
       "      <td>None</td>\n",
       "      <td>None</td>\n",
       "      <td>NetCDF</td>\n",
       "      <td>EPSG:4326</td>\n",
       "      <td>[-0.000270961, 0.000280452]</td>\n",
       "      <td>[0.812883, 0.841356]</td>\n",
       "      <td>(latitude, longitude)</td>\n",
       "    </tr>\n",
       "    <tr>\n",
       "      <th>40</th>\n",
       "      <td>ls8_lasrc_uruguay</td>\n",
       "      <td>Landsat 8 USGS Collection 1 Higher Level SR sc...</td>\n",
       "      <td>LANDSAT_8</td>\n",
       "      <td>LaSRC</td>\n",
       "      <td>OLI_TIRS</td>\n",
       "      <td>None</td>\n",
       "      <td>None</td>\n",
       "      <td>None</td>\n",
       "      <td>NetCDF</td>\n",
       "      <td>EPSG:4326</td>\n",
       "      <td>[-0.000269494585236, 0.000269494585236]</td>\n",
       "      <td>[0.943231048326, 0.943231048326]</td>\n",
       "      <td>(latitude, longitude)</td>\n",
       "    </tr>\n",
       "    <tr>\n",
       "      <th>34</th>\n",
       "      <td>ls8_lasrc_vietnam</td>\n",
       "      <td>Landsat 8 USGS Collection 1 Higher Level SR sc...</td>\n",
       "      <td>LANDSAT_8</td>\n",
       "      <td>LaSRC</td>\n",
       "      <td>OLI_TIRS</td>\n",
       "      <td>None</td>\n",
       "      <td>None</td>\n",
       "      <td>None</td>\n",
       "      <td>NetCDF</td>\n",
       "      <td>EPSG:4326</td>\n",
       "      <td>[-0.000269494585236, 0.000269494585236]</td>\n",
       "      <td>[0.943231048326, 0.943231048326]</td>\n",
       "      <td>(latitude, longitude)</td>\n",
       "    </tr>\n",
       "    <tr>\n",
       "      <th>57</th>\n",
       "      <td>s1_gamma0_colombia</td>\n",
       "      <td>Sentinel-1A/B SAR Gamma0, processed to the CEO...</td>\n",
       "      <td>SENTINEL_1</td>\n",
       "      <td>gamma0</td>\n",
       "      <td>SAR</td>\n",
       "      <td>None</td>\n",
       "      <td>None</td>\n",
       "      <td>None</td>\n",
       "      <td>NetCDF</td>\n",
       "      <td>EPSG:4326</td>\n",
       "      <td>[-0.000269715032, 0.000269715032]</td>\n",
       "      <td>[0.809145096, 0.809145096]</td>\n",
       "      <td>(latitude, longitude)</td>\n",
       "    </tr>\n",
       "    <tr>\n",
       "      <th>58</th>\n",
       "      <td>s1_gamma0_lake_chad</td>\n",
       "      <td>Sentinel-1A/B SAR Gamma0, processed to the CEO...</td>\n",
       "      <td>SENTINEL_1</td>\n",
       "      <td>gamma0</td>\n",
       "      <td>SAR</td>\n",
       "      <td>None</td>\n",
       "      <td>None</td>\n",
       "      <td>None</td>\n",
       "      <td>NetCDF</td>\n",
       "      <td>EPSG:4326</td>\n",
       "      <td>[-0.000269715032, 0.000269715032]</td>\n",
       "      <td>[0.809145096, 0.809145096]</td>\n",
       "      <td>(latitude, longitude)</td>\n",
       "    </tr>\n",
       "    <tr>\n",
       "      <th>59</th>\n",
       "      <td>s1_gamma0_menindee_lakes</td>\n",
       "      <td>Sentinel-1A/B SAR Gamma0, processed to the CEO...</td>\n",
       "      <td>SENTINEL_1</td>\n",
       "      <td>gamma0</td>\n",
       "      <td>SAR</td>\n",
       "      <td>None</td>\n",
       "      <td>None</td>\n",
       "      <td>None</td>\n",
       "      <td>NetCDF</td>\n",
       "      <td>EPSG:4326</td>\n",
       "      <td>[-0.000269715032, 0.000269715032]</td>\n",
       "      <td>[0.809145096, 0.809145096]</td>\n",
       "      <td>(latitude, longitude)</td>\n",
       "    </tr>\n",
       "    <tr>\n",
       "      <th>60</th>\n",
       "      <td>s1_gamma0_vietnam</td>\n",
       "      <td>Sentinel-1A/B SAR Gamma0, processed to the CEO...</td>\n",
       "      <td>SENTINEL_1</td>\n",
       "      <td>gamma0</td>\n",
       "      <td>SAR</td>\n",
       "      <td>None</td>\n",
       "      <td>None</td>\n",
       "      <td>None</td>\n",
       "      <td>NetCDF</td>\n",
       "      <td>EPSG:4326</td>\n",
       "      <td>[-0.000269715032, 0.000269715032]</td>\n",
       "      <td>[0.809145096, 0.809145096]</td>\n",
       "      <td>(latitude, longitude)</td>\n",
       "    </tr>\n",
       "    <tr>\n",
       "      <th>63</th>\n",
       "      <td>s1g_gamma0_colombia_caqueta</td>\n",
       "      <td>Sentinel-1A/B SAR Gamma0, processed to the GEE...</td>\n",
       "      <td>SENTINEL_1</td>\n",
       "      <td>gamma0</td>\n",
       "      <td>SAR</td>\n",
       "      <td>None</td>\n",
       "      <td>None</td>\n",
       "      <td>None</td>\n",
       "      <td>NetCDF</td>\n",
       "      <td>EPSG:4326</td>\n",
       "      <td>[-8.983152841195215e-05, 8.983152841195215e-05]</td>\n",
       "      <td>[0.3593261136478086, 0.3593261136478086]</td>\n",
       "      <td>(latitude, longitude)</td>\n",
       "    </tr>\n",
       "    <tr>\n",
       "      <th>72</th>\n",
       "      <td>s1g_gamma0_samoa</td>\n",
       "      <td>Sentinel-1A/B SAR Gamma0, processed to the GEE...</td>\n",
       "      <td>SENTINEL_1</td>\n",
       "      <td>gamma0</td>\n",
       "      <td>SAR</td>\n",
       "      <td>None</td>\n",
       "      <td>None</td>\n",
       "      <td>None</td>\n",
       "      <td>NetCDF</td>\n",
       "      <td>EPSG:4326</td>\n",
       "      <td>[-8.983152841195215e-05, 8.983152841195215e-05]</td>\n",
       "      <td>[0.3593261136478086, 0.3593261136478086]</td>\n",
       "      <td>(latitude, longitude)</td>\n",
       "    </tr>\n",
       "    <tr>\n",
       "      <th>80</th>\n",
       "      <td>s1g_gamma0_switzerland</td>\n",
       "      <td>Sentinel-1A/B SAR Gamma0, processed to the GEE...</td>\n",
       "      <td>SENTINEL_1</td>\n",
       "      <td>gamma0</td>\n",
       "      <td>SAR</td>\n",
       "      <td>None</td>\n",
       "      <td>None</td>\n",
       "      <td>None</td>\n",
       "      <td>NetCDF</td>\n",
       "      <td>EPSG:4326</td>\n",
       "      <td>[-0.000269493, 0.000269493]</td>\n",
       "      <td>[0.99981903, 0.99981903]</td>\n",
       "      <td>(latitude, longitude)</td>\n",
       "    </tr>\n",
       "    <tr>\n",
       "      <th>13</th>\n",
       "      <td>terra_aster_gdm_salgar_colombia</td>\n",
       "      <td>Terra Aster -- metre, UTM 36 projection</td>\n",
       "      <td>TERRA</td>\n",
       "      <td>GDEM_V2</td>\n",
       "      <td>ASTER</td>\n",
       "      <td>None</td>\n",
       "      <td>None</td>\n",
       "      <td>None</td>\n",
       "      <td>NetCDF</td>\n",
       "      <td>EPSG:4326</td>\n",
       "      <td>[-0.000271285, 0.000270849]</td>\n",
       "      <td>[0.9494975, 0.9479715]</td>\n",
       "      <td>(latitude, longitude)</td>\n",
       "    </tr>\n",
       "    <tr>\n",
       "      <th>66</th>\n",
       "      <td>terra_aster_gdm_samoa</td>\n",
       "      <td>Terra Aster -- metre, UTM 36 projection</td>\n",
       "      <td>TERRA</td>\n",
       "      <td>GDEM_V2</td>\n",
       "      <td>ASTER</td>\n",
       "      <td>None</td>\n",
       "      <td>None</td>\n",
       "      <td>None</td>\n",
       "      <td>NetCDF</td>\n",
       "      <td>EPSG:4326</td>\n",
       "      <td>[-0.000271285, 0.000270849]</td>\n",
       "      <td>[0.9494975, 0.9479715]</td>\n",
       "      <td>(latitude, longitude)</td>\n",
       "    </tr>\n",
       "  </tbody>\n",
       "</table>\n",
       "</div>"
      ],
      "text/plain": [
       "                                  name  \\\n",
       "id                                       \n",
       "61  alos2_jjfast_scansar_tile_colombia   \n",
       "65       alos2_palsar2_scansar_caqueta   \n",
       "50               alos2_palsar_colombia   \n",
       "51                  alos2_palsar_kenya   \n",
       "52                alos2_palsar_vietnam   \n",
       "53                alos_palsar_colombia   \n",
       "54                   alos_palsar_kenya   \n",
       "55                 alos_palsar_vietnam   \n",
       "14          gpm_imerg_gis_daily_global   \n",
       "15        gpm_imerg_gis_monthly_global   \n",
       "17               ls5_ledaps_bangladesh   \n",
       "18           ls5_ledaps_lake_chad_full   \n",
       "85               ls5_ledaps_swiss_mini   \n",
       "19             ls7_ledaps_amazon_river   \n",
       "20               ls7_ledaps_bangladesh   \n",
       "35          ls7_ledaps_bangladesh_bari   \n",
       "36                  ls7_ledaps_caqueta   \n",
       "21                 ls7_ledaps_colombia   \n",
       "22                    ls7_ledaps_ghana   \n",
       "74                 ls7_ledaps_honduras   \n",
       "23                    ls7_ledaps_kenya   \n",
       "41             ls7_ledaps_lake_baringo   \n",
       "24           ls7_ledaps_lake_chad_full   \n",
       "25             ls7_ledaps_lake_cortijo   \n",
       "26           ls7_ledaps_menindee_lakes   \n",
       "27               ls7_ledaps_meta_river   \n",
       "28          ls7_ledaps_salgar_colombia   \n",
       "68                    ls7_ledaps_samoa   \n",
       "75             ls7_ledaps_south_africa   \n",
       "82               ls7_ledaps_swiss_mini   \n",
       "79              ls7_ledaps_switzerland   \n",
       "29                     ls7_ledaps_togo   \n",
       "30                    ls7_ledaps_tonga   \n",
       "31                  ls7_ledaps_vietnam   \n",
       "37                   ls8_lasrc_caqueta   \n",
       "73                  ls8_lasrc_honduras   \n",
       "32            ls8_lasrc_lake_chad_full   \n",
       "33                ls8_lasrc_meta_river   \n",
       "70                     ls8_lasrc_samoa   \n",
       "83                ls8_lasrc_swiss_mini   \n",
       "77               ls8_lasrc_switzerland   \n",
       "71                     ls8_lasrc_tonga   \n",
       "40                   ls8_lasrc_uruguay   \n",
       "34                   ls8_lasrc_vietnam   \n",
       "57                  s1_gamma0_colombia   \n",
       "58                 s1_gamma0_lake_chad   \n",
       "59            s1_gamma0_menindee_lakes   \n",
       "60                   s1_gamma0_vietnam   \n",
       "63         s1g_gamma0_colombia_caqueta   \n",
       "72                    s1g_gamma0_samoa   \n",
       "80              s1g_gamma0_switzerland   \n",
       "13     terra_aster_gdm_salgar_colombia   \n",
       "66               terra_aster_gdm_samoa   \n",
       "\n",
       "                                          description    platform  \\\n",
       "id                                                                  \n",
       "61  ALOS2 PALSAR JJFAST tile in DN format processe...      ALOS_2   \n",
       "65  ALOS2 PALSAR JJFAST tile in DN format processe...      ALOS_2   \n",
       "50  ALOS2 PALSAR tile in DN format processed for t...      ALOS_2   \n",
       "51  ALOS2 PALSAR tile in DN format processed for t...      ALOS_2   \n",
       "52  ALOS2 PALSAR tile in DN format processed for t...      ALOS_2   \n",
       "53  ALOS PALSAR tile in DN format processed for th...        ALOS   \n",
       "54  ALOS PALSAR tile in DN format processed for th...        ALOS   \n",
       "55  ALOS PALSAR tile in DN format processed for th...        ALOS   \n",
       "14                   Global NetCDF GPM IMERG GIS data         GPM   \n",
       "15                   Global NetCDF GPM IMERG GIS data         GPM   \n",
       "17  Landsat 5 USGS Collection 1 Higher Level SR sc...   LANDSAT_5   \n",
       "18  Landsat 5 USGS Collection 1 Higher Level SR sc...   LANDSAT_5   \n",
       "85  Landsat 5 USGS Collection 1 Higher Level SR sc...   LANDSAT_5   \n",
       "19  Landsat 7 USGS Collection 1 Higher Level SR sc...   LANDSAT_7   \n",
       "20  Landsat 7 USGS Collection 1 Higher Level SR sc...   LANDSAT_7   \n",
       "35  Landsat 7 USGS Collection 1 Higher Level SR sc...   LANDSAT_7   \n",
       "36  Landsat 7 USGS Collection 1 Higher Level SR sc...   LANDSAT_7   \n",
       "21  Landsat 7 USGS Collection 1 Higher Level SR sc...   LANDSAT_7   \n",
       "22  Landsat 7 USGS Collection 1 Higher Level SR sc...   LANDSAT_7   \n",
       "74  Landsat 7 USGS Collection 1 Higher Level SR sc...   LANDSAT_7   \n",
       "23  Landsat 7 USGS Collection 1 Higher Level SR sc...   LANDSAT_7   \n",
       "41  Landsat 7 USGS Collection 1 Higher Level SR sc...   LANDSAT_7   \n",
       "24  Landsat 7 USGS Collection 1 Higher Level SR sc...   LANDSAT_7   \n",
       "25  Landsat 7 USGS Collection 1 Higher Level SR sc...   LANDSAT_7   \n",
       "26  Landsat 7 USGS Collection 1 Higher Level SR sc...   LANDSAT_7   \n",
       "27  Landsat 7 USGS Collection 1 Higher Level SR sc...   LANDSAT_7   \n",
       "28  Landsat 7 USGS Collection 1 Higher Level SR sc...   LANDSAT_7   \n",
       "68  Landsat 7 USGS Collection 1 Higher Level SR sc...   LANDSAT_7   \n",
       "75  Landsat 7 USGS Collection 1 Higher Level SR sc...   LANDSAT_7   \n",
       "82  Landsat 7 USGS Collection 1 Higher Level SR sc...   LANDSAT_7   \n",
       "79  Landsat 7 USGS Collection 1 Higher Level SR sc...   LANDSAT_7   \n",
       "29  Landsat 7 USGS Collection 1 Higher Level SR sc...   LANDSAT_7   \n",
       "30  Landsat 7 USGS Collection 1 Higher Level SR sc...   LANDSAT_7   \n",
       "31  Landsat 7 USGS Collection 1 Higher Level SR sc...   LANDSAT_7   \n",
       "37  Landsat 8 USGS Collection 1 Higher Level SR sc...   LANDSAT_8   \n",
       "73  Landsat 8 USGS Collection 1 Higher Level SR sc...   LANDSAT_8   \n",
       "32  Landsat 8 USGS Collection 1 Higher Level SR sc...   LANDSAT_8   \n",
       "33  Landsat 8 USGS Collection 1 Higher Level SR sc...   LANDSAT_8   \n",
       "70  Landsat 8 USGS Collection 1 Higher Level SR sc...   LANDSAT_8   \n",
       "83  Landsat 8 USGS Collection 1 Higher Level SR sc...   LANDSAT_8   \n",
       "77  Landsat 8 USGS Collection 1 Higher Level SR sc...   LANDSAT_8   \n",
       "71  Landsat 8 USGS Collection 1 Higher Level SR sc...   LANDSAT_8   \n",
       "40  Landsat 8 USGS Collection 1 Higher Level SR sc...   LANDSAT_8   \n",
       "34  Landsat 8 USGS Collection 1 Higher Level SR sc...   LANDSAT_8   \n",
       "57  Sentinel-1A/B SAR Gamma0, processed to the CEO...  SENTINEL_1   \n",
       "58  Sentinel-1A/B SAR Gamma0, processed to the CEO...  SENTINEL_1   \n",
       "59  Sentinel-1A/B SAR Gamma0, processed to the CEO...  SENTINEL_1   \n",
       "60  Sentinel-1A/B SAR Gamma0, processed to the CEO...  SENTINEL_1   \n",
       "63  Sentinel-1A/B SAR Gamma0, processed to the GEE...  SENTINEL_1   \n",
       "72  Sentinel-1A/B SAR Gamma0, processed to the GEE...  SENTINEL_1   \n",
       "80  Sentinel-1A/B SAR Gamma0, processed to the GEE...  SENTINEL_1   \n",
       "13            Terra Aster -- metre, UTM 36 projection       TERRA   \n",
       "66            Terra Aster -- metre, UTM 36 projection       TERRA   \n",
       "\n",
       "   product_type instrument  time   lat   lon  format        crs  \\\n",
       "id                                                                \n",
       "61         tile     PALSAR  None  None  None  NetCDF  EPSG:4326   \n",
       "65         tile   PALSAR_2  None  None  None  NetCDF  EPSG:4326   \n",
       "50       gamma0     PALSAR  None  None  None  NetCDF  EPSG:4326   \n",
       "51       gamma0     PALSAR  None  None  None  NetCDF  EPSG:4326   \n",
       "52       gamma0     PALSAR  None  None  None  NetCDF  EPSG:4326   \n",
       "53       gamma0     PALSAR  None  None  None  NetCDF  EPSG:4326   \n",
       "54       gamma0     PALSAR  None  None  None  NetCDF  EPSG:4326   \n",
       "55       gamma0     PALSAR  None  None  None  NetCDF  EPSG:4326   \n",
       "14        daily        GPM  None  None  None  NetCDF  EPSG:4326   \n",
       "15      monthly        GPM  None  None  None  NetCDF  EPSG:4326   \n",
       "17       LEDAPS         TM  None  None  None  NetCDF  EPSG:4326   \n",
       "18       LEDAPS         TM  None  None  None  NetCDF  EPSG:4326   \n",
       "85       LEDAPS        TM1  None  None  None  NetCDF  EPSG:4326   \n",
       "19       LEDAPS        ETM  None  None  None  NetCDF  EPSG:4326   \n",
       "20       LEDAPS        ETM  None  None  None  NetCDF  EPSG:4326   \n",
       "35       LEDAPS        ETM  None  None  None  NetCDF  EPSG:4326   \n",
       "36       LEDAPS        ETM  None  None  None  NetCDF  EPSG:4326   \n",
       "21       LEDAPS        ETM  None  None  None  NetCDF  EPSG:4326   \n",
       "22       LEDAPS        ETM  None  None  None  NetCDF  EPSG:4326   \n",
       "74       LEDAPS       ETM1  None  None  None  NetCDF  EPSG:4326   \n",
       "23       LEDAPS        ETM  None  None  None  NetCDF  EPSG:4326   \n",
       "41       LEDAPS        ETM  None  None  None  NetCDF  EPSG:4326   \n",
       "24       LEDAPS        ETM  None  None  None  NetCDF  EPSG:4326   \n",
       "25       LEDAPS        ETM  None  None  None  NetCDF  EPSG:4326   \n",
       "26       LEDAPS        ETM  None  None  None  NetCDF  EPSG:4326   \n",
       "27       LEDAPS        ETM  None  None  None  NetCDF  EPSG:4326   \n",
       "28       LEDAPS        ETM  None  None  None  NetCDF  EPSG:4326   \n",
       "68       LEDAPS       ETM1  None  None  None  NetCDF  EPSG:4326   \n",
       "75       LEDAPS       ETM1  None  None  None  NetCDF  EPSG:4326   \n",
       "82       LEDAPS       ETM3  None  None  None  NetCDF  EPSG:4326   \n",
       "79       LEDAPS       ETM3  None  None  None  NetCDF  EPSG:4326   \n",
       "29       LEDAPS        ETM  None  None  None  NetCDF  EPSG:4326   \n",
       "30       LEDAPS        ETM  None  None  None  NetCDF  EPSG:4326   \n",
       "31       LEDAPS        ETM  None  None  None  NetCDF  EPSG:4326   \n",
       "37        LaSRC   OLI_TIRS  None  None  None  NetCDF  EPSG:4326   \n",
       "73        LaSRC  OLI_TIRS1  None  None  None  NetCDF  EPSG:4326   \n",
       "32        LaSRC   OLI_TIRS  None  None  None  NetCDF  EPSG:4326   \n",
       "33        LaSRC   OLI_TIRS  None  None  None  NetCDF  EPSG:4326   \n",
       "70        LaSRC  OLI_TIRS1  None  None  None  NetCDF  EPSG:4326   \n",
       "83        LaSRC  OLI_TIRS1  None  None  None  NetCDF  EPSG:4326   \n",
       "77        LaSRC  OLI_TIRS1  None  None  None  NetCDF  EPSG:4326   \n",
       "71        LaSRC  OLI_TIRS1  None  None  None  NetCDF  EPSG:4326   \n",
       "40        LaSRC   OLI_TIRS  None  None  None  NetCDF  EPSG:4326   \n",
       "34        LaSRC   OLI_TIRS  None  None  None  NetCDF  EPSG:4326   \n",
       "57       gamma0        SAR  None  None  None  NetCDF  EPSG:4326   \n",
       "58       gamma0        SAR  None  None  None  NetCDF  EPSG:4326   \n",
       "59       gamma0        SAR  None  None  None  NetCDF  EPSG:4326   \n",
       "60       gamma0        SAR  None  None  None  NetCDF  EPSG:4326   \n",
       "63       gamma0        SAR  None  None  None  NetCDF  EPSG:4326   \n",
       "72       gamma0        SAR  None  None  None  NetCDF  EPSG:4326   \n",
       "80       gamma0        SAR  None  None  None  NetCDF  EPSG:4326   \n",
       "13      GDEM_V2      ASTER  None  None  None  NetCDF  EPSG:4326   \n",
       "66      GDEM_V2      ASTER  None  None  None  NetCDF  EPSG:4326   \n",
       "\n",
       "                                         resolution  \\\n",
       "id                                                    \n",
       "61              [-0.0002666666667, 0.0002666666667]   \n",
       "65              [-0.0002666666667, 0.0002666666667]   \n",
       "50              [-0.0002666666667, 0.0002666666667]   \n",
       "51              [-0.0002666666667, 0.0002666666667]   \n",
       "52              [-0.0002666666667, 0.0002666666667]   \n",
       "53              [-0.0002666666667, 0.0002666666667]   \n",
       "54              [-0.0002666666667, 0.0002666666667]   \n",
       "55              [-0.0002666666667, 0.0002666666667]   \n",
       "14                                      [-0.1, 0.1]   \n",
       "15                                      [-0.1, 0.1]   \n",
       "17                      [-0.000270861, 0.000294834]   \n",
       "18                       [-0.000271152, 0.00027769]   \n",
       "85                      [-0.000269493, 0.000269493]   \n",
       "19                      [-0.000271302, 0.000269995]   \n",
       "20                      [-0.000270861, 0.000294834]   \n",
       "35                      [-0.000270861, 0.000294834]   \n",
       "36          [-0.000269494585236, 0.000269494585236]   \n",
       "21                      [-0.000271307, 0.000269505]   \n",
       "22          [-0.000269494585236, 0.000269494585236]   \n",
       "74    [-0.000271141072802191, 0.000278249126645553]   \n",
       "23                      [-0.000269493, 0.000269493]   \n",
       "41                      [-0.000269493, 0.000269493]   \n",
       "24                       [-0.000271152, 0.00027769]   \n",
       "25                      [-0.000271297, 0.000270148]   \n",
       "26                      [-0.000270523, 0.000319227]   \n",
       "27                  [-0.00027129679, 0.00027014858]   \n",
       "28                      [-0.000271285, 0.000270849]   \n",
       "68                      [-0.000270961, 0.000280452]   \n",
       "75                      [-0.000270676, 0.000307499]   \n",
       "82                      [-0.000269493, 0.000269493]   \n",
       "79    [-0.000269856975802825, 0.000394197414064964]   \n",
       "29                      [-0.000271285, 0.000270971]   \n",
       "30                      [-0.000270961, 0.000280452]   \n",
       "31          [-0.000269494585236, 0.000269494585236]   \n",
       "37          [-0.000269494585236, 0.000269494585236]   \n",
       "73    [-0.000271141072802191, 0.000278249126645553]   \n",
       "32                       [-0.000271152, 0.00027769]   \n",
       "33                  [-0.00027129679, 0.00027014858]   \n",
       "70                      [-0.000270961, 0.000280452]   \n",
       "83                      [-0.000269493, 0.000269493]   \n",
       "77    [-0.000269856975802825, 0.000394197414064964]   \n",
       "71                      [-0.000270961, 0.000280452]   \n",
       "40          [-0.000269494585236, 0.000269494585236]   \n",
       "34          [-0.000269494585236, 0.000269494585236]   \n",
       "57                [-0.000269715032, 0.000269715032]   \n",
       "58                [-0.000269715032, 0.000269715032]   \n",
       "59                [-0.000269715032, 0.000269715032]   \n",
       "60                [-0.000269715032, 0.000269715032]   \n",
       "63  [-8.983152841195215e-05, 8.983152841195215e-05]   \n",
       "72  [-8.983152841195215e-05, 8.983152841195215e-05]   \n",
       "80                      [-0.000269493, 0.000269493]   \n",
       "13                      [-0.000271285, 0.000270849]   \n",
       "66                      [-0.000271285, 0.000270849]   \n",
       "\n",
       "                                   tile_size     spatial_dimensions  \n",
       "id                                                                   \n",
       "61              [0.5333333334, 0.5333333334]  (latitude, longitude)  \n",
       "65              [0.5333333334, 0.5333333334]  (latitude, longitude)  \n",
       "50              [0.5333333334, 0.5333333334]  (latitude, longitude)  \n",
       "51              [0.5333333334, 0.5333333334]  (latitude, longitude)  \n",
       "52              [0.5333333334, 0.5333333334]  (latitude, longitude)  \n",
       "53              [0.5333333334, 0.5333333334]  (latitude, longitude)  \n",
       "54              [0.5333333334, 0.5333333334]  (latitude, longitude)  \n",
       "55              [0.5333333334, 0.5333333334]  (latitude, longitude)  \n",
       "14                                 [90, 180]  (latitude, longitude)  \n",
       "15                                 [90, 180]  (latitude, longitude)  \n",
       "17                      [0.812583, 0.884502]  (latitude, longitude)  \n",
       "18                       [0.813456, 0.83307]  (latitude, longitude)  \n",
       "85                  [0.99981903, 0.99981903]  (latitude, longitude)  \n",
       "19                      [0.813906, 0.809985]  (latitude, longitude)  \n",
       "20                      [0.812583, 0.884502]  (latitude, longitude)  \n",
       "35                      [0.812583, 0.884502]  (latitude, longitude)  \n",
       "36          [0.538989170472, 0.538989170472]  (latitude, longitude)  \n",
       "21                    [0.9495745, 0.9432675]  (latitude, longitude)  \n",
       "22          [0.943231048326, 0.943231048326]  (latitude, longitude)  \n",
       "74    [0.999968276494482, 0.999470862910829]  (latitude, longitude)  \n",
       "23                  [0.99981903, 0.99981903]  (latitude, longitude)  \n",
       "41                [0.249820011, 0.249820011]  (latitude, longitude)  \n",
       "24                       [0.813456, 0.83307]  (latitude, longitude)  \n",
       "25                      [0.813891, 0.810444]  (latitude, longitude)  \n",
       "26                    [0.9468305, 1.1172945]  (latitude, longitude)  \n",
       "27              [0.49999998397, 0.499774873]  (latitude, longitude)  \n",
       "28                    [0.9494975, 0.9479715]  (latitude, longitude)  \n",
       "68                      [0.812883, 0.841356]  (latitude, longitude)  \n",
       "75                [0.999877144, 0.999986748]  (latitude, longitude)  \n",
       "82                  [0.99981903, 0.99981903]  (latitude, longitude)  \n",
       "79    [0.999550238373662, 0.999684642068748]  (latitude, longitude)  \n",
       "29                      [0.813855, 0.812913]  (latitude, longitude)  \n",
       "30                      [0.812883, 0.841356]  (latitude, longitude)  \n",
       "31          [0.943231048326, 0.943231048326]  (latitude, longitude)  \n",
       "37          [0.538989170472, 0.538989170472]  (latitude, longitude)  \n",
       "73    [0.999968276494482, 0.999470862910829]  (latitude, longitude)  \n",
       "32                       [0.813456, 0.83307]  (latitude, longitude)  \n",
       "33              [0.49999998397, 0.499774873]  (latitude, longitude)  \n",
       "70                      [0.812883, 0.841356]  (latitude, longitude)  \n",
       "83                  [0.99981903, 0.99981903]  (latitude, longitude)  \n",
       "77    [0.999550238373662, 0.999684642068748]  (latitude, longitude)  \n",
       "71                      [0.812883, 0.841356]  (latitude, longitude)  \n",
       "40          [0.943231048326, 0.943231048326]  (latitude, longitude)  \n",
       "34          [0.943231048326, 0.943231048326]  (latitude, longitude)  \n",
       "57                [0.809145096, 0.809145096]  (latitude, longitude)  \n",
       "58                [0.809145096, 0.809145096]  (latitude, longitude)  \n",
       "59                [0.809145096, 0.809145096]  (latitude, longitude)  \n",
       "60                [0.809145096, 0.809145096]  (latitude, longitude)  \n",
       "63  [0.3593261136478086, 0.3593261136478086]  (latitude, longitude)  \n",
       "72  [0.3593261136478086, 0.3593261136478086]  (latitude, longitude)  \n",
       "80                  [0.99981903, 0.99981903]  (latitude, longitude)  \n",
       "13                    [0.9494975, 0.9479715]  (latitude, longitude)  \n",
       "66                    [0.9494975, 0.9479715]  (latitude, longitude)  "
      ]
     },
     "execution_count": 3,
     "metadata": {},
     "output_type": "execute_result"
    }
   ],
   "source": [
    "list_of_products = dc.list_products()\n",
    "netCDF_products = list_of_products[list_of_products['format'] == 'NetCDF']\n",
    "netCDF_products"
   ]
  },
  {
   "cell_type": "markdown",
   "metadata": {},
   "source": [
    ">### Pick a product  \n",
    ">Use the platform and product names from the previous block to select a Data Cube.  "
   ]
  },
  {
   "cell_type": "code",
   "execution_count": 4,
   "metadata": {
    "collapsed": true
   },
   "outputs": [],
   "source": [
    "import utils.data_cube_utilities.data_access_api as dc_api  \n",
    "api = dc_api.DataAccessApi(config = '/home/localuser/.datacube.conf')\n",
    "\n",
    "# Change the data platform and data cube here\n",
    "\n",
    "platform = \"LANDSAT_7\"\n",
    "# platform = \"LANDSAT_8\"\n",
    "\n",
    "# product = \"ls7_ledaps_ghana\"\n",
    "# product = \"ls7_ledaps_kenya\"\n",
    "# product = \"ls7_ledaps_senegal\"\n",
    "# product = \"ls7_ledaps_sierra_leone\"\n",
    "# product = \"ls7_ledaps_tanzania\"\n",
    "product = \"ls7_ledaps_vietnam\"\n",
    "\n",
    "# Get Coordinates\n",
    "coordinates = api.get_full_dataset_extent(platform = platform, product = product)"
   ]
  },
  {
   "cell_type": "markdown",
   "metadata": {},
   "source": [
    "> #### Display Latitude-Longitude and Time Bounds of the Data Cube"
   ]
  },
  {
   "cell_type": "code",
   "execution_count": 5,
   "metadata": {},
   "outputs": [
    {
     "name": "stdout",
     "output_type": "stream",
     "text": [
      "(9.1764253745784181, 13.964805165051667)\n"
     ]
    }
   ],
   "source": [
    "latitude_extents = (min(coordinates['latitude'].values),max(coordinates['latitude'].values))\n",
    "print( latitude_extents )"
   ]
  },
  {
   "cell_type": "code",
   "execution_count": 6,
   "metadata": {},
   "outputs": [
    {
     "name": "stdout",
     "output_type": "stream",
     "text": [
      "(102.40430421277932, 108.93092407802477)\n"
     ]
    }
   ],
   "source": [
    "longitude_extents = (min(coordinates['longitude'].values),max(coordinates['longitude'].values))\n",
    "print( longitude_extents )"
   ]
  },
  {
   "cell_type": "code",
   "execution_count": 7,
   "metadata": {},
   "outputs": [
    {
     "name": "stdout",
     "output_type": "stream",
     "text": [
      "(numpy.datetime64('1999-09-08T03:13:19.000000000'), numpy.datetime64('2016-12-29T03:10:00.000000000'))\n"
     ]
    }
   ],
   "source": [
    "time_extents = (min(coordinates['time'].values),max(coordinates['time'].values))\n",
    "print( time_extents )"
   ]
  },
  {
   "cell_type": "markdown",
   "metadata": {},
   "source": [
    "# Visualize Data Cube Region"
   ]
  },
  {
   "cell_type": "code",
   "execution_count": 8,
   "metadata": {},
   "outputs": [
    {
     "data": {
      "text/html": [
       "<div style=\"width:100%;\"><div style=\"position:relative;width:100%;height:0;padding-bottom:60%;\"><iframe src=\"data:text/html;charset=utf-8;base64,PCFET0NUWVBFIGh0bWw+CjxoZWFkPiAgICAKICAgIDxtZXRhIGh0dHAtZXF1aXY9ImNvbnRlbnQtdHlwZSIgY29udGVudD0idGV4dC9odG1sOyBjaGFyc2V0PVVURi04IiAvPgogICAgPHNjcmlwdD5MX1BSRUZFUl9DQU5WQVMgPSBmYWxzZTsgTF9OT19UT1VDSCA9IGZhbHNlOyBMX0RJU0FCTEVfM0QgPSBmYWxzZTs8L3NjcmlwdD4KICAgIDxzY3JpcHQgc3JjPSJodHRwczovL2Nkbi5qc2RlbGl2ci5uZXQvbnBtL2xlYWZsZXRAMS4yLjAvZGlzdC9sZWFmbGV0LmpzIj48L3NjcmlwdD4KICAgIDxzY3JpcHQgc3JjPSJodHRwczovL2FqYXguZ29vZ2xlYXBpcy5jb20vYWpheC9saWJzL2pxdWVyeS8xLjExLjEvanF1ZXJ5Lm1pbi5qcyI+PC9zY3JpcHQ+CiAgICA8c2NyaXB0IHNyYz0iaHR0cHM6Ly9tYXhjZG4uYm9vdHN0cmFwY2RuLmNvbS9ib290c3RyYXAvMy4yLjAvanMvYm9vdHN0cmFwLm1pbi5qcyI+PC9zY3JpcHQ+CiAgICA8c2NyaXB0IHNyYz0iaHR0cHM6Ly9jZG5qcy5jbG91ZGZsYXJlLmNvbS9hamF4L2xpYnMvTGVhZmxldC5hd2Vzb21lLW1hcmtlcnMvMi4wLjIvbGVhZmxldC5hd2Vzb21lLW1hcmtlcnMuanMiPjwvc2NyaXB0PgogICAgPGxpbmsgcmVsPSJzdHlsZXNoZWV0IiBocmVmPSJodHRwczovL2Nkbi5qc2RlbGl2ci5uZXQvbnBtL2xlYWZsZXRAMS4yLjAvZGlzdC9sZWFmbGV0LmNzcyIgLz4KICAgIDxsaW5rIHJlbD0ic3R5bGVzaGVldCIgaHJlZj0iaHR0cHM6Ly9tYXhjZG4uYm9vdHN0cmFwY2RuLmNvbS9ib290c3RyYXAvMy4yLjAvY3NzL2Jvb3RzdHJhcC5taW4uY3NzIiAvPgogICAgPGxpbmsgcmVsPSJzdHlsZXNoZWV0IiBocmVmPSJodHRwczovL21heGNkbi5ib290c3RyYXBjZG4uY29tL2Jvb3RzdHJhcC8zLjIuMC9jc3MvYm9vdHN0cmFwLXRoZW1lLm1pbi5jc3MiIC8+CiAgICA8bGluayByZWw9InN0eWxlc2hlZXQiIGhyZWY9Imh0dHBzOi8vbWF4Y2RuLmJvb3RzdHJhcGNkbi5jb20vZm9udC1hd2Vzb21lLzQuNi4zL2Nzcy9mb250LWF3ZXNvbWUubWluLmNzcyIgLz4KICAgIDxsaW5rIHJlbD0ic3R5bGVzaGVldCIgaHJlZj0iaHR0cHM6Ly9jZG5qcy5jbG91ZGZsYXJlLmNvbS9hamF4L2xpYnMvTGVhZmxldC5hd2Vzb21lLW1hcmtlcnMvMi4wLjIvbGVhZmxldC5hd2Vzb21lLW1hcmtlcnMuY3NzIiAvPgogICAgPGxpbmsgcmVsPSJzdHlsZXNoZWV0IiBocmVmPSJodHRwczovL3Jhd2dpdC5jb20vcHl0aG9uLXZpc3VhbGl6YXRpb24vZm9saXVtL21hc3Rlci9mb2xpdW0vdGVtcGxhdGVzL2xlYWZsZXQuYXdlc29tZS5yb3RhdGUuY3NzIiAvPgogICAgPHN0eWxlPmh0bWwsIGJvZHkge3dpZHRoOiAxMDAlO2hlaWdodDogMTAwJTttYXJnaW46IDA7cGFkZGluZzogMDt9PC9zdHlsZT4KICAgIDxzdHlsZT4jbWFwIHtwb3NpdGlvbjphYnNvbHV0ZTt0b3A6MDtib3R0b206MDtyaWdodDowO2xlZnQ6MDt9PC9zdHlsZT4KICAgIAogICAgICAgICAgICA8c3R5bGU+ICNtYXBfMzVkZTM2NzVmZjlkNGU5MWIwMjUyODM2MzdlMzE1NDYgewogICAgICAgICAgICAgICAgcG9zaXRpb24gOiByZWxhdGl2ZTsKICAgICAgICAgICAgICAgIHdpZHRoIDogMTAwLjAlOwogICAgICAgICAgICAgICAgaGVpZ2h0OiAxMDAuMCU7CiAgICAgICAgICAgICAgICBsZWZ0OiAwLjAlOwogICAgICAgICAgICAgICAgdG9wOiAwLjAlOwogICAgICAgICAgICAgICAgfQogICAgICAgICAgICA8L3N0eWxlPgogICAgICAgIAo8L2hlYWQ+Cjxib2R5PiAgICAKICAgIAogICAgICAgICAgICA8ZGl2IGNsYXNzPSJmb2xpdW0tbWFwIiBpZD0ibWFwXzM1ZGUzNjc1ZmY5ZDRlOTFiMDI1MjgzNjM3ZTMxNTQ2IiA+PC9kaXY+CiAgICAgICAgCjwvYm9keT4KPHNjcmlwdD4gICAgCiAgICAKCiAgICAgICAgICAgIAogICAgICAgICAgICAgICAgdmFyIGJvdW5kcyA9IG51bGw7CiAgICAgICAgICAgIAoKICAgICAgICAgICAgdmFyIG1hcF8zNWRlMzY3NWZmOWQ0ZTkxYjAyNTI4MzYzN2UzMTU0NiA9IEwubWFwKAogICAgICAgICAgICAgICAgICAgICAgICAgICAgICAgICAgJ21hcF8zNWRlMzY3NWZmOWQ0ZTkxYjAyNTI4MzYzN2UzMTU0NicsCiAgICAgICAgICAgICAgICAgICAgICAgICAgICAgICAgICB7Y2VudGVyOiBbMTEuNTcwNjE1MjY5OCwxMDUuNjY3NjE0MTQ1XSwKICAgICAgICAgICAgICAgICAgICAgICAgICAgICAgICAgIHpvb206IDYsCiAgICAgICAgICAgICAgICAgICAgICAgICAgICAgICAgICBtYXhCb3VuZHM6IGJvdW5kcywKICAgICAgICAgICAgICAgICAgICAgICAgICAgICAgICAgIGxheWVyczogW10sCiAgICAgICAgICAgICAgICAgICAgICAgICAgICAgICAgICB3b3JsZENvcHlKdW1wOiBmYWxzZSwKICAgICAgICAgICAgICAgICAgICAgICAgICAgICAgICAgIGNyczogTC5DUlMuRVBTRzM4NTcKICAgICAgICAgICAgICAgICAgICAgICAgICAgICAgICAgfSk7CiAgICAgICAgICAgIAogICAgICAgIAogICAgCiAgICAgICAgICAgIHZhciB0aWxlX2xheWVyXzk3MzAxY2U0NjExZjQwNjhiMmVlMDIxMjBjYjJmNWY1ID0gTC50aWxlTGF5ZXIoCiAgICAgICAgICAgICAgICAnIGh0dHA6Ly9tdDEuZ29vZ2xlLmNvbS92dC9seXJzPXkmej17en0meD17eH0meT17eX0nLAogICAgICAgICAgICAgICAgewogICJhdHRyaWJ1dGlvbiI6ICJHb29nbGUiLAogICJkZXRlY3RSZXRpbmEiOiBmYWxzZSwKICAibWF4Wm9vbSI6IDE4LAogICJtaW5ab29tIjogMSwKICAibm9XcmFwIjogZmFsc2UsCiAgInN1YmRvbWFpbnMiOiAiYWJjIgp9CiAgICAgICAgICAgICAgICApLmFkZFRvKG1hcF8zNWRlMzY3NWZmOWQ0ZTkxYjAyNTI4MzYzN2UzMTU0Nik7CiAgICAgICAgCiAgICAKICAgICAgICAgICAgICAgIHZhciBwb2x5X2xpbmVfOGU0MTQ4NjYxYzVmNGU1ZTgyMjBhM2YwOGZmZTA0NmQgPSBMLnBvbHlsaW5lKAogICAgICAgICAgICAgICAgICAgIFtbOS4xNzY0MjUzNzQ1Nzg0MTgxLCAxMDIuNDA0MzA0MjEyNzc5MzJdLCBbOS4xNzY0MjUzNzQ1Nzg0MTgxLCAxMDguOTMwOTI0MDc4MDI0NzddLCBbMTMuOTY0ODA1MTY1MDUxNjY3LCAxMDguOTMwOTI0MDc4MDI0NzddLCBbMTMuOTY0ODA1MTY1MDUxNjY3LCAxMDIuNDA0MzA0MjEyNzc5MzJdLCBbOS4xNzY0MjUzNzQ1Nzg0MTgxLCAxMDIuNDA0MzA0MjEyNzc5MzJdXSwKICAgICAgICAgICAgICAgICAgICB7CiAgImJ1YmJsaW5nTW91c2VFdmVudHMiOiB0cnVlLAogICJjb2xvciI6ICJyZWQiLAogICJkYXNoQXJyYXkiOiBudWxsLAogICJkYXNoT2Zmc2V0IjogbnVsbCwKICAiZmlsbCI6IGZhbHNlLAogICJmaWxsQ29sb3IiOiAicmVkIiwKICAiZmlsbE9wYWNpdHkiOiAwLjIsCiAgImZpbGxSdWxlIjogImV2ZW5vZGQiLAogICJsaW5lQ2FwIjogInJvdW5kIiwKICAibGluZUpvaW4iOiAicm91bmQiLAogICJub0NsaXAiOiBmYWxzZSwKICAib3BhY2l0eSI6IDAuOCwKICAic21vb3RoRmFjdG9yIjogMS4wLAogICJzdHJva2UiOiB0cnVlLAogICJ3ZWlnaHQiOiAzCn0pLmFkZFRvKG1hcF8zNWRlMzY3NWZmOWQ0ZTkxYjAyNTI4MzYzN2UzMTU0Nik7CiAgICAgICAgICAgIAogICAgCiAgICAgICAgICAgICAgICB2YXIgbGF0X2xuZ19wb3B1cF8zZjQ5OGM2Y2JmZTM0ZDcwOTQwMGZhMmFkM2U3YTY0YSA9IEwucG9wdXAoKTsKICAgICAgICAgICAgICAgIGZ1bmN0aW9uIGxhdExuZ1BvcChlKSB7CiAgICAgICAgICAgICAgICAgICAgbGF0X2xuZ19wb3B1cF8zZjQ5OGM2Y2JmZTM0ZDcwOTQwMGZhMmFkM2U3YTY0YQogICAgICAgICAgICAgICAgICAgICAgICAuc2V0TGF0TG5nKGUubGF0bG5nKQogICAgICAgICAgICAgICAgICAgICAgICAuc2V0Q29udGVudCgiTGF0aXR1ZGU6ICIgKyBlLmxhdGxuZy5sYXQudG9GaXhlZCg0KSArCiAgICAgICAgICAgICAgICAgICAgICAgICAgICAgICAgICAgICI8YnI+TG9uZ2l0dWRlOiAiICsgZS5sYXRsbmcubG5nLnRvRml4ZWQoNCkpCiAgICAgICAgICAgICAgICAgICAgICAgIC5vcGVuT24obWFwXzM1ZGUzNjc1ZmY5ZDRlOTFiMDI1MjgzNjM3ZTMxNTQ2KTsKICAgICAgICAgICAgICAgICAgICB9CiAgICAgICAgICAgICAgICBtYXBfMzVkZTM2NzVmZjlkNGU5MWIwMjUyODM2MzdlMzE1NDYub24oJ2NsaWNrJywgbGF0TG5nUG9wKTsKICAgICAgICAgICAgCjwvc2NyaXB0Pg==\" style=\"position:absolute;width:100%;height:100%;left:0;top:0;border:none !important;\" allowfullscreen webkitallowfullscreen mozallowfullscreen></iframe></div></div>"
      ],
      "text/plain": [
       "<folium.folium.Map at 0x7f47585f7cf8>"
      ]
     },
     "execution_count": 8,
     "metadata": {},
     "output_type": "execute_result"
    }
   ],
   "source": [
    "## The code below renders a map that can be used to orient yourself with the region.\n",
    "from utils.data_cube_utilities.dc_display_map import display_map\n",
    "display_map(latitude = latitude_extents, longitude = longitude_extents)"
   ]
  },
  {
   "cell_type": "markdown",
   "metadata": {},
   "source": [
    "> ### Pick a smaller analysis region and display that region\n",
    "Try to keep your region to less than 0.2-deg x 0.2-deg for rapid processing. You can click on the map above to find the Lat-Lon coordinates of any location. You will want to identify a region with an inland water body and some vegetation. Pick a time window of several years."
   ]
  },
  {
   "cell_type": "code",
   "execution_count": 9,
   "metadata": {},
   "outputs": [
    {
     "name": "stdout",
     "output_type": "stream",
     "text": [
      "('2005-01-01', '2015-01-01')\n"
     ]
    }
   ],
   "source": [
    "## Vietnam - Central Lam Dong Province ##\n",
    "longitude_extents = (107.0, 107.2)\n",
    "latitude_extents  = (11.7, 12.0)\n",
    "\n",
    "## Vietnam Ho Tri An Lake\n",
    "# longitude_extents = (107.0, 107.2)\n",
    "# latitude_extents  = (11.1, 11.3)\n",
    "\n",
    "time_extents = ('2005-01-01', '2015-01-01')\n",
    "print ( time_extents )"
   ]
  },
  {
   "cell_type": "code",
   "execution_count": 10,
   "metadata": {
    "scrolled": true
   },
   "outputs": [
    {
     "data": {
      "text/html": [
       "<div style=\"width:100%;\"><div style=\"position:relative;width:100%;height:0;padding-bottom:60%;\"><iframe src=\"data:text/html;charset=utf-8;base64,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\" style=\"position:absolute;width:100%;height:100%;left:0;top:0;border:none !important;\" allowfullscreen webkitallowfullscreen mozallowfullscreen></iframe></div></div>"
      ],
      "text/plain": [
       "<folium.folium.Map at 0x7f475858f048>"
      ]
     },
     "execution_count": 10,
     "metadata": {},
     "output_type": "execute_result"
    }
   ],
   "source": [
    "display_map(latitude = latitude_extents, longitude = longitude_extents)"
   ]
  },
  {
   "cell_type": "markdown",
   "metadata": {},
   "source": [
    "## Load the dataset and the required spectral bands or other parameters\n",
    "After loading, you will view the Xarray dataset. Notice the dimensions represent the number of pixels in your latitude and longitude dimension as well as the number of time slices (time) in your time series."
   ]
  },
  {
   "cell_type": "code",
   "execution_count": 11,
   "metadata": {
    "collapsed": true
   },
   "outputs": [],
   "source": [
    "landsat_dataset = dc.load(latitude = latitude_extents,\n",
    "                          longitude = longitude_extents,\n",
    "                          platform = platform,\n",
    "                          time = time_extents,\n",
    "                          product = product,\n",
    "                          measurements = ['red', 'green', 'blue', 'nir', 'swir1', 'swir2', 'pixel_qa']) "
   ]
  },
  {
   "cell_type": "code",
   "execution_count": 12,
   "metadata": {},
   "outputs": [
    {
     "data": {
      "text/plain": [
       "<xarray.Dataset>\n",
       "Dimensions:    (latitude: 1114, longitude: 743, time: 103)\n",
       "Coordinates:\n",
       "  * time       (time) datetime64[ns] 2005-01-13T02:57:03 2005-01-29T02:57:05 ...\n",
       "  * latitude   (latitude) float64 12.0 12.0 12.0 12.0 12.0 12.0 12.0 12.0 ...\n",
       "  * longitude  (longitude) float64 107.0 107.0 107.0 107.0 107.0 107.0 107.0 ...\n",
       "Data variables:\n",
       "    red        (time, latitude, longitude) int16 -9999 -9999 -9999 -9999 ...\n",
       "    green      (time, latitude, longitude) int16 -9999 -9999 -9999 -9999 ...\n",
       "    blue       (time, latitude, longitude) int16 -9999 -9999 -9999 -9999 ...\n",
       "    nir        (time, latitude, longitude) int16 -9999 -9999 -9999 -9999 ...\n",
       "    swir1      (time, latitude, longitude) int16 -9999 -9999 -9999 -9999 ...\n",
       "    swir2      (time, latitude, longitude) int16 -9999 -9999 -9999 -9999 ...\n",
       "    pixel_qa   (time, latitude, longitude) int32 1 1 1 1 1 1 1 1 1 1 1 1 1 1 ...\n",
       "Attributes:\n",
       "    crs:      EPSG:4326"
      ]
     },
     "execution_count": 12,
     "metadata": {},
     "output_type": "execute_result"
    }
   ],
   "source": [
    "landsat_dataset\n",
    "#view the dimensions and sample content from the cube"
   ]
  },
  {
   "cell_type": "markdown",
   "metadata": {},
   "source": [
    "## Preparing the data\n",
    "We will filter out the clouds and the water using the Landsat pixel_qa information. Next, we will calculate the values of NDVI (vegetation index) and TSM (water quality). "
   ]
  },
  {
   "cell_type": "code",
   "execution_count": 13,
   "metadata": {
    "collapsed": true
   },
   "outputs": [],
   "source": [
    "import xarray as xr  \n",
    "import numpy as np\n",
    "def ls7_unpack_qa( data_array , cover_type):  \n",
    "    \n",
    "    land_cover_endcoding = dict( fill     =  [1], \n",
    "                                 clear    =  [66,  130], \n",
    "                                 water    =  [68,  132],\n",
    "                                 shadow   =  [72,  136],\n",
    "                                 snow     =  [80,  112, 144, 176],\n",
    "                                 cloud    =  [96,  112, 160, 176, 224],\n",
    "                                 low_conf =  [66,  68,  72,  80,  96,  112],\n",
    "                                 med_conf =  [130, 132, 136, 144, 160, 176],\n",
    "                                 high_conf=  [224]\n",
    "                               ) \n",
    "    boolean_mask = np.isin(data_array.values, land_cover_endcoding[cover_type]) \n",
    "    return xr.DataArray(boolean_mask.astype(int),\n",
    "                        coords = data_array.coords,\n",
    "                        dims = data_array.dims,\n",
    "                        name = cover_type + \"_mask\",\n",
    "                        attrs = data_array.attrs) \n"
   ]
  },
  {
   "cell_type": "code",
   "execution_count": 14,
   "metadata": {
    "collapsed": true
   },
   "outputs": [],
   "source": [
    "clear_xarray  = ls7_unpack_qa(landsat_dataset.pixel_qa, \"clear\")  \n",
    "water_xarray  = ls7_unpack_qa(landsat_dataset.pixel_qa, \"water\")\n",
    "shadow_xarray = ls7_unpack_qa(landsat_dataset.pixel_qa, \"shadow\") \n",
    "cloud_xarray = ls7_unpack_qa(landsat_dataset.pixel_qa, \"cloud\") "
   ]
  },
  {
   "cell_type": "code",
   "execution_count": 15,
   "metadata": {
    "collapsed": true
   },
   "outputs": [],
   "source": [
    "clean_xarray = xr.ufuncs.logical_or(clear_xarray , water_xarray).astype(np.int8).rename(\"clean_mask\")\n",
    "\n",
    "clean_mask = np.logical_or(clear_xarray.values.astype(bool),\n",
    "                           water_xarray.values.astype(bool)) "
   ]
  },
  {
   "cell_type": "code",
   "execution_count": 16,
   "metadata": {
    "collapsed": true
   },
   "outputs": [],
   "source": [
    "def NDVI(dataset):\n",
    "    return ((dataset.nir - dataset.red)/(dataset.nir + dataset.red)).rename(\"NDVI\")"
   ]
  },
  {
   "cell_type": "code",
   "execution_count": 17,
   "metadata": {
    "collapsed": true
   },
   "outputs": [],
   "source": [
    "ndvi_xarray = NDVI(landsat_dataset)  # Vegetation Index"
   ]
  },
  {
   "cell_type": "code",
   "execution_count": 18,
   "metadata": {
    "collapsed": true
   },
   "outputs": [],
   "source": [
    "from utils.data_cube_utilities.dc_water_quality import tsm\n",
    "\n",
    "tsm_xarray = tsm(landsat_dataset, clean_mask = water_xarray.values.astype(bool) ).tsm"
   ]
  },
  {
   "cell_type": "markdown",
   "metadata": {},
   "source": [
    "### Combine everything into one XARRAY for further analysis"
   ]
  },
  {
   "cell_type": "code",
   "execution_count": 19,
   "metadata": {
    "collapsed": true
   },
   "outputs": [],
   "source": [
    "combined_dataset = xr.merge([landsat_dataset,\n",
    "          clean_xarray,\n",
    "          clear_xarray,\n",
    "          water_xarray,\n",
    "          shadow_xarray,\n",
    "          cloud_xarray,                  \n",
    "          ndvi_xarray,\n",
    "          tsm_xarray])\n",
    "\n",
    "# Copy original crs to merged dataset \n",
    "combined_dataset = combined_dataset.assign_attrs(landsat_dataset.attrs)"
   ]
  },
  {
   "cell_type": "markdown",
   "metadata": {},
   "source": [
    "## Define a path for a transect  \n",
    "A transect is just a line that will run across our region of interest. Use the display map above to find the end points of your desired line. If you click on the map it will give you precise Lat-Lon positions for a point."
   ]
  },
  {
   "cell_type": "markdown",
   "metadata": {},
   "source": [
    "### Start with a line across a mix of water and land"
   ]
  },
  {
   "cell_type": "code",
   "execution_count": 20,
   "metadata": {
    "collapsed": true
   },
   "outputs": [],
   "source": [
    "# Water and Land Mixed Examples\n",
    "\n",
    "# North-South Path\n",
    "start = ( 11.8428, 107.0734 )\n",
    "end   = ( 11.7306, 107.0734 )\n",
    "\n",
    "# East-West Path\n",
    "# start = ( 11.9167, 107.0554 )\n",
    "# end   = ( 11.9167, 107.1719 )\n",
    "\n",
    "# East-West Path for Lake Ho Tri An\n",
    "# start = ( 11.25, 107.02 )\n",
    "# end   = ( 11.25, 107.18 )"
   ]
  },
  {
   "cell_type": "markdown",
   "metadata": {},
   "source": [
    "### Plot the transect line"
   ]
  },
  {
   "cell_type": "code",
   "execution_count": 21,
   "metadata": {},
   "outputs": [
    {
     "data": {
      "text/html": [
       "<div style=\"width:100%;\"><div style=\"position:relative;width:100%;height:0;padding-bottom:60%;\"><iframe src=\"data:text/html;charset=utf-8;base64,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\" style=\"position:absolute;width:100%;height:100%;left:0;top:0;border:none !important;\" allowfullscreen webkitallowfullscreen mozallowfullscreen></iframe></div></div>"
      ],
      "text/plain": [
       "<folium.folium.Map at 0x7f47541f7ef0>"
      ]
     },
     "execution_count": 21,
     "metadata": {},
     "output_type": "execute_result"
    }
   ],
   "source": [
    "import folium\n",
    "import numpy as np  \n",
    "from folium.features import CustomIcon\n",
    "\n",
    "def plot_a_path(points , zoom = 15):\n",
    "    xs,ys = zip(*points)\n",
    "    \n",
    "    map_center_point = (np.mean(xs), np.mean(ys))\n",
    "    the_map = folium.Map(location=[map_center_point[0], map_center_point[1]], zoom_start = zoom, tiles='http://mt1.google.com/vt/lyrs=y&z={z}&x={x}&y={y}', attr = \"Google Attribution\")\n",
    "    path = folium.PolyLine(locations=points, weight=5, color = 'orange')\n",
    "    the_map.add_child(path)\n",
    "    \n",
    "    start = ( xs[0] ,ys[0] )\n",
    "    end   = ( xs[-1],ys[-1])\n",
    "    \n",
    "    return the_map  \n",
    "\n",
    "plot_a_path([start,end])    "
   ]
  },
  {
   "cell_type": "markdown",
   "metadata": {},
   "source": [
    "### Find the nearest pixels along the transect path"
   ]
  },
  {
   "cell_type": "code",
   "execution_count": 22,
   "metadata": {
    "collapsed": true
   },
   "outputs": [],
   "source": [
    "from utils.data_cube_utilities.transect import line_scan\n",
    "\n",
    "import numpy as np\n",
    "\n",
    "def get_index_at(coords, ds):\n",
    "    '''Returns an integer index pair.'''\n",
    "    lat = coords[0]\n",
    "    lon = coords[1]\n",
    "    \n",
    "    nearest_lat = ds.sel(latitude = lat, method = 'nearest').latitude.values\n",
    "    nearest_lon = ds.sel(longitude = lon, method = 'nearest').longitude.values\n",
    "    \n",
    "    lat_index = np.where(ds.latitude.values == nearest_lat)[0]\n",
    "    lon_index = np.where(ds.longitude.values == nearest_lon)[0]\n",
    "    \n",
    "    return (int(lat_index), int(lon_index))\n",
    "\n",
    "def create_pixel_trail(start, end, ds):\n",
    "    a = get_index_at(start, ds)\n",
    "    b = get_index_at(end, ds)\n",
    "    \n",
    "    indices = line_scan.line_scan(a, b)\n",
    "\n",
    "    pixels = [ ds.isel(latitude = x, longitude = y) for x, y in indices]\n",
    "    return pixels"
   ]
  },
  {
   "cell_type": "code",
   "execution_count": 23,
   "metadata": {
    "collapsed": true
   },
   "outputs": [],
   "source": [
    "list_of_pixels_along_segment = create_pixel_trail(start, end, landsat_dataset)"
   ]
  },
  {
   "cell_type": "markdown",
   "metadata": {},
   "source": [
    "## Groundwork for Transect (2-D) and Hovmöller (3-D) Plots"
   ]
  },
  {
   "cell_type": "code",
   "execution_count": 24,
   "metadata": {
    "collapsed": true
   },
   "outputs": [],
   "source": [
    "import xarray\n",
    "import matplotlib.pyplot as plt  \n",
    "from matplotlib.ticker import FuncFormatter  \n",
    "from datetime import datetime  \n",
    "import time\n",
    "\n",
    "def plot_list_of_pixels(list_of_pixels, band_name, y = None): \n",
    "    start = (\n",
    "             \"{0:.2f}\".format(float(list_of_pixels[0].latitude.values )),\n",
    "             \"{0:.2f}\".format(float(list_of_pixels[0].longitude.values))\n",
    "            )  \n",
    "    end = (\n",
    "             \"{0:.2f}\".format(float(list_of_pixels[-1].latitude.values)),\n",
    "             \"{0:.2f}\".format(float(list_of_pixels[-1].longitude.values))\n",
    "            )\n",
    "    \n",
    "    def reformat_n64(t):\n",
    "        return time.strftime(\"%Y.%m.%d\", time.gmtime(t.astype(int)/1000000000))   \n",
    "    \n",
    "    def pixel_to_array(pixel):\n",
    "        return(pixel.values)\n",
    "    \n",
    "    def figure_ratio(x,y, fixed_width = 10):\n",
    "        width = fixed_width\n",
    "        height = y * (fixed_width / x)\n",
    "        return (width, height)\n",
    "    \n",
    "    pixel_array = np.transpose([pixel_to_array(pix) for pix in list_of_pixels])\n",
    "    \n",
    "    #If the data has one acquisition, then plot transect (2-D), else Hovmöller (3-D) \n",
    "    if y.size == 1:\n",
    "        plt.figure(figsize = (15,5))\n",
    "        plt.scatter(np.arange(pixel_array.size), pixel_array)\n",
    "        plt.title(\"Transect (2-D) \\n Acquisition date: {}\".format(reformat_n64(y)))\n",
    "        plt.xlabel(\"Pixels along the transect \\n {} -  {} \\n \".format(start,end))\n",
    "        plt.ylabel(band_name)\n",
    "\n",
    "    else:\n",
    "        m = FuncFormatter(lambda x :x )\n",
    "        figure = plt.figure(figsize = figure_ratio(len(list_of_pixels),\n",
    "                                                   len(list_of_pixels[0].values),\n",
    "                                                   fixed_width = 15))\n",
    "        number_of_y_ticks = 5 \n",
    "\n",
    "        ax = plt.gca()\n",
    "        cax = ax.imshow(pixel_array, interpolation='none')\n",
    "        figure.colorbar(cax,fraction=0.110, pad=0.04)\n",
    "\n",
    "        ax.set_title(\"Hovmöller (3-D) \\n Acquisition range: {} -  {} \\n \".format(reformat_n64(y[0]),reformat_n64(y[-1])))\n",
    "        plt.xlabel(\"Pixels along the transect \\n {} -  {} \\n \".format(start,end))\n",
    "        ax.get_yaxis().set_major_formatter( FuncFormatter(lambda x, p: reformat_n64(list_of_pixels[0].time.values[int(x)]) if int(x) < len(list_of_pixels[0].time) else \"\"))    \n",
    "        plt.ylabel(\"Time\")\n",
    "    plt.show()"
   ]
  },
  {
   "cell_type": "code",
   "execution_count": 25,
   "metadata": {
    "collapsed": true
   },
   "outputs": [],
   "source": [
    "def transect_plot(start,\n",
    "                  end,\n",
    "                  da):\n",
    "    if type(da) is not xarray.DataArray and (type(da) is xarray.Dataset)  :\n",
    "        raise Exception('You should be passing in a data-array, not a Dataset')\n",
    "\n",
    "    pixels = create_pixel_trail(start, end,da)\n",
    "    dates = da.time.values  \n",
    "\n",
    "    lats = [x.latitude.values for x in pixels]\n",
    "    lons = [x.longitude.values for x in pixels]\n",
    "    \n",
    "    plot_list_of_pixels(pixels, da.name, y = dates)"
   ]
  },
  {
   "cell_type": "code",
   "execution_count": 26,
   "metadata": {
    "collapsed": true
   },
   "outputs": [],
   "source": [
    "pixels = create_pixel_trail(start, end, landsat_dataset)"
   ]
  },
  {
   "cell_type": "code",
   "execution_count": 27,
   "metadata": {
    "collapsed": true
   },
   "outputs": [],
   "source": [
    "t = 2\n",
    "subset = list( map(lambda x: x.isel(time = t), pixels))"
   ]
  },
  {
   "cell_type": "markdown",
   "metadata": {},
   "source": [
    "### Mask Clouds"
   ]
  },
  {
   "cell_type": "code",
   "execution_count": 28,
   "metadata": {
    "collapsed": true
   },
   "outputs": [],
   "source": [
    "def land_and_water_masking_ls7(dataset):    \n",
    "    #Create boolean Masks for clear and water pixels\n",
    "    clear_pixels = landsat_dataset.pixel_qa.values == 2 + 64\n",
    "    water_pixels = landsat_dataset.pixel_qa.values == 4 + 64\n",
    "\n",
    "    a_clean_mask = np.logical_or(clear_pixels, water_pixels)\n",
    "    return a_clean_mask"
   ]
  },
  {
   "cell_type": "code",
   "execution_count": 29,
   "metadata": {
    "collapsed": true
   },
   "outputs": [],
   "source": [
    "cloudless_dataset = landsat_dataset.where(land_and_water_masking_ls7(landsat_dataset))"
   ]
  },
  {
   "cell_type": "markdown",
   "metadata": {},
   "source": [
    "### Select an acquisition date and then plot a 2D transect without clouds"
   ]
  },
  {
   "cell_type": "code",
   "execution_count": 30,
   "metadata": {
    "collapsed": true
   },
   "outputs": [],
   "source": [
    "# select an acquisition number from the start (t=0) to \"time\" using the array limits above\n",
    "acquisition_number = 20"
   ]
  },
  {
   "cell_type": "code",
   "execution_count": 31,
   "metadata": {
    "collapsed": true
   },
   "outputs": [],
   "source": [
    "#If plotted will create the 2-D transect\n",
    "cloudless_dataset_for_acq_no = cloudless_dataset.isel(time = acquisition_number) "
   ]
  },
  {
   "cell_type": "code",
   "execution_count": 32,
   "metadata": {
    "collapsed": true
   },
   "outputs": [],
   "source": [
    "#If Plotted will create the 3-D Hovmoller plot for a portion of the time series (min to max)\n",
    "min_acq = 1\n",
    "max_acq = 4\n",
    "\n",
    "cloudless_dataset_from_1_to_acq_no = cloudless_dataset.isel(time = slice(min_acq, max_acq)) "
   ]
  },
  {
   "cell_type": "markdown",
   "metadata": {},
   "source": [
    "## Select one of the XARRAY parameters for analysis"
   ]
  },
  {
   "cell_type": "code",
   "execution_count": 33,
   "metadata": {
    "collapsed": true
   },
   "outputs": [],
   "source": [
    "band = 'green'"
   ]
  },
  {
   "cell_type": "markdown",
   "metadata": {},
   "source": [
    "### Create a 2D Transect plot of the \"band\" for one date"
   ]
  },
  {
   "cell_type": "code",
   "execution_count": 34,
   "metadata": {
    "scrolled": false
   },
   "outputs": [
    {
     "data": {
      "image/png": "[encoded data removed]",
      "text/plain": [
       "<matplotlib.figure.Figure at 0x7f4654b8f5c0>"
      ]
     },
     "metadata": {},
     "output_type": "display_data"
    }
   ],
   "source": [
    "transect_plot(start, end, cloudless_dataset_for_acq_no[band])"
   ]
  },
  {
   "cell_type": "markdown",
   "metadata": {},
   "source": [
    "### Create a 2D Transect plot of NDVI for one date"
   ]
  },
  {
   "cell_type": "code",
   "execution_count": 35,
   "metadata": {},
   "outputs": [
    {
     "data": {
      "image/png": "[encoded data removed]",
      "text/plain": [
       "<matplotlib.figure.Figure at 0x7f4654ba6ef0>"
      ]
     },
     "metadata": {},
     "output_type": "display_data"
    }
   ],
   "source": [
    "transect_plot(start, end, NDVI(cloudless_dataset_for_acq_no))"
   ]
  },
  {
   "cell_type": "markdown",
   "metadata": {},
   "source": [
    "### Create a 3D Hovmoller plot of NDVI for the entire time series"
   ]
  },
  {
   "cell_type": "code",
   "execution_count": 36,
   "metadata": {},
   "outputs": [
    {
     "data": {
      "image/png": "[encoded data removed]",
      "text/plain": [
       "<matplotlib.figure.Figure at 0x7f4654be5588>"
      ]
     },
     "metadata": {},
     "output_type": "display_data"
    }
   ],
   "source": [
    "transect_plot(start, end, NDVI(cloudless_dataset))"
   ]
  },
  {
   "cell_type": "markdown",
   "metadata": {},
   "source": [
    "### Create a 2D Transect plot of water existence for one date"
   ]
  },
  {
   "cell_type": "code",
   "execution_count": 37,
   "metadata": {},
   "outputs": [
    {
     "data": {
      "image/png": "[encoded data removed]",
      "text/plain": [
       "<matplotlib.figure.Figure at 0x7f4651021c50>"
      ]
     },
     "metadata": {},
     "output_type": "display_data"
    }
   ],
   "source": [
    "transect_plot(start, end, water_xarray.isel(time = acquisition_number))"
   ]
  },
  {
   "cell_type": "markdown",
   "metadata": {},
   "source": [
    "### Create a 3D Hovmoller plot of water extent for the entire time series"
   ]
  },
  {
   "cell_type": "code",
   "execution_count": 38,
   "metadata": {
    "scrolled": true
   },
   "outputs": [
    {
     "data": {
      "image/png": "[encoded data removed]",
      "text/plain": [
       "<matplotlib.figure.Figure at 0x7f465105a2e8>"
      ]
     },
     "metadata": {},
     "output_type": "display_data"
    }
   ],
   "source": [
    "transect_plot(start, end, water_xarray)"
   ]
  },
  {
   "cell_type": "markdown",
   "metadata": {},
   "source": [
    "### Create a 2D Transect plot of water quality (TSM) for one date"
   ]
  },
  {
   "cell_type": "code",
   "execution_count": 39,
   "metadata": {},
   "outputs": [
    {
     "data": {
      "image/png": "[encoded data removed]",
      "text/plain": [
       "<matplotlib.figure.Figure at 0x7f4654bd50f0>"
      ]
     },
     "metadata": {},
     "output_type": "display_data"
    }
   ],
   "source": [
    "transect_plot(start, end, tsm_xarray.isel(time = acquisition_number))"
   ]
  },
  {
   "cell_type": "markdown",
   "metadata": {},
   "source": [
    "### Create a 3D Hovmoller plot of water quality (TSM) for one date"
   ]
  },
  {
   "cell_type": "code",
   "execution_count": 40,
   "metadata": {},
   "outputs": [
    {
     "data": {
      "image/png": "[encoded data removed]",
      "text/plain": [
       "<matplotlib.figure.Figure at 0x7f4652ae7dd8>"
      ]
     },
     "metadata": {},
     "output_type": "display_data"
    }
   ],
   "source": [
    "transect_plot(start, end, tsm_xarray)"
   ]
  }
 ],
 "metadata": {
  "kernelspec": {
   "display_name": "Python 3",
   "language": "python",
   "name": "python3"
  },
  "language_info": {
   "codemirror_mode": {
    "name": "ipython",
    "version": 3
   },
   "file_extension": ".py",
   "mimetype": "text/x-python",
   "name": "python",
   "nbconvert_exporter": "python",
   "pygments_lexer": "ipython3",
   "version": "3.5.2"
  }
 },
 "nbformat": 4,
 "nbformat_minor": 2
}
