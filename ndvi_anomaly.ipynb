{
 "cells": [
  {
   "cell_type": "markdown",
   "metadata": {},
   "source": [
    "# CEOS Data Cube - NDVI Anomaly Notebook\n",
    "*****\n",
    "**Description:** This Python notebook allows users to directly interact with a CEOS-formatted data cube to perform a NDVI anomaly detection analysis. The following steps will allow users to connect to a data cube, define the analysis location and scene of interest (extent of latitude/longitude and dates), and a collection of scenes to use to form a baseline. The output dataset contains a plot of locations where there was a significant change in the NDVI value between the baseline and the scene of interest. This can be extremely useful in identifying areas that are effected by droughts, fires, or deforestation. \n",
    "*****"
   ]
  },
  {
   "cell_type": "markdown",
   "metadata": {},
   "source": [
    "**Import necessary Data Cube libraries and dependencies.**"
   ]
  },
  {
   "cell_type": "code",
   "execution_count": 7,
   "metadata": {},
   "outputs": [],
   "source": [
    "%matplotlib inline\n",
    "\n",
    "from ipywidgets import widgets\n",
    "from IPython.display import display, HTML\n",
    "from utils.data_cube_utilities.dc_display_map import display_map\n",
    "\n",
    "import datetime\n",
    "import collections\n",
    "import operator\n",
    "import xarray as xr\n",
    "import numpy as np\n",
    "import datacube\n",
    "\n",
    "from utils.data_cube_utilities.data_access_api import DataAccessApi\n",
    "import utils.data_cube_utilities.dc_mosaic\n",
    "from dc_notebook_utilities import *\n"
   ]
  },
  {
   "cell_type": "markdown",
   "metadata": {},
   "source": [
    "**First, we must connect to our data cube.** We can then query the contents of the data cube we have connected to, including both the metadata and the actual data. In this application, our data access api class will be used to simplify reading metadata and extent datasets."
   ]
  },
  {
   "cell_type": "code",
   "execution_count": 3,
   "metadata": {},
   "outputs": [],
   "source": [
    "api = DataAccessApi(config=\"/home/localuser/.datacube.conf\")\n",
    "dc = datacube.Datacube(app='dc-water-analysis', config=\"/home/localuser/.datacube.conf\")\n"
   ]
  },
  {
   "cell_type": "markdown",
   "metadata": {},
   "source": [
    "**Obtain the metadata of our cube...** Initially, we need to get the platforms and products in the cube. The rest of the metadata will be dependent on these two options."
   ]
  },
  {
   "cell_type": "code",
   "execution_count": 4,
   "metadata": {},
   "outputs": [],
   "source": [
    "products = api.dc.list_products()\n",
    "platform_names = list(set(products.platform))\n",
    "product_names = list(products.name)"
   ]
  },
  {
   "cell_type": "markdown",
   "metadata": {},
   "source": [
    "**Execute the following code and then use the generated form to choose your desired platfrom and product.**"
   ]
  },
  {
   "cell_type": "code",
   "execution_count": 5,
   "metadata": {},
   "outputs": [
    {
     "data": {
      "application/vnd.jupyter.widget-view+json": {
       "model_id": "a061dcada8724b90bcc055f0039c50ff",
       "version_major": 2,
       "version_minor": 0
      },
      "text/html": [
       "<p>Failed to display Jupyter Widget of type <code>interactive</code>.</p>\n",
       "<p>\n",
       "  If you're reading this message in the Jupyter Notebook or JupyterLab Notebook, it may mean\n",
       "  that the widgets JavaScript is still loading. If this message persists, it\n",
       "  likely means that the widgets JavaScript library is either not installed or\n",
       "  not enabled. See the <a href=\"https://ipywidgets.readthedocs.io/en/stable/user_install.html\">Jupyter\n",
       "  Widgets Documentation</a> for setup instructions.\n",
       "</p>\n",
       "<p>\n",
       "  If you're reading this message in another frontend (for example, a static\n",
       "  rendering on GitHub or <a href=\"https://nbviewer.jupyter.org/\">NBViewer</a>),\n",
       "  it may mean that your frontend doesn't currently support widgets.\n",
       "</p>\n"
      ],
      "text/plain": [
       "interactive(children=(Select(description='platform', options=('LANDSAT_8', 'LANDSAT_5', 'ALOS', 'LANDSAT_7', 'ALOS_2', 'TERRA', 'GPM', 'SENTINEL_1'), value='LANDSAT_8'), Output()), _dom_classes=('widget-interact',))"
      ]
     },
     "metadata": {},
     "output_type": "display_data"
    }
   ],
   "source": [
    "product_values = create_platform_product_gui(platform_names, product_names, dc)"
   ]
  },
  {
   "cell_type": "markdown",
   "metadata": {},
   "source": [
    "**After selecting your platform and product, the geographic and time extents will be generated**\n",
    "\n",
    "This is done with the Data Access API mentioned earlier. After entering a valid geographic and time range, a list of valid acquisitions will be generated."
   ]
  },
  {
   "cell_type": "code",
   "execution_count": 8,
   "metadata": {},
   "outputs": [
    {
     "data": {
      "text/html": [
       "<h2>Metadata Report: </h2>"
      ],
      "text/plain": [
       "<IPython.core.display.HTML object>"
      ]
     },
     "metadata": {},
     "output_type": "display_data"
    },
    {
     "data": {
      "text/html": [
       "<table><tr><th></th><th>Min</th><th>Max</th><th>Resolution</th></tr><tr><th>Date: </th><td>1999-9-8</td><td>2016-12-29</td><td></td></tr><tr><th>Longitude: </th><td>102.404</td><td>108.931</td><td>0.000269995</td></tr><tr><th>Latitude: </th><td>9.176</td><td>13.965</td><td>-0.000271302</td></tr></table>"
      ],
      "text/plain": [
       "<IPython.core.display.HTML object>"
      ]
     },
     "metadata": {},
     "output_type": "display_data"
    },
    {
     "data": {
      "text/html": [
       "<div style=\"width:100%;\"><div style=\"position:relative;width:100%;height:0;padding-bottom:60%;\"><iframe src=\"data:text/html;charset=utf-8;base64,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\" style=\"position:absolute;width:100%;height:100%;left:0;top:0;border:none !important;\" allowfullscreen webkitallowfullscreen mozallowfullscreen></iframe></div></div>"
      ],
      "text/plain": [
       "<folium.folium.Map at 0x7f4388618080>"
      ]
     },
     "execution_count": 8,
     "metadata": {},
     "output_type": "execute_result"
    }
   ],
   "source": [
    "# Save the form values\n",
    "platform = product_values[0]\n",
    "product = product_values[1]\n",
    "\n",
    "platform, product = platform[0], product[0]\n",
    "\n",
    "# Get the pixel resolution of the selected product\n",
    "resolution = products.resolution[products.platform == platform].any()\n",
    "lat_dist = resolution[0]\n",
    "lon_dist = resolution[1]\n",
    "\n",
    "# Get the extents of the cube\n",
    "descriptor = api.get_query_metadata(platform=platform, product=product)\n",
    "min_date = descriptor['time_extents'][0]\n",
    "min_lat = descriptor['lat_extents'][0]\n",
    "min_lon = descriptor['lon_extents'][0]\n",
    "\n",
    "min_date_str = str(min_date.year) + '-' + str(min_date.month) + '-' + str(min_date.day)\n",
    "\n",
    "min_lat_rounded = round(min_lat, 3)\n",
    "min_lon_rounded =  round(min_lon, 3)\n",
    "\n",
    "max_date = descriptor['time_extents'][1]\n",
    "max_lat = descriptor['lat_extents'][1] \n",
    "max_lon = descriptor['lon_extents'][1] \n",
    "\n",
    "max_date_str = str(max_date.year) + '-' + str(max_date.month) + '-' + str(max_date.day)\n",
    "\n",
    "max_lat_rounded = round(max_lat, 3) #calculates latitude of the pixel's center\n",
    "max_lon_rounded = round(max_lon, 3) #calculates longitude of the pixel's center\n",
    "\n",
    "# Display metadata\n",
    "generate_metadata_report(min_date_str, max_date_str, \n",
    "                         min_lon_rounded, max_lon_rounded, lon_dist,\n",
    "                         min_lat_rounded, max_lat_rounded, lat_dist)\n",
    "\n",
    "display_map(latitude = (min_lat_rounded, max_lat_rounded),longitude = (min_lon_rounded, max_lon_rounded))"
   ]
  },
  {
   "cell_type": "code",
   "execution_count": 9,
   "metadata": {},
   "outputs": [
    {
     "data": {
      "application/vnd.jupyter.widget-view+json": {
       "model_id": "2fb52a5f5027447997c3eaa4815fbc36",
       "version_major": 2,
       "version_minor": 0
      },
      "text/html": [
       "<p>Failed to display Jupyter Widget of type <code>Label</code>.</p>\n",
       "<p>\n",
       "  If you're reading this message in the Jupyter Notebook or JupyterLab Notebook, it may mean\n",
       "  that the widgets JavaScript is still loading. If this message persists, it\n",
       "  likely means that the widgets JavaScript library is either not installed or\n",
       "  not enabled. See the <a href=\"https://ipywidgets.readthedocs.io/en/stable/user_install.html\">Jupyter\n",
       "  Widgets Documentation</a> for setup instructions.\n",
       "</p>\n",
       "<p>\n",
       "  If you're reading this message in another frontend (for example, a static\n",
       "  rendering on GitHub or <a href=\"https://nbviewer.jupyter.org/\">NBViewer</a>),\n",
       "  it may mean that your frontend doesn't currently support widgets.\n",
       "</p>\n"
      ],
      "text/plain": [
       "Label(value='Start date: ')"
      ]
     },
     "metadata": {},
     "output_type": "display_data"
    },
    {
     "data": {
      "application/vnd.jupyter.widget-view+json": {
       "model_id": "ec1045e7d85549f69d06dd9b3685d72a",
       "version_major": 2,
       "version_minor": 0
      },
      "text/html": [
       "<p>Failed to display Jupyter Widget of type <code>Text</code>.</p>\n",
       "<p>\n",
       "  If you're reading this message in the Jupyter Notebook or JupyterLab Notebook, it may mean\n",
       "  that the widgets JavaScript is still loading. If this message persists, it\n",
       "  likely means that the widgets JavaScript library is either not installed or\n",
       "  not enabled. See the <a href=\"https://ipywidgets.readthedocs.io/en/stable/user_install.html\">Jupyter\n",
       "  Widgets Documentation</a> for setup instructions.\n",
       "</p>\n",
       "<p>\n",
       "  If you're reading this message in another frontend (for example, a static\n",
       "  rendering on GitHub or <a href=\"https://nbviewer.jupyter.org/\">NBViewer</a>),\n",
       "  it may mean that your frontend doesn't currently support widgets.\n",
       "</p>\n"
      ],
      "text/plain": [
       "Text(value='1999-9-8')"
      ]
     },
     "metadata": {},
     "output_type": "display_data"
    },
    {
     "data": {
      "application/vnd.jupyter.widget-view+json": {
       "model_id": "bba89d6a9e8647039f7160299638fd3b",
       "version_major": 2,
       "version_minor": 0
      },
      "text/html": [
       "<p>Failed to display Jupyter Widget of type <code>Label</code>.</p>\n",
       "<p>\n",
       "  If you're reading this message in the Jupyter Notebook or JupyterLab Notebook, it may mean\n",
       "  that the widgets JavaScript is still loading. If this message persists, it\n",
       "  likely means that the widgets JavaScript library is either not installed or\n",
       "  not enabled. See the <a href=\"https://ipywidgets.readthedocs.io/en/stable/user_install.html\">Jupyter\n",
       "  Widgets Documentation</a> for setup instructions.\n",
       "</p>\n",
       "<p>\n",
       "  If you're reading this message in another frontend (for example, a static\n",
       "  rendering on GitHub or <a href=\"https://nbviewer.jupyter.org/\">NBViewer</a>),\n",
       "  it may mean that your frontend doesn't currently support widgets.\n",
       "</p>\n"
      ],
      "text/plain": [
       "Label(value='End date: ')"
      ]
     },
     "metadata": {},
     "output_type": "display_data"
    },
    {
     "data": {
      "application/vnd.jupyter.widget-view+json": {
       "model_id": "f0429c5191284fb0871f66fc05af96cf",
       "version_major": 2,
       "version_minor": 0
      },
      "text/html": [
       "<p>Failed to display Jupyter Widget of type <code>Text</code>.</p>\n",
       "<p>\n",
       "  If you're reading this message in the Jupyter Notebook or JupyterLab Notebook, it may mean\n",
       "  that the widgets JavaScript is still loading. If this message persists, it\n",
       "  likely means that the widgets JavaScript library is either not installed or\n",
       "  not enabled. See the <a href=\"https://ipywidgets.readthedocs.io/en/stable/user_install.html\">Jupyter\n",
       "  Widgets Documentation</a> for setup instructions.\n",
       "</p>\n",
       "<p>\n",
       "  If you're reading this message in another frontend (for example, a static\n",
       "  rendering on GitHub or <a href=\"https://nbviewer.jupyter.org/\">NBViewer</a>),\n",
       "  it may mean that your frontend doesn't currently support widgets.\n",
       "</p>\n"
      ],
      "text/plain": [
       "Text(value='2016-12-29')"
      ]
     },
     "metadata": {},
     "output_type": "display_data"
    },
    {
     "data": {
      "application/vnd.jupyter.widget-view+json": {
       "model_id": "020b13ba9e844cd39337186b8b19c120",
       "version_major": 2,
       "version_minor": 0
      },
      "text/html": [
       "<p>Failed to display Jupyter Widget of type <code>Label</code>.</p>\n",
       "<p>\n",
       "  If you're reading this message in the Jupyter Notebook or JupyterLab Notebook, it may mean\n",
       "  that the widgets JavaScript is still loading. If this message persists, it\n",
       "  likely means that the widgets JavaScript library is either not installed or\n",
       "  not enabled. See the <a href=\"https://ipywidgets.readthedocs.io/en/stable/user_install.html\">Jupyter\n",
       "  Widgets Documentation</a> for setup instructions.\n",
       "</p>\n",
       "<p>\n",
       "  If you're reading this message in another frontend (for example, a static\n",
       "  rendering on GitHub or <a href=\"https://nbviewer.jupyter.org/\">NBViewer</a>),\n",
       "  it may mean that your frontend doesn't currently support widgets.\n",
       "</p>\n"
      ],
      "text/plain": [
       "Label(value='Min lon: ')"
      ]
     },
     "metadata": {},
     "output_type": "display_data"
    },
    {
     "data": {
      "application/vnd.jupyter.widget-view+json": {
       "model_id": "82cb47ea4e65476389a66291812010dc",
       "version_major": 2,
       "version_minor": 0
      },
      "text/html": [
       "<p>Failed to display Jupyter Widget of type <code>BoundedFloatText</code>.</p>\n",
       "<p>\n",
       "  If you're reading this message in the Jupyter Notebook or JupyterLab Notebook, it may mean\n",
       "  that the widgets JavaScript is still loading. If this message persists, it\n",
       "  likely means that the widgets JavaScript library is either not installed or\n",
       "  not enabled. See the <a href=\"https://ipywidgets.readthedocs.io/en/stable/user_install.html\">Jupyter\n",
       "  Widgets Documentation</a> for setup instructions.\n",
       "</p>\n",
       "<p>\n",
       "  If you're reading this message in another frontend (for example, a static\n",
       "  rendering on GitHub or <a href=\"https://nbviewer.jupyter.org/\">NBViewer</a>),\n",
       "  it may mean that your frontend doesn't currently support widgets.\n",
       "</p>\n"
      ],
      "text/plain": [
       "BoundedFloatText(value=102.404, max=108.931, min=102.404)"
      ]
     },
     "metadata": {},
     "output_type": "display_data"
    },
    {
     "data": {
      "application/vnd.jupyter.widget-view+json": {
       "model_id": "34a58271bb1c447a889d93e262794bff",
       "version_major": 2,
       "version_minor": 0
      },
      "text/html": [
       "<p>Failed to display Jupyter Widget of type <code>Label</code>.</p>\n",
       "<p>\n",
       "  If you're reading this message in the Jupyter Notebook or JupyterLab Notebook, it may mean\n",
       "  that the widgets JavaScript is still loading. If this message persists, it\n",
       "  likely means that the widgets JavaScript library is either not installed or\n",
       "  not enabled. See the <a href=\"https://ipywidgets.readthedocs.io/en/stable/user_install.html\">Jupyter\n",
       "  Widgets Documentation</a> for setup instructions.\n",
       "</p>\n",
       "<p>\n",
       "  If you're reading this message in another frontend (for example, a static\n",
       "  rendering on GitHub or <a href=\"https://nbviewer.jupyter.org/\">NBViewer</a>),\n",
       "  it may mean that your frontend doesn't currently support widgets.\n",
       "</p>\n"
      ],
      "text/plain": [
       "Label(value='Max lon: ')"
      ]
     },
     "metadata": {},
     "output_type": "display_data"
    },
    {
     "data": {
      "application/vnd.jupyter.widget-view+json": {
       "model_id": "4089ca8acbc04b8b88dce530a3262545",
       "version_major": 2,
       "version_minor": 0
      },
      "text/html": [
       "<p>Failed to display Jupyter Widget of type <code>BoundedFloatText</code>.</p>\n",
       "<p>\n",
       "  If you're reading this message in the Jupyter Notebook or JupyterLab Notebook, it may mean\n",
       "  that the widgets JavaScript is still loading. If this message persists, it\n",
       "  likely means that the widgets JavaScript library is either not installed or\n",
       "  not enabled. See the <a href=\"https://ipywidgets.readthedocs.io/en/stable/user_install.html\">Jupyter\n",
       "  Widgets Documentation</a> for setup instructions.\n",
       "</p>\n",
       "<p>\n",
       "  If you're reading this message in another frontend (for example, a static\n",
       "  rendering on GitHub or <a href=\"https://nbviewer.jupyter.org/\">NBViewer</a>),\n",
       "  it may mean that your frontend doesn't currently support widgets.\n",
       "</p>\n"
      ],
      "text/plain": [
       "BoundedFloatText(value=108.931, max=108.931, min=102.404)"
      ]
     },
     "metadata": {},
     "output_type": "display_data"
    },
    {
     "data": {
      "application/vnd.jupyter.widget-view+json": {
       "model_id": "cd558be94c2b47f1868fb49dafa13e02",
       "version_major": 2,
       "version_minor": 0
      },
      "text/html": [
       "<p>Failed to display Jupyter Widget of type <code>Label</code>.</p>\n",
       "<p>\n",
       "  If you're reading this message in the Jupyter Notebook or JupyterLab Notebook, it may mean\n",
       "  that the widgets JavaScript is still loading. If this message persists, it\n",
       "  likely means that the widgets JavaScript library is either not installed or\n",
       "  not enabled. See the <a href=\"https://ipywidgets.readthedocs.io/en/stable/user_install.html\">Jupyter\n",
       "  Widgets Documentation</a> for setup instructions.\n",
       "</p>\n",
       "<p>\n",
       "  If you're reading this message in another frontend (for example, a static\n",
       "  rendering on GitHub or <a href=\"https://nbviewer.jupyter.org/\">NBViewer</a>),\n",
       "  it may mean that your frontend doesn't currently support widgets.\n",
       "</p>\n"
      ],
      "text/plain": [
       "Label(value='Min lat: ')"
      ]
     },
     "metadata": {},
     "output_type": "display_data"
    },
    {
     "data": {
      "application/vnd.jupyter.widget-view+json": {
       "model_id": "4af33090195d4e66bfd0860a30392871",
       "version_major": 2,
       "version_minor": 0
      },
      "text/html": [
       "<p>Failed to display Jupyter Widget of type <code>BoundedFloatText</code>.</p>\n",
       "<p>\n",
       "  If you're reading this message in the Jupyter Notebook or JupyterLab Notebook, it may mean\n",
       "  that the widgets JavaScript is still loading. If this message persists, it\n",
       "  likely means that the widgets JavaScript library is either not installed or\n",
       "  not enabled. See the <a href=\"https://ipywidgets.readthedocs.io/en/stable/user_install.html\">Jupyter\n",
       "  Widgets Documentation</a> for setup instructions.\n",
       "</p>\n",
       "<p>\n",
       "  If you're reading this message in another frontend (for example, a static\n",
       "  rendering on GitHub or <a href=\"https://nbviewer.jupyter.org/\">NBViewer</a>),\n",
       "  it may mean that your frontend doesn't currently support widgets.\n",
       "</p>\n"
      ],
      "text/plain": [
       "BoundedFloatText(value=9.176, max=13.965, min=9.176)"
      ]
     },
     "metadata": {},
     "output_type": "display_data"
    },
    {
     "data": {
      "application/vnd.jupyter.widget-view+json": {
       "model_id": "6aa9af740d294b07ba01d6fd9fc1184c",
       "version_major": 2,
       "version_minor": 0
      },
      "text/html": [
       "<p>Failed to display Jupyter Widget of type <code>Label</code>.</p>\n",
       "<p>\n",
       "  If you're reading this message in the Jupyter Notebook or JupyterLab Notebook, it may mean\n",
       "  that the widgets JavaScript is still loading. If this message persists, it\n",
       "  likely means that the widgets JavaScript library is either not installed or\n",
       "  not enabled. See the <a href=\"https://ipywidgets.readthedocs.io/en/stable/user_install.html\">Jupyter\n",
       "  Widgets Documentation</a> for setup instructions.\n",
       "</p>\n",
       "<p>\n",
       "  If you're reading this message in another frontend (for example, a static\n",
       "  rendering on GitHub or <a href=\"https://nbviewer.jupyter.org/\">NBViewer</a>),\n",
       "  it may mean that your frontend doesn't currently support widgets.\n",
       "</p>\n"
      ],
      "text/plain": [
       "Label(value='Max lat: ')"
      ]
     },
     "metadata": {},
     "output_type": "display_data"
    },
    {
     "data": {
      "application/vnd.jupyter.widget-view+json": {
       "model_id": "231f4e514995466895f2f7d43e0350a9",
       "version_major": 2,
       "version_minor": 0
      },
      "text/html": [
       "<p>Failed to display Jupyter Widget of type <code>BoundedFloatText</code>.</p>\n",
       "<p>\n",
       "  If you're reading this message in the Jupyter Notebook or JupyterLab Notebook, it may mean\n",
       "  that the widgets JavaScript is still loading. If this message persists, it\n",
       "  likely means that the widgets JavaScript library is either not installed or\n",
       "  not enabled. See the <a href=\"https://ipywidgets.readthedocs.io/en/stable/user_install.html\">Jupyter\n",
       "  Widgets Documentation</a> for setup instructions.\n",
       "</p>\n",
       "<p>\n",
       "  If you're reading this message in another frontend (for example, a static\n",
       "  rendering on GitHub or <a href=\"https://nbviewer.jupyter.org/\">NBViewer</a>),\n",
       "  it may mean that your frontend doesn't currently support widgets.\n",
       "</p>\n"
      ],
      "text/plain": [
       "BoundedFloatText(value=13.965, max=13.965, min=9.176)"
      ]
     },
     "metadata": {},
     "output_type": "display_data"
    }
   ],
   "source": [
    "extent_values = create_extents_gui(min_date_str, max_date_str,\n",
    "                                   min_lon_rounded, max_lon_rounded,\n",
    "                                   min_lat_rounded, max_lat_rounded)\n",
    "\n",
    "##lat = (4.25, 4.75)\n",
    "##lon = (-71.75, -71.25)"
   ]
  },
  {
   "cell_type": "markdown",
   "metadata": {},
   "source": [
    "**Now that the area of interest and parameters have been decided, the list of valid acquisitions will be generated**"
   ]
  },
  {
   "cell_type": "code",
   "execution_count": 10,
   "metadata": {},
   "outputs": [
    {
     "data": {
      "text/plain": [
       "336"
      ]
     },
     "execution_count": 10,
     "metadata": {},
     "output_type": "execute_result"
    }
   ],
   "source": [
    "# Save form values\n",
    "start_date = datetime.datetime.strptime(extent_values[0].value, '%Y-%m-%d')\n",
    "end_date = datetime.datetime.strptime(extent_values[1].value, '%Y-%m-%d')\n",
    "min_lon = extent_values[2].value\n",
    "max_lon = extent_values[3].value\n",
    "min_lat = extent_values[4].value\n",
    "max_lat = extent_values[5].value\n",
    "\n",
    "acquisitions_list = api.list_acquisition_dates(product, longitude=(min_lon, max_lon), latitude=(min_lat, max_lat))\n",
    "len(acquisitions_list)"
   ]
  },
  {
   "cell_type": "markdown",
   "metadata": {},
   "source": [
    "**Using the acquisitions list, three drop down menus will be displayed for input.**\n",
    "\n",
    "The NDVI anomaly function takes three parameters: A single scene to check for anomalies, a list of scenes used to form the baseline, and a percentage threshold. The percentage threshold defines what percentage change between the comparisons constitutes an anomaly. \n"
   ]
  },
  {
   "cell_type": "code",
   "execution_count": 11,
   "metadata": {},
   "outputs": [
    {
     "data": {
      "application/vnd.jupyter.widget-view+json": {
       "model_id": "eb164fddb8c5482886968989aa913eb4",
       "version_major": 2,
       "version_minor": 0
      },
      "text/html": [
       "<p>Failed to display Jupyter Widget of type <code>Label</code>.</p>\n",
       "<p>\n",
       "  If you're reading this message in the Jupyter Notebook or JupyterLab Notebook, it may mean\n",
       "  that the widgets JavaScript is still loading. If this message persists, it\n",
       "  likely means that the widgets JavaScript library is either not installed or\n",
       "  not enabled. See the <a href=\"https://ipywidgets.readthedocs.io/en/stable/user_install.html\">Jupyter\n",
       "  Widgets Documentation</a> for setup instructions.\n",
       "</p>\n",
       "<p>\n",
       "  If you're reading this message in another frontend (for example, a static\n",
       "  rendering on GitHub or <a href=\"https://nbviewer.jupyter.org/\">NBViewer</a>),\n",
       "  it may mean that your frontend doesn't currently support widgets.\n",
       "</p>\n"
      ],
      "text/plain": [
       "Label(value='Select a scene to check for anomalies: ')"
      ]
     },
     "metadata": {},
     "output_type": "display_data"
    },
    {
     "data": {
      "application/vnd.jupyter.widget-view+json": {
       "model_id": "cc3a175954034b55be31bd0e0588f0a0",
       "version_major": 2,
       "version_minor": 0
      },
      "text/html": [
       "<p>Failed to display Jupyter Widget of type <code>Dropdown</code>.</p>\n",
       "<p>\n",
       "  If you're reading this message in the Jupyter Notebook or JupyterLab Notebook, it may mean\n",
       "  that the widgets JavaScript is still loading. If this message persists, it\n",
       "  likely means that the widgets JavaScript library is either not installed or\n",
       "  not enabled. See the <a href=\"https://ipywidgets.readthedocs.io/en/stable/user_install.html\">Jupyter\n",
       "  Widgets Documentation</a> for setup instructions.\n",
       "</p>\n",
       "<p>\n",
       "  If you're reading this message in another frontend (for example, a static\n",
       "  rendering on GitHub or <a href=\"https://nbviewer.jupyter.org/\">NBViewer</a>),\n",
       "  it may mean that your frontend doesn't currently support widgets.\n",
       "</p>\n"
      ],
      "text/plain": [
       "Dropdown(options=(datetime.datetime(1999, 9, 8, 3, 13, 19), datetime.datetime(1999, 9, 24, 3, 12, 59), datetime.datetime(1999, 9, 24, 3, 13, 22), datetime.datetime(1999, 10, 10, 3, 13, 3), datetime.datetime(1999, 10, 10, 3, 13, 27), datetime.datetime(1999, 10, 26, 3, 12, 53), datetime.datetime(2000, 3, 18, 3, 12, 36), datetime.datetime(2000, 3, 18, 3, 13), datetime.datetime(2000, 5, 5, 3, 12, 14), datetime.datetime(2000, 5, 5, 3, 12, 38), datetime.datetime(2000, 6, 6, 3, 11, 52), datetime.datetime(2000, 9, 26, 3, 10, 27), datetime.datetime(2000, 9, 26, 3, 10, 51), datetime.datetime(2000, 12, 15, 3, 10, 25), datetime.datetime(2000, 12, 31, 3, 10, 26), datetime.datetime(2000, 12, 31, 3, 10, 50), datetime.datetime(2001, 1, 16, 3, 10, 54), datetime.datetime(2001, 4, 6, 3, 10, 3), datetime.datetime(2001, 4, 22, 3, 10, 31), datetime.datetime(2001, 5, 8, 3, 10, 2), datetime.datetime(2001, 5, 8, 3, 10, 26), datetime.datetime(2001, 6, 9, 3, 9, 39), datetime.datetime(2001, 7, 11, 3, 9, 23), datetime.datetime(2001, 7, 11, 3, 9, 47), datetime.datetime(2001, 9, 29, 3, 8, 24), datetime.datetime(2001, 9, 29, 3, 8, 48), datetime.datetime(2001, 10, 15, 3, 8, 14), datetime.datetime(2001, 10, 15, 3, 8, 38), datetime.datetime(2001, 10, 31, 3, 8, 17), datetime.datetime(2001, 10, 31, 3, 8, 41), datetime.datetime(2001, 12, 18, 3, 8, 40), datetime.datetime(2001, 12, 18, 3, 9, 4), datetime.datetime(2002, 1, 3, 3, 8, 39), datetime.datetime(2002, 1, 3, 3, 9, 3), datetime.datetime(2002, 1, 19, 3, 9, 15), datetime.datetime(2002, 2, 4, 3, 8, 52), datetime.datetime(2002, 2, 4, 3, 9, 16), datetime.datetime(2002, 2, 20, 3, 8, 50), datetime.datetime(2002, 2, 20, 3, 9, 14), datetime.datetime(2002, 3, 8, 3, 8, 57), datetime.datetime(2002, 3, 8, 3, 9, 21), datetime.datetime(2002, 3, 24, 3, 8, 50), datetime.datetime(2002, 4, 9, 3, 8, 50), datetime.datetime(2002, 4, 9, 3, 9, 14), datetime.datetime(2002, 4, 25, 3, 8, 48), datetime.datetime(2002, 4, 25, 3, 9, 12), datetime.datetime(2002, 5, 27, 3, 9, 3), datetime.datetime(2002, 6, 12, 3, 8, 33), datetime.datetime(2002, 6, 12, 3, 8, 57), datetime.datetime(2002, 6, 28, 3, 8, 27), datetime.datetime(2002, 6, 28, 3, 8, 51), datetime.datetime(2002, 7, 14, 3, 8, 23), datetime.datetime(2002, 7, 14, 3, 8, 47), datetime.datetime(2002, 7, 30, 3, 8, 39), datetime.datetime(2002, 9, 16, 3, 7, 50), datetime.datetime(2002, 9, 16, 3, 8, 14), datetime.datetime(2002, 10, 2, 3, 7, 44), datetime.datetime(2002, 10, 2, 3, 8, 8), datetime.datetime(2002, 10, 18, 3, 7, 46), datetime.datetime(2002, 10, 18, 3, 8, 10), datetime.datetime(2002, 11, 3, 3, 7, 52), datetime.datetime(2002, 11, 3, 3, 8, 16), datetime.datetime(2002, 12, 5, 3, 8, 16), datetime.datetime(2002, 12, 5, 3, 8, 40), datetime.datetime(2002, 12, 21, 3, 8, 19), datetime.datetime(2002, 12, 21, 3, 8, 43), datetime.datetime(2003, 1, 6, 3, 8, 20), datetime.datetime(2003, 1, 6, 3, 8, 44), datetime.datetime(2003, 1, 22, 3, 8, 30), datetime.datetime(2003, 1, 22, 3, 8, 54), datetime.datetime(2003, 2, 7, 3, 8, 39), datetime.datetime(2003, 2, 7, 3, 9, 3), datetime.datetime(2003, 2, 23, 3, 8, 41), datetime.datetime(2003, 2, 23, 3, 9, 5), datetime.datetime(2003, 3, 11, 3, 8, 46), datetime.datetime(2003, 3, 11, 3, 9, 10), datetime.datetime(2003, 3, 27, 3, 8, 40), datetime.datetime(2003, 3, 27, 3, 9, 4), datetime.datetime(2003, 4, 12, 3, 8, 47), datetime.datetime(2003, 4, 12, 3, 9, 11), datetime.datetime(2003, 4, 28, 3, 9, 10), datetime.datetime(2003, 5, 14, 3, 8, 44), datetime.datetime(2003, 5, 30, 3, 8, 43), datetime.datetime(2003, 5, 30, 3, 9, 7), datetime.datetime(2003, 7, 17, 3, 8, 35), datetime.datetime(2003, 10, 5, 3, 8, 10), datetime.datetime(2003, 10, 5, 3, 8, 34), datetime.datetime(2003, 10, 21, 3, 8, 19), datetime.datetime(2003, 11, 6, 3, 8, 26), datetime.datetime(2003, 11, 6, 3, 8, 50), datetime.datetime(2003, 12, 24, 3, 8, 53), datetime.datetime(2003, 12, 24, 3, 9, 17), datetime.datetime(2004, 1, 9, 3, 8, 56), datetime.datetime(2004, 1, 9, 3, 9, 20), datetime.datetime(2004, 1, 25, 3, 9, 4), datetime.datetime(2004, 2, 10, 3, 9, 8), datetime.datetime(2004, 2, 10, 3, 9, 32), datetime.datetime(2004, 2, 26, 3, 9, 7), datetime.datetime(2004, 2, 26, 3, 9, 31), datetime.datetime(2004, 3, 29, 3, 9, 18), datetime.datetime(2004, 3, 29, 3, 9, 42), datetime.datetime(2004, 4, 14, 3, 9, 12), datetime.datetime(2004, 4, 14, 3, 9, 36), datetime.datetime(2004, 6, 1, 3, 9, 33), datetime.datetime(2004, 6, 17, 3, 9, 2), datetime.datetime(2004, 9, 5, 3, 8, 44), datetime.datetime(2004, 9, 5, 3, 9, 8), datetime.datetime(2004, 10, 7, 3, 8, 30), datetime.datetime(2004, 10, 7, 3, 8, 54), datetime.datetime(2004, 10, 23, 3, 8, 45), datetime.datetime(2004, 10, 23, 3, 9, 9), datetime.datetime(2004, 11, 8, 3, 8, 56), datetime.datetime(2004, 11, 8, 3, 9, 20), datetime.datetime(2004, 11, 24, 3, 9, 4), datetime.datetime(2004, 11, 24, 3, 9, 27), datetime.datetime(2004, 12, 10, 3, 9, 35), datetime.datetime(2004, 12, 26, 3, 9, 19), datetime.datetime(2004, 12, 26, 3, 9, 43), datetime.datetime(2005, 1, 11, 3, 9, 25), datetime.datetime(2005, 1, 11, 3, 9, 49), datetime.datetime(2005, 1, 27, 3, 9, 25), datetime.datetime(2005, 1, 27, 3, 9, 49), datetime.datetime(2005, 2, 12, 3, 10), datetime.datetime(2005, 2, 28, 3, 9, 41), datetime.datetime(2005, 2, 28, 3, 10, 5), datetime.datetime(2005, 3, 16, 3, 9, 43), datetime.datetime(2005, 3, 16, 3, 10, 7), datetime.datetime(2005, 4, 17, 3, 9, 34), datetime.datetime(2005, 5, 3, 3, 10, 1), datetime.datetime(2005, 5, 19, 3, 9, 38), datetime.datetime(2005, 5, 19, 3, 10, 1), datetime.datetime(2005, 8, 23, 3, 9, 18), datetime.datetime(2005, 8, 23, 3, 9, 42), datetime.datetime(2005, 10, 10, 3, 9, 3), datetime.datetime(2005, 10, 10, 3, 9, 27), datetime.datetime(2005, 10, 26, 3, 9, 17), datetime.datetime(2005, 10, 26, 3, 9, 41), datetime.datetime(2005, 11, 11, 3, 9, 28), datetime.datetime(2005, 11, 11, 3, 9, 52), datetime.datetime(2005, 11, 27, 3, 9, 59), datetime.datetime(2006, 1, 14, 3, 10, 17), datetime.datetime(2006, 2, 15, 3, 10, 5), datetime.datetime(2006, 2, 15, 3, 10, 29), datetime.datetime(2006, 3, 3, 3, 10, 7), datetime.datetime(2006, 3, 3, 3, 10, 31), datetime.datetime(2006, 4, 20, 3, 10, 1), datetime.datetime(2006, 4, 20, 3, 10, 25), datetime.datetime(2006, 5, 6, 3, 10, 5), datetime.datetime(2006, 5, 6, 3, 10, 28), datetime.datetime(2006, 7, 9, 3, 9, 52), datetime.datetime(2006, 9, 11, 3, 9, 59), datetime.datetime(2006, 10, 13, 3, 9, 27), datetime.datetime(2006, 10, 13, 3, 9, 51), datetime.datetime(2006, 10, 29, 3, 9, 43), datetime.datetime(2006, 10, 29, 3, 10, 7), datetime.datetime(2006, 11, 14, 3, 9, 56), datetime.datetime(2006, 11, 14, 3, 10, 20), datetime.datetime(2006, 11, 30, 3, 10, 6), datetime.datetime(2006, 11, 30, 3, 10, 30), datetime.datetime(2007, 2, 2, 3, 10, 22), datetime.datetime(2007, 2, 2, 3, 10, 46), datetime.datetime(2007, 2, 18, 3, 10, 28), datetime.datetime(2007, 2, 18, 3, 10, 52), datetime.datetime(2007, 3, 6, 3, 10, 31), datetime.datetime(2007, 3, 6, 3, 10, 55), datetime.datetime(2007, 4, 7, 3, 10, 57), datetime.datetime(2007, 5, 25, 3, 10, 19), datetime.datetime(2007, 5, 25, 3, 10, 42), datetime.datetime(2007, 6, 10, 3, 10, 17), datetime.datetime(2007, 6, 10, 3, 10, 41), datetime.datetime(2007, 7, 12, 3, 10, 14), datetime.datetime(2007, 7, 12, 3, 10, 38), datetime.datetime(2007, 7, 28, 3, 10, 10), datetime.datetime(2007, 11, 1, 3, 10), datetime.datetime(2007, 11, 1, 3, 10, 24), datetime.datetime(2007, 12, 3, 3, 10, 16), datetime.datetime(2007, 12, 3, 3, 10, 40), datetime.datetime(2008, 1, 20, 3, 10, 22), datetime.datetime(2008, 1, 20, 3, 10, 46), datetime.datetime(2008, 2, 5, 3, 10, 20), datetime.datetime(2008, 2, 5, 3, 10, 44), datetime.datetime(2008, 4, 9, 3, 10, 9), datetime.datetime(2008, 4, 9, 3, 10, 33), datetime.datetime(2008, 5, 27, 3, 9, 56), datetime.datetime(2008, 5, 27, 3, 10, 19), datetime.datetime(2008, 6, 28, 3, 9, 37), datetime.datetime(2008, 7, 14, 3, 9, 26), datetime.datetime(2008, 7, 14, 3, 9, 50), datetime.datetime(2008, 10, 2, 3, 8, 45), datetime.datetime(2008, 10, 2, 3, 9, 9), datetime.datetime(2008, 12, 21, 3, 9, 34), datetime.datetime(2008, 12, 21, 3, 9, 58), datetime.datetime(2009, 1, 6, 3, 9, 40), datetime.datetime(2009, 1, 6, 3, 10, 4), datetime.datetime(2009, 1, 22, 3, 9, 45), datetime.datetime(2009, 1, 22, 3, 10, 9), datetime.datetime(2009, 2, 7, 3, 9, 50), datetime.datetime(2009, 2, 7, 3, 10, 14), datetime.datetime(2009, 4, 12, 3, 10, 21), datetime.datetime(2009, 8, 18, 3, 10, 11), datetime.datetime(2009, 8, 18, 3, 10, 35), datetime.datetime(2009, 9, 19, 3, 10, 10), datetime.datetime(2009, 9, 19, 3, 10, 34), datetime.datetime(2009, 10, 5, 3, 10, 7), datetime.datetime(2009, 10, 5, 3, 10, 31), datetime.datetime(2009, 10, 21, 3, 10, 15), datetime.datetime(2009, 10, 21, 3, 10, 39), datetime.datetime(2009, 11, 6, 3, 10, 54), datetime.datetime(2009, 12, 8, 3, 10, 53), datetime.datetime(2009, 12, 8, 3, 11, 17), datetime.datetime(2009, 12, 24, 3, 11, 34), datetime.datetime(2010, 1, 9, 3, 11, 26), datetime.datetime(2010, 1, 9, 3, 11, 50), datetime.datetime(2010, 1, 25, 3, 12, 4), datetime.datetime(2010, 2, 26, 3, 12, 2), datetime.datetime(2010, 2, 26, 3, 12, 26), datetime.datetime(2010, 3, 14, 3, 12, 9), datetime.datetime(2010, 3, 14, 3, 12, 33), datetime.datetime(2010, 4, 15, 3, 12, 14), datetime.datetime(2010, 5, 17, 3, 12, 7), datetime.datetime(2010, 5, 17, 3, 12, 31), datetime.datetime(2010, 9, 6, 3, 12, 18), datetime.datetime(2010, 10, 8, 3, 12, 19), datetime.datetime(2010, 10, 8, 3, 12, 43), datetime.datetime(2010, 10, 24, 3, 12, 29), datetime.datetime(2010, 10, 24, 3, 12, 53), datetime.datetime(2010, 11, 9, 3, 12, 39), datetime.datetime(2010, 11, 9, 3, 13, 3), datetime.datetime(2010, 11, 25, 3, 13, 16), datetime.datetime(2010, 12, 27, 3, 13, 8), datetime.datetime(2010, 12, 27, 3, 13, 32), datetime.datetime(2011, 1, 28, 3, 13, 23), datetime.datetime(2011, 1, 28, 3, 13, 47), datetime.datetime(2011, 2, 13, 3, 13, 27), datetime.datetime(2011, 2, 13, 3, 13, 51), datetime.datetime(2011, 3, 1, 3, 13, 56), datetime.datetime(2011, 7, 7, 3, 13, 32), datetime.datetime(2011, 7, 23, 3, 13, 31), datetime.datetime(2011, 8, 8, 3, 13, 26), datetime.datetime(2011, 8, 24, 3, 13, 24), datetime.datetime(2011, 8, 24, 3, 13, 48), datetime.datetime(2011, 10, 11, 3, 13, 14), datetime.datetime(2011, 10, 11, 3, 13, 38), datetime.datetime(2011, 10, 27, 3, 13, 23), datetime.datetime(2011, 10, 27, 3, 13, 47), datetime.datetime(2011, 11, 12, 3, 13, 57), datetime.datetime(2011, 11, 28, 3, 13, 43), datetime.datetime(2011, 11, 28, 3, 14, 7), datetime.datetime(2011, 12, 14, 3, 13, 48), datetime.datetime(2011, 12, 14, 3, 14, 11), datetime.datetime(2011, 12, 30, 3, 14), datetime.datetime(2011, 12, 30, 3, 14, 24), datetime.datetime(2012, 1, 15, 3, 14, 26), datetime.datetime(2012, 1, 31, 3, 14, 4), datetime.datetime(2012, 1, 31, 3, 14, 28), datetime.datetime(2012, 4, 20, 3, 14, 33), datetime.datetime(2012, 5, 22, 3, 15, 4), datetime.datetime(2012, 7, 9, 3, 14, 43), datetime.datetime(2012, 7, 9, 3, 15, 7), datetime.datetime(2012, 9, 11, 3, 15, 49), datetime.datetime(2012, 10, 13, 3, 15, 43), datetime.datetime(2012, 10, 29, 3, 15, 51), datetime.datetime(2012, 10, 29, 3, 16, 15), datetime.datetime(2012, 11, 14, 3, 15, 57), datetime.datetime(2012, 11, 14, 3, 16, 21), datetime.datetime(2012, 11, 30, 3, 16, 24), datetime.datetime(2012, 12, 16, 3, 16, 7), datetime.datetime(2012, 12, 16, 3, 16, 31), datetime.datetime(2013, 1, 17, 3, 16, 10), datetime.datetime(2013, 1, 17, 3, 16, 34), datetime.datetime(2013, 2, 2, 3, 16, 14), datetime.datetime(2013, 2, 2, 3, 16, 38), datetime.datetime(2013, 3, 6, 3, 16, 10), datetime.datetime(2013, 3, 6, 3, 16, 34), datetime.datetime(2013, 5, 9, 3, 15, 53), datetime.datetime(2013, 6, 10, 3, 15, 42), datetime.datetime(2013, 6, 26, 3, 16), datetime.datetime(2013, 7, 12, 3, 15, 25), datetime.datetime(2013, 7, 12, 3, 15, 49), datetime.datetime(2013, 11, 1, 3, 16, 5), datetime.datetime(2013, 11, 1, 3, 16, 29), datetime.datetime(2013, 11, 17, 3, 16, 12), datetime.datetime(2013, 12, 3, 3, 16, 21), datetime.datetime(2013, 12, 19, 3, 16, 21), datetime.datetime(2013, 12, 19, 3, 16, 45), datetime.datetime(2014, 1, 4, 3, 16, 28), datetime.datetime(2014, 1, 4, 3, 16, 52), datetime.datetime(2014, 1, 20, 3, 16, 42), datetime.datetime(2014, 1, 20, 3, 17, 6), datetime.datetime(2014, 2, 21, 3, 16, 43), datetime.datetime(2014, 2, 21, 3, 17, 7), datetime.datetime(2014, 3, 9, 3, 16, 50), datetime.datetime(2014, 7, 15, 3, 17, 32), datetime.datetime(2014, 9, 1, 3, 17, 39), datetime.datetime(2014, 10, 3, 3, 17, 54), datetime.datetime(2014, 10, 3, 3, 18, 18), datetime.datetime(2014, 10, 19, 3, 18, 27), datetime.datetime(2014, 11, 4, 3, 18, 13), datetime.datetime(2014, 11, 20, 3, 18, 16), datetime.datetime(2014, 11, 20, 3, 18, 40), datetime.datetime(2014, 12, 6, 3, 18, 48), datetime.datetime(2014, 12, 22, 3, 18, 33), datetime.datetime(2014, 12, 22, 3, 18, 57), datetime.datetime(2015, 1, 7, 3, 18, 35), datetime.datetime(2015, 1, 23, 3, 18, 36), datetime.datetime(2015, 1, 23, 3, 19), datetime.datetime(2015, 2, 8, 3, 18, 43), datetime.datetime(2015, 2, 8, 3, 19, 7), datetime.datetime(2015, 2, 24, 3, 18, 50), datetime.datetime(2015, 2, 24, 3, 19, 14), datetime.datetime(2015, 3, 12, 3, 18, 55), datetime.datetime(2015, 3, 12, 3, 19, 19), datetime.datetime(2015, 3, 28, 3, 19, 4), datetime.datetime(2015, 3, 28, 3, 19, 28), datetime.datetime(2015, 4, 29, 3, 19, 43), datetime.datetime(2015, 5, 15, 3, 19, 27), datetime.datetime(2015, 5, 15, 3, 19, 51), datetime.datetime(2015, 5, 31, 3, 19, 31), datetime.datetime(2015, 5, 31, 3, 19, 55), datetime.datetime(2015, 7, 2, 3, 19, 40), datetime.datetime(2015, 8, 3, 3, 19, 49), datetime.datetime(2015, 8, 3, 3, 20, 12), datetime.datetime(2015, 8, 19, 3, 19, 52), datetime.datetime(2015, 8, 19, 3, 20, 16), datetime.datetime(2015, 9, 20, 3, 19, 58), datetime.datetime(2015, 9, 20, 3, 20, 22), datetime.datetime(2015, 10, 6, 3, 20, 2), datetime.datetime(2015, 10, 6, 3, 20, 26), datetime.datetime(2015, 10, 22, 3, 20, 20), datetime.datetime(2015, 10, 22, 3, 20, 44), datetime.datetime(2015, 11, 7, 3, 20, 58), datetime.datetime(2015, 11, 23, 3, 20, 51), datetime.datetime(2015, 11, 23, 3, 21, 15), datetime.datetime(2015, 12, 9, 3, 21, 29), datetime.datetime(2015, 12, 25, 3, 21, 19), datetime.datetime(2015, 12, 25, 3, 21, 43)), value=datetime.datetime(1999, 9, 8, 3, 13, 19))"
      ]
     },
     "metadata": {},
     "output_type": "display_data"
    },
    {
     "data": {
      "application/vnd.jupyter.widget-view+json": {
       "model_id": "d41afad247ac4ec09b1a33d55e093ce8",
       "version_major": 2,
       "version_minor": 0
      },
      "text/html": [
       "<p>Failed to display Jupyter Widget of type <code>Label</code>.</p>\n",
       "<p>\n",
       "  If you're reading this message in the Jupyter Notebook or JupyterLab Notebook, it may mean\n",
       "  that the widgets JavaScript is still loading. If this message persists, it\n",
       "  likely means that the widgets JavaScript library is either not installed or\n",
       "  not enabled. See the <a href=\"https://ipywidgets.readthedocs.io/en/stable/user_install.html\">Jupyter\n",
       "  Widgets Documentation</a> for setup instructions.\n",
       "</p>\n",
       "<p>\n",
       "  If you're reading this message in another frontend (for example, a static\n",
       "  rendering on GitHub or <a href=\"https://nbviewer.jupyter.org/\">NBViewer</a>),\n",
       "  it may mean that your frontend doesn't currently support widgets.\n",
       "</p>\n"
      ],
      "text/plain": [
       "Label(value='Select scenes to form a baseline: ')"
      ]
     },
     "metadata": {},
     "output_type": "display_data"
    },
    {
     "data": {
      "application/vnd.jupyter.widget-view+json": {
       "model_id": "fc112ded84544ffa81e50c652e7b8e09",
       "version_major": 2,
       "version_minor": 0
      },
      "text/html": [
       "<p>Failed to display Jupyter Widget of type <code>SelectMultiple</code>.</p>\n",
       "<p>\n",
       "  If you're reading this message in the Jupyter Notebook or JupyterLab Notebook, it may mean\n",
       "  that the widgets JavaScript is still loading. If this message persists, it\n",
       "  likely means that the widgets JavaScript library is either not installed or\n",
       "  not enabled. See the <a href=\"https://ipywidgets.readthedocs.io/en/stable/user_install.html\">Jupyter\n",
       "  Widgets Documentation</a> for setup instructions.\n",
       "</p>\n",
       "<p>\n",
       "  If you're reading this message in another frontend (for example, a static\n",
       "  rendering on GitHub or <a href=\"https://nbviewer.jupyter.org/\">NBViewer</a>),\n",
       "  it may mean that your frontend doesn't currently support widgets.\n",
       "</p>\n"
      ],
      "text/plain": [
       "SelectMultiple(options=(datetime.datetime(1999, 9, 8, 3, 13, 19), datetime.datetime(1999, 9, 24, 3, 12, 59), datetime.datetime(1999, 9, 24, 3, 13, 22), datetime.datetime(1999, 10, 10, 3, 13, 3), datetime.datetime(1999, 10, 10, 3, 13, 27), datetime.datetime(1999, 10, 26, 3, 12, 53), datetime.datetime(2000, 3, 18, 3, 12, 36), datetime.datetime(2000, 3, 18, 3, 13), datetime.datetime(2000, 5, 5, 3, 12, 14), datetime.datetime(2000, 5, 5, 3, 12, 38), datetime.datetime(2000, 6, 6, 3, 11, 52), datetime.datetime(2000, 9, 26, 3, 10, 27), datetime.datetime(2000, 9, 26, 3, 10, 51), datetime.datetime(2000, 12, 15, 3, 10, 25), datetime.datetime(2000, 12, 31, 3, 10, 26), datetime.datetime(2000, 12, 31, 3, 10, 50), datetime.datetime(2001, 1, 16, 3, 10, 54), datetime.datetime(2001, 4, 6, 3, 10, 3), datetime.datetime(2001, 4, 22, 3, 10, 31), datetime.datetime(2001, 5, 8, 3, 10, 2), datetime.datetime(2001, 5, 8, 3, 10, 26), datetime.datetime(2001, 6, 9, 3, 9, 39), datetime.datetime(2001, 7, 11, 3, 9, 23), datetime.datetime(2001, 7, 11, 3, 9, 47), datetime.datetime(2001, 9, 29, 3, 8, 24), datetime.datetime(2001, 9, 29, 3, 8, 48), datetime.datetime(2001, 10, 15, 3, 8, 14), datetime.datetime(2001, 10, 15, 3, 8, 38), datetime.datetime(2001, 10, 31, 3, 8, 17), datetime.datetime(2001, 10, 31, 3, 8, 41), datetime.datetime(2001, 12, 18, 3, 8, 40), datetime.datetime(2001, 12, 18, 3, 9, 4), datetime.datetime(2002, 1, 3, 3, 8, 39), datetime.datetime(2002, 1, 3, 3, 9, 3), datetime.datetime(2002, 1, 19, 3, 9, 15), datetime.datetime(2002, 2, 4, 3, 8, 52), datetime.datetime(2002, 2, 4, 3, 9, 16), datetime.datetime(2002, 2, 20, 3, 8, 50), datetime.datetime(2002, 2, 20, 3, 9, 14), datetime.datetime(2002, 3, 8, 3, 8, 57), datetime.datetime(2002, 3, 8, 3, 9, 21), datetime.datetime(2002, 3, 24, 3, 8, 50), datetime.datetime(2002, 4, 9, 3, 8, 50), datetime.datetime(2002, 4, 9, 3, 9, 14), datetime.datetime(2002, 4, 25, 3, 8, 48), datetime.datetime(2002, 4, 25, 3, 9, 12), datetime.datetime(2002, 5, 27, 3, 9, 3), datetime.datetime(2002, 6, 12, 3, 8, 33), datetime.datetime(2002, 6, 12, 3, 8, 57), datetime.datetime(2002, 6, 28, 3, 8, 27), datetime.datetime(2002, 6, 28, 3, 8, 51), datetime.datetime(2002, 7, 14, 3, 8, 23), datetime.datetime(2002, 7, 14, 3, 8, 47), datetime.datetime(2002, 7, 30, 3, 8, 39), datetime.datetime(2002, 9, 16, 3, 7, 50), datetime.datetime(2002, 9, 16, 3, 8, 14), datetime.datetime(2002, 10, 2, 3, 7, 44), datetime.datetime(2002, 10, 2, 3, 8, 8), datetime.datetime(2002, 10, 18, 3, 7, 46), datetime.datetime(2002, 10, 18, 3, 8, 10), datetime.datetime(2002, 11, 3, 3, 7, 52), datetime.datetime(2002, 11, 3, 3, 8, 16), datetime.datetime(2002, 12, 5, 3, 8, 16), datetime.datetime(2002, 12, 5, 3, 8, 40), datetime.datetime(2002, 12, 21, 3, 8, 19), datetime.datetime(2002, 12, 21, 3, 8, 43), datetime.datetime(2003, 1, 6, 3, 8, 20), datetime.datetime(2003, 1, 6, 3, 8, 44), datetime.datetime(2003, 1, 22, 3, 8, 30), datetime.datetime(2003, 1, 22, 3, 8, 54), datetime.datetime(2003, 2, 7, 3, 8, 39), datetime.datetime(2003, 2, 7, 3, 9, 3), datetime.datetime(2003, 2, 23, 3, 8, 41), datetime.datetime(2003, 2, 23, 3, 9, 5), datetime.datetime(2003, 3, 11, 3, 8, 46), datetime.datetime(2003, 3, 11, 3, 9, 10), datetime.datetime(2003, 3, 27, 3, 8, 40), datetime.datetime(2003, 3, 27, 3, 9, 4), datetime.datetime(2003, 4, 12, 3, 8, 47), datetime.datetime(2003, 4, 12, 3, 9, 11), datetime.datetime(2003, 4, 28, 3, 9, 10), datetime.datetime(2003, 5, 14, 3, 8, 44), datetime.datetime(2003, 5, 30, 3, 8, 43), datetime.datetime(2003, 5, 30, 3, 9, 7), datetime.datetime(2003, 7, 17, 3, 8, 35), datetime.datetime(2003, 10, 5, 3, 8, 10), datetime.datetime(2003, 10, 5, 3, 8, 34), datetime.datetime(2003, 10, 21, 3, 8, 19), datetime.datetime(2003, 11, 6, 3, 8, 26), datetime.datetime(2003, 11, 6, 3, 8, 50), datetime.datetime(2003, 12, 24, 3, 8, 53), datetime.datetime(2003, 12, 24, 3, 9, 17), datetime.datetime(2004, 1, 9, 3, 8, 56), datetime.datetime(2004, 1, 9, 3, 9, 20), datetime.datetime(2004, 1, 25, 3, 9, 4), datetime.datetime(2004, 2, 10, 3, 9, 8), datetime.datetime(2004, 2, 10, 3, 9, 32), datetime.datetime(2004, 2, 26, 3, 9, 7), datetime.datetime(2004, 2, 26, 3, 9, 31), datetime.datetime(2004, 3, 29, 3, 9, 18), datetime.datetime(2004, 3, 29, 3, 9, 42), datetime.datetime(2004, 4, 14, 3, 9, 12), datetime.datetime(2004, 4, 14, 3, 9, 36), datetime.datetime(2004, 6, 1, 3, 9, 33), datetime.datetime(2004, 6, 17, 3, 9, 2), datetime.datetime(2004, 9, 5, 3, 8, 44), datetime.datetime(2004, 9, 5, 3, 9, 8), datetime.datetime(2004, 10, 7, 3, 8, 30), datetime.datetime(2004, 10, 7, 3, 8, 54), datetime.datetime(2004, 10, 23, 3, 8, 45), datetime.datetime(2004, 10, 23, 3, 9, 9), datetime.datetime(2004, 11, 8, 3, 8, 56), datetime.datetime(2004, 11, 8, 3, 9, 20), datetime.datetime(2004, 11, 24, 3, 9, 4), datetime.datetime(2004, 11, 24, 3, 9, 27), datetime.datetime(2004, 12, 10, 3, 9, 35), datetime.datetime(2004, 12, 26, 3, 9, 19), datetime.datetime(2004, 12, 26, 3, 9, 43), datetime.datetime(2005, 1, 11, 3, 9, 25), datetime.datetime(2005, 1, 11, 3, 9, 49), datetime.datetime(2005, 1, 27, 3, 9, 25), datetime.datetime(2005, 1, 27, 3, 9, 49), datetime.datetime(2005, 2, 12, 3, 10), datetime.datetime(2005, 2, 28, 3, 9, 41), datetime.datetime(2005, 2, 28, 3, 10, 5), datetime.datetime(2005, 3, 16, 3, 9, 43), datetime.datetime(2005, 3, 16, 3, 10, 7), datetime.datetime(2005, 4, 17, 3, 9, 34), datetime.datetime(2005, 5, 3, 3, 10, 1), datetime.datetime(2005, 5, 19, 3, 9, 38), datetime.datetime(2005, 5, 19, 3, 10, 1), datetime.datetime(2005, 8, 23, 3, 9, 18), datetime.datetime(2005, 8, 23, 3, 9, 42), datetime.datetime(2005, 10, 10, 3, 9, 3), datetime.datetime(2005, 10, 10, 3, 9, 27), datetime.datetime(2005, 10, 26, 3, 9, 17), datetime.datetime(2005, 10, 26, 3, 9, 41), datetime.datetime(2005, 11, 11, 3, 9, 28), datetime.datetime(2005, 11, 11, 3, 9, 52), datetime.datetime(2005, 11, 27, 3, 9, 59), datetime.datetime(2006, 1, 14, 3, 10, 17), datetime.datetime(2006, 2, 15, 3, 10, 5), datetime.datetime(2006, 2, 15, 3, 10, 29), datetime.datetime(2006, 3, 3, 3, 10, 7), datetime.datetime(2006, 3, 3, 3, 10, 31), datetime.datetime(2006, 4, 20, 3, 10, 1), datetime.datetime(2006, 4, 20, 3, 10, 25), datetime.datetime(2006, 5, 6, 3, 10, 5), datetime.datetime(2006, 5, 6, 3, 10, 28), datetime.datetime(2006, 7, 9, 3, 9, 52), datetime.datetime(2006, 9, 11, 3, 9, 59), datetime.datetime(2006, 10, 13, 3, 9, 27), datetime.datetime(2006, 10, 13, 3, 9, 51), datetime.datetime(2006, 10, 29, 3, 9, 43), datetime.datetime(2006, 10, 29, 3, 10, 7), datetime.datetime(2006, 11, 14, 3, 9, 56), datetime.datetime(2006, 11, 14, 3, 10, 20), datetime.datetime(2006, 11, 30, 3, 10, 6), datetime.datetime(2006, 11, 30, 3, 10, 30), datetime.datetime(2007, 2, 2, 3, 10, 22), datetime.datetime(2007, 2, 2, 3, 10, 46), datetime.datetime(2007, 2, 18, 3, 10, 28), datetime.datetime(2007, 2, 18, 3, 10, 52), datetime.datetime(2007, 3, 6, 3, 10, 31), datetime.datetime(2007, 3, 6, 3, 10, 55), datetime.datetime(2007, 4, 7, 3, 10, 57), datetime.datetime(2007, 5, 25, 3, 10, 19), datetime.datetime(2007, 5, 25, 3, 10, 42), datetime.datetime(2007, 6, 10, 3, 10, 17), datetime.datetime(2007, 6, 10, 3, 10, 41), datetime.datetime(2007, 7, 12, 3, 10, 14), datetime.datetime(2007, 7, 12, 3, 10, 38), datetime.datetime(2007, 7, 28, 3, 10, 10), datetime.datetime(2007, 11, 1, 3, 10), datetime.datetime(2007, 11, 1, 3, 10, 24), datetime.datetime(2007, 12, 3, 3, 10, 16), datetime.datetime(2007, 12, 3, 3, 10, 40), datetime.datetime(2008, 1, 20, 3, 10, 22), datetime.datetime(2008, 1, 20, 3, 10, 46), datetime.datetime(2008, 2, 5, 3, 10, 20), datetime.datetime(2008, 2, 5, 3, 10, 44), datetime.datetime(2008, 4, 9, 3, 10, 9), datetime.datetime(2008, 4, 9, 3, 10, 33), datetime.datetime(2008, 5, 27, 3, 9, 56), datetime.datetime(2008, 5, 27, 3, 10, 19), datetime.datetime(2008, 6, 28, 3, 9, 37), datetime.datetime(2008, 7, 14, 3, 9, 26), datetime.datetime(2008, 7, 14, 3, 9, 50), datetime.datetime(2008, 10, 2, 3, 8, 45), datetime.datetime(2008, 10, 2, 3, 9, 9), datetime.datetime(2008, 12, 21, 3, 9, 34), datetime.datetime(2008, 12, 21, 3, 9, 58), datetime.datetime(2009, 1, 6, 3, 9, 40), datetime.datetime(2009, 1, 6, 3, 10, 4), datetime.datetime(2009, 1, 22, 3, 9, 45), datetime.datetime(2009, 1, 22, 3, 10, 9), datetime.datetime(2009, 2, 7, 3, 9, 50), datetime.datetime(2009, 2, 7, 3, 10, 14), datetime.datetime(2009, 4, 12, 3, 10, 21), datetime.datetime(2009, 8, 18, 3, 10, 11), datetime.datetime(2009, 8, 18, 3, 10, 35), datetime.datetime(2009, 9, 19, 3, 10, 10), datetime.datetime(2009, 9, 19, 3, 10, 34), datetime.datetime(2009, 10, 5, 3, 10, 7), datetime.datetime(2009, 10, 5, 3, 10, 31), datetime.datetime(2009, 10, 21, 3, 10, 15), datetime.datetime(2009, 10, 21, 3, 10, 39), datetime.datetime(2009, 11, 6, 3, 10, 54), datetime.datetime(2009, 12, 8, 3, 10, 53), datetime.datetime(2009, 12, 8, 3, 11, 17), datetime.datetime(2009, 12, 24, 3, 11, 34), datetime.datetime(2010, 1, 9, 3, 11, 26), datetime.datetime(2010, 1, 9, 3, 11, 50), datetime.datetime(2010, 1, 25, 3, 12, 4), datetime.datetime(2010, 2, 26, 3, 12, 2), datetime.datetime(2010, 2, 26, 3, 12, 26), datetime.datetime(2010, 3, 14, 3, 12, 9), datetime.datetime(2010, 3, 14, 3, 12, 33), datetime.datetime(2010, 4, 15, 3, 12, 14), datetime.datetime(2010, 5, 17, 3, 12, 7), datetime.datetime(2010, 5, 17, 3, 12, 31), datetime.datetime(2010, 9, 6, 3, 12, 18), datetime.datetime(2010, 10, 8, 3, 12, 19), datetime.datetime(2010, 10, 8, 3, 12, 43), datetime.datetime(2010, 10, 24, 3, 12, 29), datetime.datetime(2010, 10, 24, 3, 12, 53), datetime.datetime(2010, 11, 9, 3, 12, 39), datetime.datetime(2010, 11, 9, 3, 13, 3), datetime.datetime(2010, 11, 25, 3, 13, 16), datetime.datetime(2010, 12, 27, 3, 13, 8), datetime.datetime(2010, 12, 27, 3, 13, 32), datetime.datetime(2011, 1, 28, 3, 13, 23), datetime.datetime(2011, 1, 28, 3, 13, 47), datetime.datetime(2011, 2, 13, 3, 13, 27), datetime.datetime(2011, 2, 13, 3, 13, 51), datetime.datetime(2011, 3, 1, 3, 13, 56), datetime.datetime(2011, 7, 7, 3, 13, 32), datetime.datetime(2011, 7, 23, 3, 13, 31), datetime.datetime(2011, 8, 8, 3, 13, 26), datetime.datetime(2011, 8, 24, 3, 13, 24), datetime.datetime(2011, 8, 24, 3, 13, 48), datetime.datetime(2011, 10, 11, 3, 13, 14), datetime.datetime(2011, 10, 11, 3, 13, 38), datetime.datetime(2011, 10, 27, 3, 13, 23), datetime.datetime(2011, 10, 27, 3, 13, 47), datetime.datetime(2011, 11, 12, 3, 13, 57), datetime.datetime(2011, 11, 28, 3, 13, 43), datetime.datetime(2011, 11, 28, 3, 14, 7), datetime.datetime(2011, 12, 14, 3, 13, 48), datetime.datetime(2011, 12, 14, 3, 14, 11), datetime.datetime(2011, 12, 30, 3, 14), datetime.datetime(2011, 12, 30, 3, 14, 24), datetime.datetime(2012, 1, 15, 3, 14, 26), datetime.datetime(2012, 1, 31, 3, 14, 4), datetime.datetime(2012, 1, 31, 3, 14, 28), datetime.datetime(2012, 4, 20, 3, 14, 33), datetime.datetime(2012, 5, 22, 3, 15, 4), datetime.datetime(2012, 7, 9, 3, 14, 43), datetime.datetime(2012, 7, 9, 3, 15, 7), datetime.datetime(2012, 9, 11, 3, 15, 49), datetime.datetime(2012, 10, 13, 3, 15, 43), datetime.datetime(2012, 10, 29, 3, 15, 51), datetime.datetime(2012, 10, 29, 3, 16, 15), datetime.datetime(2012, 11, 14, 3, 15, 57), datetime.datetime(2012, 11, 14, 3, 16, 21), datetime.datetime(2012, 11, 30, 3, 16, 24), datetime.datetime(2012, 12, 16, 3, 16, 7), datetime.datetime(2012, 12, 16, 3, 16, 31), datetime.datetime(2013, 1, 17, 3, 16, 10), datetime.datetime(2013, 1, 17, 3, 16, 34), datetime.datetime(2013, 2, 2, 3, 16, 14), datetime.datetime(2013, 2, 2, 3, 16, 38), datetime.datetime(2013, 3, 6, 3, 16, 10), datetime.datetime(2013, 3, 6, 3, 16, 34), datetime.datetime(2013, 5, 9, 3, 15, 53), datetime.datetime(2013, 6, 10, 3, 15, 42), datetime.datetime(2013, 6, 26, 3, 16), datetime.datetime(2013, 7, 12, 3, 15, 25), datetime.datetime(2013, 7, 12, 3, 15, 49), datetime.datetime(2013, 11, 1, 3, 16, 5), datetime.datetime(2013, 11, 1, 3, 16, 29), datetime.datetime(2013, 11, 17, 3, 16, 12), datetime.datetime(2013, 12, 3, 3, 16, 21), datetime.datetime(2013, 12, 19, 3, 16, 21), datetime.datetime(2013, 12, 19, 3, 16, 45), datetime.datetime(2014, 1, 4, 3, 16, 28), datetime.datetime(2014, 1, 4, 3, 16, 52), datetime.datetime(2014, 1, 20, 3, 16, 42), datetime.datetime(2014, 1, 20, 3, 17, 6), datetime.datetime(2014, 2, 21, 3, 16, 43), datetime.datetime(2014, 2, 21, 3, 17, 7), datetime.datetime(2014, 3, 9, 3, 16, 50), datetime.datetime(2014, 7, 15, 3, 17, 32), datetime.datetime(2014, 9, 1, 3, 17, 39), datetime.datetime(2014, 10, 3, 3, 17, 54), datetime.datetime(2014, 10, 3, 3, 18, 18), datetime.datetime(2014, 10, 19, 3, 18, 27), datetime.datetime(2014, 11, 4, 3, 18, 13), datetime.datetime(2014, 11, 20, 3, 18, 16), datetime.datetime(2014, 11, 20, 3, 18, 40), datetime.datetime(2014, 12, 6, 3, 18, 48), datetime.datetime(2014, 12, 22, 3, 18, 33), datetime.datetime(2014, 12, 22, 3, 18, 57), datetime.datetime(2015, 1, 7, 3, 18, 35), datetime.datetime(2015, 1, 23, 3, 18, 36), datetime.datetime(2015, 1, 23, 3, 19), datetime.datetime(2015, 2, 8, 3, 18, 43), datetime.datetime(2015, 2, 8, 3, 19, 7), datetime.datetime(2015, 2, 24, 3, 18, 50), datetime.datetime(2015, 2, 24, 3, 19, 14), datetime.datetime(2015, 3, 12, 3, 18, 55), datetime.datetime(2015, 3, 12, 3, 19, 19), datetime.datetime(2015, 3, 28, 3, 19, 4), datetime.datetime(2015, 3, 28, 3, 19, 28), datetime.datetime(2015, 4, 29, 3, 19, 43), datetime.datetime(2015, 5, 15, 3, 19, 27), datetime.datetime(2015, 5, 15, 3, 19, 51), datetime.datetime(2015, 5, 31, 3, 19, 31), datetime.datetime(2015, 5, 31, 3, 19, 55), datetime.datetime(2015, 7, 2, 3, 19, 40), datetime.datetime(2015, 8, 3, 3, 19, 49), datetime.datetime(2015, 8, 3, 3, 20, 12), datetime.datetime(2015, 8, 19, 3, 19, 52), datetime.datetime(2015, 8, 19, 3, 20, 16), datetime.datetime(2015, 9, 20, 3, 19, 58), datetime.datetime(2015, 9, 20, 3, 20, 22), datetime.datetime(2015, 10, 6, 3, 20, 2), datetime.datetime(2015, 10, 6, 3, 20, 26), datetime.datetime(2015, 10, 22, 3, 20, 20), datetime.datetime(2015, 10, 22, 3, 20, 44), datetime.datetime(2015, 11, 7, 3, 20, 58), datetime.datetime(2015, 11, 23, 3, 20, 51), datetime.datetime(2015, 11, 23, 3, 21, 15), datetime.datetime(2015, 12, 9, 3, 21, 29), datetime.datetime(2015, 12, 25, 3, 21, 19), datetime.datetime(2015, 12, 25, 3, 21, 43)), value=())"
      ]
     },
     "metadata": {},
     "output_type": "display_data"
    },
    {
     "data": {
      "application/vnd.jupyter.widget-view+json": {
       "model_id": "f8a48fa79aee4b37ae39372fd0d843f9",
       "version_major": 2,
       "version_minor": 0
      },
      "text/html": [
       "<p>Failed to display Jupyter Widget of type <code>Label</code>.</p>\n",
       "<p>\n",
       "  If you're reading this message in the Jupyter Notebook or JupyterLab Notebook, it may mean\n",
       "  that the widgets JavaScript is still loading. If this message persists, it\n",
       "  likely means that the widgets JavaScript library is either not installed or\n",
       "  not enabled. See the <a href=\"https://ipywidgets.readthedocs.io/en/stable/user_install.html\">Jupyter\n",
       "  Widgets Documentation</a> for setup instructions.\n",
       "</p>\n",
       "<p>\n",
       "  If you're reading this message in another frontend (for example, a static\n",
       "  rendering on GitHub or <a href=\"https://nbviewer.jupyter.org/\">NBViewer</a>),\n",
       "  it may mean that your frontend doesn't currently support widgets.\n",
       "</p>\n"
      ],
      "text/plain": [
       "Label(value='Select a mosaic method for the baseline:  ')"
      ]
     },
     "metadata": {},
     "output_type": "display_data"
    },
    {
     "data": {
      "application/vnd.jupyter.widget-view+json": {
       "model_id": "811edf0ca699493793009e9bea51c550",
       "version_major": 2,
       "version_minor": 0
      },
      "text/html": [
       "<p>Failed to display Jupyter Widget of type <code>Dropdown</code>.</p>\n",
       "<p>\n",
       "  If you're reading this message in the Jupyter Notebook or JupyterLab Notebook, it may mean\n",
       "  that the widgets JavaScript is still loading. If this message persists, it\n",
       "  likely means that the widgets JavaScript library is either not installed or\n",
       "  not enabled. See the <a href=\"https://ipywidgets.readthedocs.io/en/stable/user_install.html\">Jupyter\n",
       "  Widgets Documentation</a> for setup instructions.\n",
       "</p>\n",
       "<p>\n",
       "  If you're reading this message in another frontend (for example, a static\n",
       "  rendering on GitHub or <a href=\"https://nbviewer.jupyter.org/\">NBViewer</a>),\n",
       "  it may mean that your frontend doesn't currently support widgets.\n",
       "</p>\n"
      ],
      "text/plain": [
       "Dropdown(options=('Min NDVI', 'Most Recent', 'Max NDVI', 'Least Recent', 'Median'), value='Min NDVI')"
      ]
     },
     "metadata": {},
     "output_type": "display_data"
    },
    {
     "data": {
      "application/vnd.jupyter.widget-view+json": {
       "model_id": "05586557c852415aab423a26da0d96ba",
       "version_major": 2,
       "version_minor": 0
      },
      "text/html": [
       "<p>Failed to display Jupyter Widget of type <code>Label</code>.</p>\n",
       "<p>\n",
       "  If you're reading this message in the Jupyter Notebook or JupyterLab Notebook, it may mean\n",
       "  that the widgets JavaScript is still loading. If this message persists, it\n",
       "  likely means that the widgets JavaScript library is either not installed or\n",
       "  not enabled. See the <a href=\"https://ipywidgets.readthedocs.io/en/stable/user_install.html\">Jupyter\n",
       "  Widgets Documentation</a> for setup instructions.\n",
       "</p>\n",
       "<p>\n",
       "  If you're reading this message in another frontend (for example, a static\n",
       "  rendering on GitHub or <a href=\"https://nbviewer.jupyter.org/\">NBViewer</a>),\n",
       "  it may mean that your frontend doesn't currently support widgets.\n",
       "</p>\n"
      ],
      "text/plain": [
       "Label(value='Select a percentage threshold for anomalies: ')"
      ]
     },
     "metadata": {},
     "output_type": "display_data"
    },
    {
     "data": {
      "application/vnd.jupyter.widget-view+json": {
       "model_id": "e747ec5c6f1046c2956bb165474ee8ee",
       "version_major": 2,
       "version_minor": 0
      },
      "text/html": [
       "<p>Failed to display Jupyter Widget of type <code>Dropdown</code>.</p>\n",
       "<p>\n",
       "  If you're reading this message in the Jupyter Notebook or JupyterLab Notebook, it may mean\n",
       "  that the widgets JavaScript is still loading. If this message persists, it\n",
       "  likely means that the widgets JavaScript library is either not installed or\n",
       "  not enabled. See the <a href=\"https://ipywidgets.readthedocs.io/en/stable/user_install.html\">Jupyter\n",
       "  Widgets Documentation</a> for setup instructions.\n",
       "</p>\n",
       "<p>\n",
       "  If you're reading this message in another frontend (for example, a static\n",
       "  rendering on GitHub or <a href=\"https://nbviewer.jupyter.org/\">NBViewer</a>),\n",
       "  it may mean that your frontend doesn't currently support widgets.\n",
       "</p>\n"
      ],
      "text/plain": [
       "Dropdown(options=OrderedDict([('5%', 0.05), ('10%', 0.1), ('15%', 0.15), ('20%', 0.2), ('25%', 0.25), ('30%', 0.3), ('35%', 0.35), ('40%', 0.4), ('45%', 0.45), ('50%', 0.5), ('55%', 0.55), ('60%', 0.6), ('65%', 0.65), ('70%', 0.7), ('75%', 0.75), ('80%', 0.8), ('85%', 0.85), ('90%', 0.9), ('95%', 0.95), ('100%', 1.0)]), value=0.05)"
      ]
     },
     "metadata": {},
     "output_type": "display_data"
    }
   ],
   "source": [
    "from utils.data_cube_utilities.dc_mosaic import create_mosaic, create_median_mosaic, create_max_ndvi_mosaic,create_min_ndvi_mosaic\n",
    "scene_sel = widgets.Dropdown(options=acquisitions_list,\n",
    "                                    values=acquisitions_list)\n",
    "\n",
    "baseline_sel = widgets.SelectMultiple(options=acquisitions_list,\n",
    "                                    values=acquisitions_list)\n",
    "\n",
    "threshold_sel_options = {str(x)+'%': x/100 for x in range(5, 101, 5)}\n",
    "threshold_sel = widgets.Dropdown(options=collections.OrderedDict(sorted(threshold_sel_options.items(), key=operator.itemgetter(1))))\n",
    "\n",
    "mosaic_methods = {'Most Recent':create_mosaic, 'Least Recent':create_mosaic,\n",
    "                   'Median':create_median_mosaic, 'Max NDVI':create_max_ndvi_mosaic, \n",
    "                   'Min NDVI':create_min_ndvi_mosaic}\n",
    "\n",
    "mosaic_options_sel = widgets.Dropdown(options=list(mosaic_methods.keys()))\n",
    "    \n",
    "# Display form\n",
    "display(widgets.Label('Select a scene to check for anomalies: '), scene_sel)\n",
    "display(widgets.Label('Select scenes to form a baseline: '), baseline_sel)\n",
    "display(widgets.Label('Select a mosaic method for the baseline:  '), mosaic_options_sel)\n",
    "display(widgets.Label('Select a percentage threshold for anomalies: '), threshold_sel)\n"
   ]
  },
  {
   "cell_type": "code",
   "execution_count": 12,
   "metadata": {},
   "outputs": [],
   "source": [
    "scene = api.get_dataset_by_extent(product, latitude=(min_lat, max_lat), longitude=(min_lon, max_lon), \n",
    "                                    time=(scene_sel.value, scene_sel.value+datetime.timedelta(seconds=1)),\n",
    "                                    measurements=['red', 'nir', 'pixel_qa'])"
   ]
  },
  {
   "cell_type": "code",
   "execution_count": 13,
   "metadata": {},
   "outputs": [],
   "source": [
    "from utils.data_cube_utilities.dc_mosaic import ls8_unpack_qa, ls7_unpack_qa, ls5_unpack_qa\n",
    "\n",
    "def create_clean_mask(dataset):\n",
    "\n",
    "    if(platform == \"LANDSAT_7\"):\n",
    "        clear_xarray  = ls7_unpack_qa(dataset.pixel_qa, \"clear\")  \n",
    "        water_xarray  = ls7_unpack_qa(dataset.pixel_qa, \"water\")\n",
    "    elif(platform == \"LANDSAT_8\"):\n",
    "        clear_xarray  = ls8_unpack_qa(dataset.pixel_qa, \"clear\")  \n",
    "        water_xarray  = ls8_unpack_qa(dataset.pixel_qa, \"water\")\n",
    "    \n",
    "    return np.logical_or(clear_xarray.values.astype(bool), water_xarray.values.astype(bool))\n",
    "\n",
    "clean_mask = create_clean_mask(scene)"
   ]
  },
  {
   "cell_type": "code",
   "execution_count": 14,
   "metadata": {},
   "outputs": [],
   "source": [
    "\n",
    "scene_cleaned = create_mosaic(scene, reverse_time=False, clean_mask=clean_mask)\n",
    "\n",
    "baseline_mosaic = None\n",
    "reverse_time = True if mosaic_options_sel.value.title() == 'Most Recent' else False\n",
    "for index in range(len(baseline_sel.value)):\n",
    "    data = api.get_dataset_by_extent(product, latitude=(min_lat, max_lat), longitude=(min_lon, max_lon), \n",
    "                                    time=(baseline_sel.value[index],(baseline_sel.value[index+1] if index != len(baseline_sel.value)-1 else baseline_sel.value[index]+datetime.timedelta(seconds=1))),\n",
    "                                    measurements=['red', 'nir', 'pixel_qa'])\n",
    "    clean_mask = create_clean_mask(data)\n",
    "    baseline_mosaic = mosaic_methods[mosaic_options_sel.value](data, intermediate_product=baseline_mosaic, reverse_time=reverse_time, clean_mask=clean_mask)"
   ]
  },
  {
   "cell_type": "markdown",
   "metadata": {},
   "source": [
    "**Now that the scene and baseline have been loaded, compute the NDVI for both.**\n",
    "\n",
    "We will also filter out no data values from the NDVI data arrays."
   ]
  },
  {
   "cell_type": "code",
   "execution_count": 15,
   "metadata": {},
   "outputs": [],
   "source": [
    "ndvi_baseline = (baseline_mosaic.nir - baseline_mosaic.red) / (baseline_mosaic.nir + baseline_mosaic.red)\n",
    "ndvi_scene = (scene_cleaned.nir - scene_cleaned.red) / (scene_cleaned.nir + scene_cleaned.red)"
   ]
  },
  {
   "cell_type": "code",
   "execution_count": 16,
   "metadata": {},
   "outputs": [],
   "source": [
    "ndvi_baseline.values[scene_cleaned.red.values == -9999] = -9999\n",
    "ndvi_baseline.values[baseline_mosaic.red.values == -9999] = -9999\n",
    "ndvi_scene.values[scene_cleaned.red.values == -9999] = -9999\n",
    "ndvi_scene.values[baseline_mosaic.red.values == -9999] = -9999"
   ]
  },
  {
   "cell_type": "markdown",
   "metadata": {},
   "source": [
    "Percentage change is calculated as usual using standard python operators on the xarrays. A new xarray is computed where the percentage change exceeds the threshold."
   ]
  },
  {
   "cell_type": "code",
   "execution_count": 17,
   "metadata": {},
   "outputs": [],
   "source": [
    "percentage_change = abs((ndvi_baseline - ndvi_scene) / ndvi_baseline)"
   ]
  },
  {
   "cell_type": "code",
   "execution_count": 18,
   "metadata": {},
   "outputs": [
    {
     "data": {
      "text/plain": [
       "array([0.05460294, 0.05528789, 0.06181085, ...,        nan,        nan,\n",
       "              nan])"
      ]
     },
     "execution_count": 18,
     "metadata": {},
     "output_type": "execute_result"
    }
   ],
   "source": [
    "anomalies = percentage_change.where(percentage_change > threshold_sel.value)\n",
    "np.unique(anomalies)"
   ]
  },
  {
   "cell_type": "markdown",
   "metadata": {},
   "source": [
    "**The anomalies are visualized below.**\n",
    "Any pixel that has a difference exceeding the defined threshold will be colored, while the unchanged pixels are white. This result can be manipulated by changing the baseline scheme. For example, if the chosen scene is in January you can select only January scenes as your baseline, or expand that to the first few months of the year."
   ]
  },
  {
   "cell_type": "code",
   "execution_count": 19,
   "metadata": {},
   "outputs": [
    {
     "data": {
      "image/png": "[encoded data removed]",
      "text/plain": [
       "<matplotlib.figure.Figure at 0x7f439215a4e0>"
      ]
     },
     "metadata": {},
     "output_type": "display_data"
    }
   ],
   "source": [
    "anomalies_plot = anomalies.plot(cmap='BuPu')"
   ]
  },
  {
   "cell_type": "code",
   "execution_count": null,
   "metadata": {},
   "outputs": [],
   "source": []
  },
  {
   "cell_type": "code",
   "execution_count": null,
   "metadata": {},
   "outputs": [],
   "source": []
  },
  {
   "cell_type": "code",
   "execution_count": null,
   "metadata": {},
   "outputs": [],
   "source": []
  }
 ],
 "metadata": {
  "kernelspec": {
   "display_name": "Python 3",
   "language": "python",
   "name": "python3"
  },
  "language_info": {
   "codemirror_mode": {
    "name": "ipython",
    "version": 3
   },
   "file_extension": ".py",
   "mimetype": "text/x-python",
   "name": "python",
   "nbconvert_exporter": "python",
   "pygments_lexer": "ipython3",
   "version": "3.5.2"
  },
  "widgets": {
   "state": {
    "077f3701100f410ab31cb7a649bb5731": {
     "views": [
      {
       "cell_index": 11
      }
     ]
    },
    "10546ad935ad46359bc4840e61726c7a": {
     "views": [
      {
       "cell_index": 11
      }
     ]
    },
    "110882ddb0c140f58b4ca444ce55f7a9": {
     "views": [
      {
       "cell_index": 11
      }
     ]
    },
    "1759389fb80d44c2affcc7f052ebabbe": {
     "views": [
      {
       "cell_index": 11
      }
     ]
    },
    "18457b751aa74f9c9178a4b74ea78667": {
     "views": [
      {
       "cell_index": 8
      }
     ]
    },
    "1ac08025d8d94a3cad05ef4d89898291": {
     "views": [
      {
       "cell_index": 11
      }
     ]
    },
    "22ee7d1fb0cc4d92acfc04a90acccb3c": {
     "views": [
      {
       "cell_index": 11
      }
     ]
    },
    "2ad8f48034c847b39b9a59e4cfadf082": {
     "views": [
      {
       "cell_index": 15
      }
     ]
    },
    "33c7bb4fe04e426b98ec7754fce10e5d": {
     "views": [
      {
       "cell_index": 15
      }
     ]
    },
    "3474cd52965c44398100c174210622c3": {
     "views": [
      {
       "cell_index": 11
      }
     ]
    },
    "38b3ac76767443deaa381cf585c884e8": {
     "views": [
      {
       "cell_index": 8
      }
     ]
    },
    "4fb612cd7ba5412781f6e96c17b8a8c1": {
     "views": [
      {
       "cell_index": 15
      }
     ]
    },
    "53c5bc411e5e481c89e27cbb0c44430d": {
     "views": [
      {
       "cell_index": 11
      }
     ]
    },
    "592ac81656dd4c9dac563978ccf69376": {
     "views": [
      {
       "cell_index": 15
      }
     ]
    },
    "5dab9fa7b9304f92a5797eacce782c62": {
     "views": [
      {
       "cell_index": 15
      }
     ]
    },
    "6283454709234c0e9bae101762031732": {
     "views": [
      {
       "cell_index": 15
      }
     ]
    },
    "631374149bca46a183071e8ddc086e57": {
     "views": [
      {
       "cell_index": 8
      }
     ]
    },
    "6a5a9e5bfacc48208965eaa081d78901": {
     "views": [
      {
       "cell_index": 11
      }
     ]
    },
    "6b09458912b04a9a93a1d6609f13ed96": {
     "views": [
      {
       "cell_index": 11
      }
     ]
    },
    "6b74cb4edc024b6aa7159cb221ff72c1": {
     "views": [
      {
       "cell_index": 11
      }
     ]
    },
    "7d31b9b2dbcb4f989228dd6d29a270c1": {
     "views": [
      {
       "cell_index": 11
      }
     ]
    },
    "80d13ab1896a4340ac598878614a91c1": {
     "views": [
      {
       "cell_index": 8
      }
     ]
    },
    "81f5d85135054b5e85db7fab1aa44a25": {
     "views": [
      {
       "cell_index": 11
      }
     ]
    },
    "8344792086ed45b58d8494199d5d0de7": {
     "views": [
      {
       "cell_index": 11
      }
     ]
    },
    "89315750bc664bc79cce997cdc8c3d38": {
     "views": [
      {
       "cell_index": 11
      }
     ]
    },
    "8b27c35892ec4706aeded6b129731ecf": {
     "views": [
      {
       "cell_index": 11
      }
     ]
    },
    "8ca810f6811a4603847000024b3956cb": {
     "views": [
      {
       "cell_index": 15
      }
     ]
    },
    "8eeefdd739d14596ba83339b5d7dd49a": {
     "views": [
      {
       "cell_index": 11
      }
     ]
    },
    "9bdf8ed593a3473f934d8803d6aeddb1": {
     "views": [
      {
       "cell_index": 11
      }
     ]
    },
    "b2e71494f9e247d69683e68b6b9bb635": {
     "views": [
      {
       "cell_index": 11
      }
     ]
    },
    "bce57a34942741d5b82d1e9572e20218": {
     "views": [
      {
       "cell_index": 11
      }
     ]
    },
    "be9c80cca08741fd96ce18b66747d856": {
     "views": [
      {
       "cell_index": 11
      }
     ]
    },
    "ca7f7043d615420d98fd5906fbdfaf6f": {
     "views": [
      {
       "cell_index": 11
      }
     ]
    },
    "dad80709fd5b4d609c62984b70bbc241": {
     "views": [
      {
       "cell_index": 11
      }
     ]
    },
    "e2826fda33904e52a509ecae654e91bf": {
     "views": [
      {
       "cell_index": 8
      }
     ]
    },
    "e69c4b2e7b7c448b9cd864b6603f5875": {
     "views": [
      {
       "cell_index": 15
      }
     ]
    },
    "eb18ff98e88d498bb089581b6681ce00": {
     "views": [
      {
       "cell_index": 8
      }
     ]
    },
    "f80c1c896f1c402cb4f9a0e6a8af6d93": {
     "views": [
      {
       "cell_index": 11
      }
     ]
    }
   },
   "version": "1.2.0"
  }
 },
 "nbformat": 4,
 "nbformat_minor": 1
}
