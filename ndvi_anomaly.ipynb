{
 "cells": [
  {
   "cell_type": "markdown",
   "metadata": {},
   "source": [
    "# CEOS Data Cube - NDVI Anomaly Notebook\n",
    "*****\n",
    "**Description:** This Python notebook allows users to directly interact with a CEOS-formatted data cube to perform a NDVI anomaly detection analysis. The following steps will allow users to connect to a data cube, define the analysis location and scene of interest (extent of latitude/longitude and dates), and a collection of scenes to use to form a baseline. The output dataset contains a plot of locations where there was a significant change in the NDVI value between the baseline and the scene of interest. This can be extremely useful in identifying areas that are effected by droughts, fires, or deforestation. \n",
    "*****"
   ]
  },
  {
   "cell_type": "markdown",
   "metadata": {},
   "source": [
    "**Import necessary Data Cube libraries and dependencies.**"
   ]
  },
  {
   "cell_type": "code",
   "execution_count": 41,
   "metadata": {
    "collapsed": false
   },
   "outputs": [],
   "source": [
    "%matplotlib inline\n",
    "\n",
    "from ipywidgets import widgets\n",
    "from IPython.display import display, HTML\n",
    "\n",
    "import datetime\n",
    "import collections\n",
    "import operator\n",
    "import xarray as xr\n",
    "import numpy as np\n",
    "\n",
    "from utils.data_access_api import DataAccessApi\n",
    "import utils.dc_mosaic\n",
    "from dc_notebook_utilities import *\n"
   ]
  },
  {
   "cell_type": "markdown",
   "metadata": {},
   "source": [
    "**First, we must connect to our data cube.** We can then query the contents of the data cube we have connected to, including both the metadata and the actual data. In this application, our data access api class will be used to simplify reading metadata and extent datasets."
   ]
  },
  {
   "cell_type": "code",
   "execution_count": 24,
   "metadata": {
    "collapsed": true
   },
   "outputs": [],
   "source": [
    "dc = DataAccessApi()"
   ]
  },
  {
   "cell_type": "markdown",
   "metadata": {},
   "source": [
    "**Obtain the metadata of our cube...** Initially, we need to get the platforms and products in the cube. The rest of the metadata will be dependent on these two options."
   ]
  },
  {
   "cell_type": "code",
   "execution_count": 25,
   "metadata": {
    "collapsed": true
   },
   "outputs": [],
   "source": [
    "products = dc.dc.list_products()\n",
    "platform_names = list(set(products.platform))\n",
    "product_names = list(products.name)"
   ]
  },
  {
   "cell_type": "markdown",
   "metadata": {},
   "source": [
    "**Execute the following code and then use the generated form to choose your desired platfrom and product.**"
   ]
  },
  {
   "cell_type": "code",
   "execution_count": 26,
   "metadata": {
    "collapsed": true
   },
   "outputs": [],
   "source": [
    "product_values = create_platform_product_gui(platform_names, product_names)"
   ]
  },
  {
   "cell_type": "markdown",
   "metadata": {},
   "source": [
    "**After selecting your platform and product, the geographic and time extents will be generated**\n",
    "\n",
    "This is done with the Data Access API mentioned earlier. After entering a valid geographic and time range, a list of valid acquisitions will be generated."
   ]
  },
  {
   "cell_type": "code",
   "execution_count": 32,
   "metadata": {
    "collapsed": false
   },
   "outputs": [
    {
     "data": {
      "text/html": [
       "<h2>Metadata Report: </h2>"
      ],
      "text/plain": [
       "<IPython.core.display.HTML object>"
      ]
     },
     "metadata": {},
     "output_type": "display_data"
    },
    {
     "data": {
      "text/html": [
       "<table><tr><th></th><th>Min</th><th>Max</th><th>Resolution</th></tr><tr><th>Date: </th><td>2000-1-5</td><td>2015-10-29</td><td></td></tr><tr><th>Longitude: </th><td>-72.467</td><td>-70.968</td><td>0.00027014858</td></tr><tr><th>Latitude: </th><td>4.0</td><td>5.306</td><td>-0.00027129679</td></tr></table>"
      ],
      "text/plain": [
       "<IPython.core.display.HTML object>"
      ]
     },
     "metadata": {},
     "output_type": "display_data"
    }
   ],
   "source": [
    "# Save the form values\n",
    "platform = product_values[0].value\n",
    "product = product_values[1].value\n",
    "\n",
    "# Get the pixel resolution of the selected product\n",
    "resolution = products.resolution[products.name == product]\n",
    "lat_dist = resolution.values[0][0]\n",
    "lon_dist = resolution.values[0][1]\n",
    "\n",
    "# Get the extents of the cube\n",
    "descriptor = dc.api.get_descriptor({'platform': platform})[product]\n",
    "\n",
    "min_date = descriptor['result_min'][0]\n",
    "min_lat = descriptor['result_min'][1]\n",
    "min_lon = descriptor['result_min'][2]\n",
    "\n",
    "min_date_str = str(min_date.year) + '-' + str(min_date.month) + '-' + str(min_date.day)\n",
    "\n",
    "min_lat_rounded = round(min_lat, 3)\n",
    "min_lon_rounded =  round(min_lon, 3)\n",
    "\n",
    "max_date = descriptor['result_max'][0]\n",
    "max_lat = descriptor['result_max'][1] \n",
    "max_lon = descriptor['result_max'][2] \n",
    "\n",
    "max_date_str = str(max_date.year) + '-' + str(max_date.month) + '-' + str(max_date.day)\n",
    "\n",
    "max_lat_rounded = round(max_lat, 3) #calculates latitude of the pixel's center\n",
    "max_lon_rounded = round(max_lon, 3) #calculates longitude of the pixel's center\n",
    "\n",
    "# Display metadata\n",
    "generate_metadata_report(min_date_str, max_date_str, \n",
    "                         min_lon_rounded, max_lon_rounded, lon_dist,\n",
    "                         min_lat_rounded, max_lat_rounded, lat_dist)\n",
    "\n",
    "#show_map_extents(min_lon_rounded, max_lon_rounded, min_lat_rounded, max_lat_rounded)"
   ]
  },
  {
   "cell_type": "code",
   "execution_count": 33,
   "metadata": {
    "collapsed": true
   },
   "outputs": [],
   "source": [
    "extent_values = create_extents_gui(min_date_str, max_date_str,\n",
    "                                   min_lon_rounded, max_lon_rounded,\n",
    "                                   min_lat_rounded, max_lat_rounded)\n",
    "\n",
    "##lat = (4.25, 4.75)\n",
    "##lon = (-71.75, -71.25)"
   ]
  },
  {
   "cell_type": "markdown",
   "metadata": {},
   "source": [
    "**Now that the area of interest and parameters have been decided, the list of valid acquisitions will be generated**"
   ]
  },
  {
   "cell_type": "code",
   "execution_count": 34,
   "metadata": {
    "collapsed": false
   },
   "outputs": [
    {
     "data": {
      "text/plain": [
       "118"
      ]
     },
     "execution_count": 34,
     "metadata": {},
     "output_type": "execute_result"
    }
   ],
   "source": [
    "# Save form values\n",
    "start_date = datetime.datetime.strptime(extent_values[0].value, '%Y-%m-%d')\n",
    "end_date = datetime.datetime.strptime(extent_values[1].value, '%Y-%m-%d')\n",
    "min_lon = extent_values[2].value\n",
    "max_lon = extent_values[3].value\n",
    "min_lat = extent_values[4].value\n",
    "max_lat = extent_values[5].value\n",
    "\n",
    "acquisitions_list = dc.list_acquisition_dates(product_values[0].value, product_values[1].value, longitude=lon, latitude=lat)\n",
    "len(acquisitions_list)"
   ]
  },
  {
   "cell_type": "markdown",
   "metadata": {},
   "source": [
    "**Using the acquisitions list, three drop down menus will be displayed for input.**\n",
    "\n",
    "The NDVI anomaly function takes three parameters: A single scene to check for anomalies, a list of scenes used to form the baseline, and a percentage threshold. The percentage threshold defines what percentage change between the comparisons constitutes an anomaly. \n"
   ]
  },
  {
   "cell_type": "code",
   "execution_count": 39,
   "metadata": {
    "collapsed": false
   },
   "outputs": [],
   "source": [
    "scene_sel = widgets.Dropdown(options=acquisitions_list,\n",
    "                                    values=acquisitions_list)\n",
    "\n",
    "baseline_sel = widgets.SelectMultiple(options=acquisitions_list,\n",
    "                                    values=acquisitions_list)\n",
    "\n",
    "threshold_sel_options = {str(x)+'%': x/100 for x in range(5, 101, 5)}\n",
    "threshold_sel = widgets.Dropdown(options=collections.OrderedDict(sorted(threshold_sel_options.items(), key=operator.itemgetter(1))))\n",
    "\n",
    "mosaic_methods = {'Most Recent':utils.dc_mosaic.create_mosaic, 'Least Recent':utils.dc_mosaic.create_mosaic,\n",
    "                   'Median':utils.dc_mosaic.create_median_mosaic, 'Max NDVI':utils.dc_mosaic.create_max_ndvi_mosaic, \n",
    "                   'Min NDVI':utils.dc_mosaic.create_min_ndvi_mosaic}\n",
    "\n",
    "mosaic_options_sel = widgets.Dropdown(options=list(mosaic_methods.keys()))\n",
    "    \n",
    "# Display form\n",
    "display(widgets.Label('Select a scene to check for anomalies: '), scene_sel)\n",
    "display(widgets.Label('Select scenes to form a baseline: '), baseline_sel)\n",
    "display(widgets.Label('Select a mosaic method for the baseline:  '), mosaic_options_sel)\n",
    "display(widgets.Label('Select a percentage threshold for anomalies: '), threshold_sel)\n"
   ]
  },
  {
   "cell_type": "code",
   "execution_count": 53,
   "metadata": {
    "collapsed": false
   },
   "outputs": [],
   "source": [
    "scene = dc.get_dataset_by_extent(product, latitude=(min_lat, max_lat), longitude=(min_lon, max_lon), \n",
    "                                    time=(scene_sel.value, scene_sel.value+datetime.timedelta(seconds=1)),\n",
    "                                    measurements=['red', 'nir', 'cf_mask'])\n",
    "scene_cleaned = utils.dc_mosaic.create_mosaic(scene, reverse_time=False)\n",
    "\n",
    "baseline_mosaic = None\n",
    "reverse_time = True if mosaic_options_sel.value.title() == 'Most Recent' else False\n",
    "for index in range(len(baseline_sel.value)):\n",
    "    data = dc.get_dataset_by_extent(product, latitude=(min_lat, max_lat), longitude=(min_lon, max_lon), \n",
    "                                    time=(baseline_sel.value[index],(baseline_sel.value[index+1] if index != len(baseline_sel.value)-1 else baseline_sel.value[index]+datetime.timedelta(seconds=1))),\n",
    "                                    measurements=['red', 'nir', 'cf_mask'])\n",
    "    baseline_mosaic = mosaic_methods[mosaic_options_sel.value](data, intermediate_product=baseline_mosaic, reverse_time=reverse_time)"
   ]
  },
  {
   "cell_type": "markdown",
   "metadata": {},
   "source": [
    "**Now that the scene and baseline have been loaded, compute the NDVI for both.**\n",
    "\n",
    "We will also filter out no data values from the NDVI data arrays."
   ]
  },
  {
   "cell_type": "code",
   "execution_count": 54,
   "metadata": {
    "collapsed": false
   },
   "outputs": [],
   "source": [
    "ndvi_baseline = (baseline_mosaic.nir - baseline_mosaic.red) / (baseline_mosaic.nir + baseline_mosaic.red)\n",
    "ndvi_scene = (scene_cleaned.nir - scene_cleaned.red) / (scene_cleaned.nir + scene_cleaned.red)"
   ]
  },
  {
   "cell_type": "code",
   "execution_count": 55,
   "metadata": {
    "collapsed": false
   },
   "outputs": [],
   "source": [
    "ndvi_baseline.values[scene_cleaned.red.values == -9999] = -9999\n",
    "ndvi_baseline.values[baseline_mosaic.red.values == -9999] = -9999\n",
    "ndvi_scene.values[scene_cleaned.red.values == -9999] = -9999\n",
    "ndvi_scene.values[baseline_mosaic.red.values == -9999] = -9999"
   ]
  },
  {
   "cell_type": "markdown",
   "metadata": {},
   "source": [
    "Percentage change is calculated as usual using standard python operators on the xarrays. A new xarray is computed where the percentage change exceeds the threshold."
   ]
  },
  {
   "cell_type": "code",
   "execution_count": 56,
   "metadata": {
    "collapsed": true
   },
   "outputs": [],
   "source": [
    "percentage_change = abs((ndvi_baseline - ndvi_scene) / ndvi_baseline)"
   ]
  },
  {
   "cell_type": "code",
   "execution_count": 57,
   "metadata": {
    "collapsed": false
   },
   "outputs": [
    {
     "data": {
      "text/plain": [
       "<xarray.DataArray (latitude: 1844, longitude: 1852)>\n",
       "array([[        nan,         nan,         nan, ...,         nan,\n",
       "                nan,         nan],\n",
       "       [        nan,         nan,         nan, ...,         nan,\n",
       "                nan,         nan],\n",
       "       [        nan,         nan,         nan, ...,         nan,\n",
       "                nan,         nan],\n",
       "       ..., \n",
       "       [ 0.71988852,  0.91199118,         nan, ...,         nan,\n",
       "                nan,         nan],\n",
       "       [ 0.78162761,         nan,         nan, ...,         nan,\n",
       "                nan,         nan],\n",
       "       [        nan,         nan,         nan, ...,         nan,\n",
       "                nan,         nan]])\n",
       "Coordinates:\n",
       "  * longitude  (longitude) float64 -71.75 -71.75 -71.75 -71.75 -71.75 -71.75 ...\n",
       "  * latitude   (latitude) float64 4.75 4.75 4.749 4.749 4.749 4.749 4.748 ..."
      ]
     },
     "execution_count": 57,
     "metadata": {},
     "output_type": "execute_result"
    }
   ],
   "source": [
    "anomalies = percentage_change.where(percentage_change > threshold_sel.value)\n",
    "anomalies"
   ]
  },
  {
   "cell_type": "markdown",
   "metadata": {},
   "source": [
    "**The anomalies are visualized below.**\n",
    "Any pixel that has a difference exceeding the defined threshold will be colored, while the unchanged pixels are white. This result can be manipulated by changing the baseline scheme. For example, if the chosen scene is in January you can select only January scenes as your baseline, or expand that to the first few months of the year."
   ]
  },
  {
   "cell_type": "code",
   "execution_count": 58,
   "metadata": {
    "collapsed": false
   },
   "outputs": [
    {
     "data": {
      "image/png": "[encoded data removed]",
      "text/plain": [
       "<matplotlib.figure.Figure at 0x7fd690d555c0>"
      ]
     },
     "metadata": {},
     "output_type": "display_data"
    }
   ],
   "source": [
    "anomalies_plot = anomalies.plot(cmap='BuPu')"
   ]
  },
  {
   "cell_type": "code",
   "execution_count": null,
   "metadata": {
    "collapsed": false
   },
   "outputs": [],
   "source": []
  },
  {
   "cell_type": "code",
   "execution_count": null,
   "metadata": {
    "collapsed": false
   },
   "outputs": [],
   "source": []
  }
 ],
 "metadata": {
  "kernelspec": {
   "display_name": "Python 3",
   "language": "python",
   "name": "python3"
  },
  "language_info": {
   "codemirror_mode": {
    "name": "ipython",
    "version": 3
   },
   "file_extension": ".py",
   "mimetype": "text/x-python",
   "name": "python",
   "nbconvert_exporter": "python",
   "pygments_lexer": "ipython3",
   "version": "3.4.3"
  },
  "widgets": {
   "state": {
    "077f3701100f410ab31cb7a649bb5731": {
     "views": [
      {
       "cell_index": 11
      }
     ]
    },
    "10546ad935ad46359bc4840e61726c7a": {
     "views": [
      {
       "cell_index": 11
      }
     ]
    },
    "110882ddb0c140f58b4ca444ce55f7a9": {
     "views": [
      {
       "cell_index": 11
      }
     ]
    },
    "1759389fb80d44c2affcc7f052ebabbe": {
     "views": [
      {
       "cell_index": 11
      }
     ]
    },
    "18457b751aa74f9c9178a4b74ea78667": {
     "views": [
      {
       "cell_index": 8
      }
     ]
    },
    "1ac08025d8d94a3cad05ef4d89898291": {
     "views": [
      {
       "cell_index": 11
      }
     ]
    },
    "22ee7d1fb0cc4d92acfc04a90acccb3c": {
     "views": [
      {
       "cell_index": 11
      }
     ]
    },
    "2ad8f48034c847b39b9a59e4cfadf082": {
     "views": [
      {
       "cell_index": 15
      }
     ]
    },
    "33c7bb4fe04e426b98ec7754fce10e5d": {
     "views": [
      {
       "cell_index": 15
      }
     ]
    },
    "3474cd52965c44398100c174210622c3": {
     "views": [
      {
       "cell_index": 11
      }
     ]
    },
    "38b3ac76767443deaa381cf585c884e8": {
     "views": [
      {
       "cell_index": 8
      }
     ]
    },
    "4fb612cd7ba5412781f6e96c17b8a8c1": {
     "views": [
      {
       "cell_index": 15
      }
     ]
    },
    "53c5bc411e5e481c89e27cbb0c44430d": {
     "views": [
      {
       "cell_index": 11
      }
     ]
    },
    "592ac81656dd4c9dac563978ccf69376": {
     "views": [
      {
       "cell_index": 15
      }
     ]
    },
    "5dab9fa7b9304f92a5797eacce782c62": {
     "views": [
      {
       "cell_index": 15
      }
     ]
    },
    "6283454709234c0e9bae101762031732": {
     "views": [
      {
       "cell_index": 15
      }
     ]
    },
    "631374149bca46a183071e8ddc086e57": {
     "views": [
      {
       "cell_index": 8
      }
     ]
    },
    "6a5a9e5bfacc48208965eaa081d78901": {
     "views": [
      {
       "cell_index": 11
      }
     ]
    },
    "6b09458912b04a9a93a1d6609f13ed96": {
     "views": [
      {
       "cell_index": 11
      }
     ]
    },
    "6b74cb4edc024b6aa7159cb221ff72c1": {
     "views": [
      {
       "cell_index": 11
      }
     ]
    },
    "7d31b9b2dbcb4f989228dd6d29a270c1": {
     "views": [
      {
       "cell_index": 11
      }
     ]
    },
    "80d13ab1896a4340ac598878614a91c1": {
     "views": [
      {
       "cell_index": 8
      }
     ]
    },
    "81f5d85135054b5e85db7fab1aa44a25": {
     "views": [
      {
       "cell_index": 11
      }
     ]
    },
    "8344792086ed45b58d8494199d5d0de7": {
     "views": [
      {
       "cell_index": 11
      }
     ]
    },
    "89315750bc664bc79cce997cdc8c3d38": {
     "views": [
      {
       "cell_index": 11
      }
     ]
    },
    "8b27c35892ec4706aeded6b129731ecf": {
     "views": [
      {
       "cell_index": 11
      }
     ]
    },
    "8ca810f6811a4603847000024b3956cb": {
     "views": [
      {
       "cell_index": 15
      }
     ]
    },
    "8eeefdd739d14596ba83339b5d7dd49a": {
     "views": [
      {
       "cell_index": 11
      }
     ]
    },
    "9bdf8ed593a3473f934d8803d6aeddb1": {
     "views": [
      {
       "cell_index": 11
      }
     ]
    },
    "b2e71494f9e247d69683e68b6b9bb635": {
     "views": [
      {
       "cell_index": 11
      }
     ]
    },
    "bce57a34942741d5b82d1e9572e20218": {
     "views": [
      {
       "cell_index": 11
      }
     ]
    },
    "be9c80cca08741fd96ce18b66747d856": {
     "views": [
      {
       "cell_index": 11
      }
     ]
    },
    "ca7f7043d615420d98fd5906fbdfaf6f": {
     "views": [
      {
       "cell_index": 11
      }
     ]
    },
    "dad80709fd5b4d609c62984b70bbc241": {
     "views": [
      {
       "cell_index": 11
      }
     ]
    },
    "e2826fda33904e52a509ecae654e91bf": {
     "views": [
      {
       "cell_index": 8
      }
     ]
    },
    "e69c4b2e7b7c448b9cd864b6603f5875": {
     "views": [
      {
       "cell_index": 15
      }
     ]
    },
    "eb18ff98e88d498bb089581b6681ce00": {
     "views": [
      {
       "cell_index": 8
      }
     ]
    },
    "f80c1c896f1c402cb4f9a0e6a8af6d93": {
     "views": [
      {
       "cell_index": 11
      }
     ]
    }
   },
   "version": "1.2.0"
  }
 },
 "nbformat": 4,
 "nbformat_minor": 1
}
