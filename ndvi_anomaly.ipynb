{
 "cells": [
  {
   "cell_type": "markdown",
   "metadata": {},
   "source": [
    "# CEOS Data Cube - NDVI Anomaly Notebook\n",
    "*****\n",
    "**Description:** This Python notebook allows users to directly interact with a CEOS-formatted data cube to perform a NDVI anomaly detection analysis. The following steps will allow users to connect to a data cube, define the analysis location and scene of interest (extent of latitude/longitude and dates), and a collection of scenes to use to form a baseline. The output dataset contains a plot of locations where there was a significant change in the NDVI value between the baseline and the scene of interest. This can be extremely useful in identifying areas that are effected by droughts, fires, or deforestation. \n",
    "*****"
   ]
  },
  {
   "cell_type": "markdown",
   "metadata": {},
   "source": [
    "**Import necessary Data Cube libraries and dependencies.**"
   ]
  },
  {
   "cell_type": "code",
   "execution_count": 1,
   "metadata": {},
   "outputs": [
    {
     "name": "stdout",
     "output_type": "stream",
     "text": [
      "'Basemap' was not found in 'mpl_toolkits.basemap'.  It is likely that 'mpl_toolkits.basemap' is not present\n"
     ]
    }
   ],
   "source": [
    "%matplotlib inline\n",
    "\n",
    "from ipywidgets import widgets\n",
    "from IPython.display import display, HTML\n",
    "\n",
    "import datetime\n",
    "import collections\n",
    "import operator\n",
    "import xarray as xr\n",
    "import numpy as np\n",
    "import datacube\n",
    "\n",
    "from utils.data_cube_utilities.data_access_api import DataAccessApi\n",
    "import utils.data_cube_utilities.dc_mosaic\n",
    "from dc_notebook_utilities import *\n"
   ]
  },
  {
   "cell_type": "markdown",
   "metadata": {},
   "source": [
    "**First, we must connect to our data cube.** We can then query the contents of the data cube we have connected to, including both the metadata and the actual data. In this application, our data access api class will be used to simplify reading metadata and extent datasets."
   ]
  },
  {
   "cell_type": "code",
   "execution_count": 2,
   "metadata": {},
   "outputs": [],
   "source": [
    "api = DataAccessApi(config=\"/home/localuser/.datacube.conf\")\n",
    "dc = datacube.Datacube(app='dc-water-analysis', config=\"/home/localuser/.datacube.conf\")\n"
   ]
  },
  {
   "cell_type": "markdown",
   "metadata": {},
   "source": [
    "**Obtain the metadata of our cube...** Initially, we need to get the platforms and products in the cube. The rest of the metadata will be dependent on these two options."
   ]
  },
  {
   "cell_type": "code",
   "execution_count": 3,
   "metadata": {},
   "outputs": [],
   "source": [
    "products = api.dc.list_products()\n",
    "platform_names = list(set(products.platform))\n",
    "product_names = list(products.name)"
   ]
  },
  {
   "cell_type": "markdown",
   "metadata": {},
   "source": [
    "**Execute the following code and then use the generated form to choose your desired platfrom and product.**"
   ]
  },
  {
   "cell_type": "code",
   "execution_count": 4,
   "metadata": {},
   "outputs": [
    {
     "data": {
      "application/vnd.jupyter.widget-view+json": {
       "model_id": "425cac2ad201493a9fd01ba60698a021",
       "version_major": 2,
       "version_minor": 0
      },
      "text/html": [
       "<p>Failed to display Jupyter Widget of type <code>interactive</code>.</p>\n",
       "<p>\n",
       "  If you're reading this message in the Jupyter Notebook or JupyterLab Notebook, it may mean\n",
       "  that the widgets JavaScript is still loading. If this message persists, it\n",
       "  likely means that the widgets JavaScript library is either not installed or\n",
       "  not enabled. See the <a href=\"https://ipywidgets.readthedocs.io/en/stable/user_install.html\">Jupyter\n",
       "  Widgets Documentation</a> for setup instructions.\n",
       "</p>\n",
       "<p>\n",
       "  If you're reading this message in another frontend (for example, a static\n",
       "  rendering on GitHub or <a href=\"https://nbviewer.jupyter.org/\">NBViewer</a>),\n",
       "  it may mean that your frontend doesn't currently support widgets.\n",
       "</p>\n"
      ],
      "text/plain": [
       "interactive(children=(Select(description='platform', options=('ALOS', 'LANDSAT_5', 'TERRA', 'ALOS_2', 'GPM', 'SENTINEL_1', 'LANDSAT_8', 'LANDSAT_7'), value='ALOS'), Output()), _dom_classes=('widget-interact',))"
      ]
     },
     "metadata": {},
     "output_type": "display_data"
    }
   ],
   "source": [
    "product_values = create_platform_product_gui(platform_names, product_names, dc)"
   ]
  },
  {
   "cell_type": "markdown",
   "metadata": {},
   "source": [
    "**After selecting your platform and product, the geographic and time extents will be generated**\n",
    "\n",
    "This is done with the Data Access API mentioned earlier. After entering a valid geographic and time range, a list of valid acquisitions will be generated."
   ]
  },
  {
   "cell_type": "code",
   "execution_count": 60,
   "metadata": {},
   "outputs": [
    {
     "data": {
      "text/html": [
       "<h2>Metadata Report: </h2>"
      ],
      "text/plain": [
       "<IPython.core.display.HTML object>"
      ]
     },
     "metadata": {},
     "output_type": "display_data"
    },
    {
     "data": {
      "text/html": [
       "<table><tr><th></th><th>Min</th><th>Max</th><th>Resolution</th></tr><tr><th>Date: </th><td>2014-1-14</td><td>2016-12-21</td><td></td></tr><tr><th>Longitude: </th><td>106.79</td><td>108.919</td><td>0.000269494585236</td></tr><tr><th>Latitude: </th><td>10.514</td><td>12.611</td><td>-0.000269494585236</td></tr></table>"
      ],
      "text/plain": [
       "<IPython.core.display.HTML object>"
      ]
     },
     "metadata": {},
     "output_type": "display_data"
    },
    {
     "data": {
      "text/html": [
       "<div style=\"width:100%;\"><div style=\"position:relative;width:100%;height:0;padding-bottom:60%;\"><iframe src=\"data:text/html;charset=utf-8;base64,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\" style=\"position:absolute;width:100%;height:100%;left:0;top:0;border:none !important;\" allowfullscreen webkitallowfullscreen mozallowfullscreen></iframe></div></div>"
      ],
      "text/plain": [
       "<folium.folium.Map at 0x7fabe7d5d2e8>"
      ]
     },
     "execution_count": 60,
     "metadata": {},
     "output_type": "execute_result"
    }
   ],
   "source": [
    "# Save the form values\n",
    "platform = product_values[0]\n",
    "product = product_values[1]\n",
    "\n",
    "platform, product = platform[0], product[0]\n",
    "\n",
    "# Get the pixel resolution of the selected product\n",
    "resolution = products.resolution[products.platform == platform].any()\n",
    "lat_dist = resolution[0]\n",
    "lon_dist = resolution[1]\n",
    "\n",
    "# Get the extents of the cube\n",
    "descriptor = api.get_query_metadata(platform=platform, product=product)\n",
    "min_date = descriptor['time_extents'][0]\n",
    "min_lat = descriptor['lat_extents'][0]\n",
    "min_lon = descriptor['lon_extents'][0]\n",
    "\n",
    "min_date_str = str(min_date.year) + '-' + str(min_date.month) + '-' + str(min_date.day)\n",
    "\n",
    "min_lat_rounded = round(min_lat, 3)\n",
    "min_lon_rounded =  round(min_lon, 3)\n",
    "\n",
    "max_date = descriptor['time_extents'][1]\n",
    "max_lat = descriptor['lat_extents'][1] \n",
    "max_lon = descriptor['lon_extents'][1] \n",
    "\n",
    "max_date_str = str(max_date.year) + '-' + str(max_date.month) + '-' + str(max_date.day)\n",
    "\n",
    "max_lat_rounded = round(max_lat, 3) #calculates latitude of the pixel's center\n",
    "max_lon_rounded = round(max_lon, 3) #calculates longitude of the pixel's center\n",
    "\n",
    "# Display metadata\n",
    "generate_metadata_report(min_date_str, max_date_str, \n",
    "                         min_lon_rounded, max_lon_rounded, lon_dist,\n",
    "                         min_lat_rounded, max_lat_rounded, lat_dist)\n",
    "\n",
    "display_map(latitude = (min_lat_rounded, max_lat_rounded),longitude = (min_lon_rounded, max_lon_rounded))"
   ]
  },
  {
   "cell_type": "code",
   "execution_count": 61,
   "metadata": {},
   "outputs": [
    {
     "data": {
      "application/vnd.jupyter.widget-view+json": {
       "model_id": "471ea8f9481547399d70052e4c83cd6f",
       "version_major": 2,
       "version_minor": 0
      },
      "text/html": [
       "<p>Failed to display Jupyter Widget of type <code>Label</code>.</p>\n",
       "<p>\n",
       "  If you're reading this message in the Jupyter Notebook or JupyterLab Notebook, it may mean\n",
       "  that the widgets JavaScript is still loading. If this message persists, it\n",
       "  likely means that the widgets JavaScript library is either not installed or\n",
       "  not enabled. See the <a href=\"https://ipywidgets.readthedocs.io/en/stable/user_install.html\">Jupyter\n",
       "  Widgets Documentation</a> for setup instructions.\n",
       "</p>\n",
       "<p>\n",
       "  If you're reading this message in another frontend (for example, a static\n",
       "  rendering on GitHub or <a href=\"https://nbviewer.jupyter.org/\">NBViewer</a>),\n",
       "  it may mean that your frontend doesn't currently support widgets.\n",
       "</p>\n"
      ],
      "text/plain": [
       "Label(value='Start date: ')"
      ]
     },
     "metadata": {},
     "output_type": "display_data"
    },
    {
     "data": {
      "application/vnd.jupyter.widget-view+json": {
       "model_id": "e89f51770a8d4912a6c7a755293182ce",
       "version_major": 2,
       "version_minor": 0
      },
      "text/html": [
       "<p>Failed to display Jupyter Widget of type <code>Text</code>.</p>\n",
       "<p>\n",
       "  If you're reading this message in the Jupyter Notebook or JupyterLab Notebook, it may mean\n",
       "  that the widgets JavaScript is still loading. If this message persists, it\n",
       "  likely means that the widgets JavaScript library is either not installed or\n",
       "  not enabled. See the <a href=\"https://ipywidgets.readthedocs.io/en/stable/user_install.html\">Jupyter\n",
       "  Widgets Documentation</a> for setup instructions.\n",
       "</p>\n",
       "<p>\n",
       "  If you're reading this message in another frontend (for example, a static\n",
       "  rendering on GitHub or <a href=\"https://nbviewer.jupyter.org/\">NBViewer</a>),\n",
       "  it may mean that your frontend doesn't currently support widgets.\n",
       "</p>\n"
      ],
      "text/plain": [
       "Text(value='')"
      ]
     },
     "metadata": {},
     "output_type": "display_data"
    },
    {
     "data": {
      "application/vnd.jupyter.widget-view+json": {
       "model_id": "a6e387a7c9c048079dbb3f4795cc6c9a",
       "version_major": 2,
       "version_minor": 0
      },
      "text/html": [
       "<p>Failed to display Jupyter Widget of type <code>Label</code>.</p>\n",
       "<p>\n",
       "  If you're reading this message in the Jupyter Notebook or JupyterLab Notebook, it may mean\n",
       "  that the widgets JavaScript is still loading. If this message persists, it\n",
       "  likely means that the widgets JavaScript library is either not installed or\n",
       "  not enabled. See the <a href=\"https://ipywidgets.readthedocs.io/en/stable/user_install.html\">Jupyter\n",
       "  Widgets Documentation</a> for setup instructions.\n",
       "</p>\n",
       "<p>\n",
       "  If you're reading this message in another frontend (for example, a static\n",
       "  rendering on GitHub or <a href=\"https://nbviewer.jupyter.org/\">NBViewer</a>),\n",
       "  it may mean that your frontend doesn't currently support widgets.\n",
       "</p>\n"
      ],
      "text/plain": [
       "Label(value='End date: ')"
      ]
     },
     "metadata": {},
     "output_type": "display_data"
    },
    {
     "data": {
      "application/vnd.jupyter.widget-view+json": {
       "model_id": "efb23a315284457fa589c6fdfe5d4bb2",
       "version_major": 2,
       "version_minor": 0
      },
      "text/html": [
       "<p>Failed to display Jupyter Widget of type <code>Text</code>.</p>\n",
       "<p>\n",
       "  If you're reading this message in the Jupyter Notebook or JupyterLab Notebook, it may mean\n",
       "  that the widgets JavaScript is still loading. If this message persists, it\n",
       "  likely means that the widgets JavaScript library is either not installed or\n",
       "  not enabled. See the <a href=\"https://ipywidgets.readthedocs.io/en/stable/user_install.html\">Jupyter\n",
       "  Widgets Documentation</a> for setup instructions.\n",
       "</p>\n",
       "<p>\n",
       "  If you're reading this message in another frontend (for example, a static\n",
       "  rendering on GitHub or <a href=\"https://nbviewer.jupyter.org/\">NBViewer</a>),\n",
       "  it may mean that your frontend doesn't currently support widgets.\n",
       "</p>\n"
      ],
      "text/plain": [
       "Text(value='')"
      ]
     },
     "metadata": {},
     "output_type": "display_data"
    },
    {
     "data": {
      "application/vnd.jupyter.widget-view+json": {
       "model_id": "017d8abb669445ccbe85c8a68870907f",
       "version_major": 2,
       "version_minor": 0
      },
      "text/html": [
       "<p>Failed to display Jupyter Widget of type <code>Label</code>.</p>\n",
       "<p>\n",
       "  If you're reading this message in the Jupyter Notebook or JupyterLab Notebook, it may mean\n",
       "  that the widgets JavaScript is still loading. If this message persists, it\n",
       "  likely means that the widgets JavaScript library is either not installed or\n",
       "  not enabled. See the <a href=\"https://ipywidgets.readthedocs.io/en/stable/user_install.html\">Jupyter\n",
       "  Widgets Documentation</a> for setup instructions.\n",
       "</p>\n",
       "<p>\n",
       "  If you're reading this message in another frontend (for example, a static\n",
       "  rendering on GitHub or <a href=\"https://nbviewer.jupyter.org/\">NBViewer</a>),\n",
       "  it may mean that your frontend doesn't currently support widgets.\n",
       "</p>\n"
      ],
      "text/plain": [
       "Label(value='Min lon: ')"
      ]
     },
     "metadata": {},
     "output_type": "display_data"
    },
    {
     "data": {
      "application/vnd.jupyter.widget-view+json": {
       "model_id": "4d7dbd0b8fb042538f755ae8961acea0",
       "version_major": 2,
       "version_minor": 0
      },
      "text/html": [
       "<p>Failed to display Jupyter Widget of type <code>BoundedFloatText</code>.</p>\n",
       "<p>\n",
       "  If you're reading this message in the Jupyter Notebook or JupyterLab Notebook, it may mean\n",
       "  that the widgets JavaScript is still loading. If this message persists, it\n",
       "  likely means that the widgets JavaScript library is either not installed or\n",
       "  not enabled. See the <a href=\"https://ipywidgets.readthedocs.io/en/stable/user_install.html\">Jupyter\n",
       "  Widgets Documentation</a> for setup instructions.\n",
       "</p>\n",
       "<p>\n",
       "  If you're reading this message in another frontend (for example, a static\n",
       "  rendering on GitHub or <a href=\"https://nbviewer.jupyter.org/\">NBViewer</a>),\n",
       "  it may mean that your frontend doesn't currently support widgets.\n",
       "</p>\n"
      ],
      "text/plain": [
       "BoundedFloatText(value=106.79, max=108.919, min=106.79)"
      ]
     },
     "metadata": {},
     "output_type": "display_data"
    },
    {
     "data": {
      "application/vnd.jupyter.widget-view+json": {
       "model_id": "eb4c82512ef54f03bdd91a149e29ae20",
       "version_major": 2,
       "version_minor": 0
      },
      "text/html": [
       "<p>Failed to display Jupyter Widget of type <code>Label</code>.</p>\n",
       "<p>\n",
       "  If you're reading this message in the Jupyter Notebook or JupyterLab Notebook, it may mean\n",
       "  that the widgets JavaScript is still loading. If this message persists, it\n",
       "  likely means that the widgets JavaScript library is either not installed or\n",
       "  not enabled. See the <a href=\"https://ipywidgets.readthedocs.io/en/stable/user_install.html\">Jupyter\n",
       "  Widgets Documentation</a> for setup instructions.\n",
       "</p>\n",
       "<p>\n",
       "  If you're reading this message in another frontend (for example, a static\n",
       "  rendering on GitHub or <a href=\"https://nbviewer.jupyter.org/\">NBViewer</a>),\n",
       "  it may mean that your frontend doesn't currently support widgets.\n",
       "</p>\n"
      ],
      "text/plain": [
       "Label(value='Max lon: ')"
      ]
     },
     "metadata": {},
     "output_type": "display_data"
    },
    {
     "data": {
      "application/vnd.jupyter.widget-view+json": {
       "model_id": "d489fcb32bc8494587f3dd2263541c51",
       "version_major": 2,
       "version_minor": 0
      },
      "text/html": [
       "<p>Failed to display Jupyter Widget of type <code>BoundedFloatText</code>.</p>\n",
       "<p>\n",
       "  If you're reading this message in the Jupyter Notebook or JupyterLab Notebook, it may mean\n",
       "  that the widgets JavaScript is still loading. If this message persists, it\n",
       "  likely means that the widgets JavaScript library is either not installed or\n",
       "  not enabled. See the <a href=\"https://ipywidgets.readthedocs.io/en/stable/user_install.html\">Jupyter\n",
       "  Widgets Documentation</a> for setup instructions.\n",
       "</p>\n",
       "<p>\n",
       "  If you're reading this message in another frontend (for example, a static\n",
       "  rendering on GitHub or <a href=\"https://nbviewer.jupyter.org/\">NBViewer</a>),\n",
       "  it may mean that your frontend doesn't currently support widgets.\n",
       "</p>\n"
      ],
      "text/plain": [
       "BoundedFloatText(value=107.79, max=108.919, min=106.79)"
      ]
     },
     "metadata": {},
     "output_type": "display_data"
    },
    {
     "data": {
      "application/vnd.jupyter.widget-view+json": {
       "model_id": "6d1aed8da97549a886e941f93ad07328",
       "version_major": 2,
       "version_minor": 0
      },
      "text/html": [
       "<p>Failed to display Jupyter Widget of type <code>Label</code>.</p>\n",
       "<p>\n",
       "  If you're reading this message in the Jupyter Notebook or JupyterLab Notebook, it may mean\n",
       "  that the widgets JavaScript is still loading. If this message persists, it\n",
       "  likely means that the widgets JavaScript library is either not installed or\n",
       "  not enabled. See the <a href=\"https://ipywidgets.readthedocs.io/en/stable/user_install.html\">Jupyter\n",
       "  Widgets Documentation</a> for setup instructions.\n",
       "</p>\n",
       "<p>\n",
       "  If you're reading this message in another frontend (for example, a static\n",
       "  rendering on GitHub or <a href=\"https://nbviewer.jupyter.org/\">NBViewer</a>),\n",
       "  it may mean that your frontend doesn't currently support widgets.\n",
       "</p>\n"
      ],
      "text/plain": [
       "Label(value='Min lat: ')"
      ]
     },
     "metadata": {},
     "output_type": "display_data"
    },
    {
     "data": {
      "application/vnd.jupyter.widget-view+json": {
       "model_id": "92dae0cb65c241a1a1fe137bdd90d547",
       "version_major": 2,
       "version_minor": 0
      },
      "text/html": [
       "<p>Failed to display Jupyter Widget of type <code>BoundedFloatText</code>.</p>\n",
       "<p>\n",
       "  If you're reading this message in the Jupyter Notebook or JupyterLab Notebook, it may mean\n",
       "  that the widgets JavaScript is still loading. If this message persists, it\n",
       "  likely means that the widgets JavaScript library is either not installed or\n",
       "  not enabled. See the <a href=\"https://ipywidgets.readthedocs.io/en/stable/user_install.html\">Jupyter\n",
       "  Widgets Documentation</a> for setup instructions.\n",
       "</p>\n",
       "<p>\n",
       "  If you're reading this message in another frontend (for example, a static\n",
       "  rendering on GitHub or <a href=\"https://nbviewer.jupyter.org/\">NBViewer</a>),\n",
       "  it may mean that your frontend doesn't currently support widgets.\n",
       "</p>\n"
      ],
      "text/plain": [
       "BoundedFloatText(value=10.514, max=12.611, min=10.514)"
      ]
     },
     "metadata": {},
     "output_type": "display_data"
    },
    {
     "data": {
      "application/vnd.jupyter.widget-view+json": {
       "model_id": "a1cf333b83be4ece867a899e2c65d9cf",
       "version_major": 2,
       "version_minor": 0
      },
      "text/html": [
       "<p>Failed to display Jupyter Widget of type <code>Label</code>.</p>\n",
       "<p>\n",
       "  If you're reading this message in the Jupyter Notebook or JupyterLab Notebook, it may mean\n",
       "  that the widgets JavaScript is still loading. If this message persists, it\n",
       "  likely means that the widgets JavaScript library is either not installed or\n",
       "  not enabled. See the <a href=\"https://ipywidgets.readthedocs.io/en/stable/user_install.html\">Jupyter\n",
       "  Widgets Documentation</a> for setup instructions.\n",
       "</p>\n",
       "<p>\n",
       "  If you're reading this message in another frontend (for example, a static\n",
       "  rendering on GitHub or <a href=\"https://nbviewer.jupyter.org/\">NBViewer</a>),\n",
       "  it may mean that your frontend doesn't currently support widgets.\n",
       "</p>\n"
      ],
      "text/plain": [
       "Label(value='Max lat: ')"
      ]
     },
     "metadata": {},
     "output_type": "display_data"
    },
    {
     "data": {
      "application/vnd.jupyter.widget-view+json": {
       "model_id": "d6a4230259514754ae1fa96689a29645",
       "version_major": 2,
       "version_minor": 0
      },
      "text/html": [
       "<p>Failed to display Jupyter Widget of type <code>BoundedFloatText</code>.</p>\n",
       "<p>\n",
       "  If you're reading this message in the Jupyter Notebook or JupyterLab Notebook, it may mean\n",
       "  that the widgets JavaScript is still loading. If this message persists, it\n",
       "  likely means that the widgets JavaScript library is either not installed or\n",
       "  not enabled. See the <a href=\"https://ipywidgets.readthedocs.io/en/stable/user_install.html\">Jupyter\n",
       "  Widgets Documentation</a> for setup instructions.\n",
       "</p>\n",
       "<p>\n",
       "  If you're reading this message in another frontend (for example, a static\n",
       "  rendering on GitHub or <a href=\"https://nbviewer.jupyter.org/\">NBViewer</a>),\n",
       "  it may mean that your frontend doesn't currently support widgets.\n",
       "</p>\n"
      ],
      "text/plain": [
       "BoundedFloatText(value=11.514, max=12.611, min=10.514)"
      ]
     },
     "metadata": {},
     "output_type": "display_data"
    }
   ],
   "source": [
    "extent_values = create_extents_gui(min_date_str, max_date_str,\n",
    "                                   min_lon_rounded, max_lon_rounded,\n",
    "                                   min_lat_rounded, max_lat_rounded)\n",
    "\n",
    "##lat = (4.25, 4.75)\n",
    "##lon = (-71.75, -71.25)"
   ]
  },
  {
   "cell_type": "markdown",
   "metadata": {},
   "source": [
    "**Now that the area of interest and parameters have been decided, the list of valid acquisitions will be generated**"
   ]
  },
  {
   "cell_type": "code",
   "execution_count": 62,
   "metadata": {},
   "outputs": [
    {
     "data": {
      "text/plain": [
       "60"
      ]
     },
     "execution_count": 62,
     "metadata": {},
     "output_type": "execute_result"
    }
   ],
   "source": [
    "# Save form values\n",
    "start_date = datetime.datetime.strptime(extent_values[0].value, '%Y-%m-%d')\n",
    "end_date = datetime.datetime.strptime(extent_values[1].value, '%Y-%m-%d')\n",
    "min_lon = extent_values[2].value\n",
    "max_lon = extent_values[3].value\n",
    "min_lat = extent_values[4].value\n",
    "max_lat = extent_values[5].value\n",
    "\n",
    "acquisitions_list = api.list_acquisition_dates(product, longitude=(min_lon, max_lon), latitude=(min_lat, max_lat))\n",
    "len(acquisitions_list)"
   ]
  },
  {
   "cell_type": "markdown",
   "metadata": {},
   "source": [
    "**Using the acquisitions list, three drop down menus will be displayed for input.**\n",
    "\n",
    "The NDVI anomaly function takes three parameters: A single scene to check for anomalies, a list of scenes used to form the baseline, and a percentage threshold. The percentage threshold defines what percentage change between the comparisons constitutes an anomaly. \n"
   ]
  },
  {
   "cell_type": "code",
   "execution_count": 63,
   "metadata": {},
   "outputs": [
    {
     "data": {
      "application/vnd.jupyter.widget-view+json": {
       "model_id": "d0a0a38d77b844e0b671af7227f823c0",
       "version_major": 2,
       "version_minor": 0
      },
      "text/html": [
       "<p>Failed to display Jupyter Widget of type <code>Label</code>.</p>\n",
       "<p>\n",
       "  If you're reading this message in the Jupyter Notebook or JupyterLab Notebook, it may mean\n",
       "  that the widgets JavaScript is still loading. If this message persists, it\n",
       "  likely means that the widgets JavaScript library is either not installed or\n",
       "  not enabled. See the <a href=\"https://ipywidgets.readthedocs.io/en/stable/user_install.html\">Jupyter\n",
       "  Widgets Documentation</a> for setup instructions.\n",
       "</p>\n",
       "<p>\n",
       "  If you're reading this message in another frontend (for example, a static\n",
       "  rendering on GitHub or <a href=\"https://nbviewer.jupyter.org/\">NBViewer</a>),\n",
       "  it may mean that your frontend doesn't currently support widgets.\n",
       "</p>\n"
      ],
      "text/plain": [
       "Label(value='Select a scene to check for anomalies: ')"
      ]
     },
     "metadata": {},
     "output_type": "display_data"
    },
    {
     "data": {
      "application/vnd.jupyter.widget-view+json": {
       "model_id": "ee187d40cb96422c88a88df934decec4",
       "version_major": 2,
       "version_minor": 0
      },
      "text/html": [
       "<p>Failed to display Jupyter Widget of type <code>Dropdown</code>.</p>\n",
       "<p>\n",
       "  If you're reading this message in the Jupyter Notebook or JupyterLab Notebook, it may mean\n",
       "  that the widgets JavaScript is still loading. If this message persists, it\n",
       "  likely means that the widgets JavaScript library is either not installed or\n",
       "  not enabled. See the <a href=\"https://ipywidgets.readthedocs.io/en/stable/user_install.html\">Jupyter\n",
       "  Widgets Documentation</a> for setup instructions.\n",
       "</p>\n",
       "<p>\n",
       "  If you're reading this message in another frontend (for example, a static\n",
       "  rendering on GitHub or <a href=\"https://nbviewer.jupyter.org/\">NBViewer</a>),\n",
       "  it may mean that your frontend doesn't currently support widgets.\n",
       "</p>\n"
      ],
      "text/plain": [
       "Dropdown(options=(datetime.datetime(2014, 1, 14, 3, 8, 50), datetime.datetime(2014, 1, 30, 3, 8, 45), datetime.datetime(2014, 2, 15, 3, 8, 30), datetime.datetime(2014, 3, 3, 3, 8, 14), datetime.datetime(2014, 3, 19, 3, 8, 6), datetime.datetime(2014, 4, 4, 3, 7, 51), datetime.datetime(2014, 4, 20, 3, 7, 34), datetime.datetime(2014, 5, 6, 3, 7, 17), datetime.datetime(2014, 5, 22, 3, 7, 9), datetime.datetime(2014, 6, 7, 3, 7, 19), datetime.datetime(2014, 6, 23, 3, 7, 22), datetime.datetime(2014, 7, 9, 3, 7, 30), datetime.datetime(2014, 7, 25, 3, 7, 32), datetime.datetime(2014, 8, 10, 3, 7, 42), datetime.datetime(2014, 8, 26, 3, 7, 44), datetime.datetime(2014, 9, 11, 3, 7, 48), datetime.datetime(2014, 9, 27, 3, 7, 46), datetime.datetime(2014, 10, 13, 3, 7, 53), datetime.datetime(2014, 10, 29, 3, 7, 49), datetime.datetime(2014, 11, 14, 3, 7, 53), datetime.datetime(2014, 11, 30, 3, 7, 51), datetime.datetime(2014, 12, 16, 3, 7, 46), datetime.datetime(2015, 1, 1, 3, 7, 41), datetime.datetime(2015, 1, 17, 3, 7, 40), datetime.datetime(2015, 2, 2, 3, 7, 36), datetime.datetime(2015, 2, 18, 3, 7, 28), datetime.datetime(2015, 3, 6, 3, 7, 22), datetime.datetime(2015, 3, 22, 3, 7, 13), datetime.datetime(2015, 4, 7, 3, 7, 2), datetime.datetime(2015, 4, 23, 3, 7), datetime.datetime(2015, 5, 9, 3, 6, 44), datetime.datetime(2015, 5, 25, 3, 6, 43), datetime.datetime(2015, 6, 10, 3, 6, 54), datetime.datetime(2015, 7, 28, 3, 7, 16), datetime.datetime(2015, 8, 13, 3, 7, 21), datetime.datetime(2015, 8, 29, 3, 7, 27), datetime.datetime(2015, 9, 30, 3, 7, 40), datetime.datetime(2015, 10, 16, 3, 7, 40), datetime.datetime(2015, 11, 1, 3, 7, 46), datetime.datetime(2015, 11, 17, 3, 7, 47), datetime.datetime(2015, 12, 3, 3, 7, 48), datetime.datetime(2015, 12, 19, 3, 7, 48), datetime.datetime(2016, 1, 4, 3, 7, 45), datetime.datetime(2016, 1, 20, 3, 7, 45), datetime.datetime(2016, 2, 5, 3, 7, 41), datetime.datetime(2016, 3, 8, 3, 7, 32), datetime.datetime(2016, 3, 24, 3, 7, 24), datetime.datetime(2016, 4, 9, 3, 7, 17), datetime.datetime(2016, 4, 25, 3, 7, 10), datetime.datetime(2016, 5, 11, 3, 7, 12), datetime.datetime(2016, 5, 27, 3, 7, 18), datetime.datetime(2016, 6, 12, 3, 7, 21), datetime.datetime(2016, 7, 14, 3, 7, 36), datetime.datetime(2016, 7, 30, 3, 7, 40), datetime.datetime(2016, 8, 15, 3, 7, 43), datetime.datetime(2016, 8, 31, 3, 7, 50), datetime.datetime(2016, 9, 16, 3, 7, 53), datetime.datetime(2016, 11, 19, 3, 8), datetime.datetime(2016, 12, 5, 3, 7, 59), datetime.datetime(2016, 12, 21, 3, 7, 54)), value=datetime.datetime(2014, 1, 14, 3, 8, 50))"
      ]
     },
     "metadata": {},
     "output_type": "display_data"
    },
    {
     "data": {
      "application/vnd.jupyter.widget-view+json": {
       "model_id": "fd45cb188ba541d08b3dd7161fddabef",
       "version_major": 2,
       "version_minor": 0
      },
      "text/html": [
       "<p>Failed to display Jupyter Widget of type <code>Label</code>.</p>\n",
       "<p>\n",
       "  If you're reading this message in the Jupyter Notebook or JupyterLab Notebook, it may mean\n",
       "  that the widgets JavaScript is still loading. If this message persists, it\n",
       "  likely means that the widgets JavaScript library is either not installed or\n",
       "  not enabled. See the <a href=\"https://ipywidgets.readthedocs.io/en/stable/user_install.html\">Jupyter\n",
       "  Widgets Documentation</a> for setup instructions.\n",
       "</p>\n",
       "<p>\n",
       "  If you're reading this message in another frontend (for example, a static\n",
       "  rendering on GitHub or <a href=\"https://nbviewer.jupyter.org/\">NBViewer</a>),\n",
       "  it may mean that your frontend doesn't currently support widgets.\n",
       "</p>\n"
      ],
      "text/plain": [
       "Label(value='Select scenes to form a baseline: ')"
      ]
     },
     "metadata": {},
     "output_type": "display_data"
    },
    {
     "data": {
      "application/vnd.jupyter.widget-view+json": {
       "model_id": "af5556ba430f4541b4b3cf283d44939d",
       "version_major": 2,
       "version_minor": 0
      },
      "text/html": [
       "<p>Failed to display Jupyter Widget of type <code>SelectMultiple</code>.</p>\n",
       "<p>\n",
       "  If you're reading this message in the Jupyter Notebook or JupyterLab Notebook, it may mean\n",
       "  that the widgets JavaScript is still loading. If this message persists, it\n",
       "  likely means that the widgets JavaScript library is either not installed or\n",
       "  not enabled. See the <a href=\"https://ipywidgets.readthedocs.io/en/stable/user_install.html\">Jupyter\n",
       "  Widgets Documentation</a> for setup instructions.\n",
       "</p>\n",
       "<p>\n",
       "  If you're reading this message in another frontend (for example, a static\n",
       "  rendering on GitHub or <a href=\"https://nbviewer.jupyter.org/\">NBViewer</a>),\n",
       "  it may mean that your frontend doesn't currently support widgets.\n",
       "</p>\n"
      ],
      "text/plain": [
       "SelectMultiple(options=(datetime.datetime(2014, 1, 14, 3, 8, 50), datetime.datetime(2014, 1, 30, 3, 8, 45), datetime.datetime(2014, 2, 15, 3, 8, 30), datetime.datetime(2014, 3, 3, 3, 8, 14), datetime.datetime(2014, 3, 19, 3, 8, 6), datetime.datetime(2014, 4, 4, 3, 7, 51), datetime.datetime(2014, 4, 20, 3, 7, 34), datetime.datetime(2014, 5, 6, 3, 7, 17), datetime.datetime(2014, 5, 22, 3, 7, 9), datetime.datetime(2014, 6, 7, 3, 7, 19), datetime.datetime(2014, 6, 23, 3, 7, 22), datetime.datetime(2014, 7, 9, 3, 7, 30), datetime.datetime(2014, 7, 25, 3, 7, 32), datetime.datetime(2014, 8, 10, 3, 7, 42), datetime.datetime(2014, 8, 26, 3, 7, 44), datetime.datetime(2014, 9, 11, 3, 7, 48), datetime.datetime(2014, 9, 27, 3, 7, 46), datetime.datetime(2014, 10, 13, 3, 7, 53), datetime.datetime(2014, 10, 29, 3, 7, 49), datetime.datetime(2014, 11, 14, 3, 7, 53), datetime.datetime(2014, 11, 30, 3, 7, 51), datetime.datetime(2014, 12, 16, 3, 7, 46), datetime.datetime(2015, 1, 1, 3, 7, 41), datetime.datetime(2015, 1, 17, 3, 7, 40), datetime.datetime(2015, 2, 2, 3, 7, 36), datetime.datetime(2015, 2, 18, 3, 7, 28), datetime.datetime(2015, 3, 6, 3, 7, 22), datetime.datetime(2015, 3, 22, 3, 7, 13), datetime.datetime(2015, 4, 7, 3, 7, 2), datetime.datetime(2015, 4, 23, 3, 7), datetime.datetime(2015, 5, 9, 3, 6, 44), datetime.datetime(2015, 5, 25, 3, 6, 43), datetime.datetime(2015, 6, 10, 3, 6, 54), datetime.datetime(2015, 7, 28, 3, 7, 16), datetime.datetime(2015, 8, 13, 3, 7, 21), datetime.datetime(2015, 8, 29, 3, 7, 27), datetime.datetime(2015, 9, 30, 3, 7, 40), datetime.datetime(2015, 10, 16, 3, 7, 40), datetime.datetime(2015, 11, 1, 3, 7, 46), datetime.datetime(2015, 11, 17, 3, 7, 47), datetime.datetime(2015, 12, 3, 3, 7, 48), datetime.datetime(2015, 12, 19, 3, 7, 48), datetime.datetime(2016, 1, 4, 3, 7, 45), datetime.datetime(2016, 1, 20, 3, 7, 45), datetime.datetime(2016, 2, 5, 3, 7, 41), datetime.datetime(2016, 3, 8, 3, 7, 32), datetime.datetime(2016, 3, 24, 3, 7, 24), datetime.datetime(2016, 4, 9, 3, 7, 17), datetime.datetime(2016, 4, 25, 3, 7, 10), datetime.datetime(2016, 5, 11, 3, 7, 12), datetime.datetime(2016, 5, 27, 3, 7, 18), datetime.datetime(2016, 6, 12, 3, 7, 21), datetime.datetime(2016, 7, 14, 3, 7, 36), datetime.datetime(2016, 7, 30, 3, 7, 40), datetime.datetime(2016, 8, 15, 3, 7, 43), datetime.datetime(2016, 8, 31, 3, 7, 50), datetime.datetime(2016, 9, 16, 3, 7, 53), datetime.datetime(2016, 11, 19, 3, 8), datetime.datetime(2016, 12, 5, 3, 7, 59), datetime.datetime(2016, 12, 21, 3, 7, 54)), value=())"
      ]
     },
     "metadata": {},
     "output_type": "display_data"
    },
    {
     "data": {
      "application/vnd.jupyter.widget-view+json": {
       "model_id": "36aea7bf0d844211afe5781ea017558f",
       "version_major": 2,
       "version_minor": 0
      },
      "text/html": [
       "<p>Failed to display Jupyter Widget of type <code>Label</code>.</p>\n",
       "<p>\n",
       "  If you're reading this message in the Jupyter Notebook or JupyterLab Notebook, it may mean\n",
       "  that the widgets JavaScript is still loading. If this message persists, it\n",
       "  likely means that the widgets JavaScript library is either not installed or\n",
       "  not enabled. See the <a href=\"https://ipywidgets.readthedocs.io/en/stable/user_install.html\">Jupyter\n",
       "  Widgets Documentation</a> for setup instructions.\n",
       "</p>\n",
       "<p>\n",
       "  If you're reading this message in another frontend (for example, a static\n",
       "  rendering on GitHub or <a href=\"https://nbviewer.jupyter.org/\">NBViewer</a>),\n",
       "  it may mean that your frontend doesn't currently support widgets.\n",
       "</p>\n"
      ],
      "text/plain": [
       "Label(value='Select a mosaic method for the baseline:  ')"
      ]
     },
     "metadata": {},
     "output_type": "display_data"
    },
    {
     "data": {
      "application/vnd.jupyter.widget-view+json": {
       "model_id": "3166897826e24d418e581f8752072c30",
       "version_major": 2,
       "version_minor": 0
      },
      "text/html": [
       "<p>Failed to display Jupyter Widget of type <code>Dropdown</code>.</p>\n",
       "<p>\n",
       "  If you're reading this message in the Jupyter Notebook or JupyterLab Notebook, it may mean\n",
       "  that the widgets JavaScript is still loading. If this message persists, it\n",
       "  likely means that the widgets JavaScript library is either not installed or\n",
       "  not enabled. See the <a href=\"https://ipywidgets.readthedocs.io/en/stable/user_install.html\">Jupyter\n",
       "  Widgets Documentation</a> for setup instructions.\n",
       "</p>\n",
       "<p>\n",
       "  If you're reading this message in another frontend (for example, a static\n",
       "  rendering on GitHub or <a href=\"https://nbviewer.jupyter.org/\">NBViewer</a>),\n",
       "  it may mean that your frontend doesn't currently support widgets.\n",
       "</p>\n"
      ],
      "text/plain": [
       "Dropdown(options=('Least Recent', 'Most Recent', 'Min NDVI', 'Max NDVI', 'Median'), value='Least Recent')"
      ]
     },
     "metadata": {},
     "output_type": "display_data"
    },
    {
     "data": {
      "application/vnd.jupyter.widget-view+json": {
       "model_id": "443ab1710207463ba3a3a7ee8ab4c2fd",
       "version_major": 2,
       "version_minor": 0
      },
      "text/html": [
       "<p>Failed to display Jupyter Widget of type <code>Label</code>.</p>\n",
       "<p>\n",
       "  If you're reading this message in the Jupyter Notebook or JupyterLab Notebook, it may mean\n",
       "  that the widgets JavaScript is still loading. If this message persists, it\n",
       "  likely means that the widgets JavaScript library is either not installed or\n",
       "  not enabled. See the <a href=\"https://ipywidgets.readthedocs.io/en/stable/user_install.html\">Jupyter\n",
       "  Widgets Documentation</a> for setup instructions.\n",
       "</p>\n",
       "<p>\n",
       "  If you're reading this message in another frontend (for example, a static\n",
       "  rendering on GitHub or <a href=\"https://nbviewer.jupyter.org/\">NBViewer</a>),\n",
       "  it may mean that your frontend doesn't currently support widgets.\n",
       "</p>\n"
      ],
      "text/plain": [
       "Label(value='Select a percentage threshold for anomalies: ')"
      ]
     },
     "metadata": {},
     "output_type": "display_data"
    },
    {
     "data": {
      "application/vnd.jupyter.widget-view+json": {
       "model_id": "819ab46c62e649f19e112c9087e6f11a",
       "version_major": 2,
       "version_minor": 0
      },
      "text/html": [
       "<p>Failed to display Jupyter Widget of type <code>Dropdown</code>.</p>\n",
       "<p>\n",
       "  If you're reading this message in the Jupyter Notebook or JupyterLab Notebook, it may mean\n",
       "  that the widgets JavaScript is still loading. If this message persists, it\n",
       "  likely means that the widgets JavaScript library is either not installed or\n",
       "  not enabled. See the <a href=\"https://ipywidgets.readthedocs.io/en/stable/user_install.html\">Jupyter\n",
       "  Widgets Documentation</a> for setup instructions.\n",
       "</p>\n",
       "<p>\n",
       "  If you're reading this message in another frontend (for example, a static\n",
       "  rendering on GitHub or <a href=\"https://nbviewer.jupyter.org/\">NBViewer</a>),\n",
       "  it may mean that your frontend doesn't currently support widgets.\n",
       "</p>\n"
      ],
      "text/plain": [
       "Dropdown(options=OrderedDict([('5%', 0.05), ('10%', 0.1), ('15%', 0.15), ('20%', 0.2), ('25%', 0.25), ('30%', 0.3), ('35%', 0.35), ('40%', 0.4), ('45%', 0.45), ('50%', 0.5), ('55%', 0.55), ('60%', 0.6), ('65%', 0.65), ('70%', 0.7), ('75%', 0.75), ('80%', 0.8), ('85%', 0.85), ('90%', 0.9), ('95%', 0.95), ('100%', 1.0)]), value=0.05)"
      ]
     },
     "metadata": {},
     "output_type": "display_data"
    }
   ],
   "source": [
    "from utils.data_cube_utilities.dc_mosaic import create_mosaic, create_median_mosaic, create_max_ndvi_mosaic,create_min_ndvi_mosaic\n",
    "scene_sel = widgets.Dropdown(options=acquisitions_list,\n",
    "                                    values=acquisitions_list)\n",
    "\n",
    "baseline_sel = widgets.SelectMultiple(options=acquisitions_list,\n",
    "                                    values=acquisitions_list)\n",
    "\n",
    "threshold_sel_options = {str(x)+'%': x/100 for x in range(5, 101, 5)}\n",
    "threshold_sel = widgets.Dropdown(options=collections.OrderedDict(sorted(threshold_sel_options.items(), key=operator.itemgetter(1))))\n",
    "\n",
    "mosaic_methods = {'Most Recent':create_mosaic, 'Least Recent':create_mosaic,\n",
    "                   'Median':create_median_mosaic, 'Max NDVI':create_max_ndvi_mosaic, \n",
    "                   'Min NDVI':create_min_ndvi_mosaic}\n",
    "\n",
    "mosaic_options_sel = widgets.Dropdown(options=list(mosaic_methods.keys()))\n",
    "    \n",
    "# Display form\n",
    "display(widgets.Label('Select a scene to check for anomalies: '), scene_sel)\n",
    "display(widgets.Label('Select scenes to form a baseline: '), baseline_sel)\n",
    "display(widgets.Label('Select a mosaic method for the baseline:  '), mosaic_options_sel)\n",
    "display(widgets.Label('Select a percentage threshold for anomalies: '), threshold_sel)\n"
   ]
  },
  {
   "cell_type": "code",
   "execution_count": 64,
   "metadata": {},
   "outputs": [],
   "source": [
    "scene = api.get_dataset_by_extent(product, latitude=(min_lat, max_lat), longitude=(min_lon, max_lon), \n",
    "                                    time=(scene_sel.value, scene_sel.value+datetime.timedelta(seconds=1)),\n",
    "                                    measurements=['red', 'nir', 'pixel_qa'])"
   ]
  },
  {
   "cell_type": "code",
   "execution_count": 65,
   "metadata": {},
   "outputs": [],
   "source": [
    "from utils.data_cube_utilities.dc_mosaic import ls8_unpack_qa, ls7_unpack_qa, ls5_unpack_qa\n",
    "\n",
    "def create_clean_mask(dataset):\n",
    "\n",
    "    if(platform == \"LANDSAT_7\"):\n",
    "        clear_xarray  = ls7_unpack_qa(dataset.pixel_qa, \"clear\")  \n",
    "        water_xarray  = ls7_unpack_qa(dataset.pixel_qa, \"water\")\n",
    "    elif(platform == \"LANDSAT_8\"):\n",
    "        clear_xarray  = ls8_unpack_qa(dataset.pixel_qa, \"clear\")  \n",
    "        water_xarray  = ls8_unpack_qa(dataset.pixel_qa, \"water\")\n",
    "    \n",
    "    return np.logical_or(clear_xarray.values.astype(bool), water_xarray.values.astype(bool))\n",
    "\n",
    "clean_mask = create_clean_mask(scene)"
   ]
  },
  {
   "cell_type": "code",
   "execution_count": 66,
   "metadata": {},
   "outputs": [],
   "source": [
    "\n",
    "scene_cleaned = create_mosaic(scene, reverse_time=False, clean_mask=clean_mask)\n",
    "\n",
    "baseline_mosaic = None\n",
    "reverse_time = True if mosaic_options_sel.value.title() == 'Most Recent' else False\n",
    "for index in range(len(baseline_sel.value)):\n",
    "    data = api.get_dataset_by_extent(product, latitude=(min_lat, max_lat), longitude=(min_lon, max_lon), \n",
    "                                    time=(baseline_sel.value[index],(baseline_sel.value[index+1] if index != len(baseline_sel.value)-1 else baseline_sel.value[index]+datetime.timedelta(seconds=1))),\n",
    "                                    measurements=['red', 'nir', 'pixel_qa'])\n",
    "    clean_mask = create_clean_mask(data)\n",
    "    baseline_mosaic = mosaic_methods[mosaic_options_sel.value](data, intermediate_product=baseline_mosaic, reverse_time=reverse_time, clean_mask=clean_mask)"
   ]
  },
  {
   "cell_type": "markdown",
   "metadata": {},
   "source": [
    "**Now that the scene and baseline have been loaded, compute the NDVI for both.**\n",
    "\n",
    "We will also filter out no data values from the NDVI data arrays."
   ]
  },
  {
   "cell_type": "code",
   "execution_count": 67,
   "metadata": {},
   "outputs": [
    {
     "name": "stderr",
     "output_type": "stream",
     "text": [
      "/home/localuser/Datacube/datacube_env/lib/python3.5/site-packages/xarray-0.9.5-py3.5.egg/xarray/core/variable.py:1143: RuntimeWarning: divide by zero encountered in true_divide\n",
      "  if not reflexive\n"
     ]
    }
   ],
   "source": [
    "ndvi_baseline = (baseline_mosaic.nir - baseline_mosaic.red) / (baseline_mosaic.nir + baseline_mosaic.red)\n",
    "ndvi_scene = (scene_cleaned.nir - scene_cleaned.red) / (scene_cleaned.nir + scene_cleaned.red)"
   ]
  },
  {
   "cell_type": "code",
   "execution_count": 68,
   "metadata": {},
   "outputs": [],
   "source": [
    "ndvi_baseline.values[scene_cleaned.red.values == -9999] = -9999\n",
    "ndvi_baseline.values[baseline_mosaic.red.values == -9999] = -9999\n",
    "ndvi_scene.values[scene_cleaned.red.values == -9999] = -9999\n",
    "ndvi_scene.values[baseline_mosaic.red.values == -9999] = -9999"
   ]
  },
  {
   "cell_type": "markdown",
   "metadata": {},
   "source": [
    "Percentage change is calculated as usual using standard python operators on the xarrays. A new xarray is computed where the percentage change exceeds the threshold."
   ]
  },
  {
   "cell_type": "code",
   "execution_count": 69,
   "metadata": {},
   "outputs": [
    {
     "name": "stderr",
     "output_type": "stream",
     "text": [
      "/home/localuser/Datacube/datacube_env/lib/python3.5/site-packages/xarray-0.9.5-py3.5.egg/xarray/core/variable.py:1143: RuntimeWarning: divide by zero encountered in true_divide\n",
      "  if not reflexive\n",
      "/home/localuser/Datacube/datacube_env/lib/python3.5/site-packages/xarray-0.9.5-py3.5.egg/xarray/core/variable.py:1143: RuntimeWarning: invalid value encountered in true_divide\n",
      "  if not reflexive\n"
     ]
    }
   ],
   "source": [
    "percentage_change = abs((ndvi_baseline - ndvi_scene) / ndvi_baseline)"
   ]
  },
  {
   "cell_type": "code",
   "execution_count": 70,
   "metadata": {},
   "outputs": [
    {
     "name": "stderr",
     "output_type": "stream",
     "text": [
      "/home/localuser/Datacube/datacube_env/lib/python3.5/site-packages/xarray-0.9.5-py3.5.egg/xarray/core/variable.py:1143: RuntimeWarning: invalid value encountered in greater\n",
      "  if not reflexive\n"
     ]
    },
    {
     "data": {
      "text/plain": [
       "<xarray.DataArray (latitude: 3712, longitude: 3711)>\n",
       "array([[nan, nan, nan, ..., nan, nan, nan],\n",
       "       [nan, nan, nan, ..., nan, nan, nan],\n",
       "       [nan, nan, nan, ..., nan, nan, nan],\n",
       "       ...,\n",
       "       [nan, nan, nan, ..., nan, nan, nan],\n",
       "       [nan, nan, nan, ..., nan, nan, nan],\n",
       "       [nan, nan, nan, ..., nan, nan, nan]])\n",
       "Coordinates:\n",
       "  * latitude   (latitude) float64 11.51 11.51 11.51 11.51 11.51 11.51 11.51 ...\n",
       "  * longitude  (longitude) float64 106.8 106.8 106.8 106.8 106.8 106.8 106.8 ..."
      ]
     },
     "execution_count": 70,
     "metadata": {},
     "output_type": "execute_result"
    }
   ],
   "source": [
    "anomalies = percentage_change.where(percentage_change > threshold_sel.value)\n",
    "anomalies"
   ]
  },
  {
   "cell_type": "markdown",
   "metadata": {},
   "source": [
    "**The anomalies are visualized below.**\n",
    "Any pixel that has a difference exceeding the defined threshold will be colored, while the unchanged pixels are white. This result can be manipulated by changing the baseline scheme. For example, if the chosen scene is in January you can select only January scenes as your baseline, or expand that to the first few months of the year."
   ]
  },
  {
   "cell_type": "code",
   "execution_count": 71,
   "metadata": {},
   "outputs": [
    {
     "data": {
      "image/png": "[encoded data removed]",
      "text/plain": [
       "<matplotlib.figure.Figure at 0x7fabed489978>"
      ]
     },
     "metadata": {},
     "output_type": "display_data"
    }
   ],
   "source": [
    "anomalies_plot = anomalies.plot(cmap='BuPu')"
   ]
  },
  {
   "cell_type": "code",
   "execution_count": null,
   "metadata": {},
   "outputs": [],
   "source": []
  },
  {
   "cell_type": "code",
   "execution_count": null,
   "metadata": {},
   "outputs": [],
   "source": []
  },
  {
   "cell_type": "code",
   "execution_count": null,
   "metadata": {},
   "outputs": [],
   "source": []
  }
 ],
 "metadata": {
  "kernelspec": {
   "display_name": "Python 3",
   "language": "python",
   "name": "python3"
  },
  "language_info": {
   "codemirror_mode": {
    "name": "ipython",
    "version": 3
   },
   "file_extension": ".py",
   "mimetype": "text/x-python",
   "name": "python",
   "nbconvert_exporter": "python",
   "pygments_lexer": "ipython3",
   "version": "3.5.2"
  },
  "widgets": {
   "state": {
    "077f3701100f410ab31cb7a649bb5731": {
     "views": [
      {
       "cell_index": 11
      }
     ]
    },
    "10546ad935ad46359bc4840e61726c7a": {
     "views": [
      {
       "cell_index": 11
      }
     ]
    },
    "110882ddb0c140f58b4ca444ce55f7a9": {
     "views": [
      {
       "cell_index": 11
      }
     ]
    },
    "1759389fb80d44c2affcc7f052ebabbe": {
     "views": [
      {
       "cell_index": 11
      }
     ]
    },
    "18457b751aa74f9c9178a4b74ea78667": {
     "views": [
      {
       "cell_index": 8
      }
     ]
    },
    "1ac08025d8d94a3cad05ef4d89898291": {
     "views": [
      {
       "cell_index": 11
      }
     ]
    },
    "22ee7d1fb0cc4d92acfc04a90acccb3c": {
     "views": [
      {
       "cell_index": 11
      }
     ]
    },
    "2ad8f48034c847b39b9a59e4cfadf082": {
     "views": [
      {
       "cell_index": 15
      }
     ]
    },
    "33c7bb4fe04e426b98ec7754fce10e5d": {
     "views": [
      {
       "cell_index": 15
      }
     ]
    },
    "3474cd52965c44398100c174210622c3": {
     "views": [
      {
       "cell_index": 11
      }
     ]
    },
    "38b3ac76767443deaa381cf585c884e8": {
     "views": [
      {
       "cell_index": 8
      }
     ]
    },
    "4fb612cd7ba5412781f6e96c17b8a8c1": {
     "views": [
      {
       "cell_index": 15
      }
     ]
    },
    "53c5bc411e5e481c89e27cbb0c44430d": {
     "views": [
      {
       "cell_index": 11
      }
     ]
    },
    "592ac81656dd4c9dac563978ccf69376": {
     "views": [
      {
       "cell_index": 15
      }
     ]
    },
    "5dab9fa7b9304f92a5797eacce782c62": {
     "views": [
      {
       "cell_index": 15
      }
     ]
    },
    "6283454709234c0e9bae101762031732": {
     "views": [
      {
       "cell_index": 15
      }
     ]
    },
    "631374149bca46a183071e8ddc086e57": {
     "views": [
      {
       "cell_index": 8
      }
     ]
    },
    "6a5a9e5bfacc48208965eaa081d78901": {
     "views": [
      {
       "cell_index": 11
      }
     ]
    },
    "6b09458912b04a9a93a1d6609f13ed96": {
     "views": [
      {
       "cell_index": 11
      }
     ]
    },
    "6b74cb4edc024b6aa7159cb221ff72c1": {
     "views": [
      {
       "cell_index": 11
      }
     ]
    },
    "7d31b9b2dbcb4f989228dd6d29a270c1": {
     "views": [
      {
       "cell_index": 11
      }
     ]
    },
    "80d13ab1896a4340ac598878614a91c1": {
     "views": [
      {
       "cell_index": 8
      }
     ]
    },
    "81f5d85135054b5e85db7fab1aa44a25": {
     "views": [
      {
       "cell_index": 11
      }
     ]
    },
    "8344792086ed45b58d8494199d5d0de7": {
     "views": [
      {
       "cell_index": 11
      }
     ]
    },
    "89315750bc664bc79cce997cdc8c3d38": {
     "views": [
      {
       "cell_index": 11
      }
     ]
    },
    "8b27c35892ec4706aeded6b129731ecf": {
     "views": [
      {
       "cell_index": 11
      }
     ]
    },
    "8ca810f6811a4603847000024b3956cb": {
     "views": [
      {
       "cell_index": 15
      }
     ]
    },
    "8eeefdd739d14596ba83339b5d7dd49a": {
     "views": [
      {
       "cell_index": 11
      }
     ]
    },
    "9bdf8ed593a3473f934d8803d6aeddb1": {
     "views": [
      {
       "cell_index": 11
      }
     ]
    },
    "b2e71494f9e247d69683e68b6b9bb635": {
     "views": [
      {
       "cell_index": 11
      }
     ]
    },
    "bce57a34942741d5b82d1e9572e20218": {
     "views": [
      {
       "cell_index": 11
      }
     ]
    },
    "be9c80cca08741fd96ce18b66747d856": {
     "views": [
      {
       "cell_index": 11
      }
     ]
    },
    "ca7f7043d615420d98fd5906fbdfaf6f": {
     "views": [
      {
       "cell_index": 11
      }
     ]
    },
    "dad80709fd5b4d609c62984b70bbc241": {
     "views": [
      {
       "cell_index": 11
      }
     ]
    },
    "e2826fda33904e52a509ecae654e91bf": {
     "views": [
      {
       "cell_index": 8
      }
     ]
    },
    "e69c4b2e7b7c448b9cd864b6603f5875": {
     "views": [
      {
       "cell_index": 15
      }
     ]
    },
    "eb18ff98e88d498bb089581b6681ce00": {
     "views": [
      {
       "cell_index": 8
      }
     ]
    },
    "f80c1c896f1c402cb4f9a0e6a8af6d93": {
     "views": [
      {
       "cell_index": 11
      }
     ]
    }
   },
   "version": "1.2.0"
  }
 },
 "nbformat": 4,
 "nbformat_minor": 1
}
