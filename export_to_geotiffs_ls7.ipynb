{
 "cells": [
  {
   "cell_type": "markdown",
   "metadata": {},
   "source": [
    "# Exporting Landsat 7 to GeoTiff format  \n",
    "\n",
    "> **Description**  \n",
    "> The code in this notebook subsets a data cube, selects a specific set of variables, and then outputs that data into a GeoTIFF file. The goal is to be able to do external analyses of this data using other data analysis tools or GIS tools. The files would be reasonable in size, since we would restrict the region and parameters in the output."
   ]
  },
  {
   "cell_type": "markdown",
   "metadata": {},
   "source": [
    "----  \n",
    "\n",
    "# Boiler Plate, Loading Data"
   ]
  },
  {
   "cell_type": "markdown",
   "metadata": {},
   "source": [
    "> ### Import the Datacube"
   ]
  },
  {
   "cell_type": "code",
   "execution_count": 1,
   "metadata": {},
   "outputs": [
    {
     "name": "stderr",
     "output_type": "stream",
     "text": [
      "/home/localuser/Datacube/datacube_env/lib/python3.6/site-packages/psycopg2-2.7.5-py3.6-linux-x86_64.egg/psycopg2/__init__.py:144: UserWarning: The psycopg2 wheel package will be renamed from release 2.8; in order to keep installing from binary please use \"pip install psycopg2-binary\" instead. For details see: <http://initd.org/psycopg/docs/install.html#binary-install-from-pypi>.\n",
      "  \"\"\")\n"
     ]
    }
   ],
   "source": [
    "import datacube\n",
    "dc = datacube.Datacube(app = 'my_app', config = '/home/localuser/.datacube.conf')"
   ]
  },
  {
   "cell_type": "markdown",
   "metadata": {},
   "source": [
    ">### Browse the available Data Cubes on the storage platform    \n",
    "> You might want to learn more about what data is stored and how it is stored.\n"
   ]
  },
  {
   "cell_type": "code",
   "execution_count": 2,
   "metadata": {},
   "outputs": [
    {
     "data": {
      "text/html": [
       "<div>\n",
       "<style scoped>\n",
       "    .dataframe tbody tr th:only-of-type {\n",
       "        vertical-align: middle;\n",
       "    }\n",
       "\n",
       "    .dataframe tbody tr th {\n",
       "        vertical-align: top;\n",
       "    }\n",
       "\n",
       "    .dataframe thead th {\n",
       "        text-align: right;\n",
       "    }\n",
       "</style>\n",
       "<table border=\"1\" class=\"dataframe\">\n",
       "  <thead>\n",
       "    <tr style=\"text-align: right;\">\n",
       "      <th></th>\n",
       "      <th>name</th>\n",
       "      <th>description</th>\n",
       "      <th>lat</th>\n",
       "      <th>product_type</th>\n",
       "      <th>creation_time</th>\n",
       "      <th>label</th>\n",
       "      <th>platform</th>\n",
       "      <th>time</th>\n",
       "      <th>instrument</th>\n",
       "      <th>lon</th>\n",
       "      <th>format</th>\n",
       "      <th>crs</th>\n",
       "      <th>resolution</th>\n",
       "      <th>tile_size</th>\n",
       "      <th>spatial_dimensions</th>\n",
       "    </tr>\n",
       "    <tr>\n",
       "      <th>id</th>\n",
       "      <th></th>\n",
       "      <th></th>\n",
       "      <th></th>\n",
       "      <th></th>\n",
       "      <th></th>\n",
       "      <th></th>\n",
       "      <th></th>\n",
       "      <th></th>\n",
       "      <th></th>\n",
       "      <th></th>\n",
       "      <th></th>\n",
       "      <th></th>\n",
       "      <th></th>\n",
       "      <th></th>\n",
       "      <th></th>\n",
       "    </tr>\n",
       "  </thead>\n",
       "  <tbody>\n",
       "    <tr>\n",
       "      <th>13</th>\n",
       "      <td>ls7_ledaps_ghana</td>\n",
       "      <td>Landsat 7 USGS Collection 1 Higher Level SR sc...</td>\n",
       "      <td>None</td>\n",
       "      <td>LEDAPS</td>\n",
       "      <td>None</td>\n",
       "      <td>None</td>\n",
       "      <td>LANDSAT_7</td>\n",
       "      <td>None</td>\n",
       "      <td>ETM</td>\n",
       "      <td>None</td>\n",
       "      <td>NetCDF</td>\n",
       "      <td>EPSG:4326</td>\n",
       "      <td>(-0.000269494585236, 0.000269494585236)</td>\n",
       "      <td>(0.943231048326, 0.943231048326)</td>\n",
       "      <td>(latitude, longitude)</td>\n",
       "    </tr>\n",
       "    <tr>\n",
       "      <th>17</th>\n",
       "      <td>ls7_ledaps_kenya</td>\n",
       "      <td>Landsat 7 USGS Collection 1 Higher Level SR sc...</td>\n",
       "      <td>None</td>\n",
       "      <td>LEDAPS</td>\n",
       "      <td>None</td>\n",
       "      <td>None</td>\n",
       "      <td>LANDSAT_7</td>\n",
       "      <td>None</td>\n",
       "      <td>ETM</td>\n",
       "      <td>None</td>\n",
       "      <td>NetCDF</td>\n",
       "      <td>EPSG:4326</td>\n",
       "      <td>(-0.000269493, 0.000269493)</td>\n",
       "      <td>(0.99981903, 0.99981903)</td>\n",
       "      <td>(latitude, longitude)</td>\n",
       "    </tr>\n",
       "    <tr>\n",
       "      <th>18</th>\n",
       "      <td>ls7_ledaps_senegal</td>\n",
       "      <td>Landsat 7 USGS Collection 1 Higher Level SR sc...</td>\n",
       "      <td>None</td>\n",
       "      <td>LEDAPS</td>\n",
       "      <td>None</td>\n",
       "      <td>None</td>\n",
       "      <td>LANDSAT_7</td>\n",
       "      <td>None</td>\n",
       "      <td>ETM</td>\n",
       "      <td>None</td>\n",
       "      <td>NetCDF</td>\n",
       "      <td>EPSG:4326</td>\n",
       "      <td>(-0.000271152, 0.00027769)</td>\n",
       "      <td>(0.813456, 0.83307)</td>\n",
       "      <td>(latitude, longitude)</td>\n",
       "    </tr>\n",
       "    <tr>\n",
       "      <th>16</th>\n",
       "      <td>ls7_ledaps_sierra_leone</td>\n",
       "      <td>Landsat 7 USGS Collection 1 Higher Level SR sc...</td>\n",
       "      <td>None</td>\n",
       "      <td>LEDAPS</td>\n",
       "      <td>None</td>\n",
       "      <td>None</td>\n",
       "      <td>LANDSAT_7</td>\n",
       "      <td>None</td>\n",
       "      <td>ETM</td>\n",
       "      <td>None</td>\n",
       "      <td>NetCDF</td>\n",
       "      <td>EPSG:4326</td>\n",
       "      <td>(-0.000269494585236, 0.000269494585236)</td>\n",
       "      <td>(0.943231048326, 0.943231048326)</td>\n",
       "      <td>(latitude, longitude)</td>\n",
       "    </tr>\n",
       "    <tr>\n",
       "      <th>19</th>\n",
       "      <td>ls7_ledaps_tanzania</td>\n",
       "      <td>Landsat 7 USGS Collection 1 Higher Level SR sc...</td>\n",
       "      <td>None</td>\n",
       "      <td>LEDAPS</td>\n",
       "      <td>None</td>\n",
       "      <td>None</td>\n",
       "      <td>LANDSAT_7</td>\n",
       "      <td>None</td>\n",
       "      <td>ETM</td>\n",
       "      <td>None</td>\n",
       "      <td>NetCDF</td>\n",
       "      <td>EPSG:4326</td>\n",
       "      <td>(-0.000271277688070265, 0.000271139577954979)</td>\n",
       "      <td>(0.999929558226998, 0.999962763497961)</td>\n",
       "      <td>(latitude, longitude)</td>\n",
       "    </tr>\n",
       "    <tr>\n",
       "      <th>31</th>\n",
       "      <td>ls7_ledaps_vietnam</td>\n",
       "      <td>Landsat 7 USGS Collection 1 Higher Level SR sc...</td>\n",
       "      <td>None</td>\n",
       "      <td>LEDAPS</td>\n",
       "      <td>None</td>\n",
       "      <td>None</td>\n",
       "      <td>LANDSAT_7</td>\n",
       "      <td>None</td>\n",
       "      <td>ETM</td>\n",
       "      <td>None</td>\n",
       "      <td>NetCDF</td>\n",
       "      <td>EPSG:4326</td>\n",
       "      <td>(-0.000269494585236, 0.000269494585236)</td>\n",
       "      <td>(0.943231048326, 0.943231048326)</td>\n",
       "      <td>(latitude, longitude)</td>\n",
       "    </tr>\n",
       "    <tr>\n",
       "      <th>9</th>\n",
       "      <td>ls8_lasrc_ghana</td>\n",
       "      <td>Landsat 8 USGS Collection 1 Higher Level SR sc...</td>\n",
       "      <td>None</td>\n",
       "      <td>LaSRC</td>\n",
       "      <td>None</td>\n",
       "      <td>None</td>\n",
       "      <td>LANDSAT_8</td>\n",
       "      <td>None</td>\n",
       "      <td>OLI_TIRS</td>\n",
       "      <td>None</td>\n",
       "      <td>NetCDF</td>\n",
       "      <td>EPSG:4326</td>\n",
       "      <td>(-0.000269494585236, 0.000269494585236)</td>\n",
       "      <td>(0.943231048326, 0.943231048326)</td>\n",
       "      <td>(latitude, longitude)</td>\n",
       "    </tr>\n",
       "    <tr>\n",
       "      <th>10</th>\n",
       "      <td>ls8_lasrc_kenya</td>\n",
       "      <td>Landsat 8 USGS Collection 1 Higher Level SR sc...</td>\n",
       "      <td>None</td>\n",
       "      <td>LaSRC</td>\n",
       "      <td>None</td>\n",
       "      <td>None</td>\n",
       "      <td>LANDSAT_8</td>\n",
       "      <td>None</td>\n",
       "      <td>OLI_TIRS</td>\n",
       "      <td>None</td>\n",
       "      <td>NetCDF</td>\n",
       "      <td>EPSG:4326</td>\n",
       "      <td>(-0.000271309115317046, 0.00026957992707863)</td>\n",
       "      <td>(0.999502780827996, 0.999602369607559)</td>\n",
       "      <td>(latitude, longitude)</td>\n",
       "    </tr>\n",
       "    <tr>\n",
       "      <th>11</th>\n",
       "      <td>ls8_lasrc_senegal</td>\n",
       "      <td>Landsat 8 USGS Collection 1 Higher Level SR sc...</td>\n",
       "      <td>None</td>\n",
       "      <td>LaSRC</td>\n",
       "      <td>None</td>\n",
       "      <td>None</td>\n",
       "      <td>LANDSAT_8</td>\n",
       "      <td>None</td>\n",
       "      <td>OLI_TIRS</td>\n",
       "      <td>None</td>\n",
       "      <td>NetCDF</td>\n",
       "      <td>EPSG:4326</td>\n",
       "      <td>(-0.000271152, 0.00027769)</td>\n",
       "      <td>(0.813456, 0.83307)</td>\n",
       "      <td>(latitude, longitude)</td>\n",
       "    </tr>\n",
       "    <tr>\n",
       "      <th>8</th>\n",
       "      <td>ls8_lasrc_sierra_leone</td>\n",
       "      <td>Landsat 8 USGS Collection 1 Higher Level SR sc...</td>\n",
       "      <td>None</td>\n",
       "      <td>LaSRC</td>\n",
       "      <td>None</td>\n",
       "      <td>None</td>\n",
       "      <td>LANDSAT_8</td>\n",
       "      <td>None</td>\n",
       "      <td>OLI_TIRS</td>\n",
       "      <td>None</td>\n",
       "      <td>NetCDF</td>\n",
       "      <td>EPSG:4326</td>\n",
       "      <td>(-0.000269494585236, 0.000269494585236)</td>\n",
       "      <td>(0.943231048326, 0.943231048326)</td>\n",
       "      <td>(latitude, longitude)</td>\n",
       "    </tr>\n",
       "    <tr>\n",
       "      <th>15</th>\n",
       "      <td>ls8_lasrc_tanzania</td>\n",
       "      <td>Landsat 8 USGS Collection 1 Higher Level SR sc...</td>\n",
       "      <td>None</td>\n",
       "      <td>LaSRC</td>\n",
       "      <td>None</td>\n",
       "      <td>None</td>\n",
       "      <td>LANDSAT_8</td>\n",
       "      <td>None</td>\n",
       "      <td>OLI_TIRS</td>\n",
       "      <td>None</td>\n",
       "      <td>NetCDF</td>\n",
       "      <td>EPSG:4326</td>\n",
       "      <td>(-0.000271277688070265, 0.000271139577954979)</td>\n",
       "      <td>(0.999929558226998, 0.999962763497961)</td>\n",
       "      <td>(latitude, longitude)</td>\n",
       "    </tr>\n",
       "  </tbody>\n",
       "</table>\n",
       "</div>"
      ],
      "text/plain": [
       "                       name  \\\n",
       "id                            \n",
       "13         ls7_ledaps_ghana   \n",
       "17         ls7_ledaps_kenya   \n",
       "18       ls7_ledaps_senegal   \n",
       "16  ls7_ledaps_sierra_leone   \n",
       "19      ls7_ledaps_tanzania   \n",
       "31       ls7_ledaps_vietnam   \n",
       "9           ls8_lasrc_ghana   \n",
       "10          ls8_lasrc_kenya   \n",
       "11        ls8_lasrc_senegal   \n",
       "8    ls8_lasrc_sierra_leone   \n",
       "15       ls8_lasrc_tanzania   \n",
       "\n",
       "                                          description   lat product_type  \\\n",
       "id                                                                         \n",
       "13  Landsat 7 USGS Collection 1 Higher Level SR sc...  None       LEDAPS   \n",
       "17  Landsat 7 USGS Collection 1 Higher Level SR sc...  None       LEDAPS   \n",
       "18  Landsat 7 USGS Collection 1 Higher Level SR sc...  None       LEDAPS   \n",
       "16  Landsat 7 USGS Collection 1 Higher Level SR sc...  None       LEDAPS   \n",
       "19  Landsat 7 USGS Collection 1 Higher Level SR sc...  None       LEDAPS   \n",
       "31  Landsat 7 USGS Collection 1 Higher Level SR sc...  None       LEDAPS   \n",
       "9   Landsat 8 USGS Collection 1 Higher Level SR sc...  None        LaSRC   \n",
       "10  Landsat 8 USGS Collection 1 Higher Level SR sc...  None        LaSRC   \n",
       "11  Landsat 8 USGS Collection 1 Higher Level SR sc...  None        LaSRC   \n",
       "8   Landsat 8 USGS Collection 1 Higher Level SR sc...  None        LaSRC   \n",
       "15  Landsat 8 USGS Collection 1 Higher Level SR sc...  None        LaSRC   \n",
       "\n",
       "   creation_time label   platform  time instrument   lon  format        crs  \\\n",
       "id                                                                            \n",
       "13          None  None  LANDSAT_7  None        ETM  None  NetCDF  EPSG:4326   \n",
       "17          None  None  LANDSAT_7  None        ETM  None  NetCDF  EPSG:4326   \n",
       "18          None  None  LANDSAT_7  None        ETM  None  NetCDF  EPSG:4326   \n",
       "16          None  None  LANDSAT_7  None        ETM  None  NetCDF  EPSG:4326   \n",
       "19          None  None  LANDSAT_7  None        ETM  None  NetCDF  EPSG:4326   \n",
       "31          None  None  LANDSAT_7  None        ETM  None  NetCDF  EPSG:4326   \n",
       "9           None  None  LANDSAT_8  None   OLI_TIRS  None  NetCDF  EPSG:4326   \n",
       "10          None  None  LANDSAT_8  None   OLI_TIRS  None  NetCDF  EPSG:4326   \n",
       "11          None  None  LANDSAT_8  None   OLI_TIRS  None  NetCDF  EPSG:4326   \n",
       "8           None  None  LANDSAT_8  None   OLI_TIRS  None  NetCDF  EPSG:4326   \n",
       "15          None  None  LANDSAT_8  None   OLI_TIRS  None  NetCDF  EPSG:4326   \n",
       "\n",
       "                                       resolution  \\\n",
       "id                                                  \n",
       "13        (-0.000269494585236, 0.000269494585236)   \n",
       "17                    (-0.000269493, 0.000269493)   \n",
       "18                     (-0.000271152, 0.00027769)   \n",
       "16        (-0.000269494585236, 0.000269494585236)   \n",
       "19  (-0.000271277688070265, 0.000271139577954979)   \n",
       "31        (-0.000269494585236, 0.000269494585236)   \n",
       "9         (-0.000269494585236, 0.000269494585236)   \n",
       "10   (-0.000271309115317046, 0.00026957992707863)   \n",
       "11                     (-0.000271152, 0.00027769)   \n",
       "8         (-0.000269494585236, 0.000269494585236)   \n",
       "15  (-0.000271277688070265, 0.000271139577954979)   \n",
       "\n",
       "                                 tile_size     spatial_dimensions  \n",
       "id                                                                 \n",
       "13        (0.943231048326, 0.943231048326)  (latitude, longitude)  \n",
       "17                (0.99981903, 0.99981903)  (latitude, longitude)  \n",
       "18                     (0.813456, 0.83307)  (latitude, longitude)  \n",
       "16        (0.943231048326, 0.943231048326)  (latitude, longitude)  \n",
       "19  (0.999929558226998, 0.999962763497961)  (latitude, longitude)  \n",
       "31        (0.943231048326, 0.943231048326)  (latitude, longitude)  \n",
       "9         (0.943231048326, 0.943231048326)  (latitude, longitude)  \n",
       "10  (0.999502780827996, 0.999602369607559)  (latitude, longitude)  \n",
       "11                     (0.813456, 0.83307)  (latitude, longitude)  \n",
       "8         (0.943231048326, 0.943231048326)  (latitude, longitude)  \n",
       "15  (0.999929558226998, 0.999962763497961)  (latitude, longitude)  "
      ]
     },
     "execution_count": 2,
     "metadata": {},
     "output_type": "execute_result"
    }
   ],
   "source": [
    "list_of_products = dc.list_products()\n",
    "netCDF_products = list_of_products[list_of_products['format'] == 'NetCDF']\n",
    "netCDF_products"
   ]
  },
  {
   "cell_type": "markdown",
   "metadata": {},
   "source": [
    ">### Pick a product  \n",
    ">Use the platform names from the previous block to select a small Data Cube. The data_access_api utility will give you lat, lon, and time bounds of your Data Cube.   "
   ]
  },
  {
   "cell_type": "code",
   "execution_count": 3,
   "metadata": {},
   "outputs": [
    {
     "name": "stdout",
     "output_type": "stream",
     "text": [
      "Lat bounds: (9.1762906272858, 13.964939912344285)\n",
      "Lon bounds: (102.4041694654867, 108.9310588253174)\n",
      "Time bounds: ['1999-09-08', '2016-12-29']\n"
     ]
    },
    {
     "name": "stderr",
     "output_type": "stream",
     "text": [
      "/home/localuser/Datacube/data_cube_notebooks/utils/data_cube_utilities/data_access_api.py:184: FutureWarning: casting an xarray.Dataset to a boolean will change in xarray v0.11 to only include data variables, not coordinates. Cast the Dataset.variables property instead to preserve existing behavior in a forwards compatible manner.\n",
      "  if not dataset:\n"
     ]
    }
   ],
   "source": [
    "import utils.data_cube_utilities.data_access_api as dc_api  \n",
    "api = dc_api.DataAccessApi(config = '/home/localuser/.datacube.conf')\n",
    "\n",
    "platform = \"LANDSAT_7\"\n",
    "product = \"ls7_ledaps_vietnam\"\n",
    "\n",
    "# Get product extents\n",
    "prod_extents = api.get_query_metadata(platform=platform, product=product, measurements=[])#.get_full_dataset_extent(platform = platform, product = product)\n",
    "\n",
    "latitude_extents = prod_extents['lat_extents']\n",
    "print(\"Lat bounds:\", latitude_extents)\n",
    "longitude_extents = prod_extents['lon_extents']\n",
    "print(\"Lon bounds:\", longitude_extents)\n",
    "time_extents = list(map(lambda time: time.strftime('%Y-%m-%d'), prod_extents['time_extents']))\n",
    "print(\"Time bounds:\", time_extents)"
   ]
  },
  {
   "cell_type": "markdown",
   "metadata": {},
   "source": [
    "# Visualize Data Cube Region"
   ]
  },
  {
   "cell_type": "markdown",
   "metadata": {},
   "source": [
    "> #### Picking a smaller analysis region"
   ]
  },
  {
   "cell_type": "code",
   "execution_count": 4,
   "metadata": {},
   "outputs": [
    {
     "data": {
      "text/html": [
       "<div style=\"width:100%;\"><div style=\"position:relative;width:100%;height:0;padding-bottom:60%;\"><iframe src=\"data:text/html;charset=utf-8;base64,PCFET0NUWVBFIGh0bWw+CjxoZWFkPiAgICAKICAgIDxtZXRhIGh0dHAtZXF1aXY9ImNvbnRlbnQtdHlwZSIgY29udGVudD0idGV4dC9odG1sOyBjaGFyc2V0PVVURi04IiAvPgogICAgPHNjcmlwdD5MX1BSRUZFUl9DQU5WQVM9ZmFsc2U7IExfTk9fVE9VQ0g9ZmFsc2U7IExfRElTQUJMRV8zRD1mYWxzZTs8L3NjcmlwdD4KICAgIDxzY3JpcHQgc3JjPSJodHRwczovL2Nkbi5qc2RlbGl2ci5uZXQvbnBtL2xlYWZsZXRAMS4yLjAvZGlzdC9sZWFmbGV0LmpzIj48L3NjcmlwdD4KICAgIDxzY3JpcHQgc3JjPSJodHRwczovL2FqYXguZ29vZ2xlYXBpcy5jb20vYWpheC9saWJzL2pxdWVyeS8xLjExLjEvanF1ZXJ5Lm1pbi5qcyI+PC9zY3JpcHQ+CiAgICA8c2NyaXB0IHNyYz0iaHR0cHM6Ly9tYXhjZG4uYm9vdHN0cmFwY2RuLmNvbS9ib290c3RyYXAvMy4yLjAvanMvYm9vdHN0cmFwLm1pbi5qcyI+PC9zY3JpcHQ+CiAgICA8c2NyaXB0IHNyYz0iaHR0cHM6Ly9jZG5qcy5jbG91ZGZsYXJlLmNvbS9hamF4L2xpYnMvTGVhZmxldC5hd2Vzb21lLW1hcmtlcnMvMi4wLjIvbGVhZmxldC5hd2Vzb21lLW1hcmtlcnMuanMiPjwvc2NyaXB0PgogICAgPGxpbmsgcmVsPSJzdHlsZXNoZWV0IiBocmVmPSJodHRwczovL2Nkbi5qc2RlbGl2ci5uZXQvbnBtL2xlYWZsZXRAMS4yLjAvZGlzdC9sZWFmbGV0LmNzcyIvPgogICAgPGxpbmsgcmVsPSJzdHlsZXNoZWV0IiBocmVmPSJodHRwczovL21heGNkbi5ib290c3RyYXBjZG4uY29tL2Jvb3RzdHJhcC8zLjIuMC9jc3MvYm9vdHN0cmFwLm1pbi5jc3MiLz4KICAgIDxsaW5rIHJlbD0ic3R5bGVzaGVldCIgaHJlZj0iaHR0cHM6Ly9tYXhjZG4uYm9vdHN0cmFwY2RuLmNvbS9ib290c3RyYXAvMy4yLjAvY3NzL2Jvb3RzdHJhcC10aGVtZS5taW4uY3NzIi8+CiAgICA8bGluayByZWw9InN0eWxlc2hlZXQiIGhyZWY9Imh0dHBzOi8vbWF4Y2RuLmJvb3RzdHJhcGNkbi5jb20vZm9udC1hd2Vzb21lLzQuNi4zL2Nzcy9mb250LWF3ZXNvbWUubWluLmNzcyIvPgogICAgPGxpbmsgcmVsPSJzdHlsZXNoZWV0IiBocmVmPSJodHRwczovL2NkbmpzLmNsb3VkZmxhcmUuY29tL2FqYXgvbGlicy9MZWFmbGV0LmF3ZXNvbWUtbWFya2Vycy8yLjAuMi9sZWFmbGV0LmF3ZXNvbWUtbWFya2Vycy5jc3MiLz4KICAgIDxsaW5rIHJlbD0ic3R5bGVzaGVldCIgaHJlZj0iaHR0cHM6Ly9yYXdnaXQuY29tL3B5dGhvbi12aXN1YWxpemF0aW9uL2ZvbGl1bS9tYXN0ZXIvZm9saXVtL3RlbXBsYXRlcy9sZWFmbGV0LmF3ZXNvbWUucm90YXRlLmNzcyIvPgogICAgPHN0eWxlPmh0bWwsIGJvZHkge3dpZHRoOiAxMDAlO2hlaWdodDogMTAwJTttYXJnaW46IDA7cGFkZGluZzogMDt9PC9zdHlsZT4KICAgIDxzdHlsZT4jbWFwIHtwb3NpdGlvbjphYnNvbHV0ZTt0b3A6MDtib3R0b206MDtyaWdodDowO2xlZnQ6MDt9PC9zdHlsZT4KICAgIAogICAgPHN0eWxlPiNtYXBfZWE2MDNlOGMwYjIyNDhkYmE5OTFhMzNlNjkxYTRhNzMgewogICAgICAgIHBvc2l0aW9uOiByZWxhdGl2ZTsKICAgICAgICB3aWR0aDogMTAwLjAlOwogICAgICAgIGhlaWdodDogMTAwLjAlOwogICAgICAgIGxlZnQ6IDAuMCU7CiAgICAgICAgdG9wOiAwLjAlOwogICAgICAgIH0KICAgIDwvc3R5bGU+CjwvaGVhZD4KPGJvZHk+ICAgIAogICAgCiAgICA8ZGl2IGNsYXNzPSJmb2xpdW0tbWFwIiBpZD0ibWFwX2VhNjAzZThjMGIyMjQ4ZGJhOTkxYTMzZTY5MWE0YTczIiA+PC9kaXY+CjwvYm9keT4KPHNjcmlwdD4gICAgCiAgICAKICAgIAogICAgICAgIHZhciBib3VuZHMgPSBudWxsOwogICAgCgogICAgdmFyIG1hcF9lYTYwM2U4YzBiMjI0OGRiYTk5MWEzM2U2OTFhNGE3MyA9IEwubWFwKAogICAgICAgICdtYXBfZWE2MDNlOGMwYjIyNDhkYmE5OTFhMzNlNjkxYTRhNzMnLCB7CiAgICAgICAgY2VudGVyOiBbMTEuNTcwNjE1MjY5ODE1MDQzLCAxMDUuNjY3NjE0MTQ1NDAyMDRdLAogICAgICAgIHpvb206IDYsCiAgICAgICAgbWF4Qm91bmRzOiBib3VuZHMsCiAgICAgICAgbGF5ZXJzOiBbXSwKICAgICAgICB3b3JsZENvcHlKdW1wOiBmYWxzZSwKICAgICAgICBjcnM6IEwuQ1JTLkVQU0czODU3LAogICAgICAgIHpvb21Db250cm9sOiB0cnVlLAogICAgICAgIH0pOwoKICAgIAogICAgCiAgICB2YXIgdGlsZV9sYXllcl84M2E1YTlhMzQwYzQ0OWUwODc1YTY5NjEzN2IxZGE0ZSA9IEwudGlsZUxheWVyKAogICAgICAgICcgaHR0cDovL210MS5nb29nbGUuY29tL3Z0L2x5cnM9eSZ6PXt6fSZ4PXt4fSZ5PXt5fScsCiAgICAgICAgewogICAgICAgICJhdHRyaWJ1dGlvbiI6ICJHb29nbGUiLAogICAgICAgICJkZXRlY3RSZXRpbmEiOiBmYWxzZSwKICAgICAgICAibWF4TmF0aXZlWm9vbSI6IDE4LAogICAgICAgICJtYXhab29tIjogMTgsCiAgICAgICAgIm1pblpvb20iOiAwLAogICAgICAgICJub1dyYXAiOiBmYWxzZSwKICAgICAgICAic3ViZG9tYWlucyI6ICJhYmMiCn0pLmFkZFRvKG1hcF9lYTYwM2U4YzBiMjI0OGRiYTk5MWEzM2U2OTFhNGE3Myk7CiAgICAKICAgICAgICAgICAgICAgIHZhciBwb2x5X2xpbmVfNTAxN2ZlYTQ4MDQwNDJjMTkwNjRlZTJkNGEwODBiMjggPSBMLnBvbHlsaW5lKAogICAgICAgICAgICAgICAgICAgIFtbOS4xNzYyOTA2MjcyODU4LCAxMDIuNDA0MTY5NDY1NDg2N10sIFs5LjE3NjI5MDYyNzI4NTgsIDEwOC45MzEwNTg4MjUzMTc0XSwgWzEzLjk2NDkzOTkxMjM0NDI4NSwgMTA4LjkzMTA1ODgyNTMxNzRdLCBbMTMuOTY0OTM5OTEyMzQ0Mjg1LCAxMDIuNDA0MTY5NDY1NDg2N10sIFs5LjE3NjI5MDYyNzI4NTgsIDEwMi40MDQxNjk0NjU0ODY3XV0sCiAgICAgICAgICAgICAgICAgICAgewogICJidWJibGluZ01vdXNlRXZlbnRzIjogdHJ1ZSwKICAiY29sb3IiOiAicmVkIiwKICAiZGFzaEFycmF5IjogbnVsbCwKICAiZGFzaE9mZnNldCI6IG51bGwsCiAgImZpbGwiOiBmYWxzZSwKICAiZmlsbENvbG9yIjogInJlZCIsCiAgImZpbGxPcGFjaXR5IjogMC4yLAogICJmaWxsUnVsZSI6ICJldmVub2RkIiwKICAibGluZUNhcCI6ICJyb3VuZCIsCiAgImxpbmVKb2luIjogInJvdW5kIiwKICAibm9DbGlwIjogZmFsc2UsCiAgIm9wYWNpdHkiOiAwLjgsCiAgInNtb290aEZhY3RvciI6IDEuMCwKICAic3Ryb2tlIjogdHJ1ZSwKICAid2VpZ2h0IjogMwp9CiAgICAgICAgICAgICAgICAgICAgKQogICAgICAgICAgICAgICAgICAgIC5hZGRUbyhtYXBfZWE2MDNlOGMwYjIyNDhkYmE5OTFhMzNlNjkxYTRhNzMpOwogICAgICAgICAgICAKICAgIAogICAgICAgICAgICAgICAgdmFyIGxhdF9sbmdfcG9wdXBfYTMzY2VmNGFiYmUzNDA4MWFhZjljMjNmNmJiYzU0YWQgPSBMLnBvcHVwKCk7CiAgICAgICAgICAgICAgICBmdW5jdGlvbiBsYXRMbmdQb3AoZSkgewogICAgICAgICAgICAgICAgICAgIGxhdF9sbmdfcG9wdXBfYTMzY2VmNGFiYmUzNDA4MWFhZjljMjNmNmJiYzU0YWQKICAgICAgICAgICAgICAgICAgICAgICAgLnNldExhdExuZyhlLmxhdGxuZykKICAgICAgICAgICAgICAgICAgICAgICAgLnNldENvbnRlbnQoIkxhdGl0dWRlOiAiICsgZS5sYXRsbmcubGF0LnRvRml4ZWQoNCkgKwogICAgICAgICAgICAgICAgICAgICAgICAgICAgICAgICAgICAiPGJyPkxvbmdpdHVkZTogIiArIGUubGF0bG5nLmxuZy50b0ZpeGVkKDQpKQogICAgICAgICAgICAgICAgICAgICAgICAub3Blbk9uKG1hcF9lYTYwM2U4YzBiMjI0OGRiYTk5MWEzM2U2OTFhNGE3Myk7CiAgICAgICAgICAgICAgICAgICAgfQogICAgICAgICAgICAgICAgbWFwX2VhNjAzZThjMGIyMjQ4ZGJhOTkxYTMzZTY5MWE0YTczLm9uKCdjbGljaycsIGxhdExuZ1BvcCk7CiAgICAgICAgICAgIAo8L3NjcmlwdD4=\" style=\"position:absolute;width:100%;height:100%;left:0;top:0;border:none !important;\" allowfullscreen webkitallowfullscreen mozallowfullscreen></iframe></div></div>"
      ],
      "text/plain": [
       "<folium.folium.Map at 0x7fc1ac938fd0>"
      ]
     },
     "execution_count": 4,
     "metadata": {},
     "output_type": "execute_result"
    }
   ],
   "source": [
    "## The code below renders a map that can be used to orient yourself with the region.\n",
    "from utils.data_cube_utilities.dc_display_map import display_map\n",
    "display_map(latitude = latitude_extents, longitude = longitude_extents)"
   ]
  },
  {
   "cell_type": "code",
   "execution_count": 5,
   "metadata": {},
   "outputs": [
    {
     "name": "stdout",
     "output_type": "stream",
     "text": [
      "('2015-01-01', '2016-01-01')\n"
     ]
    }
   ],
   "source": [
    "######### Vietnam - Buan Tua Srah Lake ################## \n",
    "longitude_extents = (108.02, 108.15)\n",
    "latitude_extents  = (12.18 , 12.30)\n",
    "\n",
    "time_extents = ('2015-01-01', '2016-01-01')\n",
    "print ( time_extents )"
   ]
  },
  {
   "cell_type": "code",
   "execution_count": 6,
   "metadata": {},
   "outputs": [
    {
     "data": {
      "text/html": [
       "<div style=\"width:100%;\"><div style=\"position:relative;width:100%;height:0;padding-bottom:60%;\"><iframe src=\"data:text/html;charset=utf-8;base64,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\" style=\"position:absolute;width:100%;height:100%;left:0;top:0;border:none !important;\" allowfullscreen webkitallowfullscreen mozallowfullscreen></iframe></div></div>"
      ],
      "text/plain": [
       "<folium.folium.Map at 0x7fc1ac5f7198>"
      ]
     },
     "execution_count": 6,
     "metadata": {},
     "output_type": "execute_result"
    }
   ],
   "source": [
    "from utils.data_cube_utilities.dc_display_map import display_map\n",
    "\n",
    "display_map(latitude = latitude_extents, longitude = longitude_extents)"
   ]
  },
  {
   "cell_type": "code",
   "execution_count": 7,
   "metadata": {},
   "outputs": [],
   "source": [
    "landsat_dataset = dc.load(latitude = latitude_extents,\n",
    "                          longitude = longitude_extents,\n",
    "                          platform = platform,\n",
    "                          time = time_extents,\n",
    "                          product = product,\n",
    "                          measurements = ['red', 'green', 'blue', 'nir', 'swir1', 'swir2', 'pixel_qa']) "
   ]
  },
  {
   "cell_type": "code",
   "execution_count": 8,
   "metadata": {},
   "outputs": [
    {
     "data": {
      "text/plain": [
       "<xarray.Dataset>\n",
       "Dimensions:    (latitude: 446, longitude: 483, time: 19)\n",
       "Coordinates:\n",
       "  * time       (time) datetime64[ns] 2015-01-09T03:06:13 ... 2015-12-27T03:08:59\n",
       "  * latitude   (latitude) float64 12.3 12.3 12.3 12.3 ... 12.18 12.18 12.18\n",
       "  * longitude  (longitude) float64 108.0 108.0 108.0 108.0 ... 108.1 108.1 108.1\n",
       "Data variables:\n",
       "    red        (time, latitude, longitude) int16 912 1008 1125 ... 614 464 427\n",
       "    green      (time, latitude, longitude) int16 674 779 842 863 ... 508 487 467\n",
       "    blue       (time, latitude, longitude) int16 493 473 574 554 ... 390 293 312\n",
       "    nir        (time, latitude, longitude) int16 2500 2544 2587 ... 2772 2731\n",
       "    swir1      (time, latitude, longitude) int16 2740 3002 3054 ... 2095 1993\n",
       "    swir2      (time, latitude, longitude) int16 1678 1982 2037 ... 1099 991\n",
       "    pixel_qa   (time, latitude, longitude) int32 66 66 66 66 66 ... 66 66 66 66\n",
       "Attributes:\n",
       "    crs:      EPSG:4326"
      ]
     },
     "execution_count": 8,
     "metadata": {},
     "output_type": "execute_result"
    }
   ],
   "source": [
    "landsat_dataset"
   ]
  },
  {
   "cell_type": "markdown",
   "metadata": {},
   "source": [
    "# Derive Several Products"
   ]
  },
  {
   "cell_type": "markdown",
   "metadata": {},
   "source": [
    ">### Unpack pixel_qa"
   ]
  },
  {
   "cell_type": "code",
   "execution_count": 9,
   "metadata": {},
   "outputs": [],
   "source": [
    "import xarray as xr  \n",
    "import numpy as np\n",
    "\n",
    "def ls7_unpack_qa( data_array , cover_type):  \n",
    "    \n",
    "    land_cover_endcoding = dict( fill     =  [1], \n",
    "                                 clear    =  [66,  130], \n",
    "                                 water    =  [68,  132],\n",
    "                                 shadow   =  [72,  136],\n",
    "                                 snow     =  [80,  112, 144, 176],\n",
    "                                 cloud    =  [96,  112, 160, 176, 224],\n",
    "                                 low_conf =  [66,  68,  72,  80,  96,  112],\n",
    "                                 med_conf =  [130, 132, 136, 144, 160, 176],\n",
    "                                 high_conf=  [224]\n",
    "                               ) \n",
    "    boolean_mask = np.isin(data_array.values, land_cover_endcoding[cover_type]) \n",
    "    return xr.DataArray(boolean_mask.astype(int),\n",
    "                        coords = data_array.coords,\n",
    "                        dims = data_array.dims,\n",
    "                        name = cover_type + \"_mask\",\n",
    "                        attrs = data_array.attrs)  "
   ]
  },
  {
   "cell_type": "code",
   "execution_count": 10,
   "metadata": {},
   "outputs": [],
   "source": [
    "clear_xarray  = ls7_unpack_qa(landsat_dataset.pixel_qa, \"clear\")  \n",
    "water_xarray  = ls7_unpack_qa(landsat_dataset.pixel_qa, \"water\")\n",
    "\n",
    "shadow_xarray = ls7_unpack_qa(landsat_dataset.pixel_qa, \"shadow\")  "
   ]
  },
  {
   "cell_type": "code",
   "execution_count": 11,
   "metadata": {},
   "outputs": [],
   "source": [
    "clean_xarray = xr.ufuncs.logical_or(clear_xarray , water_xarray).astype(np.int8).rename(\"clean_mask\")\n",
    "\n",
    "clean_mask = np.logical_or(clear_xarray.values.astype(bool),\n",
    "                           water_xarray.values.astype(bool)) "
   ]
  },
  {
   "cell_type": "markdown",
   "metadata": {},
   "source": [
    "> ### Water"
   ]
  },
  {
   "cell_type": "code",
   "execution_count": 12,
   "metadata": {},
   "outputs": [
    {
     "name": "stderr",
     "output_type": "stream",
     "text": [
      "/home/localuser/Datacube/data_cube_notebooks/utils/data_cube_utilities/dc_water_classifier.py:117: RuntimeWarning: divide by zero encountered in true_divide\n",
      "  return (a - b) / (a + b)\n"
     ]
    }
   ],
   "source": [
    "from utils.data_cube_utilities.dc_water_classifier import wofs_classify\n",
    "\n",
    "water_classification = wofs_classify(landsat_dataset,\n",
    "                                     clean_mask = clean_mask, \n",
    "                                     mosaic = False) "
   ]
  },
  {
   "cell_type": "code",
   "execution_count": 13,
   "metadata": {},
   "outputs": [],
   "source": [
    "wofs_xarray = water_classification.wofs"
   ]
  },
  {
   "cell_type": "markdown",
   "metadata": {},
   "source": [
    "> ###  Normalized Indices  "
   ]
  },
  {
   "cell_type": "code",
   "execution_count": 14,
   "metadata": {},
   "outputs": [],
   "source": [
    "def NDVI(dataset):\n",
    "    return ((dataset.nir - dataset.red)/(dataset.nir + dataset.red)).rename(\"NDVI\")"
   ]
  },
  {
   "cell_type": "code",
   "execution_count": 15,
   "metadata": {},
   "outputs": [],
   "source": [
    "def NDWI(dataset):\n",
    "    return ((dataset.green - dataset.nir)/(dataset.green + dataset.nir)).rename(\"NDWI\")"
   ]
  },
  {
   "cell_type": "code",
   "execution_count": 16,
   "metadata": {},
   "outputs": [],
   "source": [
    "def NDBI(dataset):\n",
    "        return ((dataset.swir2 - dataset.nir)/(dataset.swir2 + dataset.nir)).rename(\"NDBI\")"
   ]
  },
  {
   "cell_type": "code",
   "execution_count": 17,
   "metadata": {},
   "outputs": [],
   "source": [
    "ndbi_xarray = NDBI(landsat_dataset)  # Urbanization - Reds\n",
    "ndvi_xarray = NDVI(landsat_dataset)  # Dense Vegetation - Greens\n",
    "ndwi_xarray = NDWI(landsat_dataset)  # High Concentrations of Water - Blues  "
   ]
  },
  {
   "cell_type": "markdown",
   "metadata": {},
   "source": [
    ">### TSM  "
   ]
  },
  {
   "cell_type": "code",
   "execution_count": 18,
   "metadata": {},
   "outputs": [],
   "source": [
    "from utils.data_cube_utilities.dc_water_quality import tsm\n",
    "\n",
    "tsm_xarray = tsm(landsat_dataset, clean_mask = wofs_xarray.values.astype(bool) ).tsm"
   ]
  },
  {
   "cell_type": "markdown",
   "metadata": {},
   "source": [
    "> ### EVI  "
   ]
  },
  {
   "cell_type": "code",
   "execution_count": 19,
   "metadata": {},
   "outputs": [],
   "source": [
    "def EVI(dataset, c1 = None, c2 = None, L = None):\n",
    "        return ((dataset.nir - dataset.red)/((dataset.nir  + (c1 * dataset.red) - (c2 *dataset.blue) + L))).rename(\"EVI\")"
   ]
  },
  {
   "cell_type": "code",
   "execution_count": 20,
   "metadata": {},
   "outputs": [],
   "source": [
    "evi_xarray = EVI(landsat_dataset, c1 = 6, c2 = 7.5, L = 1 )"
   ]
  },
  {
   "cell_type": "markdown",
   "metadata": {},
   "source": [
    "# Combine Everything  "
   ]
  },
  {
   "cell_type": "code",
   "execution_count": 21,
   "metadata": {},
   "outputs": [
    {
     "data": {
      "text/plain": [
       "<xarray.Dataset>\n",
       "Dimensions:      (latitude: 446, longitude: 483, time: 19)\n",
       "Coordinates:\n",
       "  * time         (time) datetime64[ns] 2015-01-09T03:06:13 ... 2015-12-27T03:08:59\n",
       "  * latitude     (latitude) float64 12.3 12.3 12.3 12.3 ... 12.18 12.18 12.18\n",
       "  * longitude    (longitude) float64 108.0 108.0 108.0 ... 108.1 108.1 108.1\n",
       "Data variables:\n",
       "    red          (time, latitude, longitude) float32 912.0 1008.0 ... 427.0\n",
       "    green        (time, latitude, longitude) float32 674.0 779.0 ... 487.0 467.0\n",
       "    blue         (time, latitude, longitude) float32 493.0 473.0 ... 293.0 312.0\n",
       "    nir          (time, latitude, longitude) float32 2500.0 2544.0 ... 2731.0\n",
       "    swir1        (time, latitude, longitude) float32 2740.0 3002.0 ... 1993.0\n",
       "    swir2        (time, latitude, longitude) float32 1678.0 1982.0 ... 991.0\n",
       "    pixel_qa     (time, latitude, longitude) int32 66 66 66 66 ... 66 66 66 66\n",
       "    clean_mask   (time, latitude, longitude) int8 1 1 1 1 1 1 1 ... 1 1 1 1 1 1\n",
       "    clear_mask   (time, latitude, longitude) int64 1 1 1 1 1 1 1 ... 1 1 1 1 1 1\n",
       "    water_mask   (time, latitude, longitude) int64 0 0 0 0 0 0 0 ... 0 0 0 0 0 0\n",
       "    shadow_mask  (time, latitude, longitude) int64 0 0 0 0 0 0 0 ... 0 0 0 0 0 0\n",
       "    EVI          (time, latitude, longitude) float32 0.37141854 ... 0.7799594\n",
       "    NDBI         (time, latitude, longitude) float32 -0.19674486 ... -0.46749058\n",
       "    NDVI         (time, latitude, longitude) float32 0.4654162 ... 0.7295757\n",
       "    NDWI         (time, latitude, longitude) float32 -0.5752993 ... -0.7079425\n",
       "    wofs         (time, latitude, longitude) float64 0.0 0.0 0.0 ... 0.0 0.0 0.0\n",
       "    tsm          (time, latitude, longitude) float64 0.0 0.0 0.0 ... 0.0 0.0 0.0\n",
       "Attributes:\n",
       "    crs:      EPSG:4326"
      ]
     },
     "execution_count": 21,
     "metadata": {},
     "output_type": "execute_result"
    }
   ],
   "source": [
    "combined_dataset = xr.merge([landsat_dataset,\n",
    "          clean_xarray,\n",
    "          clear_xarray,\n",
    "          water_xarray,\n",
    "          shadow_xarray,\n",
    "          evi_xarray,\n",
    "          ndbi_xarray,\n",
    "          ndvi_xarray,\n",
    "          ndwi_xarray,\n",
    "          wofs_xarray,\n",
    "          tsm_xarray])\n",
    "\n",
    "# Copy original crs to merged dataset \n",
    "combined_dataset = combined_dataset.assign_attrs(landsat_dataset.attrs)\n",
    "\n",
    "combined_dataset"
   ]
  },
  {
   "cell_type": "markdown",
   "metadata": {},
   "source": [
    "# Export Geotiff"
   ]
  },
  {
   "cell_type": "markdown",
   "metadata": {},
   "source": [
    "----  \n",
    "File formatting  "
   ]
  },
  {
   "cell_type": "code",
   "execution_count": 22,
   "metadata": {},
   "outputs": [],
   "source": [
    "import time\n",
    "def time_to_string(t):\n",
    "    return time.strftime(\"%Y_%m_%d_%H_%M_%S\", time.gmtime(t.astype(int)/1000000000))"
   ]
  },
  {
   "cell_type": "markdown",
   "metadata": {},
   "source": [
    "----  \n",
    "Start Export"
   ]
  },
  {
   "cell_type": "code",
   "execution_count": 23,
   "metadata": {},
   "outputs": [],
   "source": [
    "# Ensure the output directory exists before writing to it.\n",
    "!mkdir -p output/geotiffs/landsat7\n",
    "\n",
    "from utils.data_cube_utilities.import_export import export_xarray_to_geotiff\n",
    "export_xarray_to_geotiff(combined_dataset, \"output/geotiffs/landsat7/landsat7\")"
   ]
  },
  {
   "cell_type": "markdown",
   "metadata": {},
   "source": [
    "----  \n",
    "Sanity check using `gdalinfo` to make sure that all of our bands exist    "
   ]
  },
  {
   "cell_type": "code",
   "execution_count": 24,
   "metadata": {},
   "outputs": [
    {
     "name": "stdout",
     "output_type": "stream",
     "text": [
      "Driver: GTiff/GeoTIFF\r\n",
      "Files: output/geotiffs/landsat7/landsat7_2015_01_09_03_06_13.tif\r\n",
      "Size is 483, 446\r\n",
      "Coordinate System is `'\r\n",
      "Origin = (108.020032379927088,12.299867617463660)\r\n",
      "Pixel Size = (0.000268936625432,-0.000268890337287)\r\n",
      "Image Structure Metadata:\r\n",
      "  INTERLEAVE=PIXEL\r\n",
      "Corner Coordinates:\r\n",
      "Upper Left  ( 108.0200324,  12.2998676) \r\n",
      "Lower Left  ( 108.0200324,  12.1799425) \r\n",
      "Upper Right ( 108.1499288,  12.2998676) \r\n",
      "Lower Right ( 108.1499288,  12.1799425) \r\n",
      "Center      ( 108.0849806,  12.2399051) \r\n",
      "Band 1 Block=483x1 Type=Float32, ColorInterp=Gray\r\n",
      "  NoData Value=-9999\r\n",
      "Band 2 Block=483x1 Type=Float32, ColorInterp=Undefined\r\n",
      "  NoData Value=-9999\r\n",
      "Band 3 Block=483x1 Type=Float32, ColorInterp=Undefined\r\n",
      "  NoData Value=-9999\r\n",
      "Band 4 Block=483x1 Type=Float32, ColorInterp=Undefined\r\n",
      "  NoData Value=-9999\r\n",
      "Band 5 Block=483x1 Type=Float32, ColorInterp=Undefined\r\n",
      "  NoData Value=-9999\r\n",
      "Band 6 Block=483x1 Type=Float32, ColorInterp=Undefined\r\n",
      "  NoData Value=-9999\r\n",
      "Band 7 Block=483x1 Type=Float32, ColorInterp=Undefined\r\n",
      "  NoData Value=-9999\r\n",
      "Band 8 Block=483x1 Type=Float32, ColorInterp=Undefined\r\n",
      "  NoData Value=-9999\r\n",
      "Band 9 Block=483x1 Type=Float32, ColorInterp=Undefined\r\n",
      "  NoData Value=-9999\r\n",
      "Band 10 Block=483x1 Type=Float32, ColorInterp=Undefined\r\n",
      "  NoData Value=-9999\r\n",
      "Band 11 Block=483x1 Type=Float32, ColorInterp=Undefined\r\n",
      "  NoData Value=-9999\r\n",
      "Band 12 Block=483x1 Type=Float32, ColorInterp=Undefined\r\n",
      "  NoData Value=-9999\r\n",
      "Band 13 Block=483x1 Type=Float32, ColorInterp=Undefined\r\n",
      "  NoData Value=-9999\r\n",
      "Band 14 Block=483x1 Type=Float32, ColorInterp=Undefined\r\n",
      "  NoData Value=-9999\r\n",
      "Band 15 Block=483x1 Type=Float32, ColorInterp=Undefined\r\n",
      "  NoData Value=-9999\r\n",
      "Band 16 Block=483x1 Type=Float32, ColorInterp=Undefined\r\n",
      "  NoData Value=-9999\r\n",
      "Band 17 Block=483x1 Type=Float32, ColorInterp=Undefined\r\n",
      "  NoData Value=-9999\r\n"
     ]
    }
   ],
   "source": [
    "!gdalinfo output/geotiffs/landsat7/landsat7_2015_01_09_03_06_13.tif"
   ]
  },
  {
   "cell_type": "markdown",
   "metadata": {},
   "source": [
    "----  \n",
    "Check to see what files exist in `geotiffs`"
   ]
  },
  {
   "cell_type": "code",
   "execution_count": 25,
   "metadata": {},
   "outputs": [
    {
     "name": "stdout",
     "output_type": "stream",
     "text": [
      "-rw-rw-r-- 1 localuser localuser 14M Nov  2 20:02 output/geotiffs/landsat7/landsat7_2015_01_09_03_06_13.tif\r\n",
      "-rw-rw-r-- 1 localuser localuser 14M Nov  2 20:02 output/geotiffs/landsat7/landsat7_2015_01_25_03_06_16.tif\r\n",
      "-rw-rw-r-- 1 localuser localuser 14M Nov  2 20:02 output/geotiffs/landsat7/landsat7_2015_02_10_03_06_21.tif\r\n",
      "-rw-rw-r-- 1 localuser localuser 14M Nov  2 20:02 output/geotiffs/landsat7/landsat7_2015_02_26_03_06_30.tif\r\n",
      "-rw-rw-r-- 1 localuser localuser 14M Nov  2 20:02 output/geotiffs/landsat7/landsat7_2015_03_14_03_06_36.tif\r\n",
      "-rw-rw-r-- 1 localuser localuser 14M Nov  2 20:02 output/geotiffs/landsat7/landsat7_2015_03_30_03_06_43.tif\r\n",
      "-rw-rw-r-- 1 localuser localuser 14M Nov  2 20:02 output/geotiffs/landsat7/landsat7_2015_04_15_03_06_52.tif\r\n",
      "-rw-rw-r-- 1 localuser localuser 14M Nov  2 20:02 output/geotiffs/landsat7/landsat7_2015_05_01_03_06_58.tif\r\n",
      "-rw-rw-r-- 1 localuser localuser 14M Nov  2 20:02 output/geotiffs/landsat7/landsat7_2015_05_17_03_07_06.tif\r\n",
      "-rw-rw-r-- 1 localuser localuser 14M Nov  2 20:02 output/geotiffs/landsat7/landsat7_2015_06_02_03_07_11.tif\r\n",
      "-rw-rw-r-- 1 localuser localuser 14M Nov  2 20:02 output/geotiffs/landsat7/landsat7_2015_08_05_03_07_28.tif\r\n",
      "-rw-rw-r-- 1 localuser localuser 14M Nov  2 20:02 output/geotiffs/landsat7/landsat7_2015_08_21_03_07_30.tif\r\n",
      "-rw-rw-r-- 1 localuser localuser 14M Nov  2 20:02 output/geotiffs/landsat7/landsat7_2015_09_06_03_07_32.tif\r\n",
      "-rw-rw-r-- 1 localuser localuser 14M Nov  2 20:02 output/geotiffs/landsat7/landsat7_2015_10_08_03_07_43.tif\r\n",
      "-rw-rw-r-- 1 localuser localuser 14M Nov  2 20:02 output/geotiffs/landsat7/landsat7_2015_10_24_03_08_01.tif\r\n",
      "-rw-rw-r-- 1 localuser localuser 14M Nov  2 20:02 output/geotiffs/landsat7/landsat7_2015_11_09_03_08_15.tif\r\n",
      "-rw-rw-r-- 1 localuser localuser 14M Nov  2 20:02 output/geotiffs/landsat7/landsat7_2015_11_25_03_08_31.tif\r\n",
      "-rw-rw-r-- 1 localuser localuser 14M Nov  2 20:02 output/geotiffs/landsat7/landsat7_2015_12_11_03_08_46.tif\r\n",
      "-rw-rw-r-- 1 localuser localuser 14M Nov  2 20:02 output/geotiffs/landsat7/landsat7_2015_12_27_03_08_59.tif\r\n"
     ]
    }
   ],
   "source": [
    "!ls -lah output/geotiffs/landsat7/*.tif"
   ]
  },
  {
   "cell_type": "markdown",
   "metadata": {},
   "source": [
    "----  \n",
    "Zip all geotiffs  "
   ]
  },
  {
   "cell_type": "code",
   "execution_count": 26,
   "metadata": {},
   "outputs": [
    {
     "name": "stdout",
     "output_type": "stream",
     "text": [
      "output/geotiffs/landsat7/landsat7_2015_01_09_03_06_13.tif\n",
      "output/geotiffs/landsat7/landsat7_2015_01_25_03_06_16.tif\n",
      "output/geotiffs/landsat7/landsat7_2015_02_10_03_06_21.tif\n",
      "output/geotiffs/landsat7/landsat7_2015_02_26_03_06_30.tif\n",
      "output/geotiffs/landsat7/landsat7_2015_03_14_03_06_36.tif\n",
      "output/geotiffs/landsat7/landsat7_2015_03_30_03_06_43.tif\n",
      "output/geotiffs/landsat7/landsat7_2015_04_15_03_06_52.tif\n",
      "output/geotiffs/landsat7/landsat7_2015_05_01_03_06_58.tif\n",
      "output/geotiffs/landsat7/landsat7_2015_05_17_03_07_06.tif\n",
      "output/geotiffs/landsat7/landsat7_2015_06_02_03_07_11.tif\n",
      "output/geotiffs/landsat7/landsat7_2015_08_05_03_07_28.tif\n",
      "output/geotiffs/landsat7/landsat7_2015_08_21_03_07_30.tif\n",
      "output/geotiffs/landsat7/landsat7_2015_09_06_03_07_32.tif\n",
      "output/geotiffs/landsat7/landsat7_2015_10_08_03_07_43.tif\n",
      "output/geotiffs/landsat7/landsat7_2015_10_24_03_08_01.tif\n",
      "output/geotiffs/landsat7/landsat7_2015_11_09_03_08_15.tif\n",
      "output/geotiffs/landsat7/landsat7_2015_11_25_03_08_31.tif\n",
      "output/geotiffs/landsat7/landsat7_2015_12_11_03_08_46.tif\n",
      "output/geotiffs/landsat7/landsat7_2015_12_27_03_08_59.tif\n"
     ]
    }
   ],
   "source": [
    "!tar -cvzf output/geotiffs/landsat7/landsat_7.tar.gz output/geotiffs/landsat7/*.tif"
   ]
  },
  {
   "cell_type": "markdown",
   "metadata": {},
   "source": [
    "----  \n",
    "List files again to see the size of the gif created"
   ]
  },
  {
   "cell_type": "code",
   "execution_count": 29,
   "metadata": {},
   "outputs": [
    {
     "name": "stdout",
     "output_type": "stream",
     "text": [
      "-rw-rw-r-- 1 localuser localuser 14M Nov  2 20:02 output/geotiffs/landsat7/landsat7_2015_01_09_03_06_13.tif\r\n",
      "-rw-rw-r-- 1 localuser localuser 14M Nov  2 20:02 output/geotiffs/landsat7/landsat7_2015_01_25_03_06_16.tif\r\n",
      "-rw-rw-r-- 1 localuser localuser 14M Nov  2 20:02 output/geotiffs/landsat7/landsat7_2015_02_10_03_06_21.tif\r\n",
      "-rw-rw-r-- 1 localuser localuser 14M Nov  2 20:02 output/geotiffs/landsat7/landsat7_2015_02_26_03_06_30.tif\r\n",
      "-rw-rw-r-- 1 localuser localuser 14M Nov  2 20:02 output/geotiffs/landsat7/landsat7_2015_03_14_03_06_36.tif\r\n",
      "-rw-rw-r-- 1 localuser localuser 14M Nov  2 20:02 output/geotiffs/landsat7/landsat7_2015_03_30_03_06_43.tif\r\n",
      "-rw-rw-r-- 1 localuser localuser 14M Nov  2 20:02 output/geotiffs/landsat7/landsat7_2015_04_15_03_06_52.tif\r\n",
      "-rw-rw-r-- 1 localuser localuser 14M Nov  2 20:02 output/geotiffs/landsat7/landsat7_2015_05_01_03_06_58.tif\r\n",
      "-rw-rw-r-- 1 localuser localuser 14M Nov  2 20:02 output/geotiffs/landsat7/landsat7_2015_05_17_03_07_06.tif\r\n",
      "-rw-rw-r-- 1 localuser localuser 14M Nov  2 20:02 output/geotiffs/landsat7/landsat7_2015_06_02_03_07_11.tif\r\n",
      "-rw-rw-r-- 1 localuser localuser 14M Nov  2 20:02 output/geotiffs/landsat7/landsat7_2015_08_05_03_07_28.tif\r\n",
      "-rw-rw-r-- 1 localuser localuser 14M Nov  2 20:02 output/geotiffs/landsat7/landsat7_2015_08_21_03_07_30.tif\r\n",
      "-rw-rw-r-- 1 localuser localuser 14M Nov  2 20:02 output/geotiffs/landsat7/landsat7_2015_09_06_03_07_32.tif\r\n",
      "-rw-rw-r-- 1 localuser localuser 14M Nov  2 20:02 output/geotiffs/landsat7/landsat7_2015_10_08_03_07_43.tif\r\n",
      "-rw-rw-r-- 1 localuser localuser 14M Nov  2 20:02 output/geotiffs/landsat7/landsat7_2015_10_24_03_08_01.tif\r\n",
      "-rw-rw-r-- 1 localuser localuser 14M Nov  2 20:02 output/geotiffs/landsat7/landsat7_2015_11_09_03_08_15.tif\r\n",
      "-rw-rw-r-- 1 localuser localuser 14M Nov  2 20:02 output/geotiffs/landsat7/landsat7_2015_11_25_03_08_31.tif\r\n",
      "-rw-rw-r-- 1 localuser localuser 14M Nov  2 20:02 output/geotiffs/landsat7/landsat7_2015_12_11_03_08_46.tif\r\n",
      "-rw-rw-r-- 1 localuser localuser 14M Nov  2 20:02 output/geotiffs/landsat7/landsat7_2015_12_27_03_08_59.tif\r\n"
     ]
    }
   ],
   "source": [
    "!ls -lah output/geotiffs/landsat7/*.tif"
   ]
  },
  {
   "cell_type": "code",
   "execution_count": 28,
   "metadata": {},
   "outputs": [
    {
     "name": "stdout",
     "output_type": "stream",
     "text": [
      "Driver: GTiff/GeoTIFF\r\n",
      "Files: output/geotiffs/landsat7/landsat7_2015_08_05_03_07_28.tif\r\n",
      "Size is 483, 446\r\n",
      "Coordinate System is `'\r\n",
      "Origin = (108.020032379927088,12.299867617463660)\r\n",
      "Pixel Size = (0.000268936625432,-0.000268890337287)\r\n",
      "Image Structure Metadata:\r\n",
      "  INTERLEAVE=PIXEL\r\n",
      "Corner Coordinates:\r\n",
      "Upper Left  ( 108.0200324,  12.2998676) \r\n",
      "Lower Left  ( 108.0200324,  12.1799425) \r\n",
      "Upper Right ( 108.1499288,  12.2998676) \r\n",
      "Lower Right ( 108.1499288,  12.1799425) \r\n",
      "Center      ( 108.0849806,  12.2399051) \r\n",
      "Band 1 Block=483x1 Type=Float32, ColorInterp=Gray\r\n",
      "  NoData Value=-9999\r\n",
      "Band 2 Block=483x1 Type=Float32, ColorInterp=Undefined\r\n",
      "  NoData Value=-9999\r\n",
      "Band 3 Block=483x1 Type=Float32, ColorInterp=Undefined\r\n",
      "  NoData Value=-9999\r\n",
      "Band 4 Block=483x1 Type=Float32, ColorInterp=Undefined\r\n",
      "  NoData Value=-9999\r\n",
      "Band 5 Block=483x1 Type=Float32, ColorInterp=Undefined\r\n",
      "  NoData Value=-9999\r\n",
      "Band 6 Block=483x1 Type=Float32, ColorInterp=Undefined\r\n",
      "  NoData Value=-9999\r\n",
      "Band 7 Block=483x1 Type=Float32, ColorInterp=Undefined\r\n",
      "  NoData Value=-9999\r\n",
      "Band 8 Block=483x1 Type=Float32, ColorInterp=Undefined\r\n",
      "  NoData Value=-9999\r\n",
      "Band 9 Block=483x1 Type=Float32, ColorInterp=Undefined\r\n",
      "  NoData Value=-9999\r\n",
      "Band 10 Block=483x1 Type=Float32, ColorInterp=Undefined\r\n",
      "  NoData Value=-9999\r\n",
      "Band 11 Block=483x1 Type=Float32, ColorInterp=Undefined\r\n",
      "  NoData Value=-9999\r\n",
      "Band 12 Block=483x1 Type=Float32, ColorInterp=Undefined\r\n",
      "  NoData Value=-9999\r\n",
      "Band 13 Block=483x1 Type=Float32, ColorInterp=Undefined\r\n",
      "  NoData Value=-9999\r\n",
      "Band 14 Block=483x1 Type=Float32, ColorInterp=Undefined\r\n",
      "  NoData Value=-9999\r\n",
      "Band 15 Block=483x1 Type=Float32, ColorInterp=Undefined\r\n",
      "  NoData Value=-9999\r\n",
      "Band 16 Block=483x1 Type=Float32, ColorInterp=Undefined\r\n",
      "  NoData Value=-9999\r\n",
      "Band 17 Block=483x1 Type=Float32, ColorInterp=Undefined\r\n",
      "  NoData Value=-9999\r\n"
     ]
    }
   ],
   "source": [
    "!gdalinfo output/geotiffs/landsat7/landsat7_2015_08_05_03_07_28.tif"
   ]
  }
 ],
 "metadata": {
  "kernelspec": {
   "display_name": "Python 3",
   "language": "python",
   "name": "python3"
  },
  "language_info": {
   "codemirror_mode": {
    "name": "ipython",
    "version": 3
   },
   "file_extension": ".py",
   "mimetype": "text/x-python",
   "name": "python",
   "nbconvert_exporter": "python",
   "pygments_lexer": "ipython3",
   "version": "3.6.6"
  }
 },
 "nbformat": 4,
 "nbformat_minor": 2
}
