{
 "cells": [
  {
   "cell_type": "markdown",
   "metadata": {},
   "source": [
    "# Exporting to NetCDF format  \n",
    "\n",
    "> **Description**  \n",
    "> The code in this notebook subsets a data cube, selects a specific set of variables, and then outputs that data into a netCDF or GeoTIFF file. The goal is to be able to do external analyses of this data using other data analysis tools or GIS tools. The files would be reasonable in size, since we would restrict the region and parameters in the output."
   ]
  },
  {
   "cell_type": "markdown",
   "metadata": {},
   "source": [
    "----  \n",
    "\n",
    "# Boiler Plate, Loading Data"
   ]
  },
  {
   "cell_type": "markdown",
   "metadata": {},
   "source": [
    "> ### Import the Datacube"
   ]
  },
  {
   "cell_type": "code",
   "execution_count": 1,
   "metadata": {},
   "outputs": [
    {
     "name": "stderr",
     "output_type": "stream",
     "text": [
      "/home/localuser/Datacube/datacube_env/lib/python3.6/site-packages/psycopg2-2.7.5-py3.6-linux-x86_64.egg/psycopg2/__init__.py:144: UserWarning: The psycopg2 wheel package will be renamed from release 2.8; in order to keep installing from binary please use \"pip install psycopg2-binary\" instead. For details see: <http://initd.org/psycopg/docs/install.html#binary-install-from-pypi>.\n",
      "  \"\"\")\n"
     ]
    }
   ],
   "source": [
    "import datacube\n",
    "dc = datacube.Datacube(app = 'my_app', config = '/home/localuser/.datacube.conf')"
   ]
  },
  {
   "cell_type": "markdown",
   "metadata": {},
   "source": [
    ">### Browse the available Data Cubes on the storage platform    \n",
    "> You might want to learn more about what data is stored and how it is stored.\n"
   ]
  },
  {
   "cell_type": "code",
   "execution_count": 2,
   "metadata": {},
   "outputs": [
    {
     "data": {
      "text/html": [
       "<div>\n",
       "<style scoped>\n",
       "    .dataframe tbody tr th:only-of-type {\n",
       "        vertical-align: middle;\n",
       "    }\n",
       "\n",
       "    .dataframe tbody tr th {\n",
       "        vertical-align: top;\n",
       "    }\n",
       "\n",
       "    .dataframe thead th {\n",
       "        text-align: right;\n",
       "    }\n",
       "</style>\n",
       "<table border=\"1\" class=\"dataframe\">\n",
       "  <thead>\n",
       "    <tr style=\"text-align: right;\">\n",
       "      <th></th>\n",
       "      <th>name</th>\n",
       "      <th>description</th>\n",
       "      <th>platform</th>\n",
       "      <th>creation_time</th>\n",
       "      <th>lon</th>\n",
       "      <th>lat</th>\n",
       "      <th>label</th>\n",
       "      <th>instrument</th>\n",
       "      <th>product_type</th>\n",
       "      <th>time</th>\n",
       "      <th>format</th>\n",
       "      <th>crs</th>\n",
       "      <th>resolution</th>\n",
       "      <th>tile_size</th>\n",
       "      <th>spatial_dimensions</th>\n",
       "    </tr>\n",
       "    <tr>\n",
       "      <th>id</th>\n",
       "      <th></th>\n",
       "      <th></th>\n",
       "      <th></th>\n",
       "      <th></th>\n",
       "      <th></th>\n",
       "      <th></th>\n",
       "      <th></th>\n",
       "      <th></th>\n",
       "      <th></th>\n",
       "      <th></th>\n",
       "      <th></th>\n",
       "      <th></th>\n",
       "      <th></th>\n",
       "      <th></th>\n",
       "      <th></th>\n",
       "    </tr>\n",
       "  </thead>\n",
       "  <tbody>\n",
       "    <tr>\n",
       "      <th>13</th>\n",
       "      <td>ls7_ledaps_ghana</td>\n",
       "      <td>Landsat 7 USGS Collection 1 Higher Level SR sc...</td>\n",
       "      <td>LANDSAT_7</td>\n",
       "      <td>None</td>\n",
       "      <td>None</td>\n",
       "      <td>None</td>\n",
       "      <td>None</td>\n",
       "      <td>ETM</td>\n",
       "      <td>LEDAPS</td>\n",
       "      <td>None</td>\n",
       "      <td>NetCDF</td>\n",
       "      <td>EPSG:4326</td>\n",
       "      <td>(-0.000269494585236, 0.000269494585236)</td>\n",
       "      <td>(0.943231048326, 0.943231048326)</td>\n",
       "      <td>(latitude, longitude)</td>\n",
       "    </tr>\n",
       "    <tr>\n",
       "      <th>17</th>\n",
       "      <td>ls7_ledaps_kenya</td>\n",
       "      <td>Landsat 7 USGS Collection 1 Higher Level SR sc...</td>\n",
       "      <td>LANDSAT_7</td>\n",
       "      <td>None</td>\n",
       "      <td>None</td>\n",
       "      <td>None</td>\n",
       "      <td>None</td>\n",
       "      <td>ETM</td>\n",
       "      <td>LEDAPS</td>\n",
       "      <td>None</td>\n",
       "      <td>NetCDF</td>\n",
       "      <td>EPSG:4326</td>\n",
       "      <td>(-0.000269493, 0.000269493)</td>\n",
       "      <td>(0.99981903, 0.99981903)</td>\n",
       "      <td>(latitude, longitude)</td>\n",
       "    </tr>\n",
       "    <tr>\n",
       "      <th>18</th>\n",
       "      <td>ls7_ledaps_senegal</td>\n",
       "      <td>Landsat 7 USGS Collection 1 Higher Level SR sc...</td>\n",
       "      <td>LANDSAT_7</td>\n",
       "      <td>None</td>\n",
       "      <td>None</td>\n",
       "      <td>None</td>\n",
       "      <td>None</td>\n",
       "      <td>ETM</td>\n",
       "      <td>LEDAPS</td>\n",
       "      <td>None</td>\n",
       "      <td>NetCDF</td>\n",
       "      <td>EPSG:4326</td>\n",
       "      <td>(-0.000271152, 0.00027769)</td>\n",
       "      <td>(0.813456, 0.83307)</td>\n",
       "      <td>(latitude, longitude)</td>\n",
       "    </tr>\n",
       "    <tr>\n",
       "      <th>16</th>\n",
       "      <td>ls7_ledaps_sierra_leone</td>\n",
       "      <td>Landsat 7 USGS Collection 1 Higher Level SR sc...</td>\n",
       "      <td>LANDSAT_7</td>\n",
       "      <td>None</td>\n",
       "      <td>None</td>\n",
       "      <td>None</td>\n",
       "      <td>None</td>\n",
       "      <td>ETM</td>\n",
       "      <td>LEDAPS</td>\n",
       "      <td>None</td>\n",
       "      <td>NetCDF</td>\n",
       "      <td>EPSG:4326</td>\n",
       "      <td>(-0.000269494585236, 0.000269494585236)</td>\n",
       "      <td>(0.943231048326, 0.943231048326)</td>\n",
       "      <td>(latitude, longitude)</td>\n",
       "    </tr>\n",
       "    <tr>\n",
       "      <th>19</th>\n",
       "      <td>ls7_ledaps_tanzania</td>\n",
       "      <td>Landsat 7 USGS Collection 1 Higher Level SR sc...</td>\n",
       "      <td>LANDSAT_7</td>\n",
       "      <td>None</td>\n",
       "      <td>None</td>\n",
       "      <td>None</td>\n",
       "      <td>None</td>\n",
       "      <td>ETM</td>\n",
       "      <td>LEDAPS</td>\n",
       "      <td>None</td>\n",
       "      <td>NetCDF</td>\n",
       "      <td>EPSG:4326</td>\n",
       "      <td>(-0.000271277688070265, 0.000271139577954979)</td>\n",
       "      <td>(0.999929558226998, 0.999962763497961)</td>\n",
       "      <td>(latitude, longitude)</td>\n",
       "    </tr>\n",
       "    <tr>\n",
       "      <th>31</th>\n",
       "      <td>ls7_ledaps_vietnam</td>\n",
       "      <td>Landsat 7 USGS Collection 1 Higher Level SR sc...</td>\n",
       "      <td>LANDSAT_7</td>\n",
       "      <td>None</td>\n",
       "      <td>None</td>\n",
       "      <td>None</td>\n",
       "      <td>None</td>\n",
       "      <td>ETM</td>\n",
       "      <td>LEDAPS</td>\n",
       "      <td>None</td>\n",
       "      <td>NetCDF</td>\n",
       "      <td>EPSG:4326</td>\n",
       "      <td>(-0.000269494585236, 0.000269494585236)</td>\n",
       "      <td>(0.943231048326, 0.943231048326)</td>\n",
       "      <td>(latitude, longitude)</td>\n",
       "    </tr>\n",
       "    <tr>\n",
       "      <th>9</th>\n",
       "      <td>ls8_lasrc_ghana</td>\n",
       "      <td>Landsat 8 USGS Collection 1 Higher Level SR sc...</td>\n",
       "      <td>LANDSAT_8</td>\n",
       "      <td>None</td>\n",
       "      <td>None</td>\n",
       "      <td>None</td>\n",
       "      <td>None</td>\n",
       "      <td>OLI_TIRS</td>\n",
       "      <td>LaSRC</td>\n",
       "      <td>None</td>\n",
       "      <td>NetCDF</td>\n",
       "      <td>EPSG:4326</td>\n",
       "      <td>(-0.000269494585236, 0.000269494585236)</td>\n",
       "      <td>(0.943231048326, 0.943231048326)</td>\n",
       "      <td>(latitude, longitude)</td>\n",
       "    </tr>\n",
       "    <tr>\n",
       "      <th>10</th>\n",
       "      <td>ls8_lasrc_kenya</td>\n",
       "      <td>Landsat 8 USGS Collection 1 Higher Level SR sc...</td>\n",
       "      <td>LANDSAT_8</td>\n",
       "      <td>None</td>\n",
       "      <td>None</td>\n",
       "      <td>None</td>\n",
       "      <td>None</td>\n",
       "      <td>OLI_TIRS</td>\n",
       "      <td>LaSRC</td>\n",
       "      <td>None</td>\n",
       "      <td>NetCDF</td>\n",
       "      <td>EPSG:4326</td>\n",
       "      <td>(-0.000271309115317046, 0.00026957992707863)</td>\n",
       "      <td>(0.999502780827996, 0.999602369607559)</td>\n",
       "      <td>(latitude, longitude)</td>\n",
       "    </tr>\n",
       "    <tr>\n",
       "      <th>11</th>\n",
       "      <td>ls8_lasrc_senegal</td>\n",
       "      <td>Landsat 8 USGS Collection 1 Higher Level SR sc...</td>\n",
       "      <td>LANDSAT_8</td>\n",
       "      <td>None</td>\n",
       "      <td>None</td>\n",
       "      <td>None</td>\n",
       "      <td>None</td>\n",
       "      <td>OLI_TIRS</td>\n",
       "      <td>LaSRC</td>\n",
       "      <td>None</td>\n",
       "      <td>NetCDF</td>\n",
       "      <td>EPSG:4326</td>\n",
       "      <td>(-0.000271152, 0.00027769)</td>\n",
       "      <td>(0.813456, 0.83307)</td>\n",
       "      <td>(latitude, longitude)</td>\n",
       "    </tr>\n",
       "    <tr>\n",
       "      <th>8</th>\n",
       "      <td>ls8_lasrc_sierra_leone</td>\n",
       "      <td>Landsat 8 USGS Collection 1 Higher Level SR sc...</td>\n",
       "      <td>LANDSAT_8</td>\n",
       "      <td>None</td>\n",
       "      <td>None</td>\n",
       "      <td>None</td>\n",
       "      <td>None</td>\n",
       "      <td>OLI_TIRS</td>\n",
       "      <td>LaSRC</td>\n",
       "      <td>None</td>\n",
       "      <td>NetCDF</td>\n",
       "      <td>EPSG:4326</td>\n",
       "      <td>(-0.000269494585236, 0.000269494585236)</td>\n",
       "      <td>(0.943231048326, 0.943231048326)</td>\n",
       "      <td>(latitude, longitude)</td>\n",
       "    </tr>\n",
       "    <tr>\n",
       "      <th>15</th>\n",
       "      <td>ls8_lasrc_tanzania</td>\n",
       "      <td>Landsat 8 USGS Collection 1 Higher Level SR sc...</td>\n",
       "      <td>LANDSAT_8</td>\n",
       "      <td>None</td>\n",
       "      <td>None</td>\n",
       "      <td>None</td>\n",
       "      <td>None</td>\n",
       "      <td>OLI_TIRS</td>\n",
       "      <td>LaSRC</td>\n",
       "      <td>None</td>\n",
       "      <td>NetCDF</td>\n",
       "      <td>EPSG:4326</td>\n",
       "      <td>(-0.000271277688070265, 0.000271139577954979)</td>\n",
       "      <td>(0.999929558226998, 0.999962763497961)</td>\n",
       "      <td>(latitude, longitude)</td>\n",
       "    </tr>\n",
       "  </tbody>\n",
       "</table>\n",
       "</div>"
      ],
      "text/plain": [
       "                       name  \\\n",
       "id                            \n",
       "13         ls7_ledaps_ghana   \n",
       "17         ls7_ledaps_kenya   \n",
       "18       ls7_ledaps_senegal   \n",
       "16  ls7_ledaps_sierra_leone   \n",
       "19      ls7_ledaps_tanzania   \n",
       "31       ls7_ledaps_vietnam   \n",
       "9           ls8_lasrc_ghana   \n",
       "10          ls8_lasrc_kenya   \n",
       "11        ls8_lasrc_senegal   \n",
       "8    ls8_lasrc_sierra_leone   \n",
       "15       ls8_lasrc_tanzania   \n",
       "\n",
       "                                          description   platform  \\\n",
       "id                                                                 \n",
       "13  Landsat 7 USGS Collection 1 Higher Level SR sc...  LANDSAT_7   \n",
       "17  Landsat 7 USGS Collection 1 Higher Level SR sc...  LANDSAT_7   \n",
       "18  Landsat 7 USGS Collection 1 Higher Level SR sc...  LANDSAT_7   \n",
       "16  Landsat 7 USGS Collection 1 Higher Level SR sc...  LANDSAT_7   \n",
       "19  Landsat 7 USGS Collection 1 Higher Level SR sc...  LANDSAT_7   \n",
       "31  Landsat 7 USGS Collection 1 Higher Level SR sc...  LANDSAT_7   \n",
       "9   Landsat 8 USGS Collection 1 Higher Level SR sc...  LANDSAT_8   \n",
       "10  Landsat 8 USGS Collection 1 Higher Level SR sc...  LANDSAT_8   \n",
       "11  Landsat 8 USGS Collection 1 Higher Level SR sc...  LANDSAT_8   \n",
       "8   Landsat 8 USGS Collection 1 Higher Level SR sc...  LANDSAT_8   \n",
       "15  Landsat 8 USGS Collection 1 Higher Level SR sc...  LANDSAT_8   \n",
       "\n",
       "   creation_time   lon   lat label instrument product_type  time  format  \\\n",
       "id                                                                         \n",
       "13          None  None  None  None        ETM       LEDAPS  None  NetCDF   \n",
       "17          None  None  None  None        ETM       LEDAPS  None  NetCDF   \n",
       "18          None  None  None  None        ETM       LEDAPS  None  NetCDF   \n",
       "16          None  None  None  None        ETM       LEDAPS  None  NetCDF   \n",
       "19          None  None  None  None        ETM       LEDAPS  None  NetCDF   \n",
       "31          None  None  None  None        ETM       LEDAPS  None  NetCDF   \n",
       "9           None  None  None  None   OLI_TIRS        LaSRC  None  NetCDF   \n",
       "10          None  None  None  None   OLI_TIRS        LaSRC  None  NetCDF   \n",
       "11          None  None  None  None   OLI_TIRS        LaSRC  None  NetCDF   \n",
       "8           None  None  None  None   OLI_TIRS        LaSRC  None  NetCDF   \n",
       "15          None  None  None  None   OLI_TIRS        LaSRC  None  NetCDF   \n",
       "\n",
       "          crs                                     resolution  \\\n",
       "id                                                             \n",
       "13  EPSG:4326        (-0.000269494585236, 0.000269494585236)   \n",
       "17  EPSG:4326                    (-0.000269493, 0.000269493)   \n",
       "18  EPSG:4326                     (-0.000271152, 0.00027769)   \n",
       "16  EPSG:4326        (-0.000269494585236, 0.000269494585236)   \n",
       "19  EPSG:4326  (-0.000271277688070265, 0.000271139577954979)   \n",
       "31  EPSG:4326        (-0.000269494585236, 0.000269494585236)   \n",
       "9   EPSG:4326        (-0.000269494585236, 0.000269494585236)   \n",
       "10  EPSG:4326   (-0.000271309115317046, 0.00026957992707863)   \n",
       "11  EPSG:4326                     (-0.000271152, 0.00027769)   \n",
       "8   EPSG:4326        (-0.000269494585236, 0.000269494585236)   \n",
       "15  EPSG:4326  (-0.000271277688070265, 0.000271139577954979)   \n",
       "\n",
       "                                 tile_size     spatial_dimensions  \n",
       "id                                                                 \n",
       "13        (0.943231048326, 0.943231048326)  (latitude, longitude)  \n",
       "17                (0.99981903, 0.99981903)  (latitude, longitude)  \n",
       "18                     (0.813456, 0.83307)  (latitude, longitude)  \n",
       "16        (0.943231048326, 0.943231048326)  (latitude, longitude)  \n",
       "19  (0.999929558226998, 0.999962763497961)  (latitude, longitude)  \n",
       "31        (0.943231048326, 0.943231048326)  (latitude, longitude)  \n",
       "9         (0.943231048326, 0.943231048326)  (latitude, longitude)  \n",
       "10  (0.999502780827996, 0.999602369607559)  (latitude, longitude)  \n",
       "11                     (0.813456, 0.83307)  (latitude, longitude)  \n",
       "8         (0.943231048326, 0.943231048326)  (latitude, longitude)  \n",
       "15  (0.999929558226998, 0.999962763497961)  (latitude, longitude)  "
      ]
     },
     "execution_count": 2,
     "metadata": {},
     "output_type": "execute_result"
    }
   ],
   "source": [
    "list_of_products = dc.list_products()\n",
    "netCDF_products = list_of_products[list_of_products['format'] == 'NetCDF']\n",
    "netCDF_products"
   ]
  },
  {
   "cell_type": "markdown",
   "metadata": {},
   "source": [
    ">### Pick a product  \n",
    ">Use the platform names from the previous block to select a small Data Cube. The data_access_api utility will give you lat, lon, and time bounds of your Data Cube.   "
   ]
  },
  {
   "cell_type": "code",
   "execution_count": 3,
   "metadata": {},
   "outputs": [
    {
     "name": "stdout",
     "output_type": "stream",
     "text": [
      "Lat bounds: (3.772924193304, 11.318772579912)\n",
      "Lon bounds: (-3.772924193304, 1.886462096652)\n",
      "Time bounds: ['2000-01-01', '2017-12-28']\n"
     ]
    },
    {
     "name": "stderr",
     "output_type": "stream",
     "text": [
      "/home/localuser/Datacube/data_cube_notebooks/utils/data_cube_utilities/data_access_api.py:184: FutureWarning: casting an xarray.Dataset to a boolean will change in xarray v0.11 to only include data variables, not coordinates. Cast the Dataset.variables property instead to preserve existing behavior in a forwards compatible manner.\n",
      "  if not dataset:\n"
     ]
    }
   ],
   "source": [
    "import utils.data_cube_utilities.data_access_api as dc_api  \n",
    "api = dc_api.DataAccessApi(config = '/home/localuser/.datacube.conf')\n",
    "\n",
    "platform = \"LANDSAT_7\"\n",
    "# product = \"ls7_ledaps_vietnam\"\n",
    "product = \"ls7_ledaps_ghana\"\n",
    "\n",
    "# Get product extents\n",
    "prod_extents = api.get_query_metadata(platform=platform, product=product, measurements=[])#.get_full_dataset_extent(platform = platform, product = product)\n",
    "\n",
    "latitude_extents = prod_extents['lat_extents']\n",
    "print(\"Lat bounds:\", latitude_extents)\n",
    "longitude_extents = prod_extents['lon_extents']\n",
    "print(\"Lon bounds:\", longitude_extents)\n",
    "time_extents = list(map(lambda time: time.strftime('%Y-%m-%d'), prod_extents['time_extents']))\n",
    "print(\"Time bounds:\", time_extents)"
   ]
  },
  {
   "cell_type": "markdown",
   "metadata": {},
   "source": [
    "# Visualize Data Cube Region"
   ]
  },
  {
   "cell_type": "code",
   "execution_count": 4,
   "metadata": {},
   "outputs": [
    {
     "data": {
      "text/html": [
       "<div style=\"width:100%;\"><div style=\"position:relative;width:100%;height:0;padding-bottom:60%;\"><iframe src=\"data:text/html;charset=utf-8;base64,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\" style=\"position:absolute;width:100%;height:100%;left:0;top:0;border:none !important;\" allowfullscreen webkitallowfullscreen mozallowfullscreen></iframe></div></div>"
      ],
      "text/plain": [
       "<folium.folium.Map at 0x7f339015c390>"
      ]
     },
     "execution_count": 4,
     "metadata": {},
     "output_type": "execute_result"
    }
   ],
   "source": [
    "## The code below renders a map that can be used to orient yourself with the region.\n",
    "from utils.data_cube_utilities.dc_display_map import display_map\n",
    "display_map(latitude = latitude_extents, longitude = longitude_extents)"
   ]
  },
  {
   "cell_type": "markdown",
   "metadata": {},
   "source": [
    "> #### Picking a smaller analysis region"
   ]
  },
  {
   "cell_type": "code",
   "execution_count": 5,
   "metadata": {},
   "outputs": [
    {
     "name": "stdout",
     "output_type": "stream",
     "text": [
      "('2015-01-01', '2016-01-01')\n"
     ]
    }
   ],
   "source": [
    "# ######### Colombia - Cartegena ##################\n",
    "# longitude_extents = (-74.863, -74.823)\n",
    "# latitude_extents = (1.326, 1.357)\n",
    "\n",
    "######### Vietnam - Buan Tua Srah Lake ################## \n",
    "# longitude_extents = (108.02, 108.15)\n",
    "# latitude_extents  = (12.18 , 12.30)\n",
    "\n",
    "######### Vietnam - Central Lam Dong Province ################## \n",
    "# longitude_extents = (107.8118, 108.0314)\n",
    "# latitude_extents  = (11.7408, 11.8990)\n",
    "\n",
    "######## Kenya - Lake Nakuru ##################\n",
    "# longitude_extents = (36.02, 36.13)\n",
    "# latitude_extents = (-0.42, -0.28) \n",
    "\n",
    "# Ghana\n",
    "longitude_extents = (0.1, 0.2)\n",
    "latitude_extents = (7.0, 7.1)\n",
    "\n",
    "time_extents = ('2015-01-01', '2016-01-01')\n",
    "print ( time_extents )"
   ]
  },
  {
   "cell_type": "code",
   "execution_count": 6,
   "metadata": {},
   "outputs": [
    {
     "data": {
      "text/html": [
       "<div style=\"width:100%;\"><div style=\"position:relative;width:100%;height:0;padding-bottom:60%;\"><iframe src=\"data:text/html;charset=utf-8;base64,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\" style=\"position:absolute;width:100%;height:100%;left:0;top:0;border:none !important;\" allowfullscreen webkitallowfullscreen mozallowfullscreen></iframe></div></div>"
      ],
      "text/plain": [
       "<folium.folium.Map at 0x7f33450fbdd8>"
      ]
     },
     "execution_count": 6,
     "metadata": {},
     "output_type": "execute_result"
    }
   ],
   "source": [
    "display_map(latitude = latitude_extents, longitude = longitude_extents)"
   ]
  },
  {
   "cell_type": "code",
   "execution_count": 7,
   "metadata": {},
   "outputs": [],
   "source": [
    "landsat_dataset = dc.load(latitude = latitude_extents,\n",
    "                          longitude = longitude_extents,\n",
    "                          platform = platform,\n",
    "                          time = time_extents,\n",
    "                          product = product,\n",
    "                         measurements = ['red', 'green', 'blue', 'nir', 'swir1', 'swir2', 'pixel_qa']) "
   ]
  },
  {
   "cell_type": "code",
   "execution_count": 8,
   "metadata": {},
   "outputs": [
    {
     "data": {
      "text/plain": [
       "<xarray.Dataset>\n",
       "Dimensions:    (latitude: 372, longitude: 372, time: 13)\n",
       "Coordinates:\n",
       "  * time       (time) datetime64[ns] 2015-01-12T10:13:52 ... 2015-12-30T10:16:40\n",
       "  * latitude   (latitude) float64 7.1 7.1 7.099 7.099 ... 7.001 7.001 7.0 7.0\n",
       "  * longitude  (longitude) float64 0.1001 0.1004 0.1007 ... 0.1996 0.1998 0.2001\n",
       "Data variables:\n",
       "    red        (time, latitude, longitude) int16 1122 1152 1122 ... 608 579 551\n",
       "    green      (time, latitude, longitude) int16 1093 1092 1157 ... 658 657 657\n",
       "    blue       (time, latitude, longitude) int16 1109 1171 1109 ... 686 686 717\n",
       "    nir        (time, latitude, longitude) int16 1063 1105 1105 ... 448 448 448\n",
       "    swir1      (time, latitude, longitude) int16 785 823 823 823 ... 259 222 259\n",
       "    swir2      (time, latitude, longitude) int16 592 630 552 592 ... 169 208 169\n",
       "    pixel_qa   (time, latitude, longitude) int32 224 224 224 224 ... 68 68 68 68\n",
       "Attributes:\n",
       "    crs:      EPSG:4326"
      ]
     },
     "execution_count": 8,
     "metadata": {},
     "output_type": "execute_result"
    }
   ],
   "source": [
    "landsat_dataset"
   ]
  },
  {
   "cell_type": "markdown",
   "metadata": {},
   "source": [
    "# Derive Several Products"
   ]
  },
  {
   "cell_type": "markdown",
   "metadata": {},
   "source": [
    ">### Unpack pixel_qa"
   ]
  },
  {
   "cell_type": "code",
   "execution_count": 9,
   "metadata": {},
   "outputs": [],
   "source": [
    "import xarray as xr  \n",
    "import numpy as np\n",
    "\n",
    "def ls7_unpack_qa( data_array , cover_type):  \n",
    "    \n",
    "    land_cover_endcoding = dict( fill     =  [1], \n",
    "                                 clear    =  [66,  130], \n",
    "                                 water    =  [68,  132],\n",
    "                                 shadow   =  [72,  136],\n",
    "                                 snow     =  [80,  112, 144, 176],\n",
    "                                 cloud    =  [96,  112, 160, 176, 224],\n",
    "                                 low_conf =  [66,  68,  72,  80,  96,  112],\n",
    "                                 med_conf =  [130, 132, 136, 144, 160, 176],\n",
    "                                 high_conf=  [224]\n",
    "                               ) \n",
    "    boolean_mask = np.isin(data_array.values, land_cover_endcoding[cover_type]) \n",
    "    return xr.DataArray(boolean_mask.astype(int),\n",
    "                        coords = data_array.coords,\n",
    "                        dims = data_array.dims,\n",
    "                        name = cover_type + \"_mask\",\n",
    "                        attrs = data_array.attrs)  "
   ]
  },
  {
   "cell_type": "code",
   "execution_count": 10,
   "metadata": {},
   "outputs": [],
   "source": [
    "clear_xarray  = ls7_unpack_qa(landsat_dataset.pixel_qa, \"clear\")  \n",
    "water_xarray  = ls7_unpack_qa(landsat_dataset.pixel_qa, \"water\")\n",
    "\n",
    "shadow_xarray = ls7_unpack_qa(landsat_dataset.pixel_qa, \"shadow\")  "
   ]
  },
  {
   "cell_type": "code",
   "execution_count": 11,
   "metadata": {},
   "outputs": [],
   "source": [
    "clean_xarray = xr.ufuncs.logical_or(clear_xarray , water_xarray).astype(np.int8).rename(\"clean_mask\")\n",
    "\n",
    "clean_mask = np.logical_or(clear_xarray.values.astype(bool),\n",
    "                           water_xarray.values.astype(bool)) "
   ]
  },
  {
   "cell_type": "markdown",
   "metadata": {},
   "source": [
    "> ### Water"
   ]
  },
  {
   "cell_type": "code",
   "execution_count": 12,
   "metadata": {},
   "outputs": [],
   "source": [
    "from utils.data_cube_utilities.dc_water_classifier import wofs_classify\n",
    "\n",
    "water_classification = wofs_classify(landsat_dataset,\n",
    "                                     clean_mask = clean_mask, \n",
    "                                     mosaic = False) "
   ]
  },
  {
   "cell_type": "code",
   "execution_count": 13,
   "metadata": {},
   "outputs": [],
   "source": [
    "wofs_xarray = water_classification.wofs"
   ]
  },
  {
   "cell_type": "markdown",
   "metadata": {},
   "source": [
    "> ###  Normalized Indices  "
   ]
  },
  {
   "cell_type": "code",
   "execution_count": 14,
   "metadata": {},
   "outputs": [],
   "source": [
    "def NDVI(dataset):\n",
    "    return ((dataset.nir - dataset.red)/(dataset.nir + dataset.red)).rename(\"NDVI\")"
   ]
  },
  {
   "cell_type": "code",
   "execution_count": 15,
   "metadata": {},
   "outputs": [],
   "source": [
    "def NDWI(dataset):\n",
    "    return ((dataset.green - dataset.nir)/(dataset.green + dataset.nir)).rename(\"NDWI\")"
   ]
  },
  {
   "cell_type": "code",
   "execution_count": 16,
   "metadata": {},
   "outputs": [],
   "source": [
    "def NDBI(dataset):\n",
    "    return ((dataset.swir2 - dataset.nir)/(dataset.swir2 + dataset.nir)).rename(\"NDBI\")"
   ]
  },
  {
   "cell_type": "code",
   "execution_count": 17,
   "metadata": {},
   "outputs": [],
   "source": [
    "ndbi_xarray = NDBI(landsat_dataset)  # Urbanization - Reds\n",
    "ndvi_xarray = NDVI(landsat_dataset)  # Dense Vegetation - Greens\n",
    "ndwi_xarray = NDWI(landsat_dataset)  # High Concentrations of Water - Blues  "
   ]
  },
  {
   "cell_type": "markdown",
   "metadata": {},
   "source": [
    ">### TSM  "
   ]
  },
  {
   "cell_type": "code",
   "execution_count": 18,
   "metadata": {},
   "outputs": [],
   "source": [
    "from utils.data_cube_utilities.dc_water_quality import tsm\n",
    "\n",
    "tsm_xarray = tsm(landsat_dataset, clean_mask = wofs_xarray.values.astype(bool) ).tsm"
   ]
  },
  {
   "cell_type": "markdown",
   "metadata": {},
   "source": [
    "> ### EVI  "
   ]
  },
  {
   "cell_type": "code",
   "execution_count": 19,
   "metadata": {},
   "outputs": [],
   "source": [
    "def EVI(dataset, c1 = None, c2 = None, L = None):\n",
    "        return ((dataset.nir - dataset.red)/((dataset.nir  + (c1 * dataset.red) - (c2 *dataset.blue) + L))).rename(\"EVI\")"
   ]
  },
  {
   "cell_type": "code",
   "execution_count": 20,
   "metadata": {},
   "outputs": [],
   "source": [
    "evi_xarray = EVI(landsat_dataset, c1 = 6, c2 = 7.5, L = 1 )"
   ]
  },
  {
   "cell_type": "markdown",
   "metadata": {},
   "source": [
    "# Combine Everything  "
   ]
  },
  {
   "cell_type": "code",
   "execution_count": 21,
   "metadata": {},
   "outputs": [
    {
     "data": {
      "text/plain": [
       "<xarray.Dataset>\n",
       "Dimensions:      (latitude: 372, longitude: 372, time: 13)\n",
       "Coordinates:\n",
       "  * time         (time) datetime64[ns] 2015-01-12T10:13:52 ... 2015-12-30T10:16:40\n",
       "  * latitude     (latitude) float64 7.1 7.1 7.099 7.099 ... 7.001 7.001 7.0 7.0\n",
       "  * longitude    (longitude) float64 0.1001 0.1004 0.1007 ... 0.1998 0.2001\n",
       "Data variables:\n",
       "    red          (time, latitude, longitude) float32 1122.0 1152.0 ... 551.0\n",
       "    green        (time, latitude, longitude) float32 1093.0 1092.0 ... 657.0\n",
       "    blue         (time, latitude, longitude) float32 1109.0 1171.0 ... 717.0\n",
       "    nir          (time, latitude, longitude) float32 1063.0 1105.0 ... 448.0\n",
       "    swir1        (time, latitude, longitude) float32 785.0 823.0 ... 222.0 259.0\n",
       "    swir2        (time, latitude, longitude) float32 592.0 630.0 ... 208.0 169.0\n",
       "    pixel_qa     (time, latitude, longitude) int32 224 224 224 224 ... 68 68 68\n",
       "    clean_mask   (time, latitude, longitude) int8 0 0 0 0 0 0 0 ... 1 1 1 1 1 1\n",
       "    clear_mask   (time, latitude, longitude) int64 0 0 0 0 0 0 0 ... 0 0 0 0 0 0\n",
       "    water_mask   (time, latitude, longitude) int64 0 0 0 0 0 0 0 ... 1 1 1 1 1 1\n",
       "    shadow_mask  (time, latitude, longitude) int64 0 0 0 0 0 0 0 ... 0 0 0 0 0 0\n",
       "    EVI          (time, latitude, longitude) float32 0.11313519 ... 0.06348228\n",
       "    NDBI         (time, latitude, longitude) float32 -0.28459215 ... -0.45218801\n",
       "    NDVI         (time, latitude, longitude) float32 -0.027002288 ... -0.1031031\n",
       "    NDWI         (time, latitude, longitude) float32 0.013914657 ... 0.18914028\n",
       "    wofs         (time, latitude, longitude) float64 -9.999e+03 ... 1.0\n",
       "    tsm          (time, latitude, longitude) float64 111.6 114.0 ... 43.26 41.68\n",
       "Attributes:\n",
       "    crs:      EPSG:4326"
      ]
     },
     "execution_count": 21,
     "metadata": {},
     "output_type": "execute_result"
    }
   ],
   "source": [
    "combined_dataset = xr.merge([landsat_dataset,\n",
    "          clean_xarray,\n",
    "          clear_xarray,\n",
    "          water_xarray,\n",
    "          shadow_xarray,\n",
    "          evi_xarray,\n",
    "          ndbi_xarray,\n",
    "          ndvi_xarray,\n",
    "          ndwi_xarray,\n",
    "          wofs_xarray,\n",
    "          tsm_xarray])\n",
    "\n",
    "# Copy original crs to merged dataset \n",
    "combined_dataset = combined_dataset.assign_attrs(landsat_dataset.attrs)\n",
    "\n",
    "combined_dataset"
   ]
  },
  {
   "cell_type": "markdown",
   "metadata": {},
   "source": [
    "# Export NetCDF"
   ]
  },
  {
   "cell_type": "code",
   "execution_count": 22,
   "metadata": {},
   "outputs": [],
   "source": [
    "# Ensure the output directory exists before writing to it.\n",
    "!mkdir -p output/netcdfs/landsat7\n",
    "output_file_name  =  \"output/netcdfs/landsat7/ls7_netcdf_example.nc\"\n",
    "# Remove the file if it exists to avoid an error.\n",
    "import os\n",
    "if os.path.isfile(output_file_name):\n",
    "    os.remove(output_file_name)\n",
    "dataset_to_output =  combined_dataset\n",
    "combined_dataset = combined_dataset.assign_attrs(landsat_dataset.attrs)\n",
    "datacube.storage.storage.write_dataset_to_netcdf(dataset_to_output, output_file_name)"
   ]
  },
  {
   "cell_type": "markdown",
   "metadata": {},
   "source": [
    "----  \n",
    "\n",
    "Sanity check using `gdalinfo` to make sure that all of our bands exist  "
   ]
  },
  {
   "cell_type": "code",
   "execution_count": 23,
   "metadata": {},
   "outputs": [
    {
     "name": "stdout",
     "output_type": "stream",
     "text": [
      "Driver: netCDF/Network Common Data Format\r\n",
      "Files: output/netcdfs/landsat7/ls7_netcdf_example.nc\r\n",
      "Size is 512, 512\r\n",
      "Coordinate System is `'\r\n",
      "Metadata:\r\n",
      "  NC_GLOBAL#Conventions=CF-1.6, ACDD-1.3\r\n",
      "  NC_GLOBAL#date_created=2018-11-02T20:03:04.163835\r\n",
      "  NC_GLOBAL#geospatial_bounds=POLYGON ((0.099982491122556 7.10010434262766,0.099982491122556 6.99985235691986,0.200234476830348 6.99985235691986,0.200234476830348 7.10010434262766,0.099982491122556 7.10010434262766))\r\n",
      "  NC_GLOBAL#geospatial_bounds_crs=EPSG:4326\r\n",
      "  NC_GLOBAL#geospatial_lat_max=7.100104342627657\r\n",
      "  NC_GLOBAL#geospatial_lat_min=6.999852356919865\r\n",
      "  NC_GLOBAL#geospatial_lat_units=degrees_north\r\n",
      "  NC_GLOBAL#geospatial_lon_max=0.200234476830348\r\n",
      "  NC_GLOBAL#geospatial_lon_min=0.09998249112255601\r\n",
      "  NC_GLOBAL#geospatial_lon_units=degrees_east\r\n",
      "  NC_GLOBAL#history=NetCDF-CF file created by datacube version '1.6.1+139.g9509423c' at 20181102.\r\n",
      "Subdatasets:\r\n",
      "  SUBDATASET_1_NAME=NETCDF:\"output/netcdfs/landsat7/ls7_netcdf_example.nc\":red\r\n",
      "  SUBDATASET_1_DESC=[13x372x372] red (32-bit floating-point)\r\n",
      "  SUBDATASET_2_NAME=NETCDF:\"output/netcdfs/landsat7/ls7_netcdf_example.nc\":green\r\n",
      "  SUBDATASET_2_DESC=[13x372x372] green (32-bit floating-point)\r\n",
      "  SUBDATASET_3_NAME=NETCDF:\"output/netcdfs/landsat7/ls7_netcdf_example.nc\":blue\r\n",
      "  SUBDATASET_3_DESC=[13x372x372] blue (32-bit floating-point)\r\n",
      "  SUBDATASET_4_NAME=NETCDF:\"output/netcdfs/landsat7/ls7_netcdf_example.nc\":nir\r\n",
      "  SUBDATASET_4_DESC=[13x372x372] nir (32-bit floating-point)\r\n",
      "  SUBDATASET_5_NAME=NETCDF:\"output/netcdfs/landsat7/ls7_netcdf_example.nc\":swir1\r\n",
      "  SUBDATASET_5_DESC=[13x372x372] swir1 (32-bit floating-point)\r\n",
      "  SUBDATASET_6_NAME=NETCDF:\"output/netcdfs/landsat7/ls7_netcdf_example.nc\":swir2\r\n",
      "  SUBDATASET_6_DESC=[13x372x372] swir2 (32-bit floating-point)\r\n",
      "  SUBDATASET_7_NAME=NETCDF:\"output/netcdfs/landsat7/ls7_netcdf_example.nc\":pixel_qa\r\n",
      "  SUBDATASET_7_DESC=[13x372x372] pixel_qa (32-bit integer)\r\n",
      "  SUBDATASET_8_NAME=NETCDF:\"output/netcdfs/landsat7/ls7_netcdf_example.nc\":clean_mask\r\n",
      "  SUBDATASET_8_DESC=[13x372x372] clean_mask (8-bit integer)\r\n",
      "  SUBDATASET_9_NAME=NETCDF:\"output/netcdfs/landsat7/ls7_netcdf_example.nc\":clear_mask\r\n",
      "  SUBDATASET_9_DESC=[13x372x372] clear_mask (64-bit integer)\r\n",
      "  SUBDATASET_10_NAME=NETCDF:\"output/netcdfs/landsat7/ls7_netcdf_example.nc\":water_mask\r\n",
      "  SUBDATASET_10_DESC=[13x372x372] water_mask (64-bit integer)\r\n",
      "  SUBDATASET_11_NAME=NETCDF:\"output/netcdfs/landsat7/ls7_netcdf_example.nc\":shadow_mask\r\n",
      "  SUBDATASET_11_DESC=[13x372x372] shadow_mask (64-bit integer)\r\n",
      "  SUBDATASET_12_NAME=NETCDF:\"output/netcdfs/landsat7/ls7_netcdf_example.nc\":EVI\r\n",
      "  SUBDATASET_12_DESC=[13x372x372] EVI (32-bit floating-point)\r\n",
      "  SUBDATASET_13_NAME=NETCDF:\"output/netcdfs/landsat7/ls7_netcdf_example.nc\":NDBI\r\n",
      "  SUBDATASET_13_DESC=[13x372x372] NDBI (32-bit floating-point)\r\n",
      "  SUBDATASET_14_NAME=NETCDF:\"output/netcdfs/landsat7/ls7_netcdf_example.nc\":NDVI\r\n",
      "  SUBDATASET_14_DESC=[13x372x372] NDVI (32-bit floating-point)\r\n",
      "  SUBDATASET_15_NAME=NETCDF:\"output/netcdfs/landsat7/ls7_netcdf_example.nc\":NDWI\r\n",
      "  SUBDATASET_15_DESC=[13x372x372] NDWI (32-bit floating-point)\r\n",
      "  SUBDATASET_16_NAME=NETCDF:\"output/netcdfs/landsat7/ls7_netcdf_example.nc\":wofs\r\n",
      "  SUBDATASET_16_DESC=[13x372x372] wofs (64-bit floating-point)\r\n",
      "  SUBDATASET_17_NAME=NETCDF:\"output/netcdfs/landsat7/ls7_netcdf_example.nc\":tsm\r\n",
      "  SUBDATASET_17_DESC=[13x372x372] tsm (64-bit floating-point)\r\n",
      "Corner Coordinates:\r\n",
      "Upper Left  (    0.0,    0.0)\r\n",
      "Lower Left  (    0.0,  512.0)\r\n",
      "Upper Right (  512.0,    0.0)\r\n",
      "Lower Right (  512.0,  512.0)\r\n",
      "Center      (  256.0,  256.0)\r\n"
     ]
    }
   ],
   "source": [
    "!gdalinfo output/netcdfs/landsat7/ls7_netcdf_example.nc"
   ]
  }
 ],
 "metadata": {
  "kernelspec": {
   "display_name": "Python 3",
   "language": "python",
   "name": "python3"
  },
  "language_info": {
   "codemirror_mode": {
    "name": "ipython",
    "version": 3
   },
   "file_extension": ".py",
   "mimetype": "text/x-python",
   "name": "python",
   "nbconvert_exporter": "python",
   "pygments_lexer": "ipython3",
   "version": "3.6.6"
  }
 },
 "nbformat": 4,
 "nbformat_minor": 2
}
