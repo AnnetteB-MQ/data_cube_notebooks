{
 "cells": [
  {
   "cell_type": "markdown",
   "metadata": {},
   "source": [
    "# Coastal Change\n",
    "\n",
    "*****\n",
    "### This Notebook:  \n",
    "\n",
    "- Highlights a simple method for detecting coastal change between two timeframes\n",
    "- Visualizes water classification for two timeframes\n",
    "- Visualizes water classification changes between timeframes\n",
    "------  \n",
    "### Motivation:  \n",
    "\n",
    "International agencies like World Bank, UNEP, and USAID are currently reporting and addressing the problem of coastal erosion near Lomé, Togo.  The links listed below are references from these agencies regarding coastal erosion in Togo and coastal erosion as a world wide phenomena.  \n",
    "\n",
    "- *\"West Africa Coastal Erosion Project launched in Togo\" (2016) *  [- link](http://www.ndf.fi/news/west-africa-coastal-erosion-project-launched-togo)\n",
    "- *Agreement to Erosion Adaptation Project* (2016)  [- link](http://pubdocs.worldbank.org/en/493191479316551864/WACA-Lom%C3%A9-Communiqu%C3%A9-2016-English.pdf)\n",
    "- World Bank WACA program brochure (2015)  [- link](http://pubdocs.worldbank.org/en/622041448394069174/1606426-WACA-Brochure.pdf)\n",
    "- UNEP - Technologies for climate change adaption (2010)  [- link](http://www.unep.org/pdf/TNAhandbook_CoastalErosionFlooding.pdf)  \n",
    "- USAID - Adapting to Coastal Climate Change (2009) -  [- link](http://www.crc.uri.edu/download/CoastalAdaptationGuide.pdf)  \n",
    "- UNEP - Coastal Erosion and Climate Change in Western Africa(2002) -  [- link](http://www.unep.org/dewa/africa/publications/aeo-1/121.htm)\n",
    "  \n",
    "-------\n",
    "### Algorithmic Profile:  \n",
    "  \n",
    "- This algorithm generates a water change product.\n",
    "- The product is derived from Landsat7 Collection 1, Tier 2 sr imagery taken from USGS data holdings.    \n",
    "- Utilizes WOFS for water detection.\n",
    "-------  \n",
    "### Process:  \n",
    "\n",
    "- Load in a year's worth of data for years `y1` and `y2`, \n",
    "- Reduce noise by temporal compositing of both `y1` and `y2` to yield `y1_composite` and `y2_composite` .(This removes clouds, scanline errors, and statistical anomalies)      \n",
    "- Run WOFS water classifier on `y1_composite` and `y2_composite`, to yield `y1_water` and `y2_water`. These outputs contain a 1 for water, and 0 for not water.     \n",
    "- Subtract `y1_water` from `y2_water` to yield a `coastal_change` product. Where 0 represents no change, 1 represents water gain, and -1 represents water loss. \n",
    "*****  \n",
    "\n",
    "> **Flow Diagram**\n",
    "![](diagrams/rainy_demo/algo_nb3.png)"
   ]
  },
  {
   "cell_type": "code",
   "execution_count": 1,
   "metadata": {},
   "outputs": [],
   "source": [
    "%matplotlib inline\n",
    "\n",
    "from datetime import datetime\n",
    "import numpy as np\n",
    "\n",
    "import datacube\n",
    "import utils.data_cube_utilities.dc_utilities as utils\n",
    "\n",
    "from utils.data_cube_utilities.dc_mosaic import create_mosaic, ls8_unpack_qa\n",
    "from utils.data_cube_utilities.dc_water_classifier import wofs_classify\n",
    "\n",
    "# import warnings; warnings.simplefilter('ignore')"
   ]
  },
  {
   "cell_type": "code",
   "execution_count": 2,
   "metadata": {},
   "outputs": [
    {
     "name": "stdout",
     "output_type": "stream",
     "text": [
      "Start time: 2020-05-21 16:26:29.132147\n"
     ]
    }
   ],
   "source": [
    "start_time = datetime.now()\n",
    "print(\"Start time: \" + str(start_time))"
   ]
  },
  {
   "cell_type": "code",
   "execution_count": 3,
   "metadata": {},
   "outputs": [],
   "source": [
    "# Initialize data cube object\n",
    "dc = datacube.Datacube(app='dc-coastal-erosion')\n",
    "\n",
    "# Set query parameters\n",
    "platform        = 'LANDSAT_8'\n",
    "product_type    = 'ls8_usgs_sr_scene'\n",
    "\n",
    "# Select minimum and maximum longitudes and latitudes.\n",
    "\n",
    "# Ghana\n",
    "# Coastline east of Accra\n",
    "lon = (0.0520, 0.3458)\n",
    "lat = (5.6581, 5.8113)"
   ]
  },
  {
   "cell_type": "code",
   "execution_count": 4,
   "metadata": {},
   "outputs": [
    {
     "data": {
      "text/html": [
       "<div style=\"width:100%;\"><div style=\"position:relative;width:100%;height:0;padding-bottom:60%;\"><iframe src=\"data:text/html;charset=utf-8;base64,PCFET0NUWVBFIGh0bWw+CjxoZWFkPiAgICAKICAgIDxtZXRhIGh0dHAtZXF1aXY9ImNvbnRlbnQtdHlwZSIgY29udGVudD0idGV4dC9odG1sOyBjaGFyc2V0PVVURi04IiAvPgogICAgCiAgICAgICAgPHNjcmlwdD4KICAgICAgICAgICAgTF9OT19UT1VDSCA9IGZhbHNlOwogICAgICAgICAgICBMX0RJU0FCTEVfM0QgPSBmYWxzZTsKICAgICAgICA8L3NjcmlwdD4KICAgIAogICAgPHNjcmlwdCBzcmM9Imh0dHBzOi8vY2RuLmpzZGVsaXZyLm5ldC9ucG0vbGVhZmxldEAxLjUuMS9kaXN0L2xlYWZsZXQuanMiPjwvc2NyaXB0PgogICAgPHNjcmlwdCBzcmM9Imh0dHBzOi8vY29kZS5qcXVlcnkuY29tL2pxdWVyeS0xLjEyLjQubWluLmpzIj48L3NjcmlwdD4KICAgIDxzY3JpcHQgc3JjPSJodHRwczovL21heGNkbi5ib290c3RyYXBjZG4uY29tL2Jvb3RzdHJhcC8zLjIuMC9qcy9ib290c3RyYXAubWluLmpzIj48L3NjcmlwdD4KICAgIDxzY3JpcHQgc3JjPSJodHRwczovL2NkbmpzLmNsb3VkZmxhcmUuY29tL2FqYXgvbGlicy9MZWFmbGV0LmF3ZXNvbWUtbWFya2Vycy8yLjAuMi9sZWFmbGV0LmF3ZXNvbWUtbWFya2Vycy5qcyI+PC9zY3JpcHQ+CiAgICA8bGluayByZWw9InN0eWxlc2hlZXQiIGhyZWY9Imh0dHBzOi8vY2RuLmpzZGVsaXZyLm5ldC9ucG0vbGVhZmxldEAxLjUuMS9kaXN0L2xlYWZsZXQuY3NzIi8+CiAgICA8bGluayByZWw9InN0eWxlc2hlZXQiIGhyZWY9Imh0dHBzOi8vbWF4Y2RuLmJvb3RzdHJhcGNkbi5jb20vYm9vdHN0cmFwLzMuMi4wL2Nzcy9ib290c3RyYXAubWluLmNzcyIvPgogICAgPGxpbmsgcmVsPSJzdHlsZXNoZWV0IiBocmVmPSJodHRwczovL21heGNkbi5ib290c3RyYXBjZG4uY29tL2Jvb3RzdHJhcC8zLjIuMC9jc3MvYm9vdHN0cmFwLXRoZW1lLm1pbi5jc3MiLz4KICAgIDxsaW5rIHJlbD0ic3R5bGVzaGVldCIgaHJlZj0iaHR0cHM6Ly9tYXhjZG4uYm9vdHN0cmFwY2RuLmNvbS9mb250LWF3ZXNvbWUvNC42LjMvY3NzL2ZvbnQtYXdlc29tZS5taW4uY3NzIi8+CiAgICA8bGluayByZWw9InN0eWxlc2hlZXQiIGhyZWY9Imh0dHBzOi8vY2RuanMuY2xvdWRmbGFyZS5jb20vYWpheC9saWJzL0xlYWZsZXQuYXdlc29tZS1tYXJrZXJzLzIuMC4yL2xlYWZsZXQuYXdlc29tZS1tYXJrZXJzLmNzcyIvPgogICAgPGxpbmsgcmVsPSJzdHlsZXNoZWV0IiBocmVmPSJodHRwczovL3Jhd2Nkbi5naXRoYWNrLmNvbS9weXRob24tdmlzdWFsaXphdGlvbi9mb2xpdW0vbWFzdGVyL2ZvbGl1bS90ZW1wbGF0ZXMvbGVhZmxldC5hd2Vzb21lLnJvdGF0ZS5jc3MiLz4KICAgIDxzdHlsZT5odG1sLCBib2R5IHt3aWR0aDogMTAwJTtoZWlnaHQ6IDEwMCU7bWFyZ2luOiAwO3BhZGRpbmc6IDA7fTwvc3R5bGU+CiAgICA8c3R5bGU+I21hcCB7cG9zaXRpb246YWJzb2x1dGU7dG9wOjA7Ym90dG9tOjA7cmlnaHQ6MDtsZWZ0OjA7fTwvc3R5bGU+CiAgICAKICAgICAgICAgICAgPG1ldGEgbmFtZT0idmlld3BvcnQiIGNvbnRlbnQ9IndpZHRoPWRldmljZS13aWR0aCwKICAgICAgICAgICAgICAgIGluaXRpYWwtc2NhbGU9MS4wLCBtYXhpbXVtLXNjYWxlPTEuMCwgdXNlci1zY2FsYWJsZT1ubyIgLz4KICAgICAgICAgICAgPHN0eWxlPgogICAgICAgICAgICAgICAgI21hcF8zNzkwMmFhOWYwZDA0YjZlYmViZThjMGJjMjlhMzlmOCB7CiAgICAgICAgICAgICAgICAgICAgcG9zaXRpb246IHJlbGF0aXZlOwogICAgICAgICAgICAgICAgICAgIHdpZHRoOiAxMDAuMCU7CiAgICAgICAgICAgICAgICAgICAgaGVpZ2h0OiAxMDAuMCU7CiAgICAgICAgICAgICAgICAgICAgbGVmdDogMC4wJTsKICAgICAgICAgICAgICAgICAgICB0b3A6IDAuMCU7CiAgICAgICAgICAgICAgICB9CiAgICAgICAgICAgIDwvc3R5bGU+CiAgICAgICAgCjwvaGVhZD4KPGJvZHk+ICAgIAogICAgCiAgICAgICAgICAgIDxkaXYgY2xhc3M9ImZvbGl1bS1tYXAiIGlkPSJtYXBfMzc5MDJhYTlmMGQwNGI2ZWJlYmU4YzBiYzI5YTM5ZjgiID48L2Rpdj4KICAgICAgICAKPC9ib2R5Pgo8c2NyaXB0PiAgICAKICAgIAogICAgICAgICAgICB2YXIgbWFwXzM3OTAyYWE5ZjBkMDRiNmViZWJlOGMwYmMyOWEzOWY4ID0gTC5tYXAoCiAgICAgICAgICAgICAgICAibWFwXzM3OTAyYWE5ZjBkMDRiNmViZWJlOGMwYmMyOWEzOWY4IiwKICAgICAgICAgICAgICAgIHsKICAgICAgICAgICAgICAgICAgICBjZW50ZXI6IFs1LjczNDcsIDAuMTk4OV0sCiAgICAgICAgICAgICAgICAgICAgY3JzOiBMLkNSUy5FUFNHMzg1NywKICAgICAgICAgICAgICAgICAgICB6b29tOiAxMSwKICAgICAgICAgICAgICAgICAgICB6b29tQ29udHJvbDogdHJ1ZSwKICAgICAgICAgICAgICAgICAgICBwcmVmZXJDYW52YXM6IGZhbHNlLAogICAgICAgICAgICAgICAgfQogICAgICAgICAgICApOwoKICAgICAgICAgICAgCgogICAgICAgIAogICAgCiAgICAgICAgICAgIHZhciB0aWxlX2xheWVyX2FmM2QzNzdmMjQxNzQyZmRiYmQyMWY4ZWMzZDVhYzYwID0gTC50aWxlTGF5ZXIoCiAgICAgICAgICAgICAgICAiIGh0dHA6Ly9tdDEuZ29vZ2xlLmNvbS92dC9seXJzPXlcdTAwMjZ6PXt6fVx1MDAyNng9e3h9XHUwMDI2eT17eX0iLAogICAgICAgICAgICAgICAgeyJhdHRyaWJ1dGlvbiI6ICJHb29nbGUiLCAiZGV0ZWN0UmV0aW5hIjogZmFsc2UsICJtYXhOYXRpdmVab29tIjogMTgsICJtYXhab29tIjogMTgsICJtaW5ab29tIjogMCwgIm5vV3JhcCI6IGZhbHNlLCAib3BhY2l0eSI6IDEsICJzdWJkb21haW5zIjogImFiYyIsICJ0bXMiOiBmYWxzZX0KICAgICAgICAgICAgKS5hZGRUbyhtYXBfMzc5MDJhYTlmMGQwNGI2ZWJlYmU4YzBiYzI5YTM5ZjgpOwogICAgICAgIAogICAgCiAgICAgICAgICAgIHZhciBwb2x5X2xpbmVfOGRjNWFkZjkyM2Y5NDNhZjg5ZWUwNDk1N2RkNGFmODEgPSBMLnBvbHlsaW5lKAogICAgICAgICAgICAgICAgW1s1LjY1ODEsIDAuMDUyXSwgWzUuNjU4MSwgMC4zNDU4XSwgWzUuODExMywgMC4zNDU4XSwgWzUuODExMywgMC4wNTJdLCBbNS42NTgxLCAwLjA1Ml1dLAogICAgICAgICAgICAgICAgeyJidWJibGluZ01vdXNlRXZlbnRzIjogdHJ1ZSwgImNvbG9yIjogInJlZCIsICJkYXNoQXJyYXkiOiBudWxsLCAiZGFzaE9mZnNldCI6IG51bGwsICJmaWxsIjogZmFsc2UsICJmaWxsQ29sb3IiOiAicmVkIiwgImZpbGxPcGFjaXR5IjogMC4yLCAiZmlsbFJ1bGUiOiAiZXZlbm9kZCIsICJsaW5lQ2FwIjogInJvdW5kIiwgImxpbmVKb2luIjogInJvdW5kIiwgIm5vQ2xpcCI6IGZhbHNlLCAib3BhY2l0eSI6IDAuOCwgInNtb290aEZhY3RvciI6IDEuMCwgInN0cm9rZSI6IHRydWUsICJ3ZWlnaHQiOiAzfQogICAgICAgICAgICApLmFkZFRvKG1hcF8zNzkwMmFhOWYwZDA0YjZlYmViZThjMGJjMjlhMzlmOCk7CiAgICAgICAgCiAgICAKICAgICAgICAgICAgICAgIHZhciBsYXRfbG5nX3BvcHVwXzc5OTRhYTBhZDRkODQ2YTFiYTFlNDk5ZjlmYjYxZDZmID0gTC5wb3B1cCgpOwogICAgICAgICAgICAgICAgZnVuY3Rpb24gbGF0TG5nUG9wKGUpIHsKICAgICAgICAgICAgICAgICAgICBsYXRfbG5nX3BvcHVwXzc5OTRhYTBhZDRkODQ2YTFiYTFlNDk5ZjlmYjYxZDZmCiAgICAgICAgICAgICAgICAgICAgICAgIC5zZXRMYXRMbmcoZS5sYXRsbmcpCiAgICAgICAgICAgICAgICAgICAgICAgIC5zZXRDb250ZW50KCJMYXRpdHVkZTogIiArIGUubGF0bG5nLmxhdC50b0ZpeGVkKDQpICsKICAgICAgICAgICAgICAgICAgICAgICAgICAgICAgICAgICAgIjxicj5Mb25naXR1ZGU6ICIgKyBlLmxhdGxuZy5sbmcudG9GaXhlZCg0KSkKICAgICAgICAgICAgICAgICAgICAgICAgLm9wZW5PbihtYXBfMzc5MDJhYTlmMGQwNGI2ZWJlYmU4YzBiYzI5YTM5ZjgpOwogICAgICAgICAgICAgICAgICAgIH0KICAgICAgICAgICAgICAgIG1hcF8zNzkwMmFhOWYwZDA0YjZlYmViZThjMGJjMjlhMzlmOC5vbignY2xpY2snLCBsYXRMbmdQb3ApOwogICAgICAgICAgICAKPC9zY3JpcHQ+\" style=\"position:absolute;width:100%;height:100%;left:0;top:0;border:none !important;\" allowfullscreen webkitallowfullscreen mozallowfullscreen></iframe></div></div>"
      ],
      "text/plain": [
       "<folium.folium.Map at 0x7fb2e74d2dd8>"
      ]
     },
     "execution_count": 4,
     "metadata": {},
     "output_type": "execute_result"
    }
   ],
   "source": [
    "from utils.data_cube_utilities.dc_display_map import display_map\n",
    "display_map(lat, lon)"
   ]
  },
  {
   "cell_type": "code",
   "execution_count": 5,
   "metadata": {},
   "outputs": [],
   "source": [
    "first_year = 2013\n",
    "first_time_range = (f'{first_year}-01-01', f'{first_year}-12-31')"
   ]
  },
  {
   "cell_type": "code",
   "execution_count": 6,
   "metadata": {},
   "outputs": [],
   "source": [
    "measurements = ['red', 'green', 'blue', 'nir', 'swir1', 'swir2', 'pixel_qa']\n",
    "# Retrieve data from Data Cube\n",
    "first_dataset = dc.load(platform=platform,\n",
    "                           product=product_type,\n",
    "                           time=first_time_range,\n",
    "                           lon=lon, lat=lat, measurements=measurements)"
   ]
  },
  {
   "cell_type": "code",
   "execution_count": 7,
   "metadata": {},
   "outputs": [],
   "source": [
    "# Time range after `first_time_range`.\n",
    "last_year = 2014\n",
    "second_time_range = (f'{last_year}-01-01', f'{last_year}-12-31')"
   ]
  },
  {
   "cell_type": "code",
   "execution_count": 8,
   "metadata": {},
   "outputs": [],
   "source": [
    "# Retrieve data from Data Cube\n",
    "second_dataset = dc.load(platform=platform,\n",
    "                           product=product_type,\n",
    "                           time=second_time_range,\n",
    "                           lon=lon, lat=lat, measurements=measurements)"
   ]
  },
  {
   "cell_type": "code",
   "execution_count": 9,
   "metadata": {},
   "outputs": [],
   "source": [
    "# Only keep pixels that are clear or have water.\n",
    "clear_xarray  = ls8_unpack_qa(first_dataset.pixel_qa, \"clear\")  \n",
    "water_xarray  = ls8_unpack_qa(first_dataset.pixel_qa, \"water\")\n",
    "first_clean_mask = np.logical_or(clear_xarray.values.astype(bool),\n",
    "                                 water_xarray.values.astype(bool))\n",
    "\n",
    "clear_xarray  = ls8_unpack_qa(second_dataset.pixel_qa, \"clear\")  \n",
    "water_xarray  = ls8_unpack_qa(second_dataset.pixel_qa, \"water\")\n",
    "second_clean_mask = np.logical_or(clear_xarray.values.astype(bool),\n",
    "                                  water_xarray.values.astype(bool))\n",
    "\n",
    "# Remove noise from images by using appropriate data within the dataset to replace \"dirty\" data.\n",
    "first_mosaic = create_mosaic(first_dataset, clean_mask=first_clean_mask)\n",
    "second_mosaic = create_mosaic(second_dataset, clean_mask=second_clean_mask)"
   ]
  },
  {
   "cell_type": "code",
   "execution_count": 10,
   "metadata": {},
   "outputs": [],
   "source": [
    "first_water_class = wofs_classify(first_mosaic, mosaic=True, no_data=np.nan)\n",
    "second_water_class = wofs_classify(second_mosaic, mosaic=True, no_data=np.nan)\n",
    "\n",
    "first_wofs = first_water_class.wofs.values\n",
    "second_wofs = second_water_class.wofs.values"
   ]
  },
  {
   "cell_type": "code",
   "execution_count": 11,
   "metadata": {},
   "outputs": [],
   "source": [
    "coastal_change = second_water_class - first_water_class"
   ]
  },
  {
   "cell_type": "code",
   "execution_count": 12,
   "metadata": {},
   "outputs": [],
   "source": [
    "import matplotlib.pyplot as plt \n",
    "def plot_data_array_with_aspect(da):\n",
    "    fig, ax = plt.subplots(figsize=(15,8))\n",
    "    ax.set_aspect('equal')\n",
    "    da.plot()"
   ]
  },
  {
   "cell_type": "code",
   "execution_count": 13,
   "metadata": {},
   "outputs": [
    {
     "data": {
      "image/png": "[encoded data removed]",
      "text/plain": [
       "<Figure size 1080x576 with 2 Axes>"
      ]
     },
     "metadata": {
      "needs_background": "light"
     },
     "output_type": "display_data"
    }
   ],
   "source": [
    "# -1 -> water to coast\n",
    "#  0 -> no change\n",
    "#  1 -> coast to water (Coastal Erosion)\n",
    "\n",
    "plot_data_array_with_aspect( coastal_change.wofs )"
   ]
  },
  {
   "cell_type": "code",
   "execution_count": 14,
   "metadata": {},
   "outputs": [],
   "source": [
    "first_coastline = np.zeros(first_wofs.shape)\n",
    "\n",
    "for i in range(first_wofs.shape[0]):\n",
    "    for j in range(first_wofs.shape[1]):\n",
    "        pixel = first_wofs[i,j]\n",
    "        if pixel == 0 and np.nansum(first_wofs[i-1:i+2, j-1:j+2]) >= 1 and np.nansum(first_wofs[i-1:i+2, j-1:j+2]) <= 5:\n",
    "            first_wofs[i,j] = 1\n",
    "            \n",
    "second_coastline = np.zeros(second_wofs.shape)\n",
    "\n",
    "for i in range(second_wofs.shape[0]):\n",
    "    for j in range(second_wofs.shape[1]):\n",
    "        pixel = second_wofs[i,j]\n",
    "        if pixel == 0 and np.nansum(second_wofs[i-1:i+2, j-1:j+2]) >= 1 and np.nansum(second_wofs[i-1:i+2, j-1:j+2]) <= 5:\n",
    "            second_wofs[i,j] = 1"
   ]
  },
  {
   "cell_type": "code",
   "execution_count": 15,
   "metadata": {},
   "outputs": [],
   "source": [
    "import matplotlib.pyplot as plt\n",
    "import matplotlib.image as mpimg"
   ]
  },
  {
   "cell_type": "code",
   "execution_count": 16,
   "metadata": {},
   "outputs": [],
   "source": [
    "from pylab import imshow"
   ]
  },
  {
   "cell_type": "code",
   "execution_count": 17,
   "metadata": {},
   "outputs": [
    {
     "data": {
      "image/png": "[encoded data removed]",
      "text/plain": [
       "<Figure size 1080x576 with 4 Axes>"
      ]
     },
     "metadata": {
      "needs_background": "light"
     },
     "output_type": "display_data"
    }
   ],
   "source": [
    "fig = plt.figure(figsize =  (15,8))\n",
    "a=fig.add_subplot(1,2,1) \n",
    "\n",
    "imgplot = plt.imshow(first_wofs, cmap='Blues',\n",
    "                     extent=[first_water_class.longitude.values.min(), \n",
    "                             first_water_class.longitude.values.max(),\n",
    "                             first_water_class.latitude.values.min(),\n",
    "                             first_water_class.latitude.values.max()])\n",
    "a.set_title(f'wofs - {first_year}')\n",
    "plt.colorbar(ticks=[0,1], orientation ='horizontal')\n",
    "a=fig.add_subplot(1,2,2)\n",
    "imgplot = plt.imshow(second_wofs, cmap='Blues',\n",
    "                     extent=[second_water_class.longitude.values.min(), \n",
    "                             second_water_class.longitude.values.max(),\n",
    "                             second_water_class.latitude.values.min(),\n",
    "                             second_water_class.latitude.values.max()])\n",
    "#imgplot.set_clim(0.0,1.0)\n",
    "a.set_title(f'wofs - {last_year}')\n",
    "plt.colorbar(ticks=[0,1], orientation='horizontal')\n",
    "plt.savefig('wofs_compare.png')"
   ]
  },
  {
   "cell_type": "code",
   "execution_count": 18,
   "metadata": {},
   "outputs": [
    {
     "data": {
      "text/plain": [
       "<matplotlib.image.AxesImage at 0x7fb2d932c518>"
      ]
     },
     "execution_count": 18,
     "metadata": {},
     "output_type": "execute_result"
    },
    {
     "data": {
      "image/png": "[encoded data removed]",
      "text/plain": [
       "<Figure size 1080x576 with 1 Axes>"
      ]
     },
     "metadata": {
      "needs_background": "light"
     },
     "output_type": "display_data"
    }
   ],
   "source": [
    "fig = plt.figure(figsize =  (15,8))\n",
    "plt.imshow(first_coastline, cmap='Greens')"
   ]
  },
  {
   "cell_type": "code",
   "execution_count": 19,
   "metadata": {},
   "outputs": [
    {
     "data": {
      "text/plain": [
       "<matplotlib.image.AxesImage at 0x7fb2de30a828>"
      ]
     },
     "execution_count": 19,
     "metadata": {},
     "output_type": "execute_result"
    },
    {
     "data": {
      "image/png": "[encoded data removed]",
      "text/plain": [
       "<Figure size 1080x576 with 1 Axes>"
      ]
     },
     "metadata": {
      "needs_background": "light"
     },
     "output_type": "display_data"
    }
   ],
   "source": [
    "fig = plt.figure(figsize =  (15,8))\n",
    "plt.imshow(second_coastline, cmap='Purples')"
   ]
  },
  {
   "cell_type": "code",
   "execution_count": 20,
   "metadata": {},
   "outputs": [
    {
     "data": {
      "text/plain": [
       "<xarray.Dataset>\n",
       "Dimensions:    (latitude: 552, longitude: 1058)\n",
       "Coordinates:\n",
       "  * latitude   (latitude) float64 5.811 5.811 5.811 5.81 ... 5.659 5.658 5.658\n",
       "  * longitude  (longitude) float64 0.05208 0.05236 0.05264 ... 0.3454 0.3457\n",
       "Data variables:\n",
       "    red        (latitude, longitude) int16 835 1009 962 952 ... 381 419 413 467\n",
       "    green      (latitude, longitude) int16 694 808 778 770 ... 439 471 454 512\n",
       "    blue       (latitude, longitude) int16 384 396 388 394 ... 442 474 464 510\n",
       "    nir        (latitude, longitude) int16 1524 1604 1569 1472 ... 458 451 493\n",
       "    swir1      (latitude, longitude) int16 2096 2133 2035 2002 ... 470 454 499\n",
       "    swir2      (latitude, longitude) int16 1546 1654 1579 1583 ... 388 381 413\n",
       "    pixel_qa   (latitude, longitude) uint16 55537 322 322 322 ... 324 324 324"
      ]
     },
     "execution_count": 20,
     "metadata": {},
     "output_type": "execute_result"
    }
   ],
   "source": [
    "first_mosaic"
   ]
  },
  {
   "cell_type": "code",
   "execution_count": 21,
   "metadata": {},
   "outputs": [],
   "source": [
    "first_mosaic_rgb = np.array([first_mosaic.red.values, first_mosaic.green.values, first_mosaic.blue.values])"
   ]
  },
  {
   "cell_type": "code",
   "execution_count": 22,
   "metadata": {},
   "outputs": [
    {
     "data": {
      "text/plain": [
       "array([[[ 835, 1009,  962, ..., 1483, 2272, 3331],\n",
       "        [1086, 1039,  958, ..., 1538, 2681, 3388],\n",
       "        [1088,  982,  962, ..., 1610, 2859, 3356],\n",
       "        ...,\n",
       "        [ 346,  358,  355, ...,  380,  400,  385],\n",
       "        [ 351,  347,  344, ...,  392,  408,  416],\n",
       "        [ 350,  348,  351, ...,  419,  413,  467]],\n",
       "\n",
       "       [[ 694,  808,  778, ..., 1267, 1919, 2997],\n",
       "        [ 862,  827,  766, ..., 1319, 2339, 3110],\n",
       "        [ 861,  792,  776, ..., 1344, 2475, 3089],\n",
       "        ...,\n",
       "        [ 527,  540,  540, ...,  428,  444,  432],\n",
       "        [ 537,  532,  536, ...,  445,  473,  472],\n",
       "        [ 542,  536,  537, ...,  471,  454,  512]],\n",
       "\n",
       "       [[ 384,  396,  388, ...,  947, 1505, 2326],\n",
       "        [ 446,  417,  393, ...,  992, 1869, 2444],\n",
       "        [ 450,  405,  399, ..., 1006, 1932, 2423],\n",
       "        ...,\n",
       "        [ 394,  406,  407, ...,  436,  453,  446],\n",
       "        [ 398,  398,  399, ...,  442,  477,  470],\n",
       "        [ 402,  396,  399, ...,  474,  464,  510]]], dtype=int16)"
      ]
     },
     "execution_count": 22,
     "metadata": {},
     "output_type": "execute_result"
    }
   ],
   "source": [
    "first_mosaic_rgb"
   ]
  },
  {
   "cell_type": "code",
   "execution_count": null,
   "metadata": {},
   "outputs": [],
   "source": []
  }
 ],
 "metadata": {
  "kernelspec": {
   "display_name": "Python 3",
   "language": "python",
   "name": "python3"
  },
  "language_info": {
   "codemirror_mode": {
    "name": "ipython",
    "version": 3
   },
   "file_extension": ".py",
   "mimetype": "text/x-python",
   "name": "python",
   "nbconvert_exporter": "python",
   "pygments_lexer": "ipython3",
   "version": "3.6.8"
  }
 },
 "nbformat": 4,
 "nbformat_minor": 4
}
